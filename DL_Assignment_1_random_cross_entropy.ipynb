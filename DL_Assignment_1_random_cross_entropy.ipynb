{
  "cells": [
    {
      "cell_type": "code",
      "execution_count": null,
      "metadata": {
        "colab": {
          "base_uri": "https://localhost:8080/"
        },
        "id": "yZE3U_NS7KiB",
        "outputId": "d19d1307-fd08-44d7-9544-db41e9f01e0e"
      },
      "outputs": [
        {
          "name": "stdout",
          "output_type": "stream",
          "text": [
            "Looking in indexes: https://pypi.org/simple, https://us-python.pkg.dev/colab-wheels/public/simple/\n",
            "Collecting wandb\n",
            "  Downloading wandb-0.13.11-py3-none-any.whl (2.0 MB)\n",
            "\u001b[2K     \u001b[90m━━━━━━━━━━━━━━━━━━━━━━━━━━━━━━━━━━━━━━━━\u001b[0m \u001b[32m2.0/2.0 MB\u001b[0m \u001b[31m12.8 MB/s\u001b[0m eta \u001b[36m0:00:00\u001b[0m\n",
            "\u001b[?25hRequirement already satisfied: setuptools in /usr/local/lib/python3.9/dist-packages (from wandb) (57.4.0)\n",
            "Collecting GitPython!=3.1.29,>=1.0.0\n",
            "  Downloading GitPython-3.1.31-py3-none-any.whl (184 kB)\n",
            "\u001b[2K     \u001b[90m━━━━━━━━━━━━━━━━━━━━━━━━━━━━━━━━━━━━━━━\u001b[0m \u001b[32m184.3/184.3 KB\u001b[0m \u001b[31m4.6 MB/s\u001b[0m eta \u001b[36m0:00:00\u001b[0m\n",
            "\u001b[?25hRequirement already satisfied: psutil>=5.0.0 in /usr/local/lib/python3.9/dist-packages (from wandb) (5.4.8)\n",
            "Requirement already satisfied: protobuf!=4.21.0,<5,>=3.15.0 in /usr/local/lib/python3.9/dist-packages (from wandb) (3.19.6)\n",
            "Collecting sentry-sdk>=1.0.0\n",
            "  Downloading sentry_sdk-1.16.0-py2.py3-none-any.whl (184 kB)\n",
            "\u001b[2K     \u001b[90m━━━━━━━━━━━━━━━━━━━━━━━━━━━━━━━━━━━━━━\u001b[0m \u001b[32m184.3/184.3 KB\u001b[0m \u001b[31m13.8 MB/s\u001b[0m eta \u001b[36m0:00:00\u001b[0m\n",
            "\u001b[?25hRequirement already satisfied: requests<3,>=2.0.0 in /usr/local/lib/python3.9/dist-packages (from wandb) (2.25.1)\n",
            "Requirement already satisfied: PyYAML in /usr/local/lib/python3.9/dist-packages (from wandb) (6.0)\n",
            "Collecting appdirs>=1.4.3\n",
            "  Downloading appdirs-1.4.4-py2.py3-none-any.whl (9.6 kB)\n",
            "Requirement already satisfied: typing-extensions in /usr/local/lib/python3.9/dist-packages (from wandb) (4.5.0)\n",
            "Collecting docker-pycreds>=0.4.0\n",
            "  Downloading docker_pycreds-0.4.0-py2.py3-none-any.whl (9.0 kB)\n",
            "Requirement already satisfied: Click!=8.0.0,>=7.0 in /usr/local/lib/python3.9/dist-packages (from wandb) (8.1.3)\n",
            "Collecting setproctitle\n",
            "  Downloading setproctitle-1.3.2-cp39-cp39-manylinux_2_5_x86_64.manylinux1_x86_64.manylinux_2_17_x86_64.manylinux2014_x86_64.whl (30 kB)\n",
            "Collecting pathtools\n",
            "  Downloading pathtools-0.1.2.tar.gz (11 kB)\n",
            "  Preparing metadata (setup.py) ... \u001b[?25l\u001b[?25hdone\n",
            "Requirement already satisfied: six>=1.4.0 in /usr/local/lib/python3.9/dist-packages (from docker-pycreds>=0.4.0->wandb) (1.15.0)\n",
            "Collecting gitdb<5,>=4.0.1\n",
            "  Downloading gitdb-4.0.10-py3-none-any.whl (62 kB)\n",
            "\u001b[2K     \u001b[90m━━━━━━━━━━━━━━━━━━━━━━━━━━━━━━━━━━━━━━━━\u001b[0m \u001b[32m62.7/62.7 KB\u001b[0m \u001b[31m4.2 MB/s\u001b[0m eta \u001b[36m0:00:00\u001b[0m\n",
            "\u001b[?25hRequirement already satisfied: certifi>=2017.4.17 in /usr/local/lib/python3.9/dist-packages (from requests<3,>=2.0.0->wandb) (2022.12.7)\n",
            "Requirement already satisfied: idna<3,>=2.5 in /usr/local/lib/python3.9/dist-packages (from requests<3,>=2.0.0->wandb) (2.10)\n",
            "Requirement already satisfied: chardet<5,>=3.0.2 in /usr/local/lib/python3.9/dist-packages (from requests<3,>=2.0.0->wandb) (4.0.0)\n",
            "Requirement already satisfied: urllib3<1.27,>=1.21.1 in /usr/local/lib/python3.9/dist-packages (from requests<3,>=2.0.0->wandb) (1.26.14)\n",
            "Collecting smmap<6,>=3.0.1\n",
            "  Downloading smmap-5.0.0-py3-none-any.whl (24 kB)\n",
            "Building wheels for collected packages: pathtools\n",
            "  Building wheel for pathtools (setup.py) ... \u001b[?25l\u001b[?25hdone\n",
            "  Created wheel for pathtools: filename=pathtools-0.1.2-py3-none-any.whl size=8806 sha256=a4475cf265d2c84d268f7fabb51a0e7873c912882d230da459d555fc17325026\n",
            "  Stored in directory: /root/.cache/pip/wheels/b7/0a/67/ada2a22079218c75a88361c0782855cc72aebc4d18d0289d05\n",
            "Successfully built pathtools\n",
            "Installing collected packages: pathtools, appdirs, smmap, setproctitle, sentry-sdk, docker-pycreds, gitdb, GitPython, wandb\n",
            "Successfully installed GitPython-3.1.31 appdirs-1.4.4 docker-pycreds-0.4.0 gitdb-4.0.10 pathtools-0.1.2 sentry-sdk-1.16.0 setproctitle-1.3.2 smmap-5.0.0 wandb-0.13.11\n"
          ]
        }
      ],
      "source": [
        "!pip install wandb"
      ]
    },
    {
      "cell_type": "code",
      "execution_count": null,
      "metadata": {
        "id": "FEN8OmfA6oZb"
      },
      "outputs": [],
      "source": [
        "from tensorflow import keras\n",
        "from keras.datasets import fashion_mnist\n",
        "from keras.datasets import mnist\n",
        "import numpy as np\n",
        "from matplotlib import pyplot as plt\n",
        "import random\n",
        "import wandb\n",
        "import argparse\n",
        "from datetime import datetime\n",
        "import copy\n",
        "\n",
        "class FeedForward:\n",
        "\n",
        "    def __init__(self):\n",
        "\n",
        "        # defining the default parameters\n",
        "        self.parameters = {\n",
        "            \"wandb_project\": \"DL Final Assignment 1\",\n",
        "            \"wandb_entity\": \"cs22m019\",\n",
        "            \"dataset\": \"fashion_mnist\",\n",
        "            \"epochs\": 5,\n",
        "            \"batch_size\": 32,\n",
        "            \"loss\": \"cross_entropy\",\n",
        "            \"optimizer\": \"gd\",\n",
        "            \"learning_rate\": 0.1,\n",
        "            \"momentum\": 0.01,\n",
        "            \"beta\": 0.5,\n",
        "            \"beta1\": 0.5,\n",
        "            \"beta2\": 0.5,\n",
        "            \"epsilon\": 0.000001,\n",
        "            \"weight_decay\": 0.0,\n",
        "            \"weight_init\": \"random\",\n",
        "            \"num_layers\": 3,\n",
        "            \"hidden_size\": 128,\n",
        "            \"activation\": \"sigmoid\",\n",
        "            \"output_function\": \"softmax\"\n",
        "        }\n",
        "\n",
        "        # updating the parameters to the parameters given in command line\n",
        "        # self.update_parameters()\n",
        "\n",
        "       \n",
        "        # loading training and test data from fashion_mnist dataset or mnist dataset\n",
        "        if (self.parameters[\"dataset\"] == \"fashion_mnist\"):\n",
        "            (self.x_train, self.y_train), (self.x_test,self.y_test) = fashion_mnist.load_data()\n",
        "        else:\n",
        "            (self.x_train, self.y_train), (self.x_test,self.y_test) = mnist.load_data()\n",
        "\n",
        "        # normalizing data points\n",
        "        self.x_train = self.x_train / 255\n",
        "        self.x_test = self.x_test / 255\n",
        "\n",
        "        # computing number of samples in training and test data\n",
        "        self.train_n_samples = self.x_train.shape[0]\n",
        "        self.test_n_samples = self.x_test.shape[0]\n",
        "\n",
        "        # spiltting the data -> 90% train,10% test \n",
        "        idx = np.random.permutation(self.train_n_samples)\n",
        "        self.x_train = self.x_train[idx]\n",
        "        self.y_train = self.y_train[idx]\n",
        "\n",
        "        self.x_validate = self.x_train[: self.train_n_samples // 10]\n",
        "        self.y_validate = self.y_train[: self.train_n_samples // 10]\n",
        "\n",
        "        self.x_train = self.x_train[self.train_n_samples // 10:]\n",
        "        self.y_train = self.y_train[self.train_n_samples // 10:]\n",
        "\n",
        "        self.train_n_samples = self.x_train.shape[0]\n",
        "\n",
        "        # list of label titles -> actual output\n",
        "        self.title = [\"T-shirt/top\", \"Trouser\", \"PullOver\", \"Dress\",\n",
        "                      \"Coat\", \"Sandal\", \"Shirt\", \"Sneaker\", \"Bag\", \"Ankle Boot\"]\n",
        "        self.no_of_label = len(self.title)\n",
        "\n",
        "        # setting the class variables\n",
        "        self.epoch = self.parameters[\"epochs\"]\n",
        "        self.batch_size = self.parameters[\"batch_size\"]\n",
        "        self.lossFunction = self.parameters[\"loss\"]\n",
        "        self.optimizer = self.parameters[\"optimizer\"]\n",
        "        self.learningRate = self.parameters[\"learning_rate\"]\n",
        "        self.weightInitialization = self.parameters[\"weight_init\"]\n",
        "        self.L = self.parameters[\"num_layers\"] + 1\n",
        "        self.hl = self.parameters[\"num_layers\"]\n",
        "        self.nnl = self.parameters[\"hidden_size\"]\n",
        "        self.activationFunction = self.parameters[\"activation\"]\n",
        "        self.outputFunction = self.parameters[\"output_function\"]\n",
        "        self.weight_decay = self.parameters[\"weight_decay\"]\n",
        "        \n",
        "        \n",
        "        \n",
        "        self.k = len(self.title)\n",
        "        self.d = self.x_train.shape[1] * self.x_train.shape[2]\n",
        "        self.n = self.train_n_samples\n",
        "        self.weights = {}\n",
        "        self.bias = {}\n",
        "        self.wHistory = {}\n",
        "        self.bHistory = {}\n",
        "        self.wMomentum = {}\n",
        "        self.bMomentum = {}\n",
        "        self.prev_wHistory = {}\n",
        "        self.prev_bHistory = {}\n",
        "        self.pre_activation = {}\n",
        "        self.post_activation = {}\n",
        "        \n",
        "    # updates the default parameters with the paramters given in command line\n",
        "    def update_parameters(self):\n",
        "\n",
        "        parser = argparse.ArgumentParser(description='DL Assignment 1 Parser')\n",
        "\n",
        "        parser.add_argument('-wp', '--wandb_project',\n",
        "                            type=str, metavar='', help='wandb project')\n",
        "        parser.add_argument('-we', '--wandb_entity', type=str,\n",
        "                            metavar='', help='wandb entity')\n",
        "        parser.add_argument('-d', '--dataset', type=str,\n",
        "                            metavar='', help='dataset')\n",
        "        parser.add_argument('-e', '--epochs', type=int,\n",
        "                            metavar='', help='epochs')\n",
        "        parser.add_argument('-b', '--batch_size', type=int,\n",
        "                            metavar='', help='batch size')\n",
        "        parser.add_argument('-l', '--loss', type=str, \n",
        "                            metavar='', help='loss')\n",
        "        parser.add_argument('-o', '--optimizer', type=str,\n",
        "                            metavar='', help='optimizer')\n",
        "        parser.add_argument('-lr', '--learning_rate',\n",
        "                            type=float, metavar='', help='learning rate')\n",
        "        parser.add_argument('-m', '--momentum', type=float,\n",
        "                            metavar='', help='momentum')\n",
        "        parser.add_argument('-beta', '--beta', type=float,\n",
        "                            metavar='', help='beta')\n",
        "        parser.add_argument('-beta1', '--beta1', type=float,\n",
        "                            metavar='', help='beta1')\n",
        "        parser.add_argument('-beta2', '--beta2', type=float,\n",
        "                            metavar='', help='beta2')\n",
        "        parser.add_argument('-eps', '--epsilon', type=float,\n",
        "                            metavar='', help='epsilon')\n",
        "        parser.add_argument('-w_d', '--weight_decay',\n",
        "                            type=float, metavar='', help='weight decay')\n",
        "        parser.add_argument('-w_i', '--weight_init', type=str,\n",
        "                            metavar='', help='weight init')\n",
        "        parser.add_argument('-nhl', '--num_layers', type=int,\n",
        "                            metavar='', help='num layers')\n",
        "        parser.add_argument('-sz', '--hidden_size', type=int,\n",
        "                            metavar='', help='hidden size')\n",
        "        parser.add_argument('-a', '--activation', type=str,\n",
        "                            metavar='', help='activation')\n",
        "        parser.add_argument('-of', '--output_function',\n",
        "                            type=str, metavar='', help='output function')\n",
        "        args = parser.parse_args()\n",
        "\n",
        "        if (args.wandb_project != None):\n",
        "            self.parameters[\"wandb_project\"] = args.wandb_project\n",
        "        if (args.wandb_entity != None):\n",
        "            self.parameters[\"wandb_entity\"] = args.wandb_entity\n",
        "        if (args.dataset != None):\n",
        "            self.parameters[\"dataset\"] = args.dataset\n",
        "        if (args.epochs != None):\n",
        "            self.parameters[\"epochs\"] = args.epochs\n",
        "        if (args.batch_size != None):\n",
        "            self.parameters[\"batch_size\"] = args.batch_size\n",
        "        if (args.loss != None):\n",
        "            self.parameters[\"loss\"] = args.loss\n",
        "        if (args.optimizer != None):\n",
        "            self.parameters[\"optimizer\"] = args.optimizer\n",
        "        if (args.learning_rate != None):\n",
        "            self.parameters[\"learning_rate\"] = args.learning_rate\n",
        "        if (args.momentum != None):\n",
        "            self.parameters[\"momentum\"] = args.momentum\n",
        "        if (args.beta != None):\n",
        "            self.parameters[\"beta\"] = args.beta\n",
        "        if (args.beta1 != None):\n",
        "            self.parameters[\"beta1\"] = args.beta1\n",
        "        if (args.beta2 != None):\n",
        "            self.parameters[\"beta2\"] = args.beta2\n",
        "        if (args.epsilon != None):\n",
        "            self.parameters[\"epsilon\"] = args.epsilon\n",
        "        if (args.weight_decay != None):\n",
        "            self.parameters[\"weight_decay\"] = args.weight_decay\n",
        "        if (args.weight_init != None):\n",
        "            self.parameters[\"weight_init\"] = args.weight_init\n",
        "        if (args.num_layers != None):\n",
        "            self.parameters[\"num_layers\"] = args.num_layers\n",
        "        if (args.hidden_size != None):\n",
        "            self.parameters[\"hidden_size\"] = args.hidden_size\n",
        "        if (args.activation != None):\n",
        "            self.parameters[\"activation\"] = args.activation\n",
        "\n",
        "    # function to initialize weights and bias based on type -> random or Xavier initialization\n",
        "    def weightsAndBiasInitializer(self):\n",
        "        if self.weightInitialization == \"Xavier\":\n",
        "\n",
        "            # first and last matrix \n",
        "            self.weights[\"w1\"] = np.random.uniform(-np.sqrt(6 / (self.nnl + self.d)), np.sqrt(6 / (self.nnl + self.d)), (self.nnl, self.d))\n",
        "            self.weights[\"w\" + str(self.L)] = np.random.uniform(-np.sqrt(6 / (self.k + self.nnl)),np.sqrt(6 / (self.k + self.nnl)), (self.k, self.nnl))\n",
        "\n",
        "            # Intermediate Matrices\n",
        "            for i in range(2, self.L):\n",
        "                self.weights[\"w\" + str(i)] = np.random.uniform(-np.sqrt(6 / (self.nnl + self.nnl)), np.sqrt(6 / (self.nnl + self.nnl)), (self.nnl, self.nnl))\n",
        "\n",
        "            # Last Vector\n",
        "            self.bias[\"b\" + str(self.L)] = np.random.uniform(-np.sqrt(6 / (self.k + 1)),np.sqrt(6 / (self.k + 1)), (self.k))\n",
        "\n",
        "            for i in range(1, self.L):\n",
        "                self.bias[\"b\" + str(i)] = np.random.uniform(-np.sqrt(6 / (self.nnl + 1)),np.sqrt(6 / (self.nnl + 1)), (self.nnl))\n",
        "\n",
        "        if self.weightInitialization == \"random\":\n",
        "            # initailzation of weights\n",
        "            '''\n",
        "                  W1 = (d,nnl)\n",
        "                  W2,..,W(L - 1) = (nnl,nnl)\n",
        "                  WL = (k,nnl)\n",
        "            '''\n",
        "            w1 = np.random.normal(0, 0.5, size=(self.nnl, self.d))\n",
        "            self.weights[\"w1\"] = w1\n",
        "            for i in range(2, self.L):\n",
        "                self.weights[\"w\" + str(i)] = np.random.normal(0,0.5, size=(self.nnl, self.nnl))\n",
        "            self.weights[\"w\" + str(self.L)] = np.random.normal(0,0.5, size=(self.k, self.nnl))\n",
        "\n",
        "            # initialization of bias\n",
        "            for i in range(1, self.L):\n",
        "                self.bias[\"b\" + str(i)] = np.random.normal(0,0.5, size=(self.nnl))\n",
        "            self.bias[\"b\" + str(self.L)] = np.random.normal(0,0.5, size=(self.k))\n",
        "\n",
        "    # function to initialize momentum for weights and bias\n",
        "    def momentumInitializer(self):\n",
        "\n",
        "        # initializing momentum for weights\n",
        "        w1 = np.zeros((self.nnl, self.d))\n",
        "        self.wMomentum[\"w1\"] = w1\n",
        "        for i in range(2, self.L):\n",
        "            self.wMomentum[\"w\" + str(i)] = np.zeros((self.nnl, self.nnl))\n",
        "        self.wMomentum[\"w\" + str(self.L)] = np.zeros((self.k, self.nnl))\n",
        "\n",
        "        # initializing momentum for bais\n",
        "        for i in range(1, self.L):\n",
        "            self.bMomentum[\"b\" + str(i)] = np.zeros((self.nnl))\n",
        "        self.bMomentum[\"b\" + str(self.L)] = np.zeros((self.k))\n",
        "\n",
        "    # function to initialize history for weights and bias\n",
        "    def historyInitializer(self):\n",
        "\n",
        "        # initializing history for weights\n",
        "        w1 = np.zeros((self.nnl, self.d))\n",
        "        self.wHistory[\"w1\"] = w1\n",
        "        for i in range(2, self.L):\n",
        "            self.wHistory[\"w\" + str(i)] = np.zeros((self.nnl, self.nnl))\n",
        "        self.wHistory[\"w\" + str(self.L)] = np.zeros((self.k, self.nnl))\n",
        "\n",
        "        # initializing history for bais\n",
        "        for i in range(1, self.L):\n",
        "            self.bHistory[\"b\" + str(i)] = np.zeros((self.nnl))\n",
        "        self.bHistory[\"b\" + str(self.L)] = np.zeros((self.k))\n",
        "\n",
        "    # function used to implement different activation functions\n",
        "    def activation_func(self, vector):\n",
        "        if self.activationFunction == \"sigmoid\":\n",
        "            return 1.0 / (1 + np.exp(-(vector)))\n",
        "        \n",
        "        if self.activationFunction == \"tanh\":\n",
        "            return np.tanh(vector)\n",
        "        \n",
        "        if self.activationFunction == \"ReLU\":\n",
        "            return np.maximum(0,vector)\n",
        "\n",
        "    # function used to implement different output functions\n",
        "    def output_func(self, vector):\n",
        "        if self.outputFunction == \"softmax\":\n",
        "\n",
        "            vector = vector - vector[np.argmax(vector)]\n",
        "\n",
        "            return np.exp(vector) / np.sum(np.exp(vector))\n",
        "\n",
        "    # function generating one-hot vector\n",
        "    def oneHotVector(self, size, index):\n",
        "        oneHot = np.zeros(size)\n",
        "        oneHot[index] = 1.0\n",
        "        return oneHot\n",
        "\n",
        "    # function returning the differentiation of activation function\n",
        "    def differentiation(self, vector):\n",
        "\n",
        "        if self.activationFunction == \"sigmoid\":\n",
        "            return (1.0 / (1 + np.exp(-(vector)))) * (1 - 1.0 / (1 + np.exp(-(vector))))\n",
        "\n",
        "        if self.activationFunction == \"tanh\":\n",
        "            return 1 - (np.tanh(vector)) ** 2\n",
        "\n",
        "        if self.activationFunction == \"ReLU\":\n",
        "            t = np.maximum(0,vector)\n",
        "            t[t > 0] = 1\n",
        "            return t\n",
        "\n",
        "    # regularization\n",
        "    def regularize(self):\n",
        "        reg_term = 0\n",
        "        validation_size = self.y_validate.shape[0]\n",
        "        \n",
        "        for (key,value) in self.weights.items():\n",
        "          reg_term += (np.sum(self.weights[key] ** 2))\n",
        "        reg_term = (self.weight_decay / (2 * validation_size)) * reg_term\n",
        "\n",
        "        return reg_term\n",
        "\n",
        "    # function returning the loss function value\n",
        "    def loss_function(self, y_predicted, index):\n",
        "\n",
        "        if self.lossFunction == \"cross_entropy\":\n",
        "            t = 1e-8\n",
        "            return (-1)*np.log(y_predicted[index] + t)\n",
        "\n",
        "        if self.lossFunction == \"mean_squared_error\":\n",
        "            y = self.oneHotVector(size=self.no_of_label, index=index)\n",
        "            return np.sum((y_predicted - y) ** 2)\n",
        "\n",
        "    # forward propagation - computes pre_activation vector,post_activation vector for each layer and predicts y at last layer\n",
        "    def forward_propagation(self, input, index):\n",
        "\n",
        "        # Populating pre_activation and post_activation vectors to dictionary in each layer for input[index]\n",
        "        for k in range(1, self.L):\n",
        "\n",
        "            # for first layer,post activation will be input\n",
        "            if (k == 1):\n",
        "                ''' flattening the input: \n",
        "                    -input(60000,28,28)\n",
        "                    -input[index] size = (28,28)\n",
        "                    -flattening input[index] gives size (784,1) = (d,1) where d is dimension of input\n",
        "                    post_activation[h0] size = (d,1)\n",
        "                    bias[b1] size = (nnl,1)\n",
        "                    weights[w1] size = (nnl,d)\n",
        "                    Therefore we get pre_activation[a1] size = (nnl,1) for all layer except last layer\n",
        "                '''\n",
        "                self.post_activation[\"h\" + str(k - 1)] = input[index].flatten()\n",
        "\n",
        "            # computing a(k) = b(k) + w(k)*h(k - 1) for each input[index]\n",
        "            self.pre_activation[\"a\" + str(k)] = self.bias[\"b\" + str(k)] + np.dot(self.weights[\"w\" + str(k)], self.post_activation[\"h\" + str(k - 1)])\n",
        "           \n",
        "            # computing h(k) = g(a(k)) where g is activation function\n",
        "            self.post_activation[\"h\" + str(k)] = self.activation_func(self.pre_activation[\"a\" + str(k)])\n",
        "\n",
        "        # computing pre_activation for last layer\n",
        "        self.pre_activation[\"a\" + str(self.L)] = self.bias[\"b\" + str(self.L)] + np.dot(self.weights[\"w\" + str(self.L)], self.post_activation[\"h\" + str(self.L - 1)])\n",
        "\n",
        "        # prediction y (y_hat) = O(a(L)) where O is output function\n",
        "        # self.pre_activation[\"a\" + str(self.L)] = self.pre_activation[\"a\" + str(self.L)] / np.linalg.norm(self.pre_activation[\"a\" + str(self.L)])\n",
        "        self.post_activation[\"h\" +str(self.L)] = self.output_func(self.pre_activation[\"a\" + str(self.L)])\n",
        "\n",
        "    # performs back propagation and returns gradients of weights and bias\n",
        "    def backward_propagation(self, index, actual_y):\n",
        "\n",
        "        grad_pre_activation = {}\n",
        "        grad_post_activation = {}\n",
        "        grad_weights = {}\n",
        "        grad_bias = {}\n",
        "\n",
        "        predicted_y = self.post_activation[\"h\" + str(self.L)]\n",
        "\n",
        "        # Computing output gradient\n",
        "        one_hot_vector = self.oneHotVector(self.no_of_label, actual_y[index])\n",
        "        if self.lossFunction == \"cross_entropy\" :\n",
        "          grad_pre_activation[\"a\" + str(self.L)] = (predicted_y - one_hot_vector)\n",
        "        else :\n",
        "          grad_pre_activation[\"a\" + str(self.L)] = -2 * (one_hot_vector - predicted_y) * (predicted_y * (np.ones(self.no_of_label) - predicted_y))\n",
        "       \n",
        "        \n",
        "        k = self.L\n",
        "        while k > 0:\n",
        "\n",
        "            # Computing gradient w.r.t parameters - weight and bais\n",
        "            '''\n",
        "              np.reshape(grad_pre_activation[\"a\" + str(L)],(-1,1)) = (k,1)\n",
        "              np.reshape(post_activation[\"h\" + str(L - 1)],(1,-1)) = (1,nnl)\n",
        "            '''\n",
        "            grad_weights[\"w\" + str(k)] = np.dot(np.reshape(grad_pre_activation[\"a\" + str(k)], (-1, 1)), np.reshape(self.post_activation[\"h\" + str(k - 1)], (1, -1)))\n",
        "            grad_bias[\"b\" + str(k)] = grad_pre_activation[\"a\" + str(k)]\n",
        "\n",
        "            if k != 1:\n",
        "                # Computing gradient w.r.t layer below (post_activation)\n",
        "                grad_post_activation[\"h\" + str(k - 1)] = np.dot(self.weights[\"w\" + str(k)].T, np.reshape(grad_pre_activation[\"a\" + str(k)], (-1, 1))).flatten()\n",
        "\n",
        "                # Computing gradient w.r.t layer below (pre_activation)\n",
        "                g_dash = self.differentiation(self.pre_activation[\"a\" + str(k - 1)])\n",
        "                grad_pre_activation[\"a\" +str(k - 1)] = grad_post_activation[\"h\" + str(k - 1)] * g_dash\n",
        "\n",
        "            k = k - 1\n",
        "        return grad_weights, grad_bias\n",
        "\n",
        "    # function to make accumalated gradients zero\n",
        "    def make_accumalate_zero(self):\n",
        "\n",
        "        acc_grad_weights = {}\n",
        "        acc_grad_bias = {}\n",
        "\n",
        "        # accumalated weights are set to zero\n",
        "        acc_grad_weights[\"w1\"] = np.zeros((self.nnl, self.d))\n",
        "        for i in range(2, self.L):\n",
        "            acc_grad_weights[\"w\" + str(i)] = np.zeros((self.nnl, self.nnl))\n",
        "        acc_grad_weights[\"w\" + str(self.L)] = np.zeros((self.k, self.nnl))\n",
        "\n",
        "        # accumalated bias are set to zero\n",
        "        for i in range(1, self.L):\n",
        "            acc_grad_bias[\"b\" + str(i)] = np.zeros((self.nnl))\n",
        "        acc_grad_bias[\"b\" + str(self.L)] = np.zeros((self.k))\n",
        "\n",
        "        return acc_grad_weights, acc_grad_bias\n",
        "\n",
        "    # runs stochastic gradient descent for one epoch\n",
        "    def oneEpochSGD(self, epoch):\n",
        "        ''' Executes A Single Epoch for Stochastic Gradient Descent Algorithm.\n",
        "            Returns the training loss,training accuracy,validaiton loss and validation accuracy,averaged over all points. '''\n",
        "        \n",
        "        n = self.train_n_samples\n",
        "        \n",
        "        # randomizing batches\n",
        "        idx = np.random.permutation(self.train_n_samples)\n",
        "        self.x_train = self.x_train[idx]\n",
        "        self.y_train = self.y_train[idx]\n",
        "\n",
        "        input = self.x_train\n",
        "        actual_y = self.y_train\n",
        "\n",
        "        # total Loss for epoch\n",
        "        loss_input = 0\n",
        "        count = 0\n",
        "\n",
        "        # execute one epoch for all datapoints in train set\n",
        "        for index in range(n):\n",
        "\n",
        "            # perform forward propagation\n",
        "            self.forward_propagation(input, index)\n",
        "            predicted_y = self.post_activation[\"h\" + str(self.L)]\n",
        "\n",
        "            # compute loss\n",
        "            loss_input += self.loss_function(predicted_y, actual_y[index])\n",
        "\n",
        "            # perform backward propagation\n",
        "            grad_weights, grad_bias = self.backward_propagation(index, actual_y)\n",
        "\n",
        "            # compute the number of datapoints which are correctly classified\n",
        "            indexWithMaxProb = np.argmax(predicted_y)\n",
        "            if (actual_y[index] == (indexWithMaxProb)):\n",
        "                count = count + 1\n",
        "\n",
        "            # update weights and bias if the number of datapoints in batch_size are divisble by batch_size\n",
        "            if ((index + 1) % self.batch_size == 0):\n",
        "                # update weights\n",
        "                for (key, value) in self.weights.items():\n",
        "                    self.weights[key] = self.weights[key] - ((self.learningRate / self.batch_size) * grad_weights[key])\n",
        "\n",
        "                # update bias\n",
        "                for (key, value) in self.bias.items():\n",
        "                    self.bias[key] = self.bias[key] - ((self.learningRate / self.batch_size) * grad_bias[key])\n",
        "\n",
        "        # if the number of datapoints in batch is not divisible by batch_size update weights and bias \n",
        "        if n % self.batch_size != 0:\n",
        "            # update weights\n",
        "            for (key, value) in self.weights.items():\n",
        "                self.weights[key] = self.weights[key] - ((self.learningRate / self.batch_size) * grad_weights[key])\n",
        "\n",
        "            # update bias\n",
        "            for (key, value) in self.bias.items():\n",
        "                self.bias[key] = self.bias[key] - ((self.learningRate / self.batch_size) * grad_bias[key])\n",
        "\n",
        "        # compute trainAccuracy,trainLoss averaged over train size\n",
        "        trainAccuracy = count / n\n",
        "        trainLoss = loss_input / n + self.regularize()\n",
        "\n",
        "        # compute validationAccuracy,validationLoss avergaed over test size \n",
        "        validationLoss, validationAccuracy = self.computeTestLossAndAccuracy()\n",
        "        \n",
        "        return trainLoss, trainAccuracy, validationLoss, validationAccuracy\n",
        "\n",
        "    # runs momentum gradient descent for one epoch\n",
        "    def oneEpochMOMENTUM(self, epoch):\n",
        "        ''' Executes A Single Epoch for Momentum Gradient Descent Algorithm.\n",
        "            Returns the training loss,training accuracy,validaiton loss and validation accuracy,averaged over all points. '''\n",
        "\n",
        "        n = self.train_n_samples\n",
        "        \n",
        "        # randomizing batches\n",
        "        idx = np.random.permutation(self.train_n_samples)\n",
        "        self.x_train = self.x_train[idx]\n",
        "        self.y_train = self.y_train[idx]\n",
        "\n",
        "        input = self.x_train\n",
        "        actual_y = self.y_train\n",
        "\n",
        "        # maintaining previous history for weights and bias\n",
        "        self.prev_wHistory, self.prev_bHistory = self.wHistory, self.bHistory\n",
        "\n",
        "        # Total Loss for epoch\n",
        "        loss_input = 0\n",
        "        count = 0  \n",
        "        beta = self.parameters[\"momentum\"]\n",
        "\n",
        "        # set accumalated gradients to zero\n",
        "        acc_grad_weights, acc_grad_bias = self.make_accumalate_zero()\n",
        "\n",
        "        # execute one epoch for all datapoints in train set\n",
        "        for index in range(n):\n",
        "\n",
        "            # perform forward propagation\n",
        "            self.forward_propagation(input, index)\n",
        "            predicted_y = self.post_activation[\"h\" + str(self.L)]\n",
        "\n",
        "            # compute loss\n",
        "            loss_input += self.loss_function(predicted_y, actual_y[index])\n",
        "\n",
        "            # perform backward propagation\n",
        "            grad_weights, grad_bias = self.backward_propagation(\n",
        "                index, actual_y)\n",
        "\n",
        "            # compute the number of datapoints which are correctly classified\n",
        "            indexWithMaxProb = np.argmax(predicted_y)\n",
        "            if (actual_y[index] == (indexWithMaxProb)):\n",
        "                count = count + 1\n",
        "\n",
        "            # accumulate grad_weights and grad_bais for each input\n",
        "            for (key, value) in grad_weights.items():\n",
        "                acc_grad_weights[key] = acc_grad_weights[key] + grad_weights[key]\n",
        "\n",
        "            for (key, value) in grad_bias.items():\n",
        "                acc_grad_bias[key] = acc_grad_bias[key] + grad_bias[key]\n",
        "\n",
        "\n",
        "            # update weights and bias if the number of datapoints in batch_size are divisble by batch_size\n",
        "            if ((index + 1) % self.batch_size == 0):\n",
        "\n",
        "                # update weight history\n",
        "                for (key, value) in self.wHistory.items():\n",
        "                    self.wHistory[key] = beta * self.prev_wHistory[key] + \\\n",
        "                        ((self.learningRate / self.batch_size) * acc_grad_weights[key])\n",
        "\n",
        "                # update bias history\n",
        "                for (key, value) in self.bHistory.items():\n",
        "                    self.bHistory[key] = beta * self.prev_bHistory[key] + \\\n",
        "                        ((self.learningRate / self.batch_size) * acc_grad_bias[key])\n",
        "\n",
        "                # update weights\n",
        "                for (key, value) in self.weights.items():\n",
        "                    self.weights[key] = self.weights[key] - self.wHistory[key]\n",
        "\n",
        "                # update bias\n",
        "                for (key, value) in self.bias.items():\n",
        "                    self.bias[key] = self.bias[key] - self.bHistory[key]\n",
        "\n",
        "                # updating histroy for weights and bias\n",
        "                self.prev_wHistory = self.wHistory\n",
        "                self.prev_bHistory = self.bHistory\n",
        "\n",
        "                # set accumalated gradients to zero\n",
        "                acc_grad_weights, acc_grad_bias = self.make_accumalate_zero()\n",
        "\n",
        "            # if the number of datapoints in batch is not divisible by batch_size update weights and bias \n",
        "        if n % self.batch_size != 0:\n",
        "            \n",
        "            # update weight history\n",
        "            for (key, value) in self.wHistory.items():\n",
        "                self.wHistory[key] = beta * self.prev_wHistory[key] + \\\n",
        "                    ((self.learningRate / self.batch_size) * acc_grad_weights[key])\n",
        "\n",
        "            # update bias history\n",
        "            for (key, value) in self.bHistory.items():\n",
        "                self.bHistory[key] = beta * self.prev_bHistory[key] + \\\n",
        "                    ((self.learningRate / self.batch_size) * acc_grad_bias[key])\n",
        "\n",
        "            # update weights\n",
        "            for (key, value) in self.weights.items():\n",
        "                self.weights[key] = self.weights[key] - self.wHistory[key]\n",
        "\n",
        "            # update bias\n",
        "            for (key, value) in self.bias.items():\n",
        "                self.bias[key] = self.bias[key] - self.bHistory[key]\n",
        "\n",
        "            # updating histroy for weights and bias\n",
        "            self.prev_wHistory = self.wHistory\n",
        "            self.prev_bHistory = self.bHistory\n",
        "\n",
        "            # set accumalated gradients to zero\n",
        "            acc_grad_weights, acc_grad_bias = self.make_accumalate_zero()\n",
        "\n",
        "        # compute trainAccuracy,trainLoss averaged over train size\n",
        "        trainAccuracy = count / n\n",
        "        trainLoss = loss_input / n + self.regularize()\n",
        "\n",
        "        # compute validationAccuracy,validationLoss averaged over test size \n",
        "        validationLoss, validationAccuracy = self.computeTestLossAndAccuracy()\n",
        "        \n",
        "        return trainLoss, trainAccuracy, validationLoss, validationAccuracy\n",
        "\n",
        "    # runs nestrov accelerated gradient descent for one epoch\n",
        "    def oneEpochNAG(self, epoch):\n",
        "        ''' Executes A Single Epoch for Nesterov Accelerated Gradient Descent Algorithm.\n",
        "            Returns the training loss,training accuracy,validaiton loss and validation accuracy,averaged over all points. '''\n",
        "        \n",
        "        n = self.train_n_samples\n",
        "        \n",
        "        # randomizing batches\n",
        "        idx = np.random.permutation(self.train_n_samples)\n",
        "        self.x_train = self.x_train[idx]\n",
        "        self.y_train = self.y_train[idx]\n",
        "\n",
        "        input = self.x_train\n",
        "        actual_y = self.y_train\n",
        "\n",
        "        # maintaining previous history for weights and bias\n",
        "        self.prev_wHistory, self.prev_bHistory = self.wHistory, self.bHistory\n",
        "        \n",
        "        # Total Loss for epoch\n",
        "        loss_input = 0\n",
        "        count = 0\n",
        "        beta = self.parameters[\"momentum\"]\n",
        "\n",
        "        # set accumalated gradients to zero\n",
        "        acc_grad_weights, acc_grad_bias = self.make_accumalate_zero()\n",
        "        \n",
        "        # computing partial values\n",
        "        self.partial_wHistory = {}\n",
        "        self.partial_bHistory = {}\n",
        "\n",
        "        for (key, value) in self.wHistory.items():\n",
        "            self.partial_wHistory[key] = beta * self.prev_wHistory[key]\n",
        "\n",
        "        for (key, value) in self.bHistory.items():\n",
        "            self.partial_bHistory[key] = beta * self.prev_bHistory[key]\n",
        "\n",
        "        # execute one epoch for all datapoints in train set\n",
        "        for index in range(n):\n",
        "\n",
        "            # perfrom forward propagation\n",
        "            self.forward_propagation(input, index)\n",
        "            predicted_y = self.post_activation[\"h\" + str(self.L)]\n",
        "\n",
        "            # storing weights and bias in temperory values\n",
        "            temp_weights = copy.deepcopy(self.weights)\n",
        "            temp_bias = copy.deepcopy(self.bias)\n",
        "\n",
        "            # update weights and bias\n",
        "            for (key, value) in self.weights.items():\n",
        "                self.weights[key] = self.weights[key] -  self.partial_wHistory[key]\n",
        "\n",
        "            for (key, value) in self.bias.items():\n",
        "                self.bias[key] = self.bias[key] - self.partial_bHistory[key]\n",
        "\n",
        "            # perform backward propagation\n",
        "            grad_weights, grad_bias = self.backward_propagation(index,actual_y)\n",
        "\n",
        "            # update weights and bias \n",
        "            self.weights = temp_weights\n",
        "            self.bias = temp_bias\n",
        "\n",
        "            # accumulate grad_weights and grad_bais for each input\n",
        "            for (key, value) in grad_weights.items():\n",
        "                acc_grad_weights[key] = acc_grad_weights[key] + grad_weights[key]\n",
        "\n",
        "            for (key, value) in grad_bias.items():\n",
        "                acc_grad_bias[key] = acc_grad_bias[key] + grad_bias[key]\n",
        "\n",
        "            # compute loss\n",
        "            loss_input += self.loss_function(predicted_y, self.y_train[index])\n",
        "\n",
        "            # compute the number of datapoints which are correctly classified\n",
        "            indexWithMaxProb = np.argmax(predicted_y)\n",
        "            if (actual_y[index] == (indexWithMaxProb)):\n",
        "                count = count + 1\n",
        "\n",
        "            # update weights and bias if the number of datapoints in batch_size are divisble by batch_size\n",
        "            if ((index + 1) % self.batch_size == 0):\n",
        "    \n",
        "                # update weight history\n",
        "                for (key, value) in self.wHistory.items():\n",
        "                    self.wHistory[key] = beta * self.prev_wHistory[key] + ((self.learningRate / self.batch_size) * acc_grad_weights[key])\n",
        "\n",
        "                # update bias history\n",
        "                for (key, value) in self.bHistory.items():\n",
        "                    self.bHistory[key] = beta * self.prev_bHistory[key] + ((self.learningRate / self.batch_size) * acc_grad_bias[key])\n",
        "\n",
        "                # update weights\n",
        "                for (key, value) in self.weights.items():\n",
        "                    self.weights[key] = self.weights[key] - self.wHistory[key]\n",
        "\n",
        "                for (key, value) in self.bias.items():\n",
        "                    self.bias[key] = self.bias[key] - self.bHistory[key]\n",
        "\n",
        "                # updating histroy for weights and bias\n",
        "                self.prev_wHistory = self.wHistory\n",
        "                self.prev_bHistory = self.bHistory\n",
        "                \n",
        "                # set accumalated gradients to zero\n",
        "                acc_grad_weights, acc_grad_bias = self.make_accumalate_zero()\n",
        "            \n",
        "        # if the number of datapoints in batch is not divisible by batch_size update weights and bias \n",
        "        if n % self.batch_size != 0:\n",
        "\n",
        "            # update weight history\n",
        "            for (key, value) in self.wHistory.items():\n",
        "                self.wHistory[key] = beta * self.prev_wHistory[key] + ((self.learningRate / self.batch_size) * acc_grad_weights[key])\n",
        "\n",
        "            # update bias history\n",
        "            for (key, value) in self.bHistory.items():\n",
        "                self.bHistory[key] = beta * self.prev_bHistory[key] + ((self.learningRate / self.batch_size) * acc_grad_bias[key])\n",
        "\n",
        "            # update weights\n",
        "            for (key, value) in self.weights.items():\n",
        "                self.weights[key] = self.weights[key] - self.wHistory[key]\n",
        "\n",
        "            for (key, value) in self.bias.items():\n",
        "                self.bias[key] = self.bias[key] - self.bHistory[key]\n",
        "\n",
        "            # updating histroy for weights and bias\n",
        "            self.prev_wHistory = self.wHistory\n",
        "            self.prev_bHistory = self.bHistory\n",
        "            \n",
        "            # set accumalated gradients to zero\n",
        "            acc_grad_weights, acc_grad_bias = self.make_accumalate_zero()\n",
        "                \n",
        "        # compute trainAccuracy,trainLoss averaged over train size\n",
        "        trainAccuracy = count / n\n",
        "        trainLoss = loss_input / n + self.regularize()\n",
        "\n",
        "        # compute validationAccuracy,validationLoss averaged over test size \n",
        "        validationLoss, validationAccuracy = self.computeTestLossAndAccuracy()\n",
        "        \n",
        "        return trainLoss, trainAccuracy, validationLoss, validationAccuracy\n",
        "\n",
        "    # runs RMSPROP for one epoch\n",
        "    def oneEpochRMSPROP(self,epoch):\n",
        "        ''' Executes A Single Epoch for RMSPROP Gradient Descent Algorithm.\n",
        "            Returns the training loss,training accuracy,validaiton loss and validation accuracy,averaged over all points. \n",
        "        '''\n",
        "        n = self.train_n_samples\n",
        "        \n",
        "        # randomizing batches\n",
        "        idx = np.random.permutation(self.train_n_samples)\n",
        "        self.x_train = self.x_train[idx]\n",
        "        self.y_train = self.y_train[idx]\n",
        "\n",
        "        input = self.x_train\n",
        "        actual_y = self.y_train\n",
        "\n",
        "\n",
        "        # maintaining previous history for weights and bias\n",
        "        prev_wHistory, prev_bHistory = self.wHistory, self.bHistory\n",
        "\n",
        "        # Total Loss for epoch\n",
        "        loss_input = 0\n",
        "        beta = self.parameters[\"beta\"]\n",
        "        eps = self.parameters[\"epsilon\"]\n",
        "        count = 0\n",
        "        \n",
        "        # set accumalated gradients to zero\n",
        "        acc_grad_weights, acc_grad_bias = self.make_accumalate_zero()\n",
        "\n",
        "        # execute one epoch for all datapoints in train set\n",
        "        for index in range(n):\n",
        "\n",
        "            # perfrom forward propagation\n",
        "            self.forward_propagation(input, index)\n",
        "            predicted_y = self.post_activation[\"h\" + str(self.L)]\n",
        "\n",
        "            # perform backward propagation\n",
        "            grad_weights, grad_bias = self.backward_propagation(index,actual_y)\n",
        "\n",
        "            # compute loss\n",
        "            loss_input += self.loss_function(predicted_y, self.y_train[index])\n",
        "\n",
        "            # compute the number of datapoints which are correctly classified\n",
        "            indexWithMaxProb = np.argmax(predicted_y)\n",
        "            if (actual_y[index] == (indexWithMaxProb)):\n",
        "                count = count + 1\n",
        "\n",
        "            # accumulate grad_weights and grad_bais for each input\n",
        "            for (key, value) in grad_weights.items():\n",
        "                acc_grad_weights[key] = acc_grad_weights[key] + grad_weights[key]\n",
        "\n",
        "            for (key, value) in grad_bias.items():\n",
        "                acc_grad_bias[key] = acc_grad_bias[key] + grad_bias[key]\n",
        "        \n",
        "\n",
        "            # update weights and bias if the number of datapoints in batch_size are divisble by batch_size\n",
        "            if ((index + 1) % self.batch_size == 0):\n",
        "    \n",
        "                # update weight history\n",
        "                for (key, value) in self.wHistory.items():\n",
        "                    self.wHistory[key] = beta * prev_wHistory[key] +  (1 - beta) * acc_grad_weights[key] ** 2\n",
        "\n",
        "                # update bias history\n",
        "                for (key, value) in self.bHistory.items():\n",
        "                    self.bHistory[key] = beta * prev_bHistory[key] + (1 - beta) * acc_grad_bias[key] ** 2\n",
        "\n",
        "                # update weights\n",
        "                for (key, value) in self.weights.items():\n",
        "                    self.weights[key] = self.weights[key] -  (self.learningRate / self.batch_size) * acc_grad_weights[key] / (np.sqrt(self.wHistory[key] + eps))\n",
        "\n",
        "                # update bias\n",
        "                for (key, value) in self.bias.items():\n",
        "                    self.bias[key] = self.bias[key] - (self.learningRate / self.batch_size) * acc_grad_bias[key] / (np.sqrt(self.bHistory[key] + eps))\n",
        "                \n",
        "                # updating histroy for weights and bias\n",
        "                self.prev_wHistory = self.wHistory\n",
        "                self.prev_bHistory = self.bHistory\n",
        "\n",
        "                # set accumalated gradients to zero\n",
        "                acc_grad_weights, acc_grad_bias = self.make_accumalate_zero()\n",
        "\n",
        "        # if the number of datapoints in batch is not divisible by batch_size update weights and bias \n",
        "        if n % self.batch_size != 0:\n",
        "            \n",
        "            # update weight history\n",
        "            for (key, value) in self.wHistory.items():\n",
        "                self.wHistory[key] = beta * prev_wHistory[key] +  (1 - beta) * acc_grad_weights[key] ** 2\n",
        "\n",
        "            # update bias history\n",
        "            for (key, value) in self.bHistory.items():\n",
        "                self.bHistory[key] = beta * prev_bHistory[key] + (1 - beta) * acc_grad_bias[key] ** 2\n",
        "\n",
        "            # update weights\n",
        "            for (key, value) in self.weights.items():\n",
        "                self.weights[key] = self.weights[key] -  (self.learningRate / self.batch_size) * acc_grad_weights[key] / (np.sqrt(self.wHistory[key] + eps))\n",
        "\n",
        "            # update bias\n",
        "            for (key, value) in self.bias.items():\n",
        "                self.bias[key] = self.bias[key] - (self.learningRate / self.batch_size) * acc_grad_bias[key] / (np.sqrt(self.bHistory[key] + eps))\n",
        "            \n",
        "            # updating histroy for weights and bias\n",
        "            self.prev_wHistory = self.wHistory\n",
        "            self.prev_bHistory = self.bHistory\n",
        "\n",
        "            # set accumalated gradients to zero\n",
        "            acc_grad_weights, acc_grad_bias = self.make_accumalate_zero()\n",
        "\n",
        "        # compute trainAccuracy,trainLoss averaged over train size\n",
        "        trainAccuracy = count / n\n",
        "        trainLoss = loss_input / n + self.regularize()\n",
        "\n",
        "        # compute validationAccuracy,validationLoss averaged over test size \n",
        "        validationLoss, validationAccuracy = self.computeTestLossAndAccuracy()\n",
        "        \n",
        "        return trainLoss, trainAccuracy, validationLoss, validationAccuracy\n",
        "\n",
        "    # runs ADAM gradient descent for one epoch\n",
        "    def oneEpochADAM(self,epoch):\n",
        "        ''' Executes A Single Epoch for ADAM Gradient Descent Algorithm.\n",
        "            Returns the training loss,training accuracy,validaiton loss and validation accuracy,averaged over all points. '''\n",
        "\n",
        "        n = self.train_n_samples\n",
        "        # randomizing batches\n",
        "        idx = np.random.permutation(self.train_n_samples)\n",
        "        self.x_train = self.x_train[idx]\n",
        "        self.y_train = self.y_train[idx]\n",
        "\n",
        "        input = self.x_train\n",
        "        actual_y = self.y_train\n",
        "\n",
        "        # maintaining previous history and momentum for weights and bias\n",
        "        prev_wMomentum, prev_bMomentum = self.wMomentum, self.bMomentum\n",
        "        prev_wHistory, prev_bHistory = self.wHistory, self.bHistory\n",
        "\n",
        "        wMomentum_hat = {} \n",
        "        bMomentum_hat = {}\n",
        "        wHistory_hat = {} \n",
        "        bHistory_hat = {}\n",
        "\n",
        "        # Total Loss for epoch\n",
        "        loss_input = 0\n",
        "        count = 0\n",
        "        beta1 = self.parameters[\"beta1\"]\n",
        "        beta2 = self.parameters[\"beta2\"]\n",
        "        epsilon = self.parameters[\"epsilon\"]\n",
        "        \n",
        "        # set accumalated gradients to zero\n",
        "        acc_grad_weights, acc_grad_bias = self.make_accumalate_zero()\n",
        "\n",
        "        # execute one epoch for all datapoints in train set\n",
        "        for index in range(n):\n",
        "\n",
        "            # perform forward propagation\n",
        "\n",
        "            self.forward_propagation(input, index)\n",
        "            predicted_y = self.post_activation[\"h\" + str(self.L)]\n",
        "\n",
        "            # perform backward propagation\n",
        "            grad_weights, grad_bias = self.backward_propagation(index,actual_y)\n",
        "\n",
        "            # compute loss\n",
        "            loss_input += self.loss_function(predicted_y, actual_y[index])\n",
        "\n",
        "            # compute the number of datapoints which are correctly classified\n",
        "            indexWithMaxProb = np.argmax(predicted_y)\n",
        "            if (actual_y[index] == (indexWithMaxProb)):\n",
        "                count = count + 1\n",
        "\n",
        "            # accumulate grad_weights and grad_bais for each input\n",
        "            for (key, value) in grad_weights.items():\n",
        "                acc_grad_weights[key] = acc_grad_weights[key] + grad_weights[key]\n",
        "\n",
        "            for (key, value) in grad_bias.items():\n",
        "                acc_grad_bias[key] = acc_grad_bias[key] + grad_bias[key]\n",
        "\n",
        "            # update weights and bias if the number of datapoints in batch_size are divisble by batch_size\n",
        "            if ((index + 1) % self.batch_size == 0):\n",
        "        \n",
        "                # update weight momentum\n",
        "                for (key, value) in self.wMomentum.items():\n",
        "                    self.wMomentum[key] = beta1*prev_wMomentum[key] +  (1 - beta1) * acc_grad_weights[key]\n",
        "\n",
        "                # update bias momentum\n",
        "                for (key, value) in self.bMomentum.items():\n",
        "                    self.bMomentum[key] = beta1*prev_bMomentum[key] + (1 - beta1) * acc_grad_bias[key]\n",
        "\n",
        "                # update weight history\n",
        "                for (key, value) in self.wHistory.items():\n",
        "                    self.wHistory[key] = beta2 * prev_wHistory[key] + (1 - beta2) * acc_grad_weights[key] ** 2\n",
        "\n",
        "                # update bias history\n",
        "                for (key, value) in self.bHistory.items():\n",
        "                    self.bHistory[key] = beta2 * prev_bHistory[key] + (1 - beta2) * acc_grad_bias[key] ** 2\n",
        "\n",
        "                \n",
        "                # compute intermediate values\n",
        "                for (key, value) in self.weights.items():\n",
        "                    wMomentum_hat[key] = self.wMomentum[key] / (1 - np.power(beta1, epoch + 1))\n",
        "\n",
        "                for (key, value) in self.bias.items():\n",
        "                    bMomentum_hat[key] = self.bMomentum[key] / (1 - np.power(beta1, epoch + 1))\n",
        "\n",
        "                for (key, value) in self.weights.items():\n",
        "                    wHistory_hat[key] = self.wHistory[key] / (1 - np.power(beta2, epoch + 1))\n",
        "\n",
        "                for (key, value) in self.bias.items():\n",
        "                    bHistory_hat[key] = self.bHistory[key] / (1 - np.power(beta2, epoch + 1))\n",
        "\n",
        "                # update weights\n",
        "                for (key, value) in self.weights.items():\n",
        "                    temp = (self.learningRate / self.batch_size) * wMomentum_hat[key] / (np.sqrt(wHistory_hat[key] + epsilon))\n",
        "                    self.weights[key] = self.weights[key] - temp\n",
        "                \n",
        "                # update bias\n",
        "                for (key, value) in self.bias.items():\n",
        "                    temp = (self.learningRate / self.batch_size) * bMomentum_hat[key] / (np.sqrt(bHistory_hat[key] + epsilon))\n",
        "                    self.bias[key] = self.bias[key] - temp\n",
        "\n",
        "                # set accumalated gradients to zero\n",
        "                acc_grad_weights, acc_grad_bias = self.make_accumalate_zero()\n",
        "            \n",
        "        # if the number of datapoints in batch is not divisible by batch_size update weights and bias \n",
        "        if n % self.batch_size != 0:\n",
        "            \n",
        "            # update weight momentum\n",
        "            for (key, value) in self.wMomentum.items():\n",
        "                self.wMomentum[key] = beta1*prev_wMomentum[key] +  (1 - beta1) * acc_grad_weights[key]\n",
        "\n",
        "            # update bias momentum\n",
        "            for (key, value) in self.bMomentum.items():\n",
        "                self.bMomentum[key] = beta1*prev_bMomentum[key] + (1 - beta1) * acc_grad_bias[key]\n",
        "\n",
        "            # update weight history\n",
        "            for (key, value) in self.wHistory.items():\n",
        "                self.wHistory[key] = beta2 * prev_wHistory[key] + (1 - beta2) * acc_grad_weights[key] ** 2\n",
        "\n",
        "            # update bias history\n",
        "            for (key, value) in self.bHistory.items():\n",
        "                self.bHistory[key] = beta2 * prev_bHistory[key] + (1 - beta2) * acc_grad_bias[key] ** 2\n",
        "\n",
        "            \n",
        "            # compute intermediate values\n",
        "            for (key, value) in self.weights.items():\n",
        "                wMomentum_hat[key] = self.wMomentum[key] / (1 - np.power(beta1, epoch + 1))\n",
        "\n",
        "            for (key, value) in self.bias.items():\n",
        "                bMomentum_hat[key] = self.bMomentum[key] / (1 - np.power(beta1, epoch + 1))\n",
        "\n",
        "            for (key, value) in self.weights.items():\n",
        "                wHistory_hat[key] = self.wHistory[key] / (1 - np.power(beta2, epoch + 1))\n",
        "\n",
        "            for (key, value) in self.bias.items():\n",
        "                bHistory_hat[key] = self.bHistory[key] / (1 - np.power(beta2, epoch + 1))\n",
        "\n",
        "            # update weights\n",
        "            for (key, value) in self.weights.items():\n",
        "                temp = (self.learningRate / self.batch_size) * wMomentum_hat[key] / (np.sqrt(wHistory_hat[key] + epsilon))\n",
        "                self.weights[key] = self.weights[key] - temp\n",
        "            \n",
        "            # update bias\n",
        "            for (key, value) in self.bias.items():\n",
        "                temp = (self.learningRate / self.batch_size) * bMomentum_hat[key] / (np.sqrt(bHistory_hat[key] + epsilon))\n",
        "                self.bias[key] = self.bias[key] - temp\n",
        "\n",
        "            # set accumalated gradients to zero\n",
        "            acc_grad_weights, acc_grad_bias = self.make_accumalate_zero()\n",
        "        \n",
        "        # compute trainAccuracy,trainLoss averaged over train size\n",
        "        trainAccuracy = count / n\n",
        "        trainLoss = loss_input / n + self.regularize()\n",
        "        \n",
        "        # compute validationAccuracy,validationLoss averaged over test size \n",
        "        validationLoss, validationAccuracy = self.computeTestLossAndAccuracy()\n",
        "        \n",
        "        return trainLoss, trainAccuracy, validationLoss, validationAccuracy\n",
        "\n",
        "    # runs NADAM gradient descent for one epoch\n",
        "    def oneEpochNADAM(self,epoch):\n",
        "        ''' Executes A Single Epoch for NADAM Gradient Descent Algorithm.\n",
        "            Returns the training loss,training accuracy,validaiton loss and validation accuracy,averaged over all points. '''\n",
        "\n",
        "        n = self.train_n_samples\n",
        "        \n",
        "        # randomizing batches\n",
        "        idx = np.random.permutation(self.train_n_samples)\n",
        "        self.x_train = self.x_train[idx]\n",
        "        self.y_train = self.y_train[idx]\n",
        "\n",
        "        input = self.x_train\n",
        "        actual_y = self.y_train\n",
        "\n",
        "        # maintaining previous history and momentum for weights and bias\n",
        "        prev_wMomentum, prev_bMomentum = self.wMomentum, self.bMomentum\n",
        "        prev_wHistory, prev_bHistory = self.wHistory, self.bHistory\n",
        "\n",
        "        wMomentum_hat = {} \n",
        "        bMomentum_hat = {}\n",
        "        wHistory_hat = {} \n",
        "        bHistory_hat = {}\n",
        "\n",
        "        # Total Loss for epoch\n",
        "        loss_input = 0\n",
        "        count = 0\n",
        "        beta1 = self.parameters[\"beta1\"]\n",
        "        beta2 = self.parameters[\"beta2\"]\n",
        "        epsilon = self.parameters[\"epsilon\"]\n",
        "\n",
        "\n",
        "        # set accumalated gradients to zero\n",
        "        acc_grad_weights, acc_grad_bias = self.make_accumalate_zero()\n",
        "\n",
        "        for index in range(n):\n",
        "\n",
        "            # perform forward propagation\n",
        "            self.forward_propagation(input, index)\n",
        "            predicted_y = self.post_activation[\"h\" + str(self.L)]\n",
        "\n",
        "            # perform backward propagation\n",
        "            grad_weights, grad_bias = self.backward_propagation(index,actual_y)\n",
        "\n",
        "            # compute loss\n",
        "            loss_input += self.loss_function(predicted_y, actual_y[index])\n",
        "\n",
        "            # compute the number of datapoints which are correctly classified\n",
        "            indexWithMaxProb = np.argmax(predicted_y)\n",
        "            if (actual_y[index] == (indexWithMaxProb)):\n",
        "                count = count + 1\n",
        "\n",
        "            # accumulate grad_weights and grad_bais for each input\n",
        "            for (key, value) in grad_weights.items():\n",
        "                acc_grad_weights[key] = acc_grad_weights[key] + grad_weights[key]\n",
        "\n",
        "            for (key, value) in grad_bias.items():\n",
        "                acc_grad_bias[key] = acc_grad_bias[key] + grad_bias[key]\n",
        "\n",
        "            # update weights and bias if the number of datapoints in batch_size are divisble by batch_size\n",
        "            if ((index + 1) % self.batch_size == 0):\n",
        "                \n",
        "                # update weight momentum\n",
        "                for (key, value) in self.wMomentum.items():\n",
        "                    self.wMomentum[key] = beta1*prev_wMomentum[key] + (1 - beta1) * acc_grad_weights[key]\n",
        "\n",
        "                # update bias momentum\n",
        "                for (key, value) in self.bMomentum.items():\n",
        "                    self.bMomentum[key] = beta1*prev_bMomentum[key] + (1 - beta1) * acc_grad_bias[key]\n",
        "\n",
        "                # update weight history\n",
        "                for (key, value) in self.wHistory.items():\n",
        "                    self.wHistory[key] = beta2 * prev_wHistory[key] + (1 - beta2) * acc_grad_weights[key] ** 2\n",
        "\n",
        "                # update bias history\n",
        "                for (key, value) in self.bHistory.items():\n",
        "                    self.bHistory[key] = beta2 * prev_bHistory[key] + (1 - beta2) * acc_grad_bias[key] ** 2\n",
        "\n",
        "\n",
        "                # compute intermediate values\n",
        "                for (key, value) in self.weights.items():\n",
        "                    wMomentum_hat[key] = self.wMomentum[key] / (1 - np.power(beta1, epoch + 1))\n",
        "                \n",
        "                for (key, value) in self.bias.items():\n",
        "                    bMomentum_hat[key] = self.bMomentum[key] / (1 - np.power(beta1, epoch + 1))\n",
        "\n",
        "                for (key, value) in self.weights.items():\n",
        "                    wHistory_hat[key] = self.wHistory[key] / (1 - np.power(beta2, epoch + 1))\n",
        "\n",
        "                for (key, value) in self.bias.items():\n",
        "                    bHistory_hat[key] = self.bHistory[key] / (1 - np.power(beta2, epoch + 1))\n",
        "\n",
        "                # update weights\n",
        "                for (key, value) in self.weights.items():\n",
        "                    num1 = ((self.learningRate / self.batch_size) / np.sqrt(wHistory_hat[key] + epsilon))\n",
        "                    num2 = beta1 * wMomentum_hat[key] + ((1 - beta1) * acc_grad_weights[key] / (1 - beta1 ** (epoch + 1)))\n",
        "                    self.weights[key] = self.weights[key] - num1*num2\n",
        "\n",
        "                # update bias\n",
        "                for (key, value) in self.bias.items():\n",
        "                    num1 = ((self.learningRate / self.batch_size) / np.sqrt(bHistory_hat[key] + epsilon))\n",
        "                    num2 = beta1 * bMomentum_hat[key] + ((1 - beta1) * acc_grad_bias[key] / (1 - beta1 ** (epoch + 1)))\n",
        "                    self.bias[key] = self.bias[key] - num1*num2\n",
        "\n",
        "                # set accumalated gradients to zero\n",
        "                acc_grad_weights, acc_grad_bias = self.make_accumalate_zero()\n",
        "            \n",
        "            # if the number of datapoints in batch is not divisible by batch_size update weights and bias \n",
        "        if n % self.batch_size != 0:\n",
        "            \n",
        "            # update weight momentum\n",
        "            for (key, value) in self.wMomentum.items():\n",
        "                self.wMomentum[key] = beta1*prev_wMomentum[key] + (1 - beta1) * acc_grad_weights[key]\n",
        "\n",
        "            # update bias momentum\n",
        "            for (key, value) in self.bMomentum.items():\n",
        "                self.bMomentum[key] = beta1*prev_bMomentum[key] + (1 - beta1) * acc_grad_bias[key]\n",
        "\n",
        "            # update weight history\n",
        "            for (key, value) in self.wHistory.items():\n",
        "                self.wHistory[key] = beta2 * prev_wHistory[key] + (1 - beta2) * acc_grad_weights[key] ** 2\n",
        "\n",
        "            # update bias history\n",
        "            for (key, value) in self.bHistory.items():\n",
        "                self.bHistory[key] = beta2 * prev_bHistory[key] + (1 - beta2) * acc_grad_bias[key] ** 2\n",
        "\n",
        "\n",
        "            # compute intermediate values\n",
        "            for (key, value) in self.weights.items():\n",
        "                wMomentum_hat[key] = self.wMomentum[key] / (1 - np.power(beta1, epoch + 1))\n",
        "            \n",
        "            for (key, value) in self.bias.items():\n",
        "                bMomentum_hat[key] = self.bMomentum[key] / (1 - np.power(beta1, epoch + 1))\n",
        "\n",
        "            for (key, value) in self.weights.items():\n",
        "                wHistory_hat[key] = self.wHistory[key] / (1 - np.power(beta2, epoch + 1))\n",
        "\n",
        "            for (key, value) in self.bias.items():\n",
        "                bHistory_hat[key] = self.bHistory[key] / (1 - np.power(beta2, epoch + 1))\n",
        "\n",
        "            # update weights\n",
        "            for (key, value) in self.weights.items():\n",
        "                num1 = ((self.learningRate / self.batch_size) / np.sqrt(wHistory_hat[key] + epsilon))\n",
        "                num2 = beta1 * wMomentum_hat[key] + ((1 - beta1) * acc_grad_weights[key] / (1 - beta1 ** (epoch + 1)))\n",
        "                self.weights[key] = self.weights[key] - num1*num2\n",
        "\n",
        "            # update bias\n",
        "            for (key, value) in self.bias.items():\n",
        "                num1 = ((self.learningRate / self.batch_size) / np.sqrt(bHistory_hat[key] + epsilon))\n",
        "                num2 = beta1 * bMomentum_hat[key] + ((1 - beta1) * acc_grad_bias[key] / (1 - beta1 ** (epoch + 1)))\n",
        "                self.bias[key] = self.bias[key] - num1*num2\n",
        "\n",
        "            # set accumalated gradients to zero\n",
        "            acc_grad_weights, acc_grad_bias = self.make_accumalate_zero()\n",
        "        \n",
        "                \n",
        "        # compute trainAccuracy,trainLoss averaged over train size\n",
        "        trainAccuracy = count / n\n",
        "        trainLoss = loss_input / n + self.regularize()\n",
        "        \n",
        "        # compute validationAccuracy,validationLoss averaged over test size \n",
        "        validationLoss, validationAccuracy = self.computeTestLossAndAccuracy()\n",
        "        return trainLoss, trainAccuracy, validationLoss, validationAccuracy\n",
        "\n",
        "    # runs gradient descent for one epoch\n",
        "    def oneEpochGD(self, epoch):\n",
        "        ''' Executes A Single Epoch for Vanilla Gradient Descent Algorithm.\n",
        "            Returns the training loss,training accuracy,validaiton loss and validation accuracy,averaged over all points. '''\n",
        "\n",
        "        n = self.train_n_samples\n",
        "        \n",
        "        # randomizing batches\n",
        "        idx = np.random.permutation(self.train_n_samples)\n",
        "        self.x_train = self.x_train[idx]\n",
        "        self.y_train = self.y_train[idx]\n",
        "\n",
        "        input = self.x_train\n",
        "        actual_y = self.y_train\n",
        "\n",
        "        # Total Loss for epoch\n",
        "        loss_input = 0\n",
        "        count = 0\n",
        "\n",
        "        # set accumalated gradients to zero\n",
        "        acc_grad_weights, acc_grad_bias = self.make_accumalate_zero()\n",
        "\n",
        "        # execute one epoch for all datapoints in train set\n",
        "        for index in range(n):\n",
        "\n",
        "            # perform forward propagation\n",
        "            self.forward_propagation(input, index)\n",
        "            predicted_y = self.post_activation[\"h\" + str(self.L)]\n",
        "\n",
        "            # compute loss\n",
        "            loss_input += self.loss_function(predicted_y, actual_y[index])\n",
        "\n",
        "            # perofrm backward propagation\n",
        "            grad_weights, grad_bias = self.backward_propagation(index, actual_y)\n",
        "\n",
        "            # compute the number of datapoints which are correctly classified\n",
        "            indexWithMaxProb = np.argmax(predicted_y)\n",
        "            if (actual_y[index] == (indexWithMaxProb)):\n",
        "                count = count + 1\n",
        "\n",
        "            # accumulate grad_weights and grad_bais for each input\n",
        "            for (key, value) in grad_weights.items():\n",
        "                acc_grad_weights[key] = acc_grad_weights[key] + \\\n",
        "                    grad_weights[key]\n",
        "\n",
        "            for (key, value) in grad_bias.items():\n",
        "                acc_grad_bias[key] = acc_grad_bias[key] + grad_bias[key]\n",
        "\n",
        "            # update weights and bias if the number of datapoints in batch_size are divisble by batch_size\n",
        "            if ((index + 1) % self.batch_size == 0):\n",
        "\n",
        "                # update weights\n",
        "                for (key, value) in self.weights.items():\n",
        "                    self.weights[key] = self.weights[key] - ((self.learningRate / self.batch_size) * acc_grad_weights[key])\n",
        "                \n",
        "                # update bias\n",
        "                for (key, value) in self.bias.items():\n",
        "                    self.bias[key] = self.bias[key] - ((self.learningRate / self.batch_size) * acc_grad_bias[key])\n",
        "\n",
        "                # set accumalated gradients to zero\n",
        "                acc_grad_weights, acc_grad_bias = self.make_accumalate_zero()\n",
        "\n",
        "        # if the number of datapoints in batch is not divisible by batch_size update weights and bias \n",
        "        if n % self.batch_size != 0:\n",
        "\n",
        "            # update weights\n",
        "            for (key, value) in self.weights.items():\n",
        "                self.weights[key] = self.weights[key] - ((self.learningRate / self.batch_size) * acc_grad_weights[key])\n",
        "            \n",
        "            # update bias\n",
        "            for (key, value) in self.bias.items():\n",
        "                self.bias[key] = self.bias[key] - ((self.learningRate / self.batch_size) * acc_grad_bias[key])\n",
        "\n",
        "            # set accumalated gradients to zero\n",
        "            acc_grad_weights, acc_grad_bias = self.make_accumalate_zero()\n",
        "\n",
        "        # compute trainAccuracy,trainLoss averaged over train size\n",
        "        trainAccuracy = count / n\n",
        "        trainLoss = loss_input / n + self.regularize()\n",
        "        \n",
        "        # compute validationAccuracy,validationLoss averaged over test size \n",
        "        validationLoss, validationAccuracy = self.computeTestLossAndAccuracy()\n",
        "        \n",
        "        return trainLoss, trainAccuracy, validationLoss, validationAccuracy\n",
        "\n",
        "    # executes a single epoch of the FeedForward NN according to the optimizer function. \n",
        "    def executeOneEpoch(self,epoch):\n",
        "        \n",
        "        if self.optimizer == \"sgd\":\n",
        "            return self.oneEpochSGD(epoch)\n",
        "\n",
        "        if self.optimizer == \"momentum\":\n",
        "            return self.oneEpochMOMENTUM(epoch)\n",
        "\n",
        "        if self.optimizer == \"nestrov\":\n",
        "            return self.oneEpochNAG(epoch)\n",
        "\n",
        "        if self.optimizer == \"rmsprop\":\n",
        "            return self.oneEpochRMSPROP(epoch)\n",
        "\n",
        "        if self.optimizer == \"adam\":\n",
        "            return self.oneEpochADAM(epoch)\n",
        "\n",
        "        if self.optimizer == \"nadam\":\n",
        "            return self.oneEpochNADAM(epoch)\n",
        "\n",
        "        if self.optimizer == \"gd\":\n",
        "            return self.oneEpochGD(epoch)\n",
        "\n",
        "    # computes validation loss and validation accuracy \n",
        "    def computeTestLossAndAccuracy(self):\n",
        "        \n",
        "        validation_size = self.y_validate.shape[0]\n",
        "        test_loss = 0\n",
        "        count = 0\n",
        "\n",
        "        input = self.x_validate\n",
        "        actual_y = self.y_validate\n",
        "\n",
        "        for index in range(0, validation_size):\n",
        "\n",
        "            # perform forward propagation\n",
        "            self.forward_propagation(input, index)\n",
        "            predicted_y = self.post_activation[\"h\" + str(self.L)]\n",
        "\n",
        "            # compute loss\n",
        "            test_loss += self.loss_function(predicted_y, actual_y[index])\n",
        "\n",
        "            # compute the number of datapoints which are correctly classified\n",
        "            indexWithMaxProb = np.argmax(predicted_y)\n",
        "            if (actual_y[index] == (indexWithMaxProb)):\n",
        "                count = count + 1\n",
        "\n",
        "        # compute validationAccuracy,validationLoss averaged over validation size \n",
        "        validationAccuracy = count / validation_size\n",
        "        validationLoss = test_loss / validation_size + self.regularize()\n",
        "        \n",
        "        return validationLoss, validationAccuracy\n",
        "\n",
        "    '''<----------------------------Question 1------------------------------------->'''\n",
        "    def question_1(self):\n",
        "\n",
        "        wandb.init(\n",
        "                # set the wandb project where this run will be logged\n",
        "                project = feed_forward.parameters[\"wandb_project\"],\n",
        "                # config = sweep_config\n",
        "        )\n",
        "\n",
        "        # dictionary of labels to be added\n",
        "        labels_added = {}\n",
        "\n",
        "        ''' \n",
        "        Running the loop for the number of training samples.\n",
        "        In each iteration,a random index is generated and we extract the feature and label at the generated index.\n",
        "        If the label is already in the labels_added dictionary,we ignore that label,else we add that (label,feature) \n",
        "        as (key,value) pair in dictionary (so that one label is considered only once).\n",
        "        '''\n",
        "        images = []\n",
        "        for i in range(self.train_n_samples):\n",
        "            index = random.randrange(self.train_n_samples)\n",
        "            feature = self. x_train[index]\n",
        "            label = self.y_train[index]\n",
        "            if (label in labels_added.keys()):\n",
        "                continue\n",
        "            labels_added[label] = feature\n",
        "            image = wandb.Image(\n",
        "                labels_added[label], caption=f\"{self.title[label]}\")\n",
        "            images.append(image)\n",
        "        wandb.log({\"Images\": images})\n",
        "    \n",
        "    '''<----------------------------Question 2------------------------>'''\n",
        "\n",
        "    def feed_forward_q2(self): \n",
        "        # initialization of weights\n",
        "        self.weightsAndBiasInitializer()\n",
        " \n",
        "        # train the data\n",
        "        for i in range(1, self.epoch + 1):\n",
        "            (train_Loss, train_Accuracy, validation_Loss,\n",
        "             validation_Accuracy) = self.executeOneEpoch(i)\n",
        "            \n",
        "        # generating the random index to test the model and finding the y for that\n",
        "        index = np.random.randint(self.y_validate.shape[0])\n",
        "        input = self.x_validate\n",
        "        self.forward_propagation(input, index)\n",
        "        predicted_y = self.post_activation[\"h\" + str(self.L)]\n",
        "        print(predicted_y)\n",
        "\n",
        "    '''<----------------------------Question 3-4------------------------------------->'''\n",
        "    def feed_forward_q3_4(self):\n",
        "        \n",
        "        self.weights = dict()\n",
        "        self.bias = dict()\n",
        "        self.wHistory = dict()\n",
        "        self.bHistory = dict()\n",
        "        self.wMomentum = dict()\n",
        "        self.bMomentum = dict()\n",
        "        \n",
        "        # initialization of weights and bias\n",
        "        self.weightsAndBiasInitializer()\n",
        "\n",
        "        # initializing history for weights and bias\n",
        "        self.historyInitializer()\n",
        "\n",
        "        # initializing momentum for weights and bias\n",
        "        self.momentumInitializer()\n",
        "\n",
        "        self.validation_Accuracy = 0\n",
        "\n",
        "\n",
        "        # run feedforward NN \n",
        "        for i in range(1, self.epoch + 1):\n",
        "              (train_Loss, train_Accuracy, validation_Loss,self.validation_Accuracy) = self.executeOneEpoch(i)\n",
        "              print(\"epoch:{epoch}, train loss:{train_l}, train accuracy:{train_ac}, validation loss:{validation_l}, validation accuracy:{validation_ac}\".\\\n",
        "                  format(epoch = i,train_l = train_Loss,train_ac = train_Accuracy,validation_l = validation_Loss,validation_ac = self.validation_Accuracy))\n",
        "            \n",
        "              wandb.log({'train loss':train_Loss, 'train accuracy':train_Accuracy,'validation loss':validation_Loss, 'validation accuracy':self.validation_Accuracy})\n",
        "          "
      ]
    },
    {
      "cell_type": "code",
      "execution_count": null,
      "metadata": {
        "id": "MxlBlgWiCWJR"
      },
      "outputs": [],
      "source": [
        "feed_forward = FeedForward()"
      ]
    },
    {
      "cell_type": "code",
      "execution_count": null,
      "metadata": {
        "colab": {
          "base_uri": "https://localhost:8080/",
          "height": 139
        },
        "id": "I1CcpV4d6z2c",
        "outputId": "3de08e42-a876-4c46-8322-762f4f072d0a"
      },
      "outputs": [
        {
          "name": "stdout",
          "output_type": "stream",
          "text": [
            "Create sweep with ID: eayjxkwm\n",
            "Sweep URL: https://wandb.ai/cs22m019/DL%20Final%20Assignment%201/sweeps/eayjxkwm\n"
          ]
        }
      ],
      "source": [
        "sweep_config = {\n",
        "\n",
        "        'method' : 'random', #grid ,random - generates exponential ways,bayesian  efficient way\n",
        "        'name' : 'random_sweep cross_entropy',\n",
        "        'metric' : {\n",
        "            'name' : 'validation accuracy',\n",
        "            'goal' : 'maximize'\n",
        "        },\n",
        "        'parameters':{\n",
        "                'epochs' : {\n",
        "                    'values' : [5,10]\n",
        "                },\n",
        "                'number_of_hidden_layer':{\n",
        "                    'values' : [3,4,5]\n",
        "                },\n",
        "                'size_of_hidden_layer' : {\n",
        "                    'values' :[32,64,128]\n",
        "                },\n",
        "                'weight_decay' : {\n",
        "                    'values' : [0,0.0005,0.5]\n",
        "                },\n",
        "                'learning_rate' : {\n",
        "                    'values' : [1e-3,1e-4]\n",
        "                },\n",
        "                'optimizer' : {\n",
        "                    'values' : ['sgd','momentum','nestrov','rmsprop','adam','nadam']\n",
        "                },\n",
        "                'batch_size' : {\n",
        "                        'values' : [16,32,64]\n",
        "                },\n",
        "                'weight_initialization' :{\n",
        "                    'values' : ['random','Xavier']\n",
        "                },\n",
        "                'activation' : {\n",
        "                    'values' : ['sigmoid','tanh','ReLU']\n",
        "                }\n",
        "        }\n",
        "}\n",
        "sweep_id = wandb.sweep(sweep = sweep_config,project= feed_forward.parameters[\"wandb_project\"])"
      ]
    },
    {
      "cell_type": "code",
      "execution_count": null,
      "metadata": {
        "id": "whziGn3a62Pv"
      },
      "outputs": [],
      "source": [
        "def train():\n",
        "    wandb.init(\n",
        "                # set the wandb project where this run will be logged\n",
        "                # project = feed_forward.parameters[\"wandb_project\"],\n",
        "                config = sweep_config\n",
        "    )\n",
        "    \n",
        "    feed_forward.epoch = wandb.config.epochs\n",
        "    feed_forward.nnl = wandb.config.size_of_hidden_layer\n",
        "    feed_forward.weightDecay =  wandb.config.weight_decay\n",
        "    feed_forward.learningRate = wandb.config.learning_rate\n",
        "    feed_forward.optimizer = wandb.config.optimizer\n",
        "    feed_forward.batch_size = wandb.config.batch_size\n",
        "    feed_forward.weightInitialization = wandb.config.weight_initialization\n",
        "    feed_forward.activationFunction = wandb.config.activation\n",
        "    feed_forward.L = wandb.config.number_of_hidden_layer + 1\n",
        "    feed_forward.weight_decay = wandb.config.weight_decay\n",
        "\n",
        "\n",
        "    wandb.run.name = \"optimizer_\" + str(wandb.config.optimizer) +  \"_hl_\"+ str(wandb.config.number_of_hidden_layer) + \"_bs_\" + str(wandb.config.batch_size) + \"_ac_\" + str(wandb.config.activation)    \n",
        "    feed_forward.feed_forward_q3_4()"
      ]
    },
    {
      "cell_type": "code",
      "execution_count": null,
      "metadata": {
        "id": "bEush2kM64C9",
        "outputId": "66478489-1807-44bc-cd89-a0f12172b0ad",
        "colab": {
          "referenced_widgets": [
            "babaee39c7fd44daacb43a872cb90234",
            "64937c1963f94218888242ce14b454c8",
            "e8710094700144c59e0887e868fb6fd2",
            "f81ddbd0d3934ea9b1160be718e4f7ff",
            "a10f72ebde934be8becde59280244417",
            "f733c163399644a0ac9a424f7b6b889f",
            "525ad25d0e63498397228b9daf802992",
            "c025a4ad501c4dd18e7f388f3e5c86fd",
            "46bf54fe959346a3a9b8b23d71b98c46",
            "39513b45713047bca9aa23e3af4169fb",
            "2d14921543d140509b16ae15003e2769",
            "980ec445bfcf478d8b0170790ddf9d4e",
            "83d5cf1bf9594afeba033f5fe7c3057a",
            "06dc6d77d7ad4a5c862584452c6fef13",
            "1aa2251bb6af400b85a096d156c77244",
            "1bd6d7e0da5347c38e05604e4f12fc98",
            "04cedafd19e94b369ffbe087d591ddd8",
            "a36a7dab69d14d34acc863cc23c7fc8d",
            "797092410f484c3f9c42caab3f4559d3",
            "9f2e9d6917d44666a2d7c10a5866fc4d",
            "24caf56478f140339fa5e2b0956393e1",
            "e9b2908a90db41cb87314876b66e0bc5",
            "6cbb7e91c23b4a29bb32e16fb0f3b249",
            "a44c219471f048c09a880292d1e5e9c7",
            "e3acfa18004f49da99d81f4c6b098680",
            "ffd75da2e6ca4dbbb423baffe5e4e87b",
            "77dc515917544d6da81b70267cf852d0",
            "6897a899ffca494ebde93de3c782ca7d",
            "f739ac43b0f84998ad8768210a12d165",
            "1e2487016d2647299fb17c4a2d6e610b",
            "94d1ea91030046d89ad344c298655bbf",
            "fa6dd04be7c9491e8a95058b253aeddc",
            "cf038181eb184457926792fabe111f9d",
            "75fd7c29d4524b839ff2c67cc1aac54f",
            "7edea798cc2e4467a8b0f696b65b8276",
            "abd4ec65de084c5aacd917b17de1fdf5",
            "06e68c03e29f4750b62fab3ec70ad3eb",
            "017f36ff0d454fc9a1950f1e00ff5de7",
            "57aabf18b92b4fc9846c9e1d8064018a",
            "2e94195d3c1e444492aa8b2a6b226d9a"
          ]
        }
      },
      "outputs": [
        {
          "name": "stderr",
          "output_type": "stream",
          "text": [
            "\u001b[34m\u001b[1mwandb\u001b[0m: Agent Starting Run: cyzitirc with config:\n",
            "\u001b[34m\u001b[1mwandb\u001b[0m: \tactivation: sigmoid\n",
            "\u001b[34m\u001b[1mwandb\u001b[0m: \tbatch_size: 32\n",
            "\u001b[34m\u001b[1mwandb\u001b[0m: \tepochs: 10\n",
            "\u001b[34m\u001b[1mwandb\u001b[0m: \tlearning_rate: 0.001\n",
            "\u001b[34m\u001b[1mwandb\u001b[0m: \tnumber_of_hidden_layer: 4\n",
            "\u001b[34m\u001b[1mwandb\u001b[0m: \toptimizer: nadam\n",
            "\u001b[34m\u001b[1mwandb\u001b[0m: \tsize_of_hidden_layer: 128\n",
            "\u001b[34m\u001b[1mwandb\u001b[0m: \tweight_decay: 0.5\n",
            "\u001b[34m\u001b[1mwandb\u001b[0m: \tweight_initialization: random\n",
            "\u001b[34m\u001b[1mwandb\u001b[0m: Currently logged in as: \u001b[33mcs22m019\u001b[0m. Use \u001b[1m`wandb login --relogin`\u001b[0m to force relogin\n"
          ]
        },
        {
          "data": {
            "text/html": [
              "Tracking run with wandb version 0.13.11"
            ],
            "text/plain": [
              "<IPython.core.display.HTML object>"
            ]
          },
          "metadata": {},
          "output_type": "display_data"
        },
        {
          "data": {
            "text/html": [
              "Run data is saved locally in <code>C:\\Users\\DELL\\Desktop\\wandb\\run-20230310_010204-cyzitirc</code>"
            ],
            "text/plain": [
              "<IPython.core.display.HTML object>"
            ]
          },
          "metadata": {},
          "output_type": "display_data"
        },
        {
          "data": {
            "text/html": [
              "Syncing run <strong><a href='https://wandb.ai/cs22m019/DL%20Final%20Assignment%201/runs/cyzitirc' target=\"_blank\">efficient-sweep-1</a></strong> to <a href='https://wandb.ai/cs22m019/DL%20Final%20Assignment%201' target=\"_blank\">Weights & Biases</a> (<a href='https://wandb.me/run' target=\"_blank\">docs</a>)<br/>Sweep page: <a href='https://wandb.ai/cs22m019/DL%20Final%20Assignment%201/sweeps/eayjxkwm' target=\"_blank\">https://wandb.ai/cs22m019/DL%20Final%20Assignment%201/sweeps/eayjxkwm</a>"
            ],
            "text/plain": [
              "<IPython.core.display.HTML object>"
            ]
          },
          "metadata": {},
          "output_type": "display_data"
        },
        {
          "data": {
            "text/html": [
              " View project at <a href='https://wandb.ai/cs22m019/DL%20Final%20Assignment%201' target=\"_blank\">https://wandb.ai/cs22m019/DL%20Final%20Assignment%201</a>"
            ],
            "text/plain": [
              "<IPython.core.display.HTML object>"
            ]
          },
          "metadata": {},
          "output_type": "display_data"
        },
        {
          "data": {
            "text/html": [
              " View sweep at <a href='https://wandb.ai/cs22m019/DL%20Final%20Assignment%201/sweeps/eayjxkwm' target=\"_blank\">https://wandb.ai/cs22m019/DL%20Final%20Assignment%201/sweeps/eayjxkwm</a>"
            ],
            "text/plain": [
              "<IPython.core.display.HTML object>"
            ]
          },
          "metadata": {},
          "output_type": "display_data"
        },
        {
          "data": {
            "text/html": [
              " View run at <a href='https://wandb.ai/cs22m019/DL%20Final%20Assignment%201/runs/cyzitirc' target=\"_blank\">https://wandb.ai/cs22m019/DL%20Final%20Assignment%201/runs/cyzitirc</a>"
            ],
            "text/plain": [
              "<IPython.core.display.HTML object>"
            ]
          },
          "metadata": {},
          "output_type": "display_data"
        },
        {
          "name": "stdout",
          "output_type": "stream",
          "text": [
            "epoch:1, train loss:3.4646655317465602, train accuracy:0.4955555555555556, validation loss:2.5479093518138494, validation accuracy:0.7005\n",
            "epoch:2, train loss:2.3773906763168635, train accuracy:0.7407962962962963, validation loss:2.275765051386854, validation accuracy:0.7626666666666667\n",
            "epoch:3, train loss:2.2209347964083976, train accuracy:0.7772222222222223, validation loss:2.188720368789107, validation accuracy:0.7843333333333333\n",
            "epoch:4, train loss:2.1591311133235083, train accuracy:0.7943518518518519, validation loss:2.1441496096834376, validation accuracy:0.796\n",
            "epoch:5, train loss:2.1231219431827646, train accuracy:0.8037777777777778, validation loss:2.1155363947294337, validation accuracy:0.804\n",
            "epoch:6, train loss:2.099002168302847, train accuracy:0.8112962962962963, validation loss:2.0959157467005443, validation accuracy:0.8135\n",
            "epoch:7, train loss:2.0806891663055342, train accuracy:0.8176111111111111, validation loss:2.0798355514074185, validation accuracy:0.8198333333333333\n",
            "epoch:8, train loss:2.0658941649563065, train accuracy:0.8223148148148148, validation loss:2.067555063483275, validation accuracy:0.8231666666666667\n",
            "epoch:9, train loss:2.054097108056767, train accuracy:0.8267407407407408, validation loss:2.0579774755654596, validation accuracy:0.8246666666666667\n",
            "epoch:10, train loss:2.04357957542648, train accuracy:0.8300185185185185, validation loss:2.048398943079796, validation accuracy:0.8283333333333334\n"
          ]
        },
        {
          "data": {
            "text/html": [
              "Waiting for W&B process to finish... <strong style=\"color:green\">(success).</strong>"
            ],
            "text/plain": [
              "<IPython.core.display.HTML object>"
            ]
          },
          "metadata": {},
          "output_type": "display_data"
        },
        {
          "data": {
            "application/vnd.jupyter.widget-view+json": {
              "model_id": "babaee39c7fd44daacb43a872cb90234",
              "version_major": 2,
              "version_minor": 0
            },
            "text/plain": [
              "VBox(children=(Label(value='0.001 MB of 0.001 MB uploaded (0.000 MB deduped)\\r'), FloatProgress(value=1.0, max…"
            ]
          },
          "metadata": {},
          "output_type": "display_data"
        },
        {
          "data": {
            "text/html": [
              "<style>\n",
              "    table.wandb td:nth-child(1) { padding: 0 10px; text-align: left ; width: auto;} td:nth-child(2) {text-align: left ; width: 100%}\n",
              "    .wandb-row { display: flex; flex-direction: row; flex-wrap: wrap; justify-content: flex-start; width: 100% }\n",
              "    .wandb-col { display: flex; flex-direction: column; flex-basis: 100%; flex: 1; padding: 10px; }\n",
              "    </style>\n",
              "<div class=\"wandb-row\"><div class=\"wandb-col\"><h3>Run history:</h3><br/><table class=\"wandb\"><tr><td>train accuracy</td><td>▁▆▇▇▇█████</td></tr><tr><td>train loss</td><td>█▃▂▂▁▁▁▁▁▁</td></tr><tr><td>validation accuracy</td><td>▁▄▆▆▇▇████</td></tr><tr><td>validation loss</td><td>█▄▃▂▂▂▁▁▁▁</td></tr></table><br/></div><div class=\"wandb-col\"><h3>Run summary:</h3><br/><table class=\"wandb\"><tr><td>train accuracy</td><td>0.83002</td></tr><tr><td>train loss</td><td>2.04358</td></tr><tr><td>validation accuracy</td><td>0.82833</td></tr><tr><td>validation loss</td><td>2.0484</td></tr></table><br/></div></div>"
            ],
            "text/plain": [
              "<IPython.core.display.HTML object>"
            ]
          },
          "metadata": {},
          "output_type": "display_data"
        },
        {
          "data": {
            "text/html": [
              " View run <strong style=\"color:#cdcd00\">efficient-sweep-1</strong> at: <a href='https://wandb.ai/cs22m019/DL%20Final%20Assignment%201/runs/cyzitirc' target=\"_blank\">https://wandb.ai/cs22m019/DL%20Final%20Assignment%201/runs/cyzitirc</a><br/>Synced 6 W&B file(s), 0 media file(s), 0 artifact file(s) and 0 other file(s)"
            ],
            "text/plain": [
              "<IPython.core.display.HTML object>"
            ]
          },
          "metadata": {},
          "output_type": "display_data"
        },
        {
          "data": {
            "text/html": [
              "Find logs at: <code>.\\wandb\\run-20230310_010204-cyzitirc\\logs</code>"
            ],
            "text/plain": [
              "<IPython.core.display.HTML object>"
            ]
          },
          "metadata": {},
          "output_type": "display_data"
        },
        {
          "name": "stderr",
          "output_type": "stream",
          "text": [
            "\u001b[34m\u001b[1mwandb\u001b[0m: Sweep Agent: Waiting for job.\n",
            "\u001b[34m\u001b[1mwandb\u001b[0m: Job received.\n",
            "\u001b[34m\u001b[1mwandb\u001b[0m: Agent Starting Run: i7m64zdt with config:\n",
            "\u001b[34m\u001b[1mwandb\u001b[0m: \tactivation: sigmoid\n",
            "\u001b[34m\u001b[1mwandb\u001b[0m: \tbatch_size: 16\n",
            "\u001b[34m\u001b[1mwandb\u001b[0m: \tepochs: 10\n",
            "\u001b[34m\u001b[1mwandb\u001b[0m: \tlearning_rate: 0.001\n",
            "\u001b[34m\u001b[1mwandb\u001b[0m: \tnumber_of_hidden_layer: 5\n",
            "\u001b[34m\u001b[1mwandb\u001b[0m: \toptimizer: sgd\n",
            "\u001b[34m\u001b[1mwandb\u001b[0m: \tsize_of_hidden_layer: 128\n",
            "\u001b[34m\u001b[1mwandb\u001b[0m: \tweight_decay: 0\n",
            "\u001b[34m\u001b[1mwandb\u001b[0m: \tweight_initialization: Xavier\n"
          ]
        },
        {
          "data": {
            "text/html": [
              "Tracking run with wandb version 0.13.11"
            ],
            "text/plain": [
              "<IPython.core.display.HTML object>"
            ]
          },
          "metadata": {},
          "output_type": "display_data"
        },
        {
          "data": {
            "text/html": [
              "Run data is saved locally in <code>C:\\Users\\DELL\\Desktop\\wandb\\run-20230310_010742-i7m64zdt</code>"
            ],
            "text/plain": [
              "<IPython.core.display.HTML object>"
            ]
          },
          "metadata": {},
          "output_type": "display_data"
        },
        {
          "data": {
            "text/html": [
              "Syncing run <strong><a href='https://wandb.ai/cs22m019/DL%20Final%20Assignment%201/runs/i7m64zdt' target=\"_blank\">clean-sweep-2</a></strong> to <a href='https://wandb.ai/cs22m019/DL%20Final%20Assignment%201' target=\"_blank\">Weights & Biases</a> (<a href='https://wandb.me/run' target=\"_blank\">docs</a>)<br/>Sweep page: <a href='https://wandb.ai/cs22m019/DL%20Final%20Assignment%201/sweeps/eayjxkwm' target=\"_blank\">https://wandb.ai/cs22m019/DL%20Final%20Assignment%201/sweeps/eayjxkwm</a>"
            ],
            "text/plain": [
              "<IPython.core.display.HTML object>"
            ]
          },
          "metadata": {},
          "output_type": "display_data"
        },
        {
          "data": {
            "text/html": [
              " View project at <a href='https://wandb.ai/cs22m019/DL%20Final%20Assignment%201' target=\"_blank\">https://wandb.ai/cs22m019/DL%20Final%20Assignment%201</a>"
            ],
            "text/plain": [
              "<IPython.core.display.HTML object>"
            ]
          },
          "metadata": {},
          "output_type": "display_data"
        },
        {
          "data": {
            "text/html": [
              " View sweep at <a href='https://wandb.ai/cs22m019/DL%20Final%20Assignment%201/sweeps/eayjxkwm' target=\"_blank\">https://wandb.ai/cs22m019/DL%20Final%20Assignment%201/sweeps/eayjxkwm</a>"
            ],
            "text/plain": [
              "<IPython.core.display.HTML object>"
            ]
          },
          "metadata": {},
          "output_type": "display_data"
        },
        {
          "data": {
            "text/html": [
              " View run at <a href='https://wandb.ai/cs22m019/DL%20Final%20Assignment%201/runs/i7m64zdt' target=\"_blank\">https://wandb.ai/cs22m019/DL%20Final%20Assignment%201/runs/i7m64zdt</a>"
            ],
            "text/plain": [
              "<IPython.core.display.HTML object>"
            ]
          },
          "metadata": {},
          "output_type": "display_data"
        },
        {
          "name": "stdout",
          "output_type": "stream",
          "text": [
            "epoch:1, train loss:2.516526195172978, train accuracy:0.09981481481481481, validation loss:2.4031773372882097, validation accuracy:0.10166666666666667\n",
            "epoch:2, train loss:2.3579558982215674, train accuracy:0.09981481481481481, validation loss:2.332381770845464, validation accuracy:0.10166666666666667\n",
            "epoch:3, train loss:2.318490593299313, train accuracy:0.09981481481481481, validation loss:2.308714840013463, validation accuracy:0.10166666666666667\n",
            "epoch:4, train loss:2.3058995437951437, train accuracy:0.09898148148148148, validation loss:2.3047594933854674, validation accuracy:0.09733333333333333\n",
            "epoch:5, train loss:2.303837470487052, train accuracy:0.09927777777777778, validation loss:2.3037648481941657, validation accuracy:0.0985\n",
            "epoch:6, train loss:2.3033101194247734, train accuracy:0.09981481481481481, validation loss:2.3026443391031464, validation accuracy:0.101\n",
            "epoch:7, train loss:2.3034662937566774, train accuracy:0.09812962962962964, validation loss:2.3030635130676496, validation accuracy:0.09733333333333333\n",
            "epoch:8, train loss:2.302965699266148, train accuracy:0.09844444444444445, validation loss:2.303224824573428, validation accuracy:0.09816666666666667\n",
            "epoch:9, train loss:2.302770299745798, train accuracy:0.10064814814814815, validation loss:2.302722408433851, validation accuracy:0.09816666666666667\n",
            "epoch:10, train loss:2.3028847068308087, train accuracy:0.10046296296296296, validation loss:2.30272415458689, validation accuracy:0.10166666666666667\n"
          ]
        },
        {
          "data": {
            "text/html": [
              "Waiting for W&B process to finish... <strong style=\"color:green\">(success).</strong>"
            ],
            "text/plain": [
              "<IPython.core.display.HTML object>"
            ]
          },
          "metadata": {},
          "output_type": "display_data"
        },
        {
          "data": {
            "text/html": [
              "<style>\n",
              "    table.wandb td:nth-child(1) { padding: 0 10px; text-align: left ; width: auto;} td:nth-child(2) {text-align: left ; width: 100%}\n",
              "    .wandb-row { display: flex; flex-direction: row; flex-wrap: wrap; justify-content: flex-start; width: 100% }\n",
              "    .wandb-col { display: flex; flex-direction: column; flex-basis: 100%; flex: 1; padding: 10px; }\n",
              "    </style>\n",
              "<div class=\"wandb-row\"><div class=\"wandb-col\"><h3>Run history:</h3><br/><table class=\"wandb\"><tr><td>train accuracy</td><td>▆▆▆▃▄▆▁▂█▇</td></tr><tr><td>train loss</td><td>█▃▂▁▁▁▁▁▁▁</td></tr><tr><td>validation accuracy</td><td>███▁▃▇▁▂▂█</td></tr><tr><td>validation loss</td><td>█▃▁▁▁▁▁▁▁▁</td></tr></table><br/></div><div class=\"wandb-col\"><h3>Run summary:</h3><br/><table class=\"wandb\"><tr><td>train accuracy</td><td>0.10046</td></tr><tr><td>train loss</td><td>2.30288</td></tr><tr><td>validation accuracy</td><td>0.10167</td></tr><tr><td>validation loss</td><td>2.30272</td></tr></table><br/></div></div>"
            ],
            "text/plain": [
              "<IPython.core.display.HTML object>"
            ]
          },
          "metadata": {},
          "output_type": "display_data"
        },
        {
          "data": {
            "text/html": [
              " View run <strong style=\"color:#cdcd00\">clean-sweep-2</strong> at: <a href='https://wandb.ai/cs22m019/DL%20Final%20Assignment%201/runs/i7m64zdt' target=\"_blank\">https://wandb.ai/cs22m019/DL%20Final%20Assignment%201/runs/i7m64zdt</a><br/>Synced 6 W&B file(s), 0 media file(s), 0 artifact file(s) and 0 other file(s)"
            ],
            "text/plain": [
              "<IPython.core.display.HTML object>"
            ]
          },
          "metadata": {},
          "output_type": "display_data"
        },
        {
          "data": {
            "text/html": [
              "Find logs at: <code>.\\wandb\\run-20230310_010742-i7m64zdt\\logs</code>"
            ],
            "text/plain": [
              "<IPython.core.display.HTML object>"
            ]
          },
          "metadata": {},
          "output_type": "display_data"
        },
        {
          "name": "stderr",
          "output_type": "stream",
          "text": [
            "\u001b[34m\u001b[1mwandb\u001b[0m: Sweep Agent: Waiting for job.\n",
            "\u001b[34m\u001b[1mwandb\u001b[0m: Job received.\n",
            "\u001b[34m\u001b[1mwandb\u001b[0m: Agent Starting Run: wumrxwtc with config:\n",
            "\u001b[34m\u001b[1mwandb\u001b[0m: \tactivation: tanh\n",
            "\u001b[34m\u001b[1mwandb\u001b[0m: \tbatch_size: 64\n",
            "\u001b[34m\u001b[1mwandb\u001b[0m: \tepochs: 5\n",
            "\u001b[34m\u001b[1mwandb\u001b[0m: \tlearning_rate: 0.001\n",
            "\u001b[34m\u001b[1mwandb\u001b[0m: \tnumber_of_hidden_layer: 3\n",
            "\u001b[34m\u001b[1mwandb\u001b[0m: \toptimizer: nestrov\n",
            "\u001b[34m\u001b[1mwandb\u001b[0m: \tsize_of_hidden_layer: 128\n",
            "\u001b[34m\u001b[1mwandb\u001b[0m: \tweight_decay: 0.0005\n",
            "\u001b[34m\u001b[1mwandb\u001b[0m: \tweight_initialization: random\n"
          ]
        },
        {
          "data": {
            "text/html": [
              "Tracking run with wandb version 0.13.11"
            ],
            "text/plain": [
              "<IPython.core.display.HTML object>"
            ]
          },
          "metadata": {},
          "output_type": "display_data"
        },
        {
          "data": {
            "text/html": [
              "Run data is saved locally in <code>C:\\Users\\DELL\\Desktop\\wandb\\run-20230310_011259-wumrxwtc</code>"
            ],
            "text/plain": [
              "<IPython.core.display.HTML object>"
            ]
          },
          "metadata": {},
          "output_type": "display_data"
        },
        {
          "data": {
            "text/html": [
              "Syncing run <strong><a href='https://wandb.ai/cs22m019/DL%20Final%20Assignment%201/runs/wumrxwtc' target=\"_blank\">unique-sweep-3</a></strong> to <a href='https://wandb.ai/cs22m019/DL%20Final%20Assignment%201' target=\"_blank\">Weights & Biases</a> (<a href='https://wandb.me/run' target=\"_blank\">docs</a>)<br/>Sweep page: <a href='https://wandb.ai/cs22m019/DL%20Final%20Assignment%201/sweeps/eayjxkwm' target=\"_blank\">https://wandb.ai/cs22m019/DL%20Final%20Assignment%201/sweeps/eayjxkwm</a>"
            ],
            "text/plain": [
              "<IPython.core.display.HTML object>"
            ]
          },
          "metadata": {},
          "output_type": "display_data"
        },
        {
          "data": {
            "text/html": [
              " View project at <a href='https://wandb.ai/cs22m019/DL%20Final%20Assignment%201' target=\"_blank\">https://wandb.ai/cs22m019/DL%20Final%20Assignment%201</a>"
            ],
            "text/plain": [
              "<IPython.core.display.HTML object>"
            ]
          },
          "metadata": {},
          "output_type": "display_data"
        },
        {
          "data": {
            "text/html": [
              " View sweep at <a href='https://wandb.ai/cs22m019/DL%20Final%20Assignment%201/sweeps/eayjxkwm' target=\"_blank\">https://wandb.ai/cs22m019/DL%20Final%20Assignment%201/sweeps/eayjxkwm</a>"
            ],
            "text/plain": [
              "<IPython.core.display.HTML object>"
            ]
          },
          "metadata": {},
          "output_type": "display_data"
        },
        {
          "data": {
            "text/html": [
              " View run at <a href='https://wandb.ai/cs22m019/DL%20Final%20Assignment%201/runs/wumrxwtc' target=\"_blank\">https://wandb.ai/cs22m019/DL%20Final%20Assignment%201/runs/wumrxwtc</a>"
            ],
            "text/plain": [
              "<IPython.core.display.HTML object>"
            ]
          },
          "metadata": {},
          "output_type": "display_data"
        },
        {
          "name": "stdout",
          "output_type": "stream",
          "text": [
            "epoch:1, train loss:4.310795188824373, train accuracy:0.2649444444444444, validation loss:3.099555981944458, validation accuracy:0.37633333333333335\n",
            "epoch:2, train loss:2.6056349775420293, train accuracy:0.43575925925925924, validation loss:2.322498266123775, validation accuracy:0.4723333333333333\n",
            "epoch:3, train loss:2.0702701917190063, train accuracy:0.5075, validation loss:1.9412264763272051, validation accuracy:0.5196666666666667\n",
            "epoch:4, train loss:1.7778961285009258, train accuracy:0.5487037037037037, validation loss:1.7056289503974862, validation accuracy:0.5576666666666666\n",
            "epoch:5, train loss:1.58903944810929, train accuracy:0.5786296296296296, validation loss:1.5522619157910997, validation accuracy:0.584\n"
          ]
        },
        {
          "data": {
            "text/html": [
              "Waiting for W&B process to finish... <strong style=\"color:green\">(success).</strong>"
            ],
            "text/plain": [
              "<IPython.core.display.HTML object>"
            ]
          },
          "metadata": {},
          "output_type": "display_data"
        },
        {
          "data": {
            "application/vnd.jupyter.widget-view+json": {
              "model_id": "64937c1963f94218888242ce14b454c8",
              "version_major": 2,
              "version_minor": 0
            },
            "text/plain": [
              "VBox(children=(Label(value='0.001 MB of 0.001 MB uploaded (0.000 MB deduped)\\r'), FloatProgress(value=1.0, max…"
            ]
          },
          "metadata": {},
          "output_type": "display_data"
        },
        {
          "data": {
            "text/html": [
              "<style>\n",
              "    table.wandb td:nth-child(1) { padding: 0 10px; text-align: left ; width: auto;} td:nth-child(2) {text-align: left ; width: 100%}\n",
              "    .wandb-row { display: flex; flex-direction: row; flex-wrap: wrap; justify-content: flex-start; width: 100% }\n",
              "    .wandb-col { display: flex; flex-direction: column; flex-basis: 100%; flex: 1; padding: 10px; }\n",
              "    </style>\n",
              "<div class=\"wandb-row\"><div class=\"wandb-col\"><h3>Run history:</h3><br/><table class=\"wandb\"><tr><td>train accuracy</td><td>▁▅▆▇█</td></tr><tr><td>train loss</td><td>█▄▂▁▁</td></tr><tr><td>validation accuracy</td><td>▁▄▆▇█</td></tr><tr><td>validation loss</td><td>█▄▃▂▁</td></tr></table><br/></div><div class=\"wandb-col\"><h3>Run summary:</h3><br/><table class=\"wandb\"><tr><td>train accuracy</td><td>0.57863</td></tr><tr><td>train loss</td><td>1.58904</td></tr><tr><td>validation accuracy</td><td>0.584</td></tr><tr><td>validation loss</td><td>1.55226</td></tr></table><br/></div></div>"
            ],
            "text/plain": [
              "<IPython.core.display.HTML object>"
            ]
          },
          "metadata": {},
          "output_type": "display_data"
        },
        {
          "data": {
            "text/html": [
              " View run <strong style=\"color:#cdcd00\">unique-sweep-3</strong> at: <a href='https://wandb.ai/cs22m019/DL%20Final%20Assignment%201/runs/wumrxwtc' target=\"_blank\">https://wandb.ai/cs22m019/DL%20Final%20Assignment%201/runs/wumrxwtc</a><br/>Synced 6 W&B file(s), 0 media file(s), 0 artifact file(s) and 0 other file(s)"
            ],
            "text/plain": [
              "<IPython.core.display.HTML object>"
            ]
          },
          "metadata": {},
          "output_type": "display_data"
        },
        {
          "data": {
            "text/html": [
              "Find logs at: <code>.\\wandb\\run-20230310_011259-wumrxwtc\\logs</code>"
            ],
            "text/plain": [
              "<IPython.core.display.HTML object>"
            ]
          },
          "metadata": {},
          "output_type": "display_data"
        },
        {
          "name": "stderr",
          "output_type": "stream",
          "text": [
            "\u001b[34m\u001b[1mwandb\u001b[0m: Agent Starting Run: mtj7ydle with config:\n",
            "\u001b[34m\u001b[1mwandb\u001b[0m: \tactivation: sigmoid\n",
            "\u001b[34m\u001b[1mwandb\u001b[0m: \tbatch_size: 64\n",
            "\u001b[34m\u001b[1mwandb\u001b[0m: \tepochs: 10\n",
            "\u001b[34m\u001b[1mwandb\u001b[0m: \tlearning_rate: 0.001\n",
            "\u001b[34m\u001b[1mwandb\u001b[0m: \tnumber_of_hidden_layer: 4\n",
            "\u001b[34m\u001b[1mwandb\u001b[0m: \toptimizer: momentum\n",
            "\u001b[34m\u001b[1mwandb\u001b[0m: \tsize_of_hidden_layer: 32\n",
            "\u001b[34m\u001b[1mwandb\u001b[0m: \tweight_decay: 0\n",
            "\u001b[34m\u001b[1mwandb\u001b[0m: \tweight_initialization: random\n"
          ]
        },
        {
          "data": {
            "text/html": [
              "Tracking run with wandb version 0.13.11"
            ],
            "text/plain": [
              "<IPython.core.display.HTML object>"
            ]
          },
          "metadata": {},
          "output_type": "display_data"
        },
        {
          "data": {
            "text/html": [
              "Run data is saved locally in <code>C:\\Users\\DELL\\Desktop\\wandb\\run-20230310_011549-mtj7ydle</code>"
            ],
            "text/plain": [
              "<IPython.core.display.HTML object>"
            ]
          },
          "metadata": {},
          "output_type": "display_data"
        },
        {
          "data": {
            "text/html": [
              "Syncing run <strong><a href='https://wandb.ai/cs22m019/DL%20Final%20Assignment%201/runs/mtj7ydle' target=\"_blank\">lilac-sweep-4</a></strong> to <a href='https://wandb.ai/cs22m019/DL%20Final%20Assignment%201' target=\"_blank\">Weights & Biases</a> (<a href='https://wandb.me/run' target=\"_blank\">docs</a>)<br/>Sweep page: <a href='https://wandb.ai/cs22m019/DL%20Final%20Assignment%201/sweeps/eayjxkwm' target=\"_blank\">https://wandb.ai/cs22m019/DL%20Final%20Assignment%201/sweeps/eayjxkwm</a>"
            ],
            "text/plain": [
              "<IPython.core.display.HTML object>"
            ]
          },
          "metadata": {},
          "output_type": "display_data"
        },
        {
          "data": {
            "text/html": [
              " View project at <a href='https://wandb.ai/cs22m019/DL%20Final%20Assignment%201' target=\"_blank\">https://wandb.ai/cs22m019/DL%20Final%20Assignment%201</a>"
            ],
            "text/plain": [
              "<IPython.core.display.HTML object>"
            ]
          },
          "metadata": {},
          "output_type": "display_data"
        },
        {
          "data": {
            "text/html": [
              " View sweep at <a href='https://wandb.ai/cs22m019/DL%20Final%20Assignment%201/sweeps/eayjxkwm' target=\"_blank\">https://wandb.ai/cs22m019/DL%20Final%20Assignment%201/sweeps/eayjxkwm</a>"
            ],
            "text/plain": [
              "<IPython.core.display.HTML object>"
            ]
          },
          "metadata": {},
          "output_type": "display_data"
        },
        {
          "data": {
            "text/html": [
              " View run at <a href='https://wandb.ai/cs22m019/DL%20Final%20Assignment%201/runs/mtj7ydle' target=\"_blank\">https://wandb.ai/cs22m019/DL%20Final%20Assignment%201/runs/mtj7ydle</a>"
            ],
            "text/plain": [
              "<IPython.core.display.HTML object>"
            ]
          },
          "metadata": {},
          "output_type": "display_data"
        },
        {
          "name": "stdout",
          "output_type": "stream",
          "text": [
            "epoch:1, train loss:2.8290512481780894, train accuracy:0.11638888888888889, validation loss:2.514173143109429, validation accuracy:0.1545\n",
            "epoch:2, train loss:2.4131067235706967, train accuracy:0.16190740740740742, validation loss:2.3459861762517034, validation accuracy:0.17066666666666666\n",
            "epoch:3, train loss:2.3144409780229522, train accuracy:0.1774074074074074, validation loss:2.291779711914448, validation accuracy:0.18416666666666667\n",
            "epoch:4, train loss:2.2788259045678743, train accuracy:0.18748148148148147, validation loss:2.26914165938633, validation accuracy:0.18716666666666668\n",
            "epoch:5, train loss:2.261886052129084, train accuracy:0.18851851851851853, validation loss:2.2562513603103063, validation accuracy:0.18633333333333332\n",
            "epoch:6, train loss:2.2502314170408573, train accuracy:0.20096296296296295, validation loss:2.2458008657585804, validation accuracy:0.20533333333333334\n",
            "epoch:7, train loss:2.2396713451695773, train accuracy:0.22872222222222222, validation loss:2.235486120284857, validation accuracy:0.2315\n",
            "epoch:8, train loss:2.229089475087513, train accuracy:0.25307407407407406, validation loss:2.2251270572738497, validation accuracy:0.26466666666666666\n",
            "epoch:9, train loss:2.2180978708407086, train accuracy:0.28225925925925927, validation loss:2.214160022332018, validation accuracy:0.2885\n",
            "epoch:10, train loss:2.206586172851975, train accuracy:0.30416666666666664, validation loss:2.202671674923103, validation accuracy:0.30933333333333335\n"
          ]
        },
        {
          "data": {
            "text/html": [
              "Waiting for W&B process to finish... <strong style=\"color:green\">(success).</strong>"
            ],
            "text/plain": [
              "<IPython.core.display.HTML object>"
            ]
          },
          "metadata": {},
          "output_type": "display_data"
        },
        {
          "data": {
            "text/html": [
              "<style>\n",
              "    table.wandb td:nth-child(1) { padding: 0 10px; text-align: left ; width: auto;} td:nth-child(2) {text-align: left ; width: 100%}\n",
              "    .wandb-row { display: flex; flex-direction: row; flex-wrap: wrap; justify-content: flex-start; width: 100% }\n",
              "    .wandb-col { display: flex; flex-direction: column; flex-basis: 100%; flex: 1; padding: 10px; }\n",
              "    </style>\n",
              "<div class=\"wandb-row\"><div class=\"wandb-col\"><h3>Run history:</h3><br/><table class=\"wandb\"><tr><td>train accuracy</td><td>▁▃▃▄▄▄▅▆▇█</td></tr><tr><td>train loss</td><td>█▃▂▂▂▁▁▁▁▁</td></tr><tr><td>validation accuracy</td><td>▁▂▂▂▂▃▄▆▇█</td></tr><tr><td>validation loss</td><td>█▄▃▂▂▂▂▂▁▁</td></tr></table><br/></div><div class=\"wandb-col\"><h3>Run summary:</h3><br/><table class=\"wandb\"><tr><td>train accuracy</td><td>0.30417</td></tr><tr><td>train loss</td><td>2.20659</td></tr><tr><td>validation accuracy</td><td>0.30933</td></tr><tr><td>validation loss</td><td>2.20267</td></tr></table><br/></div></div>"
            ],
            "text/plain": [
              "<IPython.core.display.HTML object>"
            ]
          },
          "metadata": {},
          "output_type": "display_data"
        },
        {
          "data": {
            "text/html": [
              " View run <strong style=\"color:#cdcd00\">lilac-sweep-4</strong> at: <a href='https://wandb.ai/cs22m019/DL%20Final%20Assignment%201/runs/mtj7ydle' target=\"_blank\">https://wandb.ai/cs22m019/DL%20Final%20Assignment%201/runs/mtj7ydle</a><br/>Synced 6 W&B file(s), 0 media file(s), 0 artifact file(s) and 0 other file(s)"
            ],
            "text/plain": [
              "<IPython.core.display.HTML object>"
            ]
          },
          "metadata": {},
          "output_type": "display_data"
        },
        {
          "data": {
            "text/html": [
              "Find logs at: <code>.\\wandb\\run-20230310_011549-mtj7ydle\\logs</code>"
            ],
            "text/plain": [
              "<IPython.core.display.HTML object>"
            ]
          },
          "metadata": {},
          "output_type": "display_data"
        },
        {
          "name": "stderr",
          "output_type": "stream",
          "text": [
            "\u001b[34m\u001b[1mwandb\u001b[0m: Sweep Agent: Waiting for job.\n",
            "\u001b[34m\u001b[1mwandb\u001b[0m: Job received.\n",
            "\u001b[34m\u001b[1mwandb\u001b[0m: Agent Starting Run: gpaxubnw with config:\n",
            "\u001b[34m\u001b[1mwandb\u001b[0m: \tactivation: ReLU\n",
            "\u001b[34m\u001b[1mwandb\u001b[0m: \tbatch_size: 16\n",
            "\u001b[34m\u001b[1mwandb\u001b[0m: \tepochs: 10\n",
            "\u001b[34m\u001b[1mwandb\u001b[0m: \tlearning_rate: 0.0001\n",
            "\u001b[34m\u001b[1mwandb\u001b[0m: \tnumber_of_hidden_layer: 4\n",
            "\u001b[34m\u001b[1mwandb\u001b[0m: \toptimizer: nestrov\n",
            "\u001b[34m\u001b[1mwandb\u001b[0m: \tsize_of_hidden_layer: 64\n",
            "\u001b[34m\u001b[1mwandb\u001b[0m: \tweight_decay: 0\n",
            "\u001b[34m\u001b[1mwandb\u001b[0m: \tweight_initialization: Xavier\n"
          ]
        },
        {
          "data": {
            "text/html": [
              "Tracking run with wandb version 0.13.11"
            ],
            "text/plain": [
              "<IPython.core.display.HTML object>"
            ]
          },
          "metadata": {},
          "output_type": "display_data"
        },
        {
          "data": {
            "text/html": [
              "Run data is saved locally in <code>C:\\Users\\DELL\\Desktop\\wandb\\run-20230310_011742-gpaxubnw</code>"
            ],
            "text/plain": [
              "<IPython.core.display.HTML object>"
            ]
          },
          "metadata": {},
          "output_type": "display_data"
        },
        {
          "data": {
            "text/html": [
              "Syncing run <strong><a href='https://wandb.ai/cs22m019/DL%20Final%20Assignment%201/runs/gpaxubnw' target=\"_blank\">balmy-sweep-5</a></strong> to <a href='https://wandb.ai/cs22m019/DL%20Final%20Assignment%201' target=\"_blank\">Weights & Biases</a> (<a href='https://wandb.me/run' target=\"_blank\">docs</a>)<br/>Sweep page: <a href='https://wandb.ai/cs22m019/DL%20Final%20Assignment%201/sweeps/eayjxkwm' target=\"_blank\">https://wandb.ai/cs22m019/DL%20Final%20Assignment%201/sweeps/eayjxkwm</a>"
            ],
            "text/plain": [
              "<IPython.core.display.HTML object>"
            ]
          },
          "metadata": {},
          "output_type": "display_data"
        },
        {
          "data": {
            "text/html": [
              " View project at <a href='https://wandb.ai/cs22m019/DL%20Final%20Assignment%201' target=\"_blank\">https://wandb.ai/cs22m019/DL%20Final%20Assignment%201</a>"
            ],
            "text/plain": [
              "<IPython.core.display.HTML object>"
            ]
          },
          "metadata": {},
          "output_type": "display_data"
        },
        {
          "data": {
            "text/html": [
              " View sweep at <a href='https://wandb.ai/cs22m019/DL%20Final%20Assignment%201/sweeps/eayjxkwm' target=\"_blank\">https://wandb.ai/cs22m019/DL%20Final%20Assignment%201/sweeps/eayjxkwm</a>"
            ],
            "text/plain": [
              "<IPython.core.display.HTML object>"
            ]
          },
          "metadata": {},
          "output_type": "display_data"
        },
        {
          "data": {
            "text/html": [
              " View run at <a href='https://wandb.ai/cs22m019/DL%20Final%20Assignment%201/runs/gpaxubnw' target=\"_blank\">https://wandb.ai/cs22m019/DL%20Final%20Assignment%201/runs/gpaxubnw</a>"
            ],
            "text/plain": [
              "<IPython.core.display.HTML object>"
            ]
          },
          "metadata": {},
          "output_type": "display_data"
        },
        {
          "name": "stdout",
          "output_type": "stream",
          "text": [
            "epoch:1, train loss:2.348943569671913, train accuracy:0.16742592592592592, validation loss:2.2364740116138346, validation accuracy:0.21583333333333332\n",
            "epoch:2, train loss:2.1127918593523183, train accuracy:0.31294444444444447, validation loss:2.0074516821657715, validation accuracy:0.33316666666666667\n",
            "epoch:3, train loss:1.8930694265878776, train accuracy:0.3680925925925926, validation loss:1.7949629460487817, validation accuracy:0.3908333333333333\n",
            "epoch:4, train loss:1.6875533534821265, train accuracy:0.42924074074074076, validation loss:1.5990277795172883, validation accuracy:0.4696666666666667\n",
            "epoch:5, train loss:1.4991921993149164, train accuracy:0.5230555555555556, validation loss:1.4225221764016347, validation accuracy:0.5653333333333334\n",
            "epoch:6, train loss:1.3340490540817234, train accuracy:0.5881481481481482, validation loss:1.2724074289263487, validation accuracy:0.612\n",
            "epoch:7, train loss:1.1986832788893533, train accuracy:0.6268333333333334, validation loss:1.1528955015863307, validation accuracy:0.6403333333333333\n",
            "epoch:8, train loss:1.0926962245156546, train accuracy:0.6548333333333334, validation loss:1.060243745600847, validation accuracy:0.6671666666666667\n",
            "epoch:9, train loss:1.0113313307522955, train accuracy:0.6775, validation loss:0.9903266597967321, validation accuracy:0.685\n",
            "epoch:10, train loss:0.9487900948105985, train accuracy:0.6935185185185185, validation loss:0.9339186032597234, validation accuracy:0.6991666666666667\n"
          ]
        },
        {
          "data": {
            "text/html": [
              "Waiting for W&B process to finish... <strong style=\"color:green\">(success).</strong>"
            ],
            "text/plain": [
              "<IPython.core.display.HTML object>"
            ]
          },
          "metadata": {},
          "output_type": "display_data"
        },
        {
          "data": {
            "application/vnd.jupyter.widget-view+json": {
              "model_id": "e8710094700144c59e0887e868fb6fd2",
              "version_major": 2,
              "version_minor": 0
            },
            "text/plain": [
              "VBox(children=(Label(value='0.001 MB of 0.001 MB uploaded (0.000 MB deduped)\\r'), FloatProgress(value=1.0, max…"
            ]
          },
          "metadata": {},
          "output_type": "display_data"
        },
        {
          "data": {
            "text/html": [
              "<style>\n",
              "    table.wandb td:nth-child(1) { padding: 0 10px; text-align: left ; width: auto;} td:nth-child(2) {text-align: left ; width: 100%}\n",
              "    .wandb-row { display: flex; flex-direction: row; flex-wrap: wrap; justify-content: flex-start; width: 100% }\n",
              "    .wandb-col { display: flex; flex-direction: column; flex-basis: 100%; flex: 1; padding: 10px; }\n",
              "    </style>\n",
              "<div class=\"wandb-row\"><div class=\"wandb-col\"><h3>Run history:</h3><br/><table class=\"wandb\"><tr><td>train accuracy</td><td>▁▃▄▄▆▇▇▇██</td></tr><tr><td>train loss</td><td>█▇▆▅▄▃▂▂▁▁</td></tr><tr><td>validation accuracy</td><td>▁▃▄▅▆▇▇███</td></tr><tr><td>validation loss</td><td>█▇▆▅▄▃▂▂▁▁</td></tr></table><br/></div><div class=\"wandb-col\"><h3>Run summary:</h3><br/><table class=\"wandb\"><tr><td>train accuracy</td><td>0.69352</td></tr><tr><td>train loss</td><td>0.94879</td></tr><tr><td>validation accuracy</td><td>0.69917</td></tr><tr><td>validation loss</td><td>0.93392</td></tr></table><br/></div></div>"
            ],
            "text/plain": [
              "<IPython.core.display.HTML object>"
            ]
          },
          "metadata": {},
          "output_type": "display_data"
        },
        {
          "data": {
            "text/html": [
              " View run <strong style=\"color:#cdcd00\">balmy-sweep-5</strong> at: <a href='https://wandb.ai/cs22m019/DL%20Final%20Assignment%201/runs/gpaxubnw' target=\"_blank\">https://wandb.ai/cs22m019/DL%20Final%20Assignment%201/runs/gpaxubnw</a><br/>Synced 6 W&B file(s), 0 media file(s), 0 artifact file(s) and 0 other file(s)"
            ],
            "text/plain": [
              "<IPython.core.display.HTML object>"
            ]
          },
          "metadata": {},
          "output_type": "display_data"
        },
        {
          "data": {
            "text/html": [
              "Find logs at: <code>.\\wandb\\run-20230310_011742-gpaxubnw\\logs</code>"
            ],
            "text/plain": [
              "<IPython.core.display.HTML object>"
            ]
          },
          "metadata": {},
          "output_type": "display_data"
        },
        {
          "name": "stderr",
          "output_type": "stream",
          "text": [
            "\u001b[34m\u001b[1mwandb\u001b[0m: Agent Starting Run: gg64hfxg with config:\n",
            "\u001b[34m\u001b[1mwandb\u001b[0m: \tactivation: tanh\n",
            "\u001b[34m\u001b[1mwandb\u001b[0m: \tbatch_size: 64\n",
            "\u001b[34m\u001b[1mwandb\u001b[0m: \tepochs: 10\n",
            "\u001b[34m\u001b[1mwandb\u001b[0m: \tlearning_rate: 0.0001\n",
            "\u001b[34m\u001b[1mwandb\u001b[0m: \tnumber_of_hidden_layer: 4\n",
            "\u001b[34m\u001b[1mwandb\u001b[0m: \toptimizer: adam\n",
            "\u001b[34m\u001b[1mwandb\u001b[0m: \tsize_of_hidden_layer: 32\n",
            "\u001b[34m\u001b[1mwandb\u001b[0m: \tweight_decay: 0.0005\n",
            "\u001b[34m\u001b[1mwandb\u001b[0m: \tweight_initialization: random\n"
          ]
        },
        {
          "data": {
            "application/vnd.jupyter.widget-view+json": {
              "model_id": "f81ddbd0d3934ea9b1160be718e4f7ff",
              "version_major": 2,
              "version_minor": 0
            },
            "text/plain": [
              "VBox(children=(Label(value='Waiting for wandb.init()...\\r'), FloatProgress(value=0.01718333333337796, max=1.0)…"
            ]
          },
          "metadata": {},
          "output_type": "display_data"
        },
        {
          "data": {
            "text/html": [
              "Tracking run with wandb version 0.13.11"
            ],
            "text/plain": [
              "<IPython.core.display.HTML object>"
            ]
          },
          "metadata": {},
          "output_type": "display_data"
        },
        {
          "data": {
            "text/html": [
              "Run data is saved locally in <code>C:\\Users\\DELL\\Desktop\\wandb\\run-20230310_012031-gg64hfxg</code>"
            ],
            "text/plain": [
              "<IPython.core.display.HTML object>"
            ]
          },
          "metadata": {},
          "output_type": "display_data"
        },
        {
          "data": {
            "text/html": [
              "Syncing run <strong><a href='https://wandb.ai/cs22m019/DL%20Final%20Assignment%201/runs/gg64hfxg' target=\"_blank\">vibrant-sweep-6</a></strong> to <a href='https://wandb.ai/cs22m019/DL%20Final%20Assignment%201' target=\"_blank\">Weights & Biases</a> (<a href='https://wandb.me/run' target=\"_blank\">docs</a>)<br/>Sweep page: <a href='https://wandb.ai/cs22m019/DL%20Final%20Assignment%201/sweeps/eayjxkwm' target=\"_blank\">https://wandb.ai/cs22m019/DL%20Final%20Assignment%201/sweeps/eayjxkwm</a>"
            ],
            "text/plain": [
              "<IPython.core.display.HTML object>"
            ]
          },
          "metadata": {},
          "output_type": "display_data"
        },
        {
          "data": {
            "text/html": [
              " View project at <a href='https://wandb.ai/cs22m019/DL%20Final%20Assignment%201' target=\"_blank\">https://wandb.ai/cs22m019/DL%20Final%20Assignment%201</a>"
            ],
            "text/plain": [
              "<IPython.core.display.HTML object>"
            ]
          },
          "metadata": {},
          "output_type": "display_data"
        },
        {
          "data": {
            "text/html": [
              " View sweep at <a href='https://wandb.ai/cs22m019/DL%20Final%20Assignment%201/sweeps/eayjxkwm' target=\"_blank\">https://wandb.ai/cs22m019/DL%20Final%20Assignment%201/sweeps/eayjxkwm</a>"
            ],
            "text/plain": [
              "<IPython.core.display.HTML object>"
            ]
          },
          "metadata": {},
          "output_type": "display_data"
        },
        {
          "data": {
            "text/html": [
              " View run at <a href='https://wandb.ai/cs22m019/DL%20Final%20Assignment%201/runs/gg64hfxg' target=\"_blank\">https://wandb.ai/cs22m019/DL%20Final%20Assignment%201/runs/gg64hfxg</a>"
            ],
            "text/plain": [
              "<IPython.core.display.HTML object>"
            ]
          },
          "metadata": {},
          "output_type": "display_data"
        },
        {
          "name": "stdout",
          "output_type": "stream",
          "text": [
            "epoch:1, train loss:3.8477568106924775, train accuracy:0.1287962962962963, validation loss:3.8217363666158572, validation accuracy:0.137\n",
            "epoch:2, train loss:3.727130290213669, train accuracy:0.1392962962962963, validation loss:3.7074827392317036, validation accuracy:0.147\n",
            "epoch:3, train loss:3.617048166668471, train accuracy:0.14831481481481482, validation loss:3.5983297714212004, validation accuracy:0.1565\n",
            "epoch:4, train loss:3.511323560966938, train accuracy:0.15772222222222224, validation loss:3.4917293294479452, validation accuracy:0.1665\n",
            "epoch:5, train loss:3.409960766942312, train accuracy:0.1671111111111111, validation loss:3.386742538936665, validation accuracy:0.174\n",
            "epoch:6, train loss:3.3126933591135286, train accuracy:0.17642592592592593, validation loss:3.2848733586250054, validation accuracy:0.18616666666666667\n",
            "epoch:7, train loss:3.220084876835263, train accuracy:0.1847962962962963, validation loss:3.186725698959893, validation accuracy:0.19483333333333333\n",
            "epoch:8, train loss:3.131770313105429, train accuracy:0.19340740740740742, validation loss:3.0939235680435724, validation accuracy:0.20483333333333334\n",
            "epoch:9, train loss:3.0471729753908745, train accuracy:0.20283333333333334, validation loss:3.006163799560613, validation accuracy:0.21016666666666667\n",
            "epoch:10, train loss:2.9661274388610366, train accuracy:0.21255555555555555, validation loss:2.9244531216002896, validation accuracy:0.218\n"
          ]
        },
        {
          "data": {
            "text/html": [
              "Waiting for W&B process to finish... <strong style=\"color:green\">(success).</strong>"
            ],
            "text/plain": [
              "<IPython.core.display.HTML object>"
            ]
          },
          "metadata": {},
          "output_type": "display_data"
        },
        {
          "data": {
            "text/html": [
              "<style>\n",
              "    table.wandb td:nth-child(1) { padding: 0 10px; text-align: left ; width: auto;} td:nth-child(2) {text-align: left ; width: 100%}\n",
              "    .wandb-row { display: flex; flex-direction: row; flex-wrap: wrap; justify-content: flex-start; width: 100% }\n",
              "    .wandb-col { display: flex; flex-direction: column; flex-basis: 100%; flex: 1; padding: 10px; }\n",
              "    </style>\n",
              "<div class=\"wandb-row\"><div class=\"wandb-col\"><h3>Run history:</h3><br/><table class=\"wandb\"><tr><td>train accuracy</td><td>▁▂▃▃▄▅▆▆▇█</td></tr><tr><td>train loss</td><td>█▇▆▅▅▄▃▂▂▁</td></tr><tr><td>validation accuracy</td><td>▁▂▃▄▄▅▆▇▇█</td></tr><tr><td>validation loss</td><td>█▇▆▅▅▄▃▂▂▁</td></tr></table><br/></div><div class=\"wandb-col\"><h3>Run summary:</h3><br/><table class=\"wandb\"><tr><td>train accuracy</td><td>0.21256</td></tr><tr><td>train loss</td><td>2.96613</td></tr><tr><td>validation accuracy</td><td>0.218</td></tr><tr><td>validation loss</td><td>2.92445</td></tr></table><br/></div></div>"
            ],
            "text/plain": [
              "<IPython.core.display.HTML object>"
            ]
          },
          "metadata": {},
          "output_type": "display_data"
        },
        {
          "data": {
            "text/html": [
              " View run <strong style=\"color:#cdcd00\">vibrant-sweep-6</strong> at: <a href='https://wandb.ai/cs22m019/DL%20Final%20Assignment%201/runs/gg64hfxg' target=\"_blank\">https://wandb.ai/cs22m019/DL%20Final%20Assignment%201/runs/gg64hfxg</a><br/>Synced 6 W&B file(s), 0 media file(s), 0 artifact file(s) and 0 other file(s)"
            ],
            "text/plain": [
              "<IPython.core.display.HTML object>"
            ]
          },
          "metadata": {},
          "output_type": "display_data"
        },
        {
          "data": {
            "text/html": [
              "Find logs at: <code>.\\wandb\\run-20230310_012031-gg64hfxg\\logs</code>"
            ],
            "text/plain": [
              "<IPython.core.display.HTML object>"
            ]
          },
          "metadata": {},
          "output_type": "display_data"
        },
        {
          "name": "stderr",
          "output_type": "stream",
          "text": [
            "\u001b[34m\u001b[1mwandb\u001b[0m: Agent Starting Run: uuetym6i with config:\n",
            "\u001b[34m\u001b[1mwandb\u001b[0m: \tactivation: ReLU\n",
            "\u001b[34m\u001b[1mwandb\u001b[0m: \tbatch_size: 64\n",
            "\u001b[34m\u001b[1mwandb\u001b[0m: \tepochs: 10\n",
            "\u001b[34m\u001b[1mwandb\u001b[0m: \tlearning_rate: 0.001\n",
            "\u001b[34m\u001b[1mwandb\u001b[0m: \tnumber_of_hidden_layer: 3\n",
            "\u001b[34m\u001b[1mwandb\u001b[0m: \toptimizer: nadam\n",
            "\u001b[34m\u001b[1mwandb\u001b[0m: \tsize_of_hidden_layer: 32\n",
            "\u001b[34m\u001b[1mwandb\u001b[0m: \tweight_decay: 0.5\n",
            "\u001b[34m\u001b[1mwandb\u001b[0m: \tweight_initialization: random\n"
          ]
        },
        {
          "data": {
            "text/html": [
              "Tracking run with wandb version 0.13.11"
            ],
            "text/plain": [
              "<IPython.core.display.HTML object>"
            ]
          },
          "metadata": {},
          "output_type": "display_data"
        },
        {
          "data": {
            "text/html": [
              "Run data is saved locally in <code>C:\\Users\\DELL\\Desktop\\wandb\\run-20230310_012212-uuetym6i</code>"
            ],
            "text/plain": [
              "<IPython.core.display.HTML object>"
            ]
          },
          "metadata": {},
          "output_type": "display_data"
        },
        {
          "data": {
            "text/html": [
              "Syncing run <strong><a href='https://wandb.ai/cs22m019/DL%20Final%20Assignment%201/runs/uuetym6i' target=\"_blank\">royal-sweep-7</a></strong> to <a href='https://wandb.ai/cs22m019/DL%20Final%20Assignment%201' target=\"_blank\">Weights & Biases</a> (<a href='https://wandb.me/run' target=\"_blank\">docs</a>)<br/>Sweep page: <a href='https://wandb.ai/cs22m019/DL%20Final%20Assignment%201/sweeps/eayjxkwm' target=\"_blank\">https://wandb.ai/cs22m019/DL%20Final%20Assignment%201/sweeps/eayjxkwm</a>"
            ],
            "text/plain": [
              "<IPython.core.display.HTML object>"
            ]
          },
          "metadata": {},
          "output_type": "display_data"
        },
        {
          "data": {
            "text/html": [
              " View project at <a href='https://wandb.ai/cs22m019/DL%20Final%20Assignment%201' target=\"_blank\">https://wandb.ai/cs22m019/DL%20Final%20Assignment%201</a>"
            ],
            "text/plain": [
              "<IPython.core.display.HTML object>"
            ]
          },
          "metadata": {},
          "output_type": "display_data"
        },
        {
          "data": {
            "text/html": [
              " View sweep at <a href='https://wandb.ai/cs22m019/DL%20Final%20Assignment%201/sweeps/eayjxkwm' target=\"_blank\">https://wandb.ai/cs22m019/DL%20Final%20Assignment%201/sweeps/eayjxkwm</a>"
            ],
            "text/plain": [
              "<IPython.core.display.HTML object>"
            ]
          },
          "metadata": {},
          "output_type": "display_data"
        },
        {
          "data": {
            "text/html": [
              " View run at <a href='https://wandb.ai/cs22m019/DL%20Final%20Assignment%201/runs/uuetym6i' target=\"_blank\">https://wandb.ai/cs22m019/DL%20Final%20Assignment%201/runs/uuetym6i</a>"
            ],
            "text/plain": [
              "<IPython.core.display.HTML object>"
            ]
          },
          "metadata": {},
          "output_type": "display_data"
        },
        {
          "name": "stdout",
          "output_type": "stream",
          "text": [
            "epoch:1, train loss:13.842913611646214, train accuracy:0.13112962962962962, validation loss:11.894514711020648, validation accuracy:0.14233333333333334\n",
            "epoch:2, train loss:9.663614192417326, train accuracy:0.1792037037037037, validation loss:7.54954754121756, validation accuracy:0.23433333333333334\n",
            "epoch:3, train loss:6.464175905341793, train accuracy:0.2828333333333333, validation loss:5.430511114397283, validation accuracy:0.3318333333333333\n",
            "epoch:4, train loss:4.941593743362424, train accuracy:0.36227777777777775, validation loss:4.347766261289536, validation accuracy:0.3978333333333333\n",
            "epoch:5, train loss:4.074216697769403, train accuracy:0.41555555555555557, validation loss:3.692230678912875, validation accuracy:0.4405\n",
            "epoch:6, train loss:3.5149645694099223, train accuracy:0.4551851851851852, validation loss:3.2552772250970277, validation accuracy:0.4708333333333333\n",
            "epoch:7, train loss:3.1214084101341193, train accuracy:0.4852962962962963, validation loss:2.943241960163979, validation accuracy:0.49616666666666664\n",
            "epoch:8, train loss:2.835167751916988, train accuracy:0.5087407407407407, validation loss:2.7080523240540555, validation accuracy:0.5188333333333334\n",
            "epoch:9, train loss:2.6202488406356603, train accuracy:0.5288518518518519, validation loss:2.523958142524104, validation accuracy:0.5348333333333334\n",
            "epoch:10, train loss:2.455496764268701, train accuracy:0.5458703703703703, validation loss:2.3784916436356167, validation accuracy:0.5493333333333333\n"
          ]
        },
        {
          "data": {
            "text/html": [
              "Waiting for W&B process to finish... <strong style=\"color:green\">(success).</strong>"
            ],
            "text/plain": [
              "<IPython.core.display.HTML object>"
            ]
          },
          "metadata": {},
          "output_type": "display_data"
        },
        {
          "data": {
            "application/vnd.jupyter.widget-view+json": {
              "model_id": "a10f72ebde934be8becde59280244417",
              "version_major": 2,
              "version_minor": 0
            },
            "text/plain": [
              "VBox(children=(Label(value='0.001 MB of 0.001 MB uploaded (0.000 MB deduped)\\r'), FloatProgress(value=1.0, max…"
            ]
          },
          "metadata": {},
          "output_type": "display_data"
        },
        {
          "data": {
            "text/html": [
              "<style>\n",
              "    table.wandb td:nth-child(1) { padding: 0 10px; text-align: left ; width: auto;} td:nth-child(2) {text-align: left ; width: 100%}\n",
              "    .wandb-row { display: flex; flex-direction: row; flex-wrap: wrap; justify-content: flex-start; width: 100% }\n",
              "    .wandb-col { display: flex; flex-direction: column; flex-basis: 100%; flex: 1; padding: 10px; }\n",
              "    </style>\n",
              "<div class=\"wandb-row\"><div class=\"wandb-col\"><h3>Run history:</h3><br/><table class=\"wandb\"><tr><td>train accuracy</td><td>▁▂▄▅▆▆▇▇██</td></tr><tr><td>train loss</td><td>█▅▃▃▂▂▁▁▁▁</td></tr><tr><td>validation accuracy</td><td>▁▃▄▅▆▇▇▇██</td></tr><tr><td>validation loss</td><td>█▅▃▂▂▂▁▁▁▁</td></tr></table><br/></div><div class=\"wandb-col\"><h3>Run summary:</h3><br/><table class=\"wandb\"><tr><td>train accuracy</td><td>0.54587</td></tr><tr><td>train loss</td><td>2.4555</td></tr><tr><td>validation accuracy</td><td>0.54933</td></tr><tr><td>validation loss</td><td>2.37849</td></tr></table><br/></div></div>"
            ],
            "text/plain": [
              "<IPython.core.display.HTML object>"
            ]
          },
          "metadata": {},
          "output_type": "display_data"
        },
        {
          "data": {
            "text/html": [
              " View run <strong style=\"color:#cdcd00\">royal-sweep-7</strong> at: <a href='https://wandb.ai/cs22m019/DL%20Final%20Assignment%201/runs/uuetym6i' target=\"_blank\">https://wandb.ai/cs22m019/DL%20Final%20Assignment%201/runs/uuetym6i</a><br/>Synced 6 W&B file(s), 0 media file(s), 0 artifact file(s) and 0 other file(s)"
            ],
            "text/plain": [
              "<IPython.core.display.HTML object>"
            ]
          },
          "metadata": {},
          "output_type": "display_data"
        },
        {
          "data": {
            "text/html": [
              "Find logs at: <code>.\\wandb\\run-20230310_012212-uuetym6i\\logs</code>"
            ],
            "text/plain": [
              "<IPython.core.display.HTML object>"
            ]
          },
          "metadata": {},
          "output_type": "display_data"
        },
        {
          "name": "stderr",
          "output_type": "stream",
          "text": [
            "\u001b[34m\u001b[1mwandb\u001b[0m: Agent Starting Run: 4nuyc05e with config:\n",
            "\u001b[34m\u001b[1mwandb\u001b[0m: \tactivation: ReLU\n",
            "\u001b[34m\u001b[1mwandb\u001b[0m: \tbatch_size: 16\n",
            "\u001b[34m\u001b[1mwandb\u001b[0m: \tepochs: 10\n",
            "\u001b[34m\u001b[1mwandb\u001b[0m: \tlearning_rate: 0.0001\n",
            "\u001b[34m\u001b[1mwandb\u001b[0m: \tnumber_of_hidden_layer: 3\n",
            "\u001b[34m\u001b[1mwandb\u001b[0m: \toptimizer: adam\n",
            "\u001b[34m\u001b[1mwandb\u001b[0m: \tsize_of_hidden_layer: 128\n",
            "\u001b[34m\u001b[1mwandb\u001b[0m: \tweight_decay: 0.0005\n",
            "\u001b[34m\u001b[1mwandb\u001b[0m: \tweight_initialization: random\n"
          ]
        },
        {
          "data": {
            "text/html": [
              "Tracking run with wandb version 0.13.11"
            ],
            "text/plain": [
              "<IPython.core.display.HTML object>"
            ]
          },
          "metadata": {},
          "output_type": "display_data"
        },
        {
          "data": {
            "text/html": [
              "Run data is saved locally in <code>C:\\Users\\DELL\\Desktop\\wandb\\run-20230310_012348-4nuyc05e</code>"
            ],
            "text/plain": [
              "<IPython.core.display.HTML object>"
            ]
          },
          "metadata": {},
          "output_type": "display_data"
        },
        {
          "data": {
            "text/html": [
              "Syncing run <strong><a href='https://wandb.ai/cs22m019/DL%20Final%20Assignment%201/runs/4nuyc05e' target=\"_blank\">honest-sweep-8</a></strong> to <a href='https://wandb.ai/cs22m019/DL%20Final%20Assignment%201' target=\"_blank\">Weights & Biases</a> (<a href='https://wandb.me/run' target=\"_blank\">docs</a>)<br/>Sweep page: <a href='https://wandb.ai/cs22m019/DL%20Final%20Assignment%201/sweeps/eayjxkwm' target=\"_blank\">https://wandb.ai/cs22m019/DL%20Final%20Assignment%201/sweeps/eayjxkwm</a>"
            ],
            "text/plain": [
              "<IPython.core.display.HTML object>"
            ]
          },
          "metadata": {},
          "output_type": "display_data"
        },
        {
          "data": {
            "text/html": [
              " View project at <a href='https://wandb.ai/cs22m019/DL%20Final%20Assignment%201' target=\"_blank\">https://wandb.ai/cs22m019/DL%20Final%20Assignment%201</a>"
            ],
            "text/plain": [
              "<IPython.core.display.HTML object>"
            ]
          },
          "metadata": {},
          "output_type": "display_data"
        },
        {
          "data": {
            "text/html": [
              " View sweep at <a href='https://wandb.ai/cs22m019/DL%20Final%20Assignment%201/sweeps/eayjxkwm' target=\"_blank\">https://wandb.ai/cs22m019/DL%20Final%20Assignment%201/sweeps/eayjxkwm</a>"
            ],
            "text/plain": [
              "<IPython.core.display.HTML object>"
            ]
          },
          "metadata": {},
          "output_type": "display_data"
        },
        {
          "data": {
            "text/html": [
              " View run at <a href='https://wandb.ai/cs22m019/DL%20Final%20Assignment%201/runs/4nuyc05e' target=\"_blank\">https://wandb.ai/cs22m019/DL%20Final%20Assignment%201/runs/4nuyc05e</a>"
            ],
            "text/plain": [
              "<IPython.core.display.HTML object>"
            ]
          },
          "metadata": {},
          "output_type": "display_data"
        },
        {
          "name": "stdout",
          "output_type": "stream",
          "text": [
            "epoch:1, train loss:15.198419391291157, train accuracy:0.16127777777777777, validation loss:12.017122215482166, validation accuracy:0.324\n",
            "epoch:2, train loss:10.413269169982343, train accuracy:0.4080740740740741, validation loss:9.008316092785739, validation accuracy:0.48183333333333334\n",
            "epoch:3, train loss:8.294774028153016, train accuracy:0.5215, validation loss:7.603201494881662, validation accuracy:0.5565\n",
            "epoch:4, train loss:7.196939505456183, train accuracy:0.5811666666666667, validation loss:6.831999779330433, validation accuracy:0.6015\n",
            "epoch:5, train loss:6.544271799674202, train accuracy:0.616574074074074, validation loss:6.317180809969057, validation accuracy:0.6251666666666666\n",
            "epoch:6, train loss:6.105513865649647, train accuracy:0.6382777777777778, validation loss:5.936896479717863, validation accuracy:0.6448333333333334\n",
            "epoch:7, train loss:5.76679056765485, train accuracy:0.6563518518518519, validation loss:5.717375599690552, validation accuracy:0.6595\n",
            "epoch:8, train loss:5.5021635980819505, train accuracy:0.6712222222222223, validation loss:5.507545875960127, validation accuracy:0.6688333333333333\n",
            "epoch:9, train loss:5.300182171647058, train accuracy:0.6810925925925926, validation loss:5.388245906466203, validation accuracy:0.6763333333333333\n",
            "epoch:10, train loss:5.129466201650338, train accuracy:0.6905370370370371, validation loss:5.234135160684141, validation accuracy:0.6858333333333333\n"
          ]
        },
        {
          "data": {
            "text/html": [
              "Waiting for W&B process to finish... <strong style=\"color:green\">(success).</strong>"
            ],
            "text/plain": [
              "<IPython.core.display.HTML object>"
            ]
          },
          "metadata": {},
          "output_type": "display_data"
        },
        {
          "data": {
            "text/html": [
              "<style>\n",
              "    table.wandb td:nth-child(1) { padding: 0 10px; text-align: left ; width: auto;} td:nth-child(2) {text-align: left ; width: 100%}\n",
              "    .wandb-row { display: flex; flex-direction: row; flex-wrap: wrap; justify-content: flex-start; width: 100% }\n",
              "    .wandb-col { display: flex; flex-direction: column; flex-basis: 100%; flex: 1; padding: 10px; }\n",
              "    </style>\n",
              "<div class=\"wandb-row\"><div class=\"wandb-col\"><h3>Run history:</h3><br/><table class=\"wandb\"><tr><td>train accuracy</td><td>▁▄▆▇▇▇████</td></tr><tr><td>train loss</td><td>█▅▃▂▂▂▁▁▁▁</td></tr><tr><td>validation accuracy</td><td>▁▄▅▆▇▇▇███</td></tr><tr><td>validation loss</td><td>█▅▃▃▂▂▁▁▁▁</td></tr></table><br/></div><div class=\"wandb-col\"><h3>Run summary:</h3><br/><table class=\"wandb\"><tr><td>train accuracy</td><td>0.69054</td></tr><tr><td>train loss</td><td>5.12947</td></tr><tr><td>validation accuracy</td><td>0.68583</td></tr><tr><td>validation loss</td><td>5.23414</td></tr></table><br/></div></div>"
            ],
            "text/plain": [
              "<IPython.core.display.HTML object>"
            ]
          },
          "metadata": {},
          "output_type": "display_data"
        },
        {
          "data": {
            "text/html": [
              " View run <strong style=\"color:#cdcd00\">honest-sweep-8</strong> at: <a href='https://wandb.ai/cs22m019/DL%20Final%20Assignment%201/runs/4nuyc05e' target=\"_blank\">https://wandb.ai/cs22m019/DL%20Final%20Assignment%201/runs/4nuyc05e</a><br/>Synced 6 W&B file(s), 0 media file(s), 0 artifact file(s) and 0 other file(s)"
            ],
            "text/plain": [
              "<IPython.core.display.HTML object>"
            ]
          },
          "metadata": {},
          "output_type": "display_data"
        },
        {
          "data": {
            "text/html": [
              "Find logs at: <code>.\\wandb\\run-20230310_012348-4nuyc05e\\logs</code>"
            ],
            "text/plain": [
              "<IPython.core.display.HTML object>"
            ]
          },
          "metadata": {},
          "output_type": "display_data"
        },
        {
          "name": "stderr",
          "output_type": "stream",
          "text": [
            "\u001b[34m\u001b[1mwandb\u001b[0m: Agent Starting Run: 0p2ukyxx with config:\n",
            "\u001b[34m\u001b[1mwandb\u001b[0m: \tactivation: tanh\n",
            "\u001b[34m\u001b[1mwandb\u001b[0m: \tbatch_size: 32\n",
            "\u001b[34m\u001b[1mwandb\u001b[0m: \tepochs: 5\n",
            "\u001b[34m\u001b[1mwandb\u001b[0m: \tlearning_rate: 0.0001\n",
            "\u001b[34m\u001b[1mwandb\u001b[0m: \tnumber_of_hidden_layer: 4\n",
            "\u001b[34m\u001b[1mwandb\u001b[0m: \toptimizer: rmsprop\n",
            "\u001b[34m\u001b[1mwandb\u001b[0m: \tsize_of_hidden_layer: 128\n",
            "\u001b[34m\u001b[1mwandb\u001b[0m: \tweight_decay: 0.0005\n",
            "\u001b[34m\u001b[1mwandb\u001b[0m: \tweight_initialization: random\n"
          ]
        },
        {
          "data": {
            "text/html": [
              "Tracking run with wandb version 0.13.11"
            ],
            "text/plain": [
              "<IPython.core.display.HTML object>"
            ]
          },
          "metadata": {},
          "output_type": "display_data"
        },
        {
          "data": {
            "text/html": [
              "Run data is saved locally in <code>C:\\Users\\DELL\\Desktop\\wandb\\run-20230310_012822-0p2ukyxx</code>"
            ],
            "text/plain": [
              "<IPython.core.display.HTML object>"
            ]
          },
          "metadata": {},
          "output_type": "display_data"
        },
        {
          "data": {
            "text/html": [
              "Syncing run <strong><a href='https://wandb.ai/cs22m019/DL%20Final%20Assignment%201/runs/0p2ukyxx' target=\"_blank\">glamorous-sweep-9</a></strong> to <a href='https://wandb.ai/cs22m019/DL%20Final%20Assignment%201' target=\"_blank\">Weights & Biases</a> (<a href='https://wandb.me/run' target=\"_blank\">docs</a>)<br/>Sweep page: <a href='https://wandb.ai/cs22m019/DL%20Final%20Assignment%201/sweeps/eayjxkwm' target=\"_blank\">https://wandb.ai/cs22m019/DL%20Final%20Assignment%201/sweeps/eayjxkwm</a>"
            ],
            "text/plain": [
              "<IPython.core.display.HTML object>"
            ]
          },
          "metadata": {},
          "output_type": "display_data"
        },
        {
          "data": {
            "text/html": [
              " View project at <a href='https://wandb.ai/cs22m019/DL%20Final%20Assignment%201' target=\"_blank\">https://wandb.ai/cs22m019/DL%20Final%20Assignment%201</a>"
            ],
            "text/plain": [
              "<IPython.core.display.HTML object>"
            ]
          },
          "metadata": {},
          "output_type": "display_data"
        },
        {
          "data": {
            "text/html": [
              " View sweep at <a href='https://wandb.ai/cs22m019/DL%20Final%20Assignment%201/sweeps/eayjxkwm' target=\"_blank\">https://wandb.ai/cs22m019/DL%20Final%20Assignment%201/sweeps/eayjxkwm</a>"
            ],
            "text/plain": [
              "<IPython.core.display.HTML object>"
            ]
          },
          "metadata": {},
          "output_type": "display_data"
        },
        {
          "data": {
            "text/html": [
              " View run at <a href='https://wandb.ai/cs22m019/DL%20Final%20Assignment%201/runs/0p2ukyxx' target=\"_blank\">https://wandb.ai/cs22m019/DL%20Final%20Assignment%201/runs/0p2ukyxx</a>"
            ],
            "text/plain": [
              "<IPython.core.display.HTML object>"
            ]
          },
          "metadata": {},
          "output_type": "display_data"
        },
        {
          "name": "stdout",
          "output_type": "stream",
          "text": [
            "epoch:1, train loss:7.172381468214971, train accuracy:0.11672222222222223, validation loss:6.791726872016612, validation accuracy:0.12566666666666668\n",
            "epoch:2, train loss:6.3711508821875364, train accuracy:0.14024074074074075, validation loss:6.098828679748419, validation accuracy:0.149\n",
            "epoch:3, train loss:5.750926136150524, train accuracy:0.16605555555555557, validation loss:5.556688809284944, validation accuracy:0.17033333333333334\n",
            "epoch:4, train loss:5.252161907159053, train accuracy:0.1925, validation loss:5.117775501553132, validation accuracy:0.19483333333333333\n",
            "epoch:5, train loss:4.836441739107748, train accuracy:0.21914814814814815, validation loss:4.756274801348675, validation accuracy:0.22183333333333333\n"
          ]
        },
        {
          "data": {
            "text/html": [
              "Waiting for W&B process to finish... <strong style=\"color:green\">(success).</strong>"
            ],
            "text/plain": [
              "<IPython.core.display.HTML object>"
            ]
          },
          "metadata": {},
          "output_type": "display_data"
        },
        {
          "data": {
            "text/html": [
              "<style>\n",
              "    table.wandb td:nth-child(1) { padding: 0 10px; text-align: left ; width: auto;} td:nth-child(2) {text-align: left ; width: 100%}\n",
              "    .wandb-row { display: flex; flex-direction: row; flex-wrap: wrap; justify-content: flex-start; width: 100% }\n",
              "    .wandb-col { display: flex; flex-direction: column; flex-basis: 100%; flex: 1; padding: 10px; }\n",
              "    </style>\n",
              "<div class=\"wandb-row\"><div class=\"wandb-col\"><h3>Run history:</h3><br/><table class=\"wandb\"><tr><td>train accuracy</td><td>▁▃▄▆█</td></tr><tr><td>train loss</td><td>█▆▄▂▁</td></tr><tr><td>validation accuracy</td><td>▁▃▄▆█</td></tr><tr><td>validation loss</td><td>█▆▄▂▁</td></tr></table><br/></div><div class=\"wandb-col\"><h3>Run summary:</h3><br/><table class=\"wandb\"><tr><td>train accuracy</td><td>0.21915</td></tr><tr><td>train loss</td><td>4.83644</td></tr><tr><td>validation accuracy</td><td>0.22183</td></tr><tr><td>validation loss</td><td>4.75627</td></tr></table><br/></div></div>"
            ],
            "text/plain": [
              "<IPython.core.display.HTML object>"
            ]
          },
          "metadata": {},
          "output_type": "display_data"
        },
        {
          "data": {
            "text/html": [
              " View run <strong style=\"color:#cdcd00\">glamorous-sweep-9</strong> at: <a href='https://wandb.ai/cs22m019/DL%20Final%20Assignment%201/runs/0p2ukyxx' target=\"_blank\">https://wandb.ai/cs22m019/DL%20Final%20Assignment%201/runs/0p2ukyxx</a><br/>Synced 6 W&B file(s), 0 media file(s), 0 artifact file(s) and 0 other file(s)"
            ],
            "text/plain": [
              "<IPython.core.display.HTML object>"
            ]
          },
          "metadata": {},
          "output_type": "display_data"
        },
        {
          "data": {
            "text/html": [
              "Find logs at: <code>.\\wandb\\run-20230310_012822-0p2ukyxx\\logs</code>"
            ],
            "text/plain": [
              "<IPython.core.display.HTML object>"
            ]
          },
          "metadata": {},
          "output_type": "display_data"
        },
        {
          "name": "stderr",
          "output_type": "stream",
          "text": [
            "\u001b[34m\u001b[1mwandb\u001b[0m: Agent Starting Run: 24e7dnmt with config:\n",
            "\u001b[34m\u001b[1mwandb\u001b[0m: \tactivation: sigmoid\n",
            "\u001b[34m\u001b[1mwandb\u001b[0m: \tbatch_size: 64\n",
            "\u001b[34m\u001b[1mwandb\u001b[0m: \tepochs: 5\n",
            "\u001b[34m\u001b[1mwandb\u001b[0m: \tlearning_rate: 0.001\n",
            "\u001b[34m\u001b[1mwandb\u001b[0m: \tnumber_of_hidden_layer: 5\n",
            "\u001b[34m\u001b[1mwandb\u001b[0m: \toptimizer: sgd\n",
            "\u001b[34m\u001b[1mwandb\u001b[0m: \tsize_of_hidden_layer: 64\n",
            "\u001b[34m\u001b[1mwandb\u001b[0m: \tweight_decay: 0.5\n",
            "\u001b[34m\u001b[1mwandb\u001b[0m: \tweight_initialization: Xavier\n"
          ]
        },
        {
          "data": {
            "application/vnd.jupyter.widget-view+json": {
              "model_id": "f733c163399644a0ac9a424f7b6b889f",
              "version_major": 2,
              "version_minor": 0
            },
            "text/plain": [
              "VBox(children=(Label(value='Waiting for wandb.init()...\\r'), FloatProgress(value=0.01693333333338766, max=1.0)…"
            ]
          },
          "metadata": {},
          "output_type": "display_data"
        },
        {
          "data": {
            "text/html": [
              "Tracking run with wandb version 0.13.11"
            ],
            "text/plain": [
              "<IPython.core.display.HTML object>"
            ]
          },
          "metadata": {},
          "output_type": "display_data"
        },
        {
          "data": {
            "text/html": [
              "Run data is saved locally in <code>C:\\Users\\DELL\\Desktop\\wandb\\run-20230310_013103-24e7dnmt</code>"
            ],
            "text/plain": [
              "<IPython.core.display.HTML object>"
            ]
          },
          "metadata": {},
          "output_type": "display_data"
        },
        {
          "data": {
            "text/html": [
              "Syncing run <strong><a href='https://wandb.ai/cs22m019/DL%20Final%20Assignment%201/runs/24e7dnmt' target=\"_blank\">smooth-sweep-10</a></strong> to <a href='https://wandb.ai/cs22m019/DL%20Final%20Assignment%201' target=\"_blank\">Weights & Biases</a> (<a href='https://wandb.me/run' target=\"_blank\">docs</a>)<br/>Sweep page: <a href='https://wandb.ai/cs22m019/DL%20Final%20Assignment%201/sweeps/eayjxkwm' target=\"_blank\">https://wandb.ai/cs22m019/DL%20Final%20Assignment%201/sweeps/eayjxkwm</a>"
            ],
            "text/plain": [
              "<IPython.core.display.HTML object>"
            ]
          },
          "metadata": {},
          "output_type": "display_data"
        },
        {
          "data": {
            "text/html": [
              " View project at <a href='https://wandb.ai/cs22m019/DL%20Final%20Assignment%201' target=\"_blank\">https://wandb.ai/cs22m019/DL%20Final%20Assignment%201</a>"
            ],
            "text/plain": [
              "<IPython.core.display.HTML object>"
            ]
          },
          "metadata": {},
          "output_type": "display_data"
        },
        {
          "data": {
            "text/html": [
              " View sweep at <a href='https://wandb.ai/cs22m019/DL%20Final%20Assignment%201/sweeps/eayjxkwm' target=\"_blank\">https://wandb.ai/cs22m019/DL%20Final%20Assignment%201/sweeps/eayjxkwm</a>"
            ],
            "text/plain": [
              "<IPython.core.display.HTML object>"
            ]
          },
          "metadata": {},
          "output_type": "display_data"
        },
        {
          "data": {
            "text/html": [
              " View run at <a href='https://wandb.ai/cs22m019/DL%20Final%20Assignment%201/runs/24e7dnmt' target=\"_blank\">https://wandb.ai/cs22m019/DL%20Final%20Assignment%201/runs/24e7dnmt</a>"
            ],
            "text/plain": [
              "<IPython.core.display.HTML object>"
            ]
          },
          "metadata": {},
          "output_type": "display_data"
        },
        {
          "name": "stdout",
          "output_type": "stream",
          "text": [
            "epoch:1, train loss:2.4890993823376633, train accuracy:0.10025925925925926, validation loss:2.4963504765750475, validation accuracy:0.09766666666666667\n",
            "epoch:2, train loss:2.4809526940112923, train accuracy:0.10025925925925926, validation loss:2.4877552538003744, validation accuracy:0.09766666666666667\n",
            "epoch:3, train loss:2.473098972801817, train accuracy:0.10025925925925926, validation loss:2.4802722830601773, validation accuracy:0.09766666666666667\n",
            "epoch:4, train loss:2.466418124215065, train accuracy:0.10025925925925926, validation loss:2.473915886355697, validation accuracy:0.09766666666666667\n",
            "epoch:5, train loss:2.4602549857669063, train accuracy:0.10025925925925926, validation loss:2.4676792212993295, validation accuracy:0.09766666666666667\n"
          ]
        },
        {
          "data": {
            "text/html": [
              "Waiting for W&B process to finish... <strong style=\"color:green\">(success).</strong>"
            ],
            "text/plain": [
              "<IPython.core.display.HTML object>"
            ]
          },
          "metadata": {},
          "output_type": "display_data"
        },
        {
          "data": {
            "application/vnd.jupyter.widget-view+json": {
              "model_id": "525ad25d0e63498397228b9daf802992",
              "version_major": 2,
              "version_minor": 0
            },
            "text/plain": [
              "VBox(children=(Label(value='0.001 MB of 0.017 MB uploaded (0.000 MB deduped)\\r'), FloatProgress(value=0.064932…"
            ]
          },
          "metadata": {},
          "output_type": "display_data"
        },
        {
          "data": {
            "text/html": [
              "<style>\n",
              "    table.wandb td:nth-child(1) { padding: 0 10px; text-align: left ; width: auto;} td:nth-child(2) {text-align: left ; width: 100%}\n",
              "    .wandb-row { display: flex; flex-direction: row; flex-wrap: wrap; justify-content: flex-start; width: 100% }\n",
              "    .wandb-col { display: flex; flex-direction: column; flex-basis: 100%; flex: 1; padding: 10px; }\n",
              "    </style>\n",
              "<div class=\"wandb-row\"><div class=\"wandb-col\"><h3>Run history:</h3><br/><table class=\"wandb\"><tr><td>train accuracy</td><td>▁▁▁▁▁</td></tr><tr><td>train loss</td><td>█▆▄▂▁</td></tr><tr><td>validation accuracy</td><td>▁▁▁▁▁</td></tr><tr><td>validation loss</td><td>█▆▄▃▁</td></tr></table><br/></div><div class=\"wandb-col\"><h3>Run summary:</h3><br/><table class=\"wandb\"><tr><td>train accuracy</td><td>0.10026</td></tr><tr><td>train loss</td><td>2.46025</td></tr><tr><td>validation accuracy</td><td>0.09767</td></tr><tr><td>validation loss</td><td>2.46768</td></tr></table><br/></div></div>"
            ],
            "text/plain": [
              "<IPython.core.display.HTML object>"
            ]
          },
          "metadata": {},
          "output_type": "display_data"
        },
        {
          "data": {
            "text/html": [
              " View run <strong style=\"color:#cdcd00\">smooth-sweep-10</strong> at: <a href='https://wandb.ai/cs22m019/DL%20Final%20Assignment%201/runs/24e7dnmt' target=\"_blank\">https://wandb.ai/cs22m019/DL%20Final%20Assignment%201/runs/24e7dnmt</a><br/>Synced 6 W&B file(s), 0 media file(s), 0 artifact file(s) and 0 other file(s)"
            ],
            "text/plain": [
              "<IPython.core.display.HTML object>"
            ]
          },
          "metadata": {},
          "output_type": "display_data"
        },
        {
          "data": {
            "text/html": [
              "Find logs at: <code>.\\wandb\\run-20230310_013103-24e7dnmt\\logs</code>"
            ],
            "text/plain": [
              "<IPython.core.display.HTML object>"
            ]
          },
          "metadata": {},
          "output_type": "display_data"
        },
        {
          "name": "stderr",
          "output_type": "stream",
          "text": [
            "\u001b[34m\u001b[1mwandb\u001b[0m: Sweep Agent: Waiting for job.\n",
            "\u001b[34m\u001b[1mwandb\u001b[0m: Job received.\n",
            "\u001b[34m\u001b[1mwandb\u001b[0m: Agent Starting Run: kju4r54k with config:\n",
            "\u001b[34m\u001b[1mwandb\u001b[0m: \tactivation: tanh\n",
            "\u001b[34m\u001b[1mwandb\u001b[0m: \tbatch_size: 32\n",
            "\u001b[34m\u001b[1mwandb\u001b[0m: \tepochs: 10\n",
            "\u001b[34m\u001b[1mwandb\u001b[0m: \tlearning_rate: 0.001\n",
            "\u001b[34m\u001b[1mwandb\u001b[0m: \tnumber_of_hidden_layer: 5\n",
            "\u001b[34m\u001b[1mwandb\u001b[0m: \toptimizer: momentum\n",
            "\u001b[34m\u001b[1mwandb\u001b[0m: \tsize_of_hidden_layer: 32\n",
            "\u001b[34m\u001b[1mwandb\u001b[0m: \tweight_decay: 0.0005\n",
            "\u001b[34m\u001b[1mwandb\u001b[0m: \tweight_initialization: Xavier\n"
          ]
        },
        {
          "data": {
            "text/html": [
              "Tracking run with wandb version 0.13.11"
            ],
            "text/plain": [
              "<IPython.core.display.HTML object>"
            ]
          },
          "metadata": {},
          "output_type": "display_data"
        },
        {
          "data": {
            "text/html": [
              "Run data is saved locally in <code>C:\\Users\\DELL\\Desktop\\wandb\\run-20230310_013221-kju4r54k</code>"
            ],
            "text/plain": [
              "<IPython.core.display.HTML object>"
            ]
          },
          "metadata": {},
          "output_type": "display_data"
        },
        {
          "data": {
            "text/html": [
              "Syncing run <strong><a href='https://wandb.ai/cs22m019/DL%20Final%20Assignment%201/runs/kju4r54k' target=\"_blank\">silvery-sweep-11</a></strong> to <a href='https://wandb.ai/cs22m019/DL%20Final%20Assignment%201' target=\"_blank\">Weights & Biases</a> (<a href='https://wandb.me/run' target=\"_blank\">docs</a>)<br/>Sweep page: <a href='https://wandb.ai/cs22m019/DL%20Final%20Assignment%201/sweeps/eayjxkwm' target=\"_blank\">https://wandb.ai/cs22m019/DL%20Final%20Assignment%201/sweeps/eayjxkwm</a>"
            ],
            "text/plain": [
              "<IPython.core.display.HTML object>"
            ]
          },
          "metadata": {},
          "output_type": "display_data"
        },
        {
          "data": {
            "text/html": [
              " View project at <a href='https://wandb.ai/cs22m019/DL%20Final%20Assignment%201' target=\"_blank\">https://wandb.ai/cs22m019/DL%20Final%20Assignment%201</a>"
            ],
            "text/plain": [
              "<IPython.core.display.HTML object>"
            ]
          },
          "metadata": {},
          "output_type": "display_data"
        },
        {
          "data": {
            "text/html": [
              " View sweep at <a href='https://wandb.ai/cs22m019/DL%20Final%20Assignment%201/sweeps/eayjxkwm' target=\"_blank\">https://wandb.ai/cs22m019/DL%20Final%20Assignment%201/sweeps/eayjxkwm</a>"
            ],
            "text/plain": [
              "<IPython.core.display.HTML object>"
            ]
          },
          "metadata": {},
          "output_type": "display_data"
        },
        {
          "data": {
            "text/html": [
              " View run at <a href='https://wandb.ai/cs22m019/DL%20Final%20Assignment%201/runs/kju4r54k' target=\"_blank\">https://wandb.ai/cs22m019/DL%20Final%20Assignment%201/runs/kju4r54k</a>"
            ],
            "text/plain": [
              "<IPython.core.display.HTML object>"
            ]
          },
          "metadata": {},
          "output_type": "display_data"
        },
        {
          "name": "stdout",
          "output_type": "stream",
          "text": [
            "epoch:1, train loss:1.8265066150182916, train accuracy:0.3804074074074074, validation loss:1.4836440160347109, validation accuracy:0.5758333333333333\n",
            "epoch:2, train loss:1.2910164281132213, train accuracy:0.6243703703703704, validation loss:1.151966794588502, validation accuracy:0.6526666666666666\n",
            "epoch:3, train loss:1.0394137142429118, train accuracy:0.6838518518518518, validation loss:0.9602049753857101, validation accuracy:0.6995\n",
            "epoch:4, train loss:0.8851259912419361, train accuracy:0.7222222222222222, validation loss:0.835449454644767, validation accuracy:0.7355\n",
            "epoch:5, train loss:0.7809055208476896, train accuracy:0.7487962962962963, validation loss:0.7484574528844655, validation accuracy:0.7583333333333333\n",
            "epoch:6, train loss:0.707653390036331, train accuracy:0.7697777777777778, validation loss:0.6862702962022694, validation accuracy:0.7793333333333333\n",
            "epoch:7, train loss:0.6543697037620375, train accuracy:0.7853518518518519, validation loss:0.6399877498537672, validation accuracy:0.7896666666666666\n",
            "epoch:8, train loss:0.6141974933887118, train accuracy:0.7966666666666666, validation loss:0.6055365818202625, validation accuracy:0.7993333333333333\n",
            "epoch:9, train loss:0.5828431989926186, train accuracy:0.8057777777777778, validation loss:0.5780950491210446, validation accuracy:0.807\n",
            "epoch:10, train loss:0.5574234283774238, train accuracy:0.8135185185185185, validation loss:0.554791598598432, validation accuracy:0.8125\n"
          ]
        },
        {
          "data": {
            "text/html": [
              "Waiting for W&B process to finish... <strong style=\"color:green\">(success).</strong>"
            ],
            "text/plain": [
              "<IPython.core.display.HTML object>"
            ]
          },
          "metadata": {},
          "output_type": "display_data"
        },
        {
          "data": {
            "application/vnd.jupyter.widget-view+json": {
              "model_id": "c025a4ad501c4dd18e7f388f3e5c86fd",
              "version_major": 2,
              "version_minor": 0
            },
            "text/plain": [
              "VBox(children=(Label(value='0.001 MB of 0.001 MB uploaded (0.000 MB deduped)\\r'), FloatProgress(value=1.0, max…"
            ]
          },
          "metadata": {},
          "output_type": "display_data"
        },
        {
          "data": {
            "text/html": [
              "<style>\n",
              "    table.wandb td:nth-child(1) { padding: 0 10px; text-align: left ; width: auto;} td:nth-child(2) {text-align: left ; width: 100%}\n",
              "    .wandb-row { display: flex; flex-direction: row; flex-wrap: wrap; justify-content: flex-start; width: 100% }\n",
              "    .wandb-col { display: flex; flex-direction: column; flex-basis: 100%; flex: 1; padding: 10px; }\n",
              "    </style>\n",
              "<div class=\"wandb-row\"><div class=\"wandb-col\"><h3>Run history:</h3><br/><table class=\"wandb\"><tr><td>train accuracy</td><td>▁▅▆▇▇▇████</td></tr><tr><td>train loss</td><td>█▅▄▃▂▂▂▁▁▁</td></tr><tr><td>validation accuracy</td><td>▁▃▅▆▆▇▇███</td></tr><tr><td>validation loss</td><td>█▆▄▃▂▂▂▁▁▁</td></tr></table><br/></div><div class=\"wandb-col\"><h3>Run summary:</h3><br/><table class=\"wandb\"><tr><td>train accuracy</td><td>0.81352</td></tr><tr><td>train loss</td><td>0.55742</td></tr><tr><td>validation accuracy</td><td>0.8125</td></tr><tr><td>validation loss</td><td>0.55479</td></tr></table><br/></div></div>"
            ],
            "text/plain": [
              "<IPython.core.display.HTML object>"
            ]
          },
          "metadata": {},
          "output_type": "display_data"
        },
        {
          "data": {
            "text/html": [
              " View run <strong style=\"color:#cdcd00\">silvery-sweep-11</strong> at: <a href='https://wandb.ai/cs22m019/DL%20Final%20Assignment%201/runs/kju4r54k' target=\"_blank\">https://wandb.ai/cs22m019/DL%20Final%20Assignment%201/runs/kju4r54k</a><br/>Synced 6 W&B file(s), 0 media file(s), 0 artifact file(s) and 0 other file(s)"
            ],
            "text/plain": [
              "<IPython.core.display.HTML object>"
            ]
          },
          "metadata": {},
          "output_type": "display_data"
        },
        {
          "data": {
            "text/html": [
              "Find logs at: <code>.\\wandb\\run-20230310_013221-kju4r54k\\logs</code>"
            ],
            "text/plain": [
              "<IPython.core.display.HTML object>"
            ]
          },
          "metadata": {},
          "output_type": "display_data"
        },
        {
          "name": "stderr",
          "output_type": "stream",
          "text": [
            "\u001b[34m\u001b[1mwandb\u001b[0m: Agent Starting Run: 3f2248yj with config:\n",
            "\u001b[34m\u001b[1mwandb\u001b[0m: \tactivation: tanh\n",
            "\u001b[34m\u001b[1mwandb\u001b[0m: \tbatch_size: 16\n",
            "\u001b[34m\u001b[1mwandb\u001b[0m: \tepochs: 5\n",
            "\u001b[34m\u001b[1mwandb\u001b[0m: \tlearning_rate: 0.001\n",
            "\u001b[34m\u001b[1mwandb\u001b[0m: \tnumber_of_hidden_layer: 3\n",
            "\u001b[34m\u001b[1mwandb\u001b[0m: \toptimizer: adam\n",
            "\u001b[34m\u001b[1mwandb\u001b[0m: \tsize_of_hidden_layer: 32\n",
            "\u001b[34m\u001b[1mwandb\u001b[0m: \tweight_decay: 0\n",
            "\u001b[34m\u001b[1mwandb\u001b[0m: \tweight_initialization: Xavier\n"
          ]
        },
        {
          "data": {
            "text/html": [
              "Tracking run with wandb version 0.13.11"
            ],
            "text/plain": [
              "<IPython.core.display.HTML object>"
            ]
          },
          "metadata": {},
          "output_type": "display_data"
        },
        {
          "data": {
            "text/html": [
              "Run data is saved locally in <code>C:\\Users\\DELL\\Desktop\\wandb\\run-20230310_013410-3f2248yj</code>"
            ],
            "text/plain": [
              "<IPython.core.display.HTML object>"
            ]
          },
          "metadata": {},
          "output_type": "display_data"
        },
        {
          "data": {
            "text/html": [
              "Syncing run <strong><a href='https://wandb.ai/cs22m019/DL%20Final%20Assignment%201/runs/3f2248yj' target=\"_blank\">sweepy-sweep-12</a></strong> to <a href='https://wandb.ai/cs22m019/DL%20Final%20Assignment%201' target=\"_blank\">Weights & Biases</a> (<a href='https://wandb.me/run' target=\"_blank\">docs</a>)<br/>Sweep page: <a href='https://wandb.ai/cs22m019/DL%20Final%20Assignment%201/sweeps/eayjxkwm' target=\"_blank\">https://wandb.ai/cs22m019/DL%20Final%20Assignment%201/sweeps/eayjxkwm</a>"
            ],
            "text/plain": [
              "<IPython.core.display.HTML object>"
            ]
          },
          "metadata": {},
          "output_type": "display_data"
        },
        {
          "data": {
            "text/html": [
              " View project at <a href='https://wandb.ai/cs22m019/DL%20Final%20Assignment%201' target=\"_blank\">https://wandb.ai/cs22m019/DL%20Final%20Assignment%201</a>"
            ],
            "text/plain": [
              "<IPython.core.display.HTML object>"
            ]
          },
          "metadata": {},
          "output_type": "display_data"
        },
        {
          "data": {
            "text/html": [
              " View sweep at <a href='https://wandb.ai/cs22m019/DL%20Final%20Assignment%201/sweeps/eayjxkwm' target=\"_blank\">https://wandb.ai/cs22m019/DL%20Final%20Assignment%201/sweeps/eayjxkwm</a>"
            ],
            "text/plain": [
              "<IPython.core.display.HTML object>"
            ]
          },
          "metadata": {},
          "output_type": "display_data"
        },
        {
          "data": {
            "text/html": [
              " View run at <a href='https://wandb.ai/cs22m019/DL%20Final%20Assignment%201/runs/3f2248yj' target=\"_blank\">https://wandb.ai/cs22m019/DL%20Final%20Assignment%201/runs/3f2248yj</a>"
            ],
            "text/plain": [
              "<IPython.core.display.HTML object>"
            ]
          },
          "metadata": {},
          "output_type": "display_data"
        },
        {
          "name": "stdout",
          "output_type": "stream",
          "text": [
            "epoch:1, train loss:0.9045824071543623, train accuracy:0.7260555555555556, validation loss:0.5764394379614922, validation accuracy:0.8063333333333333\n",
            "epoch:2, train loss:0.5270189789214371, train accuracy:0.818962962962963, validation loss:0.48881911539007855, validation accuracy:0.8298333333333333\n",
            "epoch:3, train loss:0.47267785338572826, train accuracy:0.8348333333333333, validation loss:0.4609502006923699, validation accuracy:0.8373333333333334\n",
            "epoch:4, train loss:0.4474272620768006, train accuracy:0.8426296296296296, validation loss:0.4391730446995484, validation accuracy:0.8433333333333334\n",
            "epoch:5, train loss:0.42987315794529185, train accuracy:0.8486666666666667, validation loss:0.43190533388829955, validation accuracy:0.8471666666666666\n"
          ]
        },
        {
          "data": {
            "text/html": [
              "Waiting for W&B process to finish... <strong style=\"color:green\">(success).</strong>"
            ],
            "text/plain": [
              "<IPython.core.display.HTML object>"
            ]
          },
          "metadata": {},
          "output_type": "display_data"
        },
        {
          "data": {
            "application/vnd.jupyter.widget-view+json": {
              "model_id": "46bf54fe959346a3a9b8b23d71b98c46",
              "version_major": 2,
              "version_minor": 0
            },
            "text/plain": [
              "VBox(children=(Label(value='0.001 MB of 0.001 MB uploaded (0.000 MB deduped)\\r'), FloatProgress(value=1.0, max…"
            ]
          },
          "metadata": {},
          "output_type": "display_data"
        },
        {
          "data": {
            "text/html": [
              "<style>\n",
              "    table.wandb td:nth-child(1) { padding: 0 10px; text-align: left ; width: auto;} td:nth-child(2) {text-align: left ; width: 100%}\n",
              "    .wandb-row { display: flex; flex-direction: row; flex-wrap: wrap; justify-content: flex-start; width: 100% }\n",
              "    .wandb-col { display: flex; flex-direction: column; flex-basis: 100%; flex: 1; padding: 10px; }\n",
              "    </style>\n",
              "<div class=\"wandb-row\"><div class=\"wandb-col\"><h3>Run history:</h3><br/><table class=\"wandb\"><tr><td>train accuracy</td><td>▁▆▇██</td></tr><tr><td>train loss</td><td>█▂▂▁▁</td></tr><tr><td>validation accuracy</td><td>▁▅▆▇█</td></tr><tr><td>validation loss</td><td>█▄▂▁▁</td></tr></table><br/></div><div class=\"wandb-col\"><h3>Run summary:</h3><br/><table class=\"wandb\"><tr><td>train accuracy</td><td>0.84867</td></tr><tr><td>train loss</td><td>0.42987</td></tr><tr><td>validation accuracy</td><td>0.84717</td></tr><tr><td>validation loss</td><td>0.43191</td></tr></table><br/></div></div>"
            ],
            "text/plain": [
              "<IPython.core.display.HTML object>"
            ]
          },
          "metadata": {},
          "output_type": "display_data"
        },
        {
          "data": {
            "text/html": [
              " View run <strong style=\"color:#cdcd00\">sweepy-sweep-12</strong> at: <a href='https://wandb.ai/cs22m019/DL%20Final%20Assignment%201/runs/3f2248yj' target=\"_blank\">https://wandb.ai/cs22m019/DL%20Final%20Assignment%201/runs/3f2248yj</a><br/>Synced 6 W&B file(s), 0 media file(s), 0 artifact file(s) and 0 other file(s)"
            ],
            "text/plain": [
              "<IPython.core.display.HTML object>"
            ]
          },
          "metadata": {},
          "output_type": "display_data"
        },
        {
          "data": {
            "text/html": [
              "Find logs at: <code>.\\wandb\\run-20230310_013410-3f2248yj\\logs</code>"
            ],
            "text/plain": [
              "<IPython.core.display.HTML object>"
            ]
          },
          "metadata": {},
          "output_type": "display_data"
        },
        {
          "name": "stderr",
          "output_type": "stream",
          "text": [
            "\u001b[34m\u001b[1mwandb\u001b[0m: Agent Starting Run: juyqouud with config:\n",
            "\u001b[34m\u001b[1mwandb\u001b[0m: \tactivation: sigmoid\n",
            "\u001b[34m\u001b[1mwandb\u001b[0m: \tbatch_size: 32\n",
            "\u001b[34m\u001b[1mwandb\u001b[0m: \tepochs: 5\n",
            "\u001b[34m\u001b[1mwandb\u001b[0m: \tlearning_rate: 0.001\n",
            "\u001b[34m\u001b[1mwandb\u001b[0m: \tnumber_of_hidden_layer: 3\n",
            "\u001b[34m\u001b[1mwandb\u001b[0m: \toptimizer: momentum\n",
            "\u001b[34m\u001b[1mwandb\u001b[0m: \tsize_of_hidden_layer: 32\n",
            "\u001b[34m\u001b[1mwandb\u001b[0m: \tweight_decay: 0.0005\n",
            "\u001b[34m\u001b[1mwandb\u001b[0m: \tweight_initialization: Xavier\n"
          ]
        },
        {
          "data": {
            "application/vnd.jupyter.widget-view+json": {
              "model_id": "39513b45713047bca9aa23e3af4169fb",
              "version_major": 2,
              "version_minor": 0
            },
            "text/plain": [
              "VBox(children=(Label(value='Waiting for wandb.init()...\\r'), FloatProgress(value=0.01718333333337796, max=1.0)…"
            ]
          },
          "metadata": {},
          "output_type": "display_data"
        },
        {
          "data": {
            "text/html": [
              "Tracking run with wandb version 0.13.11"
            ],
            "text/plain": [
              "<IPython.core.display.HTML object>"
            ]
          },
          "metadata": {},
          "output_type": "display_data"
        },
        {
          "data": {
            "text/html": [
              "Run data is saved locally in <code>C:\\Users\\DELL\\Desktop\\wandb\\run-20230310_013515-juyqouud</code>"
            ],
            "text/plain": [
              "<IPython.core.display.HTML object>"
            ]
          },
          "metadata": {},
          "output_type": "display_data"
        },
        {
          "data": {
            "text/html": [
              "Syncing run <strong><a href='https://wandb.ai/cs22m019/DL%20Final%20Assignment%201/runs/juyqouud' target=\"_blank\">stoic-sweep-13</a></strong> to <a href='https://wandb.ai/cs22m019/DL%20Final%20Assignment%201' target=\"_blank\">Weights & Biases</a> (<a href='https://wandb.me/run' target=\"_blank\">docs</a>)<br/>Sweep page: <a href='https://wandb.ai/cs22m019/DL%20Final%20Assignment%201/sweeps/eayjxkwm' target=\"_blank\">https://wandb.ai/cs22m019/DL%20Final%20Assignment%201/sweeps/eayjxkwm</a>"
            ],
            "text/plain": [
              "<IPython.core.display.HTML object>"
            ]
          },
          "metadata": {},
          "output_type": "display_data"
        },
        {
          "data": {
            "text/html": [
              " View project at <a href='https://wandb.ai/cs22m019/DL%20Final%20Assignment%201' target=\"_blank\">https://wandb.ai/cs22m019/DL%20Final%20Assignment%201</a>"
            ],
            "text/plain": [
              "<IPython.core.display.HTML object>"
            ]
          },
          "metadata": {},
          "output_type": "display_data"
        },
        {
          "data": {
            "text/html": [
              " View sweep at <a href='https://wandb.ai/cs22m019/DL%20Final%20Assignment%201/sweeps/eayjxkwm' target=\"_blank\">https://wandb.ai/cs22m019/DL%20Final%20Assignment%201/sweeps/eayjxkwm</a>"
            ],
            "text/plain": [
              "<IPython.core.display.HTML object>"
            ]
          },
          "metadata": {},
          "output_type": "display_data"
        },
        {
          "data": {
            "text/html": [
              " View run at <a href='https://wandb.ai/cs22m019/DL%20Final%20Assignment%201/runs/juyqouud' target=\"_blank\">https://wandb.ai/cs22m019/DL%20Final%20Assignment%201/runs/juyqouud</a>"
            ],
            "text/plain": [
              "<IPython.core.display.HTML object>"
            ]
          },
          "metadata": {},
          "output_type": "display_data"
        },
        {
          "name": "stdout",
          "output_type": "stream",
          "text": [
            "epoch:1, train loss:2.35788450384889, train accuracy:0.09438888888888888, validation loss:2.307167149546513, validation accuracy:0.098\n",
            "epoch:2, train loss:2.3029204613530676, train accuracy:0.08146296296296296, validation loss:2.3014109767321456, validation accuracy:0.0865\n",
            "epoch:3, train loss:2.3004076495319867, train accuracy:0.10551851851851853, validation loss:2.3001056472989747, validation accuracy:0.11716666666666667\n",
            "epoch:4, train loss:2.298986428996012, train accuracy:0.16816666666666666, validation loss:2.298547080670346, validation accuracy:0.17566666666666667\n",
            "epoch:5, train loss:2.2976532778210883, train accuracy:0.19618518518518518, validation loss:2.297338090157325, validation accuracy:0.15066666666666667\n"
          ]
        },
        {
          "data": {
            "text/html": [
              "Waiting for W&B process to finish... <strong style=\"color:green\">(success).</strong>"
            ],
            "text/plain": [
              "<IPython.core.display.HTML object>"
            ]
          },
          "metadata": {},
          "output_type": "display_data"
        },
        {
          "data": {
            "application/vnd.jupyter.widget-view+json": {
              "model_id": "2d14921543d140509b16ae15003e2769",
              "version_major": 2,
              "version_minor": 0
            },
            "text/plain": [
              "VBox(children=(Label(value='0.001 MB of 0.001 MB uploaded (0.000 MB deduped)\\r'), FloatProgress(value=1.0, max…"
            ]
          },
          "metadata": {},
          "output_type": "display_data"
        },
        {
          "data": {
            "text/html": [
              "<style>\n",
              "    table.wandb td:nth-child(1) { padding: 0 10px; text-align: left ; width: auto;} td:nth-child(2) {text-align: left ; width: 100%}\n",
              "    .wandb-row { display: flex; flex-direction: row; flex-wrap: wrap; justify-content: flex-start; width: 100% }\n",
              "    .wandb-col { display: flex; flex-direction: column; flex-basis: 100%; flex: 1; padding: 10px; }\n",
              "    </style>\n",
              "<div class=\"wandb-row\"><div class=\"wandb-col\"><h3>Run history:</h3><br/><table class=\"wandb\"><tr><td>train accuracy</td><td>▂▁▂▆█</td></tr><tr><td>train loss</td><td>█▂▁▁▁</td></tr><tr><td>validation accuracy</td><td>▂▁▃█▆</td></tr><tr><td>validation loss</td><td>█▄▃▂▁</td></tr></table><br/></div><div class=\"wandb-col\"><h3>Run summary:</h3><br/><table class=\"wandb\"><tr><td>train accuracy</td><td>0.19619</td></tr><tr><td>train loss</td><td>2.29765</td></tr><tr><td>validation accuracy</td><td>0.15067</td></tr><tr><td>validation loss</td><td>2.29734</td></tr></table><br/></div></div>"
            ],
            "text/plain": [
              "<IPython.core.display.HTML object>"
            ]
          },
          "metadata": {},
          "output_type": "display_data"
        },
        {
          "data": {
            "text/html": [
              " View run <strong style=\"color:#cdcd00\">stoic-sweep-13</strong> at: <a href='https://wandb.ai/cs22m019/DL%20Final%20Assignment%201/runs/juyqouud' target=\"_blank\">https://wandb.ai/cs22m019/DL%20Final%20Assignment%201/runs/juyqouud</a><br/>Synced 6 W&B file(s), 0 media file(s), 0 artifact file(s) and 0 other file(s)"
            ],
            "text/plain": [
              "<IPython.core.display.HTML object>"
            ]
          },
          "metadata": {},
          "output_type": "display_data"
        },
        {
          "data": {
            "text/html": [
              "Find logs at: <code>.\\wandb\\run-20230310_013515-juyqouud\\logs</code>"
            ],
            "text/plain": [
              "<IPython.core.display.HTML object>"
            ]
          },
          "metadata": {},
          "output_type": "display_data"
        },
        {
          "name": "stderr",
          "output_type": "stream",
          "text": [
            "\u001b[34m\u001b[1mwandb\u001b[0m: Agent Starting Run: le8f6erc with config:\n",
            "\u001b[34m\u001b[1mwandb\u001b[0m: \tactivation: sigmoid\n",
            "\u001b[34m\u001b[1mwandb\u001b[0m: \tbatch_size: 64\n",
            "\u001b[34m\u001b[1mwandb\u001b[0m: \tepochs: 10\n",
            "\u001b[34m\u001b[1mwandb\u001b[0m: \tlearning_rate: 0.001\n",
            "\u001b[34m\u001b[1mwandb\u001b[0m: \tnumber_of_hidden_layer: 3\n",
            "\u001b[34m\u001b[1mwandb\u001b[0m: \toptimizer: nadam\n",
            "\u001b[34m\u001b[1mwandb\u001b[0m: \tsize_of_hidden_layer: 32\n",
            "\u001b[34m\u001b[1mwandb\u001b[0m: \tweight_decay: 0.0005\n",
            "\u001b[34m\u001b[1mwandb\u001b[0m: \tweight_initialization: Xavier\n"
          ]
        },
        {
          "data": {
            "text/html": [
              "Tracking run with wandb version 0.13.11"
            ],
            "text/plain": [
              "<IPython.core.display.HTML object>"
            ]
          },
          "metadata": {},
          "output_type": "display_data"
        },
        {
          "data": {
            "text/html": [
              "Run data is saved locally in <code>C:\\Users\\DELL\\Desktop\\wandb\\run-20230310_013613-le8f6erc</code>"
            ],
            "text/plain": [
              "<IPython.core.display.HTML object>"
            ]
          },
          "metadata": {},
          "output_type": "display_data"
        },
        {
          "data": {
            "text/html": [
              "Syncing run <strong><a href='https://wandb.ai/cs22m019/DL%20Final%20Assignment%201/runs/le8f6erc' target=\"_blank\">pious-sweep-14</a></strong> to <a href='https://wandb.ai/cs22m019/DL%20Final%20Assignment%201' target=\"_blank\">Weights & Biases</a> (<a href='https://wandb.me/run' target=\"_blank\">docs</a>)<br/>Sweep page: <a href='https://wandb.ai/cs22m019/DL%20Final%20Assignment%201/sweeps/eayjxkwm' target=\"_blank\">https://wandb.ai/cs22m019/DL%20Final%20Assignment%201/sweeps/eayjxkwm</a>"
            ],
            "text/plain": [
              "<IPython.core.display.HTML object>"
            ]
          },
          "metadata": {},
          "output_type": "display_data"
        },
        {
          "data": {
            "text/html": [
              " View project at <a href='https://wandb.ai/cs22m019/DL%20Final%20Assignment%201' target=\"_blank\">https://wandb.ai/cs22m019/DL%20Final%20Assignment%201</a>"
            ],
            "text/plain": [
              "<IPython.core.display.HTML object>"
            ]
          },
          "metadata": {},
          "output_type": "display_data"
        },
        {
          "data": {
            "text/html": [
              " View sweep at <a href='https://wandb.ai/cs22m019/DL%20Final%20Assignment%201/sweeps/eayjxkwm' target=\"_blank\">https://wandb.ai/cs22m019/DL%20Final%20Assignment%201/sweeps/eayjxkwm</a>"
            ],
            "text/plain": [
              "<IPython.core.display.HTML object>"
            ]
          },
          "metadata": {},
          "output_type": "display_data"
        },
        {
          "data": {
            "text/html": [
              " View run at <a href='https://wandb.ai/cs22m019/DL%20Final%20Assignment%201/runs/le8f6erc' target=\"_blank\">https://wandb.ai/cs22m019/DL%20Final%20Assignment%201/runs/le8f6erc</a>"
            ],
            "text/plain": [
              "<IPython.core.display.HTML object>"
            ]
          },
          "metadata": {},
          "output_type": "display_data"
        },
        {
          "name": "stdout",
          "output_type": "stream",
          "text": [
            "epoch:1, train loss:2.3348283948764093, train accuracy:0.16461111111111112, validation loss:2.292149201908639, validation accuracy:0.18016666666666667\n",
            "epoch:2, train loss:2.26754559924863, train accuracy:0.21109259259259258, validation loss:2.2482892131898873, validation accuracy:0.29033333333333333\n",
            "epoch:3, train loss:2.228939420225654, train accuracy:0.3989259259259259, validation loss:2.2125288606362807, validation accuracy:0.4558333333333333\n",
            "epoch:4, train loss:2.1924811198685172, train accuracy:0.45281481481481484, validation loss:2.1747641294308004, validation accuracy:0.43016666666666664\n",
            "epoch:5, train loss:2.1521861591550473, train accuracy:0.4310185185185185, validation loss:2.132114833502227, validation accuracy:0.4195\n",
            "epoch:6, train loss:2.106868436538925, train accuracy:0.42177777777777775, validation loss:2.084392343332688, validation accuracy:0.423\n",
            "epoch:7, train loss:2.0562666957094082, train accuracy:0.42853703703703705, validation loss:2.0316504551686685, validation accuracy:0.41483333333333333\n",
            "epoch:8, train loss:2.0012812214357703, train accuracy:0.4272962962962963, validation loss:1.9752621840885536, validation accuracy:0.4175\n",
            "epoch:9, train loss:1.9435407233636572, train accuracy:0.4270555555555556, validation loss:1.9170116331448313, validation accuracy:0.46116666666666667\n",
            "epoch:10, train loss:1.8847186672919605, train accuracy:0.5006111111111111, validation loss:1.8580429044677564, validation accuracy:0.49016666666666664\n"
          ]
        },
        {
          "data": {
            "text/html": [
              "Waiting for W&B process to finish... <strong style=\"color:green\">(success).</strong>"
            ],
            "text/plain": [
              "<IPython.core.display.HTML object>"
            ]
          },
          "metadata": {},
          "output_type": "display_data"
        },
        {
          "data": {
            "application/vnd.jupyter.widget-view+json": {
              "model_id": "980ec445bfcf478d8b0170790ddf9d4e",
              "version_major": 2,
              "version_minor": 0
            },
            "text/plain": [
              "VBox(children=(Label(value='0.001 MB of 0.001 MB uploaded (0.000 MB deduped)\\r'), FloatProgress(value=1.0, max…"
            ]
          },
          "metadata": {},
          "output_type": "display_data"
        },
        {
          "data": {
            "text/html": [
              "<style>\n",
              "    table.wandb td:nth-child(1) { padding: 0 10px; text-align: left ; width: auto;} td:nth-child(2) {text-align: left ; width: 100%}\n",
              "    .wandb-row { display: flex; flex-direction: row; flex-wrap: wrap; justify-content: flex-start; width: 100% }\n",
              "    .wandb-col { display: flex; flex-direction: column; flex-basis: 100%; flex: 1; padding: 10px; }\n",
              "    </style>\n",
              "<div class=\"wandb-row\"><div class=\"wandb-col\"><h3>Run history:</h3><br/><table class=\"wandb\"><tr><td>train accuracy</td><td>▁▂▆▇▇▆▆▆▆█</td></tr><tr><td>train loss</td><td>█▇▆▆▅▄▄▃▂▁</td></tr><tr><td>validation accuracy</td><td>▁▃▇▇▆▆▆▆▇█</td></tr><tr><td>validation loss</td><td>█▇▇▆▅▅▄▃▂▁</td></tr></table><br/></div><div class=\"wandb-col\"><h3>Run summary:</h3><br/><table class=\"wandb\"><tr><td>train accuracy</td><td>0.50061</td></tr><tr><td>train loss</td><td>1.88472</td></tr><tr><td>validation accuracy</td><td>0.49017</td></tr><tr><td>validation loss</td><td>1.85804</td></tr></table><br/></div></div>"
            ],
            "text/plain": [
              "<IPython.core.display.HTML object>"
            ]
          },
          "metadata": {},
          "output_type": "display_data"
        },
        {
          "data": {
            "text/html": [
              " View run <strong style=\"color:#cdcd00\">pious-sweep-14</strong> at: <a href='https://wandb.ai/cs22m019/DL%20Final%20Assignment%201/runs/le8f6erc' target=\"_blank\">https://wandb.ai/cs22m019/DL%20Final%20Assignment%201/runs/le8f6erc</a><br/>Synced 6 W&B file(s), 0 media file(s), 0 artifact file(s) and 0 other file(s)"
            ],
            "text/plain": [
              "<IPython.core.display.HTML object>"
            ]
          },
          "metadata": {},
          "output_type": "display_data"
        },
        {
          "data": {
            "text/html": [
              "Find logs at: <code>.\\wandb\\run-20230310_013613-le8f6erc\\logs</code>"
            ],
            "text/plain": [
              "<IPython.core.display.HTML object>"
            ]
          },
          "metadata": {},
          "output_type": "display_data"
        },
        {
          "name": "stderr",
          "output_type": "stream",
          "text": [
            "\u001b[34m\u001b[1mwandb\u001b[0m: Agent Starting Run: qw3pv2iw with config:\n",
            "\u001b[34m\u001b[1mwandb\u001b[0m: \tactivation: sigmoid\n",
            "\u001b[34m\u001b[1mwandb\u001b[0m: \tbatch_size: 16\n",
            "\u001b[34m\u001b[1mwandb\u001b[0m: \tepochs: 5\n",
            "\u001b[34m\u001b[1mwandb\u001b[0m: \tlearning_rate: 0.0001\n",
            "\u001b[34m\u001b[1mwandb\u001b[0m: \tnumber_of_hidden_layer: 4\n",
            "\u001b[34m\u001b[1mwandb\u001b[0m: \toptimizer: nadam\n",
            "\u001b[34m\u001b[1mwandb\u001b[0m: \tsize_of_hidden_layer: 64\n",
            "\u001b[34m\u001b[1mwandb\u001b[0m: \tweight_decay: 0.5\n",
            "\u001b[34m\u001b[1mwandb\u001b[0m: \tweight_initialization: Xavier\n"
          ]
        },
        {
          "data": {
            "text/html": [
              "Tracking run with wandb version 0.13.11"
            ],
            "text/plain": [
              "<IPython.core.display.HTML object>"
            ]
          },
          "metadata": {},
          "output_type": "display_data"
        },
        {
          "data": {
            "text/html": [
              "Run data is saved locally in <code>C:\\Users\\DELL\\Desktop\\wandb\\run-20230310_013752-qw3pv2iw</code>"
            ],
            "text/plain": [
              "<IPython.core.display.HTML object>"
            ]
          },
          "metadata": {},
          "output_type": "display_data"
        },
        {
          "data": {
            "text/html": [
              "Syncing run <strong><a href='https://wandb.ai/cs22m019/DL%20Final%20Assignment%201/runs/qw3pv2iw' target=\"_blank\">unique-sweep-15</a></strong> to <a href='https://wandb.ai/cs22m019/DL%20Final%20Assignment%201' target=\"_blank\">Weights & Biases</a> (<a href='https://wandb.me/run' target=\"_blank\">docs</a>)<br/>Sweep page: <a href='https://wandb.ai/cs22m019/DL%20Final%20Assignment%201/sweeps/eayjxkwm' target=\"_blank\">https://wandb.ai/cs22m019/DL%20Final%20Assignment%201/sweeps/eayjxkwm</a>"
            ],
            "text/plain": [
              "<IPython.core.display.HTML object>"
            ]
          },
          "metadata": {},
          "output_type": "display_data"
        },
        {
          "data": {
            "text/html": [
              " View project at <a href='https://wandb.ai/cs22m019/DL%20Final%20Assignment%201' target=\"_blank\">https://wandb.ai/cs22m019/DL%20Final%20Assignment%201</a>"
            ],
            "text/plain": [
              "<IPython.core.display.HTML object>"
            ]
          },
          "metadata": {},
          "output_type": "display_data"
        },
        {
          "data": {
            "text/html": [
              " View sweep at <a href='https://wandb.ai/cs22m019/DL%20Final%20Assignment%201/sweeps/eayjxkwm' target=\"_blank\">https://wandb.ai/cs22m019/DL%20Final%20Assignment%201/sweeps/eayjxkwm</a>"
            ],
            "text/plain": [
              "<IPython.core.display.HTML object>"
            ]
          },
          "metadata": {},
          "output_type": "display_data"
        },
        {
          "data": {
            "text/html": [
              " View run at <a href='https://wandb.ai/cs22m019/DL%20Final%20Assignment%201/runs/qw3pv2iw' target=\"_blank\">https://wandb.ai/cs22m019/DL%20Final%20Assignment%201/runs/qw3pv2iw</a>"
            ],
            "text/plain": [
              "<IPython.core.display.HTML object>"
            ]
          },
          "metadata": {},
          "output_type": "display_data"
        },
        {
          "name": "stdout",
          "output_type": "stream",
          "text": [
            "epoch:1, train loss:2.375958223118448, train accuracy:0.13692592592592592, validation loss:2.3177462723168722, validation accuracy:0.19633333333333333\n",
            "epoch:2, train loss:2.30278704836169, train accuracy:0.23387037037037037, validation loss:2.288769634254276, validation accuracy:0.20383333333333334\n",
            "epoch:3, train loss:2.27282152620576, train accuracy:0.23057407407407407, validation loss:2.252483662801646, validation accuracy:0.25816666666666666\n",
            "epoch:4, train loss:2.2227425049245535, train accuracy:0.26172222222222224, validation loss:2.1873970472425164, validation accuracy:0.22\n",
            "epoch:5, train loss:2.1410643130211757, train accuracy:0.22361111111111112, validation loss:2.091152291740963, validation accuracy:0.21333333333333335\n"
          ]
        },
        {
          "data": {
            "text/html": [
              "Waiting for W&B process to finish... <strong style=\"color:green\">(success).</strong>"
            ],
            "text/plain": [
              "<IPython.core.display.HTML object>"
            ]
          },
          "metadata": {},
          "output_type": "display_data"
        },
        {
          "data": {
            "text/html": [
              "<style>\n",
              "    table.wandb td:nth-child(1) { padding: 0 10px; text-align: left ; width: auto;} td:nth-child(2) {text-align: left ; width: 100%}\n",
              "    .wandb-row { display: flex; flex-direction: row; flex-wrap: wrap; justify-content: flex-start; width: 100% }\n",
              "    .wandb-col { display: flex; flex-direction: column; flex-basis: 100%; flex: 1; padding: 10px; }\n",
              "    </style>\n",
              "<div class=\"wandb-row\"><div class=\"wandb-col\"><h3>Run history:</h3><br/><table class=\"wandb\"><tr><td>train accuracy</td><td>▁▆▆█▆</td></tr><tr><td>train loss</td><td>█▆▅▃▁</td></tr><tr><td>validation accuracy</td><td>▁▂█▄▃</td></tr><tr><td>validation loss</td><td>█▇▆▄▁</td></tr></table><br/></div><div class=\"wandb-col\"><h3>Run summary:</h3><br/><table class=\"wandb\"><tr><td>train accuracy</td><td>0.22361</td></tr><tr><td>train loss</td><td>2.14106</td></tr><tr><td>validation accuracy</td><td>0.21333</td></tr><tr><td>validation loss</td><td>2.09115</td></tr></table><br/></div></div>"
            ],
            "text/plain": [
              "<IPython.core.display.HTML object>"
            ]
          },
          "metadata": {},
          "output_type": "display_data"
        },
        {
          "data": {
            "text/html": [
              " View run <strong style=\"color:#cdcd00\">unique-sweep-15</strong> at: <a href='https://wandb.ai/cs22m019/DL%20Final%20Assignment%201/runs/qw3pv2iw' target=\"_blank\">https://wandb.ai/cs22m019/DL%20Final%20Assignment%201/runs/qw3pv2iw</a><br/>Synced 6 W&B file(s), 0 media file(s), 0 artifact file(s) and 0 other file(s)"
            ],
            "text/plain": [
              "<IPython.core.display.HTML object>"
            ]
          },
          "metadata": {},
          "output_type": "display_data"
        },
        {
          "data": {
            "text/html": [
              "Find logs at: <code>.\\wandb\\run-20230310_013752-qw3pv2iw\\logs</code>"
            ],
            "text/plain": [
              "<IPython.core.display.HTML object>"
            ]
          },
          "metadata": {},
          "output_type": "display_data"
        },
        {
          "name": "stderr",
          "output_type": "stream",
          "text": [
            "\u001b[34m\u001b[1mwandb\u001b[0m: Agent Starting Run: xzs2z8tv with config:\n",
            "\u001b[34m\u001b[1mwandb\u001b[0m: \tactivation: ReLU\n",
            "\u001b[34m\u001b[1mwandb\u001b[0m: \tbatch_size: 64\n",
            "\u001b[34m\u001b[1mwandb\u001b[0m: \tepochs: 10\n",
            "\u001b[34m\u001b[1mwandb\u001b[0m: \tlearning_rate: 0.0001\n",
            "\u001b[34m\u001b[1mwandb\u001b[0m: \tnumber_of_hidden_layer: 3\n",
            "\u001b[34m\u001b[1mwandb\u001b[0m: \toptimizer: momentum\n",
            "\u001b[34m\u001b[1mwandb\u001b[0m: \tsize_of_hidden_layer: 128\n",
            "\u001b[34m\u001b[1mwandb\u001b[0m: \tweight_decay: 0.0005\n",
            "\u001b[34m\u001b[1mwandb\u001b[0m: \tweight_initialization: Xavier\n"
          ]
        },
        {
          "data": {
            "text/html": [
              "Tracking run with wandb version 0.13.11"
            ],
            "text/plain": [
              "<IPython.core.display.HTML object>"
            ]
          },
          "metadata": {},
          "output_type": "display_data"
        },
        {
          "data": {
            "text/html": [
              "Run data is saved locally in <code>C:\\Users\\DELL\\Desktop\\wandb\\run-20230310_013919-xzs2z8tv</code>"
            ],
            "text/plain": [
              "<IPython.core.display.HTML object>"
            ]
          },
          "metadata": {},
          "output_type": "display_data"
        },
        {
          "data": {
            "text/html": [
              "Syncing run <strong><a href='https://wandb.ai/cs22m019/DL%20Final%20Assignment%201/runs/xzs2z8tv' target=\"_blank\">worthy-sweep-16</a></strong> to <a href='https://wandb.ai/cs22m019/DL%20Final%20Assignment%201' target=\"_blank\">Weights & Biases</a> (<a href='https://wandb.me/run' target=\"_blank\">docs</a>)<br/>Sweep page: <a href='https://wandb.ai/cs22m019/DL%20Final%20Assignment%201/sweeps/eayjxkwm' target=\"_blank\">https://wandb.ai/cs22m019/DL%20Final%20Assignment%201/sweeps/eayjxkwm</a>"
            ],
            "text/plain": [
              "<IPython.core.display.HTML object>"
            ]
          },
          "metadata": {},
          "output_type": "display_data"
        },
        {
          "data": {
            "text/html": [
              " View project at <a href='https://wandb.ai/cs22m019/DL%20Final%20Assignment%201' target=\"_blank\">https://wandb.ai/cs22m019/DL%20Final%20Assignment%201</a>"
            ],
            "text/plain": [
              "<IPython.core.display.HTML object>"
            ]
          },
          "metadata": {},
          "output_type": "display_data"
        },
        {
          "data": {
            "text/html": [
              " View sweep at <a href='https://wandb.ai/cs22m019/DL%20Final%20Assignment%201/sweeps/eayjxkwm' target=\"_blank\">https://wandb.ai/cs22m019/DL%20Final%20Assignment%201/sweeps/eayjxkwm</a>"
            ],
            "text/plain": [
              "<IPython.core.display.HTML object>"
            ]
          },
          "metadata": {},
          "output_type": "display_data"
        },
        {
          "data": {
            "text/html": [
              " View run at <a href='https://wandb.ai/cs22m019/DL%20Final%20Assignment%201/runs/xzs2z8tv' target=\"_blank\">https://wandb.ai/cs22m019/DL%20Final%20Assignment%201/runs/xzs2z8tv</a>"
            ],
            "text/plain": [
              "<IPython.core.display.HTML object>"
            ]
          },
          "metadata": {},
          "output_type": "display_data"
        },
        {
          "name": "stdout",
          "output_type": "stream",
          "text": [
            "epoch:1, train loss:2.2862627410068863, train accuracy:0.1332037037037037, validation loss:2.2485058674458944, validation accuracy:0.17366666666666666\n",
            "epoch:2, train loss:2.217472721742001, train accuracy:0.20859259259259258, validation loss:2.184735112309971, validation accuracy:0.24766666666666667\n",
            "epoch:3, train loss:2.1582572420342614, train accuracy:0.2771111111111111, validation loss:2.1270050250549026, validation accuracy:0.31683333333333336\n",
            "epoch:4, train loss:2.102043692543632, train accuracy:0.34025925925925926, validation loss:2.0711500414732096, validation accuracy:0.3735\n",
            "epoch:5, train loss:2.04664201697291, train accuracy:0.39325925925925925, validation loss:2.0157250618924287, validation accuracy:0.4201666666666667\n",
            "epoch:6, train loss:1.9907270351944766, train accuracy:0.4446111111111111, validation loss:1.9593912233522988, validation accuracy:0.4661666666666667\n",
            "epoch:7, train loss:1.9331962983964357, train accuracy:0.48844444444444446, validation loss:1.901149096428332, validation accuracy:0.5071666666666667\n",
            "epoch:8, train loss:1.8734719336278696, train accuracy:0.5284814814814814, validation loss:1.8407007175915038, validation accuracy:0.5426666666666666\n",
            "epoch:9, train loss:1.8117673693435141, train accuracy:0.5581481481481482, validation loss:1.7785839333580027, validation accuracy:0.567\n",
            "epoch:10, train loss:1.7489877053185547, train accuracy:0.58, validation loss:1.7161946501676484, validation accuracy:0.5843333333333334\n"
          ]
        },
        {
          "data": {
            "text/html": [
              "Waiting for W&B process to finish... <strong style=\"color:green\">(success).</strong>"
            ],
            "text/plain": [
              "<IPython.core.display.HTML object>"
            ]
          },
          "metadata": {},
          "output_type": "display_data"
        },
        {
          "data": {
            "application/vnd.jupyter.widget-view+json": {
              "model_id": "83d5cf1bf9594afeba033f5fe7c3057a",
              "version_major": 2,
              "version_minor": 0
            },
            "text/plain": [
              "VBox(children=(Label(value='0.001 MB of 0.001 MB uploaded (0.000 MB deduped)\\r'), FloatProgress(value=1.0, max…"
            ]
          },
          "metadata": {},
          "output_type": "display_data"
        },
        {
          "data": {
            "text/html": [
              "<style>\n",
              "    table.wandb td:nth-child(1) { padding: 0 10px; text-align: left ; width: auto;} td:nth-child(2) {text-align: left ; width: 100%}\n",
              "    .wandb-row { display: flex; flex-direction: row; flex-wrap: wrap; justify-content: flex-start; width: 100% }\n",
              "    .wandb-col { display: flex; flex-direction: column; flex-basis: 100%; flex: 1; padding: 10px; }\n",
              "    </style>\n",
              "<div class=\"wandb-row\"><div class=\"wandb-col\"><h3>Run history:</h3><br/><table class=\"wandb\"><tr><td>train accuracy</td><td>▁▂▃▄▅▆▇▇██</td></tr><tr><td>train loss</td><td>█▇▆▆▅▄▃▃▂▁</td></tr><tr><td>validation accuracy</td><td>▁▂▃▄▅▆▇▇██</td></tr><tr><td>validation loss</td><td>█▇▆▆▅▄▃▃▂▁</td></tr></table><br/></div><div class=\"wandb-col\"><h3>Run summary:</h3><br/><table class=\"wandb\"><tr><td>train accuracy</td><td>0.58</td></tr><tr><td>train loss</td><td>1.74899</td></tr><tr><td>validation accuracy</td><td>0.58433</td></tr><tr><td>validation loss</td><td>1.71619</td></tr></table><br/></div></div>"
            ],
            "text/plain": [
              "<IPython.core.display.HTML object>"
            ]
          },
          "metadata": {},
          "output_type": "display_data"
        },
        {
          "data": {
            "text/html": [
              " View run <strong style=\"color:#cdcd00\">worthy-sweep-16</strong> at: <a href='https://wandb.ai/cs22m019/DL%20Final%20Assignment%201/runs/xzs2z8tv' target=\"_blank\">https://wandb.ai/cs22m019/DL%20Final%20Assignment%201/runs/xzs2z8tv</a><br/>Synced 6 W&B file(s), 0 media file(s), 0 artifact file(s) and 0 other file(s)"
            ],
            "text/plain": [
              "<IPython.core.display.HTML object>"
            ]
          },
          "metadata": {},
          "output_type": "display_data"
        },
        {
          "data": {
            "text/html": [
              "Find logs at: <code>.\\wandb\\run-20230310_013919-xzs2z8tv\\logs</code>"
            ],
            "text/plain": [
              "<IPython.core.display.HTML object>"
            ]
          },
          "metadata": {},
          "output_type": "display_data"
        },
        {
          "name": "stderr",
          "output_type": "stream",
          "text": [
            "\u001b[34m\u001b[1mwandb\u001b[0m: Agent Starting Run: fvalbir5 with config:\n",
            "\u001b[34m\u001b[1mwandb\u001b[0m: \tactivation: tanh\n",
            "\u001b[34m\u001b[1mwandb\u001b[0m: \tbatch_size: 32\n",
            "\u001b[34m\u001b[1mwandb\u001b[0m: \tepochs: 10\n",
            "\u001b[34m\u001b[1mwandb\u001b[0m: \tlearning_rate: 0.0001\n",
            "\u001b[34m\u001b[1mwandb\u001b[0m: \tnumber_of_hidden_layer: 4\n",
            "\u001b[34m\u001b[1mwandb\u001b[0m: \toptimizer: adam\n",
            "\u001b[34m\u001b[1mwandb\u001b[0m: \tsize_of_hidden_layer: 64\n",
            "\u001b[34m\u001b[1mwandb\u001b[0m: \tweight_decay: 0\n",
            "\u001b[34m\u001b[1mwandb\u001b[0m: \tweight_initialization: random\n"
          ]
        },
        {
          "data": {
            "text/html": [
              "Tracking run with wandb version 0.13.11"
            ],
            "text/plain": [
              "<IPython.core.display.HTML object>"
            ]
          },
          "metadata": {},
          "output_type": "display_data"
        },
        {
          "data": {
            "text/html": [
              "Run data is saved locally in <code>C:\\Users\\DELL\\Desktop\\wandb\\run-20230310_014318-fvalbir5</code>"
            ],
            "text/plain": [
              "<IPython.core.display.HTML object>"
            ]
          },
          "metadata": {},
          "output_type": "display_data"
        },
        {
          "data": {
            "text/html": [
              "Syncing run <strong><a href='https://wandb.ai/cs22m019/DL%20Final%20Assignment%201/runs/fvalbir5' target=\"_blank\">dazzling-sweep-17</a></strong> to <a href='https://wandb.ai/cs22m019/DL%20Final%20Assignment%201' target=\"_blank\">Weights & Biases</a> (<a href='https://wandb.me/run' target=\"_blank\">docs</a>)<br/>Sweep page: <a href='https://wandb.ai/cs22m019/DL%20Final%20Assignment%201/sweeps/eayjxkwm' target=\"_blank\">https://wandb.ai/cs22m019/DL%20Final%20Assignment%201/sweeps/eayjxkwm</a>"
            ],
            "text/plain": [
              "<IPython.core.display.HTML object>"
            ]
          },
          "metadata": {},
          "output_type": "display_data"
        },
        {
          "data": {
            "text/html": [
              " View project at <a href='https://wandb.ai/cs22m019/DL%20Final%20Assignment%201' target=\"_blank\">https://wandb.ai/cs22m019/DL%20Final%20Assignment%201</a>"
            ],
            "text/plain": [
              "<IPython.core.display.HTML object>"
            ]
          },
          "metadata": {},
          "output_type": "display_data"
        },
        {
          "data": {
            "text/html": [
              " View sweep at <a href='https://wandb.ai/cs22m019/DL%20Final%20Assignment%201/sweeps/eayjxkwm' target=\"_blank\">https://wandb.ai/cs22m019/DL%20Final%20Assignment%201/sweeps/eayjxkwm</a>"
            ],
            "text/plain": [
              "<IPython.core.display.HTML object>"
            ]
          },
          "metadata": {},
          "output_type": "display_data"
        },
        {
          "data": {
            "text/html": [
              " View run at <a href='https://wandb.ai/cs22m019/DL%20Final%20Assignment%201/runs/fvalbir5' target=\"_blank\">https://wandb.ai/cs22m019/DL%20Final%20Assignment%201/runs/fvalbir5</a>"
            ],
            "text/plain": [
              "<IPython.core.display.HTML object>"
            ]
          },
          "metadata": {},
          "output_type": "display_data"
        },
        {
          "name": "stdout",
          "output_type": "stream",
          "text": [
            "epoch:1, train loss:5.109666034674665, train accuracy:0.10766666666666666, validation loss:4.633067021834829, validation accuracy:0.11916666666666667\n",
            "epoch:2, train loss:4.2577011660296264, train accuracy:0.14631481481481481, validation loss:3.965286249413629, validation accuracy:0.1595\n",
            "epoch:3, train loss:3.7066499196556277, train accuracy:0.1870925925925926, validation loss:3.526913460890357, validation accuracy:0.20466666666666666\n",
            "epoch:4, train loss:3.3378125021615634, train accuracy:0.22566666666666665, validation loss:3.2171860499022094, validation accuracy:0.24083333333333334\n",
            "epoch:5, train loss:3.067671410829698, train accuracy:0.2612037037037037, validation loss:2.9767266932217895, validation accuracy:0.2748333333333333\n",
            "epoch:6, train loss:2.8549528265371147, train accuracy:0.292462962962963, validation loss:2.781559378828194, validation accuracy:0.3025\n",
            "epoch:7, train loss:2.6810737918020418, train accuracy:0.3195925925925926, validation loss:2.6206259810479944, validation accuracy:0.33166666666666667\n",
            "epoch:8, train loss:2.5333673222984996, train accuracy:0.3441666666666667, validation loss:2.4827887501544432, validation accuracy:0.35483333333333333\n",
            "epoch:9, train loss:2.404949436876705, train accuracy:0.36562962962962964, validation loss:2.3616510305587783, validation accuracy:0.3705\n",
            "epoch:10, train loss:2.2894136903367146, train accuracy:0.38616666666666666, validation loss:2.2527758944583134, validation accuracy:0.3915\n"
          ]
        },
        {
          "data": {
            "text/html": [
              "Waiting for W&B process to finish... <strong style=\"color:green\">(success).</strong>"
            ],
            "text/plain": [
              "<IPython.core.display.HTML object>"
            ]
          },
          "metadata": {},
          "output_type": "display_data"
        },
        {
          "data": {
            "application/vnd.jupyter.widget-view+json": {
              "model_id": "06dc6d77d7ad4a5c862584452c6fef13",
              "version_major": 2,
              "version_minor": 0
            },
            "text/plain": [
              "VBox(children=(Label(value='0.001 MB of 0.001 MB uploaded (0.000 MB deduped)\\r'), FloatProgress(value=1.0, max…"
            ]
          },
          "metadata": {},
          "output_type": "display_data"
        },
        {
          "data": {
            "text/html": [
              "<style>\n",
              "    table.wandb td:nth-child(1) { padding: 0 10px; text-align: left ; width: auto;} td:nth-child(2) {text-align: left ; width: 100%}\n",
              "    .wandb-row { display: flex; flex-direction: row; flex-wrap: wrap; justify-content: flex-start; width: 100% }\n",
              "    .wandb-col { display: flex; flex-direction: column; flex-basis: 100%; flex: 1; padding: 10px; }\n",
              "    </style>\n",
              "<div class=\"wandb-row\"><div class=\"wandb-col\"><h3>Run history:</h3><br/><table class=\"wandb\"><tr><td>train accuracy</td><td>▁▂▃▄▅▆▆▇▇█</td></tr><tr><td>train loss</td><td>█▆▅▄▃▂▂▂▁▁</td></tr><tr><td>validation accuracy</td><td>▁▂▃▄▅▆▆▇▇█</td></tr><tr><td>validation loss</td><td>█▆▅▄▃▃▂▂▁▁</td></tr></table><br/></div><div class=\"wandb-col\"><h3>Run summary:</h3><br/><table class=\"wandb\"><tr><td>train accuracy</td><td>0.38617</td></tr><tr><td>train loss</td><td>2.28941</td></tr><tr><td>validation accuracy</td><td>0.3915</td></tr><tr><td>validation loss</td><td>2.25278</td></tr></table><br/></div></div>"
            ],
            "text/plain": [
              "<IPython.core.display.HTML object>"
            ]
          },
          "metadata": {},
          "output_type": "display_data"
        },
        {
          "data": {
            "text/html": [
              " View run <strong style=\"color:#cdcd00\">dazzling-sweep-17</strong> at: <a href='https://wandb.ai/cs22m019/DL%20Final%20Assignment%201/runs/fvalbir5' target=\"_blank\">https://wandb.ai/cs22m019/DL%20Final%20Assignment%201/runs/fvalbir5</a><br/>Synced 6 W&B file(s), 0 media file(s), 0 artifact file(s) and 0 other file(s)"
            ],
            "text/plain": [
              "<IPython.core.display.HTML object>"
            ]
          },
          "metadata": {},
          "output_type": "display_data"
        },
        {
          "data": {
            "text/html": [
              "Find logs at: <code>.\\wandb\\run-20230310_014318-fvalbir5\\logs</code>"
            ],
            "text/plain": [
              "<IPython.core.display.HTML object>"
            ]
          },
          "metadata": {},
          "output_type": "display_data"
        },
        {
          "name": "stderr",
          "output_type": "stream",
          "text": [
            "\u001b[34m\u001b[1mwandb\u001b[0m: Agent Starting Run: p1iitxwo with config:\n",
            "\u001b[34m\u001b[1mwandb\u001b[0m: \tactivation: tanh\n",
            "\u001b[34m\u001b[1mwandb\u001b[0m: \tbatch_size: 32\n",
            "\u001b[34m\u001b[1mwandb\u001b[0m: \tepochs: 5\n",
            "\u001b[34m\u001b[1mwandb\u001b[0m: \tlearning_rate: 0.0001\n",
            "\u001b[34m\u001b[1mwandb\u001b[0m: \tnumber_of_hidden_layer: 3\n",
            "\u001b[34m\u001b[1mwandb\u001b[0m: \toptimizer: momentum\n",
            "\u001b[34m\u001b[1mwandb\u001b[0m: \tsize_of_hidden_layer: 32\n",
            "\u001b[34m\u001b[1mwandb\u001b[0m: \tweight_decay: 0.5\n",
            "\u001b[34m\u001b[1mwandb\u001b[0m: \tweight_initialization: Xavier\n"
          ]
        },
        {
          "data": {
            "text/html": [
              "Tracking run with wandb version 0.13.11"
            ],
            "text/plain": [
              "<IPython.core.display.HTML object>"
            ]
          },
          "metadata": {},
          "output_type": "display_data"
        },
        {
          "data": {
            "text/html": [
              "Run data is saved locally in <code>C:\\Users\\DELL\\Desktop\\wandb\\run-20230310_014531-p1iitxwo</code>"
            ],
            "text/plain": [
              "<IPython.core.display.HTML object>"
            ]
          },
          "metadata": {},
          "output_type": "display_data"
        },
        {
          "data": {
            "text/html": [
              "Syncing run <strong><a href='https://wandb.ai/cs22m019/DL%20Final%20Assignment%201/runs/p1iitxwo' target=\"_blank\">wild-sweep-18</a></strong> to <a href='https://wandb.ai/cs22m019/DL%20Final%20Assignment%201' target=\"_blank\">Weights & Biases</a> (<a href='https://wandb.me/run' target=\"_blank\">docs</a>)<br/>Sweep page: <a href='https://wandb.ai/cs22m019/DL%20Final%20Assignment%201/sweeps/eayjxkwm' target=\"_blank\">https://wandb.ai/cs22m019/DL%20Final%20Assignment%201/sweeps/eayjxkwm</a>"
            ],
            "text/plain": [
              "<IPython.core.display.HTML object>"
            ]
          },
          "metadata": {},
          "output_type": "display_data"
        },
        {
          "data": {
            "text/html": [
              " View project at <a href='https://wandb.ai/cs22m019/DL%20Final%20Assignment%201' target=\"_blank\">https://wandb.ai/cs22m019/DL%20Final%20Assignment%201</a>"
            ],
            "text/plain": [
              "<IPython.core.display.HTML object>"
            ]
          },
          "metadata": {},
          "output_type": "display_data"
        },
        {
          "data": {
            "text/html": [
              " View sweep at <a href='https://wandb.ai/cs22m019/DL%20Final%20Assignment%201/sweeps/eayjxkwm' target=\"_blank\">https://wandb.ai/cs22m019/DL%20Final%20Assignment%201/sweeps/eayjxkwm</a>"
            ],
            "text/plain": [
              "<IPython.core.display.HTML object>"
            ]
          },
          "metadata": {},
          "output_type": "display_data"
        },
        {
          "data": {
            "text/html": [
              " View run at <a href='https://wandb.ai/cs22m019/DL%20Final%20Assignment%201/runs/p1iitxwo' target=\"_blank\">https://wandb.ai/cs22m019/DL%20Final%20Assignment%201/runs/p1iitxwo</a>"
            ],
            "text/plain": [
              "<IPython.core.display.HTML object>"
            ]
          },
          "metadata": {},
          "output_type": "display_data"
        },
        {
          "name": "stdout",
          "output_type": "stream",
          "text": [
            "epoch:1, train loss:2.30163111564936, train accuracy:0.08944444444444444, validation loss:2.1785270504160756, validation accuracy:0.17766666666666667\n",
            "epoch:2, train loss:2.093626796799813, train accuracy:0.2749814814814815, validation loss:2.019405595323854, validation accuracy:0.3466666666666667\n",
            "epoch:3, train loss:1.9513880944271824, train accuracy:0.38692592592592595, validation loss:1.8922025153509305, validation accuracy:0.41733333333333333\n",
            "epoch:4, train loss:1.8361217197764121, train accuracy:0.42677777777777776, validation loss:1.788646732003574, validation accuracy:0.4385\n",
            "epoch:5, train loss:1.7415904518408614, train accuracy:0.45025925925925925, validation loss:1.7030234833847093, validation accuracy:0.45816666666666667\n"
          ]
        },
        {
          "data": {
            "text/html": [
              "Waiting for W&B process to finish... <strong style=\"color:green\">(success).</strong>"
            ],
            "text/plain": [
              "<IPython.core.display.HTML object>"
            ]
          },
          "metadata": {},
          "output_type": "display_data"
        },
        {
          "data": {
            "application/vnd.jupyter.widget-view+json": {
              "model_id": "1aa2251bb6af400b85a096d156c77244",
              "version_major": 2,
              "version_minor": 0
            },
            "text/plain": [
              "VBox(children=(Label(value='0.001 MB of 0.001 MB uploaded (0.000 MB deduped)\\r'), FloatProgress(value=1.0, max…"
            ]
          },
          "metadata": {},
          "output_type": "display_data"
        },
        {
          "data": {
            "text/html": [
              "<style>\n",
              "    table.wandb td:nth-child(1) { padding: 0 10px; text-align: left ; width: auto;} td:nth-child(2) {text-align: left ; width: 100%}\n",
              "    .wandb-row { display: flex; flex-direction: row; flex-wrap: wrap; justify-content: flex-start; width: 100% }\n",
              "    .wandb-col { display: flex; flex-direction: column; flex-basis: 100%; flex: 1; padding: 10px; }\n",
              "    </style>\n",
              "<div class=\"wandb-row\"><div class=\"wandb-col\"><h3>Run history:</h3><br/><table class=\"wandb\"><tr><td>train accuracy</td><td>▁▅▇██</td></tr><tr><td>train loss</td><td>█▅▄▂▁</td></tr><tr><td>validation accuracy</td><td>▁▅▇██</td></tr><tr><td>validation loss</td><td>█▆▄▂▁</td></tr></table><br/></div><div class=\"wandb-col\"><h3>Run summary:</h3><br/><table class=\"wandb\"><tr><td>train accuracy</td><td>0.45026</td></tr><tr><td>train loss</td><td>1.74159</td></tr><tr><td>validation accuracy</td><td>0.45817</td></tr><tr><td>validation loss</td><td>1.70302</td></tr></table><br/></div></div>"
            ],
            "text/plain": [
              "<IPython.core.display.HTML object>"
            ]
          },
          "metadata": {},
          "output_type": "display_data"
        },
        {
          "data": {
            "text/html": [
              " View run <strong style=\"color:#cdcd00\">wild-sweep-18</strong> at: <a href='https://wandb.ai/cs22m019/DL%20Final%20Assignment%201/runs/p1iitxwo' target=\"_blank\">https://wandb.ai/cs22m019/DL%20Final%20Assignment%201/runs/p1iitxwo</a><br/>Synced 6 W&B file(s), 0 media file(s), 0 artifact file(s) and 0 other file(s)"
            ],
            "text/plain": [
              "<IPython.core.display.HTML object>"
            ]
          },
          "metadata": {},
          "output_type": "display_data"
        },
        {
          "data": {
            "text/html": [
              "Find logs at: <code>.\\wandb\\run-20230310_014531-p1iitxwo\\logs</code>"
            ],
            "text/plain": [
              "<IPython.core.display.HTML object>"
            ]
          },
          "metadata": {},
          "output_type": "display_data"
        },
        {
          "name": "stderr",
          "output_type": "stream",
          "text": [
            "\u001b[34m\u001b[1mwandb\u001b[0m: Agent Starting Run: 56pghqpm with config:\n",
            "\u001b[34m\u001b[1mwandb\u001b[0m: \tactivation: sigmoid\n",
            "\u001b[34m\u001b[1mwandb\u001b[0m: \tbatch_size: 32\n",
            "\u001b[34m\u001b[1mwandb\u001b[0m: \tepochs: 10\n",
            "\u001b[34m\u001b[1mwandb\u001b[0m: \tlearning_rate: 0.0001\n",
            "\u001b[34m\u001b[1mwandb\u001b[0m: \tnumber_of_hidden_layer: 5\n",
            "\u001b[34m\u001b[1mwandb\u001b[0m: \toptimizer: momentum\n",
            "\u001b[34m\u001b[1mwandb\u001b[0m: \tsize_of_hidden_layer: 64\n",
            "\u001b[34m\u001b[1mwandb\u001b[0m: \tweight_decay: 0\n",
            "\u001b[34m\u001b[1mwandb\u001b[0m: \tweight_initialization: Xavier\n"
          ]
        },
        {
          "data": {
            "text/html": [
              "Tracking run with wandb version 0.13.11"
            ],
            "text/plain": [
              "<IPython.core.display.HTML object>"
            ]
          },
          "metadata": {},
          "output_type": "display_data"
        },
        {
          "data": {
            "text/html": [
              "Run data is saved locally in <code>C:\\Users\\DELL\\Desktop\\wandb\\run-20230310_014630-56pghqpm</code>"
            ],
            "text/plain": [
              "<IPython.core.display.HTML object>"
            ]
          },
          "metadata": {},
          "output_type": "display_data"
        },
        {
          "data": {
            "text/html": [
              "Syncing run <strong><a href='https://wandb.ai/cs22m019/DL%20Final%20Assignment%201/runs/56pghqpm' target=\"_blank\">rose-sweep-19</a></strong> to <a href='https://wandb.ai/cs22m019/DL%20Final%20Assignment%201' target=\"_blank\">Weights & Biases</a> (<a href='https://wandb.me/run' target=\"_blank\">docs</a>)<br/>Sweep page: <a href='https://wandb.ai/cs22m019/DL%20Final%20Assignment%201/sweeps/eayjxkwm' target=\"_blank\">https://wandb.ai/cs22m019/DL%20Final%20Assignment%201/sweeps/eayjxkwm</a>"
            ],
            "text/plain": [
              "<IPython.core.display.HTML object>"
            ]
          },
          "metadata": {},
          "output_type": "display_data"
        },
        {
          "data": {
            "text/html": [
              " View project at <a href='https://wandb.ai/cs22m019/DL%20Final%20Assignment%201' target=\"_blank\">https://wandb.ai/cs22m019/DL%20Final%20Assignment%201</a>"
            ],
            "text/plain": [
              "<IPython.core.display.HTML object>"
            ]
          },
          "metadata": {},
          "output_type": "display_data"
        },
        {
          "data": {
            "text/html": [
              " View sweep at <a href='https://wandb.ai/cs22m019/DL%20Final%20Assignment%201/sweeps/eayjxkwm' target=\"_blank\">https://wandb.ai/cs22m019/DL%20Final%20Assignment%201/sweeps/eayjxkwm</a>"
            ],
            "text/plain": [
              "<IPython.core.display.HTML object>"
            ]
          },
          "metadata": {},
          "output_type": "display_data"
        },
        {
          "data": {
            "text/html": [
              " View run at <a href='https://wandb.ai/cs22m019/DL%20Final%20Assignment%201/runs/56pghqpm' target=\"_blank\">https://wandb.ai/cs22m019/DL%20Final%20Assignment%201/runs/56pghqpm</a>"
            ],
            "text/plain": [
              "<IPython.core.display.HTML object>"
            ]
          },
          "metadata": {},
          "output_type": "display_data"
        },
        {
          "name": "stdout",
          "output_type": "stream",
          "text": [
            "epoch:1, train loss:2.549327112189583, train accuracy:0.10016666666666667, validation loss:2.508057653060533, validation accuracy:0.0985\n",
            "epoch:2, train loss:2.4671590774854324, train accuracy:0.10016666666666667, validation loss:2.4403762614576734, validation accuracy:0.0985\n",
            "epoch:3, train loss:2.412633541019467, train accuracy:0.10016666666666667, validation loss:2.394603493489624, validation accuracy:0.0985\n",
            "epoch:4, train loss:2.3755259956109755, train accuracy:0.10016666666666667, validation loss:2.3632145392082036, validation accuracy:0.0985\n",
            "epoch:5, train loss:2.3501647392937928, train accuracy:0.10016666666666667, validation loss:2.341855871494745, validation accuracy:0.0985\n",
            "epoch:6, train loss:2.3330389872083153, train accuracy:0.10016666666666667, validation loss:2.3275374699290623, validation accuracy:0.0985\n",
            "epoch:7, train loss:2.3216933008893696, train accuracy:0.10016666666666667, validation loss:2.318177162923713, validation accuracy:0.0985\n",
            "epoch:8, train loss:2.3143618050864214, train accuracy:0.10016666666666667, validation loss:2.3122017911197945, validation accuracy:0.0985\n",
            "epoch:9, train loss:2.3097372789595423, train accuracy:0.09994444444444445, validation loss:2.30847720381855, validation accuracy:0.0985\n",
            "epoch:10, train loss:2.3068736669286904, train accuracy:0.09868518518518518, validation loss:2.306180234975578, validation accuracy:0.0985\n"
          ]
        },
        {
          "data": {
            "text/html": [
              "Waiting for W&B process to finish... <strong style=\"color:green\">(success).</strong>"
            ],
            "text/plain": [
              "<IPython.core.display.HTML object>"
            ]
          },
          "metadata": {},
          "output_type": "display_data"
        },
        {
          "data": {
            "application/vnd.jupyter.widget-view+json": {
              "model_id": "1bd6d7e0da5347c38e05604e4f12fc98",
              "version_major": 2,
              "version_minor": 0
            },
            "text/plain": [
              "VBox(children=(Label(value='0.001 MB of 0.001 MB uploaded (0.000 MB deduped)\\r'), FloatProgress(value=1.0, max…"
            ]
          },
          "metadata": {},
          "output_type": "display_data"
        },
        {
          "data": {
            "text/html": [
              "<style>\n",
              "    table.wandb td:nth-child(1) { padding: 0 10px; text-align: left ; width: auto;} td:nth-child(2) {text-align: left ; width: 100%}\n",
              "    .wandb-row { display: flex; flex-direction: row; flex-wrap: wrap; justify-content: flex-start; width: 100% }\n",
              "    .wandb-col { display: flex; flex-direction: column; flex-basis: 100%; flex: 1; padding: 10px; }\n",
              "    </style>\n",
              "<div class=\"wandb-row\"><div class=\"wandb-col\"><h3>Run history:</h3><br/><table class=\"wandb\"><tr><td>train accuracy</td><td>████████▇▁</td></tr><tr><td>train loss</td><td>█▆▄▃▂▂▁▁▁▁</td></tr><tr><td>validation accuracy</td><td>▁▁▁▁▁▁▁▁▁▁</td></tr><tr><td>validation loss</td><td>█▆▄▃▂▂▁▁▁▁</td></tr></table><br/></div><div class=\"wandb-col\"><h3>Run summary:</h3><br/><table class=\"wandb\"><tr><td>train accuracy</td><td>0.09869</td></tr><tr><td>train loss</td><td>2.30687</td></tr><tr><td>validation accuracy</td><td>0.0985</td></tr><tr><td>validation loss</td><td>2.30618</td></tr></table><br/></div></div>"
            ],
            "text/plain": [
              "<IPython.core.display.HTML object>"
            ]
          },
          "metadata": {},
          "output_type": "display_data"
        },
        {
          "data": {
            "text/html": [
              " View run <strong style=\"color:#cdcd00\">rose-sweep-19</strong> at: <a href='https://wandb.ai/cs22m019/DL%20Final%20Assignment%201/runs/56pghqpm' target=\"_blank\">https://wandb.ai/cs22m019/DL%20Final%20Assignment%201/runs/56pghqpm</a><br/>Synced 6 W&B file(s), 0 media file(s), 0 artifact file(s) and 0 other file(s)"
            ],
            "text/plain": [
              "<IPython.core.display.HTML object>"
            ]
          },
          "metadata": {},
          "output_type": "display_data"
        },
        {
          "data": {
            "text/html": [
              "Find logs at: <code>.\\wandb\\run-20230310_014630-56pghqpm\\logs</code>"
            ],
            "text/plain": [
              "<IPython.core.display.HTML object>"
            ]
          },
          "metadata": {},
          "output_type": "display_data"
        },
        {
          "name": "stderr",
          "output_type": "stream",
          "text": [
            "\u001b[34m\u001b[1mwandb\u001b[0m: Agent Starting Run: eqx5qgwr with config:\n",
            "\u001b[34m\u001b[1mwandb\u001b[0m: \tactivation: tanh\n",
            "\u001b[34m\u001b[1mwandb\u001b[0m: \tbatch_size: 32\n",
            "\u001b[34m\u001b[1mwandb\u001b[0m: \tepochs: 10\n",
            "\u001b[34m\u001b[1mwandb\u001b[0m: \tlearning_rate: 0.001\n",
            "\u001b[34m\u001b[1mwandb\u001b[0m: \tnumber_of_hidden_layer: 3\n",
            "\u001b[34m\u001b[1mwandb\u001b[0m: \toptimizer: sgd\n",
            "\u001b[34m\u001b[1mwandb\u001b[0m: \tsize_of_hidden_layer: 32\n",
            "\u001b[34m\u001b[1mwandb\u001b[0m: \tweight_decay: 0\n",
            "\u001b[34m\u001b[1mwandb\u001b[0m: \tweight_initialization: random\n"
          ]
        },
        {
          "data": {
            "text/html": [
              "Tracking run with wandb version 0.13.11"
            ],
            "text/plain": [
              "<IPython.core.display.HTML object>"
            ]
          },
          "metadata": {},
          "output_type": "display_data"
        },
        {
          "data": {
            "text/html": [
              "Run data is saved locally in <code>C:\\Users\\DELL\\Desktop\\wandb\\run-20230310_014859-eqx5qgwr</code>"
            ],
            "text/plain": [
              "<IPython.core.display.HTML object>"
            ]
          },
          "metadata": {},
          "output_type": "display_data"
        },
        {
          "data": {
            "text/html": [
              "Syncing run <strong><a href='https://wandb.ai/cs22m019/DL%20Final%20Assignment%201/runs/eqx5qgwr' target=\"_blank\">stellar-sweep-20</a></strong> to <a href='https://wandb.ai/cs22m019/DL%20Final%20Assignment%201' target=\"_blank\">Weights & Biases</a> (<a href='https://wandb.me/run' target=\"_blank\">docs</a>)<br/>Sweep page: <a href='https://wandb.ai/cs22m019/DL%20Final%20Assignment%201/sweeps/eayjxkwm' target=\"_blank\">https://wandb.ai/cs22m019/DL%20Final%20Assignment%201/sweeps/eayjxkwm</a>"
            ],
            "text/plain": [
              "<IPython.core.display.HTML object>"
            ]
          },
          "metadata": {},
          "output_type": "display_data"
        },
        {
          "data": {
            "text/html": [
              " View project at <a href='https://wandb.ai/cs22m019/DL%20Final%20Assignment%201' target=\"_blank\">https://wandb.ai/cs22m019/DL%20Final%20Assignment%201</a>"
            ],
            "text/plain": [
              "<IPython.core.display.HTML object>"
            ]
          },
          "metadata": {},
          "output_type": "display_data"
        },
        {
          "data": {
            "text/html": [
              " View sweep at <a href='https://wandb.ai/cs22m019/DL%20Final%20Assignment%201/sweeps/eayjxkwm' target=\"_blank\">https://wandb.ai/cs22m019/DL%20Final%20Assignment%201/sweeps/eayjxkwm</a>"
            ],
            "text/plain": [
              "<IPython.core.display.HTML object>"
            ]
          },
          "metadata": {},
          "output_type": "display_data"
        },
        {
          "data": {
            "text/html": [
              " View run at <a href='https://wandb.ai/cs22m019/DL%20Final%20Assignment%201/runs/eqx5qgwr' target=\"_blank\">https://wandb.ai/cs22m019/DL%20Final%20Assignment%201/runs/eqx5qgwr</a>"
            ],
            "text/plain": [
              "<IPython.core.display.HTML object>"
            ]
          },
          "metadata": {},
          "output_type": "display_data"
        },
        {
          "name": "stdout",
          "output_type": "stream",
          "text": [
            "epoch:1, train loss:3.4077912097236642, train accuracy:0.11025925925925927, validation loss:3.300402213088289, validation accuracy:0.1205\n",
            "epoch:2, train loss:3.199502834357332, train accuracy:0.11537037037037037, validation loss:3.128511906794199, validation accuracy:0.12516666666666668\n",
            "epoch:3, train loss:3.047060569481769, train accuracy:0.1262037037037037, validation loss:2.9967490392459495, validation accuracy:0.14066666666666666\n",
            "epoch:4, train loss:2.9213071027860513, train accuracy:0.13720370370370372, validation loss:2.8830820408839104, validation accuracy:0.15133333333333332\n",
            "epoch:5, train loss:2.814547125467131, train accuracy:0.14881481481481482, validation loss:2.78625054838437, validation accuracy:0.1605\n",
            "epoch:6, train loss:2.7203475425115924, train accuracy:0.1627222222222222, validation loss:2.696190917810016, validation accuracy:0.1705\n",
            "epoch:7, train loss:2.6368478222544103, train accuracy:0.1764814814814815, validation loss:2.619184589350095, validation accuracy:0.18183333333333335\n",
            "epoch:8, train loss:2.5641224468619, train accuracy:0.1889074074074074, validation loss:2.5474740498925343, validation accuracy:0.19416666666666665\n",
            "epoch:9, train loss:2.496576078653009, train accuracy:0.20392592592592593, validation loss:2.4847377046940737, validation accuracy:0.21366666666666667\n",
            "epoch:10, train loss:2.434306943322782, train accuracy:0.21903703703703703, validation loss:2.424536971771185, validation accuracy:0.22683333333333333\n"
          ]
        },
        {
          "data": {
            "text/html": [
              "Waiting for W&B process to finish... <strong style=\"color:green\">(success).</strong>"
            ],
            "text/plain": [
              "<IPython.core.display.HTML object>"
            ]
          },
          "metadata": {},
          "output_type": "display_data"
        },
        {
          "data": {
            "application/vnd.jupyter.widget-view+json": {
              "model_id": "04cedafd19e94b369ffbe087d591ddd8",
              "version_major": 2,
              "version_minor": 0
            },
            "text/plain": [
              "VBox(children=(Label(value='0.001 MB of 0.001 MB uploaded (0.000 MB deduped)\\r'), FloatProgress(value=1.0, max…"
            ]
          },
          "metadata": {},
          "output_type": "display_data"
        },
        {
          "data": {
            "text/html": [
              "<style>\n",
              "    table.wandb td:nth-child(1) { padding: 0 10px; text-align: left ; width: auto;} td:nth-child(2) {text-align: left ; width: 100%}\n",
              "    .wandb-row { display: flex; flex-direction: row; flex-wrap: wrap; justify-content: flex-start; width: 100% }\n",
              "    .wandb-col { display: flex; flex-direction: column; flex-basis: 100%; flex: 1; padding: 10px; }\n",
              "    </style>\n",
              "<div class=\"wandb-row\"><div class=\"wandb-col\"><h3>Run history:</h3><br/><table class=\"wandb\"><tr><td>train accuracy</td><td>▁▁▂▃▃▄▅▆▇█</td></tr><tr><td>train loss</td><td>█▇▅▅▄▃▂▂▁▁</td></tr><tr><td>validation accuracy</td><td>▁▁▂▃▄▄▅▆▇█</td></tr><tr><td>validation loss</td><td>█▇▆▅▄▃▃▂▁▁</td></tr></table><br/></div><div class=\"wandb-col\"><h3>Run summary:</h3><br/><table class=\"wandb\"><tr><td>train accuracy</td><td>0.21904</td></tr><tr><td>train loss</td><td>2.43431</td></tr><tr><td>validation accuracy</td><td>0.22683</td></tr><tr><td>validation loss</td><td>2.42454</td></tr></table><br/></div></div>"
            ],
            "text/plain": [
              "<IPython.core.display.HTML object>"
            ]
          },
          "metadata": {},
          "output_type": "display_data"
        },
        {
          "data": {
            "text/html": [
              " View run <strong style=\"color:#cdcd00\">stellar-sweep-20</strong> at: <a href='https://wandb.ai/cs22m019/DL%20Final%20Assignment%201/runs/eqx5qgwr' target=\"_blank\">https://wandb.ai/cs22m019/DL%20Final%20Assignment%201/runs/eqx5qgwr</a><br/>Synced 6 W&B file(s), 0 media file(s), 0 artifact file(s) and 0 other file(s)"
            ],
            "text/plain": [
              "<IPython.core.display.HTML object>"
            ]
          },
          "metadata": {},
          "output_type": "display_data"
        },
        {
          "data": {
            "text/html": [
              "Find logs at: <code>.\\wandb\\run-20230310_014859-eqx5qgwr\\logs</code>"
            ],
            "text/plain": [
              "<IPython.core.display.HTML object>"
            ]
          },
          "metadata": {},
          "output_type": "display_data"
        },
        {
          "name": "stderr",
          "output_type": "stream",
          "text": [
            "\u001b[34m\u001b[1mwandb\u001b[0m: Agent Starting Run: 7lyg8ari with config:\n",
            "\u001b[34m\u001b[1mwandb\u001b[0m: \tactivation: sigmoid\n",
            "\u001b[34m\u001b[1mwandb\u001b[0m: \tbatch_size: 64\n",
            "\u001b[34m\u001b[1mwandb\u001b[0m: \tepochs: 10\n",
            "\u001b[34m\u001b[1mwandb\u001b[0m: \tlearning_rate: 0.0001\n",
            "\u001b[34m\u001b[1mwandb\u001b[0m: \tnumber_of_hidden_layer: 5\n",
            "\u001b[34m\u001b[1mwandb\u001b[0m: \toptimizer: adam\n",
            "\u001b[34m\u001b[1mwandb\u001b[0m: \tsize_of_hidden_layer: 64\n",
            "\u001b[34m\u001b[1mwandb\u001b[0m: \tweight_decay: 0.0005\n",
            "\u001b[34m\u001b[1mwandb\u001b[0m: \tweight_initialization: Xavier\n"
          ]
        },
        {
          "data": {
            "text/html": [
              "Tracking run with wandb version 0.13.11"
            ],
            "text/plain": [
              "<IPython.core.display.HTML object>"
            ]
          },
          "metadata": {},
          "output_type": "display_data"
        },
        {
          "data": {
            "text/html": [
              "Run data is saved locally in <code>C:\\Users\\DELL\\Desktop\\wandb\\run-20230310_015018-7lyg8ari</code>"
            ],
            "text/plain": [
              "<IPython.core.display.HTML object>"
            ]
          },
          "metadata": {},
          "output_type": "display_data"
        },
        {
          "data": {
            "text/html": [
              "Syncing run <strong><a href='https://wandb.ai/cs22m019/DL%20Final%20Assignment%201/runs/7lyg8ari' target=\"_blank\">jolly-sweep-21</a></strong> to <a href='https://wandb.ai/cs22m019/DL%20Final%20Assignment%201' target=\"_blank\">Weights & Biases</a> (<a href='https://wandb.me/run' target=\"_blank\">docs</a>)<br/>Sweep page: <a href='https://wandb.ai/cs22m019/DL%20Final%20Assignment%201/sweeps/eayjxkwm' target=\"_blank\">https://wandb.ai/cs22m019/DL%20Final%20Assignment%201/sweeps/eayjxkwm</a>"
            ],
            "text/plain": [
              "<IPython.core.display.HTML object>"
            ]
          },
          "metadata": {},
          "output_type": "display_data"
        },
        {
          "data": {
            "text/html": [
              " View project at <a href='https://wandb.ai/cs22m019/DL%20Final%20Assignment%201' target=\"_blank\">https://wandb.ai/cs22m019/DL%20Final%20Assignment%201</a>"
            ],
            "text/plain": [
              "<IPython.core.display.HTML object>"
            ]
          },
          "metadata": {},
          "output_type": "display_data"
        },
        {
          "data": {
            "text/html": [
              " View sweep at <a href='https://wandb.ai/cs22m019/DL%20Final%20Assignment%201/sweeps/eayjxkwm' target=\"_blank\">https://wandb.ai/cs22m019/DL%20Final%20Assignment%201/sweeps/eayjxkwm</a>"
            ],
            "text/plain": [
              "<IPython.core.display.HTML object>"
            ]
          },
          "metadata": {},
          "output_type": "display_data"
        },
        {
          "data": {
            "text/html": [
              " View run at <a href='https://wandb.ai/cs22m019/DL%20Final%20Assignment%201/runs/7lyg8ari' target=\"_blank\">https://wandb.ai/cs22m019/DL%20Final%20Assignment%201/runs/7lyg8ari</a>"
            ],
            "text/plain": [
              "<IPython.core.display.HTML object>"
            ]
          },
          "metadata": {},
          "output_type": "display_data"
        },
        {
          "name": "stdout",
          "output_type": "stream",
          "text": [
            "epoch:1, train loss:2.5175655099801006, train accuracy:0.1002962962962963, validation loss:2.5020653903742156, validation accuracy:0.09733333333333333\n",
            "epoch:2, train loss:2.485786343296177, train accuracy:0.1002962962962963, validation loss:2.4734267797246883, validation accuracy:0.09733333333333333\n",
            "epoch:3, train loss:2.459771921422025, train accuracy:0.1002962962962963, validation loss:2.4492557432252675, validation accuracy:0.09733333333333333\n",
            "epoch:4, train loss:2.4376299750483357, train accuracy:0.1002962962962963, validation loss:2.428501429155858, validation accuracy:0.09733333333333333\n",
            "epoch:5, train loss:2.4184864629827545, train accuracy:0.1002962962962963, validation loss:2.4103799419114456, validation accuracy:0.09733333333333333\n",
            "epoch:6, train loss:2.4018099657116214, train accuracy:0.1002962962962963, validation loss:2.394704111673766, validation accuracy:0.09733333333333333\n",
            "epoch:7, train loss:2.387227692066835, train accuracy:0.1002962962962963, validation loss:2.380889627813941, validation accuracy:0.09733333333333333\n",
            "epoch:8, train loss:2.374503455733637, train accuracy:0.1002962962962963, validation loss:2.3688464741927957, validation accuracy:0.09733333333333333\n",
            "epoch:9, train loss:2.36333348500381, train accuracy:0.1002962962962963, validation loss:2.3583887451994103, validation accuracy:0.09733333333333333\n",
            "epoch:10, train loss:2.3536706402777763, train accuracy:0.1002962962962963, validation loss:2.349249357814104, validation accuracy:0.09733333333333333\n"
          ]
        },
        {
          "data": {
            "text/html": [
              "Waiting for W&B process to finish... <strong style=\"color:green\">(success).</strong>"
            ],
            "text/plain": [
              "<IPython.core.display.HTML object>"
            ]
          },
          "metadata": {},
          "output_type": "display_data"
        },
        {
          "data": {
            "text/html": [
              "<style>\n",
              "    table.wandb td:nth-child(1) { padding: 0 10px; text-align: left ; width: auto;} td:nth-child(2) {text-align: left ; width: 100%}\n",
              "    .wandb-row { display: flex; flex-direction: row; flex-wrap: wrap; justify-content: flex-start; width: 100% }\n",
              "    .wandb-col { display: flex; flex-direction: column; flex-basis: 100%; flex: 1; padding: 10px; }\n",
              "    </style>\n",
              "<div class=\"wandb-row\"><div class=\"wandb-col\"><h3>Run history:</h3><br/><table class=\"wandb\"><tr><td>train accuracy</td><td>▁▁▁▁▁▁▁▁▁▁</td></tr><tr><td>train loss</td><td>█▇▆▅▄▃▂▂▁▁</td></tr><tr><td>validation accuracy</td><td>▁▁▁▁▁▁▁▁▁▁</td></tr><tr><td>validation loss</td><td>█▇▆▅▄▃▂▂▁▁</td></tr></table><br/></div><div class=\"wandb-col\"><h3>Run summary:</h3><br/><table class=\"wandb\"><tr><td>train accuracy</td><td>0.1003</td></tr><tr><td>train loss</td><td>2.35367</td></tr><tr><td>validation accuracy</td><td>0.09733</td></tr><tr><td>validation loss</td><td>2.34925</td></tr></table><br/></div></div>"
            ],
            "text/plain": [
              "<IPython.core.display.HTML object>"
            ]
          },
          "metadata": {},
          "output_type": "display_data"
        },
        {
          "data": {
            "text/html": [
              " View run <strong style=\"color:#cdcd00\">jolly-sweep-21</strong> at: <a href='https://wandb.ai/cs22m019/DL%20Final%20Assignment%201/runs/7lyg8ari' target=\"_blank\">https://wandb.ai/cs22m019/DL%20Final%20Assignment%201/runs/7lyg8ari</a><br/>Synced 6 W&B file(s), 0 media file(s), 0 artifact file(s) and 0 other file(s)"
            ],
            "text/plain": [
              "<IPython.core.display.HTML object>"
            ]
          },
          "metadata": {},
          "output_type": "display_data"
        },
        {
          "data": {
            "text/html": [
              "Find logs at: <code>.\\wandb\\run-20230310_015018-7lyg8ari\\logs</code>"
            ],
            "text/plain": [
              "<IPython.core.display.HTML object>"
            ]
          },
          "metadata": {},
          "output_type": "display_data"
        },
        {
          "name": "stderr",
          "output_type": "stream",
          "text": [
            "\u001b[34m\u001b[1mwandb\u001b[0m: Agent Starting Run: ryud70n3 with config:\n",
            "\u001b[34m\u001b[1mwandb\u001b[0m: \tactivation: sigmoid\n",
            "\u001b[34m\u001b[1mwandb\u001b[0m: \tbatch_size: 32\n",
            "\u001b[34m\u001b[1mwandb\u001b[0m: \tepochs: 5\n",
            "\u001b[34m\u001b[1mwandb\u001b[0m: \tlearning_rate: 0.001\n",
            "\u001b[34m\u001b[1mwandb\u001b[0m: \tnumber_of_hidden_layer: 5\n",
            "\u001b[34m\u001b[1mwandb\u001b[0m: \toptimizer: nadam\n",
            "\u001b[34m\u001b[1mwandb\u001b[0m: \tsize_of_hidden_layer: 32\n",
            "\u001b[34m\u001b[1mwandb\u001b[0m: \tweight_decay: 0.0005\n",
            "\u001b[34m\u001b[1mwandb\u001b[0m: \tweight_initialization: Xavier\n"
          ]
        },
        {
          "data": {
            "text/html": [
              "Tracking run with wandb version 0.13.11"
            ],
            "text/plain": [
              "<IPython.core.display.HTML object>"
            ]
          },
          "metadata": {},
          "output_type": "display_data"
        },
        {
          "data": {
            "text/html": [
              "Run data is saved locally in <code>C:\\Users\\DELL\\Desktop\\wandb\\run-20230310_015247-ryud70n3</code>"
            ],
            "text/plain": [
              "<IPython.core.display.HTML object>"
            ]
          },
          "metadata": {},
          "output_type": "display_data"
        },
        {
          "data": {
            "text/html": [
              "Syncing run <strong><a href='https://wandb.ai/cs22m019/DL%20Final%20Assignment%201/runs/ryud70n3' target=\"_blank\">effortless-sweep-22</a></strong> to <a href='https://wandb.ai/cs22m019/DL%20Final%20Assignment%201' target=\"_blank\">Weights & Biases</a> (<a href='https://wandb.me/run' target=\"_blank\">docs</a>)<br/>Sweep page: <a href='https://wandb.ai/cs22m019/DL%20Final%20Assignment%201/sweeps/eayjxkwm' target=\"_blank\">https://wandb.ai/cs22m019/DL%20Final%20Assignment%201/sweeps/eayjxkwm</a>"
            ],
            "text/plain": [
              "<IPython.core.display.HTML object>"
            ]
          },
          "metadata": {},
          "output_type": "display_data"
        },
        {
          "data": {
            "text/html": [
              " View project at <a href='https://wandb.ai/cs22m019/DL%20Final%20Assignment%201' target=\"_blank\">https://wandb.ai/cs22m019/DL%20Final%20Assignment%201</a>"
            ],
            "text/plain": [
              "<IPython.core.display.HTML object>"
            ]
          },
          "metadata": {},
          "output_type": "display_data"
        },
        {
          "data": {
            "text/html": [
              " View sweep at <a href='https://wandb.ai/cs22m019/DL%20Final%20Assignment%201/sweeps/eayjxkwm' target=\"_blank\">https://wandb.ai/cs22m019/DL%20Final%20Assignment%201/sweeps/eayjxkwm</a>"
            ],
            "text/plain": [
              "<IPython.core.display.HTML object>"
            ]
          },
          "metadata": {},
          "output_type": "display_data"
        },
        {
          "data": {
            "text/html": [
              " View run at <a href='https://wandb.ai/cs22m019/DL%20Final%20Assignment%201/runs/ryud70n3' target=\"_blank\">https://wandb.ai/cs22m019/DL%20Final%20Assignment%201/runs/ryud70n3</a>"
            ],
            "text/plain": [
              "<IPython.core.display.HTML object>"
            ]
          },
          "metadata": {},
          "output_type": "display_data"
        },
        {
          "name": "stdout",
          "output_type": "stream",
          "text": [
            "epoch:1, train loss:2.3364126528604565, train accuracy:0.09985185185185186, validation loss:2.301373506162104, validation accuracy:0.09816666666666667\n",
            "epoch:2, train loss:2.2981551861953338, train accuracy:0.12651851851851853, validation loss:2.2946966282272645, validation accuracy:0.25283333333333335\n",
            "epoch:3, train loss:2.2889821627809295, train accuracy:0.3351296296296296, validation loss:2.280731797487777, validation accuracy:0.2733333333333333\n",
            "epoch:4, train loss:2.2664844169384453, train accuracy:0.40114814814814814, validation loss:2.245352419496103, validation accuracy:0.4875\n",
            "epoch:5, train loss:2.2087520796733813, train accuracy:0.4426111111111111, validation loss:2.158821084612278, validation accuracy:0.4735\n"
          ]
        },
        {
          "data": {
            "text/html": [
              "Waiting for W&B process to finish... <strong style=\"color:green\">(success).</strong>"
            ],
            "text/plain": [
              "<IPython.core.display.HTML object>"
            ]
          },
          "metadata": {},
          "output_type": "display_data"
        },
        {
          "data": {
            "application/vnd.jupyter.widget-view+json": {
              "model_id": "a36a7dab69d14d34acc863cc23c7fc8d",
              "version_major": 2,
              "version_minor": 0
            },
            "text/plain": [
              "VBox(children=(Label(value='0.001 MB of 0.001 MB uploaded (0.000 MB deduped)\\r'), FloatProgress(value=1.0, max…"
            ]
          },
          "metadata": {},
          "output_type": "display_data"
        },
        {
          "data": {
            "text/html": [
              "<style>\n",
              "    table.wandb td:nth-child(1) { padding: 0 10px; text-align: left ; width: auto;} td:nth-child(2) {text-align: left ; width: 100%}\n",
              "    .wandb-row { display: flex; flex-direction: row; flex-wrap: wrap; justify-content: flex-start; width: 100% }\n",
              "    .wandb-col { display: flex; flex-direction: column; flex-basis: 100%; flex: 1; padding: 10px; }\n",
              "    </style>\n",
              "<div class=\"wandb-row\"><div class=\"wandb-col\"><h3>Run history:</h3><br/><table class=\"wandb\"><tr><td>train accuracy</td><td>▁▂▆▇█</td></tr><tr><td>train loss</td><td>█▆▅▄▁</td></tr><tr><td>validation accuracy</td><td>▁▄▄██</td></tr><tr><td>validation loss</td><td>██▇▅▁</td></tr></table><br/></div><div class=\"wandb-col\"><h3>Run summary:</h3><br/><table class=\"wandb\"><tr><td>train accuracy</td><td>0.44261</td></tr><tr><td>train loss</td><td>2.20875</td></tr><tr><td>validation accuracy</td><td>0.4735</td></tr><tr><td>validation loss</td><td>2.15882</td></tr></table><br/></div></div>"
            ],
            "text/plain": [
              "<IPython.core.display.HTML object>"
            ]
          },
          "metadata": {},
          "output_type": "display_data"
        },
        {
          "data": {
            "text/html": [
              " View run <strong style=\"color:#cdcd00\">effortless-sweep-22</strong> at: <a href='https://wandb.ai/cs22m019/DL%20Final%20Assignment%201/runs/ryud70n3' target=\"_blank\">https://wandb.ai/cs22m019/DL%20Final%20Assignment%201/runs/ryud70n3</a><br/>Synced 6 W&B file(s), 0 media file(s), 0 artifact file(s) and 0 other file(s)"
            ],
            "text/plain": [
              "<IPython.core.display.HTML object>"
            ]
          },
          "metadata": {},
          "output_type": "display_data"
        },
        {
          "data": {
            "text/html": [
              "Find logs at: <code>.\\wandb\\run-20230310_015247-ryud70n3\\logs</code>"
            ],
            "text/plain": [
              "<IPython.core.display.HTML object>"
            ]
          },
          "metadata": {},
          "output_type": "display_data"
        },
        {
          "name": "stderr",
          "output_type": "stream",
          "text": [
            "\u001b[34m\u001b[1mwandb\u001b[0m: Agent Starting Run: pkvkgbwz with config:\n",
            "\u001b[34m\u001b[1mwandb\u001b[0m: \tactivation: tanh\n",
            "\u001b[34m\u001b[1mwandb\u001b[0m: \tbatch_size: 16\n",
            "\u001b[34m\u001b[1mwandb\u001b[0m: \tepochs: 10\n",
            "\u001b[34m\u001b[1mwandb\u001b[0m: \tlearning_rate: 0.001\n",
            "\u001b[34m\u001b[1mwandb\u001b[0m: \tnumber_of_hidden_layer: 3\n",
            "\u001b[34m\u001b[1mwandb\u001b[0m: \toptimizer: nestrov\n",
            "\u001b[34m\u001b[1mwandb\u001b[0m: \tsize_of_hidden_layer: 32\n",
            "\u001b[34m\u001b[1mwandb\u001b[0m: \tweight_decay: 0\n",
            "\u001b[34m\u001b[1mwandb\u001b[0m: \tweight_initialization: Xavier\n"
          ]
        },
        {
          "data": {
            "text/html": [
              "Tracking run with wandb version 0.13.11"
            ],
            "text/plain": [
              "<IPython.core.display.HTML object>"
            ]
          },
          "metadata": {},
          "output_type": "display_data"
        },
        {
          "data": {
            "text/html": [
              "Run data is saved locally in <code>C:\\Users\\DELL\\Desktop\\wandb\\run-20230310_015356-pkvkgbwz</code>"
            ],
            "text/plain": [
              "<IPython.core.display.HTML object>"
            ]
          },
          "metadata": {},
          "output_type": "display_data"
        },
        {
          "data": {
            "text/html": [
              "Syncing run <strong><a href='https://wandb.ai/cs22m019/DL%20Final%20Assignment%201/runs/pkvkgbwz' target=\"_blank\">noble-sweep-23</a></strong> to <a href='https://wandb.ai/cs22m019/DL%20Final%20Assignment%201' target=\"_blank\">Weights & Biases</a> (<a href='https://wandb.me/run' target=\"_blank\">docs</a>)<br/>Sweep page: <a href='https://wandb.ai/cs22m019/DL%20Final%20Assignment%201/sweeps/eayjxkwm' target=\"_blank\">https://wandb.ai/cs22m019/DL%20Final%20Assignment%201/sweeps/eayjxkwm</a>"
            ],
            "text/plain": [
              "<IPython.core.display.HTML object>"
            ]
          },
          "metadata": {},
          "output_type": "display_data"
        },
        {
          "data": {
            "text/html": [
              " View project at <a href='https://wandb.ai/cs22m019/DL%20Final%20Assignment%201' target=\"_blank\">https://wandb.ai/cs22m019/DL%20Final%20Assignment%201</a>"
            ],
            "text/plain": [
              "<IPython.core.display.HTML object>"
            ]
          },
          "metadata": {},
          "output_type": "display_data"
        },
        {
          "data": {
            "text/html": [
              " View sweep at <a href='https://wandb.ai/cs22m019/DL%20Final%20Assignment%201/sweeps/eayjxkwm' target=\"_blank\">https://wandb.ai/cs22m019/DL%20Final%20Assignment%201/sweeps/eayjxkwm</a>"
            ],
            "text/plain": [
              "<IPython.core.display.HTML object>"
            ]
          },
          "metadata": {},
          "output_type": "display_data"
        },
        {
          "data": {
            "text/html": [
              " View run at <a href='https://wandb.ai/cs22m019/DL%20Final%20Assignment%201/runs/pkvkgbwz' target=\"_blank\">https://wandb.ai/cs22m019/DL%20Final%20Assignment%201/runs/pkvkgbwz</a>"
            ],
            "text/plain": [
              "<IPython.core.display.HTML object>"
            ]
          },
          "metadata": {},
          "output_type": "display_data"
        },
        {
          "name": "stdout",
          "output_type": "stream",
          "text": [
            "epoch:1, train loss:1.3951208787268123, train accuracy:0.5912592592592593, validation loss:1.003768449542712, validation accuracy:0.706\n",
            "epoch:2, train loss:0.8579767966163608, train accuracy:0.7354074074074074, validation loss:0.7638807540001508, validation accuracy:0.7516666666666667\n",
            "epoch:3, train loss:0.7036876468748892, train accuracy:0.7666666666666667, validation loss:0.6629032079734053, validation accuracy:0.7736666666666666\n",
            "epoch:4, train loss:0.6254635777385608, train accuracy:0.7890925925925926, validation loss:0.6021940424162284, validation accuracy:0.7953333333333333\n",
            "epoch:5, train loss:0.5749947934993026, train accuracy:0.8049814814814815, validation loss:0.5595235712488359, validation accuracy:0.8053333333333333\n",
            "epoch:6, train loss:0.5392370272508553, train accuracy:0.8158518518518518, validation loss:0.5303805913703924, validation accuracy:0.8146666666666667\n",
            "epoch:7, train loss:0.5135679622050263, train accuracy:0.8236851851851852, validation loss:0.5088737974511774, validation accuracy:0.8236666666666667\n",
            "epoch:8, train loss:0.4939314174917472, train accuracy:0.8284444444444444, validation loss:0.492625078396656, validation accuracy:0.826\n",
            "epoch:9, train loss:0.4783421835705416, train accuracy:0.8337222222222223, validation loss:0.4796113175572115, validation accuracy:0.8305\n",
            "epoch:10, train loss:0.4654772325790772, train accuracy:0.837, validation loss:0.46933679187539207, validation accuracy:0.833\n"
          ]
        },
        {
          "data": {
            "text/html": [
              "Waiting for W&B process to finish... <strong style=\"color:green\">(success).</strong>"
            ],
            "text/plain": [
              "<IPython.core.display.HTML object>"
            ]
          },
          "metadata": {},
          "output_type": "display_data"
        },
        {
          "data": {
            "text/html": [
              "<style>\n",
              "    table.wandb td:nth-child(1) { padding: 0 10px; text-align: left ; width: auto;} td:nth-child(2) {text-align: left ; width: 100%}\n",
              "    .wandb-row { display: flex; flex-direction: row; flex-wrap: wrap; justify-content: flex-start; width: 100% }\n",
              "    .wandb-col { display: flex; flex-direction: column; flex-basis: 100%; flex: 1; padding: 10px; }\n",
              "    </style>\n",
              "<div class=\"wandb-row\"><div class=\"wandb-col\"><h3>Run history:</h3><br/><table class=\"wandb\"><tr><td>train accuracy</td><td>▁▅▆▇▇▇████</td></tr><tr><td>train loss</td><td>█▄▃▂▂▂▁▁▁▁</td></tr><tr><td>validation accuracy</td><td>▁▄▅▆▆▇▇███</td></tr><tr><td>validation loss</td><td>█▅▄▃▂▂▂▁▁▁</td></tr></table><br/></div><div class=\"wandb-col\"><h3>Run summary:</h3><br/><table class=\"wandb\"><tr><td>train accuracy</td><td>0.837</td></tr><tr><td>train loss</td><td>0.46548</td></tr><tr><td>validation accuracy</td><td>0.833</td></tr><tr><td>validation loss</td><td>0.46934</td></tr></table><br/></div></div>"
            ],
            "text/plain": [
              "<IPython.core.display.HTML object>"
            ]
          },
          "metadata": {},
          "output_type": "display_data"
        },
        {
          "data": {
            "text/html": [
              " View run <strong style=\"color:#cdcd00\">noble-sweep-23</strong> at: <a href='https://wandb.ai/cs22m019/DL%20Final%20Assignment%201/runs/pkvkgbwz' target=\"_blank\">https://wandb.ai/cs22m019/DL%20Final%20Assignment%201/runs/pkvkgbwz</a><br/>Synced 6 W&B file(s), 0 media file(s), 0 artifact file(s) and 0 other file(s)"
            ],
            "text/plain": [
              "<IPython.core.display.HTML object>"
            ]
          },
          "metadata": {},
          "output_type": "display_data"
        },
        {
          "data": {
            "text/html": [
              "Find logs at: <code>.\\wandb\\run-20230310_015356-pkvkgbwz\\logs</code>"
            ],
            "text/plain": [
              "<IPython.core.display.HTML object>"
            ]
          },
          "metadata": {},
          "output_type": "display_data"
        },
        {
          "name": "stderr",
          "output_type": "stream",
          "text": [
            "\u001b[34m\u001b[1mwandb\u001b[0m: Agent Starting Run: owyhkc2x with config:\n",
            "\u001b[34m\u001b[1mwandb\u001b[0m: \tactivation: tanh\n",
            "\u001b[34m\u001b[1mwandb\u001b[0m: \tbatch_size: 64\n",
            "\u001b[34m\u001b[1mwandb\u001b[0m: \tepochs: 5\n",
            "\u001b[34m\u001b[1mwandb\u001b[0m: \tlearning_rate: 0.001\n",
            "\u001b[34m\u001b[1mwandb\u001b[0m: \tnumber_of_hidden_layer: 4\n",
            "\u001b[34m\u001b[1mwandb\u001b[0m: \toptimizer: nestrov\n",
            "\u001b[34m\u001b[1mwandb\u001b[0m: \tsize_of_hidden_layer: 64\n",
            "\u001b[34m\u001b[1mwandb\u001b[0m: \tweight_decay: 0.5\n",
            "\u001b[34m\u001b[1mwandb\u001b[0m: \tweight_initialization: random\n"
          ]
        },
        {
          "data": {
            "text/html": [
              "Tracking run with wandb version 0.13.11"
            ],
            "text/plain": [
              "<IPython.core.display.HTML object>"
            ]
          },
          "metadata": {},
          "output_type": "display_data"
        },
        {
          "data": {
            "text/html": [
              "Run data is saved locally in <code>C:\\Users\\DELL\\Desktop\\wandb\\run-20230310_015552-owyhkc2x</code>"
            ],
            "text/plain": [
              "<IPython.core.display.HTML object>"
            ]
          },
          "metadata": {},
          "output_type": "display_data"
        },
        {
          "data": {
            "text/html": [
              "Syncing run <strong><a href='https://wandb.ai/cs22m019/DL%20Final%20Assignment%201/runs/owyhkc2x' target=\"_blank\">stellar-sweep-24</a></strong> to <a href='https://wandb.ai/cs22m019/DL%20Final%20Assignment%201' target=\"_blank\">Weights & Biases</a> (<a href='https://wandb.me/run' target=\"_blank\">docs</a>)<br/>Sweep page: <a href='https://wandb.ai/cs22m019/DL%20Final%20Assignment%201/sweeps/eayjxkwm' target=\"_blank\">https://wandb.ai/cs22m019/DL%20Final%20Assignment%201/sweeps/eayjxkwm</a>"
            ],
            "text/plain": [
              "<IPython.core.display.HTML object>"
            ]
          },
          "metadata": {},
          "output_type": "display_data"
        },
        {
          "data": {
            "text/html": [
              " View project at <a href='https://wandb.ai/cs22m019/DL%20Final%20Assignment%201' target=\"_blank\">https://wandb.ai/cs22m019/DL%20Final%20Assignment%201</a>"
            ],
            "text/plain": [
              "<IPython.core.display.HTML object>"
            ]
          },
          "metadata": {},
          "output_type": "display_data"
        },
        {
          "data": {
            "text/html": [
              " View sweep at <a href='https://wandb.ai/cs22m019/DL%20Final%20Assignment%201/sweeps/eayjxkwm' target=\"_blank\">https://wandb.ai/cs22m019/DL%20Final%20Assignment%201/sweeps/eayjxkwm</a>"
            ],
            "text/plain": [
              "<IPython.core.display.HTML object>"
            ]
          },
          "metadata": {},
          "output_type": "display_data"
        },
        {
          "data": {
            "text/html": [
              " View run at <a href='https://wandb.ai/cs22m019/DL%20Final%20Assignment%201/runs/owyhkc2x' target=\"_blank\">https://wandb.ai/cs22m019/DL%20Final%20Assignment%201/runs/owyhkc2x</a>"
            ],
            "text/plain": [
              "<IPython.core.display.HTML object>"
            ]
          },
          "metadata": {},
          "output_type": "display_data"
        },
        {
          "name": "stdout",
          "output_type": "stream",
          "text": [
            "epoch:1, train loss:4.762405424373785, train accuracy:0.17685185185185184, validation loss:3.3980915799772164, validation accuracy:0.2855\n",
            "epoch:2, train loss:2.848721665816979, train accuracy:0.37457407407407406, validation loss:2.6516386896266706, validation accuracy:0.4115\n",
            "epoch:3, train loss:2.3901697625319485, train accuracy:0.4711296296296296, validation loss:2.3430194451117896, validation accuracy:0.4811666666666667\n",
            "epoch:4, train loss:2.1687376118033352, train accuracy:0.5162222222222222, validation loss:2.162919886147529, validation accuracy:0.5211666666666667\n",
            "epoch:5, train loss:2.0338130036399074, train accuracy:0.549074074074074, validation loss:2.0460095766947655, validation accuracy:0.5476666666666666\n"
          ]
        },
        {
          "data": {
            "text/html": [
              "Waiting for W&B process to finish... <strong style=\"color:green\">(success).</strong>"
            ],
            "text/plain": [
              "<IPython.core.display.HTML object>"
            ]
          },
          "metadata": {},
          "output_type": "display_data"
        },
        {
          "data": {
            "application/vnd.jupyter.widget-view+json": {
              "model_id": "797092410f484c3f9c42caab3f4559d3",
              "version_major": 2,
              "version_minor": 0
            },
            "text/plain": [
              "VBox(children=(Label(value='0.001 MB of 0.001 MB uploaded (0.000 MB deduped)\\r'), FloatProgress(value=1.0, max…"
            ]
          },
          "metadata": {},
          "output_type": "display_data"
        },
        {
          "data": {
            "text/html": [
              "<style>\n",
              "    table.wandb td:nth-child(1) { padding: 0 10px; text-align: left ; width: auto;} td:nth-child(2) {text-align: left ; width: 100%}\n",
              "    .wandb-row { display: flex; flex-direction: row; flex-wrap: wrap; justify-content: flex-start; width: 100% }\n",
              "    .wandb-col { display: flex; flex-direction: column; flex-basis: 100%; flex: 1; padding: 10px; }\n",
              "    </style>\n",
              "<div class=\"wandb-row\"><div class=\"wandb-col\"><h3>Run history:</h3><br/><table class=\"wandb\"><tr><td>train accuracy</td><td>▁▅▇▇█</td></tr><tr><td>train loss</td><td>█▃▂▁▁</td></tr><tr><td>validation accuracy</td><td>▁▄▆▇█</td></tr><tr><td>validation loss</td><td>█▄▃▂▁</td></tr></table><br/></div><div class=\"wandb-col\"><h3>Run summary:</h3><br/><table class=\"wandb\"><tr><td>train accuracy</td><td>0.54907</td></tr><tr><td>train loss</td><td>2.03381</td></tr><tr><td>validation accuracy</td><td>0.54767</td></tr><tr><td>validation loss</td><td>2.04601</td></tr></table><br/></div></div>"
            ],
            "text/plain": [
              "<IPython.core.display.HTML object>"
            ]
          },
          "metadata": {},
          "output_type": "display_data"
        },
        {
          "data": {
            "text/html": [
              " View run <strong style=\"color:#cdcd00\">stellar-sweep-24</strong> at: <a href='https://wandb.ai/cs22m019/DL%20Final%20Assignment%201/runs/owyhkc2x' target=\"_blank\">https://wandb.ai/cs22m019/DL%20Final%20Assignment%201/runs/owyhkc2x</a><br/>Synced 6 W&B file(s), 0 media file(s), 0 artifact file(s) and 0 other file(s)"
            ],
            "text/plain": [
              "<IPython.core.display.HTML object>"
            ]
          },
          "metadata": {},
          "output_type": "display_data"
        },
        {
          "data": {
            "text/html": [
              "Find logs at: <code>.\\wandb\\run-20230310_015552-owyhkc2x\\logs</code>"
            ],
            "text/plain": [
              "<IPython.core.display.HTML object>"
            ]
          },
          "metadata": {},
          "output_type": "display_data"
        },
        {
          "name": "stderr",
          "output_type": "stream",
          "text": [
            "\u001b[34m\u001b[1mwandb\u001b[0m: Agent Starting Run: mesduglx with config:\n",
            "\u001b[34m\u001b[1mwandb\u001b[0m: \tactivation: ReLU\n",
            "\u001b[34m\u001b[1mwandb\u001b[0m: \tbatch_size: 64\n",
            "\u001b[34m\u001b[1mwandb\u001b[0m: \tepochs: 10\n",
            "\u001b[34m\u001b[1mwandb\u001b[0m: \tlearning_rate: 0.0001\n",
            "\u001b[34m\u001b[1mwandb\u001b[0m: \tnumber_of_hidden_layer: 3\n",
            "\u001b[34m\u001b[1mwandb\u001b[0m: \toptimizer: rmsprop\n",
            "\u001b[34m\u001b[1mwandb\u001b[0m: \tsize_of_hidden_layer: 128\n",
            "\u001b[34m\u001b[1mwandb\u001b[0m: \tweight_decay: 0.0005\n",
            "\u001b[34m\u001b[1mwandb\u001b[0m: \tweight_initialization: Xavier\n"
          ]
        },
        {
          "data": {
            "text/html": [
              "Tracking run with wandb version 0.13.11"
            ],
            "text/plain": [
              "<IPython.core.display.HTML object>"
            ]
          },
          "metadata": {},
          "output_type": "display_data"
        },
        {
          "data": {
            "text/html": [
              "Run data is saved locally in <code>C:\\Users\\DELL\\Desktop\\wandb\\run-20230310_015728-mesduglx</code>"
            ],
            "text/plain": [
              "<IPython.core.display.HTML object>"
            ]
          },
          "metadata": {},
          "output_type": "display_data"
        },
        {
          "data": {
            "text/html": [
              "Syncing run <strong><a href='https://wandb.ai/cs22m019/DL%20Final%20Assignment%201/runs/mesduglx' target=\"_blank\">fiery-sweep-25</a></strong> to <a href='https://wandb.ai/cs22m019/DL%20Final%20Assignment%201' target=\"_blank\">Weights & Biases</a> (<a href='https://wandb.me/run' target=\"_blank\">docs</a>)<br/>Sweep page: <a href='https://wandb.ai/cs22m019/DL%20Final%20Assignment%201/sweeps/eayjxkwm' target=\"_blank\">https://wandb.ai/cs22m019/DL%20Final%20Assignment%201/sweeps/eayjxkwm</a>"
            ],
            "text/plain": [
              "<IPython.core.display.HTML object>"
            ]
          },
          "metadata": {},
          "output_type": "display_data"
        },
        {
          "data": {
            "text/html": [
              " View project at <a href='https://wandb.ai/cs22m019/DL%20Final%20Assignment%201' target=\"_blank\">https://wandb.ai/cs22m019/DL%20Final%20Assignment%201</a>"
            ],
            "text/plain": [
              "<IPython.core.display.HTML object>"
            ]
          },
          "metadata": {},
          "output_type": "display_data"
        },
        {
          "data": {
            "text/html": [
              " View sweep at <a href='https://wandb.ai/cs22m019/DL%20Final%20Assignment%201/sweeps/eayjxkwm' target=\"_blank\">https://wandb.ai/cs22m019/DL%20Final%20Assignment%201/sweeps/eayjxkwm</a>"
            ],
            "text/plain": [
              "<IPython.core.display.HTML object>"
            ]
          },
          "metadata": {},
          "output_type": "display_data"
        },
        {
          "data": {
            "text/html": [
              " View run at <a href='https://wandb.ai/cs22m019/DL%20Final%20Assignment%201/runs/mesduglx' target=\"_blank\">https://wandb.ai/cs22m019/DL%20Final%20Assignment%201/runs/mesduglx</a>"
            ],
            "text/plain": [
              "<IPython.core.display.HTML object>"
            ]
          },
          "metadata": {},
          "output_type": "display_data"
        },
        {
          "name": "stdout",
          "output_type": "stream",
          "text": [
            "epoch:1, train loss:2.3848758362328972, train accuracy:0.14637037037037037, validation loss:2.276275342100096, validation accuracy:0.1785\n",
            "epoch:2, train loss:2.190019428147666, train accuracy:0.21912962962962962, validation loss:2.104203359208313, validation accuracy:0.25933333333333336\n",
            "epoch:3, train loss:2.0281246625552787, train accuracy:0.32614814814814813, validation loss:1.949683451962451, validation accuracy:0.37933333333333336\n",
            "epoch:4, train loss:1.8761012940950048, train accuracy:0.4064814814814815, validation loss:1.8014707462001895, validation accuracy:0.42933333333333334\n",
            "epoch:5, train loss:1.7293804893478308, train accuracy:0.4491851851851852, validation loss:1.6588720953604952, validation accuracy:0.47783333333333333\n",
            "epoch:6, train loss:1.5889046463801542, train accuracy:0.5153703703703704, validation loss:1.5230561723253906, validation accuracy:0.5483333333333333\n",
            "epoch:7, train loss:1.4571830761149842, train accuracy:0.576925925925926, validation loss:1.3987272208521293, validation accuracy:0.5951666666666666\n",
            "epoch:8, train loss:1.3383745982587678, train accuracy:0.6163518518518518, validation loss:1.2882017958410905, validation accuracy:0.6266666666666667\n",
            "epoch:9, train loss:1.2348074563566291, train accuracy:0.6421851851851852, validation loss:1.1932293741493, validation accuracy:0.6471666666666667\n",
            "epoch:10, train loss:1.1464776706531405, train accuracy:0.6630555555555555, validation loss:1.1136381182809172, validation accuracy:0.6683333333333333\n"
          ]
        },
        {
          "data": {
            "text/html": [
              "Waiting for W&B process to finish... <strong style=\"color:green\">(success).</strong>"
            ],
            "text/plain": [
              "<IPython.core.display.HTML object>"
            ]
          },
          "metadata": {},
          "output_type": "display_data"
        },
        {
          "data": {
            "text/html": [
              "<style>\n",
              "    table.wandb td:nth-child(1) { padding: 0 10px; text-align: left ; width: auto;} td:nth-child(2) {text-align: left ; width: 100%}\n",
              "    .wandb-row { display: flex; flex-direction: row; flex-wrap: wrap; justify-content: flex-start; width: 100% }\n",
              "    .wandb-col { display: flex; flex-direction: column; flex-basis: 100%; flex: 1; padding: 10px; }\n",
              "    </style>\n",
              "<div class=\"wandb-row\"><div class=\"wandb-col\"><h3>Run history:</h3><br/><table class=\"wandb\"><tr><td>train accuracy</td><td>▁▂▃▅▅▆▇▇██</td></tr><tr><td>train loss</td><td>█▇▆▅▄▄▃▂▁▁</td></tr><tr><td>validation accuracy</td><td>▁▂▄▅▅▆▇▇██</td></tr><tr><td>validation loss</td><td>█▇▆▅▄▃▃▂▁▁</td></tr></table><br/></div><div class=\"wandb-col\"><h3>Run summary:</h3><br/><table class=\"wandb\"><tr><td>train accuracy</td><td>0.66306</td></tr><tr><td>train loss</td><td>1.14648</td></tr><tr><td>validation accuracy</td><td>0.66833</td></tr><tr><td>validation loss</td><td>1.11364</td></tr></table><br/></div></div>"
            ],
            "text/plain": [
              "<IPython.core.display.HTML object>"
            ]
          },
          "metadata": {},
          "output_type": "display_data"
        },
        {
          "data": {
            "text/html": [
              " View run <strong style=\"color:#cdcd00\">fiery-sweep-25</strong> at: <a href='https://wandb.ai/cs22m019/DL%20Final%20Assignment%201/runs/mesduglx' target=\"_blank\">https://wandb.ai/cs22m019/DL%20Final%20Assignment%201/runs/mesduglx</a><br/>Synced 6 W&B file(s), 0 media file(s), 0 artifact file(s) and 0 other file(s)"
            ],
            "text/plain": [
              "<IPython.core.display.HTML object>"
            ]
          },
          "metadata": {},
          "output_type": "display_data"
        },
        {
          "data": {
            "text/html": [
              "Find logs at: <code>.\\wandb\\run-20230310_015728-mesduglx\\logs</code>"
            ],
            "text/plain": [
              "<IPython.core.display.HTML object>"
            ]
          },
          "metadata": {},
          "output_type": "display_data"
        },
        {
          "name": "stderr",
          "output_type": "stream",
          "text": [
            "\u001b[34m\u001b[1mwandb\u001b[0m: Agent Starting Run: bop79nyt with config:\n",
            "\u001b[34m\u001b[1mwandb\u001b[0m: \tactivation: tanh\n",
            "\u001b[34m\u001b[1mwandb\u001b[0m: \tbatch_size: 64\n",
            "\u001b[34m\u001b[1mwandb\u001b[0m: \tepochs: 10\n",
            "\u001b[34m\u001b[1mwandb\u001b[0m: \tlearning_rate: 0.001\n",
            "\u001b[34m\u001b[1mwandb\u001b[0m: \tnumber_of_hidden_layer: 3\n",
            "\u001b[34m\u001b[1mwandb\u001b[0m: \toptimizer: nadam\n",
            "\u001b[34m\u001b[1mwandb\u001b[0m: \tsize_of_hidden_layer: 32\n",
            "\u001b[34m\u001b[1mwandb\u001b[0m: \tweight_decay: 0.5\n",
            "\u001b[34m\u001b[1mwandb\u001b[0m: \tweight_initialization: random\n"
          ]
        },
        {
          "data": {
            "text/html": [
              "Tracking run with wandb version 0.13.11"
            ],
            "text/plain": [
              "<IPython.core.display.HTML object>"
            ]
          },
          "metadata": {},
          "output_type": "display_data"
        },
        {
          "data": {
            "text/html": [
              "Run data is saved locally in <code>C:\\Users\\DELL\\Desktop\\wandb\\run-20230310_020128-bop79nyt</code>"
            ],
            "text/plain": [
              "<IPython.core.display.HTML object>"
            ]
          },
          "metadata": {},
          "output_type": "display_data"
        },
        {
          "data": {
            "text/html": [
              "Syncing run <strong><a href='https://wandb.ai/cs22m019/DL%20Final%20Assignment%201/runs/bop79nyt' target=\"_blank\">daily-sweep-26</a></strong> to <a href='https://wandb.ai/cs22m019/DL%20Final%20Assignment%201' target=\"_blank\">Weights & Biases</a> (<a href='https://wandb.me/run' target=\"_blank\">docs</a>)<br/>Sweep page: <a href='https://wandb.ai/cs22m019/DL%20Final%20Assignment%201/sweeps/eayjxkwm' target=\"_blank\">https://wandb.ai/cs22m019/DL%20Final%20Assignment%201/sweeps/eayjxkwm</a>"
            ],
            "text/plain": [
              "<IPython.core.display.HTML object>"
            ]
          },
          "metadata": {},
          "output_type": "display_data"
        },
        {
          "data": {
            "text/html": [
              " View project at <a href='https://wandb.ai/cs22m019/DL%20Final%20Assignment%201' target=\"_blank\">https://wandb.ai/cs22m019/DL%20Final%20Assignment%201</a>"
            ],
            "text/plain": [
              "<IPython.core.display.HTML object>"
            ]
          },
          "metadata": {},
          "output_type": "display_data"
        },
        {
          "data": {
            "text/html": [
              " View sweep at <a href='https://wandb.ai/cs22m019/DL%20Final%20Assignment%201/sweeps/eayjxkwm' target=\"_blank\">https://wandb.ai/cs22m019/DL%20Final%20Assignment%201/sweeps/eayjxkwm</a>"
            ],
            "text/plain": [
              "<IPython.core.display.HTML object>"
            ]
          },
          "metadata": {},
          "output_type": "display_data"
        },
        {
          "data": {
            "text/html": [
              " View run at <a href='https://wandb.ai/cs22m019/DL%20Final%20Assignment%201/runs/bop79nyt' target=\"_blank\">https://wandb.ai/cs22m019/DL%20Final%20Assignment%201/runs/bop79nyt</a>"
            ],
            "text/plain": [
              "<IPython.core.display.HTML object>"
            ]
          },
          "metadata": {},
          "output_type": "display_data"
        },
        {
          "name": "stdout",
          "output_type": "stream",
          "text": [
            "epoch:1, train loss:3.843439837514582, train accuracy:0.10429629629629629, validation loss:3.177562330726887, validation accuracy:0.16816666666666666\n",
            "epoch:2, train loss:2.7515835473462085, train accuracy:0.24674074074074073, validation loss:2.4742347127300137, validation accuracy:0.30666666666666664\n",
            "epoch:3, train loss:2.243244537765749, train accuracy:0.3618703703703704, validation loss:2.127491356823681, validation accuracy:0.38466666666666666\n",
            "epoch:4, train loss:1.9877026568415297, train accuracy:0.43096296296296294, validation loss:1.9400943291960155, validation accuracy:0.43283333333333335\n",
            "epoch:5, train loss:1.8371756573160418, train accuracy:0.47224074074074074, validation loss:1.8174511433841825, validation accuracy:0.4696666666666667\n",
            "epoch:6, train loss:1.7314520880645596, train accuracy:0.5022592592592593, validation loss:1.7240323168989853, validation accuracy:0.502\n",
            "epoch:7, train loss:1.6497551999977491, train accuracy:0.5253888888888889, validation loss:1.6487416783840123, validation accuracy:0.5226666666666666\n",
            "epoch:8, train loss:1.5830527981643359, train accuracy:0.5455555555555556, validation loss:1.5869630036697882, validation accuracy:0.5405\n",
            "epoch:9, train loss:1.527270234772879, train accuracy:0.5636296296296296, validation loss:1.533713570654227, validation accuracy:0.5596666666666666\n",
            "epoch:10, train loss:1.4792709222124258, train accuracy:0.581037037037037, validation loss:1.4869422268201309, validation accuracy:0.576\n"
          ]
        },
        {
          "data": {
            "text/html": [
              "Waiting for W&B process to finish... <strong style=\"color:green\">(success).</strong>"
            ],
            "text/plain": [
              "<IPython.core.display.HTML object>"
            ]
          },
          "metadata": {},
          "output_type": "display_data"
        },
        {
          "data": {
            "application/vnd.jupyter.widget-view+json": {
              "model_id": "9f2e9d6917d44666a2d7c10a5866fc4d",
              "version_major": 2,
              "version_minor": 0
            },
            "text/plain": [
              "VBox(children=(Label(value='0.001 MB of 0.001 MB uploaded (0.000 MB deduped)\\r'), FloatProgress(value=1.0, max…"
            ]
          },
          "metadata": {},
          "output_type": "display_data"
        },
        {
          "data": {
            "text/html": [
              "<style>\n",
              "    table.wandb td:nth-child(1) { padding: 0 10px; text-align: left ; width: auto;} td:nth-child(2) {text-align: left ; width: 100%}\n",
              "    .wandb-row { display: flex; flex-direction: row; flex-wrap: wrap; justify-content: flex-start; width: 100% }\n",
              "    .wandb-col { display: flex; flex-direction: column; flex-basis: 100%; flex: 1; padding: 10px; }\n",
              "    </style>\n",
              "<div class=\"wandb-row\"><div class=\"wandb-col\"><h3>Run history:</h3><br/><table class=\"wandb\"><tr><td>train accuracy</td><td>▁▃▅▆▆▇▇▇██</td></tr><tr><td>train loss</td><td>█▅▃▃▂▂▂▁▁▁</td></tr><tr><td>validation accuracy</td><td>▁▃▅▆▆▇▇▇██</td></tr><tr><td>validation loss</td><td>█▅▄▃▂▂▂▁▁▁</td></tr></table><br/></div><div class=\"wandb-col\"><h3>Run summary:</h3><br/><table class=\"wandb\"><tr><td>train accuracy</td><td>0.58104</td></tr><tr><td>train loss</td><td>1.47927</td></tr><tr><td>validation accuracy</td><td>0.576</td></tr><tr><td>validation loss</td><td>1.48694</td></tr></table><br/></div></div>"
            ],
            "text/plain": [
              "<IPython.core.display.HTML object>"
            ]
          },
          "metadata": {},
          "output_type": "display_data"
        },
        {
          "data": {
            "text/html": [
              " View run <strong style=\"color:#cdcd00\">daily-sweep-26</strong> at: <a href='https://wandb.ai/cs22m019/DL%20Final%20Assignment%201/runs/bop79nyt' target=\"_blank\">https://wandb.ai/cs22m019/DL%20Final%20Assignment%201/runs/bop79nyt</a><br/>Synced 6 W&B file(s), 0 media file(s), 0 artifact file(s) and 0 other file(s)"
            ],
            "text/plain": [
              "<IPython.core.display.HTML object>"
            ]
          },
          "metadata": {},
          "output_type": "display_data"
        },
        {
          "data": {
            "text/html": [
              "Find logs at: <code>.\\wandb\\run-20230310_020128-bop79nyt\\logs</code>"
            ],
            "text/plain": [
              "<IPython.core.display.HTML object>"
            ]
          },
          "metadata": {},
          "output_type": "display_data"
        },
        {
          "name": "stderr",
          "output_type": "stream",
          "text": [
            "\u001b[34m\u001b[1mwandb\u001b[0m: Agent Starting Run: ma86ew2f with config:\n",
            "\u001b[34m\u001b[1mwandb\u001b[0m: \tactivation: ReLU\n",
            "\u001b[34m\u001b[1mwandb\u001b[0m: \tbatch_size: 64\n",
            "\u001b[34m\u001b[1mwandb\u001b[0m: \tepochs: 5\n",
            "\u001b[34m\u001b[1mwandb\u001b[0m: \tlearning_rate: 0.001\n",
            "\u001b[34m\u001b[1mwandb\u001b[0m: \tnumber_of_hidden_layer: 3\n",
            "\u001b[34m\u001b[1mwandb\u001b[0m: \toptimizer: sgd\n",
            "\u001b[34m\u001b[1mwandb\u001b[0m: \tsize_of_hidden_layer: 64\n",
            "\u001b[34m\u001b[1mwandb\u001b[0m: \tweight_decay: 0.5\n",
            "\u001b[34m\u001b[1mwandb\u001b[0m: \tweight_initialization: Xavier\n"
          ]
        },
        {
          "data": {
            "text/html": [
              "Tracking run with wandb version 0.13.11"
            ],
            "text/plain": [
              "<IPython.core.display.HTML object>"
            ]
          },
          "metadata": {},
          "output_type": "display_data"
        },
        {
          "data": {
            "text/html": [
              "Run data is saved locally in <code>C:\\Users\\DELL\\Desktop\\wandb\\run-20230310_020303-ma86ew2f</code>"
            ],
            "text/plain": [
              "<IPython.core.display.HTML object>"
            ]
          },
          "metadata": {},
          "output_type": "display_data"
        },
        {
          "data": {
            "text/html": [
              "Syncing run <strong><a href='https://wandb.ai/cs22m019/DL%20Final%20Assignment%201/runs/ma86ew2f' target=\"_blank\">resilient-sweep-27</a></strong> to <a href='https://wandb.ai/cs22m019/DL%20Final%20Assignment%201' target=\"_blank\">Weights & Biases</a> (<a href='https://wandb.me/run' target=\"_blank\">docs</a>)<br/>Sweep page: <a href='https://wandb.ai/cs22m019/DL%20Final%20Assignment%201/sweeps/eayjxkwm' target=\"_blank\">https://wandb.ai/cs22m019/DL%20Final%20Assignment%201/sweeps/eayjxkwm</a>"
            ],
            "text/plain": [
              "<IPython.core.display.HTML object>"
            ]
          },
          "metadata": {},
          "output_type": "display_data"
        },
        {
          "data": {
            "text/html": [
              " View project at <a href='https://wandb.ai/cs22m019/DL%20Final%20Assignment%201' target=\"_blank\">https://wandb.ai/cs22m019/DL%20Final%20Assignment%201</a>"
            ],
            "text/plain": [
              "<IPython.core.display.HTML object>"
            ]
          },
          "metadata": {},
          "output_type": "display_data"
        },
        {
          "data": {
            "text/html": [
              " View sweep at <a href='https://wandb.ai/cs22m019/DL%20Final%20Assignment%201/sweeps/eayjxkwm' target=\"_blank\">https://wandb.ai/cs22m019/DL%20Final%20Assignment%201/sweeps/eayjxkwm</a>"
            ],
            "text/plain": [
              "<IPython.core.display.HTML object>"
            ]
          },
          "metadata": {},
          "output_type": "display_data"
        },
        {
          "data": {
            "text/html": [
              " View run at <a href='https://wandb.ai/cs22m019/DL%20Final%20Assignment%201/runs/ma86ew2f' target=\"_blank\">https://wandb.ai/cs22m019/DL%20Final%20Assignment%201/runs/ma86ew2f</a>"
            ],
            "text/plain": [
              "<IPython.core.display.HTML object>"
            ]
          },
          "metadata": {},
          "output_type": "display_data"
        },
        {
          "name": "stdout",
          "output_type": "stream",
          "text": [
            "epoch:1, train loss:2.40655739518439, train accuracy:0.09775925925925925, validation loss:2.394841952010057, validation accuracy:0.104\n",
            "epoch:2, train loss:2.392646950300214, train accuracy:0.09833333333333333, validation loss:2.3820202693122408, validation accuracy:0.10483333333333333\n",
            "epoch:3, train loss:2.3805832712207864, train accuracy:0.09922222222222223, validation loss:2.370025743407411, validation accuracy:0.10666666666666667\n",
            "epoch:4, train loss:2.3689930609988803, train accuracy:0.1004074074074074, validation loss:2.3594087582186707, validation accuracy:0.10816666666666666\n",
            "epoch:5, train loss:2.357951983097815, train accuracy:0.10161111111111111, validation loss:2.3486571765328033, validation accuracy:0.11066666666666666\n"
          ]
        },
        {
          "data": {
            "text/html": [
              "Waiting for W&B process to finish... <strong style=\"color:green\">(success).</strong>"
            ],
            "text/plain": [
              "<IPython.core.display.HTML object>"
            ]
          },
          "metadata": {},
          "output_type": "display_data"
        },
        {
          "data": {
            "text/html": [
              "<style>\n",
              "    table.wandb td:nth-child(1) { padding: 0 10px; text-align: left ; width: auto;} td:nth-child(2) {text-align: left ; width: 100%}\n",
              "    .wandb-row { display: flex; flex-direction: row; flex-wrap: wrap; justify-content: flex-start; width: 100% }\n",
              "    .wandb-col { display: flex; flex-direction: column; flex-basis: 100%; flex: 1; padding: 10px; }\n",
              "    </style>\n",
              "<div class=\"wandb-row\"><div class=\"wandb-col\"><h3>Run history:</h3><br/><table class=\"wandb\"><tr><td>train accuracy</td><td>▁▂▄▆█</td></tr><tr><td>train loss</td><td>█▆▄▃▁</td></tr><tr><td>validation accuracy</td><td>▁▂▄▅█</td></tr><tr><td>validation loss</td><td>█▆▄▃▁</td></tr></table><br/></div><div class=\"wandb-col\"><h3>Run summary:</h3><br/><table class=\"wandb\"><tr><td>train accuracy</td><td>0.10161</td></tr><tr><td>train loss</td><td>2.35795</td></tr><tr><td>validation accuracy</td><td>0.11067</td></tr><tr><td>validation loss</td><td>2.34866</td></tr></table><br/></div></div>"
            ],
            "text/plain": [
              "<IPython.core.display.HTML object>"
            ]
          },
          "metadata": {},
          "output_type": "display_data"
        },
        {
          "data": {
            "text/html": [
              " View run <strong style=\"color:#cdcd00\">resilient-sweep-27</strong> at: <a href='https://wandb.ai/cs22m019/DL%20Final%20Assignment%201/runs/ma86ew2f' target=\"_blank\">https://wandb.ai/cs22m019/DL%20Final%20Assignment%201/runs/ma86ew2f</a><br/>Synced 6 W&B file(s), 0 media file(s), 0 artifact file(s) and 0 other file(s)"
            ],
            "text/plain": [
              "<IPython.core.display.HTML object>"
            ]
          },
          "metadata": {},
          "output_type": "display_data"
        },
        {
          "data": {
            "text/html": [
              "Find logs at: <code>.\\wandb\\run-20230310_020303-ma86ew2f\\logs</code>"
            ],
            "text/plain": [
              "<IPython.core.display.HTML object>"
            ]
          },
          "metadata": {},
          "output_type": "display_data"
        },
        {
          "name": "stderr",
          "output_type": "stream",
          "text": [
            "\u001b[34m\u001b[1mwandb\u001b[0m: Agent Starting Run: okbby18i with config:\n",
            "\u001b[34m\u001b[1mwandb\u001b[0m: \tactivation: ReLU\n",
            "\u001b[34m\u001b[1mwandb\u001b[0m: \tbatch_size: 32\n",
            "\u001b[34m\u001b[1mwandb\u001b[0m: \tepochs: 5\n",
            "\u001b[34m\u001b[1mwandb\u001b[0m: \tlearning_rate: 0.0001\n",
            "\u001b[34m\u001b[1mwandb\u001b[0m: \tnumber_of_hidden_layer: 4\n",
            "\u001b[34m\u001b[1mwandb\u001b[0m: \toptimizer: nestrov\n",
            "\u001b[34m\u001b[1mwandb\u001b[0m: \tsize_of_hidden_layer: 32\n",
            "\u001b[34m\u001b[1mwandb\u001b[0m: \tweight_decay: 0.0005\n",
            "\u001b[34m\u001b[1mwandb\u001b[0m: \tweight_initialization: Xavier\n"
          ]
        },
        {
          "data": {
            "application/vnd.jupyter.widget-view+json": {
              "model_id": "24caf56478f140339fa5e2b0956393e1",
              "version_major": 2,
              "version_minor": 0
            },
            "text/plain": [
              "VBox(children=(Label(value='Waiting for wandb.init()...\\r'), FloatProgress(value=0.01718333333337796, max=1.0)…"
            ]
          },
          "metadata": {},
          "output_type": "display_data"
        },
        {
          "data": {
            "text/html": [
              "Tracking run with wandb version 0.13.11"
            ],
            "text/plain": [
              "<IPython.core.display.HTML object>"
            ]
          },
          "metadata": {},
          "output_type": "display_data"
        },
        {
          "data": {
            "text/html": [
              "Run data is saved locally in <code>C:\\Users\\DELL\\Desktop\\wandb\\run-20230310_020402-okbby18i</code>"
            ],
            "text/plain": [
              "<IPython.core.display.HTML object>"
            ]
          },
          "metadata": {},
          "output_type": "display_data"
        },
        {
          "data": {
            "text/html": [
              "Syncing run <strong><a href='https://wandb.ai/cs22m019/DL%20Final%20Assignment%201/runs/okbby18i' target=\"_blank\">flowing-sweep-28</a></strong> to <a href='https://wandb.ai/cs22m019/DL%20Final%20Assignment%201' target=\"_blank\">Weights & Biases</a> (<a href='https://wandb.me/run' target=\"_blank\">docs</a>)<br/>Sweep page: <a href='https://wandb.ai/cs22m019/DL%20Final%20Assignment%201/sweeps/eayjxkwm' target=\"_blank\">https://wandb.ai/cs22m019/DL%20Final%20Assignment%201/sweeps/eayjxkwm</a>"
            ],
            "text/plain": [
              "<IPython.core.display.HTML object>"
            ]
          },
          "metadata": {},
          "output_type": "display_data"
        },
        {
          "data": {
            "text/html": [
              " View project at <a href='https://wandb.ai/cs22m019/DL%20Final%20Assignment%201' target=\"_blank\">https://wandb.ai/cs22m019/DL%20Final%20Assignment%201</a>"
            ],
            "text/plain": [
              "<IPython.core.display.HTML object>"
            ]
          },
          "metadata": {},
          "output_type": "display_data"
        },
        {
          "data": {
            "text/html": [
              " View sweep at <a href='https://wandb.ai/cs22m019/DL%20Final%20Assignment%201/sweeps/eayjxkwm' target=\"_blank\">https://wandb.ai/cs22m019/DL%20Final%20Assignment%201/sweeps/eayjxkwm</a>"
            ],
            "text/plain": [
              "<IPython.core.display.HTML object>"
            ]
          },
          "metadata": {},
          "output_type": "display_data"
        },
        {
          "data": {
            "text/html": [
              " View run at <a href='https://wandb.ai/cs22m019/DL%20Final%20Assignment%201/runs/okbby18i' target=\"_blank\">https://wandb.ai/cs22m019/DL%20Final%20Assignment%201/runs/okbby18i</a>"
            ],
            "text/plain": [
              "<IPython.core.display.HTML object>"
            ]
          },
          "metadata": {},
          "output_type": "display_data"
        },
        {
          "name": "stdout",
          "output_type": "stream",
          "text": [
            "epoch:1, train loss:2.451725196600499, train accuracy:0.09916666666666667, validation loss:2.373397543053271, validation accuracy:0.1075\n",
            "epoch:2, train loss:2.3496825762869338, train accuracy:0.10042592592592593, validation loss:2.313349524123999, validation accuracy:0.11283333333333333\n",
            "epoch:3, train loss:2.298152120551395, train accuracy:0.11422222222222222, validation loss:2.268544090411716, validation accuracy:0.12816666666666668\n",
            "epoch:4, train loss:2.2513571862614037, train accuracy:0.13418518518518519, validation loss:2.2245187614982633, validation accuracy:0.15433333333333332\n",
            "epoch:5, train loss:2.205776014593563, train accuracy:0.1745925925925926, validation loss:2.18222067784589, validation accuracy:0.19833333333333333\n"
          ]
        },
        {
          "data": {
            "text/html": [
              "Waiting for W&B process to finish... <strong style=\"color:green\">(success).</strong>"
            ],
            "text/plain": [
              "<IPython.core.display.HTML object>"
            ]
          },
          "metadata": {},
          "output_type": "display_data"
        },
        {
          "data": {
            "application/vnd.jupyter.widget-view+json": {
              "model_id": "e9b2908a90db41cb87314876b66e0bc5",
              "version_major": 2,
              "version_minor": 0
            },
            "text/plain": [
              "VBox(children=(Label(value='0.001 MB of 0.001 MB uploaded (0.000 MB deduped)\\r'), FloatProgress(value=1.0, max…"
            ]
          },
          "metadata": {},
          "output_type": "display_data"
        },
        {
          "data": {
            "text/html": [
              "<style>\n",
              "    table.wandb td:nth-child(1) { padding: 0 10px; text-align: left ; width: auto;} td:nth-child(2) {text-align: left ; width: 100%}\n",
              "    .wandb-row { display: flex; flex-direction: row; flex-wrap: wrap; justify-content: flex-start; width: 100% }\n",
              "    .wandb-col { display: flex; flex-direction: column; flex-basis: 100%; flex: 1; padding: 10px; }\n",
              "    </style>\n",
              "<div class=\"wandb-row\"><div class=\"wandb-col\"><h3>Run history:</h3><br/><table class=\"wandb\"><tr><td>train accuracy</td><td>▁▁▂▄█</td></tr><tr><td>train loss</td><td>█▅▄▂▁</td></tr><tr><td>validation accuracy</td><td>▁▁▃▅█</td></tr><tr><td>validation loss</td><td>█▆▄▃▁</td></tr></table><br/></div><div class=\"wandb-col\"><h3>Run summary:</h3><br/><table class=\"wandb\"><tr><td>train accuracy</td><td>0.17459</td></tr><tr><td>train loss</td><td>2.20578</td></tr><tr><td>validation accuracy</td><td>0.19833</td></tr><tr><td>validation loss</td><td>2.18222</td></tr></table><br/></div></div>"
            ],
            "text/plain": [
              "<IPython.core.display.HTML object>"
            ]
          },
          "metadata": {},
          "output_type": "display_data"
        },
        {
          "data": {
            "text/html": [
              " View run <strong style=\"color:#cdcd00\">flowing-sweep-28</strong> at: <a href='https://wandb.ai/cs22m019/DL%20Final%20Assignment%201/runs/okbby18i' target=\"_blank\">https://wandb.ai/cs22m019/DL%20Final%20Assignment%201/runs/okbby18i</a><br/>Synced 6 W&B file(s), 0 media file(s), 0 artifact file(s) and 0 other file(s)"
            ],
            "text/plain": [
              "<IPython.core.display.HTML object>"
            ]
          },
          "metadata": {},
          "output_type": "display_data"
        },
        {
          "data": {
            "text/html": [
              "Find logs at: <code>.\\wandb\\run-20230310_020402-okbby18i\\logs</code>"
            ],
            "text/plain": [
              "<IPython.core.display.HTML object>"
            ]
          },
          "metadata": {},
          "output_type": "display_data"
        },
        {
          "name": "stderr",
          "output_type": "stream",
          "text": [
            "\u001b[34m\u001b[1mwandb\u001b[0m: Sweep Agent: Waiting for job.\n",
            "\u001b[34m\u001b[1mwandb\u001b[0m: Job received.\n",
            "\u001b[34m\u001b[1mwandb\u001b[0m: Agent Starting Run: 9byphqcn with config:\n",
            "\u001b[34m\u001b[1mwandb\u001b[0m: \tactivation: tanh\n",
            "\u001b[34m\u001b[1mwandb\u001b[0m: \tbatch_size: 16\n",
            "\u001b[34m\u001b[1mwandb\u001b[0m: \tepochs: 10\n",
            "\u001b[34m\u001b[1mwandb\u001b[0m: \tlearning_rate: 0.001\n",
            "\u001b[34m\u001b[1mwandb\u001b[0m: \tnumber_of_hidden_layer: 3\n",
            "\u001b[34m\u001b[1mwandb\u001b[0m: \toptimizer: sgd\n",
            "\u001b[34m\u001b[1mwandb\u001b[0m: \tsize_of_hidden_layer: 32\n",
            "\u001b[34m\u001b[1mwandb\u001b[0m: \tweight_decay: 0.5\n",
            "\u001b[34m\u001b[1mwandb\u001b[0m: \tweight_initialization: random\n"
          ]
        },
        {
          "data": {
            "text/html": [
              "Tracking run with wandb version 0.13.11"
            ],
            "text/plain": [
              "<IPython.core.display.HTML object>"
            ]
          },
          "metadata": {},
          "output_type": "display_data"
        },
        {
          "data": {
            "text/html": [
              "Run data is saved locally in <code>C:\\Users\\DELL\\Desktop\\wandb\\run-20230310_020533-9byphqcn</code>"
            ],
            "text/plain": [
              "<IPython.core.display.HTML object>"
            ]
          },
          "metadata": {},
          "output_type": "display_data"
        },
        {
          "data": {
            "text/html": [
              "Syncing run <strong><a href='https://wandb.ai/cs22m019/DL%20Final%20Assignment%201/runs/9byphqcn' target=\"_blank\">splendid-sweep-29</a></strong> to <a href='https://wandb.ai/cs22m019/DL%20Final%20Assignment%201' target=\"_blank\">Weights & Biases</a> (<a href='https://wandb.me/run' target=\"_blank\">docs</a>)<br/>Sweep page: <a href='https://wandb.ai/cs22m019/DL%20Final%20Assignment%201/sweeps/eayjxkwm' target=\"_blank\">https://wandb.ai/cs22m019/DL%20Final%20Assignment%201/sweeps/eayjxkwm</a>"
            ],
            "text/plain": [
              "<IPython.core.display.HTML object>"
            ]
          },
          "metadata": {},
          "output_type": "display_data"
        },
        {
          "data": {
            "text/html": [
              " View project at <a href='https://wandb.ai/cs22m019/DL%20Final%20Assignment%201' target=\"_blank\">https://wandb.ai/cs22m019/DL%20Final%20Assignment%201</a>"
            ],
            "text/plain": [
              "<IPython.core.display.HTML object>"
            ]
          },
          "metadata": {},
          "output_type": "display_data"
        },
        {
          "data": {
            "text/html": [
              " View sweep at <a href='https://wandb.ai/cs22m019/DL%20Final%20Assignment%201/sweeps/eayjxkwm' target=\"_blank\">https://wandb.ai/cs22m019/DL%20Final%20Assignment%201/sweeps/eayjxkwm</a>"
            ],
            "text/plain": [
              "<IPython.core.display.HTML object>"
            ]
          },
          "metadata": {},
          "output_type": "display_data"
        },
        {
          "data": {
            "text/html": [
              " View run at <a href='https://wandb.ai/cs22m019/DL%20Final%20Assignment%201/runs/9byphqcn' target=\"_blank\">https://wandb.ai/cs22m019/DL%20Final%20Assignment%201/runs/9byphqcn</a>"
            ],
            "text/plain": [
              "<IPython.core.display.HTML object>"
            ]
          },
          "metadata": {},
          "output_type": "display_data"
        },
        {
          "name": "stdout",
          "output_type": "stream",
          "text": [
            "epoch:1, train loss:4.323431007524274, train accuracy:0.10825925925925926, validation loss:3.489414162619208, validation accuracy:0.145\n",
            "epoch:2, train loss:3.223352540078132, train accuracy:0.1738888888888889, validation loss:2.9903436437869417, validation accuracy:0.20333333333333334\n",
            "epoch:3, train loss:2.850834654733572, train accuracy:0.22127777777777777, validation loss:2.711653230841746, validation accuracy:0.24166666666666667\n",
            "epoch:4, train loss:2.6034536887427215, train accuracy:0.25677777777777777, validation loss:2.4916155048735193, validation accuracy:0.2785\n",
            "epoch:5, train loss:2.409566104188269, train accuracy:0.29453703703703704, validation loss:2.3273352720015814, validation accuracy:0.31783333333333336\n",
            "epoch:6, train loss:2.2613397443648475, train accuracy:0.3315740740740741, validation loss:2.2008366885082906, validation accuracy:0.3516666666666667\n",
            "epoch:7, train loss:2.143783640984242, train accuracy:0.3663888888888889, validation loss:2.1003709838945337, validation accuracy:0.38016666666666665\n",
            "epoch:8, train loss:2.053662445206971, train accuracy:0.39314814814814814, validation loss:2.021598788583626, validation accuracy:0.4033333333333333\n",
            "epoch:9, train loss:1.9789033658727047, train accuracy:0.4153148148148148, validation loss:1.954784632835006, validation accuracy:0.4255\n",
            "epoch:10, train loss:1.91470731546404, train accuracy:0.43566666666666665, validation loss:1.8980027880911265, validation accuracy:0.442\n"
          ]
        },
        {
          "data": {
            "text/html": [
              "Waiting for W&B process to finish... <strong style=\"color:green\">(success).</strong>"
            ],
            "text/plain": [
              "<IPython.core.display.HTML object>"
            ]
          },
          "metadata": {},
          "output_type": "display_data"
        },
        {
          "data": {
            "application/vnd.jupyter.widget-view+json": {
              "model_id": "6cbb7e91c23b4a29bb32e16fb0f3b249",
              "version_major": 2,
              "version_minor": 0
            },
            "text/plain": [
              "VBox(children=(Label(value='0.001 MB of 0.001 MB uploaded (0.000 MB deduped)\\r'), FloatProgress(value=1.0, max…"
            ]
          },
          "metadata": {},
          "output_type": "display_data"
        },
        {
          "data": {
            "text/html": [
              "<style>\n",
              "    table.wandb td:nth-child(1) { padding: 0 10px; text-align: left ; width: auto;} td:nth-child(2) {text-align: left ; width: 100%}\n",
              "    .wandb-row { display: flex; flex-direction: row; flex-wrap: wrap; justify-content: flex-start; width: 100% }\n",
              "    .wandb-col { display: flex; flex-direction: column; flex-basis: 100%; flex: 1; padding: 10px; }\n",
              "    </style>\n",
              "<div class=\"wandb-row\"><div class=\"wandb-col\"><h3>Run history:</h3><br/><table class=\"wandb\"><tr><td>train accuracy</td><td>▁▂▃▄▅▆▇▇██</td></tr><tr><td>train loss</td><td>█▅▄▃▂▂▂▁▁▁</td></tr><tr><td>validation accuracy</td><td>▁▂▃▄▅▆▇▇██</td></tr><tr><td>validation loss</td><td>█▆▅▄▃▂▂▂▁▁</td></tr></table><br/></div><div class=\"wandb-col\"><h3>Run summary:</h3><br/><table class=\"wandb\"><tr><td>train accuracy</td><td>0.43567</td></tr><tr><td>train loss</td><td>1.91471</td></tr><tr><td>validation accuracy</td><td>0.442</td></tr><tr><td>validation loss</td><td>1.898</td></tr></table><br/></div></div>"
            ],
            "text/plain": [
              "<IPython.core.display.HTML object>"
            ]
          },
          "metadata": {},
          "output_type": "display_data"
        },
        {
          "data": {
            "text/html": [
              " View run <strong style=\"color:#cdcd00\">splendid-sweep-29</strong> at: <a href='https://wandb.ai/cs22m019/DL%20Final%20Assignment%201/runs/9byphqcn' target=\"_blank\">https://wandb.ai/cs22m019/DL%20Final%20Assignment%201/runs/9byphqcn</a><br/>Synced 6 W&B file(s), 0 media file(s), 0 artifact file(s) and 0 other file(s)"
            ],
            "text/plain": [
              "<IPython.core.display.HTML object>"
            ]
          },
          "metadata": {},
          "output_type": "display_data"
        },
        {
          "data": {
            "text/html": [
              "Find logs at: <code>.\\wandb\\run-20230310_020533-9byphqcn\\logs</code>"
            ],
            "text/plain": [
              "<IPython.core.display.HTML object>"
            ]
          },
          "metadata": {},
          "output_type": "display_data"
        },
        {
          "name": "stderr",
          "output_type": "stream",
          "text": [
            "\u001b[34m\u001b[1mwandb\u001b[0m: Agent Starting Run: ngsekokh with config:\n",
            "\u001b[34m\u001b[1mwandb\u001b[0m: \tactivation: ReLU\n",
            "\u001b[34m\u001b[1mwandb\u001b[0m: \tbatch_size: 32\n",
            "\u001b[34m\u001b[1mwandb\u001b[0m: \tepochs: 10\n",
            "\u001b[34m\u001b[1mwandb\u001b[0m: \tlearning_rate: 0.0001\n",
            "\u001b[34m\u001b[1mwandb\u001b[0m: \tnumber_of_hidden_layer: 3\n",
            "\u001b[34m\u001b[1mwandb\u001b[0m: \toptimizer: adam\n",
            "\u001b[34m\u001b[1mwandb\u001b[0m: \tsize_of_hidden_layer: 128\n",
            "\u001b[34m\u001b[1mwandb\u001b[0m: \tweight_decay: 0\n",
            "\u001b[34m\u001b[1mwandb\u001b[0m: \tweight_initialization: Xavier\n"
          ]
        },
        {
          "data": {
            "text/html": [
              "Tracking run with wandb version 0.13.11"
            ],
            "text/plain": [
              "<IPython.core.display.HTML object>"
            ]
          },
          "metadata": {},
          "output_type": "display_data"
        },
        {
          "data": {
            "text/html": [
              "Run data is saved locally in <code>C:\\Users\\DELL\\Desktop\\wandb\\run-20230310_020731-ngsekokh</code>"
            ],
            "text/plain": [
              "<IPython.core.display.HTML object>"
            ]
          },
          "metadata": {},
          "output_type": "display_data"
        },
        {
          "data": {
            "text/html": [
              "Syncing run <strong><a href='https://wandb.ai/cs22m019/DL%20Final%20Assignment%201/runs/ngsekokh' target=\"_blank\">stilted-sweep-30</a></strong> to <a href='https://wandb.ai/cs22m019/DL%20Final%20Assignment%201' target=\"_blank\">Weights & Biases</a> (<a href='https://wandb.me/run' target=\"_blank\">docs</a>)<br/>Sweep page: <a href='https://wandb.ai/cs22m019/DL%20Final%20Assignment%201/sweeps/eayjxkwm' target=\"_blank\">https://wandb.ai/cs22m019/DL%20Final%20Assignment%201/sweeps/eayjxkwm</a>"
            ],
            "text/plain": [
              "<IPython.core.display.HTML object>"
            ]
          },
          "metadata": {},
          "output_type": "display_data"
        },
        {
          "data": {
            "text/html": [
              " View project at <a href='https://wandb.ai/cs22m019/DL%20Final%20Assignment%201' target=\"_blank\">https://wandb.ai/cs22m019/DL%20Final%20Assignment%201</a>"
            ],
            "text/plain": [
              "<IPython.core.display.HTML object>"
            ]
          },
          "metadata": {},
          "output_type": "display_data"
        },
        {
          "data": {
            "text/html": [
              " View sweep at <a href='https://wandb.ai/cs22m019/DL%20Final%20Assignment%201/sweeps/eayjxkwm' target=\"_blank\">https://wandb.ai/cs22m019/DL%20Final%20Assignment%201/sweeps/eayjxkwm</a>"
            ],
            "text/plain": [
              "<IPython.core.display.HTML object>"
            ]
          },
          "metadata": {},
          "output_type": "display_data"
        },
        {
          "data": {
            "text/html": [
              " View run at <a href='https://wandb.ai/cs22m019/DL%20Final%20Assignment%201/runs/ngsekokh' target=\"_blank\">https://wandb.ai/cs22m019/DL%20Final%20Assignment%201/runs/ngsekokh</a>"
            ],
            "text/plain": [
              "<IPython.core.display.HTML object>"
            ]
          },
          "metadata": {},
          "output_type": "display_data"
        },
        {
          "name": "stdout",
          "output_type": "stream",
          "text": [
            "epoch:1, train loss:2.096072531638647, train accuracy:0.2826111111111111, validation loss:1.7949046446005217, validation accuracy:0.496\n",
            "epoch:2, train loss:1.5415501556016276, train accuracy:0.5852962962962963, validation loss:1.3360009112418616, validation accuracy:0.6265\n",
            "epoch:3, train loss:1.1671787489490482, train accuracy:0.6623888888888889, validation loss:1.0528546945040358, validation accuracy:0.6831666666666667\n",
            "epoch:4, train loss:0.9538080210496311, train accuracy:0.7106296296296296, validation loss:0.8972778644904948, validation accuracy:0.7223333333333334\n",
            "epoch:5, train loss:0.8369346362926013, train accuracy:0.7407037037037038, validation loss:0.8071754989090365, validation accuracy:0.747\n",
            "epoch:6, train loss:0.7655884319597458, train accuracy:0.7581111111111111, validation loss:0.7480199492867999, validation accuracy:0.7645\n",
            "epoch:7, train loss:0.7164422530102206, train accuracy:0.7709074074074074, validation loss:0.7034254225919949, validation accuracy:0.7738333333333334\n",
            "epoch:8, train loss:0.6794477291439106, train accuracy:0.7804814814814814, validation loss:0.6700498378728859, validation accuracy:0.783\n",
            "epoch:9, train loss:0.6503408793190609, train accuracy:0.7878148148148149, validation loss:0.6429523412703417, validation accuracy:0.789\n",
            "epoch:10, train loss:0.6264503537701556, train accuracy:0.7938703703703703, validation loss:0.6212673934669899, validation accuracy:0.795\n"
          ]
        },
        {
          "data": {
            "text/html": [
              "Waiting for W&B process to finish... <strong style=\"color:green\">(success).</strong>"
            ],
            "text/plain": [
              "<IPython.core.display.HTML object>"
            ]
          },
          "metadata": {},
          "output_type": "display_data"
        },
        {
          "data": {
            "application/vnd.jupyter.widget-view+json": {
              "model_id": "a44c219471f048c09a880292d1e5e9c7",
              "version_major": 2,
              "version_minor": 0
            },
            "text/plain": [
              "VBox(children=(Label(value='0.001 MB of 0.024 MB uploaded (0.000 MB deduped)\\r'), FloatProgress(value=0.044755…"
            ]
          },
          "metadata": {},
          "output_type": "display_data"
        },
        {
          "data": {
            "text/html": [
              "<style>\n",
              "    table.wandb td:nth-child(1) { padding: 0 10px; text-align: left ; width: auto;} td:nth-child(2) {text-align: left ; width: 100%}\n",
              "    .wandb-row { display: flex; flex-direction: row; flex-wrap: wrap; justify-content: flex-start; width: 100% }\n",
              "    .wandb-col { display: flex; flex-direction: column; flex-basis: 100%; flex: 1; padding: 10px; }\n",
              "    </style>\n",
              "<div class=\"wandb-row\"><div class=\"wandb-col\"><h3>Run history:</h3><br/><table class=\"wandb\"><tr><td>train accuracy</td><td>▁▅▆▇▇█████</td></tr><tr><td>train loss</td><td>█▅▄▃▂▂▁▁▁▁</td></tr><tr><td>validation accuracy</td><td>▁▄▅▆▇▇████</td></tr><tr><td>validation loss</td><td>█▅▄▃▂▂▁▁▁▁</td></tr></table><br/></div><div class=\"wandb-col\"><h3>Run summary:</h3><br/><table class=\"wandb\"><tr><td>train accuracy</td><td>0.79387</td></tr><tr><td>train loss</td><td>0.62645</td></tr><tr><td>validation accuracy</td><td>0.795</td></tr><tr><td>validation loss</td><td>0.62127</td></tr></table><br/></div></div>"
            ],
            "text/plain": [
              "<IPython.core.display.HTML object>"
            ]
          },
          "metadata": {},
          "output_type": "display_data"
        },
        {
          "data": {
            "text/html": [
              " View run <strong style=\"color:#cdcd00\">stilted-sweep-30</strong> at: <a href='https://wandb.ai/cs22m019/DL%20Final%20Assignment%201/runs/ngsekokh' target=\"_blank\">https://wandb.ai/cs22m019/DL%20Final%20Assignment%201/runs/ngsekokh</a><br/>Synced 6 W&B file(s), 0 media file(s), 0 artifact file(s) and 0 other file(s)"
            ],
            "text/plain": [
              "<IPython.core.display.HTML object>"
            ]
          },
          "metadata": {},
          "output_type": "display_data"
        },
        {
          "data": {
            "text/html": [
              "Find logs at: <code>.\\wandb\\run-20230310_020731-ngsekokh\\logs</code>"
            ],
            "text/plain": [
              "<IPython.core.display.HTML object>"
            ]
          },
          "metadata": {},
          "output_type": "display_data"
        },
        {
          "name": "stderr",
          "output_type": "stream",
          "text": [
            "\u001b[34m\u001b[1mwandb\u001b[0m: Agent Starting Run: eoq8u4t4 with config:\n",
            "\u001b[34m\u001b[1mwandb\u001b[0m: \tactivation: ReLU\n",
            "\u001b[34m\u001b[1mwandb\u001b[0m: \tbatch_size: 32\n",
            "\u001b[34m\u001b[1mwandb\u001b[0m: \tepochs: 10\n",
            "\u001b[34m\u001b[1mwandb\u001b[0m: \tlearning_rate: 0.0001\n",
            "\u001b[34m\u001b[1mwandb\u001b[0m: \tnumber_of_hidden_layer: 4\n",
            "\u001b[34m\u001b[1mwandb\u001b[0m: \toptimizer: nestrov\n",
            "\u001b[34m\u001b[1mwandb\u001b[0m: \tsize_of_hidden_layer: 128\n",
            "\u001b[34m\u001b[1mwandb\u001b[0m: \tweight_decay: 0.0005\n",
            "\u001b[34m\u001b[1mwandb\u001b[0m: \tweight_initialization: Xavier\n"
          ]
        },
        {
          "data": {
            "text/html": [
              "Tracking run with wandb version 0.13.11"
            ],
            "text/plain": [
              "<IPython.core.display.HTML object>"
            ]
          },
          "metadata": {},
          "output_type": "display_data"
        },
        {
          "data": {
            "text/html": [
              "Run data is saved locally in <code>C:\\Users\\DELL\\Desktop\\wandb\\run-20230310_021142-eoq8u4t4</code>"
            ],
            "text/plain": [
              "<IPython.core.display.HTML object>"
            ]
          },
          "metadata": {},
          "output_type": "display_data"
        },
        {
          "data": {
            "text/html": [
              "Syncing run <strong><a href='https://wandb.ai/cs22m019/DL%20Final%20Assignment%201/runs/eoq8u4t4' target=\"_blank\">curious-sweep-31</a></strong> to <a href='https://wandb.ai/cs22m019/DL%20Final%20Assignment%201' target=\"_blank\">Weights & Biases</a> (<a href='https://wandb.me/run' target=\"_blank\">docs</a>)<br/>Sweep page: <a href='https://wandb.ai/cs22m019/DL%20Final%20Assignment%201/sweeps/eayjxkwm' target=\"_blank\">https://wandb.ai/cs22m019/DL%20Final%20Assignment%201/sweeps/eayjxkwm</a>"
            ],
            "text/plain": [
              "<IPython.core.display.HTML object>"
            ]
          },
          "metadata": {},
          "output_type": "display_data"
        },
        {
          "data": {
            "text/html": [
              " View project at <a href='https://wandb.ai/cs22m019/DL%20Final%20Assignment%201' target=\"_blank\">https://wandb.ai/cs22m019/DL%20Final%20Assignment%201</a>"
            ],
            "text/plain": [
              "<IPython.core.display.HTML object>"
            ]
          },
          "metadata": {},
          "output_type": "display_data"
        },
        {
          "data": {
            "text/html": [
              " View sweep at <a href='https://wandb.ai/cs22m019/DL%20Final%20Assignment%201/sweeps/eayjxkwm' target=\"_blank\">https://wandb.ai/cs22m019/DL%20Final%20Assignment%201/sweeps/eayjxkwm</a>"
            ],
            "text/plain": [
              "<IPython.core.display.HTML object>"
            ]
          },
          "metadata": {},
          "output_type": "display_data"
        },
        {
          "data": {
            "text/html": [
              " View run at <a href='https://wandb.ai/cs22m019/DL%20Final%20Assignment%201/runs/eoq8u4t4' target=\"_blank\">https://wandb.ai/cs22m019/DL%20Final%20Assignment%201/runs/eoq8u4t4</a>"
            ],
            "text/plain": [
              "<IPython.core.display.HTML object>"
            ]
          },
          "metadata": {},
          "output_type": "display_data"
        },
        {
          "name": "stdout",
          "output_type": "stream",
          "text": [
            "epoch:1, train loss:2.3474455285450517, train accuracy:0.10894444444444444, validation loss:2.302859604253967, validation accuracy:0.14183333333333334\n",
            "epoch:2, train loss:2.2572247236022154, train accuracy:0.15757407407407406, validation loss:2.2111799890176953, validation accuracy:0.17766666666666667\n",
            "epoch:3, train loss:2.1565314827180164, train accuracy:0.21924074074074074, validation loss:2.0997399778474333, validation accuracy:0.295\n",
            "epoch:4, train loss:2.034402998616943, train accuracy:0.37183333333333335, validation loss:1.965762131502812, validation accuracy:0.43166666666666664\n",
            "epoch:5, train loss:1.8904190889550965, train accuracy:0.4786666666666667, validation loss:1.8123558555160457, validation accuracy:0.5268333333333334\n",
            "epoch:6, train loss:1.7326011227220373, train accuracy:0.5566296296296296, validation loss:1.653131409724841, validation accuracy:0.5803333333333334\n",
            "epoch:7, train loss:1.5756204318547022, train accuracy:0.595574074074074, validation loss:1.5024608309702965, validation accuracy:0.6056666666666667\n",
            "epoch:8, train loss:1.4315349310849939, train accuracy:0.6158148148148148, validation loss:1.369301958310974, validation accuracy:0.6238333333333334\n",
            "epoch:9, train loss:1.3065907894016815, train accuracy:0.6326111111111111, validation loss:1.2561885258024255, validation accuracy:0.6371666666666667\n",
            "epoch:10, train loss:1.201929827104575, train accuracy:0.6475185185185185, validation loss:1.162388703337662, validation accuracy:0.6496666666666666\n"
          ]
        },
        {
          "data": {
            "text/html": [
              "Waiting for W&B process to finish... <strong style=\"color:green\">(success).</strong>"
            ],
            "text/plain": [
              "<IPython.core.display.HTML object>"
            ]
          },
          "metadata": {},
          "output_type": "display_data"
        },
        {
          "data": {
            "application/vnd.jupyter.widget-view+json": {
              "model_id": "e3acfa18004f49da99d81f4c6b098680",
              "version_major": 2,
              "version_minor": 0
            },
            "text/plain": [
              "VBox(children=(Label(value='0.001 MB of 0.001 MB uploaded (0.000 MB deduped)\\r'), FloatProgress(value=1.0, max…"
            ]
          },
          "metadata": {},
          "output_type": "display_data"
        },
        {
          "data": {
            "text/html": [
              "<style>\n",
              "    table.wandb td:nth-child(1) { padding: 0 10px; text-align: left ; width: auto;} td:nth-child(2) {text-align: left ; width: 100%}\n",
              "    .wandb-row { display: flex; flex-direction: row; flex-wrap: wrap; justify-content: flex-start; width: 100% }\n",
              "    .wandb-col { display: flex; flex-direction: column; flex-basis: 100%; flex: 1; padding: 10px; }\n",
              "    </style>\n",
              "<div class=\"wandb-row\"><div class=\"wandb-col\"><h3>Run history:</h3><br/><table class=\"wandb\"><tr><td>train accuracy</td><td>▁▂▂▄▆▇▇███</td></tr><tr><td>train loss</td><td>█▇▇▆▅▄▃▂▂▁</td></tr><tr><td>validation accuracy</td><td>▁▁▃▅▆▇▇███</td></tr><tr><td>validation loss</td><td>█▇▇▆▅▄▃▂▂▁</td></tr></table><br/></div><div class=\"wandb-col\"><h3>Run summary:</h3><br/><table class=\"wandb\"><tr><td>train accuracy</td><td>0.64752</td></tr><tr><td>train loss</td><td>1.20193</td></tr><tr><td>validation accuracy</td><td>0.64967</td></tr><tr><td>validation loss</td><td>1.16239</td></tr></table><br/></div></div>"
            ],
            "text/plain": [
              "<IPython.core.display.HTML object>"
            ]
          },
          "metadata": {},
          "output_type": "display_data"
        },
        {
          "data": {
            "text/html": [
              " View run <strong style=\"color:#cdcd00\">curious-sweep-31</strong> at: <a href='https://wandb.ai/cs22m019/DL%20Final%20Assignment%201/runs/eoq8u4t4' target=\"_blank\">https://wandb.ai/cs22m019/DL%20Final%20Assignment%201/runs/eoq8u4t4</a><br/>Synced 6 W&B file(s), 0 media file(s), 0 artifact file(s) and 0 other file(s)"
            ],
            "text/plain": [
              "<IPython.core.display.HTML object>"
            ]
          },
          "metadata": {},
          "output_type": "display_data"
        },
        {
          "data": {
            "text/html": [
              "Find logs at: <code>.\\wandb\\run-20230310_021142-eoq8u4t4\\logs</code>"
            ],
            "text/plain": [
              "<IPython.core.display.HTML object>"
            ]
          },
          "metadata": {},
          "output_type": "display_data"
        },
        {
          "name": "stderr",
          "output_type": "stream",
          "text": [
            "\u001b[34m\u001b[1mwandb\u001b[0m: Sweep Agent: Waiting for job.\n",
            "\u001b[34m\u001b[1mwandb\u001b[0m: Job received.\n",
            "\u001b[34m\u001b[1mwandb\u001b[0m: Agent Starting Run: h2vkh6u2 with config:\n",
            "\u001b[34m\u001b[1mwandb\u001b[0m: \tactivation: tanh\n",
            "\u001b[34m\u001b[1mwandb\u001b[0m: \tbatch_size: 32\n",
            "\u001b[34m\u001b[1mwandb\u001b[0m: \tepochs: 10\n",
            "\u001b[34m\u001b[1mwandb\u001b[0m: \tlearning_rate: 0.001\n",
            "\u001b[34m\u001b[1mwandb\u001b[0m: \tnumber_of_hidden_layer: 5\n",
            "\u001b[34m\u001b[1mwandb\u001b[0m: \toptimizer: nadam\n",
            "\u001b[34m\u001b[1mwandb\u001b[0m: \tsize_of_hidden_layer: 64\n",
            "\u001b[34m\u001b[1mwandb\u001b[0m: \tweight_decay: 0.0005\n",
            "\u001b[34m\u001b[1mwandb\u001b[0m: \tweight_initialization: random\n"
          ]
        },
        {
          "data": {
            "text/html": [
              "Tracking run with wandb version 0.13.11"
            ],
            "text/plain": [
              "<IPython.core.display.HTML object>"
            ]
          },
          "metadata": {},
          "output_type": "display_data"
        },
        {
          "data": {
            "text/html": [
              "Run data is saved locally in <code>C:\\Users\\DELL\\Desktop\\wandb\\run-20230310_021810-h2vkh6u2</code>"
            ],
            "text/plain": [
              "<IPython.core.display.HTML object>"
            ]
          },
          "metadata": {},
          "output_type": "display_data"
        },
        {
          "data": {
            "text/html": [
              "Syncing run <strong><a href='https://wandb.ai/cs22m019/DL%20Final%20Assignment%201/runs/h2vkh6u2' target=\"_blank\">wise-sweep-32</a></strong> to <a href='https://wandb.ai/cs22m019/DL%20Final%20Assignment%201' target=\"_blank\">Weights & Biases</a> (<a href='https://wandb.me/run' target=\"_blank\">docs</a>)<br/>Sweep page: <a href='https://wandb.ai/cs22m019/DL%20Final%20Assignment%201/sweeps/eayjxkwm' target=\"_blank\">https://wandb.ai/cs22m019/DL%20Final%20Assignment%201/sweeps/eayjxkwm</a>"
            ],
            "text/plain": [
              "<IPython.core.display.HTML object>"
            ]
          },
          "metadata": {},
          "output_type": "display_data"
        },
        {
          "data": {
            "text/html": [
              " View project at <a href='https://wandb.ai/cs22m019/DL%20Final%20Assignment%201' target=\"_blank\">https://wandb.ai/cs22m019/DL%20Final%20Assignment%201</a>"
            ],
            "text/plain": [
              "<IPython.core.display.HTML object>"
            ]
          },
          "metadata": {},
          "output_type": "display_data"
        },
        {
          "data": {
            "text/html": [
              " View sweep at <a href='https://wandb.ai/cs22m019/DL%20Final%20Assignment%201/sweeps/eayjxkwm' target=\"_blank\">https://wandb.ai/cs22m019/DL%20Final%20Assignment%201/sweeps/eayjxkwm</a>"
            ],
            "text/plain": [
              "<IPython.core.display.HTML object>"
            ]
          },
          "metadata": {},
          "output_type": "display_data"
        },
        {
          "data": {
            "text/html": [
              " View run at <a href='https://wandb.ai/cs22m019/DL%20Final%20Assignment%201/runs/h2vkh6u2' target=\"_blank\">https://wandb.ai/cs22m019/DL%20Final%20Assignment%201/runs/h2vkh6u2</a>"
            ],
            "text/plain": [
              "<IPython.core.display.HTML object>"
            ]
          },
          "metadata": {},
          "output_type": "display_data"
        },
        {
          "name": "stdout",
          "output_type": "stream",
          "text": [
            "epoch:1, train loss:3.741459322868261, train accuracy:0.17807407407407408, validation loss:2.6451878267648743, validation accuracy:0.288\n",
            "epoch:2, train loss:2.1996123864531123, train accuracy:0.3695185185185185, validation loss:1.9051459099281507, validation accuracy:0.4205\n",
            "epoch:3, train loss:1.680915092702389, train accuracy:0.4742037037037037, validation loss:1.5483737092728427, validation accuracy:0.5033333333333333\n",
            "epoch:4, train loss:1.406512805533691, train accuracy:0.5436481481481481, validation loss:1.350994665099773, validation accuracy:0.5598333333333333\n",
            "epoch:5, train loss:1.2441979158253371, train accuracy:0.5876481481481481, validation loss:1.2383680851981214, validation accuracy:0.5925\n",
            "epoch:6, train loss:1.1387269617484768, train accuracy:0.6177037037037038, validation loss:1.1503511574471241, validation accuracy:0.619\n",
            "epoch:7, train loss:1.0660890024980527, train accuracy:0.6414074074074074, validation loss:1.0902941864528164, validation accuracy:0.6365\n",
            "epoch:8, train loss:1.0104847935208738, train accuracy:0.6598703703703703, validation loss:1.0396463471543989, validation accuracy:0.6501666666666667\n",
            "epoch:9, train loss:0.9637416907078777, train accuracy:0.6752592592592592, validation loss:1.00203858617332, validation accuracy:0.664\n",
            "epoch:10, train loss:0.9255960081037407, train accuracy:0.6873518518518519, validation loss:0.9690958284321144, validation accuracy:0.6773333333333333\n"
          ]
        },
        {
          "data": {
            "text/html": [
              "Waiting for W&B process to finish... <strong style=\"color:green\">(success).</strong>"
            ],
            "text/plain": [
              "<IPython.core.display.HTML object>"
            ]
          },
          "metadata": {},
          "output_type": "display_data"
        },
        {
          "data": {
            "application/vnd.jupyter.widget-view+json": {
              "model_id": "ffd75da2e6ca4dbbb423baffe5e4e87b",
              "version_major": 2,
              "version_minor": 0
            },
            "text/plain": [
              "VBox(children=(Label(value='0.001 MB of 0.001 MB uploaded (0.000 MB deduped)\\r'), FloatProgress(value=1.0, max…"
            ]
          },
          "metadata": {},
          "output_type": "display_data"
        },
        {
          "data": {
            "text/html": [
              "<style>\n",
              "    table.wandb td:nth-child(1) { padding: 0 10px; text-align: left ; width: auto;} td:nth-child(2) {text-align: left ; width: 100%}\n",
              "    .wandb-row { display: flex; flex-direction: row; flex-wrap: wrap; justify-content: flex-start; width: 100% }\n",
              "    .wandb-col { display: flex; flex-direction: column; flex-basis: 100%; flex: 1; padding: 10px; }\n",
              "    </style>\n",
              "<div class=\"wandb-row\"><div class=\"wandb-col\"><h3>Run history:</h3><br/><table class=\"wandb\"><tr><td>train accuracy</td><td>▁▄▅▆▇▇▇███</td></tr><tr><td>train loss</td><td>█▄▃▂▂▂▁▁▁▁</td></tr><tr><td>validation accuracy</td><td>▁▃▅▆▆▇▇███</td></tr><tr><td>validation loss</td><td>█▅▃▃▂▂▂▁▁▁</td></tr></table><br/></div><div class=\"wandb-col\"><h3>Run summary:</h3><br/><table class=\"wandb\"><tr><td>train accuracy</td><td>0.68735</td></tr><tr><td>train loss</td><td>0.9256</td></tr><tr><td>validation accuracy</td><td>0.67733</td></tr><tr><td>validation loss</td><td>0.9691</td></tr></table><br/></div></div>"
            ],
            "text/plain": [
              "<IPython.core.display.HTML object>"
            ]
          },
          "metadata": {},
          "output_type": "display_data"
        },
        {
          "data": {
            "text/html": [
              " View run <strong style=\"color:#cdcd00\">wise-sweep-32</strong> at: <a href='https://wandb.ai/cs22m019/DL%20Final%20Assignment%201/runs/h2vkh6u2' target=\"_blank\">https://wandb.ai/cs22m019/DL%20Final%20Assignment%201/runs/h2vkh6u2</a><br/>Synced 6 W&B file(s), 0 media file(s), 0 artifact file(s) and 0 other file(s)"
            ],
            "text/plain": [
              "<IPython.core.display.HTML object>"
            ]
          },
          "metadata": {},
          "output_type": "display_data"
        },
        {
          "data": {
            "text/html": [
              "Find logs at: <code>.\\wandb\\run-20230310_021810-h2vkh6u2\\logs</code>"
            ],
            "text/plain": [
              "<IPython.core.display.HTML object>"
            ]
          },
          "metadata": {},
          "output_type": "display_data"
        },
        {
          "name": "stderr",
          "output_type": "stream",
          "text": [
            "\u001b[34m\u001b[1mwandb\u001b[0m: Agent Starting Run: gww2ddpy with config:\n",
            "\u001b[34m\u001b[1mwandb\u001b[0m: \tactivation: sigmoid\n",
            "\u001b[34m\u001b[1mwandb\u001b[0m: \tbatch_size: 32\n",
            "\u001b[34m\u001b[1mwandb\u001b[0m: \tepochs: 5\n",
            "\u001b[34m\u001b[1mwandb\u001b[0m: \tlearning_rate: 0.0001\n",
            "\u001b[34m\u001b[1mwandb\u001b[0m: \tnumber_of_hidden_layer: 4\n",
            "\u001b[34m\u001b[1mwandb\u001b[0m: \toptimizer: rmsprop\n",
            "\u001b[34m\u001b[1mwandb\u001b[0m: \tsize_of_hidden_layer: 64\n",
            "\u001b[34m\u001b[1mwandb\u001b[0m: \tweight_decay: 0.5\n",
            "\u001b[34m\u001b[1mwandb\u001b[0m: \tweight_initialization: Xavier\n"
          ]
        },
        {
          "data": {
            "text/html": [
              "Tracking run with wandb version 0.13.11"
            ],
            "text/plain": [
              "<IPython.core.display.HTML object>"
            ]
          },
          "metadata": {},
          "output_type": "display_data"
        },
        {
          "data": {
            "text/html": [
              "Run data is saved locally in <code>C:\\Users\\DELL\\Desktop\\wandb\\run-20230310_022034-gww2ddpy</code>"
            ],
            "text/plain": [
              "<IPython.core.display.HTML object>"
            ]
          },
          "metadata": {},
          "output_type": "display_data"
        },
        {
          "data": {
            "text/html": [
              "Syncing run <strong><a href='https://wandb.ai/cs22m019/DL%20Final%20Assignment%201/runs/gww2ddpy' target=\"_blank\">playful-sweep-33</a></strong> to <a href='https://wandb.ai/cs22m019/DL%20Final%20Assignment%201' target=\"_blank\">Weights & Biases</a> (<a href='https://wandb.me/run' target=\"_blank\">docs</a>)<br/>Sweep page: <a href='https://wandb.ai/cs22m019/DL%20Final%20Assignment%201/sweeps/eayjxkwm' target=\"_blank\">https://wandb.ai/cs22m019/DL%20Final%20Assignment%201/sweeps/eayjxkwm</a>"
            ],
            "text/plain": [
              "<IPython.core.display.HTML object>"
            ]
          },
          "metadata": {},
          "output_type": "display_data"
        },
        {
          "data": {
            "text/html": [
              " View project at <a href='https://wandb.ai/cs22m019/DL%20Final%20Assignment%201' target=\"_blank\">https://wandb.ai/cs22m019/DL%20Final%20Assignment%201</a>"
            ],
            "text/plain": [
              "<IPython.core.display.HTML object>"
            ]
          },
          "metadata": {},
          "output_type": "display_data"
        },
        {
          "data": {
            "text/html": [
              " View sweep at <a href='https://wandb.ai/cs22m019/DL%20Final%20Assignment%201/sweeps/eayjxkwm' target=\"_blank\">https://wandb.ai/cs22m019/DL%20Final%20Assignment%201/sweeps/eayjxkwm</a>"
            ],
            "text/plain": [
              "<IPython.core.display.HTML object>"
            ]
          },
          "metadata": {},
          "output_type": "display_data"
        },
        {
          "data": {
            "text/html": [
              " View run at <a href='https://wandb.ai/cs22m019/DL%20Final%20Assignment%201/runs/gww2ddpy' target=\"_blank\">https://wandb.ai/cs22m019/DL%20Final%20Assignment%201/runs/gww2ddpy</a>"
            ],
            "text/plain": [
              "<IPython.core.display.HTML object>"
            ]
          },
          "metadata": {},
          "output_type": "display_data"
        },
        {
          "name": "stdout",
          "output_type": "stream",
          "text": [
            "epoch:1, train loss:2.4467728303602234, train accuracy:0.10025925925925926, validation loss:2.4163412544430636, validation accuracy:0.09766666666666667\n",
            "epoch:2, train loss:2.3902280704685404, train accuracy:0.10025925925925926, validation loss:2.3705343292501704, validation accuracy:0.09766666666666667\n",
            "epoch:3, train loss:2.3551707578254977, train accuracy:0.10025925925925926, validation loss:2.342614737581399, validation accuracy:0.09766666666666667\n",
            "epoch:4, train loss:2.3335503660055927, train accuracy:0.10025925925925926, validation loss:2.3254616743975918, validation accuracy:0.09766666666666667\n",
            "epoch:5, train loss:2.3203604231765116, train accuracy:0.10025925925925926, validation loss:2.3153624665342902, validation accuracy:0.09766666666666667\n"
          ]
        },
        {
          "data": {
            "text/html": [
              "Waiting for W&B process to finish... <strong style=\"color:green\">(success).</strong>"
            ],
            "text/plain": [
              "<IPython.core.display.HTML object>"
            ]
          },
          "metadata": {},
          "output_type": "display_data"
        },
        {
          "data": {
            "application/vnd.jupyter.widget-view+json": {
              "model_id": "77dc515917544d6da81b70267cf852d0",
              "version_major": 2,
              "version_minor": 0
            },
            "text/plain": [
              "VBox(children=(Label(value='0.001 MB of 0.001 MB uploaded (0.000 MB deduped)\\r'), FloatProgress(value=1.0, max…"
            ]
          },
          "metadata": {},
          "output_type": "display_data"
        },
        {
          "data": {
            "text/html": [
              "<style>\n",
              "    table.wandb td:nth-child(1) { padding: 0 10px; text-align: left ; width: auto;} td:nth-child(2) {text-align: left ; width: 100%}\n",
              "    .wandb-row { display: flex; flex-direction: row; flex-wrap: wrap; justify-content: flex-start; width: 100% }\n",
              "    .wandb-col { display: flex; flex-direction: column; flex-basis: 100%; flex: 1; padding: 10px; }\n",
              "    </style>\n",
              "<div class=\"wandb-row\"><div class=\"wandb-col\"><h3>Run history:</h3><br/><table class=\"wandb\"><tr><td>train accuracy</td><td>▁▁▁▁▁</td></tr><tr><td>train loss</td><td>█▅▃▂▁</td></tr><tr><td>validation accuracy</td><td>▁▁▁▁▁</td></tr><tr><td>validation loss</td><td>█▅▃▂▁</td></tr></table><br/></div><div class=\"wandb-col\"><h3>Run summary:</h3><br/><table class=\"wandb\"><tr><td>train accuracy</td><td>0.10026</td></tr><tr><td>train loss</td><td>2.32036</td></tr><tr><td>validation accuracy</td><td>0.09767</td></tr><tr><td>validation loss</td><td>2.31536</td></tr></table><br/></div></div>"
            ],
            "text/plain": [
              "<IPython.core.display.HTML object>"
            ]
          },
          "metadata": {},
          "output_type": "display_data"
        },
        {
          "data": {
            "text/html": [
              " View run <strong style=\"color:#cdcd00\">playful-sweep-33</strong> at: <a href='https://wandb.ai/cs22m019/DL%20Final%20Assignment%201/runs/gww2ddpy' target=\"_blank\">https://wandb.ai/cs22m019/DL%20Final%20Assignment%201/runs/gww2ddpy</a><br/>Synced 6 W&B file(s), 0 media file(s), 0 artifact file(s) and 0 other file(s)"
            ],
            "text/plain": [
              "<IPython.core.display.HTML object>"
            ]
          },
          "metadata": {},
          "output_type": "display_data"
        },
        {
          "data": {
            "text/html": [
              "Find logs at: <code>.\\wandb\\run-20230310_022034-gww2ddpy\\logs</code>"
            ],
            "text/plain": [
              "<IPython.core.display.HTML object>"
            ]
          },
          "metadata": {},
          "output_type": "display_data"
        },
        {
          "name": "stderr",
          "output_type": "stream",
          "text": [
            "\u001b[34m\u001b[1mwandb\u001b[0m: Agent Starting Run: 2pikg7lg with config:\n",
            "\u001b[34m\u001b[1mwandb\u001b[0m: \tactivation: ReLU\n",
            "\u001b[34m\u001b[1mwandb\u001b[0m: \tbatch_size: 64\n",
            "\u001b[34m\u001b[1mwandb\u001b[0m: \tepochs: 10\n",
            "\u001b[34m\u001b[1mwandb\u001b[0m: \tlearning_rate: 0.001\n",
            "\u001b[34m\u001b[1mwandb\u001b[0m: \tnumber_of_hidden_layer: 5\n",
            "\u001b[34m\u001b[1mwandb\u001b[0m: \toptimizer: sgd\n",
            "\u001b[34m\u001b[1mwandb\u001b[0m: \tsize_of_hidden_layer: 32\n",
            "\u001b[34m\u001b[1mwandb\u001b[0m: \tweight_decay: 0\n",
            "\u001b[34m\u001b[1mwandb\u001b[0m: \tweight_initialization: random\n"
          ]
        },
        {
          "data": {
            "text/html": [
              "Tracking run with wandb version 0.13.11"
            ],
            "text/plain": [
              "<IPython.core.display.HTML object>"
            ]
          },
          "metadata": {},
          "output_type": "display_data"
        },
        {
          "data": {
            "text/html": [
              "Run data is saved locally in <code>C:\\Users\\DELL\\Desktop\\wandb\\run-20230310_022149-2pikg7lg</code>"
            ],
            "text/plain": [
              "<IPython.core.display.HTML object>"
            ]
          },
          "metadata": {},
          "output_type": "display_data"
        },
        {
          "data": {
            "text/html": [
              "Syncing run <strong><a href='https://wandb.ai/cs22m019/DL%20Final%20Assignment%201/runs/2pikg7lg' target=\"_blank\">unique-sweep-34</a></strong> to <a href='https://wandb.ai/cs22m019/DL%20Final%20Assignment%201' target=\"_blank\">Weights & Biases</a> (<a href='https://wandb.me/run' target=\"_blank\">docs</a>)<br/>Sweep page: <a href='https://wandb.ai/cs22m019/DL%20Final%20Assignment%201/sweeps/eayjxkwm' target=\"_blank\">https://wandb.ai/cs22m019/DL%20Final%20Assignment%201/sweeps/eayjxkwm</a>"
            ],
            "text/plain": [
              "<IPython.core.display.HTML object>"
            ]
          },
          "metadata": {},
          "output_type": "display_data"
        },
        {
          "data": {
            "text/html": [
              " View project at <a href='https://wandb.ai/cs22m019/DL%20Final%20Assignment%201' target=\"_blank\">https://wandb.ai/cs22m019/DL%20Final%20Assignment%201</a>"
            ],
            "text/plain": [
              "<IPython.core.display.HTML object>"
            ]
          },
          "metadata": {},
          "output_type": "display_data"
        },
        {
          "data": {
            "text/html": [
              " View sweep at <a href='https://wandb.ai/cs22m019/DL%20Final%20Assignment%201/sweeps/eayjxkwm' target=\"_blank\">https://wandb.ai/cs22m019/DL%20Final%20Assignment%201/sweeps/eayjxkwm</a>"
            ],
            "text/plain": [
              "<IPython.core.display.HTML object>"
            ]
          },
          "metadata": {},
          "output_type": "display_data"
        },
        {
          "data": {
            "text/html": [
              " View run at <a href='https://wandb.ai/cs22m019/DL%20Final%20Assignment%201/runs/2pikg7lg' target=\"_blank\">https://wandb.ai/cs22m019/DL%20Final%20Assignment%201/runs/2pikg7lg</a>"
            ],
            "text/plain": [
              "<IPython.core.display.HTML object>"
            ]
          },
          "metadata": {},
          "output_type": "display_data"
        },
        {
          "name": "stdout",
          "output_type": "stream",
          "text": [
            "epoch:1, train loss:13.288304550665778, train accuracy:0.2078888888888889, validation loss:12.118529448444614, validation accuracy:0.231\n",
            "epoch:2, train loss:11.015883912223881, train accuracy:0.25033333333333335, validation loss:10.091632316087493, validation accuracy:0.2625\n",
            "epoch:3, train loss:9.251884720770283, train accuracy:0.28853703703703704, validation loss:8.409768456074639, validation accuracy:0.29583333333333334\n",
            "epoch:4, train loss:7.878333887668035, train accuracy:0.33037037037037037, validation loss:7.302071378456556, validation accuracy:0.35083333333333333\n",
            "epoch:5, train loss:7.143665046480614, train accuracy:0.3431296296296296, validation loss:7.664473080528257, validation accuracy:0.31283333333333335\n",
            "epoch:6, train loss:6.396528654368937, train accuracy:0.36177777777777775, validation loss:6.201067676053049, validation accuracy:0.38483333333333336\n",
            "epoch:7, train loss:5.8856544832577695, train accuracy:0.38024074074074077, validation loss:5.574585996705699, validation accuracy:0.3895\n",
            "epoch:8, train loss:5.433381810753197, train accuracy:0.39225925925925925, validation loss:6.22296818210773, validation accuracy:0.328\n",
            "epoch:9, train loss:5.0521603920034, train accuracy:0.400537037037037, validation loss:4.688884179764403, validation accuracy:0.4083333333333333\n",
            "epoch:10, train loss:4.7152748745411, train accuracy:0.4050740740740741, validation loss:4.439497840634766, validation accuracy:0.4043333333333333\n"
          ]
        },
        {
          "data": {
            "text/html": [
              "Waiting for W&B process to finish... <strong style=\"color:green\">(success).</strong>"
            ],
            "text/plain": [
              "<IPython.core.display.HTML object>"
            ]
          },
          "metadata": {},
          "output_type": "display_data"
        },
        {
          "data": {
            "application/vnd.jupyter.widget-view+json": {
              "model_id": "6897a899ffca494ebde93de3c782ca7d",
              "version_major": 2,
              "version_minor": 0
            },
            "text/plain": [
              "VBox(children=(Label(value='0.001 MB of 0.001 MB uploaded (0.000 MB deduped)\\r'), FloatProgress(value=1.0, max…"
            ]
          },
          "metadata": {},
          "output_type": "display_data"
        },
        {
          "data": {
            "text/html": [
              "<style>\n",
              "    table.wandb td:nth-child(1) { padding: 0 10px; text-align: left ; width: auto;} td:nth-child(2) {text-align: left ; width: 100%}\n",
              "    .wandb-row { display: flex; flex-direction: row; flex-wrap: wrap; justify-content: flex-start; width: 100% }\n",
              "    .wandb-col { display: flex; flex-direction: column; flex-basis: 100%; flex: 1; padding: 10px; }\n",
              "    </style>\n",
              "<div class=\"wandb-row\"><div class=\"wandb-col\"><h3>Run history:</h3><br/><table class=\"wandb\"><tr><td>train accuracy</td><td>▁▃▄▅▆▆▇███</td></tr><tr><td>train loss</td><td>█▆▅▄▃▂▂▂▁▁</td></tr><tr><td>validation accuracy</td><td>▁▂▄▆▄▇▇▅██</td></tr><tr><td>validation loss</td><td>█▆▅▄▄▃▂▃▁▁</td></tr></table><br/></div><div class=\"wandb-col\"><h3>Run summary:</h3><br/><table class=\"wandb\"><tr><td>train accuracy</td><td>0.40507</td></tr><tr><td>train loss</td><td>4.71527</td></tr><tr><td>validation accuracy</td><td>0.40433</td></tr><tr><td>validation loss</td><td>4.4395</td></tr></table><br/></div></div>"
            ],
            "text/plain": [
              "<IPython.core.display.HTML object>"
            ]
          },
          "metadata": {},
          "output_type": "display_data"
        },
        {
          "data": {
            "text/html": [
              " View run <strong style=\"color:#cdcd00\">unique-sweep-34</strong> at: <a href='https://wandb.ai/cs22m019/DL%20Final%20Assignment%201/runs/2pikg7lg' target=\"_blank\">https://wandb.ai/cs22m019/DL%20Final%20Assignment%201/runs/2pikg7lg</a><br/>Synced 6 W&B file(s), 0 media file(s), 0 artifact file(s) and 0 other file(s)"
            ],
            "text/plain": [
              "<IPython.core.display.HTML object>"
            ]
          },
          "metadata": {},
          "output_type": "display_data"
        },
        {
          "data": {
            "text/html": [
              "Find logs at: <code>.\\wandb\\run-20230310_022149-2pikg7lg\\logs</code>"
            ],
            "text/plain": [
              "<IPython.core.display.HTML object>"
            ]
          },
          "metadata": {},
          "output_type": "display_data"
        },
        {
          "name": "stderr",
          "output_type": "stream",
          "text": [
            "\u001b[34m\u001b[1mwandb\u001b[0m: Agent Starting Run: s0qiygt3 with config:\n",
            "\u001b[34m\u001b[1mwandb\u001b[0m: \tactivation: tanh\n",
            "\u001b[34m\u001b[1mwandb\u001b[0m: \tbatch_size: 16\n",
            "\u001b[34m\u001b[1mwandb\u001b[0m: \tepochs: 5\n",
            "\u001b[34m\u001b[1mwandb\u001b[0m: \tlearning_rate: 0.0001\n",
            "\u001b[34m\u001b[1mwandb\u001b[0m: \tnumber_of_hidden_layer: 4\n",
            "\u001b[34m\u001b[1mwandb\u001b[0m: \toptimizer: nadam\n",
            "\u001b[34m\u001b[1mwandb\u001b[0m: \tsize_of_hidden_layer: 64\n",
            "\u001b[34m\u001b[1mwandb\u001b[0m: \tweight_decay: 0.5\n",
            "\u001b[34m\u001b[1mwandb\u001b[0m: \tweight_initialization: Xavier\n"
          ]
        },
        {
          "data": {
            "text/html": [
              "Tracking run with wandb version 0.13.11"
            ],
            "text/plain": [
              "<IPython.core.display.HTML object>"
            ]
          },
          "metadata": {},
          "output_type": "display_data"
        },
        {
          "data": {
            "text/html": [
              "Run data is saved locally in <code>C:\\Users\\DELL\\Desktop\\wandb\\run-20230310_022326-s0qiygt3</code>"
            ],
            "text/plain": [
              "<IPython.core.display.HTML object>"
            ]
          },
          "metadata": {},
          "output_type": "display_data"
        },
        {
          "data": {
            "text/html": [
              "Syncing run <strong><a href='https://wandb.ai/cs22m019/DL%20Final%20Assignment%201/runs/s0qiygt3' target=\"_blank\">distinctive-sweep-35</a></strong> to <a href='https://wandb.ai/cs22m019/DL%20Final%20Assignment%201' target=\"_blank\">Weights & Biases</a> (<a href='https://wandb.me/run' target=\"_blank\">docs</a>)<br/>Sweep page: <a href='https://wandb.ai/cs22m019/DL%20Final%20Assignment%201/sweeps/eayjxkwm' target=\"_blank\">https://wandb.ai/cs22m019/DL%20Final%20Assignment%201/sweeps/eayjxkwm</a>"
            ],
            "text/plain": [
              "<IPython.core.display.HTML object>"
            ]
          },
          "metadata": {},
          "output_type": "display_data"
        },
        {
          "data": {
            "text/html": [
              " View project at <a href='https://wandb.ai/cs22m019/DL%20Final%20Assignment%201' target=\"_blank\">https://wandb.ai/cs22m019/DL%20Final%20Assignment%201</a>"
            ],
            "text/plain": [
              "<IPython.core.display.HTML object>"
            ]
          },
          "metadata": {},
          "output_type": "display_data"
        },
        {
          "data": {
            "text/html": [
              " View sweep at <a href='https://wandb.ai/cs22m019/DL%20Final%20Assignment%201/sweeps/eayjxkwm' target=\"_blank\">https://wandb.ai/cs22m019/DL%20Final%20Assignment%201/sweeps/eayjxkwm</a>"
            ],
            "text/plain": [
              "<IPython.core.display.HTML object>"
            ]
          },
          "metadata": {},
          "output_type": "display_data"
        },
        {
          "data": {
            "text/html": [
              " View run at <a href='https://wandb.ai/cs22m019/DL%20Final%20Assignment%201/runs/s0qiygt3' target=\"_blank\">https://wandb.ai/cs22m019/DL%20Final%20Assignment%201/runs/s0qiygt3</a>"
            ],
            "text/plain": [
              "<IPython.core.display.HTML object>"
            ]
          },
          "metadata": {},
          "output_type": "display_data"
        },
        {
          "name": "stdout",
          "output_type": "stream",
          "text": [
            "epoch:1, train loss:1.5977072075592471, train accuracy:0.5012962962962964, validation loss:1.158342340123844, validation accuracy:0.6396666666666667\n",
            "epoch:2, train loss:0.9792677249729006, train accuracy:0.6904074074074074, validation loss:0.8683213700688287, validation accuracy:0.7123333333333334\n",
            "epoch:3, train loss:0.794282426179416, train accuracy:0.7455185185185185, validation loss:0.743167879876516, validation accuracy:0.759\n",
            "epoch:4, train loss:0.701184411995598, train accuracy:0.7759259259259259, validation loss:0.6697126187599095, validation accuracy:0.7825\n",
            "epoch:5, train loss:0.6432238668562004, train accuracy:0.7933148148148148, validation loss:0.6225798940598464, validation accuracy:0.7951666666666667\n"
          ]
        },
        {
          "data": {
            "text/html": [
              "Waiting for W&B process to finish... <strong style=\"color:green\">(success).</strong>"
            ],
            "text/plain": [
              "<IPython.core.display.HTML object>"
            ]
          },
          "metadata": {},
          "output_type": "display_data"
        },
        {
          "data": {
            "application/vnd.jupyter.widget-view+json": {
              "model_id": "f739ac43b0f84998ad8768210a12d165",
              "version_major": 2,
              "version_minor": 0
            },
            "text/plain": [
              "VBox(children=(Label(value='0.001 MB of 0.001 MB uploaded (0.000 MB deduped)\\r'), FloatProgress(value=1.0, max…"
            ]
          },
          "metadata": {},
          "output_type": "display_data"
        },
        {
          "data": {
            "text/html": [
              "<style>\n",
              "    table.wandb td:nth-child(1) { padding: 0 10px; text-align: left ; width: auto;} td:nth-child(2) {text-align: left ; width: 100%}\n",
              "    .wandb-row { display: flex; flex-direction: row; flex-wrap: wrap; justify-content: flex-start; width: 100% }\n",
              "    .wandb-col { display: flex; flex-direction: column; flex-basis: 100%; flex: 1; padding: 10px; }\n",
              "    </style>\n",
              "<div class=\"wandb-row\"><div class=\"wandb-col\"><h3>Run history:</h3><br/><table class=\"wandb\"><tr><td>train accuracy</td><td>▁▆▇██</td></tr><tr><td>train loss</td><td>█▃▂▁▁</td></tr><tr><td>validation accuracy</td><td>▁▄▆▇█</td></tr><tr><td>validation loss</td><td>█▄▃▂▁</td></tr></table><br/></div><div class=\"wandb-col\"><h3>Run summary:</h3><br/><table class=\"wandb\"><tr><td>train accuracy</td><td>0.79331</td></tr><tr><td>train loss</td><td>0.64322</td></tr><tr><td>validation accuracy</td><td>0.79517</td></tr><tr><td>validation loss</td><td>0.62258</td></tr></table><br/></div></div>"
            ],
            "text/plain": [
              "<IPython.core.display.HTML object>"
            ]
          },
          "metadata": {},
          "output_type": "display_data"
        },
        {
          "data": {
            "text/html": [
              " View run <strong style=\"color:#cdcd00\">distinctive-sweep-35</strong> at: <a href='https://wandb.ai/cs22m019/DL%20Final%20Assignment%201/runs/s0qiygt3' target=\"_blank\">https://wandb.ai/cs22m019/DL%20Final%20Assignment%201/runs/s0qiygt3</a><br/>Synced 6 W&B file(s), 0 media file(s), 0 artifact file(s) and 0 other file(s)"
            ],
            "text/plain": [
              "<IPython.core.display.HTML object>"
            ]
          },
          "metadata": {},
          "output_type": "display_data"
        },
        {
          "data": {
            "text/html": [
              "Find logs at: <code>.\\wandb\\run-20230310_022326-s0qiygt3\\logs</code>"
            ],
            "text/plain": [
              "<IPython.core.display.HTML object>"
            ]
          },
          "metadata": {},
          "output_type": "display_data"
        },
        {
          "name": "stderr",
          "output_type": "stream",
          "text": [
            "\u001b[34m\u001b[1mwandb\u001b[0m: Sweep Agent: Waiting for job.\n",
            "\u001b[34m\u001b[1mwandb\u001b[0m: Job received.\n",
            "\u001b[34m\u001b[1mwandb\u001b[0m: Agent Starting Run: ek4kdcu7 with config:\n",
            "\u001b[34m\u001b[1mwandb\u001b[0m: \tactivation: ReLU\n",
            "\u001b[34m\u001b[1mwandb\u001b[0m: \tbatch_size: 64\n",
            "\u001b[34m\u001b[1mwandb\u001b[0m: \tepochs: 5\n",
            "\u001b[34m\u001b[1mwandb\u001b[0m: \tlearning_rate: 0.0001\n",
            "\u001b[34m\u001b[1mwandb\u001b[0m: \tnumber_of_hidden_layer: 4\n",
            "\u001b[34m\u001b[1mwandb\u001b[0m: \toptimizer: adam\n",
            "\u001b[34m\u001b[1mwandb\u001b[0m: \tsize_of_hidden_layer: 64\n",
            "\u001b[34m\u001b[1mwandb\u001b[0m: \tweight_decay: 0.0005\n",
            "\u001b[34m\u001b[1mwandb\u001b[0m: \tweight_initialization: random\n"
          ]
        },
        {
          "data": {
            "text/html": [
              "Tracking run with wandb version 0.13.11"
            ],
            "text/plain": [
              "<IPython.core.display.HTML object>"
            ]
          },
          "metadata": {},
          "output_type": "display_data"
        },
        {
          "data": {
            "text/html": [
              "Run data is saved locally in <code>C:\\Users\\DELL\\Desktop\\wandb\\run-20230310_022455-ek4kdcu7</code>"
            ],
            "text/plain": [
              "<IPython.core.display.HTML object>"
            ]
          },
          "metadata": {},
          "output_type": "display_data"
        },
        {
          "data": {
            "text/html": [
              "Syncing run <strong><a href='https://wandb.ai/cs22m019/DL%20Final%20Assignment%201/runs/ek4kdcu7' target=\"_blank\">decent-sweep-36</a></strong> to <a href='https://wandb.ai/cs22m019/DL%20Final%20Assignment%201' target=\"_blank\">Weights & Biases</a> (<a href='https://wandb.me/run' target=\"_blank\">docs</a>)<br/>Sweep page: <a href='https://wandb.ai/cs22m019/DL%20Final%20Assignment%201/sweeps/eayjxkwm' target=\"_blank\">https://wandb.ai/cs22m019/DL%20Final%20Assignment%201/sweeps/eayjxkwm</a>"
            ],
            "text/plain": [
              "<IPython.core.display.HTML object>"
            ]
          },
          "metadata": {},
          "output_type": "display_data"
        },
        {
          "data": {
            "text/html": [
              " View project at <a href='https://wandb.ai/cs22m019/DL%20Final%20Assignment%201' target=\"_blank\">https://wandb.ai/cs22m019/DL%20Final%20Assignment%201</a>"
            ],
            "text/plain": [
              "<IPython.core.display.HTML object>"
            ]
          },
          "metadata": {},
          "output_type": "display_data"
        },
        {
          "data": {
            "text/html": [
              " View sweep at <a href='https://wandb.ai/cs22m019/DL%20Final%20Assignment%201/sweeps/eayjxkwm' target=\"_blank\">https://wandb.ai/cs22m019/DL%20Final%20Assignment%201/sweeps/eayjxkwm</a>"
            ],
            "text/plain": [
              "<IPython.core.display.HTML object>"
            ]
          },
          "metadata": {},
          "output_type": "display_data"
        },
        {
          "data": {
            "text/html": [
              " View run at <a href='https://wandb.ai/cs22m019/DL%20Final%20Assignment%201/runs/ek4kdcu7' target=\"_blank\">https://wandb.ai/cs22m019/DL%20Final%20Assignment%201/runs/ek4kdcu7</a>"
            ],
            "text/plain": [
              "<IPython.core.display.HTML object>"
            ]
          },
          "metadata": {},
          "output_type": "display_data"
        },
        {
          "name": "stdout",
          "output_type": "stream",
          "text": [
            "epoch:1, train loss:15.845626528555288, train accuracy:0.13033333333333333, validation loss:15.748550295793475, validation accuracy:0.135\n",
            "epoch:2, train loss:15.575977752143986, train accuracy:0.14335185185185184, validation loss:15.543860579479745, validation accuracy:0.1455\n",
            "epoch:3, train loss:15.364758404880941, train accuracy:0.15303703703703703, validation loss:15.367069568698515, validation accuracy:0.15233333333333332\n",
            "epoch:4, train loss:15.193250812990554, train accuracy:0.16085185185185186, validation loss:15.234543309668354, validation accuracy:0.15816666666666668\n",
            "epoch:5, train loss:15.022328373103841, train accuracy:0.16866666666666666, validation loss:15.09740843601582, validation accuracy:0.16333333333333333\n"
          ]
        },
        {
          "data": {
            "text/html": [
              "Waiting for W&B process to finish... <strong style=\"color:green\">(success).</strong>"
            ],
            "text/plain": [
              "<IPython.core.display.HTML object>"
            ]
          },
          "metadata": {},
          "output_type": "display_data"
        },
        {
          "data": {
            "application/vnd.jupyter.widget-view+json": {
              "model_id": "1e2487016d2647299fb17c4a2d6e610b",
              "version_major": 2,
              "version_minor": 0
            },
            "text/plain": [
              "VBox(children=(Label(value='0.001 MB of 0.001 MB uploaded (0.000 MB deduped)\\r'), FloatProgress(value=1.0, max…"
            ]
          },
          "metadata": {},
          "output_type": "display_data"
        },
        {
          "data": {
            "text/html": [
              "<style>\n",
              "    table.wandb td:nth-child(1) { padding: 0 10px; text-align: left ; width: auto;} td:nth-child(2) {text-align: left ; width: 100%}\n",
              "    .wandb-row { display: flex; flex-direction: row; flex-wrap: wrap; justify-content: flex-start; width: 100% }\n",
              "    .wandb-col { display: flex; flex-direction: column; flex-basis: 100%; flex: 1; padding: 10px; }\n",
              "    </style>\n",
              "<div class=\"wandb-row\"><div class=\"wandb-col\"><h3>Run history:</h3><br/><table class=\"wandb\"><tr><td>train accuracy</td><td>▁▃▅▇█</td></tr><tr><td>train loss</td><td>█▆▄▂▁</td></tr><tr><td>validation accuracy</td><td>▁▄▅▇█</td></tr><tr><td>validation loss</td><td>█▆▄▂▁</td></tr></table><br/></div><div class=\"wandb-col\"><h3>Run summary:</h3><br/><table class=\"wandb\"><tr><td>train accuracy</td><td>0.16867</td></tr><tr><td>train loss</td><td>15.02233</td></tr><tr><td>validation accuracy</td><td>0.16333</td></tr><tr><td>validation loss</td><td>15.09741</td></tr></table><br/></div></div>"
            ],
            "text/plain": [
              "<IPython.core.display.HTML object>"
            ]
          },
          "metadata": {},
          "output_type": "display_data"
        },
        {
          "data": {
            "text/html": [
              " View run <strong style=\"color:#cdcd00\">decent-sweep-36</strong> at: <a href='https://wandb.ai/cs22m019/DL%20Final%20Assignment%201/runs/ek4kdcu7' target=\"_blank\">https://wandb.ai/cs22m019/DL%20Final%20Assignment%201/runs/ek4kdcu7</a><br/>Synced 6 W&B file(s), 0 media file(s), 0 artifact file(s) and 0 other file(s)"
            ],
            "text/plain": [
              "<IPython.core.display.HTML object>"
            ]
          },
          "metadata": {},
          "output_type": "display_data"
        },
        {
          "data": {
            "text/html": [
              "Find logs at: <code>.\\wandb\\run-20230310_022455-ek4kdcu7\\logs</code>"
            ],
            "text/plain": [
              "<IPython.core.display.HTML object>"
            ]
          },
          "metadata": {},
          "output_type": "display_data"
        },
        {
          "name": "stderr",
          "output_type": "stream",
          "text": [
            "\u001b[34m\u001b[1mwandb\u001b[0m: Agent Starting Run: utbk8xis with config:\n",
            "\u001b[34m\u001b[1mwandb\u001b[0m: \tactivation: sigmoid\n",
            "\u001b[34m\u001b[1mwandb\u001b[0m: \tbatch_size: 16\n",
            "\u001b[34m\u001b[1mwandb\u001b[0m: \tepochs: 5\n",
            "\u001b[34m\u001b[1mwandb\u001b[0m: \tlearning_rate: 0.001\n",
            "\u001b[34m\u001b[1mwandb\u001b[0m: \tnumber_of_hidden_layer: 3\n",
            "\u001b[34m\u001b[1mwandb\u001b[0m: \toptimizer: adam\n",
            "\u001b[34m\u001b[1mwandb\u001b[0m: \tsize_of_hidden_layer: 64\n",
            "\u001b[34m\u001b[1mwandb\u001b[0m: \tweight_decay: 0\n",
            "\u001b[34m\u001b[1mwandb\u001b[0m: \tweight_initialization: Xavier\n",
            "\u001b[34m\u001b[1mwandb\u001b[0m: W&B API key is configured. Use \u001b[1m`wandb login --relogin`\u001b[0m to force relogin\n"
          ]
        },
        {
          "data": {
            "text/html": [
              "Tracking run with wandb version 0.13.11"
            ],
            "text/plain": [
              "<IPython.core.display.HTML object>"
            ]
          },
          "metadata": {},
          "output_type": "display_data"
        },
        {
          "data": {
            "text/html": [
              "Run data is saved locally in <code>C:\\Users\\DELL\\Desktop\\wandb\\run-20230310_022622-utbk8xis</code>"
            ],
            "text/plain": [
              "<IPython.core.display.HTML object>"
            ]
          },
          "metadata": {},
          "output_type": "display_data"
        },
        {
          "data": {
            "text/html": [
              "Syncing run <strong><a href='https://wandb.ai/cs22m019/DL%20Final%20Assignment%201/runs/utbk8xis' target=\"_blank\">vivid-sweep-37</a></strong> to <a href='https://wandb.ai/cs22m019/DL%20Final%20Assignment%201' target=\"_blank\">Weights & Biases</a> (<a href='https://wandb.me/run' target=\"_blank\">docs</a>)<br/>Sweep page: <a href='https://wandb.ai/cs22m019/DL%20Final%20Assignment%201/sweeps/eayjxkwm' target=\"_blank\">https://wandb.ai/cs22m019/DL%20Final%20Assignment%201/sweeps/eayjxkwm</a>"
            ],
            "text/plain": [
              "<IPython.core.display.HTML object>"
            ]
          },
          "metadata": {},
          "output_type": "display_data"
        },
        {
          "data": {
            "text/html": [
              " View project at <a href='https://wandb.ai/cs22m019/DL%20Final%20Assignment%201' target=\"_blank\">https://wandb.ai/cs22m019/DL%20Final%20Assignment%201</a>"
            ],
            "text/plain": [
              "<IPython.core.display.HTML object>"
            ]
          },
          "metadata": {},
          "output_type": "display_data"
        },
        {
          "data": {
            "text/html": [
              " View sweep at <a href='https://wandb.ai/cs22m019/DL%20Final%20Assignment%201/sweeps/eayjxkwm' target=\"_blank\">https://wandb.ai/cs22m019/DL%20Final%20Assignment%201/sweeps/eayjxkwm</a>"
            ],
            "text/plain": [
              "<IPython.core.display.HTML object>"
            ]
          },
          "metadata": {},
          "output_type": "display_data"
        },
        {
          "data": {
            "text/html": [
              " View run at <a href='https://wandb.ai/cs22m019/DL%20Final%20Assignment%201/runs/utbk8xis' target=\"_blank\">https://wandb.ai/cs22m019/DL%20Final%20Assignment%201/runs/utbk8xis</a>"
            ],
            "text/plain": [
              "<IPython.core.display.HTML object>"
            ]
          },
          "metadata": {},
          "output_type": "display_data"
        },
        {
          "name": "stdout",
          "output_type": "stream",
          "text": [
            "epoch:1, train loss:1.8515177251465336, train accuracy:0.421462962962963, validation loss:1.3722504983118426, validation accuracy:0.5521666666666667\n",
            "epoch:2, train loss:1.1620972756152266, train accuracy:0.6239629629629629, validation loss:1.0079137463221732, validation accuracy:0.6645\n",
            "epoch:3, train loss:0.8934457571616466, train accuracy:0.6915740740740741, validation loss:0.8092887234746327, validation accuracy:0.702\n",
            "epoch:4, train loss:0.7474427976392886, train accuracy:0.7218518518518519, validation loss:0.7039508247682755, validation accuracy:0.7256666666666667\n",
            "epoch:5, train loss:0.6683702433769881, train accuracy:0.7463333333333333, validation loss:0.6416460269123171, validation accuracy:0.7628333333333334\n"
          ]
        },
        {
          "data": {
            "text/html": [
              "Waiting for W&B process to finish... <strong style=\"color:green\">(success).</strong>"
            ],
            "text/plain": [
              "<IPython.core.display.HTML object>"
            ]
          },
          "metadata": {},
          "output_type": "display_data"
        },
        {
          "data": {
            "application/vnd.jupyter.widget-view+json": {
              "model_id": "94d1ea91030046d89ad344c298655bbf",
              "version_major": 2,
              "version_minor": 0
            },
            "text/plain": [
              "VBox(children=(Label(value='0.001 MB of 0.001 MB uploaded (0.000 MB deduped)\\r'), FloatProgress(value=1.0, max…"
            ]
          },
          "metadata": {},
          "output_type": "display_data"
        },
        {
          "data": {
            "text/html": [
              "<style>\n",
              "    table.wandb td:nth-child(1) { padding: 0 10px; text-align: left ; width: auto;} td:nth-child(2) {text-align: left ; width: 100%}\n",
              "    .wandb-row { display: flex; flex-direction: row; flex-wrap: wrap; justify-content: flex-start; width: 100% }\n",
              "    .wandb-col { display: flex; flex-direction: column; flex-basis: 100%; flex: 1; padding: 10px; }\n",
              "    </style>\n",
              "<div class=\"wandb-row\"><div class=\"wandb-col\"><h3>Run history:</h3><br/><table class=\"wandb\"><tr><td>train accuracy</td><td>▁▅▇▇█</td></tr><tr><td>train loss</td><td>█▄▂▁▁</td></tr><tr><td>validation accuracy</td><td>▁▅▆▇█</td></tr><tr><td>validation loss</td><td>█▅▃▂▁</td></tr></table><br/></div><div class=\"wandb-col\"><h3>Run summary:</h3><br/><table class=\"wandb\"><tr><td>train accuracy</td><td>0.74633</td></tr><tr><td>train loss</td><td>0.66837</td></tr><tr><td>validation accuracy</td><td>0.76283</td></tr><tr><td>validation loss</td><td>0.64165</td></tr></table><br/></div></div>"
            ],
            "text/plain": [
              "<IPython.core.display.HTML object>"
            ]
          },
          "metadata": {},
          "output_type": "display_data"
        },
        {
          "data": {
            "text/html": [
              " View run <strong style=\"color:#cdcd00\">vivid-sweep-37</strong> at: <a href='https://wandb.ai/cs22m019/DL%20Final%20Assignment%201/runs/utbk8xis' target=\"_blank\">https://wandb.ai/cs22m019/DL%20Final%20Assignment%201/runs/utbk8xis</a><br/>Synced 6 W&B file(s), 0 media file(s), 0 artifact file(s) and 0 other file(s)"
            ],
            "text/plain": [
              "<IPython.core.display.HTML object>"
            ]
          },
          "metadata": {},
          "output_type": "display_data"
        },
        {
          "data": {
            "text/html": [
              "Find logs at: <code>.\\wandb\\run-20230310_022622-utbk8xis\\logs</code>"
            ],
            "text/plain": [
              "<IPython.core.display.HTML object>"
            ]
          },
          "metadata": {},
          "output_type": "display_data"
        },
        {
          "name": "stderr",
          "output_type": "stream",
          "text": [
            "\u001b[34m\u001b[1mwandb\u001b[0m: Agent Starting Run: yg7wfdlm with config:\n",
            "\u001b[34m\u001b[1mwandb\u001b[0m: \tactivation: ReLU\n",
            "\u001b[34m\u001b[1mwandb\u001b[0m: \tbatch_size: 64\n",
            "\u001b[34m\u001b[1mwandb\u001b[0m: \tepochs: 10\n",
            "\u001b[34m\u001b[1mwandb\u001b[0m: \tlearning_rate: 0.001\n",
            "\u001b[34m\u001b[1mwandb\u001b[0m: \tnumber_of_hidden_layer: 5\n",
            "\u001b[34m\u001b[1mwandb\u001b[0m: \toptimizer: momentum\n",
            "\u001b[34m\u001b[1mwandb\u001b[0m: \tsize_of_hidden_layer: 32\n",
            "\u001b[34m\u001b[1mwandb\u001b[0m: \tweight_decay: 0\n",
            "\u001b[34m\u001b[1mwandb\u001b[0m: \tweight_initialization: Xavier\n"
          ]
        },
        {
          "data": {
            "text/html": [
              "Tracking run with wandb version 0.13.11"
            ],
            "text/plain": [
              "<IPython.core.display.HTML object>"
            ]
          },
          "metadata": {},
          "output_type": "display_data"
        },
        {
          "data": {
            "text/html": [
              "Run data is saved locally in <code>C:\\Users\\DELL\\Desktop\\wandb\\run-20230310_022736-yg7wfdlm</code>"
            ],
            "text/plain": [
              "<IPython.core.display.HTML object>"
            ]
          },
          "metadata": {},
          "output_type": "display_data"
        },
        {
          "data": {
            "text/html": [
              "Syncing run <strong><a href='https://wandb.ai/cs22m019/DL%20Final%20Assignment%201/runs/yg7wfdlm' target=\"_blank\">proud-sweep-38</a></strong> to <a href='https://wandb.ai/cs22m019/DL%20Final%20Assignment%201' target=\"_blank\">Weights & Biases</a> (<a href='https://wandb.me/run' target=\"_blank\">docs</a>)<br/>Sweep page: <a href='https://wandb.ai/cs22m019/DL%20Final%20Assignment%201/sweeps/eayjxkwm' target=\"_blank\">https://wandb.ai/cs22m019/DL%20Final%20Assignment%201/sweeps/eayjxkwm</a>"
            ],
            "text/plain": [
              "<IPython.core.display.HTML object>"
            ]
          },
          "metadata": {},
          "output_type": "display_data"
        },
        {
          "data": {
            "text/html": [
              " View project at <a href='https://wandb.ai/cs22m019/DL%20Final%20Assignment%201' target=\"_blank\">https://wandb.ai/cs22m019/DL%20Final%20Assignment%201</a>"
            ],
            "text/plain": [
              "<IPython.core.display.HTML object>"
            ]
          },
          "metadata": {},
          "output_type": "display_data"
        },
        {
          "data": {
            "text/html": [
              " View sweep at <a href='https://wandb.ai/cs22m019/DL%20Final%20Assignment%201/sweeps/eayjxkwm' target=\"_blank\">https://wandb.ai/cs22m019/DL%20Final%20Assignment%201/sweeps/eayjxkwm</a>"
            ],
            "text/plain": [
              "<IPython.core.display.HTML object>"
            ]
          },
          "metadata": {},
          "output_type": "display_data"
        },
        {
          "data": {
            "text/html": [
              " View run at <a href='https://wandb.ai/cs22m019/DL%20Final%20Assignment%201/runs/yg7wfdlm' target=\"_blank\">https://wandb.ai/cs22m019/DL%20Final%20Assignment%201/runs/yg7wfdlm</a>"
            ],
            "text/plain": [
              "<IPython.core.display.HTML object>"
            ]
          },
          "metadata": {},
          "output_type": "display_data"
        },
        {
          "name": "stdout",
          "output_type": "stream",
          "text": [
            "epoch:1, train loss:2.3357569806465786, train accuracy:0.18853703703703703, validation loss:2.2619104380510704, validation accuracy:0.268\n",
            "epoch:2, train loss:2.183069977217907, train accuracy:0.2751296296296296, validation loss:2.083287075514385, validation accuracy:0.27466666666666667\n",
            "epoch:3, train loss:1.9266044575145047, train accuracy:0.3473333333333333, validation loss:1.7406982935018565, validation accuracy:0.3973333333333333\n",
            "epoch:4, train loss:1.506340775359178, train accuracy:0.4845555555555556, validation loss:1.301494297354987, validation accuracy:0.5268333333333334\n",
            "epoch:5, train loss:1.1489709637048577, train accuracy:0.5678703703703704, validation loss:1.047792083699323, validation accuracy:0.6048333333333333\n",
            "epoch:6, train loss:0.9774166406630918, train accuracy:0.6269814814814815, validation loss:0.9382655556934517, validation accuracy:0.6538333333333334\n",
            "epoch:7, train loss:0.8933906552241165, train accuracy:0.6678703703703703, validation loss:0.8733716695738873, validation accuracy:0.6776666666666666\n",
            "epoch:8, train loss:0.8374253024801396, train accuracy:0.6956296296296296, validation loss:0.8248202281401152, validation accuracy:0.7023333333333334\n",
            "epoch:9, train loss:0.7924691603011839, train accuracy:0.7199444444444445, validation loss:0.7877048541961366, validation accuracy:0.7211666666666666\n",
            "epoch:10, train loss:0.7546657336558737, train accuracy:0.7373148148148149, validation loss:0.7481264807443682, validation accuracy:0.7426666666666667\n"
          ]
        },
        {
          "data": {
            "text/html": [
              "Waiting for W&B process to finish... <strong style=\"color:green\">(success).</strong>"
            ],
            "text/plain": [
              "<IPython.core.display.HTML object>"
            ]
          },
          "metadata": {},
          "output_type": "display_data"
        },
        {
          "data": {
            "application/vnd.jupyter.widget-view+json": {
              "model_id": "fa6dd04be7c9491e8a95058b253aeddc",
              "version_major": 2,
              "version_minor": 0
            },
            "text/plain": [
              "VBox(children=(Label(value='0.001 MB of 0.018 MB uploaded (0.000 MB deduped)\\r'), FloatProgress(value=0.059890…"
            ]
          },
          "metadata": {},
          "output_type": "display_data"
        },
        {
          "data": {
            "text/html": [
              "<style>\n",
              "    table.wandb td:nth-child(1) { padding: 0 10px; text-align: left ; width: auto;} td:nth-child(2) {text-align: left ; width: 100%}\n",
              "    .wandb-row { display: flex; flex-direction: row; flex-wrap: wrap; justify-content: flex-start; width: 100% }\n",
              "    .wandb-col { display: flex; flex-direction: column; flex-basis: 100%; flex: 1; padding: 10px; }\n",
              "    </style>\n",
              "<div class=\"wandb-row\"><div class=\"wandb-col\"><h3>Run history:</h3><br/><table class=\"wandb\"><tr><td>train accuracy</td><td>▁▂▃▅▆▇▇▇██</td></tr><tr><td>train loss</td><td>█▇▆▄▃▂▂▁▁▁</td></tr><tr><td>validation accuracy</td><td>▁▁▃▅▆▇▇▇██</td></tr><tr><td>validation loss</td><td>█▇▆▄▂▂▂▁▁▁</td></tr></table><br/></div><div class=\"wandb-col\"><h3>Run summary:</h3><br/><table class=\"wandb\"><tr><td>train accuracy</td><td>0.73731</td></tr><tr><td>train loss</td><td>0.75467</td></tr><tr><td>validation accuracy</td><td>0.74267</td></tr><tr><td>validation loss</td><td>0.74813</td></tr></table><br/></div></div>"
            ],
            "text/plain": [
              "<IPython.core.display.HTML object>"
            ]
          },
          "metadata": {},
          "output_type": "display_data"
        },
        {
          "data": {
            "text/html": [
              " View run <strong style=\"color:#cdcd00\">proud-sweep-38</strong> at: <a href='https://wandb.ai/cs22m019/DL%20Final%20Assignment%201/runs/yg7wfdlm' target=\"_blank\">https://wandb.ai/cs22m019/DL%20Final%20Assignment%201/runs/yg7wfdlm</a><br/>Synced 6 W&B file(s), 0 media file(s), 0 artifact file(s) and 0 other file(s)"
            ],
            "text/plain": [
              "<IPython.core.display.HTML object>"
            ]
          },
          "metadata": {},
          "output_type": "display_data"
        },
        {
          "data": {
            "text/html": [
              "Find logs at: <code>.\\wandb\\run-20230310_022736-yg7wfdlm\\logs</code>"
            ],
            "text/plain": [
              "<IPython.core.display.HTML object>"
            ]
          },
          "metadata": {},
          "output_type": "display_data"
        },
        {
          "name": "stderr",
          "output_type": "stream",
          "text": [
            "\u001b[34m\u001b[1mwandb\u001b[0m: Agent Starting Run: 2xkhj06z with config:\n",
            "\u001b[34m\u001b[1mwandb\u001b[0m: \tactivation: ReLU\n",
            "\u001b[34m\u001b[1mwandb\u001b[0m: \tbatch_size: 32\n",
            "\u001b[34m\u001b[1mwandb\u001b[0m: \tepochs: 5\n",
            "\u001b[34m\u001b[1mwandb\u001b[0m: \tlearning_rate: 0.0001\n",
            "\u001b[34m\u001b[1mwandb\u001b[0m: \tnumber_of_hidden_layer: 5\n",
            "\u001b[34m\u001b[1mwandb\u001b[0m: \toptimizer: rmsprop\n",
            "\u001b[34m\u001b[1mwandb\u001b[0m: \tsize_of_hidden_layer: 32\n",
            "\u001b[34m\u001b[1mwandb\u001b[0m: \tweight_decay: 0.0005\n",
            "\u001b[34m\u001b[1mwandb\u001b[0m: \tweight_initialization: Xavier\n"
          ]
        },
        {
          "data": {
            "text/html": [
              "Tracking run with wandb version 0.13.11"
            ],
            "text/plain": [
              "<IPython.core.display.HTML object>"
            ]
          },
          "metadata": {},
          "output_type": "display_data"
        },
        {
          "data": {
            "text/html": [
              "Run data is saved locally in <code>C:\\Users\\DELL\\Desktop\\wandb\\run-20230310_022919-2xkhj06z</code>"
            ],
            "text/plain": [
              "<IPython.core.display.HTML object>"
            ]
          },
          "metadata": {},
          "output_type": "display_data"
        },
        {
          "data": {
            "text/html": [
              "Syncing run <strong><a href='https://wandb.ai/cs22m019/DL%20Final%20Assignment%201/runs/2xkhj06z' target=\"_blank\">graceful-sweep-39</a></strong> to <a href='https://wandb.ai/cs22m019/DL%20Final%20Assignment%201' target=\"_blank\">Weights & Biases</a> (<a href='https://wandb.me/run' target=\"_blank\">docs</a>)<br/>Sweep page: <a href='https://wandb.ai/cs22m019/DL%20Final%20Assignment%201/sweeps/eayjxkwm' target=\"_blank\">https://wandb.ai/cs22m019/DL%20Final%20Assignment%201/sweeps/eayjxkwm</a>"
            ],
            "text/plain": [
              "<IPython.core.display.HTML object>"
            ]
          },
          "metadata": {},
          "output_type": "display_data"
        },
        {
          "data": {
            "text/html": [
              " View project at <a href='https://wandb.ai/cs22m019/DL%20Final%20Assignment%201' target=\"_blank\">https://wandb.ai/cs22m019/DL%20Final%20Assignment%201</a>"
            ],
            "text/plain": [
              "<IPython.core.display.HTML object>"
            ]
          },
          "metadata": {},
          "output_type": "display_data"
        },
        {
          "data": {
            "text/html": [
              " View sweep at <a href='https://wandb.ai/cs22m019/DL%20Final%20Assignment%201/sweeps/eayjxkwm' target=\"_blank\">https://wandb.ai/cs22m019/DL%20Final%20Assignment%201/sweeps/eayjxkwm</a>"
            ],
            "text/plain": [
              "<IPython.core.display.HTML object>"
            ]
          },
          "metadata": {},
          "output_type": "display_data"
        },
        {
          "data": {
            "text/html": [
              " View run at <a href='https://wandb.ai/cs22m019/DL%20Final%20Assignment%201/runs/2xkhj06z' target=\"_blank\">https://wandb.ai/cs22m019/DL%20Final%20Assignment%201/runs/2xkhj06z</a>"
            ],
            "text/plain": [
              "<IPython.core.display.HTML object>"
            ]
          },
          "metadata": {},
          "output_type": "display_data"
        },
        {
          "name": "stdout",
          "output_type": "stream",
          "text": [
            "epoch:1, train loss:2.3622834591072537, train accuracy:0.12055555555555555, validation loss:2.3162004604857125, validation accuracy:0.13483333333333333\n",
            "epoch:2, train loss:2.2721682566759998, train accuracy:0.13092592592592592, validation loss:2.2310035394479324, validation accuracy:0.12216666666666667\n",
            "epoch:3, train loss:2.185379573613461, train accuracy:0.13140740740740742, validation loss:2.1411271736130315, validation accuracy:0.1345\n",
            "epoch:4, train loss:2.094897936243834, train accuracy:0.1464074074074074, validation loss:2.049659279478402, validation accuracy:0.15983333333333333\n",
            "epoch:5, train loss:2.0010897493550526, train accuracy:0.1759074074074074, validation loss:1.9554272403638837, validation accuracy:0.1875\n"
          ]
        },
        {
          "data": {
            "text/html": [
              "Waiting for W&B process to finish... <strong style=\"color:green\">(success).</strong>"
            ],
            "text/plain": [
              "<IPython.core.display.HTML object>"
            ]
          },
          "metadata": {},
          "output_type": "display_data"
        },
        {
          "data": {
            "application/vnd.jupyter.widget-view+json": {
              "model_id": "cf038181eb184457926792fabe111f9d",
              "version_major": 2,
              "version_minor": 0
            },
            "text/plain": [
              "VBox(children=(Label(value='0.001 MB of 0.001 MB uploaded (0.000 MB deduped)\\r'), FloatProgress(value=1.0, max…"
            ]
          },
          "metadata": {},
          "output_type": "display_data"
        },
        {
          "data": {
            "text/html": [
              "<style>\n",
              "    table.wandb td:nth-child(1) { padding: 0 10px; text-align: left ; width: auto;} td:nth-child(2) {text-align: left ; width: 100%}\n",
              "    .wandb-row { display: flex; flex-direction: row; flex-wrap: wrap; justify-content: flex-start; width: 100% }\n",
              "    .wandb-col { display: flex; flex-direction: column; flex-basis: 100%; flex: 1; padding: 10px; }\n",
              "    </style>\n",
              "<div class=\"wandb-row\"><div class=\"wandb-col\"><h3>Run history:</h3><br/><table class=\"wandb\"><tr><td>train accuracy</td><td>▁▂▂▄█</td></tr><tr><td>train loss</td><td>█▆▅▃▁</td></tr><tr><td>validation accuracy</td><td>▂▁▂▅█</td></tr><tr><td>validation loss</td><td>█▆▅▃▁</td></tr></table><br/></div><div class=\"wandb-col\"><h3>Run summary:</h3><br/><table class=\"wandb\"><tr><td>train accuracy</td><td>0.17591</td></tr><tr><td>train loss</td><td>2.00109</td></tr><tr><td>validation accuracy</td><td>0.1875</td></tr><tr><td>validation loss</td><td>1.95543</td></tr></table><br/></div></div>"
            ],
            "text/plain": [
              "<IPython.core.display.HTML object>"
            ]
          },
          "metadata": {},
          "output_type": "display_data"
        },
        {
          "data": {
            "text/html": [
              " View run <strong style=\"color:#cdcd00\">graceful-sweep-39</strong> at: <a href='https://wandb.ai/cs22m019/DL%20Final%20Assignment%201/runs/2xkhj06z' target=\"_blank\">https://wandb.ai/cs22m019/DL%20Final%20Assignment%201/runs/2xkhj06z</a><br/>Synced 6 W&B file(s), 0 media file(s), 0 artifact file(s) and 0 other file(s)"
            ],
            "text/plain": [
              "<IPython.core.display.HTML object>"
            ]
          },
          "metadata": {},
          "output_type": "display_data"
        },
        {
          "data": {
            "text/html": [
              "Find logs at: <code>.\\wandb\\run-20230310_022919-2xkhj06z\\logs</code>"
            ],
            "text/plain": [
              "<IPython.core.display.HTML object>"
            ]
          },
          "metadata": {},
          "output_type": "display_data"
        },
        {
          "name": "stderr",
          "output_type": "stream",
          "text": [
            "\u001b[34m\u001b[1mwandb\u001b[0m: Agent Starting Run: zlj5q826 with config:\n",
            "\u001b[34m\u001b[1mwandb\u001b[0m: \tactivation: sigmoid\n",
            "\u001b[34m\u001b[1mwandb\u001b[0m: \tbatch_size: 32\n",
            "\u001b[34m\u001b[1mwandb\u001b[0m: \tepochs: 5\n",
            "\u001b[34m\u001b[1mwandb\u001b[0m: \tlearning_rate: 0.001\n",
            "\u001b[34m\u001b[1mwandb\u001b[0m: \tnumber_of_hidden_layer: 4\n",
            "\u001b[34m\u001b[1mwandb\u001b[0m: \toptimizer: adam\n",
            "\u001b[34m\u001b[1mwandb\u001b[0m: \tsize_of_hidden_layer: 32\n",
            "\u001b[34m\u001b[1mwandb\u001b[0m: \tweight_decay: 0.5\n",
            "\u001b[34m\u001b[1mwandb\u001b[0m: \tweight_initialization: Xavier\n"
          ]
        },
        {
          "data": {
            "text/html": [
              "Tracking run with wandb version 0.13.11"
            ],
            "text/plain": [
              "<IPython.core.display.HTML object>"
            ]
          },
          "metadata": {},
          "output_type": "display_data"
        },
        {
          "data": {
            "text/html": [
              "Run data is saved locally in <code>C:\\Users\\DELL\\Desktop\\wandb\\run-20230310_023024-zlj5q826</code>"
            ],
            "text/plain": [
              "<IPython.core.display.HTML object>"
            ]
          },
          "metadata": {},
          "output_type": "display_data"
        },
        {
          "data": {
            "text/html": [
              "Syncing run <strong><a href='https://wandb.ai/cs22m019/DL%20Final%20Assignment%201/runs/zlj5q826' target=\"_blank\">charmed-sweep-40</a></strong> to <a href='https://wandb.ai/cs22m019/DL%20Final%20Assignment%201' target=\"_blank\">Weights & Biases</a> (<a href='https://wandb.me/run' target=\"_blank\">docs</a>)<br/>Sweep page: <a href='https://wandb.ai/cs22m019/DL%20Final%20Assignment%201/sweeps/eayjxkwm' target=\"_blank\">https://wandb.ai/cs22m019/DL%20Final%20Assignment%201/sweeps/eayjxkwm</a>"
            ],
            "text/plain": [
              "<IPython.core.display.HTML object>"
            ]
          },
          "metadata": {},
          "output_type": "display_data"
        },
        {
          "data": {
            "text/html": [
              " View project at <a href='https://wandb.ai/cs22m019/DL%20Final%20Assignment%201' target=\"_blank\">https://wandb.ai/cs22m019/DL%20Final%20Assignment%201</a>"
            ],
            "text/plain": [
              "<IPython.core.display.HTML object>"
            ]
          },
          "metadata": {},
          "output_type": "display_data"
        },
        {
          "data": {
            "text/html": [
              " View sweep at <a href='https://wandb.ai/cs22m019/DL%20Final%20Assignment%201/sweeps/eayjxkwm' target=\"_blank\">https://wandb.ai/cs22m019/DL%20Final%20Assignment%201/sweeps/eayjxkwm</a>"
            ],
            "text/plain": [
              "<IPython.core.display.HTML object>"
            ]
          },
          "metadata": {},
          "output_type": "display_data"
        },
        {
          "data": {
            "text/html": [
              " View run at <a href='https://wandb.ai/cs22m019/DL%20Final%20Assignment%201/runs/zlj5q826' target=\"_blank\">https://wandb.ai/cs22m019/DL%20Final%20Assignment%201/runs/zlj5q826</a>"
            ],
            "text/plain": [
              "<IPython.core.display.HTML object>"
            ]
          },
          "metadata": {},
          "output_type": "display_data"
        },
        {
          "name": "stdout",
          "output_type": "stream",
          "text": [
            "epoch:1, train loss:2.379501259298146, train accuracy:0.10025925925925926, validation loss:2.3002254805189715, validation accuracy:0.09766666666666667\n",
            "epoch:2, train loss:2.2772081930159427, train accuracy:0.17909259259259258, validation loss:2.2467600832953223, validation accuracy:0.2575\n",
            "epoch:3, train loss:2.1892227408530824, train accuracy:0.2750925925925926, validation loss:2.1128895386269773, validation accuracy:0.2831666666666667\n",
            "epoch:4, train loss:2.016864285820821, train accuracy:0.2965925925925926, validation loss:1.9235001470632576, validation accuracy:0.284\n",
            "epoch:5, train loss:1.8519501281283628, train accuracy:0.2670740740740741, validation loss:1.7969310653384538, validation accuracy:0.28633333333333333\n"
          ]
        },
        {
          "data": {
            "text/html": [
              "Waiting for W&B process to finish... <strong style=\"color:green\">(success).</strong>"
            ],
            "text/plain": [
              "<IPython.core.display.HTML object>"
            ]
          },
          "metadata": {},
          "output_type": "display_data"
        },
        {
          "data": {
            "text/html": [
              "<style>\n",
              "    table.wandb td:nth-child(1) { padding: 0 10px; text-align: left ; width: auto;} td:nth-child(2) {text-align: left ; width: 100%}\n",
              "    .wandb-row { display: flex; flex-direction: row; flex-wrap: wrap; justify-content: flex-start; width: 100% }\n",
              "    .wandb-col { display: flex; flex-direction: column; flex-basis: 100%; flex: 1; padding: 10px; }\n",
              "    </style>\n",
              "<div class=\"wandb-row\"><div class=\"wandb-col\"><h3>Run history:</h3><br/><table class=\"wandb\"><tr><td>train accuracy</td><td>▁▄▇█▇</td></tr><tr><td>train loss</td><td>█▇▅▃▁</td></tr><tr><td>validation accuracy</td><td>▁▇███</td></tr><tr><td>validation loss</td><td>█▇▅▃▁</td></tr></table><br/></div><div class=\"wandb-col\"><h3>Run summary:</h3><br/><table class=\"wandb\"><tr><td>train accuracy</td><td>0.26707</td></tr><tr><td>train loss</td><td>1.85195</td></tr><tr><td>validation accuracy</td><td>0.28633</td></tr><tr><td>validation loss</td><td>1.79693</td></tr></table><br/></div></div>"
            ],
            "text/plain": [
              "<IPython.core.display.HTML object>"
            ]
          },
          "metadata": {},
          "output_type": "display_data"
        },
        {
          "data": {
            "text/html": [
              " View run <strong style=\"color:#cdcd00\">charmed-sweep-40</strong> at: <a href='https://wandb.ai/cs22m019/DL%20Final%20Assignment%201/runs/zlj5q826' target=\"_blank\">https://wandb.ai/cs22m019/DL%20Final%20Assignment%201/runs/zlj5q826</a><br/>Synced 6 W&B file(s), 0 media file(s), 0 artifact file(s) and 0 other file(s)"
            ],
            "text/plain": [
              "<IPython.core.display.HTML object>"
            ]
          },
          "metadata": {},
          "output_type": "display_data"
        },
        {
          "data": {
            "text/html": [
              "Find logs at: <code>.\\wandb\\run-20230310_023024-zlj5q826\\logs</code>"
            ],
            "text/plain": [
              "<IPython.core.display.HTML object>"
            ]
          },
          "metadata": {},
          "output_type": "display_data"
        },
        {
          "name": "stderr",
          "output_type": "stream",
          "text": [
            "\u001b[34m\u001b[1mwandb\u001b[0m: Agent Starting Run: zmukzfjf with config:\n",
            "\u001b[34m\u001b[1mwandb\u001b[0m: \tactivation: ReLU\n",
            "\u001b[34m\u001b[1mwandb\u001b[0m: \tbatch_size: 64\n",
            "\u001b[34m\u001b[1mwandb\u001b[0m: \tepochs: 5\n",
            "\u001b[34m\u001b[1mwandb\u001b[0m: \tlearning_rate: 0.0001\n",
            "\u001b[34m\u001b[1mwandb\u001b[0m: \tnumber_of_hidden_layer: 3\n",
            "\u001b[34m\u001b[1mwandb\u001b[0m: \toptimizer: nestrov\n",
            "\u001b[34m\u001b[1mwandb\u001b[0m: \tsize_of_hidden_layer: 32\n",
            "\u001b[34m\u001b[1mwandb\u001b[0m: \tweight_decay: 0.5\n",
            "\u001b[34m\u001b[1mwandb\u001b[0m: \tweight_initialization: Xavier\n"
          ]
        },
        {
          "data": {
            "text/html": [
              "Tracking run with wandb version 0.13.11"
            ],
            "text/plain": [
              "<IPython.core.display.HTML object>"
            ]
          },
          "metadata": {},
          "output_type": "display_data"
        },
        {
          "data": {
            "text/html": [
              "Run data is saved locally in <code>C:\\Users\\DELL\\Desktop\\wandb\\run-20230310_023128-zmukzfjf</code>"
            ],
            "text/plain": [
              "<IPython.core.display.HTML object>"
            ]
          },
          "metadata": {},
          "output_type": "display_data"
        },
        {
          "data": {
            "text/html": [
              "Syncing run <strong><a href='https://wandb.ai/cs22m019/DL%20Final%20Assignment%201/runs/zmukzfjf' target=\"_blank\">glamorous-sweep-41</a></strong> to <a href='https://wandb.ai/cs22m019/DL%20Final%20Assignment%201' target=\"_blank\">Weights & Biases</a> (<a href='https://wandb.me/run' target=\"_blank\">docs</a>)<br/>Sweep page: <a href='https://wandb.ai/cs22m019/DL%20Final%20Assignment%201/sweeps/eayjxkwm' target=\"_blank\">https://wandb.ai/cs22m019/DL%20Final%20Assignment%201/sweeps/eayjxkwm</a>"
            ],
            "text/plain": [
              "<IPython.core.display.HTML object>"
            ]
          },
          "metadata": {},
          "output_type": "display_data"
        },
        {
          "data": {
            "text/html": [
              " View project at <a href='https://wandb.ai/cs22m019/DL%20Final%20Assignment%201' target=\"_blank\">https://wandb.ai/cs22m019/DL%20Final%20Assignment%201</a>"
            ],
            "text/plain": [
              "<IPython.core.display.HTML object>"
            ]
          },
          "metadata": {},
          "output_type": "display_data"
        },
        {
          "data": {
            "text/html": [
              " View sweep at <a href='https://wandb.ai/cs22m019/DL%20Final%20Assignment%201/sweeps/eayjxkwm' target=\"_blank\">https://wandb.ai/cs22m019/DL%20Final%20Assignment%201/sweeps/eayjxkwm</a>"
            ],
            "text/plain": [
              "<IPython.core.display.HTML object>"
            ]
          },
          "metadata": {},
          "output_type": "display_data"
        },
        {
          "data": {
            "text/html": [
              " View run at <a href='https://wandb.ai/cs22m019/DL%20Final%20Assignment%201/runs/zmukzfjf' target=\"_blank\">https://wandb.ai/cs22m019/DL%20Final%20Assignment%201/runs/zmukzfjf</a>"
            ],
            "text/plain": [
              "<IPython.core.display.HTML object>"
            ]
          },
          "metadata": {},
          "output_type": "display_data"
        },
        {
          "name": "stdout",
          "output_type": "stream",
          "text": [
            "epoch:1, train loss:2.342779618037152, train accuracy:0.11101851851851852, validation loss:2.3062718278980623, validation accuracy:0.12183333333333334\n",
            "epoch:2, train loss:2.2817511538936976, train accuracy:0.14601851851851852, validation loss:2.262424712247633, validation accuracy:0.16116666666666668\n",
            "epoch:3, train loss:2.2421957829104984, train accuracy:0.18285185185185185, validation loss:2.2253402806501983, validation accuracy:0.193\n",
            "epoch:4, train loss:2.204314239306621, train accuracy:0.21357407407407408, validation loss:2.1863681120781004, validation accuracy:0.21983333333333333\n",
            "epoch:5, train loss:2.163893374383154, train accuracy:0.2380925925925926, validation loss:2.14502672150283, validation accuracy:0.2475\n"
          ]
        },
        {
          "data": {
            "text/html": [
              "Waiting for W&B process to finish... <strong style=\"color:green\">(success).</strong>"
            ],
            "text/plain": [
              "<IPython.core.display.HTML object>"
            ]
          },
          "metadata": {},
          "output_type": "display_data"
        },
        {
          "data": {
            "application/vnd.jupyter.widget-view+json": {
              "model_id": "75fd7c29d4524b839ff2c67cc1aac54f",
              "version_major": 2,
              "version_minor": 0
            },
            "text/plain": [
              "VBox(children=(Label(value='0.001 MB of 0.001 MB uploaded (0.000 MB deduped)\\r'), FloatProgress(value=1.0, max…"
            ]
          },
          "metadata": {},
          "output_type": "display_data"
        },
        {
          "data": {
            "text/html": [
              "<style>\n",
              "    table.wandb td:nth-child(1) { padding: 0 10px; text-align: left ; width: auto;} td:nth-child(2) {text-align: left ; width: 100%}\n",
              "    .wandb-row { display: flex; flex-direction: row; flex-wrap: wrap; justify-content: flex-start; width: 100% }\n",
              "    .wandb-col { display: flex; flex-direction: column; flex-basis: 100%; flex: 1; padding: 10px; }\n",
              "    </style>\n",
              "<div class=\"wandb-row\"><div class=\"wandb-col\"><h3>Run history:</h3><br/><table class=\"wandb\"><tr><td>train accuracy</td><td>▁▃▅▇█</td></tr><tr><td>train loss</td><td>█▆▄▃▁</td></tr><tr><td>validation accuracy</td><td>▁▃▅▆█</td></tr><tr><td>validation loss</td><td>█▆▄▃▁</td></tr></table><br/></div><div class=\"wandb-col\"><h3>Run summary:</h3><br/><table class=\"wandb\"><tr><td>train accuracy</td><td>0.23809</td></tr><tr><td>train loss</td><td>2.16389</td></tr><tr><td>validation accuracy</td><td>0.2475</td></tr><tr><td>validation loss</td><td>2.14503</td></tr></table><br/></div></div>"
            ],
            "text/plain": [
              "<IPython.core.display.HTML object>"
            ]
          },
          "metadata": {},
          "output_type": "display_data"
        },
        {
          "data": {
            "text/html": [
              " View run <strong style=\"color:#cdcd00\">glamorous-sweep-41</strong> at: <a href='https://wandb.ai/cs22m019/DL%20Final%20Assignment%201/runs/zmukzfjf' target=\"_blank\">https://wandb.ai/cs22m019/DL%20Final%20Assignment%201/runs/zmukzfjf</a><br/>Synced 6 W&B file(s), 0 media file(s), 0 artifact file(s) and 0 other file(s)"
            ],
            "text/plain": [
              "<IPython.core.display.HTML object>"
            ]
          },
          "metadata": {},
          "output_type": "display_data"
        },
        {
          "data": {
            "text/html": [
              "Find logs at: <code>.\\wandb\\run-20230310_023128-zmukzfjf\\logs</code>"
            ],
            "text/plain": [
              "<IPython.core.display.HTML object>"
            ]
          },
          "metadata": {},
          "output_type": "display_data"
        },
        {
          "name": "stderr",
          "output_type": "stream",
          "text": [
            "\u001b[34m\u001b[1mwandb\u001b[0m: Agent Starting Run: vdh6qxrq with config:\n",
            "\u001b[34m\u001b[1mwandb\u001b[0m: \tactivation: tanh\n",
            "\u001b[34m\u001b[1mwandb\u001b[0m: \tbatch_size: 32\n",
            "\u001b[34m\u001b[1mwandb\u001b[0m: \tepochs: 5\n",
            "\u001b[34m\u001b[1mwandb\u001b[0m: \tlearning_rate: 0.001\n",
            "\u001b[34m\u001b[1mwandb\u001b[0m: \tnumber_of_hidden_layer: 4\n",
            "\u001b[34m\u001b[1mwandb\u001b[0m: \toptimizer: sgd\n",
            "\u001b[34m\u001b[1mwandb\u001b[0m: \tsize_of_hidden_layer: 64\n",
            "\u001b[34m\u001b[1mwandb\u001b[0m: \tweight_decay: 0.0005\n",
            "\u001b[34m\u001b[1mwandb\u001b[0m: \tweight_initialization: Xavier\n"
          ]
        },
        {
          "data": {
            "text/html": [
              "Tracking run with wandb version 0.13.11"
            ],
            "text/plain": [
              "<IPython.core.display.HTML object>"
            ]
          },
          "metadata": {},
          "output_type": "display_data"
        },
        {
          "data": {
            "text/html": [
              "Run data is saved locally in <code>C:\\Users\\DELL\\Desktop\\wandb\\run-20230310_023231-vdh6qxrq</code>"
            ],
            "text/plain": [
              "<IPython.core.display.HTML object>"
            ]
          },
          "metadata": {},
          "output_type": "display_data"
        },
        {
          "data": {
            "text/html": [
              "Syncing run <strong><a href='https://wandb.ai/cs22m019/DL%20Final%20Assignment%201/runs/vdh6qxrq' target=\"_blank\">snowy-sweep-42</a></strong> to <a href='https://wandb.ai/cs22m019/DL%20Final%20Assignment%201' target=\"_blank\">Weights & Biases</a> (<a href='https://wandb.me/run' target=\"_blank\">docs</a>)<br/>Sweep page: <a href='https://wandb.ai/cs22m019/DL%20Final%20Assignment%201/sweeps/eayjxkwm' target=\"_blank\">https://wandb.ai/cs22m019/DL%20Final%20Assignment%201/sweeps/eayjxkwm</a>"
            ],
            "text/plain": [
              "<IPython.core.display.HTML object>"
            ]
          },
          "metadata": {},
          "output_type": "display_data"
        },
        {
          "data": {
            "text/html": [
              " View project at <a href='https://wandb.ai/cs22m019/DL%20Final%20Assignment%201' target=\"_blank\">https://wandb.ai/cs22m019/DL%20Final%20Assignment%201</a>"
            ],
            "text/plain": [
              "<IPython.core.display.HTML object>"
            ]
          },
          "metadata": {},
          "output_type": "display_data"
        },
        {
          "data": {
            "text/html": [
              " View sweep at <a href='https://wandb.ai/cs22m019/DL%20Final%20Assignment%201/sweeps/eayjxkwm' target=\"_blank\">https://wandb.ai/cs22m019/DL%20Final%20Assignment%201/sweeps/eayjxkwm</a>"
            ],
            "text/plain": [
              "<IPython.core.display.HTML object>"
            ]
          },
          "metadata": {},
          "output_type": "display_data"
        },
        {
          "data": {
            "text/html": [
              " View run at <a href='https://wandb.ai/cs22m019/DL%20Final%20Assignment%201/runs/vdh6qxrq' target=\"_blank\">https://wandb.ai/cs22m019/DL%20Final%20Assignment%201/runs/vdh6qxrq</a>"
            ],
            "text/plain": [
              "<IPython.core.display.HTML object>"
            ]
          },
          "metadata": {},
          "output_type": "display_data"
        },
        {
          "name": "stdout",
          "output_type": "stream",
          "text": [
            "epoch:1, train loss:2.4022619557207876, train accuracy:0.06964814814814815, validation loss:2.321557857039888, validation accuracy:0.09316666666666666\n",
            "epoch:2, train loss:2.2405146127382882, train accuracy:0.12603703703703703, validation loss:2.1763325236254114, validation accuracy:0.165\n",
            "epoch:3, train loss:2.113341220835038, train accuracy:0.21768518518518518, validation loss:2.065154424010532, validation accuracy:0.26216666666666666\n",
            "epoch:4, train loss:2.017257403604035, train accuracy:0.30133333333333334, validation loss:1.9843591360690993, validation accuracy:0.3471666666666667\n",
            "epoch:5, train loss:1.9388052437725478, train accuracy:0.38885185185185184, validation loss:1.9101435380824698, validation accuracy:0.4201666666666667\n"
          ]
        },
        {
          "data": {
            "text/html": [
              "Waiting for W&B process to finish... <strong style=\"color:green\">(success).</strong>"
            ],
            "text/plain": [
              "<IPython.core.display.HTML object>"
            ]
          },
          "metadata": {},
          "output_type": "display_data"
        },
        {
          "data": {
            "application/vnd.jupyter.widget-view+json": {
              "model_id": "7edea798cc2e4467a8b0f696b65b8276",
              "version_major": 2,
              "version_minor": 0
            },
            "text/plain": [
              "VBox(children=(Label(value='0.001 MB of 0.001 MB uploaded (0.000 MB deduped)\\r'), FloatProgress(value=1.0, max…"
            ]
          },
          "metadata": {},
          "output_type": "display_data"
        },
        {
          "data": {
            "text/html": [
              "<style>\n",
              "    table.wandb td:nth-child(1) { padding: 0 10px; text-align: left ; width: auto;} td:nth-child(2) {text-align: left ; width: 100%}\n",
              "    .wandb-row { display: flex; flex-direction: row; flex-wrap: wrap; justify-content: flex-start; width: 100% }\n",
              "    .wandb-col { display: flex; flex-direction: column; flex-basis: 100%; flex: 1; padding: 10px; }\n",
              "    </style>\n",
              "<div class=\"wandb-row\"><div class=\"wandb-col\"><h3>Run history:</h3><br/><table class=\"wandb\"><tr><td>train accuracy</td><td>▁▂▄▆█</td></tr><tr><td>train loss</td><td>█▆▄▂▁</td></tr><tr><td>validation accuracy</td><td>▁▃▅▆█</td></tr><tr><td>validation loss</td><td>█▆▄▂▁</td></tr></table><br/></div><div class=\"wandb-col\"><h3>Run summary:</h3><br/><table class=\"wandb\"><tr><td>train accuracy</td><td>0.38885</td></tr><tr><td>train loss</td><td>1.93881</td></tr><tr><td>validation accuracy</td><td>0.42017</td></tr><tr><td>validation loss</td><td>1.91014</td></tr></table><br/></div></div>"
            ],
            "text/plain": [
              "<IPython.core.display.HTML object>"
            ]
          },
          "metadata": {},
          "output_type": "display_data"
        },
        {
          "data": {
            "text/html": [
              " View run <strong style=\"color:#cdcd00\">snowy-sweep-42</strong> at: <a href='https://wandb.ai/cs22m019/DL%20Final%20Assignment%201/runs/vdh6qxrq' target=\"_blank\">https://wandb.ai/cs22m019/DL%20Final%20Assignment%201/runs/vdh6qxrq</a><br/>Synced 6 W&B file(s), 0 media file(s), 0 artifact file(s) and 0 other file(s)"
            ],
            "text/plain": [
              "<IPython.core.display.HTML object>"
            ]
          },
          "metadata": {},
          "output_type": "display_data"
        },
        {
          "data": {
            "text/html": [
              "Find logs at: <code>.\\wandb\\run-20230310_023231-vdh6qxrq\\logs</code>"
            ],
            "text/plain": [
              "<IPython.core.display.HTML object>"
            ]
          },
          "metadata": {},
          "output_type": "display_data"
        },
        {
          "name": "stderr",
          "output_type": "stream",
          "text": [
            "\u001b[34m\u001b[1mwandb\u001b[0m: Agent Starting Run: xg3q57kk with config:\n",
            "\u001b[34m\u001b[1mwandb\u001b[0m: \tactivation: tanh\n",
            "\u001b[34m\u001b[1mwandb\u001b[0m: \tbatch_size: 64\n",
            "\u001b[34m\u001b[1mwandb\u001b[0m: \tepochs: 10\n",
            "\u001b[34m\u001b[1mwandb\u001b[0m: \tlearning_rate: 0.001\n",
            "\u001b[34m\u001b[1mwandb\u001b[0m: \tnumber_of_hidden_layer: 4\n",
            "\u001b[34m\u001b[1mwandb\u001b[0m: \toptimizer: rmsprop\n",
            "\u001b[34m\u001b[1mwandb\u001b[0m: \tsize_of_hidden_layer: 64\n",
            "\u001b[34m\u001b[1mwandb\u001b[0m: \tweight_decay: 0.0005\n",
            "\u001b[34m\u001b[1mwandb\u001b[0m: \tweight_initialization: random\n"
          ]
        },
        {
          "data": {
            "text/html": [
              "Tracking run with wandb version 0.13.11"
            ],
            "text/plain": [
              "<IPython.core.display.HTML object>"
            ]
          },
          "metadata": {},
          "output_type": "display_data"
        },
        {
          "data": {
            "text/html": [
              "Run data is saved locally in <code>C:\\Users\\DELL\\Desktop\\wandb\\run-20230310_023330-xg3q57kk</code>"
            ],
            "text/plain": [
              "<IPython.core.display.HTML object>"
            ]
          },
          "metadata": {},
          "output_type": "display_data"
        },
        {
          "data": {
            "text/html": [
              "Syncing run <strong><a href='https://wandb.ai/cs22m019/DL%20Final%20Assignment%201/runs/xg3q57kk' target=\"_blank\">upbeat-sweep-43</a></strong> to <a href='https://wandb.ai/cs22m019/DL%20Final%20Assignment%201' target=\"_blank\">Weights & Biases</a> (<a href='https://wandb.me/run' target=\"_blank\">docs</a>)<br/>Sweep page: <a href='https://wandb.ai/cs22m019/DL%20Final%20Assignment%201/sweeps/eayjxkwm' target=\"_blank\">https://wandb.ai/cs22m019/DL%20Final%20Assignment%201/sweeps/eayjxkwm</a>"
            ],
            "text/plain": [
              "<IPython.core.display.HTML object>"
            ]
          },
          "metadata": {},
          "output_type": "display_data"
        },
        {
          "data": {
            "text/html": [
              " View project at <a href='https://wandb.ai/cs22m019/DL%20Final%20Assignment%201' target=\"_blank\">https://wandb.ai/cs22m019/DL%20Final%20Assignment%201</a>"
            ],
            "text/plain": [
              "<IPython.core.display.HTML object>"
            ]
          },
          "metadata": {},
          "output_type": "display_data"
        },
        {
          "data": {
            "text/html": [
              " View sweep at <a href='https://wandb.ai/cs22m019/DL%20Final%20Assignment%201/sweeps/eayjxkwm' target=\"_blank\">https://wandb.ai/cs22m019/DL%20Final%20Assignment%201/sweeps/eayjxkwm</a>"
            ],
            "text/plain": [
              "<IPython.core.display.HTML object>"
            ]
          },
          "metadata": {},
          "output_type": "display_data"
        },
        {
          "data": {
            "text/html": [
              " View run at <a href='https://wandb.ai/cs22m019/DL%20Final%20Assignment%201/runs/xg3q57kk' target=\"_blank\">https://wandb.ai/cs22m019/DL%20Final%20Assignment%201/runs/xg3q57kk</a>"
            ],
            "text/plain": [
              "<IPython.core.display.HTML object>"
            ]
          },
          "metadata": {},
          "output_type": "display_data"
        },
        {
          "name": "stdout",
          "output_type": "stream",
          "text": [
            "epoch:1, train loss:5.233760419516087, train accuracy:0.1466851851851852, validation loss:4.487444590518825, validation accuracy:0.18916666666666668\n",
            "epoch:2, train loss:3.803482605170405, train accuracy:0.23344444444444445, validation loss:3.4041395383733817, validation accuracy:0.26516666666666666\n",
            "epoch:3, train loss:2.9514992179738995, train accuracy:0.3112037037037037, validation loss:2.733405286627455, validation accuracy:0.33616666666666667\n",
            "epoch:4, train loss:2.416653016156378, train accuracy:0.3805925925925926, validation loss:2.30990549858255, validation accuracy:0.3998333333333333\n",
            "epoch:5, train loss:2.074837067058369, train accuracy:0.4376481481481482, validation loss:2.0213757773721936, validation accuracy:0.45016666666666666\n",
            "epoch:6, train loss:1.8373128939667274, train accuracy:0.48212962962962963, validation loss:1.8173881465479846, validation accuracy:0.4855\n",
            "epoch:7, train loss:1.663095922724312, train accuracy:0.5176481481481482, validation loss:1.6662712636949437, validation accuracy:0.5168333333333334\n",
            "epoch:8, train loss:1.5327357449693075, train accuracy:0.5442592592592592, validation loss:1.542356759547229, validation accuracy:0.5435\n",
            "epoch:9, train loss:1.429068340398103, train accuracy:0.5670185185185185, validation loss:1.4491438324947352, validation accuracy:0.5598333333333333\n",
            "epoch:10, train loss:1.3436387574577175, train accuracy:0.5870185185185185, validation loss:1.3722939911574052, validation accuracy:0.577\n"
          ]
        },
        {
          "data": {
            "text/html": [
              "Waiting for W&B process to finish... <strong style=\"color:green\">(success).</strong>"
            ],
            "text/plain": [
              "<IPython.core.display.HTML object>"
            ]
          },
          "metadata": {},
          "output_type": "display_data"
        },
        {
          "data": {
            "application/vnd.jupyter.widget-view+json": {
              "model_id": "abd4ec65de084c5aacd917b17de1fdf5",
              "version_major": 2,
              "version_minor": 0
            },
            "text/plain": [
              "VBox(children=(Label(value='0.001 MB of 0.001 MB uploaded (0.000 MB deduped)\\r'), FloatProgress(value=1.0, max…"
            ]
          },
          "metadata": {},
          "output_type": "display_data"
        },
        {
          "data": {
            "text/html": [
              "<style>\n",
              "    table.wandb td:nth-child(1) { padding: 0 10px; text-align: left ; width: auto;} td:nth-child(2) {text-align: left ; width: 100%}\n",
              "    .wandb-row { display: flex; flex-direction: row; flex-wrap: wrap; justify-content: flex-start; width: 100% }\n",
              "    .wandb-col { display: flex; flex-direction: column; flex-basis: 100%; flex: 1; padding: 10px; }\n",
              "    </style>\n",
              "<div class=\"wandb-row\"><div class=\"wandb-col\"><h3>Run history:</h3><br/><table class=\"wandb\"><tr><td>train accuracy</td><td>▁▂▄▅▆▆▇▇██</td></tr><tr><td>train loss</td><td>█▅▄▃▂▂▂▁▁▁</td></tr><tr><td>validation accuracy</td><td>▁▂▄▅▆▆▇▇██</td></tr><tr><td>validation loss</td><td>█▆▄▃▂▂▂▁▁▁</td></tr></table><br/></div><div class=\"wandb-col\"><h3>Run summary:</h3><br/><table class=\"wandb\"><tr><td>train accuracy</td><td>0.58702</td></tr><tr><td>train loss</td><td>1.34364</td></tr><tr><td>validation accuracy</td><td>0.577</td></tr><tr><td>validation loss</td><td>1.37229</td></tr></table><br/></div></div>"
            ],
            "text/plain": [
              "<IPython.core.display.HTML object>"
            ]
          },
          "metadata": {},
          "output_type": "display_data"
        },
        {
          "data": {
            "text/html": [
              " View run <strong style=\"color:#cdcd00\">upbeat-sweep-43</strong> at: <a href='https://wandb.ai/cs22m019/DL%20Final%20Assignment%201/runs/xg3q57kk' target=\"_blank\">https://wandb.ai/cs22m019/DL%20Final%20Assignment%201/runs/xg3q57kk</a><br/>Synced 6 W&B file(s), 0 media file(s), 0 artifact file(s) and 0 other file(s)"
            ],
            "text/plain": [
              "<IPython.core.display.HTML object>"
            ]
          },
          "metadata": {},
          "output_type": "display_data"
        },
        {
          "data": {
            "text/html": [
              "Find logs at: <code>.\\wandb\\run-20230310_023330-xg3q57kk\\logs</code>"
            ],
            "text/plain": [
              "<IPython.core.display.HTML object>"
            ]
          },
          "metadata": {},
          "output_type": "display_data"
        },
        {
          "name": "stderr",
          "output_type": "stream",
          "text": [
            "\u001b[34m\u001b[1mwandb\u001b[0m: Agent Starting Run: 8t0zb0mj with config:\n",
            "\u001b[34m\u001b[1mwandb\u001b[0m: \tactivation: tanh\n",
            "\u001b[34m\u001b[1mwandb\u001b[0m: \tbatch_size: 16\n",
            "\u001b[34m\u001b[1mwandb\u001b[0m: \tepochs: 5\n",
            "\u001b[34m\u001b[1mwandb\u001b[0m: \tlearning_rate: 0.0001\n",
            "\u001b[34m\u001b[1mwandb\u001b[0m: \tnumber_of_hidden_layer: 4\n",
            "\u001b[34m\u001b[1mwandb\u001b[0m: \toptimizer: rmsprop\n",
            "\u001b[34m\u001b[1mwandb\u001b[0m: \tsize_of_hidden_layer: 64\n",
            "\u001b[34m\u001b[1mwandb\u001b[0m: \tweight_decay: 0.5\n",
            "\u001b[34m\u001b[1mwandb\u001b[0m: \tweight_initialization: random\n"
          ]
        },
        {
          "data": {
            "text/html": [
              "Tracking run with wandb version 0.13.11"
            ],
            "text/plain": [
              "<IPython.core.display.HTML object>"
            ]
          },
          "metadata": {},
          "output_type": "display_data"
        },
        {
          "data": {
            "text/html": [
              "Run data is saved locally in <code>C:\\Users\\DELL\\Desktop\\wandb\\run-20230310_023533-8t0zb0mj</code>"
            ],
            "text/plain": [
              "<IPython.core.display.HTML object>"
            ]
          },
          "metadata": {},
          "output_type": "display_data"
        },
        {
          "data": {
            "text/html": [
              "Syncing run <strong><a href='https://wandb.ai/cs22m019/DL%20Final%20Assignment%201/runs/8t0zb0mj' target=\"_blank\">sage-sweep-44</a></strong> to <a href='https://wandb.ai/cs22m019/DL%20Final%20Assignment%201' target=\"_blank\">Weights & Biases</a> (<a href='https://wandb.me/run' target=\"_blank\">docs</a>)<br/>Sweep page: <a href='https://wandb.ai/cs22m019/DL%20Final%20Assignment%201/sweeps/eayjxkwm' target=\"_blank\">https://wandb.ai/cs22m019/DL%20Final%20Assignment%201/sweeps/eayjxkwm</a>"
            ],
            "text/plain": [
              "<IPython.core.display.HTML object>"
            ]
          },
          "metadata": {},
          "output_type": "display_data"
        },
        {
          "data": {
            "text/html": [
              " View project at <a href='https://wandb.ai/cs22m019/DL%20Final%20Assignment%201' target=\"_blank\">https://wandb.ai/cs22m019/DL%20Final%20Assignment%201</a>"
            ],
            "text/plain": [
              "<IPython.core.display.HTML object>"
            ]
          },
          "metadata": {},
          "output_type": "display_data"
        },
        {
          "data": {
            "text/html": [
              " View sweep at <a href='https://wandb.ai/cs22m019/DL%20Final%20Assignment%201/sweeps/eayjxkwm' target=\"_blank\">https://wandb.ai/cs22m019/DL%20Final%20Assignment%201/sweeps/eayjxkwm</a>"
            ],
            "text/plain": [
              "<IPython.core.display.HTML object>"
            ]
          },
          "metadata": {},
          "output_type": "display_data"
        },
        {
          "data": {
            "text/html": [
              " View run at <a href='https://wandb.ai/cs22m019/DL%20Final%20Assignment%201/runs/8t0zb0mj' target=\"_blank\">https://wandb.ai/cs22m019/DL%20Final%20Assignment%201/runs/8t0zb0mj</a>"
            ],
            "text/plain": [
              "<IPython.core.display.HTML object>"
            ]
          },
          "metadata": {},
          "output_type": "display_data"
        },
        {
          "name": "stdout",
          "output_type": "stream",
          "text": [
            "epoch:1, train loss:5.089236087724614, train accuracy:0.1393148148148148, validation loss:4.499549046257074, validation accuracy:0.174\n",
            "epoch:2, train loss:4.103857182558066, train accuracy:0.2207222222222222, validation loss:3.8472311750658523, validation accuracy:0.24783333333333332\n",
            "epoch:3, train loss:3.5729184034140067, train accuracy:0.290962962962963, validation loss:3.4445753660055884, validation accuracy:0.305\n",
            "epoch:4, train loss:3.2205359270018894, train accuracy:0.3469814814814815, validation loss:3.159360765154394, validation accuracy:0.355\n",
            "epoch:5, train loss:2.9630491408685455, train accuracy:0.39122222222222225, validation loss:2.94102901793814, validation accuracy:0.3933333333333333\n"
          ]
        },
        {
          "data": {
            "text/html": [
              "Waiting for W&B process to finish... <strong style=\"color:green\">(success).</strong>"
            ],
            "text/plain": [
              "<IPython.core.display.HTML object>"
            ]
          },
          "metadata": {},
          "output_type": "display_data"
        },
        {
          "data": {
            "text/html": [
              "<style>\n",
              "    table.wandb td:nth-child(1) { padding: 0 10px; text-align: left ; width: auto;} td:nth-child(2) {text-align: left ; width: 100%}\n",
              "    .wandb-row { display: flex; flex-direction: row; flex-wrap: wrap; justify-content: flex-start; width: 100% }\n",
              "    .wandb-col { display: flex; flex-direction: column; flex-basis: 100%; flex: 1; padding: 10px; }\n",
              "    </style>\n",
              "<div class=\"wandb-row\"><div class=\"wandb-col\"><h3>Run history:</h3><br/><table class=\"wandb\"><tr><td>train accuracy</td><td>▁▃▅▇█</td></tr><tr><td>train loss</td><td>█▅▃▂▁</td></tr><tr><td>validation accuracy</td><td>▁▃▅▇█</td></tr><tr><td>validation loss</td><td>█▅▃▂▁</td></tr></table><br/></div><div class=\"wandb-col\"><h3>Run summary:</h3><br/><table class=\"wandb\"><tr><td>train accuracy</td><td>0.39122</td></tr><tr><td>train loss</td><td>2.96305</td></tr><tr><td>validation accuracy</td><td>0.39333</td></tr><tr><td>validation loss</td><td>2.94103</td></tr></table><br/></div></div>"
            ],
            "text/plain": [
              "<IPython.core.display.HTML object>"
            ]
          },
          "metadata": {},
          "output_type": "display_data"
        },
        {
          "data": {
            "text/html": [
              " View run <strong style=\"color:#cdcd00\">sage-sweep-44</strong> at: <a href='https://wandb.ai/cs22m019/DL%20Final%20Assignment%201/runs/8t0zb0mj' target=\"_blank\">https://wandb.ai/cs22m019/DL%20Final%20Assignment%201/runs/8t0zb0mj</a><br/>Synced 6 W&B file(s), 0 media file(s), 0 artifact file(s) and 0 other file(s)"
            ],
            "text/plain": [
              "<IPython.core.display.HTML object>"
            ]
          },
          "metadata": {},
          "output_type": "display_data"
        },
        {
          "data": {
            "text/html": [
              "Find logs at: <code>.\\wandb\\run-20230310_023533-8t0zb0mj\\logs</code>"
            ],
            "text/plain": [
              "<IPython.core.display.HTML object>"
            ]
          },
          "metadata": {},
          "output_type": "display_data"
        },
        {
          "name": "stderr",
          "output_type": "stream",
          "text": [
            "\u001b[34m\u001b[1mwandb\u001b[0m: Agent Starting Run: aq7dd0zi with config:\n",
            "\u001b[34m\u001b[1mwandb\u001b[0m: \tactivation: tanh\n",
            "\u001b[34m\u001b[1mwandb\u001b[0m: \tbatch_size: 32\n",
            "\u001b[34m\u001b[1mwandb\u001b[0m: \tepochs: 5\n",
            "\u001b[34m\u001b[1mwandb\u001b[0m: \tlearning_rate: 0.0001\n",
            "\u001b[34m\u001b[1mwandb\u001b[0m: \tnumber_of_hidden_layer: 5\n",
            "\u001b[34m\u001b[1mwandb\u001b[0m: \toptimizer: sgd\n",
            "\u001b[34m\u001b[1mwandb\u001b[0m: \tsize_of_hidden_layer: 32\n",
            "\u001b[34m\u001b[1mwandb\u001b[0m: \tweight_decay: 0.0005\n",
            "\u001b[34m\u001b[1mwandb\u001b[0m: \tweight_initialization: Xavier\n"
          ]
        },
        {
          "data": {
            "text/html": [
              "Tracking run with wandb version 0.13.11"
            ],
            "text/plain": [
              "<IPython.core.display.HTML object>"
            ]
          },
          "metadata": {},
          "output_type": "display_data"
        },
        {
          "data": {
            "text/html": [
              "Run data is saved locally in <code>C:\\Users\\DELL\\Desktop\\wandb\\run-20230310_023649-aq7dd0zi</code>"
            ],
            "text/plain": [
              "<IPython.core.display.HTML object>"
            ]
          },
          "metadata": {},
          "output_type": "display_data"
        },
        {
          "data": {
            "text/html": [
              "Syncing run <strong><a href='https://wandb.ai/cs22m019/DL%20Final%20Assignment%201/runs/aq7dd0zi' target=\"_blank\">sparkling-sweep-45</a></strong> to <a href='https://wandb.ai/cs22m019/DL%20Final%20Assignment%201' target=\"_blank\">Weights & Biases</a> (<a href='https://wandb.me/run' target=\"_blank\">docs</a>)<br/>Sweep page: <a href='https://wandb.ai/cs22m019/DL%20Final%20Assignment%201/sweeps/eayjxkwm' target=\"_blank\">https://wandb.ai/cs22m019/DL%20Final%20Assignment%201/sweeps/eayjxkwm</a>"
            ],
            "text/plain": [
              "<IPython.core.display.HTML object>"
            ]
          },
          "metadata": {},
          "output_type": "display_data"
        },
        {
          "data": {
            "text/html": [
              " View project at <a href='https://wandb.ai/cs22m019/DL%20Final%20Assignment%201' target=\"_blank\">https://wandb.ai/cs22m019/DL%20Final%20Assignment%201</a>"
            ],
            "text/plain": [
              "<IPython.core.display.HTML object>"
            ]
          },
          "metadata": {},
          "output_type": "display_data"
        },
        {
          "data": {
            "text/html": [
              " View sweep at <a href='https://wandb.ai/cs22m019/DL%20Final%20Assignment%201/sweeps/eayjxkwm' target=\"_blank\">https://wandb.ai/cs22m019/DL%20Final%20Assignment%201/sweeps/eayjxkwm</a>"
            ],
            "text/plain": [
              "<IPython.core.display.HTML object>"
            ]
          },
          "metadata": {},
          "output_type": "display_data"
        },
        {
          "data": {
            "text/html": [
              " View run at <a href='https://wandb.ai/cs22m019/DL%20Final%20Assignment%201/runs/aq7dd0zi' target=\"_blank\">https://wandb.ai/cs22m019/DL%20Final%20Assignment%201/runs/aq7dd0zi</a>"
            ],
            "text/plain": [
              "<IPython.core.display.HTML object>"
            ]
          },
          "metadata": {},
          "output_type": "display_data"
        },
        {
          "name": "stdout",
          "output_type": "stream",
          "text": [
            "epoch:1, train loss:2.457155803316664, train accuracy:0.10077777777777777, validation loss:2.4478401194178185, validation accuracy:0.10366666666666667\n",
            "epoch:2, train loss:2.449833064403763, train accuracy:0.10244444444444445, validation loss:2.440210685696269, validation accuracy:0.10633333333333334\n",
            "epoch:3, train loss:2.442053196020216, train accuracy:0.10374074074074074, validation loss:2.4327337960626516, validation accuracy:0.10716666666666666\n",
            "epoch:4, train loss:2.4347039385135405, train accuracy:0.10494444444444445, validation loss:2.4257184277718706, validation accuracy:0.108\n",
            "epoch:5, train loss:2.427837049338262, train accuracy:0.1058888888888889, validation loss:2.4188684922305406, validation accuracy:0.108\n"
          ]
        },
        {
          "data": {
            "text/html": [
              "Waiting for W&B process to finish... <strong style=\"color:green\">(success).</strong>"
            ],
            "text/plain": [
              "<IPython.core.display.HTML object>"
            ]
          },
          "metadata": {},
          "output_type": "display_data"
        },
        {
          "data": {
            "application/vnd.jupyter.widget-view+json": {
              "model_id": "06e68c03e29f4750b62fab3ec70ad3eb",
              "version_major": 2,
              "version_minor": 0
            },
            "text/plain": [
              "VBox(children=(Label(value='0.001 MB of 0.001 MB uploaded (0.000 MB deduped)\\r'), FloatProgress(value=1.0, max…"
            ]
          },
          "metadata": {},
          "output_type": "display_data"
        },
        {
          "data": {
            "text/html": [
              "<style>\n",
              "    table.wandb td:nth-child(1) { padding: 0 10px; text-align: left ; width: auto;} td:nth-child(2) {text-align: left ; width: 100%}\n",
              "    .wandb-row { display: flex; flex-direction: row; flex-wrap: wrap; justify-content: flex-start; width: 100% }\n",
              "    .wandb-col { display: flex; flex-direction: column; flex-basis: 100%; flex: 1; padding: 10px; }\n",
              "    </style>\n",
              "<div class=\"wandb-row\"><div class=\"wandb-col\"><h3>Run history:</h3><br/><table class=\"wandb\"><tr><td>train accuracy</td><td>▁▃▅▇█</td></tr><tr><td>train loss</td><td>█▆▄▃▁</td></tr><tr><td>validation accuracy</td><td>▁▅▇██</td></tr><tr><td>validation loss</td><td>█▆▄▃▁</td></tr></table><br/></div><div class=\"wandb-col\"><h3>Run summary:</h3><br/><table class=\"wandb\"><tr><td>train accuracy</td><td>0.10589</td></tr><tr><td>train loss</td><td>2.42784</td></tr><tr><td>validation accuracy</td><td>0.108</td></tr><tr><td>validation loss</td><td>2.41887</td></tr></table><br/></div></div>"
            ],
            "text/plain": [
              "<IPython.core.display.HTML object>"
            ]
          },
          "metadata": {},
          "output_type": "display_data"
        },
        {
          "data": {
            "text/html": [
              " View run <strong style=\"color:#cdcd00\">sparkling-sweep-45</strong> at: <a href='https://wandb.ai/cs22m019/DL%20Final%20Assignment%201/runs/aq7dd0zi' target=\"_blank\">https://wandb.ai/cs22m019/DL%20Final%20Assignment%201/runs/aq7dd0zi</a><br/>Synced 6 W&B file(s), 0 media file(s), 0 artifact file(s) and 0 other file(s)"
            ],
            "text/plain": [
              "<IPython.core.display.HTML object>"
            ]
          },
          "metadata": {},
          "output_type": "display_data"
        },
        {
          "data": {
            "text/html": [
              "Find logs at: <code>.\\wandb\\run-20230310_023649-aq7dd0zi\\logs</code>"
            ],
            "text/plain": [
              "<IPython.core.display.HTML object>"
            ]
          },
          "metadata": {},
          "output_type": "display_data"
        },
        {
          "name": "stderr",
          "output_type": "stream",
          "text": [
            "\u001b[34m\u001b[1mwandb\u001b[0m: Sweep Agent: Waiting for job.\n",
            "\u001b[34m\u001b[1mwandb\u001b[0m: Job received.\n",
            "\u001b[34m\u001b[1mwandb\u001b[0m: Agent Starting Run: lz0p40af with config:\n",
            "\u001b[34m\u001b[1mwandb\u001b[0m: \tactivation: tanh\n",
            "\u001b[34m\u001b[1mwandb\u001b[0m: \tbatch_size: 32\n",
            "\u001b[34m\u001b[1mwandb\u001b[0m: \tepochs: 10\n",
            "\u001b[34m\u001b[1mwandb\u001b[0m: \tlearning_rate: 0.001\n",
            "\u001b[34m\u001b[1mwandb\u001b[0m: \tnumber_of_hidden_layer: 5\n",
            "\u001b[34m\u001b[1mwandb\u001b[0m: \toptimizer: nadam\n",
            "\u001b[34m\u001b[1mwandb\u001b[0m: \tsize_of_hidden_layer: 64\n",
            "\u001b[34m\u001b[1mwandb\u001b[0m: \tweight_decay: 0.0005\n",
            "\u001b[34m\u001b[1mwandb\u001b[0m: \tweight_initialization: Xavier\n"
          ]
        },
        {
          "data": {
            "text/html": [
              "Tracking run with wandb version 0.13.11"
            ],
            "text/plain": [
              "<IPython.core.display.HTML object>"
            ]
          },
          "metadata": {},
          "output_type": "display_data"
        },
        {
          "data": {
            "text/html": [
              "Run data is saved locally in <code>C:\\Users\\DELL\\Desktop\\wandb\\run-20230310_023754-lz0p40af</code>"
            ],
            "text/plain": [
              "<IPython.core.display.HTML object>"
            ]
          },
          "metadata": {},
          "output_type": "display_data"
        },
        {
          "data": {
            "text/html": [
              "Syncing run <strong><a href='https://wandb.ai/cs22m019/DL%20Final%20Assignment%201/runs/lz0p40af' target=\"_blank\">stellar-sweep-46</a></strong> to <a href='https://wandb.ai/cs22m019/DL%20Final%20Assignment%201' target=\"_blank\">Weights & Biases</a> (<a href='https://wandb.me/run' target=\"_blank\">docs</a>)<br/>Sweep page: <a href='https://wandb.ai/cs22m019/DL%20Final%20Assignment%201/sweeps/eayjxkwm' target=\"_blank\">https://wandb.ai/cs22m019/DL%20Final%20Assignment%201/sweeps/eayjxkwm</a>"
            ],
            "text/plain": [
              "<IPython.core.display.HTML object>"
            ]
          },
          "metadata": {},
          "output_type": "display_data"
        },
        {
          "data": {
            "text/html": [
              " View project at <a href='https://wandb.ai/cs22m019/DL%20Final%20Assignment%201' target=\"_blank\">https://wandb.ai/cs22m019/DL%20Final%20Assignment%201</a>"
            ],
            "text/plain": [
              "<IPython.core.display.HTML object>"
            ]
          },
          "metadata": {},
          "output_type": "display_data"
        },
        {
          "data": {
            "text/html": [
              " View sweep at <a href='https://wandb.ai/cs22m019/DL%20Final%20Assignment%201/sweeps/eayjxkwm' target=\"_blank\">https://wandb.ai/cs22m019/DL%20Final%20Assignment%201/sweeps/eayjxkwm</a>"
            ],
            "text/plain": [
              "<IPython.core.display.HTML object>"
            ]
          },
          "metadata": {},
          "output_type": "display_data"
        },
        {
          "data": {
            "text/html": [
              " View run at <a href='https://wandb.ai/cs22m019/DL%20Final%20Assignment%201/runs/lz0p40af' target=\"_blank\">https://wandb.ai/cs22m019/DL%20Final%20Assignment%201/runs/lz0p40af</a>"
            ],
            "text/plain": [
              "<IPython.core.display.HTML object>"
            ]
          },
          "metadata": {},
          "output_type": "display_data"
        },
        {
          "name": "stdout",
          "output_type": "stream",
          "text": [
            "epoch:1, train loss:1.0271567557132246, train accuracy:0.6796111111111112, validation loss:0.6261505650247209, validation accuracy:0.7943333333333333\n",
            "epoch:2, train loss:0.5562074564738859, train accuracy:0.8092962962962963, validation loss:0.5112464578980891, validation accuracy:0.82\n",
            "epoch:3, train loss:0.4874112473901241, train accuracy:0.8283888888888888, validation loss:0.4734734732365749, validation accuracy:0.8305\n",
            "epoch:4, train loss:0.4569643329758631, train accuracy:0.8377592592592593, validation loss:0.45396080022418067, validation accuracy:0.8365\n",
            "epoch:5, train loss:0.43829597554806765, train accuracy:0.844037037037037, validation loss:0.43553663968135536, validation accuracy:0.8413333333333334\n",
            "epoch:6, train loss:0.4243796320798082, train accuracy:0.8495925925925926, validation loss:0.4275000402765189, validation accuracy:0.8445\n",
            "epoch:7, train loss:0.41288840003547, train accuracy:0.852925925925926, validation loss:0.4176260623507241, validation accuracy:0.8493333333333334\n",
            "epoch:8, train loss:0.40379838187456185, train accuracy:0.8567407407407407, validation loss:0.40921476100988896, validation accuracy:0.8525\n",
            "epoch:9, train loss:0.3952022928429983, train accuracy:0.8601851851851852, validation loss:0.4038660527189827, validation accuracy:0.8536666666666667\n",
            "epoch:10, train loss:0.3881418607882579, train accuracy:0.8622222222222222, validation loss:0.3966456950527246, validation accuracy:0.8571666666666666\n"
          ]
        },
        {
          "data": {
            "text/html": [
              "Waiting for W&B process to finish... <strong style=\"color:green\">(success).</strong>"
            ],
            "text/plain": [
              "<IPython.core.display.HTML object>"
            ]
          },
          "metadata": {},
          "output_type": "display_data"
        },
        {
          "data": {
            "text/html": [
              "<style>\n",
              "    table.wandb td:nth-child(1) { padding: 0 10px; text-align: left ; width: auto;} td:nth-child(2) {text-align: left ; width: 100%}\n",
              "    .wandb-row { display: flex; flex-direction: row; flex-wrap: wrap; justify-content: flex-start; width: 100% }\n",
              "    .wandb-col { display: flex; flex-direction: column; flex-basis: 100%; flex: 1; padding: 10px; }\n",
              "    </style>\n",
              "<div class=\"wandb-row\"><div class=\"wandb-col\"><h3>Run history:</h3><br/><table class=\"wandb\"><tr><td>train accuracy</td><td>▁▆▇▇▇█████</td></tr><tr><td>train loss</td><td>█▃▂▂▂▁▁▁▁▁</td></tr><tr><td>validation accuracy</td><td>▁▄▅▆▆▇▇▇██</td></tr><tr><td>validation loss</td><td>█▄▃▃▂▂▂▁▁▁</td></tr></table><br/></div><div class=\"wandb-col\"><h3>Run summary:</h3><br/><table class=\"wandb\"><tr><td>train accuracy</td><td>0.86222</td></tr><tr><td>train loss</td><td>0.38814</td></tr><tr><td>validation accuracy</td><td>0.85717</td></tr><tr><td>validation loss</td><td>0.39665</td></tr></table><br/></div></div>"
            ],
            "text/plain": [
              "<IPython.core.display.HTML object>"
            ]
          },
          "metadata": {},
          "output_type": "display_data"
        },
        {
          "data": {
            "text/html": [
              " View run <strong style=\"color:#cdcd00\">stellar-sweep-46</strong> at: <a href='https://wandb.ai/cs22m019/DL%20Final%20Assignment%201/runs/lz0p40af' target=\"_blank\">https://wandb.ai/cs22m019/DL%20Final%20Assignment%201/runs/lz0p40af</a><br/>Synced 6 W&B file(s), 0 media file(s), 0 artifact file(s) and 0 other file(s)"
            ],
            "text/plain": [
              "<IPython.core.display.HTML object>"
            ]
          },
          "metadata": {},
          "output_type": "display_data"
        },
        {
          "data": {
            "text/html": [
              "Find logs at: <code>.\\wandb\\run-20230310_023754-lz0p40af\\logs</code>"
            ],
            "text/plain": [
              "<IPython.core.display.HTML object>"
            ]
          },
          "metadata": {},
          "output_type": "display_data"
        },
        {
          "name": "stderr",
          "output_type": "stream",
          "text": [
            "\u001b[34m\u001b[1mwandb\u001b[0m: Agent Starting Run: t103z3ch with config:\n",
            "\u001b[34m\u001b[1mwandb\u001b[0m: \tactivation: tanh\n",
            "\u001b[34m\u001b[1mwandb\u001b[0m: \tbatch_size: 32\n",
            "\u001b[34m\u001b[1mwandb\u001b[0m: \tepochs: 10\n",
            "\u001b[34m\u001b[1mwandb\u001b[0m: \tlearning_rate: 0.001\n",
            "\u001b[34m\u001b[1mwandb\u001b[0m: \tnumber_of_hidden_layer: 5\n",
            "\u001b[34m\u001b[1mwandb\u001b[0m: \toptimizer: rmsprop\n",
            "\u001b[34m\u001b[1mwandb\u001b[0m: \tsize_of_hidden_layer: 128\n",
            "\u001b[34m\u001b[1mwandb\u001b[0m: \tweight_decay: 0.0005\n",
            "\u001b[34m\u001b[1mwandb\u001b[0m: \tweight_initialization: random\n"
          ]
        },
        {
          "data": {
            "text/html": [
              "Tracking run with wandb version 0.13.11"
            ],
            "text/plain": [
              "<IPython.core.display.HTML object>"
            ]
          },
          "metadata": {},
          "output_type": "display_data"
        },
        {
          "data": {
            "text/html": [
              "Run data is saved locally in <code>C:\\Users\\DELL\\Desktop\\wandb\\run-20230310_024020-t103z3ch</code>"
            ],
            "text/plain": [
              "<IPython.core.display.HTML object>"
            ]
          },
          "metadata": {},
          "output_type": "display_data"
        },
        {
          "data": {
            "text/html": [
              "Syncing run <strong><a href='https://wandb.ai/cs22m019/DL%20Final%20Assignment%201/runs/t103z3ch' target=\"_blank\">young-sweep-47</a></strong> to <a href='https://wandb.ai/cs22m019/DL%20Final%20Assignment%201' target=\"_blank\">Weights & Biases</a> (<a href='https://wandb.me/run' target=\"_blank\">docs</a>)<br/>Sweep page: <a href='https://wandb.ai/cs22m019/DL%20Final%20Assignment%201/sweeps/eayjxkwm' target=\"_blank\">https://wandb.ai/cs22m019/DL%20Final%20Assignment%201/sweeps/eayjxkwm</a>"
            ],
            "text/plain": [
              "<IPython.core.display.HTML object>"
            ]
          },
          "metadata": {},
          "output_type": "display_data"
        },
        {
          "data": {
            "text/html": [
              " View project at <a href='https://wandb.ai/cs22m019/DL%20Final%20Assignment%201' target=\"_blank\">https://wandb.ai/cs22m019/DL%20Final%20Assignment%201</a>"
            ],
            "text/plain": [
              "<IPython.core.display.HTML object>"
            ]
          },
          "metadata": {},
          "output_type": "display_data"
        },
        {
          "data": {
            "text/html": [
              " View sweep at <a href='https://wandb.ai/cs22m019/DL%20Final%20Assignment%201/sweeps/eayjxkwm' target=\"_blank\">https://wandb.ai/cs22m019/DL%20Final%20Assignment%201/sweeps/eayjxkwm</a>"
            ],
            "text/plain": [
              "<IPython.core.display.HTML object>"
            ]
          },
          "metadata": {},
          "output_type": "display_data"
        },
        {
          "data": {
            "text/html": [
              " View run at <a href='https://wandb.ai/cs22m019/DL%20Final%20Assignment%201/runs/t103z3ch' target=\"_blank\">https://wandb.ai/cs22m019/DL%20Final%20Assignment%201/runs/t103z3ch</a>"
            ],
            "text/plain": [
              "<IPython.core.display.HTML object>"
            ]
          },
          "metadata": {},
          "output_type": "display_data"
        },
        {
          "name": "stdout",
          "output_type": "stream",
          "text": [
            "epoch:1, train loss:6.313606201520925, train accuracy:0.15394444444444444, validation loss:4.743921392801082, validation accuracy:0.223\n",
            "epoch:2, train loss:3.962634966821459, train accuracy:0.29348148148148145, validation loss:3.5358775828963287, validation accuracy:0.33316666666666667\n",
            "epoch:3, train loss:3.092473927879412, train accuracy:0.38951851851851854, validation loss:2.9286205227656494, validation accuracy:0.4085\n",
            "epoch:4, train loss:2.603490439723596, train accuracy:0.4513888888888889, validation loss:2.5790725396916296, validation accuracy:0.456\n",
            "epoch:5, train loss:2.2982697113280324, train accuracy:0.4937962962962963, validation loss:2.366526153743036, validation accuracy:0.4861666666666667\n",
            "epoch:6, train loss:2.066256550466783, train accuracy:0.5266666666666666, validation loss:2.211393972824133, validation accuracy:0.5126666666666667\n",
            "epoch:7, train loss:1.8918455722620724, train accuracy:0.5524259259259259, validation loss:2.101873339743165, validation accuracy:0.525\n",
            "epoch:8, train loss:1.7492661763440576, train accuracy:0.5731111111111111, validation loss:1.9900100892941655, validation accuracy:0.5385\n",
            "epoch:9, train loss:1.6331347989300533, train accuracy:0.591574074074074, validation loss:1.9157828748121029, validation accuracy:0.5531666666666667\n",
            "epoch:10, train loss:1.5315564669760033, train accuracy:0.6067777777777777, validation loss:1.8292079252091642, validation accuracy:0.5585\n"
          ]
        },
        {
          "data": {
            "text/html": [
              "Waiting for W&B process to finish... <strong style=\"color:green\">(success).</strong>"
            ],
            "text/plain": [
              "<IPython.core.display.HTML object>"
            ]
          },
          "metadata": {},
          "output_type": "display_data"
        },
        {
          "data": {
            "application/vnd.jupyter.widget-view+json": {
              "model_id": "017f36ff0d454fc9a1950f1e00ff5de7",
              "version_major": 2,
              "version_minor": 0
            },
            "text/plain": [
              "VBox(children=(Label(value='0.001 MB of 0.025 MB uploaded (0.000 MB deduped)\\r'), FloatProgress(value=0.044298…"
            ]
          },
          "metadata": {},
          "output_type": "display_data"
        },
        {
          "data": {
            "text/html": [
              "<style>\n",
              "    table.wandb td:nth-child(1) { padding: 0 10px; text-align: left ; width: auto;} td:nth-child(2) {text-align: left ; width: 100%}\n",
              "    .wandb-row { display: flex; flex-direction: row; flex-wrap: wrap; justify-content: flex-start; width: 100% }\n",
              "    .wandb-col { display: flex; flex-direction: column; flex-basis: 100%; flex: 1; padding: 10px; }\n",
              "    </style>\n",
              "<div class=\"wandb-row\"><div class=\"wandb-col\"><h3>Run history:</h3><br/><table class=\"wandb\"><tr><td>train accuracy</td><td>▁▃▅▆▆▇▇▇██</td></tr><tr><td>train loss</td><td>█▅▃▃▂▂▂▁▁▁</td></tr><tr><td>validation accuracy</td><td>▁▃▅▆▆▇▇███</td></tr><tr><td>validation loss</td><td>█▅▄▃▂▂▂▁▁▁</td></tr></table><br/></div><div class=\"wandb-col\"><h3>Run summary:</h3><br/><table class=\"wandb\"><tr><td>train accuracy</td><td>0.60678</td></tr><tr><td>train loss</td><td>1.53156</td></tr><tr><td>validation accuracy</td><td>0.5585</td></tr><tr><td>validation loss</td><td>1.82921</td></tr></table><br/></div></div>"
            ],
            "text/plain": [
              "<IPython.core.display.HTML object>"
            ]
          },
          "metadata": {},
          "output_type": "display_data"
        },
        {
          "data": {
            "text/html": [
              " View run <strong style=\"color:#cdcd00\">young-sweep-47</strong> at: <a href='https://wandb.ai/cs22m019/DL%20Final%20Assignment%201/runs/t103z3ch' target=\"_blank\">https://wandb.ai/cs22m019/DL%20Final%20Assignment%201/runs/t103z3ch</a><br/>Synced 6 W&B file(s), 0 media file(s), 0 artifact file(s) and 0 other file(s)"
            ],
            "text/plain": [
              "<IPython.core.display.HTML object>"
            ]
          },
          "metadata": {},
          "output_type": "display_data"
        },
        {
          "data": {
            "text/html": [
              "Find logs at: <code>.\\wandb\\run-20230310_024020-t103z3ch\\logs</code>"
            ],
            "text/plain": [
              "<IPython.core.display.HTML object>"
            ]
          },
          "metadata": {},
          "output_type": "display_data"
        },
        {
          "name": "stderr",
          "output_type": "stream",
          "text": [
            "\u001b[34m\u001b[1mwandb\u001b[0m: Agent Starting Run: 623gdafj with config:\n",
            "\u001b[34m\u001b[1mwandb\u001b[0m: \tactivation: ReLU\n",
            "\u001b[34m\u001b[1mwandb\u001b[0m: \tbatch_size: 16\n",
            "\u001b[34m\u001b[1mwandb\u001b[0m: \tepochs: 5\n",
            "\u001b[34m\u001b[1mwandb\u001b[0m: \tlearning_rate: 0.0001\n",
            "\u001b[34m\u001b[1mwandb\u001b[0m: \tnumber_of_hidden_layer: 5\n",
            "\u001b[34m\u001b[1mwandb\u001b[0m: \toptimizer: nadam\n",
            "\u001b[34m\u001b[1mwandb\u001b[0m: \tsize_of_hidden_layer: 128\n",
            "\u001b[34m\u001b[1mwandb\u001b[0m: \tweight_decay: 0.5\n",
            "\u001b[34m\u001b[1mwandb\u001b[0m: \tweight_initialization: Xavier\n"
          ]
        },
        {
          "data": {
            "text/html": [
              "Tracking run with wandb version 0.13.11"
            ],
            "text/plain": [
              "<IPython.core.display.HTML object>"
            ]
          },
          "metadata": {},
          "output_type": "display_data"
        },
        {
          "data": {
            "text/html": [
              "Run data is saved locally in <code>C:\\Users\\DELL\\Desktop\\wandb\\run-20230310_024614-623gdafj</code>"
            ],
            "text/plain": [
              "<IPython.core.display.HTML object>"
            ]
          },
          "metadata": {},
          "output_type": "display_data"
        },
        {
          "data": {
            "text/html": [
              "Syncing run <strong><a href='https://wandb.ai/cs22m019/DL%20Final%20Assignment%201/runs/623gdafj' target=\"_blank\">woven-sweep-48</a></strong> to <a href='https://wandb.ai/cs22m019/DL%20Final%20Assignment%201' target=\"_blank\">Weights & Biases</a> (<a href='https://wandb.me/run' target=\"_blank\">docs</a>)<br/>Sweep page: <a href='https://wandb.ai/cs22m019/DL%20Final%20Assignment%201/sweeps/eayjxkwm' target=\"_blank\">https://wandb.ai/cs22m019/DL%20Final%20Assignment%201/sweeps/eayjxkwm</a>"
            ],
            "text/plain": [
              "<IPython.core.display.HTML object>"
            ]
          },
          "metadata": {},
          "output_type": "display_data"
        },
        {
          "data": {
            "text/html": [
              " View project at <a href='https://wandb.ai/cs22m019/DL%20Final%20Assignment%201' target=\"_blank\">https://wandb.ai/cs22m019/DL%20Final%20Assignment%201</a>"
            ],
            "text/plain": [
              "<IPython.core.display.HTML object>"
            ]
          },
          "metadata": {},
          "output_type": "display_data"
        },
        {
          "data": {
            "text/html": [
              " View sweep at <a href='https://wandb.ai/cs22m019/DL%20Final%20Assignment%201/sweeps/eayjxkwm' target=\"_blank\">https://wandb.ai/cs22m019/DL%20Final%20Assignment%201/sweeps/eayjxkwm</a>"
            ],
            "text/plain": [
              "<IPython.core.display.HTML object>"
            ]
          },
          "metadata": {},
          "output_type": "display_data"
        },
        {
          "data": {
            "text/html": [
              " View run at <a href='https://wandb.ai/cs22m019/DL%20Final%20Assignment%201/runs/623gdafj' target=\"_blank\">https://wandb.ai/cs22m019/DL%20Final%20Assignment%201/runs/623gdafj</a>"
            ],
            "text/plain": [
              "<IPython.core.display.HTML object>"
            ]
          },
          "metadata": {},
          "output_type": "display_data"
        },
        {
          "name": "stdout",
          "output_type": "stream",
          "text": [
            "epoch:1, train loss:1.5925864521694355, train accuracy:0.5255, validation loss:1.002966284048888, validation accuracy:0.6873333333333334\n",
            "epoch:2, train loss:0.8546964839864766, train accuracy:0.7302962962962963, validation loss:0.7734224153685121, validation accuracy:0.7546666666666667\n",
            "epoch:3, train loss:0.7220357952066052, train accuracy:0.7697962962962963, validation loss:0.6853931441481504, validation accuracy:0.7831666666666667\n",
            "epoch:4, train loss:0.6540872242287099, train accuracy:0.7921666666666667, validation loss:0.6313512315052706, validation accuracy:0.7958333333333333\n",
            "epoch:5, train loss:0.6074715973457316, train accuracy:0.8053333333333333, validation loss:0.5930215913305248, validation accuracy:0.8078333333333333\n"
          ]
        },
        {
          "data": {
            "text/html": [
              "Waiting for W&B process to finish... <strong style=\"color:green\">(success).</strong>"
            ],
            "text/plain": [
              "<IPython.core.display.HTML object>"
            ]
          },
          "metadata": {},
          "output_type": "display_data"
        },
        {
          "data": {
            "application/vnd.jupyter.widget-view+json": {
              "model_id": "57aabf18b92b4fc9846c9e1d8064018a",
              "version_major": 2,
              "version_minor": 0
            },
            "text/plain": [
              "VBox(children=(Label(value='0.001 MB of 0.001 MB uploaded (0.000 MB deduped)\\r'), FloatProgress(value=1.0, max…"
            ]
          },
          "metadata": {},
          "output_type": "display_data"
        },
        {
          "data": {
            "text/html": [
              "<style>\n",
              "    table.wandb td:nth-child(1) { padding: 0 10px; text-align: left ; width: auto;} td:nth-child(2) {text-align: left ; width: 100%}\n",
              "    .wandb-row { display: flex; flex-direction: row; flex-wrap: wrap; justify-content: flex-start; width: 100% }\n",
              "    .wandb-col { display: flex; flex-direction: column; flex-basis: 100%; flex: 1; padding: 10px; }\n",
              "    </style>\n",
              "<div class=\"wandb-row\"><div class=\"wandb-col\"><h3>Run history:</h3><br/><table class=\"wandb\"><tr><td>train accuracy</td><td>▁▆▇██</td></tr><tr><td>train loss</td><td>█▃▂▁▁</td></tr><tr><td>validation accuracy</td><td>▁▅▇▇█</td></tr><tr><td>validation loss</td><td>█▄▃▂▁</td></tr></table><br/></div><div class=\"wandb-col\"><h3>Run summary:</h3><br/><table class=\"wandb\"><tr><td>train accuracy</td><td>0.80533</td></tr><tr><td>train loss</td><td>0.60747</td></tr><tr><td>validation accuracy</td><td>0.80783</td></tr><tr><td>validation loss</td><td>0.59302</td></tr></table><br/></div></div>"
            ],
            "text/plain": [
              "<IPython.core.display.HTML object>"
            ]
          },
          "metadata": {},
          "output_type": "display_data"
        },
        {
          "data": {
            "text/html": [
              " View run <strong style=\"color:#cdcd00\">woven-sweep-48</strong> at: <a href='https://wandb.ai/cs22m019/DL%20Final%20Assignment%201/runs/623gdafj' target=\"_blank\">https://wandb.ai/cs22m019/DL%20Final%20Assignment%201/runs/623gdafj</a><br/>Synced 6 W&B file(s), 0 media file(s), 0 artifact file(s) and 0 other file(s)"
            ],
            "text/plain": [
              "<IPython.core.display.HTML object>"
            ]
          },
          "metadata": {},
          "output_type": "display_data"
        },
        {
          "data": {
            "text/html": [
              "Find logs at: <code>.\\wandb\\run-20230310_024614-623gdafj\\logs</code>"
            ],
            "text/plain": [
              "<IPython.core.display.HTML object>"
            ]
          },
          "metadata": {},
          "output_type": "display_data"
        },
        {
          "name": "stderr",
          "output_type": "stream",
          "text": [
            "\u001b[34m\u001b[1mwandb\u001b[0m: Agent Starting Run: 1x4b5v5t with config:\n",
            "\u001b[34m\u001b[1mwandb\u001b[0m: \tactivation: ReLU\n",
            "\u001b[34m\u001b[1mwandb\u001b[0m: \tbatch_size: 64\n",
            "\u001b[34m\u001b[1mwandb\u001b[0m: \tepochs: 10\n",
            "\u001b[34m\u001b[1mwandb\u001b[0m: \tlearning_rate: 0.0001\n",
            "\u001b[34m\u001b[1mwandb\u001b[0m: \tnumber_of_hidden_layer: 3\n",
            "\u001b[34m\u001b[1mwandb\u001b[0m: \toptimizer: nestrov\n",
            "\u001b[34m\u001b[1mwandb\u001b[0m: \tsize_of_hidden_layer: 32\n",
            "\u001b[34m\u001b[1mwandb\u001b[0m: \tweight_decay: 0\n",
            "\u001b[34m\u001b[1mwandb\u001b[0m: \tweight_initialization: random\n"
          ]
        },
        {
          "data": {
            "text/html": [
              "Tracking run with wandb version 0.13.11"
            ],
            "text/plain": [
              "<IPython.core.display.HTML object>"
            ]
          },
          "metadata": {},
          "output_type": "display_data"
        },
        {
          "data": {
            "text/html": [
              "Run data is saved locally in <code>C:\\Users\\DELL\\Desktop\\wandb\\run-20230310_024942-1x4b5v5t</code>"
            ],
            "text/plain": [
              "<IPython.core.display.HTML object>"
            ]
          },
          "metadata": {},
          "output_type": "display_data"
        },
        {
          "data": {
            "text/html": [
              "Syncing run <strong><a href='https://wandb.ai/cs22m019/DL%20Final%20Assignment%201/runs/1x4b5v5t' target=\"_blank\">jumping-sweep-49</a></strong> to <a href='https://wandb.ai/cs22m019/DL%20Final%20Assignment%201' target=\"_blank\">Weights & Biases</a> (<a href='https://wandb.me/run' target=\"_blank\">docs</a>)<br/>Sweep page: <a href='https://wandb.ai/cs22m019/DL%20Final%20Assignment%201/sweeps/eayjxkwm' target=\"_blank\">https://wandb.ai/cs22m019/DL%20Final%20Assignment%201/sweeps/eayjxkwm</a>"
            ],
            "text/plain": [
              "<IPython.core.display.HTML object>"
            ]
          },
          "metadata": {},
          "output_type": "display_data"
        },
        {
          "data": {
            "text/html": [
              " View project at <a href='https://wandb.ai/cs22m019/DL%20Final%20Assignment%201' target=\"_blank\">https://wandb.ai/cs22m019/DL%20Final%20Assignment%201</a>"
            ],
            "text/plain": [
              "<IPython.core.display.HTML object>"
            ]
          },
          "metadata": {},
          "output_type": "display_data"
        },
        {
          "data": {
            "text/html": [
              " View sweep at <a href='https://wandb.ai/cs22m019/DL%20Final%20Assignment%201/sweeps/eayjxkwm' target=\"_blank\">https://wandb.ai/cs22m019/DL%20Final%20Assignment%201/sweeps/eayjxkwm</a>"
            ],
            "text/plain": [
              "<IPython.core.display.HTML object>"
            ]
          },
          "metadata": {},
          "output_type": "display_data"
        },
        {
          "data": {
            "text/html": [
              " View run at <a href='https://wandb.ai/cs22m019/DL%20Final%20Assignment%201/runs/1x4b5v5t' target=\"_blank\">https://wandb.ai/cs22m019/DL%20Final%20Assignment%201/runs/1x4b5v5t</a>"
            ],
            "text/plain": [
              "<IPython.core.display.HTML object>"
            ]
          },
          "metadata": {},
          "output_type": "display_data"
        },
        {
          "name": "stdout",
          "output_type": "stream",
          "text": [
            "epoch:1, train loss:11.53761517369531, train accuracy:0.14196296296296296, validation loss:7.4445949496184705, validation accuracy:0.23816666666666667\n",
            "epoch:2, train loss:5.625795181546251, train accuracy:0.2951666666666667, validation loss:4.565232952363553, validation accuracy:0.3238333333333333\n",
            "epoch:3, train loss:4.055168678658599, train accuracy:0.33866666666666667, validation loss:3.6369329715500767, validation accuracy:0.3581666666666667\n",
            "epoch:4, train loss:3.365691614431596, train accuracy:0.35755555555555557, validation loss:3.121817944699374, validation accuracy:0.36783333333333335\n",
            "epoch:5, train loss:2.94600737874055, train accuracy:0.3701111111111111, validation loss:2.7888805486316253, validation accuracy:0.374\n",
            "epoch:6, train loss:2.664122700688449, train accuracy:0.3764074074074074, validation loss:2.551561983354039, validation accuracy:0.387\n",
            "epoch:7, train loss:2.458566586344847, train accuracy:0.3862037037037037, validation loss:2.368972903995162, validation accuracy:0.401\n",
            "epoch:8, train loss:2.297536649251013, train accuracy:0.3945925925925926, validation loss:2.2249802923481443, validation accuracy:0.408\n",
            "epoch:9, train loss:2.1687493468305252, train accuracy:0.40374074074074073, validation loss:2.111691233859388, validation accuracy:0.41633333333333333\n",
            "epoch:10, train loss:2.0621955921634063, train accuracy:0.4156666666666667, validation loss:2.0180357187213587, validation accuracy:0.4261666666666667\n"
          ]
        },
        {
          "data": {
            "text/html": [
              "Waiting for W&B process to finish... <strong style=\"color:green\">(success).</strong>"
            ],
            "text/plain": [
              "<IPython.core.display.HTML object>"
            ]
          },
          "metadata": {},
          "output_type": "display_data"
        },
        {
          "data": {
            "text/html": [
              "<style>\n",
              "    table.wandb td:nth-child(1) { padding: 0 10px; text-align: left ; width: auto;} td:nth-child(2) {text-align: left ; width: 100%}\n",
              "    .wandb-row { display: flex; flex-direction: row; flex-wrap: wrap; justify-content: flex-start; width: 100% }\n",
              "    .wandb-col { display: flex; flex-direction: column; flex-basis: 100%; flex: 1; padding: 10px; }\n",
              "    </style>\n",
              "<div class=\"wandb-row\"><div class=\"wandb-col\"><h3>Run history:</h3><br/><table class=\"wandb\"><tr><td>train accuracy</td><td>▁▅▆▇▇▇▇▇██</td></tr><tr><td>train loss</td><td>█▄▂▂▂▁▁▁▁▁</td></tr><tr><td>validation accuracy</td><td>▁▄▅▆▆▇▇▇██</td></tr><tr><td>validation loss</td><td>█▄▃▂▂▂▁▁▁▁</td></tr></table><br/></div><div class=\"wandb-col\"><h3>Run summary:</h3><br/><table class=\"wandb\"><tr><td>train accuracy</td><td>0.41567</td></tr><tr><td>train loss</td><td>2.0622</td></tr><tr><td>validation accuracy</td><td>0.42617</td></tr><tr><td>validation loss</td><td>2.01804</td></tr></table><br/></div></div>"
            ],
            "text/plain": [
              "<IPython.core.display.HTML object>"
            ]
          },
          "metadata": {},
          "output_type": "display_data"
        },
        {
          "data": {
            "text/html": [
              " View run <strong style=\"color:#cdcd00\">jumping-sweep-49</strong> at: <a href='https://wandb.ai/cs22m019/DL%20Final%20Assignment%201/runs/1x4b5v5t' target=\"_blank\">https://wandb.ai/cs22m019/DL%20Final%20Assignment%201/runs/1x4b5v5t</a><br/>Synced 6 W&B file(s), 0 media file(s), 0 artifact file(s) and 0 other file(s)"
            ],
            "text/plain": [
              "<IPython.core.display.HTML object>"
            ]
          },
          "metadata": {},
          "output_type": "display_data"
        },
        {
          "data": {
            "text/html": [
              "Find logs at: <code>.\\wandb\\run-20230310_024942-1x4b5v5t\\logs</code>"
            ],
            "text/plain": [
              "<IPython.core.display.HTML object>"
            ]
          },
          "metadata": {},
          "output_type": "display_data"
        },
        {
          "name": "stderr",
          "output_type": "stream",
          "text": [
            "\u001b[34m\u001b[1mwandb\u001b[0m: Agent Starting Run: aycmjj94 with config:\n",
            "\u001b[34m\u001b[1mwandb\u001b[0m: \tactivation: tanh\n",
            "\u001b[34m\u001b[1mwandb\u001b[0m: \tbatch_size: 64\n",
            "\u001b[34m\u001b[1mwandb\u001b[0m: \tepochs: 10\n",
            "\u001b[34m\u001b[1mwandb\u001b[0m: \tlearning_rate: 0.001\n",
            "\u001b[34m\u001b[1mwandb\u001b[0m: \tnumber_of_hidden_layer: 5\n",
            "\u001b[34m\u001b[1mwandb\u001b[0m: \toptimizer: nestrov\n",
            "\u001b[34m\u001b[1mwandb\u001b[0m: \tsize_of_hidden_layer: 128\n",
            "\u001b[34m\u001b[1mwandb\u001b[0m: \tweight_decay: 0\n",
            "\u001b[34m\u001b[1mwandb\u001b[0m: \tweight_initialization: random\n"
          ]
        },
        {
          "data": {
            "text/html": [
              "Tracking run with wandb version 0.13.11"
            ],
            "text/plain": [
              "<IPython.core.display.HTML object>"
            ]
          },
          "metadata": {},
          "output_type": "display_data"
        },
        {
          "data": {
            "text/html": [
              "Run data is saved locally in <code>C:\\Users\\DELL\\Desktop\\wandb\\run-20230310_025134-aycmjj94</code>"
            ],
            "text/plain": [
              "<IPython.core.display.HTML object>"
            ]
          },
          "metadata": {},
          "output_type": "display_data"
        },
        {
          "data": {
            "text/html": [
              "Syncing run <strong><a href='https://wandb.ai/cs22m019/DL%20Final%20Assignment%201/runs/aycmjj94' target=\"_blank\">dainty-sweep-50</a></strong> to <a href='https://wandb.ai/cs22m019/DL%20Final%20Assignment%201' target=\"_blank\">Weights & Biases</a> (<a href='https://wandb.me/run' target=\"_blank\">docs</a>)<br/>Sweep page: <a href='https://wandb.ai/cs22m019/DL%20Final%20Assignment%201/sweeps/eayjxkwm' target=\"_blank\">https://wandb.ai/cs22m019/DL%20Final%20Assignment%201/sweeps/eayjxkwm</a>"
            ],
            "text/plain": [
              "<IPython.core.display.HTML object>"
            ]
          },
          "metadata": {},
          "output_type": "display_data"
        },
        {
          "data": {
            "text/html": [
              " View project at <a href='https://wandb.ai/cs22m019/DL%20Final%20Assignment%201' target=\"_blank\">https://wandb.ai/cs22m019/DL%20Final%20Assignment%201</a>"
            ],
            "text/plain": [
              "<IPython.core.display.HTML object>"
            ]
          },
          "metadata": {},
          "output_type": "display_data"
        },
        {
          "data": {
            "text/html": [
              " View sweep at <a href='https://wandb.ai/cs22m019/DL%20Final%20Assignment%201/sweeps/eayjxkwm' target=\"_blank\">https://wandb.ai/cs22m019/DL%20Final%20Assignment%201/sweeps/eayjxkwm</a>"
            ],
            "text/plain": [
              "<IPython.core.display.HTML object>"
            ]
          },
          "metadata": {},
          "output_type": "display_data"
        },
        {
          "data": {
            "text/html": [
              " View run at <a href='https://wandb.ai/cs22m019/DL%20Final%20Assignment%201/runs/aycmjj94' target=\"_blank\">https://wandb.ai/cs22m019/DL%20Final%20Assignment%201/runs/aycmjj94</a>"
            ],
            "text/plain": [
              "<IPython.core.display.HTML object>"
            ]
          },
          "metadata": {},
          "output_type": "display_data"
        },
        {
          "name": "stdout",
          "output_type": "stream",
          "text": [
            "epoch:1, train loss:5.232025210623972, train accuracy:0.21572222222222223, validation loss:3.816683933046608, validation accuracy:0.31416666666666665\n",
            "epoch:2, train loss:3.2297284685459173, train accuracy:0.3748888888888889, validation loss:2.904319652816501, validation accuracy:0.4096666666666667\n",
            "epoch:3, train loss:2.537850944901987, train accuracy:0.46316666666666667, validation loss:2.450394141855014, validation accuracy:0.466\n",
            "epoch:4, train loss:2.1549137066772257, train accuracy:0.5090740740740741, validation loss:2.12355733263511, validation accuracy:0.5085\n",
            "epoch:5, train loss:1.8930939838287775, train accuracy:0.5461296296296296, validation loss:1.9464334500655371, validation accuracy:0.5383333333333333\n",
            "epoch:6, train loss:1.726189364367999, train accuracy:0.5656296296296296, validation loss:1.8305590075649194, validation accuracy:0.5448333333333333\n",
            "epoch:7, train loss:1.582941565525009, train accuracy:0.586462962962963, validation loss:1.7525060527647975, validation accuracy:0.5568333333333333\n",
            "epoch:8, train loss:1.4761597680414218, train accuracy:0.6007592592592592, validation loss:1.685396210405473, validation accuracy:0.5731666666666667\n",
            "epoch:9, train loss:1.384707311771327, train accuracy:0.6148518518518519, validation loss:1.6256284136567023, validation accuracy:0.5823333333333334\n",
            "epoch:10, train loss:1.316048936641389, train accuracy:0.6252962962962964, validation loss:1.5815889485582468, validation accuracy:0.5918333333333333\n"
          ]
        },
        {
          "data": {
            "text/html": [
              "Waiting for W&B process to finish... <strong style=\"color:green\">(success).</strong>"
            ],
            "text/plain": [
              "<IPython.core.display.HTML object>"
            ]
          },
          "metadata": {},
          "output_type": "display_data"
        },
        {
          "data": {
            "application/vnd.jupyter.widget-view+json": {
              "model_id": "2e94195d3c1e444492aa8b2a6b226d9a",
              "version_major": 2,
              "version_minor": 0
            },
            "text/plain": [
              "VBox(children=(Label(value='0.001 MB of 0.001 MB uploaded (0.000 MB deduped)\\r'), FloatProgress(value=1.0, max…"
            ]
          },
          "metadata": {},
          "output_type": "display_data"
        },
        {
          "data": {
            "text/html": [
              "<style>\n",
              "    table.wandb td:nth-child(1) { padding: 0 10px; text-align: left ; width: auto;} td:nth-child(2) {text-align: left ; width: 100%}\n",
              "    .wandb-row { display: flex; flex-direction: row; flex-wrap: wrap; justify-content: flex-start; width: 100% }\n",
              "    .wandb-col { display: flex; flex-direction: column; flex-basis: 100%; flex: 1; padding: 10px; }\n",
              "    </style>\n",
              "<div class=\"wandb-row\"><div class=\"wandb-col\"><h3>Run history:</h3><br/><table class=\"wandb\"><tr><td>train accuracy</td><td>▁▄▅▆▇▇▇███</td></tr><tr><td>train loss</td><td>█▄▃▂▂▂▁▁▁▁</td></tr><tr><td>validation accuracy</td><td>▁▃▅▆▇▇▇███</td></tr><tr><td>validation loss</td><td>█▅▄▃▂▂▂▁▁▁</td></tr></table><br/></div><div class=\"wandb-col\"><h3>Run summary:</h3><br/><table class=\"wandb\"><tr><td>train accuracy</td><td>0.6253</td></tr><tr><td>train loss</td><td>1.31605</td></tr><tr><td>validation accuracy</td><td>0.59183</td></tr><tr><td>validation loss</td><td>1.58159</td></tr></table><br/></div></div>"
            ],
            "text/plain": [
              "<IPython.core.display.HTML object>"
            ]
          },
          "metadata": {},
          "output_type": "display_data"
        },
        {
          "data": {
            "text/html": [
              " View run <strong style=\"color:#cdcd00\">dainty-sweep-50</strong> at: <a href='https://wandb.ai/cs22m019/DL%20Final%20Assignment%201/runs/aycmjj94' target=\"_blank\">https://wandb.ai/cs22m019/DL%20Final%20Assignment%201/runs/aycmjj94</a><br/>Synced 6 W&B file(s), 0 media file(s), 0 artifact file(s) and 0 other file(s)"
            ],
            "text/plain": [
              "<IPython.core.display.HTML object>"
            ]
          },
          "metadata": {},
          "output_type": "display_data"
        },
        {
          "data": {
            "text/html": [
              "Find logs at: <code>.\\wandb\\run-20230310_025134-aycmjj94\\logs</code>"
            ],
            "text/plain": [
              "<IPython.core.display.HTML object>"
            ]
          },
          "metadata": {},
          "output_type": "display_data"
        }
      ],
      "source": [
        "wandb.agent(sweep_id=sweep_id,function = train,count = 100)"
      ]
    },
    {
      "cell_type": "code",
      "execution_count": null,
      "metadata": {
        "id": "9_X0a_02EalQ",
        "outputId": "9e4ee543-f4dc-40d9-eca4-c229c4022735",
        "colab": {
          "referenced_widgets": [
            "48ff735ae6b740fd84ccd0b365e05549",
            "7d34184d02574a9bbaf8902fedb706c2",
            "bdfd2769da79478a9a49456bbd3e9dc4",
            "b765bccf37a14cba863a505054f3aecd",
            "d396e23a7afd44a2baaa2c4314cdc0cf",
            "6bfff352a57946e7a7d607c000c38fd8",
            "f8b4ef9e3a3a418f83ad718fb4c1564b",
            "ef9a2c4659d4480385781d51775fd85a",
            "13707721b5894ff7a5ab7729cf064e33",
            "84889d9db056456395eb94422c87a5ef",
            "56de70261ef141b98fc6fd1c7f0d4d51",
            "4b8e5e75a6df4d6ba9d080f1ae4066f8",
            "a2215ea482e1483981f86fed16d1e316",
            "28ca1735d83f4330b3a1646e069e29dd",
            "39588bba53ca457db59af091ec160c97",
            "090e1b1a81d74109816e7a724428463b",
            "debdd22ef60447ff8b2acb10581c9574",
            "ad5b959be112436a86b913b713ac2862",
            "02bd2ae8ea9347d1adb8877ad5548c95",
            "ed93f8ab358747229e750fde03f7c3b7",
            "ca51b8c60b834013ba4eca2ea233e65e",
            "a302a60cb34b4b0c95970d59747e6f30",
            "fc2bb3708f46433ebe1d793a5a501e84",
            "bc9582326b644039b6f7fc9f8f6835eb",
            "c90d7aab9c4549bdba5d5a68fb233033",
            "57912b8fb674469c99265fec69c4b019",
            "6fe5928a2a1740b6a6ec29ffa0dc699e",
            "a1808cf74bd14b60b22d5383590df8c9",
            "0382f7c64e1647b48bc02a0572caf009",
            "9bf00e2bbcdb4c33a396522782cdc4eb",
            "7c14a6986f85425c85c51b665605fc32",
            "3234062bcdc0472cae9380dfca0999f7",
            "5bbc527c5b084b4886355ce1d925bf3a",
            "c7af403ccea84717a8db9dcd75e94cf7",
            "da5298512c5f4393a6d786b7369470d5",
            "ba16bba6312f41998efa6bc6463e7337",
            "5da04cc60d9a460398bd65c655d15023",
            "672527919e98487e9a24a3c43794e643",
            "092cbac90ed64299b1391343d379fddc",
            "4f7f3596ccac42f8a82f0254652f9e7c",
            "4dfbf3bb7c2d497fb44d00c8d59fa5a6",
            "a7be297e2435475b9b0628e496c32b9b",
            "5bf464a28c1548c48df3e6098f68c23a",
            "301b44ed4ea94f6bb5b3a440781e3840",
            "70620060bbe74da2b1a01306e2bb7e27",
            "8daa6a997c4d4af9a3eca8bf1dcf2d79"
          ]
        }
      },
      "outputs": [
        {
          "name": "stderr",
          "output_type": "stream",
          "text": [
            "\u001b[34m\u001b[1mwandb\u001b[0m: Agent Starting Run: qg01qmg4 with config:\n",
            "\u001b[34m\u001b[1mwandb\u001b[0m: \tactivation: ReLU\n",
            "\u001b[34m\u001b[1mwandb\u001b[0m: \tbatch_size: 64\n",
            "\u001b[34m\u001b[1mwandb\u001b[0m: \tepochs: 5\n",
            "\u001b[34m\u001b[1mwandb\u001b[0m: \tlearning_rate: 0.001\n",
            "\u001b[34m\u001b[1mwandb\u001b[0m: \tnumber_of_hidden_layer: 3\n",
            "\u001b[34m\u001b[1mwandb\u001b[0m: \toptimizer: adam\n",
            "\u001b[34m\u001b[1mwandb\u001b[0m: \tsize_of_hidden_layer: 64\n",
            "\u001b[34m\u001b[1mwandb\u001b[0m: \tweight_decay: 0.0005\n",
            "\u001b[34m\u001b[1mwandb\u001b[0m: \tweight_initialization: Xavier\n"
          ]
        },
        {
          "data": {
            "text/html": [
              "Tracking run with wandb version 0.13.11"
            ],
            "text/plain": [
              "<IPython.core.display.HTML object>"
            ]
          },
          "metadata": {},
          "output_type": "display_data"
        },
        {
          "data": {
            "text/html": [
              "Run data is saved locally in <code>C:\\Users\\DELL\\Desktop\\wandb\\run-20230310_025846-qg01qmg4</code>"
            ],
            "text/plain": [
              "<IPython.core.display.HTML object>"
            ]
          },
          "metadata": {},
          "output_type": "display_data"
        },
        {
          "data": {
            "text/html": [
              "Syncing run <strong><a href='https://wandb.ai/cs22m019/DL%20Final%20Assignment%201/runs/qg01qmg4' target=\"_blank\">vibrant-sweep-51</a></strong> to <a href='https://wandb.ai/cs22m019/DL%20Final%20Assignment%201' target=\"_blank\">Weights & Biases</a> (<a href='https://wandb.me/run' target=\"_blank\">docs</a>)<br/>Sweep page: <a href='https://wandb.ai/cs22m019/DL%20Final%20Assignment%201/sweeps/eayjxkwm' target=\"_blank\">https://wandb.ai/cs22m019/DL%20Final%20Assignment%201/sweeps/eayjxkwm</a>"
            ],
            "text/plain": [
              "<IPython.core.display.HTML object>"
            ]
          },
          "metadata": {},
          "output_type": "display_data"
        },
        {
          "data": {
            "text/html": [
              " View project at <a href='https://wandb.ai/cs22m019/DL%20Final%20Assignment%201' target=\"_blank\">https://wandb.ai/cs22m019/DL%20Final%20Assignment%201</a>"
            ],
            "text/plain": [
              "<IPython.core.display.HTML object>"
            ]
          },
          "metadata": {},
          "output_type": "display_data"
        },
        {
          "data": {
            "text/html": [
              " View sweep at <a href='https://wandb.ai/cs22m019/DL%20Final%20Assignment%201/sweeps/eayjxkwm' target=\"_blank\">https://wandb.ai/cs22m019/DL%20Final%20Assignment%201/sweeps/eayjxkwm</a>"
            ],
            "text/plain": [
              "<IPython.core.display.HTML object>"
            ]
          },
          "metadata": {},
          "output_type": "display_data"
        },
        {
          "data": {
            "text/html": [
              " View run at <a href='https://wandb.ai/cs22m019/DL%20Final%20Assignment%201/runs/qg01qmg4' target=\"_blank\">https://wandb.ai/cs22m019/DL%20Final%20Assignment%201/runs/qg01qmg4</a>"
            ],
            "text/plain": [
              "<IPython.core.display.HTML object>"
            ]
          },
          "metadata": {},
          "output_type": "display_data"
        },
        {
          "name": "stdout",
          "output_type": "stream",
          "text": [
            "epoch:1, train loss:1.8053795534416206, train accuracy:0.4621296296296296, validation loss:1.2928978666354087, validation accuracy:0.6206666666666667\n",
            "epoch:2, train loss:1.0547027763203662, train accuracy:0.6679444444444445, validation loss:0.8970867606029355, validation accuracy:0.7021666666666667\n",
            "epoch:3, train loss:0.8102002831978022, train accuracy:0.7321851851851852, validation loss:0.7460311328267183, validation accuracy:0.7541666666666667\n",
            "epoch:4, train loss:0.7033200166607706, train accuracy:0.7661666666666667, validation loss:0.6675164080224869, validation accuracy:0.7771666666666667\n",
            "epoch:5, train loss:0.6414647027433853, train accuracy:0.7871666666666667, validation loss:0.61845440539408, validation accuracy:0.7926666666666666\n"
          ]
        },
        {
          "data": {
            "text/html": [
              "Waiting for W&B process to finish... <strong style=\"color:green\">(success).</strong>"
            ],
            "text/plain": [
              "<IPython.core.display.HTML object>"
            ]
          },
          "metadata": {},
          "output_type": "display_data"
        },
        {
          "data": {
            "application/vnd.jupyter.widget-view+json": {
              "model_id": "48ff735ae6b740fd84ccd0b365e05549",
              "version_major": 2,
              "version_minor": 0
            },
            "text/plain": [
              "VBox(children=(Label(value='0.001 MB of 0.001 MB uploaded (0.000 MB deduped)\\r'), FloatProgress(value=1.0, max…"
            ]
          },
          "metadata": {},
          "output_type": "display_data"
        },
        {
          "data": {
            "text/html": [
              "<style>\n",
              "    table.wandb td:nth-child(1) { padding: 0 10px; text-align: left ; width: auto;} td:nth-child(2) {text-align: left ; width: 100%}\n",
              "    .wandb-row { display: flex; flex-direction: row; flex-wrap: wrap; justify-content: flex-start; width: 100% }\n",
              "    .wandb-col { display: flex; flex-direction: column; flex-basis: 100%; flex: 1; padding: 10px; }\n",
              "    </style>\n",
              "<div class=\"wandb-row\"><div class=\"wandb-col\"><h3>Run history:</h3><br/><table class=\"wandb\"><tr><td>train accuracy</td><td>▁▅▇██</td></tr><tr><td>train loss</td><td>█▃▂▁▁</td></tr><tr><td>validation accuracy</td><td>▁▄▆▇█</td></tr><tr><td>validation loss</td><td>█▄▂▂▁</td></tr></table><br/></div><div class=\"wandb-col\"><h3>Run summary:</h3><br/><table class=\"wandb\"><tr><td>train accuracy</td><td>0.78717</td></tr><tr><td>train loss</td><td>0.64146</td></tr><tr><td>validation accuracy</td><td>0.79267</td></tr><tr><td>validation loss</td><td>0.61845</td></tr></table><br/></div></div>"
            ],
            "text/plain": [
              "<IPython.core.display.HTML object>"
            ]
          },
          "metadata": {},
          "output_type": "display_data"
        },
        {
          "data": {
            "text/html": [
              " View run <strong style=\"color:#cdcd00\">vibrant-sweep-51</strong> at: <a href='https://wandb.ai/cs22m019/DL%20Final%20Assignment%201/runs/qg01qmg4' target=\"_blank\">https://wandb.ai/cs22m019/DL%20Final%20Assignment%201/runs/qg01qmg4</a><br/>Synced 6 W&B file(s), 0 media file(s), 0 artifact file(s) and 0 other file(s)"
            ],
            "text/plain": [
              "<IPython.core.display.HTML object>"
            ]
          },
          "metadata": {},
          "output_type": "display_data"
        },
        {
          "data": {
            "text/html": [
              "Find logs at: <code>.\\wandb\\run-20230310_025846-qg01qmg4\\logs</code>"
            ],
            "text/plain": [
              "<IPython.core.display.HTML object>"
            ]
          },
          "metadata": {},
          "output_type": "display_data"
        },
        {
          "name": "stderr",
          "output_type": "stream",
          "text": [
            "\u001b[34m\u001b[1mwandb\u001b[0m: Sweep Agent: Waiting for job.\n",
            "\u001b[34m\u001b[1mwandb\u001b[0m: Job received.\n",
            "\u001b[34m\u001b[1mwandb\u001b[0m: Agent Starting Run: vhclu1mj with config:\n",
            "\u001b[34m\u001b[1mwandb\u001b[0m: \tactivation: sigmoid\n",
            "\u001b[34m\u001b[1mwandb\u001b[0m: \tbatch_size: 64\n",
            "\u001b[34m\u001b[1mwandb\u001b[0m: \tepochs: 5\n",
            "\u001b[34m\u001b[1mwandb\u001b[0m: \tlearning_rate: 0.001\n",
            "\u001b[34m\u001b[1mwandb\u001b[0m: \tnumber_of_hidden_layer: 5\n",
            "\u001b[34m\u001b[1mwandb\u001b[0m: \toptimizer: nestrov\n",
            "\u001b[34m\u001b[1mwandb\u001b[0m: \tsize_of_hidden_layer: 32\n",
            "\u001b[34m\u001b[1mwandb\u001b[0m: \tweight_decay: 0\n",
            "\u001b[34m\u001b[1mwandb\u001b[0m: \tweight_initialization: Xavier\n"
          ]
        },
        {
          "data": {
            "text/html": [
              "Tracking run with wandb version 0.13.11"
            ],
            "text/plain": [
              "<IPython.core.display.HTML object>"
            ]
          },
          "metadata": {},
          "output_type": "display_data"
        },
        {
          "data": {
            "text/html": [
              "Run data is saved locally in <code>C:\\Users\\DELL\\Desktop\\wandb\\run-20230310_030000-vhclu1mj</code>"
            ],
            "text/plain": [
              "<IPython.core.display.HTML object>"
            ]
          },
          "metadata": {},
          "output_type": "display_data"
        },
        {
          "data": {
            "text/html": [
              "Syncing run <strong><a href='https://wandb.ai/cs22m019/DL%20Final%20Assignment%201/runs/vhclu1mj' target=\"_blank\">solar-sweep-52</a></strong> to <a href='https://wandb.ai/cs22m019/DL%20Final%20Assignment%201' target=\"_blank\">Weights & Biases</a> (<a href='https://wandb.me/run' target=\"_blank\">docs</a>)<br/>Sweep page: <a href='https://wandb.ai/cs22m019/DL%20Final%20Assignment%201/sweeps/eayjxkwm' target=\"_blank\">https://wandb.ai/cs22m019/DL%20Final%20Assignment%201/sweeps/eayjxkwm</a>"
            ],
            "text/plain": [
              "<IPython.core.display.HTML object>"
            ]
          },
          "metadata": {},
          "output_type": "display_data"
        },
        {
          "data": {
            "text/html": [
              " View project at <a href='https://wandb.ai/cs22m019/DL%20Final%20Assignment%201' target=\"_blank\">https://wandb.ai/cs22m019/DL%20Final%20Assignment%201</a>"
            ],
            "text/plain": [
              "<IPython.core.display.HTML object>"
            ]
          },
          "metadata": {},
          "output_type": "display_data"
        },
        {
          "data": {
            "text/html": [
              " View sweep at <a href='https://wandb.ai/cs22m019/DL%20Final%20Assignment%201/sweeps/eayjxkwm' target=\"_blank\">https://wandb.ai/cs22m019/DL%20Final%20Assignment%201/sweeps/eayjxkwm</a>"
            ],
            "text/plain": [
              "<IPython.core.display.HTML object>"
            ]
          },
          "metadata": {},
          "output_type": "display_data"
        },
        {
          "data": {
            "text/html": [
              " View run at <a href='https://wandb.ai/cs22m019/DL%20Final%20Assignment%201/runs/vhclu1mj' target=\"_blank\">https://wandb.ai/cs22m019/DL%20Final%20Assignment%201/runs/vhclu1mj</a>"
            ],
            "text/plain": [
              "<IPython.core.display.HTML object>"
            ]
          },
          "metadata": {},
          "output_type": "display_data"
        },
        {
          "name": "stdout",
          "output_type": "stream",
          "text": [
            "epoch:1, train loss:2.4011265805869986, train accuracy:0.09964814814814815, validation loss:2.338328025879505, validation accuracy:0.10316666666666667\n",
            "epoch:2, train loss:2.320015585971715, train accuracy:0.09964814814814815, validation loss:2.310520925883134, validation accuracy:0.10316666666666667\n",
            "epoch:3, train loss:2.306137628947415, train accuracy:0.09964814814814815, validation loss:2.304539712810183, validation accuracy:0.10316666666666667\n",
            "epoch:4, train loss:2.3034185753237395, train accuracy:0.09964814814814815, validation loss:2.3032858621062307, validation accuracy:0.10316666666666667\n",
            "epoch:5, train loss:2.302900091961673, train accuracy:0.08444444444444445, validation loss:2.3029882420570043, validation accuracy:0.10316666666666667\n"
          ]
        },
        {
          "data": {
            "text/html": [
              "Waiting for W&B process to finish... <strong style=\"color:green\">(success).</strong>"
            ],
            "text/plain": [
              "<IPython.core.display.HTML object>"
            ]
          },
          "metadata": {},
          "output_type": "display_data"
        },
        {
          "data": {
            "application/vnd.jupyter.widget-view+json": {
              "model_id": "7d34184d02574a9bbaf8902fedb706c2",
              "version_major": 2,
              "version_minor": 0
            },
            "text/plain": [
              "VBox(children=(Label(value='0.001 MB of 0.017 MB uploaded (0.000 MB deduped)\\r'), FloatProgress(value=0.064872…"
            ]
          },
          "metadata": {},
          "output_type": "display_data"
        },
        {
          "data": {
            "text/html": [
              "<style>\n",
              "    table.wandb td:nth-child(1) { padding: 0 10px; text-align: left ; width: auto;} td:nth-child(2) {text-align: left ; width: 100%}\n",
              "    .wandb-row { display: flex; flex-direction: row; flex-wrap: wrap; justify-content: flex-start; width: 100% }\n",
              "    .wandb-col { display: flex; flex-direction: column; flex-basis: 100%; flex: 1; padding: 10px; }\n",
              "    </style>\n",
              "<div class=\"wandb-row\"><div class=\"wandb-col\"><h3>Run history:</h3><br/><table class=\"wandb\"><tr><td>train accuracy</td><td>████▁</td></tr><tr><td>train loss</td><td>█▂▁▁▁</td></tr><tr><td>validation accuracy</td><td>▁▁▁▁▁</td></tr><tr><td>validation loss</td><td>█▂▁▁▁</td></tr></table><br/></div><div class=\"wandb-col\"><h3>Run summary:</h3><br/><table class=\"wandb\"><tr><td>train accuracy</td><td>0.08444</td></tr><tr><td>train loss</td><td>2.3029</td></tr><tr><td>validation accuracy</td><td>0.10317</td></tr><tr><td>validation loss</td><td>2.30299</td></tr></table><br/></div></div>"
            ],
            "text/plain": [
              "<IPython.core.display.HTML object>"
            ]
          },
          "metadata": {},
          "output_type": "display_data"
        },
        {
          "data": {
            "text/html": [
              " View run <strong style=\"color:#cdcd00\">solar-sweep-52</strong> at: <a href='https://wandb.ai/cs22m019/DL%20Final%20Assignment%201/runs/vhclu1mj' target=\"_blank\">https://wandb.ai/cs22m019/DL%20Final%20Assignment%201/runs/vhclu1mj</a><br/>Synced 6 W&B file(s), 0 media file(s), 0 artifact file(s) and 0 other file(s)"
            ],
            "text/plain": [
              "<IPython.core.display.HTML object>"
            ]
          },
          "metadata": {},
          "output_type": "display_data"
        },
        {
          "data": {
            "text/html": [
              "Find logs at: <code>.\\wandb\\run-20230310_030000-vhclu1mj\\logs</code>"
            ],
            "text/plain": [
              "<IPython.core.display.HTML object>"
            ]
          },
          "metadata": {},
          "output_type": "display_data"
        },
        {
          "name": "stderr",
          "output_type": "stream",
          "text": [
            "\u001b[34m\u001b[1mwandb\u001b[0m: Agent Starting Run: spainrg6 with config:\n",
            "\u001b[34m\u001b[1mwandb\u001b[0m: \tactivation: ReLU\n",
            "\u001b[34m\u001b[1mwandb\u001b[0m: \tbatch_size: 32\n",
            "\u001b[34m\u001b[1mwandb\u001b[0m: \tepochs: 10\n",
            "\u001b[34m\u001b[1mwandb\u001b[0m: \tlearning_rate: 0.001\n",
            "\u001b[34m\u001b[1mwandb\u001b[0m: \tnumber_of_hidden_layer: 3\n",
            "\u001b[34m\u001b[1mwandb\u001b[0m: \toptimizer: momentum\n",
            "\u001b[34m\u001b[1mwandb\u001b[0m: \tsize_of_hidden_layer: 32\n",
            "\u001b[34m\u001b[1mwandb\u001b[0m: \tweight_decay: 0.5\n",
            "\u001b[34m\u001b[1mwandb\u001b[0m: \tweight_initialization: Xavier\n"
          ]
        },
        {
          "data": {
            "text/html": [
              "Tracking run with wandb version 0.13.11"
            ],
            "text/plain": [
              "<IPython.core.display.HTML object>"
            ]
          },
          "metadata": {},
          "output_type": "display_data"
        },
        {
          "data": {
            "text/html": [
              "Run data is saved locally in <code>C:\\Users\\DELL\\Desktop\\wandb\\run-20230310_030121-spainrg6</code>"
            ],
            "text/plain": [
              "<IPython.core.display.HTML object>"
            ]
          },
          "metadata": {},
          "output_type": "display_data"
        },
        {
          "data": {
            "text/html": [
              "Syncing run <strong><a href='https://wandb.ai/cs22m019/DL%20Final%20Assignment%201/runs/spainrg6' target=\"_blank\">generous-sweep-53</a></strong> to <a href='https://wandb.ai/cs22m019/DL%20Final%20Assignment%201' target=\"_blank\">Weights & Biases</a> (<a href='https://wandb.me/run' target=\"_blank\">docs</a>)<br/>Sweep page: <a href='https://wandb.ai/cs22m019/DL%20Final%20Assignment%201/sweeps/eayjxkwm' target=\"_blank\">https://wandb.ai/cs22m019/DL%20Final%20Assignment%201/sweeps/eayjxkwm</a>"
            ],
            "text/plain": [
              "<IPython.core.display.HTML object>"
            ]
          },
          "metadata": {},
          "output_type": "display_data"
        },
        {
          "data": {
            "text/html": [
              " View project at <a href='https://wandb.ai/cs22m019/DL%20Final%20Assignment%201' target=\"_blank\">https://wandb.ai/cs22m019/DL%20Final%20Assignment%201</a>"
            ],
            "text/plain": [
              "<IPython.core.display.HTML object>"
            ]
          },
          "metadata": {},
          "output_type": "display_data"
        },
        {
          "data": {
            "text/html": [
              " View sweep at <a href='https://wandb.ai/cs22m019/DL%20Final%20Assignment%201/sweeps/eayjxkwm' target=\"_blank\">https://wandb.ai/cs22m019/DL%20Final%20Assignment%201/sweeps/eayjxkwm</a>"
            ],
            "text/plain": [
              "<IPython.core.display.HTML object>"
            ]
          },
          "metadata": {},
          "output_type": "display_data"
        },
        {
          "data": {
            "text/html": [
              " View run at <a href='https://wandb.ai/cs22m019/DL%20Final%20Assignment%201/runs/spainrg6' target=\"_blank\">https://wandb.ai/cs22m019/DL%20Final%20Assignment%201/runs/spainrg6</a>"
            ],
            "text/plain": [
              "<IPython.core.display.HTML object>"
            ]
          },
          "metadata": {},
          "output_type": "display_data"
        },
        {
          "name": "stdout",
          "output_type": "stream",
          "text": [
            "epoch:1, train loss:1.8616233183545612, train accuracy:0.36414814814814817, validation loss:1.3052747141450634, validation accuracy:0.6416666666666667\n",
            "epoch:2, train loss:1.0445267115177699, train accuracy:0.6918333333333333, validation loss:0.8856326214883542, validation accuracy:0.7216666666666667\n",
            "epoch:3, train loss:0.8051044689493412, train accuracy:0.7369629629629629, validation loss:0.7445593705986882, validation accuracy:0.7556666666666667\n",
            "epoch:4, train loss:0.7037543162315352, train accuracy:0.762537037037037, validation loss:0.6733924002937796, validation accuracy:0.77\n",
            "epoch:5, train loss:0.6455779807046045, train accuracy:0.7802777777777777, validation loss:0.6276727459673253, validation accuracy:0.7865\n",
            "epoch:6, train loss:0.6082490659970148, train accuracy:0.7935925925925926, validation loss:0.5907470866960035, validation accuracy:0.8023333333333333\n",
            "epoch:7, train loss:0.5815000300259521, train accuracy:0.8012407407407407, validation loss:0.5684417154335438, validation accuracy:0.808\n",
            "epoch:8, train loss:0.5620161354698011, train accuracy:0.8076111111111111, validation loss:0.5528903199959254, validation accuracy:0.8143333333333334\n",
            "epoch:9, train loss:0.5469450216330921, train accuracy:0.8134814814814815, validation loss:0.5389484933475537, validation accuracy:0.8193333333333334\n",
            "epoch:10, train loss:0.5347498060194591, train accuracy:0.8170740740740741, validation loss:0.5273216910453198, validation accuracy:0.8235\n"
          ]
        },
        {
          "data": {
            "text/html": [
              "Waiting for W&B process to finish... <strong style=\"color:green\">(success).</strong>"
            ],
            "text/plain": [
              "<IPython.core.display.HTML object>"
            ]
          },
          "metadata": {},
          "output_type": "display_data"
        },
        {
          "data": {
            "application/vnd.jupyter.widget-view+json": {
              "model_id": "bdfd2769da79478a9a49456bbd3e9dc4",
              "version_major": 2,
              "version_minor": 0
            },
            "text/plain": [
              "VBox(children=(Label(value='0.001 MB of 0.001 MB uploaded (0.000 MB deduped)\\r'), FloatProgress(value=1.0, max…"
            ]
          },
          "metadata": {},
          "output_type": "display_data"
        },
        {
          "data": {
            "text/html": [
              "<style>\n",
              "    table.wandb td:nth-child(1) { padding: 0 10px; text-align: left ; width: auto;} td:nth-child(2) {text-align: left ; width: 100%}\n",
              "    .wandb-row { display: flex; flex-direction: row; flex-wrap: wrap; justify-content: flex-start; width: 100% }\n",
              "    .wandb-col { display: flex; flex-direction: column; flex-basis: 100%; flex: 1; padding: 10px; }\n",
              "    </style>\n",
              "<div class=\"wandb-row\"><div class=\"wandb-col\"><h3>Run history:</h3><br/><table class=\"wandb\"><tr><td>train accuracy</td><td>▁▆▇▇▇█████</td></tr><tr><td>train loss</td><td>█▄▂▂▂▁▁▁▁▁</td></tr><tr><td>validation accuracy</td><td>▁▄▅▆▇▇▇███</td></tr><tr><td>validation loss</td><td>█▄▃▂▂▂▁▁▁▁</td></tr></table><br/></div><div class=\"wandb-col\"><h3>Run summary:</h3><br/><table class=\"wandb\"><tr><td>train accuracy</td><td>0.81707</td></tr><tr><td>train loss</td><td>0.53475</td></tr><tr><td>validation accuracy</td><td>0.8235</td></tr><tr><td>validation loss</td><td>0.52732</td></tr></table><br/></div></div>"
            ],
            "text/plain": [
              "<IPython.core.display.HTML object>"
            ]
          },
          "metadata": {},
          "output_type": "display_data"
        },
        {
          "data": {
            "text/html": [
              " View run <strong style=\"color:#cdcd00\">generous-sweep-53</strong> at: <a href='https://wandb.ai/cs22m019/DL%20Final%20Assignment%201/runs/spainrg6' target=\"_blank\">https://wandb.ai/cs22m019/DL%20Final%20Assignment%201/runs/spainrg6</a><br/>Synced 6 W&B file(s), 0 media file(s), 0 artifact file(s) and 0 other file(s)"
            ],
            "text/plain": [
              "<IPython.core.display.HTML object>"
            ]
          },
          "metadata": {},
          "output_type": "display_data"
        },
        {
          "data": {
            "text/html": [
              "Find logs at: <code>.\\wandb\\run-20230310_030121-spainrg6\\logs</code>"
            ],
            "text/plain": [
              "<IPython.core.display.HTML object>"
            ]
          },
          "metadata": {},
          "output_type": "display_data"
        },
        {
          "name": "stderr",
          "output_type": "stream",
          "text": [
            "\u001b[34m\u001b[1mwandb\u001b[0m: Agent Starting Run: nkxyihe3 with config:\n",
            "\u001b[34m\u001b[1mwandb\u001b[0m: \tactivation: sigmoid\n",
            "\u001b[34m\u001b[1mwandb\u001b[0m: \tbatch_size: 64\n",
            "\u001b[34m\u001b[1mwandb\u001b[0m: \tepochs: 5\n",
            "\u001b[34m\u001b[1mwandb\u001b[0m: \tlearning_rate: 0.0001\n",
            "\u001b[34m\u001b[1mwandb\u001b[0m: \tnumber_of_hidden_layer: 5\n",
            "\u001b[34m\u001b[1mwandb\u001b[0m: \toptimizer: sgd\n",
            "\u001b[34m\u001b[1mwandb\u001b[0m: \tsize_of_hidden_layer: 128\n",
            "\u001b[34m\u001b[1mwandb\u001b[0m: \tweight_decay: 0\n",
            "\u001b[34m\u001b[1mwandb\u001b[0m: \tweight_initialization: Xavier\n"
          ]
        },
        {
          "data": {
            "text/html": [
              "Tracking run with wandb version 0.13.11"
            ],
            "text/plain": [
              "<IPython.core.display.HTML object>"
            ]
          },
          "metadata": {},
          "output_type": "display_data"
        },
        {
          "data": {
            "text/html": [
              "Run data is saved locally in <code>C:\\Users\\DELL\\Desktop\\wandb\\run-20230310_030250-nkxyihe3</code>"
            ],
            "text/plain": [
              "<IPython.core.display.HTML object>"
            ]
          },
          "metadata": {},
          "output_type": "display_data"
        },
        {
          "data": {
            "text/html": [
              "Syncing run <strong><a href='https://wandb.ai/cs22m019/DL%20Final%20Assignment%201/runs/nkxyihe3' target=\"_blank\">curious-sweep-54</a></strong> to <a href='https://wandb.ai/cs22m019/DL%20Final%20Assignment%201' target=\"_blank\">Weights & Biases</a> (<a href='https://wandb.me/run' target=\"_blank\">docs</a>)<br/>Sweep page: <a href='https://wandb.ai/cs22m019/DL%20Final%20Assignment%201/sweeps/eayjxkwm' target=\"_blank\">https://wandb.ai/cs22m019/DL%20Final%20Assignment%201/sweeps/eayjxkwm</a>"
            ],
            "text/plain": [
              "<IPython.core.display.HTML object>"
            ]
          },
          "metadata": {},
          "output_type": "display_data"
        },
        {
          "data": {
            "text/html": [
              " View project at <a href='https://wandb.ai/cs22m019/DL%20Final%20Assignment%201' target=\"_blank\">https://wandb.ai/cs22m019/DL%20Final%20Assignment%201</a>"
            ],
            "text/plain": [
              "<IPython.core.display.HTML object>"
            ]
          },
          "metadata": {},
          "output_type": "display_data"
        },
        {
          "data": {
            "text/html": [
              " View sweep at <a href='https://wandb.ai/cs22m019/DL%20Final%20Assignment%201/sweeps/eayjxkwm' target=\"_blank\">https://wandb.ai/cs22m019/DL%20Final%20Assignment%201/sweeps/eayjxkwm</a>"
            ],
            "text/plain": [
              "<IPython.core.display.HTML object>"
            ]
          },
          "metadata": {},
          "output_type": "display_data"
        },
        {
          "data": {
            "text/html": [
              " View run at <a href='https://wandb.ai/cs22m019/DL%20Final%20Assignment%201/runs/nkxyihe3' target=\"_blank\">https://wandb.ai/cs22m019/DL%20Final%20Assignment%201/runs/nkxyihe3</a>"
            ],
            "text/plain": [
              "<IPython.core.display.HTML object>"
            ]
          },
          "metadata": {},
          "output_type": "display_data"
        },
        {
          "name": "stdout",
          "output_type": "stream",
          "text": [
            "epoch:1, train loss:2.5182470599387607, train accuracy:0.09916666666666667, validation loss:2.5017821041898674, validation accuracy:0.1075\n",
            "epoch:2, train loss:2.5159024222699635, train accuracy:0.09916666666666667, validation loss:2.499732091502128, validation accuracy:0.1075\n",
            "epoch:3, train loss:2.5137829059071524, train accuracy:0.09916666666666667, validation loss:2.497707460600966, validation accuracy:0.1075\n",
            "epoch:4, train loss:2.5116592452719995, train accuracy:0.09916666666666667, validation loss:2.4955770861763726, validation accuracy:0.1075\n",
            "epoch:5, train loss:2.5095256759322657, train accuracy:0.09916666666666667, validation loss:2.4935883630497506, validation accuracy:0.1075\n"
          ]
        },
        {
          "data": {
            "text/html": [
              "Waiting for W&B process to finish... <strong style=\"color:green\">(success).</strong>"
            ],
            "text/plain": [
              "<IPython.core.display.HTML object>"
            ]
          },
          "metadata": {},
          "output_type": "display_data"
        },
        {
          "data": {
            "application/vnd.jupyter.widget-view+json": {
              "model_id": "b765bccf37a14cba863a505054f3aecd",
              "version_major": 2,
              "version_minor": 0
            },
            "text/plain": [
              "VBox(children=(Label(value='0.001 MB of 0.001 MB uploaded (0.000 MB deduped)\\r'), FloatProgress(value=1.0, max…"
            ]
          },
          "metadata": {},
          "output_type": "display_data"
        },
        {
          "data": {
            "text/html": [
              "<style>\n",
              "    table.wandb td:nth-child(1) { padding: 0 10px; text-align: left ; width: auto;} td:nth-child(2) {text-align: left ; width: 100%}\n",
              "    .wandb-row { display: flex; flex-direction: row; flex-wrap: wrap; justify-content: flex-start; width: 100% }\n",
              "    .wandb-col { display: flex; flex-direction: column; flex-basis: 100%; flex: 1; padding: 10px; }\n",
              "    </style>\n",
              "<div class=\"wandb-row\"><div class=\"wandb-col\"><h3>Run history:</h3><br/><table class=\"wandb\"><tr><td>train accuracy</td><td>▁▁▁▁▁</td></tr><tr><td>train loss</td><td>█▆▄▃▁</td></tr><tr><td>validation accuracy</td><td>▁▁▁▁▁</td></tr><tr><td>validation loss</td><td>█▆▅▃▁</td></tr></table><br/></div><div class=\"wandb-col\"><h3>Run summary:</h3><br/><table class=\"wandb\"><tr><td>train accuracy</td><td>0.09917</td></tr><tr><td>train loss</td><td>2.50953</td></tr><tr><td>validation accuracy</td><td>0.1075</td></tr><tr><td>validation loss</td><td>2.49359</td></tr></table><br/></div></div>"
            ],
            "text/plain": [
              "<IPython.core.display.HTML object>"
            ]
          },
          "metadata": {},
          "output_type": "display_data"
        },
        {
          "data": {
            "text/html": [
              " View run <strong style=\"color:#cdcd00\">curious-sweep-54</strong> at: <a href='https://wandb.ai/cs22m019/DL%20Final%20Assignment%201/runs/nkxyihe3' target=\"_blank\">https://wandb.ai/cs22m019/DL%20Final%20Assignment%201/runs/nkxyihe3</a><br/>Synced 6 W&B file(s), 0 media file(s), 0 artifact file(s) and 0 other file(s)"
            ],
            "text/plain": [
              "<IPython.core.display.HTML object>"
            ]
          },
          "metadata": {},
          "output_type": "display_data"
        },
        {
          "data": {
            "text/html": [
              "Find logs at: <code>.\\wandb\\run-20230310_030250-nkxyihe3\\logs</code>"
            ],
            "text/plain": [
              "<IPython.core.display.HTML object>"
            ]
          },
          "metadata": {},
          "output_type": "display_data"
        },
        {
          "name": "stderr",
          "output_type": "stream",
          "text": [
            "\u001b[34m\u001b[1mwandb\u001b[0m: Agent Starting Run: xjem4row with config:\n",
            "\u001b[34m\u001b[1mwandb\u001b[0m: \tactivation: tanh\n",
            "\u001b[34m\u001b[1mwandb\u001b[0m: \tbatch_size: 16\n",
            "\u001b[34m\u001b[1mwandb\u001b[0m: \tepochs: 10\n",
            "\u001b[34m\u001b[1mwandb\u001b[0m: \tlearning_rate: 0.001\n",
            "\u001b[34m\u001b[1mwandb\u001b[0m: \tnumber_of_hidden_layer: 5\n",
            "\u001b[34m\u001b[1mwandb\u001b[0m: \toptimizer: adam\n",
            "\u001b[34m\u001b[1mwandb\u001b[0m: \tsize_of_hidden_layer: 64\n",
            "\u001b[34m\u001b[1mwandb\u001b[0m: \tweight_decay: 0.0005\n",
            "\u001b[34m\u001b[1mwandb\u001b[0m: \tweight_initialization: random\n"
          ]
        },
        {
          "data": {
            "text/html": [
              "Tracking run with wandb version 0.13.11"
            ],
            "text/plain": [
              "<IPython.core.display.HTML object>"
            ]
          },
          "metadata": {},
          "output_type": "display_data"
        },
        {
          "data": {
            "text/html": [
              "Run data is saved locally in <code>C:\\Users\\DELL\\Desktop\\wandb\\run-20230310_030529-xjem4row</code>"
            ],
            "text/plain": [
              "<IPython.core.display.HTML object>"
            ]
          },
          "metadata": {},
          "output_type": "display_data"
        },
        {
          "data": {
            "text/html": [
              "Syncing run <strong><a href='https://wandb.ai/cs22m019/DL%20Final%20Assignment%201/runs/xjem4row' target=\"_blank\">driven-sweep-55</a></strong> to <a href='https://wandb.ai/cs22m019/DL%20Final%20Assignment%201' target=\"_blank\">Weights & Biases</a> (<a href='https://wandb.me/run' target=\"_blank\">docs</a>)<br/>Sweep page: <a href='https://wandb.ai/cs22m019/DL%20Final%20Assignment%201/sweeps/eayjxkwm' target=\"_blank\">https://wandb.ai/cs22m019/DL%20Final%20Assignment%201/sweeps/eayjxkwm</a>"
            ],
            "text/plain": [
              "<IPython.core.display.HTML object>"
            ]
          },
          "metadata": {},
          "output_type": "display_data"
        },
        {
          "data": {
            "text/html": [
              " View project at <a href='https://wandb.ai/cs22m019/DL%20Final%20Assignment%201' target=\"_blank\">https://wandb.ai/cs22m019/DL%20Final%20Assignment%201</a>"
            ],
            "text/plain": [
              "<IPython.core.display.HTML object>"
            ]
          },
          "metadata": {},
          "output_type": "display_data"
        },
        {
          "data": {
            "text/html": [
              " View sweep at <a href='https://wandb.ai/cs22m019/DL%20Final%20Assignment%201/sweeps/eayjxkwm' target=\"_blank\">https://wandb.ai/cs22m019/DL%20Final%20Assignment%201/sweeps/eayjxkwm</a>"
            ],
            "text/plain": [
              "<IPython.core.display.HTML object>"
            ]
          },
          "metadata": {},
          "output_type": "display_data"
        },
        {
          "data": {
            "text/html": [
              " View run at <a href='https://wandb.ai/cs22m019/DL%20Final%20Assignment%201/runs/xjem4row' target=\"_blank\">https://wandb.ai/cs22m019/DL%20Final%20Assignment%201/runs/xjem4row</a>"
            ],
            "text/plain": [
              "<IPython.core.display.HTML object>"
            ]
          },
          "metadata": {},
          "output_type": "display_data"
        },
        {
          "name": "stdout",
          "output_type": "stream",
          "text": [
            "epoch:1, train loss:2.347657330873966, train accuracy:0.38775925925925925, validation loss:1.5080252139990633, validation accuracy:0.5296666666666666\n",
            "epoch:2, train loss:1.2240339239024811, train accuracy:0.5976851851851852, validation loss:1.1192261947231272, validation accuracy:0.6255\n",
            "epoch:3, train loss:0.9794248288377243, train accuracy:0.6682407407407407, validation loss:0.9500160084835586, validation accuracy:0.6751666666666667\n",
            "epoch:4, train loss:0.8670783756218997, train accuracy:0.7047962962962963, validation loss:0.8555294441414777, validation accuracy:0.703\n",
            "epoch:5, train loss:0.7999305751134134, train accuracy:0.7272592592592593, validation loss:0.8030098932067326, validation accuracy:0.7238333333333333\n",
            "epoch:6, train loss:0.7526100231139937, train accuracy:0.7432037037037037, validation loss:0.7636034548221105, validation accuracy:0.7333333333333333\n",
            "epoch:7, train loss:0.7177263479501275, train accuracy:0.7551296296296296, validation loss:0.7400898253129322, validation accuracy:0.742\n",
            "epoch:8, train loss:0.6899938959267233, train accuracy:0.764, validation loss:0.7174996673680316, validation accuracy:0.7511666666666666\n",
            "epoch:9, train loss:0.6680787443632359, train accuracy:0.771462962962963, validation loss:0.7021846153231682, validation accuracy:0.7548333333333334\n",
            "epoch:10, train loss:0.6497107036312687, train accuracy:0.7785185185185185, validation loss:0.6884559157892481, validation accuracy:0.7608333333333334\n"
          ]
        },
        {
          "data": {
            "text/html": [
              "Waiting for W&B process to finish... <strong style=\"color:green\">(success).</strong>"
            ],
            "text/plain": [
              "<IPython.core.display.HTML object>"
            ]
          },
          "metadata": {},
          "output_type": "display_data"
        },
        {
          "data": {
            "application/vnd.jupyter.widget-view+json": {
              "model_id": "d396e23a7afd44a2baaa2c4314cdc0cf",
              "version_major": 2,
              "version_minor": 0
            },
            "text/plain": [
              "VBox(children=(Label(value='0.001 MB of 0.001 MB uploaded (0.000 MB deduped)\\r'), FloatProgress(value=1.0, max…"
            ]
          },
          "metadata": {},
          "output_type": "display_data"
        },
        {
          "data": {
            "text/html": [
              "<style>\n",
              "    table.wandb td:nth-child(1) { padding: 0 10px; text-align: left ; width: auto;} td:nth-child(2) {text-align: left ; width: 100%}\n",
              "    .wandb-row { display: flex; flex-direction: row; flex-wrap: wrap; justify-content: flex-start; width: 100% }\n",
              "    .wandb-col { display: flex; flex-direction: column; flex-basis: 100%; flex: 1; padding: 10px; }\n",
              "    </style>\n",
              "<div class=\"wandb-row\"><div class=\"wandb-col\"><h3>Run history:</h3><br/><table class=\"wandb\"><tr><td>train accuracy</td><td>▁▅▆▇▇▇████</td></tr><tr><td>train loss</td><td>█▃▂▂▂▁▁▁▁▁</td></tr><tr><td>validation accuracy</td><td>▁▄▅▆▇▇▇███</td></tr><tr><td>validation loss</td><td>█▅▃▂▂▂▁▁▁▁</td></tr></table><br/></div><div class=\"wandb-col\"><h3>Run summary:</h3><br/><table class=\"wandb\"><tr><td>train accuracy</td><td>0.77852</td></tr><tr><td>train loss</td><td>0.64971</td></tr><tr><td>validation accuracy</td><td>0.76083</td></tr><tr><td>validation loss</td><td>0.68846</td></tr></table><br/></div></div>"
            ],
            "text/plain": [
              "<IPython.core.display.HTML object>"
            ]
          },
          "metadata": {},
          "output_type": "display_data"
        },
        {
          "data": {
            "text/html": [
              " View run <strong style=\"color:#cdcd00\">driven-sweep-55</strong> at: <a href='https://wandb.ai/cs22m019/DL%20Final%20Assignment%201/runs/xjem4row' target=\"_blank\">https://wandb.ai/cs22m019/DL%20Final%20Assignment%201/runs/xjem4row</a><br/>Synced 6 W&B file(s), 0 media file(s), 0 artifact file(s) and 0 other file(s)"
            ],
            "text/plain": [
              "<IPython.core.display.HTML object>"
            ]
          },
          "metadata": {},
          "output_type": "display_data"
        },
        {
          "data": {
            "text/html": [
              "Find logs at: <code>.\\wandb\\run-20230310_030529-xjem4row\\logs</code>"
            ],
            "text/plain": [
              "<IPython.core.display.HTML object>"
            ]
          },
          "metadata": {},
          "output_type": "display_data"
        },
        {
          "name": "stderr",
          "output_type": "stream",
          "text": [
            "\u001b[34m\u001b[1mwandb\u001b[0m: Sweep Agent: Waiting for job.\n",
            "\u001b[34m\u001b[1mwandb\u001b[0m: Job received.\n",
            "\u001b[34m\u001b[1mwandb\u001b[0m: Agent Starting Run: 5a6ayofs with config:\n",
            "\u001b[34m\u001b[1mwandb\u001b[0m: \tactivation: tanh\n",
            "\u001b[34m\u001b[1mwandb\u001b[0m: \tbatch_size: 64\n",
            "\u001b[34m\u001b[1mwandb\u001b[0m: \tepochs: 10\n",
            "\u001b[34m\u001b[1mwandb\u001b[0m: \tlearning_rate: 0.001\n",
            "\u001b[34m\u001b[1mwandb\u001b[0m: \tnumber_of_hidden_layer: 4\n",
            "\u001b[34m\u001b[1mwandb\u001b[0m: \toptimizer: nestrov\n",
            "\u001b[34m\u001b[1mwandb\u001b[0m: \tsize_of_hidden_layer: 128\n",
            "\u001b[34m\u001b[1mwandb\u001b[0m: \tweight_decay: 0.5\n",
            "\u001b[34m\u001b[1mwandb\u001b[0m: \tweight_initialization: random\n"
          ]
        },
        {
          "data": {
            "text/html": [
              "Tracking run with wandb version 0.13.11"
            ],
            "text/plain": [
              "<IPython.core.display.HTML object>"
            ]
          },
          "metadata": {},
          "output_type": "display_data"
        },
        {
          "data": {
            "text/html": [
              "Run data is saved locally in <code>C:\\Users\\DELL\\Desktop\\wandb\\run-20230310_030808-5a6ayofs</code>"
            ],
            "text/plain": [
              "<IPython.core.display.HTML object>"
            ]
          },
          "metadata": {},
          "output_type": "display_data"
        },
        {
          "data": {
            "text/html": [
              "Syncing run <strong><a href='https://wandb.ai/cs22m019/DL%20Final%20Assignment%201/runs/5a6ayofs' target=\"_blank\">super-sweep-56</a></strong> to <a href='https://wandb.ai/cs22m019/DL%20Final%20Assignment%201' target=\"_blank\">Weights & Biases</a> (<a href='https://wandb.me/run' target=\"_blank\">docs</a>)<br/>Sweep page: <a href='https://wandb.ai/cs22m019/DL%20Final%20Assignment%201/sweeps/eayjxkwm' target=\"_blank\">https://wandb.ai/cs22m019/DL%20Final%20Assignment%201/sweeps/eayjxkwm</a>"
            ],
            "text/plain": [
              "<IPython.core.display.HTML object>"
            ]
          },
          "metadata": {},
          "output_type": "display_data"
        },
        {
          "data": {
            "text/html": [
              " View project at <a href='https://wandb.ai/cs22m019/DL%20Final%20Assignment%201' target=\"_blank\">https://wandb.ai/cs22m019/DL%20Final%20Assignment%201</a>"
            ],
            "text/plain": [
              "<IPython.core.display.HTML object>"
            ]
          },
          "metadata": {},
          "output_type": "display_data"
        },
        {
          "data": {
            "text/html": [
              " View sweep at <a href='https://wandb.ai/cs22m019/DL%20Final%20Assignment%201/sweeps/eayjxkwm' target=\"_blank\">https://wandb.ai/cs22m019/DL%20Final%20Assignment%201/sweeps/eayjxkwm</a>"
            ],
            "text/plain": [
              "<IPython.core.display.HTML object>"
            ]
          },
          "metadata": {},
          "output_type": "display_data"
        },
        {
          "data": {
            "text/html": [
              " View run at <a href='https://wandb.ai/cs22m019/DL%20Final%20Assignment%201/runs/5a6ayofs' target=\"_blank\">https://wandb.ai/cs22m019/DL%20Final%20Assignment%201/runs/5a6ayofs</a>"
            ],
            "text/plain": [
              "<IPython.core.display.HTML object>"
            ]
          },
          "metadata": {},
          "output_type": "display_data"
        },
        {
          "name": "stdout",
          "output_type": "stream",
          "text": [
            "epoch:1, train loss:6.280001687396365, train accuracy:0.2462777777777778, validation loss:4.8764138387591505, validation accuracy:0.36566666666666664\n",
            "epoch:2, train loss:4.31737089292088, train accuracy:0.43342592592592594, validation loss:4.060514100828444, validation accuracy:0.46016666666666667\n",
            "epoch:3, train loss:3.756861050119973, train accuracy:0.5086666666666667, validation loss:3.7091357324075895, validation accuracy:0.5143333333333333\n",
            "epoch:4, train loss:3.4645416479570823, train accuracy:0.550537037037037, validation loss:3.4990357595071937, validation accuracy:0.5456666666666666\n",
            "epoch:5, train loss:3.2747659866733287, train accuracy:0.5792037037037037, validation loss:3.3562498661610904, validation accuracy:0.5618333333333333\n",
            "epoch:6, train loss:3.13924101447944, train accuracy:0.6007962962962963, validation loss:3.2503362735602943, validation accuracy:0.5795\n",
            "epoch:7, train loss:3.04051080701848, train accuracy:0.6170740740740741, validation loss:3.186352575913431, validation accuracy:0.5916666666666667\n",
            "epoch:8, train loss:2.9625026527043716, train accuracy:0.6297592592592592, validation loss:3.116586164348018, validation accuracy:0.6008333333333333\n",
            "epoch:9, train loss:2.8969767115245757, train accuracy:0.6406851851851851, validation loss:3.072826161619422, validation accuracy:0.6061666666666666\n",
            "epoch:10, train loss:2.843600599128097, train accuracy:0.6501666666666667, validation loss:3.032667219876852, validation accuracy:0.6153333333333333\n"
          ]
        },
        {
          "data": {
            "text/html": [
              "Waiting for W&B process to finish... <strong style=\"color:green\">(success).</strong>"
            ],
            "text/plain": [
              "<IPython.core.display.HTML object>"
            ]
          },
          "metadata": {},
          "output_type": "display_data"
        },
        {
          "data": {
            "application/vnd.jupyter.widget-view+json": {
              "model_id": "6bfff352a57946e7a7d607c000c38fd8",
              "version_major": 2,
              "version_minor": 0
            },
            "text/plain": [
              "VBox(children=(Label(value='0.001 MB of 0.001 MB uploaded (0.000 MB deduped)\\r'), FloatProgress(value=1.0, max…"
            ]
          },
          "metadata": {},
          "output_type": "display_data"
        },
        {
          "data": {
            "text/html": [
              "<style>\n",
              "    table.wandb td:nth-child(1) { padding: 0 10px; text-align: left ; width: auto;} td:nth-child(2) {text-align: left ; width: 100%}\n",
              "    .wandb-row { display: flex; flex-direction: row; flex-wrap: wrap; justify-content: flex-start; width: 100% }\n",
              "    .wandb-col { display: flex; flex-direction: column; flex-basis: 100%; flex: 1; padding: 10px; }\n",
              "    </style>\n",
              "<div class=\"wandb-row\"><div class=\"wandb-col\"><h3>Run history:</h3><br/><table class=\"wandb\"><tr><td>train accuracy</td><td>▁▄▆▆▇▇▇███</td></tr><tr><td>train loss</td><td>█▄▃▂▂▂▁▁▁▁</td></tr><tr><td>validation accuracy</td><td>▁▄▅▆▇▇▇███</td></tr><tr><td>validation loss</td><td>█▅▄▃▂▂▂▁▁▁</td></tr></table><br/></div><div class=\"wandb-col\"><h3>Run summary:</h3><br/><table class=\"wandb\"><tr><td>train accuracy</td><td>0.65017</td></tr><tr><td>train loss</td><td>2.8436</td></tr><tr><td>validation accuracy</td><td>0.61533</td></tr><tr><td>validation loss</td><td>3.03267</td></tr></table><br/></div></div>"
            ],
            "text/plain": [
              "<IPython.core.display.HTML object>"
            ]
          },
          "metadata": {},
          "output_type": "display_data"
        },
        {
          "data": {
            "text/html": [
              " View run <strong style=\"color:#cdcd00\">super-sweep-56</strong> at: <a href='https://wandb.ai/cs22m019/DL%20Final%20Assignment%201/runs/5a6ayofs' target=\"_blank\">https://wandb.ai/cs22m019/DL%20Final%20Assignment%201/runs/5a6ayofs</a><br/>Synced 6 W&B file(s), 0 media file(s), 0 artifact file(s) and 0 other file(s)"
            ],
            "text/plain": [
              "<IPython.core.display.HTML object>"
            ]
          },
          "metadata": {},
          "output_type": "display_data"
        },
        {
          "data": {
            "text/html": [
              "Find logs at: <code>.\\wandb\\run-20230310_030808-5a6ayofs\\logs</code>"
            ],
            "text/plain": [
              "<IPython.core.display.HTML object>"
            ]
          },
          "metadata": {},
          "output_type": "display_data"
        },
        {
          "name": "stderr",
          "output_type": "stream",
          "text": [
            "\u001b[34m\u001b[1mwandb\u001b[0m: Agent Starting Run: lxh0ww6y with config:\n",
            "\u001b[34m\u001b[1mwandb\u001b[0m: \tactivation: sigmoid\n",
            "\u001b[34m\u001b[1mwandb\u001b[0m: \tbatch_size: 64\n",
            "\u001b[34m\u001b[1mwandb\u001b[0m: \tepochs: 10\n",
            "\u001b[34m\u001b[1mwandb\u001b[0m: \tlearning_rate: 0.0001\n",
            "\u001b[34m\u001b[1mwandb\u001b[0m: \tnumber_of_hidden_layer: 5\n",
            "\u001b[34m\u001b[1mwandb\u001b[0m: \toptimizer: nestrov\n",
            "\u001b[34m\u001b[1mwandb\u001b[0m: \tsize_of_hidden_layer: 32\n",
            "\u001b[34m\u001b[1mwandb\u001b[0m: \tweight_decay: 0.5\n",
            "\u001b[34m\u001b[1mwandb\u001b[0m: \tweight_initialization: Xavier\n"
          ]
        },
        {
          "data": {
            "text/html": [
              "Tracking run with wandb version 0.13.11"
            ],
            "text/plain": [
              "<IPython.core.display.HTML object>"
            ]
          },
          "metadata": {},
          "output_type": "display_data"
        },
        {
          "data": {
            "text/html": [
              "Run data is saved locally in <code>C:\\Users\\DELL\\Desktop\\wandb\\run-20230310_031429-lxh0ww6y</code>"
            ],
            "text/plain": [
              "<IPython.core.display.HTML object>"
            ]
          },
          "metadata": {},
          "output_type": "display_data"
        },
        {
          "data": {
            "text/html": [
              "Syncing run <strong><a href='https://wandb.ai/cs22m019/DL%20Final%20Assignment%201/runs/lxh0ww6y' target=\"_blank\">laced-sweep-57</a></strong> to <a href='https://wandb.ai/cs22m019/DL%20Final%20Assignment%201' target=\"_blank\">Weights & Biases</a> (<a href='https://wandb.me/run' target=\"_blank\">docs</a>)<br/>Sweep page: <a href='https://wandb.ai/cs22m019/DL%20Final%20Assignment%201/sweeps/eayjxkwm' target=\"_blank\">https://wandb.ai/cs22m019/DL%20Final%20Assignment%201/sweeps/eayjxkwm</a>"
            ],
            "text/plain": [
              "<IPython.core.display.HTML object>"
            ]
          },
          "metadata": {},
          "output_type": "display_data"
        },
        {
          "data": {
            "text/html": [
              " View project at <a href='https://wandb.ai/cs22m019/DL%20Final%20Assignment%201' target=\"_blank\">https://wandb.ai/cs22m019/DL%20Final%20Assignment%201</a>"
            ],
            "text/plain": [
              "<IPython.core.display.HTML object>"
            ]
          },
          "metadata": {},
          "output_type": "display_data"
        },
        {
          "data": {
            "text/html": [
              " View sweep at <a href='https://wandb.ai/cs22m019/DL%20Final%20Assignment%201/sweeps/eayjxkwm' target=\"_blank\">https://wandb.ai/cs22m019/DL%20Final%20Assignment%201/sweeps/eayjxkwm</a>"
            ],
            "text/plain": [
              "<IPython.core.display.HTML object>"
            ]
          },
          "metadata": {},
          "output_type": "display_data"
        },
        {
          "data": {
            "text/html": [
              " View run at <a href='https://wandb.ai/cs22m019/DL%20Final%20Assignment%201/runs/lxh0ww6y' target=\"_blank\">https://wandb.ai/cs22m019/DL%20Final%20Assignment%201/runs/lxh0ww6y</a>"
            ],
            "text/plain": [
              "<IPython.core.display.HTML object>"
            ]
          },
          "metadata": {},
          "output_type": "display_data"
        },
        {
          "name": "stdout",
          "output_type": "stream",
          "text": [
            "epoch:1, train loss:2.6174840875392946, train accuracy:0.09942592592592593, validation loss:2.5752971673838876, validation accuracy:0.10516666666666667\n",
            "epoch:2, train loss:2.55608105420746, train accuracy:0.09942592592592593, validation loss:2.522245218723309, validation accuracy:0.10516666666666667\n",
            "epoch:3, train loss:2.508223045118707, train accuracy:0.09942592592592593, validation loss:2.4808259883853196, validation accuracy:0.10516666666666667\n",
            "epoch:4, train loss:2.470622175235105, train accuracy:0.09942592592592593, validation loss:2.448225506904744, validation accuracy:0.10516666666666667\n",
            "epoch:5, train loss:2.4408542778237616, train accuracy:0.09942592592592593, validation loss:2.422379701440955, validation accuracy:0.10516666666666667\n",
            "epoch:6, train loss:2.417115093378932, train accuracy:0.09942592592592593, validation loss:2.401758226506291, validation accuracy:0.10516666666666667\n",
            "epoch:7, train loss:2.3980506346163604, train accuracy:0.09942592592592593, validation loss:2.3851850018888756, validation accuracy:0.10516666666666667\n",
            "epoch:8, train loss:2.382650944367252, train accuracy:0.09942592592592593, validation loss:2.3718109104899567, validation accuracy:0.10516666666666667\n",
            "epoch:9, train loss:2.370150016595328, train accuracy:0.09942592592592593, validation loss:2.36096325342373, validation accuracy:0.10516666666666667\n",
            "epoch:10, train loss:2.3599553334570746, train accuracy:0.09942592592592593, validation loss:2.352131374548362, validation accuracy:0.10516666666666667\n"
          ]
        },
        {
          "data": {
            "text/html": [
              "Waiting for W&B process to finish... <strong style=\"color:green\">(success).</strong>"
            ],
            "text/plain": [
              "<IPython.core.display.HTML object>"
            ]
          },
          "metadata": {},
          "output_type": "display_data"
        },
        {
          "data": {
            "application/vnd.jupyter.widget-view+json": {
              "model_id": "f8b4ef9e3a3a418f83ad718fb4c1564b",
              "version_major": 2,
              "version_minor": 0
            },
            "text/plain": [
              "VBox(children=(Label(value='0.001 MB of 0.001 MB uploaded (0.000 MB deduped)\\r'), FloatProgress(value=1.0, max…"
            ]
          },
          "metadata": {},
          "output_type": "display_data"
        },
        {
          "data": {
            "text/html": [
              "<style>\n",
              "    table.wandb td:nth-child(1) { padding: 0 10px; text-align: left ; width: auto;} td:nth-child(2) {text-align: left ; width: 100%}\n",
              "    .wandb-row { display: flex; flex-direction: row; flex-wrap: wrap; justify-content: flex-start; width: 100% }\n",
              "    .wandb-col { display: flex; flex-direction: column; flex-basis: 100%; flex: 1; padding: 10px; }\n",
              "    </style>\n",
              "<div class=\"wandb-row\"><div class=\"wandb-col\"><h3>Run history:</h3><br/><table class=\"wandb\"><tr><td>train accuracy</td><td>▁▁▁▁▁▁▁▁▁▁</td></tr><tr><td>train loss</td><td>█▆▅▄▃▃▂▂▁▁</td></tr><tr><td>validation accuracy</td><td>▁▁▁▁▁▁▁▁▁▁</td></tr><tr><td>validation loss</td><td>█▆▅▄▃▃▂▂▁▁</td></tr></table><br/></div><div class=\"wandb-col\"><h3>Run summary:</h3><br/><table class=\"wandb\"><tr><td>train accuracy</td><td>0.09943</td></tr><tr><td>train loss</td><td>2.35996</td></tr><tr><td>validation accuracy</td><td>0.10517</td></tr><tr><td>validation loss</td><td>2.35213</td></tr></table><br/></div></div>"
            ],
            "text/plain": [
              "<IPython.core.display.HTML object>"
            ]
          },
          "metadata": {},
          "output_type": "display_data"
        },
        {
          "data": {
            "text/html": [
              " View run <strong style=\"color:#cdcd00\">laced-sweep-57</strong> at: <a href='https://wandb.ai/cs22m019/DL%20Final%20Assignment%201/runs/lxh0ww6y' target=\"_blank\">https://wandb.ai/cs22m019/DL%20Final%20Assignment%201/runs/lxh0ww6y</a><br/>Synced 6 W&B file(s), 0 media file(s), 0 artifact file(s) and 0 other file(s)"
            ],
            "text/plain": [
              "<IPython.core.display.HTML object>"
            ]
          },
          "metadata": {},
          "output_type": "display_data"
        },
        {
          "data": {
            "text/html": [
              "Find logs at: <code>.\\wandb\\run-20230310_031429-lxh0ww6y\\logs</code>"
            ],
            "text/plain": [
              "<IPython.core.display.HTML object>"
            ]
          },
          "metadata": {},
          "output_type": "display_data"
        },
        {
          "name": "stderr",
          "output_type": "stream",
          "text": [
            "\u001b[34m\u001b[1mwandb\u001b[0m: Agent Starting Run: rpv6rmfe with config:\n",
            "\u001b[34m\u001b[1mwandb\u001b[0m: \tactivation: tanh\n",
            "\u001b[34m\u001b[1mwandb\u001b[0m: \tbatch_size: 64\n",
            "\u001b[34m\u001b[1mwandb\u001b[0m: \tepochs: 5\n",
            "\u001b[34m\u001b[1mwandb\u001b[0m: \tlearning_rate: 0.001\n",
            "\u001b[34m\u001b[1mwandb\u001b[0m: \tnumber_of_hidden_layer: 5\n",
            "\u001b[34m\u001b[1mwandb\u001b[0m: \toptimizer: momentum\n",
            "\u001b[34m\u001b[1mwandb\u001b[0m: \tsize_of_hidden_layer: 32\n",
            "\u001b[34m\u001b[1mwandb\u001b[0m: \tweight_decay: 0.0005\n",
            "\u001b[34m\u001b[1mwandb\u001b[0m: \tweight_initialization: Xavier\n"
          ]
        },
        {
          "data": {
            "text/html": [
              "Tracking run with wandb version 0.13.11"
            ],
            "text/plain": [
              "<IPython.core.display.HTML object>"
            ]
          },
          "metadata": {},
          "output_type": "display_data"
        },
        {
          "data": {
            "text/html": [
              "Run data is saved locally in <code>C:\\Users\\DELL\\Desktop\\wandb\\run-20230310_031653-rpv6rmfe</code>"
            ],
            "text/plain": [
              "<IPython.core.display.HTML object>"
            ]
          },
          "metadata": {},
          "output_type": "display_data"
        },
        {
          "data": {
            "text/html": [
              "Syncing run <strong><a href='https://wandb.ai/cs22m019/DL%20Final%20Assignment%201/runs/rpv6rmfe' target=\"_blank\">electric-sweep-58</a></strong> to <a href='https://wandb.ai/cs22m019/DL%20Final%20Assignment%201' target=\"_blank\">Weights & Biases</a> (<a href='https://wandb.me/run' target=\"_blank\">docs</a>)<br/>Sweep page: <a href='https://wandb.ai/cs22m019/DL%20Final%20Assignment%201/sweeps/eayjxkwm' target=\"_blank\">https://wandb.ai/cs22m019/DL%20Final%20Assignment%201/sweeps/eayjxkwm</a>"
            ],
            "text/plain": [
              "<IPython.core.display.HTML object>"
            ]
          },
          "metadata": {},
          "output_type": "display_data"
        },
        {
          "data": {
            "text/html": [
              " View project at <a href='https://wandb.ai/cs22m019/DL%20Final%20Assignment%201' target=\"_blank\">https://wandb.ai/cs22m019/DL%20Final%20Assignment%201</a>"
            ],
            "text/plain": [
              "<IPython.core.display.HTML object>"
            ]
          },
          "metadata": {},
          "output_type": "display_data"
        },
        {
          "data": {
            "text/html": [
              " View sweep at <a href='https://wandb.ai/cs22m019/DL%20Final%20Assignment%201/sweeps/eayjxkwm' target=\"_blank\">https://wandb.ai/cs22m019/DL%20Final%20Assignment%201/sweeps/eayjxkwm</a>"
            ],
            "text/plain": [
              "<IPython.core.display.HTML object>"
            ]
          },
          "metadata": {},
          "output_type": "display_data"
        },
        {
          "data": {
            "text/html": [
              " View run at <a href='https://wandb.ai/cs22m019/DL%20Final%20Assignment%201/runs/rpv6rmfe' target=\"_blank\">https://wandb.ai/cs22m019/DL%20Final%20Assignment%201/runs/rpv6rmfe</a>"
            ],
            "text/plain": [
              "<IPython.core.display.HTML object>"
            ]
          },
          "metadata": {},
          "output_type": "display_data"
        },
        {
          "name": "stdout",
          "output_type": "stream",
          "text": [
            "epoch:1, train loss:2.008434458888477, train accuracy:0.31475925925925924, validation loss:1.7762711819365393, validation accuracy:0.442\n",
            "epoch:2, train loss:1.6176383630136937, train accuracy:0.5136481481481482, validation loss:1.493867370014857, validation accuracy:0.5693333333333334\n",
            "epoch:3, train loss:1.3753283623853456, train accuracy:0.6175555555555555, validation loss:1.2877981568172596, validation accuracy:0.6443333333333333\n",
            "epoch:4, train loss:1.1958193146888567, train accuracy:0.6617037037037037, validation loss:1.1333884866087058, validation accuracy:0.6703333333333333\n",
            "epoch:5, train loss:1.0630639493818905, train accuracy:0.6810925925925926, validation loss:1.0200958652268224, validation accuracy:0.6875\n"
          ]
        },
        {
          "data": {
            "text/html": [
              "Waiting for W&B process to finish... <strong style=\"color:green\">(success).</strong>"
            ],
            "text/plain": [
              "<IPython.core.display.HTML object>"
            ]
          },
          "metadata": {},
          "output_type": "display_data"
        },
        {
          "data": {
            "application/vnd.jupyter.widget-view+json": {
              "model_id": "ef9a2c4659d4480385781d51775fd85a",
              "version_major": 2,
              "version_minor": 0
            },
            "text/plain": [
              "VBox(children=(Label(value='0.001 MB of 0.001 MB uploaded (0.000 MB deduped)\\r'), FloatProgress(value=1.0, max…"
            ]
          },
          "metadata": {},
          "output_type": "display_data"
        },
        {
          "data": {
            "text/html": [
              "<style>\n",
              "    table.wandb td:nth-child(1) { padding: 0 10px; text-align: left ; width: auto;} td:nth-child(2) {text-align: left ; width: 100%}\n",
              "    .wandb-row { display: flex; flex-direction: row; flex-wrap: wrap; justify-content: flex-start; width: 100% }\n",
              "    .wandb-col { display: flex; flex-direction: column; flex-basis: 100%; flex: 1; padding: 10px; }\n",
              "    </style>\n",
              "<div class=\"wandb-row\"><div class=\"wandb-col\"><h3>Run history:</h3><br/><table class=\"wandb\"><tr><td>train accuracy</td><td>▁▅▇██</td></tr><tr><td>train loss</td><td>█▅▃▂▁</td></tr><tr><td>validation accuracy</td><td>▁▅▇██</td></tr><tr><td>validation loss</td><td>█▅▃▂▁</td></tr></table><br/></div><div class=\"wandb-col\"><h3>Run summary:</h3><br/><table class=\"wandb\"><tr><td>train accuracy</td><td>0.68109</td></tr><tr><td>train loss</td><td>1.06306</td></tr><tr><td>validation accuracy</td><td>0.6875</td></tr><tr><td>validation loss</td><td>1.0201</td></tr></table><br/></div></div>"
            ],
            "text/plain": [
              "<IPython.core.display.HTML object>"
            ]
          },
          "metadata": {},
          "output_type": "display_data"
        },
        {
          "data": {
            "text/html": [
              " View run <strong style=\"color:#cdcd00\">electric-sweep-58</strong> at: <a href='https://wandb.ai/cs22m019/DL%20Final%20Assignment%201/runs/rpv6rmfe' target=\"_blank\">https://wandb.ai/cs22m019/DL%20Final%20Assignment%201/runs/rpv6rmfe</a><br/>Synced 6 W&B file(s), 0 media file(s), 0 artifact file(s) and 0 other file(s)"
            ],
            "text/plain": [
              "<IPython.core.display.HTML object>"
            ]
          },
          "metadata": {},
          "output_type": "display_data"
        },
        {
          "data": {
            "text/html": [
              "Find logs at: <code>.\\wandb\\run-20230310_031653-rpv6rmfe\\logs</code>"
            ],
            "text/plain": [
              "<IPython.core.display.HTML object>"
            ]
          },
          "metadata": {},
          "output_type": "display_data"
        },
        {
          "name": "stderr",
          "output_type": "stream",
          "text": [
            "\u001b[34m\u001b[1mwandb\u001b[0m: Agent Starting Run: 8jjka6zr with config:\n",
            "\u001b[34m\u001b[1mwandb\u001b[0m: \tactivation: ReLU\n",
            "\u001b[34m\u001b[1mwandb\u001b[0m: \tbatch_size: 32\n",
            "\u001b[34m\u001b[1mwandb\u001b[0m: \tepochs: 10\n",
            "\u001b[34m\u001b[1mwandb\u001b[0m: \tlearning_rate: 0.0001\n",
            "\u001b[34m\u001b[1mwandb\u001b[0m: \tnumber_of_hidden_layer: 4\n",
            "\u001b[34m\u001b[1mwandb\u001b[0m: \toptimizer: momentum\n",
            "\u001b[34m\u001b[1mwandb\u001b[0m: \tsize_of_hidden_layer: 64\n",
            "\u001b[34m\u001b[1mwandb\u001b[0m: \tweight_decay: 0\n",
            "\u001b[34m\u001b[1mwandb\u001b[0m: \tweight_initialization: random\n"
          ]
        },
        {
          "data": {
            "text/html": [
              "Tracking run with wandb version 0.13.11"
            ],
            "text/plain": [
              "<IPython.core.display.HTML object>"
            ]
          },
          "metadata": {},
          "output_type": "display_data"
        },
        {
          "data": {
            "text/html": [
              "Run data is saved locally in <code>C:\\Users\\DELL\\Desktop\\wandb\\run-20230310_031756-8jjka6zr</code>"
            ],
            "text/plain": [
              "<IPython.core.display.HTML object>"
            ]
          },
          "metadata": {},
          "output_type": "display_data"
        },
        {
          "data": {
            "text/html": [
              "Syncing run <strong><a href='https://wandb.ai/cs22m019/DL%20Final%20Assignment%201/runs/8jjka6zr' target=\"_blank\">elated-sweep-59</a></strong> to <a href='https://wandb.ai/cs22m019/DL%20Final%20Assignment%201' target=\"_blank\">Weights & Biases</a> (<a href='https://wandb.me/run' target=\"_blank\">docs</a>)<br/>Sweep page: <a href='https://wandb.ai/cs22m019/DL%20Final%20Assignment%201/sweeps/eayjxkwm' target=\"_blank\">https://wandb.ai/cs22m019/DL%20Final%20Assignment%201/sweeps/eayjxkwm</a>"
            ],
            "text/plain": [
              "<IPython.core.display.HTML object>"
            ]
          },
          "metadata": {},
          "output_type": "display_data"
        },
        {
          "data": {
            "text/html": [
              " View project at <a href='https://wandb.ai/cs22m019/DL%20Final%20Assignment%201' target=\"_blank\">https://wandb.ai/cs22m019/DL%20Final%20Assignment%201</a>"
            ],
            "text/plain": [
              "<IPython.core.display.HTML object>"
            ]
          },
          "metadata": {},
          "output_type": "display_data"
        },
        {
          "data": {
            "text/html": [
              " View sweep at <a href='https://wandb.ai/cs22m019/DL%20Final%20Assignment%201/sweeps/eayjxkwm' target=\"_blank\">https://wandb.ai/cs22m019/DL%20Final%20Assignment%201/sweeps/eayjxkwm</a>"
            ],
            "text/plain": [
              "<IPython.core.display.HTML object>"
            ]
          },
          "metadata": {},
          "output_type": "display_data"
        },
        {
          "data": {
            "text/html": [
              " View run at <a href='https://wandb.ai/cs22m019/DL%20Final%20Assignment%201/runs/8jjka6zr' target=\"_blank\">https://wandb.ai/cs22m019/DL%20Final%20Assignment%201/runs/8jjka6zr</a>"
            ],
            "text/plain": [
              "<IPython.core.display.HTML object>"
            ]
          },
          "metadata": {},
          "output_type": "display_data"
        },
        {
          "name": "stdout",
          "output_type": "stream",
          "text": [
            "epoch:1, train loss:7.342732343721093, train accuracy:0.5428333333333333, validation loss:5.916178920852496, validation accuracy:0.6008333333333333\n",
            "epoch:2, train loss:5.124453815776008, train accuracy:0.6179814814814815, validation loss:4.598717972108851, validation accuracy:0.6373333333333333\n",
            "epoch:3, train loss:4.230571068554207, train accuracy:0.6376481481481482, validation loss:3.868438075551492, validation accuracy:0.6531666666666667\n",
            "epoch:4, train loss:3.6408662557390223, train accuracy:0.6495, validation loss:3.4505112537907863, validation accuracy:0.6561666666666667\n",
            "epoch:5, train loss:3.196446117142419, train accuracy:0.6545185185185185, validation loss:3.0004764105538153, validation accuracy:0.6648333333333334\n",
            "epoch:6, train loss:2.842889625790889, train accuracy:0.6612037037037037, validation loss:2.670509566168139, validation accuracy:0.6636666666666666\n",
            "epoch:7, train loss:2.565170433149013, train accuracy:0.6652777777777777, validation loss:2.284270440206807, validation accuracy:0.6766666666666666\n",
            "epoch:8, train loss:2.3477089359304366, train accuracy:0.6688518518518518, validation loss:2.211275263360556, validation accuracy:0.6776666666666666\n",
            "epoch:9, train loss:2.156041076967682, train accuracy:0.6735555555555556, validation loss:2.0353491222473217, validation accuracy:0.6738333333333333\n",
            "epoch:10, train loss:2.0047711043907177, train accuracy:0.6737037037037037, validation loss:1.8774987869593842, validation accuracy:0.6833333333333333\n"
          ]
        },
        {
          "data": {
            "text/html": [
              "Waiting for W&B process to finish... <strong style=\"color:green\">(success).</strong>"
            ],
            "text/plain": [
              "<IPython.core.display.HTML object>"
            ]
          },
          "metadata": {},
          "output_type": "display_data"
        },
        {
          "data": {
            "application/vnd.jupyter.widget-view+json": {
              "model_id": "13707721b5894ff7a5ab7729cf064e33",
              "version_major": 2,
              "version_minor": 0
            },
            "text/plain": [
              "VBox(children=(Label(value='0.001 MB of 0.001 MB uploaded (0.000 MB deduped)\\r'), FloatProgress(value=1.0, max…"
            ]
          },
          "metadata": {},
          "output_type": "display_data"
        },
        {
          "data": {
            "text/html": [
              "<style>\n",
              "    table.wandb td:nth-child(1) { padding: 0 10px; text-align: left ; width: auto;} td:nth-child(2) {text-align: left ; width: 100%}\n",
              "    .wandb-row { display: flex; flex-direction: row; flex-wrap: wrap; justify-content: flex-start; width: 100% }\n",
              "    .wandb-col { display: flex; flex-direction: column; flex-basis: 100%; flex: 1; padding: 10px; }\n",
              "    </style>\n",
              "<div class=\"wandb-row\"><div class=\"wandb-col\"><h3>Run history:</h3><br/><table class=\"wandb\"><tr><td>train accuracy</td><td>▁▅▆▇▇▇████</td></tr><tr><td>train loss</td><td>█▅▄▃▃▂▂▁▁▁</td></tr><tr><td>validation accuracy</td><td>▁▄▅▆▆▆▇█▇█</td></tr><tr><td>validation loss</td><td>█▆▄▄▃▂▂▂▁▁</td></tr></table><br/></div><div class=\"wandb-col\"><h3>Run summary:</h3><br/><table class=\"wandb\"><tr><td>train accuracy</td><td>0.6737</td></tr><tr><td>train loss</td><td>2.00477</td></tr><tr><td>validation accuracy</td><td>0.68333</td></tr><tr><td>validation loss</td><td>1.8775</td></tr></table><br/></div></div>"
            ],
            "text/plain": [
              "<IPython.core.display.HTML object>"
            ]
          },
          "metadata": {},
          "output_type": "display_data"
        },
        {
          "data": {
            "text/html": [
              " View run <strong style=\"color:#cdcd00\">elated-sweep-59</strong> at: <a href='https://wandb.ai/cs22m019/DL%20Final%20Assignment%201/runs/8jjka6zr' target=\"_blank\">https://wandb.ai/cs22m019/DL%20Final%20Assignment%201/runs/8jjka6zr</a><br/>Synced 6 W&B file(s), 0 media file(s), 0 artifact file(s) and 0 other file(s)"
            ],
            "text/plain": [
              "<IPython.core.display.HTML object>"
            ]
          },
          "metadata": {},
          "output_type": "display_data"
        },
        {
          "data": {
            "text/html": [
              "Find logs at: <code>.\\wandb\\run-20230310_031756-8jjka6zr\\logs</code>"
            ],
            "text/plain": [
              "<IPython.core.display.HTML object>"
            ]
          },
          "metadata": {},
          "output_type": "display_data"
        },
        {
          "name": "stderr",
          "output_type": "stream",
          "text": [
            "\u001b[34m\u001b[1mwandb\u001b[0m: Sweep Agent: Waiting for job.\n",
            "\u001b[34m\u001b[1mwandb\u001b[0m: Job received.\n",
            "\u001b[34m\u001b[1mwandb\u001b[0m: Agent Starting Run: iqugk5q7 with config:\n",
            "\u001b[34m\u001b[1mwandb\u001b[0m: \tactivation: sigmoid\n",
            "\u001b[34m\u001b[1mwandb\u001b[0m: \tbatch_size: 64\n",
            "\u001b[34m\u001b[1mwandb\u001b[0m: \tepochs: 5\n",
            "\u001b[34m\u001b[1mwandb\u001b[0m: \tlearning_rate: 0.0001\n",
            "\u001b[34m\u001b[1mwandb\u001b[0m: \tnumber_of_hidden_layer: 3\n",
            "\u001b[34m\u001b[1mwandb\u001b[0m: \toptimizer: rmsprop\n",
            "\u001b[34m\u001b[1mwandb\u001b[0m: \tsize_of_hidden_layer: 64\n",
            "\u001b[34m\u001b[1mwandb\u001b[0m: \tweight_decay: 0.5\n",
            "\u001b[34m\u001b[1mwandb\u001b[0m: \tweight_initialization: Xavier\n"
          ]
        },
        {
          "data": {
            "text/html": [
              "Tracking run with wandb version 0.13.11"
            ],
            "text/plain": [
              "<IPython.core.display.HTML object>"
            ]
          },
          "metadata": {},
          "output_type": "display_data"
        },
        {
          "data": {
            "text/html": [
              "Run data is saved locally in <code>C:\\Users\\DELL\\Desktop\\wandb\\run-20230310_032008-iqugk5q7</code>"
            ],
            "text/plain": [
              "<IPython.core.display.HTML object>"
            ]
          },
          "metadata": {},
          "output_type": "display_data"
        },
        {
          "data": {
            "text/html": [
              "Syncing run <strong><a href='https://wandb.ai/cs22m019/DL%20Final%20Assignment%201/runs/iqugk5q7' target=\"_blank\">upbeat-sweep-60</a></strong> to <a href='https://wandb.ai/cs22m019/DL%20Final%20Assignment%201' target=\"_blank\">Weights & Biases</a> (<a href='https://wandb.me/run' target=\"_blank\">docs</a>)<br/>Sweep page: <a href='https://wandb.ai/cs22m019/DL%20Final%20Assignment%201/sweeps/eayjxkwm' target=\"_blank\">https://wandb.ai/cs22m019/DL%20Final%20Assignment%201/sweeps/eayjxkwm</a>"
            ],
            "text/plain": [
              "<IPython.core.display.HTML object>"
            ]
          },
          "metadata": {},
          "output_type": "display_data"
        },
        {
          "data": {
            "text/html": [
              " View project at <a href='https://wandb.ai/cs22m019/DL%20Final%20Assignment%201' target=\"_blank\">https://wandb.ai/cs22m019/DL%20Final%20Assignment%201</a>"
            ],
            "text/plain": [
              "<IPython.core.display.HTML object>"
            ]
          },
          "metadata": {},
          "output_type": "display_data"
        },
        {
          "data": {
            "text/html": [
              " View sweep at <a href='https://wandb.ai/cs22m019/DL%20Final%20Assignment%201/sweeps/eayjxkwm' target=\"_blank\">https://wandb.ai/cs22m019/DL%20Final%20Assignment%201/sweeps/eayjxkwm</a>"
            ],
            "text/plain": [
              "<IPython.core.display.HTML object>"
            ]
          },
          "metadata": {},
          "output_type": "display_data"
        },
        {
          "data": {
            "text/html": [
              " View run at <a href='https://wandb.ai/cs22m019/DL%20Final%20Assignment%201/runs/iqugk5q7' target=\"_blank\">https://wandb.ai/cs22m019/DL%20Final%20Assignment%201/runs/iqugk5q7</a>"
            ],
            "text/plain": [
              "<IPython.core.display.HTML object>"
            ]
          },
          "metadata": {},
          "output_type": "display_data"
        },
        {
          "name": "stdout",
          "output_type": "stream",
          "text": [
            "epoch:1, train loss:2.563209561687526, train accuracy:0.09916666666666667, validation loss:2.5277030599162504, validation accuracy:0.1075\n",
            "epoch:2, train loss:2.5132755236836424, train accuracy:0.09916666666666667, validation loss:2.48301303962576, validation accuracy:0.1075\n",
            "epoch:3, train loss:2.470720705613719, train accuracy:0.09916666666666667, validation loss:2.4454305998385357, validation accuracy:0.1075\n",
            "epoch:4, train loss:2.4354200851222574, train accuracy:0.09916666666666667, validation loss:2.4142455643276532, validation accuracy:0.1075\n",
            "epoch:5, train loss:2.405967946521343, train accuracy:0.09916666666666667, validation loss:2.388489070743362, validation accuracy:0.1075\n"
          ]
        },
        {
          "data": {
            "text/html": [
              "Waiting for W&B process to finish... <strong style=\"color:green\">(success).</strong>"
            ],
            "text/plain": [
              "<IPython.core.display.HTML object>"
            ]
          },
          "metadata": {},
          "output_type": "display_data"
        },
        {
          "data": {
            "text/html": [
              "<style>\n",
              "    table.wandb td:nth-child(1) { padding: 0 10px; text-align: left ; width: auto;} td:nth-child(2) {text-align: left ; width: 100%}\n",
              "    .wandb-row { display: flex; flex-direction: row; flex-wrap: wrap; justify-content: flex-start; width: 100% }\n",
              "    .wandb-col { display: flex; flex-direction: column; flex-basis: 100%; flex: 1; padding: 10px; }\n",
              "    </style>\n",
              "<div class=\"wandb-row\"><div class=\"wandb-col\"><h3>Run history:</h3><br/><table class=\"wandb\"><tr><td>train accuracy</td><td>▁▁▁▁▁</td></tr><tr><td>train loss</td><td>█▆▄▂▁</td></tr><tr><td>validation accuracy</td><td>▁▁▁▁▁</td></tr><tr><td>validation loss</td><td>█▆▄▂▁</td></tr></table><br/></div><div class=\"wandb-col\"><h3>Run summary:</h3><br/><table class=\"wandb\"><tr><td>train accuracy</td><td>0.09917</td></tr><tr><td>train loss</td><td>2.40597</td></tr><tr><td>validation accuracy</td><td>0.1075</td></tr><tr><td>validation loss</td><td>2.38849</td></tr></table><br/></div></div>"
            ],
            "text/plain": [
              "<IPython.core.display.HTML object>"
            ]
          },
          "metadata": {},
          "output_type": "display_data"
        },
        {
          "data": {
            "text/html": [
              " View run <strong style=\"color:#cdcd00\">upbeat-sweep-60</strong> at: <a href='https://wandb.ai/cs22m019/DL%20Final%20Assignment%201/runs/iqugk5q7' target=\"_blank\">https://wandb.ai/cs22m019/DL%20Final%20Assignment%201/runs/iqugk5q7</a><br/>Synced 6 W&B file(s), 0 media file(s), 0 artifact file(s) and 0 other file(s)"
            ],
            "text/plain": [
              "<IPython.core.display.HTML object>"
            ]
          },
          "metadata": {},
          "output_type": "display_data"
        },
        {
          "data": {
            "text/html": [
              "Find logs at: <code>.\\wandb\\run-20230310_032008-iqugk5q7\\logs</code>"
            ],
            "text/plain": [
              "<IPython.core.display.HTML object>"
            ]
          },
          "metadata": {},
          "output_type": "display_data"
        },
        {
          "name": "stderr",
          "output_type": "stream",
          "text": [
            "\u001b[34m\u001b[1mwandb\u001b[0m: Agent Starting Run: 949ca2oh with config:\n",
            "\u001b[34m\u001b[1mwandb\u001b[0m: \tactivation: sigmoid\n",
            "\u001b[34m\u001b[1mwandb\u001b[0m: \tbatch_size: 64\n",
            "\u001b[34m\u001b[1mwandb\u001b[0m: \tepochs: 10\n",
            "\u001b[34m\u001b[1mwandb\u001b[0m: \tlearning_rate: 0.0001\n",
            "\u001b[34m\u001b[1mwandb\u001b[0m: \tnumber_of_hidden_layer: 4\n",
            "\u001b[34m\u001b[1mwandb\u001b[0m: \toptimizer: rmsprop\n",
            "\u001b[34m\u001b[1mwandb\u001b[0m: \tsize_of_hidden_layer: 128\n",
            "\u001b[34m\u001b[1mwandb\u001b[0m: \tweight_decay: 0.5\n",
            "\u001b[34m\u001b[1mwandb\u001b[0m: \tweight_initialization: Xavier\n"
          ]
        },
        {
          "data": {
            "text/html": [
              "Tracking run with wandb version 0.13.11"
            ],
            "text/plain": [
              "<IPython.core.display.HTML object>"
            ]
          },
          "metadata": {},
          "output_type": "display_data"
        },
        {
          "data": {
            "text/html": [
              "Run data is saved locally in <code>C:\\Users\\DELL\\Desktop\\wandb\\run-20230310_032117-949ca2oh</code>"
            ],
            "text/plain": [
              "<IPython.core.display.HTML object>"
            ]
          },
          "metadata": {},
          "output_type": "display_data"
        },
        {
          "data": {
            "text/html": [
              "Syncing run <strong><a href='https://wandb.ai/cs22m019/DL%20Final%20Assignment%201/runs/949ca2oh' target=\"_blank\">hearty-sweep-61</a></strong> to <a href='https://wandb.ai/cs22m019/DL%20Final%20Assignment%201' target=\"_blank\">Weights & Biases</a> (<a href='https://wandb.me/run' target=\"_blank\">docs</a>)<br/>Sweep page: <a href='https://wandb.ai/cs22m019/DL%20Final%20Assignment%201/sweeps/eayjxkwm' target=\"_blank\">https://wandb.ai/cs22m019/DL%20Final%20Assignment%201/sweeps/eayjxkwm</a>"
            ],
            "text/plain": [
              "<IPython.core.display.HTML object>"
            ]
          },
          "metadata": {},
          "output_type": "display_data"
        },
        {
          "data": {
            "text/html": [
              " View project at <a href='https://wandb.ai/cs22m019/DL%20Final%20Assignment%201' target=\"_blank\">https://wandb.ai/cs22m019/DL%20Final%20Assignment%201</a>"
            ],
            "text/plain": [
              "<IPython.core.display.HTML object>"
            ]
          },
          "metadata": {},
          "output_type": "display_data"
        },
        {
          "data": {
            "text/html": [
              " View sweep at <a href='https://wandb.ai/cs22m019/DL%20Final%20Assignment%201/sweeps/eayjxkwm' target=\"_blank\">https://wandb.ai/cs22m019/DL%20Final%20Assignment%201/sweeps/eayjxkwm</a>"
            ],
            "text/plain": [
              "<IPython.core.display.HTML object>"
            ]
          },
          "metadata": {},
          "output_type": "display_data"
        },
        {
          "data": {
            "text/html": [
              " View run at <a href='https://wandb.ai/cs22m019/DL%20Final%20Assignment%201/runs/949ca2oh' target=\"_blank\">https://wandb.ai/cs22m019/DL%20Final%20Assignment%201/runs/949ca2oh</a>"
            ],
            "text/plain": [
              "<IPython.core.display.HTML object>"
            ]
          },
          "metadata": {},
          "output_type": "display_data"
        },
        {
          "name": "stdout",
          "output_type": "stream",
          "text": [
            "epoch:1, train loss:2.5999166024344227, train accuracy:0.10016666666666667, validation loss:2.553715755354979, validation accuracy:0.0985\n",
            "epoch:2, train loss:2.513007439862275, train accuracy:0.10016666666666667, validation loss:2.4771531777414424, validation accuracy:0.0985\n",
            "epoch:3, train loss:2.4472886978919917, train accuracy:0.10016666666666667, validation loss:2.420280846702573, validation accuracy:0.0985\n",
            "epoch:4, train loss:2.399177836304816, train accuracy:0.10016666666666667, validation loss:2.380307752979057, validation accuracy:0.0985\n",
            "epoch:5, train loss:2.3666207873562968, train accuracy:0.10016666666666667, validation loss:2.353784429539059, validation accuracy:0.0985\n",
            "epoch:6, train loss:2.3455083074897214, train accuracy:0.10016666666666667, validation loss:2.3375920186662227, validation accuracy:0.0985\n",
            "epoch:7, train loss:2.332756414577171, train accuracy:0.10016666666666667, validation loss:2.327977927784999, validation accuracy:0.0985\n",
            "epoch:8, train loss:2.325255357585345, train accuracy:0.10016666666666667, validation loss:2.322446505107603, validation accuracy:0.0985\n",
            "epoch:9, train loss:2.320638277682339, train accuracy:0.10057407407407408, validation loss:2.3188776196565057, validation accuracy:0.10666666666666667\n",
            "epoch:10, train loss:2.3173640626310834, train accuracy:0.1391111111111111, validation loss:2.3161139977344907, validation accuracy:0.15616666666666668\n"
          ]
        },
        {
          "data": {
            "text/html": [
              "Waiting for W&B process to finish... <strong style=\"color:green\">(success).</strong>"
            ],
            "text/plain": [
              "<IPython.core.display.HTML object>"
            ]
          },
          "metadata": {},
          "output_type": "display_data"
        },
        {
          "data": {
            "application/vnd.jupyter.widget-view+json": {
              "model_id": "84889d9db056456395eb94422c87a5ef",
              "version_major": 2,
              "version_minor": 0
            },
            "text/plain": [
              "VBox(children=(Label(value='0.001 MB of 0.001 MB uploaded (0.000 MB deduped)\\r'), FloatProgress(value=1.0, max…"
            ]
          },
          "metadata": {},
          "output_type": "display_data"
        },
        {
          "data": {
            "text/html": [
              "<style>\n",
              "    table.wandb td:nth-child(1) { padding: 0 10px; text-align: left ; width: auto;} td:nth-child(2) {text-align: left ; width: 100%}\n",
              "    .wandb-row { display: flex; flex-direction: row; flex-wrap: wrap; justify-content: flex-start; width: 100% }\n",
              "    .wandb-col { display: flex; flex-direction: column; flex-basis: 100%; flex: 1; padding: 10px; }\n",
              "    </style>\n",
              "<div class=\"wandb-row\"><div class=\"wandb-col\"><h3>Run history:</h3><br/><table class=\"wandb\"><tr><td>train accuracy</td><td>▁▁▁▁▁▁▁▁▁█</td></tr><tr><td>train loss</td><td>█▆▄▃▂▂▁▁▁▁</td></tr><tr><td>validation accuracy</td><td>▁▁▁▁▁▁▁▁▂█</td></tr><tr><td>validation loss</td><td>█▆▄▃▂▂▁▁▁▁</td></tr></table><br/></div><div class=\"wandb-col\"><h3>Run summary:</h3><br/><table class=\"wandb\"><tr><td>train accuracy</td><td>0.13911</td></tr><tr><td>train loss</td><td>2.31736</td></tr><tr><td>validation accuracy</td><td>0.15617</td></tr><tr><td>validation loss</td><td>2.31611</td></tr></table><br/></div></div>"
            ],
            "text/plain": [
              "<IPython.core.display.HTML object>"
            ]
          },
          "metadata": {},
          "output_type": "display_data"
        },
        {
          "data": {
            "text/html": [
              " View run <strong style=\"color:#cdcd00\">hearty-sweep-61</strong> at: <a href='https://wandb.ai/cs22m019/DL%20Final%20Assignment%201/runs/949ca2oh' target=\"_blank\">https://wandb.ai/cs22m019/DL%20Final%20Assignment%201/runs/949ca2oh</a><br/>Synced 6 W&B file(s), 0 media file(s), 0 artifact file(s) and 0 other file(s)"
            ],
            "text/plain": [
              "<IPython.core.display.HTML object>"
            ]
          },
          "metadata": {},
          "output_type": "display_data"
        },
        {
          "data": {
            "text/html": [
              "Find logs at: <code>.\\wandb\\run-20230310_032117-949ca2oh\\logs</code>"
            ],
            "text/plain": [
              "<IPython.core.display.HTML object>"
            ]
          },
          "metadata": {},
          "output_type": "display_data"
        },
        {
          "name": "stderr",
          "output_type": "stream",
          "text": [
            "\u001b[34m\u001b[1mwandb\u001b[0m: Sweep Agent: Waiting for job.\n",
            "\u001b[34m\u001b[1mwandb\u001b[0m: Job received.\n",
            "\u001b[34m\u001b[1mwandb\u001b[0m: Agent Starting Run: iwu1o4vg with config:\n",
            "\u001b[34m\u001b[1mwandb\u001b[0m: \tactivation: sigmoid\n",
            "\u001b[34m\u001b[1mwandb\u001b[0m: \tbatch_size: 32\n",
            "\u001b[34m\u001b[1mwandb\u001b[0m: \tepochs: 5\n",
            "\u001b[34m\u001b[1mwandb\u001b[0m: \tlearning_rate: 0.001\n",
            "\u001b[34m\u001b[1mwandb\u001b[0m: \tnumber_of_hidden_layer: 5\n",
            "\u001b[34m\u001b[1mwandb\u001b[0m: \toptimizer: nadam\n",
            "\u001b[34m\u001b[1mwandb\u001b[0m: \tsize_of_hidden_layer: 64\n",
            "\u001b[34m\u001b[1mwandb\u001b[0m: \tweight_decay: 0.0005\n",
            "\u001b[34m\u001b[1mwandb\u001b[0m: \tweight_initialization: Xavier\n"
          ]
        },
        {
          "data": {
            "text/html": [
              "Tracking run with wandb version 0.13.11"
            ],
            "text/plain": [
              "<IPython.core.display.HTML object>"
            ]
          },
          "metadata": {},
          "output_type": "display_data"
        },
        {
          "data": {
            "text/html": [
              "Run data is saved locally in <code>C:\\Users\\DELL\\Desktop\\wandb\\run-20230310_032624-iwu1o4vg</code>"
            ],
            "text/plain": [
              "<IPython.core.display.HTML object>"
            ]
          },
          "metadata": {},
          "output_type": "display_data"
        },
        {
          "data": {
            "text/html": [
              "Syncing run <strong><a href='https://wandb.ai/cs22m019/DL%20Final%20Assignment%201/runs/iwu1o4vg' target=\"_blank\">lilac-sweep-62</a></strong> to <a href='https://wandb.ai/cs22m019/DL%20Final%20Assignment%201' target=\"_blank\">Weights & Biases</a> (<a href='https://wandb.me/run' target=\"_blank\">docs</a>)<br/>Sweep page: <a href='https://wandb.ai/cs22m019/DL%20Final%20Assignment%201/sweeps/eayjxkwm' target=\"_blank\">https://wandb.ai/cs22m019/DL%20Final%20Assignment%201/sweeps/eayjxkwm</a>"
            ],
            "text/plain": [
              "<IPython.core.display.HTML object>"
            ]
          },
          "metadata": {},
          "output_type": "display_data"
        },
        {
          "data": {
            "text/html": [
              " View project at <a href='https://wandb.ai/cs22m019/DL%20Final%20Assignment%201' target=\"_blank\">https://wandb.ai/cs22m019/DL%20Final%20Assignment%201</a>"
            ],
            "text/plain": [
              "<IPython.core.display.HTML object>"
            ]
          },
          "metadata": {},
          "output_type": "display_data"
        },
        {
          "data": {
            "text/html": [
              " View sweep at <a href='https://wandb.ai/cs22m019/DL%20Final%20Assignment%201/sweeps/eayjxkwm' target=\"_blank\">https://wandb.ai/cs22m019/DL%20Final%20Assignment%201/sweeps/eayjxkwm</a>"
            ],
            "text/plain": [
              "<IPython.core.display.HTML object>"
            ]
          },
          "metadata": {},
          "output_type": "display_data"
        },
        {
          "data": {
            "text/html": [
              " View run at <a href='https://wandb.ai/cs22m019/DL%20Final%20Assignment%201/runs/iwu1o4vg' target=\"_blank\">https://wandb.ai/cs22m019/DL%20Final%20Assignment%201/runs/iwu1o4vg</a>"
            ],
            "text/plain": [
              "<IPython.core.display.HTML object>"
            ]
          },
          "metadata": {},
          "output_type": "display_data"
        },
        {
          "name": "stdout",
          "output_type": "stream",
          "text": [
            "epoch:1, train loss:2.326381195702258, train accuracy:0.12048148148148148, validation loss:2.2946397572472415, validation accuracy:0.17983333333333335\n",
            "epoch:2, train loss:2.254986257612845, train accuracy:0.2121851851851852, validation loss:2.16755700600363, validation accuracy:0.198\n",
            "epoch:3, train loss:1.991780447647674, train accuracy:0.20287037037037037, validation loss:1.8408874697788329, validation accuracy:0.20666666666666667\n",
            "epoch:4, train loss:1.7691591628625216, train accuracy:0.21164814814814814, validation loss:1.7187578745070013, validation accuracy:0.2821666666666667\n",
            "epoch:5, train loss:1.6608569855550817, train accuracy:0.29944444444444446, validation loss:1.6059113463244645, validation accuracy:0.32016666666666665\n"
          ]
        },
        {
          "data": {
            "text/html": [
              "Waiting for W&B process to finish... <strong style=\"color:green\">(success).</strong>"
            ],
            "text/plain": [
              "<IPython.core.display.HTML object>"
            ]
          },
          "metadata": {},
          "output_type": "display_data"
        },
        {
          "data": {
            "application/vnd.jupyter.widget-view+json": {
              "model_id": "56de70261ef141b98fc6fd1c7f0d4d51",
              "version_major": 2,
              "version_minor": 0
            },
            "text/plain": [
              "VBox(children=(Label(value='0.001 MB of 0.001 MB uploaded (0.000 MB deduped)\\r'), FloatProgress(value=1.0, max…"
            ]
          },
          "metadata": {},
          "output_type": "display_data"
        },
        {
          "data": {
            "text/html": [
              "<style>\n",
              "    table.wandb td:nth-child(1) { padding: 0 10px; text-align: left ; width: auto;} td:nth-child(2) {text-align: left ; width: 100%}\n",
              "    .wandb-row { display: flex; flex-direction: row; flex-wrap: wrap; justify-content: flex-start; width: 100% }\n",
              "    .wandb-col { display: flex; flex-direction: column; flex-basis: 100%; flex: 1; padding: 10px; }\n",
              "    </style>\n",
              "<div class=\"wandb-row\"><div class=\"wandb-col\"><h3>Run history:</h3><br/><table class=\"wandb\"><tr><td>train accuracy</td><td>▁▅▄▅█</td></tr><tr><td>train loss</td><td>█▇▄▂▁</td></tr><tr><td>validation accuracy</td><td>▁▂▂▆█</td></tr><tr><td>validation loss</td><td>█▇▃▂▁</td></tr></table><br/></div><div class=\"wandb-col\"><h3>Run summary:</h3><br/><table class=\"wandb\"><tr><td>train accuracy</td><td>0.29944</td></tr><tr><td>train loss</td><td>1.66086</td></tr><tr><td>validation accuracy</td><td>0.32017</td></tr><tr><td>validation loss</td><td>1.60591</td></tr></table><br/></div></div>"
            ],
            "text/plain": [
              "<IPython.core.display.HTML object>"
            ]
          },
          "metadata": {},
          "output_type": "display_data"
        },
        {
          "data": {
            "text/html": [
              " View run <strong style=\"color:#cdcd00\">lilac-sweep-62</strong> at: <a href='https://wandb.ai/cs22m019/DL%20Final%20Assignment%201/runs/iwu1o4vg' target=\"_blank\">https://wandb.ai/cs22m019/DL%20Final%20Assignment%201/runs/iwu1o4vg</a><br/>Synced 6 W&B file(s), 0 media file(s), 0 artifact file(s) and 0 other file(s)"
            ],
            "text/plain": [
              "<IPython.core.display.HTML object>"
            ]
          },
          "metadata": {},
          "output_type": "display_data"
        },
        {
          "data": {
            "text/html": [
              "Find logs at: <code>.\\wandb\\run-20230310_032624-iwu1o4vg\\logs</code>"
            ],
            "text/plain": [
              "<IPython.core.display.HTML object>"
            ]
          },
          "metadata": {},
          "output_type": "display_data"
        },
        {
          "name": "stderr",
          "output_type": "stream",
          "text": [
            "\u001b[34m\u001b[1mwandb\u001b[0m: Sweep Agent: Waiting for job.\n",
            "\u001b[34m\u001b[1mwandb\u001b[0m: Job received.\n",
            "\u001b[34m\u001b[1mwandb\u001b[0m: Agent Starting Run: jtr8yxp2 with config:\n",
            "\u001b[34m\u001b[1mwandb\u001b[0m: \tactivation: sigmoid\n",
            "\u001b[34m\u001b[1mwandb\u001b[0m: \tbatch_size: 32\n",
            "\u001b[34m\u001b[1mwandb\u001b[0m: \tepochs: 5\n",
            "\u001b[34m\u001b[1mwandb\u001b[0m: \tlearning_rate: 0.001\n",
            "\u001b[34m\u001b[1mwandb\u001b[0m: \tnumber_of_hidden_layer: 5\n",
            "\u001b[34m\u001b[1mwandb\u001b[0m: \toptimizer: momentum\n",
            "\u001b[34m\u001b[1mwandb\u001b[0m: \tsize_of_hidden_layer: 128\n",
            "\u001b[34m\u001b[1mwandb\u001b[0m: \tweight_decay: 0\n",
            "\u001b[34m\u001b[1mwandb\u001b[0m: \tweight_initialization: Xavier\n"
          ]
        },
        {
          "data": {
            "text/html": [
              "Tracking run with wandb version 0.13.11"
            ],
            "text/plain": [
              "<IPython.core.display.HTML object>"
            ]
          },
          "metadata": {},
          "output_type": "display_data"
        },
        {
          "data": {
            "text/html": [
              "Run data is saved locally in <code>C:\\Users\\DELL\\Desktop\\wandb\\run-20230310_032755-jtr8yxp2</code>"
            ],
            "text/plain": [
              "<IPython.core.display.HTML object>"
            ]
          },
          "metadata": {},
          "output_type": "display_data"
        },
        {
          "data": {
            "text/html": [
              "Syncing run <strong><a href='https://wandb.ai/cs22m019/DL%20Final%20Assignment%201/runs/jtr8yxp2' target=\"_blank\">fine-sweep-63</a></strong> to <a href='https://wandb.ai/cs22m019/DL%20Final%20Assignment%201' target=\"_blank\">Weights & Biases</a> (<a href='https://wandb.me/run' target=\"_blank\">docs</a>)<br/>Sweep page: <a href='https://wandb.ai/cs22m019/DL%20Final%20Assignment%201/sweeps/eayjxkwm' target=\"_blank\">https://wandb.ai/cs22m019/DL%20Final%20Assignment%201/sweeps/eayjxkwm</a>"
            ],
            "text/plain": [
              "<IPython.core.display.HTML object>"
            ]
          },
          "metadata": {},
          "output_type": "display_data"
        },
        {
          "data": {
            "text/html": [
              " View project at <a href='https://wandb.ai/cs22m019/DL%20Final%20Assignment%201' target=\"_blank\">https://wandb.ai/cs22m019/DL%20Final%20Assignment%201</a>"
            ],
            "text/plain": [
              "<IPython.core.display.HTML object>"
            ]
          },
          "metadata": {},
          "output_type": "display_data"
        },
        {
          "data": {
            "text/html": [
              " View sweep at <a href='https://wandb.ai/cs22m019/DL%20Final%20Assignment%201/sweeps/eayjxkwm' target=\"_blank\">https://wandb.ai/cs22m019/DL%20Final%20Assignment%201/sweeps/eayjxkwm</a>"
            ],
            "text/plain": [
              "<IPython.core.display.HTML object>"
            ]
          },
          "metadata": {},
          "output_type": "display_data"
        },
        {
          "data": {
            "text/html": [
              " View run at <a href='https://wandb.ai/cs22m019/DL%20Final%20Assignment%201/runs/jtr8yxp2' target=\"_blank\">https://wandb.ai/cs22m019/DL%20Final%20Assignment%201/runs/jtr8yxp2</a>"
            ],
            "text/plain": [
              "<IPython.core.display.HTML object>"
            ]
          },
          "metadata": {},
          "output_type": "display_data"
        },
        {
          "name": "stdout",
          "output_type": "stream",
          "text": [
            "epoch:1, train loss:2.3275624209157852, train accuracy:0.10074074074074074, validation loss:2.3028605165660103, validation accuracy:0.09733333333333333\n",
            "epoch:2, train loss:2.303018940432217, train accuracy:0.09757407407407408, validation loss:2.3029997800808686, validation accuracy:0.09433333333333334\n",
            "epoch:3, train loss:2.3030623593056614, train accuracy:0.09801851851851852, validation loss:2.3030678887783225, validation accuracy:0.10166666666666667\n",
            "epoch:4, train loss:2.3030138768026975, train accuracy:0.09764814814814815, validation loss:2.3027775462034628, validation accuracy:0.0985\n",
            "epoch:5, train loss:2.303021345667703, train accuracy:0.09662962962962963, validation loss:2.3029983579574536, validation accuracy:0.09816666666666667\n"
          ]
        },
        {
          "data": {
            "text/html": [
              "Waiting for W&B process to finish... <strong style=\"color:green\">(success).</strong>"
            ],
            "text/plain": [
              "<IPython.core.display.HTML object>"
            ]
          },
          "metadata": {},
          "output_type": "display_data"
        },
        {
          "data": {
            "text/html": [
              "<style>\n",
              "    table.wandb td:nth-child(1) { padding: 0 10px; text-align: left ; width: auto;} td:nth-child(2) {text-align: left ; width: 100%}\n",
              "    .wandb-row { display: flex; flex-direction: row; flex-wrap: wrap; justify-content: flex-start; width: 100% }\n",
              "    .wandb-col { display: flex; flex-direction: column; flex-basis: 100%; flex: 1; padding: 10px; }\n",
              "    </style>\n",
              "<div class=\"wandb-row\"><div class=\"wandb-col\"><h3>Run history:</h3><br/><table class=\"wandb\"><tr><td>train accuracy</td><td>█▃▃▃▁</td></tr><tr><td>train loss</td><td>█▁▁▁▁</td></tr><tr><td>validation accuracy</td><td>▄▁█▅▅</td></tr><tr><td>validation loss</td><td>▃▆█▁▆</td></tr></table><br/></div><div class=\"wandb-col\"><h3>Run summary:</h3><br/><table class=\"wandb\"><tr><td>train accuracy</td><td>0.09663</td></tr><tr><td>train loss</td><td>2.30302</td></tr><tr><td>validation accuracy</td><td>0.09817</td></tr><tr><td>validation loss</td><td>2.303</td></tr></table><br/></div></div>"
            ],
            "text/plain": [
              "<IPython.core.display.HTML object>"
            ]
          },
          "metadata": {},
          "output_type": "display_data"
        },
        {
          "data": {
            "text/html": [
              " View run <strong style=\"color:#cdcd00\">fine-sweep-63</strong> at: <a href='https://wandb.ai/cs22m019/DL%20Final%20Assignment%201/runs/jtr8yxp2' target=\"_blank\">https://wandb.ai/cs22m019/DL%20Final%20Assignment%201/runs/jtr8yxp2</a><br/>Synced 6 W&B file(s), 0 media file(s), 0 artifact file(s) and 0 other file(s)"
            ],
            "text/plain": [
              "<IPython.core.display.HTML object>"
            ]
          },
          "metadata": {},
          "output_type": "display_data"
        },
        {
          "data": {
            "text/html": [
              "Find logs at: <code>.\\wandb\\run-20230310_032755-jtr8yxp2\\logs</code>"
            ],
            "text/plain": [
              "<IPython.core.display.HTML object>"
            ]
          },
          "metadata": {},
          "output_type": "display_data"
        },
        {
          "name": "stderr",
          "output_type": "stream",
          "text": [
            "\u001b[34m\u001b[1mwandb\u001b[0m: Agent Starting Run: eu0rna0f with config:\n",
            "\u001b[34m\u001b[1mwandb\u001b[0m: \tactivation: tanh\n",
            "\u001b[34m\u001b[1mwandb\u001b[0m: \tbatch_size: 32\n",
            "\u001b[34m\u001b[1mwandb\u001b[0m: \tepochs: 5\n",
            "\u001b[34m\u001b[1mwandb\u001b[0m: \tlearning_rate: 0.001\n",
            "\u001b[34m\u001b[1mwandb\u001b[0m: \tnumber_of_hidden_layer: 3\n",
            "\u001b[34m\u001b[1mwandb\u001b[0m: \toptimizer: nadam\n",
            "\u001b[34m\u001b[1mwandb\u001b[0m: \tsize_of_hidden_layer: 64\n",
            "\u001b[34m\u001b[1mwandb\u001b[0m: \tweight_decay: 0\n",
            "\u001b[34m\u001b[1mwandb\u001b[0m: \tweight_initialization: random\n"
          ]
        },
        {
          "data": {
            "text/html": [
              "Tracking run with wandb version 0.13.11"
            ],
            "text/plain": [
              "<IPython.core.display.HTML object>"
            ]
          },
          "metadata": {},
          "output_type": "display_data"
        },
        {
          "data": {
            "text/html": [
              "Run data is saved locally in <code>C:\\Users\\DELL\\Desktop\\wandb\\run-20230310_033117-eu0rna0f</code>"
            ],
            "text/plain": [
              "<IPython.core.display.HTML object>"
            ]
          },
          "metadata": {},
          "output_type": "display_data"
        },
        {
          "data": {
            "text/html": [
              "Syncing run <strong><a href='https://wandb.ai/cs22m019/DL%20Final%20Assignment%201/runs/eu0rna0f' target=\"_blank\">rural-sweep-64</a></strong> to <a href='https://wandb.ai/cs22m019/DL%20Final%20Assignment%201' target=\"_blank\">Weights & Biases</a> (<a href='https://wandb.me/run' target=\"_blank\">docs</a>)<br/>Sweep page: <a href='https://wandb.ai/cs22m019/DL%20Final%20Assignment%201/sweeps/eayjxkwm' target=\"_blank\">https://wandb.ai/cs22m019/DL%20Final%20Assignment%201/sweeps/eayjxkwm</a>"
            ],
            "text/plain": [
              "<IPython.core.display.HTML object>"
            ]
          },
          "metadata": {},
          "output_type": "display_data"
        },
        {
          "data": {
            "text/html": [
              " View project at <a href='https://wandb.ai/cs22m019/DL%20Final%20Assignment%201' target=\"_blank\">https://wandb.ai/cs22m019/DL%20Final%20Assignment%201</a>"
            ],
            "text/plain": [
              "<IPython.core.display.HTML object>"
            ]
          },
          "metadata": {},
          "output_type": "display_data"
        },
        {
          "data": {
            "text/html": [
              " View sweep at <a href='https://wandb.ai/cs22m019/DL%20Final%20Assignment%201/sweeps/eayjxkwm' target=\"_blank\">https://wandb.ai/cs22m019/DL%20Final%20Assignment%201/sweeps/eayjxkwm</a>"
            ],
            "text/plain": [
              "<IPython.core.display.HTML object>"
            ]
          },
          "metadata": {},
          "output_type": "display_data"
        },
        {
          "data": {
            "text/html": [
              " View run at <a href='https://wandb.ai/cs22m019/DL%20Final%20Assignment%201/runs/eu0rna0f' target=\"_blank\">https://wandb.ai/cs22m019/DL%20Final%20Assignment%201/runs/eu0rna0f</a>"
            ],
            "text/plain": [
              "<IPython.core.display.HTML object>"
            ]
          },
          "metadata": {},
          "output_type": "display_data"
        },
        {
          "name": "stdout",
          "output_type": "stream",
          "text": [
            "epoch:1, train loss:3.268907856650145, train accuracy:0.28629629629629627, validation loss:2.230402002889449, validation accuracy:0.4191666666666667\n",
            "epoch:2, train loss:1.8526118812380044, train accuracy:0.48862962962962964, validation loss:1.603229376632136, validation accuracy:0.5355\n",
            "epoch:3, train loss:1.4534281917244114, train accuracy:0.570462962962963, validation loss:1.3413570388901843, validation accuracy:0.5941666666666666\n",
            "epoch:4, train loss:1.2514663236184804, train accuracy:0.6162962962962963, validation loss:1.1938354376934044, validation accuracy:0.6278333333333334\n",
            "epoch:5, train loss:1.120907028958186, train accuracy:0.6469444444444444, validation loss:1.093970462652309, validation accuracy:0.6583333333333333\n"
          ]
        },
        {
          "data": {
            "text/html": [
              "Waiting for W&B process to finish... <strong style=\"color:green\">(success).</strong>"
            ],
            "text/plain": [
              "<IPython.core.display.HTML object>"
            ]
          },
          "metadata": {},
          "output_type": "display_data"
        },
        {
          "data": {
            "application/vnd.jupyter.widget-view+json": {
              "model_id": "4b8e5e75a6df4d6ba9d080f1ae4066f8",
              "version_major": 2,
              "version_minor": 0
            },
            "text/plain": [
              "VBox(children=(Label(value='0.001 MB of 0.001 MB uploaded (0.000 MB deduped)\\r'), FloatProgress(value=1.0, max…"
            ]
          },
          "metadata": {},
          "output_type": "display_data"
        },
        {
          "data": {
            "text/html": [
              "<style>\n",
              "    table.wandb td:nth-child(1) { padding: 0 10px; text-align: left ; width: auto;} td:nth-child(2) {text-align: left ; width: 100%}\n",
              "    .wandb-row { display: flex; flex-direction: row; flex-wrap: wrap; justify-content: flex-start; width: 100% }\n",
              "    .wandb-col { display: flex; flex-direction: column; flex-basis: 100%; flex: 1; padding: 10px; }\n",
              "    </style>\n",
              "<div class=\"wandb-row\"><div class=\"wandb-col\"><h3>Run history:</h3><br/><table class=\"wandb\"><tr><td>train accuracy</td><td>▁▅▇▇█</td></tr><tr><td>train loss</td><td>█▃▂▁▁</td></tr><tr><td>validation accuracy</td><td>▁▄▆▇█</td></tr><tr><td>validation loss</td><td>█▄▃▂▁</td></tr></table><br/></div><div class=\"wandb-col\"><h3>Run summary:</h3><br/><table class=\"wandb\"><tr><td>train accuracy</td><td>0.64694</td></tr><tr><td>train loss</td><td>1.12091</td></tr><tr><td>validation accuracy</td><td>0.65833</td></tr><tr><td>validation loss</td><td>1.09397</td></tr></table><br/></div></div>"
            ],
            "text/plain": [
              "<IPython.core.display.HTML object>"
            ]
          },
          "metadata": {},
          "output_type": "display_data"
        },
        {
          "data": {
            "text/html": [
              " View run <strong style=\"color:#cdcd00\">rural-sweep-64</strong> at: <a href='https://wandb.ai/cs22m019/DL%20Final%20Assignment%201/runs/eu0rna0f' target=\"_blank\">https://wandb.ai/cs22m019/DL%20Final%20Assignment%201/runs/eu0rna0f</a><br/>Synced 6 W&B file(s), 0 media file(s), 0 artifact file(s) and 0 other file(s)"
            ],
            "text/plain": [
              "<IPython.core.display.HTML object>"
            ]
          },
          "metadata": {},
          "output_type": "display_data"
        },
        {
          "data": {
            "text/html": [
              "Find logs at: <code>.\\wandb\\run-20230310_033117-eu0rna0f\\logs</code>"
            ],
            "text/plain": [
              "<IPython.core.display.HTML object>"
            ]
          },
          "metadata": {},
          "output_type": "display_data"
        },
        {
          "name": "stderr",
          "output_type": "stream",
          "text": [
            "\u001b[34m\u001b[1mwandb\u001b[0m: Agent Starting Run: s2fw7y04 with config:\n",
            "\u001b[34m\u001b[1mwandb\u001b[0m: \tactivation: ReLU\n",
            "\u001b[34m\u001b[1mwandb\u001b[0m: \tbatch_size: 64\n",
            "\u001b[34m\u001b[1mwandb\u001b[0m: \tepochs: 5\n",
            "\u001b[34m\u001b[1mwandb\u001b[0m: \tlearning_rate: 0.0001\n",
            "\u001b[34m\u001b[1mwandb\u001b[0m: \tnumber_of_hidden_layer: 4\n",
            "\u001b[34m\u001b[1mwandb\u001b[0m: \toptimizer: rmsprop\n",
            "\u001b[34m\u001b[1mwandb\u001b[0m: \tsize_of_hidden_layer: 128\n",
            "\u001b[34m\u001b[1mwandb\u001b[0m: \tweight_decay: 0.5\n",
            "\u001b[34m\u001b[1mwandb\u001b[0m: \tweight_initialization: random\n"
          ]
        },
        {
          "data": {
            "text/html": [
              "Tracking run with wandb version 0.13.11"
            ],
            "text/plain": [
              "<IPython.core.display.HTML object>"
            ]
          },
          "metadata": {},
          "output_type": "display_data"
        },
        {
          "data": {
            "text/html": [
              "Run data is saved locally in <code>C:\\Users\\DELL\\Desktop\\wandb\\run-20230310_033226-s2fw7y04</code>"
            ],
            "text/plain": [
              "<IPython.core.display.HTML object>"
            ]
          },
          "metadata": {},
          "output_type": "display_data"
        },
        {
          "data": {
            "text/html": [
              "Syncing run <strong><a href='https://wandb.ai/cs22m019/DL%20Final%20Assignment%201/runs/s2fw7y04' target=\"_blank\">silvery-sweep-65</a></strong> to <a href='https://wandb.ai/cs22m019/DL%20Final%20Assignment%201' target=\"_blank\">Weights & Biases</a> (<a href='https://wandb.me/run' target=\"_blank\">docs</a>)<br/>Sweep page: <a href='https://wandb.ai/cs22m019/DL%20Final%20Assignment%201/sweeps/eayjxkwm' target=\"_blank\">https://wandb.ai/cs22m019/DL%20Final%20Assignment%201/sweeps/eayjxkwm</a>"
            ],
            "text/plain": [
              "<IPython.core.display.HTML object>"
            ]
          },
          "metadata": {},
          "output_type": "display_data"
        },
        {
          "data": {
            "text/html": [
              " View project at <a href='https://wandb.ai/cs22m019/DL%20Final%20Assignment%201' target=\"_blank\">https://wandb.ai/cs22m019/DL%20Final%20Assignment%201</a>"
            ],
            "text/plain": [
              "<IPython.core.display.HTML object>"
            ]
          },
          "metadata": {},
          "output_type": "display_data"
        },
        {
          "data": {
            "text/html": [
              " View sweep at <a href='https://wandb.ai/cs22m019/DL%20Final%20Assignment%201/sweeps/eayjxkwm' target=\"_blank\">https://wandb.ai/cs22m019/DL%20Final%20Assignment%201/sweeps/eayjxkwm</a>"
            ],
            "text/plain": [
              "<IPython.core.display.HTML object>"
            ]
          },
          "metadata": {},
          "output_type": "display_data"
        },
        {
          "data": {
            "text/html": [
              " View run at <a href='https://wandb.ai/cs22m019/DL%20Final%20Assignment%201/runs/s2fw7y04' target=\"_blank\">https://wandb.ai/cs22m019/DL%20Final%20Assignment%201/runs/s2fw7y04</a>"
            ],
            "text/plain": [
              "<IPython.core.display.HTML object>"
            ]
          },
          "metadata": {},
          "output_type": "display_data"
        },
        {
          "name": "stdout",
          "output_type": "stream",
          "text": [
            "epoch:1, train loss:18.207073444080443, train accuracy:0.09659259259259259, validation loss:18.095112753597927, validation accuracy:0.10266666666666667\n",
            "epoch:2, train loss:18.309228135012678, train accuracy:0.09055555555555556, validation loss:18.207679781874287, validation accuracy:0.0955\n",
            "epoch:3, train loss:18.312127916192047, train accuracy:0.08957407407407407, validation loss:18.265330622170378, validation accuracy:0.092\n",
            "epoch:4, train loss:18.045658253750485, train accuracy:0.10342592592592592, validation loss:17.860106218063752, validation accuracy:0.11266666666666666\n",
            "epoch:5, train loss:17.454345394307936, train accuracy:0.1347962962962963, validation loss:17.285357175052102, validation accuracy:0.14133333333333334\n"
          ]
        },
        {
          "data": {
            "text/html": [
              "Waiting for W&B process to finish... <strong style=\"color:green\">(success).</strong>"
            ],
            "text/plain": [
              "<IPython.core.display.HTML object>"
            ]
          },
          "metadata": {},
          "output_type": "display_data"
        },
        {
          "data": {
            "application/vnd.jupyter.widget-view+json": {
              "model_id": "a2215ea482e1483981f86fed16d1e316",
              "version_major": 2,
              "version_minor": 0
            },
            "text/plain": [
              "VBox(children=(Label(value='0.001 MB of 0.001 MB uploaded (0.000 MB deduped)\\r'), FloatProgress(value=1.0, max…"
            ]
          },
          "metadata": {},
          "output_type": "display_data"
        },
        {
          "data": {
            "text/html": [
              "<style>\n",
              "    table.wandb td:nth-child(1) { padding: 0 10px; text-align: left ; width: auto;} td:nth-child(2) {text-align: left ; width: 100%}\n",
              "    .wandb-row { display: flex; flex-direction: row; flex-wrap: wrap; justify-content: flex-start; width: 100% }\n",
              "    .wandb-col { display: flex; flex-direction: column; flex-basis: 100%; flex: 1; padding: 10px; }\n",
              "    </style>\n",
              "<div class=\"wandb-row\"><div class=\"wandb-col\"><h3>Run history:</h3><br/><table class=\"wandb\"><tr><td>train accuracy</td><td>▂▁▁▃█</td></tr><tr><td>train loss</td><td>▇██▆▁</td></tr><tr><td>validation accuracy</td><td>▃▁▁▄█</td></tr><tr><td>validation loss</td><td>▇██▅▁</td></tr></table><br/></div><div class=\"wandb-col\"><h3>Run summary:</h3><br/><table class=\"wandb\"><tr><td>train accuracy</td><td>0.1348</td></tr><tr><td>train loss</td><td>17.45435</td></tr><tr><td>validation accuracy</td><td>0.14133</td></tr><tr><td>validation loss</td><td>17.28536</td></tr></table><br/></div></div>"
            ],
            "text/plain": [
              "<IPython.core.display.HTML object>"
            ]
          },
          "metadata": {},
          "output_type": "display_data"
        },
        {
          "data": {
            "text/html": [
              " View run <strong style=\"color:#cdcd00\">silvery-sweep-65</strong> at: <a href='https://wandb.ai/cs22m019/DL%20Final%20Assignment%201/runs/s2fw7y04' target=\"_blank\">https://wandb.ai/cs22m019/DL%20Final%20Assignment%201/runs/s2fw7y04</a><br/>Synced 6 W&B file(s), 0 media file(s), 0 artifact file(s) and 0 other file(s)"
            ],
            "text/plain": [
              "<IPython.core.display.HTML object>"
            ]
          },
          "metadata": {},
          "output_type": "display_data"
        },
        {
          "data": {
            "text/html": [
              "Find logs at: <code>.\\wandb\\run-20230310_033226-s2fw7y04\\logs</code>"
            ],
            "text/plain": [
              "<IPython.core.display.HTML object>"
            ]
          },
          "metadata": {},
          "output_type": "display_data"
        },
        {
          "name": "stderr",
          "output_type": "stream",
          "text": [
            "\u001b[34m\u001b[1mwandb\u001b[0m: Agent Starting Run: bombnay3 with config:\n",
            "\u001b[34m\u001b[1mwandb\u001b[0m: \tactivation: ReLU\n",
            "\u001b[34m\u001b[1mwandb\u001b[0m: \tbatch_size: 16\n",
            "\u001b[34m\u001b[1mwandb\u001b[0m: \tepochs: 5\n",
            "\u001b[34m\u001b[1mwandb\u001b[0m: \tlearning_rate: 0.001\n",
            "\u001b[34m\u001b[1mwandb\u001b[0m: \tnumber_of_hidden_layer: 5\n",
            "\u001b[34m\u001b[1mwandb\u001b[0m: \toptimizer: rmsprop\n",
            "\u001b[34m\u001b[1mwandb\u001b[0m: \tsize_of_hidden_layer: 32\n",
            "\u001b[34m\u001b[1mwandb\u001b[0m: \tweight_decay: 0.5\n",
            "\u001b[34m\u001b[1mwandb\u001b[0m: \tweight_initialization: Xavier\n"
          ]
        },
        {
          "data": {
            "text/html": [
              "Tracking run with wandb version 0.13.11"
            ],
            "text/plain": [
              "<IPython.core.display.HTML object>"
            ]
          },
          "metadata": {},
          "output_type": "display_data"
        },
        {
          "data": {
            "text/html": [
              "Run data is saved locally in <code>C:\\Users\\DELL\\Desktop\\wandb\\run-20230310_033500-bombnay3</code>"
            ],
            "text/plain": [
              "<IPython.core.display.HTML object>"
            ]
          },
          "metadata": {},
          "output_type": "display_data"
        },
        {
          "data": {
            "text/html": [
              "Syncing run <strong><a href='https://wandb.ai/cs22m019/DL%20Final%20Assignment%201/runs/bombnay3' target=\"_blank\">dainty-sweep-66</a></strong> to <a href='https://wandb.ai/cs22m019/DL%20Final%20Assignment%201' target=\"_blank\">Weights & Biases</a> (<a href='https://wandb.me/run' target=\"_blank\">docs</a>)<br/>Sweep page: <a href='https://wandb.ai/cs22m019/DL%20Final%20Assignment%201/sweeps/eayjxkwm' target=\"_blank\">https://wandb.ai/cs22m019/DL%20Final%20Assignment%201/sweeps/eayjxkwm</a>"
            ],
            "text/plain": [
              "<IPython.core.display.HTML object>"
            ]
          },
          "metadata": {},
          "output_type": "display_data"
        },
        {
          "data": {
            "text/html": [
              " View project at <a href='https://wandb.ai/cs22m019/DL%20Final%20Assignment%201' target=\"_blank\">https://wandb.ai/cs22m019/DL%20Final%20Assignment%201</a>"
            ],
            "text/plain": [
              "<IPython.core.display.HTML object>"
            ]
          },
          "metadata": {},
          "output_type": "display_data"
        },
        {
          "data": {
            "text/html": [
              " View sweep at <a href='https://wandb.ai/cs22m019/DL%20Final%20Assignment%201/sweeps/eayjxkwm' target=\"_blank\">https://wandb.ai/cs22m019/DL%20Final%20Assignment%201/sweeps/eayjxkwm</a>"
            ],
            "text/plain": [
              "<IPython.core.display.HTML object>"
            ]
          },
          "metadata": {},
          "output_type": "display_data"
        },
        {
          "data": {
            "text/html": [
              " View run at <a href='https://wandb.ai/cs22m019/DL%20Final%20Assignment%201/runs/bombnay3' target=\"_blank\">https://wandb.ai/cs22m019/DL%20Final%20Assignment%201/runs/bombnay3</a>"
            ],
            "text/plain": [
              "<IPython.core.display.HTML object>"
            ]
          },
          "metadata": {},
          "output_type": "display_data"
        },
        {
          "name": "stdout",
          "output_type": "stream",
          "text": [
            "epoch:1, train loss:1.2268117087757062, train accuracy:0.5930555555555556, validation loss:0.7324532595223541, validation accuracy:0.7483333333333333\n",
            "epoch:2, train loss:0.6523133297462188, train accuracy:0.7826851851851852, validation loss:0.5903949980909616, validation accuracy:0.808\n",
            "epoch:3, train loss:0.5638403125624808, train accuracy:0.8146296296296296, validation loss:0.5366487591505334, validation accuracy:0.818\n",
            "epoch:4, train loss:0.524036637706117, train accuracy:0.8251296296296297, validation loss:0.506323928109196, validation accuracy:0.8278333333333333\n",
            "epoch:5, train loss:0.5022875011461173, train accuracy:0.8318703703703704, validation loss:0.4951142698249425, validation accuracy:0.8355\n"
          ]
        },
        {
          "data": {
            "text/html": [
              "Waiting for W&B process to finish... <strong style=\"color:green\">(success).</strong>"
            ],
            "text/plain": [
              "<IPython.core.display.HTML object>"
            ]
          },
          "metadata": {},
          "output_type": "display_data"
        },
        {
          "data": {
            "application/vnd.jupyter.widget-view+json": {
              "model_id": "28ca1735d83f4330b3a1646e069e29dd",
              "version_major": 2,
              "version_minor": 0
            },
            "text/plain": [
              "VBox(children=(Label(value='0.001 MB of 0.024 MB uploaded (0.000 MB deduped)\\r'), FloatProgress(value=0.045559…"
            ]
          },
          "metadata": {},
          "output_type": "display_data"
        },
        {
          "data": {
            "text/html": [
              "<style>\n",
              "    table.wandb td:nth-child(1) { padding: 0 10px; text-align: left ; width: auto;} td:nth-child(2) {text-align: left ; width: 100%}\n",
              "    .wandb-row { display: flex; flex-direction: row; flex-wrap: wrap; justify-content: flex-start; width: 100% }\n",
              "    .wandb-col { display: flex; flex-direction: column; flex-basis: 100%; flex: 1; padding: 10px; }\n",
              "    </style>\n",
              "<div class=\"wandb-row\"><div class=\"wandb-col\"><h3>Run history:</h3><br/><table class=\"wandb\"><tr><td>train accuracy</td><td>▁▇▇██</td></tr><tr><td>train loss</td><td>█▂▂▁▁</td></tr><tr><td>validation accuracy</td><td>▁▆▇▇█</td></tr><tr><td>validation loss</td><td>█▄▂▁▁</td></tr></table><br/></div><div class=\"wandb-col\"><h3>Run summary:</h3><br/><table class=\"wandb\"><tr><td>train accuracy</td><td>0.83187</td></tr><tr><td>train loss</td><td>0.50229</td></tr><tr><td>validation accuracy</td><td>0.8355</td></tr><tr><td>validation loss</td><td>0.49511</td></tr></table><br/></div></div>"
            ],
            "text/plain": [
              "<IPython.core.display.HTML object>"
            ]
          },
          "metadata": {},
          "output_type": "display_data"
        },
        {
          "data": {
            "text/html": [
              " View run <strong style=\"color:#cdcd00\">dainty-sweep-66</strong> at: <a href='https://wandb.ai/cs22m019/DL%20Final%20Assignment%201/runs/bombnay3' target=\"_blank\">https://wandb.ai/cs22m019/DL%20Final%20Assignment%201/runs/bombnay3</a><br/>Synced 6 W&B file(s), 0 media file(s), 0 artifact file(s) and 0 other file(s)"
            ],
            "text/plain": [
              "<IPython.core.display.HTML object>"
            ]
          },
          "metadata": {},
          "output_type": "display_data"
        },
        {
          "data": {
            "text/html": [
              "Find logs at: <code>.\\wandb\\run-20230310_033500-bombnay3\\logs</code>"
            ],
            "text/plain": [
              "<IPython.core.display.HTML object>"
            ]
          },
          "metadata": {},
          "output_type": "display_data"
        },
        {
          "name": "stderr",
          "output_type": "stream",
          "text": [
            "\u001b[34m\u001b[1mwandb\u001b[0m: Agent Starting Run: mrfo3otd with config:\n",
            "\u001b[34m\u001b[1mwandb\u001b[0m: \tactivation: ReLU\n",
            "\u001b[34m\u001b[1mwandb\u001b[0m: \tbatch_size: 16\n",
            "\u001b[34m\u001b[1mwandb\u001b[0m: \tepochs: 5\n",
            "\u001b[34m\u001b[1mwandb\u001b[0m: \tlearning_rate: 0.0001\n",
            "\u001b[34m\u001b[1mwandb\u001b[0m: \tnumber_of_hidden_layer: 3\n",
            "\u001b[34m\u001b[1mwandb\u001b[0m: \toptimizer: momentum\n",
            "\u001b[34m\u001b[1mwandb\u001b[0m: \tsize_of_hidden_layer: 32\n",
            "\u001b[34m\u001b[1mwandb\u001b[0m: \tweight_decay: 0\n",
            "\u001b[34m\u001b[1mwandb\u001b[0m: \tweight_initialization: random\n"
          ]
        },
        {
          "data": {
            "text/html": [
              "Tracking run with wandb version 0.13.11"
            ],
            "text/plain": [
              "<IPython.core.display.HTML object>"
            ]
          },
          "metadata": {},
          "output_type": "display_data"
        },
        {
          "data": {
            "text/html": [
              "Run data is saved locally in <code>C:\\Users\\DELL\\Desktop\\wandb\\run-20230310_033606-mrfo3otd</code>"
            ],
            "text/plain": [
              "<IPython.core.display.HTML object>"
            ]
          },
          "metadata": {},
          "output_type": "display_data"
        },
        {
          "data": {
            "text/html": [
              "Syncing run <strong><a href='https://wandb.ai/cs22m019/DL%20Final%20Assignment%201/runs/mrfo3otd' target=\"_blank\">solar-sweep-67</a></strong> to <a href='https://wandb.ai/cs22m019/DL%20Final%20Assignment%201' target=\"_blank\">Weights & Biases</a> (<a href='https://wandb.me/run' target=\"_blank\">docs</a>)<br/>Sweep page: <a href='https://wandb.ai/cs22m019/DL%20Final%20Assignment%201/sweeps/eayjxkwm' target=\"_blank\">https://wandb.ai/cs22m019/DL%20Final%20Assignment%201/sweeps/eayjxkwm</a>"
            ],
            "text/plain": [
              "<IPython.core.display.HTML object>"
            ]
          },
          "metadata": {},
          "output_type": "display_data"
        },
        {
          "data": {
            "text/html": [
              " View project at <a href='https://wandb.ai/cs22m019/DL%20Final%20Assignment%201' target=\"_blank\">https://wandb.ai/cs22m019/DL%20Final%20Assignment%201</a>"
            ],
            "text/plain": [
              "<IPython.core.display.HTML object>"
            ]
          },
          "metadata": {},
          "output_type": "display_data"
        },
        {
          "data": {
            "text/html": [
              " View sweep at <a href='https://wandb.ai/cs22m019/DL%20Final%20Assignment%201/sweeps/eayjxkwm' target=\"_blank\">https://wandb.ai/cs22m019/DL%20Final%20Assignment%201/sweeps/eayjxkwm</a>"
            ],
            "text/plain": [
              "<IPython.core.display.HTML object>"
            ]
          },
          "metadata": {},
          "output_type": "display_data"
        },
        {
          "data": {
            "text/html": [
              " View run at <a href='https://wandb.ai/cs22m019/DL%20Final%20Assignment%201/runs/mrfo3otd' target=\"_blank\">https://wandb.ai/cs22m019/DL%20Final%20Assignment%201/runs/mrfo3otd</a>"
            ],
            "text/plain": [
              "<IPython.core.display.HTML object>"
            ]
          },
          "metadata": {},
          "output_type": "display_data"
        },
        {
          "name": "stdout",
          "output_type": "stream",
          "text": [
            "epoch:1, train loss:4.643631148668726, train accuracy:0.26587037037037037, validation loss:2.370543482885009, validation accuracy:0.35133333333333333\n",
            "epoch:2, train loss:2.024513859129343, train accuracy:0.40796296296296297, validation loss:1.8352575487606673, validation accuracy:0.43233333333333335\n",
            "epoch:3, train loss:1.697166220090992, train accuracy:0.4605740740740741, validation loss:1.6287761117399562, validation accuracy:0.4653333333333333\n",
            "epoch:4, train loss:1.5431866941162573, train accuracy:0.48924074074074075, validation loss:1.5126694348894896, validation accuracy:0.49\n",
            "epoch:5, train loss:1.4481013499748738, train accuracy:0.5099814814814815, validation loss:1.4347144414982451, validation accuracy:0.5065\n"
          ]
        },
        {
          "data": {
            "text/html": [
              "Waiting for W&B process to finish... <strong style=\"color:green\">(success).</strong>"
            ],
            "text/plain": [
              "<IPython.core.display.HTML object>"
            ]
          },
          "metadata": {},
          "output_type": "display_data"
        },
        {
          "data": {
            "application/vnd.jupyter.widget-view+json": {
              "model_id": "39588bba53ca457db59af091ec160c97",
              "version_major": 2,
              "version_minor": 0
            },
            "text/plain": [
              "VBox(children=(Label(value='0.001 MB of 0.001 MB uploaded (0.000 MB deduped)\\r'), FloatProgress(value=1.0, max…"
            ]
          },
          "metadata": {},
          "output_type": "display_data"
        },
        {
          "data": {
            "text/html": [
              "<style>\n",
              "    table.wandb td:nth-child(1) { padding: 0 10px; text-align: left ; width: auto;} td:nth-child(2) {text-align: left ; width: 100%}\n",
              "    .wandb-row { display: flex; flex-direction: row; flex-wrap: wrap; justify-content: flex-start; width: 100% }\n",
              "    .wandb-col { display: flex; flex-direction: column; flex-basis: 100%; flex: 1; padding: 10px; }\n",
              "    </style>\n",
              "<div class=\"wandb-row\"><div class=\"wandb-col\"><h3>Run history:</h3><br/><table class=\"wandb\"><tr><td>train accuracy</td><td>▁▅▇▇█</td></tr><tr><td>train loss</td><td>█▂▂▁▁</td></tr><tr><td>validation accuracy</td><td>▁▅▆▇█</td></tr><tr><td>validation loss</td><td>█▄▂▂▁</td></tr></table><br/></div><div class=\"wandb-col\"><h3>Run summary:</h3><br/><table class=\"wandb\"><tr><td>train accuracy</td><td>0.50998</td></tr><tr><td>train loss</td><td>1.4481</td></tr><tr><td>validation accuracy</td><td>0.5065</td></tr><tr><td>validation loss</td><td>1.43471</td></tr></table><br/></div></div>"
            ],
            "text/plain": [
              "<IPython.core.display.HTML object>"
            ]
          },
          "metadata": {},
          "output_type": "display_data"
        },
        {
          "data": {
            "text/html": [
              " View run <strong style=\"color:#cdcd00\">solar-sweep-67</strong> at: <a href='https://wandb.ai/cs22m019/DL%20Final%20Assignment%201/runs/mrfo3otd' target=\"_blank\">https://wandb.ai/cs22m019/DL%20Final%20Assignment%201/runs/mrfo3otd</a><br/>Synced 6 W&B file(s), 0 media file(s), 0 artifact file(s) and 0 other file(s)"
            ],
            "text/plain": [
              "<IPython.core.display.HTML object>"
            ]
          },
          "metadata": {},
          "output_type": "display_data"
        },
        {
          "data": {
            "text/html": [
              "Find logs at: <code>.\\wandb\\run-20230310_033606-mrfo3otd\\logs</code>"
            ],
            "text/plain": [
              "<IPython.core.display.HTML object>"
            ]
          },
          "metadata": {},
          "output_type": "display_data"
        },
        {
          "name": "stderr",
          "output_type": "stream",
          "text": [
            "\u001b[34m\u001b[1mwandb\u001b[0m: Agent Starting Run: 9r6zplyp with config:\n",
            "\u001b[34m\u001b[1mwandb\u001b[0m: \tactivation: sigmoid\n",
            "\u001b[34m\u001b[1mwandb\u001b[0m: \tbatch_size: 64\n",
            "\u001b[34m\u001b[1mwandb\u001b[0m: \tepochs: 5\n",
            "\u001b[34m\u001b[1mwandb\u001b[0m: \tlearning_rate: 0.001\n",
            "\u001b[34m\u001b[1mwandb\u001b[0m: \tnumber_of_hidden_layer: 3\n",
            "\u001b[34m\u001b[1mwandb\u001b[0m: \toptimizer: rmsprop\n",
            "\u001b[34m\u001b[1mwandb\u001b[0m: \tsize_of_hidden_layer: 64\n",
            "\u001b[34m\u001b[1mwandb\u001b[0m: \tweight_decay: 0.0005\n",
            "\u001b[34m\u001b[1mwandb\u001b[0m: \tweight_initialization: Xavier\n"
          ]
        },
        {
          "data": {
            "text/html": [
              "Tracking run with wandb version 0.13.11"
            ],
            "text/plain": [
              "<IPython.core.display.HTML object>"
            ]
          },
          "metadata": {},
          "output_type": "display_data"
        },
        {
          "data": {
            "text/html": [
              "Run data is saved locally in <code>C:\\Users\\DELL\\Desktop\\wandb\\run-20230310_033700-9r6zplyp</code>"
            ],
            "text/plain": [
              "<IPython.core.display.HTML object>"
            ]
          },
          "metadata": {},
          "output_type": "display_data"
        },
        {
          "data": {
            "text/html": [
              "Syncing run <strong><a href='https://wandb.ai/cs22m019/DL%20Final%20Assignment%201/runs/9r6zplyp' target=\"_blank\">balmy-sweep-68</a></strong> to <a href='https://wandb.ai/cs22m019/DL%20Final%20Assignment%201' target=\"_blank\">Weights & Biases</a> (<a href='https://wandb.me/run' target=\"_blank\">docs</a>)<br/>Sweep page: <a href='https://wandb.ai/cs22m019/DL%20Final%20Assignment%201/sweeps/eayjxkwm' target=\"_blank\">https://wandb.ai/cs22m019/DL%20Final%20Assignment%201/sweeps/eayjxkwm</a>"
            ],
            "text/plain": [
              "<IPython.core.display.HTML object>"
            ]
          },
          "metadata": {},
          "output_type": "display_data"
        },
        {
          "data": {
            "text/html": [
              " View project at <a href='https://wandb.ai/cs22m019/DL%20Final%20Assignment%201' target=\"_blank\">https://wandb.ai/cs22m019/DL%20Final%20Assignment%201</a>"
            ],
            "text/plain": [
              "<IPython.core.display.HTML object>"
            ]
          },
          "metadata": {},
          "output_type": "display_data"
        },
        {
          "data": {
            "text/html": [
              " View sweep at <a href='https://wandb.ai/cs22m019/DL%20Final%20Assignment%201/sweeps/eayjxkwm' target=\"_blank\">https://wandb.ai/cs22m019/DL%20Final%20Assignment%201/sweeps/eayjxkwm</a>"
            ],
            "text/plain": [
              "<IPython.core.display.HTML object>"
            ]
          },
          "metadata": {},
          "output_type": "display_data"
        },
        {
          "data": {
            "text/html": [
              " View run at <a href='https://wandb.ai/cs22m019/DL%20Final%20Assignment%201/runs/9r6zplyp' target=\"_blank\">https://wandb.ai/cs22m019/DL%20Final%20Assignment%201/runs/9r6zplyp</a>"
            ],
            "text/plain": [
              "<IPython.core.display.HTML object>"
            ]
          },
          "metadata": {},
          "output_type": "display_data"
        },
        {
          "name": "stdout",
          "output_type": "stream",
          "text": [
            "epoch:1, train loss:2.5213410257545577, train accuracy:0.10433333333333333, validation loss:2.417328400936573, validation accuracy:0.1455\n",
            "epoch:2, train loss:2.329732043501748, train accuracy:0.28024074074074073, validation loss:2.2826366729174663, validation accuracy:0.4085\n",
            "epoch:3, train loss:2.2259415083837872, train accuracy:0.4677777777777778, validation loss:2.188316891360885, validation accuracy:0.4683333333333333\n",
            "epoch:4, train loss:2.140099410427271, train accuracy:0.5257037037037037, validation loss:2.1016767561297285, validation accuracy:0.5433333333333333\n",
            "epoch:5, train loss:2.049041094229509, train accuracy:0.5433148148148148, validation loss:2.0048222017814465, validation accuracy:0.5283333333333333\n"
          ]
        },
        {
          "data": {
            "text/html": [
              "Waiting for W&B process to finish... <strong style=\"color:green\">(success).</strong>"
            ],
            "text/plain": [
              "<IPython.core.display.HTML object>"
            ]
          },
          "metadata": {},
          "output_type": "display_data"
        },
        {
          "data": {
            "application/vnd.jupyter.widget-view+json": {
              "model_id": "090e1b1a81d74109816e7a724428463b",
              "version_major": 2,
              "version_minor": 0
            },
            "text/plain": [
              "VBox(children=(Label(value='0.001 MB of 0.001 MB uploaded (0.000 MB deduped)\\r'), FloatProgress(value=1.0, max…"
            ]
          },
          "metadata": {},
          "output_type": "display_data"
        },
        {
          "data": {
            "text/html": [
              "<style>\n",
              "    table.wandb td:nth-child(1) { padding: 0 10px; text-align: left ; width: auto;} td:nth-child(2) {text-align: left ; width: 100%}\n",
              "    .wandb-row { display: flex; flex-direction: row; flex-wrap: wrap; justify-content: flex-start; width: 100% }\n",
              "    .wandb-col { display: flex; flex-direction: column; flex-basis: 100%; flex: 1; padding: 10px; }\n",
              "    </style>\n",
              "<div class=\"wandb-row\"><div class=\"wandb-col\"><h3>Run history:</h3><br/><table class=\"wandb\"><tr><td>train accuracy</td><td>▁▄▇██</td></tr><tr><td>train loss</td><td>█▅▄▂▁</td></tr><tr><td>validation accuracy</td><td>▁▆▇██</td></tr><tr><td>validation loss</td><td>█▆▄▃▁</td></tr></table><br/></div><div class=\"wandb-col\"><h3>Run summary:</h3><br/><table class=\"wandb\"><tr><td>train accuracy</td><td>0.54331</td></tr><tr><td>train loss</td><td>2.04904</td></tr><tr><td>validation accuracy</td><td>0.52833</td></tr><tr><td>validation loss</td><td>2.00482</td></tr></table><br/></div></div>"
            ],
            "text/plain": [
              "<IPython.core.display.HTML object>"
            ]
          },
          "metadata": {},
          "output_type": "display_data"
        },
        {
          "data": {
            "text/html": [
              " View run <strong style=\"color:#cdcd00\">balmy-sweep-68</strong> at: <a href='https://wandb.ai/cs22m019/DL%20Final%20Assignment%201/runs/9r6zplyp' target=\"_blank\">https://wandb.ai/cs22m019/DL%20Final%20Assignment%201/runs/9r6zplyp</a><br/>Synced 6 W&B file(s), 0 media file(s), 0 artifact file(s) and 0 other file(s)"
            ],
            "text/plain": [
              "<IPython.core.display.HTML object>"
            ]
          },
          "metadata": {},
          "output_type": "display_data"
        },
        {
          "data": {
            "text/html": [
              "Find logs at: <code>.\\wandb\\run-20230310_033700-9r6zplyp\\logs</code>"
            ],
            "text/plain": [
              "<IPython.core.display.HTML object>"
            ]
          },
          "metadata": {},
          "output_type": "display_data"
        },
        {
          "name": "stderr",
          "output_type": "stream",
          "text": [
            "\u001b[34m\u001b[1mwandb\u001b[0m: Agent Starting Run: sbq3vmma with config:\n",
            "\u001b[34m\u001b[1mwandb\u001b[0m: \tactivation: tanh\n",
            "\u001b[34m\u001b[1mwandb\u001b[0m: \tbatch_size: 64\n",
            "\u001b[34m\u001b[1mwandb\u001b[0m: \tepochs: 10\n",
            "\u001b[34m\u001b[1mwandb\u001b[0m: \tlearning_rate: 0.0001\n",
            "\u001b[34m\u001b[1mwandb\u001b[0m: \tnumber_of_hidden_layer: 3\n",
            "\u001b[34m\u001b[1mwandb\u001b[0m: \toptimizer: adam\n",
            "\u001b[34m\u001b[1mwandb\u001b[0m: \tsize_of_hidden_layer: 32\n",
            "\u001b[34m\u001b[1mwandb\u001b[0m: \tweight_decay: 0\n",
            "\u001b[34m\u001b[1mwandb\u001b[0m: \tweight_initialization: Xavier\n"
          ]
        },
        {
          "data": {
            "application/vnd.jupyter.widget-view+json": {
              "model_id": "debdd22ef60447ff8b2acb10581c9574",
              "version_major": 2,
              "version_minor": 0
            },
            "text/plain": [
              "VBox(children=(Label(value='Waiting for wandb.init()...\\r'), FloatProgress(value=0.016666666666666666, max=1.0…"
            ]
          },
          "metadata": {},
          "output_type": "display_data"
        },
        {
          "data": {
            "text/html": [
              "Tracking run with wandb version 0.13.11"
            ],
            "text/plain": [
              "<IPython.core.display.HTML object>"
            ]
          },
          "metadata": {},
          "output_type": "display_data"
        },
        {
          "data": {
            "text/html": [
              "Run data is saved locally in <code>C:\\Users\\DELL\\Desktop\\wandb\\run-20230310_033808-sbq3vmma</code>"
            ],
            "text/plain": [
              "<IPython.core.display.HTML object>"
            ]
          },
          "metadata": {},
          "output_type": "display_data"
        },
        {
          "data": {
            "text/html": [
              "Syncing run <strong><a href='https://wandb.ai/cs22m019/DL%20Final%20Assignment%201/runs/sbq3vmma' target=\"_blank\">dark-sweep-69</a></strong> to <a href='https://wandb.ai/cs22m019/DL%20Final%20Assignment%201' target=\"_blank\">Weights & Biases</a> (<a href='https://wandb.me/run' target=\"_blank\">docs</a>)<br/>Sweep page: <a href='https://wandb.ai/cs22m019/DL%20Final%20Assignment%201/sweeps/eayjxkwm' target=\"_blank\">https://wandb.ai/cs22m019/DL%20Final%20Assignment%201/sweeps/eayjxkwm</a>"
            ],
            "text/plain": [
              "<IPython.core.display.HTML object>"
            ]
          },
          "metadata": {},
          "output_type": "display_data"
        },
        {
          "data": {
            "text/html": [
              " View project at <a href='https://wandb.ai/cs22m019/DL%20Final%20Assignment%201' target=\"_blank\">https://wandb.ai/cs22m019/DL%20Final%20Assignment%201</a>"
            ],
            "text/plain": [
              "<IPython.core.display.HTML object>"
            ]
          },
          "metadata": {},
          "output_type": "display_data"
        },
        {
          "data": {
            "text/html": [
              " View sweep at <a href='https://wandb.ai/cs22m019/DL%20Final%20Assignment%201/sweeps/eayjxkwm' target=\"_blank\">https://wandb.ai/cs22m019/DL%20Final%20Assignment%201/sweeps/eayjxkwm</a>"
            ],
            "text/plain": [
              "<IPython.core.display.HTML object>"
            ]
          },
          "metadata": {},
          "output_type": "display_data"
        },
        {
          "data": {
            "text/html": [
              " View run at <a href='https://wandb.ai/cs22m019/DL%20Final%20Assignment%201/runs/sbq3vmma' target=\"_blank\">https://wandb.ai/cs22m019/DL%20Final%20Assignment%201/runs/sbq3vmma</a>"
            ],
            "text/plain": [
              "<IPython.core.display.HTML object>"
            ]
          },
          "metadata": {},
          "output_type": "display_data"
        },
        {
          "name": "stdout",
          "output_type": "stream",
          "text": [
            "epoch:1, train loss:2.574462437751123, train accuracy:0.045425925925925925, validation loss:2.4447769607125434, validation accuracy:0.0785\n",
            "epoch:2, train loss:2.3437003360794466, train accuracy:0.09838888888888889, validation loss:2.2462712872122177, validation accuracy:0.129\n",
            "epoch:3, train loss:2.1749877962457487, train accuracy:0.18485185185185185, validation loss:2.108755459141239, validation accuracy:0.24583333333333332\n",
            "epoch:4, train loss:2.056096164221487, train accuracy:0.27770370370370373, validation loss:2.0046586484440048, validation accuracy:0.30983333333333335\n",
            "epoch:5, train loss:1.9599728928239486, train accuracy:0.32655555555555554, validation loss:1.9164667558583346, validation accuracy:0.35033333333333333\n",
            "epoch:6, train loss:1.8772246474956542, train accuracy:0.3607962962962963, validation loss:1.8388644939162784, validation accuracy:0.37916666666666665\n",
            "epoch:7, train loss:1.8033096376516977, train accuracy:0.3897962962962963, validation loss:1.7689613333925953, validation accuracy:0.411\n",
            "epoch:8, train loss:1.736528138563063, train accuracy:0.4214259259259259, validation loss:1.7059173320622145, validation accuracy:0.4405\n",
            "epoch:9, train loss:1.676431653483728, train accuracy:0.4527037037037037, validation loss:1.6492944892504835, validation accuracy:0.4698333333333333\n",
            "epoch:10, train loss:1.6222619058353553, train accuracy:0.48074074074074075, validation loss:1.5980707352883283, validation accuracy:0.49433333333333335\n"
          ]
        },
        {
          "data": {
            "text/html": [
              "Waiting for W&B process to finish... <strong style=\"color:green\">(success).</strong>"
            ],
            "text/plain": [
              "<IPython.core.display.HTML object>"
            ]
          },
          "metadata": {},
          "output_type": "display_data"
        },
        {
          "data": {
            "application/vnd.jupyter.widget-view+json": {
              "model_id": "ad5b959be112436a86b913b713ac2862",
              "version_major": 2,
              "version_minor": 0
            },
            "text/plain": [
              "VBox(children=(Label(value='0.001 MB of 0.001 MB uploaded (0.000 MB deduped)\\r'), FloatProgress(value=1.0, max…"
            ]
          },
          "metadata": {},
          "output_type": "display_data"
        },
        {
          "data": {
            "text/html": [
              "<style>\n",
              "    table.wandb td:nth-child(1) { padding: 0 10px; text-align: left ; width: auto;} td:nth-child(2) {text-align: left ; width: 100%}\n",
              "    .wandb-row { display: flex; flex-direction: row; flex-wrap: wrap; justify-content: flex-start; width: 100% }\n",
              "    .wandb-col { display: flex; flex-direction: column; flex-basis: 100%; flex: 1; padding: 10px; }\n",
              "    </style>\n",
              "<div class=\"wandb-row\"><div class=\"wandb-col\"><h3>Run history:</h3><br/><table class=\"wandb\"><tr><td>train accuracy</td><td>▁▂▃▅▆▆▇▇██</td></tr><tr><td>train loss</td><td>█▆▅▄▃▃▂▂▁▁</td></tr><tr><td>validation accuracy</td><td>▁▂▄▅▆▆▇▇██</td></tr><tr><td>validation loss</td><td>█▆▅▄▄▃▂▂▁▁</td></tr></table><br/></div><div class=\"wandb-col\"><h3>Run summary:</h3><br/><table class=\"wandb\"><tr><td>train accuracy</td><td>0.48074</td></tr><tr><td>train loss</td><td>1.62226</td></tr><tr><td>validation accuracy</td><td>0.49433</td></tr><tr><td>validation loss</td><td>1.59807</td></tr></table><br/></div></div>"
            ],
            "text/plain": [
              "<IPython.core.display.HTML object>"
            ]
          },
          "metadata": {},
          "output_type": "display_data"
        },
        {
          "data": {
            "text/html": [
              " View run <strong style=\"color:#cdcd00\">dark-sweep-69</strong> at: <a href='https://wandb.ai/cs22m019/DL%20Final%20Assignment%201/runs/sbq3vmma' target=\"_blank\">https://wandb.ai/cs22m019/DL%20Final%20Assignment%201/runs/sbq3vmma</a><br/>Synced 6 W&B file(s), 0 media file(s), 0 artifact file(s) and 0 other file(s)"
            ],
            "text/plain": [
              "<IPython.core.display.HTML object>"
            ]
          },
          "metadata": {},
          "output_type": "display_data"
        },
        {
          "data": {
            "text/html": [
              "Find logs at: <code>.\\wandb\\run-20230310_033808-sbq3vmma\\logs</code>"
            ],
            "text/plain": [
              "<IPython.core.display.HTML object>"
            ]
          },
          "metadata": {},
          "output_type": "display_data"
        },
        {
          "name": "stderr",
          "output_type": "stream",
          "text": [
            "\u001b[34m\u001b[1mwandb\u001b[0m: Agent Starting Run: xv87g6cj with config:\n",
            "\u001b[34m\u001b[1mwandb\u001b[0m: \tactivation: tanh\n",
            "\u001b[34m\u001b[1mwandb\u001b[0m: \tbatch_size: 64\n",
            "\u001b[34m\u001b[1mwandb\u001b[0m: \tepochs: 5\n",
            "\u001b[34m\u001b[1mwandb\u001b[0m: \tlearning_rate: 0.0001\n",
            "\u001b[34m\u001b[1mwandb\u001b[0m: \tnumber_of_hidden_layer: 3\n",
            "\u001b[34m\u001b[1mwandb\u001b[0m: \toptimizer: adam\n",
            "\u001b[34m\u001b[1mwandb\u001b[0m: \tsize_of_hidden_layer: 64\n",
            "\u001b[34m\u001b[1mwandb\u001b[0m: \tweight_decay: 0.5\n",
            "\u001b[34m\u001b[1mwandb\u001b[0m: \tweight_initialization: random\n"
          ]
        },
        {
          "data": {
            "text/html": [
              "Tracking run with wandb version 0.13.11"
            ],
            "text/plain": [
              "<IPython.core.display.HTML object>"
            ]
          },
          "metadata": {},
          "output_type": "display_data"
        },
        {
          "data": {
            "text/html": [
              "Run data is saved locally in <code>C:\\Users\\DELL\\Desktop\\wandb\\run-20230310_033944-xv87g6cj</code>"
            ],
            "text/plain": [
              "<IPython.core.display.HTML object>"
            ]
          },
          "metadata": {},
          "output_type": "display_data"
        },
        {
          "data": {
            "text/html": [
              "Syncing run <strong><a href='https://wandb.ai/cs22m019/DL%20Final%20Assignment%201/runs/xv87g6cj' target=\"_blank\">denim-sweep-70</a></strong> to <a href='https://wandb.ai/cs22m019/DL%20Final%20Assignment%201' target=\"_blank\">Weights & Biases</a> (<a href='https://wandb.me/run' target=\"_blank\">docs</a>)<br/>Sweep page: <a href='https://wandb.ai/cs22m019/DL%20Final%20Assignment%201/sweeps/eayjxkwm' target=\"_blank\">https://wandb.ai/cs22m019/DL%20Final%20Assignment%201/sweeps/eayjxkwm</a>"
            ],
            "text/plain": [
              "<IPython.core.display.HTML object>"
            ]
          },
          "metadata": {},
          "output_type": "display_data"
        },
        {
          "data": {
            "text/html": [
              " View project at <a href='https://wandb.ai/cs22m019/DL%20Final%20Assignment%201' target=\"_blank\">https://wandb.ai/cs22m019/DL%20Final%20Assignment%201</a>"
            ],
            "text/plain": [
              "<IPython.core.display.HTML object>"
            ]
          },
          "metadata": {},
          "output_type": "display_data"
        },
        {
          "data": {
            "text/html": [
              " View sweep at <a href='https://wandb.ai/cs22m019/DL%20Final%20Assignment%201/sweeps/eayjxkwm' target=\"_blank\">https://wandb.ai/cs22m019/DL%20Final%20Assignment%201/sweeps/eayjxkwm</a>"
            ],
            "text/plain": [
              "<IPython.core.display.HTML object>"
            ]
          },
          "metadata": {},
          "output_type": "display_data"
        },
        {
          "data": {
            "text/html": [
              " View run at <a href='https://wandb.ai/cs22m019/DL%20Final%20Assignment%201/runs/xv87g6cj' target=\"_blank\">https://wandb.ai/cs22m019/DL%20Final%20Assignment%201/runs/xv87g6cj</a>"
            ],
            "text/plain": [
              "<IPython.core.display.HTML object>"
            ]
          },
          "metadata": {},
          "output_type": "display_data"
        },
        {
          "name": "stdout",
          "output_type": "stream",
          "text": [
            "epoch:1, train loss:6.271291040479149, train accuracy:0.09651851851851852, validation loss:6.167389465964502, validation accuracy:0.09416666666666666\n",
            "epoch:2, train loss:5.967416413252413, train accuracy:0.10462962962962963, validation loss:5.8891544833827885, validation accuracy:0.10316666666666667\n",
            "epoch:3, train loss:5.701336771661403, train accuracy:0.11335185185185186, validation loss:5.636239440716554, validation accuracy:0.11066666666666666\n",
            "epoch:4, train loss:5.459133060078896, train accuracy:0.1247962962962963, validation loss:5.401868280296413, validation accuracy:0.12183333333333334\n",
            "epoch:5, train loss:5.235519447786837, train accuracy:0.13598148148148148, validation loss:5.1867262294714305, validation accuracy:0.13416666666666666\n"
          ]
        },
        {
          "data": {
            "text/html": [
              "Waiting for W&B process to finish... <strong style=\"color:green\">(success).</strong>"
            ],
            "text/plain": [
              "<IPython.core.display.HTML object>"
            ]
          },
          "metadata": {},
          "output_type": "display_data"
        },
        {
          "data": {
            "application/vnd.jupyter.widget-view+json": {
              "model_id": "02bd2ae8ea9347d1adb8877ad5548c95",
              "version_major": 2,
              "version_minor": 0
            },
            "text/plain": [
              "VBox(children=(Label(value='0.001 MB of 0.001 MB uploaded (0.000 MB deduped)\\r'), FloatProgress(value=1.0, max…"
            ]
          },
          "metadata": {},
          "output_type": "display_data"
        },
        {
          "data": {
            "text/html": [
              "<style>\n",
              "    table.wandb td:nth-child(1) { padding: 0 10px; text-align: left ; width: auto;} td:nth-child(2) {text-align: left ; width: 100%}\n",
              "    .wandb-row { display: flex; flex-direction: row; flex-wrap: wrap; justify-content: flex-start; width: 100% }\n",
              "    .wandb-col { display: flex; flex-direction: column; flex-basis: 100%; flex: 1; padding: 10px; }\n",
              "    </style>\n",
              "<div class=\"wandb-row\"><div class=\"wandb-col\"><h3>Run history:</h3><br/><table class=\"wandb\"><tr><td>train accuracy</td><td>▁▂▄▆█</td></tr><tr><td>train loss</td><td>█▆▄▃▁</td></tr><tr><td>validation accuracy</td><td>▁▃▄▆█</td></tr><tr><td>validation loss</td><td>█▆▄▃▁</td></tr></table><br/></div><div class=\"wandb-col\"><h3>Run summary:</h3><br/><table class=\"wandb\"><tr><td>train accuracy</td><td>0.13598</td></tr><tr><td>train loss</td><td>5.23552</td></tr><tr><td>validation accuracy</td><td>0.13417</td></tr><tr><td>validation loss</td><td>5.18673</td></tr></table><br/></div></div>"
            ],
            "text/plain": [
              "<IPython.core.display.HTML object>"
            ]
          },
          "metadata": {},
          "output_type": "display_data"
        },
        {
          "data": {
            "text/html": [
              " View run <strong style=\"color:#cdcd00\">denim-sweep-70</strong> at: <a href='https://wandb.ai/cs22m019/DL%20Final%20Assignment%201/runs/xv87g6cj' target=\"_blank\">https://wandb.ai/cs22m019/DL%20Final%20Assignment%201/runs/xv87g6cj</a><br/>Synced 6 W&B file(s), 0 media file(s), 0 artifact file(s) and 0 other file(s)"
            ],
            "text/plain": [
              "<IPython.core.display.HTML object>"
            ]
          },
          "metadata": {},
          "output_type": "display_data"
        },
        {
          "data": {
            "text/html": [
              "Find logs at: <code>.\\wandb\\run-20230310_033944-xv87g6cj\\logs</code>"
            ],
            "text/plain": [
              "<IPython.core.display.HTML object>"
            ]
          },
          "metadata": {},
          "output_type": "display_data"
        },
        {
          "name": "stderr",
          "output_type": "stream",
          "text": [
            "\u001b[34m\u001b[1mwandb\u001b[0m: Agent Starting Run: oncsu3bl with config:\n",
            "\u001b[34m\u001b[1mwandb\u001b[0m: \tactivation: sigmoid\n",
            "\u001b[34m\u001b[1mwandb\u001b[0m: \tbatch_size: 32\n",
            "\u001b[34m\u001b[1mwandb\u001b[0m: \tepochs: 5\n",
            "\u001b[34m\u001b[1mwandb\u001b[0m: \tlearning_rate: 0.001\n",
            "\u001b[34m\u001b[1mwandb\u001b[0m: \tnumber_of_hidden_layer: 4\n",
            "\u001b[34m\u001b[1mwandb\u001b[0m: \toptimizer: nadam\n",
            "\u001b[34m\u001b[1mwandb\u001b[0m: \tsize_of_hidden_layer: 128\n",
            "\u001b[34m\u001b[1mwandb\u001b[0m: \tweight_decay: 0\n",
            "\u001b[34m\u001b[1mwandb\u001b[0m: \tweight_initialization: Xavier\n"
          ]
        },
        {
          "data": {
            "text/html": [
              "Tracking run with wandb version 0.13.11"
            ],
            "text/plain": [
              "<IPython.core.display.HTML object>"
            ]
          },
          "metadata": {},
          "output_type": "display_data"
        },
        {
          "data": {
            "text/html": [
              "Run data is saved locally in <code>C:\\Users\\DELL\\Desktop\\wandb\\run-20230310_034055-oncsu3bl</code>"
            ],
            "text/plain": [
              "<IPython.core.display.HTML object>"
            ]
          },
          "metadata": {},
          "output_type": "display_data"
        },
        {
          "data": {
            "text/html": [
              "Syncing run <strong><a href='https://wandb.ai/cs22m019/DL%20Final%20Assignment%201/runs/oncsu3bl' target=\"_blank\">driven-sweep-71</a></strong> to <a href='https://wandb.ai/cs22m019/DL%20Final%20Assignment%201' target=\"_blank\">Weights & Biases</a> (<a href='https://wandb.me/run' target=\"_blank\">docs</a>)<br/>Sweep page: <a href='https://wandb.ai/cs22m019/DL%20Final%20Assignment%201/sweeps/eayjxkwm' target=\"_blank\">https://wandb.ai/cs22m019/DL%20Final%20Assignment%201/sweeps/eayjxkwm</a>"
            ],
            "text/plain": [
              "<IPython.core.display.HTML object>"
            ]
          },
          "metadata": {},
          "output_type": "display_data"
        },
        {
          "data": {
            "text/html": [
              " View project at <a href='https://wandb.ai/cs22m019/DL%20Final%20Assignment%201' target=\"_blank\">https://wandb.ai/cs22m019/DL%20Final%20Assignment%201</a>"
            ],
            "text/plain": [
              "<IPython.core.display.HTML object>"
            ]
          },
          "metadata": {},
          "output_type": "display_data"
        },
        {
          "data": {
            "text/html": [
              " View sweep at <a href='https://wandb.ai/cs22m019/DL%20Final%20Assignment%201/sweeps/eayjxkwm' target=\"_blank\">https://wandb.ai/cs22m019/DL%20Final%20Assignment%201/sweeps/eayjxkwm</a>"
            ],
            "text/plain": [
              "<IPython.core.display.HTML object>"
            ]
          },
          "metadata": {},
          "output_type": "display_data"
        },
        {
          "data": {
            "text/html": [
              " View run at <a href='https://wandb.ai/cs22m019/DL%20Final%20Assignment%201/runs/oncsu3bl' target=\"_blank\">https://wandb.ai/cs22m019/DL%20Final%20Assignment%201/runs/oncsu3bl</a>"
            ],
            "text/plain": [
              "<IPython.core.display.HTML object>"
            ]
          },
          "metadata": {},
          "output_type": "display_data"
        },
        {
          "name": "stdout",
          "output_type": "stream",
          "text": [
            "epoch:1, train loss:2.2058655855399394, train accuracy:0.2072037037037037, validation loss:1.9228904666929822, validation accuracy:0.22133333333333333\n",
            "epoch:2, train loss:1.7096156793536237, train accuracy:0.35474074074074075, validation loss:1.5435631583052327, validation accuracy:0.3988333333333333\n",
            "epoch:3, train loss:1.4033180491994701, train accuracy:0.4368148148148148, validation loss:1.3014316793406033, validation accuracy:0.4638333333333333\n",
            "epoch:4, train loss:1.2225619746486696, train accuracy:0.5454814814814815, validation loss:1.1582296192541557, validation accuracy:0.579\n",
            "epoch:5, train loss:1.0922482216427123, train accuracy:0.6105185185185186, validation loss:1.0368690730968952, validation accuracy:0.6081666666666666\n"
          ]
        },
        {
          "data": {
            "text/html": [
              "Waiting for W&B process to finish... <strong style=\"color:green\">(success).</strong>"
            ],
            "text/plain": [
              "<IPython.core.display.HTML object>"
            ]
          },
          "metadata": {},
          "output_type": "display_data"
        },
        {
          "data": {
            "application/vnd.jupyter.widget-view+json": {
              "model_id": "ed93f8ab358747229e750fde03f7c3b7",
              "version_major": 2,
              "version_minor": 0
            },
            "text/plain": [
              "VBox(children=(Label(value='0.001 MB of 0.001 MB uploaded (0.000 MB deduped)\\r'), FloatProgress(value=1.0, max…"
            ]
          },
          "metadata": {},
          "output_type": "display_data"
        },
        {
          "data": {
            "text/html": [
              "<style>\n",
              "    table.wandb td:nth-child(1) { padding: 0 10px; text-align: left ; width: auto;} td:nth-child(2) {text-align: left ; width: 100%}\n",
              "    .wandb-row { display: flex; flex-direction: row; flex-wrap: wrap; justify-content: flex-start; width: 100% }\n",
              "    .wandb-col { display: flex; flex-direction: column; flex-basis: 100%; flex: 1; padding: 10px; }\n",
              "    </style>\n",
              "<div class=\"wandb-row\"><div class=\"wandb-col\"><h3>Run history:</h3><br/><table class=\"wandb\"><tr><td>train accuracy</td><td>▁▄▅▇█</td></tr><tr><td>train loss</td><td>█▅▃▂▁</td></tr><tr><td>validation accuracy</td><td>▁▄▅▇█</td></tr><tr><td>validation loss</td><td>█▅▃▂▁</td></tr></table><br/></div><div class=\"wandb-col\"><h3>Run summary:</h3><br/><table class=\"wandb\"><tr><td>train accuracy</td><td>0.61052</td></tr><tr><td>train loss</td><td>1.09225</td></tr><tr><td>validation accuracy</td><td>0.60817</td></tr><tr><td>validation loss</td><td>1.03687</td></tr></table><br/></div></div>"
            ],
            "text/plain": [
              "<IPython.core.display.HTML object>"
            ]
          },
          "metadata": {},
          "output_type": "display_data"
        },
        {
          "data": {
            "text/html": [
              " View run <strong style=\"color:#cdcd00\">driven-sweep-71</strong> at: <a href='https://wandb.ai/cs22m019/DL%20Final%20Assignment%201/runs/oncsu3bl' target=\"_blank\">https://wandb.ai/cs22m019/DL%20Final%20Assignment%201/runs/oncsu3bl</a><br/>Synced 6 W&B file(s), 0 media file(s), 0 artifact file(s) and 0 other file(s)"
            ],
            "text/plain": [
              "<IPython.core.display.HTML object>"
            ]
          },
          "metadata": {},
          "output_type": "display_data"
        },
        {
          "data": {
            "text/html": [
              "Find logs at: <code>.\\wandb\\run-20230310_034055-oncsu3bl\\logs</code>"
            ],
            "text/plain": [
              "<IPython.core.display.HTML object>"
            ]
          },
          "metadata": {},
          "output_type": "display_data"
        },
        {
          "name": "stderr",
          "output_type": "stream",
          "text": [
            "\u001b[34m\u001b[1mwandb\u001b[0m: Sweep Agent: Waiting for job.\n",
            "\u001b[34m\u001b[1mwandb\u001b[0m: Job received.\n",
            "\u001b[34m\u001b[1mwandb\u001b[0m: Agent Starting Run: gustixjv with config:\n",
            "\u001b[34m\u001b[1mwandb\u001b[0m: \tactivation: ReLU\n",
            "\u001b[34m\u001b[1mwandb\u001b[0m: \tbatch_size: 16\n",
            "\u001b[34m\u001b[1mwandb\u001b[0m: \tepochs: 5\n",
            "\u001b[34m\u001b[1mwandb\u001b[0m: \tlearning_rate: 0.001\n",
            "\u001b[34m\u001b[1mwandb\u001b[0m: \tnumber_of_hidden_layer: 5\n",
            "\u001b[34m\u001b[1mwandb\u001b[0m: \toptimizer: sgd\n",
            "\u001b[34m\u001b[1mwandb\u001b[0m: \tsize_of_hidden_layer: 32\n",
            "\u001b[34m\u001b[1mwandb\u001b[0m: \tweight_decay: 0.5\n",
            "\u001b[34m\u001b[1mwandb\u001b[0m: \tweight_initialization: random\n"
          ]
        },
        {
          "data": {
            "text/html": [
              "Tracking run with wandb version 0.13.11"
            ],
            "text/plain": [
              "<IPython.core.display.HTML object>"
            ]
          },
          "metadata": {},
          "output_type": "display_data"
        },
        {
          "data": {
            "text/html": [
              "Run data is saved locally in <code>C:\\Users\\DELL\\Desktop\\wandb\\run-20230310_034354-gustixjv</code>"
            ],
            "text/plain": [
              "<IPython.core.display.HTML object>"
            ]
          },
          "metadata": {},
          "output_type": "display_data"
        },
        {
          "data": {
            "text/html": [
              "Syncing run <strong><a href='https://wandb.ai/cs22m019/DL%20Final%20Assignment%201/runs/gustixjv' target=\"_blank\">treasured-sweep-72</a></strong> to <a href='https://wandb.ai/cs22m019/DL%20Final%20Assignment%201' target=\"_blank\">Weights & Biases</a> (<a href='https://wandb.me/run' target=\"_blank\">docs</a>)<br/>Sweep page: <a href='https://wandb.ai/cs22m019/DL%20Final%20Assignment%201/sweeps/eayjxkwm' target=\"_blank\">https://wandb.ai/cs22m019/DL%20Final%20Assignment%201/sweeps/eayjxkwm</a>"
            ],
            "text/plain": [
              "<IPython.core.display.HTML object>"
            ]
          },
          "metadata": {},
          "output_type": "display_data"
        },
        {
          "data": {
            "text/html": [
              " View project at <a href='https://wandb.ai/cs22m019/DL%20Final%20Assignment%201' target=\"_blank\">https://wandb.ai/cs22m019/DL%20Final%20Assignment%201</a>"
            ],
            "text/plain": [
              "<IPython.core.display.HTML object>"
            ]
          },
          "metadata": {},
          "output_type": "display_data"
        },
        {
          "data": {
            "text/html": [
              " View sweep at <a href='https://wandb.ai/cs22m019/DL%20Final%20Assignment%201/sweeps/eayjxkwm' target=\"_blank\">https://wandb.ai/cs22m019/DL%20Final%20Assignment%201/sweeps/eayjxkwm</a>"
            ],
            "text/plain": [
              "<IPython.core.display.HTML object>"
            ]
          },
          "metadata": {},
          "output_type": "display_data"
        },
        {
          "data": {
            "text/html": [
              " View run at <a href='https://wandb.ai/cs22m019/DL%20Final%20Assignment%201/runs/gustixjv' target=\"_blank\">https://wandb.ai/cs22m019/DL%20Final%20Assignment%201/runs/gustixjv</a>"
            ],
            "text/plain": [
              "<IPython.core.display.HTML object>"
            ]
          },
          "metadata": {},
          "output_type": "display_data"
        },
        {
          "name": "stdout",
          "output_type": "stream",
          "text": [
            "epoch:1, train loss:8.17700950468422, train accuracy:0.3290925925925926, validation loss:5.5147123323035325, validation accuracy:0.416\n",
            "epoch:2, train loss:4.376798856125634, train accuracy:0.4177222222222222, validation loss:3.829433640100108, validation accuracy:0.45166666666666666\n",
            "epoch:3, train loss:3.341668899359643, train accuracy:0.4557222222222222, validation loss:3.038602852399537, validation accuracy:0.4771666666666667\n",
            "epoch:4, train loss:2.75129304646247, train accuracy:0.47403703703703703, validation loss:2.6524207092995598, validation accuracy:0.4693333333333333\n",
            "epoch:5, train loss:2.369018640824917, train accuracy:0.4925925925925926, validation loss:2.2410853231904406, validation accuracy:0.4995\n"
          ]
        },
        {
          "data": {
            "text/html": [
              "Waiting for W&B process to finish... <strong style=\"color:green\">(success).</strong>"
            ],
            "text/plain": [
              "<IPython.core.display.HTML object>"
            ]
          },
          "metadata": {},
          "output_type": "display_data"
        },
        {
          "data": {
            "application/vnd.jupyter.widget-view+json": {
              "model_id": "ca51b8c60b834013ba4eca2ea233e65e",
              "version_major": 2,
              "version_minor": 0
            },
            "text/plain": [
              "VBox(children=(Label(value='0.001 MB of 0.001 MB uploaded (0.000 MB deduped)\\r'), FloatProgress(value=1.0, max…"
            ]
          },
          "metadata": {},
          "output_type": "display_data"
        },
        {
          "data": {
            "text/html": [
              "<style>\n",
              "    table.wandb td:nth-child(1) { padding: 0 10px; text-align: left ; width: auto;} td:nth-child(2) {text-align: left ; width: 100%}\n",
              "    .wandb-row { display: flex; flex-direction: row; flex-wrap: wrap; justify-content: flex-start; width: 100% }\n",
              "    .wandb-col { display: flex; flex-direction: column; flex-basis: 100%; flex: 1; padding: 10px; }\n",
              "    </style>\n",
              "<div class=\"wandb-row\"><div class=\"wandb-col\"><h3>Run history:</h3><br/><table class=\"wandb\"><tr><td>train accuracy</td><td>▁▅▆▇█</td></tr><tr><td>train loss</td><td>█▃▂▁▁</td></tr><tr><td>validation accuracy</td><td>▁▄▆▅█</td></tr><tr><td>validation loss</td><td>█▄▃▂▁</td></tr></table><br/></div><div class=\"wandb-col\"><h3>Run summary:</h3><br/><table class=\"wandb\"><tr><td>train accuracy</td><td>0.49259</td></tr><tr><td>train loss</td><td>2.36902</td></tr><tr><td>validation accuracy</td><td>0.4995</td></tr><tr><td>validation loss</td><td>2.24109</td></tr></table><br/></div></div>"
            ],
            "text/plain": [
              "<IPython.core.display.HTML object>"
            ]
          },
          "metadata": {},
          "output_type": "display_data"
        },
        {
          "data": {
            "text/html": [
              " View run <strong style=\"color:#cdcd00\">treasured-sweep-72</strong> at: <a href='https://wandb.ai/cs22m019/DL%20Final%20Assignment%201/runs/gustixjv' target=\"_blank\">https://wandb.ai/cs22m019/DL%20Final%20Assignment%201/runs/gustixjv</a><br/>Synced 6 W&B file(s), 0 media file(s), 0 artifact file(s) and 0 other file(s)"
            ],
            "text/plain": [
              "<IPython.core.display.HTML object>"
            ]
          },
          "metadata": {},
          "output_type": "display_data"
        },
        {
          "data": {
            "text/html": [
              "Find logs at: <code>.\\wandb\\run-20230310_034354-gustixjv\\logs</code>"
            ],
            "text/plain": [
              "<IPython.core.display.HTML object>"
            ]
          },
          "metadata": {},
          "output_type": "display_data"
        },
        {
          "name": "stderr",
          "output_type": "stream",
          "text": [
            "\u001b[34m\u001b[1mwandb\u001b[0m: Agent Starting Run: a6jg9ikk with config:\n",
            "\u001b[34m\u001b[1mwandb\u001b[0m: \tactivation: tanh\n",
            "\u001b[34m\u001b[1mwandb\u001b[0m: \tbatch_size: 16\n",
            "\u001b[34m\u001b[1mwandb\u001b[0m: \tepochs: 5\n",
            "\u001b[34m\u001b[1mwandb\u001b[0m: \tlearning_rate: 0.001\n",
            "\u001b[34m\u001b[1mwandb\u001b[0m: \tnumber_of_hidden_layer: 3\n",
            "\u001b[34m\u001b[1mwandb\u001b[0m: \toptimizer: sgd\n",
            "\u001b[34m\u001b[1mwandb\u001b[0m: \tsize_of_hidden_layer: 64\n",
            "\u001b[34m\u001b[1mwandb\u001b[0m: \tweight_decay: 0\n",
            "\u001b[34m\u001b[1mwandb\u001b[0m: \tweight_initialization: random\n"
          ]
        },
        {
          "data": {
            "text/html": [
              "Tracking run with wandb version 0.13.11"
            ],
            "text/plain": [
              "<IPython.core.display.HTML object>"
            ]
          },
          "metadata": {},
          "output_type": "display_data"
        },
        {
          "data": {
            "text/html": [
              "Run data is saved locally in <code>C:\\Users\\DELL\\Desktop\\wandb\\run-20230310_034450-a6jg9ikk</code>"
            ],
            "text/plain": [
              "<IPython.core.display.HTML object>"
            ]
          },
          "metadata": {},
          "output_type": "display_data"
        },
        {
          "data": {
            "text/html": [
              "Syncing run <strong><a href='https://wandb.ai/cs22m019/DL%20Final%20Assignment%201/runs/a6jg9ikk' target=\"_blank\">pretty-sweep-73</a></strong> to <a href='https://wandb.ai/cs22m019/DL%20Final%20Assignment%201' target=\"_blank\">Weights & Biases</a> (<a href='https://wandb.me/run' target=\"_blank\">docs</a>)<br/>Sweep page: <a href='https://wandb.ai/cs22m019/DL%20Final%20Assignment%201/sweeps/eayjxkwm' target=\"_blank\">https://wandb.ai/cs22m019/DL%20Final%20Assignment%201/sweeps/eayjxkwm</a>"
            ],
            "text/plain": [
              "<IPython.core.display.HTML object>"
            ]
          },
          "metadata": {},
          "output_type": "display_data"
        },
        {
          "data": {
            "text/html": [
              " View project at <a href='https://wandb.ai/cs22m019/DL%20Final%20Assignment%201' target=\"_blank\">https://wandb.ai/cs22m019/DL%20Final%20Assignment%201</a>"
            ],
            "text/plain": [
              "<IPython.core.display.HTML object>"
            ]
          },
          "metadata": {},
          "output_type": "display_data"
        },
        {
          "data": {
            "text/html": [
              " View sweep at <a href='https://wandb.ai/cs22m019/DL%20Final%20Assignment%201/sweeps/eayjxkwm' target=\"_blank\">https://wandb.ai/cs22m019/DL%20Final%20Assignment%201/sweeps/eayjxkwm</a>"
            ],
            "text/plain": [
              "<IPython.core.display.HTML object>"
            ]
          },
          "metadata": {},
          "output_type": "display_data"
        },
        {
          "data": {
            "text/html": [
              " View run at <a href='https://wandb.ai/cs22m019/DL%20Final%20Assignment%201/runs/a6jg9ikk' target=\"_blank\">https://wandb.ai/cs22m019/DL%20Final%20Assignment%201/runs/a6jg9ikk</a>"
            ],
            "text/plain": [
              "<IPython.core.display.HTML object>"
            ]
          },
          "metadata": {},
          "output_type": "display_data"
        },
        {
          "name": "stdout",
          "output_type": "stream",
          "text": [
            "epoch:1, train loss:4.423111927834371, train accuracy:0.13807407407407407, validation loss:3.8832801364666607, validation accuracy:0.163\n",
            "epoch:2, train loss:3.461468121668868, train accuracy:0.19, validation loss:3.1511104403036896, validation accuracy:0.2225\n",
            "epoch:3, train loss:2.9052787607157304, train accuracy:0.2529814814814815, validation loss:2.7299112473857026, validation accuracy:0.2816666666666667\n",
            "epoch:4, train loss:2.547606963027914, train accuracy:0.31016666666666665, validation loss:2.4517543331634015, validation accuracy:0.32416666666666666\n",
            "epoch:5, train loss:2.2990842195750347, train accuracy:0.3516296296296296, validation loss:2.2430877822548605, validation accuracy:0.3606666666666667\n"
          ]
        },
        {
          "data": {
            "text/html": [
              "Waiting for W&B process to finish... <strong style=\"color:green\">(success).</strong>"
            ],
            "text/plain": [
              "<IPython.core.display.HTML object>"
            ]
          },
          "metadata": {},
          "output_type": "display_data"
        },
        {
          "data": {
            "application/vnd.jupyter.widget-view+json": {
              "model_id": "a302a60cb34b4b0c95970d59747e6f30",
              "version_major": 2,
              "version_minor": 0
            },
            "text/plain": [
              "VBox(children=(Label(value='0.001 MB of 0.001 MB uploaded (0.000 MB deduped)\\r'), FloatProgress(value=1.0, max…"
            ]
          },
          "metadata": {},
          "output_type": "display_data"
        },
        {
          "data": {
            "text/html": [
              "<style>\n",
              "    table.wandb td:nth-child(1) { padding: 0 10px; text-align: left ; width: auto;} td:nth-child(2) {text-align: left ; width: 100%}\n",
              "    .wandb-row { display: flex; flex-direction: row; flex-wrap: wrap; justify-content: flex-start; width: 100% }\n",
              "    .wandb-col { display: flex; flex-direction: column; flex-basis: 100%; flex: 1; padding: 10px; }\n",
              "    </style>\n",
              "<div class=\"wandb-row\"><div class=\"wandb-col\"><h3>Run history:</h3><br/><table class=\"wandb\"><tr><td>train accuracy</td><td>▁▃▅▇█</td></tr><tr><td>train loss</td><td>█▅▃▂▁</td></tr><tr><td>validation accuracy</td><td>▁▃▅▇█</td></tr><tr><td>validation loss</td><td>█▅▃▂▁</td></tr></table><br/></div><div class=\"wandb-col\"><h3>Run summary:</h3><br/><table class=\"wandb\"><tr><td>train accuracy</td><td>0.35163</td></tr><tr><td>train loss</td><td>2.29908</td></tr><tr><td>validation accuracy</td><td>0.36067</td></tr><tr><td>validation loss</td><td>2.24309</td></tr></table><br/></div></div>"
            ],
            "text/plain": [
              "<IPython.core.display.HTML object>"
            ]
          },
          "metadata": {},
          "output_type": "display_data"
        },
        {
          "data": {
            "text/html": [
              " View run <strong style=\"color:#cdcd00\">pretty-sweep-73</strong> at: <a href='https://wandb.ai/cs22m019/DL%20Final%20Assignment%201/runs/a6jg9ikk' target=\"_blank\">https://wandb.ai/cs22m019/DL%20Final%20Assignment%201/runs/a6jg9ikk</a><br/>Synced 6 W&B file(s), 0 media file(s), 0 artifact file(s) and 0 other file(s)"
            ],
            "text/plain": [
              "<IPython.core.display.HTML object>"
            ]
          },
          "metadata": {},
          "output_type": "display_data"
        },
        {
          "data": {
            "text/html": [
              "Find logs at: <code>.\\wandb\\run-20230310_034450-a6jg9ikk\\logs</code>"
            ],
            "text/plain": [
              "<IPython.core.display.HTML object>"
            ]
          },
          "metadata": {},
          "output_type": "display_data"
        },
        {
          "name": "stderr",
          "output_type": "stream",
          "text": [
            "\u001b[34m\u001b[1mwandb\u001b[0m: Agent Starting Run: qh5x74b4 with config:\n",
            "\u001b[34m\u001b[1mwandb\u001b[0m: \tactivation: tanh\n",
            "\u001b[34m\u001b[1mwandb\u001b[0m: \tbatch_size: 32\n",
            "\u001b[34m\u001b[1mwandb\u001b[0m: \tepochs: 10\n",
            "\u001b[34m\u001b[1mwandb\u001b[0m: \tlearning_rate: 0.001\n",
            "\u001b[34m\u001b[1mwandb\u001b[0m: \tnumber_of_hidden_layer: 4\n",
            "\u001b[34m\u001b[1mwandb\u001b[0m: \toptimizer: nadam\n",
            "\u001b[34m\u001b[1mwandb\u001b[0m: \tsize_of_hidden_layer: 128\n",
            "\u001b[34m\u001b[1mwandb\u001b[0m: \tweight_decay: 0.5\n",
            "\u001b[34m\u001b[1mwandb\u001b[0m: \tweight_initialization: Xavier\n"
          ]
        },
        {
          "data": {
            "text/html": [
              "Tracking run with wandb version 0.13.11"
            ],
            "text/plain": [
              "<IPython.core.display.HTML object>"
            ]
          },
          "metadata": {},
          "output_type": "display_data"
        },
        {
          "data": {
            "text/html": [
              "Run data is saved locally in <code>C:\\Users\\DELL\\Desktop\\wandb\\run-20230310_034549-qh5x74b4</code>"
            ],
            "text/plain": [
              "<IPython.core.display.HTML object>"
            ]
          },
          "metadata": {},
          "output_type": "display_data"
        },
        {
          "data": {
            "text/html": [
              "Syncing run <strong><a href='https://wandb.ai/cs22m019/DL%20Final%20Assignment%201/runs/qh5x74b4' target=\"_blank\">fiery-sweep-74</a></strong> to <a href='https://wandb.ai/cs22m019/DL%20Final%20Assignment%201' target=\"_blank\">Weights & Biases</a> (<a href='https://wandb.me/run' target=\"_blank\">docs</a>)<br/>Sweep page: <a href='https://wandb.ai/cs22m019/DL%20Final%20Assignment%201/sweeps/eayjxkwm' target=\"_blank\">https://wandb.ai/cs22m019/DL%20Final%20Assignment%201/sweeps/eayjxkwm</a>"
            ],
            "text/plain": [
              "<IPython.core.display.HTML object>"
            ]
          },
          "metadata": {},
          "output_type": "display_data"
        },
        {
          "data": {
            "text/html": [
              " View project at <a href='https://wandb.ai/cs22m019/DL%20Final%20Assignment%201' target=\"_blank\">https://wandb.ai/cs22m019/DL%20Final%20Assignment%201</a>"
            ],
            "text/plain": [
              "<IPython.core.display.HTML object>"
            ]
          },
          "metadata": {},
          "output_type": "display_data"
        },
        {
          "data": {
            "text/html": [
              " View sweep at <a href='https://wandb.ai/cs22m019/DL%20Final%20Assignment%201/sweeps/eayjxkwm' target=\"_blank\">https://wandb.ai/cs22m019/DL%20Final%20Assignment%201/sweeps/eayjxkwm</a>"
            ],
            "text/plain": [
              "<IPython.core.display.HTML object>"
            ]
          },
          "metadata": {},
          "output_type": "display_data"
        },
        {
          "data": {
            "text/html": [
              " View run at <a href='https://wandb.ai/cs22m019/DL%20Final%20Assignment%201/runs/qh5x74b4' target=\"_blank\">https://wandb.ai/cs22m019/DL%20Final%20Assignment%201/runs/qh5x74b4</a>"
            ],
            "text/plain": [
              "<IPython.core.display.HTML object>"
            ]
          },
          "metadata": {},
          "output_type": "display_data"
        },
        {
          "name": "stdout",
          "output_type": "stream",
          "text": [
            "epoch:1, train loss:0.8207656060326195, train accuracy:0.748462962962963, validation loss:0.5488149149404719, validation accuracy:0.8165\n",
            "epoch:2, train loss:0.5121170576404851, train accuracy:0.8279074074074074, validation loss:0.487484133450127, validation accuracy:0.8383333333333334\n",
            "epoch:3, train loss:0.47078308568151667, train accuracy:0.8423703703703703, validation loss:0.46369492386802996, validation accuracy:0.8448333333333333\n",
            "epoch:4, train loss:0.4489598766158118, train accuracy:0.8501481481481481, validation loss:0.4484013541291773, validation accuracy:0.8521666666666666\n",
            "epoch:5, train loss:0.4338649350139555, train accuracy:0.8546666666666667, validation loss:0.4352116728172983, validation accuracy:0.8581666666666666\n",
            "epoch:6, train loss:0.4226714760200267, train accuracy:0.8591481481481481, validation loss:0.4282077338773069, validation accuracy:0.8576666666666667\n",
            "epoch:7, train loss:0.41340190348651146, train accuracy:0.8621481481481481, validation loss:0.42562686206638073, validation accuracy:0.8606666666666667\n",
            "epoch:8, train loss:0.40542933997554176, train accuracy:0.866037037037037, validation loss:0.41647534656240315, validation accuracy:0.86\n",
            "epoch:9, train loss:0.39927176868255765, train accuracy:0.8670925925925926, validation loss:0.41206386803284833, validation accuracy:0.863\n",
            "epoch:10, train loss:0.3933657935448265, train accuracy:0.8693888888888889, validation loss:0.4071913631039279, validation accuracy:0.8661666666666666\n"
          ]
        },
        {
          "data": {
            "text/html": [
              "Waiting for W&B process to finish... <strong style=\"color:green\">(success).</strong>"
            ],
            "text/plain": [
              "<IPython.core.display.HTML object>"
            ]
          },
          "metadata": {},
          "output_type": "display_data"
        },
        {
          "data": {
            "application/vnd.jupyter.widget-view+json": {
              "model_id": "fc2bb3708f46433ebe1d793a5a501e84",
              "version_major": 2,
              "version_minor": 0
            },
            "text/plain": [
              "VBox(children=(Label(value='0.001 MB of 0.001 MB uploaded (0.000 MB deduped)\\r'), FloatProgress(value=1.0, max…"
            ]
          },
          "metadata": {},
          "output_type": "display_data"
        },
        {
          "data": {
            "text/html": [
              "<style>\n",
              "    table.wandb td:nth-child(1) { padding: 0 10px; text-align: left ; width: auto;} td:nth-child(2) {text-align: left ; width: 100%}\n",
              "    .wandb-row { display: flex; flex-direction: row; flex-wrap: wrap; justify-content: flex-start; width: 100% }\n",
              "    .wandb-col { display: flex; flex-direction: column; flex-basis: 100%; flex: 1; padding: 10px; }\n",
              "    </style>\n",
              "<div class=\"wandb-row\"><div class=\"wandb-col\"><h3>Run history:</h3><br/><table class=\"wandb\"><tr><td>train accuracy</td><td>▁▆▆▇▇▇████</td></tr><tr><td>train loss</td><td>█▃▂▂▂▁▁▁▁▁</td></tr><tr><td>validation accuracy</td><td>▁▄▅▆▇▇▇▇██</td></tr><tr><td>validation loss</td><td>█▅▄▃▂▂▂▁▁▁</td></tr></table><br/></div><div class=\"wandb-col\"><h3>Run summary:</h3><br/><table class=\"wandb\"><tr><td>train accuracy</td><td>0.86939</td></tr><tr><td>train loss</td><td>0.39337</td></tr><tr><td>validation accuracy</td><td>0.86617</td></tr><tr><td>validation loss</td><td>0.40719</td></tr></table><br/></div></div>"
            ],
            "text/plain": [
              "<IPython.core.display.HTML object>"
            ]
          },
          "metadata": {},
          "output_type": "display_data"
        },
        {
          "data": {
            "text/html": [
              " View run <strong style=\"color:#cdcd00\">fiery-sweep-74</strong> at: <a href='https://wandb.ai/cs22m019/DL%20Final%20Assignment%201/runs/qh5x74b4' target=\"_blank\">https://wandb.ai/cs22m019/DL%20Final%20Assignment%201/runs/qh5x74b4</a><br/>Synced 6 W&B file(s), 0 media file(s), 0 artifact file(s) and 0 other file(s)"
            ],
            "text/plain": [
              "<IPython.core.display.HTML object>"
            ]
          },
          "metadata": {},
          "output_type": "display_data"
        },
        {
          "data": {
            "text/html": [
              "Find logs at: <code>.\\wandb\\run-20230310_034549-qh5x74b4\\logs</code>"
            ],
            "text/plain": [
              "<IPython.core.display.HTML object>"
            ]
          },
          "metadata": {},
          "output_type": "display_data"
        },
        {
          "name": "stderr",
          "output_type": "stream",
          "text": [
            "\u001b[34m\u001b[1mwandb\u001b[0m: Agent Starting Run: qhe45b2x with config:\n",
            "\u001b[34m\u001b[1mwandb\u001b[0m: \tactivation: sigmoid\n",
            "\u001b[34m\u001b[1mwandb\u001b[0m: \tbatch_size: 32\n",
            "\u001b[34m\u001b[1mwandb\u001b[0m: \tepochs: 5\n",
            "\u001b[34m\u001b[1mwandb\u001b[0m: \tlearning_rate: 0.0001\n",
            "\u001b[34m\u001b[1mwandb\u001b[0m: \tnumber_of_hidden_layer: 3\n",
            "\u001b[34m\u001b[1mwandb\u001b[0m: \toptimizer: sgd\n",
            "\u001b[34m\u001b[1mwandb\u001b[0m: \tsize_of_hidden_layer: 128\n",
            "\u001b[34m\u001b[1mwandb\u001b[0m: \tweight_decay: 0\n",
            "\u001b[34m\u001b[1mwandb\u001b[0m: \tweight_initialization: Xavier\n"
          ]
        },
        {
          "data": {
            "text/html": [
              "Tracking run with wandb version 0.13.11"
            ],
            "text/plain": [
              "<IPython.core.display.HTML object>"
            ]
          },
          "metadata": {},
          "output_type": "display_data"
        },
        {
          "data": {
            "text/html": [
              "Run data is saved locally in <code>C:\\Users\\DELL\\Desktop\\wandb\\run-20230310_035056-qhe45b2x</code>"
            ],
            "text/plain": [
              "<IPython.core.display.HTML object>"
            ]
          },
          "metadata": {},
          "output_type": "display_data"
        },
        {
          "data": {
            "text/html": [
              "Syncing run <strong><a href='https://wandb.ai/cs22m019/DL%20Final%20Assignment%201/runs/qhe45b2x' target=\"_blank\">devoted-sweep-75</a></strong> to <a href='https://wandb.ai/cs22m019/DL%20Final%20Assignment%201' target=\"_blank\">Weights & Biases</a> (<a href='https://wandb.me/run' target=\"_blank\">docs</a>)<br/>Sweep page: <a href='https://wandb.ai/cs22m019/DL%20Final%20Assignment%201/sweeps/eayjxkwm' target=\"_blank\">https://wandb.ai/cs22m019/DL%20Final%20Assignment%201/sweeps/eayjxkwm</a>"
            ],
            "text/plain": [
              "<IPython.core.display.HTML object>"
            ]
          },
          "metadata": {},
          "output_type": "display_data"
        },
        {
          "data": {
            "text/html": [
              " View project at <a href='https://wandb.ai/cs22m019/DL%20Final%20Assignment%201' target=\"_blank\">https://wandb.ai/cs22m019/DL%20Final%20Assignment%201</a>"
            ],
            "text/plain": [
              "<IPython.core.display.HTML object>"
            ]
          },
          "metadata": {},
          "output_type": "display_data"
        },
        {
          "data": {
            "text/html": [
              " View sweep at <a href='https://wandb.ai/cs22m019/DL%20Final%20Assignment%201/sweeps/eayjxkwm' target=\"_blank\">https://wandb.ai/cs22m019/DL%20Final%20Assignment%201/sweeps/eayjxkwm</a>"
            ],
            "text/plain": [
              "<IPython.core.display.HTML object>"
            ]
          },
          "metadata": {},
          "output_type": "display_data"
        },
        {
          "data": {
            "text/html": [
              " View run at <a href='https://wandb.ai/cs22m019/DL%20Final%20Assignment%201/runs/qhe45b2x' target=\"_blank\">https://wandb.ai/cs22m019/DL%20Final%20Assignment%201/runs/qhe45b2x</a>"
            ],
            "text/plain": [
              "<IPython.core.display.HTML object>"
            ]
          },
          "metadata": {},
          "output_type": "display_data"
        },
        {
          "name": "stdout",
          "output_type": "stream",
          "text": [
            "epoch:1, train loss:2.5373169332369567, train accuracy:0.10062962962962962, validation loss:2.535452741897114, validation accuracy:0.09433333333333334\n",
            "epoch:2, train loss:2.528616107042852, train accuracy:0.10062962962962962, validation loss:2.5267437479288914, validation accuracy:0.09433333333333334\n",
            "epoch:3, train loss:2.5203643415169843, train accuracy:0.10062962962962962, validation loss:2.5186323299306097, validation accuracy:0.09433333333333334\n",
            "epoch:4, train loss:2.5122941039811546, train accuracy:0.10062962962962962, validation loss:2.5103832078068424, validation accuracy:0.09433333333333334\n",
            "epoch:5, train loss:2.5047059653255928, train accuracy:0.10062962962962962, validation loss:2.503012224740562, validation accuracy:0.09433333333333334\n"
          ]
        },
        {
          "data": {
            "text/html": [
              "Waiting for W&B process to finish... <strong style=\"color:green\">(success).</strong>"
            ],
            "text/plain": [
              "<IPython.core.display.HTML object>"
            ]
          },
          "metadata": {},
          "output_type": "display_data"
        },
        {
          "data": {
            "application/vnd.jupyter.widget-view+json": {
              "model_id": "bc9582326b644039b6f7fc9f8f6835eb",
              "version_major": 2,
              "version_minor": 0
            },
            "text/plain": [
              "VBox(children=(Label(value='0.001 MB of 0.001 MB uploaded (0.000 MB deduped)\\r'), FloatProgress(value=1.0, max…"
            ]
          },
          "metadata": {},
          "output_type": "display_data"
        },
        {
          "data": {
            "text/html": [
              "<style>\n",
              "    table.wandb td:nth-child(1) { padding: 0 10px; text-align: left ; width: auto;} td:nth-child(2) {text-align: left ; width: 100%}\n",
              "    .wandb-row { display: flex; flex-direction: row; flex-wrap: wrap; justify-content: flex-start; width: 100% }\n",
              "    .wandb-col { display: flex; flex-direction: column; flex-basis: 100%; flex: 1; padding: 10px; }\n",
              "    </style>\n",
              "<div class=\"wandb-row\"><div class=\"wandb-col\"><h3>Run history:</h3><br/><table class=\"wandb\"><tr><td>train accuracy</td><td>▁▁▁▁▁</td></tr><tr><td>train loss</td><td>█▆▄▃▁</td></tr><tr><td>validation accuracy</td><td>▁▁▁▁▁</td></tr><tr><td>validation loss</td><td>█▆▄▃▁</td></tr></table><br/></div><div class=\"wandb-col\"><h3>Run summary:</h3><br/><table class=\"wandb\"><tr><td>train accuracy</td><td>0.10063</td></tr><tr><td>train loss</td><td>2.50471</td></tr><tr><td>validation accuracy</td><td>0.09433</td></tr><tr><td>validation loss</td><td>2.50301</td></tr></table><br/></div></div>"
            ],
            "text/plain": [
              "<IPython.core.display.HTML object>"
            ]
          },
          "metadata": {},
          "output_type": "display_data"
        },
        {
          "data": {
            "text/html": [
              " View run <strong style=\"color:#cdcd00\">devoted-sweep-75</strong> at: <a href='https://wandb.ai/cs22m019/DL%20Final%20Assignment%201/runs/qhe45b2x' target=\"_blank\">https://wandb.ai/cs22m019/DL%20Final%20Assignment%201/runs/qhe45b2x</a><br/>Synced 6 W&B file(s), 0 media file(s), 0 artifact file(s) and 0 other file(s)"
            ],
            "text/plain": [
              "<IPython.core.display.HTML object>"
            ]
          },
          "metadata": {},
          "output_type": "display_data"
        },
        {
          "data": {
            "text/html": [
              "Find logs at: <code>.\\wandb\\run-20230310_035056-qhe45b2x\\logs</code>"
            ],
            "text/plain": [
              "<IPython.core.display.HTML object>"
            ]
          },
          "metadata": {},
          "output_type": "display_data"
        },
        {
          "name": "stderr",
          "output_type": "stream",
          "text": [
            "\u001b[34m\u001b[1mwandb\u001b[0m: Agent Starting Run: 0o3ay8dw with config:\n",
            "\u001b[34m\u001b[1mwandb\u001b[0m: \tactivation: ReLU\n",
            "\u001b[34m\u001b[1mwandb\u001b[0m: \tbatch_size: 16\n",
            "\u001b[34m\u001b[1mwandb\u001b[0m: \tepochs: 10\n",
            "\u001b[34m\u001b[1mwandb\u001b[0m: \tlearning_rate: 0.001\n",
            "\u001b[34m\u001b[1mwandb\u001b[0m: \tnumber_of_hidden_layer: 3\n",
            "\u001b[34m\u001b[1mwandb\u001b[0m: \toptimizer: momentum\n",
            "\u001b[34m\u001b[1mwandb\u001b[0m: \tsize_of_hidden_layer: 32\n",
            "\u001b[34m\u001b[1mwandb\u001b[0m: \tweight_decay: 0.5\n",
            "\u001b[34m\u001b[1mwandb\u001b[0m: \tweight_initialization: random\n"
          ]
        },
        {
          "data": {
            "text/html": [
              "Tracking run with wandb version 0.13.11"
            ],
            "text/plain": [
              "<IPython.core.display.HTML object>"
            ]
          },
          "metadata": {},
          "output_type": "display_data"
        },
        {
          "data": {
            "text/html": [
              "Run data is saved locally in <code>C:\\Users\\DELL\\Desktop\\wandb\\run-20230310_035245-0o3ay8dw</code>"
            ],
            "text/plain": [
              "<IPython.core.display.HTML object>"
            ]
          },
          "metadata": {},
          "output_type": "display_data"
        },
        {
          "data": {
            "text/html": [
              "Syncing run <strong><a href='https://wandb.ai/cs22m019/DL%20Final%20Assignment%201/runs/0o3ay8dw' target=\"_blank\">stellar-sweep-76</a></strong> to <a href='https://wandb.ai/cs22m019/DL%20Final%20Assignment%201' target=\"_blank\">Weights & Biases</a> (<a href='https://wandb.me/run' target=\"_blank\">docs</a>)<br/>Sweep page: <a href='https://wandb.ai/cs22m019/DL%20Final%20Assignment%201/sweeps/eayjxkwm' target=\"_blank\">https://wandb.ai/cs22m019/DL%20Final%20Assignment%201/sweeps/eayjxkwm</a>"
            ],
            "text/plain": [
              "<IPython.core.display.HTML object>"
            ]
          },
          "metadata": {},
          "output_type": "display_data"
        },
        {
          "data": {
            "text/html": [
              " View project at <a href='https://wandb.ai/cs22m019/DL%20Final%20Assignment%201' target=\"_blank\">https://wandb.ai/cs22m019/DL%20Final%20Assignment%201</a>"
            ],
            "text/plain": [
              "<IPython.core.display.HTML object>"
            ]
          },
          "metadata": {},
          "output_type": "display_data"
        },
        {
          "data": {
            "text/html": [
              " View sweep at <a href='https://wandb.ai/cs22m019/DL%20Final%20Assignment%201/sweeps/eayjxkwm' target=\"_blank\">https://wandb.ai/cs22m019/DL%20Final%20Assignment%201/sweeps/eayjxkwm</a>"
            ],
            "text/plain": [
              "<IPython.core.display.HTML object>"
            ]
          },
          "metadata": {},
          "output_type": "display_data"
        },
        {
          "data": {
            "text/html": [
              " View run at <a href='https://wandb.ai/cs22m019/DL%20Final%20Assignment%201/runs/0o3ay8dw' target=\"_blank\">https://wandb.ai/cs22m019/DL%20Final%20Assignment%201/runs/0o3ay8dw</a>"
            ],
            "text/plain": [
              "<IPython.core.display.HTML object>"
            ]
          },
          "metadata": {},
          "output_type": "display_data"
        },
        {
          "name": "stdout",
          "output_type": "stream",
          "text": [
            "epoch:1, train loss:2.2619093203259126, train accuracy:0.5490555555555555, validation loss:1.3590177214681627, validation accuracy:0.6266666666666667\n",
            "epoch:2, train loss:1.2562010050087347, train accuracy:0.6593148148148148, validation loss:1.1720030462621915, validation accuracy:0.664\n",
            "epoch:3, train loss:1.1421641541660932, train accuracy:0.6897962962962964, validation loss:1.105452945433611, validation accuracy:0.6896666666666667\n",
            "epoch:4, train loss:1.0900483728541128, train accuracy:0.7057037037037037, validation loss:1.0626809881117887, validation accuracy:0.705\n",
            "epoch:5, train loss:1.0566413035345787, train accuracy:0.7147962962962963, validation loss:1.0325045743593453, validation accuracy:0.7221666666666666\n",
            "epoch:6, train loss:1.0316401966121238, train accuracy:0.7227777777777777, validation loss:1.0264187089301573, validation accuracy:0.7226666666666667\n",
            "epoch:7, train loss:1.01182435679487, train accuracy:0.732925925925926, validation loss:1.003045616256673, validation accuracy:0.7328333333333333\n",
            "epoch:8, train loss:0.9951501282808402, train accuracy:0.7375, validation loss:0.9834184665336567, validation accuracy:0.7426666666666667\n",
            "epoch:9, train loss:0.9807215208132078, train accuracy:0.7437407407407407, validation loss:0.9747091153695242, validation accuracy:0.7426666666666667\n",
            "epoch:10, train loss:0.968532512498662, train accuracy:0.7477777777777778, validation loss:0.9594550777075509, validation accuracy:0.7541666666666667\n"
          ]
        },
        {
          "data": {
            "text/html": [
              "Waiting for W&B process to finish... <strong style=\"color:green\">(success).</strong>"
            ],
            "text/plain": [
              "<IPython.core.display.HTML object>"
            ]
          },
          "metadata": {},
          "output_type": "display_data"
        },
        {
          "data": {
            "application/vnd.jupyter.widget-view+json": {
              "model_id": "c90d7aab9c4549bdba5d5a68fb233033",
              "version_major": 2,
              "version_minor": 0
            },
            "text/plain": [
              "VBox(children=(Label(value='0.001 MB of 0.001 MB uploaded (0.000 MB deduped)\\r'), FloatProgress(value=1.0, max…"
            ]
          },
          "metadata": {},
          "output_type": "display_data"
        },
        {
          "data": {
            "text/html": [
              "<style>\n",
              "    table.wandb td:nth-child(1) { padding: 0 10px; text-align: left ; width: auto;} td:nth-child(2) {text-align: left ; width: 100%}\n",
              "    .wandb-row { display: flex; flex-direction: row; flex-wrap: wrap; justify-content: flex-start; width: 100% }\n",
              "    .wandb-col { display: flex; flex-direction: column; flex-basis: 100%; flex: 1; padding: 10px; }\n",
              "    </style>\n",
              "<div class=\"wandb-row\"><div class=\"wandb-col\"><h3>Run history:</h3><br/><table class=\"wandb\"><tr><td>train accuracy</td><td>▁▅▆▇▇▇▇███</td></tr><tr><td>train loss</td><td>█▃▂▂▁▁▁▁▁▁</td></tr><tr><td>validation accuracy</td><td>▁▃▄▅▆▆▇▇▇█</td></tr><tr><td>validation loss</td><td>█▅▄▃▂▂▂▁▁▁</td></tr></table><br/></div><div class=\"wandb-col\"><h3>Run summary:</h3><br/><table class=\"wandb\"><tr><td>train accuracy</td><td>0.74778</td></tr><tr><td>train loss</td><td>0.96853</td></tr><tr><td>validation accuracy</td><td>0.75417</td></tr><tr><td>validation loss</td><td>0.95946</td></tr></table><br/></div></div>"
            ],
            "text/plain": [
              "<IPython.core.display.HTML object>"
            ]
          },
          "metadata": {},
          "output_type": "display_data"
        },
        {
          "data": {
            "text/html": [
              " View run <strong style=\"color:#cdcd00\">stellar-sweep-76</strong> at: <a href='https://wandb.ai/cs22m019/DL%20Final%20Assignment%201/runs/0o3ay8dw' target=\"_blank\">https://wandb.ai/cs22m019/DL%20Final%20Assignment%201/runs/0o3ay8dw</a><br/>Synced 6 W&B file(s), 0 media file(s), 0 artifact file(s) and 0 other file(s)"
            ],
            "text/plain": [
              "<IPython.core.display.HTML object>"
            ]
          },
          "metadata": {},
          "output_type": "display_data"
        },
        {
          "data": {
            "text/html": [
              "Find logs at: <code>.\\wandb\\run-20230310_035245-0o3ay8dw\\logs</code>"
            ],
            "text/plain": [
              "<IPython.core.display.HTML object>"
            ]
          },
          "metadata": {},
          "output_type": "display_data"
        },
        {
          "name": "stderr",
          "output_type": "stream",
          "text": [
            "\u001b[34m\u001b[1mwandb\u001b[0m: Agent Starting Run: rs28rwzj with config:\n",
            "\u001b[34m\u001b[1mwandb\u001b[0m: \tactivation: tanh\n",
            "\u001b[34m\u001b[1mwandb\u001b[0m: \tbatch_size: 32\n",
            "\u001b[34m\u001b[1mwandb\u001b[0m: \tepochs: 5\n",
            "\u001b[34m\u001b[1mwandb\u001b[0m: \tlearning_rate: 0.001\n",
            "\u001b[34m\u001b[1mwandb\u001b[0m: \tnumber_of_hidden_layer: 4\n",
            "\u001b[34m\u001b[1mwandb\u001b[0m: \toptimizer: nadam\n",
            "\u001b[34m\u001b[1mwandb\u001b[0m: \tsize_of_hidden_layer: 128\n",
            "\u001b[34m\u001b[1mwandb\u001b[0m: \tweight_decay: 0.5\n",
            "\u001b[34m\u001b[1mwandb\u001b[0m: \tweight_initialization: random\n"
          ]
        },
        {
          "data": {
            "text/html": [
              "Tracking run with wandb version 0.13.11"
            ],
            "text/plain": [
              "<IPython.core.display.HTML object>"
            ]
          },
          "metadata": {},
          "output_type": "display_data"
        },
        {
          "data": {
            "text/html": [
              "Run data is saved locally in <code>C:\\Users\\DELL\\Desktop\\wandb\\run-20230310_035416-rs28rwzj</code>"
            ],
            "text/plain": [
              "<IPython.core.display.HTML object>"
            ]
          },
          "metadata": {},
          "output_type": "display_data"
        },
        {
          "data": {
            "text/html": [
              "Syncing run <strong><a href='https://wandb.ai/cs22m019/DL%20Final%20Assignment%201/runs/rs28rwzj' target=\"_blank\">electric-sweep-77</a></strong> to <a href='https://wandb.ai/cs22m019/DL%20Final%20Assignment%201' target=\"_blank\">Weights & Biases</a> (<a href='https://wandb.me/run' target=\"_blank\">docs</a>)<br/>Sweep page: <a href='https://wandb.ai/cs22m019/DL%20Final%20Assignment%201/sweeps/eayjxkwm' target=\"_blank\">https://wandb.ai/cs22m019/DL%20Final%20Assignment%201/sweeps/eayjxkwm</a>"
            ],
            "text/plain": [
              "<IPython.core.display.HTML object>"
            ]
          },
          "metadata": {},
          "output_type": "display_data"
        },
        {
          "data": {
            "text/html": [
              " View project at <a href='https://wandb.ai/cs22m019/DL%20Final%20Assignment%201' target=\"_blank\">https://wandb.ai/cs22m019/DL%20Final%20Assignment%201</a>"
            ],
            "text/plain": [
              "<IPython.core.display.HTML object>"
            ]
          },
          "metadata": {},
          "output_type": "display_data"
        },
        {
          "data": {
            "text/html": [
              " View sweep at <a href='https://wandb.ai/cs22m019/DL%20Final%20Assignment%201/sweeps/eayjxkwm' target=\"_blank\">https://wandb.ai/cs22m019/DL%20Final%20Assignment%201/sweeps/eayjxkwm</a>"
            ],
            "text/plain": [
              "<IPython.core.display.HTML object>"
            ]
          },
          "metadata": {},
          "output_type": "display_data"
        },
        {
          "data": {
            "text/html": [
              " View run at <a href='https://wandb.ai/cs22m019/DL%20Final%20Assignment%201/runs/rs28rwzj' target=\"_blank\">https://wandb.ai/cs22m019/DL%20Final%20Assignment%201/runs/rs28rwzj</a>"
            ],
            "text/plain": [
              "<IPython.core.display.HTML object>"
            ]
          },
          "metadata": {},
          "output_type": "display_data"
        },
        {
          "name": "stdout",
          "output_type": "stream",
          "text": [
            "epoch:1, train loss:6.904753775264803, train accuracy:0.2177037037037037, validation loss:5.101933639550905, validation accuracy:0.33666666666666667\n",
            "epoch:2, train loss:4.430318132693298, train accuracy:0.418, validation loss:4.0219705033022315, validation accuracy:0.4663333333333333\n",
            "epoch:3, train loss:3.6844496511863714, train accuracy:0.5184814814814814, validation loss:3.5428363553300914, validation accuracy:0.5303333333333333\n",
            "epoch:4, train loss:3.325876748018163, train accuracy:0.5737407407407408, validation loss:3.289577254240397, validation accuracy:0.573\n",
            "epoch:5, train loss:3.0991658618020557, train accuracy:0.6117777777777778, validation loss:3.1294448882763244, validation accuracy:0.596\n"
          ]
        },
        {
          "data": {
            "text/html": [
              "Waiting for W&B process to finish... <strong style=\"color:green\">(success).</strong>"
            ],
            "text/plain": [
              "<IPython.core.display.HTML object>"
            ]
          },
          "metadata": {},
          "output_type": "display_data"
        },
        {
          "data": {
            "application/vnd.jupyter.widget-view+json": {
              "model_id": "57912b8fb674469c99265fec69c4b019",
              "version_major": 2,
              "version_minor": 0
            },
            "text/plain": [
              "VBox(children=(Label(value='0.001 MB of 0.001 MB uploaded (0.000 MB deduped)\\r'), FloatProgress(value=1.0, max…"
            ]
          },
          "metadata": {},
          "output_type": "display_data"
        },
        {
          "data": {
            "text/html": [
              "<style>\n",
              "    table.wandb td:nth-child(1) { padding: 0 10px; text-align: left ; width: auto;} td:nth-child(2) {text-align: left ; width: 100%}\n",
              "    .wandb-row { display: flex; flex-direction: row; flex-wrap: wrap; justify-content: flex-start; width: 100% }\n",
              "    .wandb-col { display: flex; flex-direction: column; flex-basis: 100%; flex: 1; padding: 10px; }\n",
              "    </style>\n",
              "<div class=\"wandb-row\"><div class=\"wandb-col\"><h3>Run history:</h3><br/><table class=\"wandb\"><tr><td>train accuracy</td><td>▁▅▆▇█</td></tr><tr><td>train loss</td><td>█▃▂▁▁</td></tr><tr><td>validation accuracy</td><td>▁▄▆▇█</td></tr><tr><td>validation loss</td><td>█▄▂▂▁</td></tr></table><br/></div><div class=\"wandb-col\"><h3>Run summary:</h3><br/><table class=\"wandb\"><tr><td>train accuracy</td><td>0.61178</td></tr><tr><td>train loss</td><td>3.09917</td></tr><tr><td>validation accuracy</td><td>0.596</td></tr><tr><td>validation loss</td><td>3.12944</td></tr></table><br/></div></div>"
            ],
            "text/plain": [
              "<IPython.core.display.HTML object>"
            ]
          },
          "metadata": {},
          "output_type": "display_data"
        },
        {
          "data": {
            "text/html": [
              " View run <strong style=\"color:#cdcd00\">electric-sweep-77</strong> at: <a href='https://wandb.ai/cs22m019/DL%20Final%20Assignment%201/runs/rs28rwzj' target=\"_blank\">https://wandb.ai/cs22m019/DL%20Final%20Assignment%201/runs/rs28rwzj</a><br/>Synced 6 W&B file(s), 0 media file(s), 0 artifact file(s) and 0 other file(s)"
            ],
            "text/plain": [
              "<IPython.core.display.HTML object>"
            ]
          },
          "metadata": {},
          "output_type": "display_data"
        },
        {
          "data": {
            "text/html": [
              "Find logs at: <code>.\\wandb\\run-20230310_035416-rs28rwzj\\logs</code>"
            ],
            "text/plain": [
              "<IPython.core.display.HTML object>"
            ]
          },
          "metadata": {},
          "output_type": "display_data"
        },
        {
          "name": "stderr",
          "output_type": "stream",
          "text": [
            "\u001b[34m\u001b[1mwandb\u001b[0m: Agent Starting Run: t3jpita7 with config:\n",
            "\u001b[34m\u001b[1mwandb\u001b[0m: \tactivation: ReLU\n",
            "\u001b[34m\u001b[1mwandb\u001b[0m: \tbatch_size: 64\n",
            "\u001b[34m\u001b[1mwandb\u001b[0m: \tepochs: 5\n",
            "\u001b[34m\u001b[1mwandb\u001b[0m: \tlearning_rate: 0.001\n",
            "\u001b[34m\u001b[1mwandb\u001b[0m: \tnumber_of_hidden_layer: 4\n",
            "\u001b[34m\u001b[1mwandb\u001b[0m: \toptimizer: momentum\n",
            "\u001b[34m\u001b[1mwandb\u001b[0m: \tsize_of_hidden_layer: 32\n",
            "\u001b[34m\u001b[1mwandb\u001b[0m: \tweight_decay: 0.0005\n",
            "\u001b[34m\u001b[1mwandb\u001b[0m: \tweight_initialization: Xavier\n"
          ]
        },
        {
          "data": {
            "application/vnd.jupyter.widget-view+json": {
              "model_id": "6fe5928a2a1740b6a6ec29ffa0dc699e",
              "version_major": 2,
              "version_minor": 0
            },
            "text/plain": [
              "VBox(children=(Label(value='Waiting for wandb.init()...\\r'), FloatProgress(value=0.01693333333338766, max=1.0)…"
            ]
          },
          "metadata": {},
          "output_type": "display_data"
        },
        {
          "data": {
            "text/html": [
              "Tracking run with wandb version 0.13.11"
            ],
            "text/plain": [
              "<IPython.core.display.HTML object>"
            ]
          },
          "metadata": {},
          "output_type": "display_data"
        },
        {
          "data": {
            "text/html": [
              "Run data is saved locally in <code>C:\\Users\\DELL\\Desktop\\wandb\\run-20230310_035704-t3jpita7</code>"
            ],
            "text/plain": [
              "<IPython.core.display.HTML object>"
            ]
          },
          "metadata": {},
          "output_type": "display_data"
        },
        {
          "data": {
            "text/html": [
              "Syncing run <strong><a href='https://wandb.ai/cs22m019/DL%20Final%20Assignment%201/runs/t3jpita7' target=\"_blank\">visionary-sweep-78</a></strong> to <a href='https://wandb.ai/cs22m019/DL%20Final%20Assignment%201' target=\"_blank\">Weights & Biases</a> (<a href='https://wandb.me/run' target=\"_blank\">docs</a>)<br/>Sweep page: <a href='https://wandb.ai/cs22m019/DL%20Final%20Assignment%201/sweeps/eayjxkwm' target=\"_blank\">https://wandb.ai/cs22m019/DL%20Final%20Assignment%201/sweeps/eayjxkwm</a>"
            ],
            "text/plain": [
              "<IPython.core.display.HTML object>"
            ]
          },
          "metadata": {},
          "output_type": "display_data"
        },
        {
          "data": {
            "text/html": [
              " View project at <a href='https://wandb.ai/cs22m019/DL%20Final%20Assignment%201' target=\"_blank\">https://wandb.ai/cs22m019/DL%20Final%20Assignment%201</a>"
            ],
            "text/plain": [
              "<IPython.core.display.HTML object>"
            ]
          },
          "metadata": {},
          "output_type": "display_data"
        },
        {
          "data": {
            "text/html": [
              " View sweep at <a href='https://wandb.ai/cs22m019/DL%20Final%20Assignment%201/sweeps/eayjxkwm' target=\"_blank\">https://wandb.ai/cs22m019/DL%20Final%20Assignment%201/sweeps/eayjxkwm</a>"
            ],
            "text/plain": [
              "<IPython.core.display.HTML object>"
            ]
          },
          "metadata": {},
          "output_type": "display_data"
        },
        {
          "data": {
            "text/html": [
              " View run at <a href='https://wandb.ai/cs22m019/DL%20Final%20Assignment%201/runs/t3jpita7' target=\"_blank\">https://wandb.ai/cs22m019/DL%20Final%20Assignment%201/runs/t3jpita7</a>"
            ],
            "text/plain": [
              "<IPython.core.display.HTML object>"
            ]
          },
          "metadata": {},
          "output_type": "display_data"
        },
        {
          "name": "stdout",
          "output_type": "stream",
          "text": [
            "epoch:1, train loss:2.3192822775080364, train accuracy:0.10711111111111112, validation loss:2.247085002236906, validation accuracy:0.18233333333333332\n",
            "epoch:2, train loss:2.1541142359551833, train accuracy:0.27011111111111114, validation loss:2.0497010597258076, validation accuracy:0.2966666666666667\n",
            "epoch:3, train loss:1.8672829251504524, train accuracy:0.3537962962962963, validation loss:1.6738951095746895, validation accuracy:0.43033333333333335\n",
            "epoch:4, train loss:1.4955108842604226, train accuracy:0.4980185185185185, validation loss:1.3436930805132936, validation accuracy:0.543\n",
            "epoch:5, train loss:1.2246881373175782, train accuracy:0.5803888888888888, validation loss:1.126313809287739, validation accuracy:0.6118333333333333\n"
          ]
        },
        {
          "data": {
            "text/html": [
              "Waiting for W&B process to finish... <strong style=\"color:green\">(success).</strong>"
            ],
            "text/plain": [
              "<IPython.core.display.HTML object>"
            ]
          },
          "metadata": {},
          "output_type": "display_data"
        },
        {
          "data": {
            "application/vnd.jupyter.widget-view+json": {
              "model_id": "a1808cf74bd14b60b22d5383590df8c9",
              "version_major": 2,
              "version_minor": 0
            },
            "text/plain": [
              "VBox(children=(Label(value='0.001 MB of 0.018 MB uploaded (0.000 MB deduped)\\r'), FloatProgress(value=0.062306…"
            ]
          },
          "metadata": {},
          "output_type": "display_data"
        },
        {
          "data": {
            "text/html": [
              "<style>\n",
              "    table.wandb td:nth-child(1) { padding: 0 10px; text-align: left ; width: auto;} td:nth-child(2) {text-align: left ; width: 100%}\n",
              "    .wandb-row { display: flex; flex-direction: row; flex-wrap: wrap; justify-content: flex-start; width: 100% }\n",
              "    .wandb-col { display: flex; flex-direction: column; flex-basis: 100%; flex: 1; padding: 10px; }\n",
              "    </style>\n",
              "<div class=\"wandb-row\"><div class=\"wandb-col\"><h3>Run history:</h3><br/><table class=\"wandb\"><tr><td>train accuracy</td><td>▁▃▅▇█</td></tr><tr><td>train loss</td><td>█▇▅▃▁</td></tr><tr><td>validation accuracy</td><td>▁▃▅▇█</td></tr><tr><td>validation loss</td><td>█▇▄▂▁</td></tr></table><br/></div><div class=\"wandb-col\"><h3>Run summary:</h3><br/><table class=\"wandb\"><tr><td>train accuracy</td><td>0.58039</td></tr><tr><td>train loss</td><td>1.22469</td></tr><tr><td>validation accuracy</td><td>0.61183</td></tr><tr><td>validation loss</td><td>1.12631</td></tr></table><br/></div></div>"
            ],
            "text/plain": [
              "<IPython.core.display.HTML object>"
            ]
          },
          "metadata": {},
          "output_type": "display_data"
        },
        {
          "data": {
            "text/html": [
              " View run <strong style=\"color:#cdcd00\">visionary-sweep-78</strong> at: <a href='https://wandb.ai/cs22m019/DL%20Final%20Assignment%201/runs/t3jpita7' target=\"_blank\">https://wandb.ai/cs22m019/DL%20Final%20Assignment%201/runs/t3jpita7</a><br/>Synced 6 W&B file(s), 0 media file(s), 0 artifact file(s) and 0 other file(s)"
            ],
            "text/plain": [
              "<IPython.core.display.HTML object>"
            ]
          },
          "metadata": {},
          "output_type": "display_data"
        },
        {
          "data": {
            "text/html": [
              "Find logs at: <code>.\\wandb\\run-20230310_035704-t3jpita7\\logs</code>"
            ],
            "text/plain": [
              "<IPython.core.display.HTML object>"
            ]
          },
          "metadata": {},
          "output_type": "display_data"
        },
        {
          "name": "stderr",
          "output_type": "stream",
          "text": [
            "\u001b[34m\u001b[1mwandb\u001b[0m: Agent Starting Run: 2li7l65j with config:\n",
            "\u001b[34m\u001b[1mwandb\u001b[0m: \tactivation: sigmoid\n",
            "\u001b[34m\u001b[1mwandb\u001b[0m: \tbatch_size: 32\n",
            "\u001b[34m\u001b[1mwandb\u001b[0m: \tepochs: 5\n",
            "\u001b[34m\u001b[1mwandb\u001b[0m: \tlearning_rate: 0.001\n",
            "\u001b[34m\u001b[1mwandb\u001b[0m: \tnumber_of_hidden_layer: 5\n",
            "\u001b[34m\u001b[1mwandb\u001b[0m: \toptimizer: momentum\n",
            "\u001b[34m\u001b[1mwandb\u001b[0m: \tsize_of_hidden_layer: 32\n",
            "\u001b[34m\u001b[1mwandb\u001b[0m: \tweight_decay: 0\n",
            "\u001b[34m\u001b[1mwandb\u001b[0m: \tweight_initialization: Xavier\n"
          ]
        },
        {
          "data": {
            "text/html": [
              "Tracking run with wandb version 0.13.11"
            ],
            "text/plain": [
              "<IPython.core.display.HTML object>"
            ]
          },
          "metadata": {},
          "output_type": "display_data"
        },
        {
          "data": {
            "text/html": [
              "Run data is saved locally in <code>C:\\Users\\DELL\\Desktop\\wandb\\run-20230310_035802-2li7l65j</code>"
            ],
            "text/plain": [
              "<IPython.core.display.HTML object>"
            ]
          },
          "metadata": {},
          "output_type": "display_data"
        },
        {
          "data": {
            "text/html": [
              "Syncing run <strong><a href='https://wandb.ai/cs22m019/DL%20Final%20Assignment%201/runs/2li7l65j' target=\"_blank\">stellar-sweep-79</a></strong> to <a href='https://wandb.ai/cs22m019/DL%20Final%20Assignment%201' target=\"_blank\">Weights & Biases</a> (<a href='https://wandb.me/run' target=\"_blank\">docs</a>)<br/>Sweep page: <a href='https://wandb.ai/cs22m019/DL%20Final%20Assignment%201/sweeps/eayjxkwm' target=\"_blank\">https://wandb.ai/cs22m019/DL%20Final%20Assignment%201/sweeps/eayjxkwm</a>"
            ],
            "text/plain": [
              "<IPython.core.display.HTML object>"
            ]
          },
          "metadata": {},
          "output_type": "display_data"
        },
        {
          "data": {
            "text/html": [
              " View project at <a href='https://wandb.ai/cs22m019/DL%20Final%20Assignment%201' target=\"_blank\">https://wandb.ai/cs22m019/DL%20Final%20Assignment%201</a>"
            ],
            "text/plain": [
              "<IPython.core.display.HTML object>"
            ]
          },
          "metadata": {},
          "output_type": "display_data"
        },
        {
          "data": {
            "text/html": [
              " View sweep at <a href='https://wandb.ai/cs22m019/DL%20Final%20Assignment%201/sweeps/eayjxkwm' target=\"_blank\">https://wandb.ai/cs22m019/DL%20Final%20Assignment%201/sweeps/eayjxkwm</a>"
            ],
            "text/plain": [
              "<IPython.core.display.HTML object>"
            ]
          },
          "metadata": {},
          "output_type": "display_data"
        },
        {
          "data": {
            "text/html": [
              " View run at <a href='https://wandb.ai/cs22m019/DL%20Final%20Assignment%201/runs/2li7l65j' target=\"_blank\">https://wandb.ai/cs22m019/DL%20Final%20Assignment%201/runs/2li7l65j</a>"
            ],
            "text/plain": [
              "<IPython.core.display.HTML object>"
            ]
          },
          "metadata": {},
          "output_type": "display_data"
        },
        {
          "name": "stdout",
          "output_type": "stream",
          "text": [
            "epoch:1, train loss:2.3952098830082194, train accuracy:0.10038888888888889, validation loss:2.3214168405518913, validation accuracy:0.0965\n",
            "epoch:2, train loss:2.3096159304052932, train accuracy:0.10038888888888889, validation loss:2.3037894201479694, validation accuracy:0.0965\n",
            "epoch:3, train loss:2.303069452877403, train accuracy:0.09116666666666666, validation loss:2.3029018255272087, validation accuracy:0.09266666666666666\n",
            "epoch:4, train loss:2.302712865618344, train accuracy:0.09674074074074074, validation loss:2.3027475702700566, validation accuracy:0.09933333333333333\n",
            "epoch:5, train loss:2.3026897984914982, train accuracy:0.09942592592592593, validation loss:2.302713273119261, validation accuracy:0.0965\n"
          ]
        },
        {
          "data": {
            "text/html": [
              "Waiting for W&B process to finish... <strong style=\"color:green\">(success).</strong>"
            ],
            "text/plain": [
              "<IPython.core.display.HTML object>"
            ]
          },
          "metadata": {},
          "output_type": "display_data"
        },
        {
          "data": {
            "application/vnd.jupyter.widget-view+json": {
              "model_id": "0382f7c64e1647b48bc02a0572caf009",
              "version_major": 2,
              "version_minor": 0
            },
            "text/plain": [
              "VBox(children=(Label(value='0.001 MB of 0.001 MB uploaded (0.000 MB deduped)\\r'), FloatProgress(value=1.0, max…"
            ]
          },
          "metadata": {},
          "output_type": "display_data"
        },
        {
          "data": {
            "text/html": [
              "<style>\n",
              "    table.wandb td:nth-child(1) { padding: 0 10px; text-align: left ; width: auto;} td:nth-child(2) {text-align: left ; width: 100%}\n",
              "    .wandb-row { display: flex; flex-direction: row; flex-wrap: wrap; justify-content: flex-start; width: 100% }\n",
              "    .wandb-col { display: flex; flex-direction: column; flex-basis: 100%; flex: 1; padding: 10px; }\n",
              "    </style>\n",
              "<div class=\"wandb-row\"><div class=\"wandb-col\"><h3>Run history:</h3><br/><table class=\"wandb\"><tr><td>train accuracy</td><td>██▁▅▇</td></tr><tr><td>train loss</td><td>█▂▁▁▁</td></tr><tr><td>validation accuracy</td><td>▅▅▁█▅</td></tr><tr><td>validation loss</td><td>█▁▁▁▁</td></tr></table><br/></div><div class=\"wandb-col\"><h3>Run summary:</h3><br/><table class=\"wandb\"><tr><td>train accuracy</td><td>0.09943</td></tr><tr><td>train loss</td><td>2.30269</td></tr><tr><td>validation accuracy</td><td>0.0965</td></tr><tr><td>validation loss</td><td>2.30271</td></tr></table><br/></div></div>"
            ],
            "text/plain": [
              "<IPython.core.display.HTML object>"
            ]
          },
          "metadata": {},
          "output_type": "display_data"
        },
        {
          "data": {
            "text/html": [
              " View run <strong style=\"color:#cdcd00\">stellar-sweep-79</strong> at: <a href='https://wandb.ai/cs22m019/DL%20Final%20Assignment%201/runs/2li7l65j' target=\"_blank\">https://wandb.ai/cs22m019/DL%20Final%20Assignment%201/runs/2li7l65j</a><br/>Synced 6 W&B file(s), 0 media file(s), 0 artifact file(s) and 0 other file(s)"
            ],
            "text/plain": [
              "<IPython.core.display.HTML object>"
            ]
          },
          "metadata": {},
          "output_type": "display_data"
        },
        {
          "data": {
            "text/html": [
              "Find logs at: <code>.\\wandb\\run-20230310_035802-2li7l65j\\logs</code>"
            ],
            "text/plain": [
              "<IPython.core.display.HTML object>"
            ]
          },
          "metadata": {},
          "output_type": "display_data"
        },
        {
          "name": "stderr",
          "output_type": "stream",
          "text": [
            "\u001b[34m\u001b[1mwandb\u001b[0m: Agent Starting Run: imok1vu0 with config:\n",
            "\u001b[34m\u001b[1mwandb\u001b[0m: \tactivation: tanh\n",
            "\u001b[34m\u001b[1mwandb\u001b[0m: \tbatch_size: 32\n",
            "\u001b[34m\u001b[1mwandb\u001b[0m: \tepochs: 10\n",
            "\u001b[34m\u001b[1mwandb\u001b[0m: \tlearning_rate: 0.001\n",
            "\u001b[34m\u001b[1mwandb\u001b[0m: \tnumber_of_hidden_layer: 4\n",
            "\u001b[34m\u001b[1mwandb\u001b[0m: \toptimizer: rmsprop\n",
            "\u001b[34m\u001b[1mwandb\u001b[0m: \tsize_of_hidden_layer: 64\n",
            "\u001b[34m\u001b[1mwandb\u001b[0m: \tweight_decay: 0.5\n",
            "\u001b[34m\u001b[1mwandb\u001b[0m: \tweight_initialization: Xavier\n"
          ]
        },
        {
          "data": {
            "text/html": [
              "Tracking run with wandb version 0.13.11"
            ],
            "text/plain": [
              "<IPython.core.display.HTML object>"
            ]
          },
          "metadata": {},
          "output_type": "display_data"
        },
        {
          "data": {
            "text/html": [
              "Run data is saved locally in <code>C:\\Users\\DELL\\Desktop\\wandb\\run-20230310_035908-imok1vu0</code>"
            ],
            "text/plain": [
              "<IPython.core.display.HTML object>"
            ]
          },
          "metadata": {},
          "output_type": "display_data"
        },
        {
          "data": {
            "text/html": [
              "Syncing run <strong><a href='https://wandb.ai/cs22m019/DL%20Final%20Assignment%201/runs/imok1vu0' target=\"_blank\">firm-sweep-80</a></strong> to <a href='https://wandb.ai/cs22m019/DL%20Final%20Assignment%201' target=\"_blank\">Weights & Biases</a> (<a href='https://wandb.me/run' target=\"_blank\">docs</a>)<br/>Sweep page: <a href='https://wandb.ai/cs22m019/DL%20Final%20Assignment%201/sweeps/eayjxkwm' target=\"_blank\">https://wandb.ai/cs22m019/DL%20Final%20Assignment%201/sweeps/eayjxkwm</a>"
            ],
            "text/plain": [
              "<IPython.core.display.HTML object>"
            ]
          },
          "metadata": {},
          "output_type": "display_data"
        },
        {
          "data": {
            "text/html": [
              " View project at <a href='https://wandb.ai/cs22m019/DL%20Final%20Assignment%201' target=\"_blank\">https://wandb.ai/cs22m019/DL%20Final%20Assignment%201</a>"
            ],
            "text/plain": [
              "<IPython.core.display.HTML object>"
            ]
          },
          "metadata": {},
          "output_type": "display_data"
        },
        {
          "data": {
            "text/html": [
              " View sweep at <a href='https://wandb.ai/cs22m019/DL%20Final%20Assignment%201/sweeps/eayjxkwm' target=\"_blank\">https://wandb.ai/cs22m019/DL%20Final%20Assignment%201/sweeps/eayjxkwm</a>"
            ],
            "text/plain": [
              "<IPython.core.display.HTML object>"
            ]
          },
          "metadata": {},
          "output_type": "display_data"
        },
        {
          "data": {
            "text/html": [
              " View run at <a href='https://wandb.ai/cs22m019/DL%20Final%20Assignment%201/runs/imok1vu0' target=\"_blank\">https://wandb.ai/cs22m019/DL%20Final%20Assignment%201/runs/imok1vu0</a>"
            ],
            "text/plain": [
              "<IPython.core.display.HTML object>"
            ]
          },
          "metadata": {},
          "output_type": "display_data"
        },
        {
          "name": "stdout",
          "output_type": "stream",
          "text": [
            "epoch:1, train loss:1.1594346176842425, train accuracy:0.6467962962962963, validation loss:0.7416324269983023, validation accuracy:0.7638333333333334\n",
            "epoch:2, train loss:0.6411748115072089, train accuracy:0.7962222222222223, validation loss:0.5770365772733332, validation accuracy:0.8108333333333333\n",
            "epoch:3, train loss:0.543901024075331, train accuracy:0.8207962962962962, validation loss:0.5183450316545175, validation accuracy:0.8258333333333333\n",
            "epoch:4, train loss:0.5030512885515749, train accuracy:0.8300740740740741, validation loss:0.4893821372498596, validation accuracy:0.8346666666666667\n",
            "epoch:5, train loss:0.47909367286114823, train accuracy:0.8366296296296296, validation loss:0.47472277184136397, validation accuracy:0.8363333333333334\n",
            "epoch:6, train loss:0.4618207160302802, train accuracy:0.8418888888888889, validation loss:0.45720528546817824, validation accuracy:0.8433333333333334\n",
            "epoch:7, train loss:0.44856929634463955, train accuracy:0.8463888888888889, validation loss:0.4538817235770501, validation accuracy:0.8436666666666667\n",
            "epoch:8, train loss:0.43783304389811356, train accuracy:0.8502037037037037, validation loss:0.44080836137833695, validation accuracy:0.85\n",
            "epoch:9, train loss:0.428986961000052, train accuracy:0.8542037037037037, validation loss:0.43307243264378675, validation accuracy:0.8508333333333333\n",
            "epoch:10, train loss:0.4211853669680531, train accuracy:0.8564074074074074, validation loss:0.4322889499203095, validation accuracy:0.8526666666666667\n"
          ]
        },
        {
          "data": {
            "text/html": [
              "Waiting for W&B process to finish... <strong style=\"color:green\">(success).</strong>"
            ],
            "text/plain": [
              "<IPython.core.display.HTML object>"
            ]
          },
          "metadata": {},
          "output_type": "display_data"
        },
        {
          "data": {
            "application/vnd.jupyter.widget-view+json": {
              "model_id": "9bf00e2bbcdb4c33a396522782cdc4eb",
              "version_major": 2,
              "version_minor": 0
            },
            "text/plain": [
              "VBox(children=(Label(value='0.001 MB of 0.001 MB uploaded (0.000 MB deduped)\\r'), FloatProgress(value=1.0, max…"
            ]
          },
          "metadata": {},
          "output_type": "display_data"
        },
        {
          "data": {
            "text/html": [
              "<style>\n",
              "    table.wandb td:nth-child(1) { padding: 0 10px; text-align: left ; width: auto;} td:nth-child(2) {text-align: left ; width: 100%}\n",
              "    .wandb-row { display: flex; flex-direction: row; flex-wrap: wrap; justify-content: flex-start; width: 100% }\n",
              "    .wandb-col { display: flex; flex-direction: column; flex-basis: 100%; flex: 1; padding: 10px; }\n",
              "    </style>\n",
              "<div class=\"wandb-row\"><div class=\"wandb-col\"><h3>Run history:</h3><br/><table class=\"wandb\"><tr><td>train accuracy</td><td>▁▆▇▇▇█████</td></tr><tr><td>train loss</td><td>█▃▂▂▂▁▁▁▁▁</td></tr><tr><td>validation accuracy</td><td>▁▅▆▇▇▇▇███</td></tr><tr><td>validation loss</td><td>█▄▃▂▂▂▁▁▁▁</td></tr></table><br/></div><div class=\"wandb-col\"><h3>Run summary:</h3><br/><table class=\"wandb\"><tr><td>train accuracy</td><td>0.85641</td></tr><tr><td>train loss</td><td>0.42119</td></tr><tr><td>validation accuracy</td><td>0.85267</td></tr><tr><td>validation loss</td><td>0.43229</td></tr></table><br/></div></div>"
            ],
            "text/plain": [
              "<IPython.core.display.HTML object>"
            ]
          },
          "metadata": {},
          "output_type": "display_data"
        },
        {
          "data": {
            "text/html": [
              " View run <strong style=\"color:#cdcd00\">firm-sweep-80</strong> at: <a href='https://wandb.ai/cs22m019/DL%20Final%20Assignment%201/runs/imok1vu0' target=\"_blank\">https://wandb.ai/cs22m019/DL%20Final%20Assignment%201/runs/imok1vu0</a><br/>Synced 6 W&B file(s), 0 media file(s), 0 artifact file(s) and 0 other file(s)"
            ],
            "text/plain": [
              "<IPython.core.display.HTML object>"
            ]
          },
          "metadata": {},
          "output_type": "display_data"
        },
        {
          "data": {
            "text/html": [
              "Find logs at: <code>.\\wandb\\run-20230310_035908-imok1vu0\\logs</code>"
            ],
            "text/plain": [
              "<IPython.core.display.HTML object>"
            ]
          },
          "metadata": {},
          "output_type": "display_data"
        },
        {
          "name": "stderr",
          "output_type": "stream",
          "text": [
            "\u001b[34m\u001b[1mwandb\u001b[0m: Agent Starting Run: w4aryy3u with config:\n",
            "\u001b[34m\u001b[1mwandb\u001b[0m: \tactivation: tanh\n",
            "\u001b[34m\u001b[1mwandb\u001b[0m: \tbatch_size: 64\n",
            "\u001b[34m\u001b[1mwandb\u001b[0m: \tepochs: 5\n",
            "\u001b[34m\u001b[1mwandb\u001b[0m: \tlearning_rate: 0.001\n",
            "\u001b[34m\u001b[1mwandb\u001b[0m: \tnumber_of_hidden_layer: 5\n",
            "\u001b[34m\u001b[1mwandb\u001b[0m: \toptimizer: sgd\n",
            "\u001b[34m\u001b[1mwandb\u001b[0m: \tsize_of_hidden_layer: 32\n",
            "\u001b[34m\u001b[1mwandb\u001b[0m: \tweight_decay: 0.0005\n",
            "\u001b[34m\u001b[1mwandb\u001b[0m: \tweight_initialization: Xavier\n"
          ]
        },
        {
          "data": {
            "text/html": [
              "Tracking run with wandb version 0.13.11"
            ],
            "text/plain": [
              "<IPython.core.display.HTML object>"
            ]
          },
          "metadata": {},
          "output_type": "display_data"
        },
        {
          "data": {
            "text/html": [
              "Run data is saved locally in <code>C:\\Users\\DELL\\Desktop\\wandb\\run-20230310_040116-w4aryy3u</code>"
            ],
            "text/plain": [
              "<IPython.core.display.HTML object>"
            ]
          },
          "metadata": {},
          "output_type": "display_data"
        },
        {
          "data": {
            "text/html": [
              "Syncing run <strong><a href='https://wandb.ai/cs22m019/DL%20Final%20Assignment%201/runs/w4aryy3u' target=\"_blank\">silver-sweep-81</a></strong> to <a href='https://wandb.ai/cs22m019/DL%20Final%20Assignment%201' target=\"_blank\">Weights & Biases</a> (<a href='https://wandb.me/run' target=\"_blank\">docs</a>)<br/>Sweep page: <a href='https://wandb.ai/cs22m019/DL%20Final%20Assignment%201/sweeps/eayjxkwm' target=\"_blank\">https://wandb.ai/cs22m019/DL%20Final%20Assignment%201/sweeps/eayjxkwm</a>"
            ],
            "text/plain": [
              "<IPython.core.display.HTML object>"
            ]
          },
          "metadata": {},
          "output_type": "display_data"
        },
        {
          "data": {
            "text/html": [
              " View project at <a href='https://wandb.ai/cs22m019/DL%20Final%20Assignment%201' target=\"_blank\">https://wandb.ai/cs22m019/DL%20Final%20Assignment%201</a>"
            ],
            "text/plain": [
              "<IPython.core.display.HTML object>"
            ]
          },
          "metadata": {},
          "output_type": "display_data"
        },
        {
          "data": {
            "text/html": [
              " View sweep at <a href='https://wandb.ai/cs22m019/DL%20Final%20Assignment%201/sweeps/eayjxkwm' target=\"_blank\">https://wandb.ai/cs22m019/DL%20Final%20Assignment%201/sweeps/eayjxkwm</a>"
            ],
            "text/plain": [
              "<IPython.core.display.HTML object>"
            ]
          },
          "metadata": {},
          "output_type": "display_data"
        },
        {
          "data": {
            "text/html": [
              " View run at <a href='https://wandb.ai/cs22m019/DL%20Final%20Assignment%201/runs/w4aryy3u' target=\"_blank\">https://wandb.ai/cs22m019/DL%20Final%20Assignment%201/runs/w4aryy3u</a>"
            ],
            "text/plain": [
              "<IPython.core.display.HTML object>"
            ]
          },
          "metadata": {},
          "output_type": "display_data"
        },
        {
          "name": "stdout",
          "output_type": "stream",
          "text": [
            "epoch:1, train loss:2.5636493394579225, train accuracy:0.10025925925925926, validation loss:2.5478392758320325, validation accuracy:0.09766666666666667\n",
            "epoch:2, train loss:2.525375413874292, train accuracy:0.10025925925925926, validation loss:2.512859442314389, validation accuracy:0.09766666666666667\n",
            "epoch:3, train loss:2.4942217536718934, train accuracy:0.10025925925925926, validation loss:2.4842412805266587, validation accuracy:0.09766666666666667\n",
            "epoch:4, train loss:2.469399532442453, train accuracy:0.10025925925925926, validation loss:2.460843575756484, validation accuracy:0.09766666666666667\n",
            "epoch:5, train loss:2.44630488067471, train accuracy:0.10025925925925926, validation loss:2.4381516936721814, validation accuracy:0.09766666666666667\n"
          ]
        },
        {
          "data": {
            "text/html": [
              "Waiting for W&B process to finish... <strong style=\"color:green\">(success).</strong>"
            ],
            "text/plain": [
              "<IPython.core.display.HTML object>"
            ]
          },
          "metadata": {},
          "output_type": "display_data"
        },
        {
          "data": {
            "application/vnd.jupyter.widget-view+json": {
              "model_id": "7c14a6986f85425c85c51b665605fc32",
              "version_major": 2,
              "version_minor": 0
            },
            "text/plain": [
              "VBox(children=(Label(value='0.001 MB of 0.001 MB uploaded (0.000 MB deduped)\\r'), FloatProgress(value=1.0, max…"
            ]
          },
          "metadata": {},
          "output_type": "display_data"
        },
        {
          "data": {
            "text/html": [
              "<style>\n",
              "    table.wandb td:nth-child(1) { padding: 0 10px; text-align: left ; width: auto;} td:nth-child(2) {text-align: left ; width: 100%}\n",
              "    .wandb-row { display: flex; flex-direction: row; flex-wrap: wrap; justify-content: flex-start; width: 100% }\n",
              "    .wandb-col { display: flex; flex-direction: column; flex-basis: 100%; flex: 1; padding: 10px; }\n",
              "    </style>\n",
              "<div class=\"wandb-row\"><div class=\"wandb-col\"><h3>Run history:</h3><br/><table class=\"wandb\"><tr><td>train accuracy</td><td>▁▁▁▁▁</td></tr><tr><td>train loss</td><td>█▆▄▂▁</td></tr><tr><td>validation accuracy</td><td>▁▁▁▁▁</td></tr><tr><td>validation loss</td><td>█▆▄▂▁</td></tr></table><br/></div><div class=\"wandb-col\"><h3>Run summary:</h3><br/><table class=\"wandb\"><tr><td>train accuracy</td><td>0.10026</td></tr><tr><td>train loss</td><td>2.4463</td></tr><tr><td>validation accuracy</td><td>0.09767</td></tr><tr><td>validation loss</td><td>2.43815</td></tr></table><br/></div></div>"
            ],
            "text/plain": [
              "<IPython.core.display.HTML object>"
            ]
          },
          "metadata": {},
          "output_type": "display_data"
        },
        {
          "data": {
            "text/html": [
              " View run <strong style=\"color:#cdcd00\">silver-sweep-81</strong> at: <a href='https://wandb.ai/cs22m019/DL%20Final%20Assignment%201/runs/w4aryy3u' target=\"_blank\">https://wandb.ai/cs22m019/DL%20Final%20Assignment%201/runs/w4aryy3u</a><br/>Synced 6 W&B file(s), 0 media file(s), 0 artifact file(s) and 0 other file(s)"
            ],
            "text/plain": [
              "<IPython.core.display.HTML object>"
            ]
          },
          "metadata": {},
          "output_type": "display_data"
        },
        {
          "data": {
            "text/html": [
              "Find logs at: <code>.\\wandb\\run-20230310_040116-w4aryy3u\\logs</code>"
            ],
            "text/plain": [
              "<IPython.core.display.HTML object>"
            ]
          },
          "metadata": {},
          "output_type": "display_data"
        },
        {
          "name": "stderr",
          "output_type": "stream",
          "text": [
            "\u001b[34m\u001b[1mwandb\u001b[0m: Sweep Agent: Waiting for job.\n",
            "\u001b[34m\u001b[1mwandb\u001b[0m: Job received.\n",
            "\u001b[34m\u001b[1mwandb\u001b[0m: Agent Starting Run: 648yq6cz with config:\n",
            "\u001b[34m\u001b[1mwandb\u001b[0m: \tactivation: tanh\n",
            "\u001b[34m\u001b[1mwandb\u001b[0m: \tbatch_size: 32\n",
            "\u001b[34m\u001b[1mwandb\u001b[0m: \tepochs: 10\n",
            "\u001b[34m\u001b[1mwandb\u001b[0m: \tlearning_rate: 0.0001\n",
            "\u001b[34m\u001b[1mwandb\u001b[0m: \tnumber_of_hidden_layer: 4\n",
            "\u001b[34m\u001b[1mwandb\u001b[0m: \toptimizer: nestrov\n",
            "\u001b[34m\u001b[1mwandb\u001b[0m: \tsize_of_hidden_layer: 128\n",
            "\u001b[34m\u001b[1mwandb\u001b[0m: \tweight_decay: 0.0005\n",
            "\u001b[34m\u001b[1mwandb\u001b[0m: \tweight_initialization: random\n"
          ]
        },
        {
          "data": {
            "application/vnd.jupyter.widget-view+json": {
              "model_id": "3234062bcdc0472cae9380dfca0999f7",
              "version_major": 2,
              "version_minor": 0
            },
            "text/plain": [
              "VBox(children=(Label(value='Waiting for wandb.init()...\\r'), FloatProgress(value=0.016916666666656966, max=1.0…"
            ]
          },
          "metadata": {},
          "output_type": "display_data"
        },
        {
          "data": {
            "text/html": [
              "Tracking run with wandb version 0.13.11"
            ],
            "text/plain": [
              "<IPython.core.display.HTML object>"
            ]
          },
          "metadata": {},
          "output_type": "display_data"
        },
        {
          "data": {
            "text/html": [
              "Run data is saved locally in <code>C:\\Users\\DELL\\Desktop\\wandb\\run-20230310_040217-648yq6cz</code>"
            ],
            "text/plain": [
              "<IPython.core.display.HTML object>"
            ]
          },
          "metadata": {},
          "output_type": "display_data"
        },
        {
          "data": {
            "text/html": [
              "Syncing run <strong><a href='https://wandb.ai/cs22m019/DL%20Final%20Assignment%201/runs/648yq6cz' target=\"_blank\">rural-sweep-82</a></strong> to <a href='https://wandb.ai/cs22m019/DL%20Final%20Assignment%201' target=\"_blank\">Weights & Biases</a> (<a href='https://wandb.me/run' target=\"_blank\">docs</a>)<br/>Sweep page: <a href='https://wandb.ai/cs22m019/DL%20Final%20Assignment%201/sweeps/eayjxkwm' target=\"_blank\">https://wandb.ai/cs22m019/DL%20Final%20Assignment%201/sweeps/eayjxkwm</a>"
            ],
            "text/plain": [
              "<IPython.core.display.HTML object>"
            ]
          },
          "metadata": {},
          "output_type": "display_data"
        },
        {
          "data": {
            "text/html": [
              " View project at <a href='https://wandb.ai/cs22m019/DL%20Final%20Assignment%201' target=\"_blank\">https://wandb.ai/cs22m019/DL%20Final%20Assignment%201</a>"
            ],
            "text/plain": [
              "<IPython.core.display.HTML object>"
            ]
          },
          "metadata": {},
          "output_type": "display_data"
        },
        {
          "data": {
            "text/html": [
              " View sweep at <a href='https://wandb.ai/cs22m019/DL%20Final%20Assignment%201/sweeps/eayjxkwm' target=\"_blank\">https://wandb.ai/cs22m019/DL%20Final%20Assignment%201/sweeps/eayjxkwm</a>"
            ],
            "text/plain": [
              "<IPython.core.display.HTML object>"
            ]
          },
          "metadata": {},
          "output_type": "display_data"
        },
        {
          "data": {
            "text/html": [
              " View run at <a href='https://wandb.ai/cs22m019/DL%20Final%20Assignment%201/runs/648yq6cz' target=\"_blank\">https://wandb.ai/cs22m019/DL%20Final%20Assignment%201/runs/648yq6cz</a>"
            ],
            "text/plain": [
              "<IPython.core.display.HTML object>"
            ]
          },
          "metadata": {},
          "output_type": "display_data"
        },
        {
          "name": "stdout",
          "output_type": "stream",
          "text": [
            "epoch:1, train loss:7.217223025119752, train accuracy:0.11081481481481481, validation loss:6.242635174185044, validation accuracy:0.1445\n",
            "epoch:2, train loss:5.529683477478802, train accuracy:0.18505555555555556, validation loss:5.081142033425685, validation accuracy:0.21333333333333335\n",
            "epoch:3, train loss:4.60243736584688, train accuracy:0.24944444444444444, validation loss:4.366633593640764, validation accuracy:0.2708333333333333\n",
            "epoch:4, train loss:4.0002215927301386, train accuracy:0.29894444444444446, validation loss:3.8964206850603844, validation accuracy:0.317\n",
            "epoch:5, train loss:3.5912642725884707, train accuracy:0.33674074074074073, validation loss:3.5676684244725867, validation accuracy:0.35\n",
            "epoch:6, train loss:3.297915589954475, train accuracy:0.37066666666666664, validation loss:3.323135942391556, validation accuracy:0.375\n",
            "epoch:7, train loss:3.068395765595817, train accuracy:0.3967222222222222, validation loss:3.1165611832813522, validation accuracy:0.3985\n",
            "epoch:8, train loss:2.874531135417749, train accuracy:0.42018518518518516, validation loss:2.945950568237512, validation accuracy:0.416\n",
            "epoch:9, train loss:2.7148171537702455, train accuracy:0.4410925925925926, validation loss:2.8018213759381347, validation accuracy:0.433\n",
            "epoch:10, train loss:2.5814723977783762, train accuracy:0.45844444444444443, validation loss:2.674866839263341, validation accuracy:0.447\n"
          ]
        },
        {
          "data": {
            "text/html": [
              "Waiting for W&B process to finish... <strong style=\"color:green\">(success).</strong>"
            ],
            "text/plain": [
              "<IPython.core.display.HTML object>"
            ]
          },
          "metadata": {},
          "output_type": "display_data"
        },
        {
          "data": {
            "application/vnd.jupyter.widget-view+json": {
              "model_id": "5bbc527c5b084b4886355ce1d925bf3a",
              "version_major": 2,
              "version_minor": 0
            },
            "text/plain": [
              "VBox(children=(Label(value='0.001 MB of 0.001 MB uploaded (0.000 MB deduped)\\r'), FloatProgress(value=1.0, max…"
            ]
          },
          "metadata": {},
          "output_type": "display_data"
        },
        {
          "data": {
            "text/html": [
              "<style>\n",
              "    table.wandb td:nth-child(1) { padding: 0 10px; text-align: left ; width: auto;} td:nth-child(2) {text-align: left ; width: 100%}\n",
              "    .wandb-row { display: flex; flex-direction: row; flex-wrap: wrap; justify-content: flex-start; width: 100% }\n",
              "    .wandb-col { display: flex; flex-direction: column; flex-basis: 100%; flex: 1; padding: 10px; }\n",
              "    </style>\n",
              "<div class=\"wandb-row\"><div class=\"wandb-col\"><h3>Run history:</h3><br/><table class=\"wandb\"><tr><td>train accuracy</td><td>▁▂▄▅▆▆▇▇██</td></tr><tr><td>train loss</td><td>█▅▄▃▃▂▂▁▁▁</td></tr><tr><td>validation accuracy</td><td>▁▃▄▅▆▆▇▇██</td></tr><tr><td>validation loss</td><td>█▆▄▃▃▂▂▂▁▁</td></tr></table><br/></div><div class=\"wandb-col\"><h3>Run summary:</h3><br/><table class=\"wandb\"><tr><td>train accuracy</td><td>0.45844</td></tr><tr><td>train loss</td><td>2.58147</td></tr><tr><td>validation accuracy</td><td>0.447</td></tr><tr><td>validation loss</td><td>2.67487</td></tr></table><br/></div></div>"
            ],
            "text/plain": [
              "<IPython.core.display.HTML object>"
            ]
          },
          "metadata": {},
          "output_type": "display_data"
        },
        {
          "data": {
            "text/html": [
              " View run <strong style=\"color:#cdcd00\">rural-sweep-82</strong> at: <a href='https://wandb.ai/cs22m019/DL%20Final%20Assignment%201/runs/648yq6cz' target=\"_blank\">https://wandb.ai/cs22m019/DL%20Final%20Assignment%201/runs/648yq6cz</a><br/>Synced 6 W&B file(s), 0 media file(s), 0 artifact file(s) and 0 other file(s)"
            ],
            "text/plain": [
              "<IPython.core.display.HTML object>"
            ]
          },
          "metadata": {},
          "output_type": "display_data"
        },
        {
          "data": {
            "text/html": [
              "Find logs at: <code>.\\wandb\\run-20230310_040217-648yq6cz\\logs</code>"
            ],
            "text/plain": [
              "<IPython.core.display.HTML object>"
            ]
          },
          "metadata": {},
          "output_type": "display_data"
        },
        {
          "name": "stderr",
          "output_type": "stream",
          "text": [
            "\u001b[34m\u001b[1mwandb\u001b[0m: Agent Starting Run: oml3kp1l with config:\n",
            "\u001b[34m\u001b[1mwandb\u001b[0m: \tactivation: tanh\n",
            "\u001b[34m\u001b[1mwandb\u001b[0m: \tbatch_size: 64\n",
            "\u001b[34m\u001b[1mwandb\u001b[0m: \tepochs: 10\n",
            "\u001b[34m\u001b[1mwandb\u001b[0m: \tlearning_rate: 0.0001\n",
            "\u001b[34m\u001b[1mwandb\u001b[0m: \tnumber_of_hidden_layer: 5\n",
            "\u001b[34m\u001b[1mwandb\u001b[0m: \toptimizer: adam\n",
            "\u001b[34m\u001b[1mwandb\u001b[0m: \tsize_of_hidden_layer: 128\n",
            "\u001b[34m\u001b[1mwandb\u001b[0m: \tweight_decay: 0.0005\n",
            "\u001b[34m\u001b[1mwandb\u001b[0m: \tweight_initialization: random\n"
          ]
        },
        {
          "data": {
            "text/html": [
              "Tracking run with wandb version 0.13.11"
            ],
            "text/plain": [
              "<IPython.core.display.HTML object>"
            ]
          },
          "metadata": {},
          "output_type": "display_data"
        },
        {
          "data": {
            "text/html": [
              "Run data is saved locally in <code>C:\\Users\\DELL\\Desktop\\wandb\\run-20230310_040834-oml3kp1l</code>"
            ],
            "text/plain": [
              "<IPython.core.display.HTML object>"
            ]
          },
          "metadata": {},
          "output_type": "display_data"
        },
        {
          "data": {
            "text/html": [
              "Syncing run <strong><a href='https://wandb.ai/cs22m019/DL%20Final%20Assignment%201/runs/oml3kp1l' target=\"_blank\">absurd-sweep-83</a></strong> to <a href='https://wandb.ai/cs22m019/DL%20Final%20Assignment%201' target=\"_blank\">Weights & Biases</a> (<a href='https://wandb.me/run' target=\"_blank\">docs</a>)<br/>Sweep page: <a href='https://wandb.ai/cs22m019/DL%20Final%20Assignment%201/sweeps/eayjxkwm' target=\"_blank\">https://wandb.ai/cs22m019/DL%20Final%20Assignment%201/sweeps/eayjxkwm</a>"
            ],
            "text/plain": [
              "<IPython.core.display.HTML object>"
            ]
          },
          "metadata": {},
          "output_type": "display_data"
        },
        {
          "data": {
            "text/html": [
              " View project at <a href='https://wandb.ai/cs22m019/DL%20Final%20Assignment%201' target=\"_blank\">https://wandb.ai/cs22m019/DL%20Final%20Assignment%201</a>"
            ],
            "text/plain": [
              "<IPython.core.display.HTML object>"
            ]
          },
          "metadata": {},
          "output_type": "display_data"
        },
        {
          "data": {
            "text/html": [
              " View sweep at <a href='https://wandb.ai/cs22m019/DL%20Final%20Assignment%201/sweeps/eayjxkwm' target=\"_blank\">https://wandb.ai/cs22m019/DL%20Final%20Assignment%201/sweeps/eayjxkwm</a>"
            ],
            "text/plain": [
              "<IPython.core.display.HTML object>"
            ]
          },
          "metadata": {},
          "output_type": "display_data"
        },
        {
          "data": {
            "text/html": [
              " View run at <a href='https://wandb.ai/cs22m019/DL%20Final%20Assignment%201/runs/oml3kp1l' target=\"_blank\">https://wandb.ai/cs22m019/DL%20Final%20Assignment%201/runs/oml3kp1l</a>"
            ],
            "text/plain": [
              "<IPython.core.display.HTML object>"
            ]
          },
          "metadata": {},
          "output_type": "display_data"
        },
        {
          "name": "stdout",
          "output_type": "stream",
          "text": [
            "epoch:1, train loss:7.86766253936071, train accuracy:0.09916666666666667, validation loss:7.732500045092812, validation accuracy:0.09866666666666667\n",
            "epoch:2, train loss:7.645394436101618, train accuracy:0.10325925925925926, validation loss:7.536640659365413, validation accuracy:0.10083333333333333\n",
            "epoch:3, train loss:7.442715059265649, train accuracy:0.10762962962962963, validation loss:7.3530248547740875, validation accuracy:0.10616666666666667\n",
            "epoch:4, train loss:7.2532012349981, train accuracy:0.11337037037037037, validation loss:7.1792904918759035, validation accuracy:0.11133333333333334\n",
            "epoch:5, train loss:7.074048810494599, train accuracy:0.11768518518518518, validation loss:7.013181261197829, validation accuracy:0.11816666666666667\n",
            "epoch:6, train loss:6.902788533580917, train accuracy:0.12190740740740741, validation loss:6.854303446221848, validation accuracy:0.12416666666666666\n",
            "epoch:7, train loss:6.739428763327768, train accuracy:0.12718518518518518, validation loss:6.701565290740132, validation accuracy:0.129\n",
            "epoch:8, train loss:6.583435097578529, train accuracy:0.1330925925925926, validation loss:6.554966701945006, validation accuracy:0.13216666666666665\n",
            "epoch:9, train loss:6.432070204707728, train accuracy:0.1385, validation loss:6.414030140773136, validation accuracy:0.13866666666666666\n",
            "epoch:10, train loss:6.285301763259211, train accuracy:0.14346296296296296, validation loss:6.2781384320345985, validation accuracy:0.144\n"
          ]
        },
        {
          "data": {
            "text/html": [
              "Waiting for W&B process to finish... <strong style=\"color:green\">(success).</strong>"
            ],
            "text/plain": [
              "<IPython.core.display.HTML object>"
            ]
          },
          "metadata": {},
          "output_type": "display_data"
        },
        {
          "data": {
            "text/html": [
              "<style>\n",
              "    table.wandb td:nth-child(1) { padding: 0 10px; text-align: left ; width: auto;} td:nth-child(2) {text-align: left ; width: 100%}\n",
              "    .wandb-row { display: flex; flex-direction: row; flex-wrap: wrap; justify-content: flex-start; width: 100% }\n",
              "    .wandb-col { display: flex; flex-direction: column; flex-basis: 100%; flex: 1; padding: 10px; }\n",
              "    </style>\n",
              "<div class=\"wandb-row\"><div class=\"wandb-col\"><h3>Run history:</h3><br/><table class=\"wandb\"><tr><td>train accuracy</td><td>▁▂▂▃▄▅▅▆▇█</td></tr><tr><td>train loss</td><td>█▇▆▅▄▄▃▂▂▁</td></tr><tr><td>validation accuracy</td><td>▁▁▂▃▄▅▆▆▇█</td></tr><tr><td>validation loss</td><td>█▇▆▅▅▄▃▂▂▁</td></tr></table><br/></div><div class=\"wandb-col\"><h3>Run summary:</h3><br/><table class=\"wandb\"><tr><td>train accuracy</td><td>0.14346</td></tr><tr><td>train loss</td><td>6.2853</td></tr><tr><td>validation accuracy</td><td>0.144</td></tr><tr><td>validation loss</td><td>6.27814</td></tr></table><br/></div></div>"
            ],
            "text/plain": [
              "<IPython.core.display.HTML object>"
            ]
          },
          "metadata": {},
          "output_type": "display_data"
        },
        {
          "data": {
            "text/html": [
              " View run <strong style=\"color:#cdcd00\">absurd-sweep-83</strong> at: <a href='https://wandb.ai/cs22m019/DL%20Final%20Assignment%201/runs/oml3kp1l' target=\"_blank\">https://wandb.ai/cs22m019/DL%20Final%20Assignment%201/runs/oml3kp1l</a><br/>Synced 6 W&B file(s), 0 media file(s), 0 artifact file(s) and 0 other file(s)"
            ],
            "text/plain": [
              "<IPython.core.display.HTML object>"
            ]
          },
          "metadata": {},
          "output_type": "display_data"
        },
        {
          "data": {
            "text/html": [
              "Find logs at: <code>.\\wandb\\run-20230310_040834-oml3kp1l\\logs</code>"
            ],
            "text/plain": [
              "<IPython.core.display.HTML object>"
            ]
          },
          "metadata": {},
          "output_type": "display_data"
        },
        {
          "name": "stderr",
          "output_type": "stream",
          "text": [
            "\u001b[34m\u001b[1mwandb\u001b[0m: Agent Starting Run: 4ldsuho9 with config:\n",
            "\u001b[34m\u001b[1mwandb\u001b[0m: \tactivation: tanh\n",
            "\u001b[34m\u001b[1mwandb\u001b[0m: \tbatch_size: 32\n",
            "\u001b[34m\u001b[1mwandb\u001b[0m: \tepochs: 5\n",
            "\u001b[34m\u001b[1mwandb\u001b[0m: \tlearning_rate: 0.001\n",
            "\u001b[34m\u001b[1mwandb\u001b[0m: \tnumber_of_hidden_layer: 5\n",
            "\u001b[34m\u001b[1mwandb\u001b[0m: \toptimizer: rmsprop\n",
            "\u001b[34m\u001b[1mwandb\u001b[0m: \tsize_of_hidden_layer: 64\n",
            "\u001b[34m\u001b[1mwandb\u001b[0m: \tweight_decay: 0.0005\n",
            "\u001b[34m\u001b[1mwandb\u001b[0m: \tweight_initialization: Xavier\n"
          ]
        },
        {
          "data": {
            "text/html": [
              "Tracking run with wandb version 0.13.11"
            ],
            "text/plain": [
              "<IPython.core.display.HTML object>"
            ]
          },
          "metadata": {},
          "output_type": "display_data"
        },
        {
          "data": {
            "text/html": [
              "Run data is saved locally in <code>C:\\Users\\DELL\\Desktop\\wandb\\run-20230310_041427-4ldsuho9</code>"
            ],
            "text/plain": [
              "<IPython.core.display.HTML object>"
            ]
          },
          "metadata": {},
          "output_type": "display_data"
        },
        {
          "data": {
            "text/html": [
              "Syncing run <strong><a href='https://wandb.ai/cs22m019/DL%20Final%20Assignment%201/runs/4ldsuho9' target=\"_blank\">daily-sweep-84</a></strong> to <a href='https://wandb.ai/cs22m019/DL%20Final%20Assignment%201' target=\"_blank\">Weights & Biases</a> (<a href='https://wandb.me/run' target=\"_blank\">docs</a>)<br/>Sweep page: <a href='https://wandb.ai/cs22m019/DL%20Final%20Assignment%201/sweeps/eayjxkwm' target=\"_blank\">https://wandb.ai/cs22m019/DL%20Final%20Assignment%201/sweeps/eayjxkwm</a>"
            ],
            "text/plain": [
              "<IPython.core.display.HTML object>"
            ]
          },
          "metadata": {},
          "output_type": "display_data"
        },
        {
          "data": {
            "text/html": [
              " View project at <a href='https://wandb.ai/cs22m019/DL%20Final%20Assignment%201' target=\"_blank\">https://wandb.ai/cs22m019/DL%20Final%20Assignment%201</a>"
            ],
            "text/plain": [
              "<IPython.core.display.HTML object>"
            ]
          },
          "metadata": {},
          "output_type": "display_data"
        },
        {
          "data": {
            "text/html": [
              " View sweep at <a href='https://wandb.ai/cs22m019/DL%20Final%20Assignment%201/sweeps/eayjxkwm' target=\"_blank\">https://wandb.ai/cs22m019/DL%20Final%20Assignment%201/sweeps/eayjxkwm</a>"
            ],
            "text/plain": [
              "<IPython.core.display.HTML object>"
            ]
          },
          "metadata": {},
          "output_type": "display_data"
        },
        {
          "data": {
            "text/html": [
              " View run at <a href='https://wandb.ai/cs22m019/DL%20Final%20Assignment%201/runs/4ldsuho9' target=\"_blank\">https://wandb.ai/cs22m019/DL%20Final%20Assignment%201/runs/4ldsuho9</a>"
            ],
            "text/plain": [
              "<IPython.core.display.HTML object>"
            ]
          },
          "metadata": {},
          "output_type": "display_data"
        },
        {
          "name": "stdout",
          "output_type": "stream",
          "text": [
            "epoch:1, train loss:1.105748168185566, train accuracy:0.671962962962963, validation loss:0.6904574010617053, validation accuracy:0.7688333333333334\n",
            "epoch:2, train loss:0.5940922462173021, train accuracy:0.7978333333333333, validation loss:0.5333394662833808, validation accuracy:0.8166666666666667\n",
            "epoch:3, train loss:0.505148665353876, train accuracy:0.8231851851851851, validation loss:0.48108818343464654, validation accuracy:0.8305\n",
            "epoch:4, train loss:0.4688681363280223, train accuracy:0.8333703703703703, validation loss:0.46054217145643817, validation accuracy:0.8343333333333334\n",
            "epoch:5, train loss:0.44869783975655847, train accuracy:0.8410555555555556, validation loss:0.447028324429163, validation accuracy:0.8381666666666666\n"
          ]
        },
        {
          "data": {
            "text/html": [
              "Waiting for W&B process to finish... <strong style=\"color:green\">(success).</strong>"
            ],
            "text/plain": [
              "<IPython.core.display.HTML object>"
            ]
          },
          "metadata": {},
          "output_type": "display_data"
        },
        {
          "data": {
            "application/vnd.jupyter.widget-view+json": {
              "model_id": "c7af403ccea84717a8db9dcd75e94cf7",
              "version_major": 2,
              "version_minor": 0
            },
            "text/plain": [
              "VBox(children=(Label(value='0.001 MB of 0.001 MB uploaded (0.000 MB deduped)\\r'), FloatProgress(value=1.0, max…"
            ]
          },
          "metadata": {},
          "output_type": "display_data"
        },
        {
          "data": {
            "text/html": [
              "<style>\n",
              "    table.wandb td:nth-child(1) { padding: 0 10px; text-align: left ; width: auto;} td:nth-child(2) {text-align: left ; width: 100%}\n",
              "    .wandb-row { display: flex; flex-direction: row; flex-wrap: wrap; justify-content: flex-start; width: 100% }\n",
              "    .wandb-col { display: flex; flex-direction: column; flex-basis: 100%; flex: 1; padding: 10px; }\n",
              "    </style>\n",
              "<div class=\"wandb-row\"><div class=\"wandb-col\"><h3>Run history:</h3><br/><table class=\"wandb\"><tr><td>train accuracy</td><td>▁▆▇██</td></tr><tr><td>train loss</td><td>█▃▂▁▁</td></tr><tr><td>validation accuracy</td><td>▁▆▇██</td></tr><tr><td>validation loss</td><td>█▃▂▁▁</td></tr></table><br/></div><div class=\"wandb-col\"><h3>Run summary:</h3><br/><table class=\"wandb\"><tr><td>train accuracy</td><td>0.84106</td></tr><tr><td>train loss</td><td>0.4487</td></tr><tr><td>validation accuracy</td><td>0.83817</td></tr><tr><td>validation loss</td><td>0.44703</td></tr></table><br/></div></div>"
            ],
            "text/plain": [
              "<IPython.core.display.HTML object>"
            ]
          },
          "metadata": {},
          "output_type": "display_data"
        },
        {
          "data": {
            "text/html": [
              " View run <strong style=\"color:#cdcd00\">daily-sweep-84</strong> at: <a href='https://wandb.ai/cs22m019/DL%20Final%20Assignment%201/runs/4ldsuho9' target=\"_blank\">https://wandb.ai/cs22m019/DL%20Final%20Assignment%201/runs/4ldsuho9</a><br/>Synced 6 W&B file(s), 0 media file(s), 0 artifact file(s) and 0 other file(s)"
            ],
            "text/plain": [
              "<IPython.core.display.HTML object>"
            ]
          },
          "metadata": {},
          "output_type": "display_data"
        },
        {
          "data": {
            "text/html": [
              "Find logs at: <code>.\\wandb\\run-20230310_041427-4ldsuho9\\logs</code>"
            ],
            "text/plain": [
              "<IPython.core.display.HTML object>"
            ]
          },
          "metadata": {},
          "output_type": "display_data"
        },
        {
          "name": "stderr",
          "output_type": "stream",
          "text": [
            "\u001b[34m\u001b[1mwandb\u001b[0m: Sweep Agent: Waiting for job.\n",
            "\u001b[34m\u001b[1mwandb\u001b[0m: Job received.\n",
            "\u001b[34m\u001b[1mwandb\u001b[0m: Agent Starting Run: gg76qs44 with config:\n",
            "\u001b[34m\u001b[1mwandb\u001b[0m: \tactivation: ReLU\n",
            "\u001b[34m\u001b[1mwandb\u001b[0m: \tbatch_size: 16\n",
            "\u001b[34m\u001b[1mwandb\u001b[0m: \tepochs: 10\n",
            "\u001b[34m\u001b[1mwandb\u001b[0m: \tlearning_rate: 0.0001\n",
            "\u001b[34m\u001b[1mwandb\u001b[0m: \tnumber_of_hidden_layer: 5\n",
            "\u001b[34m\u001b[1mwandb\u001b[0m: \toptimizer: sgd\n",
            "\u001b[34m\u001b[1mwandb\u001b[0m: \tsize_of_hidden_layer: 128\n",
            "\u001b[34m\u001b[1mwandb\u001b[0m: \tweight_decay: 0.0005\n",
            "\u001b[34m\u001b[1mwandb\u001b[0m: \tweight_initialization: Xavier\n"
          ]
        },
        {
          "data": {
            "application/vnd.jupyter.widget-view+json": {
              "model_id": "da5298512c5f4393a6d786b7369470d5",
              "version_major": 2,
              "version_minor": 0
            },
            "text/plain": [
              "VBox(children=(Label(value='Waiting for wandb.init()...\\r'), FloatProgress(value=0.016916666666656966, max=1.0…"
            ]
          },
          "metadata": {},
          "output_type": "display_data"
        },
        {
          "data": {
            "text/html": [
              "Tracking run with wandb version 0.13.11"
            ],
            "text/plain": [
              "<IPython.core.display.HTML object>"
            ]
          },
          "metadata": {},
          "output_type": "display_data"
        },
        {
          "data": {
            "text/html": [
              "Run data is saved locally in <code>C:\\Users\\DELL\\Desktop\\wandb\\run-20230310_041552-gg76qs44</code>"
            ],
            "text/plain": [
              "<IPython.core.display.HTML object>"
            ]
          },
          "metadata": {},
          "output_type": "display_data"
        },
        {
          "data": {
            "text/html": [
              "Syncing run <strong><a href='https://wandb.ai/cs22m019/DL%20Final%20Assignment%201/runs/gg76qs44' target=\"_blank\">glad-sweep-85</a></strong> to <a href='https://wandb.ai/cs22m019/DL%20Final%20Assignment%201' target=\"_blank\">Weights & Biases</a> (<a href='https://wandb.me/run' target=\"_blank\">docs</a>)<br/>Sweep page: <a href='https://wandb.ai/cs22m019/DL%20Final%20Assignment%201/sweeps/eayjxkwm' target=\"_blank\">https://wandb.ai/cs22m019/DL%20Final%20Assignment%201/sweeps/eayjxkwm</a>"
            ],
            "text/plain": [
              "<IPython.core.display.HTML object>"
            ]
          },
          "metadata": {},
          "output_type": "display_data"
        },
        {
          "data": {
            "text/html": [
              " View project at <a href='https://wandb.ai/cs22m019/DL%20Final%20Assignment%201' target=\"_blank\">https://wandb.ai/cs22m019/DL%20Final%20Assignment%201</a>"
            ],
            "text/plain": [
              "<IPython.core.display.HTML object>"
            ]
          },
          "metadata": {},
          "output_type": "display_data"
        },
        {
          "data": {
            "text/html": [
              " View sweep at <a href='https://wandb.ai/cs22m019/DL%20Final%20Assignment%201/sweeps/eayjxkwm' target=\"_blank\">https://wandb.ai/cs22m019/DL%20Final%20Assignment%201/sweeps/eayjxkwm</a>"
            ],
            "text/plain": [
              "<IPython.core.display.HTML object>"
            ]
          },
          "metadata": {},
          "output_type": "display_data"
        },
        {
          "data": {
            "text/html": [
              " View run at <a href='https://wandb.ai/cs22m019/DL%20Final%20Assignment%201/runs/gg76qs44' target=\"_blank\">https://wandb.ai/cs22m019/DL%20Final%20Assignment%201/runs/gg76qs44</a>"
            ],
            "text/plain": [
              "<IPython.core.display.HTML object>"
            ]
          },
          "metadata": {},
          "output_type": "display_data"
        },
        {
          "name": "stdout",
          "output_type": "stream",
          "text": [
            "epoch:1, train loss:2.3992675538885853, train accuracy:0.12968518518518518, validation loss:2.379015569217583, validation accuracy:0.137\n",
            "epoch:2, train loss:2.388385169324054, train accuracy:0.13294444444444445, validation loss:2.3686159632450674, validation accuracy:0.14066666666666666\n",
            "epoch:3, train loss:2.3781908600028476, train accuracy:0.1366851851851852, validation loss:2.359274968861321, validation accuracy:0.14366666666666666\n",
            "epoch:4, train loss:2.3689300650628646, train accuracy:0.13996296296296296, validation loss:2.3506574243478737, validation accuracy:0.14916666666666667\n",
            "epoch:5, train loss:2.360462673373256, train accuracy:0.14437037037037037, validation loss:2.34308734113815, validation accuracy:0.15416666666666667\n",
            "epoch:6, train loss:2.35289687251549, train accuracy:0.15051851851851852, validation loss:2.3360767716335182, validation accuracy:0.15833333333333333\n",
            "epoch:7, train loss:2.346003454768872, train accuracy:0.15518518518518518, validation loss:2.329666245573556, validation accuracy:0.16166666666666665\n",
            "epoch:8, train loss:2.339390895444042, train accuracy:0.16077777777777777, validation loss:2.323366198853211, validation accuracy:0.17033333333333334\n",
            "epoch:9, train loss:2.332925695233633, train accuracy:0.16755555555555557, validation loss:2.3170372263177135, validation accuracy:0.17783333333333334\n",
            "epoch:10, train loss:2.3264998730829194, train accuracy:0.17483333333333334, validation loss:2.3111643949506813, validation accuracy:0.18483333333333332\n"
          ]
        },
        {
          "data": {
            "text/html": [
              "Waiting for W&B process to finish... <strong style=\"color:green\">(success).</strong>"
            ],
            "text/plain": [
              "<IPython.core.display.HTML object>"
            ]
          },
          "metadata": {},
          "output_type": "display_data"
        },
        {
          "data": {
            "application/vnd.jupyter.widget-view+json": {
              "model_id": "ba16bba6312f41998efa6bc6463e7337",
              "version_major": 2,
              "version_minor": 0
            },
            "text/plain": [
              "VBox(children=(Label(value='0.001 MB of 0.001 MB uploaded (0.000 MB deduped)\\r'), FloatProgress(value=1.0, max…"
            ]
          },
          "metadata": {},
          "output_type": "display_data"
        },
        {
          "data": {
            "text/html": [
              "<style>\n",
              "    table.wandb td:nth-child(1) { padding: 0 10px; text-align: left ; width: auto;} td:nth-child(2) {text-align: left ; width: 100%}\n",
              "    .wandb-row { display: flex; flex-direction: row; flex-wrap: wrap; justify-content: flex-start; width: 100% }\n",
              "    .wandb-col { display: flex; flex-direction: column; flex-basis: 100%; flex: 1; padding: 10px; }\n",
              "    </style>\n",
              "<div class=\"wandb-row\"><div class=\"wandb-col\"><h3>Run history:</h3><br/><table class=\"wandb\"><tr><td>train accuracy</td><td>▁▂▂▃▃▄▅▆▇█</td></tr><tr><td>train loss</td><td>█▇▆▅▄▄▃▂▂▁</td></tr><tr><td>validation accuracy</td><td>▁▂▂▃▄▄▅▆▇█</td></tr><tr><td>validation loss</td><td>█▇▆▅▄▄▃▂▂▁</td></tr></table><br/></div><div class=\"wandb-col\"><h3>Run summary:</h3><br/><table class=\"wandb\"><tr><td>train accuracy</td><td>0.17483</td></tr><tr><td>train loss</td><td>2.3265</td></tr><tr><td>validation accuracy</td><td>0.18483</td></tr><tr><td>validation loss</td><td>2.31116</td></tr></table><br/></div></div>"
            ],
            "text/plain": [
              "<IPython.core.display.HTML object>"
            ]
          },
          "metadata": {},
          "output_type": "display_data"
        },
        {
          "data": {
            "text/html": [
              " View run <strong style=\"color:#cdcd00\">glad-sweep-85</strong> at: <a href='https://wandb.ai/cs22m019/DL%20Final%20Assignment%201/runs/gg76qs44' target=\"_blank\">https://wandb.ai/cs22m019/DL%20Final%20Assignment%201/runs/gg76qs44</a><br/>Synced 6 W&B file(s), 0 media file(s), 0 artifact file(s) and 0 other file(s)"
            ],
            "text/plain": [
              "<IPython.core.display.HTML object>"
            ]
          },
          "metadata": {},
          "output_type": "display_data"
        },
        {
          "data": {
            "text/html": [
              "Find logs at: <code>.\\wandb\\run-20230310_041552-gg76qs44\\logs</code>"
            ],
            "text/plain": [
              "<IPython.core.display.HTML object>"
            ]
          },
          "metadata": {},
          "output_type": "display_data"
        },
        {
          "name": "stderr",
          "output_type": "stream",
          "text": [
            "\u001b[34m\u001b[1mwandb\u001b[0m: Agent Starting Run: trzzg0kz with config:\n",
            "\u001b[34m\u001b[1mwandb\u001b[0m: \tactivation: ReLU\n",
            "\u001b[34m\u001b[1mwandb\u001b[0m: \tbatch_size: 64\n",
            "\u001b[34m\u001b[1mwandb\u001b[0m: \tepochs: 10\n",
            "\u001b[34m\u001b[1mwandb\u001b[0m: \tlearning_rate: 0.0001\n",
            "\u001b[34m\u001b[1mwandb\u001b[0m: \tnumber_of_hidden_layer: 3\n",
            "\u001b[34m\u001b[1mwandb\u001b[0m: \toptimizer: rmsprop\n",
            "\u001b[34m\u001b[1mwandb\u001b[0m: \tsize_of_hidden_layer: 32\n",
            "\u001b[34m\u001b[1mwandb\u001b[0m: \tweight_decay: 0.5\n",
            "\u001b[34m\u001b[1mwandb\u001b[0m: \tweight_initialization: Xavier\n"
          ]
        },
        {
          "data": {
            "application/vnd.jupyter.widget-view+json": {
              "model_id": "5da04cc60d9a460398bd65c655d15023",
              "version_major": 2,
              "version_minor": 0
            },
            "text/plain": [
              "VBox(children=(Label(value='Waiting for wandb.init()...\\r'), FloatProgress(value=0.016916666666656966, max=1.0…"
            ]
          },
          "metadata": {},
          "output_type": "display_data"
        },
        {
          "data": {
            "text/html": [
              "Tracking run with wandb version 0.13.11"
            ],
            "text/plain": [
              "<IPython.core.display.HTML object>"
            ]
          },
          "metadata": {},
          "output_type": "display_data"
        },
        {
          "data": {
            "text/html": [
              "Run data is saved locally in <code>C:\\Users\\DELL\\Desktop\\wandb\\run-20230310_042045-trzzg0kz</code>"
            ],
            "text/plain": [
              "<IPython.core.display.HTML object>"
            ]
          },
          "metadata": {},
          "output_type": "display_data"
        },
        {
          "data": {
            "text/html": [
              "Syncing run <strong><a href='https://wandb.ai/cs22m019/DL%20Final%20Assignment%201/runs/trzzg0kz' target=\"_blank\">whole-sweep-86</a></strong> to <a href='https://wandb.ai/cs22m019/DL%20Final%20Assignment%201' target=\"_blank\">Weights & Biases</a> (<a href='https://wandb.me/run' target=\"_blank\">docs</a>)<br/>Sweep page: <a href='https://wandb.ai/cs22m019/DL%20Final%20Assignment%201/sweeps/eayjxkwm' target=\"_blank\">https://wandb.ai/cs22m019/DL%20Final%20Assignment%201/sweeps/eayjxkwm</a>"
            ],
            "text/plain": [
              "<IPython.core.display.HTML object>"
            ]
          },
          "metadata": {},
          "output_type": "display_data"
        },
        {
          "data": {
            "text/html": [
              " View project at <a href='https://wandb.ai/cs22m019/DL%20Final%20Assignment%201' target=\"_blank\">https://wandb.ai/cs22m019/DL%20Final%20Assignment%201</a>"
            ],
            "text/plain": [
              "<IPython.core.display.HTML object>"
            ]
          },
          "metadata": {},
          "output_type": "display_data"
        },
        {
          "data": {
            "text/html": [
              " View sweep at <a href='https://wandb.ai/cs22m019/DL%20Final%20Assignment%201/sweeps/eayjxkwm' target=\"_blank\">https://wandb.ai/cs22m019/DL%20Final%20Assignment%201/sweeps/eayjxkwm</a>"
            ],
            "text/plain": [
              "<IPython.core.display.HTML object>"
            ]
          },
          "metadata": {},
          "output_type": "display_data"
        },
        {
          "data": {
            "text/html": [
              " View run at <a href='https://wandb.ai/cs22m019/DL%20Final%20Assignment%201/runs/trzzg0kz' target=\"_blank\">https://wandb.ai/cs22m019/DL%20Final%20Assignment%201/runs/trzzg0kz</a>"
            ],
            "text/plain": [
              "<IPython.core.display.HTML object>"
            ]
          },
          "metadata": {},
          "output_type": "display_data"
        },
        {
          "name": "stdout",
          "output_type": "stream",
          "text": [
            "epoch:1, train loss:2.4813696122610187, train accuracy:0.10292592592592592, validation loss:2.4594318703141904, validation accuracy:0.1325\n",
            "epoch:2, train loss:2.433739107608591, train accuracy:0.1638148148148148, validation loss:2.4141274891379054, validation accuracy:0.1925\n",
            "epoch:3, train loss:2.388189807159964, train accuracy:0.22025925925925927, validation loss:2.368312026358645, validation accuracy:0.24033333333333334\n",
            "epoch:4, train loss:2.343724040494995, train accuracy:0.25833333333333336, validation loss:2.3246688024919533, validation accuracy:0.2668333333333333\n",
            "epoch:5, train loss:2.2985342653942737, train accuracy:0.27505555555555555, validation loss:2.275470821429088, validation accuracy:0.2778333333333333\n",
            "epoch:6, train loss:2.245920532492272, train accuracy:0.2828148148148148, validation loss:2.220045550622263, validation accuracy:0.2828333333333333\n",
            "epoch:7, train loss:2.191134334785648, train accuracy:0.2869074074074074, validation loss:2.16405236291415, validation accuracy:0.2866666666666667\n",
            "epoch:8, train loss:2.135596935984214, train accuracy:0.28909259259259257, validation loss:2.10762458676021, validation accuracy:0.28833333333333333\n",
            "epoch:9, train loss:2.0815266681821827, train accuracy:0.2962037037037037, validation loss:2.053990275299174, validation accuracy:0.30183333333333334\n",
            "epoch:10, train loss:2.0305573347449744, train accuracy:0.3189074074074074, validation loss:2.0026606999830414, validation accuracy:0.32766666666666666\n"
          ]
        },
        {
          "data": {
            "text/html": [
              "Waiting for W&B process to finish... <strong style=\"color:green\">(success).</strong>"
            ],
            "text/plain": [
              "<IPython.core.display.HTML object>"
            ]
          },
          "metadata": {},
          "output_type": "display_data"
        },
        {
          "data": {
            "text/html": [
              "<style>\n",
              "    table.wandb td:nth-child(1) { padding: 0 10px; text-align: left ; width: auto;} td:nth-child(2) {text-align: left ; width: 100%}\n",
              "    .wandb-row { display: flex; flex-direction: row; flex-wrap: wrap; justify-content: flex-start; width: 100% }\n",
              "    .wandb-col { display: flex; flex-direction: column; flex-basis: 100%; flex: 1; padding: 10px; }\n",
              "    </style>\n",
              "<div class=\"wandb-row\"><div class=\"wandb-col\"><h3>Run history:</h3><br/><table class=\"wandb\"><tr><td>train accuracy</td><td>▁▃▅▆▇▇▇▇▇█</td></tr><tr><td>train loss</td><td>█▇▇▆▅▄▃▃▂▁</td></tr><tr><td>validation accuracy</td><td>▁▃▅▆▆▆▇▇▇█</td></tr><tr><td>validation loss</td><td>█▇▇▆▅▄▃▃▂▁</td></tr></table><br/></div><div class=\"wandb-col\"><h3>Run summary:</h3><br/><table class=\"wandb\"><tr><td>train accuracy</td><td>0.31891</td></tr><tr><td>train loss</td><td>2.03056</td></tr><tr><td>validation accuracy</td><td>0.32767</td></tr><tr><td>validation loss</td><td>2.00266</td></tr></table><br/></div></div>"
            ],
            "text/plain": [
              "<IPython.core.display.HTML object>"
            ]
          },
          "metadata": {},
          "output_type": "display_data"
        },
        {
          "data": {
            "text/html": [
              " View run <strong style=\"color:#cdcd00\">whole-sweep-86</strong> at: <a href='https://wandb.ai/cs22m019/DL%20Final%20Assignment%201/runs/trzzg0kz' target=\"_blank\">https://wandb.ai/cs22m019/DL%20Final%20Assignment%201/runs/trzzg0kz</a><br/>Synced 6 W&B file(s), 0 media file(s), 0 artifact file(s) and 0 other file(s)"
            ],
            "text/plain": [
              "<IPython.core.display.HTML object>"
            ]
          },
          "metadata": {},
          "output_type": "display_data"
        },
        {
          "data": {
            "text/html": [
              "Find logs at: <code>.\\wandb\\run-20230310_042045-trzzg0kz\\logs</code>"
            ],
            "text/plain": [
              "<IPython.core.display.HTML object>"
            ]
          },
          "metadata": {},
          "output_type": "display_data"
        },
        {
          "name": "stderr",
          "output_type": "stream",
          "text": [
            "\u001b[34m\u001b[1mwandb\u001b[0m: Agent Starting Run: uv3ar3x0 with config:\n",
            "\u001b[34m\u001b[1mwandb\u001b[0m: \tactivation: tanh\n",
            "\u001b[34m\u001b[1mwandb\u001b[0m: \tbatch_size: 16\n",
            "\u001b[34m\u001b[1mwandb\u001b[0m: \tepochs: 10\n",
            "\u001b[34m\u001b[1mwandb\u001b[0m: \tlearning_rate: 0.0001\n",
            "\u001b[34m\u001b[1mwandb\u001b[0m: \tnumber_of_hidden_layer: 3\n",
            "\u001b[34m\u001b[1mwandb\u001b[0m: \toptimizer: momentum\n",
            "\u001b[34m\u001b[1mwandb\u001b[0m: \tsize_of_hidden_layer: 128\n",
            "\u001b[34m\u001b[1mwandb\u001b[0m: \tweight_decay: 0\n",
            "\u001b[34m\u001b[1mwandb\u001b[0m: \tweight_initialization: random\n"
          ]
        },
        {
          "data": {
            "text/html": [
              "Tracking run with wandb version 0.13.11"
            ],
            "text/plain": [
              "<IPython.core.display.HTML object>"
            ]
          },
          "metadata": {},
          "output_type": "display_data"
        },
        {
          "data": {
            "text/html": [
              "Run data is saved locally in <code>C:\\Users\\DELL\\Desktop\\wandb\\run-20230310_042215-uv3ar3x0</code>"
            ],
            "text/plain": [
              "<IPython.core.display.HTML object>"
            ]
          },
          "metadata": {},
          "output_type": "display_data"
        },
        {
          "data": {
            "text/html": [
              "Syncing run <strong><a href='https://wandb.ai/cs22m019/DL%20Final%20Assignment%201/runs/uv3ar3x0' target=\"_blank\">silvery-sweep-87</a></strong> to <a href='https://wandb.ai/cs22m019/DL%20Final%20Assignment%201' target=\"_blank\">Weights & Biases</a> (<a href='https://wandb.me/run' target=\"_blank\">docs</a>)<br/>Sweep page: <a href='https://wandb.ai/cs22m019/DL%20Final%20Assignment%201/sweeps/eayjxkwm' target=\"_blank\">https://wandb.ai/cs22m019/DL%20Final%20Assignment%201/sweeps/eayjxkwm</a>"
            ],
            "text/plain": [
              "<IPython.core.display.HTML object>"
            ]
          },
          "metadata": {},
          "output_type": "display_data"
        },
        {
          "data": {
            "text/html": [
              " View project at <a href='https://wandb.ai/cs22m019/DL%20Final%20Assignment%201' target=\"_blank\">https://wandb.ai/cs22m019/DL%20Final%20Assignment%201</a>"
            ],
            "text/plain": [
              "<IPython.core.display.HTML object>"
            ]
          },
          "metadata": {},
          "output_type": "display_data"
        },
        {
          "data": {
            "text/html": [
              " View sweep at <a href='https://wandb.ai/cs22m019/DL%20Final%20Assignment%201/sweeps/eayjxkwm' target=\"_blank\">https://wandb.ai/cs22m019/DL%20Final%20Assignment%201/sweeps/eayjxkwm</a>"
            ],
            "text/plain": [
              "<IPython.core.display.HTML object>"
            ]
          },
          "metadata": {},
          "output_type": "display_data"
        },
        {
          "data": {
            "text/html": [
              " View run at <a href='https://wandb.ai/cs22m019/DL%20Final%20Assignment%201/runs/uv3ar3x0' target=\"_blank\">https://wandb.ai/cs22m019/DL%20Final%20Assignment%201/runs/uv3ar3x0</a>"
            ],
            "text/plain": [
              "<IPython.core.display.HTML object>"
            ]
          },
          "metadata": {},
          "output_type": "display_data"
        },
        {
          "name": "stdout",
          "output_type": "stream",
          "text": [
            "epoch:1, train loss:5.998213635102006, train accuracy:0.1660925925925926, validation loss:4.456606847904178, validation accuracy:0.23633333333333334\n",
            "epoch:2, train loss:3.8797046679859974, train accuracy:0.30214814814814817, validation loss:3.350594154462787, validation accuracy:0.3496666666666667\n",
            "epoch:3, train loss:3.10432245984005, train accuracy:0.3849814814814815, validation loss:2.8211329851178113, validation accuracy:0.4206666666666667\n",
            "epoch:4, train loss:2.676611159819857, train accuracy:0.43633333333333335, validation loss:2.4913446543788127, validation accuracy:0.46116666666666667\n",
            "epoch:5, train loss:2.3845769468228495, train accuracy:0.47503703703703704, validation loss:2.250663976839915, validation accuracy:0.49083333333333334\n",
            "epoch:6, train loss:2.171878747341731, train accuracy:0.5017037037037037, validation loss:2.0723366621178507, validation accuracy:0.5123333333333333\n",
            "epoch:7, train loss:2.013139656332505, train accuracy:0.5238703703703703, validation loss:1.9358888518851933, validation accuracy:0.5303333333333333\n",
            "epoch:8, train loss:1.8882127477220707, train accuracy:0.5417407407407407, validation loss:1.826143777650465, validation accuracy:0.5421666666666667\n",
            "epoch:9, train loss:1.7852256047332091, train accuracy:0.5568888888888889, validation loss:1.7386497798417526, validation accuracy:0.5563333333333333\n",
            "epoch:10, train loss:1.6990674720138732, train accuracy:0.570925925925926, validation loss:1.666154018549268, validation accuracy:0.561\n"
          ]
        },
        {
          "data": {
            "text/html": [
              "Waiting for W&B process to finish... <strong style=\"color:green\">(success).</strong>"
            ],
            "text/plain": [
              "<IPython.core.display.HTML object>"
            ]
          },
          "metadata": {},
          "output_type": "display_data"
        },
        {
          "data": {
            "application/vnd.jupyter.widget-view+json": {
              "model_id": "672527919e98487e9a24a3c43794e643",
              "version_major": 2,
              "version_minor": 0
            },
            "text/plain": [
              "VBox(children=(Label(value='0.001 MB of 0.025 MB uploaded (0.000 MB deduped)\\r'), FloatProgress(value=0.044202…"
            ]
          },
          "metadata": {},
          "output_type": "display_data"
        },
        {
          "data": {
            "text/html": [
              "<style>\n",
              "    table.wandb td:nth-child(1) { padding: 0 10px; text-align: left ; width: auto;} td:nth-child(2) {text-align: left ; width: 100%}\n",
              "    .wandb-row { display: flex; flex-direction: row; flex-wrap: wrap; justify-content: flex-start; width: 100% }\n",
              "    .wandb-col { display: flex; flex-direction: column; flex-basis: 100%; flex: 1; padding: 10px; }\n",
              "    </style>\n",
              "<div class=\"wandb-row\"><div class=\"wandb-col\"><h3>Run history:</h3><br/><table class=\"wandb\"><tr><td>train accuracy</td><td>▁▃▅▆▆▇▇▇██</td></tr><tr><td>train loss</td><td>█▅▃▃▂▂▂▁▁▁</td></tr><tr><td>validation accuracy</td><td>▁▃▅▆▆▇▇███</td></tr><tr><td>validation loss</td><td>█▅▄▃▂▂▂▁▁▁</td></tr></table><br/></div><div class=\"wandb-col\"><h3>Run summary:</h3><br/><table class=\"wandb\"><tr><td>train accuracy</td><td>0.57093</td></tr><tr><td>train loss</td><td>1.69907</td></tr><tr><td>validation accuracy</td><td>0.561</td></tr><tr><td>validation loss</td><td>1.66615</td></tr></table><br/></div></div>"
            ],
            "text/plain": [
              "<IPython.core.display.HTML object>"
            ]
          },
          "metadata": {},
          "output_type": "display_data"
        },
        {
          "data": {
            "text/html": [
              " View run <strong style=\"color:#cdcd00\">silvery-sweep-87</strong> at: <a href='https://wandb.ai/cs22m019/DL%20Final%20Assignment%201/runs/uv3ar3x0' target=\"_blank\">https://wandb.ai/cs22m019/DL%20Final%20Assignment%201/runs/uv3ar3x0</a><br/>Synced 6 W&B file(s), 0 media file(s), 0 artifact file(s) and 0 other file(s)"
            ],
            "text/plain": [
              "<IPython.core.display.HTML object>"
            ]
          },
          "metadata": {},
          "output_type": "display_data"
        },
        {
          "data": {
            "text/html": [
              "Find logs at: <code>.\\wandb\\run-20230310_042215-uv3ar3x0\\logs</code>"
            ],
            "text/plain": [
              "<IPython.core.display.HTML object>"
            ]
          },
          "metadata": {},
          "output_type": "display_data"
        },
        {
          "name": "stderr",
          "output_type": "stream",
          "text": [
            "\u001b[34m\u001b[1mwandb\u001b[0m: Sweep Agent: Waiting for job.\n",
            "\u001b[34m\u001b[1mwandb\u001b[0m: Job received.\n",
            "\u001b[34m\u001b[1mwandb\u001b[0m: Agent Starting Run: h7ysa1r0 with config:\n",
            "\u001b[34m\u001b[1mwandb\u001b[0m: \tactivation: sigmoid\n",
            "\u001b[34m\u001b[1mwandb\u001b[0m: \tbatch_size: 32\n",
            "\u001b[34m\u001b[1mwandb\u001b[0m: \tepochs: 10\n",
            "\u001b[34m\u001b[1mwandb\u001b[0m: \tlearning_rate: 0.0001\n",
            "\u001b[34m\u001b[1mwandb\u001b[0m: \tnumber_of_hidden_layer: 4\n",
            "\u001b[34m\u001b[1mwandb\u001b[0m: \toptimizer: nadam\n",
            "\u001b[34m\u001b[1mwandb\u001b[0m: \tsize_of_hidden_layer: 32\n",
            "\u001b[34m\u001b[1mwandb\u001b[0m: \tweight_decay: 0.5\n",
            "\u001b[34m\u001b[1mwandb\u001b[0m: \tweight_initialization: random\n"
          ]
        },
        {
          "data": {
            "text/html": [
              "Tracking run with wandb version 0.13.11"
            ],
            "text/plain": [
              "<IPython.core.display.HTML object>"
            ]
          },
          "metadata": {},
          "output_type": "display_data"
        },
        {
          "data": {
            "text/html": [
              "Run data is saved locally in <code>C:\\Users\\DELL\\Desktop\\wandb\\run-20230310_042629-h7ysa1r0</code>"
            ],
            "text/plain": [
              "<IPython.core.display.HTML object>"
            ]
          },
          "metadata": {},
          "output_type": "display_data"
        },
        {
          "data": {
            "text/html": [
              "Syncing run <strong><a href='https://wandb.ai/cs22m019/DL%20Final%20Assignment%201/runs/h7ysa1r0' target=\"_blank\">devoted-sweep-88</a></strong> to <a href='https://wandb.ai/cs22m019/DL%20Final%20Assignment%201' target=\"_blank\">Weights & Biases</a> (<a href='https://wandb.me/run' target=\"_blank\">docs</a>)<br/>Sweep page: <a href='https://wandb.ai/cs22m019/DL%20Final%20Assignment%201/sweeps/eayjxkwm' target=\"_blank\">https://wandb.ai/cs22m019/DL%20Final%20Assignment%201/sweeps/eayjxkwm</a>"
            ],
            "text/plain": [
              "<IPython.core.display.HTML object>"
            ]
          },
          "metadata": {},
          "output_type": "display_data"
        },
        {
          "data": {
            "text/html": [
              " View project at <a href='https://wandb.ai/cs22m019/DL%20Final%20Assignment%201' target=\"_blank\">https://wandb.ai/cs22m019/DL%20Final%20Assignment%201</a>"
            ],
            "text/plain": [
              "<IPython.core.display.HTML object>"
            ]
          },
          "metadata": {},
          "output_type": "display_data"
        },
        {
          "data": {
            "text/html": [
              " View sweep at <a href='https://wandb.ai/cs22m019/DL%20Final%20Assignment%201/sweeps/eayjxkwm' target=\"_blank\">https://wandb.ai/cs22m019/DL%20Final%20Assignment%201/sweeps/eayjxkwm</a>"
            ],
            "text/plain": [
              "<IPython.core.display.HTML object>"
            ]
          },
          "metadata": {},
          "output_type": "display_data"
        },
        {
          "data": {
            "text/html": [
              " View run at <a href='https://wandb.ai/cs22m019/DL%20Final%20Assignment%201/runs/h7ysa1r0' target=\"_blank\">https://wandb.ai/cs22m019/DL%20Final%20Assignment%201/runs/h7ysa1r0</a>"
            ],
            "text/plain": [
              "<IPython.core.display.HTML object>"
            ]
          },
          "metadata": {},
          "output_type": "display_data"
        },
        {
          "name": "stdout",
          "output_type": "stream",
          "text": [
            "epoch:1, train loss:3.2226724437878365, train accuracy:0.09981481481481481, validation loss:3.085129126553256, validation accuracy:0.10166666666666667\n",
            "epoch:2, train loss:3.0216382334332454, train accuracy:0.09842592592592593, validation loss:2.9284535742601263, validation accuracy:0.09516666666666666\n",
            "epoch:3, train loss:2.887141832223005, train accuracy:0.08792592592592592, validation loss:2.8193498177086913, validation accuracy:0.0855\n",
            "epoch:4, train loss:2.7903919001175654, train accuracy:0.08727777777777777, validation loss:2.7388992430045027, validation accuracy:0.09733333333333333\n",
            "epoch:5, train loss:2.717216602321056, train accuracy:0.10142592592592592, validation loss:2.6772387634188783, validation accuracy:0.1125\n",
            "epoch:6, train loss:2.6601535930967763, train accuracy:0.11381481481481481, validation loss:2.6286477023253405, validation accuracy:0.12716666666666668\n",
            "epoch:7, train loss:2.6141205354149757, train accuracy:0.12764814814814815, validation loss:2.5891833179067647, validation accuracy:0.14333333333333334\n",
            "epoch:8, train loss:2.5763305818582043, train accuracy:0.168, validation loss:2.556431000928985, validation accuracy:0.201\n",
            "epoch:9, train loss:2.5442642541757885, train accuracy:0.23862962962962964, validation loss:2.5281289205206376, validation accuracy:0.2638333333333333\n",
            "epoch:10, train loss:2.516260072180403, train accuracy:0.2934259259259259, validation loss:2.502962127039814, validation accuracy:0.307\n"
          ]
        },
        {
          "data": {
            "text/html": [
              "Waiting for W&B process to finish... <strong style=\"color:green\">(success).</strong>"
            ],
            "text/plain": [
              "<IPython.core.display.HTML object>"
            ]
          },
          "metadata": {},
          "output_type": "display_data"
        },
        {
          "data": {
            "application/vnd.jupyter.widget-view+json": {
              "model_id": "092cbac90ed64299b1391343d379fddc",
              "version_major": 2,
              "version_minor": 0
            },
            "text/plain": [
              "VBox(children=(Label(value='0.001 MB of 0.001 MB uploaded (0.000 MB deduped)\\r'), FloatProgress(value=1.0, max…"
            ]
          },
          "metadata": {},
          "output_type": "display_data"
        },
        {
          "data": {
            "text/html": [
              "<style>\n",
              "    table.wandb td:nth-child(1) { padding: 0 10px; text-align: left ; width: auto;} td:nth-child(2) {text-align: left ; width: 100%}\n",
              "    .wandb-row { display: flex; flex-direction: row; flex-wrap: wrap; justify-content: flex-start; width: 100% }\n",
              "    .wandb-col { display: flex; flex-direction: column; flex-basis: 100%; flex: 1; padding: 10px; }\n",
              "    </style>\n",
              "<div class=\"wandb-row\"><div class=\"wandb-col\"><h3>Run history:</h3><br/><table class=\"wandb\"><tr><td>train accuracy</td><td>▁▁▁▁▁▂▂▄▆█</td></tr><tr><td>train loss</td><td>█▆▅▄▃▂▂▂▁▁</td></tr><tr><td>validation accuracy</td><td>▂▁▁▁▂▂▃▅▇█</td></tr><tr><td>validation loss</td><td>█▆▅▄▃▃▂▂▁▁</td></tr></table><br/></div><div class=\"wandb-col\"><h3>Run summary:</h3><br/><table class=\"wandb\"><tr><td>train accuracy</td><td>0.29343</td></tr><tr><td>train loss</td><td>2.51626</td></tr><tr><td>validation accuracy</td><td>0.307</td></tr><tr><td>validation loss</td><td>2.50296</td></tr></table><br/></div></div>"
            ],
            "text/plain": [
              "<IPython.core.display.HTML object>"
            ]
          },
          "metadata": {},
          "output_type": "display_data"
        },
        {
          "data": {
            "text/html": [
              " View run <strong style=\"color:#cdcd00\">devoted-sweep-88</strong> at: <a href='https://wandb.ai/cs22m019/DL%20Final%20Assignment%201/runs/h7ysa1r0' target=\"_blank\">https://wandb.ai/cs22m019/DL%20Final%20Assignment%201/runs/h7ysa1r0</a><br/>Synced 6 W&B file(s), 0 media file(s), 0 artifact file(s) and 0 other file(s)"
            ],
            "text/plain": [
              "<IPython.core.display.HTML object>"
            ]
          },
          "metadata": {},
          "output_type": "display_data"
        },
        {
          "data": {
            "text/html": [
              "Find logs at: <code>.\\wandb\\run-20230310_042629-h7ysa1r0\\logs</code>"
            ],
            "text/plain": [
              "<IPython.core.display.HTML object>"
            ]
          },
          "metadata": {},
          "output_type": "display_data"
        },
        {
          "name": "stderr",
          "output_type": "stream",
          "text": [
            "\u001b[34m\u001b[1mwandb\u001b[0m: Agent Starting Run: w1fcz1pk with config:\n",
            "\u001b[34m\u001b[1mwandb\u001b[0m: \tactivation: sigmoid\n",
            "\u001b[34m\u001b[1mwandb\u001b[0m: \tbatch_size: 64\n",
            "\u001b[34m\u001b[1mwandb\u001b[0m: \tepochs: 10\n",
            "\u001b[34m\u001b[1mwandb\u001b[0m: \tlearning_rate: 0.001\n",
            "\u001b[34m\u001b[1mwandb\u001b[0m: \tnumber_of_hidden_layer: 4\n",
            "\u001b[34m\u001b[1mwandb\u001b[0m: \toptimizer: rmsprop\n",
            "\u001b[34m\u001b[1mwandb\u001b[0m: \tsize_of_hidden_layer: 64\n",
            "\u001b[34m\u001b[1mwandb\u001b[0m: \tweight_decay: 0.0005\n",
            "\u001b[34m\u001b[1mwandb\u001b[0m: \tweight_initialization: Xavier\n"
          ]
        },
        {
          "data": {
            "text/html": [
              "Tracking run with wandb version 0.13.11"
            ],
            "text/plain": [
              "<IPython.core.display.HTML object>"
            ]
          },
          "metadata": {},
          "output_type": "display_data"
        },
        {
          "data": {
            "text/html": [
              "Run data is saved locally in <code>C:\\Users\\DELL\\Desktop\\wandb\\run-20230310_042822-w1fcz1pk</code>"
            ],
            "text/plain": [
              "<IPython.core.display.HTML object>"
            ]
          },
          "metadata": {},
          "output_type": "display_data"
        },
        {
          "data": {
            "text/html": [
              "Syncing run <strong><a href='https://wandb.ai/cs22m019/DL%20Final%20Assignment%201/runs/w1fcz1pk' target=\"_blank\">decent-sweep-89</a></strong> to <a href='https://wandb.ai/cs22m019/DL%20Final%20Assignment%201' target=\"_blank\">Weights & Biases</a> (<a href='https://wandb.me/run' target=\"_blank\">docs</a>)<br/>Sweep page: <a href='https://wandb.ai/cs22m019/DL%20Final%20Assignment%201/sweeps/eayjxkwm' target=\"_blank\">https://wandb.ai/cs22m019/DL%20Final%20Assignment%201/sweeps/eayjxkwm</a>"
            ],
            "text/plain": [
              "<IPython.core.display.HTML object>"
            ]
          },
          "metadata": {},
          "output_type": "display_data"
        },
        {
          "data": {
            "text/html": [
              " View project at <a href='https://wandb.ai/cs22m019/DL%20Final%20Assignment%201' target=\"_blank\">https://wandb.ai/cs22m019/DL%20Final%20Assignment%201</a>"
            ],
            "text/plain": [
              "<IPython.core.display.HTML object>"
            ]
          },
          "metadata": {},
          "output_type": "display_data"
        },
        {
          "data": {
            "text/html": [
              " View sweep at <a href='https://wandb.ai/cs22m019/DL%20Final%20Assignment%201/sweeps/eayjxkwm' target=\"_blank\">https://wandb.ai/cs22m019/DL%20Final%20Assignment%201/sweeps/eayjxkwm</a>"
            ],
            "text/plain": [
              "<IPython.core.display.HTML object>"
            ]
          },
          "metadata": {},
          "output_type": "display_data"
        },
        {
          "data": {
            "text/html": [
              " View run at <a href='https://wandb.ai/cs22m019/DL%20Final%20Assignment%201/runs/w1fcz1pk' target=\"_blank\">https://wandb.ai/cs22m019/DL%20Final%20Assignment%201/runs/w1fcz1pk</a>"
            ],
            "text/plain": [
              "<IPython.core.display.HTML object>"
            ]
          },
          "metadata": {},
          "output_type": "display_data"
        },
        {
          "name": "stdout",
          "output_type": "stream",
          "text": [
            "epoch:1, train loss:2.334327193032957, train accuracy:0.13314814814814815, validation loss:2.2986337477037777, validation accuracy:0.199\n",
            "epoch:2, train loss:2.2881573188333313, train accuracy:0.1973148148148148, validation loss:2.2785170308078904, validation accuracy:0.21616666666666667\n",
            "epoch:3, train loss:2.266038308682467, train accuracy:0.31537037037037036, validation loss:2.251493508881219, validation accuracy:0.30083333333333334\n",
            "epoch:4, train loss:2.230610991123755, train accuracy:0.25735185185185183, validation loss:2.2061176960987674, validation accuracy:0.22216666666666668\n",
            "epoch:5, train loss:2.174243125274672, train accuracy:0.2024074074074074, validation loss:2.138144416312107, validation accuracy:0.2085\n",
            "epoch:6, train loss:2.0945699912551374, train accuracy:0.2046851851851852, validation loss:2.0477580681725405, validation accuracy:0.2185\n",
            "epoch:7, train loss:1.997985405759847, train accuracy:0.21214814814814814, validation loss:1.948185767977008, validation accuracy:0.23333333333333334\n",
            "epoch:8, train loss:1.8981126217699973, train accuracy:0.26801851851851854, validation loss:1.851008060497233, validation accuracy:0.33066666666666666\n",
            "epoch:9, train loss:1.8035083314055342, train accuracy:0.3467037037037037, validation loss:1.761447071839569, validation accuracy:0.37283333333333335\n",
            "epoch:10, train loss:1.7172962878841147, train accuracy:0.37355555555555553, validation loss:1.679963045123026, validation accuracy:0.37683333333333335\n"
          ]
        },
        {
          "data": {
            "text/html": [
              "Waiting for W&B process to finish... <strong style=\"color:green\">(success).</strong>"
            ],
            "text/plain": [
              "<IPython.core.display.HTML object>"
            ]
          },
          "metadata": {},
          "output_type": "display_data"
        },
        {
          "data": {
            "text/html": [
              "<style>\n",
              "    table.wandb td:nth-child(1) { padding: 0 10px; text-align: left ; width: auto;} td:nth-child(2) {text-align: left ; width: 100%}\n",
              "    .wandb-row { display: flex; flex-direction: row; flex-wrap: wrap; justify-content: flex-start; width: 100% }\n",
              "    .wandb-col { display: flex; flex-direction: column; flex-basis: 100%; flex: 1; padding: 10px; }\n",
              "    </style>\n",
              "<div class=\"wandb-row\"><div class=\"wandb-col\"><h3>Run history:</h3><br/><table class=\"wandb\"><tr><td>train accuracy</td><td>▁▃▆▅▃▃▃▅▇█</td></tr><tr><td>train loss</td><td>█▇▇▇▆▅▄▃▂▁</td></tr><tr><td>validation accuracy</td><td>▁▂▅▂▁▂▂▆██</td></tr><tr><td>validation loss</td><td>██▇▇▆▅▄▃▂▁</td></tr></table><br/></div><div class=\"wandb-col\"><h3>Run summary:</h3><br/><table class=\"wandb\"><tr><td>train accuracy</td><td>0.37356</td></tr><tr><td>train loss</td><td>1.7173</td></tr><tr><td>validation accuracy</td><td>0.37683</td></tr><tr><td>validation loss</td><td>1.67996</td></tr></table><br/></div></div>"
            ],
            "text/plain": [
              "<IPython.core.display.HTML object>"
            ]
          },
          "metadata": {},
          "output_type": "display_data"
        },
        {
          "data": {
            "text/html": [
              " View run <strong style=\"color:#cdcd00\">decent-sweep-89</strong> at: <a href='https://wandb.ai/cs22m019/DL%20Final%20Assignment%201/runs/w1fcz1pk' target=\"_blank\">https://wandb.ai/cs22m019/DL%20Final%20Assignment%201/runs/w1fcz1pk</a><br/>Synced 6 W&B file(s), 0 media file(s), 0 artifact file(s) and 0 other file(s)"
            ],
            "text/plain": [
              "<IPython.core.display.HTML object>"
            ]
          },
          "metadata": {},
          "output_type": "display_data"
        },
        {
          "data": {
            "text/html": [
              "Find logs at: <code>.\\wandb\\run-20230310_042822-w1fcz1pk\\logs</code>"
            ],
            "text/plain": [
              "<IPython.core.display.HTML object>"
            ]
          },
          "metadata": {},
          "output_type": "display_data"
        },
        {
          "name": "stderr",
          "output_type": "stream",
          "text": [
            "\u001b[34m\u001b[1mwandb\u001b[0m: Agent Starting Run: 0mettzql with config:\n",
            "\u001b[34m\u001b[1mwandb\u001b[0m: \tactivation: sigmoid\n",
            "\u001b[34m\u001b[1mwandb\u001b[0m: \tbatch_size: 32\n",
            "\u001b[34m\u001b[1mwandb\u001b[0m: \tepochs: 5\n",
            "\u001b[34m\u001b[1mwandb\u001b[0m: \tlearning_rate: 0.001\n",
            "\u001b[34m\u001b[1mwandb\u001b[0m: \tnumber_of_hidden_layer: 4\n",
            "\u001b[34m\u001b[1mwandb\u001b[0m: \toptimizer: momentum\n",
            "\u001b[34m\u001b[1mwandb\u001b[0m: \tsize_of_hidden_layer: 128\n",
            "\u001b[34m\u001b[1mwandb\u001b[0m: \tweight_decay: 0\n",
            "\u001b[34m\u001b[1mwandb\u001b[0m: \tweight_initialization: random\n"
          ]
        },
        {
          "data": {
            "text/html": [
              "Tracking run with wandb version 0.13.11"
            ],
            "text/plain": [
              "<IPython.core.display.HTML object>"
            ]
          },
          "metadata": {},
          "output_type": "display_data"
        },
        {
          "data": {
            "text/html": [
              "Run data is saved locally in <code>C:\\Users\\DELL\\Desktop\\wandb\\run-20230310_043038-0mettzql</code>"
            ],
            "text/plain": [
              "<IPython.core.display.HTML object>"
            ]
          },
          "metadata": {},
          "output_type": "display_data"
        },
        {
          "data": {
            "text/html": [
              "Syncing run <strong><a href='https://wandb.ai/cs22m019/DL%20Final%20Assignment%201/runs/0mettzql' target=\"_blank\">dutiful-sweep-90</a></strong> to <a href='https://wandb.ai/cs22m019/DL%20Final%20Assignment%201' target=\"_blank\">Weights & Biases</a> (<a href='https://wandb.me/run' target=\"_blank\">docs</a>)<br/>Sweep page: <a href='https://wandb.ai/cs22m019/DL%20Final%20Assignment%201/sweeps/eayjxkwm' target=\"_blank\">https://wandb.ai/cs22m019/DL%20Final%20Assignment%201/sweeps/eayjxkwm</a>"
            ],
            "text/plain": [
              "<IPython.core.display.HTML object>"
            ]
          },
          "metadata": {},
          "output_type": "display_data"
        },
        {
          "data": {
            "text/html": [
              " View project at <a href='https://wandb.ai/cs22m019/DL%20Final%20Assignment%201' target=\"_blank\">https://wandb.ai/cs22m019/DL%20Final%20Assignment%201</a>"
            ],
            "text/plain": [
              "<IPython.core.display.HTML object>"
            ]
          },
          "metadata": {},
          "output_type": "display_data"
        },
        {
          "data": {
            "text/html": [
              " View sweep at <a href='https://wandb.ai/cs22m019/DL%20Final%20Assignment%201/sweeps/eayjxkwm' target=\"_blank\">https://wandb.ai/cs22m019/DL%20Final%20Assignment%201/sweeps/eayjxkwm</a>"
            ],
            "text/plain": [
              "<IPython.core.display.HTML object>"
            ]
          },
          "metadata": {},
          "output_type": "display_data"
        },
        {
          "data": {
            "text/html": [
              " View run at <a href='https://wandb.ai/cs22m019/DL%20Final%20Assignment%201/runs/0mettzql' target=\"_blank\">https://wandb.ai/cs22m019/DL%20Final%20Assignment%201/runs/0mettzql</a>"
            ],
            "text/plain": [
              "<IPython.core.display.HTML object>"
            ]
          },
          "metadata": {},
          "output_type": "display_data"
        },
        {
          "name": "stdout",
          "output_type": "stream",
          "text": [
            "epoch:1, train loss:2.995844844962447, train accuracy:0.24003703703703705, validation loss:1.8997171597780453, validation accuracy:0.37483333333333335\n",
            "epoch:2, train loss:1.7318775614464408, train accuracy:0.4414444444444444, validation loss:1.6047574346205968, validation accuracy:0.4825\n",
            "epoch:3, train loss:1.4852503998671451, train accuracy:0.5312777777777777, validation loss:1.397017442951867, validation accuracy:0.5576666666666666\n",
            "epoch:4, train loss:1.3039647330819115, train accuracy:0.5890555555555556, validation loss:1.2421933864729267, validation accuracy:0.6043333333333333\n",
            "epoch:5, train loss:1.1676589086227016, train accuracy:0.6287037037037037, validation loss:1.125863331862587, validation accuracy:0.6388333333333334\n"
          ]
        },
        {
          "data": {
            "text/html": [
              "Waiting for W&B process to finish... <strong style=\"color:green\">(success).</strong>"
            ],
            "text/plain": [
              "<IPython.core.display.HTML object>"
            ]
          },
          "metadata": {},
          "output_type": "display_data"
        },
        {
          "data": {
            "application/vnd.jupyter.widget-view+json": {
              "model_id": "4f7f3596ccac42f8a82f0254652f9e7c",
              "version_major": 2,
              "version_minor": 0
            },
            "text/plain": [
              "VBox(children=(Label(value='0.001 MB of 0.017 MB uploaded (0.000 MB deduped)\\r'), FloatProgress(value=0.064918…"
            ]
          },
          "metadata": {},
          "output_type": "display_data"
        },
        {
          "data": {
            "text/html": [
              "<style>\n",
              "    table.wandb td:nth-child(1) { padding: 0 10px; text-align: left ; width: auto;} td:nth-child(2) {text-align: left ; width: 100%}\n",
              "    .wandb-row { display: flex; flex-direction: row; flex-wrap: wrap; justify-content: flex-start; width: 100% }\n",
              "    .wandb-col { display: flex; flex-direction: column; flex-basis: 100%; flex: 1; padding: 10px; }\n",
              "    </style>\n",
              "<div class=\"wandb-row\"><div class=\"wandb-col\"><h3>Run history:</h3><br/><table class=\"wandb\"><tr><td>train accuracy</td><td>▁▅▆▇█</td></tr><tr><td>train loss</td><td>█▃▂▂▁</td></tr><tr><td>validation accuracy</td><td>▁▄▆▇█</td></tr><tr><td>validation loss</td><td>█▅▃▂▁</td></tr></table><br/></div><div class=\"wandb-col\"><h3>Run summary:</h3><br/><table class=\"wandb\"><tr><td>train accuracy</td><td>0.6287</td></tr><tr><td>train loss</td><td>1.16766</td></tr><tr><td>validation accuracy</td><td>0.63883</td></tr><tr><td>validation loss</td><td>1.12586</td></tr></table><br/></div></div>"
            ],
            "text/plain": [
              "<IPython.core.display.HTML object>"
            ]
          },
          "metadata": {},
          "output_type": "display_data"
        },
        {
          "data": {
            "text/html": [
              " View run <strong style=\"color:#cdcd00\">dutiful-sweep-90</strong> at: <a href='https://wandb.ai/cs22m019/DL%20Final%20Assignment%201/runs/0mettzql' target=\"_blank\">https://wandb.ai/cs22m019/DL%20Final%20Assignment%201/runs/0mettzql</a><br/>Synced 6 W&B file(s), 0 media file(s), 0 artifact file(s) and 0 other file(s)"
            ],
            "text/plain": [
              "<IPython.core.display.HTML object>"
            ]
          },
          "metadata": {},
          "output_type": "display_data"
        },
        {
          "data": {
            "text/html": [
              "Find logs at: <code>.\\wandb\\run-20230310_043038-0mettzql\\logs</code>"
            ],
            "text/plain": [
              "<IPython.core.display.HTML object>"
            ]
          },
          "metadata": {},
          "output_type": "display_data"
        },
        {
          "name": "stderr",
          "output_type": "stream",
          "text": [
            "\u001b[34m\u001b[1mwandb\u001b[0m: Agent Starting Run: u6qbwhu6 with config:\n",
            "\u001b[34m\u001b[1mwandb\u001b[0m: \tactivation: sigmoid\n",
            "\u001b[34m\u001b[1mwandb\u001b[0m: \tbatch_size: 64\n",
            "\u001b[34m\u001b[1mwandb\u001b[0m: \tepochs: 10\n",
            "\u001b[34m\u001b[1mwandb\u001b[0m: \tlearning_rate: 0.001\n",
            "\u001b[34m\u001b[1mwandb\u001b[0m: \tnumber_of_hidden_layer: 5\n",
            "\u001b[34m\u001b[1mwandb\u001b[0m: \toptimizer: nestrov\n",
            "\u001b[34m\u001b[1mwandb\u001b[0m: \tsize_of_hidden_layer: 32\n",
            "\u001b[34m\u001b[1mwandb\u001b[0m: \tweight_decay: 0\n",
            "\u001b[34m\u001b[1mwandb\u001b[0m: \tweight_initialization: Xavier\n"
          ]
        },
        {
          "data": {
            "text/html": [
              "Tracking run with wandb version 0.13.11"
            ],
            "text/plain": [
              "<IPython.core.display.HTML object>"
            ]
          },
          "metadata": {},
          "output_type": "display_data"
        },
        {
          "data": {
            "text/html": [
              "Run data is saved locally in <code>C:\\Users\\DELL\\Desktop\\wandb\\run-20230310_043318-u6qbwhu6</code>"
            ],
            "text/plain": [
              "<IPython.core.display.HTML object>"
            ]
          },
          "metadata": {},
          "output_type": "display_data"
        },
        {
          "data": {
            "text/html": [
              "Syncing run <strong><a href='https://wandb.ai/cs22m019/DL%20Final%20Assignment%201/runs/u6qbwhu6' target=\"_blank\">dutiful-sweep-91</a></strong> to <a href='https://wandb.ai/cs22m019/DL%20Final%20Assignment%201' target=\"_blank\">Weights & Biases</a> (<a href='https://wandb.me/run' target=\"_blank\">docs</a>)<br/>Sweep page: <a href='https://wandb.ai/cs22m019/DL%20Final%20Assignment%201/sweeps/eayjxkwm' target=\"_blank\">https://wandb.ai/cs22m019/DL%20Final%20Assignment%201/sweeps/eayjxkwm</a>"
            ],
            "text/plain": [
              "<IPython.core.display.HTML object>"
            ]
          },
          "metadata": {},
          "output_type": "display_data"
        },
        {
          "data": {
            "text/html": [
              " View project at <a href='https://wandb.ai/cs22m019/DL%20Final%20Assignment%201' target=\"_blank\">https://wandb.ai/cs22m019/DL%20Final%20Assignment%201</a>"
            ],
            "text/plain": [
              "<IPython.core.display.HTML object>"
            ]
          },
          "metadata": {},
          "output_type": "display_data"
        },
        {
          "data": {
            "text/html": [
              " View sweep at <a href='https://wandb.ai/cs22m019/DL%20Final%20Assignment%201/sweeps/eayjxkwm' target=\"_blank\">https://wandb.ai/cs22m019/DL%20Final%20Assignment%201/sweeps/eayjxkwm</a>"
            ],
            "text/plain": [
              "<IPython.core.display.HTML object>"
            ]
          },
          "metadata": {},
          "output_type": "display_data"
        },
        {
          "data": {
            "text/html": [
              " View run at <a href='https://wandb.ai/cs22m019/DL%20Final%20Assignment%201/runs/u6qbwhu6' target=\"_blank\">https://wandb.ai/cs22m019/DL%20Final%20Assignment%201/runs/u6qbwhu6</a>"
            ],
            "text/plain": [
              "<IPython.core.display.HTML object>"
            ]
          },
          "metadata": {},
          "output_type": "display_data"
        },
        {
          "name": "stdout",
          "output_type": "stream",
          "text": [
            "epoch:1, train loss:2.4197478502734704, train accuracy:0.1002962962962963, validation loss:2.3415358037021865, validation accuracy:0.09733333333333333\n",
            "epoch:2, train loss:2.3225903656203544, train accuracy:0.1002962962962963, validation loss:2.3087870189399977, validation accuracy:0.09733333333333333\n",
            "epoch:3, train loss:2.3062414435349647, train accuracy:0.10031481481481481, validation loss:2.3034780021940207, validation accuracy:0.09733333333333333\n",
            "epoch:4, train loss:2.303328372970446, train accuracy:0.10051851851851852, validation loss:2.3027961332126896, validation accuracy:0.0965\n",
            "epoch:5, train loss:2.302787049150886, train accuracy:0.09911111111111111, validation loss:2.302718979399558, validation accuracy:0.1\n",
            "epoch:6, train loss:2.3026960199230664, train accuracy:0.10053703703703704, validation loss:2.30276845325773, validation accuracy:0.0965\n",
            "epoch:7, train loss:2.3026646218629248, train accuracy:0.0992962962962963, validation loss:2.3028144217379336, validation accuracy:0.09433333333333334\n",
            "epoch:8, train loss:2.3026644142908577, train accuracy:0.09820370370370371, validation loss:2.3028031157770608, validation accuracy:0.09433333333333334\n",
            "epoch:9, train loss:2.3026718745165216, train accuracy:0.08866666666666667, validation loss:2.3028104428701557, validation accuracy:0.09433333333333334\n",
            "epoch:10, train loss:2.3026620623197993, train accuracy:0.09609259259259259, validation loss:2.302805250717044, validation accuracy:0.09433333333333334\n"
          ]
        },
        {
          "data": {
            "text/html": [
              "Waiting for W&B process to finish... <strong style=\"color:green\">(success).</strong>"
            ],
            "text/plain": [
              "<IPython.core.display.HTML object>"
            ]
          },
          "metadata": {},
          "output_type": "display_data"
        },
        {
          "data": {
            "text/html": [
              "<style>\n",
              "    table.wandb td:nth-child(1) { padding: 0 10px; text-align: left ; width: auto;} td:nth-child(2) {text-align: left ; width: 100%}\n",
              "    .wandb-row { display: flex; flex-direction: row; flex-wrap: wrap; justify-content: flex-start; width: 100% }\n",
              "    .wandb-col { display: flex; flex-direction: column; flex-basis: 100%; flex: 1; padding: 10px; }\n",
              "    </style>\n",
              "<div class=\"wandb-row\"><div class=\"wandb-col\"><h3>Run history:</h3><br/><table class=\"wandb\"><tr><td>train accuracy</td><td>████▇█▇▇▁▅</td></tr><tr><td>train loss</td><td>█▂▁▁▁▁▁▁▁▁</td></tr><tr><td>validation accuracy</td><td>▅▅▅▄█▄▁▁▁▁</td></tr><tr><td>validation loss</td><td>█▂▁▁▁▁▁▁▁▁</td></tr></table><br/></div><div class=\"wandb-col\"><h3>Run summary:</h3><br/><table class=\"wandb\"><tr><td>train accuracy</td><td>0.09609</td></tr><tr><td>train loss</td><td>2.30266</td></tr><tr><td>validation accuracy</td><td>0.09433</td></tr><tr><td>validation loss</td><td>2.30281</td></tr></table><br/></div></div>"
            ],
            "text/plain": [
              "<IPython.core.display.HTML object>"
            ]
          },
          "metadata": {},
          "output_type": "display_data"
        },
        {
          "data": {
            "text/html": [
              " View run <strong style=\"color:#cdcd00\">dutiful-sweep-91</strong> at: <a href='https://wandb.ai/cs22m019/DL%20Final%20Assignment%201/runs/u6qbwhu6' target=\"_blank\">https://wandb.ai/cs22m019/DL%20Final%20Assignment%201/runs/u6qbwhu6</a><br/>Synced 6 W&B file(s), 0 media file(s), 0 artifact file(s) and 0 other file(s)"
            ],
            "text/plain": [
              "<IPython.core.display.HTML object>"
            ]
          },
          "metadata": {},
          "output_type": "display_data"
        },
        {
          "data": {
            "text/html": [
              "Find logs at: <code>.\\wandb\\run-20230310_043318-u6qbwhu6\\logs</code>"
            ],
            "text/plain": [
              "<IPython.core.display.HTML object>"
            ]
          },
          "metadata": {},
          "output_type": "display_data"
        },
        {
          "name": "stderr",
          "output_type": "stream",
          "text": [
            "\u001b[34m\u001b[1mwandb\u001b[0m: Sweep Agent: Waiting for job.\n",
            "\u001b[34m\u001b[1mwandb\u001b[0m: Job received.\n",
            "\u001b[34m\u001b[1mwandb\u001b[0m: Agent Starting Run: ht6czeg0 with config:\n",
            "\u001b[34m\u001b[1mwandb\u001b[0m: \tactivation: ReLU\n",
            "\u001b[34m\u001b[1mwandb\u001b[0m: \tbatch_size: 16\n",
            "\u001b[34m\u001b[1mwandb\u001b[0m: \tepochs: 5\n",
            "\u001b[34m\u001b[1mwandb\u001b[0m: \tlearning_rate: 0.001\n",
            "\u001b[34m\u001b[1mwandb\u001b[0m: \tnumber_of_hidden_layer: 4\n",
            "\u001b[34m\u001b[1mwandb\u001b[0m: \toptimizer: nadam\n",
            "\u001b[34m\u001b[1mwandb\u001b[0m: \tsize_of_hidden_layer: 32\n",
            "\u001b[34m\u001b[1mwandb\u001b[0m: \tweight_decay: 0\n",
            "\u001b[34m\u001b[1mwandb\u001b[0m: \tweight_initialization: random\n"
          ]
        },
        {
          "data": {
            "text/html": [
              "Tracking run with wandb version 0.13.11"
            ],
            "text/plain": [
              "<IPython.core.display.HTML object>"
            ]
          },
          "metadata": {},
          "output_type": "display_data"
        },
        {
          "data": {
            "text/html": [
              "Run data is saved locally in <code>C:\\Users\\DELL\\Desktop\\wandb\\run-20230310_043552-ht6czeg0</code>"
            ],
            "text/plain": [
              "<IPython.core.display.HTML object>"
            ]
          },
          "metadata": {},
          "output_type": "display_data"
        },
        {
          "data": {
            "text/html": [
              "Syncing run <strong><a href='https://wandb.ai/cs22m019/DL%20Final%20Assignment%201/runs/ht6czeg0' target=\"_blank\">good-sweep-92</a></strong> to <a href='https://wandb.ai/cs22m019/DL%20Final%20Assignment%201' target=\"_blank\">Weights & Biases</a> (<a href='https://wandb.me/run' target=\"_blank\">docs</a>)<br/>Sweep page: <a href='https://wandb.ai/cs22m019/DL%20Final%20Assignment%201/sweeps/eayjxkwm' target=\"_blank\">https://wandb.ai/cs22m019/DL%20Final%20Assignment%201/sweeps/eayjxkwm</a>"
            ],
            "text/plain": [
              "<IPython.core.display.HTML object>"
            ]
          },
          "metadata": {},
          "output_type": "display_data"
        },
        {
          "data": {
            "text/html": [
              " View project at <a href='https://wandb.ai/cs22m019/DL%20Final%20Assignment%201' target=\"_blank\">https://wandb.ai/cs22m019/DL%20Final%20Assignment%201</a>"
            ],
            "text/plain": [
              "<IPython.core.display.HTML object>"
            ]
          },
          "metadata": {},
          "output_type": "display_data"
        },
        {
          "data": {
            "text/html": [
              " View sweep at <a href='https://wandb.ai/cs22m019/DL%20Final%20Assignment%201/sweeps/eayjxkwm' target=\"_blank\">https://wandb.ai/cs22m019/DL%20Final%20Assignment%201/sweeps/eayjxkwm</a>"
            ],
            "text/plain": [
              "<IPython.core.display.HTML object>"
            ]
          },
          "metadata": {},
          "output_type": "display_data"
        },
        {
          "data": {
            "text/html": [
              " View run at <a href='https://wandb.ai/cs22m019/DL%20Final%20Assignment%201/runs/ht6czeg0' target=\"_blank\">https://wandb.ai/cs22m019/DL%20Final%20Assignment%201/runs/ht6czeg0</a>"
            ],
            "text/plain": [
              "<IPython.core.display.HTML object>"
            ]
          },
          "metadata": {},
          "output_type": "display_data"
        },
        {
          "name": "stdout",
          "output_type": "stream",
          "text": [
            "epoch:1, train loss:6.570953374421467, train accuracy:0.3459814814814815, validation loss:2.941842027904912, validation accuracy:0.49816666666666665\n",
            "epoch:2, train loss:2.226631037217091, train accuracy:0.5575555555555556, validation loss:1.827706043873266, validation accuracy:0.593\n",
            "epoch:3, train loss:1.5671668954969245, train accuracy:0.6255555555555555, validation loss:1.4398442177408641, validation accuracy:0.6353333333333333\n",
            "epoch:4, train loss:1.2855763011026602, train accuracy:0.6600555555555555, validation loss:1.2398343163789602, validation accuracy:0.6636666666666666\n",
            "epoch:5, train loss:1.118236044426667, train accuracy:0.6855925925925926, validation loss:1.111241728216603, validation accuracy:0.6881666666666667\n"
          ]
        },
        {
          "data": {
            "text/html": [
              "Waiting for W&B process to finish... <strong style=\"color:green\">(success).</strong>"
            ],
            "text/plain": [
              "<IPython.core.display.HTML object>"
            ]
          },
          "metadata": {},
          "output_type": "display_data"
        },
        {
          "data": {
            "application/vnd.jupyter.widget-view+json": {
              "model_id": "4dfbf3bb7c2d497fb44d00c8d59fa5a6",
              "version_major": 2,
              "version_minor": 0
            },
            "text/plain": [
              "VBox(children=(Label(value='0.001 MB of 0.001 MB uploaded (0.000 MB deduped)\\r'), FloatProgress(value=1.0, max…"
            ]
          },
          "metadata": {},
          "output_type": "display_data"
        },
        {
          "data": {
            "text/html": [
              "<style>\n",
              "    table.wandb td:nth-child(1) { padding: 0 10px; text-align: left ; width: auto;} td:nth-child(2) {text-align: left ; width: 100%}\n",
              "    .wandb-row { display: flex; flex-direction: row; flex-wrap: wrap; justify-content: flex-start; width: 100% }\n",
              "    .wandb-col { display: flex; flex-direction: column; flex-basis: 100%; flex: 1; padding: 10px; }\n",
              "    </style>\n",
              "<div class=\"wandb-row\"><div class=\"wandb-col\"><h3>Run history:</h3><br/><table class=\"wandb\"><tr><td>train accuracy</td><td>▁▅▇▇█</td></tr><tr><td>train loss</td><td>█▂▂▁▁</td></tr><tr><td>validation accuracy</td><td>▁▄▆▇█</td></tr><tr><td>validation loss</td><td>█▄▂▁▁</td></tr></table><br/></div><div class=\"wandb-col\"><h3>Run summary:</h3><br/><table class=\"wandb\"><tr><td>train accuracy</td><td>0.68559</td></tr><tr><td>train loss</td><td>1.11824</td></tr><tr><td>validation accuracy</td><td>0.68817</td></tr><tr><td>validation loss</td><td>1.11124</td></tr></table><br/></div></div>"
            ],
            "text/plain": [
              "<IPython.core.display.HTML object>"
            ]
          },
          "metadata": {},
          "output_type": "display_data"
        },
        {
          "data": {
            "text/html": [
              " View run <strong style=\"color:#cdcd00\">good-sweep-92</strong> at: <a href='https://wandb.ai/cs22m019/DL%20Final%20Assignment%201/runs/ht6czeg0' target=\"_blank\">https://wandb.ai/cs22m019/DL%20Final%20Assignment%201/runs/ht6czeg0</a><br/>Synced 6 W&B file(s), 0 media file(s), 0 artifact file(s) and 0 other file(s)"
            ],
            "text/plain": [
              "<IPython.core.display.HTML object>"
            ]
          },
          "metadata": {},
          "output_type": "display_data"
        },
        {
          "data": {
            "text/html": [
              "Find logs at: <code>.\\wandb\\run-20230310_043552-ht6czeg0\\logs</code>"
            ],
            "text/plain": [
              "<IPython.core.display.HTML object>"
            ]
          },
          "metadata": {},
          "output_type": "display_data"
        },
        {
          "name": "stderr",
          "output_type": "stream",
          "text": [
            "\u001b[34m\u001b[1mwandb\u001b[0m: Agent Starting Run: pizspxin with config:\n",
            "\u001b[34m\u001b[1mwandb\u001b[0m: \tactivation: tanh\n",
            "\u001b[34m\u001b[1mwandb\u001b[0m: \tbatch_size: 64\n",
            "\u001b[34m\u001b[1mwandb\u001b[0m: \tepochs: 10\n",
            "\u001b[34m\u001b[1mwandb\u001b[0m: \tlearning_rate: 0.0001\n",
            "\u001b[34m\u001b[1mwandb\u001b[0m: \tnumber_of_hidden_layer: 3\n",
            "\u001b[34m\u001b[1mwandb\u001b[0m: \toptimizer: nestrov\n",
            "\u001b[34m\u001b[1mwandb\u001b[0m: \tsize_of_hidden_layer: 64\n",
            "\u001b[34m\u001b[1mwandb\u001b[0m: \tweight_decay: 0\n",
            "\u001b[34m\u001b[1mwandb\u001b[0m: \tweight_initialization: Xavier\n"
          ]
        },
        {
          "data": {
            "text/html": [
              "Tracking run with wandb version 0.13.11"
            ],
            "text/plain": [
              "<IPython.core.display.HTML object>"
            ]
          },
          "metadata": {},
          "output_type": "display_data"
        },
        {
          "data": {
            "text/html": [
              "Run data is saved locally in <code>C:\\Users\\DELL\\Desktop\\wandb\\run-20230310_043657-pizspxin</code>"
            ],
            "text/plain": [
              "<IPython.core.display.HTML object>"
            ]
          },
          "metadata": {},
          "output_type": "display_data"
        },
        {
          "data": {
            "text/html": [
              "Syncing run <strong><a href='https://wandb.ai/cs22m019/DL%20Final%20Assignment%201/runs/pizspxin' target=\"_blank\">ethereal-sweep-93</a></strong> to <a href='https://wandb.ai/cs22m019/DL%20Final%20Assignment%201' target=\"_blank\">Weights & Biases</a> (<a href='https://wandb.me/run' target=\"_blank\">docs</a>)<br/>Sweep page: <a href='https://wandb.ai/cs22m019/DL%20Final%20Assignment%201/sweeps/eayjxkwm' target=\"_blank\">https://wandb.ai/cs22m019/DL%20Final%20Assignment%201/sweeps/eayjxkwm</a>"
            ],
            "text/plain": [
              "<IPython.core.display.HTML object>"
            ]
          },
          "metadata": {},
          "output_type": "display_data"
        },
        {
          "data": {
            "text/html": [
              " View project at <a href='https://wandb.ai/cs22m019/DL%20Final%20Assignment%201' target=\"_blank\">https://wandb.ai/cs22m019/DL%20Final%20Assignment%201</a>"
            ],
            "text/plain": [
              "<IPython.core.display.HTML object>"
            ]
          },
          "metadata": {},
          "output_type": "display_data"
        },
        {
          "data": {
            "text/html": [
              " View sweep at <a href='https://wandb.ai/cs22m019/DL%20Final%20Assignment%201/sweeps/eayjxkwm' target=\"_blank\">https://wandb.ai/cs22m019/DL%20Final%20Assignment%201/sweeps/eayjxkwm</a>"
            ],
            "text/plain": [
              "<IPython.core.display.HTML object>"
            ]
          },
          "metadata": {},
          "output_type": "display_data"
        },
        {
          "data": {
            "text/html": [
              " View run at <a href='https://wandb.ai/cs22m019/DL%20Final%20Assignment%201/runs/pizspxin' target=\"_blank\">https://wandb.ai/cs22m019/DL%20Final%20Assignment%201/runs/pizspxin</a>"
            ],
            "text/plain": [
              "<IPython.core.display.HTML object>"
            ]
          },
          "metadata": {},
          "output_type": "display_data"
        },
        {
          "name": "stdout",
          "output_type": "stream",
          "text": [
            "epoch:1, train loss:2.324501662769083, train accuracy:0.12807407407407406, validation loss:2.171327773013351, validation accuracy:0.17783333333333334\n",
            "epoch:2, train loss:2.085224933926416, train accuracy:0.25996296296296295, validation loss:2.013597612709889, validation accuracy:0.32616666666666666\n",
            "epoch:3, train loss:1.9476314817906462, train accuracy:0.3845, validation loss:1.8927748099382862, validation accuracy:0.4246666666666667\n",
            "epoch:4, train loss:1.8347283701825843, train accuracy:0.4650185185185185, validation loss:1.7891488672198446, validation accuracy:0.4895\n",
            "epoch:5, train loss:1.7364661605747103, train accuracy:0.5152777777777777, validation loss:1.6977754873143924, validation accuracy:0.5265\n",
            "epoch:6, train loss:1.6495870428357828, train accuracy:0.5493518518518519, validation loss:1.6167695928634558, validation accuracy:0.5553333333333333\n",
            "epoch:7, train loss:1.5727010575116267, train accuracy:0.5732222222222222, validation loss:1.5451841257019288, validation accuracy:0.5745\n",
            "epoch:8, train loss:1.5047657551083944, train accuracy:0.5942962962962963, validation loss:1.4819160512973888, validation accuracy:0.5936666666666667\n",
            "epoch:9, train loss:1.4447716058774436, train accuracy:0.6127222222222222, validation loss:1.4258978495088819, validation accuracy:0.6093333333333333\n",
            "epoch:10, train loss:1.3916548761985132, train accuracy:0.6263888888888889, validation loss:1.3761840553009714, validation accuracy:0.6225\n"
          ]
        },
        {
          "data": {
            "text/html": [
              "Waiting for W&B process to finish... <strong style=\"color:green\">(success).</strong>"
            ],
            "text/plain": [
              "<IPython.core.display.HTML object>"
            ]
          },
          "metadata": {},
          "output_type": "display_data"
        },
        {
          "data": {
            "text/html": [
              "<style>\n",
              "    table.wandb td:nth-child(1) { padding: 0 10px; text-align: left ; width: auto;} td:nth-child(2) {text-align: left ; width: 100%}\n",
              "    .wandb-row { display: flex; flex-direction: row; flex-wrap: wrap; justify-content: flex-start; width: 100% }\n",
              "    .wandb-col { display: flex; flex-direction: column; flex-basis: 100%; flex: 1; padding: 10px; }\n",
              "    </style>\n",
              "<div class=\"wandb-row\"><div class=\"wandb-col\"><h3>Run history:</h3><br/><table class=\"wandb\"><tr><td>train accuracy</td><td>▁▃▅▆▆▇▇███</td></tr><tr><td>train loss</td><td>█▆▅▄▄▃▂▂▁▁</td></tr><tr><td>validation accuracy</td><td>▁▃▅▆▆▇▇███</td></tr><tr><td>validation loss</td><td>█▇▆▅▄▃▂▂▁▁</td></tr></table><br/></div><div class=\"wandb-col\"><h3>Run summary:</h3><br/><table class=\"wandb\"><tr><td>train accuracy</td><td>0.62639</td></tr><tr><td>train loss</td><td>1.39165</td></tr><tr><td>validation accuracy</td><td>0.6225</td></tr><tr><td>validation loss</td><td>1.37618</td></tr></table><br/></div></div>"
            ],
            "text/plain": [
              "<IPython.core.display.HTML object>"
            ]
          },
          "metadata": {},
          "output_type": "display_data"
        },
        {
          "data": {
            "text/html": [
              " View run <strong style=\"color:#cdcd00\">ethereal-sweep-93</strong> at: <a href='https://wandb.ai/cs22m019/DL%20Final%20Assignment%201/runs/pizspxin' target=\"_blank\">https://wandb.ai/cs22m019/DL%20Final%20Assignment%201/runs/pizspxin</a><br/>Synced 6 W&B file(s), 0 media file(s), 0 artifact file(s) and 0 other file(s)"
            ],
            "text/plain": [
              "<IPython.core.display.HTML object>"
            ]
          },
          "metadata": {},
          "output_type": "display_data"
        },
        {
          "data": {
            "text/html": [
              "Find logs at: <code>.\\wandb\\run-20230310_043657-pizspxin\\logs</code>"
            ],
            "text/plain": [
              "<IPython.core.display.HTML object>"
            ]
          },
          "metadata": {},
          "output_type": "display_data"
        },
        {
          "name": "stderr",
          "output_type": "stream",
          "text": [
            "\u001b[34m\u001b[1mwandb\u001b[0m: Sweep Agent: Waiting for job.\n",
            "\u001b[34m\u001b[1mwandb\u001b[0m: Job received.\n",
            "\u001b[34m\u001b[1mwandb\u001b[0m: Agent Starting Run: dippvkev with config:\n",
            "\u001b[34m\u001b[1mwandb\u001b[0m: \tactivation: tanh\n",
            "\u001b[34m\u001b[1mwandb\u001b[0m: \tbatch_size: 32\n",
            "\u001b[34m\u001b[1mwandb\u001b[0m: \tepochs: 10\n",
            "\u001b[34m\u001b[1mwandb\u001b[0m: \tlearning_rate: 0.001\n",
            "\u001b[34m\u001b[1mwandb\u001b[0m: \tnumber_of_hidden_layer: 4\n",
            "\u001b[34m\u001b[1mwandb\u001b[0m: \toptimizer: rmsprop\n",
            "\u001b[34m\u001b[1mwandb\u001b[0m: \tsize_of_hidden_layer: 128\n",
            "\u001b[34m\u001b[1mwandb\u001b[0m: \tweight_decay: 0.0005\n",
            "\u001b[34m\u001b[1mwandb\u001b[0m: \tweight_initialization: random\n"
          ]
        },
        {
          "data": {
            "text/html": [
              "Tracking run with wandb version 0.13.11"
            ],
            "text/plain": [
              "<IPython.core.display.HTML object>"
            ]
          },
          "metadata": {},
          "output_type": "display_data"
        },
        {
          "data": {
            "text/html": [
              "Run data is saved locally in <code>C:\\Users\\DELL\\Desktop\\wandb\\run-20230310_043930-dippvkev</code>"
            ],
            "text/plain": [
              "<IPython.core.display.HTML object>"
            ]
          },
          "metadata": {},
          "output_type": "display_data"
        },
        {
          "data": {
            "text/html": [
              "Syncing run <strong><a href='https://wandb.ai/cs22m019/DL%20Final%20Assignment%201/runs/dippvkev' target=\"_blank\">smooth-sweep-94</a></strong> to <a href='https://wandb.ai/cs22m019/DL%20Final%20Assignment%201' target=\"_blank\">Weights & Biases</a> (<a href='https://wandb.me/run' target=\"_blank\">docs</a>)<br/>Sweep page: <a href='https://wandb.ai/cs22m019/DL%20Final%20Assignment%201/sweeps/eayjxkwm' target=\"_blank\">https://wandb.ai/cs22m019/DL%20Final%20Assignment%201/sweeps/eayjxkwm</a>"
            ],
            "text/plain": [
              "<IPython.core.display.HTML object>"
            ]
          },
          "metadata": {},
          "output_type": "display_data"
        },
        {
          "data": {
            "text/html": [
              " View project at <a href='https://wandb.ai/cs22m019/DL%20Final%20Assignment%201' target=\"_blank\">https://wandb.ai/cs22m019/DL%20Final%20Assignment%201</a>"
            ],
            "text/plain": [
              "<IPython.core.display.HTML object>"
            ]
          },
          "metadata": {},
          "output_type": "display_data"
        },
        {
          "data": {
            "text/html": [
              " View sweep at <a href='https://wandb.ai/cs22m019/DL%20Final%20Assignment%201/sweeps/eayjxkwm' target=\"_blank\">https://wandb.ai/cs22m019/DL%20Final%20Assignment%201/sweeps/eayjxkwm</a>"
            ],
            "text/plain": [
              "<IPython.core.display.HTML object>"
            ]
          },
          "metadata": {},
          "output_type": "display_data"
        },
        {
          "data": {
            "text/html": [
              " View run at <a href='https://wandb.ai/cs22m019/DL%20Final%20Assignment%201/runs/dippvkev' target=\"_blank\">https://wandb.ai/cs22m019/DL%20Final%20Assignment%201/runs/dippvkev</a>"
            ],
            "text/plain": [
              "<IPython.core.display.HTML object>"
            ]
          },
          "metadata": {},
          "output_type": "display_data"
        },
        {
          "name": "stdout",
          "output_type": "stream",
          "text": [
            "epoch:1, train loss:5.071097246847524, train accuracy:0.23664814814814814, validation loss:3.376475893502702, validation accuracy:0.35333333333333333\n",
            "epoch:2, train loss:2.848630087857752, train accuracy:0.42388888888888887, validation loss:2.4096673196267453, validation accuracy:0.48233333333333334\n",
            "epoch:3, train loss:2.163052429971678, train accuracy:0.5178518518518519, validation loss:1.9967274234067238, validation accuracy:0.541\n",
            "epoch:4, train loss:1.8117526291410906, train accuracy:0.5673148148148148, validation loss:1.7443339006960044, validation accuracy:0.5805\n",
            "epoch:5, train loss:1.6016969246312933, train accuracy:0.6012407407407407, validation loss:1.5655146011997445, validation accuracy:0.6065\n",
            "epoch:6, train loss:1.4501380443831182, train accuracy:0.6272777777777778, validation loss:1.4431153770251632, validation accuracy:0.6235\n",
            "epoch:7, train loss:1.3394750527327626, train accuracy:0.644537037037037, validation loss:1.354831154929026, validation accuracy:0.6363333333333333\n",
            "epoch:8, train loss:1.246567843502156, train accuracy:0.6583888888888889, validation loss:1.2813592351346865, validation accuracy:0.65\n",
            "epoch:9, train loss:1.171379218144276, train accuracy:0.6728888888888889, validation loss:1.224836822688552, validation accuracy:0.6586666666666666\n",
            "epoch:10, train loss:1.108937513263683, train accuracy:0.6856111111111111, validation loss:1.1764389090030924, validation accuracy:0.666\n"
          ]
        },
        {
          "data": {
            "text/html": [
              "Waiting for W&B process to finish... <strong style=\"color:green\">(success).</strong>"
            ],
            "text/plain": [
              "<IPython.core.display.HTML object>"
            ]
          },
          "metadata": {},
          "output_type": "display_data"
        },
        {
          "data": {
            "application/vnd.jupyter.widget-view+json": {
              "model_id": "a7be297e2435475b9b0628e496c32b9b",
              "version_major": 2,
              "version_minor": 0
            },
            "text/plain": [
              "VBox(children=(Label(value='0.001 MB of 0.001 MB uploaded (0.000 MB deduped)\\r'), FloatProgress(value=1.0, max…"
            ]
          },
          "metadata": {},
          "output_type": "display_data"
        },
        {
          "data": {
            "text/html": [
              "<style>\n",
              "    table.wandb td:nth-child(1) { padding: 0 10px; text-align: left ; width: auto;} td:nth-child(2) {text-align: left ; width: 100%}\n",
              "    .wandb-row { display: flex; flex-direction: row; flex-wrap: wrap; justify-content: flex-start; width: 100% }\n",
              "    .wandb-col { display: flex; flex-direction: column; flex-basis: 100%; flex: 1; padding: 10px; }\n",
              "    </style>\n",
              "<div class=\"wandb-row\"><div class=\"wandb-col\"><h3>Run history:</h3><br/><table class=\"wandb\"><tr><td>train accuracy</td><td>▁▄▅▆▇▇▇███</td></tr><tr><td>train loss</td><td>█▄▃▂▂▂▁▁▁▁</td></tr><tr><td>validation accuracy</td><td>▁▄▅▆▇▇▇███</td></tr><tr><td>validation loss</td><td>█▅▄▃▂▂▂▁▁▁</td></tr></table><br/></div><div class=\"wandb-col\"><h3>Run summary:</h3><br/><table class=\"wandb\"><tr><td>train accuracy</td><td>0.68561</td></tr><tr><td>train loss</td><td>1.10894</td></tr><tr><td>validation accuracy</td><td>0.666</td></tr><tr><td>validation loss</td><td>1.17644</td></tr></table><br/></div></div>"
            ],
            "text/plain": [
              "<IPython.core.display.HTML object>"
            ]
          },
          "metadata": {},
          "output_type": "display_data"
        },
        {
          "data": {
            "text/html": [
              " View run <strong style=\"color:#cdcd00\">smooth-sweep-94</strong> at: <a href='https://wandb.ai/cs22m019/DL%20Final%20Assignment%201/runs/dippvkev' target=\"_blank\">https://wandb.ai/cs22m019/DL%20Final%20Assignment%201/runs/dippvkev</a><br/>Synced 6 W&B file(s), 0 media file(s), 0 artifact file(s) and 0 other file(s)"
            ],
            "text/plain": [
              "<IPython.core.display.HTML object>"
            ]
          },
          "metadata": {},
          "output_type": "display_data"
        },
        {
          "data": {
            "text/html": [
              "Find logs at: <code>.\\wandb\\run-20230310_043930-dippvkev\\logs</code>"
            ],
            "text/plain": [
              "<IPython.core.display.HTML object>"
            ]
          },
          "metadata": {},
          "output_type": "display_data"
        },
        {
          "name": "stderr",
          "output_type": "stream",
          "text": [
            "\u001b[34m\u001b[1mwandb\u001b[0m: Sweep Agent: Waiting for job.\n",
            "\u001b[34m\u001b[1mwandb\u001b[0m: Job received.\n",
            "\u001b[34m\u001b[1mwandb\u001b[0m: Agent Starting Run: swz1oklj with config:\n",
            "\u001b[34m\u001b[1mwandb\u001b[0m: \tactivation: tanh\n",
            "\u001b[34m\u001b[1mwandb\u001b[0m: \tbatch_size: 16\n",
            "\u001b[34m\u001b[1mwandb\u001b[0m: \tepochs: 10\n",
            "\u001b[34m\u001b[1mwandb\u001b[0m: \tlearning_rate: 0.0001\n",
            "\u001b[34m\u001b[1mwandb\u001b[0m: \tnumber_of_hidden_layer: 5\n",
            "\u001b[34m\u001b[1mwandb\u001b[0m: \toptimizer: adam\n",
            "\u001b[34m\u001b[1mwandb\u001b[0m: \tsize_of_hidden_layer: 32\n",
            "\u001b[34m\u001b[1mwandb\u001b[0m: \tweight_decay: 0.5\n",
            "\u001b[34m\u001b[1mwandb\u001b[0m: \tweight_initialization: random\n"
          ]
        },
        {
          "data": {
            "text/html": [
              "Tracking run with wandb version 0.13.11"
            ],
            "text/plain": [
              "<IPython.core.display.HTML object>"
            ]
          },
          "metadata": {},
          "output_type": "display_data"
        },
        {
          "data": {
            "text/html": [
              "Run data is saved locally in <code>C:\\Users\\DELL\\Desktop\\wandb\\run-20230310_044439-swz1oklj</code>"
            ],
            "text/plain": [
              "<IPython.core.display.HTML object>"
            ]
          },
          "metadata": {},
          "output_type": "display_data"
        },
        {
          "data": {
            "text/html": [
              "Syncing run <strong><a href='https://wandb.ai/cs22m019/DL%20Final%20Assignment%201/runs/swz1oklj' target=\"_blank\">misunderstood-sweep-95</a></strong> to <a href='https://wandb.ai/cs22m019/DL%20Final%20Assignment%201' target=\"_blank\">Weights & Biases</a> (<a href='https://wandb.me/run' target=\"_blank\">docs</a>)<br/>Sweep page: <a href='https://wandb.ai/cs22m019/DL%20Final%20Assignment%201/sweeps/eayjxkwm' target=\"_blank\">https://wandb.ai/cs22m019/DL%20Final%20Assignment%201/sweeps/eayjxkwm</a>"
            ],
            "text/plain": [
              "<IPython.core.display.HTML object>"
            ]
          },
          "metadata": {},
          "output_type": "display_data"
        },
        {
          "data": {
            "text/html": [
              " View project at <a href='https://wandb.ai/cs22m019/DL%20Final%20Assignment%201' target=\"_blank\">https://wandb.ai/cs22m019/DL%20Final%20Assignment%201</a>"
            ],
            "text/plain": [
              "<IPython.core.display.HTML object>"
            ]
          },
          "metadata": {},
          "output_type": "display_data"
        },
        {
          "data": {
            "text/html": [
              " View sweep at <a href='https://wandb.ai/cs22m019/DL%20Final%20Assignment%201/sweeps/eayjxkwm' target=\"_blank\">https://wandb.ai/cs22m019/DL%20Final%20Assignment%201/sweeps/eayjxkwm</a>"
            ],
            "text/plain": [
              "<IPython.core.display.HTML object>"
            ]
          },
          "metadata": {},
          "output_type": "display_data"
        },
        {
          "data": {
            "text/html": [
              " View run at <a href='https://wandb.ai/cs22m019/DL%20Final%20Assignment%201/runs/swz1oklj' target=\"_blank\">https://wandb.ai/cs22m019/DL%20Final%20Assignment%201/runs/swz1oklj</a>"
            ],
            "text/plain": [
              "<IPython.core.display.HTML object>"
            ]
          },
          "metadata": {},
          "output_type": "display_data"
        },
        {
          "name": "stdout",
          "output_type": "stream",
          "text": [
            "epoch:1, train loss:3.928239767482705, train accuracy:0.177, validation loss:3.3722060036776065, validation accuracy:0.2125\n",
            "epoch:2, train loss:3.0885221575511728, train accuracy:0.23837037037037037, validation loss:2.8277848471426927, validation accuracy:0.2605\n",
            "epoch:3, train loss:2.662973420676093, train accuracy:0.2846666666666667, validation loss:2.520756963124085, validation accuracy:0.30916666666666665\n",
            "epoch:4, train loss:2.4012579801435847, train accuracy:0.32357407407407407, validation loss:2.315625188760219, validation accuracy:0.3421666666666667\n",
            "epoch:5, train loss:2.2324312629872027, train accuracy:0.35774074074074075, validation loss:2.1756829154059263, validation accuracy:0.37033333333333335\n",
            "epoch:6, train loss:2.1107268359385523, train accuracy:0.3894444444444444, validation loss:2.0731866531910987, validation accuracy:0.4036666666666667\n",
            "epoch:7, train loss:2.013508302907423, train accuracy:0.41688888888888886, validation loss:1.9871774781650786, validation accuracy:0.4325\n",
            "epoch:8, train loss:1.9307972084014569, train accuracy:0.4452037037037037, validation loss:1.9125968046798072, validation accuracy:0.456\n",
            "epoch:9, train loss:1.8608828099219832, train accuracy:0.47174074074074074, validation loss:1.8506223045640589, validation accuracy:0.4771666666666667\n",
            "epoch:10, train loss:1.8019852603015118, train accuracy:0.4910185185185185, validation loss:1.7980547938350562, validation accuracy:0.49483333333333335\n"
          ]
        },
        {
          "data": {
            "text/html": [
              "Waiting for W&B process to finish... <strong style=\"color:green\">(success).</strong>"
            ],
            "text/plain": [
              "<IPython.core.display.HTML object>"
            ]
          },
          "metadata": {},
          "output_type": "display_data"
        },
        {
          "data": {
            "text/html": [
              "<style>\n",
              "    table.wandb td:nth-child(1) { padding: 0 10px; text-align: left ; width: auto;} td:nth-child(2) {text-align: left ; width: 100%}\n",
              "    .wandb-row { display: flex; flex-direction: row; flex-wrap: wrap; justify-content: flex-start; width: 100% }\n",
              "    .wandb-col { display: flex; flex-direction: column; flex-basis: 100%; flex: 1; padding: 10px; }\n",
              "    </style>\n",
              "<div class=\"wandb-row\"><div class=\"wandb-col\"><h3>Run history:</h3><br/><table class=\"wandb\"><tr><td>train accuracy</td><td>▁▂▃▄▅▆▆▇██</td></tr><tr><td>train loss</td><td>█▅▄▃▂▂▂▁▁▁</td></tr><tr><td>validation accuracy</td><td>▁▂▃▄▅▆▆▇██</td></tr><tr><td>validation loss</td><td>█▆▄▃▃▂▂▂▁▁</td></tr></table><br/></div><div class=\"wandb-col\"><h3>Run summary:</h3><br/><table class=\"wandb\"><tr><td>train accuracy</td><td>0.49102</td></tr><tr><td>train loss</td><td>1.80199</td></tr><tr><td>validation accuracy</td><td>0.49483</td></tr><tr><td>validation loss</td><td>1.79805</td></tr></table><br/></div></div>"
            ],
            "text/plain": [
              "<IPython.core.display.HTML object>"
            ]
          },
          "metadata": {},
          "output_type": "display_data"
        },
        {
          "data": {
            "text/html": [
              " View run <strong style=\"color:#cdcd00\">misunderstood-sweep-95</strong> at: <a href='https://wandb.ai/cs22m019/DL%20Final%20Assignment%201/runs/swz1oklj' target=\"_blank\">https://wandb.ai/cs22m019/DL%20Final%20Assignment%201/runs/swz1oklj</a><br/>Synced 6 W&B file(s), 0 media file(s), 0 artifact file(s) and 0 other file(s)"
            ],
            "text/plain": [
              "<IPython.core.display.HTML object>"
            ]
          },
          "metadata": {},
          "output_type": "display_data"
        },
        {
          "data": {
            "text/html": [
              "Find logs at: <code>.\\wandb\\run-20230310_044439-swz1oklj\\logs</code>"
            ],
            "text/plain": [
              "<IPython.core.display.HTML object>"
            ]
          },
          "metadata": {},
          "output_type": "display_data"
        },
        {
          "name": "stderr",
          "output_type": "stream",
          "text": [
            "\u001b[34m\u001b[1mwandb\u001b[0m: Sweep Agent: Waiting for job.\n",
            "\u001b[34m\u001b[1mwandb\u001b[0m: Job received.\n",
            "\u001b[34m\u001b[1mwandb\u001b[0m: Agent Starting Run: v1oj7kil with config:\n",
            "\u001b[34m\u001b[1mwandb\u001b[0m: \tactivation: tanh\n",
            "\u001b[34m\u001b[1mwandb\u001b[0m: \tbatch_size: 64\n",
            "\u001b[34m\u001b[1mwandb\u001b[0m: \tepochs: 5\n",
            "\u001b[34m\u001b[1mwandb\u001b[0m: \tlearning_rate: 0.0001\n",
            "\u001b[34m\u001b[1mwandb\u001b[0m: \tnumber_of_hidden_layer: 3\n",
            "\u001b[34m\u001b[1mwandb\u001b[0m: \toptimizer: momentum\n",
            "\u001b[34m\u001b[1mwandb\u001b[0m: \tsize_of_hidden_layer: 128\n",
            "\u001b[34m\u001b[1mwandb\u001b[0m: \tweight_decay: 0.0005\n",
            "\u001b[34m\u001b[1mwandb\u001b[0m: \tweight_initialization: random\n"
          ]
        },
        {
          "data": {
            "text/html": [
              "Tracking run with wandb version 0.13.11"
            ],
            "text/plain": [
              "<IPython.core.display.HTML object>"
            ]
          },
          "metadata": {},
          "output_type": "display_data"
        },
        {
          "data": {
            "text/html": [
              "Run data is saved locally in <code>C:\\Users\\DELL\\Desktop\\wandb\\run-20230310_044643-v1oj7kil</code>"
            ],
            "text/plain": [
              "<IPython.core.display.HTML object>"
            ]
          },
          "metadata": {},
          "output_type": "display_data"
        },
        {
          "data": {
            "text/html": [
              "Syncing run <strong><a href='https://wandb.ai/cs22m019/DL%20Final%20Assignment%201/runs/v1oj7kil' target=\"_blank\">trim-sweep-96</a></strong> to <a href='https://wandb.ai/cs22m019/DL%20Final%20Assignment%201' target=\"_blank\">Weights & Biases</a> (<a href='https://wandb.me/run' target=\"_blank\">docs</a>)<br/>Sweep page: <a href='https://wandb.ai/cs22m019/DL%20Final%20Assignment%201/sweeps/eayjxkwm' target=\"_blank\">https://wandb.ai/cs22m019/DL%20Final%20Assignment%201/sweeps/eayjxkwm</a>"
            ],
            "text/plain": [
              "<IPython.core.display.HTML object>"
            ]
          },
          "metadata": {},
          "output_type": "display_data"
        },
        {
          "data": {
            "text/html": [
              " View project at <a href='https://wandb.ai/cs22m019/DL%20Final%20Assignment%201' target=\"_blank\">https://wandb.ai/cs22m019/DL%20Final%20Assignment%201</a>"
            ],
            "text/plain": [
              "<IPython.core.display.HTML object>"
            ]
          },
          "metadata": {},
          "output_type": "display_data"
        },
        {
          "data": {
            "text/html": [
              " View sweep at <a href='https://wandb.ai/cs22m019/DL%20Final%20Assignment%201/sweeps/eayjxkwm' target=\"_blank\">https://wandb.ai/cs22m019/DL%20Final%20Assignment%201/sweeps/eayjxkwm</a>"
            ],
            "text/plain": [
              "<IPython.core.display.HTML object>"
            ]
          },
          "metadata": {},
          "output_type": "display_data"
        },
        {
          "data": {
            "text/html": [
              " View run at <a href='https://wandb.ai/cs22m019/DL%20Final%20Assignment%201/runs/v1oj7kil' target=\"_blank\">https://wandb.ai/cs22m019/DL%20Final%20Assignment%201/runs/v1oj7kil</a>"
            ],
            "text/plain": [
              "<IPython.core.display.HTML object>"
            ]
          },
          "metadata": {},
          "output_type": "display_data"
        },
        {
          "name": "stdout",
          "output_type": "stream",
          "text": [
            "epoch:1, train loss:7.491819580878889, train accuracy:0.11937037037037038, validation loss:6.752988256319971, validation accuracy:0.1265\n",
            "epoch:2, train loss:6.117642245484619, train accuracy:0.14825925925925926, validation loss:5.6528520712105434, validation accuracy:0.16066666666666668\n",
            "epoch:3, train loss:5.170565261042307, train accuracy:0.1874074074074074, validation loss:4.882881201549451, validation accuracy:0.19916666666666666\n",
            "epoch:4, train loss:4.5299817197689, train accuracy:0.22742592592592592, validation loss:4.3527480991971546, validation accuracy:0.2385\n",
            "epoch:5, train loss:4.085960318193108, train accuracy:0.2665925925925926, validation loss:3.9756651664896867, validation accuracy:0.27566666666666667\n"
          ]
        },
        {
          "data": {
            "text/html": [
              "Waiting for W&B process to finish... <strong style=\"color:green\">(success).</strong>"
            ],
            "text/plain": [
              "<IPython.core.display.HTML object>"
            ]
          },
          "metadata": {},
          "output_type": "display_data"
        },
        {
          "data": {
            "application/vnd.jupyter.widget-view+json": {
              "model_id": "5bf464a28c1548c48df3e6098f68c23a",
              "version_major": 2,
              "version_minor": 0
            },
            "text/plain": [
              "VBox(children=(Label(value='0.001 MB of 0.001 MB uploaded (0.000 MB deduped)\\r'), FloatProgress(value=1.0, max…"
            ]
          },
          "metadata": {},
          "output_type": "display_data"
        },
        {
          "data": {
            "text/html": [
              "<style>\n",
              "    table.wandb td:nth-child(1) { padding: 0 10px; text-align: left ; width: auto;} td:nth-child(2) {text-align: left ; width: 100%}\n",
              "    .wandb-row { display: flex; flex-direction: row; flex-wrap: wrap; justify-content: flex-start; width: 100% }\n",
              "    .wandb-col { display: flex; flex-direction: column; flex-basis: 100%; flex: 1; padding: 10px; }\n",
              "    </style>\n",
              "<div class=\"wandb-row\"><div class=\"wandb-col\"><h3>Run history:</h3><br/><table class=\"wandb\"><tr><td>train accuracy</td><td>▁▂▄▆█</td></tr><tr><td>train loss</td><td>█▅▃▂▁</td></tr><tr><td>validation accuracy</td><td>▁▃▄▆█</td></tr><tr><td>validation loss</td><td>█▅▃▂▁</td></tr></table><br/></div><div class=\"wandb-col\"><h3>Run summary:</h3><br/><table class=\"wandb\"><tr><td>train accuracy</td><td>0.26659</td></tr><tr><td>train loss</td><td>4.08596</td></tr><tr><td>validation accuracy</td><td>0.27567</td></tr><tr><td>validation loss</td><td>3.97567</td></tr></table><br/></div></div>"
            ],
            "text/plain": [
              "<IPython.core.display.HTML object>"
            ]
          },
          "metadata": {},
          "output_type": "display_data"
        },
        {
          "data": {
            "text/html": [
              " View run <strong style=\"color:#cdcd00\">trim-sweep-96</strong> at: <a href='https://wandb.ai/cs22m019/DL%20Final%20Assignment%201/runs/v1oj7kil' target=\"_blank\">https://wandb.ai/cs22m019/DL%20Final%20Assignment%201/runs/v1oj7kil</a><br/>Synced 6 W&B file(s), 0 media file(s), 0 artifact file(s) and 0 other file(s)"
            ],
            "text/plain": [
              "<IPython.core.display.HTML object>"
            ]
          },
          "metadata": {},
          "output_type": "display_data"
        },
        {
          "data": {
            "text/html": [
              "Find logs at: <code>.\\wandb\\run-20230310_044643-v1oj7kil\\logs</code>"
            ],
            "text/plain": [
              "<IPython.core.display.HTML object>"
            ]
          },
          "metadata": {},
          "output_type": "display_data"
        },
        {
          "name": "stderr",
          "output_type": "stream",
          "text": [
            "\u001b[34m\u001b[1mwandb\u001b[0m: Agent Starting Run: 43d172oy with config:\n",
            "\u001b[34m\u001b[1mwandb\u001b[0m: \tactivation: tanh\n",
            "\u001b[34m\u001b[1mwandb\u001b[0m: \tbatch_size: 16\n",
            "\u001b[34m\u001b[1mwandb\u001b[0m: \tepochs: 10\n",
            "\u001b[34m\u001b[1mwandb\u001b[0m: \tlearning_rate: 0.0001\n",
            "\u001b[34m\u001b[1mwandb\u001b[0m: \tnumber_of_hidden_layer: 3\n",
            "\u001b[34m\u001b[1mwandb\u001b[0m: \toptimizer: adam\n",
            "\u001b[34m\u001b[1mwandb\u001b[0m: \tsize_of_hidden_layer: 64\n",
            "\u001b[34m\u001b[1mwandb\u001b[0m: \tweight_decay: 0.5\n",
            "\u001b[34m\u001b[1mwandb\u001b[0m: \tweight_initialization: Xavier\n"
          ]
        },
        {
          "data": {
            "text/html": [
              "Tracking run with wandb version 0.13.11"
            ],
            "text/plain": [
              "<IPython.core.display.HTML object>"
            ]
          },
          "metadata": {},
          "output_type": "display_data"
        },
        {
          "data": {
            "text/html": [
              "Run data is saved locally in <code>C:\\Users\\DELL\\Desktop\\wandb\\run-20230310_044851-43d172oy</code>"
            ],
            "text/plain": [
              "<IPython.core.display.HTML object>"
            ]
          },
          "metadata": {},
          "output_type": "display_data"
        },
        {
          "data": {
            "text/html": [
              "Syncing run <strong><a href='https://wandb.ai/cs22m019/DL%20Final%20Assignment%201/runs/43d172oy' target=\"_blank\">lemon-sweep-97</a></strong> to <a href='https://wandb.ai/cs22m019/DL%20Final%20Assignment%201' target=\"_blank\">Weights & Biases</a> (<a href='https://wandb.me/run' target=\"_blank\">docs</a>)<br/>Sweep page: <a href='https://wandb.ai/cs22m019/DL%20Final%20Assignment%201/sweeps/eayjxkwm' target=\"_blank\">https://wandb.ai/cs22m019/DL%20Final%20Assignment%201/sweeps/eayjxkwm</a>"
            ],
            "text/plain": [
              "<IPython.core.display.HTML object>"
            ]
          },
          "metadata": {},
          "output_type": "display_data"
        },
        {
          "data": {
            "text/html": [
              " View project at <a href='https://wandb.ai/cs22m019/DL%20Final%20Assignment%201' target=\"_blank\">https://wandb.ai/cs22m019/DL%20Final%20Assignment%201</a>"
            ],
            "text/plain": [
              "<IPython.core.display.HTML object>"
            ]
          },
          "metadata": {},
          "output_type": "display_data"
        },
        {
          "data": {
            "text/html": [
              " View sweep at <a href='https://wandb.ai/cs22m019/DL%20Final%20Assignment%201/sweeps/eayjxkwm' target=\"_blank\">https://wandb.ai/cs22m019/DL%20Final%20Assignment%201/sweeps/eayjxkwm</a>"
            ],
            "text/plain": [
              "<IPython.core.display.HTML object>"
            ]
          },
          "metadata": {},
          "output_type": "display_data"
        },
        {
          "data": {
            "text/html": [
              " View run at <a href='https://wandb.ai/cs22m019/DL%20Final%20Assignment%201/runs/43d172oy' target=\"_blank\">https://wandb.ai/cs22m019/DL%20Final%20Assignment%201/runs/43d172oy</a>"
            ],
            "text/plain": [
              "<IPython.core.display.HTML object>"
            ]
          },
          "metadata": {},
          "output_type": "display_data"
        },
        {
          "name": "stdout",
          "output_type": "stream",
          "text": [
            "epoch:1, train loss:1.498814671809957, train accuracy:0.5339444444444444, validation loss:1.0642586936756449, validation accuracy:0.6716666666666666\n",
            "epoch:2, train loss:0.9180022118806388, train accuracy:0.709462962962963, validation loss:0.8206269122866364, validation accuracy:0.736\n",
            "epoch:3, train loss:0.7584688810454766, train accuracy:0.7552962962962962, validation loss:0.7134772563729227, validation accuracy:0.7665\n",
            "epoch:4, train loss:0.678054335273757, train accuracy:0.7787592592592593, validation loss:0.6512965468765702, validation accuracy:0.7823333333333333\n",
            "epoch:5, train loss:0.6279178247721706, train accuracy:0.7935, validation loss:0.6107272409160803, validation accuracy:0.7965\n",
            "epoch:6, train loss:0.5934774125064692, train accuracy:0.8038518518518518, validation loss:0.5800987895635525, validation accuracy:0.8036666666666666\n",
            "epoch:7, train loss:0.5680713276853724, train accuracy:0.8103888888888889, validation loss:0.558557778490425, validation accuracy:0.8098333333333333\n",
            "epoch:8, train loss:0.5484595376515944, train accuracy:0.8148888888888889, validation loss:0.5406775374751402, validation accuracy:0.8171666666666667\n",
            "epoch:9, train loss:0.5327627741617257, train accuracy:0.8194444444444444, validation loss:0.5271977353963374, validation accuracy:0.8203333333333334\n",
            "epoch:10, train loss:0.5199460992638146, train accuracy:0.8231666666666667, validation loss:0.5158988903630708, validation accuracy:0.8223333333333334\n"
          ]
        },
        {
          "data": {
            "text/html": [
              "Waiting for W&B process to finish... <strong style=\"color:green\">(success).</strong>"
            ],
            "text/plain": [
              "<IPython.core.display.HTML object>"
            ]
          },
          "metadata": {},
          "output_type": "display_data"
        },
        {
          "data": {
            "application/vnd.jupyter.widget-view+json": {
              "model_id": "301b44ed4ea94f6bb5b3a440781e3840",
              "version_major": 2,
              "version_minor": 0
            },
            "text/plain": [
              "VBox(children=(Label(value='0.001 MB of 0.001 MB uploaded (0.000 MB deduped)\\r'), FloatProgress(value=1.0, max…"
            ]
          },
          "metadata": {},
          "output_type": "display_data"
        },
        {
          "data": {
            "text/html": [
              "<style>\n",
              "    table.wandb td:nth-child(1) { padding: 0 10px; text-align: left ; width: auto;} td:nth-child(2) {text-align: left ; width: 100%}\n",
              "    .wandb-row { display: flex; flex-direction: row; flex-wrap: wrap; justify-content: flex-start; width: 100% }\n",
              "    .wandb-col { display: flex; flex-direction: column; flex-basis: 100%; flex: 1; padding: 10px; }\n",
              "    </style>\n",
              "<div class=\"wandb-row\"><div class=\"wandb-col\"><h3>Run history:</h3><br/><table class=\"wandb\"><tr><td>train accuracy</td><td>▁▅▆▇▇█████</td></tr><tr><td>train loss</td><td>█▄▃▂▂▂▁▁▁▁</td></tr><tr><td>validation accuracy</td><td>▁▄▅▆▇▇▇███</td></tr><tr><td>validation loss</td><td>█▅▄▃▂▂▂▁▁▁</td></tr></table><br/></div><div class=\"wandb-col\"><h3>Run summary:</h3><br/><table class=\"wandb\"><tr><td>train accuracy</td><td>0.82317</td></tr><tr><td>train loss</td><td>0.51995</td></tr><tr><td>validation accuracy</td><td>0.82233</td></tr><tr><td>validation loss</td><td>0.5159</td></tr></table><br/></div></div>"
            ],
            "text/plain": [
              "<IPython.core.display.HTML object>"
            ]
          },
          "metadata": {},
          "output_type": "display_data"
        },
        {
          "data": {
            "text/html": [
              " View run <strong style=\"color:#cdcd00\">lemon-sweep-97</strong> at: <a href='https://wandb.ai/cs22m019/DL%20Final%20Assignment%201/runs/43d172oy' target=\"_blank\">https://wandb.ai/cs22m019/DL%20Final%20Assignment%201/runs/43d172oy</a><br/>Synced 6 W&B file(s), 0 media file(s), 0 artifact file(s) and 0 other file(s)"
            ],
            "text/plain": [
              "<IPython.core.display.HTML object>"
            ]
          },
          "metadata": {},
          "output_type": "display_data"
        },
        {
          "data": {
            "text/html": [
              "Find logs at: <code>.\\wandb\\run-20230310_044851-43d172oy\\logs</code>"
            ],
            "text/plain": [
              "<IPython.core.display.HTML object>"
            ]
          },
          "metadata": {},
          "output_type": "display_data"
        },
        {
          "name": "stderr",
          "output_type": "stream",
          "text": [
            "\u001b[34m\u001b[1mwandb\u001b[0m: Agent Starting Run: tablwsl9 with config:\n",
            "\u001b[34m\u001b[1mwandb\u001b[0m: \tactivation: tanh\n",
            "\u001b[34m\u001b[1mwandb\u001b[0m: \tbatch_size: 64\n",
            "\u001b[34m\u001b[1mwandb\u001b[0m: \tepochs: 5\n",
            "\u001b[34m\u001b[1mwandb\u001b[0m: \tlearning_rate: 0.001\n",
            "\u001b[34m\u001b[1mwandb\u001b[0m: \tnumber_of_hidden_layer: 4\n",
            "\u001b[34m\u001b[1mwandb\u001b[0m: \toptimizer: adam\n",
            "\u001b[34m\u001b[1mwandb\u001b[0m: \tsize_of_hidden_layer: 32\n",
            "\u001b[34m\u001b[1mwandb\u001b[0m: \tweight_decay: 0.5\n",
            "\u001b[34m\u001b[1mwandb\u001b[0m: \tweight_initialization: random\n"
          ]
        },
        {
          "data": {
            "text/html": [
              "Tracking run with wandb version 0.13.11"
            ],
            "text/plain": [
              "<IPython.core.display.HTML object>"
            ]
          },
          "metadata": {},
          "output_type": "display_data"
        },
        {
          "data": {
            "text/html": [
              "Run data is saved locally in <code>C:\\Users\\DELL\\Desktop\\wandb\\run-20230310_045105-tablwsl9</code>"
            ],
            "text/plain": [
              "<IPython.core.display.HTML object>"
            ]
          },
          "metadata": {},
          "output_type": "display_data"
        },
        {
          "data": {
            "text/html": [
              "Syncing run <strong><a href='https://wandb.ai/cs22m019/DL%20Final%20Assignment%201/runs/tablwsl9' target=\"_blank\">proud-sweep-98</a></strong> to <a href='https://wandb.ai/cs22m019/DL%20Final%20Assignment%201' target=\"_blank\">Weights & Biases</a> (<a href='https://wandb.me/run' target=\"_blank\">docs</a>)<br/>Sweep page: <a href='https://wandb.ai/cs22m019/DL%20Final%20Assignment%201/sweeps/eayjxkwm' target=\"_blank\">https://wandb.ai/cs22m019/DL%20Final%20Assignment%201/sweeps/eayjxkwm</a>"
            ],
            "text/plain": [
              "<IPython.core.display.HTML object>"
            ]
          },
          "metadata": {},
          "output_type": "display_data"
        },
        {
          "data": {
            "text/html": [
              " View project at <a href='https://wandb.ai/cs22m019/DL%20Final%20Assignment%201' target=\"_blank\">https://wandb.ai/cs22m019/DL%20Final%20Assignment%201</a>"
            ],
            "text/plain": [
              "<IPython.core.display.HTML object>"
            ]
          },
          "metadata": {},
          "output_type": "display_data"
        },
        {
          "data": {
            "text/html": [
              " View sweep at <a href='https://wandb.ai/cs22m019/DL%20Final%20Assignment%201/sweeps/eayjxkwm' target=\"_blank\">https://wandb.ai/cs22m019/DL%20Final%20Assignment%201/sweeps/eayjxkwm</a>"
            ],
            "text/plain": [
              "<IPython.core.display.HTML object>"
            ]
          },
          "metadata": {},
          "output_type": "display_data"
        },
        {
          "data": {
            "text/html": [
              " View run at <a href='https://wandb.ai/cs22m019/DL%20Final%20Assignment%201/runs/tablwsl9' target=\"_blank\">https://wandb.ai/cs22m019/DL%20Final%20Assignment%201/runs/tablwsl9</a>"
            ],
            "text/plain": [
              "<IPython.core.display.HTML object>"
            ]
          },
          "metadata": {},
          "output_type": "display_data"
        },
        {
          "name": "stdout",
          "output_type": "stream",
          "text": [
            "epoch:1, train loss:4.1973742576639665, train accuracy:0.12261111111111112, validation loss:3.334376571914317, validation accuracy:0.18016666666666667\n",
            "epoch:2, train loss:2.8860579661189325, train accuracy:0.24996296296296297, validation loss:2.564480800759343, validation accuracy:0.30316666666666664\n",
            "epoch:3, train loss:2.3678298441653105, train accuracy:0.33446296296296296, validation loss:2.216962828396242, validation accuracy:0.362\n",
            "epoch:4, train loss:2.1076403291113683, train accuracy:0.3867407407407407, validation loss:2.0163798497089296, validation accuracy:0.4105\n",
            "epoch:5, train loss:1.9392973372742175, train accuracy:0.4315555555555556, validation loss:1.8725013043845915, validation accuracy:0.45\n"
          ]
        },
        {
          "data": {
            "text/html": [
              "Waiting for W&B process to finish... <strong style=\"color:green\">(success).</strong>"
            ],
            "text/plain": [
              "<IPython.core.display.HTML object>"
            ]
          },
          "metadata": {},
          "output_type": "display_data"
        },
        {
          "data": {
            "text/html": [
              "<style>\n",
              "    table.wandb td:nth-child(1) { padding: 0 10px; text-align: left ; width: auto;} td:nth-child(2) {text-align: left ; width: 100%}\n",
              "    .wandb-row { display: flex; flex-direction: row; flex-wrap: wrap; justify-content: flex-start; width: 100% }\n",
              "    .wandb-col { display: flex; flex-direction: column; flex-basis: 100%; flex: 1; padding: 10px; }\n",
              "    </style>\n",
              "<div class=\"wandb-row\"><div class=\"wandb-col\"><h3>Run history:</h3><br/><table class=\"wandb\"><tr><td>train accuracy</td><td>▁▄▆▇█</td></tr><tr><td>train loss</td><td>█▄▂▂▁</td></tr><tr><td>validation accuracy</td><td>▁▄▆▇█</td></tr><tr><td>validation loss</td><td>█▄▃▂▁</td></tr></table><br/></div><div class=\"wandb-col\"><h3>Run summary:</h3><br/><table class=\"wandb\"><tr><td>train accuracy</td><td>0.43156</td></tr><tr><td>train loss</td><td>1.9393</td></tr><tr><td>validation accuracy</td><td>0.45</td></tr><tr><td>validation loss</td><td>1.8725</td></tr></table><br/></div></div>"
            ],
            "text/plain": [
              "<IPython.core.display.HTML object>"
            ]
          },
          "metadata": {},
          "output_type": "display_data"
        },
        {
          "data": {
            "text/html": [
              " View run <strong style=\"color:#cdcd00\">proud-sweep-98</strong> at: <a href='https://wandb.ai/cs22m019/DL%20Final%20Assignment%201/runs/tablwsl9' target=\"_blank\">https://wandb.ai/cs22m019/DL%20Final%20Assignment%201/runs/tablwsl9</a><br/>Synced 6 W&B file(s), 0 media file(s), 0 artifact file(s) and 0 other file(s)"
            ],
            "text/plain": [
              "<IPython.core.display.HTML object>"
            ]
          },
          "metadata": {},
          "output_type": "display_data"
        },
        {
          "data": {
            "text/html": [
              "Find logs at: <code>.\\wandb\\run-20230310_045105-tablwsl9\\logs</code>"
            ],
            "text/plain": [
              "<IPython.core.display.HTML object>"
            ]
          },
          "metadata": {},
          "output_type": "display_data"
        },
        {
          "name": "stderr",
          "output_type": "stream",
          "text": [
            "\u001b[34m\u001b[1mwandb\u001b[0m: Agent Starting Run: m18zb2jy with config:\n",
            "\u001b[34m\u001b[1mwandb\u001b[0m: \tactivation: sigmoid\n",
            "\u001b[34m\u001b[1mwandb\u001b[0m: \tbatch_size: 32\n",
            "\u001b[34m\u001b[1mwandb\u001b[0m: \tepochs: 5\n",
            "\u001b[34m\u001b[1mwandb\u001b[0m: \tlearning_rate: 0.001\n",
            "\u001b[34m\u001b[1mwandb\u001b[0m: \tnumber_of_hidden_layer: 3\n",
            "\u001b[34m\u001b[1mwandb\u001b[0m: \toptimizer: nestrov\n",
            "\u001b[34m\u001b[1mwandb\u001b[0m: \tsize_of_hidden_layer: 64\n",
            "\u001b[34m\u001b[1mwandb\u001b[0m: \tweight_decay: 0.5\n",
            "\u001b[34m\u001b[1mwandb\u001b[0m: \tweight_initialization: Xavier\n"
          ]
        },
        {
          "data": {
            "application/vnd.jupyter.widget-view+json": {
              "model_id": "70620060bbe74da2b1a01306e2bb7e27",
              "version_major": 2,
              "version_minor": 0
            },
            "text/plain": [
              "VBox(children=(Label(value='Waiting for wandb.init()...\\r'), FloatProgress(value=0.016916666666656966, max=1.0…"
            ]
          },
          "metadata": {},
          "output_type": "display_data"
        },
        {
          "data": {
            "text/html": [
              "Tracking run with wandb version 0.13.11"
            ],
            "text/plain": [
              "<IPython.core.display.HTML object>"
            ]
          },
          "metadata": {},
          "output_type": "display_data"
        },
        {
          "data": {
            "text/html": [
              "Run data is saved locally in <code>C:\\Users\\DELL\\Desktop\\wandb\\run-20230310_045203-m18zb2jy</code>"
            ],
            "text/plain": [
              "<IPython.core.display.HTML object>"
            ]
          },
          "metadata": {},
          "output_type": "display_data"
        },
        {
          "data": {
            "text/html": [
              "Syncing run <strong><a href='https://wandb.ai/cs22m019/DL%20Final%20Assignment%201/runs/m18zb2jy' target=\"_blank\">major-sweep-99</a></strong> to <a href='https://wandb.ai/cs22m019/DL%20Final%20Assignment%201' target=\"_blank\">Weights & Biases</a> (<a href='https://wandb.me/run' target=\"_blank\">docs</a>)<br/>Sweep page: <a href='https://wandb.ai/cs22m019/DL%20Final%20Assignment%201/sweeps/eayjxkwm' target=\"_blank\">https://wandb.ai/cs22m019/DL%20Final%20Assignment%201/sweeps/eayjxkwm</a>"
            ],
            "text/plain": [
              "<IPython.core.display.HTML object>"
            ]
          },
          "metadata": {},
          "output_type": "display_data"
        },
        {
          "data": {
            "text/html": [
              " View project at <a href='https://wandb.ai/cs22m019/DL%20Final%20Assignment%201' target=\"_blank\">https://wandb.ai/cs22m019/DL%20Final%20Assignment%201</a>"
            ],
            "text/plain": [
              "<IPython.core.display.HTML object>"
            ]
          },
          "metadata": {},
          "output_type": "display_data"
        },
        {
          "data": {
            "text/html": [
              " View sweep at <a href='https://wandb.ai/cs22m019/DL%20Final%20Assignment%201/sweeps/eayjxkwm' target=\"_blank\">https://wandb.ai/cs22m019/DL%20Final%20Assignment%201/sweeps/eayjxkwm</a>"
            ],
            "text/plain": [
              "<IPython.core.display.HTML object>"
            ]
          },
          "metadata": {},
          "output_type": "display_data"
        },
        {
          "data": {
            "text/html": [
              " View run at <a href='https://wandb.ai/cs22m019/DL%20Final%20Assignment%201/runs/m18zb2jy' target=\"_blank\">https://wandb.ai/cs22m019/DL%20Final%20Assignment%201/runs/m18zb2jy</a>"
            ],
            "text/plain": [
              "<IPython.core.display.HTML object>"
            ]
          },
          "metadata": {},
          "output_type": "display_data"
        },
        {
          "name": "stdout",
          "output_type": "stream",
          "text": [
            "epoch:1, train loss:2.3397719568456674, train accuracy:0.10433333333333333, validation loss:2.3137796876769494, validation accuracy:0.09433333333333334\n",
            "epoch:2, train loss:2.311905550391048, train accuracy:0.13596296296296295, validation loss:2.3111905145820892, validation accuracy:0.133\n",
            "epoch:3, train loss:2.3102004317950344, train accuracy:0.15974074074074074, validation loss:2.3094935376484838, validation accuracy:0.18816666666666668\n",
            "epoch:4, train loss:2.308512156952198, train accuracy:0.16324074074074074, validation loss:2.3079884204789884, validation accuracy:0.212\n",
            "epoch:5, train loss:2.3067480842523627, train accuracy:0.21344444444444444, validation loss:2.3061690589376607, validation accuracy:0.29833333333333334\n"
          ]
        },
        {
          "data": {
            "text/html": [
              "Waiting for W&B process to finish... <strong style=\"color:green\">(success).</strong>"
            ],
            "text/plain": [
              "<IPython.core.display.HTML object>"
            ]
          },
          "metadata": {},
          "output_type": "display_data"
        },
        {
          "data": {
            "text/html": [
              "<style>\n",
              "    table.wandb td:nth-child(1) { padding: 0 10px; text-align: left ; width: auto;} td:nth-child(2) {text-align: left ; width: 100%}\n",
              "    .wandb-row { display: flex; flex-direction: row; flex-wrap: wrap; justify-content: flex-start; width: 100% }\n",
              "    .wandb-col { display: flex; flex-direction: column; flex-basis: 100%; flex: 1; padding: 10px; }\n",
              "    </style>\n",
              "<div class=\"wandb-row\"><div class=\"wandb-col\"><h3>Run history:</h3><br/><table class=\"wandb\"><tr><td>train accuracy</td><td>▁▃▅▅█</td></tr><tr><td>train loss</td><td>█▂▂▁▁</td></tr><tr><td>validation accuracy</td><td>▁▂▄▅█</td></tr><tr><td>validation loss</td><td>█▆▄▃▁</td></tr></table><br/></div><div class=\"wandb-col\"><h3>Run summary:</h3><br/><table class=\"wandb\"><tr><td>train accuracy</td><td>0.21344</td></tr><tr><td>train loss</td><td>2.30675</td></tr><tr><td>validation accuracy</td><td>0.29833</td></tr><tr><td>validation loss</td><td>2.30617</td></tr></table><br/></div></div>"
            ],
            "text/plain": [
              "<IPython.core.display.HTML object>"
            ]
          },
          "metadata": {},
          "output_type": "display_data"
        },
        {
          "data": {
            "text/html": [
              " View run <strong style=\"color:#cdcd00\">major-sweep-99</strong> at: <a href='https://wandb.ai/cs22m019/DL%20Final%20Assignment%201/runs/m18zb2jy' target=\"_blank\">https://wandb.ai/cs22m019/DL%20Final%20Assignment%201/runs/m18zb2jy</a><br/>Synced 6 W&B file(s), 0 media file(s), 0 artifact file(s) and 0 other file(s)"
            ],
            "text/plain": [
              "<IPython.core.display.HTML object>"
            ]
          },
          "metadata": {},
          "output_type": "display_data"
        },
        {
          "data": {
            "text/html": [
              "Find logs at: <code>.\\wandb\\run-20230310_045203-m18zb2jy\\logs</code>"
            ],
            "text/plain": [
              "<IPython.core.display.HTML object>"
            ]
          },
          "metadata": {},
          "output_type": "display_data"
        },
        {
          "name": "stderr",
          "output_type": "stream",
          "text": [
            "\u001b[34m\u001b[1mwandb\u001b[0m: Agent Starting Run: xzqcyfxg with config:\n",
            "\u001b[34m\u001b[1mwandb\u001b[0m: \tactivation: sigmoid\n",
            "\u001b[34m\u001b[1mwandb\u001b[0m: \tbatch_size: 64\n",
            "\u001b[34m\u001b[1mwandb\u001b[0m: \tepochs: 10\n",
            "\u001b[34m\u001b[1mwandb\u001b[0m: \tlearning_rate: 0.001\n",
            "\u001b[34m\u001b[1mwandb\u001b[0m: \tnumber_of_hidden_layer: 5\n",
            "\u001b[34m\u001b[1mwandb\u001b[0m: \toptimizer: nestrov\n",
            "\u001b[34m\u001b[1mwandb\u001b[0m: \tsize_of_hidden_layer: 128\n",
            "\u001b[34m\u001b[1mwandb\u001b[0m: \tweight_decay: 0\n",
            "\u001b[34m\u001b[1mwandb\u001b[0m: \tweight_initialization: Xavier\n"
          ]
        },
        {
          "data": {
            "text/html": [
              "Tracking run with wandb version 0.13.11"
            ],
            "text/plain": [
              "<IPython.core.display.HTML object>"
            ]
          },
          "metadata": {},
          "output_type": "display_data"
        },
        {
          "data": {
            "text/html": [
              "Run data is saved locally in <code>C:\\Users\\DELL\\Desktop\\wandb\\run-20230310_045329-xzqcyfxg</code>"
            ],
            "text/plain": [
              "<IPython.core.display.HTML object>"
            ]
          },
          "metadata": {},
          "output_type": "display_data"
        },
        {
          "data": {
            "text/html": [
              "Syncing run <strong><a href='https://wandb.ai/cs22m019/DL%20Final%20Assignment%201/runs/xzqcyfxg' target=\"_blank\">firm-sweep-100</a></strong> to <a href='https://wandb.ai/cs22m019/DL%20Final%20Assignment%201' target=\"_blank\">Weights & Biases</a> (<a href='https://wandb.me/run' target=\"_blank\">docs</a>)<br/>Sweep page: <a href='https://wandb.ai/cs22m019/DL%20Final%20Assignment%201/sweeps/eayjxkwm' target=\"_blank\">https://wandb.ai/cs22m019/DL%20Final%20Assignment%201/sweeps/eayjxkwm</a>"
            ],
            "text/plain": [
              "<IPython.core.display.HTML object>"
            ]
          },
          "metadata": {},
          "output_type": "display_data"
        },
        {
          "data": {
            "text/html": [
              " View project at <a href='https://wandb.ai/cs22m019/DL%20Final%20Assignment%201' target=\"_blank\">https://wandb.ai/cs22m019/DL%20Final%20Assignment%201</a>"
            ],
            "text/plain": [
              "<IPython.core.display.HTML object>"
            ]
          },
          "metadata": {},
          "output_type": "display_data"
        },
        {
          "data": {
            "text/html": [
              " View sweep at <a href='https://wandb.ai/cs22m019/DL%20Final%20Assignment%201/sweeps/eayjxkwm' target=\"_blank\">https://wandb.ai/cs22m019/DL%20Final%20Assignment%201/sweeps/eayjxkwm</a>"
            ],
            "text/plain": [
              "<IPython.core.display.HTML object>"
            ]
          },
          "metadata": {},
          "output_type": "display_data"
        },
        {
          "data": {
            "text/html": [
              " View run at <a href='https://wandb.ai/cs22m019/DL%20Final%20Assignment%201/runs/xzqcyfxg' target=\"_blank\">https://wandb.ai/cs22m019/DL%20Final%20Assignment%201/runs/xzqcyfxg</a>"
            ],
            "text/plain": [
              "<IPython.core.display.HTML object>"
            ]
          },
          "metadata": {},
          "output_type": "display_data"
        },
        {
          "name": "stdout",
          "output_type": "stream",
          "text": [
            "epoch:1, train loss:2.335017821758593, train accuracy:0.09951851851851852, validation loss:2.3030432748213805, validation accuracy:0.0965\n",
            "epoch:2, train loss:2.3027997501126403, train accuracy:0.09953703703703703, validation loss:2.3030052798092724, validation accuracy:0.0965\n",
            "epoch:3, train loss:2.302774558442306, train accuracy:0.09933333333333333, validation loss:2.3028949656728313, validation accuracy:0.09433333333333334\n",
            "epoch:4, train loss:2.302757287096922, train accuracy:0.09864814814814815, validation loss:2.302702168749957, validation accuracy:0.10166666666666667\n",
            "epoch:5, train loss:2.3027606262349583, train accuracy:0.0995925925925926, validation loss:2.302889129324374, validation accuracy:0.09433333333333334\n",
            "epoch:6, train loss:2.3027275888026986, train accuracy:0.0990925925925926, validation loss:2.3026822970726735, validation accuracy:0.10166666666666667\n",
            "epoch:7, train loss:2.30275652896597, train accuracy:0.10011111111111111, validation loss:2.3028684913376014, validation accuracy:0.10316666666666667\n",
            "epoch:8, train loss:2.3027655006502834, train accuracy:0.09724074074074074, validation loss:2.302888589310587, validation accuracy:0.09433333333333334\n",
            "epoch:9, train loss:2.302755097182402, train accuracy:0.09898148148148148, validation loss:2.302702388826988, validation accuracy:0.10516666666666667\n",
            "epoch:10, train loss:2.302740630780307, train accuracy:0.09812962962962964, validation loss:2.302733605639757, validation accuracy:0.0985\n"
          ]
        },
        {
          "data": {
            "text/html": [
              "Waiting for W&B process to finish... <strong style=\"color:green\">(success).</strong>"
            ],
            "text/plain": [
              "<IPython.core.display.HTML object>"
            ]
          },
          "metadata": {},
          "output_type": "display_data"
        },
        {
          "data": {
            "application/vnd.jupyter.widget-view+json": {
              "model_id": "8daa6a997c4d4af9a3eca8bf1dcf2d79",
              "version_major": 2,
              "version_minor": 0
            },
            "text/plain": [
              "VBox(children=(Label(value='0.001 MB of 0.001 MB uploaded (0.000 MB deduped)\\r'), FloatProgress(value=1.0, max…"
            ]
          },
          "metadata": {},
          "output_type": "display_data"
        },
        {
          "data": {
            "text/html": [
              "<style>\n",
              "    table.wandb td:nth-child(1) { padding: 0 10px; text-align: left ; width: auto;} td:nth-child(2) {text-align: left ; width: 100%}\n",
              "    .wandb-row { display: flex; flex-direction: row; flex-wrap: wrap; justify-content: flex-start; width: 100% }\n",
              "    .wandb-col { display: flex; flex-direction: column; flex-basis: 100%; flex: 1; padding: 10px; }\n",
              "    </style>\n",
              "<div class=\"wandb-row\"><div class=\"wandb-col\"><h3>Run history:</h3><br/><table class=\"wandb\"><tr><td>train accuracy</td><td>▇▇▆▄▇▆█▁▅▃</td></tr><tr><td>train loss</td><td>█▁▁▁▁▁▁▁▁▁</td></tr><tr><td>validation accuracy</td><td>▂▂▁▆▁▆▇▁█▄</td></tr><tr><td>validation loss</td><td>█▇▅▁▅▁▅▅▁▂</td></tr></table><br/></div><div class=\"wandb-col\"><h3>Run summary:</h3><br/><table class=\"wandb\"><tr><td>train accuracy</td><td>0.09813</td></tr><tr><td>train loss</td><td>2.30274</td></tr><tr><td>validation accuracy</td><td>0.0985</td></tr><tr><td>validation loss</td><td>2.30273</td></tr></table><br/></div></div>"
            ],
            "text/plain": [
              "<IPython.core.display.HTML object>"
            ]
          },
          "metadata": {},
          "output_type": "display_data"
        },
        {
          "data": {
            "text/html": [
              " View run <strong style=\"color:#cdcd00\">firm-sweep-100</strong> at: <a href='https://wandb.ai/cs22m019/DL%20Final%20Assignment%201/runs/xzqcyfxg' target=\"_blank\">https://wandb.ai/cs22m019/DL%20Final%20Assignment%201/runs/xzqcyfxg</a><br/>Synced 6 W&B file(s), 0 media file(s), 0 artifact file(s) and 0 other file(s)"
            ],
            "text/plain": [
              "<IPython.core.display.HTML object>"
            ]
          },
          "metadata": {},
          "output_type": "display_data"
        },
        {
          "data": {
            "text/html": [
              "Find logs at: <code>.\\wandb\\run-20230310_045329-xzqcyfxg\\logs</code>"
            ],
            "text/plain": [
              "<IPython.core.display.HTML object>"
            ]
          },
          "metadata": {},
          "output_type": "display_data"
        }
      ],
      "source": [
        "wandb.agent(sweep_id=sweep_id,function = train,count = 50)"
      ]
    },
    {
      "cell_type": "code",
      "execution_count": null,
      "metadata": {
        "id": "m3iyn6OcEalY"
      },
      "outputs": [],
      "source": []
    }
  ],
  "metadata": {
    "colab": {
      "provenance": []
    },
    "kernelspec": {
      "display_name": "Python 3 (ipykernel)",
      "language": "python",
      "name": "python3"
    },
    "language_info": {
      "codemirror_mode": {
        "name": "ipython",
        "version": 3
      },
      "file_extension": ".py",
      "mimetype": "text/x-python",
      "name": "python",
      "nbconvert_exporter": "python",
      "pygments_lexer": "ipython3",
      "version": "3.9.13"
    }
  },
  "nbformat": 4,
  "nbformat_minor": 0
}