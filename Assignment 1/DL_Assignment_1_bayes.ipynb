{
  "cells": [
    {
      "cell_type": "code",
      "execution_count": null,
      "metadata": {
        "colab": {
          "base_uri": "https://localhost:8080/"
        },
        "id": "yZE3U_NS7KiB",
        "outputId": "185f863b-9808-4ef3-a280-e3df2be5f48b"
      },
      "outputs": [
        {
          "name": "stdout",
          "output_type": "stream",
          "text": [
            "Requirement already satisfied: wandb in c:\\users\\dell\\anaconda3\\lib\\site-packages (0.13.11)\n",
            "Requirement already satisfied: setuptools in c:\\users\\dell\\anaconda3\\lib\\site-packages (from wandb) (63.4.1)\n",
            "Requirement already satisfied: Click!=8.0.0,>=7.0 in c:\\users\\dell\\anaconda3\\lib\\site-packages (from wandb) (8.0.4)\n",
            "Requirement already satisfied: requests<3,>=2.0.0 in c:\\users\\dell\\anaconda3\\lib\\site-packages (from wandb) (2.28.1)\n",
            "Requirement already satisfied: setproctitle in c:\\users\\dell\\anaconda3\\lib\\site-packages (from wandb) (1.3.2)\n",
            "Requirement already satisfied: typing-extensions in c:\\users\\dell\\anaconda3\\lib\\site-packages (from wandb) (4.3.0)\n",
            "Requirement already satisfied: PyYAML in c:\\users\\dell\\anaconda3\\lib\\site-packages (from wandb) (6.0)\n",
            "Requirement already satisfied: protobuf!=4.21.0,<5,>=3.19.0 in c:\\users\\dell\\anaconda3\\lib\\site-packages (from wandb) (3.19.6)\n",
            "Requirement already satisfied: pathtools in c:\\users\\dell\\anaconda3\\lib\\site-packages (from wandb) (0.1.2)\n",
            "Requirement already satisfied: appdirs>=1.4.3 in c:\\users\\dell\\anaconda3\\lib\\site-packages (from wandb) (1.4.4)\n",
            "Requirement already satisfied: GitPython!=3.1.29,>=1.0.0 in c:\\users\\dell\\anaconda3\\lib\\site-packages (from wandb) (3.1.31)\n",
            "Requirement already satisfied: sentry-sdk>=1.0.0 in c:\\users\\dell\\anaconda3\\lib\\site-packages (from wandb) (1.16.0)\n",
            "Requirement already satisfied: psutil>=5.0.0 in c:\\users\\dell\\anaconda3\\lib\\site-packages (from wandb) (5.9.0)\n",
            "Requirement already satisfied: docker-pycreds>=0.4.0 in c:\\users\\dell\\anaconda3\\lib\\site-packages (from wandb) (0.4.0)\n",
            "Requirement already satisfied: colorama in c:\\users\\dell\\anaconda3\\lib\\site-packages (from Click!=8.0.0,>=7.0->wandb) (0.4.5)\n",
            "Requirement already satisfied: six>=1.4.0 in c:\\users\\dell\\anaconda3\\lib\\site-packages (from docker-pycreds>=0.4.0->wandb) (1.16.0)\n",
            "Requirement already satisfied: gitdb<5,>=4.0.1 in c:\\users\\dell\\anaconda3\\lib\\site-packages (from GitPython!=3.1.29,>=1.0.0->wandb) (4.0.10)\n",
            "Requirement already satisfied: certifi>=2017.4.17 in c:\\users\\dell\\anaconda3\\lib\\site-packages (from requests<3,>=2.0.0->wandb) (2022.9.14)\n",
            "Requirement already satisfied: idna<4,>=2.5 in c:\\users\\dell\\anaconda3\\lib\\site-packages (from requests<3,>=2.0.0->wandb) (3.3)\n",
            "Requirement already satisfied: urllib3<1.27,>=1.21.1 in c:\\users\\dell\\anaconda3\\lib\\site-packages (from requests<3,>=2.0.0->wandb) (1.26.11)\n",
            "Requirement already satisfied: charset-normalizer<3,>=2 in c:\\users\\dell\\anaconda3\\lib\\site-packages (from requests<3,>=2.0.0->wandb) (2.0.4)\n",
            "Requirement already satisfied: smmap<6,>=3.0.1 in c:\\users\\dell\\anaconda3\\lib\\site-packages (from gitdb<5,>=4.0.1->GitPython!=3.1.29,>=1.0.0->wandb) (5.0.0)\n"
          ]
        }
      ],
      "source": [
        "!pip install wandb"
      ]
    },
    {
      "cell_type": "code",
      "execution_count": null,
      "metadata": {
        "id": "FEN8OmfA6oZb"
      },
      "outputs": [],
      "source": [
        "from tensorflow import keras\n",
        "from keras.datasets import fashion_mnist\n",
        "from keras.datasets import mnist\n",
        "import numpy as np\n",
        "from matplotlib import pyplot as plt\n",
        "import random\n",
        "import wandb\n",
        "import argparse\n",
        "from datetime import datetime\n",
        "import copy\n",
        "\n",
        "class FeedForward:\n",
        "\n",
        "    def __init__(self):\n",
        "\n",
        "        # defining the default parameters\n",
        "        self.parameters = {\n",
        "            \"wandb_project\": \"DL Assignment 1\",\n",
        "            \"wandb_entity\": \"cs22m019\",\n",
        "            \"dataset\": \"fashion_mnist\",\n",
        "            \"epochs\": 5,\n",
        "            \"batch_size\": 32,\n",
        "            \"loss\": \"cross_entropy\",\n",
        "            \"optimizer\": \"gd\",\n",
        "            \"learning_rate\": 0.1,\n",
        "            \"momentum\": 0.01,\n",
        "            \"beta\": 0.5,\n",
        "            \"beta1\": 0.5,\n",
        "            \"beta2\": 0.5,\n",
        "            \"epsilon\": 0.000001,\n",
        "            \"weight_decay\": 0.0,\n",
        "            \"weight_init\": \"random\",\n",
        "            \"num_layers\": 3,\n",
        "            \"hidden_size\": 128,\n",
        "            \"activation\": \"sigmoid\",\n",
        "            \"output_function\": \"softmax\"\n",
        "        }\n",
        "\n",
        "        # updating the parameters to the parameters given in command line\n",
        "        # self.update_parameters()\n",
        "\n",
        "       \n",
        "        # loading training and test data from fashion_mnist dataset or mnist dataset\n",
        "        if (self.parameters[\"dataset\"] == \"fashion_mnist\"):\n",
        "            (self.x_train, self.y_train), (self.x_test,self.y_test) = fashion_mnist.load_data()\n",
        "        else:\n",
        "            (self.x_train, self.y_train), (self.x_test,self.y_test) = mnist.load_data()\n",
        "\n",
        "        # normalizing data points\n",
        "        self.x_train = self.x_train / 255\n",
        "        self.x_test = self.x_test / 255\n",
        "\n",
        "        # computing number of samples in training and test data\n",
        "        self.train_n_samples = self.x_train.shape[0]\n",
        "        self.test_n_samples = self.x_test.shape[0]\n",
        "\n",
        "        # spiltting the data -> 90% train,10% test \n",
        "        idx = np.random.permutation(self.train_n_samples)\n",
        "        self.x_train = self.x_train[idx]\n",
        "        self.y_train = self.y_train[idx]\n",
        "\n",
        "        self.x_validate = self.x_train[: self.train_n_samples // 10]\n",
        "        self.y_validate = self.y_train[: self.train_n_samples // 10]\n",
        "\n",
        "        self.x_train = self.x_train[self.train_n_samples // 10:]\n",
        "        self.y_train = self.y_train[self.train_n_samples // 10:]\n",
        "\n",
        "        self.train_n_samples = self.x_train.shape[0]\n",
        "\n",
        "        # list of label titles -> actual output\n",
        "        self.title = [\"T-shirt/top\", \"Trouser\", \"PullOver\", \"Dress\",\n",
        "                      \"Coat\", \"Sandal\", \"Shirt\", \"Sneaker\", \"Bag\", \"Ankle Boot\"]\n",
        "        self.no_of_label = len(self.title)\n",
        "\n",
        "        # setting the class variables\n",
        "        self.epoch = self.parameters[\"epochs\"]\n",
        "        self.batch_size = self.parameters[\"batch_size\"]\n",
        "        self.lossFunction = self.parameters[\"loss\"]\n",
        "        self.optimizer = self.parameters[\"optimizer\"]\n",
        "        self.learningRate = self.parameters[\"learning_rate\"]\n",
        "        self.weightInitialization = self.parameters[\"weight_init\"]\n",
        "        self.L = self.parameters[\"num_layers\"] + 1\n",
        "        self.hl = self.parameters[\"num_layers\"]\n",
        "        self.nnl = self.parameters[\"hidden_size\"]\n",
        "        self.activationFunction = self.parameters[\"activation\"]\n",
        "        self.outputFunction = self.parameters[\"output_function\"]\n",
        "        self.weight_decay = self.parameters[\"weight_decay\"]\n",
        "        self.k = len(self.title)\n",
        "        self.d = self.x_train.shape[1] * self.x_train.shape[2]\n",
        "        self.n = self.train_n_samples\n",
        "        self.weights = {}\n",
        "        self.bias = {}\n",
        "        self.wHistory = {}\n",
        "        self.bHistory = {}\n",
        "        self.wMomentum = {}\n",
        "        self.bMomentum = {}\n",
        "        self.prev_wHistory = {}\n",
        "        self.prev_bHistory = {}\n",
        "        self.pre_activation = {}\n",
        "        self.post_activation = {}\n",
        "        \n",
        "    # updates the default parameters with the paramters given in command line\n",
        "    def update_parameters(self):\n",
        "\n",
        "        parser = argparse.ArgumentParser(description='DL Assignment 1 Parser')\n",
        "\n",
        "        parser.add_argument('-wp', '--wandb_project',\n",
        "                            type=str, metavar='', help='wandb project')\n",
        "        parser.add_argument('-we', '--wandb_entity', type=str,\n",
        "                            metavar='', help='wandb entity')\n",
        "        parser.add_argument('-d', '--dataset', type=str,\n",
        "                            metavar='', help='dataset')\n",
        "        parser.add_argument('-e', '--epochs', type=int,\n",
        "                            metavar='', help='epochs')\n",
        "        parser.add_argument('-b', '--batch_size', type=int,\n",
        "                            metavar='', help='batch size')\n",
        "        parser.add_argument('-l', '--loss', type=str, \n",
        "                            metavar='', help='loss')\n",
        "        parser.add_argument('-o', '--optimizer', type=str,\n",
        "                            metavar='', help='optimizer')\n",
        "        parser.add_argument('-lr', '--learning_rate',\n",
        "                            type=float, metavar='', help='learning rate')\n",
        "        parser.add_argument('-m', '--momentum', type=float,\n",
        "                            metavar='', help='momentum')\n",
        "        parser.add_argument('-beta', '--beta', type=float,\n",
        "                            metavar='', help='beta')\n",
        "        parser.add_argument('-beta1', '--beta1', type=float,\n",
        "                            metavar='', help='beta1')\n",
        "        parser.add_argument('-beta2', '--beta2', type=float,\n",
        "                            metavar='', help='beta2')\n",
        "        parser.add_argument('-eps', '--epsilon', type=float,\n",
        "                            metavar='', help='epsilon')\n",
        "        parser.add_argument('-w_d', '--weight_decay',\n",
        "                            type=float, metavar='', help='weight decay')\n",
        "        parser.add_argument('-w_i', '--weight_init', type=str,\n",
        "                            metavar='', help='weight init')\n",
        "        parser.add_argument('-nhl', '--num_layers', type=int,\n",
        "                            metavar='', help='num layers')\n",
        "        parser.add_argument('-sz', '--hidden_size', type=int,\n",
        "                            metavar='', help='hidden size')\n",
        "        parser.add_argument('-a', '--activation', type=str,\n",
        "                            metavar='', help='activation')\n",
        "        parser.add_argument('-of', '--output_function',\n",
        "                            type=str, metavar='', help='output function')\n",
        "        args = parser.parse_args()\n",
        "\n",
        "        if (args.wandb_project != None):\n",
        "            self.parameters[\"wandb_project\"] = args.wandb_project\n",
        "        if (args.wandb_entity != None):\n",
        "            self.parameters[\"wandb_entity\"] = args.wandb_entity\n",
        "        if (args.dataset != None):\n",
        "            self.parameters[\"dataset\"] = args.dataset\n",
        "        if (args.epochs != None):\n",
        "            self.parameters[\"epochs\"] = args.epochs\n",
        "        if (args.batch_size != None):\n",
        "            self.parameters[\"batch_size\"] = args.batch_size\n",
        "        if (args.loss != None):\n",
        "            self.parameters[\"loss\"] = args.loss\n",
        "        if (args.optimizer != None):\n",
        "            self.parameters[\"optimizer\"] = args.optimizer\n",
        "        if (args.learning_rate != None):\n",
        "            self.parameters[\"learning_rate\"] = args.learning_rate\n",
        "        if (args.momentum != None):\n",
        "            self.parameters[\"momentum\"] = args.momentum\n",
        "        if (args.beta != None):\n",
        "            self.parameters[\"beta\"] = args.beta\n",
        "        if (args.beta1 != None):\n",
        "            self.parameters[\"beta1\"] = args.beta1\n",
        "        if (args.beta2 != None):\n",
        "            self.parameters[\"beta2\"] = args.beta2\n",
        "        if (args.epsilon != None):\n",
        "            self.parameters[\"epsilon\"] = args.epsilon\n",
        "        if (args.weight_decay != None):\n",
        "            self.parameters[\"weight_decay\"] = args.weight_decay\n",
        "        if (args.weight_init != None):\n",
        "            self.parameters[\"weight_init\"] = args.weight_init\n",
        "        if (args.num_layers != None):\n",
        "            self.parameters[\"num_layers\"] = args.num_layers\n",
        "        if (args.hidden_size != None):\n",
        "            self.parameters[\"hidden_size\"] = args.hidden_size\n",
        "        if (args.activation != None):\n",
        "            self.parameters[\"activation\"] = args.activation\n",
        "\n",
        "    # function to initialize weights and bias based on type -> random or Xavier initialization\n",
        "    def weightsAndBiasInitializer(self):\n",
        "        if self.weightInitialization == \"Xavier\":\n",
        "\n",
        "            # first and last matrix \n",
        "            self.weights[\"w1\"] = np.random.uniform(-np.sqrt(6 / (self.nnl + self.d)), np.sqrt(6 / (self.nnl + self.d)), (self.nnl, self.d))\n",
        "            self.weights[\"w\" + str(self.L)] = np.random.uniform(-np.sqrt(6 / (self.k + self.nnl)),np.sqrt(6 / (self.k + self.nnl)), (self.k, self.nnl))\n",
        "\n",
        "            # Intermediate Matrices\n",
        "            for i in range(2, self.L):\n",
        "                self.weights[\"w\" + str(i)] = np.random.uniform(-np.sqrt(6 / (self.nnl + self.nnl)), np.sqrt(6 / (self.nnl + self.nnl)), (self.nnl, self.nnl))\n",
        "\n",
        "            # Last Vector\n",
        "            self.bias[\"b\" + str(self.L)] = np.random.uniform(-np.sqrt(6 / (self.k + 1)),np.sqrt(6 / (self.k + 1)), (self.k))\n",
        "\n",
        "            for i in range(1, self.L):\n",
        "                self.bias[\"b\" + str(i)] = np.random.uniform(-np.sqrt(6 / (self.nnl + 1)),np.sqrt(6 / (self.nnl + 1)), (self.nnl))\n",
        "\n",
        "        if self.weightInitialization == \"random\":\n",
        "            # initailzation of weights\n",
        "            '''\n",
        "                  W1 = (d,nnl)\n",
        "                  W2,..,W(L - 1) = (nnl,nnl)\n",
        "                  WL = (k,nnl)\n",
        "            '''\n",
        "            w1 = np.random.normal(0, 0.5, size=(self.nnl, self.d))\n",
        "            self.weights[\"w1\"] = w1\n",
        "            for i in range(2, self.L):\n",
        "                self.weights[\"w\" + str(i)] = np.random.normal(0,0.5, size=(self.nnl, self.nnl))\n",
        "            self.weights[\"w\" + str(self.L)] = np.random.normal(0,0.5, size=(self.k, self.nnl))\n",
        "\n",
        "            # initialization of bias\n",
        "            for i in range(1, self.L):\n",
        "                self.bias[\"b\" + str(i)] = np.random.normal(0,0.5, size=(self.nnl))\n",
        "            self.bias[\"b\" + str(self.L)] = np.random.normal(0,0.5, size=(self.k))\n",
        "\n",
        "    # function to initialize momentum for weights and bias\n",
        "    def momentumInitializer(self):\n",
        "\n",
        "        # initializing momentum for weights\n",
        "        w1 = np.zeros((self.nnl, self.d))\n",
        "        self.wMomentum[\"w1\"] = w1\n",
        "        for i in range(2, self.L):\n",
        "            self.wMomentum[\"w\" + str(i)] = np.zeros((self.nnl, self.nnl))\n",
        "        self.wMomentum[\"w\" + str(self.L)] = np.zeros((self.k, self.nnl))\n",
        "\n",
        "        # initializing momentum for bais\n",
        "        for i in range(1, self.L):\n",
        "            self.bMomentum[\"b\" + str(i)] = np.zeros((self.nnl))\n",
        "        self.bMomentum[\"b\" + str(self.L)] = np.zeros((self.k))\n",
        "\n",
        "    # function to initialize history for weights and bias\n",
        "    def historyInitializer(self):\n",
        "\n",
        "        # initializing history for weights\n",
        "        w1 = np.zeros((self.nnl, self.d))\n",
        "        self.wHistory[\"w1\"] = w1\n",
        "        for i in range(2, self.L):\n",
        "            self.wHistory[\"w\" + str(i)] = np.zeros((self.nnl, self.nnl))\n",
        "        self.wHistory[\"w\" + str(self.L)] = np.zeros((self.k, self.nnl))\n",
        "\n",
        "        # initializing history for bais\n",
        "        for i in range(1, self.L):\n",
        "            self.bHistory[\"b\" + str(i)] = np.zeros((self.nnl))\n",
        "        self.bHistory[\"b\" + str(self.L)] = np.zeros((self.k))\n",
        "\n",
        "    # function used to implement different activation functions\n",
        "    def activation_func(self, vector):\n",
        "        if self.activationFunction == \"sigmoid\":\n",
        "            return 1.0 / (1 + np.exp(-(vector)))\n",
        "        \n",
        "        if self.activationFunction == \"tanh\":\n",
        "            return np.tanh(vector)\n",
        "        \n",
        "        if self.activationFunction == \"ReLU\":\n",
        "            return np.maximum(0,vector)\n",
        "\n",
        "    # function used to implement different output functions\n",
        "    def output_func(self, vector):\n",
        "        if self.outputFunction == \"softmax\":\n",
        "\n",
        "            vector = vector - vector[np.argmax(vector)]\n",
        "\n",
        "            return np.exp(vector) / np.sum(np.exp(vector))\n",
        "\n",
        "    # function generating one-hot vector\n",
        "    def oneHotVector(self, size, index):\n",
        "        oneHot = np.zeros(size)\n",
        "        oneHot[index] = 1.0\n",
        "        return oneHot\n",
        "\n",
        "    # function returning the differentiation of activation function\n",
        "    def differentiation(self, vector):\n",
        "\n",
        "        if self.activationFunction == \"sigmoid\":\n",
        "            return (1.0 / (1 + np.exp(-(vector)))) * (1 - 1.0 / (1 + np.exp(-(vector))))\n",
        "\n",
        "        if self.activationFunction == \"tanh\":\n",
        "            return 1 - (np.tanh(vector)) ** 2\n",
        "\n",
        "        if self.activationFunction == \"ReLU\":\n",
        "            t = np.maximum(0,vector)\n",
        "            t[t > 0] = 1\n",
        "            return t\n",
        "\n",
        "    # regularization\n",
        "    def regularize(self):\n",
        "        reg_term = 0\n",
        "        validation_size = self.y_validate.shape[0]\n",
        "        \n",
        "        for (key,value) in self.weights.items():\n",
        "          reg_term += (np.sum(self.weights[key] ** 2))\n",
        "        reg_term = (self.weight_decay / (2 * validation_size)) * reg_term\n",
        "\n",
        "        return reg_term\n",
        "\n",
        "    # function returning the loss function value\n",
        "    def loss_function(self, y_predicted, index):\n",
        "\n",
        "        if self.lossFunction == \"cross_entropy\":\n",
        "            t = 1e-8\n",
        "            return (-1)*np.log(y_predicted[index] + t)\n",
        "\n",
        "        if self.lossFunction == \"mean_squared_error\":\n",
        "            y = self.oneHotVector(size=self.no_of_label, index=index)\n",
        "            return np.sum((y_predicted - y) ** 2)\n",
        "\n",
        "    # forward propagation - computes pre_activation vector,post_activation vector for each layer and predicts y at last layer\n",
        "    def forward_propagation(self, input, index):\n",
        "\n",
        "        # Populating pre_activation and post_activation vectors to dictionary in each layer for input[index]\n",
        "        for k in range(1, self.L):\n",
        "\n",
        "            # for first layer,post activation will be input\n",
        "            if (k == 1):\n",
        "                ''' flattening the input: \n",
        "                    -input(60000,28,28)\n",
        "                    -input[index] size = (28,28)\n",
        "                    -flattening input[index] gives size (784,1) = (d,1) where d is dimension of input\n",
        "                    post_activation[h0] size = (d,1)\n",
        "                    bias[b1] size = (nnl,1)\n",
        "                    weights[w1] size = (nnl,d)\n",
        "                    Therefore we get pre_activation[a1] size = (nnl,1) for all layer except last layer\n",
        "                '''\n",
        "                self.post_activation[\"h\" + str(k - 1)] = input[index].flatten()\n",
        "\n",
        "            # computing a(k) = b(k) + w(k)*h(k - 1) for each input[index]\n",
        "            self.pre_activation[\"a\" + str(k)] = self.bias[\"b\" + str(k)] + np.dot(self.weights[\"w\" + str(k)], self.post_activation[\"h\" + str(k - 1)])\n",
        "           \n",
        "            # computing h(k) = g(a(k)) where g is activation function\n",
        "            self.post_activation[\"h\" + str(k)] = self.activation_func(self.pre_activation[\"a\" + str(k)])\n",
        "\n",
        "        # computing pre_activation for last layer\n",
        "        self.pre_activation[\"a\" + str(self.L)] = self.bias[\"b\" + str(self.L)] + np.dot(self.weights[\"w\" + str(self.L)], self.post_activation[\"h\" + str(self.L - 1)])\n",
        "\n",
        "        # prediction y (y_hat) = O(a(L)) where O is output function\n",
        "        # self.pre_activation[\"a\" + str(self.L)] = self.pre_activation[\"a\" + str(self.L)] / np.linalg.norm(self.pre_activation[\"a\" + str(self.L)])\n",
        "        self.post_activation[\"h\" +str(self.L)] = self.output_func(self.pre_activation[\"a\" + str(self.L)])\n",
        "\n",
        "    # performs back propagation and returns gradients of weights and bias\n",
        "    def backward_propagation(self, index, actual_y):\n",
        "\n",
        "        grad_pre_activation = {}\n",
        "        grad_post_activation = {}\n",
        "        grad_weights = {}\n",
        "        grad_bias = {}\n",
        "\n",
        "        predicted_y = self.post_activation[\"h\" + str(self.L)]\n",
        "\n",
        "        # Computing output gradient\n",
        "        one_hot_vector = self.oneHotVector(self.no_of_label, actual_y[index])\n",
        "        if self.lossFunction == \"cross_entropy\" :\n",
        "          grad_pre_activation[\"a\" + str(self.L)] = (predicted_y - one_hot_vector)\n",
        "        else :\n",
        "          grad_pre_activation[\"a\" + str(self.L)] = -2 * (one_hot_vector - predicted_y) * (predicted_y * (np.ones(self.no_of_label) - predicted_y))\n",
        "       \n",
        "        \n",
        "        k = self.L\n",
        "        while k > 0:\n",
        "\n",
        "            # Computing gradient w.r.t parameters - weight and bais\n",
        "            '''\n",
        "              np.reshape(grad_pre_activation[\"a\" + str(L)],(-1,1)) = (k,1)\n",
        "              np.reshape(post_activation[\"h\" + str(L - 1)],(1,-1)) = (1,nnl)\n",
        "            '''\n",
        "            grad_weights[\"w\" + str(k)] = np.dot(np.reshape(grad_pre_activation[\"a\" + str(k)], (-1, 1)), np.reshape(self.post_activation[\"h\" + str(k - 1)], (1, -1)))\n",
        "            grad_bias[\"b\" + str(k)] = grad_pre_activation[\"a\" + str(k)]\n",
        "\n",
        "            if k != 1:\n",
        "                # Computing gradient w.r.t layer below (post_activation)\n",
        "                grad_post_activation[\"h\" + str(k - 1)] = np.dot(self.weights[\"w\" + str(k)].T, np.reshape(grad_pre_activation[\"a\" + str(k)], (-1, 1))).flatten()\n",
        "\n",
        "                # Computing gradient w.r.t layer below (pre_activation)\n",
        "                g_dash = self.differentiation(self.pre_activation[\"a\" + str(k - 1)])\n",
        "                grad_pre_activation[\"a\" +str(k - 1)] = grad_post_activation[\"h\" + str(k - 1)] * g_dash\n",
        "\n",
        "            k = k - 1\n",
        "        return grad_weights, grad_bias\n",
        "\n",
        "    # function to make accumalated gradients zero\n",
        "    def make_accumalate_zero(self):\n",
        "\n",
        "        acc_grad_weights = {}\n",
        "        acc_grad_bias = {}\n",
        "\n",
        "        # accumalated weights are set to zero\n",
        "        acc_grad_weights[\"w1\"] = np.zeros((self.nnl, self.d))\n",
        "        for i in range(2, self.L):\n",
        "            acc_grad_weights[\"w\" + str(i)] = np.zeros((self.nnl, self.nnl))\n",
        "        acc_grad_weights[\"w\" + str(self.L)] = np.zeros((self.k, self.nnl))\n",
        "\n",
        "        # accumalated bias are set to zero\n",
        "        for i in range(1, self.L):\n",
        "            acc_grad_bias[\"b\" + str(i)] = np.zeros((self.nnl))\n",
        "        acc_grad_bias[\"b\" + str(self.L)] = np.zeros((self.k))\n",
        "\n",
        "        return acc_grad_weights, acc_grad_bias\n",
        "\n",
        "    # runs stochastic gradient descent for one epoch\n",
        "    def oneEpochSGD(self, epoch):\n",
        "        ''' Executes A Single Epoch for Stochastic Gradient Descent Algorithm.\n",
        "            Returns the training loss,training accuracy,validaiton loss and validation accuracy,averaged over all points. '''\n",
        "        # print(\"in sgd\")\n",
        "        n = self.train_n_samples\n",
        "        \n",
        "        # randomizing batches\n",
        "        idx = np.random.permutation(self.train_n_samples)\n",
        "        self.x_train = self.x_train[idx]\n",
        "        self.y_train = self.y_train[idx]\n",
        "\n",
        "        input = self.x_train\n",
        "        actual_y = self.y_train\n",
        "\n",
        "        # total Loss for epoch\n",
        "        loss_input = 0\n",
        "        count = 0\n",
        "\n",
        "        # execute one epoch for all datapoints in train set\n",
        "        for index in range(n):\n",
        "\n",
        "            # perform forward propagation\n",
        "            self.forward_propagation(input, index)\n",
        "            predicted_y = self.post_activation[\"h\" + str(self.L)]\n",
        "\n",
        "            # compute loss\n",
        "            loss_input += self.loss_function(predicted_y, actual_y[index])\n",
        "\n",
        "            # perform backward propagation\n",
        "            grad_weights, grad_bias = self.backward_propagation(index, actual_y)\n",
        "\n",
        "            # compute the number of datapoints which are correctly classified\n",
        "            indexWithMaxProb = np.argmax(predicted_y)\n",
        "            if (actual_y[index] == (indexWithMaxProb)):\n",
        "                count = count + 1\n",
        "\n",
        "            # update weights and bias if the number of datapoints in batch_size are divisble by batch_size\n",
        "            if ((index + 1) % self.batch_size == 0):\n",
        "                # update weights\n",
        "                for (key, value) in self.weights.items():\n",
        "                    self.weights[key] = self.weights[key] - ((self.learningRate / self.batch_size) * grad_weights[key])\n",
        "\n",
        "                # update bias\n",
        "                for (key, value) in self.bias.items():\n",
        "                    self.bias[key] = self.bias[key] - ((self.learningRate / self.batch_size) * grad_bias[key])\n",
        "\n",
        "        # if the number of datapoints in batch is not divisible by batch_size update weights and bias \n",
        "        if n % self.batch_size != 0:\n",
        "            # update weights\n",
        "            for (key, value) in self.weights.items():\n",
        "                self.weights[key] = self.weights[key] - ((self.learningRate / self.batch_size) * grad_weights[key])\n",
        "\n",
        "            # update bias\n",
        "            for (key, value) in self.bias.items():\n",
        "                self.bias[key] = self.bias[key] - ((self.learningRate / self.batch_size) * grad_bias[key])\n",
        "\n",
        "        # compute trainAccuracy,trainLoss averaged over train size\n",
        "        trainAccuracy = count / n\n",
        "        trainLoss = loss_input / n + self.regularize()\n",
        "\n",
        "        # compute validationAccuracy,validationLoss avergaed over test size \n",
        "        # print(\"in test\")\n",
        "        validationLoss, validationAccuracy = self.computeTestLossAndAccuracy()\n",
        "        \n",
        "        return trainLoss, trainAccuracy, validationLoss, validationAccuracy\n",
        "\n",
        "    # runs momentum gradient descent for one epoch\n",
        "    def oneEpochMOMENTUM(self, epoch):\n",
        "        ''' Executes A Single Epoch for Momentum Gradient Descent Algorithm.\n",
        "            Returns the training loss,training accuracy,validaiton loss and validation accuracy,averaged over all points. '''\n",
        "\n",
        "        n = self.train_n_samples\n",
        "        \n",
        "        # randomizing batches\n",
        "        idx = np.random.permutation(self.train_n_samples)\n",
        "        self.x_train = self.x_train[idx]\n",
        "        self.y_train = self.y_train[idx]\n",
        "\n",
        "        input = self.x_train\n",
        "        actual_y = self.y_train\n",
        "\n",
        "        # maintaining previous history for weights and bias\n",
        "        self.prev_wHistory, self.prev_bHistory = self.wHistory, self.bHistory\n",
        "\n",
        "        # Total Loss for epoch\n",
        "        loss_input = 0\n",
        "        count = 0  \n",
        "        beta = self.parameters[\"momentum\"]\n",
        "\n",
        "        # set accumalated gradients to zero\n",
        "        acc_grad_weights, acc_grad_bias = self.make_accumalate_zero()\n",
        "\n",
        "        # execute one epoch for all datapoints in train set\n",
        "        for index in range(n):\n",
        "\n",
        "            # perform forward propagation\n",
        "            self.forward_propagation(input, index)\n",
        "            predicted_y = self.post_activation[\"h\" + str(self.L)]\n",
        "\n",
        "            # compute loss\n",
        "            loss_input += self.loss_function(predicted_y, actual_y[index])\n",
        "\n",
        "            # perform backward propagation\n",
        "            grad_weights, grad_bias = self.backward_propagation(\n",
        "                index, actual_y)\n",
        "\n",
        "            # compute the number of datapoints which are correctly classified\n",
        "            indexWithMaxProb = np.argmax(predicted_y)\n",
        "            if (actual_y[index] == (indexWithMaxProb)):\n",
        "                count = count + 1\n",
        "\n",
        "            # accumulate grad_weights and grad_bais for each input\n",
        "            for (key, value) in grad_weights.items():\n",
        "                acc_grad_weights[key] = acc_grad_weights[key] + grad_weights[key]\n",
        "\n",
        "            for (key, value) in grad_bias.items():\n",
        "                acc_grad_bias[key] = acc_grad_bias[key] + grad_bias[key]\n",
        "\n",
        "\n",
        "            # update weights and bias if the number of datapoints in batch_size are divisble by batch_size\n",
        "            if ((index + 1) % self.batch_size == 0):\n",
        "\n",
        "                # update weight history\n",
        "                for (key, value) in self.wHistory.items():\n",
        "                    self.wHistory[key] = beta * self.prev_wHistory[key] + \\\n",
        "                        ((self.learningRate / self.batch_size) * acc_grad_weights[key])\n",
        "\n",
        "                # update bias history\n",
        "                for (key, value) in self.bHistory.items():\n",
        "                    self.bHistory[key] = beta * self.prev_bHistory[key] + \\\n",
        "                        ((self.learningRate / self.batch_size) * acc_grad_bias[key])\n",
        "\n",
        "                # update weights\n",
        "                for (key, value) in self.weights.items():\n",
        "                    self.weights[key] = self.weights[key] - self.wHistory[key]\n",
        "\n",
        "                # update bias\n",
        "                for (key, value) in self.bias.items():\n",
        "                    self.bias[key] = self.bias[key] - self.bHistory[key]\n",
        "\n",
        "                # updating histroy for weights and bias\n",
        "                self.prev_wHistory = self.wHistory\n",
        "                self.prev_bHistory = self.bHistory\n",
        "\n",
        "                # set accumalated gradients to zero\n",
        "                acc_grad_weights, acc_grad_bias = self.make_accumalate_zero()\n",
        "\n",
        "            # if the number of datapoints in batch is not divisible by batch_size update weights and bias \n",
        "        if n % self.batch_size != 0:\n",
        "            \n",
        "            # update weight history\n",
        "            for (key, value) in self.wHistory.items():\n",
        "                self.wHistory[key] = beta * self.prev_wHistory[key] + \\\n",
        "                    ((self.learningRate / self.batch_size) * acc_grad_weights[key])\n",
        "\n",
        "            # update bias history\n",
        "            for (key, value) in self.bHistory.items():\n",
        "                self.bHistory[key] = beta * self.prev_bHistory[key] + \\\n",
        "                    ((self.learningRate / self.batch_size) * acc_grad_bias[key])\n",
        "\n",
        "            # update weights\n",
        "            for (key, value) in self.weights.items():\n",
        "                self.weights[key] = self.weights[key] - self.wHistory[key]\n",
        "\n",
        "            # update bias\n",
        "            for (key, value) in self.bias.items():\n",
        "                self.bias[key] = self.bias[key] - self.bHistory[key]\n",
        "\n",
        "            # updating histroy for weights and bias\n",
        "            self.prev_wHistory = self.wHistory\n",
        "            self.prev_bHistory = self.bHistory\n",
        "\n",
        "            # set accumalated gradients to zero\n",
        "            acc_grad_weights, acc_grad_bias = self.make_accumalate_zero()\n",
        "\n",
        "        # compute trainAccuracy,trainLoss averaged over train size\n",
        "        trainAccuracy = count / n\n",
        "        trainLoss = loss_input / n + self.regularize()\n",
        "\n",
        "        # compute validationAccuracy,validationLoss averaged over test size \n",
        "        validationLoss, validationAccuracy = self.computeTestLossAndAccuracy()\n",
        "        \n",
        "        return trainLoss, trainAccuracy, validationLoss, validationAccuracy\n",
        "\n",
        "    # runs nestrov accelerated gradient descent for one epoch\n",
        "    def oneEpochNAG(self, epoch):\n",
        "        ''' Executes A Single Epoch for Nesterov Accelerated Gradient Descent Algorithm.\n",
        "            Returns the training loss,training accuracy,validaiton loss and validation accuracy,averaged over all points. '''\n",
        "        \n",
        "        n = self.train_n_samples\n",
        "        \n",
        "        # randomizing batches\n",
        "        idx = np.random.permutation(self.train_n_samples)\n",
        "        self.x_train = self.x_train[idx]\n",
        "        self.y_train = self.y_train[idx]\n",
        "\n",
        "        input = self.x_train\n",
        "        actual_y = self.y_train\n",
        "\n",
        "        # maintaining previous history for weights and bias\n",
        "        self.prev_wHistory, self.prev_bHistory = self.wHistory, self.bHistory\n",
        "        \n",
        "        # Total Loss for epoch\n",
        "        loss_input = 0\n",
        "        count = 0\n",
        "        beta = self.parameters[\"momentum\"]\n",
        "\n",
        "        # set accumalated gradients to zero\n",
        "        acc_grad_weights, acc_grad_bias = self.make_accumalate_zero()\n",
        "        \n",
        "        # computing partial values\n",
        "        self.partial_wHistory = {}\n",
        "        self.partial_bHistory = {}\n",
        "\n",
        "        for (key, value) in self.wHistory.items():\n",
        "            self.partial_wHistory[key] = beta * self.prev_wHistory[key]\n",
        "\n",
        "        for (key, value) in self.bHistory.items():\n",
        "            self.partial_bHistory[key] = beta * self.prev_bHistory[key]\n",
        "\n",
        "        # execute one epoch for all datapoints in train set\n",
        "        for index in range(n):\n",
        "\n",
        "            # perfrom forward propagation\n",
        "            self.forward_propagation(input, index)\n",
        "            predicted_y = self.post_activation[\"h\" + str(self.L)]\n",
        "\n",
        "            # storing weights and bias in temperory values\n",
        "            temp_weights = copy.deepcopy(self.weights)\n",
        "            temp_bias = copy.deepcopy(self.bias)\n",
        "\n",
        "            # update weights and bias\n",
        "            for (key, value) in self.weights.items():\n",
        "                self.weights[key] = self.weights[key] -  self.partial_wHistory[key]\n",
        "\n",
        "            for (key, value) in self.bias.items():\n",
        "                self.bias[key] = self.bias[key] - self.partial_bHistory[key]\n",
        "\n",
        "            # perform backward propagation\n",
        "            grad_weights, grad_bias = self.backward_propagation(index,actual_y)\n",
        "\n",
        "            # update weights and bias \n",
        "            self.weights = temp_weights\n",
        "            self.bias = temp_bias\n",
        "\n",
        "            # accumulate grad_weights and grad_bais for each input\n",
        "            for (key, value) in grad_weights.items():\n",
        "                acc_grad_weights[key] = acc_grad_weights[key] + grad_weights[key]\n",
        "\n",
        "            for (key, value) in grad_bias.items():\n",
        "                acc_grad_bias[key] = acc_grad_bias[key] + grad_bias[key]\n",
        "\n",
        "            # compute loss\n",
        "            loss_input += self.loss_function(predicted_y, self.y_train[index])\n",
        "\n",
        "            # compute the number of datapoints which are correctly classified\n",
        "            indexWithMaxProb = np.argmax(predicted_y)\n",
        "            if (actual_y[index] == (indexWithMaxProb)):\n",
        "                count = count + 1\n",
        "\n",
        "            # update weights and bias if the number of datapoints in batch_size are divisble by batch_size\n",
        "            if ((index + 1) % self.batch_size == 0):\n",
        "    \n",
        "                # update weight history\n",
        "                for (key, value) in self.wHistory.items():\n",
        "                    self.wHistory[key] = beta * self.prev_wHistory[key] + ((self.learningRate / self.batch_size) * acc_grad_weights[key])\n",
        "\n",
        "                # update bias history\n",
        "                for (key, value) in self.bHistory.items():\n",
        "                    self.bHistory[key] = beta * self.prev_bHistory[key] + ((self.learningRate / self.batch_size) * acc_grad_bias[key])\n",
        "\n",
        "                # update weights\n",
        "                for (key, value) in self.weights.items():\n",
        "                    self.weights[key] = self.weights[key] - self.wHistory[key]\n",
        "\n",
        "                for (key, value) in self.bias.items():\n",
        "                    self.bias[key] = self.bias[key] - self.bHistory[key]\n",
        "\n",
        "                # updating histroy for weights and bias\n",
        "                self.prev_wHistory = self.wHistory\n",
        "                self.prev_bHistory = self.bHistory\n",
        "                \n",
        "                # set accumalated gradients to zero\n",
        "                acc_grad_weights, acc_grad_bias = self.make_accumalate_zero()\n",
        "            \n",
        "        # if the number of datapoints in batch is not divisible by batch_size update weights and bias \n",
        "        if n % self.batch_size != 0:\n",
        "\n",
        "            # update weight history\n",
        "            for (key, value) in self.wHistory.items():\n",
        "                self.wHistory[key] = beta * self.prev_wHistory[key] + ((self.learningRate / self.batch_size) * acc_grad_weights[key])\n",
        "\n",
        "            # update bias history\n",
        "            for (key, value) in self.bHistory.items():\n",
        "                self.bHistory[key] = beta * self.prev_bHistory[key] + ((self.learningRate / self.batch_size) * acc_grad_bias[key])\n",
        "\n",
        "            # update weights\n",
        "            for (key, value) in self.weights.items():\n",
        "                self.weights[key] = self.weights[key] - self.wHistory[key]\n",
        "\n",
        "            for (key, value) in self.bias.items():\n",
        "                self.bias[key] = self.bias[key] - self.bHistory[key]\n",
        "\n",
        "            # updating histroy for weights and bias\n",
        "            self.prev_wHistory = self.wHistory\n",
        "            self.prev_bHistory = self.bHistory\n",
        "            \n",
        "            # set accumalated gradients to zero\n",
        "            acc_grad_weights, acc_grad_bias = self.make_accumalate_zero()\n",
        "                \n",
        "        # compute trainAccuracy,trainLoss averaged over train size\n",
        "        trainAccuracy = count / n\n",
        "        trainLoss = loss_input / n + self.regularize()\n",
        "\n",
        "        # compute validationAccuracy,validationLoss averaged over test size \n",
        "        validationLoss, validationAccuracy = self.computeTestLossAndAccuracy()\n",
        "        \n",
        "        return trainLoss, trainAccuracy, validationLoss, validationAccuracy\n",
        "\n",
        "    # runs RMSPROP for one epoch\n",
        "    def oneEpochRMSPROP(self,epoch):\n",
        "        ''' Executes A Single Epoch for RMSPROP Gradient Descent Algorithm.\n",
        "            Returns the training loss,training accuracy,validaiton loss and validation accuracy,averaged over all points. \n",
        "        '''\n",
        "        n = self.train_n_samples\n",
        "        \n",
        "        # randomizing batches\n",
        "        idx = np.random.permutation(self.train_n_samples)\n",
        "        self.x_train = self.x_train[idx]\n",
        "        self.y_train = self.y_train[idx]\n",
        "\n",
        "        input = self.x_train\n",
        "        actual_y = self.y_train\n",
        "\n",
        "\n",
        "        # maintaining previous history for weights and bias\n",
        "        prev_wHistory, prev_bHistory = self.wHistory, self.bHistory\n",
        "\n",
        "        # Total Loss for epoch\n",
        "        loss_input = 0\n",
        "        beta = self.parameters[\"beta\"]\n",
        "        eps = self.parameters[\"epsilon\"]\n",
        "        count = 0\n",
        "        \n",
        "        # set accumalated gradients to zero\n",
        "        acc_grad_weights, acc_grad_bias = self.make_accumalate_zero()\n",
        "\n",
        "        # execute one epoch for all datapoints in train set\n",
        "        for index in range(n):\n",
        "\n",
        "            # perfrom forward propagation\n",
        "            self.forward_propagation(input, index)\n",
        "            predicted_y = self.post_activation[\"h\" + str(self.L)]\n",
        "\n",
        "            # perform backward propagation\n",
        "            grad_weights, grad_bias = self.backward_propagation(index,actual_y)\n",
        "\n",
        "            # compute loss\n",
        "            loss_input += self.loss_function(predicted_y, self.y_train[index])\n",
        "\n",
        "            # compute the number of datapoints which are correctly classified\n",
        "            indexWithMaxProb = np.argmax(predicted_y)\n",
        "            if (actual_y[index] == (indexWithMaxProb)):\n",
        "                count = count + 1\n",
        "\n",
        "            # accumulate grad_weights and grad_bais for each input\n",
        "            for (key, value) in grad_weights.items():\n",
        "                acc_grad_weights[key] = acc_grad_weights[key] + grad_weights[key]\n",
        "\n",
        "            for (key, value) in grad_bias.items():\n",
        "                acc_grad_bias[key] = acc_grad_bias[key] + grad_bias[key]\n",
        "        \n",
        "\n",
        "            # update weights and bias if the number of datapoints in batch_size are divisble by batch_size\n",
        "            if ((index + 1) % self.batch_size == 0):\n",
        "    \n",
        "                # update weight history\n",
        "                for (key, value) in self.wHistory.items():\n",
        "                    self.wHistory[key] = beta * prev_wHistory[key] +  (1 - beta) * acc_grad_weights[key] ** 2\n",
        "\n",
        "                # update bias history\n",
        "                for (key, value) in self.bHistory.items():\n",
        "                    self.bHistory[key] = beta * prev_bHistory[key] + (1 - beta) * acc_grad_bias[key] ** 2\n",
        "\n",
        "                # update weights\n",
        "                for (key, value) in self.weights.items():\n",
        "                    self.weights[key] = self.weights[key] -  (self.learningRate / self.batch_size) * acc_grad_weights[key] / (np.sqrt(self.wHistory[key] + eps))\n",
        "\n",
        "                # update bias\n",
        "                for (key, value) in self.bias.items():\n",
        "                    self.bias[key] = self.bias[key] - (self.learningRate / self.batch_size) * acc_grad_bias[key] / (np.sqrt(self.bHistory[key] + eps))\n",
        "                \n",
        "                # updating histroy for weights and bias\n",
        "                self.prev_wHistory = self.wHistory\n",
        "                self.prev_bHistory = self.bHistory\n",
        "\n",
        "                # set accumalated gradients to zero\n",
        "                acc_grad_weights, acc_grad_bias = self.make_accumalate_zero()\n",
        "\n",
        "        # if the number of datapoints in batch is not divisible by batch_size update weights and bias \n",
        "        if n % self.batch_size != 0:\n",
        "            \n",
        "            # update weight history\n",
        "            for (key, value) in self.wHistory.items():\n",
        "                self.wHistory[key] = beta * prev_wHistory[key] +  (1 - beta) * acc_grad_weights[key] ** 2\n",
        "\n",
        "            # update bias history\n",
        "            for (key, value) in self.bHistory.items():\n",
        "                self.bHistory[key] = beta * prev_bHistory[key] + (1 - beta) * acc_grad_bias[key] ** 2\n",
        "\n",
        "            # update weights\n",
        "            for (key, value) in self.weights.items():\n",
        "                self.weights[key] = self.weights[key] -  (self.learningRate / self.batch_size) * acc_grad_weights[key] / (np.sqrt(self.wHistory[key] + eps))\n",
        "\n",
        "            # update bias\n",
        "            for (key, value) in self.bias.items():\n",
        "                self.bias[key] = self.bias[key] - (self.learningRate / self.batch_size) * acc_grad_bias[key] / (np.sqrt(self.bHistory[key] + eps))\n",
        "            \n",
        "            # updating histroy for weights and bias\n",
        "            self.prev_wHistory = self.wHistory\n",
        "            self.prev_bHistory = self.bHistory\n",
        "\n",
        "            # set accumalated gradients to zero\n",
        "            acc_grad_weights, acc_grad_bias = self.make_accumalate_zero()\n",
        "\n",
        "        # compute trainAccuracy,trainLoss averaged over train size\n",
        "        trainAccuracy = count / n\n",
        "        trainLoss = loss_input / n + self.regularize()\n",
        "\n",
        "        # compute validationAccuracy,validationLoss averaged over test size \n",
        "        validationLoss, validationAccuracy = self.computeTestLossAndAccuracy()\n",
        "        \n",
        "        return trainLoss, trainAccuracy, validationLoss, validationAccuracy\n",
        "\n",
        "    # runs ADAM gradient descent for one epoch\n",
        "    def oneEpochADAM(self,epoch):\n",
        "        ''' Executes A Single Epoch for ADAM Gradient Descent Algorithm.\n",
        "            Returns the training loss,training accuracy,validaiton loss and validation accuracy,averaged over all points. '''\n",
        "\n",
        "        n = self.train_n_samples\n",
        "        # randomizing batches\n",
        "        idx = np.random.permutation(self.train_n_samples)\n",
        "        self.x_train = self.x_train[idx]\n",
        "        self.y_train = self.y_train[idx]\n",
        "\n",
        "        input = self.x_train\n",
        "        actual_y = self.y_train\n",
        "\n",
        "        # maintaining previous history and momentum for weights and bias\n",
        "        prev_wMomentum, prev_bMomentum = self.wMomentum, self.bMomentum\n",
        "        prev_wHistory, prev_bHistory = self.wHistory, self.bHistory\n",
        "\n",
        "        wMomentum_hat = {} \n",
        "        bMomentum_hat = {}\n",
        "        wHistory_hat = {} \n",
        "        bHistory_hat = {}\n",
        "\n",
        "        # Total Loss for epoch\n",
        "        loss_input = 0\n",
        "        count = 0\n",
        "        beta1 = self.parameters[\"beta1\"]\n",
        "        beta2 = self.parameters[\"beta2\"]\n",
        "        epsilon = self.parameters[\"epsilon\"]\n",
        "        \n",
        "        # set accumalated gradients to zero\n",
        "        acc_grad_weights, acc_grad_bias = self.make_accumalate_zero()\n",
        "\n",
        "        # execute one epoch for all datapoints in train set\n",
        "        for index in range(n):\n",
        "\n",
        "            # perform forward propagation\n",
        "\n",
        "            self.forward_propagation(input, index)\n",
        "            predicted_y = self.post_activation[\"h\" + str(self.L)]\n",
        "\n",
        "            # perform backward propagation\n",
        "            grad_weights, grad_bias = self.backward_propagation(index,actual_y)\n",
        "\n",
        "            # compute loss\n",
        "            loss_input += self.loss_function(predicted_y, actual_y[index])\n",
        "\n",
        "            # compute the number of datapoints which are correctly classified\n",
        "            indexWithMaxProb = np.argmax(predicted_y)\n",
        "            if (actual_y[index] == (indexWithMaxProb)):\n",
        "                count = count + 1\n",
        "\n",
        "            # accumulate grad_weights and grad_bais for each input\n",
        "            for (key, value) in grad_weights.items():\n",
        "                acc_grad_weights[key] = acc_grad_weights[key] + grad_weights[key]\n",
        "\n",
        "            for (key, value) in grad_bias.items():\n",
        "                acc_grad_bias[key] = acc_grad_bias[key] + grad_bias[key]\n",
        "\n",
        "            # update weights and bias if the number of datapoints in batch_size are divisble by batch_size\n",
        "            if ((index + 1) % self.batch_size == 0):\n",
        "        \n",
        "                # update weight momentum\n",
        "                for (key, value) in self.wMomentum.items():\n",
        "                    self.wMomentum[key] = beta1*prev_wMomentum[key] +  (1 - beta1) * acc_grad_weights[key]\n",
        "\n",
        "                # update bias momentum\n",
        "                for (key, value) in self.bMomentum.items():\n",
        "                    self.bMomentum[key] = beta1*prev_bMomentum[key] + (1 - beta1) * acc_grad_bias[key]\n",
        "\n",
        "                # update weight history\n",
        "                for (key, value) in self.wHistory.items():\n",
        "                    self.wHistory[key] = beta2 * prev_wHistory[key] + (1 - beta2) * acc_grad_weights[key] ** 2\n",
        "\n",
        "                # update bias history\n",
        "                for (key, value) in self.bHistory.items():\n",
        "                    self.bHistory[key] = beta2 * prev_bHistory[key] + (1 - beta2) * acc_grad_bias[key] ** 2\n",
        "\n",
        "                \n",
        "                # compute intermediate values\n",
        "                for (key, value) in self.weights.items():\n",
        "                    wMomentum_hat[key] = self.wMomentum[key] / (1 - np.power(beta1, epoch + 1))\n",
        "\n",
        "                for (key, value) in self.bias.items():\n",
        "                    bMomentum_hat[key] = self.bMomentum[key] / (1 - np.power(beta1, epoch + 1))\n",
        "\n",
        "                for (key, value) in self.weights.items():\n",
        "                    wHistory_hat[key] = self.wHistory[key] / (1 - np.power(beta2, epoch + 1))\n",
        "\n",
        "                for (key, value) in self.bias.items():\n",
        "                    bHistory_hat[key] = self.bHistory[key] / (1 - np.power(beta2, epoch + 1))\n",
        "\n",
        "                # update weights\n",
        "                for (key, value) in self.weights.items():\n",
        "                    temp = (self.learningRate / self.batch_size) * wMomentum_hat[key] / (np.sqrt(wHistory_hat[key] + epsilon))\n",
        "                    self.weights[key] = self.weights[key] - temp\n",
        "                \n",
        "                # update bias\n",
        "                for (key, value) in self.bias.items():\n",
        "                    temp = (self.learningRate / self.batch_size) * bMomentum_hat[key] / (np.sqrt(bHistory_hat[key] + epsilon))\n",
        "                    self.bias[key] = self.bias[key] - temp\n",
        "\n",
        "                # set accumalated gradients to zero\n",
        "                acc_grad_weights, acc_grad_bias = self.make_accumalate_zero()\n",
        "            \n",
        "        # if the number of datapoints in batch is not divisible by batch_size update weights and bias \n",
        "        if n % self.batch_size != 0:\n",
        "            \n",
        "            # update weight momentum\n",
        "            for (key, value) in self.wMomentum.items():\n",
        "                self.wMomentum[key] = beta1*prev_wMomentum[key] +  (1 - beta1) * acc_grad_weights[key]\n",
        "\n",
        "            # update bias momentum\n",
        "            for (key, value) in self.bMomentum.items():\n",
        "                self.bMomentum[key] = beta1*prev_bMomentum[key] + (1 - beta1) * acc_grad_bias[key]\n",
        "\n",
        "            # update weight history\n",
        "            for (key, value) in self.wHistory.items():\n",
        "                self.wHistory[key] = beta2 * prev_wHistory[key] + (1 - beta2) * acc_grad_weights[key] ** 2\n",
        "\n",
        "            # update bias history\n",
        "            for (key, value) in self.bHistory.items():\n",
        "                self.bHistory[key] = beta2 * prev_bHistory[key] + (1 - beta2) * acc_grad_bias[key] ** 2\n",
        "\n",
        "            \n",
        "            # compute intermediate values\n",
        "            for (key, value) in self.weights.items():\n",
        "                wMomentum_hat[key] = self.wMomentum[key] / (1 - np.power(beta1, epoch + 1))\n",
        "\n",
        "            for (key, value) in self.bias.items():\n",
        "                bMomentum_hat[key] = self.bMomentum[key] / (1 - np.power(beta1, epoch + 1))\n",
        "\n",
        "            for (key, value) in self.weights.items():\n",
        "                wHistory_hat[key] = self.wHistory[key] / (1 - np.power(beta2, epoch + 1))\n",
        "\n",
        "            for (key, value) in self.bias.items():\n",
        "                bHistory_hat[key] = self.bHistory[key] / (1 - np.power(beta2, epoch + 1))\n",
        "\n",
        "            # update weights\n",
        "            for (key, value) in self.weights.items():\n",
        "                temp = (self.learningRate / self.batch_size) * wMomentum_hat[key] / (np.sqrt(wHistory_hat[key] + epsilon))\n",
        "                self.weights[key] = self.weights[key] - temp\n",
        "            \n",
        "            # update bias\n",
        "            for (key, value) in self.bias.items():\n",
        "                temp = (self.learningRate / self.batch_size) * bMomentum_hat[key] / (np.sqrt(bHistory_hat[key] + epsilon))\n",
        "                self.bias[key] = self.bias[key] - temp\n",
        "\n",
        "            # set accumalated gradients to zero\n",
        "            acc_grad_weights, acc_grad_bias = self.make_accumalate_zero()\n",
        "        \n",
        "        # compute trainAccuracy,trainLoss averaged over train size\n",
        "        trainAccuracy = count / n\n",
        "        trainLoss = loss_input / n + self.regularize()\n",
        "        \n",
        "        # compute validationAccuracy,validationLoss averaged over test size \n",
        "        validationLoss, validationAccuracy = self.computeTestLossAndAccuracy()\n",
        "        \n",
        "        return trainLoss, trainAccuracy, validationLoss, validationAccuracy\n",
        "\n",
        "    # runs NADAM gradient descent for one epoch\n",
        "    def oneEpochNADAM(self,epoch):\n",
        "        ''' Executes A Single Epoch for NADAM Gradient Descent Algorithm.\n",
        "            Returns the training loss,training accuracy,validaiton loss and validation accuracy,averaged over all points. '''\n",
        "\n",
        "        n = self.train_n_samples\n",
        "        \n",
        "        # randomizing batches\n",
        "        idx = np.random.permutation(self.train_n_samples)\n",
        "        self.x_train = self.x_train[idx]\n",
        "        self.y_train = self.y_train[idx]\n",
        "\n",
        "        input = self.x_train\n",
        "        actual_y = self.y_train\n",
        "\n",
        "        # maintaining previous history and momentum for weights and bias\n",
        "        prev_wMomentum, prev_bMomentum = self.wMomentum, self.bMomentum\n",
        "        prev_wHistory, prev_bHistory = self.wHistory, self.bHistory\n",
        "\n",
        "        wMomentum_hat = {} \n",
        "        bMomentum_hat = {}\n",
        "        wHistory_hat = {} \n",
        "        bHistory_hat = {}\n",
        "\n",
        "        # Total Loss for epoch\n",
        "        loss_input = 0\n",
        "        count = 0\n",
        "        beta1 = self.parameters[\"beta1\"]\n",
        "        beta2 = self.parameters[\"beta2\"]\n",
        "        epsilon = self.parameters[\"epsilon\"]\n",
        "\n",
        "\n",
        "        # set accumalated gradients to zero\n",
        "        acc_grad_weights, acc_grad_bias = self.make_accumalate_zero()\n",
        "\n",
        "        for index in range(n):\n",
        "\n",
        "            # perform forward propagation\n",
        "            self.forward_propagation(input, index)\n",
        "            predicted_y = self.post_activation[\"h\" + str(self.L)]\n",
        "\n",
        "            # perform backward propagation\n",
        "            grad_weights, grad_bias = self.backward_propagation(index,actual_y)\n",
        "\n",
        "            # compute loss\n",
        "            loss_input += self.loss_function(predicted_y, actual_y[index])\n",
        "\n",
        "            # compute the number of datapoints which are correctly classified\n",
        "            indexWithMaxProb = np.argmax(predicted_y)\n",
        "            if (actual_y[index] == (indexWithMaxProb)):\n",
        "                count = count + 1\n",
        "\n",
        "            # accumulate grad_weights and grad_bais for each input\n",
        "            for (key, value) in grad_weights.items():\n",
        "                acc_grad_weights[key] = acc_grad_weights[key] + grad_weights[key]\n",
        "\n",
        "            for (key, value) in grad_bias.items():\n",
        "                acc_grad_bias[key] = acc_grad_bias[key] + grad_bias[key]\n",
        "\n",
        "            # update weights and bias if the number of datapoints in batch_size are divisble by batch_size\n",
        "            if ((index + 1) % self.batch_size == 0):\n",
        "                \n",
        "                # update weight momentum\n",
        "                for (key, value) in self.wMomentum.items():\n",
        "                    self.wMomentum[key] = beta1*prev_wMomentum[key] + (1 - beta1) * acc_grad_weights[key]\n",
        "\n",
        "                # update bias momentum\n",
        "                for (key, value) in self.bMomentum.items():\n",
        "                    self.bMomentum[key] = beta1*prev_bMomentum[key] + (1 - beta1) * acc_grad_bias[key]\n",
        "\n",
        "                # update weight history\n",
        "                for (key, value) in self.wHistory.items():\n",
        "                    self.wHistory[key] = beta2 * prev_wHistory[key] + (1 - beta2) * acc_grad_weights[key] ** 2\n",
        "\n",
        "                # update bias history\n",
        "                for (key, value) in self.bHistory.items():\n",
        "                    self.bHistory[key] = beta2 * prev_bHistory[key] + (1 - beta2) * acc_grad_bias[key] ** 2\n",
        "\n",
        "\n",
        "                # compute intermediate values\n",
        "                for (key, value) in self.weights.items():\n",
        "                    wMomentum_hat[key] = self.wMomentum[key] / (1 - np.power(beta1, epoch + 1))\n",
        "                \n",
        "                for (key, value) in self.bias.items():\n",
        "                    bMomentum_hat[key] = self.bMomentum[key] / (1 - np.power(beta1, epoch + 1))\n",
        "\n",
        "                for (key, value) in self.weights.items():\n",
        "                    wHistory_hat[key] = self.wHistory[key] / (1 - np.power(beta2, epoch + 1))\n",
        "\n",
        "                for (key, value) in self.bias.items():\n",
        "                    bHistory_hat[key] = self.bHistory[key] / (1 - np.power(beta2, epoch + 1))\n",
        "\n",
        "                # update weights\n",
        "                for (key, value) in self.weights.items():\n",
        "                    num1 = ((self.learningRate / self.batch_size) / np.sqrt(wHistory_hat[key] + epsilon))\n",
        "                    num2 = beta1 * wMomentum_hat[key] + ((1 - beta1) * acc_grad_weights[key] / (1 - beta1 ** (epoch + 1)))\n",
        "                    self.weights[key] = self.weights[key] - num1*num2\n",
        "\n",
        "                # update bias\n",
        "                for (key, value) in self.bias.items():\n",
        "                    num1 = ((self.learningRate / self.batch_size) / np.sqrt(bHistory_hat[key] + epsilon))\n",
        "                    num2 = beta1 * bMomentum_hat[key] + ((1 - beta1) * acc_grad_bias[key] / (1 - beta1 ** (epoch + 1)))\n",
        "                    self.bias[key] = self.bias[key] - num1*num2\n",
        "\n",
        "                # set accumalated gradients to zero\n",
        "                acc_grad_weights, acc_grad_bias = self.make_accumalate_zero()\n",
        "            \n",
        "            # if the number of datapoints in batch is not divisible by batch_size update weights and bias \n",
        "        if n % self.batch_size != 0:\n",
        "            \n",
        "            # update weight momentum\n",
        "            for (key, value) in self.wMomentum.items():\n",
        "                self.wMomentum[key] = beta1*prev_wMomentum[key] + (1 - beta1) * acc_grad_weights[key]\n",
        "\n",
        "            # update bias momentum\n",
        "            for (key, value) in self.bMomentum.items():\n",
        "                self.bMomentum[key] = beta1*prev_bMomentum[key] + (1 - beta1) * acc_grad_bias[key]\n",
        "\n",
        "            # update weight history\n",
        "            for (key, value) in self.wHistory.items():\n",
        "                self.wHistory[key] = beta2 * prev_wHistory[key] + (1 - beta2) * acc_grad_weights[key] ** 2\n",
        "\n",
        "            # update bias history\n",
        "            for (key, value) in self.bHistory.items():\n",
        "                self.bHistory[key] = beta2 * prev_bHistory[key] + (1 - beta2) * acc_grad_bias[key] ** 2\n",
        "\n",
        "\n",
        "            # compute intermediate values\n",
        "            for (key, value) in self.weights.items():\n",
        "                wMomentum_hat[key] = self.wMomentum[key] / (1 - np.power(beta1, epoch + 1))\n",
        "            \n",
        "            for (key, value) in self.bias.items():\n",
        "                bMomentum_hat[key] = self.bMomentum[key] / (1 - np.power(beta1, epoch + 1))\n",
        "\n",
        "            for (key, value) in self.weights.items():\n",
        "                wHistory_hat[key] = self.wHistory[key] / (1 - np.power(beta2, epoch + 1))\n",
        "\n",
        "            for (key, value) in self.bias.items():\n",
        "                bHistory_hat[key] = self.bHistory[key] / (1 - np.power(beta2, epoch + 1))\n",
        "\n",
        "            # update weights\n",
        "            for (key, value) in self.weights.items():\n",
        "                num1 = ((self.learningRate / self.batch_size) / np.sqrt(wHistory_hat[key] + epsilon))\n",
        "                num2 = beta1 * wMomentum_hat[key] + ((1 - beta1) * acc_grad_weights[key] / (1 - beta1 ** (epoch + 1)))\n",
        "                self.weights[key] = self.weights[key] - num1*num2\n",
        "\n",
        "            # update bias\n",
        "            for (key, value) in self.bias.items():\n",
        "                num1 = ((self.learningRate / self.batch_size) / np.sqrt(bHistory_hat[key] + epsilon))\n",
        "                num2 = beta1 * bMomentum_hat[key] + ((1 - beta1) * acc_grad_bias[key] / (1 - beta1 ** (epoch + 1)))\n",
        "                self.bias[key] = self.bias[key] - num1*num2\n",
        "\n",
        "            # set accumalated gradients to zero\n",
        "            acc_grad_weights, acc_grad_bias = self.make_accumalate_zero()\n",
        "        \n",
        "                \n",
        "        # compute trainAccuracy,trainLoss averaged over train size\n",
        "        trainAccuracy = count / n\n",
        "        trainLoss = loss_input / n + self.regularize()\n",
        "        \n",
        "        # compute validationAccuracy,validationLoss averaged over test size \n",
        "        validationLoss, validationAccuracy = self.computeTestLossAndAccuracy()\n",
        "        return trainLoss, trainAccuracy, validationLoss, validationAccuracy\n",
        "\n",
        "    # runs gradient descent for one epoch\n",
        "    def oneEpochGD(self, epoch):\n",
        "        ''' Executes A Single Epoch for Vanilla Gradient Descent Algorithm.\n",
        "            Returns the training loss,training accuracy,validaiton loss and validation accuracy,averaged over all points. '''\n",
        "\n",
        "        n = self.train_n_samples\n",
        "        \n",
        "        # randomizing batches\n",
        "        idx = np.random.permutation(self.train_n_samples)\n",
        "        self.x_train = self.x_train[idx]\n",
        "        self.y_train = self.y_train[idx]\n",
        "\n",
        "        input = self.x_train\n",
        "        actual_y = self.y_train\n",
        "\n",
        "        # Total Loss for epoch\n",
        "        loss_input = 0\n",
        "        count = 0\n",
        "\n",
        "        # set accumalated gradients to zero\n",
        "        acc_grad_weights, acc_grad_bias = self.make_accumalate_zero()\n",
        "\n",
        "        # execute one epoch for all datapoints in train set\n",
        "        for index in range(n):\n",
        "\n",
        "            # perform forward propagation\n",
        "            self.forward_propagation(input, index)\n",
        "            predicted_y = self.post_activation[\"h\" + str(self.L)]\n",
        "\n",
        "            # compute loss\n",
        "            loss_input += self.loss_function(predicted_y, actual_y[index])\n",
        "\n",
        "            # perofrm backward propagation\n",
        "            grad_weights, grad_bias = self.backward_propagation(index, actual_y)\n",
        "\n",
        "            # compute the number of datapoints which are correctly classified\n",
        "            indexWithMaxProb = np.argmax(predicted_y)\n",
        "            if (actual_y[index] == (indexWithMaxProb)):\n",
        "                count = count + 1\n",
        "\n",
        "            # accumulate grad_weights and grad_bais for each input\n",
        "            for (key, value) in grad_weights.items():\n",
        "                acc_grad_weights[key] = acc_grad_weights[key] + \\\n",
        "                    grad_weights[key]\n",
        "\n",
        "            for (key, value) in grad_bias.items():\n",
        "                acc_grad_bias[key] = acc_grad_bias[key] + grad_bias[key]\n",
        "\n",
        "            # update weights and bias if the number of datapoints in batch_size are divisble by batch_size\n",
        "            if ((index + 1) % self.batch_size == 0):\n",
        "\n",
        "                # update weights\n",
        "                for (key, value) in self.weights.items():\n",
        "                    self.weights[key] = self.weights[key] - ((self.learningRate / self.batch_size) * acc_grad_weights[key])\n",
        "                \n",
        "                # update bias\n",
        "                for (key, value) in self.bias.items():\n",
        "                    self.bias[key] = self.bias[key] - ((self.learningRate / self.batch_size) * acc_grad_bias[key])\n",
        "\n",
        "                # set accumalated gradients to zero\n",
        "                acc_grad_weights, acc_grad_bias = self.make_accumalate_zero()\n",
        "\n",
        "        # if the number of datapoints in batch is not divisible by batch_size update weights and bias \n",
        "        if n % self.batch_size != 0:\n",
        "\n",
        "            # update weights\n",
        "            for (key, value) in self.weights.items():\n",
        "                self.weights[key] = self.weights[key] - ((self.learningRate / self.batch_size) * acc_grad_weights[key])\n",
        "            \n",
        "            # update bias\n",
        "            for (key, value) in self.bias.items():\n",
        "                self.bias[key] = self.bias[key] - ((self.learningRate / self.batch_size) * acc_grad_bias[key])\n",
        "\n",
        "            # set accumalated gradients to zero\n",
        "            acc_grad_weights, acc_grad_bias = self.make_accumalate_zero()\n",
        "\n",
        "        # compute trainAccuracy,trainLoss averaged over train size\n",
        "        trainAccuracy = count / n\n",
        "        trainLoss = loss_input / n + self.regularize()\n",
        "        \n",
        "        # compute validationAccuracy,validationLoss averaged over test size \n",
        "        validationLoss, validationAccuracy = self.computeTestLossAndAccuracy()\n",
        "        \n",
        "        return trainLoss, trainAccuracy, validationLoss, validationAccuracy\n",
        "\n",
        "    # executes a single epoch of the FeedForward NN according to the optimizer function. \n",
        "    def executeOneEpoch(self,epoch):\n",
        "        \n",
        "        if self.optimizer == \"sgd\":\n",
        "            return self.oneEpochSGD(epoch)\n",
        "\n",
        "        if self.optimizer == \"momentum\":\n",
        "            return self.oneEpochMOMENTUM(epoch)\n",
        "\n",
        "        if self.optimizer == \"nestrov\":\n",
        "            return self.oneEpochNAG(epoch)\n",
        "\n",
        "        if self.optimizer == \"rmsprop\":\n",
        "            return self.oneEpochRMSPROP(epoch)\n",
        "\n",
        "        if self.optimizer == \"adam\":\n",
        "            return self.oneEpochADAM(epoch)\n",
        "\n",
        "        if self.optimizer == \"nadam\":\n",
        "            return self.oneEpochNADAM(epoch)\n",
        "\n",
        "        if self.optimizer == \"gd\":\n",
        "            return self.oneEpochGD(epoch)\n",
        "\n",
        "    # computes validation loss and validation accuracy \n",
        "    def computeTestLossAndAccuracy(self):\n",
        "        \n",
        "        validation_size = self.y_validate.shape[0]\n",
        "        test_loss = 0\n",
        "        count = 0\n",
        "\n",
        "        input = self.x_validate\n",
        "        actual_y = self.y_validate\n",
        "\n",
        "        for index in range(0, validation_size):\n",
        "\n",
        "            # perform forward propagation\n",
        "            self.forward_propagation(input, index)\n",
        "            predicted_y = self.post_activation[\"h\" + str(self.L)]\n",
        "\n",
        "            # compute loss\n",
        "            test_loss += self.loss_function(predicted_y, actual_y[index])\n",
        "\n",
        "            # compute the number of datapoints which are correctly classified\n",
        "            indexWithMaxProb = np.argmax(predicted_y)\n",
        "            if (actual_y[index] == (indexWithMaxProb)):\n",
        "                count = count + 1\n",
        "\n",
        "        # compute validationAccuracy,validationLoss averaged over validation size \n",
        "        validationAccuracy = count / validation_size\n",
        "        validationLoss = test_loss / validation_size + self.regularize()\n",
        "        \n",
        "        return validationLoss, validationAccuracy\n",
        "\n",
        "    '''<----------------------------Question 1------------------------------------->'''\n",
        "    def question_1(self):\n",
        "\n",
        "        wandb.init(\n",
        "                # set the wandb project where this run will be logged\n",
        "                project = feed_forward.parameters[\"wandb_project\"],\n",
        "                # config = sweep_config\n",
        "        )\n",
        "\n",
        "        # dictionary of labels to be added\n",
        "        labels_added = {}\n",
        "\n",
        "        ''' \n",
        "        Running the loop for the number of training samples.\n",
        "        In each iteration,a random index is generated and we extract the feature and label at the generated index.\n",
        "        If the label is already in the labels_added dictionary,we ignore that label,else we add that (label,feature) \n",
        "        as (key,value) pair in dictionary (so that one label is considered only once).\n",
        "        '''\n",
        "        images = []\n",
        "        for i in range(self.train_n_samples):\n",
        "            index = random.randrange(self.train_n_samples)\n",
        "            feature = self. x_train[index]\n",
        "            label = self.y_train[index]\n",
        "            if (label in labels_added.keys()):\n",
        "                continue\n",
        "            labels_added[label] = feature\n",
        "            image = wandb.Image(\n",
        "                labels_added[label], caption=f\"{self.title[label]}\")\n",
        "            images.append(image)\n",
        "        wandb.log({\"Images\": images})\n",
        "    \n",
        "    '''<----------------------------Question 2------------------------>'''\n",
        "\n",
        "    def feed_forward_q2(self): \n",
        "        # initialization of weights\n",
        "        self.weightsAndBiasInitializer()\n",
        " \n",
        "        # train the data\n",
        "        for i in range(1, self.epoch + 1):\n",
        "            (train_Loss, train_Accuracy, validation_Loss,\n",
        "             validation_Accuracy) = self.executeOneEpoch(i)\n",
        "            \n",
        "        # generating the random index to test the model and finding the y for that\n",
        "        index = np.random.randint(self.y_validate.shape[0])\n",
        "        input = self.x_validate\n",
        "        self.forward_propagation(input, index)\n",
        "        predicted_y = self.post_activation[\"h\" + str(self.L)]\n",
        "        print(predicted_y)\n",
        "\n",
        "    '''<----------------------------Question 3-4------------------------------------->'''\n",
        "    def feed_forward_q3_4(self):\n",
        "        \n",
        "        self.weights = dict()\n",
        "        self.bias = dict()\n",
        "        self.wHistory = dict()\n",
        "        self.bHistory = dict()\n",
        "        self.wMomentum = dict()\n",
        "        self.bMomentum = dict()\n",
        "        \n",
        "        # initialization of weights and bias\n",
        "        self.weightsAndBiasInitializer()\n",
        "\n",
        "        # initializing history for weights and bias\n",
        "        self.historyInitializer()\n",
        "\n",
        "        # initializing momentum for weights and bias\n",
        "        self.momentumInitializer()\n",
        "\n",
        "        self.validation_Accuracy = 0\n",
        "\n",
        "\n",
        "        # run feedforward NN \n",
        "        for i in range(1, self.epoch + 1):\n",
        "              (train_Loss, train_Accuracy, validation_Loss,self.validation_Accuracy) = self.executeOneEpoch(i)\n",
        "              print(\"epoch:{epoch}, train loss:{train_l}, train accuracy:{train_ac}, validation loss:{validation_l}, validation accuracy:{validation_ac}\".\\\n",
        "                  format(epoch = i,train_l = train_Loss,train_ac = train_Accuracy,validation_l = validation_Loss,validation_ac = self.validation_Accuracy))\n",
        "            \n",
        "              wandb.log({'train loss':train_Loss, 'train accuracy':train_Accuracy,'validation loss':validation_Loss, 'validation accuracy':self.validation_Accuracy})\n",
        "            \n"
      ]
    },
    {
      "cell_type": "code",
      "source": [
        "feed_forward = FeedForward()"
      ],
      "metadata": {
        "id": "LiYWtogUXAE7"
      },
      "execution_count": null,
      "outputs": []
    },
    {
      "cell_type": "code",
      "execution_count": null,
      "metadata": {
        "colab": {
          "base_uri": "https://localhost:8080/",
          "height": 302
        },
        "id": "I1CcpV4d6z2c",
        "outputId": "730ff09e-f3a1-4d63-f424-1afe330ebcbc"
      },
      "outputs": [
        {
          "name": "stdout",
          "output_type": "stream",
          "text": [
            "Create sweep with ID: cuhjfznh\n",
            "Sweep URL: https://wandb.ai/cs22m019/DL%20Final%20Assignment%201/sweeps/cuhjfznh\n"
          ]
        }
      ],
      "source": [
        "sweep_config = {\n",
        "\n",
        "        'method' : 'bayes', #grid ,random - generates exponential ways,bayesian  efficient way\n",
        "        'name' : 'bayes_sweep cross_entropy',\n",
        "        'metric' : {\n",
        "            'name' : 'validation accuracy',\n",
        "            'goal' : 'maximize'\n",
        "        },\n",
        "        'parameters':{\n",
        "                'epochs' : {\n",
        "                    'values' : [5,10]\n",
        "                },\n",
        "                'number_of_hidden_layer':{\n",
        "                    'values' : [3,4,5]\n",
        "                },\n",
        "                'size_of_hidden_layer' : {\n",
        "                    'values' :[32,64,128]\n",
        "                },\n",
        "                'weight_decay' : {\n",
        "                    'values' : [0,0.0005,0.5]\n",
        "                },\n",
        "                'learning_rate' : {\n",
        "                    'values' : [1e-3,1e-4]\n",
        "                },\n",
        "                'optimizer' : {\n",
        "                    'values' : ['sgd','momentum','nestrov','rmsprop','adam','nadam']\n",
        "                },\n",
        "                'batch_size' : {\n",
        "                        'values' : [16,32,64]\n",
        "                },\n",
        "                'weight_initialization' :{\n",
        "                    'values' : ['random','Xavier']\n",
        "                },\n",
        "                'activation' : {\n",
        "                    'values' : ['sigmoid','tanh','ReLU']\n",
        "                }\n",
        "        }\n",
        "}\n",
        "sweep_id = wandb.sweep(sweep = sweep_config,project= feed_forward.parameters[\"wandb_project\"])"
      ]
    },
    {
      "cell_type": "code",
      "execution_count": null,
      "metadata": {
        "id": "whziGn3a62Pv"
      },
      "outputs": [],
      "source": [
        "def train():\n",
        "    wandb.init(\n",
        "                # set the wandb project where this run will be logged\n",
        "                # project = feed_forward.parameters[\"wandb_project\"],\n",
        "                config = sweep_config\n",
        "    )\n",
        "    \n",
        "    feed_forward.epoch = wandb.config.epochs\n",
        "    feed_forward.nnl = wandb.config.size_of_hidden_layer\n",
        "    feed_forward.weightDecay =  wandb.config.weight_decay\n",
        "    feed_forward.learningRate = wandb.config.learning_rate\n",
        "    feed_forward.optimizer = wandb.config.optimizer\n",
        "    feed_forward.batch_size = wandb.config.batch_size\n",
        "    feed_forward.weightInitialization = wandb.config.weight_initialization\n",
        "    feed_forward.activationFunction = wandb.config.activation\n",
        "    feed_forward.L = wandb.config.number_of_hidden_layer + 1\n",
        "    feed_forward.weight_decay = wandb.config.weight_decay\n",
        "\n",
        "\n",
        "    wandb.run.name = \"optimizer_\" + str(wandb.config.optimizer) +  \"_hl_\"+ str(wandb.config.number_of_hidden_layer) + \"_bs_\" + str(wandb.config.batch_size) + \"_ac_\" + str(wandb.config.activation)    \n",
        "    feed_forward.feed_forward_q3_4()"
      ]
    },
    {
      "cell_type": "code",
      "execution_count": null,
      "metadata": {
        "colab": {
          "base_uri": "https://localhost:8080/",
          "height": 371,
          "referenced_widgets": [
            "a34f2a450fbf4372a22992904273682c",
            "d4d14ec34a8d4a99a189a8ad74a2bb0e",
            "f64734ed17454492916e7de0112c5791",
            "42f1a3dd58cf4f1a93f71ea44159b785",
            "4eee6ff5d20f4a30b13a6f35dd99f6d5",
            "26ce9a7a3c584bf390acc52ef89f1357",
            "8b426f8d31f145c4a0f95d2e4fa0ff32",
            "da054ff527ce44cd9bb697e86fcc7c87",
            "95e43818bdbd49a9a440786665280882",
            "284387e561cb4b5ea89e875e099ab779",
            "31fc9877f81a41a3956bf7db5d0ffb04",
            "7e79077d4bb243459e1e7b21f6fd6b92",
            "119fb6d3314f4f69bdbac19a6141b08f",
            "9cd9c4c101cd4b0d9af5adda18a82da6",
            "116934a60eef4b1190aa39bb61ddc1aa",
            "f9454d8559aa452f9984c06cc9abab6a",
            "0d1a9cd43298449b8fb32b0aefd8baa9",
            "ca32a166760442d7b0042747f0824ce9",
            "5f02aabe155f440abfafc34fb1115ba2",
            "7964cca3e6cf4554b4fa168ae50c7a0c",
            "2a227b75a5f5404a91a11a3e239871e0",
            "98f1fb6e098447d6ab3ebb60a8985a48",
            "e7a642195c8f45d3ba1af65bbdd532d8",
            "d0eda3f9c7334373b9e4ae007ec156d0",
            "97cbbefe93644c8988fca515e7a8567f"
          ]
        },
        "id": "bEush2kM64C9",
        "outputId": "67f521f5-b269-437d-faa6-73772d96493e",
        "scrolled": true
      },
      "outputs": [
        {
          "name": "stderr",
          "output_type": "stream",
          "text": [
            "\u001b[34m\u001b[1mwandb\u001b[0m: Agent Starting Run: iue6d4wi with config:\n",
            "\u001b[34m\u001b[1mwandb\u001b[0m: \tactivation: ReLU\n",
            "\u001b[34m\u001b[1mwandb\u001b[0m: \tbatch_size: 16\n",
            "\u001b[34m\u001b[1mwandb\u001b[0m: \tepochs: 5\n",
            "\u001b[34m\u001b[1mwandb\u001b[0m: \tlearning_rate: 0.001\n",
            "\u001b[34m\u001b[1mwandb\u001b[0m: \tnumber_of_hidden_layer: 5\n",
            "\u001b[34m\u001b[1mwandb\u001b[0m: \toptimizer: adam\n",
            "\u001b[34m\u001b[1mwandb\u001b[0m: \tsize_of_hidden_layer: 32\n",
            "\u001b[34m\u001b[1mwandb\u001b[0m: \tweight_decay: 0.0005\n",
            "\u001b[34m\u001b[1mwandb\u001b[0m: \tweight_initialization: random\n",
            "\u001b[34m\u001b[1mwandb\u001b[0m: Currently logged in as: \u001b[33mcs22m019\u001b[0m. Use \u001b[1m`wandb login --relogin`\u001b[0m to force relogin\n"
          ]
        },
        {
          "data": {
            "text/html": [
              "Tracking run with wandb version 0.13.11"
            ],
            "text/plain": [
              "<IPython.core.display.HTML object>"
            ]
          },
          "metadata": {},
          "output_type": "display_data"
        },
        {
          "data": {
            "text/html": [
              "Run data is saved locally in <code>C:\\Users\\DELL\\Desktop\\wandb\\run-20230309_031305-iue6d4wi</code>"
            ],
            "text/plain": [
              "<IPython.core.display.HTML object>"
            ]
          },
          "metadata": {},
          "output_type": "display_data"
        },
        {
          "data": {
            "text/html": [
              "Syncing run <strong><a href='https://wandb.ai/cs22m019/DL%20Final%20Assignment%201/runs/iue6d4wi' target=\"_blank\">treasured-sweep-1</a></strong> to <a href='https://wandb.ai/cs22m019/DL%20Final%20Assignment%201' target=\"_blank\">Weights & Biases</a> (<a href='https://wandb.me/run' target=\"_blank\">docs</a>)<br/>Sweep page: <a href='https://wandb.ai/cs22m019/DL%20Final%20Assignment%201/sweeps/cuhjfznh' target=\"_blank\">https://wandb.ai/cs22m019/DL%20Final%20Assignment%201/sweeps/cuhjfznh</a>"
            ],
            "text/plain": [
              "<IPython.core.display.HTML object>"
            ]
          },
          "metadata": {},
          "output_type": "display_data"
        },
        {
          "data": {
            "text/html": [
              " View project at <a href='https://wandb.ai/cs22m019/DL%20Final%20Assignment%201' target=\"_blank\">https://wandb.ai/cs22m019/DL%20Final%20Assignment%201</a>"
            ],
            "text/plain": [
              "<IPython.core.display.HTML object>"
            ]
          },
          "metadata": {},
          "output_type": "display_data"
        },
        {
          "data": {
            "text/html": [
              " View sweep at <a href='https://wandb.ai/cs22m019/DL%20Final%20Assignment%201/sweeps/cuhjfznh' target=\"_blank\">https://wandb.ai/cs22m019/DL%20Final%20Assignment%201/sweeps/cuhjfznh</a>"
            ],
            "text/plain": [
              "<IPython.core.display.HTML object>"
            ]
          },
          "metadata": {},
          "output_type": "display_data"
        },
        {
          "data": {
            "text/html": [
              " View run at <a href='https://wandb.ai/cs22m019/DL%20Final%20Assignment%201/runs/iue6d4wi' target=\"_blank\">https://wandb.ai/cs22m019/DL%20Final%20Assignment%201/runs/iue6d4wi</a>"
            ],
            "text/plain": [
              "<IPython.core.display.HTML object>"
            ]
          },
          "metadata": {},
          "output_type": "display_data"
        },
        {
          "name": "stdout",
          "output_type": "stream",
          "text": [
            "epoch:1, train loss:8.084183199339416, train accuracy:0.38942592592592595, validation loss:4.459932895915803, validation accuracy:0.49433333333333335\n",
            "epoch:2, train loss:3.3293499991008484, train accuracy:0.5576481481481481, validation loss:2.6642070740319634, validation accuracy:0.5811666666666667\n",
            "epoch:3, train loss:2.2872293369870738, train accuracy:0.6082592592592593, validation loss:2.027670439455047, validation accuracy:0.6235\n",
            "epoch:4, train loss:1.8083029311491818, train accuracy:0.6369074074074074, validation loss:1.6806093328134972, validation accuracy:0.6463333333333333\n",
            "epoch:5, train loss:1.525278875187279, train accuracy:0.6603703703703704, validation loss:1.4563037889984742, validation accuracy:0.6673333333333333\n"
          ]
        },
        {
          "data": {
            "text/html": [
              "Waiting for W&B process to finish... <strong style=\"color:green\">(success).</strong>"
            ],
            "text/plain": [
              "<IPython.core.display.HTML object>"
            ]
          },
          "metadata": {},
          "output_type": "display_data"
        },
        {
          "data": {
            "application/vnd.jupyter.widget-view+json": {
              "model_id": "a34f2a450fbf4372a22992904273682c",
              "version_major": 2,
              "version_minor": 0
            },
            "text/plain": [
              "VBox(children=(Label(value='0.001 MB of 0.001 MB uploaded (0.000 MB deduped)\\r'), FloatProgress(value=1.0, max…"
            ]
          },
          "metadata": {},
          "output_type": "display_data"
        },
        {
          "data": {
            "text/html": [
              "<style>\n",
              "    table.wandb td:nth-child(1) { padding: 0 10px; text-align: left ; width: auto;} td:nth-child(2) {text-align: left ; width: 100%}\n",
              "    .wandb-row { display: flex; flex-direction: row; flex-wrap: wrap; justify-content: flex-start; width: 100% }\n",
              "    .wandb-col { display: flex; flex-direction: column; flex-basis: 100%; flex: 1; padding: 10px; }\n",
              "    </style>\n",
              "<div class=\"wandb-row\"><div class=\"wandb-col\"><h3>Run history:</h3><br/><table class=\"wandb\"><tr><td>train accuracy</td><td>▁▅▇▇█</td></tr><tr><td>train loss</td><td>█▃▂▁▁</td></tr><tr><td>validation accuracy</td><td>▁▅▆▇█</td></tr><tr><td>validation loss</td><td>█▄▂▂▁</td></tr></table><br/></div><div class=\"wandb-col\"><h3>Run summary:</h3><br/><table class=\"wandb\"><tr><td>train accuracy</td><td>0.66037</td></tr><tr><td>train loss</td><td>1.52528</td></tr><tr><td>validation accuracy</td><td>0.66733</td></tr><tr><td>validation loss</td><td>1.4563</td></tr></table><br/></div></div>"
            ],
            "text/plain": [
              "<IPython.core.display.HTML object>"
            ]
          },
          "metadata": {},
          "output_type": "display_data"
        },
        {
          "data": {
            "text/html": [
              " View run <strong style=\"color:#cdcd00\">treasured-sweep-1</strong> at: <a href='https://wandb.ai/cs22m019/DL%20Final%20Assignment%201/runs/iue6d4wi' target=\"_blank\">https://wandb.ai/cs22m019/DL%20Final%20Assignment%201/runs/iue6d4wi</a><br/>Synced 6 W&B file(s), 0 media file(s), 0 artifact file(s) and 0 other file(s)"
            ],
            "text/plain": [
              "<IPython.core.display.HTML object>"
            ]
          },
          "metadata": {},
          "output_type": "display_data"
        },
        {
          "data": {
            "text/html": [
              "Find logs at: <code>.\\wandb\\run-20230309_031305-iue6d4wi\\logs</code>"
            ],
            "text/plain": [
              "<IPython.core.display.HTML object>"
            ]
          },
          "metadata": {},
          "output_type": "display_data"
        },
        {
          "name": "stderr",
          "output_type": "stream",
          "text": [
            "\u001b[34m\u001b[1mwandb\u001b[0m: Agent Starting Run: pwiaqf5x with config:\n",
            "\u001b[34m\u001b[1mwandb\u001b[0m: \tactivation: sigmoid\n",
            "\u001b[34m\u001b[1mwandb\u001b[0m: \tbatch_size: 16\n",
            "\u001b[34m\u001b[1mwandb\u001b[0m: \tepochs: 10\n",
            "\u001b[34m\u001b[1mwandb\u001b[0m: \tlearning_rate: 0.001\n",
            "\u001b[34m\u001b[1mwandb\u001b[0m: \tnumber_of_hidden_layer: 4\n",
            "\u001b[34m\u001b[1mwandb\u001b[0m: \toptimizer: nestrov\n",
            "\u001b[34m\u001b[1mwandb\u001b[0m: \tsize_of_hidden_layer: 128\n",
            "\u001b[34m\u001b[1mwandb\u001b[0m: \tweight_decay: 0.0005\n",
            "\u001b[34m\u001b[1mwandb\u001b[0m: \tweight_initialization: Xavier\n"
          ]
        },
        {
          "data": {
            "text/html": [
              "Tracking run with wandb version 0.13.11"
            ],
            "text/plain": [
              "<IPython.core.display.HTML object>"
            ]
          },
          "metadata": {},
          "output_type": "display_data"
        },
        {
          "data": {
            "text/html": [
              "Run data is saved locally in <code>C:\\Users\\DELL\\Desktop\\wandb\\run-20230309_031702-pwiaqf5x</code>"
            ],
            "text/plain": [
              "<IPython.core.display.HTML object>"
            ]
          },
          "metadata": {},
          "output_type": "display_data"
        },
        {
          "data": {
            "text/html": [
              "Syncing run <strong><a href='https://wandb.ai/cs22m019/DL%20Final%20Assignment%201/runs/pwiaqf5x' target=\"_blank\">amber-sweep-2</a></strong> to <a href='https://wandb.ai/cs22m019/DL%20Final%20Assignment%201' target=\"_blank\">Weights & Biases</a> (<a href='https://wandb.me/run' target=\"_blank\">docs</a>)<br/>Sweep page: <a href='https://wandb.ai/cs22m019/DL%20Final%20Assignment%201/sweeps/cuhjfznh' target=\"_blank\">https://wandb.ai/cs22m019/DL%20Final%20Assignment%201/sweeps/cuhjfznh</a>"
            ],
            "text/plain": [
              "<IPython.core.display.HTML object>"
            ]
          },
          "metadata": {},
          "output_type": "display_data"
        },
        {
          "data": {
            "text/html": [
              " View project at <a href='https://wandb.ai/cs22m019/DL%20Final%20Assignment%201' target=\"_blank\">https://wandb.ai/cs22m019/DL%20Final%20Assignment%201</a>"
            ],
            "text/plain": [
              "<IPython.core.display.HTML object>"
            ]
          },
          "metadata": {},
          "output_type": "display_data"
        },
        {
          "data": {
            "text/html": [
              " View sweep at <a href='https://wandb.ai/cs22m019/DL%20Final%20Assignment%201/sweeps/cuhjfznh' target=\"_blank\">https://wandb.ai/cs22m019/DL%20Final%20Assignment%201/sweeps/cuhjfznh</a>"
            ],
            "text/plain": [
              "<IPython.core.display.HTML object>"
            ]
          },
          "metadata": {},
          "output_type": "display_data"
        },
        {
          "data": {
            "text/html": [
              " View run at <a href='https://wandb.ai/cs22m019/DL%20Final%20Assignment%201/runs/pwiaqf5x' target=\"_blank\">https://wandb.ai/cs22m019/DL%20Final%20Assignment%201/runs/pwiaqf5x</a>"
            ],
            "text/plain": [
              "<IPython.core.display.HTML object>"
            ]
          },
          "metadata": {},
          "output_type": "display_data"
        },
        {
          "name": "stdout",
          "output_type": "stream",
          "text": [
            "epoch:1, train loss:2.317239646551535, train accuracy:0.10014814814814815, validation loss:2.303247758455665, validation accuracy:0.09933333333333333\n",
            "epoch:2, train loss:2.3084889314901464, train accuracy:0.1012962962962963, validation loss:2.309652197039912, validation accuracy:0.09766666666666667\n",
            "epoch:3, train loss:2.304887189487476, train accuracy:0.1032962962962963, validation loss:2.3037470525140065, validation accuracy:0.1005\n",
            "epoch:4, train loss:2.304770238210802, train accuracy:0.10307407407407407, validation loss:2.306703312936343, validation accuracy:0.09716666666666667\n",
            "epoch:5, train loss:2.3093202911426562, train accuracy:0.1002962962962963, validation loss:2.3129513506162986, validation accuracy:0.09766666666666667\n",
            "epoch:6, train loss:2.3062795578854733, train accuracy:0.10031481481481481, validation loss:2.3082721355859865, validation accuracy:0.10433333333333333\n",
            "epoch:7, train loss:2.3062658887118856, train accuracy:0.1029074074074074, validation loss:2.306407593976245, validation accuracy:0.0975\n",
            "epoch:8, train loss:2.3046869378916908, train accuracy:0.10477777777777778, validation loss:2.3056692536480385, validation accuracy:0.10733333333333334\n",
            "epoch:9, train loss:2.304492782076724, train accuracy:0.10061111111111111, validation loss:2.308277562922191, validation accuracy:0.09716666666666667\n",
            "epoch:10, train loss:2.3013992176908284, train accuracy:0.10424074074074074, validation loss:2.3034482108120287, validation accuracy:0.09766666666666667\n"
          ]
        },
        {
          "data": {
            "text/html": [
              "Waiting for W&B process to finish... <strong style=\"color:green\">(success).</strong>"
            ],
            "text/plain": [
              "<IPython.core.display.HTML object>"
            ]
          },
          "metadata": {},
          "output_type": "display_data"
        },
        {
          "data": {
            "application/vnd.jupyter.widget-view+json": {
              "model_id": "d4d14ec34a8d4a99a189a8ad74a2bb0e",
              "version_major": 2,
              "version_minor": 0
            },
            "text/plain": [
              "VBox(children=(Label(value='0.001 MB of 0.001 MB uploaded (0.000 MB deduped)\\r'), FloatProgress(value=1.0, max…"
            ]
          },
          "metadata": {},
          "output_type": "display_data"
        },
        {
          "data": {
            "text/html": [
              "<style>\n",
              "    table.wandb td:nth-child(1) { padding: 0 10px; text-align: left ; width: auto;} td:nth-child(2) {text-align: left ; width: 100%}\n",
              "    .wandb-row { display: flex; flex-direction: row; flex-wrap: wrap; justify-content: flex-start; width: 100% }\n",
              "    .wandb-col { display: flex; flex-direction: column; flex-basis: 100%; flex: 1; padding: 10px; }\n",
              "    </style>\n",
              "<div class=\"wandb-row\"><div class=\"wandb-col\"><h3>Run history:</h3><br/><table class=\"wandb\"><tr><td>train accuracy</td><td>▁▃▆▅▁▁▅█▂▇</td></tr><tr><td>train loss</td><td>█▄▃▂▅▃▃▂▂▁</td></tr><tr><td>validation accuracy</td><td>▂▁▃▁▁▆▁█▁▁</td></tr><tr><td>validation loss</td><td>▁▆▁▃█▅▃▃▅▁</td></tr></table><br/></div><div class=\"wandb-col\"><h3>Run summary:</h3><br/><table class=\"wandb\"><tr><td>train accuracy</td><td>0.10424</td></tr><tr><td>train loss</td><td>2.3014</td></tr><tr><td>validation accuracy</td><td>0.09767</td></tr><tr><td>validation loss</td><td>2.30345</td></tr></table><br/></div></div>"
            ],
            "text/plain": [
              "<IPython.core.display.HTML object>"
            ]
          },
          "metadata": {},
          "output_type": "display_data"
        },
        {
          "data": {
            "text/html": [
              " View run <strong style=\"color:#cdcd00\">amber-sweep-2</strong> at: <a href='https://wandb.ai/cs22m019/DL%20Final%20Assignment%201/runs/pwiaqf5x' target=\"_blank\">https://wandb.ai/cs22m019/DL%20Final%20Assignment%201/runs/pwiaqf5x</a><br/>Synced 6 W&B file(s), 0 media file(s), 0 artifact file(s) and 0 other file(s)"
            ],
            "text/plain": [
              "<IPython.core.display.HTML object>"
            ]
          },
          "metadata": {},
          "output_type": "display_data"
        },
        {
          "data": {
            "text/html": [
              "Find logs at: <code>.\\wandb\\run-20230309_031702-pwiaqf5x\\logs</code>"
            ],
            "text/plain": [
              "<IPython.core.display.HTML object>"
            ]
          },
          "metadata": {},
          "output_type": "display_data"
        },
        {
          "name": "stderr",
          "output_type": "stream",
          "text": [
            "\u001b[34m\u001b[1mwandb\u001b[0m: Agent Starting Run: nvddsmga with config:\n",
            "\u001b[34m\u001b[1mwandb\u001b[0m: \tactivation: sigmoid\n",
            "\u001b[34m\u001b[1mwandb\u001b[0m: \tbatch_size: 64\n",
            "\u001b[34m\u001b[1mwandb\u001b[0m: \tepochs: 10\n",
            "\u001b[34m\u001b[1mwandb\u001b[0m: \tlearning_rate: 0.001\n",
            "\u001b[34m\u001b[1mwandb\u001b[0m: \tnumber_of_hidden_layer: 5\n",
            "\u001b[34m\u001b[1mwandb\u001b[0m: \toptimizer: sgd\n",
            "\u001b[34m\u001b[1mwandb\u001b[0m: \tsize_of_hidden_layer: 32\n",
            "\u001b[34m\u001b[1mwandb\u001b[0m: \tweight_decay: 0.0005\n",
            "\u001b[34m\u001b[1mwandb\u001b[0m: \tweight_initialization: random\n"
          ]
        },
        {
          "data": {
            "text/html": [
              "Tracking run with wandb version 0.13.11"
            ],
            "text/plain": [
              "<IPython.core.display.HTML object>"
            ]
          },
          "metadata": {},
          "output_type": "display_data"
        },
        {
          "data": {
            "text/html": [
              "Run data is saved locally in <code>C:\\Users\\DELL\\Desktop\\wandb\\run-20230309_033238-nvddsmga</code>"
            ],
            "text/plain": [
              "<IPython.core.display.HTML object>"
            ]
          },
          "metadata": {},
          "output_type": "display_data"
        },
        {
          "data": {
            "text/html": [
              "Syncing run <strong><a href='https://wandb.ai/cs22m019/DL%20Final%20Assignment%201/runs/nvddsmga' target=\"_blank\">royal-sweep-3</a></strong> to <a href='https://wandb.ai/cs22m019/DL%20Final%20Assignment%201' target=\"_blank\">Weights & Biases</a> (<a href='https://wandb.me/run' target=\"_blank\">docs</a>)<br/>Sweep page: <a href='https://wandb.ai/cs22m019/DL%20Final%20Assignment%201/sweeps/cuhjfznh' target=\"_blank\">https://wandb.ai/cs22m019/DL%20Final%20Assignment%201/sweeps/cuhjfznh</a>"
            ],
            "text/plain": [
              "<IPython.core.display.HTML object>"
            ]
          },
          "metadata": {},
          "output_type": "display_data"
        },
        {
          "data": {
            "text/html": [
              " View project at <a href='https://wandb.ai/cs22m019/DL%20Final%20Assignment%201' target=\"_blank\">https://wandb.ai/cs22m019/DL%20Final%20Assignment%201</a>"
            ],
            "text/plain": [
              "<IPython.core.display.HTML object>"
            ]
          },
          "metadata": {},
          "output_type": "display_data"
        },
        {
          "data": {
            "text/html": [
              " View sweep at <a href='https://wandb.ai/cs22m019/DL%20Final%20Assignment%201/sweeps/cuhjfznh' target=\"_blank\">https://wandb.ai/cs22m019/DL%20Final%20Assignment%201/sweeps/cuhjfznh</a>"
            ],
            "text/plain": [
              "<IPython.core.display.HTML object>"
            ]
          },
          "metadata": {},
          "output_type": "display_data"
        },
        {
          "data": {
            "text/html": [
              " View run at <a href='https://wandb.ai/cs22m019/DL%20Final%20Assignment%201/runs/nvddsmga' target=\"_blank\">https://wandb.ai/cs22m019/DL%20Final%20Assignment%201/runs/nvddsmga</a>"
            ],
            "text/plain": [
              "<IPython.core.display.HTML object>"
            ]
          },
          "metadata": {},
          "output_type": "display_data"
        },
        {
          "name": "stdout",
          "output_type": "stream",
          "text": [
            "epoch:1, train loss:2.4867225064167506, train accuracy:0.10562962962962963, validation loss:2.3746112710133893, validation accuracy:0.11983333333333333\n",
            "epoch:2, train loss:2.3386891497482742, train accuracy:0.1333888888888889, validation loss:2.3135865289751028, validation accuracy:0.15666666666666668\n",
            "epoch:3, train loss:2.302702833029946, train accuracy:0.16442592592592592, validation loss:2.2967224569556453, validation accuracy:0.15866666666666668\n",
            "epoch:4, train loss:2.292579612831134, train accuracy:0.16164814814814815, validation loss:2.291426535879565, validation accuracy:0.161\n",
            "epoch:5, train loss:2.288591419730181, train accuracy:0.16677777777777777, validation loss:2.2883486329661764, validation accuracy:0.16416666666666666\n",
            "epoch:6, train loss:2.2856911475043877, train accuracy:0.1715, validation loss:2.285676614419287, validation accuracy:0.16833333333333333\n",
            "epoch:7, train loss:2.2829097657180397, train accuracy:0.1842962962962963, validation loss:2.282852996965865, validation accuracy:0.18233333333333332\n",
            "epoch:8, train loss:2.2800543224409315, train accuracy:0.19244444444444445, validation loss:2.2800653286097847, validation accuracy:0.19933333333333333\n",
            "epoch:9, train loss:2.277108357953769, train accuracy:0.2096851851851852, validation loss:2.2770980623758006, validation accuracy:0.2095\n",
            "epoch:10, train loss:2.274028277066227, train accuracy:0.22098148148148147, validation loss:2.2739877829581814, validation accuracy:0.2215\n"
          ]
        },
        {
          "data": {
            "text/html": [
              "Waiting for W&B process to finish... <strong style=\"color:green\">(success).</strong>"
            ],
            "text/plain": [
              "<IPython.core.display.HTML object>"
            ]
          },
          "metadata": {},
          "output_type": "display_data"
        },
        {
          "data": {
            "application/vnd.jupyter.widget-view+json": {
              "model_id": "f64734ed17454492916e7de0112c5791",
              "version_major": 2,
              "version_minor": 0
            },
            "text/plain": [
              "VBox(children=(Label(value='0.001 MB of 0.001 MB uploaded (0.000 MB deduped)\\r'), FloatProgress(value=1.0, max…"
            ]
          },
          "metadata": {},
          "output_type": "display_data"
        },
        {
          "data": {
            "text/html": [
              "<style>\n",
              "    table.wandb td:nth-child(1) { padding: 0 10px; text-align: left ; width: auto;} td:nth-child(2) {text-align: left ; width: 100%}\n",
              "    .wandb-row { display: flex; flex-direction: row; flex-wrap: wrap; justify-content: flex-start; width: 100% }\n",
              "    .wandb-col { display: flex; flex-direction: column; flex-basis: 100%; flex: 1; padding: 10px; }\n",
              "    </style>\n",
              "<div class=\"wandb-row\"><div class=\"wandb-col\"><h3>Run history:</h3><br/><table class=\"wandb\"><tr><td>train accuracy</td><td>▁▃▅▄▅▅▆▆▇█</td></tr><tr><td>train loss</td><td>█▃▂▂▁▁▁▁▁▁</td></tr><tr><td>validation accuracy</td><td>▁▄▄▄▄▄▅▆▇█</td></tr><tr><td>validation loss</td><td>█▄▃▂▂▂▂▁▁▁</td></tr></table><br/></div><div class=\"wandb-col\"><h3>Run summary:</h3><br/><table class=\"wandb\"><tr><td>train accuracy</td><td>0.22098</td></tr><tr><td>train loss</td><td>2.27403</td></tr><tr><td>validation accuracy</td><td>0.2215</td></tr><tr><td>validation loss</td><td>2.27399</td></tr></table><br/></div></div>"
            ],
            "text/plain": [
              "<IPython.core.display.HTML object>"
            ]
          },
          "metadata": {},
          "output_type": "display_data"
        },
        {
          "data": {
            "text/html": [
              " View run <strong style=\"color:#cdcd00\">royal-sweep-3</strong> at: <a href='https://wandb.ai/cs22m019/DL%20Final%20Assignment%201/runs/nvddsmga' target=\"_blank\">https://wandb.ai/cs22m019/DL%20Final%20Assignment%201/runs/nvddsmga</a><br/>Synced 6 W&B file(s), 0 media file(s), 0 artifact file(s) and 0 other file(s)"
            ],
            "text/plain": [
              "<IPython.core.display.HTML object>"
            ]
          },
          "metadata": {},
          "output_type": "display_data"
        },
        {
          "data": {
            "text/html": [
              "Find logs at: <code>.\\wandb\\run-20230309_033238-nvddsmga\\logs</code>"
            ],
            "text/plain": [
              "<IPython.core.display.HTML object>"
            ]
          },
          "metadata": {},
          "output_type": "display_data"
        },
        {
          "name": "stderr",
          "output_type": "stream",
          "text": [
            "\u001b[34m\u001b[1mwandb\u001b[0m: Agent Starting Run: cab0l47u with config:\n",
            "\u001b[34m\u001b[1mwandb\u001b[0m: \tactivation: ReLU\n",
            "\u001b[34m\u001b[1mwandb\u001b[0m: \tbatch_size: 32\n",
            "\u001b[34m\u001b[1mwandb\u001b[0m: \tepochs: 10\n",
            "\u001b[34m\u001b[1mwandb\u001b[0m: \tlearning_rate: 0.0001\n",
            "\u001b[34m\u001b[1mwandb\u001b[0m: \tnumber_of_hidden_layer: 3\n",
            "\u001b[34m\u001b[1mwandb\u001b[0m: \toptimizer: nadam\n",
            "\u001b[34m\u001b[1mwandb\u001b[0m: \tsize_of_hidden_layer: 32\n",
            "\u001b[34m\u001b[1mwandb\u001b[0m: \tweight_decay: 0.0005\n",
            "\u001b[34m\u001b[1mwandb\u001b[0m: \tweight_initialization: Xavier\n"
          ]
        },
        {
          "data": {
            "text/html": [
              "Tracking run with wandb version 0.13.11"
            ],
            "text/plain": [
              "<IPython.core.display.HTML object>"
            ]
          },
          "metadata": {},
          "output_type": "display_data"
        },
        {
          "data": {
            "text/html": [
              "Run data is saved locally in <code>C:\\Users\\DELL\\Desktop\\wandb\\run-20230309_034227-cab0l47u</code>"
            ],
            "text/plain": [
              "<IPython.core.display.HTML object>"
            ]
          },
          "metadata": {},
          "output_type": "display_data"
        },
        {
          "data": {
            "text/html": [
              "Syncing run <strong><a href='https://wandb.ai/cs22m019/DL%20Final%20Assignment%201/runs/cab0l47u' target=\"_blank\">drawn-sweep-4</a></strong> to <a href='https://wandb.ai/cs22m019/DL%20Final%20Assignment%201' target=\"_blank\">Weights & Biases</a> (<a href='https://wandb.me/run' target=\"_blank\">docs</a>)<br/>Sweep page: <a href='https://wandb.ai/cs22m019/DL%20Final%20Assignment%201/sweeps/cuhjfznh' target=\"_blank\">https://wandb.ai/cs22m019/DL%20Final%20Assignment%201/sweeps/cuhjfznh</a>"
            ],
            "text/plain": [
              "<IPython.core.display.HTML object>"
            ]
          },
          "metadata": {},
          "output_type": "display_data"
        },
        {
          "data": {
            "text/html": [
              " View project at <a href='https://wandb.ai/cs22m019/DL%20Final%20Assignment%201' target=\"_blank\">https://wandb.ai/cs22m019/DL%20Final%20Assignment%201</a>"
            ],
            "text/plain": [
              "<IPython.core.display.HTML object>"
            ]
          },
          "metadata": {},
          "output_type": "display_data"
        },
        {
          "data": {
            "text/html": [
              " View sweep at <a href='https://wandb.ai/cs22m019/DL%20Final%20Assignment%201/sweeps/cuhjfznh' target=\"_blank\">https://wandb.ai/cs22m019/DL%20Final%20Assignment%201/sweeps/cuhjfznh</a>"
            ],
            "text/plain": [
              "<IPython.core.display.HTML object>"
            ]
          },
          "metadata": {},
          "output_type": "display_data"
        },
        {
          "data": {
            "text/html": [
              " View run at <a href='https://wandb.ai/cs22m019/DL%20Final%20Assignment%201/runs/cab0l47u' target=\"_blank\">https://wandb.ai/cs22m019/DL%20Final%20Assignment%201/runs/cab0l47u</a>"
            ],
            "text/plain": [
              "<IPython.core.display.HTML object>"
            ]
          },
          "metadata": {},
          "output_type": "display_data"
        },
        {
          "name": "stdout",
          "output_type": "stream",
          "text": [
            "epoch:1, train loss:1.9736835821282648, train accuracy:0.3138518518518518, validation loss:1.6493396296927547, validation accuracy:0.41633333333333333\n",
            "epoch:2, train loss:1.3901082351716538, train accuracy:0.5293333333333333, validation loss:1.1853852549111914, validation accuracy:0.6055\n",
            "epoch:3, train loss:1.0464078682638651, train accuracy:0.6239074074074074, validation loss:0.9647764361576867, validation accuracy:0.6353333333333333\n",
            "epoch:4, train loss:0.8902336072579298, train accuracy:0.6532592592592592, validation loss:0.8525429846725171, validation accuracy:0.6713333333333333\n",
            "epoch:5, train loss:0.8107246655194909, train accuracy:0.6830740740740741, validation loss:0.8061122295830091, validation accuracy:0.6898333333333333\n",
            "epoch:6, train loss:0.7733852778530169, train accuracy:0.7061111111111111, validation loss:0.7722379248516971, validation accuracy:0.7048333333333333\n",
            "epoch:7, train loss:0.7526456001666493, train accuracy:0.7225925925925926, validation loss:0.7557726774053249, validation accuracy:0.727\n",
            "epoch:8, train loss:0.73851297645502, train accuracy:0.7398333333333333, validation loss:0.7515634125564084, validation accuracy:0.7346666666666667\n",
            "epoch:9, train loss:0.7336925276503558, train accuracy:0.7494444444444445, validation loss:0.7393794782616431, validation accuracy:0.7461666666666666\n",
            "epoch:10, train loss:0.730352781724153, train accuracy:0.7587777777777778, validation loss:0.7331214470264324, validation accuracy:0.7598333333333334\n"
          ]
        },
        {
          "data": {
            "text/html": [
              "Waiting for W&B process to finish... <strong style=\"color:green\">(success).</strong>"
            ],
            "text/plain": [
              "<IPython.core.display.HTML object>"
            ]
          },
          "metadata": {},
          "output_type": "display_data"
        },
        {
          "data": {
            "application/vnd.jupyter.widget-view+json": {
              "model_id": "42f1a3dd58cf4f1a93f71ea44159b785",
              "version_major": 2,
              "version_minor": 0
            },
            "text/plain": [
              "VBox(children=(Label(value='0.001 MB of 0.001 MB uploaded (0.000 MB deduped)\\r'), FloatProgress(value=1.0, max…"
            ]
          },
          "metadata": {},
          "output_type": "display_data"
        },
        {
          "data": {
            "text/html": [
              "<style>\n",
              "    table.wandb td:nth-child(1) { padding: 0 10px; text-align: left ; width: auto;} td:nth-child(2) {text-align: left ; width: 100%}\n",
              "    .wandb-row { display: flex; flex-direction: row; flex-wrap: wrap; justify-content: flex-start; width: 100% }\n",
              "    .wandb-col { display: flex; flex-direction: column; flex-basis: 100%; flex: 1; padding: 10px; }\n",
              "    </style>\n",
              "<div class=\"wandb-row\"><div class=\"wandb-col\"><h3>Run history:</h3><br/><table class=\"wandb\"><tr><td>train accuracy</td><td>▁▄▆▆▇▇▇███</td></tr><tr><td>train loss</td><td>█▅▃▂▁▁▁▁▁▁</td></tr><tr><td>validation accuracy</td><td>▁▅▅▆▇▇▇▇██</td></tr><tr><td>validation loss</td><td>█▄▃▂▂▁▁▁▁▁</td></tr></table><br/></div><div class=\"wandb-col\"><h3>Run summary:</h3><br/><table class=\"wandb\"><tr><td>train accuracy</td><td>0.75878</td></tr><tr><td>train loss</td><td>0.73035</td></tr><tr><td>validation accuracy</td><td>0.75983</td></tr><tr><td>validation loss</td><td>0.73312</td></tr></table><br/></div></div>"
            ],
            "text/plain": [
              "<IPython.core.display.HTML object>"
            ]
          },
          "metadata": {},
          "output_type": "display_data"
        },
        {
          "data": {
            "text/html": [
              " View run <strong style=\"color:#cdcd00\">drawn-sweep-4</strong> at: <a href='https://wandb.ai/cs22m019/DL%20Final%20Assignment%201/runs/cab0l47u' target=\"_blank\">https://wandb.ai/cs22m019/DL%20Final%20Assignment%201/runs/cab0l47u</a><br/>Synced 6 W&B file(s), 0 media file(s), 0 artifact file(s) and 0 other file(s)"
            ],
            "text/plain": [
              "<IPython.core.display.HTML object>"
            ]
          },
          "metadata": {},
          "output_type": "display_data"
        },
        {
          "data": {
            "text/html": [
              "Find logs at: <code>.\\wandb\\run-20230309_034227-cab0l47u\\logs</code>"
            ],
            "text/plain": [
              "<IPython.core.display.HTML object>"
            ]
          },
          "metadata": {},
          "output_type": "display_data"
        },
        {
          "name": "stderr",
          "output_type": "stream",
          "text": [
            "\u001b[34m\u001b[1mwandb\u001b[0m: Agent Starting Run: bsho1cd2 with config:\n",
            "\u001b[34m\u001b[1mwandb\u001b[0m: \tactivation: ReLU\n",
            "\u001b[34m\u001b[1mwandb\u001b[0m: \tbatch_size: 16\n",
            "\u001b[34m\u001b[1mwandb\u001b[0m: \tepochs: 5\n",
            "\u001b[34m\u001b[1mwandb\u001b[0m: \tlearning_rate: 0.0001\n",
            "\u001b[34m\u001b[1mwandb\u001b[0m: \tnumber_of_hidden_layer: 5\n",
            "\u001b[34m\u001b[1mwandb\u001b[0m: \toptimizer: nadam\n",
            "\u001b[34m\u001b[1mwandb\u001b[0m: \tsize_of_hidden_layer: 64\n",
            "\u001b[34m\u001b[1mwandb\u001b[0m: \tweight_decay: 0.0005\n",
            "\u001b[34m\u001b[1mwandb\u001b[0m: \tweight_initialization: Xavier\n"
          ]
        },
        {
          "data": {
            "text/html": [
              "Tracking run with wandb version 0.13.11"
            ],
            "text/plain": [
              "<IPython.core.display.HTML object>"
            ]
          },
          "metadata": {},
          "output_type": "display_data"
        },
        {
          "data": {
            "text/html": [
              "Run data is saved locally in <code>C:\\Users\\DELL\\Desktop\\wandb\\run-20230309_040502-bsho1cd2</code>"
            ],
            "text/plain": [
              "<IPython.core.display.HTML object>"
            ]
          },
          "metadata": {},
          "output_type": "display_data"
        },
        {
          "data": {
            "text/html": [
              "Syncing run <strong><a href='https://wandb.ai/cs22m019/DL%20Final%20Assignment%201/runs/bsho1cd2' target=\"_blank\">ethereal-sweep-5</a></strong> to <a href='https://wandb.ai/cs22m019/DL%20Final%20Assignment%201' target=\"_blank\">Weights & Biases</a> (<a href='https://wandb.me/run' target=\"_blank\">docs</a>)<br/>Sweep page: <a href='https://wandb.ai/cs22m019/DL%20Final%20Assignment%201/sweeps/cuhjfznh' target=\"_blank\">https://wandb.ai/cs22m019/DL%20Final%20Assignment%201/sweeps/cuhjfznh</a>"
            ],
            "text/plain": [
              "<IPython.core.display.HTML object>"
            ]
          },
          "metadata": {},
          "output_type": "display_data"
        },
        {
          "data": {
            "text/html": [
              " View project at <a href='https://wandb.ai/cs22m019/DL%20Final%20Assignment%201' target=\"_blank\">https://wandb.ai/cs22m019/DL%20Final%20Assignment%201</a>"
            ],
            "text/plain": [
              "<IPython.core.display.HTML object>"
            ]
          },
          "metadata": {},
          "output_type": "display_data"
        },
        {
          "data": {
            "text/html": [
              " View sweep at <a href='https://wandb.ai/cs22m019/DL%20Final%20Assignment%201/sweeps/cuhjfznh' target=\"_blank\">https://wandb.ai/cs22m019/DL%20Final%20Assignment%201/sweeps/cuhjfznh</a>"
            ],
            "text/plain": [
              "<IPython.core.display.HTML object>"
            ]
          },
          "metadata": {},
          "output_type": "display_data"
        },
        {
          "data": {
            "text/html": [
              " View run at <a href='https://wandb.ai/cs22m019/DL%20Final%20Assignment%201/runs/bsho1cd2' target=\"_blank\">https://wandb.ai/cs22m019/DL%20Final%20Assignment%201/runs/bsho1cd2</a>"
            ],
            "text/plain": [
              "<IPython.core.display.HTML object>"
            ]
          },
          "metadata": {},
          "output_type": "display_data"
        },
        {
          "name": "stdout",
          "output_type": "stream",
          "text": [
            "epoch:1, train loss:2.078808526977658, train accuracy:0.3637037037037037, validation loss:1.6992344584417027, validation accuracy:0.43716666666666665\n",
            "epoch:2, train loss:1.308027755686263, train accuracy:0.6203888888888889, validation loss:1.0351003591795926, validation accuracy:0.6966666666666667\n",
            "epoch:3, train loss:0.902991411461968, train accuracy:0.7204814814814815, validation loss:0.8180761914636422, validation accuracy:0.7321666666666666\n",
            "epoch:4, train loss:0.7624561124501479, train accuracy:0.7421851851851852, validation loss:0.7296034968588583, validation accuracy:0.7505\n",
            "epoch:5, train loss:0.6952056808927749, train accuracy:0.7577222222222222, validation loss:0.678616522706193, validation accuracy:0.763\n"
          ]
        },
        {
          "data": {
            "text/html": [
              "Waiting for W&B process to finish... <strong style=\"color:green\">(success).</strong>"
            ],
            "text/plain": [
              "<IPython.core.display.HTML object>"
            ]
          },
          "metadata": {},
          "output_type": "display_data"
        },
        {
          "data": {
            "text/html": [
              "<style>\n",
              "    table.wandb td:nth-child(1) { padding: 0 10px; text-align: left ; width: auto;} td:nth-child(2) {text-align: left ; width: 100%}\n",
              "    .wandb-row { display: flex; flex-direction: row; flex-wrap: wrap; justify-content: flex-start; width: 100% }\n",
              "    .wandb-col { display: flex; flex-direction: column; flex-basis: 100%; flex: 1; padding: 10px; }\n",
              "    </style>\n",
              "<div class=\"wandb-row\"><div class=\"wandb-col\"><h3>Run history:</h3><br/><table class=\"wandb\"><tr><td>train accuracy</td><td>▁▆▇██</td></tr><tr><td>train loss</td><td>█▄▂▁▁</td></tr><tr><td>validation accuracy</td><td>▁▇▇██</td></tr><tr><td>validation loss</td><td>█▃▂▁▁</td></tr></table><br/></div><div class=\"wandb-col\"><h3>Run summary:</h3><br/><table class=\"wandb\"><tr><td>train accuracy</td><td>0.75772</td></tr><tr><td>train loss</td><td>0.69521</td></tr><tr><td>validation accuracy</td><td>0.763</td></tr><tr><td>validation loss</td><td>0.67862</td></tr></table><br/></div></div>"
            ],
            "text/plain": [
              "<IPython.core.display.HTML object>"
            ]
          },
          "metadata": {},
          "output_type": "display_data"
        },
        {
          "data": {
            "text/html": [
              " View run <strong style=\"color:#cdcd00\">ethereal-sweep-5</strong> at: <a href='https://wandb.ai/cs22m019/DL%20Final%20Assignment%201/runs/bsho1cd2' target=\"_blank\">https://wandb.ai/cs22m019/DL%20Final%20Assignment%201/runs/bsho1cd2</a><br/>Synced 6 W&B file(s), 0 media file(s), 0 artifact file(s) and 0 other file(s)"
            ],
            "text/plain": [
              "<IPython.core.display.HTML object>"
            ]
          },
          "metadata": {},
          "output_type": "display_data"
        },
        {
          "data": {
            "text/html": [
              "Find logs at: <code>.\\wandb\\run-20230309_040502-bsho1cd2\\logs</code>"
            ],
            "text/plain": [
              "<IPython.core.display.HTML object>"
            ]
          },
          "metadata": {},
          "output_type": "display_data"
        },
        {
          "name": "stderr",
          "output_type": "stream",
          "text": [
            "\u001b[34m\u001b[1mwandb\u001b[0m: Agent Starting Run: 67hszstt with config:\n",
            "\u001b[34m\u001b[1mwandb\u001b[0m: \tactivation: ReLU\n",
            "\u001b[34m\u001b[1mwandb\u001b[0m: \tbatch_size: 32\n",
            "\u001b[34m\u001b[1mwandb\u001b[0m: \tepochs: 10\n",
            "\u001b[34m\u001b[1mwandb\u001b[0m: \tlearning_rate: 0.0001\n",
            "\u001b[34m\u001b[1mwandb\u001b[0m: \tnumber_of_hidden_layer: 5\n",
            "\u001b[34m\u001b[1mwandb\u001b[0m: \toptimizer: nadam\n",
            "\u001b[34m\u001b[1mwandb\u001b[0m: \tsize_of_hidden_layer: 32\n",
            "\u001b[34m\u001b[1mwandb\u001b[0m: \tweight_decay: 0.5\n",
            "\u001b[34m\u001b[1mwandb\u001b[0m: \tweight_initialization: Xavier\n"
          ]
        },
        {
          "data": {
            "text/html": [
              "Tracking run with wandb version 0.13.11"
            ],
            "text/plain": [
              "<IPython.core.display.HTML object>"
            ]
          },
          "metadata": {},
          "output_type": "display_data"
        },
        {
          "data": {
            "text/html": [
              "Run data is saved locally in <code>C:\\Users\\DELL\\Desktop\\wandb\\run-20230309_041152-67hszstt</code>"
            ],
            "text/plain": [
              "<IPython.core.display.HTML object>"
            ]
          },
          "metadata": {},
          "output_type": "display_data"
        },
        {
          "data": {
            "text/html": [
              "Syncing run <strong><a href='https://wandb.ai/cs22m019/DL%20Final%20Assignment%201/runs/67hszstt' target=\"_blank\">fluent-sweep-6</a></strong> to <a href='https://wandb.ai/cs22m019/DL%20Final%20Assignment%201' target=\"_blank\">Weights & Biases</a> (<a href='https://wandb.me/run' target=\"_blank\">docs</a>)<br/>Sweep page: <a href='https://wandb.ai/cs22m019/DL%20Final%20Assignment%201/sweeps/cuhjfznh' target=\"_blank\">https://wandb.ai/cs22m019/DL%20Final%20Assignment%201/sweeps/cuhjfznh</a>"
            ],
            "text/plain": [
              "<IPython.core.display.HTML object>"
            ]
          },
          "metadata": {},
          "output_type": "display_data"
        },
        {
          "data": {
            "text/html": [
              " View project at <a href='https://wandb.ai/cs22m019/DL%20Final%20Assignment%201' target=\"_blank\">https://wandb.ai/cs22m019/DL%20Final%20Assignment%201</a>"
            ],
            "text/plain": [
              "<IPython.core.display.HTML object>"
            ]
          },
          "metadata": {},
          "output_type": "display_data"
        },
        {
          "data": {
            "text/html": [
              " View sweep at <a href='https://wandb.ai/cs22m019/DL%20Final%20Assignment%201/sweeps/cuhjfznh' target=\"_blank\">https://wandb.ai/cs22m019/DL%20Final%20Assignment%201/sweeps/cuhjfznh</a>"
            ],
            "text/plain": [
              "<IPython.core.display.HTML object>"
            ]
          },
          "metadata": {},
          "output_type": "display_data"
        },
        {
          "data": {
            "text/html": [
              " View run at <a href='https://wandb.ai/cs22m019/DL%20Final%20Assignment%201/runs/67hszstt' target=\"_blank\">https://wandb.ai/cs22m019/DL%20Final%20Assignment%201/runs/67hszstt</a>"
            ],
            "text/plain": [
              "<IPython.core.display.HTML object>"
            ]
          },
          "metadata": {},
          "output_type": "display_data"
        },
        {
          "name": "stdout",
          "output_type": "stream",
          "text": [
            "epoch:1, train loss:2.0597965422116555, train accuracy:0.31544444444444447, validation loss:1.692719469715832, validation accuracy:0.43333333333333335\n",
            "epoch:2, train loss:1.3073022508673764, train accuracy:0.5723333333333334, validation loss:1.0073489046052926, validation accuracy:0.6526666666666666\n",
            "epoch:3, train loss:0.9125742851517874, train accuracy:0.6752222222222222, validation loss:0.8620099055190851, validation accuracy:0.6958333333333333\n",
            "epoch:4, train loss:0.8345605557813113, train accuracy:0.7028148148148148, validation loss:0.8143915250233666, validation accuracy:0.7128333333333333\n",
            "epoch:5, train loss:0.805709382358577, train accuracy:0.7172037037037037, validation loss:0.7938970828765344, validation accuracy:0.729\n",
            "epoch:6, train loss:0.7957045885773633, train accuracy:0.7260925925925926, validation loss:0.7873891450179908, validation accuracy:0.7338333333333333\n",
            "epoch:7, train loss:0.7905796827960857, train accuracy:0.7348703703703704, validation loss:0.7771072828879618, validation accuracy:0.7415\n",
            "epoch:8, train loss:0.7847944341456173, train accuracy:0.7422037037037037, validation loss:0.7755518523126266, validation accuracy:0.7521666666666667\n",
            "epoch:9, train loss:0.777969163216469, train accuracy:0.7495555555555555, validation loss:0.7698705836727363, validation accuracy:0.7566666666666667\n",
            "epoch:10, train loss:0.7772679640266134, train accuracy:0.7563888888888889, validation loss:0.7668470666213378, validation accuracy:0.7645\n"
          ]
        },
        {
          "data": {
            "text/html": [
              "Waiting for W&B process to finish... <strong style=\"color:green\">(success).</strong>"
            ],
            "text/plain": [
              "<IPython.core.display.HTML object>"
            ]
          },
          "metadata": {},
          "output_type": "display_data"
        },
        {
          "data": {
            "application/vnd.jupyter.widget-view+json": {
              "model_id": "4eee6ff5d20f4a30b13a6f35dd99f6d5",
              "version_major": 2,
              "version_minor": 0
            },
            "text/plain": [
              "VBox(children=(Label(value='0.001 MB of 0.001 MB uploaded (0.000 MB deduped)\\r'), FloatProgress(value=1.0, max…"
            ]
          },
          "metadata": {},
          "output_type": "display_data"
        },
        {
          "data": {
            "text/html": [
              "<style>\n",
              "    table.wandb td:nth-child(1) { padding: 0 10px; text-align: left ; width: auto;} td:nth-child(2) {text-align: left ; width: 100%}\n",
              "    .wandb-row { display: flex; flex-direction: row; flex-wrap: wrap; justify-content: flex-start; width: 100% }\n",
              "    .wandb-col { display: flex; flex-direction: column; flex-basis: 100%; flex: 1; padding: 10px; }\n",
              "    </style>\n",
              "<div class=\"wandb-row\"><div class=\"wandb-col\"><h3>Run history:</h3><br/><table class=\"wandb\"><tr><td>train accuracy</td><td>▁▅▇▇▇█████</td></tr><tr><td>train loss</td><td>█▄▂▁▁▁▁▁▁▁</td></tr><tr><td>validation accuracy</td><td>▁▆▇▇▇▇████</td></tr><tr><td>validation loss</td><td>█▃▂▁▁▁▁▁▁▁</td></tr></table><br/></div><div class=\"wandb-col\"><h3>Run summary:</h3><br/><table class=\"wandb\"><tr><td>train accuracy</td><td>0.75639</td></tr><tr><td>train loss</td><td>0.77727</td></tr><tr><td>validation accuracy</td><td>0.7645</td></tr><tr><td>validation loss</td><td>0.76685</td></tr></table><br/></div></div>"
            ],
            "text/plain": [
              "<IPython.core.display.HTML object>"
            ]
          },
          "metadata": {},
          "output_type": "display_data"
        },
        {
          "data": {
            "text/html": [
              " View run <strong style=\"color:#cdcd00\">fluent-sweep-6</strong> at: <a href='https://wandb.ai/cs22m019/DL%20Final%20Assignment%201/runs/67hszstt' target=\"_blank\">https://wandb.ai/cs22m019/DL%20Final%20Assignment%201/runs/67hszstt</a><br/>Synced 6 W&B file(s), 0 media file(s), 0 artifact file(s) and 0 other file(s)"
            ],
            "text/plain": [
              "<IPython.core.display.HTML object>"
            ]
          },
          "metadata": {},
          "output_type": "display_data"
        },
        {
          "data": {
            "text/html": [
              "Find logs at: <code>.\\wandb\\run-20230309_041152-67hszstt\\logs</code>"
            ],
            "text/plain": [
              "<IPython.core.display.HTML object>"
            ]
          },
          "metadata": {},
          "output_type": "display_data"
        },
        {
          "name": "stderr",
          "output_type": "stream",
          "text": [
            "\u001b[34m\u001b[1mwandb\u001b[0m: Agent Starting Run: xh96qzg7 with config:\n",
            "\u001b[34m\u001b[1mwandb\u001b[0m: \tactivation: ReLU\n",
            "\u001b[34m\u001b[1mwandb\u001b[0m: \tbatch_size: 64\n",
            "\u001b[34m\u001b[1mwandb\u001b[0m: \tepochs: 5\n",
            "\u001b[34m\u001b[1mwandb\u001b[0m: \tlearning_rate: 0.0001\n",
            "\u001b[34m\u001b[1mwandb\u001b[0m: \tnumber_of_hidden_layer: 5\n",
            "\u001b[34m\u001b[1mwandb\u001b[0m: \toptimizer: nadam\n",
            "\u001b[34m\u001b[1mwandb\u001b[0m: \tsize_of_hidden_layer: 32\n",
            "\u001b[34m\u001b[1mwandb\u001b[0m: \tweight_decay: 0.5\n",
            "\u001b[34m\u001b[1mwandb\u001b[0m: \tweight_initialization: Xavier\n"
          ]
        },
        {
          "data": {
            "text/html": [
              "Tracking run with wandb version 0.13.11"
            ],
            "text/plain": [
              "<IPython.core.display.HTML object>"
            ]
          },
          "metadata": {},
          "output_type": "display_data"
        },
        {
          "data": {
            "text/html": [
              "Run data is saved locally in <code>C:\\Users\\DELL\\Desktop\\wandb\\run-20230309_043554-xh96qzg7</code>"
            ],
            "text/plain": [
              "<IPython.core.display.HTML object>"
            ]
          },
          "metadata": {},
          "output_type": "display_data"
        },
        {
          "data": {
            "text/html": [
              "Syncing run <strong><a href='https://wandb.ai/cs22m019/DL%20Final%20Assignment%201/runs/xh96qzg7' target=\"_blank\">trim-sweep-7</a></strong> to <a href='https://wandb.ai/cs22m019/DL%20Final%20Assignment%201' target=\"_blank\">Weights & Biases</a> (<a href='https://wandb.me/run' target=\"_blank\">docs</a>)<br/>Sweep page: <a href='https://wandb.ai/cs22m019/DL%20Final%20Assignment%201/sweeps/cuhjfznh' target=\"_blank\">https://wandb.ai/cs22m019/DL%20Final%20Assignment%201/sweeps/cuhjfznh</a>"
            ],
            "text/plain": [
              "<IPython.core.display.HTML object>"
            ]
          },
          "metadata": {},
          "output_type": "display_data"
        },
        {
          "data": {
            "text/html": [
              " View project at <a href='https://wandb.ai/cs22m019/DL%20Final%20Assignment%201' target=\"_blank\">https://wandb.ai/cs22m019/DL%20Final%20Assignment%201</a>"
            ],
            "text/plain": [
              "<IPython.core.display.HTML object>"
            ]
          },
          "metadata": {},
          "output_type": "display_data"
        },
        {
          "data": {
            "text/html": [
              " View sweep at <a href='https://wandb.ai/cs22m019/DL%20Final%20Assignment%201/sweeps/cuhjfznh' target=\"_blank\">https://wandb.ai/cs22m019/DL%20Final%20Assignment%201/sweeps/cuhjfznh</a>"
            ],
            "text/plain": [
              "<IPython.core.display.HTML object>"
            ]
          },
          "metadata": {},
          "output_type": "display_data"
        },
        {
          "data": {
            "text/html": [
              " View run at <a href='https://wandb.ai/cs22m019/DL%20Final%20Assignment%201/runs/xh96qzg7' target=\"_blank\">https://wandb.ai/cs22m019/DL%20Final%20Assignment%201/runs/xh96qzg7</a>"
            ],
            "text/plain": [
              "<IPython.core.display.HTML object>"
            ]
          },
          "metadata": {},
          "output_type": "display_data"
        },
        {
          "name": "stdout",
          "output_type": "stream",
          "text": [
            "epoch:1, train loss:2.2441428225673175, train accuracy:0.17737037037037037, validation loss:2.0751125731565345, validation accuracy:0.241\n",
            "epoch:2, train loss:1.8908769755816548, train accuracy:0.2855740740740741, validation loss:1.7053098635771478, validation accuracy:0.37383333333333335\n",
            "epoch:3, train loss:1.539732319815318, train accuracy:0.45501851851851854, validation loss:1.4028099009637303, validation accuracy:0.49383333333333335\n",
            "epoch:4, train loss:1.292702706508745, train accuracy:0.5222037037037037, validation loss:1.2002433662191858, validation accuracy:0.549\n",
            "epoch:5, train loss:1.1161376339481088, train accuracy:0.5969444444444445, validation loss:1.0449925045151864, validation accuracy:0.642\n"
          ]
        },
        {
          "data": {
            "text/html": [
              "Waiting for W&B process to finish... <strong style=\"color:green\">(success).</strong>"
            ],
            "text/plain": [
              "<IPython.core.display.HTML object>"
            ]
          },
          "metadata": {},
          "output_type": "display_data"
        },
        {
          "data": {
            "application/vnd.jupyter.widget-view+json": {
              "model_id": "26ce9a7a3c584bf390acc52ef89f1357",
              "version_major": 2,
              "version_minor": 0
            },
            "text/plain": [
              "VBox(children=(Label(value='0.001 MB of 0.001 MB uploaded (0.000 MB deduped)\\r'), FloatProgress(value=1.0, max…"
            ]
          },
          "metadata": {},
          "output_type": "display_data"
        },
        {
          "data": {
            "text/html": [
              "<style>\n",
              "    table.wandb td:nth-child(1) { padding: 0 10px; text-align: left ; width: auto;} td:nth-child(2) {text-align: left ; width: 100%}\n",
              "    .wandb-row { display: flex; flex-direction: row; flex-wrap: wrap; justify-content: flex-start; width: 100% }\n",
              "    .wandb-col { display: flex; flex-direction: column; flex-basis: 100%; flex: 1; padding: 10px; }\n",
              "    </style>\n",
              "<div class=\"wandb-row\"><div class=\"wandb-col\"><h3>Run history:</h3><br/><table class=\"wandb\"><tr><td>train accuracy</td><td>▁▃▆▇█</td></tr><tr><td>train loss</td><td>█▆▄▂▁</td></tr><tr><td>validation accuracy</td><td>▁▃▅▆█</td></tr><tr><td>validation loss</td><td>█▅▃▂▁</td></tr></table><br/></div><div class=\"wandb-col\"><h3>Run summary:</h3><br/><table class=\"wandb\"><tr><td>train accuracy</td><td>0.59694</td></tr><tr><td>train loss</td><td>1.11614</td></tr><tr><td>validation accuracy</td><td>0.642</td></tr><tr><td>validation loss</td><td>1.04499</td></tr></table><br/></div></div>"
            ],
            "text/plain": [
              "<IPython.core.display.HTML object>"
            ]
          },
          "metadata": {},
          "output_type": "display_data"
        },
        {
          "data": {
            "text/html": [
              " View run <strong style=\"color:#cdcd00\">trim-sweep-7</strong> at: <a href='https://wandb.ai/cs22m019/DL%20Final%20Assignment%201/runs/xh96qzg7' target=\"_blank\">https://wandb.ai/cs22m019/DL%20Final%20Assignment%201/runs/xh96qzg7</a><br/>Synced 6 W&B file(s), 0 media file(s), 0 artifact file(s) and 0 other file(s)"
            ],
            "text/plain": [
              "<IPython.core.display.HTML object>"
            ]
          },
          "metadata": {},
          "output_type": "display_data"
        },
        {
          "data": {
            "text/html": [
              "Find logs at: <code>.\\wandb\\run-20230309_043554-xh96qzg7\\logs</code>"
            ],
            "text/plain": [
              "<IPython.core.display.HTML object>"
            ]
          },
          "metadata": {},
          "output_type": "display_data"
        },
        {
          "name": "stderr",
          "output_type": "stream",
          "text": [
            "\u001b[34m\u001b[1mwandb\u001b[0m: Sweep Agent: Waiting for job.\n",
            "\u001b[34m\u001b[1mwandb\u001b[0m: Job received.\n",
            "\u001b[34m\u001b[1mwandb\u001b[0m: Agent Starting Run: 78klxnb9 with config:\n",
            "\u001b[34m\u001b[1mwandb\u001b[0m: \tactivation: ReLU\n",
            "\u001b[34m\u001b[1mwandb\u001b[0m: \tbatch_size: 32\n",
            "\u001b[34m\u001b[1mwandb\u001b[0m: \tepochs: 10\n",
            "\u001b[34m\u001b[1mwandb\u001b[0m: \tlearning_rate: 0.0001\n",
            "\u001b[34m\u001b[1mwandb\u001b[0m: \tnumber_of_hidden_layer: 3\n",
            "\u001b[34m\u001b[1mwandb\u001b[0m: \toptimizer: nadam\n",
            "\u001b[34m\u001b[1mwandb\u001b[0m: \tsize_of_hidden_layer: 32\n",
            "\u001b[34m\u001b[1mwandb\u001b[0m: \tweight_decay: 0.0005\n",
            "\u001b[34m\u001b[1mwandb\u001b[0m: \tweight_initialization: Xavier\n"
          ]
        },
        {
          "data": {
            "text/html": [
              "Tracking run with wandb version 0.13.11"
            ],
            "text/plain": [
              "<IPython.core.display.HTML object>"
            ]
          },
          "metadata": {},
          "output_type": "display_data"
        },
        {
          "data": {
            "text/html": [
              "Run data is saved locally in <code>C:\\Users\\DELL\\Desktop\\wandb\\run-20230309_044617-78klxnb9</code>"
            ],
            "text/plain": [
              "<IPython.core.display.HTML object>"
            ]
          },
          "metadata": {},
          "output_type": "display_data"
        },
        {
          "data": {
            "text/html": [
              "Syncing run <strong><a href='https://wandb.ai/cs22m019/DL%20Final%20Assignment%201/runs/78klxnb9' target=\"_blank\">flowing-sweep-8</a></strong> to <a href='https://wandb.ai/cs22m019/DL%20Final%20Assignment%201' target=\"_blank\">Weights & Biases</a> (<a href='https://wandb.me/run' target=\"_blank\">docs</a>)<br/>Sweep page: <a href='https://wandb.ai/cs22m019/DL%20Final%20Assignment%201/sweeps/cuhjfznh' target=\"_blank\">https://wandb.ai/cs22m019/DL%20Final%20Assignment%201/sweeps/cuhjfznh</a>"
            ],
            "text/plain": [
              "<IPython.core.display.HTML object>"
            ]
          },
          "metadata": {},
          "output_type": "display_data"
        },
        {
          "data": {
            "text/html": [
              " View project at <a href='https://wandb.ai/cs22m019/DL%20Final%20Assignment%201' target=\"_blank\">https://wandb.ai/cs22m019/DL%20Final%20Assignment%201</a>"
            ],
            "text/plain": [
              "<IPython.core.display.HTML object>"
            ]
          },
          "metadata": {},
          "output_type": "display_data"
        },
        {
          "data": {
            "text/html": [
              " View sweep at <a href='https://wandb.ai/cs22m019/DL%20Final%20Assignment%201/sweeps/cuhjfznh' target=\"_blank\">https://wandb.ai/cs22m019/DL%20Final%20Assignment%201/sweeps/cuhjfznh</a>"
            ],
            "text/plain": [
              "<IPython.core.display.HTML object>"
            ]
          },
          "metadata": {},
          "output_type": "display_data"
        },
        {
          "data": {
            "text/html": [
              " View run at <a href='https://wandb.ai/cs22m019/DL%20Final%20Assignment%201/runs/78klxnb9' target=\"_blank\">https://wandb.ai/cs22m019/DL%20Final%20Assignment%201/runs/78klxnb9</a>"
            ],
            "text/plain": [
              "<IPython.core.display.HTML object>"
            ]
          },
          "metadata": {},
          "output_type": "display_data"
        },
        {
          "name": "stdout",
          "output_type": "stream",
          "text": [
            "epoch:1, train loss:1.9356995697118957, train accuracy:0.3089074074074074, validation loss:1.5647006443441125, validation accuracy:0.4671666666666667\n",
            "epoch:2, train loss:1.3684271784903408, train accuracy:0.5064444444444445, validation loss:1.212628676599758, validation accuracy:0.5548333333333333\n",
            "epoch:3, train loss:1.0941724611880008, train accuracy:0.6082592592592593, validation loss:0.999325811562412, validation accuracy:0.6421666666666667\n",
            "epoch:4, train loss:0.9240379797236258, train accuracy:0.6658888888888889, validation loss:0.8674001381241468, validation accuracy:0.6828333333333333\n",
            "epoch:5, train loss:0.8284790355652697, train accuracy:0.6967592592592593, validation loss:0.8042590256456368, validation accuracy:0.7055\n",
            "epoch:6, train loss:0.7750918981772332, train accuracy:0.7192037037037037, validation loss:0.7700083419974065, validation accuracy:0.7145\n",
            "epoch:7, train loss:0.7395253290791761, train accuracy:0.7345925925925926, validation loss:0.7326607454225469, validation accuracy:0.7365\n",
            "epoch:8, train loss:0.717180474857885, train accuracy:0.7477592592592592, validation loss:0.7121543467884034, validation accuracy:0.7466666666666667\n",
            "epoch:9, train loss:0.7021675640000522, train accuracy:0.7579259259259259, validation loss:0.6994336084677997, validation accuracy:0.7571666666666667\n",
            "epoch:10, train loss:0.6914512406903479, train accuracy:0.7677037037037037, validation loss:0.6897609780662955, validation accuracy:0.7665\n"
          ]
        },
        {
          "data": {
            "text/html": [
              "Waiting for W&B process to finish... <strong style=\"color:green\">(success).</strong>"
            ],
            "text/plain": [
              "<IPython.core.display.HTML object>"
            ]
          },
          "metadata": {},
          "output_type": "display_data"
        },
        {
          "data": {
            "application/vnd.jupyter.widget-view+json": {
              "model_id": "8b426f8d31f145c4a0f95d2e4fa0ff32",
              "version_major": 2,
              "version_minor": 0
            },
            "text/plain": [
              "VBox(children=(Label(value='0.001 MB of 0.001 MB uploaded (0.000 MB deduped)\\r'), FloatProgress(value=1.0, max…"
            ]
          },
          "metadata": {},
          "output_type": "display_data"
        },
        {
          "data": {
            "text/html": [
              "<style>\n",
              "    table.wandb td:nth-child(1) { padding: 0 10px; text-align: left ; width: auto;} td:nth-child(2) {text-align: left ; width: 100%}\n",
              "    .wandb-row { display: flex; flex-direction: row; flex-wrap: wrap; justify-content: flex-start; width: 100% }\n",
              "    .wandb-col { display: flex; flex-direction: column; flex-basis: 100%; flex: 1; padding: 10px; }\n",
              "    </style>\n",
              "<div class=\"wandb-row\"><div class=\"wandb-col\"><h3>Run history:</h3><br/><table class=\"wandb\"><tr><td>train accuracy</td><td>▁▄▆▆▇▇▇███</td></tr><tr><td>train loss</td><td>█▅▃▂▂▁▁▁▁▁</td></tr><tr><td>validation accuracy</td><td>▁▃▅▆▇▇▇███</td></tr><tr><td>validation loss</td><td>█▅▃▂▂▂▁▁▁▁</td></tr></table><br/></div><div class=\"wandb-col\"><h3>Run summary:</h3><br/><table class=\"wandb\"><tr><td>train accuracy</td><td>0.7677</td></tr><tr><td>train loss</td><td>0.69145</td></tr><tr><td>validation accuracy</td><td>0.7665</td></tr><tr><td>validation loss</td><td>0.68976</td></tr></table><br/></div></div>"
            ],
            "text/plain": [
              "<IPython.core.display.HTML object>"
            ]
          },
          "metadata": {},
          "output_type": "display_data"
        },
        {
          "data": {
            "text/html": [
              " View run <strong style=\"color:#cdcd00\">flowing-sweep-8</strong> at: <a href='https://wandb.ai/cs22m019/DL%20Final%20Assignment%201/runs/78klxnb9' target=\"_blank\">https://wandb.ai/cs22m019/DL%20Final%20Assignment%201/runs/78klxnb9</a><br/>Synced 6 W&B file(s), 0 media file(s), 0 artifact file(s) and 0 other file(s)"
            ],
            "text/plain": [
              "<IPython.core.display.HTML object>"
            ]
          },
          "metadata": {},
          "output_type": "display_data"
        },
        {
          "data": {
            "text/html": [
              "Find logs at: <code>.\\wandb\\run-20230309_044617-78klxnb9\\logs</code>"
            ],
            "text/plain": [
              "<IPython.core.display.HTML object>"
            ]
          },
          "metadata": {},
          "output_type": "display_data"
        },
        {
          "name": "stderr",
          "output_type": "stream",
          "text": [
            "\u001b[34m\u001b[1mwandb\u001b[0m: Agent Starting Run: ru874kwi with config:\n",
            "\u001b[34m\u001b[1mwandb\u001b[0m: \tactivation: tanh\n",
            "\u001b[34m\u001b[1mwandb\u001b[0m: \tbatch_size: 16\n",
            "\u001b[34m\u001b[1mwandb\u001b[0m: \tepochs: 5\n",
            "\u001b[34m\u001b[1mwandb\u001b[0m: \tlearning_rate: 0.0001\n",
            "\u001b[34m\u001b[1mwandb\u001b[0m: \tnumber_of_hidden_layer: 5\n",
            "\u001b[34m\u001b[1mwandb\u001b[0m: \toptimizer: nadam\n",
            "\u001b[34m\u001b[1mwandb\u001b[0m: \tsize_of_hidden_layer: 32\n",
            "\u001b[34m\u001b[1mwandb\u001b[0m: \tweight_decay: 0.5\n",
            "\u001b[34m\u001b[1mwandb\u001b[0m: \tweight_initialization: Xavier\n"
          ]
        },
        {
          "data": {
            "text/html": [
              "Tracking run with wandb version 0.13.11"
            ],
            "text/plain": [
              "<IPython.core.display.HTML object>"
            ]
          },
          "metadata": {},
          "output_type": "display_data"
        },
        {
          "data": {
            "text/html": [
              "Run data is saved locally in <code>C:\\Users\\DELL\\Desktop\\wandb\\run-20230309_050655-ru874kwi</code>"
            ],
            "text/plain": [
              "<IPython.core.display.HTML object>"
            ]
          },
          "metadata": {},
          "output_type": "display_data"
        },
        {
          "data": {
            "text/html": [
              "Syncing run <strong><a href='https://wandb.ai/cs22m019/DL%20Final%20Assignment%201/runs/ru874kwi' target=\"_blank\">charmed-sweep-9</a></strong> to <a href='https://wandb.ai/cs22m019/DL%20Final%20Assignment%201' target=\"_blank\">Weights & Biases</a> (<a href='https://wandb.me/run' target=\"_blank\">docs</a>)<br/>Sweep page: <a href='https://wandb.ai/cs22m019/DL%20Final%20Assignment%201/sweeps/cuhjfznh' target=\"_blank\">https://wandb.ai/cs22m019/DL%20Final%20Assignment%201/sweeps/cuhjfznh</a>"
            ],
            "text/plain": [
              "<IPython.core.display.HTML object>"
            ]
          },
          "metadata": {},
          "output_type": "display_data"
        },
        {
          "data": {
            "text/html": [
              " View project at <a href='https://wandb.ai/cs22m019/DL%20Final%20Assignment%201' target=\"_blank\">https://wandb.ai/cs22m019/DL%20Final%20Assignment%201</a>"
            ],
            "text/plain": [
              "<IPython.core.display.HTML object>"
            ]
          },
          "metadata": {},
          "output_type": "display_data"
        },
        {
          "data": {
            "text/html": [
              " View sweep at <a href='https://wandb.ai/cs22m019/DL%20Final%20Assignment%201/sweeps/cuhjfznh' target=\"_blank\">https://wandb.ai/cs22m019/DL%20Final%20Assignment%201/sweeps/cuhjfznh</a>"
            ],
            "text/plain": [
              "<IPython.core.display.HTML object>"
            ]
          },
          "metadata": {},
          "output_type": "display_data"
        },
        {
          "data": {
            "text/html": [
              " View run at <a href='https://wandb.ai/cs22m019/DL%20Final%20Assignment%201/runs/ru874kwi' target=\"_blank\">https://wandb.ai/cs22m019/DL%20Final%20Assignment%201/runs/ru874kwi</a>"
            ],
            "text/plain": [
              "<IPython.core.display.HTML object>"
            ]
          },
          "metadata": {},
          "output_type": "display_data"
        },
        {
          "name": "stdout",
          "output_type": "stream",
          "text": [
            "epoch:1, train loss:1.9545501366016205, train accuracy:0.3943333333333333, validation loss:1.5897255697196768, validation accuracy:0.558\n",
            "epoch:2, train loss:1.3678490423912242, train accuracy:0.6140925925925926, validation loss:1.1826083512717407, validation accuracy:0.6745\n",
            "epoch:3, train loss:1.0622888967517492, train accuracy:0.710574074074074, validation loss:0.9627497234925663, validation accuracy:0.7225\n",
            "epoch:4, train loss:0.8931618638618672, train accuracy:0.7396111111111111, validation loss:0.8338552646057472, validation accuracy:0.7485\n",
            "epoch:5, train loss:0.7924499703687473, train accuracy:0.7556851851851852, validation loss:0.754961577521582, validation accuracy:0.7616666666666667\n"
          ]
        },
        {
          "data": {
            "text/html": [
              "Waiting for W&B process to finish... <strong style=\"color:green\">(success).</strong>"
            ],
            "text/plain": [
              "<IPython.core.display.HTML object>"
            ]
          },
          "metadata": {},
          "output_type": "display_data"
        },
        {
          "data": {
            "text/html": [
              "<style>\n",
              "    table.wandb td:nth-child(1) { padding: 0 10px; text-align: left ; width: auto;} td:nth-child(2) {text-align: left ; width: 100%}\n",
              "    .wandb-row { display: flex; flex-direction: row; flex-wrap: wrap; justify-content: flex-start; width: 100% }\n",
              "    .wandb-col { display: flex; flex-direction: column; flex-basis: 100%; flex: 1; padding: 10px; }\n",
              "    </style>\n",
              "<div class=\"wandb-row\"><div class=\"wandb-col\"><h3>Run history:</h3><br/><table class=\"wandb\"><tr><td>train accuracy</td><td>▁▅▇██</td></tr><tr><td>train loss</td><td>█▄▃▂▁</td></tr><tr><td>validation accuracy</td><td>▁▅▇██</td></tr><tr><td>validation loss</td><td>█▅▃▂▁</td></tr></table><br/></div><div class=\"wandb-col\"><h3>Run summary:</h3><br/><table class=\"wandb\"><tr><td>train accuracy</td><td>0.75569</td></tr><tr><td>train loss</td><td>0.79245</td></tr><tr><td>validation accuracy</td><td>0.76167</td></tr><tr><td>validation loss</td><td>0.75496</td></tr></table><br/></div></div>"
            ],
            "text/plain": [
              "<IPython.core.display.HTML object>"
            ]
          },
          "metadata": {},
          "output_type": "display_data"
        },
        {
          "data": {
            "text/html": [
              " View run <strong style=\"color:#cdcd00\">charmed-sweep-9</strong> at: <a href='https://wandb.ai/cs22m019/DL%20Final%20Assignment%201/runs/ru874kwi' target=\"_blank\">https://wandb.ai/cs22m019/DL%20Final%20Assignment%201/runs/ru874kwi</a><br/>Synced 6 W&B file(s), 0 media file(s), 0 artifact file(s) and 0 other file(s)"
            ],
            "text/plain": [
              "<IPython.core.display.HTML object>"
            ]
          },
          "metadata": {},
          "output_type": "display_data"
        },
        {
          "data": {
            "text/html": [
              "Find logs at: <code>.\\wandb\\run-20230309_050655-ru874kwi\\logs</code>"
            ],
            "text/plain": [
              "<IPython.core.display.HTML object>"
            ]
          },
          "metadata": {},
          "output_type": "display_data"
        },
        {
          "name": "stderr",
          "output_type": "stream",
          "text": [
            "\u001b[34m\u001b[1mwandb\u001b[0m: Agent Starting Run: iodw9rnq with config:\n",
            "\u001b[34m\u001b[1mwandb\u001b[0m: \tactivation: ReLU\n",
            "\u001b[34m\u001b[1mwandb\u001b[0m: \tbatch_size: 16\n",
            "\u001b[34m\u001b[1mwandb\u001b[0m: \tepochs: 5\n",
            "\u001b[34m\u001b[1mwandb\u001b[0m: \tlearning_rate: 0.0001\n",
            "\u001b[34m\u001b[1mwandb\u001b[0m: \tnumber_of_hidden_layer: 3\n",
            "\u001b[34m\u001b[1mwandb\u001b[0m: \toptimizer: nadam\n",
            "\u001b[34m\u001b[1mwandb\u001b[0m: \tsize_of_hidden_layer: 32\n",
            "\u001b[34m\u001b[1mwandb\u001b[0m: \tweight_decay: 0.0005\n",
            "\u001b[34m\u001b[1mwandb\u001b[0m: \tweight_initialization: random\n"
          ]
        },
        {
          "data": {
            "text/html": [
              "Tracking run with wandb version 0.13.11"
            ],
            "text/plain": [
              "<IPython.core.display.HTML object>"
            ]
          },
          "metadata": {},
          "output_type": "display_data"
        },
        {
          "data": {
            "text/html": [
              "Run data is saved locally in <code>C:\\Users\\DELL\\Desktop\\wandb\\run-20230309_051133-iodw9rnq</code>"
            ],
            "text/plain": [
              "<IPython.core.display.HTML object>"
            ]
          },
          "metadata": {},
          "output_type": "display_data"
        },
        {
          "data": {
            "text/html": [
              "Syncing run <strong><a href='https://wandb.ai/cs22m019/DL%20Final%20Assignment%201/runs/iodw9rnq' target=\"_blank\">amber-sweep-10</a></strong> to <a href='https://wandb.ai/cs22m019/DL%20Final%20Assignment%201' target=\"_blank\">Weights & Biases</a> (<a href='https://wandb.me/run' target=\"_blank\">docs</a>)<br/>Sweep page: <a href='https://wandb.ai/cs22m019/DL%20Final%20Assignment%201/sweeps/cuhjfznh' target=\"_blank\">https://wandb.ai/cs22m019/DL%20Final%20Assignment%201/sweeps/cuhjfznh</a>"
            ],
            "text/plain": [
              "<IPython.core.display.HTML object>"
            ]
          },
          "metadata": {},
          "output_type": "display_data"
        },
        {
          "data": {
            "text/html": [
              " View project at <a href='https://wandb.ai/cs22m019/DL%20Final%20Assignment%201' target=\"_blank\">https://wandb.ai/cs22m019/DL%20Final%20Assignment%201</a>"
            ],
            "text/plain": [
              "<IPython.core.display.HTML object>"
            ]
          },
          "metadata": {},
          "output_type": "display_data"
        },
        {
          "data": {
            "text/html": [
              " View sweep at <a href='https://wandb.ai/cs22m019/DL%20Final%20Assignment%201/sweeps/cuhjfznh' target=\"_blank\">https://wandb.ai/cs22m019/DL%20Final%20Assignment%201/sweeps/cuhjfznh</a>"
            ],
            "text/plain": [
              "<IPython.core.display.HTML object>"
            ]
          },
          "metadata": {},
          "output_type": "display_data"
        },
        {
          "data": {
            "text/html": [
              " View run at <a href='https://wandb.ai/cs22m019/DL%20Final%20Assignment%201/runs/iodw9rnq' target=\"_blank\">https://wandb.ai/cs22m019/DL%20Final%20Assignment%201/runs/iodw9rnq</a>"
            ],
            "text/plain": [
              "<IPython.core.display.HTML object>"
            ]
          },
          "metadata": {},
          "output_type": "display_data"
        },
        {
          "name": "stdout",
          "output_type": "stream",
          "text": [
            "epoch:1, train loss:13.343452642924714, train accuracy:0.1377962962962963, validation loss:11.395466226922657, validation accuracy:0.1525\n",
            "epoch:2, train loss:9.769201102606043, train accuracy:0.18724074074074074, validation loss:8.20878786648465, validation accuracy:0.23433333333333334\n",
            "epoch:3, train loss:7.211856384519156, train accuracy:0.2819259259259259, validation loss:6.09457397932195, validation accuracy:0.3175\n",
            "epoch:4, train loss:5.460665601177655, train accuracy:0.3532037037037037, validation loss:4.770824357465145, validation accuracy:0.38333333333333336\n",
            "epoch:5, train loss:4.51738397260716, train accuracy:0.4051666666666667, validation loss:4.08480043814051, validation accuracy:0.43533333333333335\n"
          ]
        },
        {
          "data": {
            "text/html": [
              "Waiting for W&B process to finish... <strong style=\"color:green\">(success).</strong>"
            ],
            "text/plain": [
              "<IPython.core.display.HTML object>"
            ]
          },
          "metadata": {},
          "output_type": "display_data"
        },
        {
          "data": {
            "text/html": [
              "<style>\n",
              "    table.wandb td:nth-child(1) { padding: 0 10px; text-align: left ; width: auto;} td:nth-child(2) {text-align: left ; width: 100%}\n",
              "    .wandb-row { display: flex; flex-direction: row; flex-wrap: wrap; justify-content: flex-start; width: 100% }\n",
              "    .wandb-col { display: flex; flex-direction: column; flex-basis: 100%; flex: 1; padding: 10px; }\n",
              "    </style>\n",
              "<div class=\"wandb-row\"><div class=\"wandb-col\"><h3>Run history:</h3><br/><table class=\"wandb\"><tr><td>train accuracy</td><td>▁▂▅▇█</td></tr><tr><td>train loss</td><td>█▅▃▂▁</td></tr><tr><td>validation accuracy</td><td>▁▃▅▇█</td></tr><tr><td>validation loss</td><td>█▅▃▂▁</td></tr></table><br/></div><div class=\"wandb-col\"><h3>Run summary:</h3><br/><table class=\"wandb\"><tr><td>train accuracy</td><td>0.40517</td></tr><tr><td>train loss</td><td>4.51738</td></tr><tr><td>validation accuracy</td><td>0.43533</td></tr><tr><td>validation loss</td><td>4.0848</td></tr></table><br/></div></div>"
            ],
            "text/plain": [
              "<IPython.core.display.HTML object>"
            ]
          },
          "metadata": {},
          "output_type": "display_data"
        },
        {
          "data": {
            "text/html": [
              " View run <strong style=\"color:#cdcd00\">amber-sweep-10</strong> at: <a href='https://wandb.ai/cs22m019/DL%20Final%20Assignment%201/runs/iodw9rnq' target=\"_blank\">https://wandb.ai/cs22m019/DL%20Final%20Assignment%201/runs/iodw9rnq</a><br/>Synced 6 W&B file(s), 0 media file(s), 0 artifact file(s) and 0 other file(s)"
            ],
            "text/plain": [
              "<IPython.core.display.HTML object>"
            ]
          },
          "metadata": {},
          "output_type": "display_data"
        },
        {
          "data": {
            "text/html": [
              "Find logs at: <code>.\\wandb\\run-20230309_051133-iodw9rnq\\logs</code>"
            ],
            "text/plain": [
              "<IPython.core.display.HTML object>"
            ]
          },
          "metadata": {},
          "output_type": "display_data"
        },
        {
          "name": "stderr",
          "output_type": "stream",
          "text": [
            "\u001b[34m\u001b[1mwandb\u001b[0m: Agent Starting Run: bbwdter4 with config:\n",
            "\u001b[34m\u001b[1mwandb\u001b[0m: \tactivation: ReLU\n",
            "\u001b[34m\u001b[1mwandb\u001b[0m: \tbatch_size: 16\n",
            "\u001b[34m\u001b[1mwandb\u001b[0m: \tepochs: 5\n",
            "\u001b[34m\u001b[1mwandb\u001b[0m: \tlearning_rate: 0.001\n",
            "\u001b[34m\u001b[1mwandb\u001b[0m: \tnumber_of_hidden_layer: 5\n",
            "\u001b[34m\u001b[1mwandb\u001b[0m: \toptimizer: nadam\n",
            "\u001b[34m\u001b[1mwandb\u001b[0m: \tsize_of_hidden_layer: 32\n",
            "\u001b[34m\u001b[1mwandb\u001b[0m: \tweight_decay: 0.5\n",
            "\u001b[34m\u001b[1mwandb\u001b[0m: \tweight_initialization: Xavier\n"
          ]
        },
        {
          "data": {
            "text/html": [
              "Tracking run with wandb version 0.13.11"
            ],
            "text/plain": [
              "<IPython.core.display.HTML object>"
            ]
          },
          "metadata": {},
          "output_type": "display_data"
        },
        {
          "data": {
            "text/html": [
              "Run data is saved locally in <code>C:\\Users\\DELL\\Desktop\\wandb\\run-20230309_051508-bbwdter4</code>"
            ],
            "text/plain": [
              "<IPython.core.display.HTML object>"
            ]
          },
          "metadata": {},
          "output_type": "display_data"
        },
        {
          "data": {
            "text/html": [
              "Syncing run <strong><a href='https://wandb.ai/cs22m019/DL%20Final%20Assignment%201/runs/bbwdter4' target=\"_blank\">peachy-sweep-11</a></strong> to <a href='https://wandb.ai/cs22m019/DL%20Final%20Assignment%201' target=\"_blank\">Weights & Biases</a> (<a href='https://wandb.me/run' target=\"_blank\">docs</a>)<br/>Sweep page: <a href='https://wandb.ai/cs22m019/DL%20Final%20Assignment%201/sweeps/cuhjfznh' target=\"_blank\">https://wandb.ai/cs22m019/DL%20Final%20Assignment%201/sweeps/cuhjfznh</a>"
            ],
            "text/plain": [
              "<IPython.core.display.HTML object>"
            ]
          },
          "metadata": {},
          "output_type": "display_data"
        },
        {
          "data": {
            "text/html": [
              " View project at <a href='https://wandb.ai/cs22m019/DL%20Final%20Assignment%201' target=\"_blank\">https://wandb.ai/cs22m019/DL%20Final%20Assignment%201</a>"
            ],
            "text/plain": [
              "<IPython.core.display.HTML object>"
            ]
          },
          "metadata": {},
          "output_type": "display_data"
        },
        {
          "data": {
            "text/html": [
              " View sweep at <a href='https://wandb.ai/cs22m019/DL%20Final%20Assignment%201/sweeps/cuhjfznh' target=\"_blank\">https://wandb.ai/cs22m019/DL%20Final%20Assignment%201/sweeps/cuhjfznh</a>"
            ],
            "text/plain": [
              "<IPython.core.display.HTML object>"
            ]
          },
          "metadata": {},
          "output_type": "display_data"
        },
        {
          "data": {
            "text/html": [
              " View run at <a href='https://wandb.ai/cs22m019/DL%20Final%20Assignment%201/runs/bbwdter4' target=\"_blank\">https://wandb.ai/cs22m019/DL%20Final%20Assignment%201/runs/bbwdter4</a>"
            ],
            "text/plain": [
              "<IPython.core.display.HTML object>"
            ]
          },
          "metadata": {},
          "output_type": "display_data"
        },
        {
          "name": "stdout",
          "output_type": "stream",
          "text": [
            "epoch:1, train loss:1.0795053966617212, train accuracy:0.634425925925926, validation loss:0.6890046001715449, validation accuracy:0.7553333333333333\n",
            "epoch:2, train loss:0.6324685150109904, train accuracy:0.7738333333333334, validation loss:0.5827150905177431, validation accuracy:0.795\n",
            "epoch:3, train loss:0.565042568603253, train accuracy:0.8040185185185185, validation loss:0.5390167626998343, validation accuracy:0.8185\n",
            "epoch:4, train loss:0.5334726686189296, train accuracy:0.8190925925925926, validation loss:0.517584772769997, validation accuracy:0.8215\n",
            "epoch:5, train loss:0.5127295623775378, train accuracy:0.8292962962962963, validation loss:0.4998111395442674, validation accuracy:0.8325\n"
          ]
        },
        {
          "data": {
            "text/html": [
              "Waiting for W&B process to finish... <strong style=\"color:green\">(success).</strong>"
            ],
            "text/plain": [
              "<IPython.core.display.HTML object>"
            ]
          },
          "metadata": {},
          "output_type": "display_data"
        },
        {
          "data": {
            "text/html": [
              "<style>\n",
              "    table.wandb td:nth-child(1) { padding: 0 10px; text-align: left ; width: auto;} td:nth-child(2) {text-align: left ; width: 100%}\n",
              "    .wandb-row { display: flex; flex-direction: row; flex-wrap: wrap; justify-content: flex-start; width: 100% }\n",
              "    .wandb-col { display: flex; flex-direction: column; flex-basis: 100%; flex: 1; padding: 10px; }\n",
              "    </style>\n",
              "<div class=\"wandb-row\"><div class=\"wandb-col\"><h3>Run history:</h3><br/><table class=\"wandb\"><tr><td>train accuracy</td><td>▁▆▇██</td></tr><tr><td>train loss</td><td>█▂▂▁▁</td></tr><tr><td>validation accuracy</td><td>▁▅▇▇█</td></tr><tr><td>validation loss</td><td>█▄▂▂▁</td></tr></table><br/></div><div class=\"wandb-col\"><h3>Run summary:</h3><br/><table class=\"wandb\"><tr><td>train accuracy</td><td>0.8293</td></tr><tr><td>train loss</td><td>0.51273</td></tr><tr><td>validation accuracy</td><td>0.8325</td></tr><tr><td>validation loss</td><td>0.49981</td></tr></table><br/></div></div>"
            ],
            "text/plain": [
              "<IPython.core.display.HTML object>"
            ]
          },
          "metadata": {},
          "output_type": "display_data"
        },
        {
          "data": {
            "text/html": [
              " View run <strong style=\"color:#cdcd00\">peachy-sweep-11</strong> at: <a href='https://wandb.ai/cs22m019/DL%20Final%20Assignment%201/runs/bbwdter4' target=\"_blank\">https://wandb.ai/cs22m019/DL%20Final%20Assignment%201/runs/bbwdter4</a><br/>Synced 6 W&B file(s), 0 media file(s), 0 artifact file(s) and 0 other file(s)"
            ],
            "text/plain": [
              "<IPython.core.display.HTML object>"
            ]
          },
          "metadata": {},
          "output_type": "display_data"
        },
        {
          "data": {
            "text/html": [
              "Find logs at: <code>.\\wandb\\run-20230309_051508-bbwdter4\\logs</code>"
            ],
            "text/plain": [
              "<IPython.core.display.HTML object>"
            ]
          },
          "metadata": {},
          "output_type": "display_data"
        },
        {
          "name": "stderr",
          "output_type": "stream",
          "text": [
            "\u001b[34m\u001b[1mwandb\u001b[0m: Agent Starting Run: 4dqvryf0 with config:\n",
            "\u001b[34m\u001b[1mwandb\u001b[0m: \tactivation: ReLU\n",
            "\u001b[34m\u001b[1mwandb\u001b[0m: \tbatch_size: 32\n",
            "\u001b[34m\u001b[1mwandb\u001b[0m: \tepochs: 5\n",
            "\u001b[34m\u001b[1mwandb\u001b[0m: \tlearning_rate: 0.0001\n",
            "\u001b[34m\u001b[1mwandb\u001b[0m: \tnumber_of_hidden_layer: 5\n",
            "\u001b[34m\u001b[1mwandb\u001b[0m: \toptimizer: adam\n",
            "\u001b[34m\u001b[1mwandb\u001b[0m: \tsize_of_hidden_layer: 32\n",
            "\u001b[34m\u001b[1mwandb\u001b[0m: \tweight_decay: 0\n",
            "\u001b[34m\u001b[1mwandb\u001b[0m: \tweight_initialization: Xavier\n"
          ]
        },
        {
          "data": {
            "text/html": [
              "Tracking run with wandb version 0.13.11"
            ],
            "text/plain": [
              "<IPython.core.display.HTML object>"
            ]
          },
          "metadata": {},
          "output_type": "display_data"
        },
        {
          "data": {
            "text/html": [
              "Run data is saved locally in <code>C:\\Users\\DELL\\Desktop\\wandb\\run-20230309_051949-4dqvryf0</code>"
            ],
            "text/plain": [
              "<IPython.core.display.HTML object>"
            ]
          },
          "metadata": {},
          "output_type": "display_data"
        },
        {
          "data": {
            "text/html": [
              "Syncing run <strong><a href='https://wandb.ai/cs22m019/DL%20Final%20Assignment%201/runs/4dqvryf0' target=\"_blank\">gallant-sweep-12</a></strong> to <a href='https://wandb.ai/cs22m019/DL%20Final%20Assignment%201' target=\"_blank\">Weights & Biases</a> (<a href='https://wandb.me/run' target=\"_blank\">docs</a>)<br/>Sweep page: <a href='https://wandb.ai/cs22m019/DL%20Final%20Assignment%201/sweeps/cuhjfznh' target=\"_blank\">https://wandb.ai/cs22m019/DL%20Final%20Assignment%201/sweeps/cuhjfznh</a>"
            ],
            "text/plain": [
              "<IPython.core.display.HTML object>"
            ]
          },
          "metadata": {},
          "output_type": "display_data"
        },
        {
          "data": {
            "text/html": [
              " View project at <a href='https://wandb.ai/cs22m019/DL%20Final%20Assignment%201' target=\"_blank\">https://wandb.ai/cs22m019/DL%20Final%20Assignment%201</a>"
            ],
            "text/plain": [
              "<IPython.core.display.HTML object>"
            ]
          },
          "metadata": {},
          "output_type": "display_data"
        },
        {
          "data": {
            "text/html": [
              " View sweep at <a href='https://wandb.ai/cs22m019/DL%20Final%20Assignment%201/sweeps/cuhjfznh' target=\"_blank\">https://wandb.ai/cs22m019/DL%20Final%20Assignment%201/sweeps/cuhjfznh</a>"
            ],
            "text/plain": [
              "<IPython.core.display.HTML object>"
            ]
          },
          "metadata": {},
          "output_type": "display_data"
        },
        {
          "data": {
            "text/html": [
              " View run at <a href='https://wandb.ai/cs22m019/DL%20Final%20Assignment%201/runs/4dqvryf0' target=\"_blank\">https://wandb.ai/cs22m019/DL%20Final%20Assignment%201/runs/4dqvryf0</a>"
            ],
            "text/plain": [
              "<IPython.core.display.HTML object>"
            ]
          },
          "metadata": {},
          "output_type": "display_data"
        },
        {
          "name": "stdout",
          "output_type": "stream",
          "text": [
            "epoch:1, train loss:2.0912473542729737, train accuracy:0.25033333333333335, validation loss:1.6455957212281977, validation accuracy:0.5165\n",
            "epoch:2, train loss:1.2436931223466292, train accuracy:0.6271851851851852, validation loss:0.9663438118961027, validation accuracy:0.6923333333333334\n",
            "epoch:3, train loss:0.8913637035079969, train accuracy:0.7140925925925926, validation loss:0.8311979054778015, validation accuracy:0.73\n",
            "epoch:4, train loss:0.8233354650366262, train accuracy:0.7386111111111111, validation loss:0.799511932967088, validation accuracy:0.7443333333333333\n",
            "epoch:5, train loss:0.8084520736522053, train accuracy:0.7515, validation loss:0.7898156003996002, validation accuracy:0.7545\n"
          ]
        },
        {
          "data": {
            "text/html": [
              "Waiting for W&B process to finish... <strong style=\"color:green\">(success).</strong>"
            ],
            "text/plain": [
              "<IPython.core.display.HTML object>"
            ]
          },
          "metadata": {},
          "output_type": "display_data"
        },
        {
          "data": {
            "application/vnd.jupyter.widget-view+json": {
              "model_id": "da054ff527ce44cd9bb697e86fcc7c87",
              "version_major": 2,
              "version_minor": 0
            },
            "text/plain": [
              "VBox(children=(Label(value='0.001 MB of 0.001 MB uploaded (0.000 MB deduped)\\r'), FloatProgress(value=1.0, max…"
            ]
          },
          "metadata": {},
          "output_type": "display_data"
        },
        {
          "data": {
            "text/html": [
              "<style>\n",
              "    table.wandb td:nth-child(1) { padding: 0 10px; text-align: left ; width: auto;} td:nth-child(2) {text-align: left ; width: 100%}\n",
              "    .wandb-row { display: flex; flex-direction: row; flex-wrap: wrap; justify-content: flex-start; width: 100% }\n",
              "    .wandb-col { display: flex; flex-direction: column; flex-basis: 100%; flex: 1; padding: 10px; }\n",
              "    </style>\n",
              "<div class=\"wandb-row\"><div class=\"wandb-col\"><h3>Run history:</h3><br/><table class=\"wandb\"><tr><td>train accuracy</td><td>▁▆▇██</td></tr><tr><td>train loss</td><td>█▃▁▁▁</td></tr><tr><td>validation accuracy</td><td>▁▆▇██</td></tr><tr><td>validation loss</td><td>█▂▁▁▁</td></tr></table><br/></div><div class=\"wandb-col\"><h3>Run summary:</h3><br/><table class=\"wandb\"><tr><td>train accuracy</td><td>0.7515</td></tr><tr><td>train loss</td><td>0.80845</td></tr><tr><td>validation accuracy</td><td>0.7545</td></tr><tr><td>validation loss</td><td>0.78982</td></tr></table><br/></div></div>"
            ],
            "text/plain": [
              "<IPython.core.display.HTML object>"
            ]
          },
          "metadata": {},
          "output_type": "display_data"
        },
        {
          "data": {
            "text/html": [
              " View run <strong style=\"color:#cdcd00\">gallant-sweep-12</strong> at: <a href='https://wandb.ai/cs22m019/DL%20Final%20Assignment%201/runs/4dqvryf0' target=\"_blank\">https://wandb.ai/cs22m019/DL%20Final%20Assignment%201/runs/4dqvryf0</a><br/>Synced 6 W&B file(s), 0 media file(s), 0 artifact file(s) and 0 other file(s)"
            ],
            "text/plain": [
              "<IPython.core.display.HTML object>"
            ]
          },
          "metadata": {},
          "output_type": "display_data"
        },
        {
          "data": {
            "text/html": [
              "Find logs at: <code>.\\wandb\\run-20230309_051949-4dqvryf0\\logs</code>"
            ],
            "text/plain": [
              "<IPython.core.display.HTML object>"
            ]
          },
          "metadata": {},
          "output_type": "display_data"
        },
        {
          "name": "stderr",
          "output_type": "stream",
          "text": [
            "\u001b[34m\u001b[1mwandb\u001b[0m: Sweep Agent: Waiting for job.\n",
            "\u001b[34m\u001b[1mwandb\u001b[0m: Job received.\n",
            "\u001b[34m\u001b[1mwandb\u001b[0m: Agent Starting Run: 6djtooj2 with config:\n",
            "\u001b[34m\u001b[1mwandb\u001b[0m: \tactivation: ReLU\n",
            "\u001b[34m\u001b[1mwandb\u001b[0m: \tbatch_size: 16\n",
            "\u001b[34m\u001b[1mwandb\u001b[0m: \tepochs: 5\n",
            "\u001b[34m\u001b[1mwandb\u001b[0m: \tlearning_rate: 0.001\n",
            "\u001b[34m\u001b[1mwandb\u001b[0m: \tnumber_of_hidden_layer: 5\n",
            "\u001b[34m\u001b[1mwandb\u001b[0m: \toptimizer: rmsprop\n",
            "\u001b[34m\u001b[1mwandb\u001b[0m: \tsize_of_hidden_layer: 32\n",
            "\u001b[34m\u001b[1mwandb\u001b[0m: \tweight_decay: 0\n",
            "\u001b[34m\u001b[1mwandb\u001b[0m: \tweight_initialization: Xavier\n"
          ]
        },
        {
          "data": {
            "text/html": [
              "Tracking run with wandb version 0.13.11"
            ],
            "text/plain": [
              "<IPython.core.display.HTML object>"
            ]
          },
          "metadata": {},
          "output_type": "display_data"
        },
        {
          "data": {
            "text/html": [
              "Run data is saved locally in <code>C:\\Users\\DELL\\Desktop\\wandb\\run-20230309_053053-6djtooj2</code>"
            ],
            "text/plain": [
              "<IPython.core.display.HTML object>"
            ]
          },
          "metadata": {},
          "output_type": "display_data"
        },
        {
          "data": {
            "text/html": [
              "Syncing run <strong><a href='https://wandb.ai/cs22m019/DL%20Final%20Assignment%201/runs/6djtooj2' target=\"_blank\">resilient-sweep-13</a></strong> to <a href='https://wandb.ai/cs22m019/DL%20Final%20Assignment%201' target=\"_blank\">Weights & Biases</a> (<a href='https://wandb.me/run' target=\"_blank\">docs</a>)<br/>Sweep page: <a href='https://wandb.ai/cs22m019/DL%20Final%20Assignment%201/sweeps/cuhjfznh' target=\"_blank\">https://wandb.ai/cs22m019/DL%20Final%20Assignment%201/sweeps/cuhjfznh</a>"
            ],
            "text/plain": [
              "<IPython.core.display.HTML object>"
            ]
          },
          "metadata": {},
          "output_type": "display_data"
        },
        {
          "data": {
            "text/html": [
              " View project at <a href='https://wandb.ai/cs22m019/DL%20Final%20Assignment%201' target=\"_blank\">https://wandb.ai/cs22m019/DL%20Final%20Assignment%201</a>"
            ],
            "text/plain": [
              "<IPython.core.display.HTML object>"
            ]
          },
          "metadata": {},
          "output_type": "display_data"
        },
        {
          "data": {
            "text/html": [
              " View sweep at <a href='https://wandb.ai/cs22m019/DL%20Final%20Assignment%201/sweeps/cuhjfznh' target=\"_blank\">https://wandb.ai/cs22m019/DL%20Final%20Assignment%201/sweeps/cuhjfznh</a>"
            ],
            "text/plain": [
              "<IPython.core.display.HTML object>"
            ]
          },
          "metadata": {},
          "output_type": "display_data"
        },
        {
          "data": {
            "text/html": [
              " View run at <a href='https://wandb.ai/cs22m019/DL%20Final%20Assignment%201/runs/6djtooj2' target=\"_blank\">https://wandb.ai/cs22m019/DL%20Final%20Assignment%201/runs/6djtooj2</a>"
            ],
            "text/plain": [
              "<IPython.core.display.HTML object>"
            ]
          },
          "metadata": {},
          "output_type": "display_data"
        },
        {
          "name": "stdout",
          "output_type": "stream",
          "text": [
            "epoch:1, train loss:1.3228535210530454, train accuracy:0.5675555555555556, validation loss:0.7438028525762325, validation accuracy:0.754\n",
            "epoch:2, train loss:0.6467335404020383, train accuracy:0.7714074074074074, validation loss:0.5809659711278641, validation accuracy:0.7956666666666666\n",
            "epoch:3, train loss:0.5542496559478393, train accuracy:0.8022777777777778, validation loss:0.5170488916280055, validation accuracy:0.8191666666666667\n",
            "epoch:4, train loss:0.5156155856352986, train accuracy:0.8201851851851852, validation loss:0.49323995238782814, validation accuracy:0.8291666666666667\n",
            "epoch:5, train loss:0.49466603256857344, train accuracy:0.8299814814814814, validation loss:0.4763043396459254, validation accuracy:0.8308333333333333\n"
          ]
        },
        {
          "data": {
            "text/html": [
              "Waiting for W&B process to finish... <strong style=\"color:green\">(success).</strong>"
            ],
            "text/plain": [
              "<IPython.core.display.HTML object>"
            ]
          },
          "metadata": {},
          "output_type": "display_data"
        },
        {
          "data": {
            "application/vnd.jupyter.widget-view+json": {
              "model_id": "95e43818bdbd49a9a440786665280882",
              "version_major": 2,
              "version_minor": 0
            },
            "text/plain": [
              "VBox(children=(Label(value='0.001 MB of 0.001 MB uploaded (0.000 MB deduped)\\r'), FloatProgress(value=1.0, max…"
            ]
          },
          "metadata": {},
          "output_type": "display_data"
        },
        {
          "data": {
            "text/html": [
              "<style>\n",
              "    table.wandb td:nth-child(1) { padding: 0 10px; text-align: left ; width: auto;} td:nth-child(2) {text-align: left ; width: 100%}\n",
              "    .wandb-row { display: flex; flex-direction: row; flex-wrap: wrap; justify-content: flex-start; width: 100% }\n",
              "    .wandb-col { display: flex; flex-direction: column; flex-basis: 100%; flex: 1; padding: 10px; }\n",
              "    </style>\n",
              "<div class=\"wandb-row\"><div class=\"wandb-col\"><h3>Run history:</h3><br/><table class=\"wandb\"><tr><td>train accuracy</td><td>▁▆▇██</td></tr><tr><td>train loss</td><td>█▂▂▁▁</td></tr><tr><td>validation accuracy</td><td>▁▅▇██</td></tr><tr><td>validation loss</td><td>█▄▂▁▁</td></tr></table><br/></div><div class=\"wandb-col\"><h3>Run summary:</h3><br/><table class=\"wandb\"><tr><td>train accuracy</td><td>0.82998</td></tr><tr><td>train loss</td><td>0.49467</td></tr><tr><td>validation accuracy</td><td>0.83083</td></tr><tr><td>validation loss</td><td>0.4763</td></tr></table><br/></div></div>"
            ],
            "text/plain": [
              "<IPython.core.display.HTML object>"
            ]
          },
          "metadata": {},
          "output_type": "display_data"
        },
        {
          "data": {
            "text/html": [
              " View run <strong style=\"color:#cdcd00\">resilient-sweep-13</strong> at: <a href='https://wandb.ai/cs22m019/DL%20Final%20Assignment%201/runs/6djtooj2' target=\"_blank\">https://wandb.ai/cs22m019/DL%20Final%20Assignment%201/runs/6djtooj2</a><br/>Synced 6 W&B file(s), 0 media file(s), 0 artifact file(s) and 0 other file(s)"
            ],
            "text/plain": [
              "<IPython.core.display.HTML object>"
            ]
          },
          "metadata": {},
          "output_type": "display_data"
        },
        {
          "data": {
            "text/html": [
              "Find logs at: <code>.\\wandb\\run-20230309_053053-6djtooj2\\logs</code>"
            ],
            "text/plain": [
              "<IPython.core.display.HTML object>"
            ]
          },
          "metadata": {},
          "output_type": "display_data"
        },
        {
          "name": "stderr",
          "output_type": "stream",
          "text": [
            "\u001b[34m\u001b[1mwandb\u001b[0m: Agent Starting Run: 1htki50d with config:\n",
            "\u001b[34m\u001b[1mwandb\u001b[0m: \tactivation: ReLU\n",
            "\u001b[34m\u001b[1mwandb\u001b[0m: \tbatch_size: 32\n",
            "\u001b[34m\u001b[1mwandb\u001b[0m: \tepochs: 5\n",
            "\u001b[34m\u001b[1mwandb\u001b[0m: \tlearning_rate: 0.0001\n",
            "\u001b[34m\u001b[1mwandb\u001b[0m: \tnumber_of_hidden_layer: 5\n",
            "\u001b[34m\u001b[1mwandb\u001b[0m: \toptimizer: nadam\n",
            "\u001b[34m\u001b[1mwandb\u001b[0m: \tsize_of_hidden_layer: 32\n",
            "\u001b[34m\u001b[1mwandb\u001b[0m: \tweight_decay: 0.0005\n",
            "\u001b[34m\u001b[1mwandb\u001b[0m: \tweight_initialization: Xavier\n"
          ]
        },
        {
          "data": {
            "text/html": [
              "Tracking run with wandb version 0.13.11"
            ],
            "text/plain": [
              "<IPython.core.display.HTML object>"
            ]
          },
          "metadata": {},
          "output_type": "display_data"
        },
        {
          "data": {
            "text/html": [
              "Run data is saved locally in <code>C:\\Users\\DELL\\Desktop\\wandb\\run-20230309_053447-1htki50d</code>"
            ],
            "text/plain": [
              "<IPython.core.display.HTML object>"
            ]
          },
          "metadata": {},
          "output_type": "display_data"
        },
        {
          "data": {
            "text/html": [
              "Syncing run <strong><a href='https://wandb.ai/cs22m019/DL%20Final%20Assignment%201/runs/1htki50d' target=\"_blank\">polished-sweep-14</a></strong> to <a href='https://wandb.ai/cs22m019/DL%20Final%20Assignment%201' target=\"_blank\">Weights & Biases</a> (<a href='https://wandb.me/run' target=\"_blank\">docs</a>)<br/>Sweep page: <a href='https://wandb.ai/cs22m019/DL%20Final%20Assignment%201/sweeps/cuhjfznh' target=\"_blank\">https://wandb.ai/cs22m019/DL%20Final%20Assignment%201/sweeps/cuhjfznh</a>"
            ],
            "text/plain": [
              "<IPython.core.display.HTML object>"
            ]
          },
          "metadata": {},
          "output_type": "display_data"
        },
        {
          "data": {
            "text/html": [
              " View project at <a href='https://wandb.ai/cs22m019/DL%20Final%20Assignment%201' target=\"_blank\">https://wandb.ai/cs22m019/DL%20Final%20Assignment%201</a>"
            ],
            "text/plain": [
              "<IPython.core.display.HTML object>"
            ]
          },
          "metadata": {},
          "output_type": "display_data"
        },
        {
          "data": {
            "text/html": [
              " View sweep at <a href='https://wandb.ai/cs22m019/DL%20Final%20Assignment%201/sweeps/cuhjfznh' target=\"_blank\">https://wandb.ai/cs22m019/DL%20Final%20Assignment%201/sweeps/cuhjfznh</a>"
            ],
            "text/plain": [
              "<IPython.core.display.HTML object>"
            ]
          },
          "metadata": {},
          "output_type": "display_data"
        },
        {
          "data": {
            "text/html": [
              " View run at <a href='https://wandb.ai/cs22m019/DL%20Final%20Assignment%201/runs/1htki50d' target=\"_blank\">https://wandb.ai/cs22m019/DL%20Final%20Assignment%201/runs/1htki50d</a>"
            ],
            "text/plain": [
              "<IPython.core.display.HTML object>"
            ]
          },
          "metadata": {},
          "output_type": "display_data"
        },
        {
          "name": "stdout",
          "output_type": "stream",
          "text": [
            "epoch:1, train loss:2.141617810015851, train accuracy:0.2137962962962963, validation loss:1.8042871294295126, validation accuracy:0.43766666666666665\n",
            "epoch:2, train loss:1.5049022711584032, train accuracy:0.5790740740740741, validation loss:1.262690530438377, validation accuracy:0.6335\n",
            "epoch:3, train loss:1.1066911908382568, train accuracy:0.6561481481481481, validation loss:1.0163215306868867, validation accuracy:0.661\n",
            "epoch:4, train loss:0.9250243374747351, train accuracy:0.6803888888888889, validation loss:0.8938417703626397, validation accuracy:0.689\n",
            "epoch:5, train loss:0.8415339805576642, train accuracy:0.7056851851851852, validation loss:0.8498269590924923, validation accuracy:0.7153333333333334\n"
          ]
        },
        {
          "data": {
            "text/html": [
              "Waiting for W&B process to finish... <strong style=\"color:green\">(success).</strong>"
            ],
            "text/plain": [
              "<IPython.core.display.HTML object>"
            ]
          },
          "metadata": {},
          "output_type": "display_data"
        },
        {
          "data": {
            "text/html": [
              "<style>\n",
              "    table.wandb td:nth-child(1) { padding: 0 10px; text-align: left ; width: auto;} td:nth-child(2) {text-align: left ; width: 100%}\n",
              "    .wandb-row { display: flex; flex-direction: row; flex-wrap: wrap; justify-content: flex-start; width: 100% }\n",
              "    .wandb-col { display: flex; flex-direction: column; flex-basis: 100%; flex: 1; padding: 10px; }\n",
              "    </style>\n",
              "<div class=\"wandb-row\"><div class=\"wandb-col\"><h3>Run history:</h3><br/><table class=\"wandb\"><tr><td>train accuracy</td><td>▁▆▇██</td></tr><tr><td>train loss</td><td>█▅▂▁▁</td></tr><tr><td>validation accuracy</td><td>▁▆▇▇█</td></tr><tr><td>validation loss</td><td>█▄▂▁▁</td></tr></table><br/></div><div class=\"wandb-col\"><h3>Run summary:</h3><br/><table class=\"wandb\"><tr><td>train accuracy</td><td>0.70569</td></tr><tr><td>train loss</td><td>0.84153</td></tr><tr><td>validation accuracy</td><td>0.71533</td></tr><tr><td>validation loss</td><td>0.84983</td></tr></table><br/></div></div>"
            ],
            "text/plain": [
              "<IPython.core.display.HTML object>"
            ]
          },
          "metadata": {},
          "output_type": "display_data"
        },
        {
          "data": {
            "text/html": [
              " View run <strong style=\"color:#cdcd00\">polished-sweep-14</strong> at: <a href='https://wandb.ai/cs22m019/DL%20Final%20Assignment%201/runs/1htki50d' target=\"_blank\">https://wandb.ai/cs22m019/DL%20Final%20Assignment%201/runs/1htki50d</a><br/>Synced 6 W&B file(s), 0 media file(s), 0 artifact file(s) and 0 other file(s)"
            ],
            "text/plain": [
              "<IPython.core.display.HTML object>"
            ]
          },
          "metadata": {},
          "output_type": "display_data"
        },
        {
          "data": {
            "text/html": [
              "Find logs at: <code>.\\wandb\\run-20230309_053447-1htki50d\\logs</code>"
            ],
            "text/plain": [
              "<IPython.core.display.HTML object>"
            ]
          },
          "metadata": {},
          "output_type": "display_data"
        },
        {
          "name": "stderr",
          "output_type": "stream",
          "text": [
            "\u001b[34m\u001b[1mwandb\u001b[0m: Sweep Agent: Waiting for job.\n",
            "\u001b[34m\u001b[1mwandb\u001b[0m: Job received.\n",
            "\u001b[34m\u001b[1mwandb\u001b[0m: Agent Starting Run: b3osa96r with config:\n",
            "\u001b[34m\u001b[1mwandb\u001b[0m: \tactivation: ReLU\n",
            "\u001b[34m\u001b[1mwandb\u001b[0m: \tbatch_size: 64\n",
            "\u001b[34m\u001b[1mwandb\u001b[0m: \tepochs: 5\n",
            "\u001b[34m\u001b[1mwandb\u001b[0m: \tlearning_rate: 0.001\n",
            "\u001b[34m\u001b[1mwandb\u001b[0m: \tnumber_of_hidden_layer: 5\n",
            "\u001b[34m\u001b[1mwandb\u001b[0m: \toptimizer: adam\n",
            "\u001b[34m\u001b[1mwandb\u001b[0m: \tsize_of_hidden_layer: 128\n",
            "\u001b[34m\u001b[1mwandb\u001b[0m: \tweight_decay: 0\n",
            "\u001b[34m\u001b[1mwandb\u001b[0m: \tweight_initialization: Xavier\n"
          ]
        },
        {
          "data": {
            "text/html": [
              "Tracking run with wandb version 0.13.11"
            ],
            "text/plain": [
              "<IPython.core.display.HTML object>"
            ]
          },
          "metadata": {},
          "output_type": "display_data"
        },
        {
          "data": {
            "text/html": [
              "Run data is saved locally in <code>C:\\Users\\DELL\\Desktop\\wandb\\run-20230309_054707-b3osa96r</code>"
            ],
            "text/plain": [
              "<IPython.core.display.HTML object>"
            ]
          },
          "metadata": {},
          "output_type": "display_data"
        },
        {
          "data": {
            "text/html": [
              "Syncing run <strong><a href='https://wandb.ai/cs22m019/DL%20Final%20Assignment%201/runs/b3osa96r' target=\"_blank\">vocal-sweep-15</a></strong> to <a href='https://wandb.ai/cs22m019/DL%20Final%20Assignment%201' target=\"_blank\">Weights & Biases</a> (<a href='https://wandb.me/run' target=\"_blank\">docs</a>)<br/>Sweep page: <a href='https://wandb.ai/cs22m019/DL%20Final%20Assignment%201/sweeps/cuhjfznh' target=\"_blank\">https://wandb.ai/cs22m019/DL%20Final%20Assignment%201/sweeps/cuhjfznh</a>"
            ],
            "text/plain": [
              "<IPython.core.display.HTML object>"
            ]
          },
          "metadata": {},
          "output_type": "display_data"
        },
        {
          "data": {
            "text/html": [
              " View project at <a href='https://wandb.ai/cs22m019/DL%20Final%20Assignment%201' target=\"_blank\">https://wandb.ai/cs22m019/DL%20Final%20Assignment%201</a>"
            ],
            "text/plain": [
              "<IPython.core.display.HTML object>"
            ]
          },
          "metadata": {},
          "output_type": "display_data"
        },
        {
          "data": {
            "text/html": [
              " View sweep at <a href='https://wandb.ai/cs22m019/DL%20Final%20Assignment%201/sweeps/cuhjfznh' target=\"_blank\">https://wandb.ai/cs22m019/DL%20Final%20Assignment%201/sweeps/cuhjfznh</a>"
            ],
            "text/plain": [
              "<IPython.core.display.HTML object>"
            ]
          },
          "metadata": {},
          "output_type": "display_data"
        },
        {
          "data": {
            "text/html": [
              " View run at <a href='https://wandb.ai/cs22m019/DL%20Final%20Assignment%201/runs/b3osa96r' target=\"_blank\">https://wandb.ai/cs22m019/DL%20Final%20Assignment%201/runs/b3osa96r</a>"
            ],
            "text/plain": [
              "<IPython.core.display.HTML object>"
            ]
          },
          "metadata": {},
          "output_type": "display_data"
        },
        {
          "name": "stdout",
          "output_type": "stream",
          "text": [
            "epoch:1, train loss:0.8237126347743972, train accuracy:0.7375185185185186, validation loss:0.7000956038484706, validation accuracy:0.8056666666666666\n",
            "epoch:2, train loss:0.7146046511083347, train accuracy:0.8088148148148148, validation loss:0.6904742052344531, validation accuracy:0.8175\n",
            "epoch:3, train loss:0.7276326860971586, train accuracy:0.8161296296296296, validation loss:0.6965941001884555, validation accuracy:0.8236666666666667\n",
            "epoch:4, train loss:0.7419912084386128, train accuracy:0.820962962962963, validation loss:0.7267868861362332, validation accuracy:0.8208333333333333\n",
            "epoch:5, train loss:0.7561695332607258, train accuracy:0.8257407407407408, validation loss:0.7069271419545035, validation accuracy:0.8361666666666666\n"
          ]
        },
        {
          "data": {
            "text/html": [
              "Waiting for W&B process to finish... <strong style=\"color:green\">(success).</strong>"
            ],
            "text/plain": [
              "<IPython.core.display.HTML object>"
            ]
          },
          "metadata": {},
          "output_type": "display_data"
        },
        {
          "data": {
            "application/vnd.jupyter.widget-view+json": {
              "model_id": "284387e561cb4b5ea89e875e099ab779",
              "version_major": 2,
              "version_minor": 0
            },
            "text/plain": [
              "VBox(children=(Label(value='0.001 MB of 0.001 MB uploaded (0.000 MB deduped)\\r'), FloatProgress(value=1.0, max…"
            ]
          },
          "metadata": {},
          "output_type": "display_data"
        },
        {
          "data": {
            "text/html": [
              "<style>\n",
              "    table.wandb td:nth-child(1) { padding: 0 10px; text-align: left ; width: auto;} td:nth-child(2) {text-align: left ; width: 100%}\n",
              "    .wandb-row { display: flex; flex-direction: row; flex-wrap: wrap; justify-content: flex-start; width: 100% }\n",
              "    .wandb-col { display: flex; flex-direction: column; flex-basis: 100%; flex: 1; padding: 10px; }\n",
              "    </style>\n",
              "<div class=\"wandb-row\"><div class=\"wandb-col\"><h3>Run history:</h3><br/><table class=\"wandb\"><tr><td>train accuracy</td><td>▁▇▇██</td></tr><tr><td>train loss</td><td>█▁▂▃▄</td></tr><tr><td>validation accuracy</td><td>▁▄▅▄█</td></tr><tr><td>validation loss</td><td>▃▁▂█▄</td></tr></table><br/></div><div class=\"wandb-col\"><h3>Run summary:</h3><br/><table class=\"wandb\"><tr><td>train accuracy</td><td>0.82574</td></tr><tr><td>train loss</td><td>0.75617</td></tr><tr><td>validation accuracy</td><td>0.83617</td></tr><tr><td>validation loss</td><td>0.70693</td></tr></table><br/></div></div>"
            ],
            "text/plain": [
              "<IPython.core.display.HTML object>"
            ]
          },
          "metadata": {},
          "output_type": "display_data"
        },
        {
          "data": {
            "text/html": [
              " View run <strong style=\"color:#cdcd00\">vocal-sweep-15</strong> at: <a href='https://wandb.ai/cs22m019/DL%20Final%20Assignment%201/runs/b3osa96r' target=\"_blank\">https://wandb.ai/cs22m019/DL%20Final%20Assignment%201/runs/b3osa96r</a><br/>Synced 6 W&B file(s), 0 media file(s), 0 artifact file(s) and 0 other file(s)"
            ],
            "text/plain": [
              "<IPython.core.display.HTML object>"
            ]
          },
          "metadata": {},
          "output_type": "display_data"
        },
        {
          "data": {
            "text/html": [
              "Find logs at: <code>.\\wandb\\run-20230309_054707-b3osa96r\\logs</code>"
            ],
            "text/plain": [
              "<IPython.core.display.HTML object>"
            ]
          },
          "metadata": {},
          "output_type": "display_data"
        },
        {
          "name": "stderr",
          "output_type": "stream",
          "text": [
            "\u001b[34m\u001b[1mwandb\u001b[0m: Agent Starting Run: rmkyng1r with config:\n",
            "\u001b[34m\u001b[1mwandb\u001b[0m: \tactivation: ReLU\n",
            "\u001b[34m\u001b[1mwandb\u001b[0m: \tbatch_size: 64\n",
            "\u001b[34m\u001b[1mwandb\u001b[0m: \tepochs: 5\n",
            "\u001b[34m\u001b[1mwandb\u001b[0m: \tlearning_rate: 0.001\n",
            "\u001b[34m\u001b[1mwandb\u001b[0m: \tnumber_of_hidden_layer: 5\n",
            "\u001b[34m\u001b[1mwandb\u001b[0m: \toptimizer: adam\n",
            "\u001b[34m\u001b[1mwandb\u001b[0m: \tsize_of_hidden_layer: 128\n",
            "\u001b[34m\u001b[1mwandb\u001b[0m: \tweight_decay: 0\n",
            "\u001b[34m\u001b[1mwandb\u001b[0m: \tweight_initialization: Xavier\n"
          ]
        },
        {
          "data": {
            "text/html": [
              "Tracking run with wandb version 0.13.11"
            ],
            "text/plain": [
              "<IPython.core.display.HTML object>"
            ]
          },
          "metadata": {},
          "output_type": "display_data"
        },
        {
          "data": {
            "text/html": [
              "Run data is saved locally in <code>C:\\Users\\DELL\\Desktop\\wandb\\run-20230309_062320-rmkyng1r</code>"
            ],
            "text/plain": [
              "<IPython.core.display.HTML object>"
            ]
          },
          "metadata": {},
          "output_type": "display_data"
        },
        {
          "data": {
            "text/html": [
              "Syncing run <strong><a href='https://wandb.ai/cs22m019/DL%20Final%20Assignment%201/runs/rmkyng1r' target=\"_blank\">astral-sweep-16</a></strong> to <a href='https://wandb.ai/cs22m019/DL%20Final%20Assignment%201' target=\"_blank\">Weights & Biases</a> (<a href='https://wandb.me/run' target=\"_blank\">docs</a>)<br/>Sweep page: <a href='https://wandb.ai/cs22m019/DL%20Final%20Assignment%201/sweeps/cuhjfznh' target=\"_blank\">https://wandb.ai/cs22m019/DL%20Final%20Assignment%201/sweeps/cuhjfznh</a>"
            ],
            "text/plain": [
              "<IPython.core.display.HTML object>"
            ]
          },
          "metadata": {},
          "output_type": "display_data"
        },
        {
          "data": {
            "text/html": [
              " View project at <a href='https://wandb.ai/cs22m019/DL%20Final%20Assignment%201' target=\"_blank\">https://wandb.ai/cs22m019/DL%20Final%20Assignment%201</a>"
            ],
            "text/plain": [
              "<IPython.core.display.HTML object>"
            ]
          },
          "metadata": {},
          "output_type": "display_data"
        },
        {
          "data": {
            "text/html": [
              " View sweep at <a href='https://wandb.ai/cs22m019/DL%20Final%20Assignment%201/sweeps/cuhjfznh' target=\"_blank\">https://wandb.ai/cs22m019/DL%20Final%20Assignment%201/sweeps/cuhjfznh</a>"
            ],
            "text/plain": [
              "<IPython.core.display.HTML object>"
            ]
          },
          "metadata": {},
          "output_type": "display_data"
        },
        {
          "data": {
            "text/html": [
              " View run at <a href='https://wandb.ai/cs22m019/DL%20Final%20Assignment%201/runs/rmkyng1r' target=\"_blank\">https://wandb.ai/cs22m019/DL%20Final%20Assignment%201/runs/rmkyng1r</a>"
            ],
            "text/plain": [
              "<IPython.core.display.HTML object>"
            ]
          },
          "metadata": {},
          "output_type": "display_data"
        },
        {
          "name": "stdout",
          "output_type": "stream",
          "text": [
            "epoch:1, train loss:0.8042676286232019, train accuracy:0.7352962962962963, validation loss:0.7125622081376861, validation accuracy:0.784\n",
            "epoch:2, train loss:0.6900628376015044, train accuracy:0.8112592592592592, validation loss:0.715956892432881, validation accuracy:0.8145\n",
            "epoch:3, train loss:0.7017863586887985, train accuracy:0.8231111111111111, validation loss:0.7411639204829673, validation accuracy:0.8188333333333333\n",
            "epoch:4, train loss:0.718973178577908, train accuracy:0.8277222222222222, validation loss:0.6844911769181652, validation accuracy:0.832\n",
            "epoch:5, train loss:0.7344314466189147, train accuracy:0.8327407407407408, validation loss:0.7264208246951315, validation accuracy:0.8251666666666667\n"
          ]
        },
        {
          "data": {
            "text/html": [
              "Waiting for W&B process to finish... <strong style=\"color:green\">(success).</strong>"
            ],
            "text/plain": [
              "<IPython.core.display.HTML object>"
            ]
          },
          "metadata": {},
          "output_type": "display_data"
        },
        {
          "data": {
            "application/vnd.jupyter.widget-view+json": {
              "model_id": "31fc9877f81a41a3956bf7db5d0ffb04",
              "version_major": 2,
              "version_minor": 0
            },
            "text/plain": [
              "VBox(children=(Label(value='0.001 MB of 0.001 MB uploaded (0.000 MB deduped)\\r'), FloatProgress(value=1.0, max…"
            ]
          },
          "metadata": {},
          "output_type": "display_data"
        },
        {
          "data": {
            "text/html": [
              "<style>\n",
              "    table.wandb td:nth-child(1) { padding: 0 10px; text-align: left ; width: auto;} td:nth-child(2) {text-align: left ; width: 100%}\n",
              "    .wandb-row { display: flex; flex-direction: row; flex-wrap: wrap; justify-content: flex-start; width: 100% }\n",
              "    .wandb-col { display: flex; flex-direction: column; flex-basis: 100%; flex: 1; padding: 10px; }\n",
              "    </style>\n",
              "<div class=\"wandb-row\"><div class=\"wandb-col\"><h3>Run history:</h3><br/><table class=\"wandb\"><tr><td>train accuracy</td><td>▁▆▇██</td></tr><tr><td>train loss</td><td>█▁▂▃▄</td></tr><tr><td>validation accuracy</td><td>▁▅▆█▇</td></tr><tr><td>validation loss</td><td>▄▅█▁▆</td></tr></table><br/></div><div class=\"wandb-col\"><h3>Run summary:</h3><br/><table class=\"wandb\"><tr><td>train accuracy</td><td>0.83274</td></tr><tr><td>train loss</td><td>0.73443</td></tr><tr><td>validation accuracy</td><td>0.82517</td></tr><tr><td>validation loss</td><td>0.72642</td></tr></table><br/></div></div>"
            ],
            "text/plain": [
              "<IPython.core.display.HTML object>"
            ]
          },
          "metadata": {},
          "output_type": "display_data"
        },
        {
          "data": {
            "text/html": [
              " View run <strong style=\"color:#cdcd00\">astral-sweep-16</strong> at: <a href='https://wandb.ai/cs22m019/DL%20Final%20Assignment%201/runs/rmkyng1r' target=\"_blank\">https://wandb.ai/cs22m019/DL%20Final%20Assignment%201/runs/rmkyng1r</a><br/>Synced 6 W&B file(s), 0 media file(s), 0 artifact file(s) and 0 other file(s)"
            ],
            "text/plain": [
              "<IPython.core.display.HTML object>"
            ]
          },
          "metadata": {},
          "output_type": "display_data"
        },
        {
          "data": {
            "text/html": [
              "Find logs at: <code>.\\wandb\\run-20230309_062320-rmkyng1r\\logs</code>"
            ],
            "text/plain": [
              "<IPython.core.display.HTML object>"
            ]
          },
          "metadata": {},
          "output_type": "display_data"
        },
        {
          "name": "stderr",
          "output_type": "stream",
          "text": [
            "\u001b[34m\u001b[1mwandb\u001b[0m: Sweep Agent: Waiting for job.\n",
            "\u001b[34m\u001b[1mwandb\u001b[0m: Job received.\n",
            "\u001b[34m\u001b[1mwandb\u001b[0m: Agent Starting Run: 3e4af5vr with config:\n",
            "\u001b[34m\u001b[1mwandb\u001b[0m: \tactivation: ReLU\n",
            "\u001b[34m\u001b[1mwandb\u001b[0m: \tbatch_size: 64\n",
            "\u001b[34m\u001b[1mwandb\u001b[0m: \tepochs: 5\n",
            "\u001b[34m\u001b[1mwandb\u001b[0m: \tlearning_rate: 0.001\n",
            "\u001b[34m\u001b[1mwandb\u001b[0m: \tnumber_of_hidden_layer: 5\n",
            "\u001b[34m\u001b[1mwandb\u001b[0m: \toptimizer: rmsprop\n",
            "\u001b[34m\u001b[1mwandb\u001b[0m: \tsize_of_hidden_layer: 32\n",
            "\u001b[34m\u001b[1mwandb\u001b[0m: \tweight_decay: 0\n",
            "\u001b[34m\u001b[1mwandb\u001b[0m: \tweight_initialization: Xavier\n"
          ]
        },
        {
          "data": {
            "text/html": [
              "Tracking run with wandb version 0.13.11"
            ],
            "text/plain": [
              "<IPython.core.display.HTML object>"
            ]
          },
          "metadata": {},
          "output_type": "display_data"
        },
        {
          "data": {
            "text/html": [
              "Run data is saved locally in <code>C:\\Users\\DELL\\Desktop\\wandb\\run-20230309_070654-3e4af5vr</code>"
            ],
            "text/plain": [
              "<IPython.core.display.HTML object>"
            ]
          },
          "metadata": {},
          "output_type": "display_data"
        },
        {
          "data": {
            "text/html": [
              "Syncing run <strong><a href='https://wandb.ai/cs22m019/DL%20Final%20Assignment%201/runs/3e4af5vr' target=\"_blank\">playful-sweep-17</a></strong> to <a href='https://wandb.ai/cs22m019/DL%20Final%20Assignment%201' target=\"_blank\">Weights & Biases</a> (<a href='https://wandb.me/run' target=\"_blank\">docs</a>)<br/>Sweep page: <a href='https://wandb.ai/cs22m019/DL%20Final%20Assignment%201/sweeps/cuhjfznh' target=\"_blank\">https://wandb.ai/cs22m019/DL%20Final%20Assignment%201/sweeps/cuhjfznh</a>"
            ],
            "text/plain": [
              "<IPython.core.display.HTML object>"
            ]
          },
          "metadata": {},
          "output_type": "display_data"
        },
        {
          "data": {
            "text/html": [
              " View project at <a href='https://wandb.ai/cs22m019/DL%20Final%20Assignment%201' target=\"_blank\">https://wandb.ai/cs22m019/DL%20Final%20Assignment%201</a>"
            ],
            "text/plain": [
              "<IPython.core.display.HTML object>"
            ]
          },
          "metadata": {},
          "output_type": "display_data"
        },
        {
          "data": {
            "text/html": [
              " View sweep at <a href='https://wandb.ai/cs22m019/DL%20Final%20Assignment%201/sweeps/cuhjfznh' target=\"_blank\">https://wandb.ai/cs22m019/DL%20Final%20Assignment%201/sweeps/cuhjfznh</a>"
            ],
            "text/plain": [
              "<IPython.core.display.HTML object>"
            ]
          },
          "metadata": {},
          "output_type": "display_data"
        },
        {
          "data": {
            "text/html": [
              " View run at <a href='https://wandb.ai/cs22m019/DL%20Final%20Assignment%201/runs/3e4af5vr' target=\"_blank\">https://wandb.ai/cs22m019/DL%20Final%20Assignment%201/runs/3e4af5vr</a>"
            ],
            "text/plain": [
              "<IPython.core.display.HTML object>"
            ]
          },
          "metadata": {},
          "output_type": "display_data"
        },
        {
          "name": "stdout",
          "output_type": "stream",
          "text": [
            "epoch:1, train loss:1.4094066640989484, train accuracy:0.483, validation loss:0.8963588020553449, validation accuracy:0.688\n",
            "epoch:2, train loss:0.8493509872455963, train accuracy:0.7245555555555555, validation loss:0.8084906526082479, validation accuracy:0.7451666666666666\n",
            "epoch:3, train loss:0.8133550671860057, train accuracy:0.7595555555555555, validation loss:0.7986167999224288, validation accuracy:0.7595\n",
            "epoch:4, train loss:0.8067722320184315, train accuracy:0.7781296296296296, validation loss:0.8059904957202357, validation accuracy:0.7831666666666667\n",
            "epoch:5, train loss:0.8089973291509901, train accuracy:0.7878888888888889, validation loss:0.8158989646539045, validation accuracy:0.789\n"
          ]
        },
        {
          "data": {
            "text/html": [
              "Waiting for W&B process to finish... <strong style=\"color:green\">(success).</strong>"
            ],
            "text/plain": [
              "<IPython.core.display.HTML object>"
            ]
          },
          "metadata": {},
          "output_type": "display_data"
        },
        {
          "data": {
            "text/html": [
              "<style>\n",
              "    table.wandb td:nth-child(1) { padding: 0 10px; text-align: left ; width: auto;} td:nth-child(2) {text-align: left ; width: 100%}\n",
              "    .wandb-row { display: flex; flex-direction: row; flex-wrap: wrap; justify-content: flex-start; width: 100% }\n",
              "    .wandb-col { display: flex; flex-direction: column; flex-basis: 100%; flex: 1; padding: 10px; }\n",
              "    </style>\n",
              "<div class=\"wandb-row\"><div class=\"wandb-col\"><h3>Run history:</h3><br/><table class=\"wandb\"><tr><td>train accuracy</td><td>▁▇▇██</td></tr><tr><td>train loss</td><td>█▁▁▁▁</td></tr><tr><td>validation accuracy</td><td>▁▅▆██</td></tr><tr><td>validation loss</td><td>█▂▁▂▂</td></tr></table><br/></div><div class=\"wandb-col\"><h3>Run summary:</h3><br/><table class=\"wandb\"><tr><td>train accuracy</td><td>0.78789</td></tr><tr><td>train loss</td><td>0.809</td></tr><tr><td>validation accuracy</td><td>0.789</td></tr><tr><td>validation loss</td><td>0.8159</td></tr></table><br/></div></div>"
            ],
            "text/plain": [
              "<IPython.core.display.HTML object>"
            ]
          },
          "metadata": {},
          "output_type": "display_data"
        },
        {
          "data": {
            "text/html": [
              " View run <strong style=\"color:#cdcd00\">playful-sweep-17</strong> at: <a href='https://wandb.ai/cs22m019/DL%20Final%20Assignment%201/runs/3e4af5vr' target=\"_blank\">https://wandb.ai/cs22m019/DL%20Final%20Assignment%201/runs/3e4af5vr</a><br/>Synced 6 W&B file(s), 0 media file(s), 0 artifact file(s) and 0 other file(s)"
            ],
            "text/plain": [
              "<IPython.core.display.HTML object>"
            ]
          },
          "metadata": {},
          "output_type": "display_data"
        },
        {
          "data": {
            "text/html": [
              "Find logs at: <code>.\\wandb\\run-20230309_070654-3e4af5vr\\logs</code>"
            ],
            "text/plain": [
              "<IPython.core.display.HTML object>"
            ]
          },
          "metadata": {},
          "output_type": "display_data"
        },
        {
          "name": "stderr",
          "output_type": "stream",
          "text": [
            "\u001b[34m\u001b[1mwandb\u001b[0m: Agent Starting Run: n9wnv3c5 with config:\n",
            "\u001b[34m\u001b[1mwandb\u001b[0m: \tactivation: ReLU\n",
            "\u001b[34m\u001b[1mwandb\u001b[0m: \tbatch_size: 16\n",
            "\u001b[34m\u001b[1mwandb\u001b[0m: \tepochs: 5\n",
            "\u001b[34m\u001b[1mwandb\u001b[0m: \tlearning_rate: 0.001\n",
            "\u001b[34m\u001b[1mwandb\u001b[0m: \tnumber_of_hidden_layer: 5\n",
            "\u001b[34m\u001b[1mwandb\u001b[0m: \toptimizer: nadam\n",
            "\u001b[34m\u001b[1mwandb\u001b[0m: \tsize_of_hidden_layer: 128\n",
            "\u001b[34m\u001b[1mwandb\u001b[0m: \tweight_decay: 0\n",
            "\u001b[34m\u001b[1mwandb\u001b[0m: \tweight_initialization: Xavier\n"
          ]
        },
        {
          "data": {
            "text/html": [
              "Tracking run with wandb version 0.13.11"
            ],
            "text/plain": [
              "<IPython.core.display.HTML object>"
            ]
          },
          "metadata": {},
          "output_type": "display_data"
        },
        {
          "data": {
            "text/html": [
              "Run data is saved locally in <code>C:\\Users\\DELL\\Desktop\\wandb\\run-20230309_071412-n9wnv3c5</code>"
            ],
            "text/plain": [
              "<IPython.core.display.HTML object>"
            ]
          },
          "metadata": {},
          "output_type": "display_data"
        },
        {
          "data": {
            "text/html": [
              "Syncing run <strong><a href='https://wandb.ai/cs22m019/DL%20Final%20Assignment%201/runs/n9wnv3c5' target=\"_blank\">gentle-sweep-18</a></strong> to <a href='https://wandb.ai/cs22m019/DL%20Final%20Assignment%201' target=\"_blank\">Weights & Biases</a> (<a href='https://wandb.me/run' target=\"_blank\">docs</a>)<br/>Sweep page: <a href='https://wandb.ai/cs22m019/DL%20Final%20Assignment%201/sweeps/cuhjfznh' target=\"_blank\">https://wandb.ai/cs22m019/DL%20Final%20Assignment%201/sweeps/cuhjfznh</a>"
            ],
            "text/plain": [
              "<IPython.core.display.HTML object>"
            ]
          },
          "metadata": {},
          "output_type": "display_data"
        },
        {
          "data": {
            "text/html": [
              " View project at <a href='https://wandb.ai/cs22m019/DL%20Final%20Assignment%201' target=\"_blank\">https://wandb.ai/cs22m019/DL%20Final%20Assignment%201</a>"
            ],
            "text/plain": [
              "<IPython.core.display.HTML object>"
            ]
          },
          "metadata": {},
          "output_type": "display_data"
        },
        {
          "data": {
            "text/html": [
              " View sweep at <a href='https://wandb.ai/cs22m019/DL%20Final%20Assignment%201/sweeps/cuhjfznh' target=\"_blank\">https://wandb.ai/cs22m019/DL%20Final%20Assignment%201/sweeps/cuhjfznh</a>"
            ],
            "text/plain": [
              "<IPython.core.display.HTML object>"
            ]
          },
          "metadata": {},
          "output_type": "display_data"
        },
        {
          "data": {
            "text/html": [
              " View run at <a href='https://wandb.ai/cs22m019/DL%20Final%20Assignment%201/runs/n9wnv3c5' target=\"_blank\">https://wandb.ai/cs22m019/DL%20Final%20Assignment%201/runs/n9wnv3c5</a>"
            ],
            "text/plain": [
              "<IPython.core.display.HTML object>"
            ]
          },
          "metadata": {},
          "output_type": "display_data"
        },
        {
          "name": "stdout",
          "output_type": "stream",
          "text": [
            "epoch:1, train loss:0.6854448337294661, train accuracy:0.7662592592592593, validation loss:0.4752404779326549, validation accuracy:0.8275\n",
            "epoch:2, train loss:0.4584546904104416, train accuracy:0.8405185185185186, validation loss:0.42034248807740104, validation accuracy:0.8538333333333333\n",
            "epoch:3, train loss:0.4201586557159391, train accuracy:0.8534814814814815, validation loss:0.41469425848082864, validation accuracy:0.8535\n",
            "epoch:4, train loss:0.4033797312330614, train accuracy:0.859574074074074, validation loss:0.3857728841790507, validation accuracy:0.8638333333333333\n",
            "epoch:5, train loss:0.3952465714434801, train accuracy:0.8641481481481481, validation loss:0.382929301115162, validation accuracy:0.8703333333333333\n"
          ]
        },
        {
          "data": {
            "text/html": [
              "Waiting for W&B process to finish... <strong style=\"color:green\">(success).</strong>"
            ],
            "text/plain": [
              "<IPython.core.display.HTML object>"
            ]
          },
          "metadata": {},
          "output_type": "display_data"
        },
        {
          "data": {
            "application/vnd.jupyter.widget-view+json": {
              "model_id": "7e79077d4bb243459e1e7b21f6fd6b92",
              "version_major": 2,
              "version_minor": 0
            },
            "text/plain": [
              "VBox(children=(Label(value='0.001 MB of 0.001 MB uploaded (0.000 MB deduped)\\r'), FloatProgress(value=1.0, max…"
            ]
          },
          "metadata": {},
          "output_type": "display_data"
        },
        {
          "data": {
            "text/html": [
              "<style>\n",
              "    table.wandb td:nth-child(1) { padding: 0 10px; text-align: left ; width: auto;} td:nth-child(2) {text-align: left ; width: 100%}\n",
              "    .wandb-row { display: flex; flex-direction: row; flex-wrap: wrap; justify-content: flex-start; width: 100% }\n",
              "    .wandb-col { display: flex; flex-direction: column; flex-basis: 100%; flex: 1; padding: 10px; }\n",
              "    </style>\n",
              "<div class=\"wandb-row\"><div class=\"wandb-col\"><h3>Run history:</h3><br/><table class=\"wandb\"><tr><td>train accuracy</td><td>▁▆▇██</td></tr><tr><td>train loss</td><td>█▃▂▁▁</td></tr><tr><td>validation accuracy</td><td>▁▅▅▇█</td></tr><tr><td>validation loss</td><td>█▄▃▁▁</td></tr></table><br/></div><div class=\"wandb-col\"><h3>Run summary:</h3><br/><table class=\"wandb\"><tr><td>train accuracy</td><td>0.86415</td></tr><tr><td>train loss</td><td>0.39525</td></tr><tr><td>validation accuracy</td><td>0.87033</td></tr><tr><td>validation loss</td><td>0.38293</td></tr></table><br/></div></div>"
            ],
            "text/plain": [
              "<IPython.core.display.HTML object>"
            ]
          },
          "metadata": {},
          "output_type": "display_data"
        },
        {
          "data": {
            "text/html": [
              " View run <strong style=\"color:#cdcd00\">gentle-sweep-18</strong> at: <a href='https://wandb.ai/cs22m019/DL%20Final%20Assignment%201/runs/n9wnv3c5' target=\"_blank\">https://wandb.ai/cs22m019/DL%20Final%20Assignment%201/runs/n9wnv3c5</a><br/>Synced 6 W&B file(s), 0 media file(s), 0 artifact file(s) and 0 other file(s)"
            ],
            "text/plain": [
              "<IPython.core.display.HTML object>"
            ]
          },
          "metadata": {},
          "output_type": "display_data"
        },
        {
          "data": {
            "text/html": [
              "Find logs at: <code>.\\wandb\\run-20230309_071412-n9wnv3c5\\logs</code>"
            ],
            "text/plain": [
              "<IPython.core.display.HTML object>"
            ]
          },
          "metadata": {},
          "output_type": "display_data"
        },
        {
          "name": "stderr",
          "output_type": "stream",
          "text": [
            "\u001b[34m\u001b[1mwandb\u001b[0m: Agent Starting Run: xyw4lnhc with config:\n",
            "\u001b[34m\u001b[1mwandb\u001b[0m: \tactivation: ReLU\n",
            "\u001b[34m\u001b[1mwandb\u001b[0m: \tbatch_size: 32\n",
            "\u001b[34m\u001b[1mwandb\u001b[0m: \tepochs: 5\n",
            "\u001b[34m\u001b[1mwandb\u001b[0m: \tlearning_rate: 0.001\n",
            "\u001b[34m\u001b[1mwandb\u001b[0m: \tnumber_of_hidden_layer: 4\n",
            "\u001b[34m\u001b[1mwandb\u001b[0m: \toptimizer: adam\n",
            "\u001b[34m\u001b[1mwandb\u001b[0m: \tsize_of_hidden_layer: 128\n",
            "\u001b[34m\u001b[1mwandb\u001b[0m: \tweight_decay: 0\n",
            "\u001b[34m\u001b[1mwandb\u001b[0m: \tweight_initialization: Xavier\n"
          ]
        },
        {
          "data": {
            "text/html": [
              "Tracking run with wandb version 0.13.11"
            ],
            "text/plain": [
              "<IPython.core.display.HTML object>"
            ]
          },
          "metadata": {},
          "output_type": "display_data"
        },
        {
          "data": {
            "text/html": [
              "Run data is saved locally in <code>C:\\Users\\DELL\\Desktop\\wandb\\run-20230309_072240-xyw4lnhc</code>"
            ],
            "text/plain": [
              "<IPython.core.display.HTML object>"
            ]
          },
          "metadata": {},
          "output_type": "display_data"
        },
        {
          "data": {
            "text/html": [
              "Syncing run <strong><a href='https://wandb.ai/cs22m019/DL%20Final%20Assignment%201/runs/xyw4lnhc' target=\"_blank\">copper-sweep-19</a></strong> to <a href='https://wandb.ai/cs22m019/DL%20Final%20Assignment%201' target=\"_blank\">Weights & Biases</a> (<a href='https://wandb.me/run' target=\"_blank\">docs</a>)<br/>Sweep page: <a href='https://wandb.ai/cs22m019/DL%20Final%20Assignment%201/sweeps/cuhjfznh' target=\"_blank\">https://wandb.ai/cs22m019/DL%20Final%20Assignment%201/sweeps/cuhjfznh</a>"
            ],
            "text/plain": [
              "<IPython.core.display.HTML object>"
            ]
          },
          "metadata": {},
          "output_type": "display_data"
        },
        {
          "data": {
            "text/html": [
              " View project at <a href='https://wandb.ai/cs22m019/DL%20Final%20Assignment%201' target=\"_blank\">https://wandb.ai/cs22m019/DL%20Final%20Assignment%201</a>"
            ],
            "text/plain": [
              "<IPython.core.display.HTML object>"
            ]
          },
          "metadata": {},
          "output_type": "display_data"
        },
        {
          "data": {
            "text/html": [
              " View sweep at <a href='https://wandb.ai/cs22m019/DL%20Final%20Assignment%201/sweeps/cuhjfznh' target=\"_blank\">https://wandb.ai/cs22m019/DL%20Final%20Assignment%201/sweeps/cuhjfznh</a>"
            ],
            "text/plain": [
              "<IPython.core.display.HTML object>"
            ]
          },
          "metadata": {},
          "output_type": "display_data"
        },
        {
          "data": {
            "text/html": [
              " View run at <a href='https://wandb.ai/cs22m019/DL%20Final%20Assignment%201/runs/xyw4lnhc' target=\"_blank\">https://wandb.ai/cs22m019/DL%20Final%20Assignment%201/runs/xyw4lnhc</a>"
            ],
            "text/plain": [
              "<IPython.core.display.HTML object>"
            ]
          },
          "metadata": {},
          "output_type": "display_data"
        },
        {
          "name": "stdout",
          "output_type": "stream",
          "text": [
            "epoch:1, train loss:0.7833518731452311, train accuracy:0.7648333333333334, validation loss:0.7100560411692466, validation accuracy:0.807\n",
            "epoch:2, train loss:0.7407015579142708, train accuracy:0.8215925925925925, validation loss:0.7098677376757788, validation accuracy:0.8343333333333334\n",
            "epoch:3, train loss:0.7587709601556472, train accuracy:0.8331851851851851, validation loss:0.7063167172553272, validation accuracy:0.8385\n",
            "epoch:4, train loss:0.7477359975071415, train accuracy:0.8382777777777778, validation loss:0.8105559155985207, validation accuracy:0.8363333333333334\n",
            "epoch:5, train loss:0.7749747186917436, train accuracy:0.8427222222222223, validation loss:0.8974629238777305, validation accuracy:0.8406666666666667\n"
          ]
        },
        {
          "data": {
            "text/html": [
              "Waiting for W&B process to finish... <strong style=\"color:green\">(success).</strong>"
            ],
            "text/plain": [
              "<IPython.core.display.HTML object>"
            ]
          },
          "metadata": {},
          "output_type": "display_data"
        },
        {
          "data": {
            "application/vnd.jupyter.widget-view+json": {
              "model_id": "119fb6d3314f4f69bdbac19a6141b08f",
              "version_major": 2,
              "version_minor": 0
            },
            "text/plain": [
              "VBox(children=(Label(value='0.001 MB of 0.001 MB uploaded (0.000 MB deduped)\\r'), FloatProgress(value=1.0, max…"
            ]
          },
          "metadata": {},
          "output_type": "display_data"
        },
        {
          "data": {
            "text/html": [
              "<style>\n",
              "    table.wandb td:nth-child(1) { padding: 0 10px; text-align: left ; width: auto;} td:nth-child(2) {text-align: left ; width: 100%}\n",
              "    .wandb-row { display: flex; flex-direction: row; flex-wrap: wrap; justify-content: flex-start; width: 100% }\n",
              "    .wandb-col { display: flex; flex-direction: column; flex-basis: 100%; flex: 1; padding: 10px; }\n",
              "    </style>\n",
              "<div class=\"wandb-row\"><div class=\"wandb-col\"><h3>Run history:</h3><br/><table class=\"wandb\"><tr><td>train accuracy</td><td>▁▆▇██</td></tr><tr><td>train loss</td><td>█▁▄▂▇</td></tr><tr><td>validation accuracy</td><td>▁▇█▇█</td></tr><tr><td>validation loss</td><td>▁▁▁▅█</td></tr></table><br/></div><div class=\"wandb-col\"><h3>Run summary:</h3><br/><table class=\"wandb\"><tr><td>train accuracy</td><td>0.84272</td></tr><tr><td>train loss</td><td>0.77497</td></tr><tr><td>validation accuracy</td><td>0.84067</td></tr><tr><td>validation loss</td><td>0.89746</td></tr></table><br/></div></div>"
            ],
            "text/plain": [
              "<IPython.core.display.HTML object>"
            ]
          },
          "metadata": {},
          "output_type": "display_data"
        },
        {
          "data": {
            "text/html": [
              " View run <strong style=\"color:#cdcd00\">copper-sweep-19</strong> at: <a href='https://wandb.ai/cs22m019/DL%20Final%20Assignment%201/runs/xyw4lnhc' target=\"_blank\">https://wandb.ai/cs22m019/DL%20Final%20Assignment%201/runs/xyw4lnhc</a><br/>Synced 6 W&B file(s), 0 media file(s), 0 artifact file(s) and 0 other file(s)"
            ],
            "text/plain": [
              "<IPython.core.display.HTML object>"
            ]
          },
          "metadata": {},
          "output_type": "display_data"
        },
        {
          "data": {
            "text/html": [
              "Find logs at: <code>.\\wandb\\run-20230309_072240-xyw4lnhc\\logs</code>"
            ],
            "text/plain": [
              "<IPython.core.display.HTML object>"
            ]
          },
          "metadata": {},
          "output_type": "display_data"
        },
        {
          "name": "stderr",
          "output_type": "stream",
          "text": [
            "\u001b[34m\u001b[1mwandb\u001b[0m: Agent Starting Run: 3etupl53 with config:\n",
            "\u001b[34m\u001b[1mwandb\u001b[0m: \tactivation: ReLU\n",
            "\u001b[34m\u001b[1mwandb\u001b[0m: \tbatch_size: 32\n",
            "\u001b[34m\u001b[1mwandb\u001b[0m: \tepochs: 5\n",
            "\u001b[34m\u001b[1mwandb\u001b[0m: \tlearning_rate: 0.001\n",
            "\u001b[34m\u001b[1mwandb\u001b[0m: \tnumber_of_hidden_layer: 4\n",
            "\u001b[34m\u001b[1mwandb\u001b[0m: \toptimizer: nadam\n",
            "\u001b[34m\u001b[1mwandb\u001b[0m: \tsize_of_hidden_layer: 128\n",
            "\u001b[34m\u001b[1mwandb\u001b[0m: \tweight_decay: 0\n",
            "\u001b[34m\u001b[1mwandb\u001b[0m: \tweight_initialization: Xavier\n"
          ]
        },
        {
          "data": {
            "application/vnd.jupyter.widget-view+json": {
              "model_id": "9cd9c4c101cd4b0d9af5adda18a82da6",
              "version_major": 2,
              "version_minor": 0
            },
            "text/plain": [
              "VBox(children=(Label(value='Waiting for wandb.init()...\\r'), FloatProgress(value=0.01718333333337796, max=1.0)…"
            ]
          },
          "metadata": {},
          "output_type": "display_data"
        },
        {
          "data": {
            "text/html": [
              "Tracking run with wandb version 0.13.11"
            ],
            "text/plain": [
              "<IPython.core.display.HTML object>"
            ]
          },
          "metadata": {},
          "output_type": "display_data"
        },
        {
          "data": {
            "text/html": [
              "Run data is saved locally in <code>C:\\Users\\DELL\\Desktop\\wandb\\run-20230309_075743-3etupl53</code>"
            ],
            "text/plain": [
              "<IPython.core.display.HTML object>"
            ]
          },
          "metadata": {},
          "output_type": "display_data"
        },
        {
          "data": {
            "text/html": [
              "Syncing run <strong><a href='https://wandb.ai/cs22m019/DL%20Final%20Assignment%201/runs/3etupl53' target=\"_blank\">fine-sweep-20</a></strong> to <a href='https://wandb.ai/cs22m019/DL%20Final%20Assignment%201' target=\"_blank\">Weights & Biases</a> (<a href='https://wandb.me/run' target=\"_blank\">docs</a>)<br/>Sweep page: <a href='https://wandb.ai/cs22m019/DL%20Final%20Assignment%201/sweeps/cuhjfznh' target=\"_blank\">https://wandb.ai/cs22m019/DL%20Final%20Assignment%201/sweeps/cuhjfznh</a>"
            ],
            "text/plain": [
              "<IPython.core.display.HTML object>"
            ]
          },
          "metadata": {},
          "output_type": "display_data"
        },
        {
          "data": {
            "text/html": [
              " View project at <a href='https://wandb.ai/cs22m019/DL%20Final%20Assignment%201' target=\"_blank\">https://wandb.ai/cs22m019/DL%20Final%20Assignment%201</a>"
            ],
            "text/plain": [
              "<IPython.core.display.HTML object>"
            ]
          },
          "metadata": {},
          "output_type": "display_data"
        },
        {
          "data": {
            "text/html": [
              " View sweep at <a href='https://wandb.ai/cs22m019/DL%20Final%20Assignment%201/sweeps/cuhjfznh' target=\"_blank\">https://wandb.ai/cs22m019/DL%20Final%20Assignment%201/sweeps/cuhjfznh</a>"
            ],
            "text/plain": [
              "<IPython.core.display.HTML object>"
            ]
          },
          "metadata": {},
          "output_type": "display_data"
        },
        {
          "data": {
            "text/html": [
              " View run at <a href='https://wandb.ai/cs22m019/DL%20Final%20Assignment%201/runs/3etupl53' target=\"_blank\">https://wandb.ai/cs22m019/DL%20Final%20Assignment%201/runs/3etupl53</a>"
            ],
            "text/plain": [
              "<IPython.core.display.HTML object>"
            ]
          },
          "metadata": {},
          "output_type": "display_data"
        },
        {
          "name": "stdout",
          "output_type": "stream",
          "text": [
            "epoch:1, train loss:0.8095997665489583, train accuracy:0.7539444444444444, validation loss:0.8352467665141263, validation accuracy:0.7963333333333333\n",
            "epoch:2, train loss:0.7894140962068873, train accuracy:0.8124074074074074, validation loss:0.938989800759212, validation accuracy:0.7913333333333333\n",
            "epoch:3, train loss:0.779316970484511, train accuracy:0.8260555555555555, validation loss:0.8057772187029386, validation accuracy:0.8223333333333334\n",
            "epoch:4, train loss:0.7745930448836162, train accuracy:0.8316111111111111, validation loss:0.7264136825188102, validation accuracy:0.8396666666666667\n",
            "epoch:5, train loss:0.7852044639917282, train accuracy:0.8369444444444445, validation loss:0.8542300025959294, validation accuracy:0.834\n"
          ]
        },
        {
          "data": {
            "text/html": [
              "Waiting for W&B process to finish... <strong style=\"color:green\">(success).</strong>"
            ],
            "text/plain": [
              "<IPython.core.display.HTML object>"
            ]
          },
          "metadata": {},
          "output_type": "display_data"
        },
        {
          "data": {
            "application/vnd.jupyter.widget-view+json": {
              "model_id": "116934a60eef4b1190aa39bb61ddc1aa",
              "version_major": 2,
              "version_minor": 0
            },
            "text/plain": [
              "VBox(children=(Label(value='0.001 MB of 0.001 MB uploaded (0.000 MB deduped)\\r'), FloatProgress(value=1.0, max…"
            ]
          },
          "metadata": {},
          "output_type": "display_data"
        },
        {
          "data": {
            "text/html": [
              "<style>\n",
              "    table.wandb td:nth-child(1) { padding: 0 10px; text-align: left ; width: auto;} td:nth-child(2) {text-align: left ; width: 100%}\n",
              "    .wandb-row { display: flex; flex-direction: row; flex-wrap: wrap; justify-content: flex-start; width: 100% }\n",
              "    .wandb-col { display: flex; flex-direction: column; flex-basis: 100%; flex: 1; padding: 10px; }\n",
              "    </style>\n",
              "<div class=\"wandb-row\"><div class=\"wandb-col\"><h3>Run history:</h3><br/><table class=\"wandb\"><tr><td>train accuracy</td><td>▁▆▇██</td></tr><tr><td>train loss</td><td>█▄▂▁▃</td></tr><tr><td>validation accuracy</td><td>▂▁▅█▇</td></tr><tr><td>validation loss</td><td>▅█▄▁▅</td></tr></table><br/></div><div class=\"wandb-col\"><h3>Run summary:</h3><br/><table class=\"wandb\"><tr><td>train accuracy</td><td>0.83694</td></tr><tr><td>train loss</td><td>0.7852</td></tr><tr><td>validation accuracy</td><td>0.834</td></tr><tr><td>validation loss</td><td>0.85423</td></tr></table><br/></div></div>"
            ],
            "text/plain": [
              "<IPython.core.display.HTML object>"
            ]
          },
          "metadata": {},
          "output_type": "display_data"
        },
        {
          "data": {
            "text/html": [
              " View run <strong style=\"color:#cdcd00\">fine-sweep-20</strong> at: <a href='https://wandb.ai/cs22m019/DL%20Final%20Assignment%201/runs/3etupl53' target=\"_blank\">https://wandb.ai/cs22m019/DL%20Final%20Assignment%201/runs/3etupl53</a><br/>Synced 6 W&B file(s), 0 media file(s), 0 artifact file(s) and 0 other file(s)"
            ],
            "text/plain": [
              "<IPython.core.display.HTML object>"
            ]
          },
          "metadata": {},
          "output_type": "display_data"
        },
        {
          "data": {
            "text/html": [
              "Find logs at: <code>.\\wandb\\run-20230309_075743-3etupl53\\logs</code>"
            ],
            "text/plain": [
              "<IPython.core.display.HTML object>"
            ]
          },
          "metadata": {},
          "output_type": "display_data"
        },
        {
          "name": "stderr",
          "output_type": "stream",
          "text": [
            "\u001b[34m\u001b[1mwandb\u001b[0m: Agent Starting Run: 3ccb6m38 with config:\n",
            "\u001b[34m\u001b[1mwandb\u001b[0m: \tactivation: ReLU\n",
            "\u001b[34m\u001b[1mwandb\u001b[0m: \tbatch_size: 32\n",
            "\u001b[34m\u001b[1mwandb\u001b[0m: \tepochs: 5\n",
            "\u001b[34m\u001b[1mwandb\u001b[0m: \tlearning_rate: 0.001\n",
            "\u001b[34m\u001b[1mwandb\u001b[0m: \tnumber_of_hidden_layer: 5\n",
            "\u001b[34m\u001b[1mwandb\u001b[0m: \toptimizer: adam\n",
            "\u001b[34m\u001b[1mwandb\u001b[0m: \tsize_of_hidden_layer: 32\n",
            "\u001b[34m\u001b[1mwandb\u001b[0m: \tweight_decay: 0\n",
            "\u001b[34m\u001b[1mwandb\u001b[0m: \tweight_initialization: Xavier\n"
          ]
        },
        {
          "data": {
            "text/html": [
              "Tracking run with wandb version 0.13.11"
            ],
            "text/plain": [
              "<IPython.core.display.HTML object>"
            ]
          },
          "metadata": {},
          "output_type": "display_data"
        },
        {
          "data": {
            "text/html": [
              "Run data is saved locally in <code>C:\\Users\\DELL\\Desktop\\wandb\\run-20230309_083453-3ccb6m38</code>"
            ],
            "text/plain": [
              "<IPython.core.display.HTML object>"
            ]
          },
          "metadata": {},
          "output_type": "display_data"
        },
        {
          "data": {
            "text/html": [
              "Syncing run <strong><a href='https://wandb.ai/cs22m019/DL%20Final%20Assignment%201/runs/3ccb6m38' target=\"_blank\">summer-sweep-21</a></strong> to <a href='https://wandb.ai/cs22m019/DL%20Final%20Assignment%201' target=\"_blank\">Weights & Biases</a> (<a href='https://wandb.me/run' target=\"_blank\">docs</a>)<br/>Sweep page: <a href='https://wandb.ai/cs22m019/DL%20Final%20Assignment%201/sweeps/cuhjfznh' target=\"_blank\">https://wandb.ai/cs22m019/DL%20Final%20Assignment%201/sweeps/cuhjfznh</a>"
            ],
            "text/plain": [
              "<IPython.core.display.HTML object>"
            ]
          },
          "metadata": {},
          "output_type": "display_data"
        },
        {
          "data": {
            "text/html": [
              " View project at <a href='https://wandb.ai/cs22m019/DL%20Final%20Assignment%201' target=\"_blank\">https://wandb.ai/cs22m019/DL%20Final%20Assignment%201</a>"
            ],
            "text/plain": [
              "<IPython.core.display.HTML object>"
            ]
          },
          "metadata": {},
          "output_type": "display_data"
        },
        {
          "data": {
            "text/html": [
              " View sweep at <a href='https://wandb.ai/cs22m019/DL%20Final%20Assignment%201/sweeps/cuhjfznh' target=\"_blank\">https://wandb.ai/cs22m019/DL%20Final%20Assignment%201/sweeps/cuhjfznh</a>"
            ],
            "text/plain": [
              "<IPython.core.display.HTML object>"
            ]
          },
          "metadata": {},
          "output_type": "display_data"
        },
        {
          "data": {
            "text/html": [
              " View run at <a href='https://wandb.ai/cs22m019/DL%20Final%20Assignment%201/runs/3ccb6m38' target=\"_blank\">https://wandb.ai/cs22m019/DL%20Final%20Assignment%201/runs/3ccb6m38</a>"
            ],
            "text/plain": [
              "<IPython.core.display.HTML object>"
            ]
          },
          "metadata": {},
          "output_type": "display_data"
        },
        {
          "name": "stdout",
          "output_type": "stream",
          "text": [
            "epoch:1, train loss:0.9264518043659488, train accuracy:0.6962592592592592, validation loss:0.7551125203268881, validation accuracy:0.7706666666666667\n",
            "epoch:2, train loss:0.7258615944242947, train accuracy:0.7895925925925926, validation loss:0.7178610179394368, validation accuracy:0.7983333333333333\n",
            "epoch:3, train loss:0.742171230610622, train accuracy:0.8018703703703703, validation loss:0.7322252418171943, validation accuracy:0.812\n",
            "epoch:4, train loss:0.7651931190839385, train accuracy:0.8098888888888889, validation loss:0.7381197351251788, validation accuracy:0.817\n",
            "epoch:5, train loss:0.7917249710333287, train accuracy:0.8156666666666667, validation loss:0.7661131252856508, validation accuracy:0.8191666666666667\n"
          ]
        },
        {
          "data": {
            "text/html": [
              "Waiting for W&B process to finish... <strong style=\"color:green\">(success).</strong>"
            ],
            "text/plain": [
              "<IPython.core.display.HTML object>"
            ]
          },
          "metadata": {},
          "output_type": "display_data"
        },
        {
          "data": {
            "application/vnd.jupyter.widget-view+json": {
              "model_id": "f9454d8559aa452f9984c06cc9abab6a",
              "version_major": 2,
              "version_minor": 0
            },
            "text/plain": [
              "VBox(children=(Label(value='0.001 MB of 0.001 MB uploaded (0.000 MB deduped)\\r'), FloatProgress(value=1.0, max…"
            ]
          },
          "metadata": {},
          "output_type": "display_data"
        },
        {
          "data": {
            "text/html": [
              "<style>\n",
              "    table.wandb td:nth-child(1) { padding: 0 10px; text-align: left ; width: auto;} td:nth-child(2) {text-align: left ; width: 100%}\n",
              "    .wandb-row { display: flex; flex-direction: row; flex-wrap: wrap; justify-content: flex-start; width: 100% }\n",
              "    .wandb-col { display: flex; flex-direction: column; flex-basis: 100%; flex: 1; padding: 10px; }\n",
              "    </style>\n",
              "<div class=\"wandb-row\"><div class=\"wandb-col\"><h3>Run history:</h3><br/><table class=\"wandb\"><tr><td>train accuracy</td><td>▁▆▇██</td></tr><tr><td>train loss</td><td>█▁▂▂▃</td></tr><tr><td>validation accuracy</td><td>▁▅▇██</td></tr><tr><td>validation loss</td><td>▆▁▃▄█</td></tr></table><br/></div><div class=\"wandb-col\"><h3>Run summary:</h3><br/><table class=\"wandb\"><tr><td>train accuracy</td><td>0.81567</td></tr><tr><td>train loss</td><td>0.79172</td></tr><tr><td>validation accuracy</td><td>0.81917</td></tr><tr><td>validation loss</td><td>0.76611</td></tr></table><br/></div></div>"
            ],
            "text/plain": [
              "<IPython.core.display.HTML object>"
            ]
          },
          "metadata": {},
          "output_type": "display_data"
        },
        {
          "data": {
            "text/html": [
              " View run <strong style=\"color:#cdcd00\">summer-sweep-21</strong> at: <a href='https://wandb.ai/cs22m019/DL%20Final%20Assignment%201/runs/3ccb6m38' target=\"_blank\">https://wandb.ai/cs22m019/DL%20Final%20Assignment%201/runs/3ccb6m38</a><br/>Synced 6 W&B file(s), 0 media file(s), 0 artifact file(s) and 0 other file(s)"
            ],
            "text/plain": [
              "<IPython.core.display.HTML object>"
            ]
          },
          "metadata": {},
          "output_type": "display_data"
        },
        {
          "data": {
            "text/html": [
              "Find logs at: <code>.\\wandb\\run-20230309_083453-3ccb6m38\\logs</code>"
            ],
            "text/plain": [
              "<IPython.core.display.HTML object>"
            ]
          },
          "metadata": {},
          "output_type": "display_data"
        },
        {
          "name": "stderr",
          "output_type": "stream",
          "text": [
            "\u001b[34m\u001b[1mwandb\u001b[0m: Agent Starting Run: nbi56kwm with config:\n",
            "\u001b[34m\u001b[1mwandb\u001b[0m: \tactivation: ReLU\n",
            "\u001b[34m\u001b[1mwandb\u001b[0m: \tbatch_size: 32\n",
            "\u001b[34m\u001b[1mwandb\u001b[0m: \tepochs: 5\n",
            "\u001b[34m\u001b[1mwandb\u001b[0m: \tlearning_rate: 0.001\n",
            "\u001b[34m\u001b[1mwandb\u001b[0m: \tnumber_of_hidden_layer: 5\n",
            "\u001b[34m\u001b[1mwandb\u001b[0m: \toptimizer: nestrov\n",
            "\u001b[34m\u001b[1mwandb\u001b[0m: \tsize_of_hidden_layer: 32\n",
            "\u001b[34m\u001b[1mwandb\u001b[0m: \tweight_decay: 0\n",
            "\u001b[34m\u001b[1mwandb\u001b[0m: \tweight_initialization: Xavier\n"
          ]
        },
        {
          "data": {
            "text/html": [
              "Tracking run with wandb version 0.13.11"
            ],
            "text/plain": [
              "<IPython.core.display.HTML object>"
            ]
          },
          "metadata": {},
          "output_type": "display_data"
        },
        {
          "data": {
            "text/html": [
              "Run data is saved locally in <code>C:\\Users\\DELL\\Desktop\\wandb\\run-20230309_084414-nbi56kwm</code>"
            ],
            "text/plain": [
              "<IPython.core.display.HTML object>"
            ]
          },
          "metadata": {},
          "output_type": "display_data"
        },
        {
          "data": {
            "text/html": [
              "Syncing run <strong><a href='https://wandb.ai/cs22m019/DL%20Final%20Assignment%201/runs/nbi56kwm' target=\"_blank\">lyric-sweep-22</a></strong> to <a href='https://wandb.ai/cs22m019/DL%20Final%20Assignment%201' target=\"_blank\">Weights & Biases</a> (<a href='https://wandb.me/run' target=\"_blank\">docs</a>)<br/>Sweep page: <a href='https://wandb.ai/cs22m019/DL%20Final%20Assignment%201/sweeps/cuhjfznh' target=\"_blank\">https://wandb.ai/cs22m019/DL%20Final%20Assignment%201/sweeps/cuhjfznh</a>"
            ],
            "text/plain": [
              "<IPython.core.display.HTML object>"
            ]
          },
          "metadata": {},
          "output_type": "display_data"
        },
        {
          "data": {
            "text/html": [
              " View project at <a href='https://wandb.ai/cs22m019/DL%20Final%20Assignment%201' target=\"_blank\">https://wandb.ai/cs22m019/DL%20Final%20Assignment%201</a>"
            ],
            "text/plain": [
              "<IPython.core.display.HTML object>"
            ]
          },
          "metadata": {},
          "output_type": "display_data"
        },
        {
          "data": {
            "text/html": [
              " View sweep at <a href='https://wandb.ai/cs22m019/DL%20Final%20Assignment%201/sweeps/cuhjfznh' target=\"_blank\">https://wandb.ai/cs22m019/DL%20Final%20Assignment%201/sweeps/cuhjfznh</a>"
            ],
            "text/plain": [
              "<IPython.core.display.HTML object>"
            ]
          },
          "metadata": {},
          "output_type": "display_data"
        },
        {
          "data": {
            "text/html": [
              " View run at <a href='https://wandb.ai/cs22m019/DL%20Final%20Assignment%201/runs/nbi56kwm' target=\"_blank\">https://wandb.ai/cs22m019/DL%20Final%20Assignment%201/runs/nbi56kwm</a>"
            ],
            "text/plain": [
              "<IPython.core.display.HTML object>"
            ]
          },
          "metadata": {},
          "output_type": "display_data"
        },
        {
          "name": "stdout",
          "output_type": "stream",
          "text": [
            "epoch:1, train loss:2.2730318468670214, train accuracy:0.20951851851851852, validation loss:2.147460539324381, validation accuracy:0.2165\n",
            "epoch:2, train loss:1.8513488673319265, train accuracy:0.3209814814814815, validation loss:1.5073828286060276, validation accuracy:0.4761666666666667\n",
            "epoch:3, train loss:1.2527376701259334, train accuracy:0.5894259259259259, validation loss:1.0654651556722676, validation accuracy:0.6405\n",
            "epoch:4, train loss:0.9574733834396992, train accuracy:0.6859814814814815, validation loss:0.8704802971600383, validation accuracy:0.699\n",
            "epoch:5, train loss:0.8079783950141023, train accuracy:0.7253333333333334, validation loss:0.7504433558570881, validation accuracy:0.7371666666666666\n"
          ]
        },
        {
          "data": {
            "text/html": [
              "Waiting for W&B process to finish... <strong style=\"color:green\">(success).</strong>"
            ],
            "text/plain": [
              "<IPython.core.display.HTML object>"
            ]
          },
          "metadata": {},
          "output_type": "display_data"
        },
        {
          "data": {
            "text/html": [
              "<style>\n",
              "    table.wandb td:nth-child(1) { padding: 0 10px; text-align: left ; width: auto;} td:nth-child(2) {text-align: left ; width: 100%}\n",
              "    .wandb-row { display: flex; flex-direction: row; flex-wrap: wrap; justify-content: flex-start; width: 100% }\n",
              "    .wandb-col { display: flex; flex-direction: column; flex-basis: 100%; flex: 1; padding: 10px; }\n",
              "    </style>\n",
              "<div class=\"wandb-row\"><div class=\"wandb-col\"><h3>Run history:</h3><br/><table class=\"wandb\"><tr><td>train accuracy</td><td>▁▃▆▇█</td></tr><tr><td>train loss</td><td>█▆▃▂▁</td></tr><tr><td>validation accuracy</td><td>▁▄▇▇█</td></tr><tr><td>validation loss</td><td>█▅▃▂▁</td></tr></table><br/></div><div class=\"wandb-col\"><h3>Run summary:</h3><br/><table class=\"wandb\"><tr><td>train accuracy</td><td>0.72533</td></tr><tr><td>train loss</td><td>0.80798</td></tr><tr><td>validation accuracy</td><td>0.73717</td></tr><tr><td>validation loss</td><td>0.75044</td></tr></table><br/></div></div>"
            ],
            "text/plain": [
              "<IPython.core.display.HTML object>"
            ]
          },
          "metadata": {},
          "output_type": "display_data"
        },
        {
          "data": {
            "text/html": [
              " View run <strong style=\"color:#cdcd00\">lyric-sweep-22</strong> at: <a href='https://wandb.ai/cs22m019/DL%20Final%20Assignment%201/runs/nbi56kwm' target=\"_blank\">https://wandb.ai/cs22m019/DL%20Final%20Assignment%201/runs/nbi56kwm</a><br/>Synced 6 W&B file(s), 0 media file(s), 0 artifact file(s) and 0 other file(s)"
            ],
            "text/plain": [
              "<IPython.core.display.HTML object>"
            ]
          },
          "metadata": {},
          "output_type": "display_data"
        },
        {
          "data": {
            "text/html": [
              "Find logs at: <code>.\\wandb\\run-20230309_084414-nbi56kwm\\logs</code>"
            ],
            "text/plain": [
              "<IPython.core.display.HTML object>"
            ]
          },
          "metadata": {},
          "output_type": "display_data"
        },
        {
          "name": "stderr",
          "output_type": "stream",
          "text": [
            "\u001b[34m\u001b[1mwandb\u001b[0m: Agent Starting Run: do63d723 with config:\n",
            "\u001b[34m\u001b[1mwandb\u001b[0m: \tactivation: ReLU\n",
            "\u001b[34m\u001b[1mwandb\u001b[0m: \tbatch_size: 64\n",
            "\u001b[34m\u001b[1mwandb\u001b[0m: \tepochs: 5\n",
            "\u001b[34m\u001b[1mwandb\u001b[0m: \tlearning_rate: 0.0001\n",
            "\u001b[34m\u001b[1mwandb\u001b[0m: \tnumber_of_hidden_layer: 4\n",
            "\u001b[34m\u001b[1mwandb\u001b[0m: \toptimizer: nadam\n",
            "\u001b[34m\u001b[1mwandb\u001b[0m: \tsize_of_hidden_layer: 64\n",
            "\u001b[34m\u001b[1mwandb\u001b[0m: \tweight_decay: 0\n",
            "\u001b[34m\u001b[1mwandb\u001b[0m: \tweight_initialization: Xavier\n"
          ]
        },
        {
          "data": {
            "text/html": [
              "Tracking run with wandb version 0.13.11"
            ],
            "text/plain": [
              "<IPython.core.display.HTML object>"
            ]
          },
          "metadata": {},
          "output_type": "display_data"
        },
        {
          "data": {
            "text/html": [
              "Run data is saved locally in <code>C:\\Users\\DELL\\Desktop\\wandb\\run-20230309_085044-do63d723</code>"
            ],
            "text/plain": [
              "<IPython.core.display.HTML object>"
            ]
          },
          "metadata": {},
          "output_type": "display_data"
        },
        {
          "data": {
            "text/html": [
              "Syncing run <strong><a href='https://wandb.ai/cs22m019/DL%20Final%20Assignment%201/runs/do63d723' target=\"_blank\">desert-sweep-23</a></strong> to <a href='https://wandb.ai/cs22m019/DL%20Final%20Assignment%201' target=\"_blank\">Weights & Biases</a> (<a href='https://wandb.me/run' target=\"_blank\">docs</a>)<br/>Sweep page: <a href='https://wandb.ai/cs22m019/DL%20Final%20Assignment%201/sweeps/cuhjfznh' target=\"_blank\">https://wandb.ai/cs22m019/DL%20Final%20Assignment%201/sweeps/cuhjfznh</a>"
            ],
            "text/plain": [
              "<IPython.core.display.HTML object>"
            ]
          },
          "metadata": {},
          "output_type": "display_data"
        },
        {
          "data": {
            "text/html": [
              " View project at <a href='https://wandb.ai/cs22m019/DL%20Final%20Assignment%201' target=\"_blank\">https://wandb.ai/cs22m019/DL%20Final%20Assignment%201</a>"
            ],
            "text/plain": [
              "<IPython.core.display.HTML object>"
            ]
          },
          "metadata": {},
          "output_type": "display_data"
        },
        {
          "data": {
            "text/html": [
              " View sweep at <a href='https://wandb.ai/cs22m019/DL%20Final%20Assignment%201/sweeps/cuhjfznh' target=\"_blank\">https://wandb.ai/cs22m019/DL%20Final%20Assignment%201/sweeps/cuhjfznh</a>"
            ],
            "text/plain": [
              "<IPython.core.display.HTML object>"
            ]
          },
          "metadata": {},
          "output_type": "display_data"
        },
        {
          "data": {
            "text/html": [
              " View run at <a href='https://wandb.ai/cs22m019/DL%20Final%20Assignment%201/runs/do63d723' target=\"_blank\">https://wandb.ai/cs22m019/DL%20Final%20Assignment%201/runs/do63d723</a>"
            ],
            "text/plain": [
              "<IPython.core.display.HTML object>"
            ]
          },
          "metadata": {},
          "output_type": "display_data"
        },
        {
          "name": "stdout",
          "output_type": "stream",
          "text": [
            "epoch:1, train loss:1.957420557154426, train accuracy:0.3378703703703704, validation loss:1.5605632467673225, validation accuracy:0.5141666666666667\n",
            "epoch:2, train loss:1.3205233369927805, train accuracy:0.5776666666666667, validation loss:1.1027470899995389, validation accuracy:0.6493333333333333\n",
            "epoch:3, train loss:0.9670671659941379, train accuracy:0.6580555555555555, validation loss:0.8829804255040895, validation accuracy:0.6633333333333333\n",
            "epoch:4, train loss:0.8410457960245548, train accuracy:0.6722037037037037, validation loss:0.8242988820943109, validation accuracy:0.6768333333333333\n",
            "epoch:5, train loss:0.8064678220719406, train accuracy:0.6853518518518519, validation loss:0.8039897691993398, validation accuracy:0.6886666666666666\n"
          ]
        },
        {
          "data": {
            "text/html": [
              "Waiting for W&B process to finish... <strong style=\"color:green\">(success).</strong>"
            ],
            "text/plain": [
              "<IPython.core.display.HTML object>"
            ]
          },
          "metadata": {},
          "output_type": "display_data"
        },
        {
          "data": {
            "text/html": [
              "<style>\n",
              "    table.wandb td:nth-child(1) { padding: 0 10px; text-align: left ; width: auto;} td:nth-child(2) {text-align: left ; width: 100%}\n",
              "    .wandb-row { display: flex; flex-direction: row; flex-wrap: wrap; justify-content: flex-start; width: 100% }\n",
              "    .wandb-col { display: flex; flex-direction: column; flex-basis: 100%; flex: 1; padding: 10px; }\n",
              "    </style>\n",
              "<div class=\"wandb-row\"><div class=\"wandb-col\"><h3>Run history:</h3><br/><table class=\"wandb\"><tr><td>train accuracy</td><td>▁▆▇██</td></tr><tr><td>train loss</td><td>█▄▂▁▁</td></tr><tr><td>validation accuracy</td><td>▁▆▇██</td></tr><tr><td>validation loss</td><td>█▄▂▁▁</td></tr></table><br/></div><div class=\"wandb-col\"><h3>Run summary:</h3><br/><table class=\"wandb\"><tr><td>train accuracy</td><td>0.68535</td></tr><tr><td>train loss</td><td>0.80647</td></tr><tr><td>validation accuracy</td><td>0.68867</td></tr><tr><td>validation loss</td><td>0.80399</td></tr></table><br/></div></div>"
            ],
            "text/plain": [
              "<IPython.core.display.HTML object>"
            ]
          },
          "metadata": {},
          "output_type": "display_data"
        },
        {
          "data": {
            "text/html": [
              " View run <strong style=\"color:#cdcd00\">desert-sweep-23</strong> at: <a href='https://wandb.ai/cs22m019/DL%20Final%20Assignment%201/runs/do63d723' target=\"_blank\">https://wandb.ai/cs22m019/DL%20Final%20Assignment%201/runs/do63d723</a><br/>Synced 6 W&B file(s), 0 media file(s), 0 artifact file(s) and 0 other file(s)"
            ],
            "text/plain": [
              "<IPython.core.display.HTML object>"
            ]
          },
          "metadata": {},
          "output_type": "display_data"
        },
        {
          "data": {
            "text/html": [
              "Find logs at: <code>.\\wandb\\run-20230309_085044-do63d723\\logs</code>"
            ],
            "text/plain": [
              "<IPython.core.display.HTML object>"
            ]
          },
          "metadata": {},
          "output_type": "display_data"
        },
        {
          "name": "stderr",
          "output_type": "stream",
          "text": [
            "\u001b[34m\u001b[1mwandb\u001b[0m: Agent Starting Run: 9kro00cu with config:\n",
            "\u001b[34m\u001b[1mwandb\u001b[0m: \tactivation: ReLU\n",
            "\u001b[34m\u001b[1mwandb\u001b[0m: \tbatch_size: 32\n",
            "\u001b[34m\u001b[1mwandb\u001b[0m: \tepochs: 5\n",
            "\u001b[34m\u001b[1mwandb\u001b[0m: \tlearning_rate: 0.001\n",
            "\u001b[34m\u001b[1mwandb\u001b[0m: \tnumber_of_hidden_layer: 5\n",
            "\u001b[34m\u001b[1mwandb\u001b[0m: \toptimizer: rmsprop\n",
            "\u001b[34m\u001b[1mwandb\u001b[0m: \tsize_of_hidden_layer: 64\n",
            "\u001b[34m\u001b[1mwandb\u001b[0m: \tweight_decay: 0.0005\n",
            "\u001b[34m\u001b[1mwandb\u001b[0m: \tweight_initialization: Xavier\n"
          ]
        },
        {
          "data": {
            "text/html": [
              "Tracking run with wandb version 0.13.11"
            ],
            "text/plain": [
              "<IPython.core.display.HTML object>"
            ]
          },
          "metadata": {},
          "output_type": "display_data"
        },
        {
          "data": {
            "text/html": [
              "Run data is saved locally in <code>C:\\Users\\DELL\\Desktop\\wandb\\run-20230309_090736-9kro00cu</code>"
            ],
            "text/plain": [
              "<IPython.core.display.HTML object>"
            ]
          },
          "metadata": {},
          "output_type": "display_data"
        },
        {
          "data": {
            "text/html": [
              "Syncing run <strong><a href='https://wandb.ai/cs22m019/DL%20Final%20Assignment%201/runs/9kro00cu' target=\"_blank\">celestial-sweep-24</a></strong> to <a href='https://wandb.ai/cs22m019/DL%20Final%20Assignment%201' target=\"_blank\">Weights & Biases</a> (<a href='https://wandb.me/run' target=\"_blank\">docs</a>)<br/>Sweep page: <a href='https://wandb.ai/cs22m019/DL%20Final%20Assignment%201/sweeps/cuhjfznh' target=\"_blank\">https://wandb.ai/cs22m019/DL%20Final%20Assignment%201/sweeps/cuhjfznh</a>"
            ],
            "text/plain": [
              "<IPython.core.display.HTML object>"
            ]
          },
          "metadata": {},
          "output_type": "display_data"
        },
        {
          "data": {
            "text/html": [
              " View project at <a href='https://wandb.ai/cs22m019/DL%20Final%20Assignment%201' target=\"_blank\">https://wandb.ai/cs22m019/DL%20Final%20Assignment%201</a>"
            ],
            "text/plain": [
              "<IPython.core.display.HTML object>"
            ]
          },
          "metadata": {},
          "output_type": "display_data"
        },
        {
          "data": {
            "text/html": [
              " View sweep at <a href='https://wandb.ai/cs22m019/DL%20Final%20Assignment%201/sweeps/cuhjfznh' target=\"_blank\">https://wandb.ai/cs22m019/DL%20Final%20Assignment%201/sweeps/cuhjfznh</a>"
            ],
            "text/plain": [
              "<IPython.core.display.HTML object>"
            ]
          },
          "metadata": {},
          "output_type": "display_data"
        },
        {
          "data": {
            "text/html": [
              " View run at <a href='https://wandb.ai/cs22m019/DL%20Final%20Assignment%201/runs/9kro00cu' target=\"_blank\">https://wandb.ai/cs22m019/DL%20Final%20Assignment%201/runs/9kro00cu</a>"
            ],
            "text/plain": [
              "<IPython.core.display.HTML object>"
            ]
          },
          "metadata": {},
          "output_type": "display_data"
        },
        {
          "name": "stdout",
          "output_type": "stream",
          "text": [
            "epoch:1, train loss:0.9462779821780891, train accuracy:0.6716851851851852, validation loss:0.8217865666646078, validation accuracy:0.7655\n",
            "epoch:2, train loss:0.8144696007017364, train accuracy:0.7852222222222223, validation loss:0.8060847918041646, validation accuracy:0.787\n",
            "epoch:3, train loss:0.8585035370216221, train accuracy:0.7996481481481481, validation loss:0.8475291274365416, validation accuracy:0.804\n",
            "epoch:4, train loss:0.8766488568118427, train accuracy:0.8087592592592593, validation loss:0.8649834908074955, validation accuracy:0.8036666666666666\n",
            "epoch:5, train loss:0.8903542123559585, train accuracy:0.8137592592592593, validation loss:0.8514757108293577, validation accuracy:0.8195\n"
          ]
        },
        {
          "data": {
            "text/html": [
              "Waiting for W&B process to finish... <strong style=\"color:green\">(success).</strong>"
            ],
            "text/plain": [
              "<IPython.core.display.HTML object>"
            ]
          },
          "metadata": {},
          "output_type": "display_data"
        },
        {
          "data": {
            "text/html": [
              "<style>\n",
              "    table.wandb td:nth-child(1) { padding: 0 10px; text-align: left ; width: auto;} td:nth-child(2) {text-align: left ; width: 100%}\n",
              "    .wandb-row { display: flex; flex-direction: row; flex-wrap: wrap; justify-content: flex-start; width: 100% }\n",
              "    .wandb-col { display: flex; flex-direction: column; flex-basis: 100%; flex: 1; padding: 10px; }\n",
              "    </style>\n",
              "<div class=\"wandb-row\"><div class=\"wandb-col\"><h3>Run history:</h3><br/><table class=\"wandb\"><tr><td>train accuracy</td><td>▁▇▇██</td></tr><tr><td>train loss</td><td>█▁▃▄▅</td></tr><tr><td>validation accuracy</td><td>▁▄▆▆█</td></tr><tr><td>validation loss</td><td>▃▁▆█▆</td></tr></table><br/></div><div class=\"wandb-col\"><h3>Run summary:</h3><br/><table class=\"wandb\"><tr><td>train accuracy</td><td>0.81376</td></tr><tr><td>train loss</td><td>0.89035</td></tr><tr><td>validation accuracy</td><td>0.8195</td></tr><tr><td>validation loss</td><td>0.85148</td></tr></table><br/></div></div>"
            ],
            "text/plain": [
              "<IPython.core.display.HTML object>"
            ]
          },
          "metadata": {},
          "output_type": "display_data"
        },
        {
          "data": {
            "text/html": [
              " View run <strong style=\"color:#cdcd00\">celestial-sweep-24</strong> at: <a href='https://wandb.ai/cs22m019/DL%20Final%20Assignment%201/runs/9kro00cu' target=\"_blank\">https://wandb.ai/cs22m019/DL%20Final%20Assignment%201/runs/9kro00cu</a><br/>Synced 6 W&B file(s), 0 media file(s), 0 artifact file(s) and 0 other file(s)"
            ],
            "text/plain": [
              "<IPython.core.display.HTML object>"
            ]
          },
          "metadata": {},
          "output_type": "display_data"
        },
        {
          "data": {
            "text/html": [
              "Find logs at: <code>.\\wandb\\run-20230309_090736-9kro00cu\\logs</code>"
            ],
            "text/plain": [
              "<IPython.core.display.HTML object>"
            ]
          },
          "metadata": {},
          "output_type": "display_data"
        },
        {
          "name": "stderr",
          "output_type": "stream",
          "text": [
            "\u001b[34m\u001b[1mwandb\u001b[0m: Agent Starting Run: 53rbku75 with config:\n",
            "\u001b[34m\u001b[1mwandb\u001b[0m: \tactivation: ReLU\n",
            "\u001b[34m\u001b[1mwandb\u001b[0m: \tbatch_size: 16\n",
            "\u001b[34m\u001b[1mwandb\u001b[0m: \tepochs: 5\n",
            "\u001b[34m\u001b[1mwandb\u001b[0m: \tlearning_rate: 0.0001\n",
            "\u001b[34m\u001b[1mwandb\u001b[0m: \tnumber_of_hidden_layer: 5\n",
            "\u001b[34m\u001b[1mwandb\u001b[0m: \toptimizer: nadam\n",
            "\u001b[34m\u001b[1mwandb\u001b[0m: \tsize_of_hidden_layer: 64\n",
            "\u001b[34m\u001b[1mwandb\u001b[0m: \tweight_decay: 0\n",
            "\u001b[34m\u001b[1mwandb\u001b[0m: \tweight_initialization: Xavier\n"
          ]
        },
        {
          "data": {
            "text/html": [
              "Tracking run with wandb version 0.13.11"
            ],
            "text/plain": [
              "<IPython.core.display.HTML object>"
            ]
          },
          "metadata": {},
          "output_type": "display_data"
        },
        {
          "data": {
            "text/html": [
              "Run data is saved locally in <code>C:\\Users\\DELL\\Desktop\\wandb\\run-20230309_091629-53rbku75</code>"
            ],
            "text/plain": [
              "<IPython.core.display.HTML object>"
            ]
          },
          "metadata": {},
          "output_type": "display_data"
        },
        {
          "data": {
            "text/html": [
              "Syncing run <strong><a href='https://wandb.ai/cs22m019/DL%20Final%20Assignment%201/runs/53rbku75' target=\"_blank\">fanciful-sweep-25</a></strong> to <a href='https://wandb.ai/cs22m019/DL%20Final%20Assignment%201' target=\"_blank\">Weights & Biases</a> (<a href='https://wandb.me/run' target=\"_blank\">docs</a>)<br/>Sweep page: <a href='https://wandb.ai/cs22m019/DL%20Final%20Assignment%201/sweeps/cuhjfznh' target=\"_blank\">https://wandb.ai/cs22m019/DL%20Final%20Assignment%201/sweeps/cuhjfznh</a>"
            ],
            "text/plain": [
              "<IPython.core.display.HTML object>"
            ]
          },
          "metadata": {},
          "output_type": "display_data"
        },
        {
          "data": {
            "text/html": [
              " View project at <a href='https://wandb.ai/cs22m019/DL%20Final%20Assignment%201' target=\"_blank\">https://wandb.ai/cs22m019/DL%20Final%20Assignment%201</a>"
            ],
            "text/plain": [
              "<IPython.core.display.HTML object>"
            ]
          },
          "metadata": {},
          "output_type": "display_data"
        },
        {
          "data": {
            "text/html": [
              " View sweep at <a href='https://wandb.ai/cs22m019/DL%20Final%20Assignment%201/sweeps/cuhjfznh' target=\"_blank\">https://wandb.ai/cs22m019/DL%20Final%20Assignment%201/sweeps/cuhjfznh</a>"
            ],
            "text/plain": [
              "<IPython.core.display.HTML object>"
            ]
          },
          "metadata": {},
          "output_type": "display_data"
        },
        {
          "data": {
            "text/html": [
              " View run at <a href='https://wandb.ai/cs22m019/DL%20Final%20Assignment%201/runs/53rbku75' target=\"_blank\">https://wandb.ai/cs22m019/DL%20Final%20Assignment%201/runs/53rbku75</a>"
            ],
            "text/plain": [
              "<IPython.core.display.HTML object>"
            ]
          },
          "metadata": {},
          "output_type": "display_data"
        },
        {
          "name": "stdout",
          "output_type": "stream",
          "text": [
            "epoch:1, train loss:1.938069900377563, train accuracy:0.3380185185185185, validation loss:1.497391982429797, validation accuracy:0.4603333333333333\n",
            "epoch:2, train loss:1.211233564676678, train accuracy:0.5783518518518519, validation loss:1.008533769251504, validation accuracy:0.6556666666666666\n",
            "epoch:3, train loss:0.9022937827504424, train accuracy:0.6788333333333333, validation loss:0.8329626565317119, validation accuracy:0.702\n",
            "epoch:4, train loss:0.782894670800924, train accuracy:0.7245555555555555, validation loss:0.7496819129350648, validation accuracy:0.7425\n",
            "epoch:5, train loss:0.7147644346098105, train accuracy:0.7525185185185185, validation loss:0.6930237813440993, validation accuracy:0.7638333333333334\n"
          ]
        },
        {
          "data": {
            "text/html": [
              "Waiting for W&B process to finish... <strong style=\"color:green\">(success).</strong>"
            ],
            "text/plain": [
              "<IPython.core.display.HTML object>"
            ]
          },
          "metadata": {},
          "output_type": "display_data"
        },
        {
          "data": {
            "application/vnd.jupyter.widget-view+json": {
              "model_id": "0d1a9cd43298449b8fb32b0aefd8baa9",
              "version_major": 2,
              "version_minor": 0
            },
            "text/plain": [
              "VBox(children=(Label(value='0.001 MB of 0.001 MB uploaded (0.000 MB deduped)\\r'), FloatProgress(value=1.0, max…"
            ]
          },
          "metadata": {},
          "output_type": "display_data"
        },
        {
          "data": {
            "text/html": [
              "<style>\n",
              "    table.wandb td:nth-child(1) { padding: 0 10px; text-align: left ; width: auto;} td:nth-child(2) {text-align: left ; width: 100%}\n",
              "    .wandb-row { display: flex; flex-direction: row; flex-wrap: wrap; justify-content: flex-start; width: 100% }\n",
              "    .wandb-col { display: flex; flex-direction: column; flex-basis: 100%; flex: 1; padding: 10px; }\n",
              "    </style>\n",
              "<div class=\"wandb-row\"><div class=\"wandb-col\"><h3>Run history:</h3><br/><table class=\"wandb\"><tr><td>train accuracy</td><td>▁▅▇██</td></tr><tr><td>train loss</td><td>█▄▂▁▁</td></tr><tr><td>validation accuracy</td><td>▁▆▇██</td></tr><tr><td>validation loss</td><td>█▄▂▁▁</td></tr></table><br/></div><div class=\"wandb-col\"><h3>Run summary:</h3><br/><table class=\"wandb\"><tr><td>train accuracy</td><td>0.75252</td></tr><tr><td>train loss</td><td>0.71476</td></tr><tr><td>validation accuracy</td><td>0.76383</td></tr><tr><td>validation loss</td><td>0.69302</td></tr></table><br/></div></div>"
            ],
            "text/plain": [
              "<IPython.core.display.HTML object>"
            ]
          },
          "metadata": {},
          "output_type": "display_data"
        },
        {
          "data": {
            "text/html": [
              " View run <strong style=\"color:#cdcd00\">fanciful-sweep-25</strong> at: <a href='https://wandb.ai/cs22m019/DL%20Final%20Assignment%201/runs/53rbku75' target=\"_blank\">https://wandb.ai/cs22m019/DL%20Final%20Assignment%201/runs/53rbku75</a><br/>Synced 6 W&B file(s), 0 media file(s), 0 artifact file(s) and 0 other file(s)"
            ],
            "text/plain": [
              "<IPython.core.display.HTML object>"
            ]
          },
          "metadata": {},
          "output_type": "display_data"
        },
        {
          "data": {
            "text/html": [
              "Find logs at: <code>.\\wandb\\run-20230309_091629-53rbku75\\logs</code>"
            ],
            "text/plain": [
              "<IPython.core.display.HTML object>"
            ]
          },
          "metadata": {},
          "output_type": "display_data"
        },
        {
          "name": "stderr",
          "output_type": "stream",
          "text": [
            "\u001b[34m\u001b[1mwandb\u001b[0m: Agent Starting Run: xfpt4uzk with config:\n",
            "\u001b[34m\u001b[1mwandb\u001b[0m: \tactivation: ReLU\n",
            "\u001b[34m\u001b[1mwandb\u001b[0m: \tbatch_size: 32\n",
            "\u001b[34m\u001b[1mwandb\u001b[0m: \tepochs: 5\n",
            "\u001b[34m\u001b[1mwandb\u001b[0m: \tlearning_rate: 0.001\n",
            "\u001b[34m\u001b[1mwandb\u001b[0m: \tnumber_of_hidden_layer: 5\n",
            "\u001b[34m\u001b[1mwandb\u001b[0m: \toptimizer: nestrov\n",
            "\u001b[34m\u001b[1mwandb\u001b[0m: \tsize_of_hidden_layer: 32\n",
            "\u001b[34m\u001b[1mwandb\u001b[0m: \tweight_decay: 0\n",
            "\u001b[34m\u001b[1mwandb\u001b[0m: \tweight_initialization: Xavier\n"
          ]
        },
        {
          "data": {
            "application/vnd.jupyter.widget-view+json": {
              "model_id": "ca32a166760442d7b0042747f0824ce9",
              "version_major": 2,
              "version_minor": 0
            },
            "text/plain": [
              "VBox(children=(Label(value='Waiting for wandb.init()...\\r'), FloatProgress(value=0.016916666666656966, max=1.0…"
            ]
          },
          "metadata": {},
          "output_type": "display_data"
        },
        {
          "data": {
            "text/html": [
              "Tracking run with wandb version 0.13.11"
            ],
            "text/plain": [
              "<IPython.core.display.HTML object>"
            ]
          },
          "metadata": {},
          "output_type": "display_data"
        },
        {
          "data": {
            "text/html": [
              "Run data is saved locally in <code>C:\\Users\\DELL\\Desktop\\wandb\\run-20230309_092224-xfpt4uzk</code>"
            ],
            "text/plain": [
              "<IPython.core.display.HTML object>"
            ]
          },
          "metadata": {},
          "output_type": "display_data"
        },
        {
          "data": {
            "text/html": [
              "Syncing run <strong><a href='https://wandb.ai/cs22m019/DL%20Final%20Assignment%201/runs/xfpt4uzk' target=\"_blank\">clean-sweep-26</a></strong> to <a href='https://wandb.ai/cs22m019/DL%20Final%20Assignment%201' target=\"_blank\">Weights & Biases</a> (<a href='https://wandb.me/run' target=\"_blank\">docs</a>)<br/>Sweep page: <a href='https://wandb.ai/cs22m019/DL%20Final%20Assignment%201/sweeps/cuhjfznh' target=\"_blank\">https://wandb.ai/cs22m019/DL%20Final%20Assignment%201/sweeps/cuhjfznh</a>"
            ],
            "text/plain": [
              "<IPython.core.display.HTML object>"
            ]
          },
          "metadata": {},
          "output_type": "display_data"
        },
        {
          "data": {
            "text/html": [
              " View project at <a href='https://wandb.ai/cs22m019/DL%20Final%20Assignment%201' target=\"_blank\">https://wandb.ai/cs22m019/DL%20Final%20Assignment%201</a>"
            ],
            "text/plain": [
              "<IPython.core.display.HTML object>"
            ]
          },
          "metadata": {},
          "output_type": "display_data"
        },
        {
          "data": {
            "text/html": [
              " View sweep at <a href='https://wandb.ai/cs22m019/DL%20Final%20Assignment%201/sweeps/cuhjfznh' target=\"_blank\">https://wandb.ai/cs22m019/DL%20Final%20Assignment%201/sweeps/cuhjfznh</a>"
            ],
            "text/plain": [
              "<IPython.core.display.HTML object>"
            ]
          },
          "metadata": {},
          "output_type": "display_data"
        },
        {
          "data": {
            "text/html": [
              " View run at <a href='https://wandb.ai/cs22m019/DL%20Final%20Assignment%201/runs/xfpt4uzk' target=\"_blank\">https://wandb.ai/cs22m019/DL%20Final%20Assignment%201/runs/xfpt4uzk</a>"
            ],
            "text/plain": [
              "<IPython.core.display.HTML object>"
            ]
          },
          "metadata": {},
          "output_type": "display_data"
        },
        {
          "name": "stdout",
          "output_type": "stream",
          "text": [
            "epoch:1, train loss:2.2520699021291515, train accuracy:0.18464814814814814, validation loss:2.100650432648524, validation accuracy:0.25583333333333336\n",
            "epoch:2, train loss:1.8137664678643404, train accuracy:0.32672222222222225, validation loss:1.5383847560764334, validation accuracy:0.44416666666666665\n",
            "epoch:3, train loss:1.2879625608880807, train accuracy:0.5443518518518519, validation loss:1.0840124648920395, validation accuracy:0.6196666666666667\n",
            "epoch:4, train loss:0.9795832820943616, train accuracy:0.645, validation loss:0.8915176924250272, validation accuracy:0.6721666666666667\n",
            "epoch:5, train loss:0.8472156248308592, train accuracy:0.6970740740740741, validation loss:0.802304402773518, validation accuracy:0.7011666666666667\n"
          ]
        },
        {
          "data": {
            "text/html": [
              "Waiting for W&B process to finish... <strong style=\"color:green\">(success).</strong>"
            ],
            "text/plain": [
              "<IPython.core.display.HTML object>"
            ]
          },
          "metadata": {},
          "output_type": "display_data"
        },
        {
          "data": {
            "application/vnd.jupyter.widget-view+json": {
              "model_id": "5f02aabe155f440abfafc34fb1115ba2",
              "version_major": 2,
              "version_minor": 0
            },
            "text/plain": [
              "VBox(children=(Label(value='0.001 MB of 0.001 MB uploaded (0.000 MB deduped)\\r'), FloatProgress(value=1.0, max…"
            ]
          },
          "metadata": {},
          "output_type": "display_data"
        },
        {
          "data": {
            "text/html": [
              "<style>\n",
              "    table.wandb td:nth-child(1) { padding: 0 10px; text-align: left ; width: auto;} td:nth-child(2) {text-align: left ; width: 100%}\n",
              "    .wandb-row { display: flex; flex-direction: row; flex-wrap: wrap; justify-content: flex-start; width: 100% }\n",
              "    .wandb-col { display: flex; flex-direction: column; flex-basis: 100%; flex: 1; padding: 10px; }\n",
              "    </style>\n",
              "<div class=\"wandb-row\"><div class=\"wandb-col\"><h3>Run history:</h3><br/><table class=\"wandb\"><tr><td>train accuracy</td><td>▁▃▆▇█</td></tr><tr><td>train loss</td><td>█▆▃▂▁</td></tr><tr><td>validation accuracy</td><td>▁▄▇██</td></tr><tr><td>validation loss</td><td>█▅▃▁▁</td></tr></table><br/></div><div class=\"wandb-col\"><h3>Run summary:</h3><br/><table class=\"wandb\"><tr><td>train accuracy</td><td>0.69707</td></tr><tr><td>train loss</td><td>0.84722</td></tr><tr><td>validation accuracy</td><td>0.70117</td></tr><tr><td>validation loss</td><td>0.8023</td></tr></table><br/></div></div>"
            ],
            "text/plain": [
              "<IPython.core.display.HTML object>"
            ]
          },
          "metadata": {},
          "output_type": "display_data"
        },
        {
          "data": {
            "text/html": [
              " View run <strong style=\"color:#cdcd00\">clean-sweep-26</strong> at: <a href='https://wandb.ai/cs22m019/DL%20Final%20Assignment%201/runs/xfpt4uzk' target=\"_blank\">https://wandb.ai/cs22m019/DL%20Final%20Assignment%201/runs/xfpt4uzk</a><br/>Synced 6 W&B file(s), 0 media file(s), 0 artifact file(s) and 0 other file(s)"
            ],
            "text/plain": [
              "<IPython.core.display.HTML object>"
            ]
          },
          "metadata": {},
          "output_type": "display_data"
        },
        {
          "data": {
            "text/html": [
              "Find logs at: <code>.\\wandb\\run-20230309_092224-xfpt4uzk\\logs</code>"
            ],
            "text/plain": [
              "<IPython.core.display.HTML object>"
            ]
          },
          "metadata": {},
          "output_type": "display_data"
        },
        {
          "name": "stderr",
          "output_type": "stream",
          "text": [
            "\u001b[34m\u001b[1mwandb\u001b[0m: Agent Starting Run: y65l4ndy with config:\n",
            "\u001b[34m\u001b[1mwandb\u001b[0m: \tactivation: ReLU\n",
            "\u001b[34m\u001b[1mwandb\u001b[0m: \tbatch_size: 32\n",
            "\u001b[34m\u001b[1mwandb\u001b[0m: \tepochs: 5\n",
            "\u001b[34m\u001b[1mwandb\u001b[0m: \tlearning_rate: 0.001\n",
            "\u001b[34m\u001b[1mwandb\u001b[0m: \tnumber_of_hidden_layer: 5\n",
            "\u001b[34m\u001b[1mwandb\u001b[0m: \toptimizer: nadam\n",
            "\u001b[34m\u001b[1mwandb\u001b[0m: \tsize_of_hidden_layer: 128\n",
            "\u001b[34m\u001b[1mwandb\u001b[0m: \tweight_decay: 0\n",
            "\u001b[34m\u001b[1mwandb\u001b[0m: \tweight_initialization: Xavier\n"
          ]
        },
        {
          "data": {
            "text/html": [
              "Tracking run with wandb version 0.13.11"
            ],
            "text/plain": [
              "<IPython.core.display.HTML object>"
            ]
          },
          "metadata": {},
          "output_type": "display_data"
        },
        {
          "data": {
            "text/html": [
              "Run data is saved locally in <code>C:\\Users\\DELL\\Desktop\\wandb\\run-20230309_092847-y65l4ndy</code>"
            ],
            "text/plain": [
              "<IPython.core.display.HTML object>"
            ]
          },
          "metadata": {},
          "output_type": "display_data"
        },
        {
          "data": {
            "text/html": [
              "Syncing run <strong><a href='https://wandb.ai/cs22m019/DL%20Final%20Assignment%201/runs/y65l4ndy' target=\"_blank\">earthy-sweep-27</a></strong> to <a href='https://wandb.ai/cs22m019/DL%20Final%20Assignment%201' target=\"_blank\">Weights & Biases</a> (<a href='https://wandb.me/run' target=\"_blank\">docs</a>)<br/>Sweep page: <a href='https://wandb.ai/cs22m019/DL%20Final%20Assignment%201/sweeps/cuhjfznh' target=\"_blank\">https://wandb.ai/cs22m019/DL%20Final%20Assignment%201/sweeps/cuhjfznh</a>"
            ],
            "text/plain": [
              "<IPython.core.display.HTML object>"
            ]
          },
          "metadata": {},
          "output_type": "display_data"
        },
        {
          "data": {
            "text/html": [
              " View project at <a href='https://wandb.ai/cs22m019/DL%20Final%20Assignment%201' target=\"_blank\">https://wandb.ai/cs22m019/DL%20Final%20Assignment%201</a>"
            ],
            "text/plain": [
              "<IPython.core.display.HTML object>"
            ]
          },
          "metadata": {},
          "output_type": "display_data"
        },
        {
          "data": {
            "text/html": [
              " View sweep at <a href='https://wandb.ai/cs22m019/DL%20Final%20Assignment%201/sweeps/cuhjfznh' target=\"_blank\">https://wandb.ai/cs22m019/DL%20Final%20Assignment%201/sweeps/cuhjfznh</a>"
            ],
            "text/plain": [
              "<IPython.core.display.HTML object>"
            ]
          },
          "metadata": {},
          "output_type": "display_data"
        },
        {
          "data": {
            "text/html": [
              " View run at <a href='https://wandb.ai/cs22m019/DL%20Final%20Assignment%201/runs/y65l4ndy' target=\"_blank\">https://wandb.ai/cs22m019/DL%20Final%20Assignment%201/runs/y65l4ndy</a>"
            ],
            "text/plain": [
              "<IPython.core.display.HTML object>"
            ]
          },
          "metadata": {},
          "output_type": "display_data"
        },
        {
          "name": "stdout",
          "output_type": "stream",
          "text": [
            "epoch:1, train loss:0.8363303151345036, train accuracy:0.7486296296296296, validation loss:0.7755799311144369, validation accuracy:0.8158333333333333\n",
            "epoch:2, train loss:0.7838021256264233, train accuracy:0.8153703703703704, validation loss:0.7451645576473998, validation accuracy:0.8335\n",
            "epoch:3, train loss:0.7954106430573266, train accuracy:0.8256851851851852, validation loss:0.8372568451366169, validation accuracy:0.8291666666666667\n",
            "epoch:4, train loss:0.8258448950393849, train accuracy:0.8295925925925925, validation loss:0.7957808299712181, validation accuracy:0.8405\n",
            "epoch:5, train loss:0.8384702431631119, train accuracy:0.8336296296296296, validation loss:0.813979547190952, validation accuracy:0.8455\n"
          ]
        },
        {
          "data": {
            "text/html": [
              "Waiting for W&B process to finish... <strong style=\"color:green\">(success).</strong>"
            ],
            "text/plain": [
              "<IPython.core.display.HTML object>"
            ]
          },
          "metadata": {},
          "output_type": "display_data"
        },
        {
          "data": {
            "application/vnd.jupyter.widget-view+json": {
              "model_id": "7964cca3e6cf4554b4fa168ae50c7a0c",
              "version_major": 2,
              "version_minor": 0
            },
            "text/plain": [
              "VBox(children=(Label(value='0.001 MB of 0.001 MB uploaded (0.000 MB deduped)\\r'), FloatProgress(value=1.0, max…"
            ]
          },
          "metadata": {},
          "output_type": "display_data"
        },
        {
          "data": {
            "text/html": [
              "<style>\n",
              "    table.wandb td:nth-child(1) { padding: 0 10px; text-align: left ; width: auto;} td:nth-child(2) {text-align: left ; width: 100%}\n",
              "    .wandb-row { display: flex; flex-direction: row; flex-wrap: wrap; justify-content: flex-start; width: 100% }\n",
              "    .wandb-col { display: flex; flex-direction: column; flex-basis: 100%; flex: 1; padding: 10px; }\n",
              "    </style>\n",
              "<div class=\"wandb-row\"><div class=\"wandb-col\"><h3>Run history:</h3><br/><table class=\"wandb\"><tr><td>train accuracy</td><td>▁▆▇██</td></tr><tr><td>train loss</td><td>█▁▂▆█</td></tr><tr><td>validation accuracy</td><td>▁▅▄▇█</td></tr><tr><td>validation loss</td><td>▃▁█▅▆</td></tr></table><br/></div><div class=\"wandb-col\"><h3>Run summary:</h3><br/><table class=\"wandb\"><tr><td>train accuracy</td><td>0.83363</td></tr><tr><td>train loss</td><td>0.83847</td></tr><tr><td>validation accuracy</td><td>0.8455</td></tr><tr><td>validation loss</td><td>0.81398</td></tr></table><br/></div></div>"
            ],
            "text/plain": [
              "<IPython.core.display.HTML object>"
            ]
          },
          "metadata": {},
          "output_type": "display_data"
        },
        {
          "data": {
            "text/html": [
              " View run <strong style=\"color:#cdcd00\">earthy-sweep-27</strong> at: <a href='https://wandb.ai/cs22m019/DL%20Final%20Assignment%201/runs/y65l4ndy' target=\"_blank\">https://wandb.ai/cs22m019/DL%20Final%20Assignment%201/runs/y65l4ndy</a><br/>Synced 6 W&B file(s), 0 media file(s), 0 artifact file(s) and 0 other file(s)"
            ],
            "text/plain": [
              "<IPython.core.display.HTML object>"
            ]
          },
          "metadata": {},
          "output_type": "display_data"
        },
        {
          "data": {
            "text/html": [
              "Find logs at: <code>.\\wandb\\run-20230309_092847-y65l4ndy\\logs</code>"
            ],
            "text/plain": [
              "<IPython.core.display.HTML object>"
            ]
          },
          "metadata": {},
          "output_type": "display_data"
        },
        {
          "name": "stderr",
          "output_type": "stream",
          "text": [
            "\u001b[34m\u001b[1mwandb\u001b[0m: Agent Starting Run: hkigture with config:\n",
            "\u001b[34m\u001b[1mwandb\u001b[0m: \tactivation: ReLU\n",
            "\u001b[34m\u001b[1mwandb\u001b[0m: \tbatch_size: 64\n",
            "\u001b[34m\u001b[1mwandb\u001b[0m: \tepochs: 5\n",
            "\u001b[34m\u001b[1mwandb\u001b[0m: \tlearning_rate: 0.001\n",
            "\u001b[34m\u001b[1mwandb\u001b[0m: \tnumber_of_hidden_layer: 4\n",
            "\u001b[34m\u001b[1mwandb\u001b[0m: \toptimizer: rmsprop\n",
            "\u001b[34m\u001b[1mwandb\u001b[0m: \tsize_of_hidden_layer: 128\n",
            "\u001b[34m\u001b[1mwandb\u001b[0m: \tweight_decay: 0\n",
            "\u001b[34m\u001b[1mwandb\u001b[0m: \tweight_initialization: Xavier\n"
          ]
        },
        {
          "data": {
            "text/html": [
              "Tracking run with wandb version 0.13.11"
            ],
            "text/plain": [
              "<IPython.core.display.HTML object>"
            ]
          },
          "metadata": {},
          "output_type": "display_data"
        },
        {
          "data": {
            "text/html": [
              "Run data is saved locally in <code>C:\\Users\\DELL\\Desktop\\wandb\\run-20230309_100506-hkigture</code>"
            ],
            "text/plain": [
              "<IPython.core.display.HTML object>"
            ]
          },
          "metadata": {},
          "output_type": "display_data"
        },
        {
          "data": {
            "text/html": [
              "Syncing run <strong><a href='https://wandb.ai/cs22m019/DL%20Final%20Assignment%201/runs/hkigture' target=\"_blank\">balmy-sweep-28</a></strong> to <a href='https://wandb.ai/cs22m019/DL%20Final%20Assignment%201' target=\"_blank\">Weights & Biases</a> (<a href='https://wandb.me/run' target=\"_blank\">docs</a>)<br/>Sweep page: <a href='https://wandb.ai/cs22m019/DL%20Final%20Assignment%201/sweeps/cuhjfznh' target=\"_blank\">https://wandb.ai/cs22m019/DL%20Final%20Assignment%201/sweeps/cuhjfznh</a>"
            ],
            "text/plain": [
              "<IPython.core.display.HTML object>"
            ]
          },
          "metadata": {},
          "output_type": "display_data"
        },
        {
          "data": {
            "text/html": [
              " View project at <a href='https://wandb.ai/cs22m019/DL%20Final%20Assignment%201' target=\"_blank\">https://wandb.ai/cs22m019/DL%20Final%20Assignment%201</a>"
            ],
            "text/plain": [
              "<IPython.core.display.HTML object>"
            ]
          },
          "metadata": {},
          "output_type": "display_data"
        },
        {
          "data": {
            "text/html": [
              " View sweep at <a href='https://wandb.ai/cs22m019/DL%20Final%20Assignment%201/sweeps/cuhjfznh' target=\"_blank\">https://wandb.ai/cs22m019/DL%20Final%20Assignment%201/sweeps/cuhjfznh</a>"
            ],
            "text/plain": [
              "<IPython.core.display.HTML object>"
            ]
          },
          "metadata": {},
          "output_type": "display_data"
        },
        {
          "data": {
            "text/html": [
              " View run at <a href='https://wandb.ai/cs22m019/DL%20Final%20Assignment%201/runs/hkigture' target=\"_blank\">https://wandb.ai/cs22m019/DL%20Final%20Assignment%201/runs/hkigture</a>"
            ],
            "text/plain": [
              "<IPython.core.display.HTML object>"
            ]
          },
          "metadata": {},
          "output_type": "display_data"
        },
        {
          "name": "stdout",
          "output_type": "stream",
          "text": [
            "epoch:1, train loss:0.9241266376489358, train accuracy:0.6822407407407407, validation loss:0.6816739602251831, validation accuracy:0.7726666666666666\n",
            "epoch:2, train loss:0.7170168019539432, train accuracy:0.7867777777777778, validation loss:0.7370856956291165, validation accuracy:0.803\n",
            "epoch:3, train loss:0.7380906169865765, train accuracy:0.8054814814814815, validation loss:0.6887219771762441, validation accuracy:0.814\n",
            "epoch:4, train loss:0.7476546677520542, train accuracy:0.8129074074074074, validation loss:0.7211586703797919, validation accuracy:0.8148333333333333\n",
            "epoch:5, train loss:0.7760931414153514, train accuracy:0.8183148148148148, validation loss:0.8003562365739215, validation accuracy:0.8043333333333333\n"
          ]
        },
        {
          "data": {
            "text/html": [
              "Waiting for W&B process to finish... <strong style=\"color:green\">(success).</strong>"
            ],
            "text/plain": [
              "<IPython.core.display.HTML object>"
            ]
          },
          "metadata": {},
          "output_type": "display_data"
        },
        {
          "data": {
            "text/html": [
              "<style>\n",
              "    table.wandb td:nth-child(1) { padding: 0 10px; text-align: left ; width: auto;} td:nth-child(2) {text-align: left ; width: 100%}\n",
              "    .wandb-row { display: flex; flex-direction: row; flex-wrap: wrap; justify-content: flex-start; width: 100% }\n",
              "    .wandb-col { display: flex; flex-direction: column; flex-basis: 100%; flex: 1; padding: 10px; }\n",
              "    </style>\n",
              "<div class=\"wandb-row\"><div class=\"wandb-col\"><h3>Run history:</h3><br/><table class=\"wandb\"><tr><td>train accuracy</td><td>▁▆▇██</td></tr><tr><td>train loss</td><td>█▁▂▂▃</td></tr><tr><td>validation accuracy</td><td>▁▆██▆</td></tr><tr><td>validation loss</td><td>▁▄▁▃█</td></tr></table><br/></div><div class=\"wandb-col\"><h3>Run summary:</h3><br/><table class=\"wandb\"><tr><td>train accuracy</td><td>0.81831</td></tr><tr><td>train loss</td><td>0.77609</td></tr><tr><td>validation accuracy</td><td>0.80433</td></tr><tr><td>validation loss</td><td>0.80036</td></tr></table><br/></div></div>"
            ],
            "text/plain": [
              "<IPython.core.display.HTML object>"
            ]
          },
          "metadata": {},
          "output_type": "display_data"
        },
        {
          "data": {
            "text/html": [
              " View run <strong style=\"color:#cdcd00\">balmy-sweep-28</strong> at: <a href='https://wandb.ai/cs22m019/DL%20Final%20Assignment%201/runs/hkigture' target=\"_blank\">https://wandb.ai/cs22m019/DL%20Final%20Assignment%201/runs/hkigture</a><br/>Synced 6 W&B file(s), 0 media file(s), 0 artifact file(s) and 0 other file(s)"
            ],
            "text/plain": [
              "<IPython.core.display.HTML object>"
            ]
          },
          "metadata": {},
          "output_type": "display_data"
        },
        {
          "data": {
            "text/html": [
              "Find logs at: <code>.\\wandb\\run-20230309_100506-hkigture\\logs</code>"
            ],
            "text/plain": [
              "<IPython.core.display.HTML object>"
            ]
          },
          "metadata": {},
          "output_type": "display_data"
        },
        {
          "name": "stderr",
          "output_type": "stream",
          "text": [
            "\u001b[34m\u001b[1mwandb\u001b[0m: Agent Starting Run: wm54qxjz with config:\n",
            "\u001b[34m\u001b[1mwandb\u001b[0m: \tactivation: ReLU\n",
            "\u001b[34m\u001b[1mwandb\u001b[0m: \tbatch_size: 32\n",
            "\u001b[34m\u001b[1mwandb\u001b[0m: \tepochs: 5\n",
            "\u001b[34m\u001b[1mwandb\u001b[0m: \tlearning_rate: 0.001\n",
            "\u001b[34m\u001b[1mwandb\u001b[0m: \tnumber_of_hidden_layer: 3\n",
            "\u001b[34m\u001b[1mwandb\u001b[0m: \toptimizer: adam\n",
            "\u001b[34m\u001b[1mwandb\u001b[0m: \tsize_of_hidden_layer: 128\n",
            "\u001b[34m\u001b[1mwandb\u001b[0m: \tweight_decay: 0\n",
            "\u001b[34m\u001b[1mwandb\u001b[0m: \tweight_initialization: Xavier\n"
          ]
        },
        {
          "data": {
            "text/html": [
              "Tracking run with wandb version 0.13.11"
            ],
            "text/plain": [
              "<IPython.core.display.HTML object>"
            ]
          },
          "metadata": {},
          "output_type": "display_data"
        },
        {
          "data": {
            "text/html": [
              "Run data is saved locally in <code>C:\\Users\\DELL\\Desktop\\wandb\\run-20230309_102820-wm54qxjz</code>"
            ],
            "text/plain": [
              "<IPython.core.display.HTML object>"
            ]
          },
          "metadata": {},
          "output_type": "display_data"
        },
        {
          "data": {
            "text/html": [
              "Syncing run <strong><a href='https://wandb.ai/cs22m019/DL%20Final%20Assignment%201/runs/wm54qxjz' target=\"_blank\">atomic-sweep-29</a></strong> to <a href='https://wandb.ai/cs22m019/DL%20Final%20Assignment%201' target=\"_blank\">Weights & Biases</a> (<a href='https://wandb.me/run' target=\"_blank\">docs</a>)<br/>Sweep page: <a href='https://wandb.ai/cs22m019/DL%20Final%20Assignment%201/sweeps/cuhjfznh' target=\"_blank\">https://wandb.ai/cs22m019/DL%20Final%20Assignment%201/sweeps/cuhjfznh</a>"
            ],
            "text/plain": [
              "<IPython.core.display.HTML object>"
            ]
          },
          "metadata": {},
          "output_type": "display_data"
        },
        {
          "data": {
            "text/html": [
              " View project at <a href='https://wandb.ai/cs22m019/DL%20Final%20Assignment%201' target=\"_blank\">https://wandb.ai/cs22m019/DL%20Final%20Assignment%201</a>"
            ],
            "text/plain": [
              "<IPython.core.display.HTML object>"
            ]
          },
          "metadata": {},
          "output_type": "display_data"
        },
        {
          "data": {
            "text/html": [
              " View sweep at <a href='https://wandb.ai/cs22m019/DL%20Final%20Assignment%201/sweeps/cuhjfznh' target=\"_blank\">https://wandb.ai/cs22m019/DL%20Final%20Assignment%201/sweeps/cuhjfznh</a>"
            ],
            "text/plain": [
              "<IPython.core.display.HTML object>"
            ]
          },
          "metadata": {},
          "output_type": "display_data"
        },
        {
          "data": {
            "text/html": [
              " View run at <a href='https://wandb.ai/cs22m019/DL%20Final%20Assignment%201/runs/wm54qxjz' target=\"_blank\">https://wandb.ai/cs22m019/DL%20Final%20Assignment%201/runs/wm54qxjz</a>"
            ],
            "text/plain": [
              "<IPython.core.display.HTML object>"
            ]
          },
          "metadata": {},
          "output_type": "display_data"
        },
        {
          "name": "stdout",
          "output_type": "stream",
          "text": [
            "epoch:1, train loss:0.7725598945758048, train accuracy:0.7600925925925925, validation loss:0.7262629142581101, validation accuracy:0.8078333333333333\n",
            "epoch:2, train loss:0.7308539760007282, train accuracy:0.8167777777777778, validation loss:0.6849817120503108, validation accuracy:0.8308333333333333\n",
            "epoch:3, train loss:0.773353845305697, train accuracy:0.8247222222222222, validation loss:0.6954274440849886, validation accuracy:0.8316666666666667\n"
          ]
        },
        {
          "name": "stderr",
          "output_type": "stream",
          "text": [
            "\u001b[34m\u001b[1mwandb\u001b[0m: Network error (ConnectionError), entering retry loop.\n"
          ]
        },
        {
          "name": "stdout",
          "output_type": "stream",
          "text": [
            "epoch:4, train loss:0.7957772098407764, train accuracy:0.8317777777777777, validation loss:0.7486404841704205, validation accuracy:0.839\n",
            "epoch:5, train loss:0.811012214421897, train accuracy:0.8360740740740741, validation loss:0.7903786097931428, validation accuracy:0.843\n"
          ]
        },
        {
          "data": {
            "text/html": [
              "Waiting for W&B process to finish... <strong style=\"color:green\">(success).</strong>"
            ],
            "text/plain": [
              "<IPython.core.display.HTML object>"
            ]
          },
          "metadata": {},
          "output_type": "display_data"
        },
        {
          "data": {
            "text/html": [
              "<style>\n",
              "    table.wandb td:nth-child(1) { padding: 0 10px; text-align: left ; width: auto;} td:nth-child(2) {text-align: left ; width: 100%}\n",
              "    .wandb-row { display: flex; flex-direction: row; flex-wrap: wrap; justify-content: flex-start; width: 100% }\n",
              "    .wandb-col { display: flex; flex-direction: column; flex-basis: 100%; flex: 1; padding: 10px; }\n",
              "    </style>\n",
              "<div class=\"wandb-row\"><div class=\"wandb-col\"><h3>Run history:</h3><br/><table class=\"wandb\"><tr><td>train accuracy</td><td>▁▆▇██</td></tr><tr><td>train loss</td><td>▅▁▅▇█</td></tr><tr><td>validation accuracy</td><td>▁▆▆▇█</td></tr><tr><td>validation loss</td><td>▄▁▂▅█</td></tr></table><br/></div><div class=\"wandb-col\"><h3>Run summary:</h3><br/><table class=\"wandb\"><tr><td>train accuracy</td><td>0.83607</td></tr><tr><td>train loss</td><td>0.81101</td></tr><tr><td>validation accuracy</td><td>0.843</td></tr><tr><td>validation loss</td><td>0.79038</td></tr></table><br/></div></div>"
            ],
            "text/plain": [
              "<IPython.core.display.HTML object>"
            ]
          },
          "metadata": {},
          "output_type": "display_data"
        },
        {
          "data": {
            "text/html": [
              " View run <strong style=\"color:#cdcd00\">atomic-sweep-29</strong> at: <a href='https://wandb.ai/cs22m019/DL%20Final%20Assignment%201/runs/wm54qxjz' target=\"_blank\">https://wandb.ai/cs22m019/DL%20Final%20Assignment%201/runs/wm54qxjz</a><br/>Synced 6 W&B file(s), 0 media file(s), 0 artifact file(s) and 0 other file(s)"
            ],
            "text/plain": [
              "<IPython.core.display.HTML object>"
            ]
          },
          "metadata": {},
          "output_type": "display_data"
        },
        {
          "data": {
            "text/html": [
              "Find logs at: <code>.\\wandb\\run-20230309_102820-wm54qxjz\\logs</code>"
            ],
            "text/plain": [
              "<IPython.core.display.HTML object>"
            ]
          },
          "metadata": {},
          "output_type": "display_data"
        },
        {
          "name": "stderr",
          "output_type": "stream",
          "text": [
            "\u001b[34m\u001b[1mwandb\u001b[0m: Agent Starting Run: ao320wjv with config:\n",
            "\u001b[34m\u001b[1mwandb\u001b[0m: \tactivation: ReLU\n",
            "\u001b[34m\u001b[1mwandb\u001b[0m: \tbatch_size: 64\n",
            "\u001b[34m\u001b[1mwandb\u001b[0m: \tepochs: 5\n",
            "\u001b[34m\u001b[1mwandb\u001b[0m: \tlearning_rate: 0.001\n",
            "\u001b[34m\u001b[1mwandb\u001b[0m: \tnumber_of_hidden_layer: 5\n",
            "\u001b[34m\u001b[1mwandb\u001b[0m: \toptimizer: adam\n",
            "\u001b[34m\u001b[1mwandb\u001b[0m: \tsize_of_hidden_layer: 128\n",
            "\u001b[34m\u001b[1mwandb\u001b[0m: \tweight_decay: 0.0005\n",
            "\u001b[34m\u001b[1mwandb\u001b[0m: \tweight_initialization: Xavier\n"
          ]
        },
        {
          "data": {
            "text/html": [
              "Tracking run with wandb version 0.13.11"
            ],
            "text/plain": [
              "<IPython.core.display.HTML object>"
            ]
          },
          "metadata": {},
          "output_type": "display_data"
        },
        {
          "data": {
            "text/html": [
              "Run data is saved locally in <code>C:\\Users\\DELL\\Desktop\\wandb\\run-20230309_105744-ao320wjv</code>"
            ],
            "text/plain": [
              "<IPython.core.display.HTML object>"
            ]
          },
          "metadata": {},
          "output_type": "display_data"
        },
        {
          "data": {
            "text/html": [
              "Syncing run <strong><a href='https://wandb.ai/cs22m019/DL%20Final%20Assignment%201/runs/ao320wjv' target=\"_blank\">zesty-sweep-30</a></strong> to <a href='https://wandb.ai/cs22m019/DL%20Final%20Assignment%201' target=\"_blank\">Weights & Biases</a> (<a href='https://wandb.me/run' target=\"_blank\">docs</a>)<br/>Sweep page: <a href='https://wandb.ai/cs22m019/DL%20Final%20Assignment%201/sweeps/cuhjfznh' target=\"_blank\">https://wandb.ai/cs22m019/DL%20Final%20Assignment%201/sweeps/cuhjfznh</a>"
            ],
            "text/plain": [
              "<IPython.core.display.HTML object>"
            ]
          },
          "metadata": {},
          "output_type": "display_data"
        },
        {
          "data": {
            "text/html": [
              " View project at <a href='https://wandb.ai/cs22m019/DL%20Final%20Assignment%201' target=\"_blank\">https://wandb.ai/cs22m019/DL%20Final%20Assignment%201</a>"
            ],
            "text/plain": [
              "<IPython.core.display.HTML object>"
            ]
          },
          "metadata": {},
          "output_type": "display_data"
        },
        {
          "data": {
            "text/html": [
              " View sweep at <a href='https://wandb.ai/cs22m019/DL%20Final%20Assignment%201/sweeps/cuhjfznh' target=\"_blank\">https://wandb.ai/cs22m019/DL%20Final%20Assignment%201/sweeps/cuhjfznh</a>"
            ],
            "text/plain": [
              "<IPython.core.display.HTML object>"
            ]
          },
          "metadata": {},
          "output_type": "display_data"
        },
        {
          "data": {
            "text/html": [
              " View run at <a href='https://wandb.ai/cs22m019/DL%20Final%20Assignment%201/runs/ao320wjv' target=\"_blank\">https://wandb.ai/cs22m019/DL%20Final%20Assignment%201/runs/ao320wjv</a>"
            ],
            "text/plain": [
              "<IPython.core.display.HTML object>"
            ]
          },
          "metadata": {},
          "output_type": "display_data"
        },
        {
          "name": "stdout",
          "output_type": "stream",
          "text": [
            "epoch:1, train loss:0.8349614330892571, train accuracy:0.727462962962963, validation loss:0.6918913438865528, validation accuracy:0.8021666666666667\n",
            "epoch:2, train loss:0.7166338128285495, train accuracy:0.8099074074074074, validation loss:0.796011373200869, validation accuracy:0.8128333333333333\n",
            "epoch:3, train loss:0.7233171133983421, train accuracy:0.8204814814814815, validation loss:0.7657387600242418, validation accuracy:0.8223333333333334\n",
            "epoch:4, train loss:0.7272475621217189, train accuracy:0.8277777777777777, validation loss:0.6696451433784657, validation accuracy:0.838\n",
            "epoch:5, train loss:0.7348373403207223, train accuracy:0.8316666666666667, validation loss:0.79826757861975, validation accuracy:0.8296666666666667\n"
          ]
        },
        {
          "data": {
            "text/html": [
              "Waiting for W&B process to finish... <strong style=\"color:green\">(success).</strong>"
            ],
            "text/plain": [
              "<IPython.core.display.HTML object>"
            ]
          },
          "metadata": {},
          "output_type": "display_data"
        },
        {
          "data": {
            "application/vnd.jupyter.widget-view+json": {
              "model_id": "2a227b75a5f5404a91a11a3e239871e0",
              "version_major": 2,
              "version_minor": 0
            },
            "text/plain": [
              "VBox(children=(Label(value='0.001 MB of 0.018 MB uploaded (0.000 MB deduped)\\r'), FloatProgress(value=0.061833…"
            ]
          },
          "metadata": {},
          "output_type": "display_data"
        },
        {
          "data": {
            "text/html": [
              "<style>\n",
              "    table.wandb td:nth-child(1) { padding: 0 10px; text-align: left ; width: auto;} td:nth-child(2) {text-align: left ; width: 100%}\n",
              "    .wandb-row { display: flex; flex-direction: row; flex-wrap: wrap; justify-content: flex-start; width: 100% }\n",
              "    .wandb-col { display: flex; flex-direction: column; flex-basis: 100%; flex: 1; padding: 10px; }\n",
              "    </style>\n",
              "<div class=\"wandb-row\"><div class=\"wandb-col\"><h3>Run history:</h3><br/><table class=\"wandb\"><tr><td>train accuracy</td><td>▁▇▇██</td></tr><tr><td>train loss</td><td>█▁▁▂▂</td></tr><tr><td>validation accuracy</td><td>▁▃▅█▆</td></tr><tr><td>validation loss</td><td>▂█▆▁█</td></tr></table><br/></div><div class=\"wandb-col\"><h3>Run summary:</h3><br/><table class=\"wandb\"><tr><td>train accuracy</td><td>0.83167</td></tr><tr><td>train loss</td><td>0.73484</td></tr><tr><td>validation accuracy</td><td>0.82967</td></tr><tr><td>validation loss</td><td>0.79827</td></tr></table><br/></div></div>"
            ],
            "text/plain": [
              "<IPython.core.display.HTML object>"
            ]
          },
          "metadata": {},
          "output_type": "display_data"
        },
        {
          "data": {
            "text/html": [
              " View run <strong style=\"color:#cdcd00\">zesty-sweep-30</strong> at: <a href='https://wandb.ai/cs22m019/DL%20Final%20Assignment%201/runs/ao320wjv' target=\"_blank\">https://wandb.ai/cs22m019/DL%20Final%20Assignment%201/runs/ao320wjv</a><br/>Synced 6 W&B file(s), 0 media file(s), 0 artifact file(s) and 0 other file(s)"
            ],
            "text/plain": [
              "<IPython.core.display.HTML object>"
            ]
          },
          "metadata": {},
          "output_type": "display_data"
        },
        {
          "data": {
            "text/html": [
              "Find logs at: <code>.\\wandb\\run-20230309_105744-ao320wjv\\logs</code>"
            ],
            "text/plain": [
              "<IPython.core.display.HTML object>"
            ]
          },
          "metadata": {},
          "output_type": "display_data"
        },
        {
          "name": "stderr",
          "output_type": "stream",
          "text": [
            "\u001b[34m\u001b[1mwandb\u001b[0m: Agent Starting Run: id8vl73p with config:\n",
            "\u001b[34m\u001b[1mwandb\u001b[0m: \tactivation: ReLU\n",
            "\u001b[34m\u001b[1mwandb\u001b[0m: \tbatch_size: 64\n",
            "\u001b[34m\u001b[1mwandb\u001b[0m: \tepochs: 5\n",
            "\u001b[34m\u001b[1mwandb\u001b[0m: \tlearning_rate: 0.001\n",
            "\u001b[34m\u001b[1mwandb\u001b[0m: \tnumber_of_hidden_layer: 3\n",
            "\u001b[34m\u001b[1mwandb\u001b[0m: \toptimizer: adam\n",
            "\u001b[34m\u001b[1mwandb\u001b[0m: \tsize_of_hidden_layer: 128\n",
            "\u001b[34m\u001b[1mwandb\u001b[0m: \tweight_decay: 0\n",
            "\u001b[34m\u001b[1mwandb\u001b[0m: \tweight_initialization: Xavier\n"
          ]
        },
        {
          "data": {
            "text/html": [
              "Tracking run with wandb version 0.13.11"
            ],
            "text/plain": [
              "<IPython.core.display.HTML object>"
            ]
          },
          "metadata": {},
          "output_type": "display_data"
        },
        {
          "data": {
            "text/html": [
              "Run data is saved locally in <code>C:\\Users\\DELL\\Desktop\\wandb\\run-20230309_113635-id8vl73p</code>"
            ],
            "text/plain": [
              "<IPython.core.display.HTML object>"
            ]
          },
          "metadata": {},
          "output_type": "display_data"
        },
        {
          "data": {
            "text/html": [
              "Syncing run <strong><a href='https://wandb.ai/cs22m019/DL%20Final%20Assignment%201/runs/id8vl73p' target=\"_blank\">brisk-sweep-31</a></strong> to <a href='https://wandb.ai/cs22m019/DL%20Final%20Assignment%201' target=\"_blank\">Weights & Biases</a> (<a href='https://wandb.me/run' target=\"_blank\">docs</a>)<br/>Sweep page: <a href='https://wandb.ai/cs22m019/DL%20Final%20Assignment%201/sweeps/cuhjfznh' target=\"_blank\">https://wandb.ai/cs22m019/DL%20Final%20Assignment%201/sweeps/cuhjfznh</a>"
            ],
            "text/plain": [
              "<IPython.core.display.HTML object>"
            ]
          },
          "metadata": {},
          "output_type": "display_data"
        },
        {
          "data": {
            "text/html": [
              " View project at <a href='https://wandb.ai/cs22m019/DL%20Final%20Assignment%201' target=\"_blank\">https://wandb.ai/cs22m019/DL%20Final%20Assignment%201</a>"
            ],
            "text/plain": [
              "<IPython.core.display.HTML object>"
            ]
          },
          "metadata": {},
          "output_type": "display_data"
        },
        {
          "data": {
            "text/html": [
              " View sweep at <a href='https://wandb.ai/cs22m019/DL%20Final%20Assignment%201/sweeps/cuhjfznh' target=\"_blank\">https://wandb.ai/cs22m019/DL%20Final%20Assignment%201/sweeps/cuhjfznh</a>"
            ],
            "text/plain": [
              "<IPython.core.display.HTML object>"
            ]
          },
          "metadata": {},
          "output_type": "display_data"
        },
        {
          "data": {
            "text/html": [
              " View run at <a href='https://wandb.ai/cs22m019/DL%20Final%20Assignment%201/runs/id8vl73p' target=\"_blank\">https://wandb.ai/cs22m019/DL%20Final%20Assignment%201/runs/id8vl73p</a>"
            ],
            "text/plain": [
              "<IPython.core.display.HTML object>"
            ]
          },
          "metadata": {},
          "output_type": "display_data"
        },
        {
          "name": "stdout",
          "output_type": "stream",
          "text": [
            "epoch:1, train loss:0.7888971791794431, train accuracy:0.7423888888888889, validation loss:0.6465107708984326, validation accuracy:0.7935\n",
            "epoch:2, train loss:0.6482745556458877, train accuracy:0.8100740740740741, validation loss:0.6193487251911246, validation accuracy:0.8268333333333333\n",
            "epoch:3, train loss:0.6613289556624964, train accuracy:0.8220555555555555, validation loss:0.6533638783878032, validation accuracy:0.8205\n",
            "epoch:4, train loss:0.6842332619880621, train accuracy:0.828925925925926, validation loss:0.6632757037943675, validation accuracy:0.8368333333333333\n",
            "epoch:5, train loss:0.6931145367614523, train accuracy:0.8327037037037037, validation loss:0.811554688482032, validation accuracy:0.819\n"
          ]
        },
        {
          "data": {
            "text/html": [
              "Waiting for W&B process to finish... <strong style=\"color:green\">(success).</strong>"
            ],
            "text/plain": [
              "<IPython.core.display.HTML object>"
            ]
          },
          "metadata": {},
          "output_type": "display_data"
        },
        {
          "data": {
            "text/html": [
              "<style>\n",
              "    table.wandb td:nth-child(1) { padding: 0 10px; text-align: left ; width: auto;} td:nth-child(2) {text-align: left ; width: 100%}\n",
              "    .wandb-row { display: flex; flex-direction: row; flex-wrap: wrap; justify-content: flex-start; width: 100% }\n",
              "    .wandb-col { display: flex; flex-direction: column; flex-basis: 100%; flex: 1; padding: 10px; }\n",
              "    </style>\n",
              "<div class=\"wandb-row\"><div class=\"wandb-col\"><h3>Run history:</h3><br/><table class=\"wandb\"><tr><td>train accuracy</td><td>▁▆▇██</td></tr><tr><td>train loss</td><td>█▁▂▃▃</td></tr><tr><td>validation accuracy</td><td>▁▆▅█▅</td></tr><tr><td>validation loss</td><td>▂▁▂▃█</td></tr></table><br/></div><div class=\"wandb-col\"><h3>Run summary:</h3><br/><table class=\"wandb\"><tr><td>train accuracy</td><td>0.8327</td></tr><tr><td>train loss</td><td>0.69311</td></tr><tr><td>validation accuracy</td><td>0.819</td></tr><tr><td>validation loss</td><td>0.81155</td></tr></table><br/></div></div>"
            ],
            "text/plain": [
              "<IPython.core.display.HTML object>"
            ]
          },
          "metadata": {},
          "output_type": "display_data"
        },
        {
          "data": {
            "text/html": [
              " View run <strong style=\"color:#cdcd00\">brisk-sweep-31</strong> at: <a href='https://wandb.ai/cs22m019/DL%20Final%20Assignment%201/runs/id8vl73p' target=\"_blank\">https://wandb.ai/cs22m019/DL%20Final%20Assignment%201/runs/id8vl73p</a><br/>Synced 6 W&B file(s), 0 media file(s), 0 artifact file(s) and 0 other file(s)"
            ],
            "text/plain": [
              "<IPython.core.display.HTML object>"
            ]
          },
          "metadata": {},
          "output_type": "display_data"
        },
        {
          "data": {
            "text/html": [
              "Find logs at: <code>.\\wandb\\run-20230309_113635-id8vl73p\\logs</code>"
            ],
            "text/plain": [
              "<IPython.core.display.HTML object>"
            ]
          },
          "metadata": {},
          "output_type": "display_data"
        },
        {
          "name": "stderr",
          "output_type": "stream",
          "text": [
            "\u001b[34m\u001b[1mwandb\u001b[0m: Sweep Agent: Waiting for job.\n",
            "\u001b[34m\u001b[1mwandb\u001b[0m: Job received.\n",
            "\u001b[34m\u001b[1mwandb\u001b[0m: Agent Starting Run: s8t85rt6 with config:\n",
            "\u001b[34m\u001b[1mwandb\u001b[0m: \tactivation: ReLU\n",
            "\u001b[34m\u001b[1mwandb\u001b[0m: \tbatch_size: 64\n",
            "\u001b[34m\u001b[1mwandb\u001b[0m: \tepochs: 5\n",
            "\u001b[34m\u001b[1mwandb\u001b[0m: \tlearning_rate: 0.001\n",
            "\u001b[34m\u001b[1mwandb\u001b[0m: \tnumber_of_hidden_layer: 4\n",
            "\u001b[34m\u001b[1mwandb\u001b[0m: \toptimizer: nadam\n",
            "\u001b[34m\u001b[1mwandb\u001b[0m: \tsize_of_hidden_layer: 128\n",
            "\u001b[34m\u001b[1mwandb\u001b[0m: \tweight_decay: 0\n",
            "\u001b[34m\u001b[1mwandb\u001b[0m: \tweight_initialization: Xavier\n"
          ]
        },
        {
          "data": {
            "text/html": [
              "Tracking run with wandb version 0.13.11"
            ],
            "text/plain": [
              "<IPython.core.display.HTML object>"
            ]
          },
          "metadata": {},
          "output_type": "display_data"
        },
        {
          "data": {
            "text/html": [
              "Run data is saved locally in <code>C:\\Users\\DELL\\Desktop\\wandb\\run-20230309_120310-s8t85rt6</code>"
            ],
            "text/plain": [
              "<IPython.core.display.HTML object>"
            ]
          },
          "metadata": {},
          "output_type": "display_data"
        },
        {
          "data": {
            "text/html": [
              "Syncing run <strong><a href='https://wandb.ai/cs22m019/DL%20Final%20Assignment%201/runs/s8t85rt6' target=\"_blank\">treasured-sweep-32</a></strong> to <a href='https://wandb.ai/cs22m019/DL%20Final%20Assignment%201' target=\"_blank\">Weights & Biases</a> (<a href='https://wandb.me/run' target=\"_blank\">docs</a>)<br/>Sweep page: <a href='https://wandb.ai/cs22m019/DL%20Final%20Assignment%201/sweeps/cuhjfznh' target=\"_blank\">https://wandb.ai/cs22m019/DL%20Final%20Assignment%201/sweeps/cuhjfznh</a>"
            ],
            "text/plain": [
              "<IPython.core.display.HTML object>"
            ]
          },
          "metadata": {},
          "output_type": "display_data"
        },
        {
          "data": {
            "text/html": [
              " View project at <a href='https://wandb.ai/cs22m019/DL%20Final%20Assignment%201' target=\"_blank\">https://wandb.ai/cs22m019/DL%20Final%20Assignment%201</a>"
            ],
            "text/plain": [
              "<IPython.core.display.HTML object>"
            ]
          },
          "metadata": {},
          "output_type": "display_data"
        },
        {
          "data": {
            "text/html": [
              " View sweep at <a href='https://wandb.ai/cs22m019/DL%20Final%20Assignment%201/sweeps/cuhjfznh' target=\"_blank\">https://wandb.ai/cs22m019/DL%20Final%20Assignment%201/sweeps/cuhjfznh</a>"
            ],
            "text/plain": [
              "<IPython.core.display.HTML object>"
            ]
          },
          "metadata": {},
          "output_type": "display_data"
        },
        {
          "data": {
            "text/html": [
              " View run at <a href='https://wandb.ai/cs22m019/DL%20Final%20Assignment%201/runs/s8t85rt6' target=\"_blank\">https://wandb.ai/cs22m019/DL%20Final%20Assignment%201/runs/s8t85rt6</a>"
            ],
            "text/plain": [
              "<IPython.core.display.HTML object>"
            ]
          },
          "metadata": {},
          "output_type": "display_data"
        },
        {
          "name": "stdout",
          "output_type": "stream",
          "text": [
            "epoch:1, train loss:0.8331989486337239, train accuracy:0.7243888888888889, validation loss:0.6971393999689742, validation accuracy:0.7913333333333333\n",
            "epoch:2, train loss:0.6929073491233678, train accuracy:0.8048333333333333, validation loss:0.6816019327396287, validation accuracy:0.8166666666666667\n",
            "epoch:3, train loss:0.7140091796284428, train accuracy:0.8174814814814815, validation loss:0.7846050973343507, validation accuracy:0.8191666666666667\n",
            "epoch:4, train loss:0.7371687746536036, train accuracy:0.8226481481481481, validation loss:0.7120551730281635, validation accuracy:0.833\n",
            "epoch:5, train loss:0.7438114749760577, train accuracy:0.8290555555555555, validation loss:0.7635235971109403, validation accuracy:0.8246666666666667\n"
          ]
        },
        {
          "data": {
            "text/html": [
              "Waiting for W&B process to finish... <strong style=\"color:green\">(success).</strong>"
            ],
            "text/plain": [
              "<IPython.core.display.HTML object>"
            ]
          },
          "metadata": {},
          "output_type": "display_data"
        },
        {
          "data": {
            "application/vnd.jupyter.widget-view+json": {
              "model_id": "98f1fb6e098447d6ab3ebb60a8985a48",
              "version_major": 2,
              "version_minor": 0
            },
            "text/plain": [
              "VBox(children=(Label(value='0.001 MB of 0.001 MB uploaded (0.000 MB deduped)\\r'), FloatProgress(value=1.0, max…"
            ]
          },
          "metadata": {},
          "output_type": "display_data"
        },
        {
          "data": {
            "text/html": [
              "<style>\n",
              "    table.wandb td:nth-child(1) { padding: 0 10px; text-align: left ; width: auto;} td:nth-child(2) {text-align: left ; width: 100%}\n",
              "    .wandb-row { display: flex; flex-direction: row; flex-wrap: wrap; justify-content: flex-start; width: 100% }\n",
              "    .wandb-col { display: flex; flex-direction: column; flex-basis: 100%; flex: 1; padding: 10px; }\n",
              "    </style>\n",
              "<div class=\"wandb-row\"><div class=\"wandb-col\"><h3>Run history:</h3><br/><table class=\"wandb\"><tr><td>train accuracy</td><td>▁▆▇██</td></tr><tr><td>train loss</td><td>█▁▂▃▄</td></tr><tr><td>validation accuracy</td><td>▁▅▆█▇</td></tr><tr><td>validation loss</td><td>▂▁█▃▇</td></tr></table><br/></div><div class=\"wandb-col\"><h3>Run summary:</h3><br/><table class=\"wandb\"><tr><td>train accuracy</td><td>0.82906</td></tr><tr><td>train loss</td><td>0.74381</td></tr><tr><td>validation accuracy</td><td>0.82467</td></tr><tr><td>validation loss</td><td>0.76352</td></tr></table><br/></div></div>"
            ],
            "text/plain": [
              "<IPython.core.display.HTML object>"
            ]
          },
          "metadata": {},
          "output_type": "display_data"
        },
        {
          "data": {
            "text/html": [
              " View run <strong style=\"color:#cdcd00\">treasured-sweep-32</strong> at: <a href='https://wandb.ai/cs22m019/DL%20Final%20Assignment%201/runs/s8t85rt6' target=\"_blank\">https://wandb.ai/cs22m019/DL%20Final%20Assignment%201/runs/s8t85rt6</a><br/>Synced 6 W&B file(s), 0 media file(s), 0 artifact file(s) and 0 other file(s)"
            ],
            "text/plain": [
              "<IPython.core.display.HTML object>"
            ]
          },
          "metadata": {},
          "output_type": "display_data"
        },
        {
          "data": {
            "text/html": [
              "Find logs at: <code>.\\wandb\\run-20230309_120310-s8t85rt6\\logs</code>"
            ],
            "text/plain": [
              "<IPython.core.display.HTML object>"
            ]
          },
          "metadata": {},
          "output_type": "display_data"
        },
        {
          "name": "stderr",
          "output_type": "stream",
          "text": [
            "\u001b[34m\u001b[1mwandb\u001b[0m: Sweep Agent: Waiting for job.\n",
            "502 response executing GraphQL.\n",
            "\n",
            "<html><head>\n",
            "<meta http-equiv=\"content-type\" content=\"text/html;charset=utf-8\">\n",
            "<title>502 Server Error</title>\n",
            "</head>\n",
            "<body text=#000000 bgcolor=#ffffff>\n",
            "<h1>Error: Server Error</h1>\n",
            "<h2>The server encountered a temporary error and could not complete your request.<p>Please try again in 30 seconds.</h2>\n",
            "<h2></h2>\n",
            "</body></html>\n",
            "\n",
            "\u001b[34m\u001b[1mwandb\u001b[0m: Job received.\n",
            "\u001b[34m\u001b[1mwandb\u001b[0m: Agent Starting Run: 47a3jrnc with config:\n",
            "\u001b[34m\u001b[1mwandb\u001b[0m: \tactivation: ReLU\n",
            "\u001b[34m\u001b[1mwandb\u001b[0m: \tbatch_size: 16\n",
            "\u001b[34m\u001b[1mwandb\u001b[0m: \tepochs: 5\n",
            "\u001b[34m\u001b[1mwandb\u001b[0m: \tlearning_rate: 0.001\n",
            "\u001b[34m\u001b[1mwandb\u001b[0m: \tnumber_of_hidden_layer: 5\n",
            "\u001b[34m\u001b[1mwandb\u001b[0m: \toptimizer: rmsprop\n",
            "\u001b[34m\u001b[1mwandb\u001b[0m: \tsize_of_hidden_layer: 128\n",
            "\u001b[34m\u001b[1mwandb\u001b[0m: \tweight_decay: 0\n",
            "\u001b[34m\u001b[1mwandb\u001b[0m: \tweight_initialization: Xavier\n"
          ]
        },
        {
          "data": {
            "text/html": [
              "Tracking run with wandb version 0.13.11"
            ],
            "text/plain": [
              "<IPython.core.display.HTML object>"
            ]
          },
          "metadata": {},
          "output_type": "display_data"
        },
        {
          "data": {
            "text/html": [
              "Run data is saved locally in <code>C:\\Users\\DELL\\Desktop\\wandb\\run-20230309_123247-47a3jrnc</code>"
            ],
            "text/plain": [
              "<IPython.core.display.HTML object>"
            ]
          },
          "metadata": {},
          "output_type": "display_data"
        },
        {
          "data": {
            "text/html": [
              "Syncing run <strong><a href='https://wandb.ai/cs22m019/DL%20Final%20Assignment%201/runs/47a3jrnc' target=\"_blank\">magic-sweep-33</a></strong> to <a href='https://wandb.ai/cs22m019/DL%20Final%20Assignment%201' target=\"_blank\">Weights & Biases</a> (<a href='https://wandb.me/run' target=\"_blank\">docs</a>)<br/>Sweep page: <a href='https://wandb.ai/cs22m019/DL%20Final%20Assignment%201/sweeps/cuhjfznh' target=\"_blank\">https://wandb.ai/cs22m019/DL%20Final%20Assignment%201/sweeps/cuhjfznh</a>"
            ],
            "text/plain": [
              "<IPython.core.display.HTML object>"
            ]
          },
          "metadata": {},
          "output_type": "display_data"
        },
        {
          "data": {
            "text/html": [
              " View project at <a href='https://wandb.ai/cs22m019/DL%20Final%20Assignment%201' target=\"_blank\">https://wandb.ai/cs22m019/DL%20Final%20Assignment%201</a>"
            ],
            "text/plain": [
              "<IPython.core.display.HTML object>"
            ]
          },
          "metadata": {},
          "output_type": "display_data"
        },
        {
          "data": {
            "text/html": [
              " View sweep at <a href='https://wandb.ai/cs22m019/DL%20Final%20Assignment%201/sweeps/cuhjfznh' target=\"_blank\">https://wandb.ai/cs22m019/DL%20Final%20Assignment%201/sweeps/cuhjfznh</a>"
            ],
            "text/plain": [
              "<IPython.core.display.HTML object>"
            ]
          },
          "metadata": {},
          "output_type": "display_data"
        },
        {
          "data": {
            "text/html": [
              " View run at <a href='https://wandb.ai/cs22m019/DL%20Final%20Assignment%201/runs/47a3jrnc' target=\"_blank\">https://wandb.ai/cs22m019/DL%20Final%20Assignment%201/runs/47a3jrnc</a>"
            ],
            "text/plain": [
              "<IPython.core.display.HTML object>"
            ]
          },
          "metadata": {},
          "output_type": "display_data"
        },
        {
          "name": "stdout",
          "output_type": "stream",
          "text": [
            "epoch:1, train loss:0.7540030274070251, train accuracy:0.7399444444444444, validation loss:0.5239493434167283, validation accuracy:0.8136666666666666\n",
            "epoch:2, train loss:0.4806083551419472, train accuracy:0.830925925925926, validation loss:0.44945112818223554, validation accuracy:0.841\n",
            "epoch:3, train loss:0.44214602438625134, train accuracy:0.8432777777777778, validation loss:0.4176578248526562, validation accuracy:0.8533333333333334\n",
            "epoch:4, train loss:0.42088629012549167, train accuracy:0.8519444444444444, validation loss:0.4440770756720643, validation accuracy:0.8448333333333333\n",
            "epoch:5, train loss:0.4134453187373555, train accuracy:0.8566296296296296, validation loss:0.42158734208808724, validation accuracy:0.8613333333333333\n"
          ]
        },
        {
          "data": {
            "text/html": [
              "Waiting for W&B process to finish... <strong style=\"color:green\">(success).</strong>"
            ],
            "text/plain": [
              "<IPython.core.display.HTML object>"
            ]
          },
          "metadata": {},
          "output_type": "display_data"
        },
        {
          "data": {
            "text/html": [
              "<style>\n",
              "    table.wandb td:nth-child(1) { padding: 0 10px; text-align: left ; width: auto;} td:nth-child(2) {text-align: left ; width: 100%}\n",
              "    .wandb-row { display: flex; flex-direction: row; flex-wrap: wrap; justify-content: flex-start; width: 100% }\n",
              "    .wandb-col { display: flex; flex-direction: column; flex-basis: 100%; flex: 1; padding: 10px; }\n",
              "    </style>\n",
              "<div class=\"wandb-row\"><div class=\"wandb-col\"><h3>Run history:</h3><br/><table class=\"wandb\"><tr><td>train accuracy</td><td>▁▆▇██</td></tr><tr><td>train loss</td><td>█▂▂▁▁</td></tr><tr><td>validation accuracy</td><td>▁▅▇▆█</td></tr><tr><td>validation loss</td><td>█▃▁▃▁</td></tr></table><br/></div><div class=\"wandb-col\"><h3>Run summary:</h3><br/><table class=\"wandb\"><tr><td>train accuracy</td><td>0.85663</td></tr><tr><td>train loss</td><td>0.41345</td></tr><tr><td>validation accuracy</td><td>0.86133</td></tr><tr><td>validation loss</td><td>0.42159</td></tr></table><br/></div></div>"
            ],
            "text/plain": [
              "<IPython.core.display.HTML object>"
            ]
          },
          "metadata": {},
          "output_type": "display_data"
        },
        {
          "data": {
            "text/html": [
              " View run <strong style=\"color:#cdcd00\">magic-sweep-33</strong> at: <a href='https://wandb.ai/cs22m019/DL%20Final%20Assignment%201/runs/47a3jrnc' target=\"_blank\">https://wandb.ai/cs22m019/DL%20Final%20Assignment%201/runs/47a3jrnc</a><br/>Synced 6 W&B file(s), 0 media file(s), 0 artifact file(s) and 0 other file(s)"
            ],
            "text/plain": [
              "<IPython.core.display.HTML object>"
            ]
          },
          "metadata": {},
          "output_type": "display_data"
        },
        {
          "data": {
            "text/html": [
              "Find logs at: <code>.\\wandb\\run-20230309_123247-47a3jrnc\\logs</code>"
            ],
            "text/plain": [
              "<IPython.core.display.HTML object>"
            ]
          },
          "metadata": {},
          "output_type": "display_data"
        },
        {
          "name": "stderr",
          "output_type": "stream",
          "text": [
            "\u001b[34m\u001b[1mwandb\u001b[0m: Agent Starting Run: d44qtek7 with config:\n",
            "\u001b[34m\u001b[1mwandb\u001b[0m: \tactivation: ReLU\n",
            "\u001b[34m\u001b[1mwandb\u001b[0m: \tbatch_size: 16\n",
            "\u001b[34m\u001b[1mwandb\u001b[0m: \tepochs: 5\n",
            "\u001b[34m\u001b[1mwandb\u001b[0m: \tlearning_rate: 0.001\n",
            "\u001b[34m\u001b[1mwandb\u001b[0m: \tnumber_of_hidden_layer: 3\n",
            "\u001b[34m\u001b[1mwandb\u001b[0m: \toptimizer: adam\n",
            "\u001b[34m\u001b[1mwandb\u001b[0m: \tsize_of_hidden_layer: 128\n",
            "\u001b[34m\u001b[1mwandb\u001b[0m: \tweight_decay: 0.0005\n",
            "\u001b[34m\u001b[1mwandb\u001b[0m: \tweight_initialization: Xavier\n"
          ]
        },
        {
          "data": {
            "text/html": [
              "Tracking run with wandb version 0.13.11"
            ],
            "text/plain": [
              "<IPython.core.display.HTML object>"
            ]
          },
          "metadata": {},
          "output_type": "display_data"
        },
        {
          "data": {
            "text/html": [
              "Run data is saved locally in <code>C:\\Users\\DELL\\Desktop\\wandb\\run-20230309_124100-d44qtek7</code>"
            ],
            "text/plain": [
              "<IPython.core.display.HTML object>"
            ]
          },
          "metadata": {},
          "output_type": "display_data"
        },
        {
          "data": {
            "text/html": [
              "Syncing run <strong><a href='https://wandb.ai/cs22m019/DL%20Final%20Assignment%201/runs/d44qtek7' target=\"_blank\">splendid-sweep-34</a></strong> to <a href='https://wandb.ai/cs22m019/DL%20Final%20Assignment%201' target=\"_blank\">Weights & Biases</a> (<a href='https://wandb.me/run' target=\"_blank\">docs</a>)<br/>Sweep page: <a href='https://wandb.ai/cs22m019/DL%20Final%20Assignment%201/sweeps/cuhjfznh' target=\"_blank\">https://wandb.ai/cs22m019/DL%20Final%20Assignment%201/sweeps/cuhjfznh</a>"
            ],
            "text/plain": [
              "<IPython.core.display.HTML object>"
            ]
          },
          "metadata": {},
          "output_type": "display_data"
        },
        {
          "data": {
            "text/html": [
              " View project at <a href='https://wandb.ai/cs22m019/DL%20Final%20Assignment%201' target=\"_blank\">https://wandb.ai/cs22m019/DL%20Final%20Assignment%201</a>"
            ],
            "text/plain": [
              "<IPython.core.display.HTML object>"
            ]
          },
          "metadata": {},
          "output_type": "display_data"
        },
        {
          "data": {
            "text/html": [
              " View sweep at <a href='https://wandb.ai/cs22m019/DL%20Final%20Assignment%201/sweeps/cuhjfznh' target=\"_blank\">https://wandb.ai/cs22m019/DL%20Final%20Assignment%201/sweeps/cuhjfznh</a>"
            ],
            "text/plain": [
              "<IPython.core.display.HTML object>"
            ]
          },
          "metadata": {},
          "output_type": "display_data"
        },
        {
          "data": {
            "text/html": [
              " View run at <a href='https://wandb.ai/cs22m019/DL%20Final%20Assignment%201/runs/d44qtek7' target=\"_blank\">https://wandb.ai/cs22m019/DL%20Final%20Assignment%201/runs/d44qtek7</a>"
            ],
            "text/plain": [
              "<IPython.core.display.HTML object>"
            ]
          },
          "metadata": {},
          "output_type": "display_data"
        },
        {
          "name": "stdout",
          "output_type": "stream",
          "text": [
            "epoch:1, train loss:0.667493518282994, train accuracy:0.779537037037037, validation loss:0.4700452830873328, validation accuracy:0.8353333333333334\n",
            "epoch:2, train loss:0.4518322182942846, train accuracy:0.840574074074074, validation loss:0.4238791103290023, validation accuracy:0.8531666666666666\n",
            "epoch:3, train loss:0.41711922595337525, train accuracy:0.8532037037037037, validation loss:0.40491582963084916, validation accuracy:0.86\n",
            "epoch:4, train loss:0.3989084673616135, train accuracy:0.859462962962963, validation loss:0.4016600281623518, validation accuracy:0.8601666666666666\n",
            "epoch:5, train loss:0.38864114209851386, train accuracy:0.8647407407407407, validation loss:0.38927821179669114, validation accuracy:0.8656666666666667\n"
          ]
        },
        {
          "data": {
            "text/html": [
              "Waiting for W&B process to finish... <strong style=\"color:green\">(success).</strong>"
            ],
            "text/plain": [
              "<IPython.core.display.HTML object>"
            ]
          },
          "metadata": {},
          "output_type": "display_data"
        },
        {
          "data": {
            "application/vnd.jupyter.widget-view+json": {
              "model_id": "e7a642195c8f45d3ba1af65bbdd532d8",
              "version_major": 2,
              "version_minor": 0
            },
            "text/plain": [
              "VBox(children=(Label(value='0.001 MB of 0.001 MB uploaded (0.000 MB deduped)\\r'), FloatProgress(value=1.0, max…"
            ]
          },
          "metadata": {},
          "output_type": "display_data"
        },
        {
          "data": {
            "text/html": [
              "<style>\n",
              "    table.wandb td:nth-child(1) { padding: 0 10px; text-align: left ; width: auto;} td:nth-child(2) {text-align: left ; width: 100%}\n",
              "    .wandb-row { display: flex; flex-direction: row; flex-wrap: wrap; justify-content: flex-start; width: 100% }\n",
              "    .wandb-col { display: flex; flex-direction: column; flex-basis: 100%; flex: 1; padding: 10px; }\n",
              "    </style>\n",
              "<div class=\"wandb-row\"><div class=\"wandb-col\"><h3>Run history:</h3><br/><table class=\"wandb\"><tr><td>train accuracy</td><td>▁▆▇██</td></tr><tr><td>train loss</td><td>█▃▂▁▁</td></tr><tr><td>validation accuracy</td><td>▁▅▇▇█</td></tr><tr><td>validation loss</td><td>█▄▂▂▁</td></tr></table><br/></div><div class=\"wandb-col\"><h3>Run summary:</h3><br/><table class=\"wandb\"><tr><td>train accuracy</td><td>0.86474</td></tr><tr><td>train loss</td><td>0.38864</td></tr><tr><td>validation accuracy</td><td>0.86567</td></tr><tr><td>validation loss</td><td>0.38928</td></tr></table><br/></div></div>"
            ],
            "text/plain": [
              "<IPython.core.display.HTML object>"
            ]
          },
          "metadata": {},
          "output_type": "display_data"
        },
        {
          "data": {
            "text/html": [
              " View run <strong style=\"color:#cdcd00\">splendid-sweep-34</strong> at: <a href='https://wandb.ai/cs22m019/DL%20Final%20Assignment%201/runs/d44qtek7' target=\"_blank\">https://wandb.ai/cs22m019/DL%20Final%20Assignment%201/runs/d44qtek7</a><br/>Synced 6 W&B file(s), 0 media file(s), 0 artifact file(s) and 0 other file(s)"
            ],
            "text/plain": [
              "<IPython.core.display.HTML object>"
            ]
          },
          "metadata": {},
          "output_type": "display_data"
        },
        {
          "data": {
            "text/html": [
              "Find logs at: <code>.\\wandb\\run-20230309_124100-d44qtek7\\logs</code>"
            ],
            "text/plain": [
              "<IPython.core.display.HTML object>"
            ]
          },
          "metadata": {},
          "output_type": "display_data"
        },
        {
          "name": "stderr",
          "output_type": "stream",
          "text": [
            "\u001b[34m\u001b[1mwandb\u001b[0m: Sweep Agent: Waiting for job.\n",
            "\u001b[34m\u001b[1mwandb\u001b[0m: Job received.\n",
            "\u001b[34m\u001b[1mwandb\u001b[0m: Agent Starting Run: vyv9z9vl with config:\n",
            "\u001b[34m\u001b[1mwandb\u001b[0m: \tactivation: ReLU\n",
            "\u001b[34m\u001b[1mwandb\u001b[0m: \tbatch_size: 64\n",
            "\u001b[34m\u001b[1mwandb\u001b[0m: \tepochs: 5\n",
            "\u001b[34m\u001b[1mwandb\u001b[0m: \tlearning_rate: 0.001\n",
            "\u001b[34m\u001b[1mwandb\u001b[0m: \tnumber_of_hidden_layer: 3\n",
            "\u001b[34m\u001b[1mwandb\u001b[0m: \toptimizer: nadam\n",
            "\u001b[34m\u001b[1mwandb\u001b[0m: \tsize_of_hidden_layer: 128\n",
            "\u001b[34m\u001b[1mwandb\u001b[0m: \tweight_decay: 0\n",
            "\u001b[34m\u001b[1mwandb\u001b[0m: \tweight_initialization: Xavier\n"
          ]
        },
        {
          "data": {
            "text/html": [
              "Tracking run with wandb version 0.13.11"
            ],
            "text/plain": [
              "<IPython.core.display.HTML object>"
            ]
          },
          "metadata": {},
          "output_type": "display_data"
        },
        {
          "data": {
            "text/html": [
              "Run data is saved locally in <code>C:\\Users\\DELL\\Desktop\\wandb\\run-20230309_124726-vyv9z9vl</code>"
            ],
            "text/plain": [
              "<IPython.core.display.HTML object>"
            ]
          },
          "metadata": {},
          "output_type": "display_data"
        },
        {
          "data": {
            "text/html": [
              "Syncing run <strong><a href='https://wandb.ai/cs22m019/DL%20Final%20Assignment%201/runs/vyv9z9vl' target=\"_blank\">cosmic-sweep-35</a></strong> to <a href='https://wandb.ai/cs22m019/DL%20Final%20Assignment%201' target=\"_blank\">Weights & Biases</a> (<a href='https://wandb.me/run' target=\"_blank\">docs</a>)<br/>Sweep page: <a href='https://wandb.ai/cs22m019/DL%20Final%20Assignment%201/sweeps/cuhjfznh' target=\"_blank\">https://wandb.ai/cs22m019/DL%20Final%20Assignment%201/sweeps/cuhjfznh</a>"
            ],
            "text/plain": [
              "<IPython.core.display.HTML object>"
            ]
          },
          "metadata": {},
          "output_type": "display_data"
        },
        {
          "data": {
            "text/html": [
              " View project at <a href='https://wandb.ai/cs22m019/DL%20Final%20Assignment%201' target=\"_blank\">https://wandb.ai/cs22m019/DL%20Final%20Assignment%201</a>"
            ],
            "text/plain": [
              "<IPython.core.display.HTML object>"
            ]
          },
          "metadata": {},
          "output_type": "display_data"
        },
        {
          "data": {
            "text/html": [
              " View sweep at <a href='https://wandb.ai/cs22m019/DL%20Final%20Assignment%201/sweeps/cuhjfznh' target=\"_blank\">https://wandb.ai/cs22m019/DL%20Final%20Assignment%201/sweeps/cuhjfznh</a>"
            ],
            "text/plain": [
              "<IPython.core.display.HTML object>"
            ]
          },
          "metadata": {},
          "output_type": "display_data"
        },
        {
          "data": {
            "text/html": [
              " View run at <a href='https://wandb.ai/cs22m019/DL%20Final%20Assignment%201/runs/vyv9z9vl' target=\"_blank\">https://wandb.ai/cs22m019/DL%20Final%20Assignment%201/runs/vyv9z9vl</a>"
            ],
            "text/plain": [
              "<IPython.core.display.HTML object>"
            ]
          },
          "metadata": {},
          "output_type": "display_data"
        },
        {
          "name": "stdout",
          "output_type": "stream",
          "text": [
            "epoch:1, train loss:0.8434067830462618, train accuracy:0.7087592592592593, validation loss:0.6874328025170956, validation accuracy:0.7911666666666667\n",
            "epoch:2, train loss:0.6746353449105454, train accuracy:0.8037407407407408, validation loss:0.6610112276580001, validation accuracy:0.8135\n",
            "epoch:3, train loss:0.6886050052356213, train accuracy:0.8178888888888889, validation loss:0.6920221393419576, validation accuracy:0.8223333333333334\n",
            "epoch:4, train loss:0.7059846402020648, train accuracy:0.8244259259259259, validation loss:0.7575761155728381, validation accuracy:0.8253333333333334\n",
            "epoch:5, train loss:0.7258445724532303, train accuracy:0.8295370370370371, validation loss:0.7274477538896511, validation accuracy:0.836\n"
          ]
        },
        {
          "data": {
            "text/html": [
              "Waiting for W&B process to finish... <strong style=\"color:green\">(success).</strong>"
            ],
            "text/plain": [
              "<IPython.core.display.HTML object>"
            ]
          },
          "metadata": {},
          "output_type": "display_data"
        },
        {
          "data": {
            "text/html": [
              "<style>\n",
              "    table.wandb td:nth-child(1) { padding: 0 10px; text-align: left ; width: auto;} td:nth-child(2) {text-align: left ; width: 100%}\n",
              "    .wandb-row { display: flex; flex-direction: row; flex-wrap: wrap; justify-content: flex-start; width: 100% }\n",
              "    .wandb-col { display: flex; flex-direction: column; flex-basis: 100%; flex: 1; padding: 10px; }\n",
              "    </style>\n",
              "<div class=\"wandb-row\"><div class=\"wandb-col\"><h3>Run history:</h3><br/><table class=\"wandb\"><tr><td>train accuracy</td><td>▁▇▇██</td></tr><tr><td>train loss</td><td>█▁▂▂▃</td></tr><tr><td>validation accuracy</td><td>▁▄▆▆█</td></tr><tr><td>validation loss</td><td>▃▁▃█▆</td></tr></table><br/></div><div class=\"wandb-col\"><h3>Run summary:</h3><br/><table class=\"wandb\"><tr><td>train accuracy</td><td>0.82954</td></tr><tr><td>train loss</td><td>0.72584</td></tr><tr><td>validation accuracy</td><td>0.836</td></tr><tr><td>validation loss</td><td>0.72745</td></tr></table><br/></div></div>"
            ],
            "text/plain": [
              "<IPython.core.display.HTML object>"
            ]
          },
          "metadata": {},
          "output_type": "display_data"
        },
        {
          "data": {
            "text/html": [
              " View run <strong style=\"color:#cdcd00\">cosmic-sweep-35</strong> at: <a href='https://wandb.ai/cs22m019/DL%20Final%20Assignment%201/runs/vyv9z9vl' target=\"_blank\">https://wandb.ai/cs22m019/DL%20Final%20Assignment%201/runs/vyv9z9vl</a><br/>Synced 6 W&B file(s), 0 media file(s), 0 artifact file(s) and 0 other file(s)"
            ],
            "text/plain": [
              "<IPython.core.display.HTML object>"
            ]
          },
          "metadata": {},
          "output_type": "display_data"
        },
        {
          "data": {
            "text/html": [
              "Find logs at: <code>.\\wandb\\run-20230309_124726-vyv9z9vl\\logs</code>"
            ],
            "text/plain": [
              "<IPython.core.display.HTML object>"
            ]
          },
          "metadata": {},
          "output_type": "display_data"
        },
        {
          "name": "stderr",
          "output_type": "stream",
          "text": [
            "\u001b[34m\u001b[1mwandb\u001b[0m: Agent Starting Run: 8hqcez4a with config:\n",
            "\u001b[34m\u001b[1mwandb\u001b[0m: \tactivation: ReLU\n",
            "\u001b[34m\u001b[1mwandb\u001b[0m: \tbatch_size: 32\n",
            "\u001b[34m\u001b[1mwandb\u001b[0m: \tepochs: 5\n",
            "\u001b[34m\u001b[1mwandb\u001b[0m: \tlearning_rate: 0.001\n",
            "\u001b[34m\u001b[1mwandb\u001b[0m: \tnumber_of_hidden_layer: 3\n",
            "\u001b[34m\u001b[1mwandb\u001b[0m: \toptimizer: adam\n",
            "\u001b[34m\u001b[1mwandb\u001b[0m: \tsize_of_hidden_layer: 128\n",
            "\u001b[34m\u001b[1mwandb\u001b[0m: \tweight_decay: 0.5\n",
            "\u001b[34m\u001b[1mwandb\u001b[0m: \tweight_initialization: Xavier\n"
          ]
        },
        {
          "data": {
            "text/html": [
              "Tracking run with wandb version 0.13.11"
            ],
            "text/plain": [
              "<IPython.core.display.HTML object>"
            ]
          },
          "metadata": {},
          "output_type": "display_data"
        },
        {
          "data": {
            "text/html": [
              "Run data is saved locally in <code>C:\\Users\\DELL\\Desktop\\wandb\\run-20230309_131224-8hqcez4a</code>"
            ],
            "text/plain": [
              "<IPython.core.display.HTML object>"
            ]
          },
          "metadata": {},
          "output_type": "display_data"
        },
        {
          "data": {
            "text/html": [
              "Syncing run <strong><a href='https://wandb.ai/cs22m019/DL%20Final%20Assignment%201/runs/8hqcez4a' target=\"_blank\">legendary-sweep-36</a></strong> to <a href='https://wandb.ai/cs22m019/DL%20Final%20Assignment%201' target=\"_blank\">Weights & Biases</a> (<a href='https://wandb.me/run' target=\"_blank\">docs</a>)<br/>Sweep page: <a href='https://wandb.ai/cs22m019/DL%20Final%20Assignment%201/sweeps/cuhjfznh' target=\"_blank\">https://wandb.ai/cs22m019/DL%20Final%20Assignment%201/sweeps/cuhjfznh</a>"
            ],
            "text/plain": [
              "<IPython.core.display.HTML object>"
            ]
          },
          "metadata": {},
          "output_type": "display_data"
        },
        {
          "data": {
            "text/html": [
              " View project at <a href='https://wandb.ai/cs22m019/DL%20Final%20Assignment%201' target=\"_blank\">https://wandb.ai/cs22m019/DL%20Final%20Assignment%201</a>"
            ],
            "text/plain": [
              "<IPython.core.display.HTML object>"
            ]
          },
          "metadata": {},
          "output_type": "display_data"
        },
        {
          "data": {
            "text/html": [
              " View sweep at <a href='https://wandb.ai/cs22m019/DL%20Final%20Assignment%201/sweeps/cuhjfznh' target=\"_blank\">https://wandb.ai/cs22m019/DL%20Final%20Assignment%201/sweeps/cuhjfznh</a>"
            ],
            "text/plain": [
              "<IPython.core.display.HTML object>"
            ]
          },
          "metadata": {},
          "output_type": "display_data"
        },
        {
          "data": {
            "text/html": [
              " View run at <a href='https://wandb.ai/cs22m019/DL%20Final%20Assignment%201/runs/8hqcez4a' target=\"_blank\">https://wandb.ai/cs22m019/DL%20Final%20Assignment%201/runs/8hqcez4a</a>"
            ],
            "text/plain": [
              "<IPython.core.display.HTML object>"
            ]
          },
          "metadata": {},
          "output_type": "display_data"
        },
        {
          "name": "stdout",
          "output_type": "stream",
          "text": [
            "epoch:1, train loss:0.7954806870140272, train accuracy:0.7647222222222222, validation loss:0.8295067373197907, validation accuracy:0.7928333333333333\n",
            "epoch:2, train loss:0.7535988081220403, train accuracy:0.8221851851851851, validation loss:0.725297040287681, validation accuracy:0.8381666666666666\n",
            "epoch:3, train loss:0.7701385151825867, train accuracy:0.8321481481481482, validation loss:0.797080500679502, validation accuracy:0.8343333333333334\n",
            "epoch:4, train loss:0.7799879013542241, train accuracy:0.8378888888888889, validation loss:0.7530577902245223, validation accuracy:0.846\n",
            "epoch:5, train loss:0.7914431467872658, train accuracy:0.8412037037037037, validation loss:0.7386290602758098, validation accuracy:0.849\n"
          ]
        },
        {
          "data": {
            "text/html": [
              "Waiting for W&B process to finish... <strong style=\"color:green\">(success).</strong>"
            ],
            "text/plain": [
              "<IPython.core.display.HTML object>"
            ]
          },
          "metadata": {},
          "output_type": "display_data"
        },
        {
          "data": {
            "application/vnd.jupyter.widget-view+json": {
              "model_id": "d0eda3f9c7334373b9e4ae007ec156d0",
              "version_major": 2,
              "version_minor": 0
            },
            "text/plain": [
              "VBox(children=(Label(value='0.001 MB of 0.001 MB uploaded (0.000 MB deduped)\\r'), FloatProgress(value=1.0, max…"
            ]
          },
          "metadata": {},
          "output_type": "display_data"
        },
        {
          "data": {
            "text/html": [
              "<style>\n",
              "    table.wandb td:nth-child(1) { padding: 0 10px; text-align: left ; width: auto;} td:nth-child(2) {text-align: left ; width: 100%}\n",
              "    .wandb-row { display: flex; flex-direction: row; flex-wrap: wrap; justify-content: flex-start; width: 100% }\n",
              "    .wandb-col { display: flex; flex-direction: column; flex-basis: 100%; flex: 1; padding: 10px; }\n",
              "    </style>\n",
              "<div class=\"wandb-row\"><div class=\"wandb-col\"><h3>Run history:</h3><br/><table class=\"wandb\"><tr><td>train accuracy</td><td>▁▆▇██</td></tr><tr><td>train loss</td><td>█▁▄▅▇</td></tr><tr><td>validation accuracy</td><td>▁▇▆██</td></tr><tr><td>validation loss</td><td>█▁▆▃▂</td></tr></table><br/></div><div class=\"wandb-col\"><h3>Run summary:</h3><br/><table class=\"wandb\"><tr><td>train accuracy</td><td>0.8412</td></tr><tr><td>train loss</td><td>0.79144</td></tr><tr><td>validation accuracy</td><td>0.849</td></tr><tr><td>validation loss</td><td>0.73863</td></tr></table><br/></div></div>"
            ],
            "text/plain": [
              "<IPython.core.display.HTML object>"
            ]
          },
          "metadata": {},
          "output_type": "display_data"
        },
        {
          "data": {
            "text/html": [
              " View run <strong style=\"color:#cdcd00\">legendary-sweep-36</strong> at: <a href='https://wandb.ai/cs22m019/DL%20Final%20Assignment%201/runs/8hqcez4a' target=\"_blank\">https://wandb.ai/cs22m019/DL%20Final%20Assignment%201/runs/8hqcez4a</a><br/>Synced 6 W&B file(s), 0 media file(s), 0 artifact file(s) and 0 other file(s)"
            ],
            "text/plain": [
              "<IPython.core.display.HTML object>"
            ]
          },
          "metadata": {},
          "output_type": "display_data"
        },
        {
          "data": {
            "text/html": [
              "Find logs at: <code>.\\wandb\\run-20230309_131224-8hqcez4a\\logs</code>"
            ],
            "text/plain": [
              "<IPython.core.display.HTML object>"
            ]
          },
          "metadata": {},
          "output_type": "display_data"
        },
        {
          "name": "stderr",
          "output_type": "stream",
          "text": [
            "\u001b[34m\u001b[1mwandb\u001b[0m: Sweep Agent: Waiting for job.\n",
            "\u001b[34m\u001b[1mwandb\u001b[0m: Job received.\n",
            "\u001b[34m\u001b[1mwandb\u001b[0m: Agent Starting Run: ugw535rd with config:\n",
            "\u001b[34m\u001b[1mwandb\u001b[0m: \tactivation: ReLU\n",
            "\u001b[34m\u001b[1mwandb\u001b[0m: \tbatch_size: 16\n",
            "\u001b[34m\u001b[1mwandb\u001b[0m: \tepochs: 5\n",
            "\u001b[34m\u001b[1mwandb\u001b[0m: \tlearning_rate: 0.001\n",
            "\u001b[34m\u001b[1mwandb\u001b[0m: \tnumber_of_hidden_layer: 4\n",
            "\u001b[34m\u001b[1mwandb\u001b[0m: \toptimizer: adam\n",
            "\u001b[34m\u001b[1mwandb\u001b[0m: \tsize_of_hidden_layer: 128\n",
            "\u001b[34m\u001b[1mwandb\u001b[0m: \tweight_decay: 0.5\n",
            "\u001b[34m\u001b[1mwandb\u001b[0m: \tweight_initialization: Xavier\n"
          ]
        },
        {
          "data": {
            "text/html": [
              "Tracking run with wandb version 0.13.11"
            ],
            "text/plain": [
              "<IPython.core.display.HTML object>"
            ]
          },
          "metadata": {},
          "output_type": "display_data"
        },
        {
          "data": {
            "text/html": [
              "Run data is saved locally in <code>C:\\Users\\DELL\\Desktop\\wandb\\run-20230309_134114-ugw535rd</code>"
            ],
            "text/plain": [
              "<IPython.core.display.HTML object>"
            ]
          },
          "metadata": {},
          "output_type": "display_data"
        },
        {
          "data": {
            "text/html": [
              "Syncing run <strong><a href='https://wandb.ai/cs22m019/DL%20Final%20Assignment%201/runs/ugw535rd' target=\"_blank\">light-sweep-37</a></strong> to <a href='https://wandb.ai/cs22m019/DL%20Final%20Assignment%201' target=\"_blank\">Weights & Biases</a> (<a href='https://wandb.me/run' target=\"_blank\">docs</a>)<br/>Sweep page: <a href='https://wandb.ai/cs22m019/DL%20Final%20Assignment%201/sweeps/cuhjfznh' target=\"_blank\">https://wandb.ai/cs22m019/DL%20Final%20Assignment%201/sweeps/cuhjfznh</a>"
            ],
            "text/plain": [
              "<IPython.core.display.HTML object>"
            ]
          },
          "metadata": {},
          "output_type": "display_data"
        },
        {
          "data": {
            "text/html": [
              " View project at <a href='https://wandb.ai/cs22m019/DL%20Final%20Assignment%201' target=\"_blank\">https://wandb.ai/cs22m019/DL%20Final%20Assignment%201</a>"
            ],
            "text/plain": [
              "<IPython.core.display.HTML object>"
            ]
          },
          "metadata": {},
          "output_type": "display_data"
        },
        {
          "data": {
            "text/html": [
              " View sweep at <a href='https://wandb.ai/cs22m019/DL%20Final%20Assignment%201/sweeps/cuhjfznh' target=\"_blank\">https://wandb.ai/cs22m019/DL%20Final%20Assignment%201/sweeps/cuhjfznh</a>"
            ],
            "text/plain": [
              "<IPython.core.display.HTML object>"
            ]
          },
          "metadata": {},
          "output_type": "display_data"
        },
        {
          "data": {
            "text/html": [
              " View run at <a href='https://wandb.ai/cs22m019/DL%20Final%20Assignment%201/runs/ugw535rd' target=\"_blank\">https://wandb.ai/cs22m019/DL%20Final%20Assignment%201/runs/ugw535rd</a>"
            ],
            "text/plain": [
              "<IPython.core.display.HTML object>"
            ]
          },
          "metadata": {},
          "output_type": "display_data"
        },
        {
          "name": "stdout",
          "output_type": "stream",
          "text": [
            "epoch:1, train loss:0.708199392186897, train accuracy:0.7696481481481482, validation loss:0.5032205083455491, validation accuracy:0.8313333333333334\n",
            "epoch:2, train loss:0.4822863551691275, train accuracy:0.8392407407407407, validation loss:0.46015614478218914, validation accuracy:0.8535\n",
            "epoch:3, train loss:0.44827264944276185, train accuracy:0.8521851851851852, validation loss:0.44062220595787194, validation accuracy:0.8561666666666666\n",
            "epoch:4, train loss:0.4302627266880961, train accuracy:0.8596666666666667, validation loss:0.44793031295976904, validation accuracy:0.8508333333333333\n",
            "epoch:5, train loss:0.42194418447522636, train accuracy:0.8649629629629629, validation loss:0.41611984227474214, validation accuracy:0.8711666666666666\n"
          ]
        },
        {
          "data": {
            "text/html": [
              "Waiting for W&B process to finish... <strong style=\"color:green\">(success).</strong>"
            ],
            "text/plain": [
              "<IPython.core.display.HTML object>"
            ]
          },
          "metadata": {},
          "output_type": "display_data"
        },
        {
          "data": {
            "text/html": [
              "<style>\n",
              "    table.wandb td:nth-child(1) { padding: 0 10px; text-align: left ; width: auto;} td:nth-child(2) {text-align: left ; width: 100%}\n",
              "    .wandb-row { display: flex; flex-direction: row; flex-wrap: wrap; justify-content: flex-start; width: 100% }\n",
              "    .wandb-col { display: flex; flex-direction: column; flex-basis: 100%; flex: 1; padding: 10px; }\n",
              "    </style>\n",
              "<div class=\"wandb-row\"><div class=\"wandb-col\"><h3>Run history:</h3><br/><table class=\"wandb\"><tr><td>train accuracy</td><td>▁▆▇██</td></tr><tr><td>train loss</td><td>█▂▂▁▁</td></tr><tr><td>validation accuracy</td><td>▁▅▅▄█</td></tr><tr><td>validation loss</td><td>█▅▃▄▁</td></tr></table><br/></div><div class=\"wandb-col\"><h3>Run summary:</h3><br/><table class=\"wandb\"><tr><td>train accuracy</td><td>0.86496</td></tr><tr><td>train loss</td><td>0.42194</td></tr><tr><td>validation accuracy</td><td>0.87117</td></tr><tr><td>validation loss</td><td>0.41612</td></tr></table><br/></div></div>"
            ],
            "text/plain": [
              "<IPython.core.display.HTML object>"
            ]
          },
          "metadata": {},
          "output_type": "display_data"
        },
        {
          "data": {
            "text/html": [
              " View run <strong style=\"color:#cdcd00\">light-sweep-37</strong> at: <a href='https://wandb.ai/cs22m019/DL%20Final%20Assignment%201/runs/ugw535rd' target=\"_blank\">https://wandb.ai/cs22m019/DL%20Final%20Assignment%201/runs/ugw535rd</a><br/>Synced 6 W&B file(s), 0 media file(s), 0 artifact file(s) and 0 other file(s)"
            ],
            "text/plain": [
              "<IPython.core.display.HTML object>"
            ]
          },
          "metadata": {},
          "output_type": "display_data"
        },
        {
          "data": {
            "text/html": [
              "Find logs at: <code>.\\wandb\\run-20230309_134114-ugw535rd\\logs</code>"
            ],
            "text/plain": [
              "<IPython.core.display.HTML object>"
            ]
          },
          "metadata": {},
          "output_type": "display_data"
        },
        {
          "name": "stderr",
          "output_type": "stream",
          "text": [
            "\u001b[34m\u001b[1mwandb\u001b[0m: Sweep Agent: Waiting for job.\n",
            "\u001b[34m\u001b[1mwandb\u001b[0m: Job received.\n",
            "\u001b[34m\u001b[1mwandb\u001b[0m: Agent Starting Run: ckkn4wur with config:\n",
            "\u001b[34m\u001b[1mwandb\u001b[0m: \tactivation: ReLU\n",
            "\u001b[34m\u001b[1mwandb\u001b[0m: \tbatch_size: 16\n",
            "\u001b[34m\u001b[1mwandb\u001b[0m: \tepochs: 5\n",
            "\u001b[34m\u001b[1mwandb\u001b[0m: \tlearning_rate: 0.001\n",
            "\u001b[34m\u001b[1mwandb\u001b[0m: \tnumber_of_hidden_layer: 5\n",
            "\u001b[34m\u001b[1mwandb\u001b[0m: \toptimizer: adam\n",
            "\u001b[34m\u001b[1mwandb\u001b[0m: \tsize_of_hidden_layer: 128\n",
            "\u001b[34m\u001b[1mwandb\u001b[0m: \tweight_decay: 0.0005\n",
            "\u001b[34m\u001b[1mwandb\u001b[0m: \tweight_initialization: Xavier\n"
          ]
        },
        {
          "data": {
            "text/html": [
              "Tracking run with wandb version 0.13.11"
            ],
            "text/plain": [
              "<IPython.core.display.HTML object>"
            ]
          },
          "metadata": {},
          "output_type": "display_data"
        },
        {
          "data": {
            "text/html": [
              "Run data is saved locally in <code>C:\\Users\\DELL\\Desktop\\wandb\\run-20230309_134818-ckkn4wur</code>"
            ],
            "text/plain": [
              "<IPython.core.display.HTML object>"
            ]
          },
          "metadata": {},
          "output_type": "display_data"
        },
        {
          "data": {
            "text/html": [
              "Syncing run <strong><a href='https://wandb.ai/cs22m019/DL%20Final%20Assignment%201/runs/ckkn4wur' target=\"_blank\">glorious-sweep-38</a></strong> to <a href='https://wandb.ai/cs22m019/DL%20Final%20Assignment%201' target=\"_blank\">Weights & Biases</a> (<a href='https://wandb.me/run' target=\"_blank\">docs</a>)<br/>Sweep page: <a href='https://wandb.ai/cs22m019/DL%20Final%20Assignment%201/sweeps/cuhjfznh' target=\"_blank\">https://wandb.ai/cs22m019/DL%20Final%20Assignment%201/sweeps/cuhjfznh</a>"
            ],
            "text/plain": [
              "<IPython.core.display.HTML object>"
            ]
          },
          "metadata": {},
          "output_type": "display_data"
        },
        {
          "data": {
            "text/html": [
              " View project at <a href='https://wandb.ai/cs22m019/DL%20Final%20Assignment%201' target=\"_blank\">https://wandb.ai/cs22m019/DL%20Final%20Assignment%201</a>"
            ],
            "text/plain": [
              "<IPython.core.display.HTML object>"
            ]
          },
          "metadata": {},
          "output_type": "display_data"
        },
        {
          "data": {
            "text/html": [
              " View sweep at <a href='https://wandb.ai/cs22m019/DL%20Final%20Assignment%201/sweeps/cuhjfznh' target=\"_blank\">https://wandb.ai/cs22m019/DL%20Final%20Assignment%201/sweeps/cuhjfznh</a>"
            ],
            "text/plain": [
              "<IPython.core.display.HTML object>"
            ]
          },
          "metadata": {},
          "output_type": "display_data"
        },
        {
          "data": {
            "text/html": [
              " View run at <a href='https://wandb.ai/cs22m019/DL%20Final%20Assignment%201/runs/ckkn4wur' target=\"_blank\">https://wandb.ai/cs22m019/DL%20Final%20Assignment%201/runs/ckkn4wur</a>"
            ],
            "text/plain": [
              "<IPython.core.display.HTML object>"
            ]
          },
          "metadata": {},
          "output_type": "display_data"
        },
        {
          "name": "stdout",
          "output_type": "stream",
          "text": [
            "epoch:1, train loss:0.6993037031231185, train accuracy:0.7611481481481481, validation loss:0.49022794506448913, validation accuracy:0.8273333333333334\n",
            "epoch:2, train loss:0.454871765065167, train accuracy:0.8406296296296296, validation loss:0.41542184411225214, validation accuracy:0.8538333333333333\n",
            "epoch:3, train loss:0.415873635176631, train accuracy:0.8535, validation loss:0.4338884580380648, validation accuracy:0.8473333333333334\n",
            "epoch:4, train loss:0.39886607037172045, train accuracy:0.8598333333333333, validation loss:0.39804067443995617, validation accuracy:0.864\n",
            "epoch:5, train loss:0.3902627000151748, train accuracy:0.8643888888888889, validation loss:0.4022191928753815, validation accuracy:0.8668333333333333\n"
          ]
        },
        {
          "data": {
            "text/html": [
              "Waiting for W&B process to finish... <strong style=\"color:green\">(success).</strong>"
            ],
            "text/plain": [
              "<IPython.core.display.HTML object>"
            ]
          },
          "metadata": {},
          "output_type": "display_data"
        },
        {
          "data": {
            "text/html": [
              "<style>\n",
              "    table.wandb td:nth-child(1) { padding: 0 10px; text-align: left ; width: auto;} td:nth-child(2) {text-align: left ; width: 100%}\n",
              "    .wandb-row { display: flex; flex-direction: row; flex-wrap: wrap; justify-content: flex-start; width: 100% }\n",
              "    .wandb-col { display: flex; flex-direction: column; flex-basis: 100%; flex: 1; padding: 10px; }\n",
              "    </style>\n",
              "<div class=\"wandb-row\"><div class=\"wandb-col\"><h3>Run history:</h3><br/><table class=\"wandb\"><tr><td>train accuracy</td><td>▁▆▇██</td></tr><tr><td>train loss</td><td>█▂▂▁▁</td></tr><tr><td>validation accuracy</td><td>▁▆▅▇█</td></tr><tr><td>validation loss</td><td>█▂▄▁▁</td></tr></table><br/></div><div class=\"wandb-col\"><h3>Run summary:</h3><br/><table class=\"wandb\"><tr><td>train accuracy</td><td>0.86439</td></tr><tr><td>train loss</td><td>0.39026</td></tr><tr><td>validation accuracy</td><td>0.86683</td></tr><tr><td>validation loss</td><td>0.40222</td></tr></table><br/></div></div>"
            ],
            "text/plain": [
              "<IPython.core.display.HTML object>"
            ]
          },
          "metadata": {},
          "output_type": "display_data"
        },
        {
          "data": {
            "text/html": [
              " View run <strong style=\"color:#cdcd00\">glorious-sweep-38</strong> at: <a href='https://wandb.ai/cs22m019/DL%20Final%20Assignment%201/runs/ckkn4wur' target=\"_blank\">https://wandb.ai/cs22m019/DL%20Final%20Assignment%201/runs/ckkn4wur</a><br/>Synced 6 W&B file(s), 0 media file(s), 0 artifact file(s) and 0 other file(s)"
            ],
            "text/plain": [
              "<IPython.core.display.HTML object>"
            ]
          },
          "metadata": {},
          "output_type": "display_data"
        },
        {
          "data": {
            "text/html": [
              "Find logs at: <code>.\\wandb\\run-20230309_134818-ckkn4wur\\logs</code>"
            ],
            "text/plain": [
              "<IPython.core.display.HTML object>"
            ]
          },
          "metadata": {},
          "output_type": "display_data"
        },
        {
          "name": "stderr",
          "output_type": "stream",
          "text": [
            "\u001b[34m\u001b[1mwandb\u001b[0m: Agent Starting Run: 82wg1qtg with config:\n",
            "\u001b[34m\u001b[1mwandb\u001b[0m: \tactivation: ReLU\n",
            "\u001b[34m\u001b[1mwandb\u001b[0m: \tbatch_size: 64\n",
            "\u001b[34m\u001b[1mwandb\u001b[0m: \tepochs: 5\n",
            "\u001b[34m\u001b[1mwandb\u001b[0m: \tlearning_rate: 0.001\n",
            "\u001b[34m\u001b[1mwandb\u001b[0m: \tnumber_of_hidden_layer: 3\n",
            "\u001b[34m\u001b[1mwandb\u001b[0m: \toptimizer: nadam\n",
            "\u001b[34m\u001b[1mwandb\u001b[0m: \tsize_of_hidden_layer: 128\n",
            "\u001b[34m\u001b[1mwandb\u001b[0m: \tweight_decay: 0\n",
            "\u001b[34m\u001b[1mwandb\u001b[0m: \tweight_initialization: Xavier\n"
          ]
        },
        {
          "data": {
            "text/html": [
              "Tracking run with wandb version 0.13.11"
            ],
            "text/plain": [
              "<IPython.core.display.HTML object>"
            ]
          },
          "metadata": {},
          "output_type": "display_data"
        },
        {
          "data": {
            "text/html": [
              "Run data is saved locally in <code>C:\\Users\\DELL\\Desktop\\wandb\\run-20230309_135909-82wg1qtg</code>"
            ],
            "text/plain": [
              "<IPython.core.display.HTML object>"
            ]
          },
          "metadata": {},
          "output_type": "display_data"
        },
        {
          "data": {
            "text/html": [
              "Syncing run <strong><a href='https://wandb.ai/cs22m019/DL%20Final%20Assignment%201/runs/82wg1qtg' target=\"_blank\">amber-sweep-39</a></strong> to <a href='https://wandb.ai/cs22m019/DL%20Final%20Assignment%201' target=\"_blank\">Weights & Biases</a> (<a href='https://wandb.me/run' target=\"_blank\">docs</a>)<br/>Sweep page: <a href='https://wandb.ai/cs22m019/DL%20Final%20Assignment%201/sweeps/cuhjfznh' target=\"_blank\">https://wandb.ai/cs22m019/DL%20Final%20Assignment%201/sweeps/cuhjfznh</a>"
            ],
            "text/plain": [
              "<IPython.core.display.HTML object>"
            ]
          },
          "metadata": {},
          "output_type": "display_data"
        },
        {
          "data": {
            "text/html": [
              " View project at <a href='https://wandb.ai/cs22m019/DL%20Final%20Assignment%201' target=\"_blank\">https://wandb.ai/cs22m019/DL%20Final%20Assignment%201</a>"
            ],
            "text/plain": [
              "<IPython.core.display.HTML object>"
            ]
          },
          "metadata": {},
          "output_type": "display_data"
        },
        {
          "data": {
            "text/html": [
              " View sweep at <a href='https://wandb.ai/cs22m019/DL%20Final%20Assignment%201/sweeps/cuhjfznh' target=\"_blank\">https://wandb.ai/cs22m019/DL%20Final%20Assignment%201/sweeps/cuhjfznh</a>"
            ],
            "text/plain": [
              "<IPython.core.display.HTML object>"
            ]
          },
          "metadata": {},
          "output_type": "display_data"
        },
        {
          "data": {
            "text/html": [
              " View run at <a href='https://wandb.ai/cs22m019/DL%20Final%20Assignment%201/runs/82wg1qtg' target=\"_blank\">https://wandb.ai/cs22m019/DL%20Final%20Assignment%201/runs/82wg1qtg</a>"
            ],
            "text/plain": [
              "<IPython.core.display.HTML object>"
            ]
          },
          "metadata": {},
          "output_type": "display_data"
        },
        {
          "name": "stdout",
          "output_type": "stream",
          "text": [
            "epoch:1, train loss:0.8318098469219205, train accuracy:0.719925925925926, validation loss:0.7094479579254124, validation accuracy:0.7911666666666667\n",
            "epoch:2, train loss:0.6873449446036934, train accuracy:0.8062222222222222, validation loss:0.6805614950258779, validation accuracy:0.8163333333333334\n",
            "epoch:3, train loss:0.6966587623726833, train accuracy:0.8180740740740741, validation loss:0.6902034825730876, validation accuracy:0.8201666666666667\n",
            "epoch:4, train loss:0.7165820332381732, train accuracy:0.8242592592592592, validation loss:0.6942133268713334, validation accuracy:0.8286666666666667\n",
            "epoch:5, train loss:0.7414357330230238, train accuracy:0.8277037037037037, validation loss:0.6960130792702979, validation accuracy:0.8368333333333333\n"
          ]
        },
        {
          "data": {
            "text/html": [
              "Waiting for W&B process to finish... <strong style=\"color:green\">(success).</strong>"
            ],
            "text/plain": [
              "<IPython.core.display.HTML object>"
            ]
          },
          "metadata": {},
          "output_type": "display_data"
        },
        {
          "data": {
            "text/html": [
              "<style>\n",
              "    table.wandb td:nth-child(1) { padding: 0 10px; text-align: left ; width: auto;} td:nth-child(2) {text-align: left ; width: 100%}\n",
              "    .wandb-row { display: flex; flex-direction: row; flex-wrap: wrap; justify-content: flex-start; width: 100% }\n",
              "    .wandb-col { display: flex; flex-direction: column; flex-basis: 100%; flex: 1; padding: 10px; }\n",
              "    </style>\n",
              "<div class=\"wandb-row\"><div class=\"wandb-col\"><h3>Run history:</h3><br/><table class=\"wandb\"><tr><td>train accuracy</td><td>▁▇▇██</td></tr><tr><td>train loss</td><td>█▁▁▂▄</td></tr><tr><td>validation accuracy</td><td>▁▅▅▇█</td></tr><tr><td>validation loss</td><td>█▁▃▄▅</td></tr></table><br/></div><div class=\"wandb-col\"><h3>Run summary:</h3><br/><table class=\"wandb\"><tr><td>train accuracy</td><td>0.8277</td></tr><tr><td>train loss</td><td>0.74144</td></tr><tr><td>validation accuracy</td><td>0.83683</td></tr><tr><td>validation loss</td><td>0.69601</td></tr></table><br/></div></div>"
            ],
            "text/plain": [
              "<IPython.core.display.HTML object>"
            ]
          },
          "metadata": {},
          "output_type": "display_data"
        },
        {
          "data": {
            "text/html": [
              " View run <strong style=\"color:#cdcd00\">amber-sweep-39</strong> at: <a href='https://wandb.ai/cs22m019/DL%20Final%20Assignment%201/runs/82wg1qtg' target=\"_blank\">https://wandb.ai/cs22m019/DL%20Final%20Assignment%201/runs/82wg1qtg</a><br/>Synced 6 W&B file(s), 0 media file(s), 0 artifact file(s) and 0 other file(s)"
            ],
            "text/plain": [
              "<IPython.core.display.HTML object>"
            ]
          },
          "metadata": {},
          "output_type": "display_data"
        },
        {
          "data": {
            "text/html": [
              "Find logs at: <code>.\\wandb\\run-20230309_135909-82wg1qtg\\logs</code>"
            ],
            "text/plain": [
              "<IPython.core.display.HTML object>"
            ]
          },
          "metadata": {},
          "output_type": "display_data"
        },
        {
          "name": "stderr",
          "output_type": "stream",
          "text": [
            "\u001b[34m\u001b[1mwandb\u001b[0m: Agent Starting Run: nkq8rvr8 with config:\n",
            "\u001b[34m\u001b[1mwandb\u001b[0m: \tactivation: ReLU\n",
            "\u001b[34m\u001b[1mwandb\u001b[0m: \tbatch_size: 64\n",
            "\u001b[34m\u001b[1mwandb\u001b[0m: \tepochs: 5\n",
            "\u001b[34m\u001b[1mwandb\u001b[0m: \tlearning_rate: 0.001\n",
            "\u001b[34m\u001b[1mwandb\u001b[0m: \tnumber_of_hidden_layer: 4\n",
            "\u001b[34m\u001b[1mwandb\u001b[0m: \toptimizer: adam\n",
            "\u001b[34m\u001b[1mwandb\u001b[0m: \tsize_of_hidden_layer: 128\n",
            "\u001b[34m\u001b[1mwandb\u001b[0m: \tweight_decay: 0\n",
            "\u001b[34m\u001b[1mwandb\u001b[0m: \tweight_initialization: Xavier\n"
          ]
        },
        {
          "data": {
            "text/html": [
              "Tracking run with wandb version 0.13.11"
            ],
            "text/plain": [
              "<IPython.core.display.HTML object>"
            ]
          },
          "metadata": {},
          "output_type": "display_data"
        },
        {
          "data": {
            "text/html": [
              "Run data is saved locally in <code>C:\\Users\\DELL\\Desktop\\wandb\\run-20230309_143013-nkq8rvr8</code>"
            ],
            "text/plain": [
              "<IPython.core.display.HTML object>"
            ]
          },
          "metadata": {},
          "output_type": "display_data"
        },
        {
          "data": {
            "text/html": [
              "Syncing run <strong><a href='https://wandb.ai/cs22m019/DL%20Final%20Assignment%201/runs/nkq8rvr8' target=\"_blank\">easy-sweep-40</a></strong> to <a href='https://wandb.ai/cs22m019/DL%20Final%20Assignment%201' target=\"_blank\">Weights & Biases</a> (<a href='https://wandb.me/run' target=\"_blank\">docs</a>)<br/>Sweep page: <a href='https://wandb.ai/cs22m019/DL%20Final%20Assignment%201/sweeps/cuhjfznh' target=\"_blank\">https://wandb.ai/cs22m019/DL%20Final%20Assignment%201/sweeps/cuhjfznh</a>"
            ],
            "text/plain": [
              "<IPython.core.display.HTML object>"
            ]
          },
          "metadata": {},
          "output_type": "display_data"
        },
        {
          "data": {
            "text/html": [
              " View project at <a href='https://wandb.ai/cs22m019/DL%20Final%20Assignment%201' target=\"_blank\">https://wandb.ai/cs22m019/DL%20Final%20Assignment%201</a>"
            ],
            "text/plain": [
              "<IPython.core.display.HTML object>"
            ]
          },
          "metadata": {},
          "output_type": "display_data"
        },
        {
          "data": {
            "text/html": [
              " View sweep at <a href='https://wandb.ai/cs22m019/DL%20Final%20Assignment%201/sweeps/cuhjfznh' target=\"_blank\">https://wandb.ai/cs22m019/DL%20Final%20Assignment%201/sweeps/cuhjfznh</a>"
            ],
            "text/plain": [
              "<IPython.core.display.HTML object>"
            ]
          },
          "metadata": {},
          "output_type": "display_data"
        },
        {
          "data": {
            "text/html": [
              " View run at <a href='https://wandb.ai/cs22m019/DL%20Final%20Assignment%201/runs/nkq8rvr8' target=\"_blank\">https://wandb.ai/cs22m019/DL%20Final%20Assignment%201/runs/nkq8rvr8</a>"
            ],
            "text/plain": [
              "<IPython.core.display.HTML object>"
            ]
          },
          "metadata": {},
          "output_type": "display_data"
        },
        {
          "name": "stdout",
          "output_type": "stream",
          "text": [
            "epoch:1, train loss:0.8008307621277222, train accuracy:0.7395185185185185, validation loss:0.6335533603487422, validation accuracy:0.8108333333333333\n",
            "epoch:2, train loss:0.6861383179167921, train accuracy:0.8125185185185185, validation loss:0.6900220913200451, validation accuracy:0.8205\n",
            "epoch:3, train loss:0.7087005461867962, train accuracy:0.8252222222222222, validation loss:0.7345480626506181, validation accuracy:0.8183333333333334\n",
            "epoch:4, train loss:0.7146947228816481, train accuracy:0.8318518518518518, validation loss:0.7376103770090229, validation accuracy:0.834\n"
          ]
        },
        {
          "name": "stderr",
          "output_type": "stream",
          "text": [
            "\u001b[34m\u001b[1mwandb\u001b[0m: Network error (ConnectionError), entering retry loop.\n"
          ]
        },
        {
          "name": "stdout",
          "output_type": "stream",
          "text": [
            "epoch:5, train loss:0.7194159166099839, train accuracy:0.8342222222222222, validation loss:0.7074875723924342, validation accuracy:0.842\n"
          ]
        },
        {
          "data": {
            "text/html": [
              "Waiting for W&B process to finish... <strong style=\"color:green\">(success).</strong>"
            ],
            "text/plain": [
              "<IPython.core.display.HTML object>"
            ]
          },
          "metadata": {},
          "output_type": "display_data"
        },
        {
          "data": {
            "text/html": [
              "<style>\n",
              "    table.wandb td:nth-child(1) { padding: 0 10px; text-align: left ; width: auto;} td:nth-child(2) {text-align: left ; width: 100%}\n",
              "    .wandb-row { display: flex; flex-direction: row; flex-wrap: wrap; justify-content: flex-start; width: 100% }\n",
              "    .wandb-col { display: flex; flex-direction: column; flex-basis: 100%; flex: 1; padding: 10px; }\n",
              "    </style>\n",
              "<div class=\"wandb-row\"><div class=\"wandb-col\"><h3>Run history:</h3><br/><table class=\"wandb\"><tr><td>train accuracy</td><td>▁▆▇██</td></tr><tr><td>train loss</td><td>█▁▂▃▃</td></tr><tr><td>validation accuracy</td><td>▁▃▃▆█</td></tr><tr><td>validation loss</td><td>▁▅██▆</td></tr></table><br/></div><div class=\"wandb-col\"><h3>Run summary:</h3><br/><table class=\"wandb\"><tr><td>train accuracy</td><td>0.83422</td></tr><tr><td>train loss</td><td>0.71942</td></tr><tr><td>validation accuracy</td><td>0.842</td></tr><tr><td>validation loss</td><td>0.70749</td></tr></table><br/></div></div>"
            ],
            "text/plain": [
              "<IPython.core.display.HTML object>"
            ]
          },
          "metadata": {},
          "output_type": "display_data"
        },
        {
          "data": {
            "text/html": [
              " View run <strong style=\"color:#cdcd00\">easy-sweep-40</strong> at: <a href='https://wandb.ai/cs22m019/DL%20Final%20Assignment%201/runs/nkq8rvr8' target=\"_blank\">https://wandb.ai/cs22m019/DL%20Final%20Assignment%201/runs/nkq8rvr8</a><br/>Synced 6 W&B file(s), 0 media file(s), 0 artifact file(s) and 0 other file(s)"
            ],
            "text/plain": [
              "<IPython.core.display.HTML object>"
            ]
          },
          "metadata": {},
          "output_type": "display_data"
        },
        {
          "data": {
            "text/html": [
              "Find logs at: <code>.\\wandb\\run-20230309_143013-nkq8rvr8\\logs</code>"
            ],
            "text/plain": [
              "<IPython.core.display.HTML object>"
            ]
          },
          "metadata": {},
          "output_type": "display_data"
        },
        {
          "name": "stderr",
          "output_type": "stream",
          "text": [
            "\u001b[34m\u001b[1mwandb\u001b[0m: Agent Starting Run: uvcw7dhy with config:\n",
            "\u001b[34m\u001b[1mwandb\u001b[0m: \tactivation: ReLU\n",
            "\u001b[34m\u001b[1mwandb\u001b[0m: \tbatch_size: 16\n",
            "\u001b[34m\u001b[1mwandb\u001b[0m: \tepochs: 5\n",
            "\u001b[34m\u001b[1mwandb\u001b[0m: \tlearning_rate: 0.001\n",
            "\u001b[34m\u001b[1mwandb\u001b[0m: \tnumber_of_hidden_layer: 3\n",
            "\u001b[34m\u001b[1mwandb\u001b[0m: \toptimizer: adam\n",
            "\u001b[34m\u001b[1mwandb\u001b[0m: \tsize_of_hidden_layer: 128\n",
            "\u001b[34m\u001b[1mwandb\u001b[0m: \tweight_decay: 0.0005\n",
            "\u001b[34m\u001b[1mwandb\u001b[0m: \tweight_initialization: Xavier\n"
          ]
        },
        {
          "data": {
            "text/html": [
              "Tracking run with wandb version 0.13.11"
            ],
            "text/plain": [
              "<IPython.core.display.HTML object>"
            ]
          },
          "metadata": {},
          "output_type": "display_data"
        },
        {
          "data": {
            "text/html": [
              "Run data is saved locally in <code>C:\\Users\\DELL\\Desktop\\wandb\\run-20230309_151040-uvcw7dhy</code>"
            ],
            "text/plain": [
              "<IPython.core.display.HTML object>"
            ]
          },
          "metadata": {},
          "output_type": "display_data"
        },
        {
          "data": {
            "text/html": [
              "Syncing run <strong><a href='https://wandb.ai/cs22m019/DL%20Final%20Assignment%201/runs/uvcw7dhy' target=\"_blank\">hopeful-sweep-41</a></strong> to <a href='https://wandb.ai/cs22m019/DL%20Final%20Assignment%201' target=\"_blank\">Weights & Biases</a> (<a href='https://wandb.me/run' target=\"_blank\">docs</a>)<br/>Sweep page: <a href='https://wandb.ai/cs22m019/DL%20Final%20Assignment%201/sweeps/cuhjfznh' target=\"_blank\">https://wandb.ai/cs22m019/DL%20Final%20Assignment%201/sweeps/cuhjfznh</a>"
            ],
            "text/plain": [
              "<IPython.core.display.HTML object>"
            ]
          },
          "metadata": {},
          "output_type": "display_data"
        },
        {
          "data": {
            "text/html": [
              " View project at <a href='https://wandb.ai/cs22m019/DL%20Final%20Assignment%201' target=\"_blank\">https://wandb.ai/cs22m019/DL%20Final%20Assignment%201</a>"
            ],
            "text/plain": [
              "<IPython.core.display.HTML object>"
            ]
          },
          "metadata": {},
          "output_type": "display_data"
        },
        {
          "data": {
            "text/html": [
              " View sweep at <a href='https://wandb.ai/cs22m019/DL%20Final%20Assignment%201/sweeps/cuhjfznh' target=\"_blank\">https://wandb.ai/cs22m019/DL%20Final%20Assignment%201/sweeps/cuhjfznh</a>"
            ],
            "text/plain": [
              "<IPython.core.display.HTML object>"
            ]
          },
          "metadata": {},
          "output_type": "display_data"
        },
        {
          "data": {
            "text/html": [
              " View run at <a href='https://wandb.ai/cs22m019/DL%20Final%20Assignment%201/runs/uvcw7dhy' target=\"_blank\">https://wandb.ai/cs22m019/DL%20Final%20Assignment%201/runs/uvcw7dhy</a>"
            ],
            "text/plain": [
              "<IPython.core.display.HTML object>"
            ]
          },
          "metadata": {},
          "output_type": "display_data"
        },
        {
          "name": "stdout",
          "output_type": "stream",
          "text": [
            "epoch:1, train loss:0.6849805687563485, train accuracy:0.7697777777777778, validation loss:0.49217342717690815, validation accuracy:0.8268333333333333\n",
            "epoch:2, train loss:0.4538480031167666, train accuracy:0.8403703703703703, validation loss:0.41640914202797197, validation accuracy:0.8525\n",
            "epoch:3, train loss:0.4185574913677427, train accuracy:0.8537037037037037, validation loss:0.41293827127738303, validation accuracy:0.8565\n",
            "epoch:4, train loss:0.3988106077638303, train accuracy:0.8603703703703703, validation loss:0.3876560393212241, validation accuracy:0.8648333333333333\n",
            "epoch:5, train loss:0.3850889049086975, train accuracy:0.8649444444444444, validation loss:0.3909001265914625, validation accuracy:0.8623333333333333\n"
          ]
        },
        {
          "data": {
            "text/html": [
              "Waiting for W&B process to finish... <strong style=\"color:green\">(success).</strong>"
            ],
            "text/plain": [
              "<IPython.core.display.HTML object>"
            ]
          },
          "metadata": {},
          "output_type": "display_data"
        },
        {
          "data": {
            "application/vnd.jupyter.widget-view+json": {
              "model_id": "97cbbefe93644c8988fca515e7a8567f",
              "version_major": 2,
              "version_minor": 0
            },
            "text/plain": [
              "VBox(children=(Label(value='0.001 MB of 0.001 MB uploaded (0.000 MB deduped)\\r'), FloatProgress(value=1.0, max…"
            ]
          },
          "metadata": {},
          "output_type": "display_data"
        },
        {
          "data": {
            "text/html": [
              "<style>\n",
              "    table.wandb td:nth-child(1) { padding: 0 10px; text-align: left ; width: auto;} td:nth-child(2) {text-align: left ; width: 100%}\n",
              "    .wandb-row { display: flex; flex-direction: row; flex-wrap: wrap; justify-content: flex-start; width: 100% }\n",
              "    .wandb-col { display: flex; flex-direction: column; flex-basis: 100%; flex: 1; padding: 10px; }\n",
              "    </style>\n",
              "<div class=\"wandb-row\"><div class=\"wandb-col\"><h3>Run history:</h3><br/><table class=\"wandb\"><tr><td>train accuracy</td><td>▁▆▇██</td></tr><tr><td>train loss</td><td>█▃▂▁▁</td></tr><tr><td>validation accuracy</td><td>▁▆▆██</td></tr><tr><td>validation loss</td><td>█▃▃▁▁</td></tr></table><br/></div><div class=\"wandb-col\"><h3>Run summary:</h3><br/><table class=\"wandb\"><tr><td>train accuracy</td><td>0.86494</td></tr><tr><td>train loss</td><td>0.38509</td></tr><tr><td>validation accuracy</td><td>0.86233</td></tr><tr><td>validation loss</td><td>0.3909</td></tr></table><br/></div></div>"
            ],
            "text/plain": [
              "<IPython.core.display.HTML object>"
            ]
          },
          "metadata": {},
          "output_type": "display_data"
        },
        {
          "data": {
            "text/html": [
              " View run <strong style=\"color:#cdcd00\">hopeful-sweep-41</strong> at: <a href='https://wandb.ai/cs22m019/DL%20Final%20Assignment%201/runs/uvcw7dhy' target=\"_blank\">https://wandb.ai/cs22m019/DL%20Final%20Assignment%201/runs/uvcw7dhy</a><br/>Synced 6 W&B file(s), 0 media file(s), 0 artifact file(s) and 0 other file(s)"
            ],
            "text/plain": [
              "<IPython.core.display.HTML object>"
            ]
          },
          "metadata": {},
          "output_type": "display_data"
        },
        {
          "data": {
            "text/html": [
              "Find logs at: <code>.\\wandb\\run-20230309_151040-uvcw7dhy\\logs</code>"
            ],
            "text/plain": [
              "<IPython.core.display.HTML object>"
            ]
          },
          "metadata": {},
          "output_type": "display_data"
        },
        {
          "name": "stderr",
          "output_type": "stream",
          "text": [
            "\u001b[34m\u001b[1mwandb\u001b[0m: Agent Starting Run: phtvd6mo with config:\n",
            "\u001b[34m\u001b[1mwandb\u001b[0m: \tactivation: ReLU\n",
            "\u001b[34m\u001b[1mwandb\u001b[0m: \tbatch_size: 32\n",
            "\u001b[34m\u001b[1mwandb\u001b[0m: \tepochs: 5\n",
            "\u001b[34m\u001b[1mwandb\u001b[0m: \tlearning_rate: 0.001\n",
            "\u001b[34m\u001b[1mwandb\u001b[0m: \tnumber_of_hidden_layer: 5\n",
            "\u001b[34m\u001b[1mwandb\u001b[0m: \toptimizer: nadam\n",
            "\u001b[34m\u001b[1mwandb\u001b[0m: \tsize_of_hidden_layer: 128\n",
            "\u001b[34m\u001b[1mwandb\u001b[0m: \tweight_decay: 0.0005\n",
            "\u001b[34m\u001b[1mwandb\u001b[0m: \tweight_initialization: Xavier\n"
          ]
        },
        {
          "data": {
            "text/html": [
              "Tracking run with wandb version 0.13.11"
            ],
            "text/plain": [
              "<IPython.core.display.HTML object>"
            ]
          },
          "metadata": {},
          "output_type": "display_data"
        },
        {
          "data": {
            "text/html": [
              "Run data is saved locally in <code>C:\\Users\\DELL\\Desktop\\wandb\\run-20230309_151628-phtvd6mo</code>"
            ],
            "text/plain": [
              "<IPython.core.display.HTML object>"
            ]
          },
          "metadata": {},
          "output_type": "display_data"
        },
        {
          "data": {
            "text/html": [
              "Syncing run <strong><a href='https://wandb.ai/cs22m019/DL%20Final%20Assignment%201/runs/phtvd6mo' target=\"_blank\">easy-sweep-42</a></strong> to <a href='https://wandb.ai/cs22m019/DL%20Final%20Assignment%201' target=\"_blank\">Weights & Biases</a> (<a href='https://wandb.me/run' target=\"_blank\">docs</a>)<br/>Sweep page: <a href='https://wandb.ai/cs22m019/DL%20Final%20Assignment%201/sweeps/cuhjfznh' target=\"_blank\">https://wandb.ai/cs22m019/DL%20Final%20Assignment%201/sweeps/cuhjfznh</a>"
            ],
            "text/plain": [
              "<IPython.core.display.HTML object>"
            ]
          },
          "metadata": {},
          "output_type": "display_data"
        },
        {
          "data": {
            "text/html": [
              " View project at <a href='https://wandb.ai/cs22m019/DL%20Final%20Assignment%201' target=\"_blank\">https://wandb.ai/cs22m019/DL%20Final%20Assignment%201</a>"
            ],
            "text/plain": [
              "<IPython.core.display.HTML object>"
            ]
          },
          "metadata": {},
          "output_type": "display_data"
        },
        {
          "data": {
            "text/html": [
              " View sweep at <a href='https://wandb.ai/cs22m019/DL%20Final%20Assignment%201/sweeps/cuhjfznh' target=\"_blank\">https://wandb.ai/cs22m019/DL%20Final%20Assignment%201/sweeps/cuhjfznh</a>"
            ],
            "text/plain": [
              "<IPython.core.display.HTML object>"
            ]
          },
          "metadata": {},
          "output_type": "display_data"
        },
        {
          "data": {
            "text/html": [
              " View run at <a href='https://wandb.ai/cs22m019/DL%20Final%20Assignment%201/runs/phtvd6mo' target=\"_blank\">https://wandb.ai/cs22m019/DL%20Final%20Assignment%201/runs/phtvd6mo</a>"
            ],
            "text/plain": [
              "<IPython.core.display.HTML object>"
            ]
          },
          "metadata": {},
          "output_type": "display_data"
        },
        {
          "name": "stdout",
          "output_type": "stream",
          "text": [
            "epoch:1, train loss:0.8599916037273996, train accuracy:0.7383333333333333, validation loss:0.7347011112017289, validation accuracy:0.809\n",
            "epoch:2, train loss:0.8456985168343978, train accuracy:0.8064629629629629, validation loss:0.8046632872216161, validation accuracy:0.8263333333333334\n"
          ]
        }
      ],
      "source": [
        "wandb.agent(sweep_id=sweep_id,function = train,count = 42)"
      ]
    },
    {
      "cell_type": "code",
      "execution_count": null,
      "metadata": {
        "id": "CjwKZsR991Sy"
      },
      "outputs": [],
      "source": []
    }
  ],
  "metadata": {
    "colab": {
      "provenance": []
    },
    "kernelspec": {
      "display_name": "Python 3 (ipykernel)",
      "language": "python",
      "name": "python3"
    },
    "language_info": {
      "codemirror_mode": {
        "name": "ipython",
        "version": 3
      },
      "file_extension": ".py",
      "mimetype": "text/x-python",
      "name": "python",
      "nbconvert_exporter": "python",
      "pygments_lexer": "ipython3",
      "version": "3.9.13"
    }
  },
  "nbformat": 4,
  "nbformat_minor": 0
}