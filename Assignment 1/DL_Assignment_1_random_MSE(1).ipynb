{
 "cells": [
  {
   "cell_type": "code",
   "execution_count": 1,
   "metadata": {
    "colab": {
     "base_uri": "https://localhost:8080/"
    },
    "id": "yZE3U_NS7KiB",
    "outputId": "b5d19c03-33e4-4edd-c448-4c5376440392"
   },
   "outputs": [
    {
     "name": "stdout",
     "output_type": "stream",
     "text": [
      "Looking in indexes: https://pypi.org/simple, https://us-python.pkg.dev/colab-wheels/public/simple/\n",
      "Collecting wandb\n",
      "  Downloading wandb-0.13.11-py3-none-any.whl (2.0 MB)\n",
      "\u001b[2K     \u001b[90m━━━━━━━━━━━━━━━━━━━━━━━━━━━━━━━━━━━━━━━━\u001b[0m \u001b[32m2.0/2.0 MB\u001b[0m \u001b[31m33.3 MB/s\u001b[0m eta \u001b[36m0:00:00\u001b[0m\n",
      "\u001b[?25hCollecting sentry-sdk>=1.0.0\n",
      "  Downloading sentry_sdk-1.16.0-py2.py3-none-any.whl (184 kB)\n",
      "\u001b[2K     \u001b[90m━━━━━━━━━━━━━━━━━━━━━━━━━━━━━━━━━━━━━━━\u001b[0m \u001b[32m184.3/184.3 KB\u001b[0m \u001b[31m8.0 MB/s\u001b[0m eta \u001b[36m0:00:00\u001b[0m\n",
      "\u001b[?25hCollecting pathtools\n",
      "  Downloading pathtools-0.1.2.tar.gz (11 kB)\n",
      "  Preparing metadata (setup.py) ... \u001b[?25l\u001b[?25hdone\n",
      "Requirement already satisfied: setuptools in /usr/local/lib/python3.9/dist-packages (from wandb) (57.4.0)\n",
      "Requirement already satisfied: typing-extensions in /usr/local/lib/python3.9/dist-packages (from wandb) (4.5.0)\n",
      "Collecting GitPython!=3.1.29,>=1.0.0\n",
      "  Downloading GitPython-3.1.31-py3-none-any.whl (184 kB)\n",
      "\u001b[2K     \u001b[90m━━━━━━━━━━━━━━━━━━━━━━━━━━━━━━━━━━━━━━\u001b[0m \u001b[32m184.3/184.3 KB\u001b[0m \u001b[31m22.2 MB/s\u001b[0m eta \u001b[36m0:00:00\u001b[0m\n",
      "\u001b[?25hCollecting setproctitle\n",
      "  Downloading setproctitle-1.3.2-cp39-cp39-manylinux_2_5_x86_64.manylinux1_x86_64.manylinux_2_17_x86_64.manylinux2014_x86_64.whl (30 kB)\n",
      "Collecting appdirs>=1.4.3\n",
      "  Downloading appdirs-1.4.4-py2.py3-none-any.whl (9.6 kB)\n",
      "Collecting docker-pycreds>=0.4.0\n",
      "  Downloading docker_pycreds-0.4.0-py2.py3-none-any.whl (9.0 kB)\n",
      "Requirement already satisfied: Click!=8.0.0,>=7.0 in /usr/local/lib/python3.9/dist-packages (from wandb) (8.1.3)\n",
      "Requirement already satisfied: requests<3,>=2.0.0 in /usr/local/lib/python3.9/dist-packages (from wandb) (2.25.1)\n",
      "Requirement already satisfied: psutil>=5.0.0 in /usr/local/lib/python3.9/dist-packages (from wandb) (5.4.8)\n",
      "Requirement already satisfied: PyYAML in /usr/local/lib/python3.9/dist-packages (from wandb) (6.0)\n",
      "Requirement already satisfied: protobuf!=4.21.0,<5,>=3.15.0 in /usr/local/lib/python3.9/dist-packages (from wandb) (3.19.6)\n",
      "Requirement already satisfied: six>=1.4.0 in /usr/local/lib/python3.9/dist-packages (from docker-pycreds>=0.4.0->wandb) (1.15.0)\n",
      "Collecting gitdb<5,>=4.0.1\n",
      "  Downloading gitdb-4.0.10-py3-none-any.whl (62 kB)\n",
      "\u001b[2K     \u001b[90m━━━━━━━━━━━━━━━━━━━━━━━━━━━━━━━━━━━━━━━━\u001b[0m \u001b[32m62.7/62.7 KB\u001b[0m \u001b[31m7.4 MB/s\u001b[0m eta \u001b[36m0:00:00\u001b[0m\n",
      "\u001b[?25hRequirement already satisfied: idna<3,>=2.5 in /usr/local/lib/python3.9/dist-packages (from requests<3,>=2.0.0->wandb) (2.10)\n",
      "Requirement already satisfied: urllib3<1.27,>=1.21.1 in /usr/local/lib/python3.9/dist-packages (from requests<3,>=2.0.0->wandb) (1.26.14)\n",
      "Requirement already satisfied: chardet<5,>=3.0.2 in /usr/local/lib/python3.9/dist-packages (from requests<3,>=2.0.0->wandb) (4.0.0)\n",
      "Requirement already satisfied: certifi>=2017.4.17 in /usr/local/lib/python3.9/dist-packages (from requests<3,>=2.0.0->wandb) (2022.12.7)\n",
      "Collecting smmap<6,>=3.0.1\n",
      "  Downloading smmap-5.0.0-py3-none-any.whl (24 kB)\n",
      "Building wheels for collected packages: pathtools\n",
      "  Building wheel for pathtools (setup.py) ... \u001b[?25l\u001b[?25hdone\n",
      "  Created wheel for pathtools: filename=pathtools-0.1.2-py3-none-any.whl size=8806 sha256=471e083199d20082d868fb0061562ebfd1bef1e45772e6337f0c4960f08da462\n",
      "  Stored in directory: /root/.cache/pip/wheels/b7/0a/67/ada2a22079218c75a88361c0782855cc72aebc4d18d0289d05\n",
      "Successfully built pathtools\n",
      "Installing collected packages: pathtools, appdirs, smmap, setproctitle, sentry-sdk, docker-pycreds, gitdb, GitPython, wandb\n",
      "Successfully installed GitPython-3.1.31 appdirs-1.4.4 docker-pycreds-0.4.0 gitdb-4.0.10 pathtools-0.1.2 sentry-sdk-1.16.0 setproctitle-1.3.2 smmap-5.0.0 wandb-0.13.11\n"
     ]
    }
   ],
   "source": [
    "!pip install wandb"
   ]
  },
  {
   "cell_type": "code",
   "execution_count": 1,
   "metadata": {
    "id": "FEN8OmfA6oZb"
   },
   "outputs": [],
   "source": [
    "from tensorflow import keras\n",
    "from keras.datasets import fashion_mnist\n",
    "from keras.datasets import mnist\n",
    "import numpy as np\n",
    "from matplotlib import pyplot as plt\n",
    "import random\n",
    "import wandb\n",
    "import argparse\n",
    "from datetime import datetime\n",
    "import copy\n",
    "\n",
    "class FeedForward:\n",
    "\n",
    "    def __init__(self):\n",
    "\n",
    "        # defining the default parameters\n",
    "        self.parameters = {\n",
    "            \"wandb_project\": \"DL Final Assignment 1\",\n",
    "            \"wandb_entity\": \"cs22m019\",\n",
    "            \"dataset\": \"fashion_mnist\",\n",
    "            \"epochs\": 5,\n",
    "            \"batch_size\": 32,\n",
    "            \"loss\": \"mean_squared_error\",\n",
    "            \"optimizer\": \"gd\",\n",
    "            \"learning_rate\": 0.1,\n",
    "            \"momentum\": 0.01,\n",
    "            \"beta\": 0.5,\n",
    "            \"beta1\": 0.5,\n",
    "            \"beta2\": 0.5,\n",
    "            \"epsilon\": 0.000001,\n",
    "            \"weight_decay\": 0.0,\n",
    "            \"weight_init\": \"random\",\n",
    "            \"num_layers\": 3,\n",
    "            \"hidden_size\": 128,\n",
    "            \"activation\": \"sigmoid\",\n",
    "            \"output_function\": \"softmax\"\n",
    "        }\n",
    "\n",
    "        # updating the parameters to the parameters given in command line\n",
    "        # self.update_parameters()\n",
    "\n",
    "       \n",
    "        # loading training and test data from fashion_mnist dataset or mnist dataset\n",
    "        if (self.parameters[\"dataset\"] == \"fashion_mnist\"):\n",
    "            (self.x_train, self.y_train), (self.x_test,self.y_test) = fashion_mnist.load_data()\n",
    "        else:\n",
    "            (self.x_train, self.y_train), (self.x_test,self.y_test) = mnist.load_data()\n",
    "\n",
    "        # normalizing data points\n",
    "        self.x_train = self.x_train / 255\n",
    "        self.x_test = self.x_test / 255\n",
    "\n",
    "        # computing number of samples in training and test data\n",
    "        self.train_n_samples = self.x_train.shape[0]\n",
    "        self.test_n_samples = self.x_test.shape[0]\n",
    "\n",
    "        # spiltting the data -> 90% train,10% test \n",
    "        idx = np.random.permutation(self.train_n_samples)\n",
    "        self.x_train = self.x_train[idx]\n",
    "        self.y_train = self.y_train[idx]\n",
    "\n",
    "        self.x_validate = self.x_train[: self.train_n_samples // 10]\n",
    "        self.y_validate = self.y_train[: self.train_n_samples // 10]\n",
    "\n",
    "        self.x_train = self.x_train[self.train_n_samples // 10:]\n",
    "        self.y_train = self.y_train[self.train_n_samples // 10:]\n",
    "\n",
    "        self.train_n_samples = self.x_train.shape[0]\n",
    "\n",
    "        # list of label titles -> actual output\n",
    "        self.title = [\"T-shirt/top\", \"Trouser\", \"PullOver\", \"Dress\",\n",
    "                      \"Coat\", \"Sandal\", \"Shirt\", \"Sneaker\", \"Bag\", \"Ankle Boot\"]\n",
    "        self.no_of_label = len(self.title)\n",
    "\n",
    "        # setting the class variables\n",
    "        self.epoch = self.parameters[\"epochs\"]\n",
    "        self.batch_size = self.parameters[\"batch_size\"]\n",
    "        self.lossFunction = self.parameters[\"loss\"]\n",
    "        self.optimizer = self.parameters[\"optimizer\"]\n",
    "        self.learningRate = self.parameters[\"learning_rate\"]\n",
    "        self.weightInitialization = self.parameters[\"weight_init\"]\n",
    "        self.L = self.parameters[\"num_layers\"] + 1\n",
    "        self.hl = self.parameters[\"num_layers\"]\n",
    "        self.nnl = self.parameters[\"hidden_size\"]\n",
    "        self.activationFunction = self.parameters[\"activation\"]\n",
    "        self.outputFunction = self.parameters[\"output_function\"]\n",
    "        self.weight_decay = self.parameters[\"weight_decay\"]\n",
    "        \n",
    "        \n",
    "        \n",
    "        self.k = len(self.title)\n",
    "        self.d = self.x_train.shape[1] * self.x_train.shape[2]\n",
    "        self.n = self.train_n_samples\n",
    "        self.weights = {}\n",
    "        self.bias = {}\n",
    "        self.wHistory = {}\n",
    "        self.bHistory = {}\n",
    "        self.wMomentum = {}\n",
    "        self.bMomentum = {}\n",
    "        self.prev_wHistory = {}\n",
    "        self.prev_bHistory = {}\n",
    "        self.pre_activation = {}\n",
    "        self.post_activation = {}\n",
    "        \n",
    "    # updates the default parameters with the paramters given in command line\n",
    "    def update_parameters(self):\n",
    "\n",
    "        parser = argparse.ArgumentParser(description='DL Assignment 1 Parser')\n",
    "\n",
    "        parser.add_argument('-wp', '--wandb_project',\n",
    "                            type=str, metavar='', help='wandb project')\n",
    "        parser.add_argument('-we', '--wandb_entity', type=str,\n",
    "                            metavar='', help='wandb entity')\n",
    "        parser.add_argument('-d', '--dataset', type=str,\n",
    "                            metavar='', help='dataset')\n",
    "        parser.add_argument('-e', '--epochs', type=int,\n",
    "                            metavar='', help='epochs')\n",
    "        parser.add_argument('-b', '--batch_size', type=int,\n",
    "                            metavar='', help='batch size')\n",
    "        parser.add_argument('-l', '--loss', type=str, \n",
    "                            metavar='', help='loss')\n",
    "        parser.add_argument('-o', '--optimizer', type=str,\n",
    "                            metavar='', help='optimizer')\n",
    "        parser.add_argument('-lr', '--learning_rate',\n",
    "                            type=float, metavar='', help='learning rate')\n",
    "        parser.add_argument('-m', '--momentum', type=float,\n",
    "                            metavar='', help='momentum')\n",
    "        parser.add_argument('-beta', '--beta', type=float,\n",
    "                            metavar='', help='beta')\n",
    "        parser.add_argument('-beta1', '--beta1', type=float,\n",
    "                            metavar='', help='beta1')\n",
    "        parser.add_argument('-beta2', '--beta2', type=float,\n",
    "                            metavar='', help='beta2')\n",
    "        parser.add_argument('-eps', '--epsilon', type=float,\n",
    "                            metavar='', help='epsilon')\n",
    "        parser.add_argument('-w_d', '--weight_decay',\n",
    "                            type=float, metavar='', help='weight decay')\n",
    "        parser.add_argument('-w_i', '--weight_init', type=str,\n",
    "                            metavar='', help='weight init')\n",
    "        parser.add_argument('-nhl', '--num_layers', type=int,\n",
    "                            metavar='', help='num layers')\n",
    "        parser.add_argument('-sz', '--hidden_size', type=int,\n",
    "                            metavar='', help='hidden size')\n",
    "        parser.add_argument('-a', '--activation', type=str,\n",
    "                            metavar='', help='activation')\n",
    "        parser.add_argument('-of', '--output_function',\n",
    "                            type=str, metavar='', help='output function')\n",
    "        args = parser.parse_args()\n",
    "\n",
    "        if (args.wandb_project != None):\n",
    "            self.parameters[\"wandb_project\"] = args.wandb_project\n",
    "        if (args.wandb_entity != None):\n",
    "            self.parameters[\"wandb_entity\"] = args.wandb_entity\n",
    "        if (args.dataset != None):\n",
    "            self.parameters[\"dataset\"] = args.dataset\n",
    "        if (args.epochs != None):\n",
    "            self.parameters[\"epochs\"] = args.epochs\n",
    "        if (args.batch_size != None):\n",
    "            self.parameters[\"batch_size\"] = args.batch_size\n",
    "        if (args.loss != None):\n",
    "            self.parameters[\"loss\"] = args.loss\n",
    "        if (args.optimizer != None):\n",
    "            self.parameters[\"optimizer\"] = args.optimizer\n",
    "        if (args.learning_rate != None):\n",
    "            self.parameters[\"learning_rate\"] = args.learning_rate\n",
    "        if (args.momentum != None):\n",
    "            self.parameters[\"momentum\"] = args.momentum\n",
    "        if (args.beta != None):\n",
    "            self.parameters[\"beta\"] = args.beta\n",
    "        if (args.beta1 != None):\n",
    "            self.parameters[\"beta1\"] = args.beta1\n",
    "        if (args.beta2 != None):\n",
    "            self.parameters[\"beta2\"] = args.beta2\n",
    "        if (args.epsilon != None):\n",
    "            self.parameters[\"epsilon\"] = args.epsilon\n",
    "        if (args.weight_decay != None):\n",
    "            self.parameters[\"weight_decay\"] = args.weight_decay\n",
    "        if (args.weight_init != None):\n",
    "            self.parameters[\"weight_init\"] = args.weight_init\n",
    "        if (args.num_layers != None):\n",
    "            self.parameters[\"num_layers\"] = args.num_layers\n",
    "        if (args.hidden_size != None):\n",
    "            self.parameters[\"hidden_size\"] = args.hidden_size\n",
    "        if (args.activation != None):\n",
    "            self.parameters[\"activation\"] = args.activation\n",
    "\n",
    "    # function to initialize weights and bias based on type -> random or Xavier initialization\n",
    "    def weightsAndBiasInitializer(self):\n",
    "        if self.weightInitialization == \"Xavier\":\n",
    "\n",
    "            # first and last matrix \n",
    "            self.weights[\"w1\"] = np.random.uniform(-np.sqrt(6 / (self.nnl + self.d)), np.sqrt(6 / (self.nnl + self.d)), (self.nnl, self.d))\n",
    "            self.weights[\"w\" + str(self.L)] = np.random.uniform(-np.sqrt(6 / (self.k + self.nnl)),np.sqrt(6 / (self.k + self.nnl)), (self.k, self.nnl))\n",
    "\n",
    "            # Intermediate Matrices\n",
    "            for i in range(2, self.L):\n",
    "                self.weights[\"w\" + str(i)] = np.random.uniform(-np.sqrt(6 / (self.nnl + self.nnl)), np.sqrt(6 / (self.nnl + self.nnl)), (self.nnl, self.nnl))\n",
    "\n",
    "            # Last Vector\n",
    "            self.bias[\"b\" + str(self.L)] = np.random.uniform(-np.sqrt(6 / (self.k + 1)),np.sqrt(6 / (self.k + 1)), (self.k))\n",
    "\n",
    "            for i in range(1, self.L):\n",
    "                self.bias[\"b\" + str(i)] = np.random.uniform(-np.sqrt(6 / (self.nnl + 1)),np.sqrt(6 / (self.nnl + 1)), (self.nnl))\n",
    "\n",
    "        if self.weightInitialization == \"random\":\n",
    "            # initailzation of weights\n",
    "            '''\n",
    "                  W1 = (d,nnl)\n",
    "                  W2,..,W(L - 1) = (nnl,nnl)\n",
    "                  WL = (k,nnl)\n",
    "            '''\n",
    "            w1 = np.random.normal(0, 0.5, size=(self.nnl, self.d))\n",
    "            self.weights[\"w1\"] = w1\n",
    "            for i in range(2, self.L):\n",
    "                self.weights[\"w\" + str(i)] = np.random.normal(0,0.5, size=(self.nnl, self.nnl))\n",
    "            self.weights[\"w\" + str(self.L)] = np.random.normal(0,0.5, size=(self.k, self.nnl))\n",
    "\n",
    "            # initialization of bias\n",
    "            for i in range(1, self.L):\n",
    "                self.bias[\"b\" + str(i)] = np.random.normal(0,0.5, size=(self.nnl))\n",
    "            self.bias[\"b\" + str(self.L)] = np.random.normal(0,0.5, size=(self.k))\n",
    "\n",
    "    # function to initialize momentum for weights and bias\n",
    "    def momentumInitializer(self):\n",
    "\n",
    "        # initializing momentum for weights\n",
    "        w1 = np.zeros((self.nnl, self.d))\n",
    "        self.wMomentum[\"w1\"] = w1\n",
    "        for i in range(2, self.L):\n",
    "            self.wMomentum[\"w\" + str(i)] = np.zeros((self.nnl, self.nnl))\n",
    "        self.wMomentum[\"w\" + str(self.L)] = np.zeros((self.k, self.nnl))\n",
    "\n",
    "        # initializing momentum for bais\n",
    "        for i in range(1, self.L):\n",
    "            self.bMomentum[\"b\" + str(i)] = np.zeros((self.nnl))\n",
    "        self.bMomentum[\"b\" + str(self.L)] = np.zeros((self.k))\n",
    "\n",
    "    # function to initialize history for weights and bias\n",
    "    def historyInitializer(self):\n",
    "\n",
    "        # initializing history for weights\n",
    "        w1 = np.zeros((self.nnl, self.d))\n",
    "        self.wHistory[\"w1\"] = w1\n",
    "        for i in range(2, self.L):\n",
    "            self.wHistory[\"w\" + str(i)] = np.zeros((self.nnl, self.nnl))\n",
    "        self.wHistory[\"w\" + str(self.L)] = np.zeros((self.k, self.nnl))\n",
    "\n",
    "        # initializing history for bais\n",
    "        for i in range(1, self.L):\n",
    "            self.bHistory[\"b\" + str(i)] = np.zeros((self.nnl))\n",
    "        self.bHistory[\"b\" + str(self.L)] = np.zeros((self.k))\n",
    "\n",
    "    # function used to implement different activation functions\n",
    "    def activation_func(self, vector):\n",
    "        if self.activationFunction == \"sigmoid\":\n",
    "            return 1.0 / (1 + np.exp(-(vector)))\n",
    "        \n",
    "        if self.activationFunction == \"tanh\":\n",
    "            return np.tanh(vector)\n",
    "        \n",
    "        if self.activationFunction == \"ReLU\":\n",
    "            return np.maximum(0,vector)\n",
    "\n",
    "    # function used to implement different output functions\n",
    "    def output_func(self, vector):\n",
    "        if self.outputFunction == \"softmax\":\n",
    "\n",
    "            vector = vector - vector[np.argmax(vector)]\n",
    "\n",
    "            return np.exp(vector) / np.sum(np.exp(vector))\n",
    "\n",
    "    # function generating one-hot vector\n",
    "    def oneHotVector(self, size, index):\n",
    "        oneHot = np.zeros(size)\n",
    "        oneHot[index] = 1.0\n",
    "        return oneHot\n",
    "\n",
    "    # function returning the differentiation of activation function\n",
    "    def differentiation(self, vector):\n",
    "\n",
    "        if self.activationFunction == \"sigmoid\":\n",
    "            return (1.0 / (1 + np.exp(-(vector)))) * (1 - 1.0 / (1 + np.exp(-(vector))))\n",
    "\n",
    "        if self.activationFunction == \"tanh\":\n",
    "            return 1 - (np.tanh(vector)) ** 2\n",
    "\n",
    "        if self.activationFunction == \"ReLU\":\n",
    "            t = np.maximum(0,vector)\n",
    "            t[t > 0] = 1\n",
    "            return t\n",
    "\n",
    "    # regularization\n",
    "    def regularize(self):\n",
    "        reg_term = 0\n",
    "        validation_size = self.y_validate.shape[0]\n",
    "        \n",
    "        for (key,value) in self.weights.items():\n",
    "          reg_term += (np.sum(self.weights[key] ** 2))\n",
    "        reg_term = (self.weight_decay / (2 * validation_size)) * reg_term\n",
    "\n",
    "        return reg_term\n",
    "\n",
    "    # function returning the loss function value\n",
    "    def loss_function(self, y_predicted, index):\n",
    "\n",
    "        if self.lossFunction == \"cross_entropy\":\n",
    "            t = 1e-8\n",
    "            return (-1)*np.log(y_predicted[index] + t)\n",
    "\n",
    "        if self.lossFunction == \"mean_squared_error\":\n",
    "            y = self.oneHotVector(size=self.no_of_label, index=index)\n",
    "            return np.sum((y_predicted - y) ** 2)\n",
    "\n",
    "    # forward propagation - computes pre_activation vector,post_activation vector for each layer and predicts y at last layer\n",
    "    def forward_propagation(self, input, index):\n",
    "\n",
    "        # Populating pre_activation and post_activation vectors to dictionary in each layer for input[index]\n",
    "        for k in range(1, self.L):\n",
    "\n",
    "            # for first layer,post activation will be input\n",
    "            if (k == 1):\n",
    "                ''' flattening the input: \n",
    "                    -input(60000,28,28)\n",
    "                    -input[index] size = (28,28)\n",
    "                    -flattening input[index] gives size (784,1) = (d,1) where d is dimension of input\n",
    "                    post_activation[h0] size = (d,1)\n",
    "                    bias[b1] size = (nnl,1)\n",
    "                    weights[w1] size = (nnl,d)\n",
    "                    Therefore we get pre_activation[a1] size = (nnl,1) for all layer except last layer\n",
    "                '''\n",
    "                self.post_activation[\"h\" + str(k - 1)] = input[index].flatten()\n",
    "\n",
    "            # computing a(k) = b(k) + w(k)*h(k - 1) for each input[index]\n",
    "            self.pre_activation[\"a\" + str(k)] = self.bias[\"b\" + str(k)] + np.dot(self.weights[\"w\" + str(k)], self.post_activation[\"h\" + str(k - 1)])\n",
    "           \n",
    "            # computing h(k) = g(a(k)) where g is activation function\n",
    "            self.post_activation[\"h\" + str(k)] = self.activation_func(self.pre_activation[\"a\" + str(k)])\n",
    "\n",
    "        # computing pre_activation for last layer\n",
    "        self.pre_activation[\"a\" + str(self.L)] = self.bias[\"b\" + str(self.L)] + np.dot(self.weights[\"w\" + str(self.L)], self.post_activation[\"h\" + str(self.L - 1)])\n",
    "\n",
    "        # prediction y (y_hat) = O(a(L)) where O is output function\n",
    "        self.post_activation[\"h\" +str(self.L)] = self.output_func(self.pre_activation[\"a\" + str(self.L)])\n",
    "\n",
    "    # performs back propagation and returns gradients of weights and bias\n",
    "    def backward_propagation(self, index, actual_y):\n",
    "\n",
    "        grad_pre_activation = {}\n",
    "        grad_post_activation = {}\n",
    "        grad_weights = {}\n",
    "        grad_bias = {}\n",
    "\n",
    "        predicted_y = self.post_activation[\"h\" + str(self.L)]\n",
    "\n",
    "        # Computing output gradient\n",
    "        one_hot_vector = self.oneHotVector(self.no_of_label, actual_y[index])\n",
    "        if self.lossFunction == \"cross_entropy\" :\n",
    "          grad_pre_activation[\"a\" + str(self.L)] = (predicted_y - one_hot_vector)\n",
    "        else :\n",
    "          grad_pre_activation[\"a\" + str(self.L)] = -2 * (one_hot_vector - predicted_y) * (predicted_y * (np.ones(self.no_of_label) - predicted_y))\n",
    "       \n",
    "        \n",
    "        k = self.L\n",
    "        while k > 0:\n",
    "\n",
    "            # Computing gradient w.r.t parameters - weight and bais\n",
    "            '''\n",
    "              np.reshape(grad_pre_activation[\"a\" + str(L)],(-1,1)) = (k,1)\n",
    "              np.reshape(post_activation[\"h\" + str(L - 1)],(1,-1)) = (1,nnl)\n",
    "            '''\n",
    "            grad_weights[\"w\" + str(k)] = np.dot(np.reshape(grad_pre_activation[\"a\" + str(k)], (-1, 1)), np.reshape(self.post_activation[\"h\" + str(k - 1)], (1, -1)))\n",
    "            grad_bias[\"b\" + str(k)] = grad_pre_activation[\"a\" + str(k)]\n",
    "\n",
    "            if k != 1:\n",
    "                # Computing gradient w.r.t layer below (post_activation)\n",
    "                grad_post_activation[\"h\" + str(k - 1)] = np.dot(self.weights[\"w\" + str(k)].T, np.reshape(grad_pre_activation[\"a\" + str(k)], (-1, 1))).flatten()\n",
    "\n",
    "                # Computing gradient w.r.t layer below (pre_activation)\n",
    "                g_dash = self.differentiation(self.pre_activation[\"a\" + str(k - 1)])\n",
    "                grad_pre_activation[\"a\" +str(k - 1)] = grad_post_activation[\"h\" + str(k - 1)] * g_dash\n",
    "\n",
    "            k = k - 1\n",
    "        return grad_weights, grad_bias\n",
    "\n",
    "    # function to make accumalated gradients zero\n",
    "    def make_accumalate_zero(self):\n",
    "\n",
    "        acc_grad_weights = {}\n",
    "        acc_grad_bias = {}\n",
    "\n",
    "        # accumalated weights are set to zero\n",
    "        acc_grad_weights[\"w1\"] = np.zeros((self.nnl, self.d))\n",
    "        for i in range(2, self.L):\n",
    "            acc_grad_weights[\"w\" + str(i)] = np.zeros((self.nnl, self.nnl))\n",
    "        acc_grad_weights[\"w\" + str(self.L)] = np.zeros((self.k, self.nnl))\n",
    "\n",
    "        # accumalated bias are set to zero\n",
    "        for i in range(1, self.L):\n",
    "            acc_grad_bias[\"b\" + str(i)] = np.zeros((self.nnl))\n",
    "        acc_grad_bias[\"b\" + str(self.L)] = np.zeros((self.k))\n",
    "\n",
    "        return acc_grad_weights, acc_grad_bias\n",
    "\n",
    "    # runs stochastic gradient descent for one epoch\n",
    "    def oneEpochSGD(self, epoch):\n",
    "        ''' Executes A Single Epoch for Stochastic Gradient Descent Algorithm.\n",
    "            Returns the training loss,training accuracy,validaiton loss and validation accuracy,averaged over all points. '''\n",
    "        \n",
    "        n = self.train_n_samples\n",
    "        \n",
    "        # randomizing batches\n",
    "        idx = np.random.permutation(self.train_n_samples)\n",
    "        self.x_train = self.x_train[idx]\n",
    "        self.y_train = self.y_train[idx]\n",
    "\n",
    "        input = self.x_train\n",
    "        actual_y = self.y_train\n",
    "\n",
    "        # total Loss for epoch\n",
    "        loss_input = 0\n",
    "        count = 0\n",
    "\n",
    "        # execute one epoch for all datapoints in train set\n",
    "        for index in range(n):\n",
    "\n",
    "            # perform forward propagation\n",
    "            self.forward_propagation(input, index)\n",
    "            predicted_y = self.post_activation[\"h\" + str(self.L)]\n",
    "\n",
    "            # compute loss\n",
    "            loss_input += self.loss_function(predicted_y, actual_y[index])\n",
    "\n",
    "            # perform backward propagation\n",
    "            grad_weights, grad_bias = self.backward_propagation(index, actual_y)\n",
    "\n",
    "            # compute the number of datapoints which are correctly classified\n",
    "            indexWithMaxProb = np.argmax(predicted_y)\n",
    "            if (actual_y[index] == (indexWithMaxProb)):\n",
    "                count = count + 1\n",
    "\n",
    "            # update weights and bias if the number of datapoints in batch_size are divisble by batch_size\n",
    "            if ((index + 1) % self.batch_size == 0):\n",
    "                # update weights\n",
    "                for (key, value) in self.weights.items():\n",
    "                    self.weights[key] = self.weights[key] - ((self.learningRate / self.batch_size) * grad_weights[key])\n",
    "\n",
    "                # update bias\n",
    "                for (key, value) in self.bias.items():\n",
    "                    self.bias[key] = self.bias[key] - ((self.learningRate / self.batch_size) * grad_bias[key])\n",
    "\n",
    "        # if the number of datapoints in batch is not divisible by batch_size update weights and bias \n",
    "        if n % self.batch_size != 0:\n",
    "            # update weights\n",
    "            for (key, value) in self.weights.items():\n",
    "                self.weights[key] = self.weights[key] - ((self.learningRate / self.batch_size) * grad_weights[key])\n",
    "\n",
    "            # update bias\n",
    "            for (key, value) in self.bias.items():\n",
    "                self.bias[key] = self.bias[key] - ((self.learningRate / self.batch_size) * grad_bias[key])\n",
    "\n",
    "        # compute trainAccuracy,trainLoss averaged over train size\n",
    "        trainAccuracy = count / n\n",
    "        trainLoss = loss_input / n + self.regularize()\n",
    "\n",
    "        # compute validationAccuracy,validationLoss avergaed over test size \n",
    "        validationLoss, validationAccuracy = self.computeTestLossAndAccuracy()\n",
    "        \n",
    "        return trainLoss, trainAccuracy, validationLoss, validationAccuracy\n",
    "\n",
    "    # runs momentum gradient descent for one epoch\n",
    "    def oneEpochMOMENTUM(self, epoch):\n",
    "        ''' Executes A Single Epoch for Momentum Gradient Descent Algorithm.\n",
    "            Returns the training loss,training accuracy,validaiton loss and validation accuracy,averaged over all points. '''\n",
    "\n",
    "        n = self.train_n_samples\n",
    "        \n",
    "        # randomizing batches\n",
    "        idx = np.random.permutation(self.train_n_samples)\n",
    "        self.x_train = self.x_train[idx]\n",
    "        self.y_train = self.y_train[idx]\n",
    "\n",
    "        input = self.x_train\n",
    "        actual_y = self.y_train\n",
    "\n",
    "        # maintaining previous history for weights and bias\n",
    "        self.prev_wHistory, self.prev_bHistory = self.wHistory, self.bHistory\n",
    "\n",
    "        # Total Loss for epoch\n",
    "        loss_input = 0\n",
    "        count = 0  \n",
    "        beta = self.parameters[\"momentum\"]\n",
    "\n",
    "        # set accumalated gradients to zero\n",
    "        acc_grad_weights, acc_grad_bias = self.make_accumalate_zero()\n",
    "\n",
    "        # execute one epoch for all datapoints in train set\n",
    "        for index in range(n):\n",
    "\n",
    "            # perform forward propagation\n",
    "            self.forward_propagation(input, index)\n",
    "            predicted_y = self.post_activation[\"h\" + str(self.L)]\n",
    "\n",
    "            # compute loss\n",
    "            loss_input += self.loss_function(predicted_y, actual_y[index])\n",
    "\n",
    "            # perform backward propagation\n",
    "            grad_weights, grad_bias = self.backward_propagation(\n",
    "                index, actual_y)\n",
    "\n",
    "            # compute the number of datapoints which are correctly classified\n",
    "            indexWithMaxProb = np.argmax(predicted_y)\n",
    "            if (actual_y[index] == (indexWithMaxProb)):\n",
    "                count = count + 1\n",
    "\n",
    "            # accumulate grad_weights and grad_bais for each input\n",
    "            for (key, value) in grad_weights.items():\n",
    "                acc_grad_weights[key] = acc_grad_weights[key] + grad_weights[key]\n",
    "\n",
    "            for (key, value) in grad_bias.items():\n",
    "                acc_grad_bias[key] = acc_grad_bias[key] + grad_bias[key]\n",
    "\n",
    "\n",
    "            # update weights and bias if the number of datapoints in batch_size are divisble by batch_size\n",
    "            if ((index + 1) % self.batch_size == 0):\n",
    "\n",
    "                # update weight history\n",
    "                for (key, value) in self.wHistory.items():\n",
    "                    self.wHistory[key] = beta * self.prev_wHistory[key] + \\\n",
    "                        ((self.learningRate / self.batch_size) * acc_grad_weights[key])\n",
    "\n",
    "                # update bias history\n",
    "                for (key, value) in self.bHistory.items():\n",
    "                    self.bHistory[key] = beta * self.prev_bHistory[key] + \\\n",
    "                        ((self.learningRate / self.batch_size) * acc_grad_bias[key])\n",
    "\n",
    "                # update weights\n",
    "                for (key, value) in self.weights.items():\n",
    "                    self.weights[key] = self.weights[key] - self.wHistory[key]\n",
    "\n",
    "                # update bias\n",
    "                for (key, value) in self.bias.items():\n",
    "                    self.bias[key] = self.bias[key] - self.bHistory[key]\n",
    "\n",
    "                # updating histroy for weights and bias\n",
    "                self.prev_wHistory = self.wHistory\n",
    "                self.prev_bHistory = self.bHistory\n",
    "\n",
    "                # set accumalated gradients to zero\n",
    "                acc_grad_weights, acc_grad_bias = self.make_accumalate_zero()\n",
    "\n",
    "            # if the number of datapoints in batch is not divisible by batch_size update weights and bias \n",
    "        if n % self.batch_size != 0:\n",
    "            \n",
    "            # update weight history\n",
    "            for (key, value) in self.wHistory.items():\n",
    "                self.wHistory[key] = beta * self.prev_wHistory[key] + \\\n",
    "                    ((self.learningRate / self.batch_size) * acc_grad_weights[key])\n",
    "\n",
    "            # update bias history\n",
    "            for (key, value) in self.bHistory.items():\n",
    "                self.bHistory[key] = beta * self.prev_bHistory[key] + \\\n",
    "                    ((self.learningRate / self.batch_size) * acc_grad_bias[key])\n",
    "\n",
    "            # update weights\n",
    "            for (key, value) in self.weights.items():\n",
    "                self.weights[key] = self.weights[key] - self.wHistory[key]\n",
    "\n",
    "            # update bias\n",
    "            for (key, value) in self.bias.items():\n",
    "                self.bias[key] = self.bias[key] - self.bHistory[key]\n",
    "\n",
    "            # updating histroy for weights and bias\n",
    "            self.prev_wHistory = self.wHistory\n",
    "            self.prev_bHistory = self.bHistory\n",
    "\n",
    "            # set accumalated gradients to zero\n",
    "            acc_grad_weights, acc_grad_bias = self.make_accumalate_zero()\n",
    "\n",
    "        # compute trainAccuracy,trainLoss averaged over train size\n",
    "        trainAccuracy = count / n\n",
    "        trainLoss = loss_input / n + self.regularize()\n",
    "\n",
    "        # compute validationAccuracy,validationLoss averaged over test size \n",
    "        validationLoss, validationAccuracy = self.computeTestLossAndAccuracy()\n",
    "        \n",
    "        return trainLoss, trainAccuracy, validationLoss, validationAccuracy\n",
    "\n",
    "    # runs nestrov accelerated gradient descent for one epoch\n",
    "    def oneEpochNAG(self, epoch):\n",
    "        ''' Executes A Single Epoch for Nesterov Accelerated Gradient Descent Algorithm.\n",
    "            Returns the training loss,training accuracy,validaiton loss and validation accuracy,averaged over all points. '''\n",
    "        \n",
    "        n = self.train_n_samples\n",
    "        \n",
    "        # randomizing batches\n",
    "        idx = np.random.permutation(self.train_n_samples)\n",
    "        self.x_train = self.x_train[idx]\n",
    "        self.y_train = self.y_train[idx]\n",
    "\n",
    "        input = self.x_train\n",
    "        actual_y = self.y_train\n",
    "\n",
    "        # maintaining previous history for weights and bias\n",
    "        self.prev_wHistory, self.prev_bHistory = self.wHistory, self.bHistory\n",
    "        \n",
    "        # Total Loss for epoch\n",
    "        loss_input = 0\n",
    "        count = 0\n",
    "        beta = self.parameters[\"momentum\"]\n",
    "\n",
    "        # set accumalated gradients to zero\n",
    "        acc_grad_weights, acc_grad_bias = self.make_accumalate_zero()\n",
    "        \n",
    "        # computing partial values\n",
    "        self.partial_wHistory = {}\n",
    "        self.partial_bHistory = {}\n",
    "\n",
    "        for (key, value) in self.wHistory.items():\n",
    "            self.partial_wHistory[key] = beta * self.prev_wHistory[key]\n",
    "\n",
    "        for (key, value) in self.bHistory.items():\n",
    "            self.partial_bHistory[key] = beta * self.prev_bHistory[key]\n",
    "\n",
    "        # execute one epoch for all datapoints in train set\n",
    "        for index in range(n):\n",
    "\n",
    "            # perfrom forward propagation\n",
    "            self.forward_propagation(input, index)\n",
    "            predicted_y = self.post_activation[\"h\" + str(self.L)]\n",
    "\n",
    "            # storing weights and bias in temperory values\n",
    "            temp_weights = copy.deepcopy(self.weights)\n",
    "            temp_bias = copy.deepcopy(self.bias)\n",
    "\n",
    "            # update weights and bias\n",
    "            for (key, value) in self.weights.items():\n",
    "                self.weights[key] = self.weights[key] -  self.partial_wHistory[key]\n",
    "\n",
    "            for (key, value) in self.bias.items():\n",
    "                self.bias[key] = self.bias[key] - self.partial_bHistory[key]\n",
    "\n",
    "            # perform backward propagation\n",
    "            grad_weights, grad_bias = self.backward_propagation(index,actual_y)\n",
    "\n",
    "            # update weights and bias \n",
    "            self.weights = temp_weights\n",
    "            self.bias = temp_bias\n",
    "\n",
    "            # accumulate grad_weights and grad_bais for each input\n",
    "            for (key, value) in grad_weights.items():\n",
    "                acc_grad_weights[key] = acc_grad_weights[key] + grad_weights[key]\n",
    "\n",
    "            for (key, value) in grad_bias.items():\n",
    "                acc_grad_bias[key] = acc_grad_bias[key] + grad_bias[key]\n",
    "\n",
    "            # compute loss\n",
    "            loss_input += self.loss_function(predicted_y, self.y_train[index])\n",
    "\n",
    "            # compute the number of datapoints which are correctly classified\n",
    "            indexWithMaxProb = np.argmax(predicted_y)\n",
    "            if (actual_y[index] == (indexWithMaxProb)):\n",
    "                count = count + 1\n",
    "\n",
    "            # update weights and bias if the number of datapoints in batch_size are divisble by batch_size\n",
    "            if ((index + 1) % self.batch_size == 0):\n",
    "    \n",
    "                # update weight history\n",
    "                for (key, value) in self.wHistory.items():\n",
    "                    self.wHistory[key] = beta * self.prev_wHistory[key] + ((self.learningRate / self.batch_size) * acc_grad_weights[key])\n",
    "\n",
    "                # update bias history\n",
    "                for (key, value) in self.bHistory.items():\n",
    "                    self.bHistory[key] = beta * self.prev_bHistory[key] + ((self.learningRate / self.batch_size) * acc_grad_bias[key])\n",
    "\n",
    "                # update weights\n",
    "                for (key, value) in self.weights.items():\n",
    "                    self.weights[key] = self.weights[key] - self.wHistory[key]\n",
    "\n",
    "                for (key, value) in self.bias.items():\n",
    "                    self.bias[key] = self.bias[key] - self.bHistory[key]\n",
    "\n",
    "                # updating histroy for weights and bias\n",
    "                self.prev_wHistory = self.wHistory\n",
    "                self.prev_bHistory = self.bHistory\n",
    "                \n",
    "                # set accumalated gradients to zero\n",
    "                acc_grad_weights, acc_grad_bias = self.make_accumalate_zero()\n",
    "            \n",
    "        # if the number of datapoints in batch is not divisible by batch_size update weights and bias \n",
    "        if n % self.batch_size != 0:\n",
    "\n",
    "            # update weight history\n",
    "            for (key, value) in self.wHistory.items():\n",
    "                self.wHistory[key] = beta * self.prev_wHistory[key] + ((self.learningRate / self.batch_size) * acc_grad_weights[key])\n",
    "\n",
    "            # update bias history\n",
    "            for (key, value) in self.bHistory.items():\n",
    "                self.bHistory[key] = beta * self.prev_bHistory[key] + ((self.learningRate / self.batch_size) * acc_grad_bias[key])\n",
    "\n",
    "            # update weights\n",
    "            for (key, value) in self.weights.items():\n",
    "                self.weights[key] = self.weights[key] - self.wHistory[key]\n",
    "\n",
    "            for (key, value) in self.bias.items():\n",
    "                self.bias[key] = self.bias[key] - self.bHistory[key]\n",
    "\n",
    "            # updating histroy for weights and bias\n",
    "            self.prev_wHistory = self.wHistory\n",
    "            self.prev_bHistory = self.bHistory\n",
    "            \n",
    "            # set accumalated gradients to zero\n",
    "            acc_grad_weights, acc_grad_bias = self.make_accumalate_zero()\n",
    "                \n",
    "        # compute trainAccuracy,trainLoss averaged over train size\n",
    "        trainAccuracy = count / n\n",
    "        trainLoss = loss_input / n + self.regularize()\n",
    "\n",
    "        # compute validationAccuracy,validationLoss averaged over test size \n",
    "        validationLoss, validationAccuracy = self.computeTestLossAndAccuracy()\n",
    "        \n",
    "        return trainLoss, trainAccuracy, validationLoss, validationAccuracy\n",
    "\n",
    "    # runs RMSPROP for one epoch\n",
    "    def oneEpochRMSPROP(self,epoch):\n",
    "        ''' Executes A Single Epoch for RMSPROP Gradient Descent Algorithm.\n",
    "            Returns the training loss,training accuracy,validaiton loss and validation accuracy,averaged over all points. \n",
    "        '''\n",
    "        n = self.train_n_samples\n",
    "        \n",
    "        # randomizing batches\n",
    "        idx = np.random.permutation(self.train_n_samples)\n",
    "        self.x_train = self.x_train[idx]\n",
    "        self.y_train = self.y_train[idx]\n",
    "\n",
    "        input = self.x_train\n",
    "        actual_y = self.y_train\n",
    "\n",
    "\n",
    "        # maintaining previous history for weights and bias\n",
    "        prev_wHistory, prev_bHistory = self.wHistory, self.bHistory\n",
    "\n",
    "        # Total Loss for epoch\n",
    "        loss_input = 0\n",
    "        beta = self.parameters[\"beta\"]\n",
    "        eps = self.parameters[\"epsilon\"]\n",
    "        count = 0\n",
    "        \n",
    "        # set accumalated gradients to zero\n",
    "        acc_grad_weights, acc_grad_bias = self.make_accumalate_zero()\n",
    "\n",
    "        # execute one epoch for all datapoints in train set\n",
    "        for index in range(n):\n",
    "\n",
    "            # perfrom forward propagation\n",
    "            self.forward_propagation(input, index)\n",
    "            predicted_y = self.post_activation[\"h\" + str(self.L)]\n",
    "\n",
    "            # perform backward propagation\n",
    "            grad_weights, grad_bias = self.backward_propagation(index,actual_y)\n",
    "\n",
    "            # compute loss\n",
    "            loss_input += self.loss_function(predicted_y, self.y_train[index])\n",
    "\n",
    "            # compute the number of datapoints which are correctly classified\n",
    "            indexWithMaxProb = np.argmax(predicted_y)\n",
    "            if (actual_y[index] == (indexWithMaxProb)):\n",
    "                count = count + 1\n",
    "\n",
    "            # accumulate grad_weights and grad_bais for each input\n",
    "            for (key, value) in grad_weights.items():\n",
    "                acc_grad_weights[key] = acc_grad_weights[key] + grad_weights[key]\n",
    "\n",
    "            for (key, value) in grad_bias.items():\n",
    "                acc_grad_bias[key] = acc_grad_bias[key] + grad_bias[key]\n",
    "        \n",
    "\n",
    "            # update weights and bias if the number of datapoints in batch_size are divisble by batch_size\n",
    "            if ((index + 1) % self.batch_size == 0):\n",
    "    \n",
    "                # update weight history\n",
    "                for (key, value) in self.wHistory.items():\n",
    "                    self.wHistory[key] = beta * prev_wHistory[key] +  (1 - beta) * acc_grad_weights[key] ** 2\n",
    "\n",
    "                # update bias history\n",
    "                for (key, value) in self.bHistory.items():\n",
    "                    self.bHistory[key] = beta * prev_bHistory[key] + (1 - beta) * acc_grad_bias[key] ** 2\n",
    "\n",
    "                # update weights\n",
    "                for (key, value) in self.weights.items():\n",
    "                    self.weights[key] = self.weights[key] -  (self.learningRate / self.batch_size) * acc_grad_weights[key] / (np.sqrt(self.wHistory[key] + eps))\n",
    "\n",
    "                # update bias\n",
    "                for (key, value) in self.bias.items():\n",
    "                    self.bias[key] = self.bias[key] - (self.learningRate / self.batch_size) * acc_grad_bias[key] / (np.sqrt(self.bHistory[key] + eps))\n",
    "                \n",
    "                # updating histroy for weights and bias\n",
    "                self.prev_wHistory = self.wHistory\n",
    "                self.prev_bHistory = self.bHistory\n",
    "\n",
    "                # set accumalated gradients to zero\n",
    "                acc_grad_weights, acc_grad_bias = self.make_accumalate_zero()\n",
    "\n",
    "        # if the number of datapoints in batch is not divisible by batch_size update weights and bias \n",
    "        if n % self.batch_size != 0:\n",
    "            \n",
    "            # update weight history\n",
    "            for (key, value) in self.wHistory.items():\n",
    "                self.wHistory[key] = beta * prev_wHistory[key] +  (1 - beta) * acc_grad_weights[key] ** 2\n",
    "\n",
    "            # update bias history\n",
    "            for (key, value) in self.bHistory.items():\n",
    "                self.bHistory[key] = beta * prev_bHistory[key] + (1 - beta) * acc_grad_bias[key] ** 2\n",
    "\n",
    "            # update weights\n",
    "            for (key, value) in self.weights.items():\n",
    "                self.weights[key] = self.weights[key] -  (self.learningRate / self.batch_size) * acc_grad_weights[key] / (np.sqrt(self.wHistory[key] + eps))\n",
    "\n",
    "            # update bias\n",
    "            for (key, value) in self.bias.items():\n",
    "                self.bias[key] = self.bias[key] - (self.learningRate / self.batch_size) * acc_grad_bias[key] / (np.sqrt(self.bHistory[key] + eps))\n",
    "            \n",
    "            # updating histroy for weights and bias\n",
    "            self.prev_wHistory = self.wHistory\n",
    "            self.prev_bHistory = self.bHistory\n",
    "\n",
    "            # set accumalated gradients to zero\n",
    "            acc_grad_weights, acc_grad_bias = self.make_accumalate_zero()\n",
    "\n",
    "        # compute trainAccuracy,trainLoss averaged over train size\n",
    "        trainAccuracy = count / n\n",
    "        trainLoss = loss_input / n + self.regularize()\n",
    "\n",
    "        # compute validationAccuracy,validationLoss averaged over test size \n",
    "        validationLoss, validationAccuracy = self.computeTestLossAndAccuracy()\n",
    "        \n",
    "        return trainLoss, trainAccuracy, validationLoss, validationAccuracy\n",
    "\n",
    "    # runs ADAM gradient descent for one epoch\n",
    "    def oneEpochADAM(self,epoch):\n",
    "        ''' Executes A Single Epoch for ADAM Gradient Descent Algorithm.\n",
    "            Returns the training loss,training accuracy,validaiton loss and validation accuracy,averaged over all points. '''\n",
    "\n",
    "        n = self.train_n_samples\n",
    "        # randomizing batches\n",
    "        idx = np.random.permutation(self.train_n_samples)\n",
    "        self.x_train = self.x_train[idx]\n",
    "        self.y_train = self.y_train[idx]\n",
    "\n",
    "        input = self.x_train\n",
    "        actual_y = self.y_train\n",
    "\n",
    "        # maintaining previous history and momentum for weights and bias\n",
    "        prev_wMomentum, prev_bMomentum = self.wMomentum, self.bMomentum\n",
    "        prev_wHistory, prev_bHistory = self.wHistory, self.bHistory\n",
    "\n",
    "        wMomentum_hat = {} \n",
    "        bMomentum_hat = {}\n",
    "        wHistory_hat = {} \n",
    "        bHistory_hat = {}\n",
    "\n",
    "        # Total Loss for epoch\n",
    "        loss_input = 0\n",
    "        count = 0\n",
    "        beta1 = self.parameters[\"beta1\"]\n",
    "        beta2 = self.parameters[\"beta2\"]\n",
    "        epsilon = self.parameters[\"epsilon\"]\n",
    "        \n",
    "        # set accumalated gradients to zero\n",
    "        acc_grad_weights, acc_grad_bias = self.make_accumalate_zero()\n",
    "\n",
    "        # execute one epoch for all datapoints in train set\n",
    "        for index in range(n):\n",
    "\n",
    "            # perform forward propagation\n",
    "\n",
    "            self.forward_propagation(input, index)\n",
    "            predicted_y = self.post_activation[\"h\" + str(self.L)]\n",
    "\n",
    "            # perform backward propagation\n",
    "            grad_weights, grad_bias = self.backward_propagation(index,actual_y)\n",
    "\n",
    "            # compute loss\n",
    "            loss_input += self.loss_function(predicted_y, actual_y[index])\n",
    "\n",
    "            # compute the number of datapoints which are correctly classified\n",
    "            indexWithMaxProb = np.argmax(predicted_y)\n",
    "            if (actual_y[index] == (indexWithMaxProb)):\n",
    "                count = count + 1\n",
    "\n",
    "            # accumulate grad_weights and grad_bais for each input\n",
    "            for (key, value) in grad_weights.items():\n",
    "                acc_grad_weights[key] = acc_grad_weights[key] + grad_weights[key]\n",
    "\n",
    "            for (key, value) in grad_bias.items():\n",
    "                acc_grad_bias[key] = acc_grad_bias[key] + grad_bias[key]\n",
    "\n",
    "            # update weights and bias if the number of datapoints in batch_size are divisble by batch_size\n",
    "            if ((index + 1) % self.batch_size == 0):\n",
    "        \n",
    "                # update weight momentum\n",
    "                for (key, value) in self.wMomentum.items():\n",
    "                    self.wMomentum[key] = beta1*prev_wMomentum[key] +  (1 - beta1) * acc_grad_weights[key]\n",
    "\n",
    "                # update bias momentum\n",
    "                for (key, value) in self.bMomentum.items():\n",
    "                    self.bMomentum[key] = beta1*prev_bMomentum[key] + (1 - beta1) * acc_grad_bias[key]\n",
    "\n",
    "                # update weight history\n",
    "                for (key, value) in self.wHistory.items():\n",
    "                    self.wHistory[key] = beta2 * prev_wHistory[key] + (1 - beta2) * acc_grad_weights[key] ** 2\n",
    "\n",
    "                # update bias history\n",
    "                for (key, value) in self.bHistory.items():\n",
    "                    self.bHistory[key] = beta2 * prev_bHistory[key] + (1 - beta2) * acc_grad_bias[key] ** 2\n",
    "\n",
    "                \n",
    "                # compute intermediate values\n",
    "                for (key, value) in self.weights.items():\n",
    "                    wMomentum_hat[key] = self.wMomentum[key] / (1 - np.power(beta1, epoch + 1))\n",
    "\n",
    "                for (key, value) in self.bias.items():\n",
    "                    bMomentum_hat[key] = self.bMomentum[key] / (1 - np.power(beta1, epoch + 1))\n",
    "\n",
    "                for (key, value) in self.weights.items():\n",
    "                    wHistory_hat[key] = self.wHistory[key] / (1 - np.power(beta2, epoch + 1))\n",
    "\n",
    "                for (key, value) in self.bias.items():\n",
    "                    bHistory_hat[key] = self.bHistory[key] / (1 - np.power(beta2, epoch + 1))\n",
    "\n",
    "                # update weights\n",
    "                for (key, value) in self.weights.items():\n",
    "                    temp = (self.learningRate / self.batch_size) * wMomentum_hat[key] / (np.sqrt(wHistory_hat[key] + epsilon))\n",
    "                    self.weights[key] = self.weights[key] - temp\n",
    "                \n",
    "                # update bias\n",
    "                for (key, value) in self.bias.items():\n",
    "                    temp = (self.learningRate / self.batch_size) * bMomentum_hat[key] / (np.sqrt(bHistory_hat[key] + epsilon))\n",
    "                    self.bias[key] = self.bias[key] - temp\n",
    "\n",
    "                # set accumalated gradients to zero\n",
    "                acc_grad_weights, acc_grad_bias = self.make_accumalate_zero()\n",
    "            \n",
    "        # if the number of datapoints in batch is not divisible by batch_size update weights and bias \n",
    "        if n % self.batch_size != 0:\n",
    "            \n",
    "            # update weight momentum\n",
    "            for (key, value) in self.wMomentum.items():\n",
    "                self.wMomentum[key] = beta1*prev_wMomentum[key] +  (1 - beta1) * acc_grad_weights[key]\n",
    "\n",
    "            # update bias momentum\n",
    "            for (key, value) in self.bMomentum.items():\n",
    "                self.bMomentum[key] = beta1*prev_bMomentum[key] + (1 - beta1) * acc_grad_bias[key]\n",
    "\n",
    "            # update weight history\n",
    "            for (key, value) in self.wHistory.items():\n",
    "                self.wHistory[key] = beta2 * prev_wHistory[key] + (1 - beta2) * acc_grad_weights[key] ** 2\n",
    "\n",
    "            # update bias history\n",
    "            for (key, value) in self.bHistory.items():\n",
    "                self.bHistory[key] = beta2 * prev_bHistory[key] + (1 - beta2) * acc_grad_bias[key] ** 2\n",
    "\n",
    "            \n",
    "            # compute intermediate values\n",
    "            for (key, value) in self.weights.items():\n",
    "                wMomentum_hat[key] = self.wMomentum[key] / (1 - np.power(beta1, epoch + 1))\n",
    "\n",
    "            for (key, value) in self.bias.items():\n",
    "                bMomentum_hat[key] = self.bMomentum[key] / (1 - np.power(beta1, epoch + 1))\n",
    "\n",
    "            for (key, value) in self.weights.items():\n",
    "                wHistory_hat[key] = self.wHistory[key] / (1 - np.power(beta2, epoch + 1))\n",
    "\n",
    "            for (key, value) in self.bias.items():\n",
    "                bHistory_hat[key] = self.bHistory[key] / (1 - np.power(beta2, epoch + 1))\n",
    "\n",
    "            # update weights\n",
    "            for (key, value) in self.weights.items():\n",
    "                temp = (self.learningRate / self.batch_size) * wMomentum_hat[key] / (np.sqrt(wHistory_hat[key] + epsilon))\n",
    "                self.weights[key] = self.weights[key] - temp\n",
    "            \n",
    "            # update bias\n",
    "            for (key, value) in self.bias.items():\n",
    "                temp = (self.learningRate / self.batch_size) * bMomentum_hat[key] / (np.sqrt(bHistory_hat[key] + epsilon))\n",
    "                self.bias[key] = self.bias[key] - temp\n",
    "\n",
    "            # set accumalated gradients to zero\n",
    "            acc_grad_weights, acc_grad_bias = self.make_accumalate_zero()\n",
    "        \n",
    "        # compute trainAccuracy,trainLoss averaged over train size\n",
    "        trainAccuracy = count / n\n",
    "        trainLoss = loss_input / n + self.regularize()\n",
    "        \n",
    "        # compute validationAccuracy,validationLoss averaged over test size \n",
    "        validationLoss, validationAccuracy = self.computeTestLossAndAccuracy()\n",
    "        \n",
    "        return trainLoss, trainAccuracy, validationLoss, validationAccuracy\n",
    "\n",
    "    # runs NADAM gradient descent for one epoch\n",
    "    def oneEpochNADAM(self,epoch):\n",
    "        ''' Executes A Single Epoch for NADAM Gradient Descent Algorithm.\n",
    "            Returns the training loss,training accuracy,validaiton loss and validation accuracy,averaged over all points. '''\n",
    "\n",
    "        n = self.train_n_samples\n",
    "        \n",
    "        # randomizing batches\n",
    "        idx = np.random.permutation(self.train_n_samples)\n",
    "        self.x_train = self.x_train[idx]\n",
    "        self.y_train = self.y_train[idx]\n",
    "\n",
    "        input = self.x_train\n",
    "        actual_y = self.y_train\n",
    "\n",
    "        # maintaining previous history and momentum for weights and bias\n",
    "        prev_wMomentum, prev_bMomentum = self.wMomentum, self.bMomentum\n",
    "        prev_wHistory, prev_bHistory = self.wHistory, self.bHistory\n",
    "\n",
    "        wMomentum_hat = {} \n",
    "        bMomentum_hat = {}\n",
    "        wHistory_hat = {} \n",
    "        bHistory_hat = {}\n",
    "\n",
    "        # Total Loss for epoch\n",
    "        loss_input = 0\n",
    "        count = 0\n",
    "        beta1 = self.parameters[\"beta1\"]\n",
    "        beta2 = self.parameters[\"beta2\"]\n",
    "        epsilon = self.parameters[\"epsilon\"]\n",
    "\n",
    "\n",
    "        # set accumalated gradients to zero\n",
    "        acc_grad_weights, acc_grad_bias = self.make_accumalate_zero()\n",
    "\n",
    "        for index in range(n):\n",
    "\n",
    "            # perform forward propagation\n",
    "            self.forward_propagation(input, index)\n",
    "            predicted_y = self.post_activation[\"h\" + str(self.L)]\n",
    "\n",
    "            # perform backward propagation\n",
    "            grad_weights, grad_bias = self.backward_propagation(index,actual_y)\n",
    "\n",
    "            # compute loss\n",
    "            loss_input += self.loss_function(predicted_y, actual_y[index])\n",
    "\n",
    "            # compute the number of datapoints which are correctly classified\n",
    "            indexWithMaxProb = np.argmax(predicted_y)\n",
    "            if (actual_y[index] == (indexWithMaxProb)):\n",
    "                count = count + 1\n",
    "\n",
    "            # accumulate grad_weights and grad_bais for each input\n",
    "            for (key, value) in grad_weights.items():\n",
    "                acc_grad_weights[key] = acc_grad_weights[key] + grad_weights[key]\n",
    "\n",
    "            for (key, value) in grad_bias.items():\n",
    "                acc_grad_bias[key] = acc_grad_bias[key] + grad_bias[key]\n",
    "\n",
    "            # update weights and bias if the number of datapoints in batch_size are divisble by batch_size\n",
    "            if ((index + 1) % self.batch_size == 0):\n",
    "                \n",
    "                # update weight momentum\n",
    "                for (key, value) in self.wMomentum.items():\n",
    "                    self.wMomentum[key] = beta1*prev_wMomentum[key] + (1 - beta1) * acc_grad_weights[key]\n",
    "\n",
    "                # update bias momentum\n",
    "                for (key, value) in self.bMomentum.items():\n",
    "                    self.bMomentum[key] = beta1*prev_bMomentum[key] + (1 - beta1) * acc_grad_bias[key]\n",
    "\n",
    "                # update weight history\n",
    "                for (key, value) in self.wHistory.items():\n",
    "                    self.wHistory[key] = beta2 * prev_wHistory[key] + (1 - beta2) * acc_grad_weights[key] ** 2\n",
    "\n",
    "                # update bias history\n",
    "                for (key, value) in self.bHistory.items():\n",
    "                    self.bHistory[key] = beta2 * prev_bHistory[key] + (1 - beta2) * acc_grad_bias[key] ** 2\n",
    "\n",
    "\n",
    "                # compute intermediate values\n",
    "                for (key, value) in self.weights.items():\n",
    "                    wMomentum_hat[key] = self.wMomentum[key] / (1 - np.power(beta1, epoch + 1))\n",
    "                \n",
    "                for (key, value) in self.bias.items():\n",
    "                    bMomentum_hat[key] = self.bMomentum[key] / (1 - np.power(beta1, epoch + 1))\n",
    "\n",
    "                for (key, value) in self.weights.items():\n",
    "                    wHistory_hat[key] = self.wHistory[key] / (1 - np.power(beta2, epoch + 1))\n",
    "\n",
    "                for (key, value) in self.bias.items():\n",
    "                    bHistory_hat[key] = self.bHistory[key] / (1 - np.power(beta2, epoch + 1))\n",
    "\n",
    "                # update weights\n",
    "                for (key, value) in self.weights.items():\n",
    "                    num1 = ((self.learningRate / self.batch_size) / np.sqrt(wHistory_hat[key] + epsilon))\n",
    "                    num2 = beta1 * wMomentum_hat[key] + ((1 - beta1) * acc_grad_weights[key] / (1 - beta1 ** (epoch + 1)))\n",
    "                    self.weights[key] = self.weights[key] - num1*num2\n",
    "\n",
    "                # update bias\n",
    "                for (key, value) in self.bias.items():\n",
    "                    num1 = ((self.learningRate / self.batch_size) / np.sqrt(bHistory_hat[key] + epsilon))\n",
    "                    num2 = beta1 * bMomentum_hat[key] + ((1 - beta1) * acc_grad_bias[key] / (1 - beta1 ** (epoch + 1)))\n",
    "                    self.bias[key] = self.bias[key] - num1*num2\n",
    "\n",
    "                # set accumalated gradients to zero\n",
    "                acc_grad_weights, acc_grad_bias = self.make_accumalate_zero()\n",
    "            \n",
    "            # if the number of datapoints in batch is not divisible by batch_size update weights and bias \n",
    "        if n % self.batch_size != 0:\n",
    "            \n",
    "            # update weight momentum\n",
    "            for (key, value) in self.wMomentum.items():\n",
    "                self.wMomentum[key] = beta1*prev_wMomentum[key] + (1 - beta1) * acc_grad_weights[key]\n",
    "\n",
    "            # update bias momentum\n",
    "            for (key, value) in self.bMomentum.items():\n",
    "                self.bMomentum[key] = beta1*prev_bMomentum[key] + (1 - beta1) * acc_grad_bias[key]\n",
    "\n",
    "            # update weight history\n",
    "            for (key, value) in self.wHistory.items():\n",
    "                self.wHistory[key] = beta2 * prev_wHistory[key] + (1 - beta2) * acc_grad_weights[key] ** 2\n",
    "\n",
    "            # update bias history\n",
    "            for (key, value) in self.bHistory.items():\n",
    "                self.bHistory[key] = beta2 * prev_bHistory[key] + (1 - beta2) * acc_grad_bias[key] ** 2\n",
    "\n",
    "\n",
    "            # compute intermediate values\n",
    "            for (key, value) in self.weights.items():\n",
    "                wMomentum_hat[key] = self.wMomentum[key] / (1 - np.power(beta1, epoch + 1))\n",
    "            \n",
    "            for (key, value) in self.bias.items():\n",
    "                bMomentum_hat[key] = self.bMomentum[key] / (1 - np.power(beta1, epoch + 1))\n",
    "\n",
    "            for (key, value) in self.weights.items():\n",
    "                wHistory_hat[key] = self.wHistory[key] / (1 - np.power(beta2, epoch + 1))\n",
    "\n",
    "            for (key, value) in self.bias.items():\n",
    "                bHistory_hat[key] = self.bHistory[key] / (1 - np.power(beta2, epoch + 1))\n",
    "\n",
    "            # update weights\n",
    "            for (key, value) in self.weights.items():\n",
    "                num1 = ((self.learningRate / self.batch_size) / np.sqrt(wHistory_hat[key] + epsilon))\n",
    "                num2 = beta1 * wMomentum_hat[key] + ((1 - beta1) * acc_grad_weights[key] / (1 - beta1 ** (epoch + 1)))\n",
    "                self.weights[key] = self.weights[key] - num1*num2\n",
    "\n",
    "            # update bias\n",
    "            for (key, value) in self.bias.items():\n",
    "                num1 = ((self.learningRate / self.batch_size) / np.sqrt(bHistory_hat[key] + epsilon))\n",
    "                num2 = beta1 * bMomentum_hat[key] + ((1 - beta1) * acc_grad_bias[key] / (1 - beta1 ** (epoch + 1)))\n",
    "                self.bias[key] = self.bias[key] - num1*num2\n",
    "\n",
    "            # set accumalated gradients to zero\n",
    "            acc_grad_weights, acc_grad_bias = self.make_accumalate_zero()\n",
    "        \n",
    "                \n",
    "        # compute trainAccuracy,trainLoss averaged over train size\n",
    "        trainAccuracy = count / n\n",
    "        trainLoss = loss_input / n + self.regularize()\n",
    "        \n",
    "        # compute validationAccuracy,validationLoss averaged over test size \n",
    "        validationLoss, validationAccuracy = self.computeTestLossAndAccuracy()\n",
    "        return trainLoss, trainAccuracy, validationLoss, validationAccuracy\n",
    "\n",
    "    # runs gradient descent for one epoch\n",
    "    def oneEpochGD(self, epoch):\n",
    "        ''' Executes A Single Epoch for Vanilla Gradient Descent Algorithm.\n",
    "            Returns the training loss,training accuracy,validaiton loss and validation accuracy,averaged over all points. '''\n",
    "\n",
    "        n = self.train_n_samples\n",
    "        \n",
    "        # randomizing batches\n",
    "        idx = np.random.permutation(self.train_n_samples)\n",
    "        self.x_train = self.x_train[idx]\n",
    "        self.y_train = self.y_train[idx]\n",
    "\n",
    "        input = self.x_train\n",
    "        actual_y = self.y_train\n",
    "\n",
    "        # Total Loss for epoch\n",
    "        loss_input = 0\n",
    "        count = 0\n",
    "\n",
    "        # set accumalated gradients to zero\n",
    "        acc_grad_weights, acc_grad_bias = self.make_accumalate_zero()\n",
    "\n",
    "        # execute one epoch for all datapoints in train set\n",
    "        for index in range(n):\n",
    "\n",
    "            # perform forward propagation\n",
    "            self.forward_propagation(input, index)\n",
    "            predicted_y = self.post_activation[\"h\" + str(self.L)]\n",
    "\n",
    "            # compute loss\n",
    "            loss_input += self.loss_function(predicted_y, actual_y[index])\n",
    "\n",
    "            # perofrm backward propagation\n",
    "            grad_weights, grad_bias = self.backward_propagation(index, actual_y)\n",
    "\n",
    "            # compute the number of datapoints which are correctly classified\n",
    "            indexWithMaxProb = np.argmax(predicted_y)\n",
    "            if (actual_y[index] == (indexWithMaxProb)):\n",
    "                count = count + 1\n",
    "\n",
    "            # accumulate grad_weights and grad_bais for each input\n",
    "            for (key, value) in grad_weights.items():\n",
    "                acc_grad_weights[key] = acc_grad_weights[key] + \\\n",
    "                    grad_weights[key]\n",
    "\n",
    "            for (key, value) in grad_bias.items():\n",
    "                acc_grad_bias[key] = acc_grad_bias[key] + grad_bias[key]\n",
    "\n",
    "            # update weights and bias if the number of datapoints in batch_size are divisble by batch_size\n",
    "            if ((index + 1) % self.batch_size == 0):\n",
    "\n",
    "                # update weights\n",
    "                for (key, value) in self.weights.items():\n",
    "                    self.weights[key] = self.weights[key] - ((self.learningRate / self.batch_size) * acc_grad_weights[key])\n",
    "                \n",
    "                # update bias\n",
    "                for (key, value) in self.bias.items():\n",
    "                    self.bias[key] = self.bias[key] - ((self.learningRate / self.batch_size) * acc_grad_bias[key])\n",
    "\n",
    "                # set accumalated gradients to zero\n",
    "                acc_grad_weights, acc_grad_bias = self.make_accumalate_zero()\n",
    "\n",
    "        # if the number of datapoints in batch is not divisible by batch_size update weights and bias \n",
    "        if n % self.batch_size != 0:\n",
    "\n",
    "            # update weights\n",
    "            for (key, value) in self.weights.items():\n",
    "                self.weights[key] = self.weights[key] - ((self.learningRate / self.batch_size) * acc_grad_weights[key])\n",
    "            \n",
    "            # update bias\n",
    "            for (key, value) in self.bias.items():\n",
    "                self.bias[key] = self.bias[key] - ((self.learningRate / self.batch_size) * acc_grad_bias[key])\n",
    "\n",
    "            # set accumalated gradients to zero\n",
    "            acc_grad_weights, acc_grad_bias = self.make_accumalate_zero()\n",
    "\n",
    "        # compute trainAccuracy,trainLoss averaged over train size\n",
    "        trainAccuracy = count / n\n",
    "        trainLoss = loss_input / n + self.regularize()\n",
    "        \n",
    "        # compute validationAccuracy,validationLoss averaged over test size \n",
    "        validationLoss, validationAccuracy = self.computeTestLossAndAccuracy()\n",
    "        \n",
    "        return trainLoss, trainAccuracy, validationLoss, validationAccuracy\n",
    "\n",
    "    # executes a single epoch of the FeedForward NN according to the optimizer function. \n",
    "    def executeOneEpoch(self,epoch):\n",
    "        \n",
    "        if self.optimizer == \"sgd\":\n",
    "            return self.oneEpochSGD(epoch)\n",
    "\n",
    "        if self.optimizer == \"momentum\":\n",
    "            return self.oneEpochMOMENTUM(epoch)\n",
    "\n",
    "        if self.optimizer == \"nestrov\":\n",
    "            return self.oneEpochNAG(epoch)\n",
    "\n",
    "        if self.optimizer == \"rmsprop\":\n",
    "            return self.oneEpochRMSPROP(epoch)\n",
    "\n",
    "        if self.optimizer == \"adam\":\n",
    "            return self.oneEpochADAM(epoch)\n",
    "\n",
    "        if self.optimizer == \"nadam\":\n",
    "            return self.oneEpochNADAM(epoch)\n",
    "\n",
    "        if self.optimizer == \"gd\":\n",
    "            return self.oneEpochGD(epoch)\n",
    "\n",
    "    # computes validation loss and validation accuracy \n",
    "    def computeTestLossAndAccuracy(self):\n",
    "        \n",
    "        validation_size = self.y_validate.shape[0]\n",
    "        test_loss = 0\n",
    "        count = 0\n",
    "\n",
    "        input = self.x_validate\n",
    "        actual_y = self.y_validate\n",
    "\n",
    "        for index in range(0, validation_size):\n",
    "\n",
    "            # perform forward propagation\n",
    "            self.forward_propagation(input, index)\n",
    "            predicted_y = self.post_activation[\"h\" + str(self.L)]\n",
    "\n",
    "            # compute loss\n",
    "            test_loss += self.loss_function(predicted_y, actual_y[index])\n",
    "\n",
    "            # compute the number of datapoints which are correctly classified\n",
    "            indexWithMaxProb = np.argmax(predicted_y)\n",
    "            if (actual_y[index] == (indexWithMaxProb)):\n",
    "                count = count + 1\n",
    "\n",
    "        # compute validationAccuracy,validationLoss averaged over validation size \n",
    "        validationAccuracy = count / validation_size\n",
    "        validationLoss = test_loss / validation_size + self.regularize()\n",
    "        \n",
    "        return validationLoss, validationAccuracy\n",
    "\n",
    "    '''<----------------------------Question 1------------------------------------->'''\n",
    "    def question_1(self):\n",
    "\n",
    "        wandb.init(\n",
    "                # set the wandb project where this run will be logged\n",
    "                project = feed_forward.parameters[\"wandb_project\"],\n",
    "                # config = sweep_config\n",
    "        )\n",
    "\n",
    "        # dictionary of labels to be added\n",
    "        labels_added = {}\n",
    "\n",
    "        ''' \n",
    "        Running the loop for the number of training samples.\n",
    "        In each iteration,a random index is generated and we extract the feature and label at the generated index.\n",
    "        If the label is already in the labels_added dictionary,we ignore that label,else we add that (label,feature) \n",
    "        as (key,value) pair in dictionary (so that one label is considered only once).\n",
    "        '''\n",
    "        images = []\n",
    "        for i in range(self.train_n_samples):\n",
    "            index = random.randrange(self.train_n_samples)\n",
    "            feature = self. x_train[index]\n",
    "            label = self.y_train[index]\n",
    "            if (label in labels_added.keys()):\n",
    "                continue\n",
    "            labels_added[label] = feature\n",
    "            image = wandb.Image(\n",
    "                labels_added[label], caption=f\"{self.title[label]}\")\n",
    "            images.append(image)\n",
    "        wandb.log({\"Images\": images})\n",
    "    \n",
    "    '''<----------------------------Question 2------------------------>'''\n",
    "\n",
    "    def feed_forward_q2(self): \n",
    "        # initialization of weights\n",
    "        self.weightsAndBiasInitializer()\n",
    " \n",
    "        # train the data\n",
    "        for i in range(1, self.epoch + 1):\n",
    "            (train_Loss, train_Accuracy, validation_Loss,\n",
    "             validation_Accuracy) = self.executeOneEpoch(i)\n",
    "            \n",
    "        # generating the random index to test the model and finding the y for that\n",
    "        index = np.random.randint(self.y_validate.shape[0])\n",
    "        input = self.x_validate\n",
    "        self.forward_propagation(input, index)\n",
    "        predicted_y = self.post_activation[\"h\" + str(self.L)]\n",
    "        print(predicted_y)\n",
    "\n",
    "    '''<----------------------------Question 3-4------------------------------------->'''\n",
    "    def feed_forward_q3_4(self):\n",
    "        \n",
    "        self.weights = dict()\n",
    "        self.bias = dict()\n",
    "        self.wHistory = dict()\n",
    "        self.bHistory = dict()\n",
    "        self.wMomentum = dict()\n",
    "        self.bMomentum = dict()\n",
    "        \n",
    "        # initialization of weights and bias\n",
    "        self.weightsAndBiasInitializer()\n",
    "\n",
    "        # initializing history for weights and bias\n",
    "        self.historyInitializer()\n",
    "\n",
    "        # initializing momentum for weights and bias\n",
    "        self.momentumInitializer()\n",
    "\n",
    "        self.validation_Accuracy = 0\n",
    "\n",
    "\n",
    "        # run feedforward NN \n",
    "        for i in range(1, self.epoch + 1):\n",
    "              (train_Loss, train_Accuracy, validation_Loss,self.validation_Accuracy) = self.executeOneEpoch(i)\n",
    "              print(\"epoch:{epoch}, train loss:{train_l}, train accuracy:{train_ac}, validation loss:{validation_l}, validation accuracy:{validation_ac}\".\\\n",
    "                  format(epoch = i,train_l = train_Loss,train_ac = train_Accuracy,validation_l = validation_Loss,validation_ac = self.validation_Accuracy))\n",
    "            \n",
    "              wandb.log({'train loss':train_Loss, 'train accuracy':train_Accuracy,'validation loss':validation_Loss, 'validation accuracy':self.validation_Accuracy})\n",
    "            "
   ]
  },
  {
   "cell_type": "code",
   "execution_count": 2,
   "metadata": {
    "colab": {
     "base_uri": "https://localhost:8080/"
    },
    "id": "MxlBlgWiCWJR",
    "outputId": "2cf87a44-904f-497d-f1fd-f56fd64bf4b4"
   },
   "outputs": [],
   "source": [
    "feed_forward = FeedForward()\n"
   ]
  },
  {
   "cell_type": "code",
   "execution_count": 3,
   "metadata": {
    "colab": {
     "base_uri": "https://localhost:8080/",
     "height": 139
    },
    "id": "I1CcpV4d6z2c",
    "outputId": "d4da7efd-4c04-4201-edda-27779b0b6ce9"
   },
   "outputs": [
    {
     "name": "stdout",
     "output_type": "stream",
     "text": [
      "Create sweep with ID: hl8fpi30\n",
      "Sweep URL: https://wandb.ai/cs22m019/DL%20Final%20Assignment%201/sweeps/hl8fpi30\n"
     ]
    }
   ],
   "source": [
    "sweep_config = {\n",
    "\n",
    "        'method' : 'random', #grid ,random - generates exponential ways,bayesian  efficient way\n",
    "        'name' : 'random_sweep mse',\n",
    "        'metric' : {\n",
    "            'name' : 'validation accuracy',\n",
    "            'goal' : 'maximize'\n",
    "        },\n",
    "        'parameters':{\n",
    "                'epochs' : {\n",
    "                    'values' : [5,10]\n",
    "                },\n",
    "                'number_of_hidden_layer':{\n",
    "                    'values' : [3,4,5]\n",
    "                },\n",
    "                'size_of_hidden_layer' : {\n",
    "                    'values' :[32,64,128]\n",
    "                },\n",
    "                'weight_decay' : {\n",
    "                    'values' : [0,0.0005,0.5]\n",
    "                },\n",
    "                'learning_rate' : {\n",
    "                    'values' : [1e-3,1e-4]\n",
    "                },\n",
    "                'optimizer' : {\n",
    "                    'values' : ['sgd','momentum','nestrov','rmsprop','adam','nadam']\n",
    "                },\n",
    "                'batch_size' : {\n",
    "                        'values' : [16,32,64]\n",
    "                },\n",
    "                'weight_initialization' :{\n",
    "                    'values' : ['random','Xavier']\n",
    "                },\n",
    "                'activation' : {\n",
    "                    'values' : ['sigmoid','tanh','ReLU']\n",
    "                }\n",
    "        }\n",
    "}\n",
    "sweep_id = wandb.sweep(sweep = sweep_config,project= feed_forward.parameters[\"wandb_project\"])"
   ]
  },
  {
   "cell_type": "code",
   "execution_count": 4,
   "metadata": {
    "id": "whziGn3a62Pv"
   },
   "outputs": [],
   "source": [
    "def train():\n",
    "    wandb.init(\n",
    "                # set the wandb project where this run will be logged\n",
    "                # project = feed_forward.parameters[\"wandb_project\"],\n",
    "                config = sweep_config\n",
    "    )\n",
    "    \n",
    "    feed_forward.epoch = wandb.config.epochs\n",
    "    feed_forward.nnl = wandb.config.size_of_hidden_layer\n",
    "    feed_forward.weightDecay =  wandb.config.weight_decay\n",
    "    feed_forward.learningRate = wandb.config.learning_rate\n",
    "    feed_forward.optimizer = wandb.config.optimizer\n",
    "    feed_forward.batch_size = wandb.config.batch_size\n",
    "    feed_forward.weightInitialization = wandb.config.weight_initialization\n",
    "    feed_forward.activationFunction = wandb.config.activation\n",
    "    feed_forward.L = wandb.config.number_of_hidden_layer + 1\n",
    "    feed_forward.weight_decay = wandb.config.weight_decay\n",
    "\n",
    "\n",
    "    wandb.run.name = \"optimizer_\" + str(wandb.config.optimizer) +  \"_hl_\"+ str(wandb.config.number_of_hidden_layer) + \"_bs_\" + str(wandb.config.batch_size) + \"_ac_\" + str(wandb.config.activation)    \n",
    "    feed_forward.feed_forward_q3_4()"
   ]
  },
  {
   "cell_type": "code",
   "execution_count": null,
   "metadata": {
    "id": "bEush2kM64C9"
   },
   "outputs": [
    {
     "name": "stderr",
     "output_type": "stream",
     "text": [
      "\u001b[34m\u001b[1mwandb\u001b[0m: Agent Starting Run: bdrj5ovc with config:\n",
      "\u001b[34m\u001b[1mwandb\u001b[0m: \tactivation: sigmoid\n",
      "\u001b[34m\u001b[1mwandb\u001b[0m: \tbatch_size: 16\n",
      "\u001b[34m\u001b[1mwandb\u001b[0m: \tepochs: 5\n",
      "\u001b[34m\u001b[1mwandb\u001b[0m: \tlearning_rate: 0.001\n",
      "\u001b[34m\u001b[1mwandb\u001b[0m: \tnumber_of_hidden_layer: 4\n",
      "\u001b[34m\u001b[1mwandb\u001b[0m: \toptimizer: nestrov\n",
      "\u001b[34m\u001b[1mwandb\u001b[0m: \tsize_of_hidden_layer: 32\n",
      "\u001b[34m\u001b[1mwandb\u001b[0m: \tweight_decay: 0\n",
      "\u001b[34m\u001b[1mwandb\u001b[0m: \tweight_initialization: Xavier\n",
      "\u001b[34m\u001b[1mwandb\u001b[0m: Currently logged in as: \u001b[33mcs22m019\u001b[0m. Use \u001b[1m`wandb login --relogin`\u001b[0m to force relogin\n"
     ]
    },
    {
     "data": {
      "text/html": [
       "Tracking run with wandb version 0.13.11"
      ],
      "text/plain": [
       "<IPython.core.display.HTML object>"
      ]
     },
     "metadata": {},
     "output_type": "display_data"
    },
    {
     "data": {
      "text/html": [
       "Run data is saved locally in <code>C:\\Users\\DELL\\Desktop\\wandb\\run-20230311_003500-bdrj5ovc</code>"
      ],
      "text/plain": [
       "<IPython.core.display.HTML object>"
      ]
     },
     "metadata": {},
     "output_type": "display_data"
    },
    {
     "data": {
      "text/html": [
       "Syncing run <strong><a href='https://wandb.ai/cs22m019/DL%20Final%20Assignment%201/runs/bdrj5ovc' target=\"_blank\">major-sweep-1</a></strong> to <a href='https://wandb.ai/cs22m019/DL%20Final%20Assignment%201' target=\"_blank\">Weights & Biases</a> (<a href='https://wandb.me/run' target=\"_blank\">docs</a>)<br/>Sweep page: <a href='https://wandb.ai/cs22m019/DL%20Final%20Assignment%201/sweeps/hl8fpi30' target=\"_blank\">https://wandb.ai/cs22m019/DL%20Final%20Assignment%201/sweeps/hl8fpi30</a>"
      ],
      "text/plain": [
       "<IPython.core.display.HTML object>"
      ]
     },
     "metadata": {},
     "output_type": "display_data"
    },
    {
     "data": {
      "text/html": [
       " View project at <a href='https://wandb.ai/cs22m019/DL%20Final%20Assignment%201' target=\"_blank\">https://wandb.ai/cs22m019/DL%20Final%20Assignment%201</a>"
      ],
      "text/plain": [
       "<IPython.core.display.HTML object>"
      ]
     },
     "metadata": {},
     "output_type": "display_data"
    },
    {
     "data": {
      "text/html": [
       " View sweep at <a href='https://wandb.ai/cs22m019/DL%20Final%20Assignment%201/sweeps/hl8fpi30' target=\"_blank\">https://wandb.ai/cs22m019/DL%20Final%20Assignment%201/sweeps/hl8fpi30</a>"
      ],
      "text/plain": [
       "<IPython.core.display.HTML object>"
      ]
     },
     "metadata": {},
     "output_type": "display_data"
    },
    {
     "data": {
      "text/html": [
       " View run at <a href='https://wandb.ai/cs22m019/DL%20Final%20Assignment%201/runs/bdrj5ovc' target=\"_blank\">https://wandb.ai/cs22m019/DL%20Final%20Assignment%201/runs/bdrj5ovc</a>"
      ],
      "text/plain": [
       "<IPython.core.display.HTML object>"
      ]
     },
     "metadata": {},
     "output_type": "display_data"
    },
    {
     "name": "stdout",
     "output_type": "stream",
     "text": [
      "epoch:1, train loss:0.927165388652894, train accuracy:0.10031481481481481, validation loss:0.9161960841437223, validation accuracy:0.09983333333333333\n",
      "epoch:2, train loss:0.9124516756557705, train accuracy:0.10337037037037038, validation loss:0.9088522957948203, validation accuracy:0.09983333333333333\n",
      "epoch:3, train loss:0.9074925278220668, train accuracy:0.11040740740740741, validation loss:0.9057520745352943, validation accuracy:0.15483333333333332\n",
      "epoch:4, train loss:0.9051262502624003, train accuracy:0.11212962962962963, validation loss:0.9040933839838856, validation accuracy:0.10066666666666667\n",
      "epoch:5, train loss:0.9036505071742047, train accuracy:0.12496296296296296, validation loss:0.9028726372289254, validation accuracy:0.136\n"
     ]
    },
    {
     "data": {
      "text/html": [
       "Waiting for W&B process to finish... <strong style=\"color:green\">(success).</strong>"
      ],
      "text/plain": [
       "<IPython.core.display.HTML object>"
      ]
     },
     "metadata": {},
     "output_type": "display_data"
    },
    {
     "data": {
      "application/vnd.jupyter.widget-view+json": {
       "model_id": "dc255206853644e9816a32972c8fecc6",
       "version_major": 2,
       "version_minor": 0
      },
      "text/plain": [
       "VBox(children=(Label(value='0.001 MB of 0.001 MB uploaded (0.000 MB deduped)\\r'), FloatProgress(value=1.0, max…"
      ]
     },
     "metadata": {},
     "output_type": "display_data"
    },
    {
     "data": {
      "text/html": [
       "<style>\n",
       "    table.wandb td:nth-child(1) { padding: 0 10px; text-align: left ; width: auto;} td:nth-child(2) {text-align: left ; width: 100%}\n",
       "    .wandb-row { display: flex; flex-direction: row; flex-wrap: wrap; justify-content: flex-start; width: 100% }\n",
       "    .wandb-col { display: flex; flex-direction: column; flex-basis: 100%; flex: 1; padding: 10px; }\n",
       "    </style>\n",
       "<div class=\"wandb-row\"><div class=\"wandb-col\"><h3>Run history:</h3><br/><table class=\"wandb\"><tr><td>train accuracy</td><td>▁▂▄▄█</td></tr><tr><td>train loss</td><td>█▄▂▁▁</td></tr><tr><td>validation accuracy</td><td>▁▁█▁▆</td></tr><tr><td>validation loss</td><td>█▄▃▂▁</td></tr></table><br/></div><div class=\"wandb-col\"><h3>Run summary:</h3><br/><table class=\"wandb\"><tr><td>train accuracy</td><td>0.12496</td></tr><tr><td>train loss</td><td>0.90365</td></tr><tr><td>validation accuracy</td><td>0.136</td></tr><tr><td>validation loss</td><td>0.90287</td></tr></table><br/></div></div>"
      ],
      "text/plain": [
       "<IPython.core.display.HTML object>"
      ]
     },
     "metadata": {},
     "output_type": "display_data"
    },
    {
     "data": {
      "text/html": [
       " View run <strong style=\"color:#cdcd00\">major-sweep-1</strong> at: <a href='https://wandb.ai/cs22m019/DL%20Final%20Assignment%201/runs/bdrj5ovc' target=\"_blank\">https://wandb.ai/cs22m019/DL%20Final%20Assignment%201/runs/bdrj5ovc</a><br/>Synced 6 W&B file(s), 0 media file(s), 0 artifact file(s) and 0 other file(s)"
      ],
      "text/plain": [
       "<IPython.core.display.HTML object>"
      ]
     },
     "metadata": {},
     "output_type": "display_data"
    },
    {
     "data": {
      "text/html": [
       "Find logs at: <code>.\\wandb\\run-20230311_003500-bdrj5ovc\\logs</code>"
      ],
      "text/plain": [
       "<IPython.core.display.HTML object>"
      ]
     },
     "metadata": {},
     "output_type": "display_data"
    },
    {
     "name": "stderr",
     "output_type": "stream",
     "text": [
      "\u001b[34m\u001b[1mwandb\u001b[0m: Agent Starting Run: emcr40b3 with config:\n",
      "\u001b[34m\u001b[1mwandb\u001b[0m: \tactivation: tanh\n",
      "\u001b[34m\u001b[1mwandb\u001b[0m: \tbatch_size: 32\n",
      "\u001b[34m\u001b[1mwandb\u001b[0m: \tepochs: 10\n",
      "\u001b[34m\u001b[1mwandb\u001b[0m: \tlearning_rate: 0.0001\n",
      "\u001b[34m\u001b[1mwandb\u001b[0m: \tnumber_of_hidden_layer: 5\n",
      "\u001b[34m\u001b[1mwandb\u001b[0m: \toptimizer: adam\n",
      "\u001b[34m\u001b[1mwandb\u001b[0m: \tsize_of_hidden_layer: 64\n",
      "\u001b[34m\u001b[1mwandb\u001b[0m: \tweight_decay: 0\n",
      "\u001b[34m\u001b[1mwandb\u001b[0m: \tweight_initialization: Xavier\n"
     ]
    },
    {
     "data": {
      "text/html": [
       "Tracking run with wandb version 0.13.11"
      ],
      "text/plain": [
       "<IPython.core.display.HTML object>"
      ]
     },
     "metadata": {},
     "output_type": "display_data"
    },
    {
     "data": {
      "text/html": [
       "Run data is saved locally in <code>C:\\Users\\DELL\\Desktop\\wandb\\run-20230311_003632-emcr40b3</code>"
      ],
      "text/plain": [
       "<IPython.core.display.HTML object>"
      ]
     },
     "metadata": {},
     "output_type": "display_data"
    },
    {
     "data": {
      "text/html": [
       "Syncing run <strong><a href='https://wandb.ai/cs22m019/DL%20Final%20Assignment%201/runs/emcr40b3' target=\"_blank\">smart-sweep-2</a></strong> to <a href='https://wandb.ai/cs22m019/DL%20Final%20Assignment%201' target=\"_blank\">Weights & Biases</a> (<a href='https://wandb.me/run' target=\"_blank\">docs</a>)<br/>Sweep page: <a href='https://wandb.ai/cs22m019/DL%20Final%20Assignment%201/sweeps/hl8fpi30' target=\"_blank\">https://wandb.ai/cs22m019/DL%20Final%20Assignment%201/sweeps/hl8fpi30</a>"
      ],
      "text/plain": [
       "<IPython.core.display.HTML object>"
      ]
     },
     "metadata": {},
     "output_type": "display_data"
    },
    {
     "data": {
      "text/html": [
       " View project at <a href='https://wandb.ai/cs22m019/DL%20Final%20Assignment%201' target=\"_blank\">https://wandb.ai/cs22m019/DL%20Final%20Assignment%201</a>"
      ],
      "text/plain": [
       "<IPython.core.display.HTML object>"
      ]
     },
     "metadata": {},
     "output_type": "display_data"
    },
    {
     "data": {
      "text/html": [
       " View sweep at <a href='https://wandb.ai/cs22m019/DL%20Final%20Assignment%201/sweeps/hl8fpi30' target=\"_blank\">https://wandb.ai/cs22m019/DL%20Final%20Assignment%201/sweeps/hl8fpi30</a>"
      ],
      "text/plain": [
       "<IPython.core.display.HTML object>"
      ]
     },
     "metadata": {},
     "output_type": "display_data"
    },
    {
     "data": {
      "text/html": [
       " View run at <a href='https://wandb.ai/cs22m019/DL%20Final%20Assignment%201/runs/emcr40b3' target=\"_blank\">https://wandb.ai/cs22m019/DL%20Final%20Assignment%201/runs/emcr40b3</a>"
      ],
      "text/plain": [
       "<IPython.core.display.HTML object>"
      ]
     },
     "metadata": {},
     "output_type": "display_data"
    },
    {
     "name": "stdout",
     "output_type": "stream",
     "text": [
      "epoch:1, train loss:0.8216885556579229, train accuracy:0.3443703703703704, validation loss:0.7279213011246519, validation accuracy:0.48783333333333334\n",
      "epoch:2, train loss:0.6707726320160337, train accuracy:0.5514814814814815, validation loss:0.6140853886532305, validation accuracy:0.6071666666666666\n",
      "epoch:3, train loss:0.577303876778874, train accuracy:0.6468518518518519, validation loss:0.5354249577767946, validation accuracy:0.6731666666666667\n",
      "epoch:4, train loss:0.5094832336615671, train accuracy:0.6886666666666666, validation loss:0.47765335662142716, validation accuracy:0.7033333333333334\n",
      "epoch:5, train loss:0.45917963716616883, train accuracy:0.7144259259259259, validation loss:0.4348375755536872, validation accuracy:0.732\n",
      "epoch:6, train loss:0.42174869358847916, train accuracy:0.7370740740740741, validation loss:0.4032720700396119, validation accuracy:0.7531666666666667\n",
      "epoch:7, train loss:0.393227069619491, train accuracy:0.7524259259259259, validation loss:0.3787522558797738, validation accuracy:0.7673333333333333\n",
      "epoch:8, train loss:0.371006791113403, train accuracy:0.7628148148148148, validation loss:0.3598021523268585, validation accuracy:0.7726666666666666\n",
      "epoch:9, train loss:0.3534606558421907, train accuracy:0.7701481481481481, validation loss:0.34425581585774445, validation accuracy:0.7775\n",
      "epoch:10, train loss:0.3391056809724321, train accuracy:0.7766481481481482, validation loss:0.33178539949189984, validation accuracy:0.7825\n"
     ]
    },
    {
     "data": {
      "text/html": [
       "Waiting for W&B process to finish... <strong style=\"color:green\">(success).</strong>"
      ],
      "text/plain": [
       "<IPython.core.display.HTML object>"
      ]
     },
     "metadata": {},
     "output_type": "display_data"
    },
    {
     "data": {
      "application/vnd.jupyter.widget-view+json": {
       "model_id": "e5c74f2de3334513acc760d9aa651294",
       "version_major": 2,
       "version_minor": 0
      },
      "text/plain": [
       "VBox(children=(Label(value='0.001 MB of 0.024 MB uploaded (0.000 MB deduped)\\r'), FloatProgress(value=0.044564…"
      ]
     },
     "metadata": {},
     "output_type": "display_data"
    },
    {
     "data": {
      "text/html": [
       "<style>\n",
       "    table.wandb td:nth-child(1) { padding: 0 10px; text-align: left ; width: auto;} td:nth-child(2) {text-align: left ; width: 100%}\n",
       "    .wandb-row { display: flex; flex-direction: row; flex-wrap: wrap; justify-content: flex-start; width: 100% }\n",
       "    .wandb-col { display: flex; flex-direction: column; flex-basis: 100%; flex: 1; padding: 10px; }\n",
       "    </style>\n",
       "<div class=\"wandb-row\"><div class=\"wandb-col\"><h3>Run history:</h3><br/><table class=\"wandb\"><tr><td>train accuracy</td><td>▁▄▆▇▇▇████</td></tr><tr><td>train loss</td><td>█▆▄▃▃▂▂▁▁▁</td></tr><tr><td>validation accuracy</td><td>▁▄▅▆▇▇████</td></tr><tr><td>validation loss</td><td>█▆▅▄▃▂▂▁▁▁</td></tr></table><br/></div><div class=\"wandb-col\"><h3>Run summary:</h3><br/><table class=\"wandb\"><tr><td>train accuracy</td><td>0.77665</td></tr><tr><td>train loss</td><td>0.33911</td></tr><tr><td>validation accuracy</td><td>0.7825</td></tr><tr><td>validation loss</td><td>0.33179</td></tr></table><br/></div></div>"
      ],
      "text/plain": [
       "<IPython.core.display.HTML object>"
      ]
     },
     "metadata": {},
     "output_type": "display_data"
    },
    {
     "data": {
      "text/html": [
       " View run <strong style=\"color:#cdcd00\">smart-sweep-2</strong> at: <a href='https://wandb.ai/cs22m019/DL%20Final%20Assignment%201/runs/emcr40b3' target=\"_blank\">https://wandb.ai/cs22m019/DL%20Final%20Assignment%201/runs/emcr40b3</a><br/>Synced 6 W&B file(s), 0 media file(s), 0 artifact file(s) and 0 other file(s)"
      ],
      "text/plain": [
       "<IPython.core.display.HTML object>"
      ]
     },
     "metadata": {},
     "output_type": "display_data"
    },
    {
     "data": {
      "text/html": [
       "Find logs at: <code>.\\wandb\\run-20230311_003632-emcr40b3\\logs</code>"
      ],
      "text/plain": [
       "<IPython.core.display.HTML object>"
      ]
     },
     "metadata": {},
     "output_type": "display_data"
    },
    {
     "name": "stderr",
     "output_type": "stream",
     "text": [
      "\u001b[34m\u001b[1mwandb\u001b[0m: Agent Starting Run: 5mf6blwr with config:\n",
      "\u001b[34m\u001b[1mwandb\u001b[0m: \tactivation: tanh\n",
      "\u001b[34m\u001b[1mwandb\u001b[0m: \tbatch_size: 16\n",
      "\u001b[34m\u001b[1mwandb\u001b[0m: \tepochs: 10\n",
      "\u001b[34m\u001b[1mwandb\u001b[0m: \tlearning_rate: 0.001\n",
      "\u001b[34m\u001b[1mwandb\u001b[0m: \tnumber_of_hidden_layer: 4\n",
      "\u001b[34m\u001b[1mwandb\u001b[0m: \toptimizer: sgd\n",
      "\u001b[34m\u001b[1mwandb\u001b[0m: \tsize_of_hidden_layer: 64\n",
      "\u001b[34m\u001b[1mwandb\u001b[0m: \tweight_decay: 0\n",
      "\u001b[34m\u001b[1mwandb\u001b[0m: \tweight_initialization: Xavier\n"
     ]
    },
    {
     "data": {
      "text/html": [
       "Tracking run with wandb version 0.13.11"
      ],
      "text/plain": [
       "<IPython.core.display.HTML object>"
      ]
     },
     "metadata": {},
     "output_type": "display_data"
    },
    {
     "data": {
      "text/html": [
       "Run data is saved locally in <code>C:\\Users\\DELL\\Desktop\\wandb\\run-20230311_003913-5mf6blwr</code>"
      ],
      "text/plain": [
       "<IPython.core.display.HTML object>"
      ]
     },
     "metadata": {},
     "output_type": "display_data"
    },
    {
     "data": {
      "text/html": [
       "Syncing run <strong><a href='https://wandb.ai/cs22m019/DL%20Final%20Assignment%201/runs/5mf6blwr' target=\"_blank\">swept-sweep-3</a></strong> to <a href='https://wandb.ai/cs22m019/DL%20Final%20Assignment%201' target=\"_blank\">Weights & Biases</a> (<a href='https://wandb.me/run' target=\"_blank\">docs</a>)<br/>Sweep page: <a href='https://wandb.ai/cs22m019/DL%20Final%20Assignment%201/sweeps/hl8fpi30' target=\"_blank\">https://wandb.ai/cs22m019/DL%20Final%20Assignment%201/sweeps/hl8fpi30</a>"
      ],
      "text/plain": [
       "<IPython.core.display.HTML object>"
      ]
     },
     "metadata": {},
     "output_type": "display_data"
    },
    {
     "data": {
      "text/html": [
       " View project at <a href='https://wandb.ai/cs22m019/DL%20Final%20Assignment%201' target=\"_blank\">https://wandb.ai/cs22m019/DL%20Final%20Assignment%201</a>"
      ],
      "text/plain": [
       "<IPython.core.display.HTML object>"
      ]
     },
     "metadata": {},
     "output_type": "display_data"
    },
    {
     "data": {
      "text/html": [
       " View sweep at <a href='https://wandb.ai/cs22m019/DL%20Final%20Assignment%201/sweeps/hl8fpi30' target=\"_blank\">https://wandb.ai/cs22m019/DL%20Final%20Assignment%201/sweeps/hl8fpi30</a>"
      ],
      "text/plain": [
       "<IPython.core.display.HTML object>"
      ]
     },
     "metadata": {},
     "output_type": "display_data"
    },
    {
     "data": {
      "text/html": [
       " View run at <a href='https://wandb.ai/cs22m019/DL%20Final%20Assignment%201/runs/5mf6blwr' target=\"_blank\">https://wandb.ai/cs22m019/DL%20Final%20Assignment%201/runs/5mf6blwr</a>"
      ],
      "text/plain": [
       "<IPython.core.display.HTML object>"
      ]
     },
     "metadata": {},
     "output_type": "display_data"
    },
    {
     "name": "stdout",
     "output_type": "stream",
     "text": [
      "epoch:1, train loss:0.9223107264331781, train accuracy:0.12498148148148149, validation loss:0.8984687673988595, validation accuracy:0.22316666666666668\n",
      "epoch:2, train loss:0.8887727364263928, train accuracy:0.27, validation loss:0.8767225933678542, validation accuracy:0.30616666666666664\n",
      "epoch:3, train loss:0.8696824819267702, train accuracy:0.3296296296296296, validation loss:0.8586524738996959, validation accuracy:0.3615\n",
      "epoch:4, train loss:0.8523603864154659, train accuracy:0.37394444444444447, validation loss:0.8407899642392606, validation accuracy:0.39166666666666666\n",
      "epoch:5, train loss:0.8354599506081863, train accuracy:0.3923888888888889, validation loss:0.8240267902893564, validation accuracy:0.4026666666666667\n",
      "epoch:6, train loss:0.8191322267801787, train accuracy:0.40475925925925926, validation loss:0.8076264530942546, validation accuracy:0.4103333333333333\n",
      "epoch:7, train loss:0.8026410007537645, train accuracy:0.4114814814814815, validation loss:0.790741336151209, validation accuracy:0.4171666666666667\n",
      "epoch:8, train loss:0.7870603686422628, train accuracy:0.4180185185185185, validation loss:0.775535335374707, validation accuracy:0.4251666666666667\n",
      "epoch:9, train loss:0.7728452623660348, train accuracy:0.4246666666666667, validation loss:0.7610405740282413, validation accuracy:0.43066666666666664\n",
      "epoch:10, train loss:0.7589483176973831, train accuracy:0.4292962962962963, validation loss:0.747528477644139, validation accuracy:0.43916666666666665\n"
     ]
    },
    {
     "data": {
      "text/html": [
       "Waiting for W&B process to finish... <strong style=\"color:green\">(success).</strong>"
      ],
      "text/plain": [
       "<IPython.core.display.HTML object>"
      ]
     },
     "metadata": {},
     "output_type": "display_data"
    },
    {
     "data": {
      "application/vnd.jupyter.widget-view+json": {
       "model_id": "88dc303269b14b2da217cd8da07afd49",
       "version_major": 2,
       "version_minor": 0
      },
      "text/plain": [
       "VBox(children=(Label(value='0.001 MB of 0.001 MB uploaded (0.000 MB deduped)\\r'), FloatProgress(value=1.0, max…"
      ]
     },
     "metadata": {},
     "output_type": "display_data"
    },
    {
     "data": {
      "text/html": [
       "<style>\n",
       "    table.wandb td:nth-child(1) { padding: 0 10px; text-align: left ; width: auto;} td:nth-child(2) {text-align: left ; width: 100%}\n",
       "    .wandb-row { display: flex; flex-direction: row; flex-wrap: wrap; justify-content: flex-start; width: 100% }\n",
       "    .wandb-col { display: flex; flex-direction: column; flex-basis: 100%; flex: 1; padding: 10px; }\n",
       "    </style>\n",
       "<div class=\"wandb-row\"><div class=\"wandb-col\"><h3>Run history:</h3><br/><table class=\"wandb\"><tr><td>train accuracy</td><td>▁▄▆▇▇▇████</td></tr><tr><td>train loss</td><td>█▇▆▅▄▄▃▂▂▁</td></tr><tr><td>validation accuracy</td><td>▁▄▅▆▇▇▇███</td></tr><tr><td>validation loss</td><td>█▇▆▅▅▄▃▂▂▁</td></tr></table><br/></div><div class=\"wandb-col\"><h3>Run summary:</h3><br/><table class=\"wandb\"><tr><td>train accuracy</td><td>0.4293</td></tr><tr><td>train loss</td><td>0.75895</td></tr><tr><td>validation accuracy</td><td>0.43917</td></tr><tr><td>validation loss</td><td>0.74753</td></tr></table><br/></div></div>"
      ],
      "text/plain": [
       "<IPython.core.display.HTML object>"
      ]
     },
     "metadata": {},
     "output_type": "display_data"
    },
    {
     "data": {
      "text/html": [
       " View run <strong style=\"color:#cdcd00\">swept-sweep-3</strong> at: <a href='https://wandb.ai/cs22m019/DL%20Final%20Assignment%201/runs/5mf6blwr' target=\"_blank\">https://wandb.ai/cs22m019/DL%20Final%20Assignment%201/runs/5mf6blwr</a><br/>Synced 6 W&B file(s), 0 media file(s), 0 artifact file(s) and 0 other file(s)"
      ],
      "text/plain": [
       "<IPython.core.display.HTML object>"
      ]
     },
     "metadata": {},
     "output_type": "display_data"
    },
    {
     "data": {
      "text/html": [
       "Find logs at: <code>.\\wandb\\run-20230311_003913-5mf6blwr\\logs</code>"
      ],
      "text/plain": [
       "<IPython.core.display.HTML object>"
      ]
     },
     "metadata": {},
     "output_type": "display_data"
    },
    {
     "name": "stderr",
     "output_type": "stream",
     "text": [
      "\u001b[34m\u001b[1mwandb\u001b[0m: Sweep Agent: Waiting for job.\n",
      "\u001b[34m\u001b[1mwandb\u001b[0m: Job received.\n",
      "\u001b[34m\u001b[1mwandb\u001b[0m: Agent Starting Run: f6l8dzih with config:\n",
      "\u001b[34m\u001b[1mwandb\u001b[0m: \tactivation: ReLU\n",
      "\u001b[34m\u001b[1mwandb\u001b[0m: \tbatch_size: 64\n",
      "\u001b[34m\u001b[1mwandb\u001b[0m: \tepochs: 5\n",
      "\u001b[34m\u001b[1mwandb\u001b[0m: \tlearning_rate: 0.001\n",
      "\u001b[34m\u001b[1mwandb\u001b[0m: \tnumber_of_hidden_layer: 3\n",
      "\u001b[34m\u001b[1mwandb\u001b[0m: \toptimizer: nestrov\n",
      "\u001b[34m\u001b[1mwandb\u001b[0m: \tsize_of_hidden_layer: 128\n",
      "\u001b[34m\u001b[1mwandb\u001b[0m: \tweight_decay: 0\n",
      "\u001b[34m\u001b[1mwandb\u001b[0m: \tweight_initialization: Xavier\n"
     ]
    },
    {
     "data": {
      "text/html": [
       "Tracking run with wandb version 0.13.11"
      ],
      "text/plain": [
       "<IPython.core.display.HTML object>"
      ]
     },
     "metadata": {},
     "output_type": "display_data"
    },
    {
     "data": {
      "text/html": [
       "Run data is saved locally in <code>C:\\Users\\DELL\\Desktop\\wandb\\run-20230311_004121-f6l8dzih</code>"
      ],
      "text/plain": [
       "<IPython.core.display.HTML object>"
      ]
     },
     "metadata": {},
     "output_type": "display_data"
    },
    {
     "data": {
      "text/html": [
       "Syncing run <strong><a href='https://wandb.ai/cs22m019/DL%20Final%20Assignment%201/runs/f6l8dzih' target=\"_blank\">swept-sweep-4</a></strong> to <a href='https://wandb.ai/cs22m019/DL%20Final%20Assignment%201' target=\"_blank\">Weights & Biases</a> (<a href='https://wandb.me/run' target=\"_blank\">docs</a>)<br/>Sweep page: <a href='https://wandb.ai/cs22m019/DL%20Final%20Assignment%201/sweeps/hl8fpi30' target=\"_blank\">https://wandb.ai/cs22m019/DL%20Final%20Assignment%201/sweeps/hl8fpi30</a>"
      ],
      "text/plain": [
       "<IPython.core.display.HTML object>"
      ]
     },
     "metadata": {},
     "output_type": "display_data"
    },
    {
     "data": {
      "text/html": [
       " View project at <a href='https://wandb.ai/cs22m019/DL%20Final%20Assignment%201' target=\"_blank\">https://wandb.ai/cs22m019/DL%20Final%20Assignment%201</a>"
      ],
      "text/plain": [
       "<IPython.core.display.HTML object>"
      ]
     },
     "metadata": {},
     "output_type": "display_data"
    },
    {
     "data": {
      "text/html": [
       " View sweep at <a href='https://wandb.ai/cs22m019/DL%20Final%20Assignment%201/sweeps/hl8fpi30' target=\"_blank\">https://wandb.ai/cs22m019/DL%20Final%20Assignment%201/sweeps/hl8fpi30</a>"
      ],
      "text/plain": [
       "<IPython.core.display.HTML object>"
      ]
     },
     "metadata": {},
     "output_type": "display_data"
    },
    {
     "data": {
      "text/html": [
       " View run at <a href='https://wandb.ai/cs22m019/DL%20Final%20Assignment%201/runs/f6l8dzih' target=\"_blank\">https://wandb.ai/cs22m019/DL%20Final%20Assignment%201/runs/f6l8dzih</a>"
      ],
      "text/plain": [
       "<IPython.core.display.HTML object>"
      ]
     },
     "metadata": {},
     "output_type": "display_data"
    },
    {
     "name": "stdout",
     "output_type": "stream",
     "text": [
      "epoch:1, train loss:0.8884474081689535, train accuracy:0.17062962962962963, validation loss:0.8690245344039136, validation accuracy:0.25666666666666665\n",
      "epoch:2, train loss:0.8493495029142814, train accuracy:0.35338888888888886, validation loss:0.8260585143878161, validation accuracy:0.4315\n",
      "epoch:3, train loss:0.8036016012751955, train accuracy:0.44075925925925924, validation loss:0.7759168017367223, validation accuracy:0.4648333333333333\n",
      "epoch:4, train loss:0.7522206991257886, train accuracy:0.4675, validation loss:0.7208248852769034, validation accuracy:0.5\n",
      "epoch:5, train loss:0.6970058574792343, train accuracy:0.5115, validation loss:0.6644181753901652, validation accuracy:0.5423333333333333\n"
     ]
    },
    {
     "data": {
      "text/html": [
       "Waiting for W&B process to finish... <strong style=\"color:green\">(success).</strong>"
      ],
      "text/plain": [
       "<IPython.core.display.HTML object>"
      ]
     },
     "metadata": {},
     "output_type": "display_data"
    },
    {
     "data": {
      "text/html": [
       "<style>\n",
       "    table.wandb td:nth-child(1) { padding: 0 10px; text-align: left ; width: auto;} td:nth-child(2) {text-align: left ; width: 100%}\n",
       "    .wandb-row { display: flex; flex-direction: row; flex-wrap: wrap; justify-content: flex-start; width: 100% }\n",
       "    .wandb-col { display: flex; flex-direction: column; flex-basis: 100%; flex: 1; padding: 10px; }\n",
       "    </style>\n",
       "<div class=\"wandb-row\"><div class=\"wandb-col\"><h3>Run history:</h3><br/><table class=\"wandb\"><tr><td>train accuracy</td><td>▁▅▇▇█</td></tr><tr><td>train loss</td><td>█▇▅▃▁</td></tr><tr><td>validation accuracy</td><td>▁▅▆▇█</td></tr><tr><td>validation loss</td><td>█▇▅▃▁</td></tr></table><br/></div><div class=\"wandb-col\"><h3>Run summary:</h3><br/><table class=\"wandb\"><tr><td>train accuracy</td><td>0.5115</td></tr><tr><td>train loss</td><td>0.69701</td></tr><tr><td>validation accuracy</td><td>0.54233</td></tr><tr><td>validation loss</td><td>0.66442</td></tr></table><br/></div></div>"
      ],
      "text/plain": [
       "<IPython.core.display.HTML object>"
      ]
     },
     "metadata": {},
     "output_type": "display_data"
    },
    {
     "data": {
      "text/html": [
       " View run <strong style=\"color:#cdcd00\">swept-sweep-4</strong> at: <a href='https://wandb.ai/cs22m019/DL%20Final%20Assignment%201/runs/f6l8dzih' target=\"_blank\">https://wandb.ai/cs22m019/DL%20Final%20Assignment%201/runs/f6l8dzih</a><br/>Synced 6 W&B file(s), 0 media file(s), 0 artifact file(s) and 0 other file(s)"
      ],
      "text/plain": [
       "<IPython.core.display.HTML object>"
      ]
     },
     "metadata": {},
     "output_type": "display_data"
    },
    {
     "data": {
      "text/html": [
       "Find logs at: <code>.\\wandb\\run-20230311_004121-f6l8dzih\\logs</code>"
      ],
      "text/plain": [
       "<IPython.core.display.HTML object>"
      ]
     },
     "metadata": {},
     "output_type": "display_data"
    },
    {
     "name": "stderr",
     "output_type": "stream",
     "text": [
      "\u001b[34m\u001b[1mwandb\u001b[0m: Agent Starting Run: 93t0mb67 with config:\n",
      "\u001b[34m\u001b[1mwandb\u001b[0m: \tactivation: sigmoid\n",
      "\u001b[34m\u001b[1mwandb\u001b[0m: \tbatch_size: 64\n",
      "\u001b[34m\u001b[1mwandb\u001b[0m: \tepochs: 5\n",
      "\u001b[34m\u001b[1mwandb\u001b[0m: \tlearning_rate: 0.0001\n",
      "\u001b[34m\u001b[1mwandb\u001b[0m: \tnumber_of_hidden_layer: 5\n",
      "\u001b[34m\u001b[1mwandb\u001b[0m: \toptimizer: adam\n",
      "\u001b[34m\u001b[1mwandb\u001b[0m: \tsize_of_hidden_layer: 128\n",
      "\u001b[34m\u001b[1mwandb\u001b[0m: \tweight_decay: 0\n",
      "\u001b[34m\u001b[1mwandb\u001b[0m: \tweight_initialization: random\n"
     ]
    },
    {
     "data": {
      "text/html": [
       "Tracking run with wandb version 0.13.11"
      ],
      "text/plain": [
       "<IPython.core.display.HTML object>"
      ]
     },
     "metadata": {},
     "output_type": "display_data"
    },
    {
     "data": {
      "text/html": [
       "Run data is saved locally in <code>C:\\Users\\DELL\\Desktop\\wandb\\run-20230311_004455-93t0mb67</code>"
      ],
      "text/plain": [
       "<IPython.core.display.HTML object>"
      ]
     },
     "metadata": {},
     "output_type": "display_data"
    },
    {
     "data": {
      "text/html": [
       "Syncing run <strong><a href='https://wandb.ai/cs22m019/DL%20Final%20Assignment%201/runs/93t0mb67' target=\"_blank\">glorious-sweep-5</a></strong> to <a href='https://wandb.ai/cs22m019/DL%20Final%20Assignment%201' target=\"_blank\">Weights & Biases</a> (<a href='https://wandb.me/run' target=\"_blank\">docs</a>)<br/>Sweep page: <a href='https://wandb.ai/cs22m019/DL%20Final%20Assignment%201/sweeps/hl8fpi30' target=\"_blank\">https://wandb.ai/cs22m019/DL%20Final%20Assignment%201/sweeps/hl8fpi30</a>"
      ],
      "text/plain": [
       "<IPython.core.display.HTML object>"
      ]
     },
     "metadata": {},
     "output_type": "display_data"
    },
    {
     "data": {
      "text/html": [
       " View project at <a href='https://wandb.ai/cs22m019/DL%20Final%20Assignment%201' target=\"_blank\">https://wandb.ai/cs22m019/DL%20Final%20Assignment%201</a>"
      ],
      "text/plain": [
       "<IPython.core.display.HTML object>"
      ]
     },
     "metadata": {},
     "output_type": "display_data"
    },
    {
     "data": {
      "text/html": [
       " View sweep at <a href='https://wandb.ai/cs22m019/DL%20Final%20Assignment%201/sweeps/hl8fpi30' target=\"_blank\">https://wandb.ai/cs22m019/DL%20Final%20Assignment%201/sweeps/hl8fpi30</a>"
      ],
      "text/plain": [
       "<IPython.core.display.HTML object>"
      ]
     },
     "metadata": {},
     "output_type": "display_data"
    },
    {
     "data": {
      "text/html": [
       " View run at <a href='https://wandb.ai/cs22m019/DL%20Final%20Assignment%201/runs/93t0mb67' target=\"_blank\">https://wandb.ai/cs22m019/DL%20Final%20Assignment%201/runs/93t0mb67</a>"
      ],
      "text/plain": [
       "<IPython.core.display.HTML object>"
      ]
     },
     "metadata": {},
     "output_type": "display_data"
    },
    {
     "name": "stdout",
     "output_type": "stream",
     "text": [
      "epoch:1, train loss:1.0523750367359646, train accuracy:0.12498148148148149, validation loss:0.9982682339575646, validation accuracy:0.15216666666666667\n",
      "epoch:2, train loss:0.9741920700428479, train accuracy:0.1635925925925926, validation loss:0.9555390321641734, validation accuracy:0.17666666666666667\n",
      "epoch:3, train loss:0.9413227746882046, train accuracy:0.20222222222222222, validation loss:0.9285756934997792, validation accuracy:0.22516666666666665\n",
      "epoch:4, train loss:0.918974491399178, train accuracy:0.2487962962962963, validation loss:0.9083887801321119, validation accuracy:0.2623333333333333\n",
      "epoch:5, train loss:0.8998149939418477, train accuracy:0.2782777777777778, validation loss:0.889183689121147, validation accuracy:0.28883333333333333\n"
     ]
    },
    {
     "data": {
      "text/html": [
       "Waiting for W&B process to finish... <strong style=\"color:green\">(success).</strong>"
      ],
      "text/plain": [
       "<IPython.core.display.HTML object>"
      ]
     },
     "metadata": {},
     "output_type": "display_data"
    },
    {
     "data": {
      "text/html": [
       "<style>\n",
       "    table.wandb td:nth-child(1) { padding: 0 10px; text-align: left ; width: auto;} td:nth-child(2) {text-align: left ; width: 100%}\n",
       "    .wandb-row { display: flex; flex-direction: row; flex-wrap: wrap; justify-content: flex-start; width: 100% }\n",
       "    .wandb-col { display: flex; flex-direction: column; flex-basis: 100%; flex: 1; padding: 10px; }\n",
       "    </style>\n",
       "<div class=\"wandb-row\"><div class=\"wandb-col\"><h3>Run history:</h3><br/><table class=\"wandb\"><tr><td>train accuracy</td><td>▁▃▅▇█</td></tr><tr><td>train loss</td><td>█▄▃▂▁</td></tr><tr><td>validation accuracy</td><td>▁▂▅▇█</td></tr><tr><td>validation loss</td><td>█▅▄▂▁</td></tr></table><br/></div><div class=\"wandb-col\"><h3>Run summary:</h3><br/><table class=\"wandb\"><tr><td>train accuracy</td><td>0.27828</td></tr><tr><td>train loss</td><td>0.89981</td></tr><tr><td>validation accuracy</td><td>0.28883</td></tr><tr><td>validation loss</td><td>0.88918</td></tr></table><br/></div></div>"
      ],
      "text/plain": [
       "<IPython.core.display.HTML object>"
      ]
     },
     "metadata": {},
     "output_type": "display_data"
    },
    {
     "data": {
      "text/html": [
       " View run <strong style=\"color:#cdcd00\">glorious-sweep-5</strong> at: <a href='https://wandb.ai/cs22m019/DL%20Final%20Assignment%201/runs/93t0mb67' target=\"_blank\">https://wandb.ai/cs22m019/DL%20Final%20Assignment%201/runs/93t0mb67</a><br/>Synced 6 W&B file(s), 0 media file(s), 0 artifact file(s) and 0 other file(s)"
      ],
      "text/plain": [
       "<IPython.core.display.HTML object>"
      ]
     },
     "metadata": {},
     "output_type": "display_data"
    },
    {
     "data": {
      "text/html": [
       "Find logs at: <code>.\\wandb\\run-20230311_004455-93t0mb67\\logs</code>"
      ],
      "text/plain": [
       "<IPython.core.display.HTML object>"
      ]
     },
     "metadata": {},
     "output_type": "display_data"
    },
    {
     "name": "stderr",
     "output_type": "stream",
     "text": [
      "\u001b[34m\u001b[1mwandb\u001b[0m: Agent Starting Run: 82n2z3xk with config:\n",
      "\u001b[34m\u001b[1mwandb\u001b[0m: \tactivation: sigmoid\n",
      "\u001b[34m\u001b[1mwandb\u001b[0m: \tbatch_size: 16\n",
      "\u001b[34m\u001b[1mwandb\u001b[0m: \tepochs: 5\n",
      "\u001b[34m\u001b[1mwandb\u001b[0m: \tlearning_rate: 0.0001\n",
      "\u001b[34m\u001b[1mwandb\u001b[0m: \tnumber_of_hidden_layer: 3\n",
      "\u001b[34m\u001b[1mwandb\u001b[0m: \toptimizer: nadam\n",
      "\u001b[34m\u001b[1mwandb\u001b[0m: \tsize_of_hidden_layer: 64\n",
      "\u001b[34m\u001b[1mwandb\u001b[0m: \tweight_decay: 0.0005\n",
      "\u001b[34m\u001b[1mwandb\u001b[0m: \tweight_initialization: Xavier\n"
     ]
    },
    {
     "data": {
      "text/html": [
       "Tracking run with wandb version 0.13.11"
      ],
      "text/plain": [
       "<IPython.core.display.HTML object>"
      ]
     },
     "metadata": {},
     "output_type": "display_data"
    },
    {
     "data": {
      "text/html": [
       "Run data is saved locally in <code>C:\\Users\\DELL\\Desktop\\wandb\\run-20230311_004907-82n2z3xk</code>"
      ],
      "text/plain": [
       "<IPython.core.display.HTML object>"
      ]
     },
     "metadata": {},
     "output_type": "display_data"
    },
    {
     "data": {
      "text/html": [
       "Syncing run <strong><a href='https://wandb.ai/cs22m019/DL%20Final%20Assignment%201/runs/82n2z3xk' target=\"_blank\">denim-sweep-6</a></strong> to <a href='https://wandb.ai/cs22m019/DL%20Final%20Assignment%201' target=\"_blank\">Weights & Biases</a> (<a href='https://wandb.me/run' target=\"_blank\">docs</a>)<br/>Sweep page: <a href='https://wandb.ai/cs22m019/DL%20Final%20Assignment%201/sweeps/hl8fpi30' target=\"_blank\">https://wandb.ai/cs22m019/DL%20Final%20Assignment%201/sweeps/hl8fpi30</a>"
      ],
      "text/plain": [
       "<IPython.core.display.HTML object>"
      ]
     },
     "metadata": {},
     "output_type": "display_data"
    },
    {
     "data": {
      "text/html": [
       " View project at <a href='https://wandb.ai/cs22m019/DL%20Final%20Assignment%201' target=\"_blank\">https://wandb.ai/cs22m019/DL%20Final%20Assignment%201</a>"
      ],
      "text/plain": [
       "<IPython.core.display.HTML object>"
      ]
     },
     "metadata": {},
     "output_type": "display_data"
    },
    {
     "data": {
      "text/html": [
       " View sweep at <a href='https://wandb.ai/cs22m019/DL%20Final%20Assignment%201/sweeps/hl8fpi30' target=\"_blank\">https://wandb.ai/cs22m019/DL%20Final%20Assignment%201/sweeps/hl8fpi30</a>"
      ],
      "text/plain": [
       "<IPython.core.display.HTML object>"
      ]
     },
     "metadata": {},
     "output_type": "display_data"
    },
    {
     "data": {
      "text/html": [
       " View run at <a href='https://wandb.ai/cs22m019/DL%20Final%20Assignment%201/runs/82n2z3xk' target=\"_blank\">https://wandb.ai/cs22m019/DL%20Final%20Assignment%201/runs/82n2z3xk</a>"
      ],
      "text/plain": [
       "<IPython.core.display.HTML object>"
      ]
     },
     "metadata": {},
     "output_type": "display_data"
    },
    {
     "name": "stdout",
     "output_type": "stream",
     "text": [
      "epoch:1, train loss:0.9105669870161389, train accuracy:0.131, validation loss:0.8959282865081363, validation accuracy:0.3365\n",
      "epoch:2, train loss:0.8906397139650967, train accuracy:0.28429629629629627, validation loss:0.884736779595426, validation accuracy:0.26716666666666666\n",
      "epoch:3, train loss:0.8784848158868901, train accuracy:0.2609444444444444, validation loss:0.8712159539851873, validation accuracy:0.25883333333333336\n",
      "epoch:4, train loss:0.8629259801185166, train accuracy:0.26296296296296295, validation loss:0.8538452083934682, validation accuracy:0.26716666666666666\n",
      "epoch:5, train loss:0.8441791916598423, train accuracy:0.27390740740740743, validation loss:0.8341836457269591, validation accuracy:0.2816666666666667\n"
     ]
    },
    {
     "data": {
      "text/html": [
       "Waiting for W&B process to finish... <strong style=\"color:green\">(success).</strong>"
      ],
      "text/plain": [
       "<IPython.core.display.HTML object>"
      ]
     },
     "metadata": {},
     "output_type": "display_data"
    },
    {
     "data": {
      "application/vnd.jupyter.widget-view+json": {
       "model_id": "f507c6107f79451bb3ec48262b1fb6f5",
       "version_major": 2,
       "version_minor": 0
      },
      "text/plain": [
       "VBox(children=(Label(value='0.001 MB of 0.001 MB uploaded (0.000 MB deduped)\\r'), FloatProgress(value=1.0, max…"
      ]
     },
     "metadata": {},
     "output_type": "display_data"
    },
    {
     "data": {
      "text/html": [
       "<style>\n",
       "    table.wandb td:nth-child(1) { padding: 0 10px; text-align: left ; width: auto;} td:nth-child(2) {text-align: left ; width: 100%}\n",
       "    .wandb-row { display: flex; flex-direction: row; flex-wrap: wrap; justify-content: flex-start; width: 100% }\n",
       "    .wandb-col { display: flex; flex-direction: column; flex-basis: 100%; flex: 1; padding: 10px; }\n",
       "    </style>\n",
       "<div class=\"wandb-row\"><div class=\"wandb-col\"><h3>Run history:</h3><br/><table class=\"wandb\"><tr><td>train accuracy</td><td>▁█▇▇█</td></tr><tr><td>train loss</td><td>█▆▅▃▁</td></tr><tr><td>validation accuracy</td><td>█▂▁▂▃</td></tr><tr><td>validation loss</td><td>█▇▅▃▁</td></tr></table><br/></div><div class=\"wandb-col\"><h3>Run summary:</h3><br/><table class=\"wandb\"><tr><td>train accuracy</td><td>0.27391</td></tr><tr><td>train loss</td><td>0.84418</td></tr><tr><td>validation accuracy</td><td>0.28167</td></tr><tr><td>validation loss</td><td>0.83418</td></tr></table><br/></div></div>"
      ],
      "text/plain": [
       "<IPython.core.display.HTML object>"
      ]
     },
     "metadata": {},
     "output_type": "display_data"
    },
    {
     "data": {
      "text/html": [
       " View run <strong style=\"color:#cdcd00\">denim-sweep-6</strong> at: <a href='https://wandb.ai/cs22m019/DL%20Final%20Assignment%201/runs/82n2z3xk' target=\"_blank\">https://wandb.ai/cs22m019/DL%20Final%20Assignment%201/runs/82n2z3xk</a><br/>Synced 6 W&B file(s), 0 media file(s), 0 artifact file(s) and 0 other file(s)"
      ],
      "text/plain": [
       "<IPython.core.display.HTML object>"
      ]
     },
     "metadata": {},
     "output_type": "display_data"
    },
    {
     "data": {
      "text/html": [
       "Find logs at: <code>.\\wandb\\run-20230311_004907-82n2z3xk\\logs</code>"
      ],
      "text/plain": [
       "<IPython.core.display.HTML object>"
      ]
     },
     "metadata": {},
     "output_type": "display_data"
    },
    {
     "name": "stderr",
     "output_type": "stream",
     "text": [
      "\u001b[34m\u001b[1mwandb\u001b[0m: Sweep Agent: Waiting for job.\n",
      "\u001b[34m\u001b[1mwandb\u001b[0m: Job received.\n",
      "\u001b[34m\u001b[1mwandb\u001b[0m: Agent Starting Run: 6lgq8pbx with config:\n",
      "\u001b[34m\u001b[1mwandb\u001b[0m: \tactivation: tanh\n",
      "\u001b[34m\u001b[1mwandb\u001b[0m: \tbatch_size: 64\n",
      "\u001b[34m\u001b[1mwandb\u001b[0m: \tepochs: 5\n",
      "\u001b[34m\u001b[1mwandb\u001b[0m: \tlearning_rate: 0.0001\n",
      "\u001b[34m\u001b[1mwandb\u001b[0m: \tnumber_of_hidden_layer: 5\n",
      "\u001b[34m\u001b[1mwandb\u001b[0m: \toptimizer: rmsprop\n",
      "\u001b[34m\u001b[1mwandb\u001b[0m: \tsize_of_hidden_layer: 64\n",
      "\u001b[34m\u001b[1mwandb\u001b[0m: \tweight_decay: 0.0005\n",
      "\u001b[34m\u001b[1mwandb\u001b[0m: \tweight_initialization: random\n"
     ]
    },
    {
     "data": {
      "text/html": [
       "Tracking run with wandb version 0.13.11"
      ],
      "text/plain": [
       "<IPython.core.display.HTML object>"
      ]
     },
     "metadata": {},
     "output_type": "display_data"
    },
    {
     "data": {
      "text/html": [
       "Run data is saved locally in <code>C:\\Users\\DELL\\Desktop\\wandb\\run-20230311_005042-6lgq8pbx</code>"
      ],
      "text/plain": [
       "<IPython.core.display.HTML object>"
      ]
     },
     "metadata": {},
     "output_type": "display_data"
    },
    {
     "data": {
      "text/html": [
       "Syncing run <strong><a href='https://wandb.ai/cs22m019/DL%20Final%20Assignment%201/runs/6lgq8pbx' target=\"_blank\">solar-sweep-7</a></strong> to <a href='https://wandb.ai/cs22m019/DL%20Final%20Assignment%201' target=\"_blank\">Weights & Biases</a> (<a href='https://wandb.me/run' target=\"_blank\">docs</a>)<br/>Sweep page: <a href='https://wandb.ai/cs22m019/DL%20Final%20Assignment%201/sweeps/hl8fpi30' target=\"_blank\">https://wandb.ai/cs22m019/DL%20Final%20Assignment%201/sweeps/hl8fpi30</a>"
      ],
      "text/plain": [
       "<IPython.core.display.HTML object>"
      ]
     },
     "metadata": {},
     "output_type": "display_data"
    },
    {
     "data": {
      "text/html": [
       " View project at <a href='https://wandb.ai/cs22m019/DL%20Final%20Assignment%201' target=\"_blank\">https://wandb.ai/cs22m019/DL%20Final%20Assignment%201</a>"
      ],
      "text/plain": [
       "<IPython.core.display.HTML object>"
      ]
     },
     "metadata": {},
     "output_type": "display_data"
    },
    {
     "data": {
      "text/html": [
       " View sweep at <a href='https://wandb.ai/cs22m019/DL%20Final%20Assignment%201/sweeps/hl8fpi30' target=\"_blank\">https://wandb.ai/cs22m019/DL%20Final%20Assignment%201/sweeps/hl8fpi30</a>"
      ],
      "text/plain": [
       "<IPython.core.display.HTML object>"
      ]
     },
     "metadata": {},
     "output_type": "display_data"
    },
    {
     "data": {
      "text/html": [
       " View run at <a href='https://wandb.ai/cs22m019/DL%20Final%20Assignment%201/runs/6lgq8pbx' target=\"_blank\">https://wandb.ai/cs22m019/DL%20Final%20Assignment%201/runs/6lgq8pbx</a>"
      ],
      "text/plain": [
       "<IPython.core.display.HTML object>"
      ]
     },
     "metadata": {},
     "output_type": "display_data"
    },
    {
     "name": "stdout",
     "output_type": "stream",
     "text": [
      "epoch:1, train loss:1.394506448572295, train accuracy:0.0852037037037037, validation loss:1.3780576645150793, validation accuracy:0.09166666666666666\n",
      "epoch:2, train loss:1.3795016614292774, train accuracy:0.08837037037037038, validation loss:1.3649626211387236, validation accuracy:0.0955\n",
      "epoch:3, train loss:1.366460331613402, train accuracy:0.08977777777777778, validation loss:1.3541632179915721, validation accuracy:0.09783333333333333\n",
      "epoch:4, train loss:1.354700220901361, train accuracy:0.09244444444444444, validation loss:1.3454748654283404, validation accuracy:0.0965\n",
      "epoch:5, train loss:1.3442485784590061, train accuracy:0.09364814814814815, validation loss:1.3372450768079638, validation accuracy:0.09816666666666667\n"
     ]
    },
    {
     "data": {
      "text/html": [
       "Waiting for W&B process to finish... <strong style=\"color:green\">(success).</strong>"
      ],
      "text/plain": [
       "<IPython.core.display.HTML object>"
      ]
     },
     "metadata": {},
     "output_type": "display_data"
    },
    {
     "data": {
      "application/vnd.jupyter.widget-view+json": {
       "model_id": "133dcc3ac00545678f5daec55c23b698",
       "version_major": 2,
       "version_minor": 0
      },
      "text/plain": [
       "VBox(children=(Label(value='0.001 MB of 0.001 MB uploaded (0.000 MB deduped)\\r'), FloatProgress(value=1.0, max…"
      ]
     },
     "metadata": {},
     "output_type": "display_data"
    },
    {
     "data": {
      "text/html": [
       "<style>\n",
       "    table.wandb td:nth-child(1) { padding: 0 10px; text-align: left ; width: auto;} td:nth-child(2) {text-align: left ; width: 100%}\n",
       "    .wandb-row { display: flex; flex-direction: row; flex-wrap: wrap; justify-content: flex-start; width: 100% }\n",
       "    .wandb-col { display: flex; flex-direction: column; flex-basis: 100%; flex: 1; padding: 10px; }\n",
       "    </style>\n",
       "<div class=\"wandb-row\"><div class=\"wandb-col\"><h3>Run history:</h3><br/><table class=\"wandb\"><tr><td>train accuracy</td><td>▁▄▅▇█</td></tr><tr><td>train loss</td><td>█▆▄▂▁</td></tr><tr><td>validation accuracy</td><td>▁▅█▆█</td></tr><tr><td>validation loss</td><td>█▆▄▂▁</td></tr></table><br/></div><div class=\"wandb-col\"><h3>Run summary:</h3><br/><table class=\"wandb\"><tr><td>train accuracy</td><td>0.09365</td></tr><tr><td>train loss</td><td>1.34425</td></tr><tr><td>validation accuracy</td><td>0.09817</td></tr><tr><td>validation loss</td><td>1.33725</td></tr></table><br/></div></div>"
      ],
      "text/plain": [
       "<IPython.core.display.HTML object>"
      ]
     },
     "metadata": {},
     "output_type": "display_data"
    },
    {
     "data": {
      "text/html": [
       " View run <strong style=\"color:#cdcd00\">solar-sweep-7</strong> at: <a href='https://wandb.ai/cs22m019/DL%20Final%20Assignment%201/runs/6lgq8pbx' target=\"_blank\">https://wandb.ai/cs22m019/DL%20Final%20Assignment%201/runs/6lgq8pbx</a><br/>Synced 6 W&B file(s), 0 media file(s), 0 artifact file(s) and 0 other file(s)"
      ],
      "text/plain": [
       "<IPython.core.display.HTML object>"
      ]
     },
     "metadata": {},
     "output_type": "display_data"
    },
    {
     "data": {
      "text/html": [
       "Find logs at: <code>.\\wandb\\run-20230311_005042-6lgq8pbx\\logs</code>"
      ],
      "text/plain": [
       "<IPython.core.display.HTML object>"
      ]
     },
     "metadata": {},
     "output_type": "display_data"
    },
    {
     "name": "stderr",
     "output_type": "stream",
     "text": [
      "\u001b[34m\u001b[1mwandb\u001b[0m: Agent Starting Run: k3lm7aar with config:\n",
      "\u001b[34m\u001b[1mwandb\u001b[0m: \tactivation: sigmoid\n",
      "\u001b[34m\u001b[1mwandb\u001b[0m: \tbatch_size: 16\n",
      "\u001b[34m\u001b[1mwandb\u001b[0m: \tepochs: 10\n",
      "\u001b[34m\u001b[1mwandb\u001b[0m: \tlearning_rate: 0.0001\n",
      "\u001b[34m\u001b[1mwandb\u001b[0m: \tnumber_of_hidden_layer: 3\n",
      "\u001b[34m\u001b[1mwandb\u001b[0m: \toptimizer: sgd\n",
      "\u001b[34m\u001b[1mwandb\u001b[0m: \tsize_of_hidden_layer: 64\n",
      "\u001b[34m\u001b[1mwandb\u001b[0m: \tweight_decay: 0.5\n",
      "\u001b[34m\u001b[1mwandb\u001b[0m: \tweight_initialization: Xavier\n"
     ]
    },
    {
     "data": {
      "text/html": [
       "Tracking run with wandb version 0.13.11"
      ],
      "text/plain": [
       "<IPython.core.display.HTML object>"
      ]
     },
     "metadata": {},
     "output_type": "display_data"
    },
    {
     "data": {
      "text/html": [
       "Run data is saved locally in <code>C:\\Users\\DELL\\Desktop\\wandb\\run-20230311_005222-k3lm7aar</code>"
      ],
      "text/plain": [
       "<IPython.core.display.HTML object>"
      ]
     },
     "metadata": {},
     "output_type": "display_data"
    },
    {
     "data": {
      "text/html": [
       "Syncing run <strong><a href='https://wandb.ai/cs22m019/DL%20Final%20Assignment%201/runs/k3lm7aar' target=\"_blank\">deft-sweep-8</a></strong> to <a href='https://wandb.ai/cs22m019/DL%20Final%20Assignment%201' target=\"_blank\">Weights & Biases</a> (<a href='https://wandb.me/run' target=\"_blank\">docs</a>)<br/>Sweep page: <a href='https://wandb.ai/cs22m019/DL%20Final%20Assignment%201/sweeps/hl8fpi30' target=\"_blank\">https://wandb.ai/cs22m019/DL%20Final%20Assignment%201/sweeps/hl8fpi30</a>"
      ],
      "text/plain": [
       "<IPython.core.display.HTML object>"
      ]
     },
     "metadata": {},
     "output_type": "display_data"
    },
    {
     "data": {
      "text/html": [
       " View project at <a href='https://wandb.ai/cs22m019/DL%20Final%20Assignment%201' target=\"_blank\">https://wandb.ai/cs22m019/DL%20Final%20Assignment%201</a>"
      ],
      "text/plain": [
       "<IPython.core.display.HTML object>"
      ]
     },
     "metadata": {},
     "output_type": "display_data"
    },
    {
     "data": {
      "text/html": [
       " View sweep at <a href='https://wandb.ai/cs22m019/DL%20Final%20Assignment%201/sweeps/hl8fpi30' target=\"_blank\">https://wandb.ai/cs22m019/DL%20Final%20Assignment%201/sweeps/hl8fpi30</a>"
      ],
      "text/plain": [
       "<IPython.core.display.HTML object>"
      ]
     },
     "metadata": {},
     "output_type": "display_data"
    },
    {
     "data": {
      "text/html": [
       " View run at <a href='https://wandb.ai/cs22m019/DL%20Final%20Assignment%201/runs/k3lm7aar' target=\"_blank\">https://wandb.ai/cs22m019/DL%20Final%20Assignment%201/runs/k3lm7aar</a>"
      ],
      "text/plain": [
       "<IPython.core.display.HTML object>"
      ]
     },
     "metadata": {},
     "output_type": "display_data"
    },
    {
     "name": "stdout",
     "output_type": "stream",
     "text": [
      "epoch:1, train loss:1.0083622746181513, train accuracy:0.10011111111111111, validation loss:1.00524871443141, validation accuracy:0.099\n",
      "epoch:2, train loss:1.0012426645839463, train accuracy:0.10011111111111111, validation loss:0.9983429872957188, validation accuracy:0.099\n",
      "epoch:3, train loss:0.9948302924069834, train accuracy:0.10011111111111111, validation loss:0.9924641726064656, validation accuracy:0.099\n",
      "epoch:4, train loss:0.9893074440090015, train accuracy:0.10011111111111111, validation loss:0.9872137398776756, validation accuracy:0.099\n",
      "epoch:5, train loss:0.9842564367262822, train accuracy:0.10011111111111111, validation loss:0.9822722419379576, validation accuracy:0.099\n",
      "epoch:6, train loss:0.9797450149978288, train accuracy:0.10011111111111111, validation loss:0.9780650029289553, validation accuracy:0.099\n",
      "epoch:7, train loss:0.9756973853227218, train accuracy:0.10011111111111111, validation loss:0.9741113260028514, validation accuracy:0.099\n",
      "epoch:8, train loss:0.971948184084481, train accuracy:0.10011111111111111, validation loss:0.9705583069197093, validation accuracy:0.099\n",
      "epoch:9, train loss:0.9686171694272466, train accuracy:0.10011111111111111, validation loss:0.9674067977836825, validation accuracy:0.099\n",
      "epoch:10, train loss:0.9656541857108824, train accuracy:0.10011111111111111, validation loss:0.9646173099756582, validation accuracy:0.099\n"
     ]
    },
    {
     "data": {
      "text/html": [
       "Waiting for W&B process to finish... <strong style=\"color:green\">(success).</strong>"
      ],
      "text/plain": [
       "<IPython.core.display.HTML object>"
      ]
     },
     "metadata": {},
     "output_type": "display_data"
    },
    {
     "data": {
      "application/vnd.jupyter.widget-view+json": {
       "model_id": "c696c7ace17c49fcbf92a8f334c56e22",
       "version_major": 2,
       "version_minor": 0
      },
      "text/plain": [
       "VBox(children=(Label(value='0.001 MB of 0.001 MB uploaded (0.000 MB deduped)\\r'), FloatProgress(value=1.0, max…"
      ]
     },
     "metadata": {},
     "output_type": "display_data"
    },
    {
     "data": {
      "text/html": [
       "<style>\n",
       "    table.wandb td:nth-child(1) { padding: 0 10px; text-align: left ; width: auto;} td:nth-child(2) {text-align: left ; width: 100%}\n",
       "    .wandb-row { display: flex; flex-direction: row; flex-wrap: wrap; justify-content: flex-start; width: 100% }\n",
       "    .wandb-col { display: flex; flex-direction: column; flex-basis: 100%; flex: 1; padding: 10px; }\n",
       "    </style>\n",
       "<div class=\"wandb-row\"><div class=\"wandb-col\"><h3>Run history:</h3><br/><table class=\"wandb\"><tr><td>train accuracy</td><td>▁▁▁▁▁▁▁▁▁▁</td></tr><tr><td>train loss</td><td>█▇▆▅▄▃▃▂▁▁</td></tr><tr><td>validation accuracy</td><td>▁▁▁▁▁▁▁▁▁▁</td></tr><tr><td>validation loss</td><td>█▇▆▅▄▃▃▂▁▁</td></tr></table><br/></div><div class=\"wandb-col\"><h3>Run summary:</h3><br/><table class=\"wandb\"><tr><td>train accuracy</td><td>0.10011</td></tr><tr><td>train loss</td><td>0.96565</td></tr><tr><td>validation accuracy</td><td>0.099</td></tr><tr><td>validation loss</td><td>0.96462</td></tr></table><br/></div></div>"
      ],
      "text/plain": [
       "<IPython.core.display.HTML object>"
      ]
     },
     "metadata": {},
     "output_type": "display_data"
    },
    {
     "data": {
      "text/html": [
       " View run <strong style=\"color:#cdcd00\">deft-sweep-8</strong> at: <a href='https://wandb.ai/cs22m019/DL%20Final%20Assignment%201/runs/k3lm7aar' target=\"_blank\">https://wandb.ai/cs22m019/DL%20Final%20Assignment%201/runs/k3lm7aar</a><br/>Synced 6 W&B file(s), 0 media file(s), 0 artifact file(s) and 0 other file(s)"
      ],
      "text/plain": [
       "<IPython.core.display.HTML object>"
      ]
     },
     "metadata": {},
     "output_type": "display_data"
    },
    {
     "data": {
      "text/html": [
       "Find logs at: <code>.\\wandb\\run-20230311_005222-k3lm7aar\\logs</code>"
      ],
      "text/plain": [
       "<IPython.core.display.HTML object>"
      ]
     },
     "metadata": {},
     "output_type": "display_data"
    },
    {
     "name": "stderr",
     "output_type": "stream",
     "text": [
      "\u001b[34m\u001b[1mwandb\u001b[0m: Agent Starting Run: vzpwkioc with config:\n",
      "\u001b[34m\u001b[1mwandb\u001b[0m: \tactivation: sigmoid\n",
      "\u001b[34m\u001b[1mwandb\u001b[0m: \tbatch_size: 64\n",
      "\u001b[34m\u001b[1mwandb\u001b[0m: \tepochs: 5\n",
      "\u001b[34m\u001b[1mwandb\u001b[0m: \tlearning_rate: 0.001\n",
      "\u001b[34m\u001b[1mwandb\u001b[0m: \tnumber_of_hidden_layer: 4\n",
      "\u001b[34m\u001b[1mwandb\u001b[0m: \toptimizer: rmsprop\n",
      "\u001b[34m\u001b[1mwandb\u001b[0m: \tsize_of_hidden_layer: 64\n",
      "\u001b[34m\u001b[1mwandb\u001b[0m: \tweight_decay: 0.0005\n",
      "\u001b[34m\u001b[1mwandb\u001b[0m: \tweight_initialization: Xavier\n"
     ]
    },
    {
     "data": {
      "application/vnd.jupyter.widget-view+json": {
       "model_id": "9f8c4a690d494f52840afe938155492b",
       "version_major": 2,
       "version_minor": 0
      },
      "text/plain": [
       "VBox(children=(Label(value='Waiting for wandb.init()...\\r'), FloatProgress(value=0.016666666666666666, max=1.0…"
      ]
     },
     "metadata": {},
     "output_type": "display_data"
    },
    {
     "data": {
      "text/html": [
       "Tracking run with wandb version 0.13.11"
      ],
      "text/plain": [
       "<IPython.core.display.HTML object>"
      ]
     },
     "metadata": {},
     "output_type": "display_data"
    },
    {
     "data": {
      "text/html": [
       "Run data is saved locally in <code>C:\\Users\\DELL\\Desktop\\wandb\\run-20230311_005541-vzpwkioc</code>"
      ],
      "text/plain": [
       "<IPython.core.display.HTML object>"
      ]
     },
     "metadata": {},
     "output_type": "display_data"
    },
    {
     "data": {
      "text/html": [
       "Syncing run <strong><a href='https://wandb.ai/cs22m019/DL%20Final%20Assignment%201/runs/vzpwkioc' target=\"_blank\">fallen-sweep-9</a></strong> to <a href='https://wandb.ai/cs22m019/DL%20Final%20Assignment%201' target=\"_blank\">Weights & Biases</a> (<a href='https://wandb.me/run' target=\"_blank\">docs</a>)<br/>Sweep page: <a href='https://wandb.ai/cs22m019/DL%20Final%20Assignment%201/sweeps/hl8fpi30' target=\"_blank\">https://wandb.ai/cs22m019/DL%20Final%20Assignment%201/sweeps/hl8fpi30</a>"
      ],
      "text/plain": [
       "<IPython.core.display.HTML object>"
      ]
     },
     "metadata": {},
     "output_type": "display_data"
    },
    {
     "data": {
      "text/html": [
       " View project at <a href='https://wandb.ai/cs22m019/DL%20Final%20Assignment%201' target=\"_blank\">https://wandb.ai/cs22m019/DL%20Final%20Assignment%201</a>"
      ],
      "text/plain": [
       "<IPython.core.display.HTML object>"
      ]
     },
     "metadata": {},
     "output_type": "display_data"
    },
    {
     "data": {
      "text/html": [
       " View sweep at <a href='https://wandb.ai/cs22m019/DL%20Final%20Assignment%201/sweeps/hl8fpi30' target=\"_blank\">https://wandb.ai/cs22m019/DL%20Final%20Assignment%201/sweeps/hl8fpi30</a>"
      ],
      "text/plain": [
       "<IPython.core.display.HTML object>"
      ]
     },
     "metadata": {},
     "output_type": "display_data"
    },
    {
     "data": {
      "text/html": [
       " View run at <a href='https://wandb.ai/cs22m019/DL%20Final%20Assignment%201/runs/vzpwkioc' target=\"_blank\">https://wandb.ai/cs22m019/DL%20Final%20Assignment%201/runs/vzpwkioc</a>"
      ],
      "text/plain": [
       "<IPython.core.display.HTML object>"
      ]
     },
     "metadata": {},
     "output_type": "display_data"
    },
    {
     "name": "stdout",
     "output_type": "stream",
     "text": [
      "epoch:1, train loss:0.9753154716620319, train accuracy:0.10011111111111111, validation loss:0.9238910213856679, validation accuracy:0.099\n",
      "epoch:2, train loss:0.9108004919119489, train accuracy:0.10011111111111111, validation loss:0.9031215454126819, validation accuracy:0.099\n",
      "epoch:3, train loss:0.9005599901423821, train accuracy:0.10061111111111111, validation loss:0.8986319059596648, validation accuracy:0.099\n",
      "epoch:4, train loss:0.8975374171436822, train accuracy:0.18627777777777776, validation loss:0.8964138539017926, validation accuracy:0.20433333333333334\n",
      "epoch:5, train loss:0.8951397526699798, train accuracy:0.25775925925925924, validation loss:0.8934947843099672, validation accuracy:0.25716666666666665\n"
     ]
    },
    {
     "data": {
      "text/html": [
       "Waiting for W&B process to finish... <strong style=\"color:green\">(success).</strong>"
      ],
      "text/plain": [
       "<IPython.core.display.HTML object>"
      ]
     },
     "metadata": {},
     "output_type": "display_data"
    },
    {
     "data": {
      "application/vnd.jupyter.widget-view+json": {
       "model_id": "bf2f5d8bfb584fbe8edd39945d1cd408",
       "version_major": 2,
       "version_minor": 0
      },
      "text/plain": [
       "VBox(children=(Label(value='0.001 MB of 0.024 MB uploaded (0.000 MB deduped)\\r'), FloatProgress(value=0.045411…"
      ]
     },
     "metadata": {},
     "output_type": "display_data"
    },
    {
     "data": {
      "text/html": [
       "<style>\n",
       "    table.wandb td:nth-child(1) { padding: 0 10px; text-align: left ; width: auto;} td:nth-child(2) {text-align: left ; width: 100%}\n",
       "    .wandb-row { display: flex; flex-direction: row; flex-wrap: wrap; justify-content: flex-start; width: 100% }\n",
       "    .wandb-col { display: flex; flex-direction: column; flex-basis: 100%; flex: 1; padding: 10px; }\n",
       "    </style>\n",
       "<div class=\"wandb-row\"><div class=\"wandb-col\"><h3>Run history:</h3><br/><table class=\"wandb\"><tr><td>train accuracy</td><td>▁▁▁▅█</td></tr><tr><td>train loss</td><td>█▂▁▁▁</td></tr><tr><td>validation accuracy</td><td>▁▁▁▆█</td></tr><tr><td>validation loss</td><td>█▃▂▂▁</td></tr></table><br/></div><div class=\"wandb-col\"><h3>Run summary:</h3><br/><table class=\"wandb\"><tr><td>train accuracy</td><td>0.25776</td></tr><tr><td>train loss</td><td>0.89514</td></tr><tr><td>validation accuracy</td><td>0.25717</td></tr><tr><td>validation loss</td><td>0.89349</td></tr></table><br/></div></div>"
      ],
      "text/plain": [
       "<IPython.core.display.HTML object>"
      ]
     },
     "metadata": {},
     "output_type": "display_data"
    },
    {
     "data": {
      "text/html": [
       " View run <strong style=\"color:#cdcd00\">fallen-sweep-9</strong> at: <a href='https://wandb.ai/cs22m019/DL%20Final%20Assignment%201/runs/vzpwkioc' target=\"_blank\">https://wandb.ai/cs22m019/DL%20Final%20Assignment%201/runs/vzpwkioc</a><br/>Synced 6 W&B file(s), 0 media file(s), 0 artifact file(s) and 0 other file(s)"
      ],
      "text/plain": [
       "<IPython.core.display.HTML object>"
      ]
     },
     "metadata": {},
     "output_type": "display_data"
    },
    {
     "data": {
      "text/html": [
       "Find logs at: <code>.\\wandb\\run-20230311_005541-vzpwkioc\\logs</code>"
      ],
      "text/plain": [
       "<IPython.core.display.HTML object>"
      ]
     },
     "metadata": {},
     "output_type": "display_data"
    },
    {
     "name": "stderr",
     "output_type": "stream",
     "text": [
      "\u001b[34m\u001b[1mwandb\u001b[0m: Agent Starting Run: zp54h21z with config:\n",
      "\u001b[34m\u001b[1mwandb\u001b[0m: \tactivation: ReLU\n",
      "\u001b[34m\u001b[1mwandb\u001b[0m: \tbatch_size: 32\n",
      "\u001b[34m\u001b[1mwandb\u001b[0m: \tepochs: 5\n",
      "\u001b[34m\u001b[1mwandb\u001b[0m: \tlearning_rate: 0.001\n",
      "\u001b[34m\u001b[1mwandb\u001b[0m: \tnumber_of_hidden_layer: 3\n",
      "\u001b[34m\u001b[1mwandb\u001b[0m: \toptimizer: nestrov\n",
      "\u001b[34m\u001b[1mwandb\u001b[0m: \tsize_of_hidden_layer: 64\n",
      "\u001b[34m\u001b[1mwandb\u001b[0m: \tweight_decay: 0.0005\n",
      "\u001b[34m\u001b[1mwandb\u001b[0m: \tweight_initialization: random\n"
     ]
    },
    {
     "data": {
      "text/html": [
       "Tracking run with wandb version 0.13.11"
      ],
      "text/plain": [
       "<IPython.core.display.HTML object>"
      ]
     },
     "metadata": {},
     "output_type": "display_data"
    },
    {
     "data": {
      "text/html": [
       "Run data is saved locally in <code>C:\\Users\\DELL\\Desktop\\wandb\\run-20230311_005843-zp54h21z</code>"
      ],
      "text/plain": [
       "<IPython.core.display.HTML object>"
      ]
     },
     "metadata": {},
     "output_type": "display_data"
    },
    {
     "data": {
      "text/html": [
       "Syncing run <strong><a href='https://wandb.ai/cs22m019/DL%20Final%20Assignment%201/runs/zp54h21z' target=\"_blank\">royal-sweep-10</a></strong> to <a href='https://wandb.ai/cs22m019/DL%20Final%20Assignment%201' target=\"_blank\">Weights & Biases</a> (<a href='https://wandb.me/run' target=\"_blank\">docs</a>)<br/>Sweep page: <a href='https://wandb.ai/cs22m019/DL%20Final%20Assignment%201/sweeps/hl8fpi30' target=\"_blank\">https://wandb.ai/cs22m019/DL%20Final%20Assignment%201/sweeps/hl8fpi30</a>"
      ],
      "text/plain": [
       "<IPython.core.display.HTML object>"
      ]
     },
     "metadata": {},
     "output_type": "display_data"
    },
    {
     "data": {
      "text/html": [
       " View project at <a href='https://wandb.ai/cs22m019/DL%20Final%20Assignment%201' target=\"_blank\">https://wandb.ai/cs22m019/DL%20Final%20Assignment%201</a>"
      ],
      "text/plain": [
       "<IPython.core.display.HTML object>"
      ]
     },
     "metadata": {},
     "output_type": "display_data"
    },
    {
     "data": {
      "text/html": [
       " View sweep at <a href='https://wandb.ai/cs22m019/DL%20Final%20Assignment%201/sweeps/hl8fpi30' target=\"_blank\">https://wandb.ai/cs22m019/DL%20Final%20Assignment%201/sweeps/hl8fpi30</a>"
      ],
      "text/plain": [
       "<IPython.core.display.HTML object>"
      ]
     },
     "metadata": {},
     "output_type": "display_data"
    },
    {
     "data": {
      "text/html": [
       " View run at <a href='https://wandb.ai/cs22m019/DL%20Final%20Assignment%201/runs/zp54h21z' target=\"_blank\">https://wandb.ai/cs22m019/DL%20Final%20Assignment%201/runs/zp54h21z</a>"
      ],
      "text/plain": [
       "<IPython.core.display.HTML object>"
      ]
     },
     "metadata": {},
     "output_type": "display_data"
    },
    {
     "name": "stdout",
     "output_type": "stream",
     "text": [
      "epoch:1, train loss:1.7426564920324707, train accuracy:0.11675925925925926, validation loss:1.7990147274776565, validation accuracy:0.10066666666666667\n",
      "epoch:2, train loss:1.8007125815500835, train accuracy:0.09992592592592593, validation loss:1.7992931077709748, validation accuracy:0.10066666666666667\n",
      "epoch:3, train loss:1.800774589234314, train accuracy:0.09992592592592593, validation loss:1.799293107771008, validation accuracy:0.10066666666666667\n",
      "epoch:4, train loss:1.8007745892343463, train accuracy:0.09992592592592593, validation loss:1.799293107771041, validation accuracy:0.10066666666666667\n",
      "epoch:5, train loss:1.8007745892343783, train accuracy:0.09992592592592593, validation loss:1.799293107771074, validation accuracy:0.10066666666666667\n"
     ]
    },
    {
     "data": {
      "text/html": [
       "Waiting for W&B process to finish... <strong style=\"color:green\">(success).</strong>"
      ],
      "text/plain": [
       "<IPython.core.display.HTML object>"
      ]
     },
     "metadata": {},
     "output_type": "display_data"
    },
    {
     "data": {
      "text/html": [
       "<style>\n",
       "    table.wandb td:nth-child(1) { padding: 0 10px; text-align: left ; width: auto;} td:nth-child(2) {text-align: left ; width: 100%}\n",
       "    .wandb-row { display: flex; flex-direction: row; flex-wrap: wrap; justify-content: flex-start; width: 100% }\n",
       "    .wandb-col { display: flex; flex-direction: column; flex-basis: 100%; flex: 1; padding: 10px; }\n",
       "    </style>\n",
       "<div class=\"wandb-row\"><div class=\"wandb-col\"><h3>Run history:</h3><br/><table class=\"wandb\"><tr><td>train accuracy</td><td>█▁▁▁▁</td></tr><tr><td>train loss</td><td>▁████</td></tr><tr><td>validation accuracy</td><td>▁▁▁▁▁</td></tr><tr><td>validation loss</td><td>▁████</td></tr></table><br/></div><div class=\"wandb-col\"><h3>Run summary:</h3><br/><table class=\"wandb\"><tr><td>train accuracy</td><td>0.09993</td></tr><tr><td>train loss</td><td>1.80077</td></tr><tr><td>validation accuracy</td><td>0.10067</td></tr><tr><td>validation loss</td><td>1.79929</td></tr></table><br/></div></div>"
      ],
      "text/plain": [
       "<IPython.core.display.HTML object>"
      ]
     },
     "metadata": {},
     "output_type": "display_data"
    },
    {
     "data": {
      "text/html": [
       " View run <strong style=\"color:#cdcd00\">royal-sweep-10</strong> at: <a href='https://wandb.ai/cs22m019/DL%20Final%20Assignment%201/runs/zp54h21z' target=\"_blank\">https://wandb.ai/cs22m019/DL%20Final%20Assignment%201/runs/zp54h21z</a><br/>Synced 6 W&B file(s), 0 media file(s), 0 artifact file(s) and 0 other file(s)"
      ],
      "text/plain": [
       "<IPython.core.display.HTML object>"
      ]
     },
     "metadata": {},
     "output_type": "display_data"
    },
    {
     "data": {
      "text/html": [
       "Find logs at: <code>.\\wandb\\run-20230311_005843-zp54h21z\\logs</code>"
      ],
      "text/plain": [
       "<IPython.core.display.HTML object>"
      ]
     },
     "metadata": {},
     "output_type": "display_data"
    },
    {
     "name": "stderr",
     "output_type": "stream",
     "text": [
      "\u001b[34m\u001b[1mwandb\u001b[0m: Sweep Agent: Waiting for job.\n",
      "\u001b[34m\u001b[1mwandb\u001b[0m: Job received.\n",
      "\u001b[34m\u001b[1mwandb\u001b[0m: Agent Starting Run: p5s6yuag with config:\n",
      "\u001b[34m\u001b[1mwandb\u001b[0m: \tactivation: sigmoid\n",
      "\u001b[34m\u001b[1mwandb\u001b[0m: \tbatch_size: 32\n",
      "\u001b[34m\u001b[1mwandb\u001b[0m: \tepochs: 10\n",
      "\u001b[34m\u001b[1mwandb\u001b[0m: \tlearning_rate: 0.001\n",
      "\u001b[34m\u001b[1mwandb\u001b[0m: \tnumber_of_hidden_layer: 3\n",
      "\u001b[34m\u001b[1mwandb\u001b[0m: \toptimizer: momentum\n",
      "\u001b[34m\u001b[1mwandb\u001b[0m: \tsize_of_hidden_layer: 32\n",
      "\u001b[34m\u001b[1mwandb\u001b[0m: \tweight_decay: 0.0005\n",
      "\u001b[34m\u001b[1mwandb\u001b[0m: \tweight_initialization: Xavier\n"
     ]
    },
    {
     "data": {
      "text/html": [
       "Tracking run with wandb version 0.13.11"
      ],
      "text/plain": [
       "<IPython.core.display.HTML object>"
      ]
     },
     "metadata": {},
     "output_type": "display_data"
    },
    {
     "data": {
      "text/html": [
       "Run data is saved locally in <code>C:\\Users\\DELL\\Desktop\\wandb\\run-20230311_010617-p5s6yuag</code>"
      ],
      "text/plain": [
       "<IPython.core.display.HTML object>"
      ]
     },
     "metadata": {},
     "output_type": "display_data"
    },
    {
     "data": {
      "text/html": [
       "Syncing run <strong><a href='https://wandb.ai/cs22m019/DL%20Final%20Assignment%201/runs/p5s6yuag' target=\"_blank\">frosty-sweep-11</a></strong> to <a href='https://wandb.ai/cs22m019/DL%20Final%20Assignment%201' target=\"_blank\">Weights & Biases</a> (<a href='https://wandb.me/run' target=\"_blank\">docs</a>)<br/>Sweep page: <a href='https://wandb.ai/cs22m019/DL%20Final%20Assignment%201/sweeps/hl8fpi30' target=\"_blank\">https://wandb.ai/cs22m019/DL%20Final%20Assignment%201/sweeps/hl8fpi30</a>"
      ],
      "text/plain": [
       "<IPython.core.display.HTML object>"
      ]
     },
     "metadata": {},
     "output_type": "display_data"
    },
    {
     "data": {
      "text/html": [
       " View project at <a href='https://wandb.ai/cs22m019/DL%20Final%20Assignment%201' target=\"_blank\">https://wandb.ai/cs22m019/DL%20Final%20Assignment%201</a>"
      ],
      "text/plain": [
       "<IPython.core.display.HTML object>"
      ]
     },
     "metadata": {},
     "output_type": "display_data"
    },
    {
     "data": {
      "text/html": [
       " View sweep at <a href='https://wandb.ai/cs22m019/DL%20Final%20Assignment%201/sweeps/hl8fpi30' target=\"_blank\">https://wandb.ai/cs22m019/DL%20Final%20Assignment%201/sweeps/hl8fpi30</a>"
      ],
      "text/plain": [
       "<IPython.core.display.HTML object>"
      ]
     },
     "metadata": {},
     "output_type": "display_data"
    },
    {
     "data": {
      "text/html": [
       " View run at <a href='https://wandb.ai/cs22m019/DL%20Final%20Assignment%201/runs/p5s6yuag' target=\"_blank\">https://wandb.ai/cs22m019/DL%20Final%20Assignment%201/runs/p5s6yuag</a>"
      ],
      "text/plain": [
       "<IPython.core.display.HTML object>"
      ]
     },
     "metadata": {},
     "output_type": "display_data"
    },
    {
     "name": "stdout",
     "output_type": "stream",
     "text": [
      "epoch:1, train loss:0.958395538663084, train accuracy:0.10051851851851852, validation loss:0.9389854650728144, validation accuracy:0.09533333333333334\n",
      "epoch:2, train loss:0.928920372735753, train accuracy:0.10051851851851852, validation loss:0.9229854460014559, validation accuracy:0.09533333333333334\n",
      "epoch:3, train loss:0.9181035692313654, train accuracy:0.105, validation loss:0.9152393450477301, validation accuracy:0.096\n",
      "epoch:4, train loss:0.9121140434669285, train accuracy:0.10575925925925926, validation loss:0.9104191239961938, validation accuracy:0.10516666666666667\n",
      "epoch:5, train loss:0.9081933824144789, train accuracy:0.11287037037037037, validation loss:0.9071227756730109, validation accuracy:0.1175\n",
      "epoch:6, train loss:0.9054862548668666, train accuracy:0.11988888888888889, validation loss:0.9048114353004982, validation accuracy:0.12583333333333332\n",
      "epoch:7, train loss:0.9035915872229615, train accuracy:0.13312962962962963, validation loss:0.9031722677599823, validation accuracy:0.132\n",
      "epoch:8, train loss:0.9022609201047261, train accuracy:0.1403888888888889, validation loss:0.9020103452847866, validation accuracy:0.137\n",
      "epoch:9, train loss:0.9013348495550328, train accuracy:0.14094444444444446, validation loss:0.9011960268510119, validation accuracy:0.1405\n",
      "epoch:10, train loss:0.9006924846882886, train accuracy:0.1370925925925926, validation loss:0.9006228697167451, validation accuracy:0.144\n"
     ]
    },
    {
     "data": {
      "text/html": [
       "Waiting for W&B process to finish... <strong style=\"color:green\">(success).</strong>"
      ],
      "text/plain": [
       "<IPython.core.display.HTML object>"
      ]
     },
     "metadata": {},
     "output_type": "display_data"
    },
    {
     "data": {
      "application/vnd.jupyter.widget-view+json": {
       "model_id": "aac70a7b4b9644ebb40bbb831f25552d",
       "version_major": 2,
       "version_minor": 0
      },
      "text/plain": [
       "VBox(children=(Label(value='0.001 MB of 0.001 MB uploaded (0.000 MB deduped)\\r'), FloatProgress(value=1.0, max…"
      ]
     },
     "metadata": {},
     "output_type": "display_data"
    },
    {
     "data": {
      "text/html": [
       "<style>\n",
       "    table.wandb td:nth-child(1) { padding: 0 10px; text-align: left ; width: auto;} td:nth-child(2) {text-align: left ; width: 100%}\n",
       "    .wandb-row { display: flex; flex-direction: row; flex-wrap: wrap; justify-content: flex-start; width: 100% }\n",
       "    .wandb-col { display: flex; flex-direction: column; flex-basis: 100%; flex: 1; padding: 10px; }\n",
       "    </style>\n",
       "<div class=\"wandb-row\"><div class=\"wandb-col\"><h3>Run history:</h3><br/><table class=\"wandb\"><tr><td>train accuracy</td><td>▁▁▂▂▃▄▇██▇</td></tr><tr><td>train loss</td><td>█▄▃▂▂▂▁▁▁▁</td></tr><tr><td>validation accuracy</td><td>▁▁▁▂▄▅▆▇▇█</td></tr><tr><td>validation loss</td><td>█▅▄▃▂▂▁▁▁▁</td></tr></table><br/></div><div class=\"wandb-col\"><h3>Run summary:</h3><br/><table class=\"wandb\"><tr><td>train accuracy</td><td>0.13709</td></tr><tr><td>train loss</td><td>0.90069</td></tr><tr><td>validation accuracy</td><td>0.144</td></tr><tr><td>validation loss</td><td>0.90062</td></tr></table><br/></div></div>"
      ],
      "text/plain": [
       "<IPython.core.display.HTML object>"
      ]
     },
     "metadata": {},
     "output_type": "display_data"
    },
    {
     "data": {
      "text/html": [
       " View run <strong style=\"color:#cdcd00\">frosty-sweep-11</strong> at: <a href='https://wandb.ai/cs22m019/DL%20Final%20Assignment%201/runs/p5s6yuag' target=\"_blank\">https://wandb.ai/cs22m019/DL%20Final%20Assignment%201/runs/p5s6yuag</a><br/>Synced 6 W&B file(s), 0 media file(s), 0 artifact file(s) and 0 other file(s)"
      ],
      "text/plain": [
       "<IPython.core.display.HTML object>"
      ]
     },
     "metadata": {},
     "output_type": "display_data"
    },
    {
     "data": {
      "text/html": [
       "Find logs at: <code>.\\wandb\\run-20230311_010617-p5s6yuag\\logs</code>"
      ],
      "text/plain": [
       "<IPython.core.display.HTML object>"
      ]
     },
     "metadata": {},
     "output_type": "display_data"
    },
    {
     "name": "stderr",
     "output_type": "stream",
     "text": [
      "\u001b[34m\u001b[1mwandb\u001b[0m: Agent Starting Run: te22yi9e with config:\n",
      "\u001b[34m\u001b[1mwandb\u001b[0m: \tactivation: sigmoid\n",
      "\u001b[34m\u001b[1mwandb\u001b[0m: \tbatch_size: 16\n",
      "\u001b[34m\u001b[1mwandb\u001b[0m: \tepochs: 10\n",
      "\u001b[34m\u001b[1mwandb\u001b[0m: \tlearning_rate: 0.001\n",
      "\u001b[34m\u001b[1mwandb\u001b[0m: \tnumber_of_hidden_layer: 5\n",
      "\u001b[34m\u001b[1mwandb\u001b[0m: \toptimizer: rmsprop\n",
      "\u001b[34m\u001b[1mwandb\u001b[0m: \tsize_of_hidden_layer: 64\n",
      "\u001b[34m\u001b[1mwandb\u001b[0m: \tweight_decay: 0\n",
      "\u001b[34m\u001b[1mwandb\u001b[0m: \tweight_initialization: Xavier\n"
     ]
    },
    {
     "data": {
      "text/html": [
       "Tracking run with wandb version 0.13.11"
      ],
      "text/plain": [
       "<IPython.core.display.HTML object>"
      ]
     },
     "metadata": {},
     "output_type": "display_data"
    },
    {
     "data": {
      "text/html": [
       "Run data is saved locally in <code>C:\\Users\\DELL\\Desktop\\wandb\\run-20230311_011525-te22yi9e</code>"
      ],
      "text/plain": [
       "<IPython.core.display.HTML object>"
      ]
     },
     "metadata": {},
     "output_type": "display_data"
    },
    {
     "data": {
      "text/html": [
       "Syncing run <strong><a href='https://wandb.ai/cs22m019/DL%20Final%20Assignment%201/runs/te22yi9e' target=\"_blank\">crimson-sweep-12</a></strong> to <a href='https://wandb.ai/cs22m019/DL%20Final%20Assignment%201' target=\"_blank\">Weights & Biases</a> (<a href='https://wandb.me/run' target=\"_blank\">docs</a>)<br/>Sweep page: <a href='https://wandb.ai/cs22m019/DL%20Final%20Assignment%201/sweeps/hl8fpi30' target=\"_blank\">https://wandb.ai/cs22m019/DL%20Final%20Assignment%201/sweeps/hl8fpi30</a>"
      ],
      "text/plain": [
       "<IPython.core.display.HTML object>"
      ]
     },
     "metadata": {},
     "output_type": "display_data"
    },
    {
     "data": {
      "text/html": [
       " View project at <a href='https://wandb.ai/cs22m019/DL%20Final%20Assignment%201' target=\"_blank\">https://wandb.ai/cs22m019/DL%20Final%20Assignment%201</a>"
      ],
      "text/plain": [
       "<IPython.core.display.HTML object>"
      ]
     },
     "metadata": {},
     "output_type": "display_data"
    },
    {
     "data": {
      "text/html": [
       " View sweep at <a href='https://wandb.ai/cs22m019/DL%20Final%20Assignment%201/sweeps/hl8fpi30' target=\"_blank\">https://wandb.ai/cs22m019/DL%20Final%20Assignment%201/sweeps/hl8fpi30</a>"
      ],
      "text/plain": [
       "<IPython.core.display.HTML object>"
      ]
     },
     "metadata": {},
     "output_type": "display_data"
    },
    {
     "data": {
      "text/html": [
       " View run at <a href='https://wandb.ai/cs22m019/DL%20Final%20Assignment%201/runs/te22yi9e' target=\"_blank\">https://wandb.ai/cs22m019/DL%20Final%20Assignment%201/runs/te22yi9e</a>"
      ],
      "text/plain": [
       "<IPython.core.display.HTML object>"
      ]
     },
     "metadata": {},
     "output_type": "display_data"
    },
    {
     "name": "stdout",
     "output_type": "stream",
     "text": [
      "epoch:1, train loss:0.9023684356877893, train accuracy:0.10525925925925926, validation loss:0.8997017269232856, validation accuracy:0.09433333333333334\n",
      "epoch:2, train loss:0.8930936653044723, train accuracy:0.17827777777777779, validation loss:0.8668364455985348, validation accuracy:0.19783333333333333\n",
      "epoch:3, train loss:0.815138339667077, train accuracy:0.2609814814814815, validation loss:0.7680091502397763, validation accuracy:0.33216666666666667\n",
      "epoch:4, train loss:0.7342469027151866, train accuracy:0.37392592592592594, validation loss:0.702437147593549, validation accuracy:0.44866666666666666\n",
      "epoch:5, train loss:0.6681381460706419, train accuracy:0.48807407407407405, validation loss:0.6254217935861468, validation accuracy:0.5531666666666667\n",
      "epoch:6, train loss:0.5951174584215023, train accuracy:0.5777222222222222, validation loss:0.5607820754891794, validation accuracy:0.6061666666666666\n",
      "epoch:7, train loss:0.5381279419838977, train accuracy:0.6234259259259259, validation loss:0.5100198191781498, validation accuracy:0.6383333333333333\n",
      "epoch:8, train loss:0.49218769701994697, train accuracy:0.6360370370370371, validation loss:0.4712822600280822, validation accuracy:0.6395\n",
      "epoch:9, train loss:0.46020074110547643, train accuracy:0.6537037037037037, validation loss:0.44390277858362603, validation accuracy:0.6571666666666667\n",
      "epoch:10, train loss:0.4394285829417728, train accuracy:0.6731296296296296, validation loss:0.42583628745309354, validation accuracy:0.6696666666666666\n"
     ]
    },
    {
     "data": {
      "text/html": [
       "Waiting for W&B process to finish... <strong style=\"color:green\">(success).</strong>"
      ],
      "text/plain": [
       "<IPython.core.display.HTML object>"
      ]
     },
     "metadata": {},
     "output_type": "display_data"
    },
    {
     "data": {
      "application/vnd.jupyter.widget-view+json": {
       "model_id": "b8c4003ef1a54962bf836f28c495f7de",
       "version_major": 2,
       "version_minor": 0
      },
      "text/plain": [
       "VBox(children=(Label(value='0.001 MB of 0.001 MB uploaded (0.000 MB deduped)\\r'), FloatProgress(value=1.0, max…"
      ]
     },
     "metadata": {},
     "output_type": "display_data"
    },
    {
     "data": {
      "text/html": [
       "<style>\n",
       "    table.wandb td:nth-child(1) { padding: 0 10px; text-align: left ; width: auto;} td:nth-child(2) {text-align: left ; width: 100%}\n",
       "    .wandb-row { display: flex; flex-direction: row; flex-wrap: wrap; justify-content: flex-start; width: 100% }\n",
       "    .wandb-col { display: flex; flex-direction: column; flex-basis: 100%; flex: 1; padding: 10px; }\n",
       "    </style>\n",
       "<div class=\"wandb-row\"><div class=\"wandb-col\"><h3>Run history:</h3><br/><table class=\"wandb\"><tr><td>train accuracy</td><td>▁▂▃▄▆▇▇███</td></tr><tr><td>train loss</td><td>██▇▅▄▃▂▂▁▁</td></tr><tr><td>validation accuracy</td><td>▁▂▄▅▇▇████</td></tr><tr><td>validation loss</td><td>██▆▅▄▃▂▂▁▁</td></tr></table><br/></div><div class=\"wandb-col\"><h3>Run summary:</h3><br/><table class=\"wandb\"><tr><td>train accuracy</td><td>0.67313</td></tr><tr><td>train loss</td><td>0.43943</td></tr><tr><td>validation accuracy</td><td>0.66967</td></tr><tr><td>validation loss</td><td>0.42584</td></tr></table><br/></div></div>"
      ],
      "text/plain": [
       "<IPython.core.display.HTML object>"
      ]
     },
     "metadata": {},
     "output_type": "display_data"
    },
    {
     "data": {
      "text/html": [
       " View run <strong style=\"color:#cdcd00\">crimson-sweep-12</strong> at: <a href='https://wandb.ai/cs22m019/DL%20Final%20Assignment%201/runs/te22yi9e' target=\"_blank\">https://wandb.ai/cs22m019/DL%20Final%20Assignment%201/runs/te22yi9e</a><br/>Synced 6 W&B file(s), 0 media file(s), 0 artifact file(s) and 0 other file(s)"
      ],
      "text/plain": [
       "<IPython.core.display.HTML object>"
      ]
     },
     "metadata": {},
     "output_type": "display_data"
    },
    {
     "data": {
      "text/html": [
       "Find logs at: <code>.\\wandb\\run-20230311_011525-te22yi9e\\logs</code>"
      ],
      "text/plain": [
       "<IPython.core.display.HTML object>"
      ]
     },
     "metadata": {},
     "output_type": "display_data"
    },
    {
     "name": "stderr",
     "output_type": "stream",
     "text": [
      "\u001b[34m\u001b[1mwandb\u001b[0m: Agent Starting Run: k1tp0225 with config:\n",
      "\u001b[34m\u001b[1mwandb\u001b[0m: \tactivation: sigmoid\n",
      "\u001b[34m\u001b[1mwandb\u001b[0m: \tbatch_size: 16\n",
      "\u001b[34m\u001b[1mwandb\u001b[0m: \tepochs: 5\n",
      "\u001b[34m\u001b[1mwandb\u001b[0m: \tlearning_rate: 0.001\n",
      "\u001b[34m\u001b[1mwandb\u001b[0m: \tnumber_of_hidden_layer: 4\n",
      "\u001b[34m\u001b[1mwandb\u001b[0m: \toptimizer: sgd\n",
      "\u001b[34m\u001b[1mwandb\u001b[0m: \tsize_of_hidden_layer: 32\n",
      "\u001b[34m\u001b[1mwandb\u001b[0m: \tweight_decay: 0.5\n",
      "\u001b[34m\u001b[1mwandb\u001b[0m: \tweight_initialization: Xavier\n"
     ]
    },
    {
     "data": {
      "text/html": [
       "Tracking run with wandb version 0.13.11"
      ],
      "text/plain": [
       "<IPython.core.display.HTML object>"
      ]
     },
     "metadata": {},
     "output_type": "display_data"
    },
    {
     "data": {
      "text/html": [
       "Run data is saved locally in <code>C:\\Users\\DELL\\Desktop\\wandb\\run-20230311_012830-k1tp0225</code>"
      ],
      "text/plain": [
       "<IPython.core.display.HTML object>"
      ]
     },
     "metadata": {},
     "output_type": "display_data"
    },
    {
     "data": {
      "text/html": [
       "Syncing run <strong><a href='https://wandb.ai/cs22m019/DL%20Final%20Assignment%201/runs/k1tp0225' target=\"_blank\">crimson-sweep-13</a></strong> to <a href='https://wandb.ai/cs22m019/DL%20Final%20Assignment%201' target=\"_blank\">Weights & Biases</a> (<a href='https://wandb.me/run' target=\"_blank\">docs</a>)<br/>Sweep page: <a href='https://wandb.ai/cs22m019/DL%20Final%20Assignment%201/sweeps/hl8fpi30' target=\"_blank\">https://wandb.ai/cs22m019/DL%20Final%20Assignment%201/sweeps/hl8fpi30</a>"
      ],
      "text/plain": [
       "<IPython.core.display.HTML object>"
      ]
     },
     "metadata": {},
     "output_type": "display_data"
    },
    {
     "data": {
      "text/html": [
       " View project at <a href='https://wandb.ai/cs22m019/DL%20Final%20Assignment%201' target=\"_blank\">https://wandb.ai/cs22m019/DL%20Final%20Assignment%201</a>"
      ],
      "text/plain": [
       "<IPython.core.display.HTML object>"
      ]
     },
     "metadata": {},
     "output_type": "display_data"
    },
    {
     "data": {
      "text/html": [
       " View sweep at <a href='https://wandb.ai/cs22m019/DL%20Final%20Assignment%201/sweeps/hl8fpi30' target=\"_blank\">https://wandb.ai/cs22m019/DL%20Final%20Assignment%201/sweeps/hl8fpi30</a>"
      ],
      "text/plain": [
       "<IPython.core.display.HTML object>"
      ]
     },
     "metadata": {},
     "output_type": "display_data"
    },
    {
     "data": {
      "text/html": [
       " View run at <a href='https://wandb.ai/cs22m019/DL%20Final%20Assignment%201/runs/k1tp0225' target=\"_blank\">https://wandb.ai/cs22m019/DL%20Final%20Assignment%201/runs/k1tp0225</a>"
      ],
      "text/plain": [
       "<IPython.core.display.HTML object>"
      ]
     },
     "metadata": {},
     "output_type": "display_data"
    },
    {
     "name": "stdout",
     "output_type": "stream",
     "text": [
      "epoch:1, train loss:0.9479798860051066, train accuracy:0.09931481481481481, validation loss:0.9422228081117675, validation accuracy:0.10616666666666667\n",
      "epoch:2, train loss:0.9418058256448395, train accuracy:0.09931481481481481, validation loss:0.9373637997331774, validation accuracy:0.10616666666666667\n",
      "epoch:3, train loss:0.9374411352225215, train accuracy:0.09931481481481481, validation loss:0.933817084119801, validation accuracy:0.10616666666666667\n",
      "epoch:4, train loss:0.934088482859703, train accuracy:0.09931481481481481, validation loss:0.9309029582226268, validation accuracy:0.10616666666666667\n",
      "epoch:5, train loss:0.9313492644644158, train accuracy:0.09931481481481481, validation loss:0.9287152358409821, validation accuracy:0.10616666666666667\n"
     ]
    },
    {
     "data": {
      "text/html": [
       "Waiting for W&B process to finish... <strong style=\"color:green\">(success).</strong>"
      ],
      "text/plain": [
       "<IPython.core.display.HTML object>"
      ]
     },
     "metadata": {},
     "output_type": "display_data"
    },
    {
     "data": {
      "application/vnd.jupyter.widget-view+json": {
       "model_id": "cba87bd993014601a8a1f97654a66bdd",
       "version_major": 2,
       "version_minor": 0
      },
      "text/plain": [
       "VBox(children=(Label(value='0.001 MB of 0.001 MB uploaded (0.000 MB deduped)\\r'), FloatProgress(value=1.0, max…"
      ]
     },
     "metadata": {},
     "output_type": "display_data"
    },
    {
     "data": {
      "text/html": [
       "<style>\n",
       "    table.wandb td:nth-child(1) { padding: 0 10px; text-align: left ; width: auto;} td:nth-child(2) {text-align: left ; width: 100%}\n",
       "    .wandb-row { display: flex; flex-direction: row; flex-wrap: wrap; justify-content: flex-start; width: 100% }\n",
       "    .wandb-col { display: flex; flex-direction: column; flex-basis: 100%; flex: 1; padding: 10px; }\n",
       "    </style>\n",
       "<div class=\"wandb-row\"><div class=\"wandb-col\"><h3>Run history:</h3><br/><table class=\"wandb\"><tr><td>train accuracy</td><td>▁▁▁▁▁</td></tr><tr><td>train loss</td><td>█▅▄▂▁</td></tr><tr><td>validation accuracy</td><td>▁▁▁▁▁</td></tr><tr><td>validation loss</td><td>█▅▄▂▁</td></tr></table><br/></div><div class=\"wandb-col\"><h3>Run summary:</h3><br/><table class=\"wandb\"><tr><td>train accuracy</td><td>0.09931</td></tr><tr><td>train loss</td><td>0.93135</td></tr><tr><td>validation accuracy</td><td>0.10617</td></tr><tr><td>validation loss</td><td>0.92872</td></tr></table><br/></div></div>"
      ],
      "text/plain": [
       "<IPython.core.display.HTML object>"
      ]
     },
     "metadata": {},
     "output_type": "display_data"
    },
    {
     "data": {
      "text/html": [
       " View run <strong style=\"color:#cdcd00\">crimson-sweep-13</strong> at: <a href='https://wandb.ai/cs22m019/DL%20Final%20Assignment%201/runs/k1tp0225' target=\"_blank\">https://wandb.ai/cs22m019/DL%20Final%20Assignment%201/runs/k1tp0225</a><br/>Synced 6 W&B file(s), 0 media file(s), 0 artifact file(s) and 0 other file(s)"
      ],
      "text/plain": [
       "<IPython.core.display.HTML object>"
      ]
     },
     "metadata": {},
     "output_type": "display_data"
    },
    {
     "data": {
      "text/html": [
       "Find logs at: <code>.\\wandb\\run-20230311_012830-k1tp0225\\logs</code>"
      ],
      "text/plain": [
       "<IPython.core.display.HTML object>"
      ]
     },
     "metadata": {},
     "output_type": "display_data"
    },
    {
     "name": "stderr",
     "output_type": "stream",
     "text": [
      "\u001b[34m\u001b[1mwandb\u001b[0m: Agent Starting Run: on9ypz0o with config:\n",
      "\u001b[34m\u001b[1mwandb\u001b[0m: \tactivation: ReLU\n",
      "\u001b[34m\u001b[1mwandb\u001b[0m: \tbatch_size: 32\n",
      "\u001b[34m\u001b[1mwandb\u001b[0m: \tepochs: 5\n",
      "\u001b[34m\u001b[1mwandb\u001b[0m: \tlearning_rate: 0.001\n",
      "\u001b[34m\u001b[1mwandb\u001b[0m: \tnumber_of_hidden_layer: 5\n",
      "\u001b[34m\u001b[1mwandb\u001b[0m: \toptimizer: rmsprop\n",
      "\u001b[34m\u001b[1mwandb\u001b[0m: \tsize_of_hidden_layer: 128\n",
      "\u001b[34m\u001b[1mwandb\u001b[0m: \tweight_decay: 0\n",
      "\u001b[34m\u001b[1mwandb\u001b[0m: \tweight_initialization: Xavier\n"
     ]
    },
    {
     "data": {
      "text/html": [
       "Tracking run with wandb version 0.13.11"
      ],
      "text/plain": [
       "<IPython.core.display.HTML object>"
      ]
     },
     "metadata": {},
     "output_type": "display_data"
    },
    {
     "data": {
      "text/html": [
       "Run data is saved locally in <code>C:\\Users\\DELL\\Desktop\\wandb\\run-20230311_013322-on9ypz0o</code>"
      ],
      "text/plain": [
       "<IPython.core.display.HTML object>"
      ]
     },
     "metadata": {},
     "output_type": "display_data"
    },
    {
     "data": {
      "text/html": [
       "Syncing run <strong><a href='https://wandb.ai/cs22m019/DL%20Final%20Assignment%201/runs/on9ypz0o' target=\"_blank\">earthy-sweep-14</a></strong> to <a href='https://wandb.ai/cs22m019/DL%20Final%20Assignment%201' target=\"_blank\">Weights & Biases</a> (<a href='https://wandb.me/run' target=\"_blank\">docs</a>)<br/>Sweep page: <a href='https://wandb.ai/cs22m019/DL%20Final%20Assignment%201/sweeps/hl8fpi30' target=\"_blank\">https://wandb.ai/cs22m019/DL%20Final%20Assignment%201/sweeps/hl8fpi30</a>"
      ],
      "text/plain": [
       "<IPython.core.display.HTML object>"
      ]
     },
     "metadata": {},
     "output_type": "display_data"
    },
    {
     "data": {
      "text/html": [
       " View project at <a href='https://wandb.ai/cs22m019/DL%20Final%20Assignment%201' target=\"_blank\">https://wandb.ai/cs22m019/DL%20Final%20Assignment%201</a>"
      ],
      "text/plain": [
       "<IPython.core.display.HTML object>"
      ]
     },
     "metadata": {},
     "output_type": "display_data"
    },
    {
     "data": {
      "text/html": [
       " View sweep at <a href='https://wandb.ai/cs22m019/DL%20Final%20Assignment%201/sweeps/hl8fpi30' target=\"_blank\">https://wandb.ai/cs22m019/DL%20Final%20Assignment%201/sweeps/hl8fpi30</a>"
      ],
      "text/plain": [
       "<IPython.core.display.HTML object>"
      ]
     },
     "metadata": {},
     "output_type": "display_data"
    },
    {
     "data": {
      "text/html": [
       " View run at <a href='https://wandb.ai/cs22m019/DL%20Final%20Assignment%201/runs/on9ypz0o' target=\"_blank\">https://wandb.ai/cs22m019/DL%20Final%20Assignment%201/runs/on9ypz0o</a>"
      ],
      "text/plain": [
       "<IPython.core.display.HTML object>"
      ]
     },
     "metadata": {},
     "output_type": "display_data"
    },
    {
     "name": "stdout",
     "output_type": "stream",
     "text": [
      "epoch:1, train loss:0.5159458703070819, train accuracy:0.6450185185185185, validation loss:0.33611388866808056, validation accuracy:0.7798333333333334\n",
      "epoch:2, train loss:0.3012031885086937, train accuracy:0.7953333333333333, validation loss:0.2830355068573019, validation accuracy:0.8076666666666666\n",
      "epoch:3, train loss:0.2706362352995023, train accuracy:0.8154814814814815, validation loss:0.2618668733888682, validation accuracy:0.8171666666666667\n",
      "epoch:4, train loss:0.2536795628896406, train accuracy:0.8276666666666667, validation loss:0.25795959162768817, validation accuracy:0.826\n",
      "epoch:5, train loss:0.24136282345206914, train accuracy:0.8347407407407408, validation loss:0.23594560292565242, validation accuracy:0.8371666666666666\n"
     ]
    },
    {
     "data": {
      "text/html": [
       "Waiting for W&B process to finish... <strong style=\"color:green\">(success).</strong>"
      ],
      "text/plain": [
       "<IPython.core.display.HTML object>"
      ]
     },
     "metadata": {},
     "output_type": "display_data"
    },
    {
     "data": {
      "text/html": [
       "<style>\n",
       "    table.wandb td:nth-child(1) { padding: 0 10px; text-align: left ; width: auto;} td:nth-child(2) {text-align: left ; width: 100%}\n",
       "    .wandb-row { display: flex; flex-direction: row; flex-wrap: wrap; justify-content: flex-start; width: 100% }\n",
       "    .wandb-col { display: flex; flex-direction: column; flex-basis: 100%; flex: 1; padding: 10px; }\n",
       "    </style>\n",
       "<div class=\"wandb-row\"><div class=\"wandb-col\"><h3>Run history:</h3><br/><table class=\"wandb\"><tr><td>train accuracy</td><td>▁▇▇██</td></tr><tr><td>train loss</td><td>█▃▂▁▁</td></tr><tr><td>validation accuracy</td><td>▁▄▆▇█</td></tr><tr><td>validation loss</td><td>█▄▃▃▁</td></tr></table><br/></div><div class=\"wandb-col\"><h3>Run summary:</h3><br/><table class=\"wandb\"><tr><td>train accuracy</td><td>0.83474</td></tr><tr><td>train loss</td><td>0.24136</td></tr><tr><td>validation accuracy</td><td>0.83717</td></tr><tr><td>validation loss</td><td>0.23595</td></tr></table><br/></div></div>"
      ],
      "text/plain": [
       "<IPython.core.display.HTML object>"
      ]
     },
     "metadata": {},
     "output_type": "display_data"
    },
    {
     "data": {
      "text/html": [
       " View run <strong style=\"color:#cdcd00\">earthy-sweep-14</strong> at: <a href='https://wandb.ai/cs22m019/DL%20Final%20Assignment%201/runs/on9ypz0o' target=\"_blank\">https://wandb.ai/cs22m019/DL%20Final%20Assignment%201/runs/on9ypz0o</a><br/>Synced 6 W&B file(s), 0 media file(s), 0 artifact file(s) and 0 other file(s)"
      ],
      "text/plain": [
       "<IPython.core.display.HTML object>"
      ]
     },
     "metadata": {},
     "output_type": "display_data"
    },
    {
     "data": {
      "text/html": [
       "Find logs at: <code>.\\wandb\\run-20230311_013322-on9ypz0o\\logs</code>"
      ],
      "text/plain": [
       "<IPython.core.display.HTML object>"
      ]
     },
     "metadata": {},
     "output_type": "display_data"
    },
    {
     "name": "stderr",
     "output_type": "stream",
     "text": [
      "\u001b[34m\u001b[1mwandb\u001b[0m: Agent Starting Run: f37c8qa9 with config:\n",
      "\u001b[34m\u001b[1mwandb\u001b[0m: \tactivation: tanh\n",
      "\u001b[34m\u001b[1mwandb\u001b[0m: \tbatch_size: 16\n",
      "\u001b[34m\u001b[1mwandb\u001b[0m: \tepochs: 10\n",
      "\u001b[34m\u001b[1mwandb\u001b[0m: \tlearning_rate: 0.001\n",
      "\u001b[34m\u001b[1mwandb\u001b[0m: \tnumber_of_hidden_layer: 4\n",
      "\u001b[34m\u001b[1mwandb\u001b[0m: \toptimizer: nestrov\n",
      "\u001b[34m\u001b[1mwandb\u001b[0m: \tsize_of_hidden_layer: 128\n",
      "\u001b[34m\u001b[1mwandb\u001b[0m: \tweight_decay: 0\n",
      "\u001b[34m\u001b[1mwandb\u001b[0m: \tweight_initialization: random\n"
     ]
    },
    {
     "data": {
      "text/html": [
       "Tracking run with wandb version 0.13.11"
      ],
      "text/plain": [
       "<IPython.core.display.HTML object>"
      ]
     },
     "metadata": {},
     "output_type": "display_data"
    },
    {
     "data": {
      "text/html": [
       "Run data is saved locally in <code>C:\\Users\\DELL\\Desktop\\wandb\\run-20230311_015003-f37c8qa9</code>"
      ],
      "text/plain": [
       "<IPython.core.display.HTML object>"
      ]
     },
     "metadata": {},
     "output_type": "display_data"
    },
    {
     "data": {
      "text/html": [
       "Syncing run <strong><a href='https://wandb.ai/cs22m019/DL%20Final%20Assignment%201/runs/f37c8qa9' target=\"_blank\">floral-sweep-15</a></strong> to <a href='https://wandb.ai/cs22m019/DL%20Final%20Assignment%201' target=\"_blank\">Weights & Biases</a> (<a href='https://wandb.me/run' target=\"_blank\">docs</a>)<br/>Sweep page: <a href='https://wandb.ai/cs22m019/DL%20Final%20Assignment%201/sweeps/hl8fpi30' target=\"_blank\">https://wandb.ai/cs22m019/DL%20Final%20Assignment%201/sweeps/hl8fpi30</a>"
      ],
      "text/plain": [
       "<IPython.core.display.HTML object>"
      ]
     },
     "metadata": {},
     "output_type": "display_data"
    },
    {
     "data": {
      "text/html": [
       " View project at <a href='https://wandb.ai/cs22m019/DL%20Final%20Assignment%201' target=\"_blank\">https://wandb.ai/cs22m019/DL%20Final%20Assignment%201</a>"
      ],
      "text/plain": [
       "<IPython.core.display.HTML object>"
      ]
     },
     "metadata": {},
     "output_type": "display_data"
    },
    {
     "data": {
      "text/html": [
       " View sweep at <a href='https://wandb.ai/cs22m019/DL%20Final%20Assignment%201/sweeps/hl8fpi30' target=\"_blank\">https://wandb.ai/cs22m019/DL%20Final%20Assignment%201/sweeps/hl8fpi30</a>"
      ],
      "text/plain": [
       "<IPython.core.display.HTML object>"
      ]
     },
     "metadata": {},
     "output_type": "display_data"
    },
    {
     "data": {
      "text/html": [
       " View run at <a href='https://wandb.ai/cs22m019/DL%20Final%20Assignment%201/runs/f37c8qa9' target=\"_blank\">https://wandb.ai/cs22m019/DL%20Final%20Assignment%201/runs/f37c8qa9</a>"
      ],
      "text/plain": [
       "<IPython.core.display.HTML object>"
      ]
     },
     "metadata": {},
     "output_type": "display_data"
    },
    {
     "name": "stdout",
     "output_type": "stream",
     "text": [
      "epoch:1, train loss:1.4207176022091277, train accuracy:0.1297037037037037, validation loss:1.287153682697163, validation accuracy:0.18533333333333332\n",
      "epoch:2, train loss:1.1650764699147405, train accuracy:0.22818518518518519, validation loss:1.0385819413742348, validation accuracy:0.2718333333333333\n",
      "epoch:3, train loss:0.9451945051794632, train accuracy:0.31222222222222223, validation loss:0.8394308449973038, validation accuracy:0.37383333333333335\n",
      "epoch:4, train loss:0.786631811012436, train accuracy:0.4036851851851852, validation loss:0.7363271603658362, validation accuracy:0.43383333333333335\n",
      "epoch:5, train loss:0.7004908325251976, train accuracy:0.4653703703703704, validation loss:0.6688062113855355, validation accuracy:0.4886666666666667\n",
      "epoch:6, train loss:0.6458599211090337, train accuracy:0.5092777777777778, validation loss:0.620512597479431, validation accuracy:0.5255\n",
      "epoch:7, train loss:0.6074949710894907, train accuracy:0.5398888888888889, validation loss:0.5888645240452021, validation accuracy:0.559\n",
      "epoch:8, train loss:0.5793092436924084, train accuracy:0.5619814814814815, validation loss:0.562787460923231, validation accuracy:0.5766666666666667\n",
      "epoch:9, train loss:0.5552765951752949, train accuracy:0.5808333333333333, validation loss:0.5426085775742486, validation accuracy:0.5921666666666666\n",
      "epoch:10, train loss:0.53558776430433, train accuracy:0.5963518518518518, validation loss:0.5250340275163813, validation accuracy:0.6048333333333333\n"
     ]
    },
    {
     "data": {
      "text/html": [
       "Waiting for W&B process to finish... <strong style=\"color:green\">(success).</strong>"
      ],
      "text/plain": [
       "<IPython.core.display.HTML object>"
      ]
     },
     "metadata": {},
     "output_type": "display_data"
    },
    {
     "data": {
      "text/html": [
       "<style>\n",
       "    table.wandb td:nth-child(1) { padding: 0 10px; text-align: left ; width: auto;} td:nth-child(2) {text-align: left ; width: 100%}\n",
       "    .wandb-row { display: flex; flex-direction: row; flex-wrap: wrap; justify-content: flex-start; width: 100% }\n",
       "    .wandb-col { display: flex; flex-direction: column; flex-basis: 100%; flex: 1; padding: 10px; }\n",
       "    </style>\n",
       "<div class=\"wandb-row\"><div class=\"wandb-col\"><h3>Run history:</h3><br/><table class=\"wandb\"><tr><td>train accuracy</td><td>▁▂▄▅▆▇▇▇██</td></tr><tr><td>train loss</td><td>█▆▄▃▂▂▂▁▁▁</td></tr><tr><td>validation accuracy</td><td>▁▂▄▅▆▇▇███</td></tr><tr><td>validation loss</td><td>█▆▄▃▂▂▂▁▁▁</td></tr></table><br/></div><div class=\"wandb-col\"><h3>Run summary:</h3><br/><table class=\"wandb\"><tr><td>train accuracy</td><td>0.59635</td></tr><tr><td>train loss</td><td>0.53559</td></tr><tr><td>validation accuracy</td><td>0.60483</td></tr><tr><td>validation loss</td><td>0.52503</td></tr></table><br/></div></div>"
      ],
      "text/plain": [
       "<IPython.core.display.HTML object>"
      ]
     },
     "metadata": {},
     "output_type": "display_data"
    },
    {
     "data": {
      "text/html": [
       " View run <strong style=\"color:#cdcd00\">floral-sweep-15</strong> at: <a href='https://wandb.ai/cs22m019/DL%20Final%20Assignment%201/runs/f37c8qa9' target=\"_blank\">https://wandb.ai/cs22m019/DL%20Final%20Assignment%201/runs/f37c8qa9</a><br/>Synced 6 W&B file(s), 0 media file(s), 0 artifact file(s) and 0 other file(s)"
      ],
      "text/plain": [
       "<IPython.core.display.HTML object>"
      ]
     },
     "metadata": {},
     "output_type": "display_data"
    },
    {
     "data": {
      "text/html": [
       "Find logs at: <code>.\\wandb\\run-20230311_015003-f37c8qa9\\logs</code>"
      ],
      "text/plain": [
       "<IPython.core.display.HTML object>"
      ]
     },
     "metadata": {},
     "output_type": "display_data"
    },
    {
     "name": "stderr",
     "output_type": "stream",
     "text": [
      "\u001b[34m\u001b[1mwandb\u001b[0m: Sweep Agent: Waiting for job.\n",
      "\u001b[34m\u001b[1mwandb\u001b[0m: Job received.\n",
      "\u001b[34m\u001b[1mwandb\u001b[0m: Agent Starting Run: pmgnsp21 with config:\n",
      "\u001b[34m\u001b[1mwandb\u001b[0m: \tactivation: sigmoid\n",
      "\u001b[34m\u001b[1mwandb\u001b[0m: \tbatch_size: 16\n",
      "\u001b[34m\u001b[1mwandb\u001b[0m: \tepochs: 10\n",
      "\u001b[34m\u001b[1mwandb\u001b[0m: \tlearning_rate: 0.001\n",
      "\u001b[34m\u001b[1mwandb\u001b[0m: \tnumber_of_hidden_layer: 5\n",
      "\u001b[34m\u001b[1mwandb\u001b[0m: \toptimizer: adam\n",
      "\u001b[34m\u001b[1mwandb\u001b[0m: \tsize_of_hidden_layer: 128\n",
      "\u001b[34m\u001b[1mwandb\u001b[0m: \tweight_decay: 0\n",
      "\u001b[34m\u001b[1mwandb\u001b[0m: \tweight_initialization: Xavier\n"
     ]
    },
    {
     "data": {
      "text/html": [
       "Tracking run with wandb version 0.13.11"
      ],
      "text/plain": [
       "<IPython.core.display.HTML object>"
      ]
     },
     "metadata": {},
     "output_type": "display_data"
    },
    {
     "data": {
      "text/html": [
       "Run data is saved locally in <code>C:\\Users\\DELL\\Desktop\\wandb\\run-20230311_021420-pmgnsp21</code>"
      ],
      "text/plain": [
       "<IPython.core.display.HTML object>"
      ]
     },
     "metadata": {},
     "output_type": "display_data"
    },
    {
     "data": {
      "text/html": [
       "Syncing run <strong><a href='https://wandb.ai/cs22m019/DL%20Final%20Assignment%201/runs/pmgnsp21' target=\"_blank\">effortless-sweep-16</a></strong> to <a href='https://wandb.ai/cs22m019/DL%20Final%20Assignment%201' target=\"_blank\">Weights & Biases</a> (<a href='https://wandb.me/run' target=\"_blank\">docs</a>)<br/>Sweep page: <a href='https://wandb.ai/cs22m019/DL%20Final%20Assignment%201/sweeps/hl8fpi30' target=\"_blank\">https://wandb.ai/cs22m019/DL%20Final%20Assignment%201/sweeps/hl8fpi30</a>"
      ],
      "text/plain": [
       "<IPython.core.display.HTML object>"
      ]
     },
     "metadata": {},
     "output_type": "display_data"
    },
    {
     "data": {
      "text/html": [
       " View project at <a href='https://wandb.ai/cs22m019/DL%20Final%20Assignment%201' target=\"_blank\">https://wandb.ai/cs22m019/DL%20Final%20Assignment%201</a>"
      ],
      "text/plain": [
       "<IPython.core.display.HTML object>"
      ]
     },
     "metadata": {},
     "output_type": "display_data"
    },
    {
     "data": {
      "text/html": [
       " View sweep at <a href='https://wandb.ai/cs22m019/DL%20Final%20Assignment%201/sweeps/hl8fpi30' target=\"_blank\">https://wandb.ai/cs22m019/DL%20Final%20Assignment%201/sweeps/hl8fpi30</a>"
      ],
      "text/plain": [
       "<IPython.core.display.HTML object>"
      ]
     },
     "metadata": {},
     "output_type": "display_data"
    },
    {
     "data": {
      "text/html": [
       " View run at <a href='https://wandb.ai/cs22m019/DL%20Final%20Assignment%201/runs/pmgnsp21' target=\"_blank\">https://wandb.ai/cs22m019/DL%20Final%20Assignment%201/runs/pmgnsp21</a>"
      ],
      "text/plain": [
       "<IPython.core.display.HTML object>"
      ]
     },
     "metadata": {},
     "output_type": "display_data"
    },
    {
     "name": "stdout",
     "output_type": "stream",
     "text": [
      "epoch:1, train loss:0.9001556620449559, train accuracy:0.11212962962962963, validation loss:0.8963687792543281, validation accuracy:0.10066666666666667\n",
      "epoch:2, train loss:0.8156877302787642, train accuracy:0.25683333333333336, validation loss:0.7388696185589124, validation accuracy:0.32516666666666666\n",
      "epoch:3, train loss:0.6835824650994705, train accuracy:0.4164074074074074, validation loss:0.6291360469140108, validation accuracy:0.4801666666666667\n",
      "epoch:4, train loss:0.5911549096951942, train accuracy:0.5255185185185185, validation loss:0.5567443933355858, validation accuracy:0.5618333333333333\n",
      "epoch:5, train loss:0.5387892901085874, train accuracy:0.5731666666666667, validation loss:0.5216006452751288, validation accuracy:0.5793333333333334\n",
      "epoch:6, train loss:0.5089543844828519, train accuracy:0.5885370370370371, validation loss:0.5059403863303623, validation accuracy:0.5873333333333334\n",
      "epoch:7, train loss:0.4852227657330948, train accuracy:0.6199259259259259, validation loss:0.4756207186198379, validation accuracy:0.641\n",
      "epoch:8, train loss:0.45420018413190466, train accuracy:0.6613518518518519, validation loss:0.43976785048017164, validation accuracy:0.6713333333333333\n",
      "epoch:9, train loss:0.42832649659935984, train accuracy:0.6770555555555555, validation loss:0.41353596338528087, validation accuracy:0.6873333333333334\n",
      "epoch:10, train loss:0.40818843141274225, train accuracy:0.6889259259259259, validation loss:0.3947663242319979, validation accuracy:0.704\n"
     ]
    },
    {
     "data": {
      "text/html": [
       "Waiting for W&B process to finish... <strong style=\"color:green\">(success).</strong>"
      ],
      "text/plain": [
       "<IPython.core.display.HTML object>"
      ]
     },
     "metadata": {},
     "output_type": "display_data"
    },
    {
     "data": {
      "application/vnd.jupyter.widget-view+json": {
       "model_id": "98d65d9c98b64f28b701d0160b067ff1",
       "version_major": 2,
       "version_minor": 0
      },
      "text/plain": [
       "VBox(children=(Label(value='0.001 MB of 0.001 MB uploaded (0.000 MB deduped)\\r'), FloatProgress(value=1.0, max…"
      ]
     },
     "metadata": {},
     "output_type": "display_data"
    },
    {
     "data": {
      "text/html": [
       "<style>\n",
       "    table.wandb td:nth-child(1) { padding: 0 10px; text-align: left ; width: auto;} td:nth-child(2) {text-align: left ; width: 100%}\n",
       "    .wandb-row { display: flex; flex-direction: row; flex-wrap: wrap; justify-content: flex-start; width: 100% }\n",
       "    .wandb-col { display: flex; flex-direction: column; flex-basis: 100%; flex: 1; padding: 10px; }\n",
       "    </style>\n",
       "<div class=\"wandb-row\"><div class=\"wandb-col\"><h3>Run history:</h3><br/><table class=\"wandb\"><tr><td>train accuracy</td><td>▁▃▅▆▇▇▇███</td></tr><tr><td>train loss</td><td>█▇▅▄▃▂▂▂▁▁</td></tr><tr><td>validation accuracy</td><td>▁▄▅▆▇▇▇███</td></tr><tr><td>validation loss</td><td>█▆▄▃▃▃▂▂▁▁</td></tr></table><br/></div><div class=\"wandb-col\"><h3>Run summary:</h3><br/><table class=\"wandb\"><tr><td>train accuracy</td><td>0.68893</td></tr><tr><td>train loss</td><td>0.40819</td></tr><tr><td>validation accuracy</td><td>0.704</td></tr><tr><td>validation loss</td><td>0.39477</td></tr></table><br/></div></div>"
      ],
      "text/plain": [
       "<IPython.core.display.HTML object>"
      ]
     },
     "metadata": {},
     "output_type": "display_data"
    },
    {
     "data": {
      "text/html": [
       " View run <strong style=\"color:#cdcd00\">effortless-sweep-16</strong> at: <a href='https://wandb.ai/cs22m019/DL%20Final%20Assignment%201/runs/pmgnsp21' target=\"_blank\">https://wandb.ai/cs22m019/DL%20Final%20Assignment%201/runs/pmgnsp21</a><br/>Synced 6 W&B file(s), 0 media file(s), 0 artifact file(s) and 0 other file(s)"
      ],
      "text/plain": [
       "<IPython.core.display.HTML object>"
      ]
     },
     "metadata": {},
     "output_type": "display_data"
    },
    {
     "data": {
      "text/html": [
       "Find logs at: <code>.\\wandb\\run-20230311_021420-pmgnsp21\\logs</code>"
      ],
      "text/plain": [
       "<IPython.core.display.HTML object>"
      ]
     },
     "metadata": {},
     "output_type": "display_data"
    },
    {
     "name": "stderr",
     "output_type": "stream",
     "text": [
      "\u001b[34m\u001b[1mwandb\u001b[0m: Agent Starting Run: glu2zrg0 with config:\n",
      "\u001b[34m\u001b[1mwandb\u001b[0m: \tactivation: tanh\n",
      "\u001b[34m\u001b[1mwandb\u001b[0m: \tbatch_size: 16\n",
      "\u001b[34m\u001b[1mwandb\u001b[0m: \tepochs: 10\n",
      "\u001b[34m\u001b[1mwandb\u001b[0m: \tlearning_rate: 0.001\n",
      "\u001b[34m\u001b[1mwandb\u001b[0m: \tnumber_of_hidden_layer: 3\n",
      "\u001b[34m\u001b[1mwandb\u001b[0m: \toptimizer: nestrov\n",
      "\u001b[34m\u001b[1mwandb\u001b[0m: \tsize_of_hidden_layer: 128\n",
      "\u001b[34m\u001b[1mwandb\u001b[0m: \tweight_decay: 0.5\n",
      "\u001b[34m\u001b[1mwandb\u001b[0m: \tweight_initialization: Xavier\n"
     ]
    },
    {
     "data": {
      "text/html": [
       "Tracking run with wandb version 0.13.11"
      ],
      "text/plain": [
       "<IPython.core.display.HTML object>"
      ]
     },
     "metadata": {},
     "output_type": "display_data"
    },
    {
     "data": {
      "text/html": [
       "Run data is saved locally in <code>C:\\Users\\DELL\\Desktop\\wandb\\run-20230311_025140-glu2zrg0</code>"
      ],
      "text/plain": [
       "<IPython.core.display.HTML object>"
      ]
     },
     "metadata": {},
     "output_type": "display_data"
    },
    {
     "data": {
      "text/html": [
       "Syncing run <strong><a href='https://wandb.ai/cs22m019/DL%20Final%20Assignment%201/runs/glu2zrg0' target=\"_blank\">golden-sweep-17</a></strong> to <a href='https://wandb.ai/cs22m019/DL%20Final%20Assignment%201' target=\"_blank\">Weights & Biases</a> (<a href='https://wandb.me/run' target=\"_blank\">docs</a>)<br/>Sweep page: <a href='https://wandb.ai/cs22m019/DL%20Final%20Assignment%201/sweeps/hl8fpi30' target=\"_blank\">https://wandb.ai/cs22m019/DL%20Final%20Assignment%201/sweeps/hl8fpi30</a>"
      ],
      "text/plain": [
       "<IPython.core.display.HTML object>"
      ]
     },
     "metadata": {},
     "output_type": "display_data"
    },
    {
     "data": {
      "text/html": [
       " View project at <a href='https://wandb.ai/cs22m019/DL%20Final%20Assignment%201' target=\"_blank\">https://wandb.ai/cs22m019/DL%20Final%20Assignment%201</a>"
      ],
      "text/plain": [
       "<IPython.core.display.HTML object>"
      ]
     },
     "metadata": {},
     "output_type": "display_data"
    },
    {
     "data": {
      "text/html": [
       " View sweep at <a href='https://wandb.ai/cs22m019/DL%20Final%20Assignment%201/sweeps/hl8fpi30' target=\"_blank\">https://wandb.ai/cs22m019/DL%20Final%20Assignment%201/sweeps/hl8fpi30</a>"
      ],
      "text/plain": [
       "<IPython.core.display.HTML object>"
      ]
     },
     "metadata": {},
     "output_type": "display_data"
    },
    {
     "data": {
      "text/html": [
       " View run at <a href='https://wandb.ai/cs22m019/DL%20Final%20Assignment%201/runs/glu2zrg0' target=\"_blank\">https://wandb.ai/cs22m019/DL%20Final%20Assignment%201/runs/glu2zrg0</a>"
      ],
      "text/plain": [
       "<IPython.core.display.HTML object>"
      ]
     },
     "metadata": {},
     "output_type": "display_data"
    },
    {
     "name": "stdout",
     "output_type": "stream",
     "text": [
      "epoch:1, train loss:0.753412376597776, train accuracy:0.46025925925925926, validation loss:0.5813479927685602, validation accuracy:0.6328333333333334\n",
      "epoch:2, train loss:0.5046205182596644, train accuracy:0.6769259259259259, validation loss:0.4490814614008179, validation accuracy:0.7143333333333334\n",
      "epoch:3, train loss:0.4213028355383654, train accuracy:0.736462962962963, validation loss:0.3951081930946781, validation accuracy:0.7536666666666667\n",
      "epoch:4, train loss:0.3801531885771814, train accuracy:0.7616851851851851, validation loss:0.3651262114234256, validation accuracy:0.7705\n",
      "epoch:5, train loss:0.35526595095494773, train accuracy:0.7755185185185185, validation loss:0.3454119786870474, validation accuracy:0.7816666666666666\n",
      "epoch:6, train loss:0.337744159063919, train accuracy:0.7862962962962963, validation loss:0.330829740684988, validation accuracy:0.7903333333333333\n",
      "epoch:7, train loss:0.32428932441414504, train accuracy:0.795537037037037, validation loss:0.31867996096927736, validation accuracy:0.7991666666666667\n",
      "epoch:8, train loss:0.31333935662096135, train accuracy:0.8026111111111112, validation loss:0.3108762814076088, validation accuracy:0.8028333333333333\n",
      "epoch:9, train loss:0.30455937313981135, train accuracy:0.8082222222222222, validation loss:0.30282021798903475, validation accuracy:0.8086666666666666\n",
      "epoch:10, train loss:0.2970007715131293, train accuracy:0.8132037037037037, validation loss:0.2953816837504153, validation accuracy:0.8103333333333333\n"
     ]
    },
    {
     "data": {
      "text/html": [
       "Waiting for W&B process to finish... <strong style=\"color:green\">(success).</strong>"
      ],
      "text/plain": [
       "<IPython.core.display.HTML object>"
      ]
     },
     "metadata": {},
     "output_type": "display_data"
    },
    {
     "data": {
      "text/html": [
       "<style>\n",
       "    table.wandb td:nth-child(1) { padding: 0 10px; text-align: left ; width: auto;} td:nth-child(2) {text-align: left ; width: 100%}\n",
       "    .wandb-row { display: flex; flex-direction: row; flex-wrap: wrap; justify-content: flex-start; width: 100% }\n",
       "    .wandb-col { display: flex; flex-direction: column; flex-basis: 100%; flex: 1; padding: 10px; }\n",
       "    </style>\n",
       "<div class=\"wandb-row\"><div class=\"wandb-col\"><h3>Run history:</h3><br/><table class=\"wandb\"><tr><td>train accuracy</td><td>▁▅▆▇▇▇████</td></tr><tr><td>train loss</td><td>█▄▃▂▂▂▁▁▁▁</td></tr><tr><td>validation accuracy</td><td>▁▄▆▆▇▇████</td></tr><tr><td>validation loss</td><td>█▅▃▃▂▂▂▁▁▁</td></tr></table><br/></div><div class=\"wandb-col\"><h3>Run summary:</h3><br/><table class=\"wandb\"><tr><td>train accuracy</td><td>0.8132</td></tr><tr><td>train loss</td><td>0.297</td></tr><tr><td>validation accuracy</td><td>0.81033</td></tr><tr><td>validation loss</td><td>0.29538</td></tr></table><br/></div></div>"
      ],
      "text/plain": [
       "<IPython.core.display.HTML object>"
      ]
     },
     "metadata": {},
     "output_type": "display_data"
    },
    {
     "data": {
      "text/html": [
       " View run <strong style=\"color:#cdcd00\">golden-sweep-17</strong> at: <a href='https://wandb.ai/cs22m019/DL%20Final%20Assignment%201/runs/glu2zrg0' target=\"_blank\">https://wandb.ai/cs22m019/DL%20Final%20Assignment%201/runs/glu2zrg0</a><br/>Synced 6 W&B file(s), 0 media file(s), 0 artifact file(s) and 0 other file(s)"
      ],
      "text/plain": [
       "<IPython.core.display.HTML object>"
      ]
     },
     "metadata": {},
     "output_type": "display_data"
    },
    {
     "data": {
      "text/html": [
       "Find logs at: <code>.\\wandb\\run-20230311_025140-glu2zrg0\\logs</code>"
      ],
      "text/plain": [
       "<IPython.core.display.HTML object>"
      ]
     },
     "metadata": {},
     "output_type": "display_data"
    },
    {
     "name": "stderr",
     "output_type": "stream",
     "text": [
      "\u001b[34m\u001b[1mwandb\u001b[0m: Agent Starting Run: tyq68grv with config:\n",
      "\u001b[34m\u001b[1mwandb\u001b[0m: \tactivation: ReLU\n",
      "\u001b[34m\u001b[1mwandb\u001b[0m: \tbatch_size: 16\n",
      "\u001b[34m\u001b[1mwandb\u001b[0m: \tepochs: 10\n",
      "\u001b[34m\u001b[1mwandb\u001b[0m: \tlearning_rate: 0.0001\n",
      "\u001b[34m\u001b[1mwandb\u001b[0m: \tnumber_of_hidden_layer: 4\n",
      "\u001b[34m\u001b[1mwandb\u001b[0m: \toptimizer: momentum\n",
      "\u001b[34m\u001b[1mwandb\u001b[0m: \tsize_of_hidden_layer: 64\n",
      "\u001b[34m\u001b[1mwandb\u001b[0m: \tweight_decay: 0\n",
      "\u001b[34m\u001b[1mwandb\u001b[0m: \tweight_initialization: random\n"
     ]
    },
    {
     "data": {
      "text/html": [
       "Tracking run with wandb version 0.13.11"
      ],
      "text/plain": [
       "<IPython.core.display.HTML object>"
      ]
     },
     "metadata": {},
     "output_type": "display_data"
    },
    {
     "data": {
      "text/html": [
       "Run data is saved locally in <code>C:\\Users\\DELL\\Desktop\\wandb\\run-20230311_031223-tyq68grv</code>"
      ],
      "text/plain": [
       "<IPython.core.display.HTML object>"
      ]
     },
     "metadata": {},
     "output_type": "display_data"
    },
    {
     "data": {
      "text/html": [
       "Syncing run <strong><a href='https://wandb.ai/cs22m019/DL%20Final%20Assignment%201/runs/tyq68grv' target=\"_blank\">royal-sweep-18</a></strong> to <a href='https://wandb.ai/cs22m019/DL%20Final%20Assignment%201' target=\"_blank\">Weights & Biases</a> (<a href='https://wandb.me/run' target=\"_blank\">docs</a>)<br/>Sweep page: <a href='https://wandb.ai/cs22m019/DL%20Final%20Assignment%201/sweeps/hl8fpi30' target=\"_blank\">https://wandb.ai/cs22m019/DL%20Final%20Assignment%201/sweeps/hl8fpi30</a>"
      ],
      "text/plain": [
       "<IPython.core.display.HTML object>"
      ]
     },
     "metadata": {},
     "output_type": "display_data"
    },
    {
     "data": {
      "text/html": [
       " View project at <a href='https://wandb.ai/cs22m019/DL%20Final%20Assignment%201' target=\"_blank\">https://wandb.ai/cs22m019/DL%20Final%20Assignment%201</a>"
      ],
      "text/plain": [
       "<IPython.core.display.HTML object>"
      ]
     },
     "metadata": {},
     "output_type": "display_data"
    },
    {
     "data": {
      "text/html": [
       " View sweep at <a href='https://wandb.ai/cs22m019/DL%20Final%20Assignment%201/sweeps/hl8fpi30' target=\"_blank\">https://wandb.ai/cs22m019/DL%20Final%20Assignment%201/sweeps/hl8fpi30</a>"
      ],
      "text/plain": [
       "<IPython.core.display.HTML object>"
      ]
     },
     "metadata": {},
     "output_type": "display_data"
    },
    {
     "data": {
      "text/html": [
       " View run at <a href='https://wandb.ai/cs22m019/DL%20Final%20Assignment%201/runs/tyq68grv' target=\"_blank\">https://wandb.ai/cs22m019/DL%20Final%20Assignment%201/runs/tyq68grv</a>"
      ],
      "text/plain": [
       "<IPython.core.display.HTML object>"
      ]
     },
     "metadata": {},
     "output_type": "display_data"
    },
    {
     "name": "stdout",
     "output_type": "stream",
     "text": [
      "epoch:1, train loss:1.7003545084255205, train accuracy:0.147, validation loss:1.6888209099636249, validation accuracy:0.15233333333333332\n",
      "epoch:2, train loss:1.6899219664182137, train accuracy:0.1492037037037037, validation loss:1.6953203422636898, validation accuracy:0.14516666666666667\n",
      "epoch:3, train loss:1.65333401897107, train accuracy:0.16525925925925927, validation loss:1.5697311090639117, validation accuracy:0.20683333333333334\n",
      "epoch:4, train loss:1.6375012022941413, train accuracy:0.17464814814814814, validation loss:1.8114631215742298, validation accuracy:0.09166666666666666\n",
      "epoch:5, train loss:1.784710446412018, train accuracy:0.10727777777777778, validation loss:1.8113333333333332, validation accuracy:0.09433333333333334\n",
      "epoch:6, train loss:1.7987407407407408, train accuracy:0.10062962962962962, validation loss:1.8113333333333332, validation accuracy:0.09433333333333334\n",
      "epoch:7, train loss:1.7987407407407408, train accuracy:0.10062962962962962, validation loss:1.8113333333333332, validation accuracy:0.09433333333333334\n",
      "epoch:8, train loss:1.7987407407407408, train accuracy:0.10062962962962962, validation loss:1.8113333333333332, validation accuracy:0.09433333333333334\n",
      "epoch:9, train loss:1.7987407407407408, train accuracy:0.10062962962962962, validation loss:1.8113333333333332, validation accuracy:0.09433333333333334\n",
      "epoch:10, train loss:1.7987407407407408, train accuracy:0.10062962962962962, validation loss:1.8113333333333332, validation accuracy:0.09433333333333334\n"
     ]
    },
    {
     "data": {
      "text/html": [
       "Waiting for W&B process to finish... <strong style=\"color:green\">(success).</strong>"
      ],
      "text/plain": [
       "<IPython.core.display.HTML object>"
      ]
     },
     "metadata": {},
     "output_type": "display_data"
    },
    {
     "data": {
      "application/vnd.jupyter.widget-view+json": {
       "model_id": "eef77e71e84a4063ab46c0a81f41df05",
       "version_major": 2,
       "version_minor": 0
      },
      "text/plain": [
       "VBox(children=(Label(value='0.001 MB of 0.001 MB uploaded (0.000 MB deduped)\\r'), FloatProgress(value=1.0, max…"
      ]
     },
     "metadata": {},
     "output_type": "display_data"
    },
    {
     "data": {
      "text/html": [
       "<style>\n",
       "    table.wandb td:nth-child(1) { padding: 0 10px; text-align: left ; width: auto;} td:nth-child(2) {text-align: left ; width: 100%}\n",
       "    .wandb-row { display: flex; flex-direction: row; flex-wrap: wrap; justify-content: flex-start; width: 100% }\n",
       "    .wandb-col { display: flex; flex-direction: column; flex-basis: 100%; flex: 1; padding: 10px; }\n",
       "    </style>\n",
       "<div class=\"wandb-row\"><div class=\"wandb-col\"><h3>Run history:</h3><br/><table class=\"wandb\"><tr><td>train accuracy</td><td>▅▆▇█▂▁▁▁▁▁</td></tr><tr><td>train loss</td><td>▄▃▂▁▇█████</td></tr><tr><td>validation accuracy</td><td>▅▄█▁▁▁▁▁▁▁</td></tr><tr><td>validation loss</td><td>▄▅▁███████</td></tr></table><br/></div><div class=\"wandb-col\"><h3>Run summary:</h3><br/><table class=\"wandb\"><tr><td>train accuracy</td><td>0.10063</td></tr><tr><td>train loss</td><td>1.79874</td></tr><tr><td>validation accuracy</td><td>0.09433</td></tr><tr><td>validation loss</td><td>1.81133</td></tr></table><br/></div></div>"
      ],
      "text/plain": [
       "<IPython.core.display.HTML object>"
      ]
     },
     "metadata": {},
     "output_type": "display_data"
    },
    {
     "data": {
      "text/html": [
       " View run <strong style=\"color:#cdcd00\">royal-sweep-18</strong> at: <a href='https://wandb.ai/cs22m019/DL%20Final%20Assignment%201/runs/tyq68grv' target=\"_blank\">https://wandb.ai/cs22m019/DL%20Final%20Assignment%201/runs/tyq68grv</a><br/>Synced 6 W&B file(s), 0 media file(s), 0 artifact file(s) and 0 other file(s)"
      ],
      "text/plain": [
       "<IPython.core.display.HTML object>"
      ]
     },
     "metadata": {},
     "output_type": "display_data"
    },
    {
     "data": {
      "text/html": [
       "Find logs at: <code>.\\wandb\\run-20230311_031223-tyq68grv\\logs</code>"
      ],
      "text/plain": [
       "<IPython.core.display.HTML object>"
      ]
     },
     "metadata": {},
     "output_type": "display_data"
    },
    {
     "name": "stderr",
     "output_type": "stream",
     "text": [
      "\u001b[34m\u001b[1mwandb\u001b[0m: Agent Starting Run: r01k1vsf with config:\n",
      "\u001b[34m\u001b[1mwandb\u001b[0m: \tactivation: sigmoid\n",
      "\u001b[34m\u001b[1mwandb\u001b[0m: \tbatch_size: 32\n",
      "\u001b[34m\u001b[1mwandb\u001b[0m: \tepochs: 10\n",
      "\u001b[34m\u001b[1mwandb\u001b[0m: \tlearning_rate: 0.0001\n",
      "\u001b[34m\u001b[1mwandb\u001b[0m: \tnumber_of_hidden_layer: 3\n",
      "\u001b[34m\u001b[1mwandb\u001b[0m: \toptimizer: sgd\n",
      "\u001b[34m\u001b[1mwandb\u001b[0m: \tsize_of_hidden_layer: 32\n",
      "\u001b[34m\u001b[1mwandb\u001b[0m: \tweight_decay: 0.5\n",
      "\u001b[34m\u001b[1mwandb\u001b[0m: \tweight_initialization: Xavier\n"
     ]
    },
    {
     "data": {
      "text/html": [
       "Tracking run with wandb version 0.13.11"
      ],
      "text/plain": [
       "<IPython.core.display.HTML object>"
      ]
     },
     "metadata": {},
     "output_type": "display_data"
    },
    {
     "data": {
      "text/html": [
       "Run data is saved locally in <code>C:\\Users\\DELL\\Desktop\\wandb\\run-20230311_032422-r01k1vsf</code>"
      ],
      "text/plain": [
       "<IPython.core.display.HTML object>"
      ]
     },
     "metadata": {},
     "output_type": "display_data"
    },
    {
     "data": {
      "text/html": [
       "Syncing run <strong><a href='https://wandb.ai/cs22m019/DL%20Final%20Assignment%201/runs/r01k1vsf' target=\"_blank\">easy-sweep-19</a></strong> to <a href='https://wandb.ai/cs22m019/DL%20Final%20Assignment%201' target=\"_blank\">Weights & Biases</a> (<a href='https://wandb.me/run' target=\"_blank\">docs</a>)<br/>Sweep page: <a href='https://wandb.ai/cs22m019/DL%20Final%20Assignment%201/sweeps/hl8fpi30' target=\"_blank\">https://wandb.ai/cs22m019/DL%20Final%20Assignment%201/sweeps/hl8fpi30</a>"
      ],
      "text/plain": [
       "<IPython.core.display.HTML object>"
      ]
     },
     "metadata": {},
     "output_type": "display_data"
    },
    {
     "data": {
      "text/html": [
       " View project at <a href='https://wandb.ai/cs22m019/DL%20Final%20Assignment%201' target=\"_blank\">https://wandb.ai/cs22m019/DL%20Final%20Assignment%201</a>"
      ],
      "text/plain": [
       "<IPython.core.display.HTML object>"
      ]
     },
     "metadata": {},
     "output_type": "display_data"
    },
    {
     "data": {
      "text/html": [
       " View sweep at <a href='https://wandb.ai/cs22m019/DL%20Final%20Assignment%201/sweeps/hl8fpi30' target=\"_blank\">https://wandb.ai/cs22m019/DL%20Final%20Assignment%201/sweeps/hl8fpi30</a>"
      ],
      "text/plain": [
       "<IPython.core.display.HTML object>"
      ]
     },
     "metadata": {},
     "output_type": "display_data"
    },
    {
     "data": {
      "text/html": [
       " View run at <a href='https://wandb.ai/cs22m019/DL%20Final%20Assignment%201/runs/r01k1vsf' target=\"_blank\">https://wandb.ai/cs22m019/DL%20Final%20Assignment%201/runs/r01k1vsf</a>"
      ],
      "text/plain": [
       "<IPython.core.display.HTML object>"
      ]
     },
     "metadata": {},
     "output_type": "display_data"
    },
    {
     "name": "stdout",
     "output_type": "stream",
     "text": [
      "epoch:1, train loss:0.9454925858167769, train accuracy:0.10001851851851852, validation loss:0.9447149522541978, validation accuracy:0.09983333333333333\n",
      "epoch:2, train loss:0.9453828062810413, train accuracy:0.10001851851851852, validation loss:0.9446034526343672, validation accuracy:0.09983333333333333\n",
      "epoch:3, train loss:0.9452710822171505, train accuracy:0.10001851851851852, validation loss:0.9444905975017077, validation accuracy:0.09983333333333333\n",
      "epoch:4, train loss:0.9451587058779405, train accuracy:0.10001851851851852, validation loss:0.9443772978362508, validation accuracy:0.09983333333333333\n",
      "epoch:5, train loss:0.9450479565610986, train accuracy:0.10001851851851852, validation loss:0.9442728441197644, validation accuracy:0.09983333333333333\n",
      "epoch:6, train loss:0.9449475904475865, train accuracy:0.10001851851851852, validation loss:0.9441710342124789, validation accuracy:0.09983333333333333\n",
      "epoch:7, train loss:0.944839904050323, train accuracy:0.10001851851851852, validation loss:0.9440600590411352, validation accuracy:0.09983333333333333\n",
      "epoch:8, train loss:0.9447311409024084, train accuracy:0.10001851851851852, validation loss:0.9439511928507482, validation accuracy:0.09983333333333333\n",
      "epoch:9, train loss:0.9446264275750094, train accuracy:0.10001851851851852, validation loss:0.9438499759552533, validation accuracy:0.09983333333333333\n",
      "epoch:10, train loss:0.9445267120532734, train accuracy:0.10001851851851852, validation loss:0.9437537477599748, validation accuracy:0.09983333333333333\n"
     ]
    },
    {
     "data": {
      "text/html": [
       "Waiting for W&B process to finish... <strong style=\"color:green\">(success).</strong>"
      ],
      "text/plain": [
       "<IPython.core.display.HTML object>"
      ]
     },
     "metadata": {},
     "output_type": "display_data"
    },
    {
     "data": {
      "application/vnd.jupyter.widget-view+json": {
       "model_id": "6b00950965c64921994b96b3e15f6014",
       "version_major": 2,
       "version_minor": 0
      },
      "text/plain": [
       "VBox(children=(Label(value='0.001 MB of 0.001 MB uploaded (0.000 MB deduped)\\r'), FloatProgress(value=1.0, max…"
      ]
     },
     "metadata": {},
     "output_type": "display_data"
    },
    {
     "data": {
      "text/html": [
       "<style>\n",
       "    table.wandb td:nth-child(1) { padding: 0 10px; text-align: left ; width: auto;} td:nth-child(2) {text-align: left ; width: 100%}\n",
       "    .wandb-row { display: flex; flex-direction: row; flex-wrap: wrap; justify-content: flex-start; width: 100% }\n",
       "    .wandb-col { display: flex; flex-direction: column; flex-basis: 100%; flex: 1; padding: 10px; }\n",
       "    </style>\n",
       "<div class=\"wandb-row\"><div class=\"wandb-col\"><h3>Run history:</h3><br/><table class=\"wandb\"><tr><td>train accuracy</td><td>▁▁▁▁▁▁▁▁▁▁</td></tr><tr><td>train loss</td><td>█▇▆▆▅▄▃▂▂▁</td></tr><tr><td>validation accuracy</td><td>▁▁▁▁▁▁▁▁▁▁</td></tr><tr><td>validation loss</td><td>█▇▆▆▅▄▃▂▂▁</td></tr></table><br/></div><div class=\"wandb-col\"><h3>Run summary:</h3><br/><table class=\"wandb\"><tr><td>train accuracy</td><td>0.10002</td></tr><tr><td>train loss</td><td>0.94453</td></tr><tr><td>validation accuracy</td><td>0.09983</td></tr><tr><td>validation loss</td><td>0.94375</td></tr></table><br/></div></div>"
      ],
      "text/plain": [
       "<IPython.core.display.HTML object>"
      ]
     },
     "metadata": {},
     "output_type": "display_data"
    },
    {
     "data": {
      "text/html": [
       " View run <strong style=\"color:#cdcd00\">easy-sweep-19</strong> at: <a href='https://wandb.ai/cs22m019/DL%20Final%20Assignment%201/runs/r01k1vsf' target=\"_blank\">https://wandb.ai/cs22m019/DL%20Final%20Assignment%201/runs/r01k1vsf</a><br/>Synced 6 W&B file(s), 0 media file(s), 0 artifact file(s) and 0 other file(s)"
      ],
      "text/plain": [
       "<IPython.core.display.HTML object>"
      ]
     },
     "metadata": {},
     "output_type": "display_data"
    },
    {
     "data": {
      "text/html": [
       "Find logs at: <code>.\\wandb\\run-20230311_032422-r01k1vsf\\logs</code>"
      ],
      "text/plain": [
       "<IPython.core.display.HTML object>"
      ]
     },
     "metadata": {},
     "output_type": "display_data"
    },
    {
     "name": "stderr",
     "output_type": "stream",
     "text": [
      "\u001b[34m\u001b[1mwandb\u001b[0m: Agent Starting Run: a1x63ibj with config:\n",
      "\u001b[34m\u001b[1mwandb\u001b[0m: \tactivation: ReLU\n",
      "\u001b[34m\u001b[1mwandb\u001b[0m: \tbatch_size: 32\n",
      "\u001b[34m\u001b[1mwandb\u001b[0m: \tepochs: 10\n",
      "\u001b[34m\u001b[1mwandb\u001b[0m: \tlearning_rate: 0.001\n",
      "\u001b[34m\u001b[1mwandb\u001b[0m: \tnumber_of_hidden_layer: 3\n",
      "\u001b[34m\u001b[1mwandb\u001b[0m: \toptimizer: nestrov\n",
      "\u001b[34m\u001b[1mwandb\u001b[0m: \tsize_of_hidden_layer: 64\n",
      "\u001b[34m\u001b[1mwandb\u001b[0m: \tweight_decay: 0\n",
      "\u001b[34m\u001b[1mwandb\u001b[0m: \tweight_initialization: Xavier\n"
     ]
    },
    {
     "data": {
      "text/html": [
       "Tracking run with wandb version 0.13.11"
      ],
      "text/plain": [
       "<IPython.core.display.HTML object>"
      ]
     },
     "metadata": {},
     "output_type": "display_data"
    },
    {
     "data": {
      "text/html": [
       "Run data is saved locally in <code>C:\\Users\\DELL\\Desktop\\wandb\\run-20230311_033133-a1x63ibj</code>"
      ],
      "text/plain": [
       "<IPython.core.display.HTML object>"
      ]
     },
     "metadata": {},
     "output_type": "display_data"
    },
    {
     "data": {
      "text/html": [
       "Syncing run <strong><a href='https://wandb.ai/cs22m019/DL%20Final%20Assignment%201/runs/a1x63ibj' target=\"_blank\">daily-sweep-20</a></strong> to <a href='https://wandb.ai/cs22m019/DL%20Final%20Assignment%201' target=\"_blank\">Weights & Biases</a> (<a href='https://wandb.me/run' target=\"_blank\">docs</a>)<br/>Sweep page: <a href='https://wandb.ai/cs22m019/DL%20Final%20Assignment%201/sweeps/hl8fpi30' target=\"_blank\">https://wandb.ai/cs22m019/DL%20Final%20Assignment%201/sweeps/hl8fpi30</a>"
      ],
      "text/plain": [
       "<IPython.core.display.HTML object>"
      ]
     },
     "metadata": {},
     "output_type": "display_data"
    },
    {
     "data": {
      "text/html": [
       " View project at <a href='https://wandb.ai/cs22m019/DL%20Final%20Assignment%201' target=\"_blank\">https://wandb.ai/cs22m019/DL%20Final%20Assignment%201</a>"
      ],
      "text/plain": [
       "<IPython.core.display.HTML object>"
      ]
     },
     "metadata": {},
     "output_type": "display_data"
    },
    {
     "data": {
      "text/html": [
       " View sweep at <a href='https://wandb.ai/cs22m019/DL%20Final%20Assignment%201/sweeps/hl8fpi30' target=\"_blank\">https://wandb.ai/cs22m019/DL%20Final%20Assignment%201/sweeps/hl8fpi30</a>"
      ],
      "text/plain": [
       "<IPython.core.display.HTML object>"
      ]
     },
     "metadata": {},
     "output_type": "display_data"
    },
    {
     "data": {
      "text/html": [
       " View run at <a href='https://wandb.ai/cs22m019/DL%20Final%20Assignment%201/runs/a1x63ibj' target=\"_blank\">https://wandb.ai/cs22m019/DL%20Final%20Assignment%201/runs/a1x63ibj</a>"
      ],
      "text/plain": [
       "<IPython.core.display.HTML object>"
      ]
     },
     "metadata": {},
     "output_type": "display_data"
    },
    {
     "name": "stdout",
     "output_type": "stream",
     "text": [
      "epoch:1, train loss:0.9010772335227293, train accuracy:0.11848148148148148, validation loss:0.8773545330789977, validation accuracy:0.1885\n",
      "epoch:2, train loss:0.8430474446523534, train accuracy:0.3207962962962963, validation loss:0.79603112503552, validation accuracy:0.41583333333333333\n",
      "epoch:3, train loss:0.7365025629974195, train accuracy:0.452, validation loss:0.6708814160718618, validation accuracy:0.5168333333333334\n",
      "epoch:4, train loss:0.6211398243736231, train accuracy:0.5556481481481481, validation loss:0.568134747321318, validation accuracy:0.5923333333333334\n",
      "epoch:5, train loss:0.5314073475938264, train accuracy:0.6234259259259259, validation loss:0.502135666841556, validation accuracy:0.6481666666666667\n",
      "epoch:6, train loss:0.4866429417044573, train accuracy:0.6477037037037037, validation loss:0.4742150082416483, validation accuracy:0.6528333333333334\n",
      "epoch:7, train loss:0.4505437923547245, train accuracy:0.6619074074074074, validation loss:0.425033600048334, validation accuracy:0.6748333333333333\n",
      "epoch:8, train loss:0.42675631629187905, train accuracy:0.6786851851851852, validation loss:0.43063098510608133, validation accuracy:0.67\n",
      "epoch:9, train loss:0.42067092107919274, train accuracy:0.6898703703703704, validation loss:0.4002407110728615, validation accuracy:0.7173333333333334\n",
      "epoch:10, train loss:0.4041761036247141, train accuracy:0.7078148148148148, validation loss:0.38037418437678755, validation accuracy:0.7356666666666667\n"
     ]
    },
    {
     "data": {
      "text/html": [
       "Waiting for W&B process to finish... <strong style=\"color:green\">(success).</strong>"
      ],
      "text/plain": [
       "<IPython.core.display.HTML object>"
      ]
     },
     "metadata": {},
     "output_type": "display_data"
    },
    {
     "data": {
      "application/vnd.jupyter.widget-view+json": {
       "model_id": "aa778f4743c44687a80c6ad7f95a8a63",
       "version_major": 2,
       "version_minor": 0
      },
      "text/plain": [
       "VBox(children=(Label(value='0.001 MB of 0.001 MB uploaded (0.000 MB deduped)\\r'), FloatProgress(value=1.0, max…"
      ]
     },
     "metadata": {},
     "output_type": "display_data"
    },
    {
     "data": {
      "text/html": [
       "<style>\n",
       "    table.wandb td:nth-child(1) { padding: 0 10px; text-align: left ; width: auto;} td:nth-child(2) {text-align: left ; width: 100%}\n",
       "    .wandb-row { display: flex; flex-direction: row; flex-wrap: wrap; justify-content: flex-start; width: 100% }\n",
       "    .wandb-col { display: flex; flex-direction: column; flex-basis: 100%; flex: 1; padding: 10px; }\n",
       "    </style>\n",
       "<div class=\"wandb-row\"><div class=\"wandb-col\"><h3>Run history:</h3><br/><table class=\"wandb\"><tr><td>train accuracy</td><td>▁▃▅▆▇▇▇███</td></tr><tr><td>train loss</td><td>█▇▆▄▃▂▂▁▁▁</td></tr><tr><td>validation accuracy</td><td>▁▄▅▆▇▇▇▇██</td></tr><tr><td>validation loss</td><td>█▇▅▄▃▂▂▂▁▁</td></tr></table><br/></div><div class=\"wandb-col\"><h3>Run summary:</h3><br/><table class=\"wandb\"><tr><td>train accuracy</td><td>0.70781</td></tr><tr><td>train loss</td><td>0.40418</td></tr><tr><td>validation accuracy</td><td>0.73567</td></tr><tr><td>validation loss</td><td>0.38037</td></tr></table><br/></div></div>"
      ],
      "text/plain": [
       "<IPython.core.display.HTML object>"
      ]
     },
     "metadata": {},
     "output_type": "display_data"
    },
    {
     "data": {
      "text/html": [
       " View run <strong style=\"color:#cdcd00\">daily-sweep-20</strong> at: <a href='https://wandb.ai/cs22m019/DL%20Final%20Assignment%201/runs/a1x63ibj' target=\"_blank\">https://wandb.ai/cs22m019/DL%20Final%20Assignment%201/runs/a1x63ibj</a><br/>Synced 6 W&B file(s), 0 media file(s), 0 artifact file(s) and 0 other file(s)"
      ],
      "text/plain": [
       "<IPython.core.display.HTML object>"
      ]
     },
     "metadata": {},
     "output_type": "display_data"
    },
    {
     "data": {
      "text/html": [
       "Find logs at: <code>.\\wandb\\run-20230311_033133-a1x63ibj\\logs</code>"
      ],
      "text/plain": [
       "<IPython.core.display.HTML object>"
      ]
     },
     "metadata": {},
     "output_type": "display_data"
    },
    {
     "name": "stderr",
     "output_type": "stream",
     "text": [
      "\u001b[34m\u001b[1mwandb\u001b[0m: Agent Starting Run: phf87g5d with config:\n",
      "\u001b[34m\u001b[1mwandb\u001b[0m: \tactivation: sigmoid\n",
      "\u001b[34m\u001b[1mwandb\u001b[0m: \tbatch_size: 64\n",
      "\u001b[34m\u001b[1mwandb\u001b[0m: \tepochs: 10\n",
      "\u001b[34m\u001b[1mwandb\u001b[0m: \tlearning_rate: 0.0001\n",
      "\u001b[34m\u001b[1mwandb\u001b[0m: \tnumber_of_hidden_layer: 5\n",
      "\u001b[34m\u001b[1mwandb\u001b[0m: \toptimizer: momentum\n",
      "\u001b[34m\u001b[1mwandb\u001b[0m: \tsize_of_hidden_layer: 32\n",
      "\u001b[34m\u001b[1mwandb\u001b[0m: \tweight_decay: 0.5\n",
      "\u001b[34m\u001b[1mwandb\u001b[0m: \tweight_initialization: Xavier\n"
     ]
    },
    {
     "data": {
      "text/html": [
       "Tracking run with wandb version 0.13.11"
      ],
      "text/plain": [
       "<IPython.core.display.HTML object>"
      ]
     },
     "metadata": {},
     "output_type": "display_data"
    },
    {
     "data": {
      "text/html": [
       "Run data is saved locally in <code>C:\\Users\\DELL\\Desktop\\wandb\\run-20230311_034359-phf87g5d</code>"
      ],
      "text/plain": [
       "<IPython.core.display.HTML object>"
      ]
     },
     "metadata": {},
     "output_type": "display_data"
    },
    {
     "data": {
      "text/html": [
       "Syncing run <strong><a href='https://wandb.ai/cs22m019/DL%20Final%20Assignment%201/runs/phf87g5d' target=\"_blank\">sleek-sweep-21</a></strong> to <a href='https://wandb.ai/cs22m019/DL%20Final%20Assignment%201' target=\"_blank\">Weights & Biases</a> (<a href='https://wandb.me/run' target=\"_blank\">docs</a>)<br/>Sweep page: <a href='https://wandb.ai/cs22m019/DL%20Final%20Assignment%201/sweeps/hl8fpi30' target=\"_blank\">https://wandb.ai/cs22m019/DL%20Final%20Assignment%201/sweeps/hl8fpi30</a>"
      ],
      "text/plain": [
       "<IPython.core.display.HTML object>"
      ]
     },
     "metadata": {},
     "output_type": "display_data"
    },
    {
     "data": {
      "text/html": [
       " View project at <a href='https://wandb.ai/cs22m019/DL%20Final%20Assignment%201' target=\"_blank\">https://wandb.ai/cs22m019/DL%20Final%20Assignment%201</a>"
      ],
      "text/plain": [
       "<IPython.core.display.HTML object>"
      ]
     },
     "metadata": {},
     "output_type": "display_data"
    },
    {
     "data": {
      "text/html": [
       " View sweep at <a href='https://wandb.ai/cs22m019/DL%20Final%20Assignment%201/sweeps/hl8fpi30' target=\"_blank\">https://wandb.ai/cs22m019/DL%20Final%20Assignment%201/sweeps/hl8fpi30</a>"
      ],
      "text/plain": [
       "<IPython.core.display.HTML object>"
      ]
     },
     "metadata": {},
     "output_type": "display_data"
    },
    {
     "data": {
      "text/html": [
       " View run at <a href='https://wandb.ai/cs22m019/DL%20Final%20Assignment%201/runs/phf87g5d' target=\"_blank\">https://wandb.ai/cs22m019/DL%20Final%20Assignment%201/runs/phf87g5d</a>"
      ],
      "text/plain": [
       "<IPython.core.display.HTML object>"
      ]
     },
     "metadata": {},
     "output_type": "display_data"
    },
    {
     "name": "stdout",
     "output_type": "stream",
     "text": [
      "epoch:1, train loss:0.9500206769338082, train accuracy:0.09972222222222223, validation loss:0.9490061879954242, validation accuracy:0.1025\n",
      "epoch:2, train loss:0.9484537606827695, train accuracy:0.09972222222222223, validation loss:0.9475294577000164, validation accuracy:0.1025\n",
      "epoch:3, train loss:0.9470116522862999, train accuracy:0.09972222222222223, validation loss:0.9461678026911485, validation accuracy:0.1025\n",
      "epoch:4, train loss:0.9456787329186207, train accuracy:0.09972222222222223, validation loss:0.9449080870783261, validation accuracy:0.1025\n",
      "epoch:5, train loss:0.9444448745657124, train accuracy:0.09972222222222223, validation loss:0.9437392108120202, validation accuracy:0.1025\n",
      "epoch:6, train loss:0.9432973017233898, train accuracy:0.09972222222222223, validation loss:0.9426512413139599, validation accuracy:0.1025\n",
      "epoch:7, train loss:0.9422279544948625, train accuracy:0.09972222222222223, validation loss:0.9416358245300791, validation accuracy:0.1025\n",
      "epoch:8, train loss:0.9412289530495623, train accuracy:0.09972222222222223, validation loss:0.9406858302825216, validation accuracy:0.1025\n",
      "epoch:9, train loss:0.940292740133028, train accuracy:0.09972222222222223, validation loss:0.9397947072802957, validation accuracy:0.1025\n",
      "epoch:10, train loss:0.9394142403204928, train accuracy:0.09972222222222223, validation loss:0.9389570340712201, validation accuracy:0.1025\n"
     ]
    },
    {
     "data": {
      "text/html": [
       "Waiting for W&B process to finish... <strong style=\"color:green\">(success).</strong>"
      ],
      "text/plain": [
       "<IPython.core.display.HTML object>"
      ]
     },
     "metadata": {},
     "output_type": "display_data"
    },
    {
     "data": {
      "text/html": [
       "<style>\n",
       "    table.wandb td:nth-child(1) { padding: 0 10px; text-align: left ; width: auto;} td:nth-child(2) {text-align: left ; width: 100%}\n",
       "    .wandb-row { display: flex; flex-direction: row; flex-wrap: wrap; justify-content: flex-start; width: 100% }\n",
       "    .wandb-col { display: flex; flex-direction: column; flex-basis: 100%; flex: 1; padding: 10px; }\n",
       "    </style>\n",
       "<div class=\"wandb-row\"><div class=\"wandb-col\"><h3>Run history:</h3><br/><table class=\"wandb\"><tr><td>train accuracy</td><td>▁▁▁▁▁▁▁▁▁▁</td></tr><tr><td>train loss</td><td>█▇▆▅▄▄▃▂▂▁</td></tr><tr><td>validation accuracy</td><td>▁▁▁▁▁▁▁▁▁▁</td></tr><tr><td>validation loss</td><td>█▇▆▅▄▄▃▂▂▁</td></tr></table><br/></div><div class=\"wandb-col\"><h3>Run summary:</h3><br/><table class=\"wandb\"><tr><td>train accuracy</td><td>0.09972</td></tr><tr><td>train loss</td><td>0.93941</td></tr><tr><td>validation accuracy</td><td>0.1025</td></tr><tr><td>validation loss</td><td>0.93896</td></tr></table><br/></div></div>"
      ],
      "text/plain": [
       "<IPython.core.display.HTML object>"
      ]
     },
     "metadata": {},
     "output_type": "display_data"
    },
    {
     "data": {
      "text/html": [
       " View run <strong style=\"color:#cdcd00\">sleek-sweep-21</strong> at: <a href='https://wandb.ai/cs22m019/DL%20Final%20Assignment%201/runs/phf87g5d' target=\"_blank\">https://wandb.ai/cs22m019/DL%20Final%20Assignment%201/runs/phf87g5d</a><br/>Synced 6 W&B file(s), 0 media file(s), 0 artifact file(s) and 0 other file(s)"
      ],
      "text/plain": [
       "<IPython.core.display.HTML object>"
      ]
     },
     "metadata": {},
     "output_type": "display_data"
    },
    {
     "data": {
      "text/html": [
       "Find logs at: <code>.\\wandb\\run-20230311_034359-phf87g5d\\logs</code>"
      ],
      "text/plain": [
       "<IPython.core.display.HTML object>"
      ]
     },
     "metadata": {},
     "output_type": "display_data"
    },
    {
     "name": "stderr",
     "output_type": "stream",
     "text": [
      "\u001b[34m\u001b[1mwandb\u001b[0m: Agent Starting Run: p9l2pnnf with config:\n",
      "\u001b[34m\u001b[1mwandb\u001b[0m: \tactivation: ReLU\n",
      "\u001b[34m\u001b[1mwandb\u001b[0m: \tbatch_size: 64\n",
      "\u001b[34m\u001b[1mwandb\u001b[0m: \tepochs: 5\n",
      "\u001b[34m\u001b[1mwandb\u001b[0m: \tlearning_rate: 0.001\n",
      "\u001b[34m\u001b[1mwandb\u001b[0m: \tnumber_of_hidden_layer: 5\n",
      "\u001b[34m\u001b[1mwandb\u001b[0m: \toptimizer: adam\n",
      "\u001b[34m\u001b[1mwandb\u001b[0m: \tsize_of_hidden_layer: 128\n",
      "\u001b[34m\u001b[1mwandb\u001b[0m: \tweight_decay: 0.5\n",
      "\u001b[34m\u001b[1mwandb\u001b[0m: \tweight_initialization: Xavier\n"
     ]
    },
    {
     "data": {
      "text/html": [
       "Tracking run with wandb version 0.13.11"
      ],
      "text/plain": [
       "<IPython.core.display.HTML object>"
      ]
     },
     "metadata": {},
     "output_type": "display_data"
    },
    {
     "data": {
      "text/html": [
       "Run data is saved locally in <code>C:\\Users\\DELL\\Desktop\\wandb\\run-20230311_035552-p9l2pnnf</code>"
      ],
      "text/plain": [
       "<IPython.core.display.HTML object>"
      ]
     },
     "metadata": {},
     "output_type": "display_data"
    },
    {
     "data": {
      "text/html": [
       "Syncing run <strong><a href='https://wandb.ai/cs22m019/DL%20Final%20Assignment%201/runs/p9l2pnnf' target=\"_blank\">radiant-sweep-22</a></strong> to <a href='https://wandb.ai/cs22m019/DL%20Final%20Assignment%201' target=\"_blank\">Weights & Biases</a> (<a href='https://wandb.me/run' target=\"_blank\">docs</a>)<br/>Sweep page: <a href='https://wandb.ai/cs22m019/DL%20Final%20Assignment%201/sweeps/hl8fpi30' target=\"_blank\">https://wandb.ai/cs22m019/DL%20Final%20Assignment%201/sweeps/hl8fpi30</a>"
      ],
      "text/plain": [
       "<IPython.core.display.HTML object>"
      ]
     },
     "metadata": {},
     "output_type": "display_data"
    },
    {
     "data": {
      "text/html": [
       " View project at <a href='https://wandb.ai/cs22m019/DL%20Final%20Assignment%201' target=\"_blank\">https://wandb.ai/cs22m019/DL%20Final%20Assignment%201</a>"
      ],
      "text/plain": [
       "<IPython.core.display.HTML object>"
      ]
     },
     "metadata": {},
     "output_type": "display_data"
    },
    {
     "data": {
      "text/html": [
       " View sweep at <a href='https://wandb.ai/cs22m019/DL%20Final%20Assignment%201/sweeps/hl8fpi30' target=\"_blank\">https://wandb.ai/cs22m019/DL%20Final%20Assignment%201/sweeps/hl8fpi30</a>"
      ],
      "text/plain": [
       "<IPython.core.display.HTML object>"
      ]
     },
     "metadata": {},
     "output_type": "display_data"
    },
    {
     "data": {
      "text/html": [
       " View run at <a href='https://wandb.ai/cs22m019/DL%20Final%20Assignment%201/runs/p9l2pnnf' target=\"_blank\">https://wandb.ai/cs22m019/DL%20Final%20Assignment%201/runs/p9l2pnnf</a>"
      ],
      "text/plain": [
       "<IPython.core.display.HTML object>"
      ]
     },
     "metadata": {},
     "output_type": "display_data"
    },
    {
     "name": "stdout",
     "output_type": "stream",
     "text": [
      "epoch:1, train loss:0.7101825127015605, train accuracy:0.5218518518518519, validation loss:0.4986190165962344, validation accuracy:0.6625\n",
      "epoch:2, train loss:0.4302372359206809, train accuracy:0.7275, validation loss:0.38161972874774563, validation accuracy:0.77\n",
      "epoch:3, train loss:0.3632520765502077, train accuracy:0.7826851851851852, validation loss:0.3479251209343482, validation accuracy:0.7896666666666666\n",
      "epoch:4, train loss:0.33489786156279433, train accuracy:0.798537037037037, validation loss:0.32746837430320036, validation accuracy:0.8043333333333333\n",
      "epoch:5, train loss:0.31863200348679543, train accuracy:0.8085925925925926, validation loss:0.3160587979905969, validation accuracy:0.8058333333333333\n"
     ]
    },
    {
     "data": {
      "text/html": [
       "Waiting for W&B process to finish... <strong style=\"color:green\">(success).</strong>"
      ],
      "text/plain": [
       "<IPython.core.display.HTML object>"
      ]
     },
     "metadata": {},
     "output_type": "display_data"
    },
    {
     "data": {
      "application/vnd.jupyter.widget-view+json": {
       "model_id": "38818c70af394c6386e29d2a197e663f",
       "version_major": 2,
       "version_minor": 0
      },
      "text/plain": [
       "VBox(children=(Label(value='0.001 MB of 0.001 MB uploaded (0.000 MB deduped)\\r'), FloatProgress(value=1.0, max…"
      ]
     },
     "metadata": {},
     "output_type": "display_data"
    },
    {
     "data": {
      "text/html": [
       "<style>\n",
       "    table.wandb td:nth-child(1) { padding: 0 10px; text-align: left ; width: auto;} td:nth-child(2) {text-align: left ; width: 100%}\n",
       "    .wandb-row { display: flex; flex-direction: row; flex-wrap: wrap; justify-content: flex-start; width: 100% }\n",
       "    .wandb-col { display: flex; flex-direction: column; flex-basis: 100%; flex: 1; padding: 10px; }\n",
       "    </style>\n",
       "<div class=\"wandb-row\"><div class=\"wandb-col\"><h3>Run history:</h3><br/><table class=\"wandb\"><tr><td>train accuracy</td><td>▁▆▇██</td></tr><tr><td>train loss</td><td>█▃▂▁▁</td></tr><tr><td>validation accuracy</td><td>▁▆▇██</td></tr><tr><td>validation loss</td><td>█▄▂▁▁</td></tr></table><br/></div><div class=\"wandb-col\"><h3>Run summary:</h3><br/><table class=\"wandb\"><tr><td>train accuracy</td><td>0.80859</td></tr><tr><td>train loss</td><td>0.31863</td></tr><tr><td>validation accuracy</td><td>0.80583</td></tr><tr><td>validation loss</td><td>0.31606</td></tr></table><br/></div></div>"
      ],
      "text/plain": [
       "<IPython.core.display.HTML object>"
      ]
     },
     "metadata": {},
     "output_type": "display_data"
    },
    {
     "data": {
      "text/html": [
       " View run <strong style=\"color:#cdcd00\">radiant-sweep-22</strong> at: <a href='https://wandb.ai/cs22m019/DL%20Final%20Assignment%201/runs/p9l2pnnf' target=\"_blank\">https://wandb.ai/cs22m019/DL%20Final%20Assignment%201/runs/p9l2pnnf</a><br/>Synced 6 W&B file(s), 0 media file(s), 0 artifact file(s) and 0 other file(s)"
      ],
      "text/plain": [
       "<IPython.core.display.HTML object>"
      ]
     },
     "metadata": {},
     "output_type": "display_data"
    },
    {
     "data": {
      "text/html": [
       "Find logs at: <code>.\\wandb\\run-20230311_035552-p9l2pnnf\\logs</code>"
      ],
      "text/plain": [
       "<IPython.core.display.HTML object>"
      ]
     },
     "metadata": {},
     "output_type": "display_data"
    },
    {
     "name": "stderr",
     "output_type": "stream",
     "text": [
      "\u001b[34m\u001b[1mwandb\u001b[0m: Sweep Agent: Waiting for job.\n",
      "\u001b[34m\u001b[1mwandb\u001b[0m: Job received.\n",
      "\u001b[34m\u001b[1mwandb\u001b[0m: Agent Starting Run: xnvj7duz with config:\n",
      "\u001b[34m\u001b[1mwandb\u001b[0m: \tactivation: sigmoid\n",
      "\u001b[34m\u001b[1mwandb\u001b[0m: \tbatch_size: 64\n",
      "\u001b[34m\u001b[1mwandb\u001b[0m: \tepochs: 5\n",
      "\u001b[34m\u001b[1mwandb\u001b[0m: \tlearning_rate: 0.0001\n",
      "\u001b[34m\u001b[1mwandb\u001b[0m: \tnumber_of_hidden_layer: 5\n",
      "\u001b[34m\u001b[1mwandb\u001b[0m: \toptimizer: sgd\n",
      "\u001b[34m\u001b[1mwandb\u001b[0m: \tsize_of_hidden_layer: 32\n",
      "\u001b[34m\u001b[1mwandb\u001b[0m: \tweight_decay: 0.0005\n",
      "\u001b[34m\u001b[1mwandb\u001b[0m: \tweight_initialization: random\n"
     ]
    },
    {
     "data": {
      "text/html": [
       "Tracking run with wandb version 0.13.11"
      ],
      "text/plain": [
       "<IPython.core.display.HTML object>"
      ]
     },
     "metadata": {},
     "output_type": "display_data"
    },
    {
     "data": {
      "text/html": [
       "Run data is saved locally in <code>C:\\Users\\DELL\\Desktop\\wandb\\run-20230311_040830-xnvj7duz</code>"
      ],
      "text/plain": [
       "<IPython.core.display.HTML object>"
      ]
     },
     "metadata": {},
     "output_type": "display_data"
    },
    {
     "data": {
      "text/html": [
       "Syncing run <strong><a href='https://wandb.ai/cs22m019/DL%20Final%20Assignment%201/runs/xnvj7duz' target=\"_blank\">brisk-sweep-23</a></strong> to <a href='https://wandb.ai/cs22m019/DL%20Final%20Assignment%201' target=\"_blank\">Weights & Biases</a> (<a href='https://wandb.me/run' target=\"_blank\">docs</a>)<br/>Sweep page: <a href='https://wandb.ai/cs22m019/DL%20Final%20Assignment%201/sweeps/hl8fpi30' target=\"_blank\">https://wandb.ai/cs22m019/DL%20Final%20Assignment%201/sweeps/hl8fpi30</a>"
      ],
      "text/plain": [
       "<IPython.core.display.HTML object>"
      ]
     },
     "metadata": {},
     "output_type": "display_data"
    },
    {
     "data": {
      "text/html": [
       " View project at <a href='https://wandb.ai/cs22m019/DL%20Final%20Assignment%201' target=\"_blank\">https://wandb.ai/cs22m019/DL%20Final%20Assignment%201</a>"
      ],
      "text/plain": [
       "<IPython.core.display.HTML object>"
      ]
     },
     "metadata": {},
     "output_type": "display_data"
    },
    {
     "data": {
      "text/html": [
       " View sweep at <a href='https://wandb.ai/cs22m019/DL%20Final%20Assignment%201/sweeps/hl8fpi30' target=\"_blank\">https://wandb.ai/cs22m019/DL%20Final%20Assignment%201/sweeps/hl8fpi30</a>"
      ],
      "text/plain": [
       "<IPython.core.display.HTML object>"
      ]
     },
     "metadata": {},
     "output_type": "display_data"
    },
    {
     "data": {
      "text/html": [
       " View run at <a href='https://wandb.ai/cs22m019/DL%20Final%20Assignment%201/runs/xnvj7duz' target=\"_blank\">https://wandb.ai/cs22m019/DL%20Final%20Assignment%201/runs/xnvj7duz</a>"
      ],
      "text/plain": [
       "<IPython.core.display.HTML object>"
      ]
     },
     "metadata": {},
     "output_type": "display_data"
    },
    {
     "name": "stdout",
     "output_type": "stream",
     "text": [
      "epoch:1, train loss:1.067082264258892, train accuracy:0.16974074074074075, validation loss:1.0681229313069365, validation accuracy:0.169\n",
      "epoch:2, train loss:1.0667774915575727, train accuracy:0.17012962962962963, validation loss:1.0678156248311774, validation accuracy:0.1695\n",
      "epoch:3, train loss:1.0664755806169157, train accuracy:0.1703888888888889, validation loss:1.0675228843601272, validation accuracy:0.17016666666666666\n",
      "epoch:4, train loss:1.066171773657005, train accuracy:0.17083333333333334, validation loss:1.0672125559514916, validation accuracy:0.17066666666666666\n",
      "epoch:5, train loss:1.0658676748848015, train accuracy:0.17127777777777778, validation loss:1.0669160531677102, validation accuracy:0.17083333333333334\n"
     ]
    },
    {
     "data": {
      "text/html": [
       "Waiting for W&B process to finish... <strong style=\"color:green\">(success).</strong>"
      ],
      "text/plain": [
       "<IPython.core.display.HTML object>"
      ]
     },
     "metadata": {},
     "output_type": "display_data"
    },
    {
     "data": {
      "text/html": [
       "<style>\n",
       "    table.wandb td:nth-child(1) { padding: 0 10px; text-align: left ; width: auto;} td:nth-child(2) {text-align: left ; width: 100%}\n",
       "    .wandb-row { display: flex; flex-direction: row; flex-wrap: wrap; justify-content: flex-start; width: 100% }\n",
       "    .wandb-col { display: flex; flex-direction: column; flex-basis: 100%; flex: 1; padding: 10px; }\n",
       "    </style>\n",
       "<div class=\"wandb-row\"><div class=\"wandb-col\"><h3>Run history:</h3><br/><table class=\"wandb\"><tr><td>train accuracy</td><td>▁▃▄▆█</td></tr><tr><td>train loss</td><td>█▆▅▃▁</td></tr><tr><td>validation accuracy</td><td>▁▃▅▇█</td></tr><tr><td>validation loss</td><td>█▆▅▃▁</td></tr></table><br/></div><div class=\"wandb-col\"><h3>Run summary:</h3><br/><table class=\"wandb\"><tr><td>train accuracy</td><td>0.17128</td></tr><tr><td>train loss</td><td>1.06587</td></tr><tr><td>validation accuracy</td><td>0.17083</td></tr><tr><td>validation loss</td><td>1.06692</td></tr></table><br/></div></div>"
      ],
      "text/plain": [
       "<IPython.core.display.HTML object>"
      ]
     },
     "metadata": {},
     "output_type": "display_data"
    },
    {
     "data": {
      "text/html": [
       " View run <strong style=\"color:#cdcd00\">brisk-sweep-23</strong> at: <a href='https://wandb.ai/cs22m019/DL%20Final%20Assignment%201/runs/xnvj7duz' target=\"_blank\">https://wandb.ai/cs22m019/DL%20Final%20Assignment%201/runs/xnvj7duz</a><br/>Synced 6 W&B file(s), 0 media file(s), 0 artifact file(s) and 0 other file(s)"
      ],
      "text/plain": [
       "<IPython.core.display.HTML object>"
      ]
     },
     "metadata": {},
     "output_type": "display_data"
    },
    {
     "data": {
      "text/html": [
       "Find logs at: <code>.\\wandb\\run-20230311_040830-xnvj7duz\\logs</code>"
      ],
      "text/plain": [
       "<IPython.core.display.HTML object>"
      ]
     },
     "metadata": {},
     "output_type": "display_data"
    },
    {
     "name": "stderr",
     "output_type": "stream",
     "text": [
      "\u001b[34m\u001b[1mwandb\u001b[0m: Agent Starting Run: 0rb1nrp6 with config:\n",
      "\u001b[34m\u001b[1mwandb\u001b[0m: \tactivation: sigmoid\n",
      "\u001b[34m\u001b[1mwandb\u001b[0m: \tbatch_size: 32\n",
      "\u001b[34m\u001b[1mwandb\u001b[0m: \tepochs: 10\n",
      "\u001b[34m\u001b[1mwandb\u001b[0m: \tlearning_rate: 0.0001\n",
      "\u001b[34m\u001b[1mwandb\u001b[0m: \tnumber_of_hidden_layer: 5\n",
      "\u001b[34m\u001b[1mwandb\u001b[0m: \toptimizer: sgd\n",
      "\u001b[34m\u001b[1mwandb\u001b[0m: \tsize_of_hidden_layer: 32\n",
      "\u001b[34m\u001b[1mwandb\u001b[0m: \tweight_decay: 0.5\n",
      "\u001b[34m\u001b[1mwandb\u001b[0m: \tweight_initialization: Xavier\n"
     ]
    },
    {
     "data": {
      "text/html": [
       "Tracking run with wandb version 0.13.11"
      ],
      "text/plain": [
       "<IPython.core.display.HTML object>"
      ]
     },
     "metadata": {},
     "output_type": "display_data"
    },
    {
     "data": {
      "text/html": [
       "Run data is saved locally in <code>C:\\Users\\DELL\\Desktop\\wandb\\run-20230311_041419-0rb1nrp6</code>"
      ],
      "text/plain": [
       "<IPython.core.display.HTML object>"
      ]
     },
     "metadata": {},
     "output_type": "display_data"
    },
    {
     "data": {
      "text/html": [
       "Syncing run <strong><a href='https://wandb.ai/cs22m019/DL%20Final%20Assignment%201/runs/0rb1nrp6' target=\"_blank\">feasible-sweep-24</a></strong> to <a href='https://wandb.ai/cs22m019/DL%20Final%20Assignment%201' target=\"_blank\">Weights & Biases</a> (<a href='https://wandb.me/run' target=\"_blank\">docs</a>)<br/>Sweep page: <a href='https://wandb.ai/cs22m019/DL%20Final%20Assignment%201/sweeps/hl8fpi30' target=\"_blank\">https://wandb.ai/cs22m019/DL%20Final%20Assignment%201/sweeps/hl8fpi30</a>"
      ],
      "text/plain": [
       "<IPython.core.display.HTML object>"
      ]
     },
     "metadata": {},
     "output_type": "display_data"
    },
    {
     "data": {
      "text/html": [
       " View project at <a href='https://wandb.ai/cs22m019/DL%20Final%20Assignment%201' target=\"_blank\">https://wandb.ai/cs22m019/DL%20Final%20Assignment%201</a>"
      ],
      "text/plain": [
       "<IPython.core.display.HTML object>"
      ]
     },
     "metadata": {},
     "output_type": "display_data"
    },
    {
     "data": {
      "text/html": [
       " View sweep at <a href='https://wandb.ai/cs22m019/DL%20Final%20Assignment%201/sweeps/hl8fpi30' target=\"_blank\">https://wandb.ai/cs22m019/DL%20Final%20Assignment%201/sweeps/hl8fpi30</a>"
      ],
      "text/plain": [
       "<IPython.core.display.HTML object>"
      ]
     },
     "metadata": {},
     "output_type": "display_data"
    },
    {
     "data": {
      "text/html": [
       " View run at <a href='https://wandb.ai/cs22m019/DL%20Final%20Assignment%201/runs/0rb1nrp6' target=\"_blank\">https://wandb.ai/cs22m019/DL%20Final%20Assignment%201/runs/0rb1nrp6</a>"
      ],
      "text/plain": [
       "<IPython.core.display.HTML object>"
      ]
     },
     "metadata": {},
     "output_type": "display_data"
    },
    {
     "name": "stdout",
     "output_type": "stream",
     "text": [
      "epoch:1, train loss:1.0785551692807425, train accuracy:0.09931481481481481, validation loss:1.0730255376792905, validation accuracy:0.10616666666666667\n",
      "epoch:2, train loss:1.0762830067025995, train accuracy:0.09931481481481481, validation loss:1.0708300730386073, validation accuracy:0.10616666666666667\n",
      "epoch:3, train loss:1.0740632443314633, train accuracy:0.09931481481481481, validation loss:1.068725868870294, validation accuracy:0.10616666666666667\n",
      "epoch:4, train loss:1.0719468576862552, train accuracy:0.09931481481481481, validation loss:1.0667054939927714, validation accuracy:0.10616666666666667\n",
      "epoch:5, train loss:1.0698601002297514, train accuracy:0.09931481481481481, validation loss:1.0646568875225777, validation accuracy:0.10616666666666667\n",
      "epoch:6, train loss:1.0677609960417676, train accuracy:0.09931481481481481, validation loss:1.0625598084553736, validation accuracy:0.10616666666666667\n",
      "epoch:7, train loss:1.0656306608999169, train accuracy:0.09931481481481481, validation loss:1.0605228585466473, validation accuracy:0.10616666666666667\n",
      "epoch:8, train loss:1.0636139823303754, train accuracy:0.09931481481481481, validation loss:1.0586007785817109, validation accuracy:0.10616666666666667\n",
      "epoch:9, train loss:1.0616460579058726, train accuracy:0.09931481481481481, validation loss:1.0566874977381662, validation accuracy:0.10616666666666667\n",
      "epoch:10, train loss:1.059695667552656, train accuracy:0.09931481481481481, validation loss:1.0548042717895654, validation accuracy:0.10616666666666667\n"
     ]
    },
    {
     "data": {
      "text/html": [
       "Waiting for W&B process to finish... <strong style=\"color:green\">(success).</strong>"
      ],
      "text/plain": [
       "<IPython.core.display.HTML object>"
      ]
     },
     "metadata": {},
     "output_type": "display_data"
    },
    {
     "data": {
      "application/vnd.jupyter.widget-view+json": {
       "model_id": "f7421ee9457846c28812251aa52d2fb2",
       "version_major": 2,
       "version_minor": 0
      },
      "text/plain": [
       "VBox(children=(Label(value='0.001 MB of 0.001 MB uploaded (0.000 MB deduped)\\r'), FloatProgress(value=1.0, max…"
      ]
     },
     "metadata": {},
     "output_type": "display_data"
    },
    {
     "data": {
      "text/html": [
       "<style>\n",
       "    table.wandb td:nth-child(1) { padding: 0 10px; text-align: left ; width: auto;} td:nth-child(2) {text-align: left ; width: 100%}\n",
       "    .wandb-row { display: flex; flex-direction: row; flex-wrap: wrap; justify-content: flex-start; width: 100% }\n",
       "    .wandb-col { display: flex; flex-direction: column; flex-basis: 100%; flex: 1; padding: 10px; }\n",
       "    </style>\n",
       "<div class=\"wandb-row\"><div class=\"wandb-col\"><h3>Run history:</h3><br/><table class=\"wandb\"><tr><td>train accuracy</td><td>▁▁▁▁▁▁▁▁▁▁</td></tr><tr><td>train loss</td><td>█▇▆▆▅▄▃▂▂▁</td></tr><tr><td>validation accuracy</td><td>▁▁▁▁▁▁▁▁▁▁</td></tr><tr><td>validation loss</td><td>█▇▆▆▅▄▃▂▂▁</td></tr></table><br/></div><div class=\"wandb-col\"><h3>Run summary:</h3><br/><table class=\"wandb\"><tr><td>train accuracy</td><td>0.09931</td></tr><tr><td>train loss</td><td>1.0597</td></tr><tr><td>validation accuracy</td><td>0.10617</td></tr><tr><td>validation loss</td><td>1.0548</td></tr></table><br/></div></div>"
      ],
      "text/plain": [
       "<IPython.core.display.HTML object>"
      ]
     },
     "metadata": {},
     "output_type": "display_data"
    },
    {
     "data": {
      "text/html": [
       " View run <strong style=\"color:#cdcd00\">feasible-sweep-24</strong> at: <a href='https://wandb.ai/cs22m019/DL%20Final%20Assignment%201/runs/0rb1nrp6' target=\"_blank\">https://wandb.ai/cs22m019/DL%20Final%20Assignment%201/runs/0rb1nrp6</a><br/>Synced 6 W&B file(s), 0 media file(s), 0 artifact file(s) and 0 other file(s)"
      ],
      "text/plain": [
       "<IPython.core.display.HTML object>"
      ]
     },
     "metadata": {},
     "output_type": "display_data"
    },
    {
     "data": {
      "text/html": [
       "Find logs at: <code>.\\wandb\\run-20230311_041419-0rb1nrp6\\logs</code>"
      ],
      "text/plain": [
       "<IPython.core.display.HTML object>"
      ]
     },
     "metadata": {},
     "output_type": "display_data"
    },
    {
     "name": "stderr",
     "output_type": "stream",
     "text": [
      "\u001b[34m\u001b[1mwandb\u001b[0m: Agent Starting Run: u3o2t8c6 with config:\n",
      "\u001b[34m\u001b[1mwandb\u001b[0m: \tactivation: ReLU\n",
      "\u001b[34m\u001b[1mwandb\u001b[0m: \tbatch_size: 32\n",
      "\u001b[34m\u001b[1mwandb\u001b[0m: \tepochs: 5\n",
      "\u001b[34m\u001b[1mwandb\u001b[0m: \tlearning_rate: 0.0001\n",
      "\u001b[34m\u001b[1mwandb\u001b[0m: \tnumber_of_hidden_layer: 3\n",
      "\u001b[34m\u001b[1mwandb\u001b[0m: \toptimizer: nestrov\n",
      "\u001b[34m\u001b[1mwandb\u001b[0m: \tsize_of_hidden_layer: 64\n",
      "\u001b[34m\u001b[1mwandb\u001b[0m: \tweight_decay: 0\n",
      "\u001b[34m\u001b[1mwandb\u001b[0m: \tweight_initialization: Xavier\n"
     ]
    },
    {
     "data": {
      "text/html": [
       "Tracking run with wandb version 0.13.11"
      ],
      "text/plain": [
       "<IPython.core.display.HTML object>"
      ]
     },
     "metadata": {},
     "output_type": "display_data"
    },
    {
     "data": {
      "text/html": [
       "Run data is saved locally in <code>C:\\Users\\DELL\\Desktop\\wandb\\run-20230311_042457-u3o2t8c6</code>"
      ],
      "text/plain": [
       "<IPython.core.display.HTML object>"
      ]
     },
     "metadata": {},
     "output_type": "display_data"
    },
    {
     "data": {
      "text/html": [
       "Syncing run <strong><a href='https://wandb.ai/cs22m019/DL%20Final%20Assignment%201/runs/u3o2t8c6' target=\"_blank\">fresh-sweep-25</a></strong> to <a href='https://wandb.ai/cs22m019/DL%20Final%20Assignment%201' target=\"_blank\">Weights & Biases</a> (<a href='https://wandb.me/run' target=\"_blank\">docs</a>)<br/>Sweep page: <a href='https://wandb.ai/cs22m019/DL%20Final%20Assignment%201/sweeps/hl8fpi30' target=\"_blank\">https://wandb.ai/cs22m019/DL%20Final%20Assignment%201/sweeps/hl8fpi30</a>"
      ],
      "text/plain": [
       "<IPython.core.display.HTML object>"
      ]
     },
     "metadata": {},
     "output_type": "display_data"
    },
    {
     "data": {
      "text/html": [
       " View project at <a href='https://wandb.ai/cs22m019/DL%20Final%20Assignment%201' target=\"_blank\">https://wandb.ai/cs22m019/DL%20Final%20Assignment%201</a>"
      ],
      "text/plain": [
       "<IPython.core.display.HTML object>"
      ]
     },
     "metadata": {},
     "output_type": "display_data"
    },
    {
     "data": {
      "text/html": [
       " View sweep at <a href='https://wandb.ai/cs22m019/DL%20Final%20Assignment%201/sweeps/hl8fpi30' target=\"_blank\">https://wandb.ai/cs22m019/DL%20Final%20Assignment%201/sweeps/hl8fpi30</a>"
      ],
      "text/plain": [
       "<IPython.core.display.HTML object>"
      ]
     },
     "metadata": {},
     "output_type": "display_data"
    },
    {
     "data": {
      "text/html": [
       " View run at <a href='https://wandb.ai/cs22m019/DL%20Final%20Assignment%201/runs/u3o2t8c6' target=\"_blank\">https://wandb.ai/cs22m019/DL%20Final%20Assignment%201/runs/u3o2t8c6</a>"
      ],
      "text/plain": [
       "<IPython.core.display.HTML object>"
      ]
     },
     "metadata": {},
     "output_type": "display_data"
    },
    {
     "name": "stdout",
     "output_type": "stream",
     "text": [
      "epoch:1, train loss:0.9438782926700721, train accuracy:0.06872222222222223, validation loss:0.9330857088091, validation accuracy:0.0725\n",
      "epoch:2, train loss:0.9240279297856174, train accuracy:0.08209259259259259, validation loss:0.9180721355244501, validation accuracy:0.09766666666666667\n",
      "epoch:3, train loss:0.9115123218975024, train accuracy:0.10685185185185185, validation loss:0.9073904041556206, validation accuracy:0.12816666666666668\n",
      "epoch:4, train loss:0.9020407500253761, train accuracy:0.14881481481481482, validation loss:0.8989032973998288, validation accuracy:0.17283333333333334\n",
      "epoch:5, train loss:0.8942612872254999, train accuracy:0.202, validation loss:0.8917191419350122, validation accuracy:0.2315\n"
     ]
    },
    {
     "data": {
      "text/html": [
       "Waiting for W&B process to finish... <strong style=\"color:green\">(success).</strong>"
      ],
      "text/plain": [
       "<IPython.core.display.HTML object>"
      ]
     },
     "metadata": {},
     "output_type": "display_data"
    },
    {
     "data": {
      "text/html": [
       "<style>\n",
       "    table.wandb td:nth-child(1) { padding: 0 10px; text-align: left ; width: auto;} td:nth-child(2) {text-align: left ; width: 100%}\n",
       "    .wandb-row { display: flex; flex-direction: row; flex-wrap: wrap; justify-content: flex-start; width: 100% }\n",
       "    .wandb-col { display: flex; flex-direction: column; flex-basis: 100%; flex: 1; padding: 10px; }\n",
       "    </style>\n",
       "<div class=\"wandb-row\"><div class=\"wandb-col\"><h3>Run history:</h3><br/><table class=\"wandb\"><tr><td>train accuracy</td><td>▁▂▃▅█</td></tr><tr><td>train loss</td><td>█▅▃▂▁</td></tr><tr><td>validation accuracy</td><td>▁▂▃▅█</td></tr><tr><td>validation loss</td><td>█▅▄▂▁</td></tr></table><br/></div><div class=\"wandb-col\"><h3>Run summary:</h3><br/><table class=\"wandb\"><tr><td>train accuracy</td><td>0.202</td></tr><tr><td>train loss</td><td>0.89426</td></tr><tr><td>validation accuracy</td><td>0.2315</td></tr><tr><td>validation loss</td><td>0.89172</td></tr></table><br/></div></div>"
      ],
      "text/plain": [
       "<IPython.core.display.HTML object>"
      ]
     },
     "metadata": {},
     "output_type": "display_data"
    },
    {
     "data": {
      "text/html": [
       " View run <strong style=\"color:#cdcd00\">fresh-sweep-25</strong> at: <a href='https://wandb.ai/cs22m019/DL%20Final%20Assignment%201/runs/u3o2t8c6' target=\"_blank\">https://wandb.ai/cs22m019/DL%20Final%20Assignment%201/runs/u3o2t8c6</a><br/>Synced 6 W&B file(s), 0 media file(s), 0 artifact file(s) and 0 other file(s)"
      ],
      "text/plain": [
       "<IPython.core.display.HTML object>"
      ]
     },
     "metadata": {},
     "output_type": "display_data"
    },
    {
     "data": {
      "text/html": [
       "Find logs at: <code>.\\wandb\\run-20230311_042457-u3o2t8c6\\logs</code>"
      ],
      "text/plain": [
       "<IPython.core.display.HTML object>"
      ]
     },
     "metadata": {},
     "output_type": "display_data"
    },
    {
     "name": "stderr",
     "output_type": "stream",
     "text": [
      "\u001b[34m\u001b[1mwandb\u001b[0m: Agent Starting Run: 65iqo1l0 with config:\n",
      "\u001b[34m\u001b[1mwandb\u001b[0m: \tactivation: sigmoid\n",
      "\u001b[34m\u001b[1mwandb\u001b[0m: \tbatch_size: 64\n",
      "\u001b[34m\u001b[1mwandb\u001b[0m: \tepochs: 5\n",
      "\u001b[34m\u001b[1mwandb\u001b[0m: \tlearning_rate: 0.0001\n",
      "\u001b[34m\u001b[1mwandb\u001b[0m: \tnumber_of_hidden_layer: 3\n",
      "\u001b[34m\u001b[1mwandb\u001b[0m: \toptimizer: sgd\n",
      "\u001b[34m\u001b[1mwandb\u001b[0m: \tsize_of_hidden_layer: 128\n",
      "\u001b[34m\u001b[1mwandb\u001b[0m: \tweight_decay: 0\n",
      "\u001b[34m\u001b[1mwandb\u001b[0m: \tweight_initialization: random\n"
     ]
    },
    {
     "data": {
      "text/html": [
       "Tracking run with wandb version 0.13.11"
      ],
      "text/plain": [
       "<IPython.core.display.HTML object>"
      ]
     },
     "metadata": {},
     "output_type": "display_data"
    },
    {
     "data": {
      "text/html": [
       "Run data is saved locally in <code>C:\\Users\\DELL\\Desktop\\wandb\\run-20230311_043001-65iqo1l0</code>"
      ],
      "text/plain": [
       "<IPython.core.display.HTML object>"
      ]
     },
     "metadata": {},
     "output_type": "display_data"
    },
    {
     "data": {
      "text/html": [
       "Syncing run <strong><a href='https://wandb.ai/cs22m019/DL%20Final%20Assignment%201/runs/65iqo1l0' target=\"_blank\">peach-sweep-26</a></strong> to <a href='https://wandb.ai/cs22m019/DL%20Final%20Assignment%201' target=\"_blank\">Weights & Biases</a> (<a href='https://wandb.me/run' target=\"_blank\">docs</a>)<br/>Sweep page: <a href='https://wandb.ai/cs22m019/DL%20Final%20Assignment%201/sweeps/hl8fpi30' target=\"_blank\">https://wandb.ai/cs22m019/DL%20Final%20Assignment%201/sweeps/hl8fpi30</a>"
      ],
      "text/plain": [
       "<IPython.core.display.HTML object>"
      ]
     },
     "metadata": {},
     "output_type": "display_data"
    },
    {
     "data": {
      "text/html": [
       " View project at <a href='https://wandb.ai/cs22m019/DL%20Final%20Assignment%201' target=\"_blank\">https://wandb.ai/cs22m019/DL%20Final%20Assignment%201</a>"
      ],
      "text/plain": [
       "<IPython.core.display.HTML object>"
      ]
     },
     "metadata": {},
     "output_type": "display_data"
    },
    {
     "data": {
      "text/html": [
       " View sweep at <a href='https://wandb.ai/cs22m019/DL%20Final%20Assignment%201/sweeps/hl8fpi30' target=\"_blank\">https://wandb.ai/cs22m019/DL%20Final%20Assignment%201/sweeps/hl8fpi30</a>"
      ],
      "text/plain": [
       "<IPython.core.display.HTML object>"
      ]
     },
     "metadata": {},
     "output_type": "display_data"
    },
    {
     "data": {
      "text/html": [
       " View run at <a href='https://wandb.ai/cs22m019/DL%20Final%20Assignment%201/runs/65iqo1l0' target=\"_blank\">https://wandb.ai/cs22m019/DL%20Final%20Assignment%201/runs/65iqo1l0</a>"
      ],
      "text/plain": [
       "<IPython.core.display.HTML object>"
      ]
     },
     "metadata": {},
     "output_type": "display_data"
    },
    {
     "name": "stdout",
     "output_type": "stream",
     "text": [
      "epoch:1, train loss:1.4803360079207661, train accuracy:0.09733333333333333, validation loss:1.4856006163611755, validation accuracy:0.09133333333333334\n",
      "epoch:2, train loss:1.4789731862837039, train accuracy:0.0972962962962963, validation loss:1.4842553620603824, validation accuracy:0.09133333333333334\n",
      "epoch:3, train loss:1.4776529564614254, train accuracy:0.09731481481481481, validation loss:1.482952117171982, validation accuracy:0.09116666666666666\n",
      "epoch:4, train loss:1.4763527697293746, train accuracy:0.0972962962962963, validation loss:1.4816260274796547, validation accuracy:0.09116666666666666\n",
      "epoch:5, train loss:1.475072872509631, train accuracy:0.09725925925925925, validation loss:1.480324967696792, validation accuracy:0.09116666666666666\n"
     ]
    },
    {
     "data": {
      "text/html": [
       "Waiting for W&B process to finish... <strong style=\"color:green\">(success).</strong>"
      ],
      "text/plain": [
       "<IPython.core.display.HTML object>"
      ]
     },
     "metadata": {},
     "output_type": "display_data"
    },
    {
     "data": {
      "application/vnd.jupyter.widget-view+json": {
       "model_id": "9d1067ff79ad4707a0d39c595c41a7d5",
       "version_major": 2,
       "version_minor": 0
      },
      "text/plain": [
       "VBox(children=(Label(value='0.001 MB of 0.001 MB uploaded (0.000 MB deduped)\\r'), FloatProgress(value=1.0, max…"
      ]
     },
     "metadata": {},
     "output_type": "display_data"
    },
    {
     "data": {
      "text/html": [
       "<style>\n",
       "    table.wandb td:nth-child(1) { padding: 0 10px; text-align: left ; width: auto;} td:nth-child(2) {text-align: left ; width: 100%}\n",
       "    .wandb-row { display: flex; flex-direction: row; flex-wrap: wrap; justify-content: flex-start; width: 100% }\n",
       "    .wandb-col { display: flex; flex-direction: column; flex-basis: 100%; flex: 1; padding: 10px; }\n",
       "    </style>\n",
       "<div class=\"wandb-row\"><div class=\"wandb-col\"><h3>Run history:</h3><br/><table class=\"wandb\"><tr><td>train accuracy</td><td>█▅▆▅▁</td></tr><tr><td>train loss</td><td>█▆▄▃▁</td></tr><tr><td>validation accuracy</td><td>██▁▁▁</td></tr><tr><td>validation loss</td><td>█▆▄▃▁</td></tr></table><br/></div><div class=\"wandb-col\"><h3>Run summary:</h3><br/><table class=\"wandb\"><tr><td>train accuracy</td><td>0.09726</td></tr><tr><td>train loss</td><td>1.47507</td></tr><tr><td>validation accuracy</td><td>0.09117</td></tr><tr><td>validation loss</td><td>1.48032</td></tr></table><br/></div></div>"
      ],
      "text/plain": [
       "<IPython.core.display.HTML object>"
      ]
     },
     "metadata": {},
     "output_type": "display_data"
    },
    {
     "data": {
      "text/html": [
       " View run <strong style=\"color:#cdcd00\">peach-sweep-26</strong> at: <a href='https://wandb.ai/cs22m019/DL%20Final%20Assignment%201/runs/65iqo1l0' target=\"_blank\">https://wandb.ai/cs22m019/DL%20Final%20Assignment%201/runs/65iqo1l0</a><br/>Synced 6 W&B file(s), 0 media file(s), 0 artifact file(s) and 0 other file(s)"
      ],
      "text/plain": [
       "<IPython.core.display.HTML object>"
      ]
     },
     "metadata": {},
     "output_type": "display_data"
    },
    {
     "data": {
      "text/html": [
       "Find logs at: <code>.\\wandb\\run-20230311_043001-65iqo1l0\\logs</code>"
      ],
      "text/plain": [
       "<IPython.core.display.HTML object>"
      ]
     },
     "metadata": {},
     "output_type": "display_data"
    },
    {
     "name": "stderr",
     "output_type": "stream",
     "text": [
      "\u001b[34m\u001b[1mwandb\u001b[0m: Agent Starting Run: a9vowx10 with config:\n",
      "\u001b[34m\u001b[1mwandb\u001b[0m: \tactivation: ReLU\n",
      "\u001b[34m\u001b[1mwandb\u001b[0m: \tbatch_size: 32\n",
      "\u001b[34m\u001b[1mwandb\u001b[0m: \tepochs: 5\n",
      "\u001b[34m\u001b[1mwandb\u001b[0m: \tlearning_rate: 0.001\n",
      "\u001b[34m\u001b[1mwandb\u001b[0m: \tnumber_of_hidden_layer: 4\n",
      "\u001b[34m\u001b[1mwandb\u001b[0m: \toptimizer: nestrov\n",
      "\u001b[34m\u001b[1mwandb\u001b[0m: \tsize_of_hidden_layer: 64\n",
      "\u001b[34m\u001b[1mwandb\u001b[0m: \tweight_decay: 0.5\n",
      "\u001b[34m\u001b[1mwandb\u001b[0m: \tweight_initialization: Xavier\n"
     ]
    },
    {
     "data": {
      "application/vnd.jupyter.widget-view+json": {
       "model_id": "1a9db506d5034b498608af0788f601b7",
       "version_major": 2,
       "version_minor": 0
      },
      "text/plain": [
       "VBox(children=(Label(value='Waiting for wandb.init()...\\r'), FloatProgress(value=0.017183333333317327, max=1.0…"
      ]
     },
     "metadata": {},
     "output_type": "display_data"
    },
    {
     "data": {
      "text/html": [
       "Tracking run with wandb version 0.13.11"
      ],
      "text/plain": [
       "<IPython.core.display.HTML object>"
      ]
     },
     "metadata": {},
     "output_type": "display_data"
    },
    {
     "data": {
      "text/html": [
       "Run data is saved locally in <code>C:\\Users\\DELL\\Desktop\\wandb\\run-20230311_043810-a9vowx10</code>"
      ],
      "text/plain": [
       "<IPython.core.display.HTML object>"
      ]
     },
     "metadata": {},
     "output_type": "display_data"
    },
    {
     "data": {
      "text/html": [
       "Syncing run <strong><a href='https://wandb.ai/cs22m019/DL%20Final%20Assignment%201/runs/a9vowx10' target=\"_blank\">graceful-sweep-27</a></strong> to <a href='https://wandb.ai/cs22m019/DL%20Final%20Assignment%201' target=\"_blank\">Weights & Biases</a> (<a href='https://wandb.me/run' target=\"_blank\">docs</a>)<br/>Sweep page: <a href='https://wandb.ai/cs22m019/DL%20Final%20Assignment%201/sweeps/hl8fpi30' target=\"_blank\">https://wandb.ai/cs22m019/DL%20Final%20Assignment%201/sweeps/hl8fpi30</a>"
      ],
      "text/plain": [
       "<IPython.core.display.HTML object>"
      ]
     },
     "metadata": {},
     "output_type": "display_data"
    },
    {
     "data": {
      "text/html": [
       " View project at <a href='https://wandb.ai/cs22m019/DL%20Final%20Assignment%201' target=\"_blank\">https://wandb.ai/cs22m019/DL%20Final%20Assignment%201</a>"
      ],
      "text/plain": [
       "<IPython.core.display.HTML object>"
      ]
     },
     "metadata": {},
     "output_type": "display_data"
    },
    {
     "data": {
      "text/html": [
       " View sweep at <a href='https://wandb.ai/cs22m019/DL%20Final%20Assignment%201/sweeps/hl8fpi30' target=\"_blank\">https://wandb.ai/cs22m019/DL%20Final%20Assignment%201/sweeps/hl8fpi30</a>"
      ],
      "text/plain": [
       "<IPython.core.display.HTML object>"
      ]
     },
     "metadata": {},
     "output_type": "display_data"
    },
    {
     "data": {
      "text/html": [
       " View run at <a href='https://wandb.ai/cs22m019/DL%20Final%20Assignment%201/runs/a9vowx10' target=\"_blank\">https://wandb.ai/cs22m019/DL%20Final%20Assignment%201/runs/a9vowx10</a>"
      ],
      "text/plain": [
       "<IPython.core.display.HTML object>"
      ]
     },
     "metadata": {},
     "output_type": "display_data"
    },
    {
     "name": "stdout",
     "output_type": "stream",
     "text": [
      "epoch:1, train loss:0.9230884170540389, train accuracy:0.1371851851851852, validation loss:0.9052568363816892, validation accuracy:0.2025\n",
      "epoch:2, train loss:0.8881174579051724, train accuracy:0.22753703703703704, validation loss:0.8711722706883053, validation accuracy:0.24316666666666667\n",
      "epoch:3, train loss:0.8456859788171378, train accuracy:0.2775925925925926, validation loss:0.8151615714569629, validation accuracy:0.29183333333333333\n",
      "epoch:4, train loss:0.772073145004808, train accuracy:0.3464074074074074, validation loss:0.7255055996999802, validation accuracy:0.4141666666666667\n",
      "epoch:5, train loss:0.6880259479605024, train accuracy:0.46205555555555555, validation loss:0.6464137650847808, validation accuracy:0.5343333333333333\n"
     ]
    },
    {
     "data": {
      "text/html": [
       "Waiting for W&B process to finish... <strong style=\"color:green\">(success).</strong>"
      ],
      "text/plain": [
       "<IPython.core.display.HTML object>"
      ]
     },
     "metadata": {},
     "output_type": "display_data"
    },
    {
     "data": {
      "text/html": [
       "<style>\n",
       "    table.wandb td:nth-child(1) { padding: 0 10px; text-align: left ; width: auto;} td:nth-child(2) {text-align: left ; width: 100%}\n",
       "    .wandb-row { display: flex; flex-direction: row; flex-wrap: wrap; justify-content: flex-start; width: 100% }\n",
       "    .wandb-col { display: flex; flex-direction: column; flex-basis: 100%; flex: 1; padding: 10px; }\n",
       "    </style>\n",
       "<div class=\"wandb-row\"><div class=\"wandb-col\"><h3>Run history:</h3><br/><table class=\"wandb\"><tr><td>train accuracy</td><td>▁▃▄▆█</td></tr><tr><td>train loss</td><td>█▇▆▄▁</td></tr><tr><td>validation accuracy</td><td>▁▂▃▅█</td></tr><tr><td>validation loss</td><td>█▇▆▃▁</td></tr></table><br/></div><div class=\"wandb-col\"><h3>Run summary:</h3><br/><table class=\"wandb\"><tr><td>train accuracy</td><td>0.46206</td></tr><tr><td>train loss</td><td>0.68803</td></tr><tr><td>validation accuracy</td><td>0.53433</td></tr><tr><td>validation loss</td><td>0.64641</td></tr></table><br/></div></div>"
      ],
      "text/plain": [
       "<IPython.core.display.HTML object>"
      ]
     },
     "metadata": {},
     "output_type": "display_data"
    },
    {
     "data": {
      "text/html": [
       " View run <strong style=\"color:#cdcd00\">graceful-sweep-27</strong> at: <a href='https://wandb.ai/cs22m019/DL%20Final%20Assignment%201/runs/a9vowx10' target=\"_blank\">https://wandb.ai/cs22m019/DL%20Final%20Assignment%201/runs/a9vowx10</a><br/>Synced 6 W&B file(s), 0 media file(s), 0 artifact file(s) and 0 other file(s)"
      ],
      "text/plain": [
       "<IPython.core.display.HTML object>"
      ]
     },
     "metadata": {},
     "output_type": "display_data"
    },
    {
     "data": {
      "text/html": [
       "Find logs at: <code>.\\wandb\\run-20230311_043810-a9vowx10\\logs</code>"
      ],
      "text/plain": [
       "<IPython.core.display.HTML object>"
      ]
     },
     "metadata": {},
     "output_type": "display_data"
    },
    {
     "name": "stderr",
     "output_type": "stream",
     "text": [
      "\u001b[34m\u001b[1mwandb\u001b[0m: Agent Starting Run: f5xxapsu with config:\n",
      "\u001b[34m\u001b[1mwandb\u001b[0m: \tactivation: tanh\n",
      "\u001b[34m\u001b[1mwandb\u001b[0m: \tbatch_size: 16\n",
      "\u001b[34m\u001b[1mwandb\u001b[0m: \tepochs: 10\n",
      "\u001b[34m\u001b[1mwandb\u001b[0m: \tlearning_rate: 0.0001\n",
      "\u001b[34m\u001b[1mwandb\u001b[0m: \tnumber_of_hidden_layer: 3\n",
      "\u001b[34m\u001b[1mwandb\u001b[0m: \toptimizer: nestrov\n",
      "\u001b[34m\u001b[1mwandb\u001b[0m: \tsize_of_hidden_layer: 32\n",
      "\u001b[34m\u001b[1mwandb\u001b[0m: \tweight_decay: 0.0005\n",
      "\u001b[34m\u001b[1mwandb\u001b[0m: \tweight_initialization: Xavier\n"
     ]
    },
    {
     "data": {
      "text/html": [
       "Tracking run with wandb version 0.13.11"
      ],
      "text/plain": [
       "<IPython.core.display.HTML object>"
      ]
     },
     "metadata": {},
     "output_type": "display_data"
    },
    {
     "data": {
      "text/html": [
       "Run data is saved locally in <code>C:\\Users\\DELL\\Desktop\\wandb\\run-20230311_044523-f5xxapsu</code>"
      ],
      "text/plain": [
       "<IPython.core.display.HTML object>"
      ]
     },
     "metadata": {},
     "output_type": "display_data"
    },
    {
     "data": {
      "text/html": [
       "Syncing run <strong><a href='https://wandb.ai/cs22m019/DL%20Final%20Assignment%201/runs/f5xxapsu' target=\"_blank\">polished-sweep-28</a></strong> to <a href='https://wandb.ai/cs22m019/DL%20Final%20Assignment%201' target=\"_blank\">Weights & Biases</a> (<a href='https://wandb.me/run' target=\"_blank\">docs</a>)<br/>Sweep page: <a href='https://wandb.ai/cs22m019/DL%20Final%20Assignment%201/sweeps/hl8fpi30' target=\"_blank\">https://wandb.ai/cs22m019/DL%20Final%20Assignment%201/sweeps/hl8fpi30</a>"
      ],
      "text/plain": [
       "<IPython.core.display.HTML object>"
      ]
     },
     "metadata": {},
     "output_type": "display_data"
    },
    {
     "data": {
      "text/html": [
       " View project at <a href='https://wandb.ai/cs22m019/DL%20Final%20Assignment%201' target=\"_blank\">https://wandb.ai/cs22m019/DL%20Final%20Assignment%201</a>"
      ],
      "text/plain": [
       "<IPython.core.display.HTML object>"
      ]
     },
     "metadata": {},
     "output_type": "display_data"
    },
    {
     "data": {
      "text/html": [
       " View sweep at <a href='https://wandb.ai/cs22m019/DL%20Final%20Assignment%201/sweeps/hl8fpi30' target=\"_blank\">https://wandb.ai/cs22m019/DL%20Final%20Assignment%201/sweeps/hl8fpi30</a>"
      ],
      "text/plain": [
       "<IPython.core.display.HTML object>"
      ]
     },
     "metadata": {},
     "output_type": "display_data"
    },
    {
     "data": {
      "text/html": [
       " View run at <a href='https://wandb.ai/cs22m019/DL%20Final%20Assignment%201/runs/f5xxapsu' target=\"_blank\">https://wandb.ai/cs22m019/DL%20Final%20Assignment%201/runs/f5xxapsu</a>"
      ],
      "text/plain": [
       "<IPython.core.display.HTML object>"
      ]
     },
     "metadata": {},
     "output_type": "display_data"
    },
    {
     "name": "stdout",
     "output_type": "stream",
     "text": [
      "epoch:1, train loss:0.913909662819724, train accuracy:0.1237037037037037, validation loss:0.9050764512736488, validation accuracy:0.14683333333333334\n",
      "epoch:2, train loss:0.8955152464047826, train accuracy:0.18624074074074073, validation loss:0.8884967021687964, validation accuracy:0.20283333333333334\n",
      "epoch:3, train loss:0.8784974351927786, train accuracy:0.2328148148148148, validation loss:0.8709965763663451, validation accuracy:0.23933333333333334\n",
      "epoch:4, train loss:0.8600157130463681, train accuracy:0.25316666666666665, validation loss:0.8517653602419775, validation accuracy:0.245\n",
      "epoch:5, train loss:0.8402897768533224, train accuracy:0.27316666666666667, validation loss:0.8319944472941285, validation accuracy:0.2831666666666667\n",
      "epoch:6, train loss:0.8213444778675516, train accuracy:0.3177962962962963, validation loss:0.8139555296264377, validation accuracy:0.3365\n",
      "epoch:7, train loss:0.8043339098406024, train accuracy:0.3646111111111111, validation loss:0.7973306743931772, validation accuracy:0.38466666666666666\n",
      "epoch:8, train loss:0.788221784818221, train accuracy:0.4041666666666667, validation loss:0.7812543708559601, validation accuracy:0.42233333333333334\n",
      "epoch:9, train loss:0.7724214528004978, train accuracy:0.43562962962962964, validation loss:0.7653503770356521, validation accuracy:0.4503333333333333\n",
      "epoch:10, train loss:0.7568876467487323, train accuracy:0.46296296296296297, validation loss:0.749333889544818, validation accuracy:0.4775\n"
     ]
    },
    {
     "data": {
      "text/html": [
       "Waiting for W&B process to finish... <strong style=\"color:green\">(success).</strong>"
      ],
      "text/plain": [
       "<IPython.core.display.HTML object>"
      ]
     },
     "metadata": {},
     "output_type": "display_data"
    },
    {
     "data": {
      "application/vnd.jupyter.widget-view+json": {
       "model_id": "b8e3213ae2734ab98e63788f1cf04487",
       "version_major": 2,
       "version_minor": 0
      },
      "text/plain": [
       "VBox(children=(Label(value='0.001 MB of 0.001 MB uploaded (0.000 MB deduped)\\r'), FloatProgress(value=1.0, max…"
      ]
     },
     "metadata": {},
     "output_type": "display_data"
    },
    {
     "data": {
      "text/html": [
       "<style>\n",
       "    table.wandb td:nth-child(1) { padding: 0 10px; text-align: left ; width: auto;} td:nth-child(2) {text-align: left ; width: 100%}\n",
       "    .wandb-row { display: flex; flex-direction: row; flex-wrap: wrap; justify-content: flex-start; width: 100% }\n",
       "    .wandb-col { display: flex; flex-direction: column; flex-basis: 100%; flex: 1; padding: 10px; }\n",
       "    </style>\n",
       "<div class=\"wandb-row\"><div class=\"wandb-col\"><h3>Run history:</h3><br/><table class=\"wandb\"><tr><td>train accuracy</td><td>▁▂▃▄▄▅▆▇▇█</td></tr><tr><td>train loss</td><td>█▇▆▆▅▄▃▂▂▁</td></tr><tr><td>validation accuracy</td><td>▁▂▃▃▄▅▆▇▇█</td></tr><tr><td>validation loss</td><td>█▇▆▆▅▄▃▂▂▁</td></tr></table><br/></div><div class=\"wandb-col\"><h3>Run summary:</h3><br/><table class=\"wandb\"><tr><td>train accuracy</td><td>0.46296</td></tr><tr><td>train loss</td><td>0.75689</td></tr><tr><td>validation accuracy</td><td>0.4775</td></tr><tr><td>validation loss</td><td>0.74933</td></tr></table><br/></div></div>"
      ],
      "text/plain": [
       "<IPython.core.display.HTML object>"
      ]
     },
     "metadata": {},
     "output_type": "display_data"
    },
    {
     "data": {
      "text/html": [
       " View run <strong style=\"color:#cdcd00\">polished-sweep-28</strong> at: <a href='https://wandb.ai/cs22m019/DL%20Final%20Assignment%201/runs/f5xxapsu' target=\"_blank\">https://wandb.ai/cs22m019/DL%20Final%20Assignment%201/runs/f5xxapsu</a><br/>Synced 6 W&B file(s), 0 media file(s), 0 artifact file(s) and 0 other file(s)"
      ],
      "text/plain": [
       "<IPython.core.display.HTML object>"
      ]
     },
     "metadata": {},
     "output_type": "display_data"
    },
    {
     "data": {
      "text/html": [
       "Find logs at: <code>.\\wandb\\run-20230311_044523-f5xxapsu\\logs</code>"
      ],
      "text/plain": [
       "<IPython.core.display.HTML object>"
      ]
     },
     "metadata": {},
     "output_type": "display_data"
    },
    {
     "name": "stderr",
     "output_type": "stream",
     "text": [
      "\u001b[34m\u001b[1mwandb\u001b[0m: Agent Starting Run: ohlfvnxk with config:\n",
      "\u001b[34m\u001b[1mwandb\u001b[0m: \tactivation: sigmoid\n",
      "\u001b[34m\u001b[1mwandb\u001b[0m: \tbatch_size: 16\n",
      "\u001b[34m\u001b[1mwandb\u001b[0m: \tepochs: 10\n",
      "\u001b[34m\u001b[1mwandb\u001b[0m: \tlearning_rate: 0.001\n",
      "\u001b[34m\u001b[1mwandb\u001b[0m: \tnumber_of_hidden_layer: 3\n",
      "\u001b[34m\u001b[1mwandb\u001b[0m: \toptimizer: rmsprop\n",
      "\u001b[34m\u001b[1mwandb\u001b[0m: \tsize_of_hidden_layer: 64\n",
      "\u001b[34m\u001b[1mwandb\u001b[0m: \tweight_decay: 0.0005\n",
      "\u001b[34m\u001b[1mwandb\u001b[0m: \tweight_initialization: Xavier\n"
     ]
    },
    {
     "data": {
      "text/html": [
       "Tracking run with wandb version 0.13.11"
      ],
      "text/plain": [
       "<IPython.core.display.HTML object>"
      ]
     },
     "metadata": {},
     "output_type": "display_data"
    },
    {
     "data": {
      "text/html": [
       "Run data is saved locally in <code>C:\\Users\\DELL\\Desktop\\wandb\\run-20230311_045557-ohlfvnxk</code>"
      ],
      "text/plain": [
       "<IPython.core.display.HTML object>"
      ]
     },
     "metadata": {},
     "output_type": "display_data"
    },
    {
     "data": {
      "text/html": [
       "Syncing run <strong><a href='https://wandb.ai/cs22m019/DL%20Final%20Assignment%201/runs/ohlfvnxk' target=\"_blank\">radiant-sweep-29</a></strong> to <a href='https://wandb.ai/cs22m019/DL%20Final%20Assignment%201' target=\"_blank\">Weights & Biases</a> (<a href='https://wandb.me/run' target=\"_blank\">docs</a>)<br/>Sweep page: <a href='https://wandb.ai/cs22m019/DL%20Final%20Assignment%201/sweeps/hl8fpi30' target=\"_blank\">https://wandb.ai/cs22m019/DL%20Final%20Assignment%201/sweeps/hl8fpi30</a>"
      ],
      "text/plain": [
       "<IPython.core.display.HTML object>"
      ]
     },
     "metadata": {},
     "output_type": "display_data"
    },
    {
     "data": {
      "text/html": [
       " View project at <a href='https://wandb.ai/cs22m019/DL%20Final%20Assignment%201' target=\"_blank\">https://wandb.ai/cs22m019/DL%20Final%20Assignment%201</a>"
      ],
      "text/plain": [
       "<IPython.core.display.HTML object>"
      ]
     },
     "metadata": {},
     "output_type": "display_data"
    },
    {
     "data": {
      "text/html": [
       " View sweep at <a href='https://wandb.ai/cs22m019/DL%20Final%20Assignment%201/sweeps/hl8fpi30' target=\"_blank\">https://wandb.ai/cs22m019/DL%20Final%20Assignment%201/sweeps/hl8fpi30</a>"
      ],
      "text/plain": [
       "<IPython.core.display.HTML object>"
      ]
     },
     "metadata": {},
     "output_type": "display_data"
    },
    {
     "data": {
      "text/html": [
       " View run at <a href='https://wandb.ai/cs22m019/DL%20Final%20Assignment%201/runs/ohlfvnxk' target=\"_blank\">https://wandb.ai/cs22m019/DL%20Final%20Assignment%201/runs/ohlfvnxk</a>"
      ],
      "text/plain": [
       "<IPython.core.display.HTML object>"
      ]
     },
     "metadata": {},
     "output_type": "display_data"
    },
    {
     "name": "stdout",
     "output_type": "stream",
     "text": [
      "epoch:1, train loss:0.8428814886571734, train accuracy:0.27725925925925926, validation loss:0.7618239258349966, validation accuracy:0.43216666666666664\n",
      "epoch:2, train loss:0.6790347705344182, train accuracy:0.5390370370370371, validation loss:0.5974969834473679, validation accuracy:0.6255\n",
      "epoch:3, train loss:0.5290747954635995, train accuracy:0.6721111111111111, validation loss:0.4644276677734794, validation accuracy:0.7023333333333334\n",
      "epoch:4, train loss:0.4255352762638605, train accuracy:0.7121296296296297, validation loss:0.3903976158542204, validation accuracy:0.7211666666666666\n",
      "epoch:5, train loss:0.3744276682737725, train accuracy:0.7324444444444445, validation loss:0.355099415908277, validation accuracy:0.752\n",
      "epoch:6, train loss:0.3484807332055412, train accuracy:0.7511851851851852, validation loss:0.3334367090832295, validation accuracy:0.7641666666666667\n",
      "epoch:7, train loss:0.3294432950323225, train accuracy:0.764962962962963, validation loss:0.3160016395795758, validation accuracy:0.7778333333333334\n",
      "epoch:8, train loss:0.312516674226088, train accuracy:0.7773148148148148, validation loss:0.300328365136071, validation accuracy:0.7851666666666667\n",
      "epoch:9, train loss:0.2986325916091969, train accuracy:0.7853518518518519, validation loss:0.2900783655318797, validation accuracy:0.794\n",
      "epoch:10, train loss:0.2879963654539277, train accuracy:0.795425925925926, validation loss:0.2793711377026956, validation accuracy:0.8\n"
     ]
    },
    {
     "data": {
      "text/html": [
       "Waiting for W&B process to finish... <strong style=\"color:green\">(success).</strong>"
      ],
      "text/plain": [
       "<IPython.core.display.HTML object>"
      ]
     },
     "metadata": {},
     "output_type": "display_data"
    },
    {
     "data": {
      "application/vnd.jupyter.widget-view+json": {
       "model_id": "f48111c89cdc441a9a82a8df77b34166",
       "version_major": 2,
       "version_minor": 0
      },
      "text/plain": [
       "VBox(children=(Label(value='0.001 MB of 0.001 MB uploaded (0.000 MB deduped)\\r'), FloatProgress(value=1.0, max…"
      ]
     },
     "metadata": {},
     "output_type": "display_data"
    },
    {
     "data": {
      "text/html": [
       "<style>\n",
       "    table.wandb td:nth-child(1) { padding: 0 10px; text-align: left ; width: auto;} td:nth-child(2) {text-align: left ; width: 100%}\n",
       "    .wandb-row { display: flex; flex-direction: row; flex-wrap: wrap; justify-content: flex-start; width: 100% }\n",
       "    .wandb-col { display: flex; flex-direction: column; flex-basis: 100%; flex: 1; padding: 10px; }\n",
       "    </style>\n",
       "<div class=\"wandb-row\"><div class=\"wandb-col\"><h3>Run history:</h3><br/><table class=\"wandb\"><tr><td>train accuracy</td><td>▁▅▆▇▇▇████</td></tr><tr><td>train loss</td><td>█▆▄▃▂▂▂▁▁▁</td></tr><tr><td>validation accuracy</td><td>▁▅▆▆▇▇████</td></tr><tr><td>validation loss</td><td>█▆▄▃▂▂▂▁▁▁</td></tr></table><br/></div><div class=\"wandb-col\"><h3>Run summary:</h3><br/><table class=\"wandb\"><tr><td>train accuracy</td><td>0.79543</td></tr><tr><td>train loss</td><td>0.288</td></tr><tr><td>validation accuracy</td><td>0.8</td></tr><tr><td>validation loss</td><td>0.27937</td></tr></table><br/></div></div>"
      ],
      "text/plain": [
       "<IPython.core.display.HTML object>"
      ]
     },
     "metadata": {},
     "output_type": "display_data"
    },
    {
     "data": {
      "text/html": [
       " View run <strong style=\"color:#cdcd00\">radiant-sweep-29</strong> at: <a href='https://wandb.ai/cs22m019/DL%20Final%20Assignment%201/runs/ohlfvnxk' target=\"_blank\">https://wandb.ai/cs22m019/DL%20Final%20Assignment%201/runs/ohlfvnxk</a><br/>Synced 6 W&B file(s), 0 media file(s), 0 artifact file(s) and 0 other file(s)"
      ],
      "text/plain": [
       "<IPython.core.display.HTML object>"
      ]
     },
     "metadata": {},
     "output_type": "display_data"
    },
    {
     "data": {
      "text/html": [
       "Find logs at: <code>.\\wandb\\run-20230311_045557-ohlfvnxk\\logs</code>"
      ],
      "text/plain": [
       "<IPython.core.display.HTML object>"
      ]
     },
     "metadata": {},
     "output_type": "display_data"
    },
    {
     "name": "stderr",
     "output_type": "stream",
     "text": [
      "\u001b[34m\u001b[1mwandb\u001b[0m: Agent Starting Run: hkgj013d with config:\n",
      "\u001b[34m\u001b[1mwandb\u001b[0m: \tactivation: tanh\n",
      "\u001b[34m\u001b[1mwandb\u001b[0m: \tbatch_size: 64\n",
      "\u001b[34m\u001b[1mwandb\u001b[0m: \tepochs: 5\n",
      "\u001b[34m\u001b[1mwandb\u001b[0m: \tlearning_rate: 0.0001\n",
      "\u001b[34m\u001b[1mwandb\u001b[0m: \tnumber_of_hidden_layer: 4\n",
      "\u001b[34m\u001b[1mwandb\u001b[0m: \toptimizer: sgd\n",
      "\u001b[34m\u001b[1mwandb\u001b[0m: \tsize_of_hidden_layer: 32\n",
      "\u001b[34m\u001b[1mwandb\u001b[0m: \tweight_decay: 0.0005\n",
      "\u001b[34m\u001b[1mwandb\u001b[0m: \tweight_initialization: random\n"
     ]
    },
    {
     "data": {
      "text/html": [
       "Tracking run with wandb version 0.13.11"
      ],
      "text/plain": [
       "<IPython.core.display.HTML object>"
      ]
     },
     "metadata": {},
     "output_type": "display_data"
    },
    {
     "data": {
      "text/html": [
       "Run data is saved locally in <code>C:\\Users\\DELL\\Desktop\\wandb\\run-20230311_050712-hkgj013d</code>"
      ],
      "text/plain": [
       "<IPython.core.display.HTML object>"
      ]
     },
     "metadata": {},
     "output_type": "display_data"
    },
    {
     "data": {
      "text/html": [
       "Syncing run <strong><a href='https://wandb.ai/cs22m019/DL%20Final%20Assignment%201/runs/hkgj013d' target=\"_blank\">eager-sweep-30</a></strong> to <a href='https://wandb.ai/cs22m019/DL%20Final%20Assignment%201' target=\"_blank\">Weights & Biases</a> (<a href='https://wandb.me/run' target=\"_blank\">docs</a>)<br/>Sweep page: <a href='https://wandb.ai/cs22m019/DL%20Final%20Assignment%201/sweeps/hl8fpi30' target=\"_blank\">https://wandb.ai/cs22m019/DL%20Final%20Assignment%201/sweeps/hl8fpi30</a>"
      ],
      "text/plain": [
       "<IPython.core.display.HTML object>"
      ]
     },
     "metadata": {},
     "output_type": "display_data"
    },
    {
     "data": {
      "text/html": [
       " View project at <a href='https://wandb.ai/cs22m019/DL%20Final%20Assignment%201' target=\"_blank\">https://wandb.ai/cs22m019/DL%20Final%20Assignment%201</a>"
      ],
      "text/plain": [
       "<IPython.core.display.HTML object>"
      ]
     },
     "metadata": {},
     "output_type": "display_data"
    },
    {
     "data": {
      "text/html": [
       " View sweep at <a href='https://wandb.ai/cs22m019/DL%20Final%20Assignment%201/sweeps/hl8fpi30' target=\"_blank\">https://wandb.ai/cs22m019/DL%20Final%20Assignment%201/sweeps/hl8fpi30</a>"
      ],
      "text/plain": [
       "<IPython.core.display.HTML object>"
      ]
     },
     "metadata": {},
     "output_type": "display_data"
    },
    {
     "data": {
      "text/html": [
       " View run at <a href='https://wandb.ai/cs22m019/DL%20Final%20Assignment%201/runs/hkgj013d' target=\"_blank\">https://wandb.ai/cs22m019/DL%20Final%20Assignment%201/runs/hkgj013d</a>"
      ],
      "text/plain": [
       "<IPython.core.display.HTML object>"
      ]
     },
     "metadata": {},
     "output_type": "display_data"
    },
    {
     "name": "stdout",
     "output_type": "stream",
     "text": [
      "epoch:1, train loss:1.2563484406757495, train accuracy:0.10407407407407407, validation loss:1.2567010215225367, validation accuracy:0.10183333333333333\n",
      "epoch:2, train loss:1.255993966346995, train accuracy:0.10405555555555555, validation loss:1.2563792819140411, validation accuracy:0.102\n",
      "epoch:3, train loss:1.2556455823358774, train accuracy:0.10403703703703704, validation loss:1.256030801581497, validation accuracy:0.10183333333333333\n",
      "epoch:4, train loss:1.2553121489825063, train accuracy:0.10412962962962963, validation loss:1.2556888950251062, validation accuracy:0.102\n",
      "epoch:5, train loss:1.2549525895485827, train accuracy:0.10427777777777777, validation loss:1.2553348363810022, validation accuracy:0.10183333333333333\n"
     ]
    },
    {
     "data": {
      "text/html": [
       "Waiting for W&B process to finish... <strong style=\"color:green\">(success).</strong>"
      ],
      "text/plain": [
       "<IPython.core.display.HTML object>"
      ]
     },
     "metadata": {},
     "output_type": "display_data"
    },
    {
     "data": {
      "application/vnd.jupyter.widget-view+json": {
       "model_id": "1e75bf1550594c9d84d9906969c26670",
       "version_major": 2,
       "version_minor": 0
      },
      "text/plain": [
       "VBox(children=(Label(value='0.001 MB of 0.001 MB uploaded (0.000 MB deduped)\\r'), FloatProgress(value=1.0, max…"
      ]
     },
     "metadata": {},
     "output_type": "display_data"
    },
    {
     "data": {
      "text/html": [
       "<style>\n",
       "    table.wandb td:nth-child(1) { padding: 0 10px; text-align: left ; width: auto;} td:nth-child(2) {text-align: left ; width: 100%}\n",
       "    .wandb-row { display: flex; flex-direction: row; flex-wrap: wrap; justify-content: flex-start; width: 100% }\n",
       "    .wandb-col { display: flex; flex-direction: column; flex-basis: 100%; flex: 1; padding: 10px; }\n",
       "    </style>\n",
       "<div class=\"wandb-row\"><div class=\"wandb-col\"><h3>Run history:</h3><br/><table class=\"wandb\"><tr><td>train accuracy</td><td>▂▂▁▄█</td></tr><tr><td>train loss</td><td>█▆▄▃▁</td></tr><tr><td>validation accuracy</td><td>▁█▁█▁</td></tr><tr><td>validation loss</td><td>█▆▅▃▁</td></tr></table><br/></div><div class=\"wandb-col\"><h3>Run summary:</h3><br/><table class=\"wandb\"><tr><td>train accuracy</td><td>0.10428</td></tr><tr><td>train loss</td><td>1.25495</td></tr><tr><td>validation accuracy</td><td>0.10183</td></tr><tr><td>validation loss</td><td>1.25533</td></tr></table><br/></div></div>"
      ],
      "text/plain": [
       "<IPython.core.display.HTML object>"
      ]
     },
     "metadata": {},
     "output_type": "display_data"
    },
    {
     "data": {
      "text/html": [
       " View run <strong style=\"color:#cdcd00\">eager-sweep-30</strong> at: <a href='https://wandb.ai/cs22m019/DL%20Final%20Assignment%201/runs/hkgj013d' target=\"_blank\">https://wandb.ai/cs22m019/DL%20Final%20Assignment%201/runs/hkgj013d</a><br/>Synced 6 W&B file(s), 0 media file(s), 0 artifact file(s) and 0 other file(s)"
      ],
      "text/plain": [
       "<IPython.core.display.HTML object>"
      ]
     },
     "metadata": {},
     "output_type": "display_data"
    },
    {
     "data": {
      "text/html": [
       "Find logs at: <code>.\\wandb\\run-20230311_050712-hkgj013d\\logs</code>"
      ],
      "text/plain": [
       "<IPython.core.display.HTML object>"
      ]
     },
     "metadata": {},
     "output_type": "display_data"
    },
    {
     "name": "stderr",
     "output_type": "stream",
     "text": [
      "\u001b[34m\u001b[1mwandb\u001b[0m: Agent Starting Run: st7ns539 with config:\n",
      "\u001b[34m\u001b[1mwandb\u001b[0m: \tactivation: ReLU\n",
      "\u001b[34m\u001b[1mwandb\u001b[0m: \tbatch_size: 64\n",
      "\u001b[34m\u001b[1mwandb\u001b[0m: \tepochs: 5\n",
      "\u001b[34m\u001b[1mwandb\u001b[0m: \tlearning_rate: 0.001\n",
      "\u001b[34m\u001b[1mwandb\u001b[0m: \tnumber_of_hidden_layer: 4\n",
      "\u001b[34m\u001b[1mwandb\u001b[0m: \toptimizer: rmsprop\n",
      "\u001b[34m\u001b[1mwandb\u001b[0m: \tsize_of_hidden_layer: 32\n",
      "\u001b[34m\u001b[1mwandb\u001b[0m: \tweight_decay: 0.0005\n",
      "\u001b[34m\u001b[1mwandb\u001b[0m: \tweight_initialization: random\n"
     ]
    },
    {
     "data": {
      "text/html": [
       "Tracking run with wandb version 0.13.11"
      ],
      "text/plain": [
       "<IPython.core.display.HTML object>"
      ]
     },
     "metadata": {},
     "output_type": "display_data"
    },
    {
     "data": {
      "text/html": [
       "Run data is saved locally in <code>C:\\Users\\DELL\\Desktop\\wandb\\run-20230311_051123-st7ns539</code>"
      ],
      "text/plain": [
       "<IPython.core.display.HTML object>"
      ]
     },
     "metadata": {},
     "output_type": "display_data"
    },
    {
     "data": {
      "text/html": [
       "Syncing run <strong><a href='https://wandb.ai/cs22m019/DL%20Final%20Assignment%201/runs/st7ns539' target=\"_blank\">curious-sweep-31</a></strong> to <a href='https://wandb.ai/cs22m019/DL%20Final%20Assignment%201' target=\"_blank\">Weights & Biases</a> (<a href='https://wandb.me/run' target=\"_blank\">docs</a>)<br/>Sweep page: <a href='https://wandb.ai/cs22m019/DL%20Final%20Assignment%201/sweeps/hl8fpi30' target=\"_blank\">https://wandb.ai/cs22m019/DL%20Final%20Assignment%201/sweeps/hl8fpi30</a>"
      ],
      "text/plain": [
       "<IPython.core.display.HTML object>"
      ]
     },
     "metadata": {},
     "output_type": "display_data"
    },
    {
     "data": {
      "text/html": [
       " View project at <a href='https://wandb.ai/cs22m019/DL%20Final%20Assignment%201' target=\"_blank\">https://wandb.ai/cs22m019/DL%20Final%20Assignment%201</a>"
      ],
      "text/plain": [
       "<IPython.core.display.HTML object>"
      ]
     },
     "metadata": {},
     "output_type": "display_data"
    },
    {
     "data": {
      "text/html": [
       " View sweep at <a href='https://wandb.ai/cs22m019/DL%20Final%20Assignment%201/sweeps/hl8fpi30' target=\"_blank\">https://wandb.ai/cs22m019/DL%20Final%20Assignment%201/sweeps/hl8fpi30</a>"
      ],
      "text/plain": [
       "<IPython.core.display.HTML object>"
      ]
     },
     "metadata": {},
     "output_type": "display_data"
    },
    {
     "data": {
      "text/html": [
       " View run at <a href='https://wandb.ai/cs22m019/DL%20Final%20Assignment%201/runs/st7ns539' target=\"_blank\">https://wandb.ai/cs22m019/DL%20Final%20Assignment%201/runs/st7ns539</a>"
      ],
      "text/plain": [
       "<IPython.core.display.HTML object>"
      ]
     },
     "metadata": {},
     "output_type": "display_data"
    },
    {
     "name": "stdout",
     "output_type": "stream",
     "text": [
      "epoch:1, train loss:1.7180416360387354, train accuracy:0.1341111111111111, validation loss:1.7096635786306291, validation accuracy:0.13466666666666666\n",
      "epoch:2, train loss:1.6800760880850403, train accuracy:0.14046296296296296, validation loss:1.6818380418373424, validation accuracy:0.12433333333333334\n",
      "epoch:3, train loss:1.6607984901192618, train accuracy:0.134, validation loss:1.6596585414292078, validation accuracy:0.13183333333333333\n",
      "epoch:4, train loss:1.627699281824635, train accuracy:0.14787037037037037, validation loss:1.633500888318764, validation accuracy:0.14433333333333334\n",
      "epoch:5, train loss:1.5942926466742082, train accuracy:0.16227777777777777, validation loss:1.591902528767765, validation accuracy:0.161\n"
     ]
    },
    {
     "data": {
      "text/html": [
       "Waiting for W&B process to finish... <strong style=\"color:green\">(success).</strong>"
      ],
      "text/plain": [
       "<IPython.core.display.HTML object>"
      ]
     },
     "metadata": {},
     "output_type": "display_data"
    },
    {
     "data": {
      "application/vnd.jupyter.widget-view+json": {
       "model_id": "c493ffa5e5d34b59aadb09fe628abe13",
       "version_major": 2,
       "version_minor": 0
      },
      "text/plain": [
       "VBox(children=(Label(value='0.001 MB of 0.001 MB uploaded (0.000 MB deduped)\\r'), FloatProgress(value=1.0, max…"
      ]
     },
     "metadata": {},
     "output_type": "display_data"
    },
    {
     "data": {
      "text/html": [
       "<style>\n",
       "    table.wandb td:nth-child(1) { padding: 0 10px; text-align: left ; width: auto;} td:nth-child(2) {text-align: left ; width: 100%}\n",
       "    .wandb-row { display: flex; flex-direction: row; flex-wrap: wrap; justify-content: flex-start; width: 100% }\n",
       "    .wandb-col { display: flex; flex-direction: column; flex-basis: 100%; flex: 1; padding: 10px; }\n",
       "    </style>\n",
       "<div class=\"wandb-row\"><div class=\"wandb-col\"><h3>Run history:</h3><br/><table class=\"wandb\"><tr><td>train accuracy</td><td>▁▃▁▄█</td></tr><tr><td>train loss</td><td>█▆▅▃▁</td></tr><tr><td>validation accuracy</td><td>▃▁▂▅█</td></tr><tr><td>validation loss</td><td>█▆▅▃▁</td></tr></table><br/></div><div class=\"wandb-col\"><h3>Run summary:</h3><br/><table class=\"wandb\"><tr><td>train accuracy</td><td>0.16228</td></tr><tr><td>train loss</td><td>1.59429</td></tr><tr><td>validation accuracy</td><td>0.161</td></tr><tr><td>validation loss</td><td>1.5919</td></tr></table><br/></div></div>"
      ],
      "text/plain": [
       "<IPython.core.display.HTML object>"
      ]
     },
     "metadata": {},
     "output_type": "display_data"
    },
    {
     "data": {
      "text/html": [
       " View run <strong style=\"color:#cdcd00\">curious-sweep-31</strong> at: <a href='https://wandb.ai/cs22m019/DL%20Final%20Assignment%201/runs/st7ns539' target=\"_blank\">https://wandb.ai/cs22m019/DL%20Final%20Assignment%201/runs/st7ns539</a><br/>Synced 6 W&B file(s), 0 media file(s), 0 artifact file(s) and 0 other file(s)"
      ],
      "text/plain": [
       "<IPython.core.display.HTML object>"
      ]
     },
     "metadata": {},
     "output_type": "display_data"
    },
    {
     "data": {
      "text/html": [
       "Find logs at: <code>.\\wandb\\run-20230311_051123-st7ns539\\logs</code>"
      ],
      "text/plain": [
       "<IPython.core.display.HTML object>"
      ]
     },
     "metadata": {},
     "output_type": "display_data"
    },
    {
     "name": "stderr",
     "output_type": "stream",
     "text": [
      "\u001b[34m\u001b[1mwandb\u001b[0m: Agent Starting Run: omevjvgj with config:\n",
      "\u001b[34m\u001b[1mwandb\u001b[0m: \tactivation: ReLU\n",
      "\u001b[34m\u001b[1mwandb\u001b[0m: \tbatch_size: 64\n",
      "\u001b[34m\u001b[1mwandb\u001b[0m: \tepochs: 5\n",
      "\u001b[34m\u001b[1mwandb\u001b[0m: \tlearning_rate: 0.001\n",
      "\u001b[34m\u001b[1mwandb\u001b[0m: \tnumber_of_hidden_layer: 5\n",
      "\u001b[34m\u001b[1mwandb\u001b[0m: \toptimizer: rmsprop\n",
      "\u001b[34m\u001b[1mwandb\u001b[0m: \tsize_of_hidden_layer: 64\n",
      "\u001b[34m\u001b[1mwandb\u001b[0m: \tweight_decay: 0.0005\n",
      "\u001b[34m\u001b[1mwandb\u001b[0m: \tweight_initialization: Xavier\n"
     ]
    },
    {
     "data": {
      "text/html": [
       "Tracking run with wandb version 0.13.11"
      ],
      "text/plain": [
       "<IPython.core.display.HTML object>"
      ]
     },
     "metadata": {},
     "output_type": "display_data"
    },
    {
     "data": {
      "text/html": [
       "Run data is saved locally in <code>C:\\Users\\DELL\\Desktop\\wandb\\run-20230311_051606-omevjvgj</code>"
      ],
      "text/plain": [
       "<IPython.core.display.HTML object>"
      ]
     },
     "metadata": {},
     "output_type": "display_data"
    },
    {
     "data": {
      "text/html": [
       "Syncing run <strong><a href='https://wandb.ai/cs22m019/DL%20Final%20Assignment%201/runs/omevjvgj' target=\"_blank\">pleasant-sweep-32</a></strong> to <a href='https://wandb.ai/cs22m019/DL%20Final%20Assignment%201' target=\"_blank\">Weights & Biases</a> (<a href='https://wandb.me/run' target=\"_blank\">docs</a>)<br/>Sweep page: <a href='https://wandb.ai/cs22m019/DL%20Final%20Assignment%201/sweeps/hl8fpi30' target=\"_blank\">https://wandb.ai/cs22m019/DL%20Final%20Assignment%201/sweeps/hl8fpi30</a>"
      ],
      "text/plain": [
       "<IPython.core.display.HTML object>"
      ]
     },
     "metadata": {},
     "output_type": "display_data"
    },
    {
     "data": {
      "text/html": [
       " View project at <a href='https://wandb.ai/cs22m019/DL%20Final%20Assignment%201' target=\"_blank\">https://wandb.ai/cs22m019/DL%20Final%20Assignment%201</a>"
      ],
      "text/plain": [
       "<IPython.core.display.HTML object>"
      ]
     },
     "metadata": {},
     "output_type": "display_data"
    },
    {
     "data": {
      "text/html": [
       " View sweep at <a href='https://wandb.ai/cs22m019/DL%20Final%20Assignment%201/sweeps/hl8fpi30' target=\"_blank\">https://wandb.ai/cs22m019/DL%20Final%20Assignment%201/sweeps/hl8fpi30</a>"
      ],
      "text/plain": [
       "<IPython.core.display.HTML object>"
      ]
     },
     "metadata": {},
     "output_type": "display_data"
    },
    {
     "data": {
      "text/html": [
       " View run at <a href='https://wandb.ai/cs22m019/DL%20Final%20Assignment%201/runs/omevjvgj' target=\"_blank\">https://wandb.ai/cs22m019/DL%20Final%20Assignment%201/runs/omevjvgj</a>"
      ],
      "text/plain": [
       "<IPython.core.display.HTML object>"
      ]
     },
     "metadata": {},
     "output_type": "display_data"
    },
    {
     "name": "stdout",
     "output_type": "stream",
     "text": [
      "epoch:1, train loss:0.8282329035804301, train accuracy:0.289462962962963, validation loss:0.7052175592907488, validation accuracy:0.43766666666666665\n",
      "epoch:2, train loss:0.59489559072213, train accuracy:0.5883333333333334, validation loss:0.49763686628372095, validation accuracy:0.6808333333333333\n",
      "epoch:3, train loss:0.45700046604276123, train accuracy:0.7046851851851852, validation loss:0.4234993646198652, validation accuracy:0.7221666666666666\n",
      "epoch:4, train loss:0.40230911764114136, train accuracy:0.7358888888888889, validation loss:0.3771380512408927, validation accuracy:0.7503333333333333\n",
      "epoch:5, train loss:0.35672265128865444, train accuracy:0.7550370370370371, validation loss:0.34047777169437615, validation accuracy:0.7683333333333333\n"
     ]
    },
    {
     "data": {
      "text/html": [
       "Waiting for W&B process to finish... <strong style=\"color:green\">(success).</strong>"
      ],
      "text/plain": [
       "<IPython.core.display.HTML object>"
      ]
     },
     "metadata": {},
     "output_type": "display_data"
    },
    {
     "data": {
      "application/vnd.jupyter.widget-view+json": {
       "model_id": "65599d68b6b44d3eaa5aaa7a888d55f7",
       "version_major": 2,
       "version_minor": 0
      },
      "text/plain": [
       "VBox(children=(Label(value='0.001 MB of 0.024 MB uploaded (0.000 MB deduped)\\r'), FloatProgress(value=0.045355…"
      ]
     },
     "metadata": {},
     "output_type": "display_data"
    },
    {
     "data": {
      "text/html": [
       "<style>\n",
       "    table.wandb td:nth-child(1) { padding: 0 10px; text-align: left ; width: auto;} td:nth-child(2) {text-align: left ; width: 100%}\n",
       "    .wandb-row { display: flex; flex-direction: row; flex-wrap: wrap; justify-content: flex-start; width: 100% }\n",
       "    .wandb-col { display: flex; flex-direction: column; flex-basis: 100%; flex: 1; padding: 10px; }\n",
       "    </style>\n",
       "<div class=\"wandb-row\"><div class=\"wandb-col\"><h3>Run history:</h3><br/><table class=\"wandb\"><tr><td>train accuracy</td><td>▁▅▇██</td></tr><tr><td>train loss</td><td>█▅▂▂▁</td></tr><tr><td>validation accuracy</td><td>▁▆▇██</td></tr><tr><td>validation loss</td><td>█▄▃▂▁</td></tr></table><br/></div><div class=\"wandb-col\"><h3>Run summary:</h3><br/><table class=\"wandb\"><tr><td>train accuracy</td><td>0.75504</td></tr><tr><td>train loss</td><td>0.35672</td></tr><tr><td>validation accuracy</td><td>0.76833</td></tr><tr><td>validation loss</td><td>0.34048</td></tr></table><br/></div></div>"
      ],
      "text/plain": [
       "<IPython.core.display.HTML object>"
      ]
     },
     "metadata": {},
     "output_type": "display_data"
    },
    {
     "data": {
      "text/html": [
       " View run <strong style=\"color:#cdcd00\">pleasant-sweep-32</strong> at: <a href='https://wandb.ai/cs22m019/DL%20Final%20Assignment%201/runs/omevjvgj' target=\"_blank\">https://wandb.ai/cs22m019/DL%20Final%20Assignment%201/runs/omevjvgj</a><br/>Synced 6 W&B file(s), 0 media file(s), 0 artifact file(s) and 0 other file(s)"
      ],
      "text/plain": [
       "<IPython.core.display.HTML object>"
      ]
     },
     "metadata": {},
     "output_type": "display_data"
    },
    {
     "data": {
      "text/html": [
       "Find logs at: <code>.\\wandb\\run-20230311_051606-omevjvgj\\logs</code>"
      ],
      "text/plain": [
       "<IPython.core.display.HTML object>"
      ]
     },
     "metadata": {},
     "output_type": "display_data"
    },
    {
     "name": "stderr",
     "output_type": "stream",
     "text": [
      "\u001b[34m\u001b[1mwandb\u001b[0m: Sweep Agent: Waiting for job.\n",
      "\u001b[34m\u001b[1mwandb\u001b[0m: Job received.\n",
      "\u001b[34m\u001b[1mwandb\u001b[0m: Agent Starting Run: hjz1dcw0 with config:\n",
      "\u001b[34m\u001b[1mwandb\u001b[0m: \tactivation: ReLU\n",
      "\u001b[34m\u001b[1mwandb\u001b[0m: \tbatch_size: 64\n",
      "\u001b[34m\u001b[1mwandb\u001b[0m: \tepochs: 10\n",
      "\u001b[34m\u001b[1mwandb\u001b[0m: \tlearning_rate: 0.0001\n",
      "\u001b[34m\u001b[1mwandb\u001b[0m: \tnumber_of_hidden_layer: 4\n",
      "\u001b[34m\u001b[1mwandb\u001b[0m: \toptimizer: momentum\n",
      "\u001b[34m\u001b[1mwandb\u001b[0m: \tsize_of_hidden_layer: 128\n",
      "\u001b[34m\u001b[1mwandb\u001b[0m: \tweight_decay: 0.5\n",
      "\u001b[34m\u001b[1mwandb\u001b[0m: \tweight_initialization: Xavier\n"
     ]
    },
    {
     "data": {
      "text/html": [
       "Tracking run with wandb version 0.13.11"
      ],
      "text/plain": [
       "<IPython.core.display.HTML object>"
      ]
     },
     "metadata": {},
     "output_type": "display_data"
    },
    {
     "data": {
      "text/html": [
       "Run data is saved locally in <code>C:\\Users\\DELL\\Desktop\\wandb\\run-20230311_052218-hjz1dcw0</code>"
      ],
      "text/plain": [
       "<IPython.core.display.HTML object>"
      ]
     },
     "metadata": {},
     "output_type": "display_data"
    },
    {
     "data": {
      "text/html": [
       "Syncing run <strong><a href='https://wandb.ai/cs22m019/DL%20Final%20Assignment%201/runs/hjz1dcw0' target=\"_blank\">cosmic-sweep-33</a></strong> to <a href='https://wandb.ai/cs22m019/DL%20Final%20Assignment%201' target=\"_blank\">Weights & Biases</a> (<a href='https://wandb.me/run' target=\"_blank\">docs</a>)<br/>Sweep page: <a href='https://wandb.ai/cs22m019/DL%20Final%20Assignment%201/sweeps/hl8fpi30' target=\"_blank\">https://wandb.ai/cs22m019/DL%20Final%20Assignment%201/sweeps/hl8fpi30</a>"
      ],
      "text/plain": [
       "<IPython.core.display.HTML object>"
      ]
     },
     "metadata": {},
     "output_type": "display_data"
    },
    {
     "data": {
      "text/html": [
       " View project at <a href='https://wandb.ai/cs22m019/DL%20Final%20Assignment%201' target=\"_blank\">https://wandb.ai/cs22m019/DL%20Final%20Assignment%201</a>"
      ],
      "text/plain": [
       "<IPython.core.display.HTML object>"
      ]
     },
     "metadata": {},
     "output_type": "display_data"
    },
    {
     "data": {
      "text/html": [
       " View sweep at <a href='https://wandb.ai/cs22m019/DL%20Final%20Assignment%201/sweeps/hl8fpi30' target=\"_blank\">https://wandb.ai/cs22m019/DL%20Final%20Assignment%201/sweeps/hl8fpi30</a>"
      ],
      "text/plain": [
       "<IPython.core.display.HTML object>"
      ]
     },
     "metadata": {},
     "output_type": "display_data"
    },
    {
     "data": {
      "text/html": [
       " View run at <a href='https://wandb.ai/cs22m019/DL%20Final%20Assignment%201/runs/hjz1dcw0' target=\"_blank\">https://wandb.ai/cs22m019/DL%20Final%20Assignment%201/runs/hjz1dcw0</a>"
      ],
      "text/plain": [
       "<IPython.core.display.HTML object>"
      ]
     },
     "metadata": {},
     "output_type": "display_data"
    },
    {
     "name": "stdout",
     "output_type": "stream",
     "text": [
      "epoch:1, train loss:0.9383944139610346, train accuracy:0.10092592592592593, validation loss:0.9366195822392638, validation accuracy:0.1065\n",
      "epoch:2, train loss:0.9351260200042556, train accuracy:0.10481481481481482, validation loss:0.9335008590423941, validation accuracy:0.11316666666666667\n",
      "epoch:3, train loss:0.932122876511615, train accuracy:0.109, validation loss:0.930609628366728, validation accuracy:0.1175\n",
      "epoch:4, train loss:0.9293140358462822, train accuracy:0.1145, validation loss:0.927880538386144, validation accuracy:0.12283333333333334\n",
      "epoch:5, train loss:0.9266498342383898, train accuracy:0.12081481481481482, validation loss:0.9252757322299717, validation accuracy:0.12866666666666668\n",
      "epoch:6, train loss:0.9240999857368336, train accuracy:0.1272962962962963, validation loss:0.9227638942390454, validation accuracy:0.13233333333333333\n",
      "epoch:7, train loss:0.9216325398610521, train accuracy:0.1328888888888889, validation loss:0.9203194648812508, validation accuracy:0.1375\n",
      "epoch:8, train loss:0.9192256280407131, train accuracy:0.13844444444444445, validation loss:0.9179220684574702, validation accuracy:0.14333333333333334\n",
      "epoch:9, train loss:0.9168534770982476, train accuracy:0.1436851851851852, validation loss:0.9155511641943005, validation accuracy:0.14966666666666667\n",
      "epoch:10, train loss:0.9145034373362383, train accuracy:0.1486111111111111, validation loss:0.9131933072897345, validation accuracy:0.1575\n"
     ]
    },
    {
     "data": {
      "text/html": [
       "Waiting for W&B process to finish... <strong style=\"color:green\">(success).</strong>"
      ],
      "text/plain": [
       "<IPython.core.display.HTML object>"
      ]
     },
     "metadata": {},
     "output_type": "display_data"
    },
    {
     "data": {
      "application/vnd.jupyter.widget-view+json": {
       "model_id": "e4488c6ac8174314942fbc56abefb526",
       "version_major": 2,
       "version_minor": 0
      },
      "text/plain": [
       "VBox(children=(Label(value='0.001 MB of 0.024 MB uploaded (0.000 MB deduped)\\r'), FloatProgress(value=0.044608…"
      ]
     },
     "metadata": {},
     "output_type": "display_data"
    },
    {
     "data": {
      "text/html": [
       "<style>\n",
       "    table.wandb td:nth-child(1) { padding: 0 10px; text-align: left ; width: auto;} td:nth-child(2) {text-align: left ; width: 100%}\n",
       "    .wandb-row { display: flex; flex-direction: row; flex-wrap: wrap; justify-content: flex-start; width: 100% }\n",
       "    .wandb-col { display: flex; flex-direction: column; flex-basis: 100%; flex: 1; padding: 10px; }\n",
       "    </style>\n",
       "<div class=\"wandb-row\"><div class=\"wandb-col\"><h3>Run history:</h3><br/><table class=\"wandb\"><tr><td>train accuracy</td><td>▁▂▂▃▄▅▆▇▇█</td></tr><tr><td>train loss</td><td>█▇▆▅▅▄▃▂▂▁</td></tr><tr><td>validation accuracy</td><td>▁▂▃▃▄▅▅▆▇█</td></tr><tr><td>validation loss</td><td>█▇▆▅▅▄▃▂▂▁</td></tr></table><br/></div><div class=\"wandb-col\"><h3>Run summary:</h3><br/><table class=\"wandb\"><tr><td>train accuracy</td><td>0.14861</td></tr><tr><td>train loss</td><td>0.9145</td></tr><tr><td>validation accuracy</td><td>0.1575</td></tr><tr><td>validation loss</td><td>0.91319</td></tr></table><br/></div></div>"
      ],
      "text/plain": [
       "<IPython.core.display.HTML object>"
      ]
     },
     "metadata": {},
     "output_type": "display_data"
    },
    {
     "data": {
      "text/html": [
       " View run <strong style=\"color:#cdcd00\">cosmic-sweep-33</strong> at: <a href='https://wandb.ai/cs22m019/DL%20Final%20Assignment%201/runs/hjz1dcw0' target=\"_blank\">https://wandb.ai/cs22m019/DL%20Final%20Assignment%201/runs/hjz1dcw0</a><br/>Synced 6 W&B file(s), 0 media file(s), 0 artifact file(s) and 0 other file(s)"
      ],
      "text/plain": [
       "<IPython.core.display.HTML object>"
      ]
     },
     "metadata": {},
     "output_type": "display_data"
    },
    {
     "data": {
      "text/html": [
       "Find logs at: <code>.\\wandb\\run-20230311_052218-hjz1dcw0\\logs</code>"
      ],
      "text/plain": [
       "<IPython.core.display.HTML object>"
      ]
     },
     "metadata": {},
     "output_type": "display_data"
    },
    {
     "name": "stderr",
     "output_type": "stream",
     "text": [
      "\u001b[34m\u001b[1mwandb\u001b[0m: Agent Starting Run: i7tuefan with config:\n",
      "\u001b[34m\u001b[1mwandb\u001b[0m: \tactivation: ReLU\n",
      "\u001b[34m\u001b[1mwandb\u001b[0m: \tbatch_size: 64\n",
      "\u001b[34m\u001b[1mwandb\u001b[0m: \tepochs: 10\n",
      "\u001b[34m\u001b[1mwandb\u001b[0m: \tlearning_rate: 0.001\n",
      "\u001b[34m\u001b[1mwandb\u001b[0m: \tnumber_of_hidden_layer: 3\n",
      "\u001b[34m\u001b[1mwandb\u001b[0m: \toptimizer: nestrov\n",
      "\u001b[34m\u001b[1mwandb\u001b[0m: \tsize_of_hidden_layer: 128\n",
      "\u001b[34m\u001b[1mwandb\u001b[0m: \tweight_decay: 0.0005\n",
      "\u001b[34m\u001b[1mwandb\u001b[0m: \tweight_initialization: random\n"
     ]
    },
    {
     "data": {
      "text/html": [
       "Tracking run with wandb version 0.13.11"
      ],
      "text/plain": [
       "<IPython.core.display.HTML object>"
      ]
     },
     "metadata": {},
     "output_type": "display_data"
    },
    {
     "data": {
      "text/html": [
       "Run data is saved locally in <code>C:\\Users\\DELL\\Desktop\\wandb\\run-20230311_054709-i7tuefan</code>"
      ],
      "text/plain": [
       "<IPython.core.display.HTML object>"
      ]
     },
     "metadata": {},
     "output_type": "display_data"
    },
    {
     "data": {
      "text/html": [
       "Syncing run <strong><a href='https://wandb.ai/cs22m019/DL%20Final%20Assignment%201/runs/i7tuefan' target=\"_blank\">spring-sweep-34</a></strong> to <a href='https://wandb.ai/cs22m019/DL%20Final%20Assignment%201' target=\"_blank\">Weights & Biases</a> (<a href='https://wandb.me/run' target=\"_blank\">docs</a>)<br/>Sweep page: <a href='https://wandb.ai/cs22m019/DL%20Final%20Assignment%201/sweeps/hl8fpi30' target=\"_blank\">https://wandb.ai/cs22m019/DL%20Final%20Assignment%201/sweeps/hl8fpi30</a>"
      ],
      "text/plain": [
       "<IPython.core.display.HTML object>"
      ]
     },
     "metadata": {},
     "output_type": "display_data"
    },
    {
     "data": {
      "text/html": [
       " View project at <a href='https://wandb.ai/cs22m019/DL%20Final%20Assignment%201' target=\"_blank\">https://wandb.ai/cs22m019/DL%20Final%20Assignment%201</a>"
      ],
      "text/plain": [
       "<IPython.core.display.HTML object>"
      ]
     },
     "metadata": {},
     "output_type": "display_data"
    },
    {
     "data": {
      "text/html": [
       " View sweep at <a href='https://wandb.ai/cs22m019/DL%20Final%20Assignment%201/sweeps/hl8fpi30' target=\"_blank\">https://wandb.ai/cs22m019/DL%20Final%20Assignment%201/sweeps/hl8fpi30</a>"
      ],
      "text/plain": [
       "<IPython.core.display.HTML object>"
      ]
     },
     "metadata": {},
     "output_type": "display_data"
    },
    {
     "data": {
      "text/html": [
       " View run at <a href='https://wandb.ai/cs22m019/DL%20Final%20Assignment%201/runs/i7tuefan' target=\"_blank\">https://wandb.ai/cs22m019/DL%20Final%20Assignment%201/runs/i7tuefan</a>"
      ],
      "text/plain": [
       "<IPython.core.display.HTML object>"
      ]
     },
     "metadata": {},
     "output_type": "display_data"
    },
    {
     "name": "stdout",
     "output_type": "stream",
     "text": [
      "epoch:1, train loss:1.8005017150133795, train accuracy:0.09946296296296296, validation loss:1.8152822978673746, validation accuracy:0.09183333333333334\n",
      "epoch:2, train loss:1.7778713293599306, train accuracy:0.10703703703703704, validation loss:1.7599550950609033, validation accuracy:0.11416666666666667\n",
      "epoch:3, train loss:1.6890953979894956, train accuracy:0.1496111111111111, validation loss:1.6841889606114677, validation accuracy:0.15333333333333332\n",
      "epoch:4, train loss:1.7319671207773242, train accuracy:0.13290740740740742, validation loss:1.6491064962880229, validation accuracy:0.17566666666666667\n",
      "epoch:5, train loss:1.7940001180682472, train accuracy:0.10348148148148148, validation loss:1.8106673519445697, validation accuracy:0.09533333333333334\n",
      "epoch:6, train loss:1.803515045351411, train accuracy:0.09888888888888889, validation loss:1.8060506360699582, validation accuracy:0.09766666666666667\n",
      "epoch:7, train loss:1.8023682095328963, train accuracy:0.0995, validation loss:1.8000817833562648, validation accuracy:0.10066666666666667\n",
      "epoch:8, train loss:1.8016743761219474, train accuracy:0.09987037037037037, validation loss:1.800081783356265, validation accuracy:0.10066666666666667\n",
      "epoch:9, train loss:1.8016743761219474, train accuracy:0.09987037037037037, validation loss:1.8000817833562657, validation accuracy:0.10066666666666667\n",
      "epoch:10, train loss:1.8016743761219474, train accuracy:0.09987037037037037, validation loss:1.800081783356266, validation accuracy:0.10066666666666667\n"
     ]
    },
    {
     "data": {
      "text/html": [
       "Waiting for W&B process to finish... <strong style=\"color:green\">(success).</strong>"
      ],
      "text/plain": [
       "<IPython.core.display.HTML object>"
      ]
     },
     "metadata": {},
     "output_type": "display_data"
    },
    {
     "data": {
      "application/vnd.jupyter.widget-view+json": {
       "model_id": "b6e4dd6747264c968c6419285cd061d9",
       "version_major": 2,
       "version_minor": 0
      },
      "text/plain": [
       "VBox(children=(Label(value='0.001 MB of 0.001 MB uploaded (0.000 MB deduped)\\r'), FloatProgress(value=1.0, max…"
      ]
     },
     "metadata": {},
     "output_type": "display_data"
    },
    {
     "data": {
      "text/html": [
       "<style>\n",
       "    table.wandb td:nth-child(1) { padding: 0 10px; text-align: left ; width: auto;} td:nth-child(2) {text-align: left ; width: 100%}\n",
       "    .wandb-row { display: flex; flex-direction: row; flex-wrap: wrap; justify-content: flex-start; width: 100% }\n",
       "    .wandb-col { display: flex; flex-direction: column; flex-basis: 100%; flex: 1; padding: 10px; }\n",
       "    </style>\n",
       "<div class=\"wandb-row\"><div class=\"wandb-col\"><h3>Run history:</h3><br/><table class=\"wandb\"><tr><td>train accuracy</td><td>▁▂█▆▂▁▁▁▁▁</td></tr><tr><td>train loss</td><td>█▆▁▄▇█████</td></tr><tr><td>validation accuracy</td><td>▁▃▆█▁▁▂▂▂▂</td></tr><tr><td>validation loss</td><td>█▆▂▁██▇▇▇▇</td></tr></table><br/></div><div class=\"wandb-col\"><h3>Run summary:</h3><br/><table class=\"wandb\"><tr><td>train accuracy</td><td>0.09987</td></tr><tr><td>train loss</td><td>1.80167</td></tr><tr><td>validation accuracy</td><td>0.10067</td></tr><tr><td>validation loss</td><td>1.80008</td></tr></table><br/></div></div>"
      ],
      "text/plain": [
       "<IPython.core.display.HTML object>"
      ]
     },
     "metadata": {},
     "output_type": "display_data"
    },
    {
     "data": {
      "text/html": [
       " View run <strong style=\"color:#cdcd00\">spring-sweep-34</strong> at: <a href='https://wandb.ai/cs22m019/DL%20Final%20Assignment%201/runs/i7tuefan' target=\"_blank\">https://wandb.ai/cs22m019/DL%20Final%20Assignment%201/runs/i7tuefan</a><br/>Synced 6 W&B file(s), 0 media file(s), 0 artifact file(s) and 0 other file(s)"
      ],
      "text/plain": [
       "<IPython.core.display.HTML object>"
      ]
     },
     "metadata": {},
     "output_type": "display_data"
    },
    {
     "data": {
      "text/html": [
       "Find logs at: <code>.\\wandb\\run-20230311_054709-i7tuefan\\logs</code>"
      ],
      "text/plain": [
       "<IPython.core.display.HTML object>"
      ]
     },
     "metadata": {},
     "output_type": "display_data"
    },
    {
     "name": "stderr",
     "output_type": "stream",
     "text": [
      "\u001b[34m\u001b[1mwandb\u001b[0m: Agent Starting Run: 0cmku8ma with config:\n",
      "\u001b[34m\u001b[1mwandb\u001b[0m: \tactivation: sigmoid\n",
      "\u001b[34m\u001b[1mwandb\u001b[0m: \tbatch_size: 32\n",
      "\u001b[34m\u001b[1mwandb\u001b[0m: \tepochs: 5\n",
      "\u001b[34m\u001b[1mwandb\u001b[0m: \tlearning_rate: 0.001\n",
      "\u001b[34m\u001b[1mwandb\u001b[0m: \tnumber_of_hidden_layer: 4\n",
      "\u001b[34m\u001b[1mwandb\u001b[0m: \toptimizer: adam\n",
      "\u001b[34m\u001b[1mwandb\u001b[0m: \tsize_of_hidden_layer: 32\n",
      "\u001b[34m\u001b[1mwandb\u001b[0m: \tweight_decay: 0.0005\n",
      "\u001b[34m\u001b[1mwandb\u001b[0m: \tweight_initialization: random\n"
     ]
    },
    {
     "data": {
      "text/html": [
       "Tracking run with wandb version 0.13.11"
      ],
      "text/plain": [
       "<IPython.core.display.HTML object>"
      ]
     },
     "metadata": {},
     "output_type": "display_data"
    },
    {
     "data": {
      "text/html": [
       "Run data is saved locally in <code>C:\\Users\\DELL\\Desktop\\wandb\\run-20230311_061113-0cmku8ma</code>"
      ],
      "text/plain": [
       "<IPython.core.display.HTML object>"
      ]
     },
     "metadata": {},
     "output_type": "display_data"
    },
    {
     "data": {
      "text/html": [
       "Syncing run <strong><a href='https://wandb.ai/cs22m019/DL%20Final%20Assignment%201/runs/0cmku8ma' target=\"_blank\">brisk-sweep-35</a></strong> to <a href='https://wandb.ai/cs22m019/DL%20Final%20Assignment%201' target=\"_blank\">Weights & Biases</a> (<a href='https://wandb.me/run' target=\"_blank\">docs</a>)<br/>Sweep page: <a href='https://wandb.ai/cs22m019/DL%20Final%20Assignment%201/sweeps/hl8fpi30' target=\"_blank\">https://wandb.ai/cs22m019/DL%20Final%20Assignment%201/sweeps/hl8fpi30</a>"
      ],
      "text/plain": [
       "<IPython.core.display.HTML object>"
      ]
     },
     "metadata": {},
     "output_type": "display_data"
    },
    {
     "data": {
      "text/html": [
       " View project at <a href='https://wandb.ai/cs22m019/DL%20Final%20Assignment%201' target=\"_blank\">https://wandb.ai/cs22m019/DL%20Final%20Assignment%201</a>"
      ],
      "text/plain": [
       "<IPython.core.display.HTML object>"
      ]
     },
     "metadata": {},
     "output_type": "display_data"
    },
    {
     "data": {
      "text/html": [
       " View sweep at <a href='https://wandb.ai/cs22m019/DL%20Final%20Assignment%201/sweeps/hl8fpi30' target=\"_blank\">https://wandb.ai/cs22m019/DL%20Final%20Assignment%201/sweeps/hl8fpi30</a>"
      ],
      "text/plain": [
       "<IPython.core.display.HTML object>"
      ]
     },
     "metadata": {},
     "output_type": "display_data"
    },
    {
     "data": {
      "text/html": [
       " View run at <a href='https://wandb.ai/cs22m019/DL%20Final%20Assignment%201/runs/0cmku8ma' target=\"_blank\">https://wandb.ai/cs22m019/DL%20Final%20Assignment%201/runs/0cmku8ma</a>"
      ],
      "text/plain": [
       "<IPython.core.display.HTML object>"
      ]
     },
     "metadata": {},
     "output_type": "display_data"
    },
    {
     "name": "stdout",
     "output_type": "stream",
     "text": [
      "epoch:1, train loss:0.9652608844554927, train accuracy:0.16603703703703704, validation loss:0.8651678311514138, validation accuracy:0.26566666666666666\n",
      "epoch:2, train loss:0.8242133309784114, train accuracy:0.41174074074074074, validation loss:0.7874197588414082, validation accuracy:0.4593333333333333\n",
      "epoch:3, train loss:0.7579535999091224, train accuracy:0.45831481481481484, validation loss:0.7306850487580601, validation accuracy:0.473\n",
      "epoch:4, train loss:0.7091984839772336, train accuracy:0.47738888888888886, validation loss:0.6882512350781806, validation accuracy:0.5023333333333333\n",
      "epoch:5, train loss:0.6714481689571351, train accuracy:0.5058888888888889, validation loss:0.6536471381786143, validation accuracy:0.5418333333333333\n"
     ]
    },
    {
     "data": {
      "text/html": [
       "Waiting for W&B process to finish... <strong style=\"color:green\">(success).</strong>"
      ],
      "text/plain": [
       "<IPython.core.display.HTML object>"
      ]
     },
     "metadata": {},
     "output_type": "display_data"
    },
    {
     "data": {
      "application/vnd.jupyter.widget-view+json": {
       "model_id": "e8e3ca8ad5964c448c91a7e418d4ed00",
       "version_major": 2,
       "version_minor": 0
      },
      "text/plain": [
       "VBox(children=(Label(value='0.001 MB of 0.001 MB uploaded (0.000 MB deduped)\\r'), FloatProgress(value=1.0, max…"
      ]
     },
     "metadata": {},
     "output_type": "display_data"
    },
    {
     "data": {
      "text/html": [
       "<style>\n",
       "    table.wandb td:nth-child(1) { padding: 0 10px; text-align: left ; width: auto;} td:nth-child(2) {text-align: left ; width: 100%}\n",
       "    .wandb-row { display: flex; flex-direction: row; flex-wrap: wrap; justify-content: flex-start; width: 100% }\n",
       "    .wandb-col { display: flex; flex-direction: column; flex-basis: 100%; flex: 1; padding: 10px; }\n",
       "    </style>\n",
       "<div class=\"wandb-row\"><div class=\"wandb-col\"><h3>Run history:</h3><br/><table class=\"wandb\"><tr><td>train accuracy</td><td>▁▆▇▇█</td></tr><tr><td>train loss</td><td>█▅▃▂▁</td></tr><tr><td>validation accuracy</td><td>▁▆▆▇█</td></tr><tr><td>validation loss</td><td>█▅▄▂▁</td></tr></table><br/></div><div class=\"wandb-col\"><h3>Run summary:</h3><br/><table class=\"wandb\"><tr><td>train accuracy</td><td>0.50589</td></tr><tr><td>train loss</td><td>0.67145</td></tr><tr><td>validation accuracy</td><td>0.54183</td></tr><tr><td>validation loss</td><td>0.65365</td></tr></table><br/></div></div>"
      ],
      "text/plain": [
       "<IPython.core.display.HTML object>"
      ]
     },
     "metadata": {},
     "output_type": "display_data"
    },
    {
     "data": {
      "text/html": [
       " View run <strong style=\"color:#cdcd00\">brisk-sweep-35</strong> at: <a href='https://wandb.ai/cs22m019/DL%20Final%20Assignment%201/runs/0cmku8ma' target=\"_blank\">https://wandb.ai/cs22m019/DL%20Final%20Assignment%201/runs/0cmku8ma</a><br/>Synced 6 W&B file(s), 0 media file(s), 0 artifact file(s) and 0 other file(s)"
      ],
      "text/plain": [
       "<IPython.core.display.HTML object>"
      ]
     },
     "metadata": {},
     "output_type": "display_data"
    },
    {
     "data": {
      "text/html": [
       "Find logs at: <code>.\\wandb\\run-20230311_061113-0cmku8ma\\logs</code>"
      ],
      "text/plain": [
       "<IPython.core.display.HTML object>"
      ]
     },
     "metadata": {},
     "output_type": "display_data"
    },
    {
     "name": "stderr",
     "output_type": "stream",
     "text": [
      "\u001b[34m\u001b[1mwandb\u001b[0m: Sweep Agent: Waiting for job.\n",
      "\u001b[34m\u001b[1mwandb\u001b[0m: Job received.\n",
      "\u001b[34m\u001b[1mwandb\u001b[0m: Agent Starting Run: 2c9l1a3r with config:\n",
      "\u001b[34m\u001b[1mwandb\u001b[0m: \tactivation: tanh\n",
      "\u001b[34m\u001b[1mwandb\u001b[0m: \tbatch_size: 32\n",
      "\u001b[34m\u001b[1mwandb\u001b[0m: \tepochs: 5\n",
      "\u001b[34m\u001b[1mwandb\u001b[0m: \tlearning_rate: 0.0001\n",
      "\u001b[34m\u001b[1mwandb\u001b[0m: \tnumber_of_hidden_layer: 4\n",
      "\u001b[34m\u001b[1mwandb\u001b[0m: \toptimizer: adam\n",
      "\u001b[34m\u001b[1mwandb\u001b[0m: \tsize_of_hidden_layer: 128\n",
      "\u001b[34m\u001b[1mwandb\u001b[0m: \tweight_decay: 0\n",
      "\u001b[34m\u001b[1mwandb\u001b[0m: \tweight_initialization: Xavier\n"
     ]
    },
    {
     "data": {
      "text/html": [
       "Tracking run with wandb version 0.13.11"
      ],
      "text/plain": [
       "<IPython.core.display.HTML object>"
      ]
     },
     "metadata": {},
     "output_type": "display_data"
    },
    {
     "data": {
      "text/html": [
       "Run data is saved locally in <code>C:\\Users\\DELL\\Desktop\\wandb\\run-20230311_061647-2c9l1a3r</code>"
      ],
      "text/plain": [
       "<IPython.core.display.HTML object>"
      ]
     },
     "metadata": {},
     "output_type": "display_data"
    },
    {
     "data": {
      "text/html": [
       "Syncing run <strong><a href='https://wandb.ai/cs22m019/DL%20Final%20Assignment%201/runs/2c9l1a3r' target=\"_blank\">eager-sweep-36</a></strong> to <a href='https://wandb.ai/cs22m019/DL%20Final%20Assignment%201' target=\"_blank\">Weights & Biases</a> (<a href='https://wandb.me/run' target=\"_blank\">docs</a>)<br/>Sweep page: <a href='https://wandb.ai/cs22m019/DL%20Final%20Assignment%201/sweeps/hl8fpi30' target=\"_blank\">https://wandb.ai/cs22m019/DL%20Final%20Assignment%201/sweeps/hl8fpi30</a>"
      ],
      "text/plain": [
       "<IPython.core.display.HTML object>"
      ]
     },
     "metadata": {},
     "output_type": "display_data"
    },
    {
     "data": {
      "text/html": [
       " View project at <a href='https://wandb.ai/cs22m019/DL%20Final%20Assignment%201' target=\"_blank\">https://wandb.ai/cs22m019/DL%20Final%20Assignment%201</a>"
      ],
      "text/plain": [
       "<IPython.core.display.HTML object>"
      ]
     },
     "metadata": {},
     "output_type": "display_data"
    },
    {
     "data": {
      "text/html": [
       " View sweep at <a href='https://wandb.ai/cs22m019/DL%20Final%20Assignment%201/sweeps/hl8fpi30' target=\"_blank\">https://wandb.ai/cs22m019/DL%20Final%20Assignment%201/sweeps/hl8fpi30</a>"
      ],
      "text/plain": [
       "<IPython.core.display.HTML object>"
      ]
     },
     "metadata": {},
     "output_type": "display_data"
    },
    {
     "data": {
      "text/html": [
       " View run at <a href='https://wandb.ai/cs22m019/DL%20Final%20Assignment%201/runs/2c9l1a3r' target=\"_blank\">https://wandb.ai/cs22m019/DL%20Final%20Assignment%201/runs/2c9l1a3r</a>"
      ],
      "text/plain": [
       "<IPython.core.display.HTML object>"
      ]
     },
     "metadata": {},
     "output_type": "display_data"
    },
    {
     "name": "stdout",
     "output_type": "stream",
     "text": [
      "epoch:1, train loss:0.757533401945344, train accuracy:0.4081666666666667, validation loss:0.6064249774069325, validation accuracy:0.6066666666666667\n",
      "epoch:2, train loss:0.5267770999798596, train accuracy:0.671, validation loss:0.46445999672279153, validation accuracy:0.7085\n",
      "epoch:3, train loss:0.4289852263775771, train accuracy:0.7230740740740741, validation loss:0.39796747093319074, validation accuracy:0.744\n",
      "epoch:4, train loss:0.37837971604288434, train accuracy:0.7507777777777778, validation loss:0.3598400647471303, validation accuracy:0.7636666666666667\n",
      "epoch:5, train loss:0.347153388769563, train accuracy:0.7696851851851851, validation loss:0.3360641798913351, validation accuracy:0.7771666666666667\n"
     ]
    },
    {
     "data": {
      "text/html": [
       "Waiting for W&B process to finish... <strong style=\"color:green\">(success).</strong>"
      ],
      "text/plain": [
       "<IPython.core.display.HTML object>"
      ]
     },
     "metadata": {},
     "output_type": "display_data"
    },
    {
     "data": {
      "text/html": [
       "<style>\n",
       "    table.wandb td:nth-child(1) { padding: 0 10px; text-align: left ; width: auto;} td:nth-child(2) {text-align: left ; width: 100%}\n",
       "    .wandb-row { display: flex; flex-direction: row; flex-wrap: wrap; justify-content: flex-start; width: 100% }\n",
       "    .wandb-col { display: flex; flex-direction: column; flex-basis: 100%; flex: 1; padding: 10px; }\n",
       "    </style>\n",
       "<div class=\"wandb-row\"><div class=\"wandb-col\"><h3>Run history:</h3><br/><table class=\"wandb\"><tr><td>train accuracy</td><td>▁▆▇██</td></tr><tr><td>train loss</td><td>█▄▂▂▁</td></tr><tr><td>validation accuracy</td><td>▁▅▇▇█</td></tr><tr><td>validation loss</td><td>█▄▃▂▁</td></tr></table><br/></div><div class=\"wandb-col\"><h3>Run summary:</h3><br/><table class=\"wandb\"><tr><td>train accuracy</td><td>0.76969</td></tr><tr><td>train loss</td><td>0.34715</td></tr><tr><td>validation accuracy</td><td>0.77717</td></tr><tr><td>validation loss</td><td>0.33606</td></tr></table><br/></div></div>"
      ],
      "text/plain": [
       "<IPython.core.display.HTML object>"
      ]
     },
     "metadata": {},
     "output_type": "display_data"
    },
    {
     "data": {
      "text/html": [
       " View run <strong style=\"color:#cdcd00\">eager-sweep-36</strong> at: <a href='https://wandb.ai/cs22m019/DL%20Final%20Assignment%201/runs/2c9l1a3r' target=\"_blank\">https://wandb.ai/cs22m019/DL%20Final%20Assignment%201/runs/2c9l1a3r</a><br/>Synced 6 W&B file(s), 0 media file(s), 0 artifact file(s) and 0 other file(s)"
      ],
      "text/plain": [
       "<IPython.core.display.HTML object>"
      ]
     },
     "metadata": {},
     "output_type": "display_data"
    },
    {
     "data": {
      "text/html": [
       "Find logs at: <code>.\\wandb\\run-20230311_061647-2c9l1a3r\\logs</code>"
      ],
      "text/plain": [
       "<IPython.core.display.HTML object>"
      ]
     },
     "metadata": {},
     "output_type": "display_data"
    },
    {
     "name": "stderr",
     "output_type": "stream",
     "text": [
      "\u001b[34m\u001b[1mwandb\u001b[0m: Agent Starting Run: yfwh5y41 with config:\n",
      "\u001b[34m\u001b[1mwandb\u001b[0m: \tactivation: ReLU\n",
      "\u001b[34m\u001b[1mwandb\u001b[0m: \tbatch_size: 16\n",
      "\u001b[34m\u001b[1mwandb\u001b[0m: \tepochs: 10\n",
      "\u001b[34m\u001b[1mwandb\u001b[0m: \tlearning_rate: 0.001\n",
      "\u001b[34m\u001b[1mwandb\u001b[0m: \tnumber_of_hidden_layer: 4\n",
      "\u001b[34m\u001b[1mwandb\u001b[0m: \toptimizer: nadam\n",
      "\u001b[34m\u001b[1mwandb\u001b[0m: \tsize_of_hidden_layer: 64\n",
      "\u001b[34m\u001b[1mwandb\u001b[0m: \tweight_decay: 0.5\n",
      "\u001b[34m\u001b[1mwandb\u001b[0m: \tweight_initialization: Xavier\n"
     ]
    },
    {
     "data": {
      "text/html": [
       "Tracking run with wandb version 0.13.11"
      ],
      "text/plain": [
       "<IPython.core.display.HTML object>"
      ]
     },
     "metadata": {},
     "output_type": "display_data"
    },
    {
     "data": {
      "text/html": [
       "Run data is saved locally in <code>C:\\Users\\DELL\\Desktop\\wandb\\run-20230311_062841-yfwh5y41</code>"
      ],
      "text/plain": [
       "<IPython.core.display.HTML object>"
      ]
     },
     "metadata": {},
     "output_type": "display_data"
    },
    {
     "data": {
      "text/html": [
       "Syncing run <strong><a href='https://wandb.ai/cs22m019/DL%20Final%20Assignment%201/runs/yfwh5y41' target=\"_blank\">youthful-sweep-37</a></strong> to <a href='https://wandb.ai/cs22m019/DL%20Final%20Assignment%201' target=\"_blank\">Weights & Biases</a> (<a href='https://wandb.me/run' target=\"_blank\">docs</a>)<br/>Sweep page: <a href='https://wandb.ai/cs22m019/DL%20Final%20Assignment%201/sweeps/hl8fpi30' target=\"_blank\">https://wandb.ai/cs22m019/DL%20Final%20Assignment%201/sweeps/hl8fpi30</a>"
      ],
      "text/plain": [
       "<IPython.core.display.HTML object>"
      ]
     },
     "metadata": {},
     "output_type": "display_data"
    },
    {
     "data": {
      "text/html": [
       " View project at <a href='https://wandb.ai/cs22m019/DL%20Final%20Assignment%201' target=\"_blank\">https://wandb.ai/cs22m019/DL%20Final%20Assignment%201</a>"
      ],
      "text/plain": [
       "<IPython.core.display.HTML object>"
      ]
     },
     "metadata": {},
     "output_type": "display_data"
    },
    {
     "data": {
      "text/html": [
       " View sweep at <a href='https://wandb.ai/cs22m019/DL%20Final%20Assignment%201/sweeps/hl8fpi30' target=\"_blank\">https://wandb.ai/cs22m019/DL%20Final%20Assignment%201/sweeps/hl8fpi30</a>"
      ],
      "text/plain": [
       "<IPython.core.display.HTML object>"
      ]
     },
     "metadata": {},
     "output_type": "display_data"
    },
    {
     "data": {
      "text/html": [
       " View run at <a href='https://wandb.ai/cs22m019/DL%20Final%20Assignment%201/runs/yfwh5y41' target=\"_blank\">https://wandb.ai/cs22m019/DL%20Final%20Assignment%201/runs/yfwh5y41</a>"
      ],
      "text/plain": [
       "<IPython.core.display.HTML object>"
      ]
     },
     "metadata": {},
     "output_type": "display_data"
    },
    {
     "name": "stdout",
     "output_type": "stream",
     "text": [
      "epoch:1, train loss:0.43152768459922974, train accuracy:0.6961296296296297, validation loss:0.2954094881657837, validation accuracy:0.8041666666666667\n",
      "epoch:2, train loss:0.2783766625249043, train accuracy:0.8188888888888889, validation loss:0.2632175524626577, validation accuracy:0.8221666666666667\n",
      "epoch:3, train loss:0.2550457888400874, train accuracy:0.835, validation loss:0.24857115956863585, validation accuracy:0.8336666666666667\n",
      "epoch:4, train loss:0.24294348199145455, train accuracy:0.8435, validation loss:0.2473041826744234, validation accuracy:0.8401666666666666\n",
      "epoch:5, train loss:0.23504339835745477, train accuracy:0.8489074074074074, validation loss:0.2312238207560365, validation accuracy:0.8511666666666666\n",
      "epoch:6, train loss:0.22929721060737568, train accuracy:0.8537037037037037, validation loss:0.22880314163208937, validation accuracy:0.8516666666666667\n",
      "epoch:7, train loss:0.22673660615288363, train accuracy:0.8555925925925926, validation loss:0.22429437259914678, validation accuracy:0.8561666666666666\n",
      "epoch:8, train loss:0.2311313134877735, train accuracy:0.8530185185185185, validation loss:0.2841375873629303, validation accuracy:0.8156666666666667\n",
      "epoch:9, train loss:0.31298985468537455, train accuracy:0.8144259259259259, validation loss:0.5166317820048336, validation accuracy:0.6983333333333334\n",
      "epoch:10, train loss:1.3129199604069217, train accuracy:0.3478148148148148, validation loss:1.8504938732634377, validation accuracy:0.10616666666666667\n"
     ]
    },
    {
     "data": {
      "text/html": [
       "Waiting for W&B process to finish... <strong style=\"color:green\">(success).</strong>"
      ],
      "text/plain": [
       "<IPython.core.display.HTML object>"
      ]
     },
     "metadata": {},
     "output_type": "display_data"
    },
    {
     "data": {
      "application/vnd.jupyter.widget-view+json": {
       "model_id": "aa789fa8d8bf4bc6b6ce2a511a83138e",
       "version_major": 2,
       "version_minor": 0
      },
      "text/plain": [
       "VBox(children=(Label(value='0.001 MB of 0.001 MB uploaded (0.000 MB deduped)\\r'), FloatProgress(value=1.0, max…"
      ]
     },
     "metadata": {},
     "output_type": "display_data"
    },
    {
     "data": {
      "text/html": [
       "<style>\n",
       "    table.wandb td:nth-child(1) { padding: 0 10px; text-align: left ; width: auto;} td:nth-child(2) {text-align: left ; width: 100%}\n",
       "    .wandb-row { display: flex; flex-direction: row; flex-wrap: wrap; justify-content: flex-start; width: 100% }\n",
       "    .wandb-col { display: flex; flex-direction: column; flex-basis: 100%; flex: 1; padding: 10px; }\n",
       "    </style>\n",
       "<div class=\"wandb-row\"><div class=\"wandb-col\"><h3>Run history:</h3><br/><table class=\"wandb\"><tr><td>train accuracy</td><td>▆▇██████▇▁</td></tr><tr><td>train loss</td><td>▂▁▁▁▁▁▁▁▂█</td></tr><tr><td>validation accuracy</td><td>████████▇▁</td></tr><tr><td>validation loss</td><td>▁▁▁▁▁▁▁▁▂█</td></tr></table><br/></div><div class=\"wandb-col\"><h3>Run summary:</h3><br/><table class=\"wandb\"><tr><td>train accuracy</td><td>0.34781</td></tr><tr><td>train loss</td><td>1.31292</td></tr><tr><td>validation accuracy</td><td>0.10617</td></tr><tr><td>validation loss</td><td>1.85049</td></tr></table><br/></div></div>"
      ],
      "text/plain": [
       "<IPython.core.display.HTML object>"
      ]
     },
     "metadata": {},
     "output_type": "display_data"
    },
    {
     "data": {
      "text/html": [
       " View run <strong style=\"color:#cdcd00\">youthful-sweep-37</strong> at: <a href='https://wandb.ai/cs22m019/DL%20Final%20Assignment%201/runs/yfwh5y41' target=\"_blank\">https://wandb.ai/cs22m019/DL%20Final%20Assignment%201/runs/yfwh5y41</a><br/>Synced 6 W&B file(s), 0 media file(s), 0 artifact file(s) and 0 other file(s)"
      ],
      "text/plain": [
       "<IPython.core.display.HTML object>"
      ]
     },
     "metadata": {},
     "output_type": "display_data"
    },
    {
     "data": {
      "text/html": [
       "Find logs at: <code>.\\wandb\\run-20230311_062841-yfwh5y41\\logs</code>"
      ],
      "text/plain": [
       "<IPython.core.display.HTML object>"
      ]
     },
     "metadata": {},
     "output_type": "display_data"
    },
    {
     "name": "stderr",
     "output_type": "stream",
     "text": [
      "\u001b[34m\u001b[1mwandb\u001b[0m: Agent Starting Run: qdkvczcd with config:\n",
      "\u001b[34m\u001b[1mwandb\u001b[0m: \tactivation: sigmoid\n",
      "\u001b[34m\u001b[1mwandb\u001b[0m: \tbatch_size: 16\n",
      "\u001b[34m\u001b[1mwandb\u001b[0m: \tepochs: 5\n",
      "\u001b[34m\u001b[1mwandb\u001b[0m: \tlearning_rate: 0.0001\n",
      "\u001b[34m\u001b[1mwandb\u001b[0m: \tnumber_of_hidden_layer: 3\n",
      "\u001b[34m\u001b[1mwandb\u001b[0m: \toptimizer: nadam\n",
      "\u001b[34m\u001b[1mwandb\u001b[0m: \tsize_of_hidden_layer: 32\n",
      "\u001b[34m\u001b[1mwandb\u001b[0m: \tweight_decay: 0.5\n",
      "\u001b[34m\u001b[1mwandb\u001b[0m: \tweight_initialization: Xavier\n"
     ]
    },
    {
     "data": {
      "text/html": [
       "Tracking run with wandb version 0.13.11"
      ],
      "text/plain": [
       "<IPython.core.display.HTML object>"
      ]
     },
     "metadata": {},
     "output_type": "display_data"
    },
    {
     "data": {
      "text/html": [
       "Run data is saved locally in <code>C:\\Users\\DELL\\Desktop\\wandb\\run-20230311_064036-qdkvczcd</code>"
      ],
      "text/plain": [
       "<IPython.core.display.HTML object>"
      ]
     },
     "metadata": {},
     "output_type": "display_data"
    },
    {
     "data": {
      "text/html": [
       "Syncing run <strong><a href='https://wandb.ai/cs22m019/DL%20Final%20Assignment%201/runs/qdkvczcd' target=\"_blank\">polar-sweep-38</a></strong> to <a href='https://wandb.ai/cs22m019/DL%20Final%20Assignment%201' target=\"_blank\">Weights & Biases</a> (<a href='https://wandb.me/run' target=\"_blank\">docs</a>)<br/>Sweep page: <a href='https://wandb.ai/cs22m019/DL%20Final%20Assignment%201/sweeps/hl8fpi30' target=\"_blank\">https://wandb.ai/cs22m019/DL%20Final%20Assignment%201/sweeps/hl8fpi30</a>"
      ],
      "text/plain": [
       "<IPython.core.display.HTML object>"
      ]
     },
     "metadata": {},
     "output_type": "display_data"
    },
    {
     "data": {
      "text/html": [
       " View project at <a href='https://wandb.ai/cs22m019/DL%20Final%20Assignment%201' target=\"_blank\">https://wandb.ai/cs22m019/DL%20Final%20Assignment%201</a>"
      ],
      "text/plain": [
       "<IPython.core.display.HTML object>"
      ]
     },
     "metadata": {},
     "output_type": "display_data"
    },
    {
     "data": {
      "text/html": [
       " View sweep at <a href='https://wandb.ai/cs22m019/DL%20Final%20Assignment%201/sweeps/hl8fpi30' target=\"_blank\">https://wandb.ai/cs22m019/DL%20Final%20Assignment%201/sweeps/hl8fpi30</a>"
      ],
      "text/plain": [
       "<IPython.core.display.HTML object>"
      ]
     },
     "metadata": {},
     "output_type": "display_data"
    },
    {
     "data": {
      "text/html": [
       " View run at <a href='https://wandb.ai/cs22m019/DL%20Final%20Assignment%201/runs/qdkvczcd' target=\"_blank\">https://wandb.ai/cs22m019/DL%20Final%20Assignment%201/runs/qdkvczcd</a>"
      ],
      "text/plain": [
       "<IPython.core.display.HTML object>"
      ]
     },
     "metadata": {},
     "output_type": "display_data"
    },
    {
     "name": "stdout",
     "output_type": "stream",
     "text": [
      "epoch:1, train loss:0.915716567239909, train accuracy:0.1187037037037037, validation loss:0.9081993970552628, validation accuracy:0.15383333333333332\n",
      "epoch:2, train loss:0.903569268051562, train accuracy:0.2329074074074074, validation loss:0.8993462546282665, validation accuracy:0.26033333333333336\n",
      "epoch:3, train loss:0.8957963178932045, train accuracy:0.25483333333333336, validation loss:0.8922490490120452, validation accuracy:0.23116666666666666\n",
      "epoch:4, train loss:0.8889203954840108, train accuracy:0.22824074074074074, validation loss:0.8853298938779924, validation accuracy:0.23116666666666666\n",
      "epoch:5, train loss:0.8818020730381896, train accuracy:0.22537037037037036, validation loss:0.8777758926081216, validation accuracy:0.215\n"
     ]
    },
    {
     "data": {
      "text/html": [
       "Waiting for W&B process to finish... <strong style=\"color:green\">(success).</strong>"
      ],
      "text/plain": [
       "<IPython.core.display.HTML object>"
      ]
     },
     "metadata": {},
     "output_type": "display_data"
    },
    {
     "data": {
      "text/html": [
       "<style>\n",
       "    table.wandb td:nth-child(1) { padding: 0 10px; text-align: left ; width: auto;} td:nth-child(2) {text-align: left ; width: 100%}\n",
       "    .wandb-row { display: flex; flex-direction: row; flex-wrap: wrap; justify-content: flex-start; width: 100% }\n",
       "    .wandb-col { display: flex; flex-direction: column; flex-basis: 100%; flex: 1; padding: 10px; }\n",
       "    </style>\n",
       "<div class=\"wandb-row\"><div class=\"wandb-col\"><h3>Run history:</h3><br/><table class=\"wandb\"><tr><td>train accuracy</td><td>▁▇█▇▆</td></tr><tr><td>train loss</td><td>█▅▄▂▁</td></tr><tr><td>validation accuracy</td><td>▁█▆▆▅</td></tr><tr><td>validation loss</td><td>█▆▄▃▁</td></tr></table><br/></div><div class=\"wandb-col\"><h3>Run summary:</h3><br/><table class=\"wandb\"><tr><td>train accuracy</td><td>0.22537</td></tr><tr><td>train loss</td><td>0.8818</td></tr><tr><td>validation accuracy</td><td>0.215</td></tr><tr><td>validation loss</td><td>0.87778</td></tr></table><br/></div></div>"
      ],
      "text/plain": [
       "<IPython.core.display.HTML object>"
      ]
     },
     "metadata": {},
     "output_type": "display_data"
    },
    {
     "data": {
      "text/html": [
       " View run <strong style=\"color:#cdcd00\">polar-sweep-38</strong> at: <a href='https://wandb.ai/cs22m019/DL%20Final%20Assignment%201/runs/qdkvczcd' target=\"_blank\">https://wandb.ai/cs22m019/DL%20Final%20Assignment%201/runs/qdkvczcd</a><br/>Synced 6 W&B file(s), 0 media file(s), 0 artifact file(s) and 0 other file(s)"
      ],
      "text/plain": [
       "<IPython.core.display.HTML object>"
      ]
     },
     "metadata": {},
     "output_type": "display_data"
    },
    {
     "data": {
      "text/html": [
       "Find logs at: <code>.\\wandb\\run-20230311_064036-qdkvczcd\\logs</code>"
      ],
      "text/plain": [
       "<IPython.core.display.HTML object>"
      ]
     },
     "metadata": {},
     "output_type": "display_data"
    },
    {
     "name": "stderr",
     "output_type": "stream",
     "text": [
      "\u001b[34m\u001b[1mwandb\u001b[0m: Agent Starting Run: 5iq8h36n with config:\n",
      "\u001b[34m\u001b[1mwandb\u001b[0m: \tactivation: ReLU\n",
      "\u001b[34m\u001b[1mwandb\u001b[0m: \tbatch_size: 16\n",
      "\u001b[34m\u001b[1mwandb\u001b[0m: \tepochs: 5\n",
      "\u001b[34m\u001b[1mwandb\u001b[0m: \tlearning_rate: 0.001\n",
      "\u001b[34m\u001b[1mwandb\u001b[0m: \tnumber_of_hidden_layer: 5\n",
      "\u001b[34m\u001b[1mwandb\u001b[0m: \toptimizer: sgd\n",
      "\u001b[34m\u001b[1mwandb\u001b[0m: \tsize_of_hidden_layer: 64\n",
      "\u001b[34m\u001b[1mwandb\u001b[0m: \tweight_decay: 0.5\n",
      "\u001b[34m\u001b[1mwandb\u001b[0m: \tweight_initialization: Xavier\n"
     ]
    },
    {
     "data": {
      "text/html": [
       "Tracking run with wandb version 0.13.11"
      ],
      "text/plain": [
       "<IPython.core.display.HTML object>"
      ]
     },
     "metadata": {},
     "output_type": "display_data"
    },
    {
     "data": {
      "text/html": [
       "Run data is saved locally in <code>C:\\Users\\DELL\\Desktop\\wandb\\run-20230311_064554-5iq8h36n</code>"
      ],
      "text/plain": [
       "<IPython.core.display.HTML object>"
      ]
     },
     "metadata": {},
     "output_type": "display_data"
    },
    {
     "data": {
      "text/html": [
       "Syncing run <strong><a href='https://wandb.ai/cs22m019/DL%20Final%20Assignment%201/runs/5iq8h36n' target=\"_blank\">trim-sweep-39</a></strong> to <a href='https://wandb.ai/cs22m019/DL%20Final%20Assignment%201' target=\"_blank\">Weights & Biases</a> (<a href='https://wandb.me/run' target=\"_blank\">docs</a>)<br/>Sweep page: <a href='https://wandb.ai/cs22m019/DL%20Final%20Assignment%201/sweeps/hl8fpi30' target=\"_blank\">https://wandb.ai/cs22m019/DL%20Final%20Assignment%201/sweeps/hl8fpi30</a>"
      ],
      "text/plain": [
       "<IPython.core.display.HTML object>"
      ]
     },
     "metadata": {},
     "output_type": "display_data"
    },
    {
     "data": {
      "text/html": [
       " View project at <a href='https://wandb.ai/cs22m019/DL%20Final%20Assignment%201' target=\"_blank\">https://wandb.ai/cs22m019/DL%20Final%20Assignment%201</a>"
      ],
      "text/plain": [
       "<IPython.core.display.HTML object>"
      ]
     },
     "metadata": {},
     "output_type": "display_data"
    },
    {
     "data": {
      "text/html": [
       " View sweep at <a href='https://wandb.ai/cs22m019/DL%20Final%20Assignment%201/sweeps/hl8fpi30' target=\"_blank\">https://wandb.ai/cs22m019/DL%20Final%20Assignment%201/sweeps/hl8fpi30</a>"
      ],
      "text/plain": [
       "<IPython.core.display.HTML object>"
      ]
     },
     "metadata": {},
     "output_type": "display_data"
    },
    {
     "data": {
      "text/html": [
       " View run at <a href='https://wandb.ai/cs22m019/DL%20Final%20Assignment%201/runs/5iq8h36n' target=\"_blank\">https://wandb.ai/cs22m019/DL%20Final%20Assignment%201/runs/5iq8h36n</a>"
      ],
      "text/plain": [
       "<IPython.core.display.HTML object>"
      ]
     },
     "metadata": {},
     "output_type": "display_data"
    },
    {
     "name": "stdout",
     "output_type": "stream",
     "text": [
      "epoch:1, train loss:0.9344730043741791, train accuracy:0.11203703703703703, validation loss:0.9327545996061992, validation accuracy:0.11783333333333333\n",
      "epoch:2, train loss:0.9296606039994539, train accuracy:0.12503703703703703, validation loss:0.9283223411746765, validation accuracy:0.13783333333333334\n",
      "epoch:3, train loss:0.9256161221768098, train accuracy:0.14253703703703705, validation loss:0.9245520984408635, validation accuracy:0.154\n",
      "epoch:4, train loss:0.9220738727233221, train accuracy:0.16242592592592592, validation loss:0.9211860076470345, validation accuracy:0.17066666666666666\n",
      "epoch:5, train loss:0.9187713843890941, train accuracy:0.18005555555555555, validation loss:0.9180517203977694, validation accuracy:0.18166666666666667\n"
     ]
    },
    {
     "data": {
      "text/html": [
       "Waiting for W&B process to finish... <strong style=\"color:green\">(success).</strong>"
      ],
      "text/plain": [
       "<IPython.core.display.HTML object>"
      ]
     },
     "metadata": {},
     "output_type": "display_data"
    },
    {
     "data": {
      "application/vnd.jupyter.widget-view+json": {
       "model_id": "d3c5bb5f15f1411e868c0cc5bc25b059",
       "version_major": 2,
       "version_minor": 0
      },
      "text/plain": [
       "VBox(children=(Label(value='0.001 MB of 0.024 MB uploaded (0.000 MB deduped)\\r'), FloatProgress(value=0.045857…"
      ]
     },
     "metadata": {},
     "output_type": "display_data"
    },
    {
     "data": {
      "text/html": [
       "<style>\n",
       "    table.wandb td:nth-child(1) { padding: 0 10px; text-align: left ; width: auto;} td:nth-child(2) {text-align: left ; width: 100%}\n",
       "    .wandb-row { display: flex; flex-direction: row; flex-wrap: wrap; justify-content: flex-start; width: 100% }\n",
       "    .wandb-col { display: flex; flex-direction: column; flex-basis: 100%; flex: 1; padding: 10px; }\n",
       "    </style>\n",
       "<div class=\"wandb-row\"><div class=\"wandb-col\"><h3>Run history:</h3><br/><table class=\"wandb\"><tr><td>train accuracy</td><td>▁▂▄▆█</td></tr><tr><td>train loss</td><td>█▆▄▂▁</td></tr><tr><td>validation accuracy</td><td>▁▃▅▇█</td></tr><tr><td>validation loss</td><td>█▆▄▂▁</td></tr></table><br/></div><div class=\"wandb-col\"><h3>Run summary:</h3><br/><table class=\"wandb\"><tr><td>train accuracy</td><td>0.18006</td></tr><tr><td>train loss</td><td>0.91877</td></tr><tr><td>validation accuracy</td><td>0.18167</td></tr><tr><td>validation loss</td><td>0.91805</td></tr></table><br/></div></div>"
      ],
      "text/plain": [
       "<IPython.core.display.HTML object>"
      ]
     },
     "metadata": {},
     "output_type": "display_data"
    },
    {
     "data": {
      "text/html": [
       " View run <strong style=\"color:#cdcd00\">trim-sweep-39</strong> at: <a href='https://wandb.ai/cs22m019/DL%20Final%20Assignment%201/runs/5iq8h36n' target=\"_blank\">https://wandb.ai/cs22m019/DL%20Final%20Assignment%201/runs/5iq8h36n</a><br/>Synced 6 W&B file(s), 0 media file(s), 0 artifact file(s) and 0 other file(s)"
      ],
      "text/plain": [
       "<IPython.core.display.HTML object>"
      ]
     },
     "metadata": {},
     "output_type": "display_data"
    },
    {
     "data": {
      "text/html": [
       "Find logs at: <code>.\\wandb\\run-20230311_064554-5iq8h36n\\logs</code>"
      ],
      "text/plain": [
       "<IPython.core.display.HTML object>"
      ]
     },
     "metadata": {},
     "output_type": "display_data"
    },
    {
     "name": "stderr",
     "output_type": "stream",
     "text": [
      "\u001b[34m\u001b[1mwandb\u001b[0m: Agent Starting Run: bo0g7xsp with config:\n",
      "\u001b[34m\u001b[1mwandb\u001b[0m: \tactivation: tanh\n",
      "\u001b[34m\u001b[1mwandb\u001b[0m: \tbatch_size: 32\n",
      "\u001b[34m\u001b[1mwandb\u001b[0m: \tepochs: 10\n",
      "\u001b[34m\u001b[1mwandb\u001b[0m: \tlearning_rate: 0.001\n",
      "\u001b[34m\u001b[1mwandb\u001b[0m: \tnumber_of_hidden_layer: 4\n",
      "\u001b[34m\u001b[1mwandb\u001b[0m: \toptimizer: nestrov\n",
      "\u001b[34m\u001b[1mwandb\u001b[0m: \tsize_of_hidden_layer: 32\n",
      "\u001b[34m\u001b[1mwandb\u001b[0m: \tweight_decay: 0\n",
      "\u001b[34m\u001b[1mwandb\u001b[0m: \tweight_initialization: Xavier\n"
     ]
    },
    {
     "data": {
      "text/html": [
       "Tracking run with wandb version 0.13.11"
      ],
      "text/plain": [
       "<IPython.core.display.HTML object>"
      ]
     },
     "metadata": {},
     "output_type": "display_data"
    },
    {
     "data": {
      "text/html": [
       "Run data is saved locally in <code>C:\\Users\\DELL\\Desktop\\wandb\\run-20230311_065043-bo0g7xsp</code>"
      ],
      "text/plain": [
       "<IPython.core.display.HTML object>"
      ]
     },
     "metadata": {},
     "output_type": "display_data"
    },
    {
     "data": {
      "text/html": [
       "Syncing run <strong><a href='https://wandb.ai/cs22m019/DL%20Final%20Assignment%201/runs/bo0g7xsp' target=\"_blank\">floral-sweep-40</a></strong> to <a href='https://wandb.ai/cs22m019/DL%20Final%20Assignment%201' target=\"_blank\">Weights & Biases</a> (<a href='https://wandb.me/run' target=\"_blank\">docs</a>)<br/>Sweep page: <a href='https://wandb.ai/cs22m019/DL%20Final%20Assignment%201/sweeps/hl8fpi30' target=\"_blank\">https://wandb.ai/cs22m019/DL%20Final%20Assignment%201/sweeps/hl8fpi30</a>"
      ],
      "text/plain": [
       "<IPython.core.display.HTML object>"
      ]
     },
     "metadata": {},
     "output_type": "display_data"
    },
    {
     "data": {
      "text/html": [
       " View project at <a href='https://wandb.ai/cs22m019/DL%20Final%20Assignment%201' target=\"_blank\">https://wandb.ai/cs22m019/DL%20Final%20Assignment%201</a>"
      ],
      "text/plain": [
       "<IPython.core.display.HTML object>"
      ]
     },
     "metadata": {},
     "output_type": "display_data"
    },
    {
     "data": {
      "text/html": [
       " View sweep at <a href='https://wandb.ai/cs22m019/DL%20Final%20Assignment%201/sweeps/hl8fpi30' target=\"_blank\">https://wandb.ai/cs22m019/DL%20Final%20Assignment%201/sweeps/hl8fpi30</a>"
      ],
      "text/plain": [
       "<IPython.core.display.HTML object>"
      ]
     },
     "metadata": {},
     "output_type": "display_data"
    },
    {
     "data": {
      "text/html": [
       " View run at <a href='https://wandb.ai/cs22m019/DL%20Final%20Assignment%201/runs/bo0g7xsp' target=\"_blank\">https://wandb.ai/cs22m019/DL%20Final%20Assignment%201/runs/bo0g7xsp</a>"
      ],
      "text/plain": [
       "<IPython.core.display.HTML object>"
      ]
     },
     "metadata": {},
     "output_type": "display_data"
    },
    {
     "name": "stdout",
     "output_type": "stream",
     "text": [
      "epoch:1, train loss:0.8863970937519049, train accuracy:0.18303703703703703, validation loss:0.8514558457152661, validation accuracy:0.2901666666666667\n",
      "epoch:2, train loss:0.8130879455692251, train accuracy:0.3409074074074074, validation loss:0.7745813355858824, validation accuracy:0.4073333333333333\n",
      "epoch:3, train loss:0.7412154579551296, train accuracy:0.4204074074074074, validation loss:0.7075303225409562, validation accuracy:0.441\n",
      "epoch:4, train loss:0.6816170083898392, train accuracy:0.44146296296296295, validation loss:0.6538955763383661, validation accuracy:0.4593333333333333\n",
      "epoch:5, train loss:0.6332245780329581, train accuracy:0.4732037037037037, validation loss:0.6097845399111692, validation accuracy:0.5011666666666666\n",
      "epoch:6, train loss:0.5906732319762709, train accuracy:0.5478518518518518, validation loss:0.5691626719779415, validation accuracy:0.5908333333333333\n",
      "epoch:7, train loss:0.5514160319452409, train accuracy:0.6243518518518518, validation loss:0.5311926666707154, validation accuracy:0.65\n",
      "epoch:8, train loss:0.5154346229274384, train accuracy:0.6636481481481481, validation loss:0.4975272689282609, validation accuracy:0.6745\n",
      "epoch:9, train loss:0.4844335685423231, train accuracy:0.6800185185185185, validation loss:0.4691967163511137, validation accuracy:0.689\n",
      "epoch:10, train loss:0.45886393108497353, train accuracy:0.6913148148148148, validation loss:0.44622877371436, validation accuracy:0.6946666666666667\n"
     ]
    },
    {
     "data": {
      "text/html": [
       "Waiting for W&B process to finish... <strong style=\"color:green\">(success).</strong>"
      ],
      "text/plain": [
       "<IPython.core.display.HTML object>"
      ]
     },
     "metadata": {},
     "output_type": "display_data"
    },
    {
     "data": {
      "text/html": [
       "<style>\n",
       "    table.wandb td:nth-child(1) { padding: 0 10px; text-align: left ; width: auto;} td:nth-child(2) {text-align: left ; width: 100%}\n",
       "    .wandb-row { display: flex; flex-direction: row; flex-wrap: wrap; justify-content: flex-start; width: 100% }\n",
       "    .wandb-col { display: flex; flex-direction: column; flex-basis: 100%; flex: 1; padding: 10px; }\n",
       "    </style>\n",
       "<div class=\"wandb-row\"><div class=\"wandb-col\"><h3>Run history:</h3><br/><table class=\"wandb\"><tr><td>train accuracy</td><td>▁▃▄▅▅▆▇███</td></tr><tr><td>train loss</td><td>█▇▆▅▄▃▃▂▁▁</td></tr><tr><td>validation accuracy</td><td>▁▃▄▄▅▆▇███</td></tr><tr><td>validation loss</td><td>█▇▆▅▄▃▂▂▁▁</td></tr></table><br/></div><div class=\"wandb-col\"><h3>Run summary:</h3><br/><table class=\"wandb\"><tr><td>train accuracy</td><td>0.69131</td></tr><tr><td>train loss</td><td>0.45886</td></tr><tr><td>validation accuracy</td><td>0.69467</td></tr><tr><td>validation loss</td><td>0.44623</td></tr></table><br/></div></div>"
      ],
      "text/plain": [
       "<IPython.core.display.HTML object>"
      ]
     },
     "metadata": {},
     "output_type": "display_data"
    },
    {
     "data": {
      "text/html": [
       " View run <strong style=\"color:#cdcd00\">floral-sweep-40</strong> at: <a href='https://wandb.ai/cs22m019/DL%20Final%20Assignment%201/runs/bo0g7xsp' target=\"_blank\">https://wandb.ai/cs22m019/DL%20Final%20Assignment%201/runs/bo0g7xsp</a><br/>Synced 6 W&B file(s), 0 media file(s), 0 artifact file(s) and 0 other file(s)"
      ],
      "text/plain": [
       "<IPython.core.display.HTML object>"
      ]
     },
     "metadata": {},
     "output_type": "display_data"
    },
    {
     "data": {
      "text/html": [
       "Find logs at: <code>.\\wandb\\run-20230311_065043-bo0g7xsp\\logs</code>"
      ],
      "text/plain": [
       "<IPython.core.display.HTML object>"
      ]
     },
     "metadata": {},
     "output_type": "display_data"
    },
    {
     "name": "stderr",
     "output_type": "stream",
     "text": [
      "\u001b[34m\u001b[1mwandb\u001b[0m: Agent Starting Run: s4bm6g3m with config:\n",
      "\u001b[34m\u001b[1mwandb\u001b[0m: \tactivation: sigmoid\n",
      "\u001b[34m\u001b[1mwandb\u001b[0m: \tbatch_size: 16\n",
      "\u001b[34m\u001b[1mwandb\u001b[0m: \tepochs: 10\n",
      "\u001b[34m\u001b[1mwandb\u001b[0m: \tlearning_rate: 0.001\n",
      "\u001b[34m\u001b[1mwandb\u001b[0m: \tnumber_of_hidden_layer: 4\n",
      "\u001b[34m\u001b[1mwandb\u001b[0m: \toptimizer: momentum\n",
      "\u001b[34m\u001b[1mwandb\u001b[0m: \tsize_of_hidden_layer: 64\n",
      "\u001b[34m\u001b[1mwandb\u001b[0m: \tweight_decay: 0.5\n",
      "\u001b[34m\u001b[1mwandb\u001b[0m: \tweight_initialization: Xavier\n"
     ]
    },
    {
     "data": {
      "text/html": [
       "Tracking run with wandb version 0.13.11"
      ],
      "text/plain": [
       "<IPython.core.display.HTML object>"
      ]
     },
     "metadata": {},
     "output_type": "display_data"
    },
    {
     "data": {
      "text/html": [
       "Run data is saved locally in <code>C:\\Users\\DELL\\Desktop\\wandb\\run-20230311_070023-s4bm6g3m</code>"
      ],
      "text/plain": [
       "<IPython.core.display.HTML object>"
      ]
     },
     "metadata": {},
     "output_type": "display_data"
    },
    {
     "data": {
      "text/html": [
       "Syncing run <strong><a href='https://wandb.ai/cs22m019/DL%20Final%20Assignment%201/runs/s4bm6g3m' target=\"_blank\">wild-sweep-41</a></strong> to <a href='https://wandb.ai/cs22m019/DL%20Final%20Assignment%201' target=\"_blank\">Weights & Biases</a> (<a href='https://wandb.me/run' target=\"_blank\">docs</a>)<br/>Sweep page: <a href='https://wandb.ai/cs22m019/DL%20Final%20Assignment%201/sweeps/hl8fpi30' target=\"_blank\">https://wandb.ai/cs22m019/DL%20Final%20Assignment%201/sweeps/hl8fpi30</a>"
      ],
      "text/plain": [
       "<IPython.core.display.HTML object>"
      ]
     },
     "metadata": {},
     "output_type": "display_data"
    },
    {
     "data": {
      "text/html": [
       " View project at <a href='https://wandb.ai/cs22m019/DL%20Final%20Assignment%201' target=\"_blank\">https://wandb.ai/cs22m019/DL%20Final%20Assignment%201</a>"
      ],
      "text/plain": [
       "<IPython.core.display.HTML object>"
      ]
     },
     "metadata": {},
     "output_type": "display_data"
    },
    {
     "data": {
      "text/html": [
       " View sweep at <a href='https://wandb.ai/cs22m019/DL%20Final%20Assignment%201/sweeps/hl8fpi30' target=\"_blank\">https://wandb.ai/cs22m019/DL%20Final%20Assignment%201/sweeps/hl8fpi30</a>"
      ],
      "text/plain": [
       "<IPython.core.display.HTML object>"
      ]
     },
     "metadata": {},
     "output_type": "display_data"
    },
    {
     "data": {
      "text/html": [
       " View run at <a href='https://wandb.ai/cs22m019/DL%20Final%20Assignment%201/runs/s4bm6g3m' target=\"_blank\">https://wandb.ai/cs22m019/DL%20Final%20Assignment%201/runs/s4bm6g3m</a>"
      ],
      "text/plain": [
       "<IPython.core.display.HTML object>"
      ]
     },
     "metadata": {},
     "output_type": "display_data"
    },
    {
     "name": "stdout",
     "output_type": "stream",
     "text": [
      "epoch:1, train loss:0.9381441920529202, train accuracy:0.09983333333333333, validation loss:0.925332535345308, validation accuracy:0.11466666666666667\n",
      "epoch:2, train loss:0.9214204213486633, train accuracy:0.09933333333333333, validation loss:0.918870830623433, validation accuracy:0.1245\n",
      "epoch:3, train loss:0.9174911936636226, train accuracy:0.10729629629629629, validation loss:0.9164201491858032, validation accuracy:0.066\n",
      "epoch:4, train loss:0.9154074627266029, train accuracy:0.09433333333333334, validation loss:0.9146536097605517, validation accuracy:0.10533333333333333\n",
      "epoch:5, train loss:0.9141350201688664, train accuracy:0.09894444444444445, validation loss:0.9138378527488291, validation accuracy:0.1285\n",
      "epoch:6, train loss:0.9137020921041715, train accuracy:0.10679629629629629, validation loss:0.9136460392148228, validation accuracy:0.087\n",
      "epoch:7, train loss:0.913617528804399, train accuracy:0.0917037037037037, validation loss:0.9136034720643536, validation accuracy:0.099\n",
      "epoch:8, train loss:0.9135993837811599, train accuracy:0.10712962962962963, validation loss:0.9136101389638982, validation accuracy:0.0855\n",
      "epoch:9, train loss:0.9135934339656835, train accuracy:0.11818518518518518, validation loss:0.9135888496789623, validation accuracy:0.10516666666666667\n",
      "epoch:10, train loss:0.913584767040911, train accuracy:0.11394444444444445, validation loss:0.9135938964134381, validation accuracy:0.1025\n"
     ]
    },
    {
     "data": {
      "text/html": [
       "Waiting for W&B process to finish... <strong style=\"color:green\">(success).</strong>"
      ],
      "text/plain": [
       "<IPython.core.display.HTML object>"
      ]
     },
     "metadata": {},
     "output_type": "display_data"
    },
    {
     "data": {
      "text/html": [
       "<style>\n",
       "    table.wandb td:nth-child(1) { padding: 0 10px; text-align: left ; width: auto;} td:nth-child(2) {text-align: left ; width: 100%}\n",
       "    .wandb-row { display: flex; flex-direction: row; flex-wrap: wrap; justify-content: flex-start; width: 100% }\n",
       "    .wandb-col { display: flex; flex-direction: column; flex-basis: 100%; flex: 1; padding: 10px; }\n",
       "    </style>\n",
       "<div class=\"wandb-row\"><div class=\"wandb-col\"><h3>Run history:</h3><br/><table class=\"wandb\"><tr><td>train accuracy</td><td>▃▃▅▂▃▅▁▅█▇</td></tr><tr><td>train loss</td><td>█▃▂▂▁▁▁▁▁▁</td></tr><tr><td>validation accuracy</td><td>▆█▁▅█▃▅▃▅▅</td></tr><tr><td>validation loss</td><td>█▄▃▂▁▁▁▁▁▁</td></tr></table><br/></div><div class=\"wandb-col\"><h3>Run summary:</h3><br/><table class=\"wandb\"><tr><td>train accuracy</td><td>0.11394</td></tr><tr><td>train loss</td><td>0.91358</td></tr><tr><td>validation accuracy</td><td>0.1025</td></tr><tr><td>validation loss</td><td>0.91359</td></tr></table><br/></div></div>"
      ],
      "text/plain": [
       "<IPython.core.display.HTML object>"
      ]
     },
     "metadata": {},
     "output_type": "display_data"
    },
    {
     "data": {
      "text/html": [
       " View run <strong style=\"color:#cdcd00\">wild-sweep-41</strong> at: <a href='https://wandb.ai/cs22m019/DL%20Final%20Assignment%201/runs/s4bm6g3m' target=\"_blank\">https://wandb.ai/cs22m019/DL%20Final%20Assignment%201/runs/s4bm6g3m</a><br/>Synced 6 W&B file(s), 0 media file(s), 0 artifact file(s) and 0 other file(s)"
      ],
      "text/plain": [
       "<IPython.core.display.HTML object>"
      ]
     },
     "metadata": {},
     "output_type": "display_data"
    },
    {
     "data": {
      "text/html": [
       "Find logs at: <code>.\\wandb\\run-20230311_070023-s4bm6g3m\\logs</code>"
      ],
      "text/plain": [
       "<IPython.core.display.HTML object>"
      ]
     },
     "metadata": {},
     "output_type": "display_data"
    },
    {
     "name": "stderr",
     "output_type": "stream",
     "text": [
      "\u001b[34m\u001b[1mwandb\u001b[0m: Agent Starting Run: 5vzxba2y with config:\n",
      "\u001b[34m\u001b[1mwandb\u001b[0m: \tactivation: sigmoid\n",
      "\u001b[34m\u001b[1mwandb\u001b[0m: \tbatch_size: 64\n",
      "\u001b[34m\u001b[1mwandb\u001b[0m: \tepochs: 10\n",
      "\u001b[34m\u001b[1mwandb\u001b[0m: \tlearning_rate: 0.001\n",
      "\u001b[34m\u001b[1mwandb\u001b[0m: \tnumber_of_hidden_layer: 5\n",
      "\u001b[34m\u001b[1mwandb\u001b[0m: \toptimizer: rmsprop\n",
      "\u001b[34m\u001b[1mwandb\u001b[0m: \tsize_of_hidden_layer: 64\n",
      "\u001b[34m\u001b[1mwandb\u001b[0m: \tweight_decay: 0\n",
      "\u001b[34m\u001b[1mwandb\u001b[0m: \tweight_initialization: Xavier\n"
     ]
    },
    {
     "data": {
      "text/html": [
       "Tracking run with wandb version 0.13.11"
      ],
      "text/plain": [
       "<IPython.core.display.HTML object>"
      ]
     },
     "metadata": {},
     "output_type": "display_data"
    },
    {
     "data": {
      "text/html": [
       "Run data is saved locally in <code>C:\\Users\\DELL\\Desktop\\wandb\\run-20230311_071134-5vzxba2y</code>"
      ],
      "text/plain": [
       "<IPython.core.display.HTML object>"
      ]
     },
     "metadata": {},
     "output_type": "display_data"
    },
    {
     "data": {
      "text/html": [
       "Syncing run <strong><a href='https://wandb.ai/cs22m019/DL%20Final%20Assignment%201/runs/5vzxba2y' target=\"_blank\">amber-sweep-42</a></strong> to <a href='https://wandb.ai/cs22m019/DL%20Final%20Assignment%201' target=\"_blank\">Weights & Biases</a> (<a href='https://wandb.me/run' target=\"_blank\">docs</a>)<br/>Sweep page: <a href='https://wandb.ai/cs22m019/DL%20Final%20Assignment%201/sweeps/hl8fpi30' target=\"_blank\">https://wandb.ai/cs22m019/DL%20Final%20Assignment%201/sweeps/hl8fpi30</a>"
      ],
      "text/plain": [
       "<IPython.core.display.HTML object>"
      ]
     },
     "metadata": {},
     "output_type": "display_data"
    },
    {
     "data": {
      "text/html": [
       " View project at <a href='https://wandb.ai/cs22m019/DL%20Final%20Assignment%201' target=\"_blank\">https://wandb.ai/cs22m019/DL%20Final%20Assignment%201</a>"
      ],
      "text/plain": [
       "<IPython.core.display.HTML object>"
      ]
     },
     "metadata": {},
     "output_type": "display_data"
    },
    {
     "data": {
      "text/html": [
       " View sweep at <a href='https://wandb.ai/cs22m019/DL%20Final%20Assignment%201/sweeps/hl8fpi30' target=\"_blank\">https://wandb.ai/cs22m019/DL%20Final%20Assignment%201/sweeps/hl8fpi30</a>"
      ],
      "text/plain": [
       "<IPython.core.display.HTML object>"
      ]
     },
     "metadata": {},
     "output_type": "display_data"
    },
    {
     "data": {
      "text/html": [
       " View run at <a href='https://wandb.ai/cs22m019/DL%20Final%20Assignment%201/runs/5vzxba2y' target=\"_blank\">https://wandb.ai/cs22m019/DL%20Final%20Assignment%201/runs/5vzxba2y</a>"
      ],
      "text/plain": [
       "<IPython.core.display.HTML object>"
      ]
     },
     "metadata": {},
     "output_type": "display_data"
    },
    {
     "name": "stdout",
     "output_type": "stream",
     "text": [
      "epoch:1, train loss:0.9556212447158853, train accuracy:0.0999074074074074, validation loss:0.919253602243069, validation accuracy:0.10083333333333333\n",
      "epoch:2, train loss:0.9074262239407791, train accuracy:0.09994444444444445, validation loss:0.9021514434357761, validation accuracy:0.10083333333333333\n",
      "epoch:3, train loss:0.9006748576199195, train accuracy:0.09983333333333333, validation loss:0.900057435387646, validation accuracy:0.10083333333333333\n",
      "epoch:4, train loss:0.8999005693834647, train accuracy:0.10298148148148148, validation loss:0.8998067836358842, validation accuracy:0.10083333333333333\n",
      "epoch:5, train loss:0.8997778048163892, train accuracy:0.10781481481481482, validation loss:0.8997490132497786, validation accuracy:0.09433333333333334\n",
      "epoch:6, train loss:0.8996713045274713, train accuracy:0.11912962962962963, validation loss:0.8995849759694375, validation accuracy:0.14383333333333334\n",
      "epoch:7, train loss:0.8994998190782509, train accuracy:0.16585185185185186, validation loss:0.8993719547004508, validation accuracy:0.2733333333333333\n",
      "epoch:8, train loss:0.8992213762240233, train accuracy:0.1617037037037037, validation loss:0.8989862023867584, validation accuracy:0.22866666666666666\n",
      "epoch:9, train loss:0.8987268854829382, train accuracy:0.1988148148148148, validation loss:0.8982793909427418, validation accuracy:0.19766666666666666\n",
      "epoch:10, train loss:0.8977493517580329, train accuracy:0.23237037037037037, validation loss:0.8969109917587392, validation accuracy:0.23466666666666666\n"
     ]
    },
    {
     "data": {
      "text/html": [
       "Waiting for W&B process to finish... <strong style=\"color:green\">(success).</strong>"
      ],
      "text/plain": [
       "<IPython.core.display.HTML object>"
      ]
     },
     "metadata": {},
     "output_type": "display_data"
    },
    {
     "data": {
      "text/html": [
       "<style>\n",
       "    table.wandb td:nth-child(1) { padding: 0 10px; text-align: left ; width: auto;} td:nth-child(2) {text-align: left ; width: 100%}\n",
       "    .wandb-row { display: flex; flex-direction: row; flex-wrap: wrap; justify-content: flex-start; width: 100% }\n",
       "    .wandb-col { display: flex; flex-direction: column; flex-basis: 100%; flex: 1; padding: 10px; }\n",
       "    </style>\n",
       "<div class=\"wandb-row\"><div class=\"wandb-col\"><h3>Run history:</h3><br/><table class=\"wandb\"><tr><td>train accuracy</td><td>▁▁▁▁▁▂▄▄▆█</td></tr><tr><td>train loss</td><td>█▂▁▁▁▁▁▁▁▁</td></tr><tr><td>validation accuracy</td><td>▁▁▁▁▁▃█▆▅▆</td></tr><tr><td>validation loss</td><td>█▃▂▂▂▂▂▂▁▁</td></tr></table><br/></div><div class=\"wandb-col\"><h3>Run summary:</h3><br/><table class=\"wandb\"><tr><td>train accuracy</td><td>0.23237</td></tr><tr><td>train loss</td><td>0.89775</td></tr><tr><td>validation accuracy</td><td>0.23467</td></tr><tr><td>validation loss</td><td>0.89691</td></tr></table><br/></div></div>"
      ],
      "text/plain": [
       "<IPython.core.display.HTML object>"
      ]
     },
     "metadata": {},
     "output_type": "display_data"
    },
    {
     "data": {
      "text/html": [
       " View run <strong style=\"color:#cdcd00\">amber-sweep-42</strong> at: <a href='https://wandb.ai/cs22m019/DL%20Final%20Assignment%201/runs/5vzxba2y' target=\"_blank\">https://wandb.ai/cs22m019/DL%20Final%20Assignment%201/runs/5vzxba2y</a><br/>Synced 6 W&B file(s), 0 media file(s), 0 artifact file(s) and 0 other file(s)"
      ],
      "text/plain": [
       "<IPython.core.display.HTML object>"
      ]
     },
     "metadata": {},
     "output_type": "display_data"
    },
    {
     "data": {
      "text/html": [
       "Find logs at: <code>.\\wandb\\run-20230311_071134-5vzxba2y\\logs</code>"
      ],
      "text/plain": [
       "<IPython.core.display.HTML object>"
      ]
     },
     "metadata": {},
     "output_type": "display_data"
    },
    {
     "name": "stderr",
     "output_type": "stream",
     "text": [
      "\u001b[34m\u001b[1mwandb\u001b[0m: Agent Starting Run: 7mlz96zd with config:\n",
      "\u001b[34m\u001b[1mwandb\u001b[0m: \tactivation: ReLU\n",
      "\u001b[34m\u001b[1mwandb\u001b[0m: \tbatch_size: 64\n",
      "\u001b[34m\u001b[1mwandb\u001b[0m: \tepochs: 10\n",
      "\u001b[34m\u001b[1mwandb\u001b[0m: \tlearning_rate: 0.0001\n",
      "\u001b[34m\u001b[1mwandb\u001b[0m: \tnumber_of_hidden_layer: 3\n",
      "\u001b[34m\u001b[1mwandb\u001b[0m: \toptimizer: sgd\n",
      "\u001b[34m\u001b[1mwandb\u001b[0m: \tsize_of_hidden_layer: 128\n",
      "\u001b[34m\u001b[1mwandb\u001b[0m: \tweight_decay: 0.5\n",
      "\u001b[34m\u001b[1mwandb\u001b[0m: \tweight_initialization: Xavier\n"
     ]
    },
    {
     "data": {
      "application/vnd.jupyter.widget-view+json": {
       "model_id": "783a16c70705409dbcd7924d2337625b",
       "version_major": 2,
       "version_minor": 0
      },
      "text/plain": [
       "VBox(children=(Label(value='Waiting for wandb.init()...\\r'), FloatProgress(value=0.016933333333266395, max=1.0…"
      ]
     },
     "metadata": {},
     "output_type": "display_data"
    },
    {
     "data": {
      "text/html": [
       "Tracking run with wandb version 0.13.11"
      ],
      "text/plain": [
       "<IPython.core.display.HTML object>"
      ]
     },
     "metadata": {},
     "output_type": "display_data"
    },
    {
     "data": {
      "text/html": [
       "Run data is saved locally in <code>C:\\Users\\DELL\\Desktop\\wandb\\run-20230311_072302-7mlz96zd</code>"
      ],
      "text/plain": [
       "<IPython.core.display.HTML object>"
      ]
     },
     "metadata": {},
     "output_type": "display_data"
    },
    {
     "data": {
      "text/html": [
       "Syncing run <strong><a href='https://wandb.ai/cs22m019/DL%20Final%20Assignment%201/runs/7mlz96zd' target=\"_blank\">vital-sweep-43</a></strong> to <a href='https://wandb.ai/cs22m019/DL%20Final%20Assignment%201' target=\"_blank\">Weights & Biases</a> (<a href='https://wandb.me/run' target=\"_blank\">docs</a>)<br/>Sweep page: <a href='https://wandb.ai/cs22m019/DL%20Final%20Assignment%201/sweeps/hl8fpi30' target=\"_blank\">https://wandb.ai/cs22m019/DL%20Final%20Assignment%201/sweeps/hl8fpi30</a>"
      ],
      "text/plain": [
       "<IPython.core.display.HTML object>"
      ]
     },
     "metadata": {},
     "output_type": "display_data"
    },
    {
     "data": {
      "text/html": [
       " View project at <a href='https://wandb.ai/cs22m019/DL%20Final%20Assignment%201' target=\"_blank\">https://wandb.ai/cs22m019/DL%20Final%20Assignment%201</a>"
      ],
      "text/plain": [
       "<IPython.core.display.HTML object>"
      ]
     },
     "metadata": {},
     "output_type": "display_data"
    },
    {
     "data": {
      "text/html": [
       " View sweep at <a href='https://wandb.ai/cs22m019/DL%20Final%20Assignment%201/sweeps/hl8fpi30' target=\"_blank\">https://wandb.ai/cs22m019/DL%20Final%20Assignment%201/sweeps/hl8fpi30</a>"
      ],
      "text/plain": [
       "<IPython.core.display.HTML object>"
      ]
     },
     "metadata": {},
     "output_type": "display_data"
    },
    {
     "data": {
      "text/html": [
       " View run at <a href='https://wandb.ai/cs22m019/DL%20Final%20Assignment%201/runs/7mlz96zd' target=\"_blank\">https://wandb.ai/cs22m019/DL%20Final%20Assignment%201/runs/7mlz96zd</a>"
      ],
      "text/plain": [
       "<IPython.core.display.HTML object>"
      ]
     },
     "metadata": {},
     "output_type": "display_data"
    },
    {
     "name": "stdout",
     "output_type": "stream",
     "text": [
      "epoch:1, train loss:0.9591776477662097, train accuracy:0.07861111111111112, validation loss:0.960587079164963, validation accuracy:0.07733333333333334\n",
      "epoch:2, train loss:0.9590455023734225, train accuracy:0.0787037037037037, validation loss:0.9604582971685328, validation accuracy:0.07783333333333334\n",
      "epoch:3, train loss:0.9589173579424985, train accuracy:0.07875925925925926, validation loss:0.9603306264665431, validation accuracy:0.07783333333333334\n",
      "epoch:4, train loss:0.9587821050384556, train accuracy:0.0787962962962963, validation loss:0.9601870657353986, validation accuracy:0.07816666666666666\n",
      "epoch:5, train loss:0.9586443406642625, train accuracy:0.079, validation loss:0.9600525772597626, validation accuracy:0.078\n",
      "epoch:6, train loss:0.9585081017829511, train accuracy:0.07914814814814815, validation loss:0.9599153988872061, validation accuracy:0.07833333333333334\n",
      "epoch:7, train loss:0.9583771304973694, train accuracy:0.07927777777777778, validation loss:0.9597824659414383, validation accuracy:0.0785\n",
      "epoch:8, train loss:0.958244726208519, train accuracy:0.07942592592592593, validation loss:0.9596524219399954, validation accuracy:0.07883333333333334\n",
      "epoch:9, train loss:0.9581094356439745, train accuracy:0.07966666666666666, validation loss:0.959510586575267, validation accuracy:0.07883333333333334\n",
      "epoch:10, train loss:0.9579720100430016, train accuracy:0.07987037037037037, validation loss:0.9593745140707445, validation accuracy:0.07883333333333334\n"
     ]
    },
    {
     "data": {
      "text/html": [
       "Waiting for W&B process to finish... <strong style=\"color:green\">(success).</strong>"
      ],
      "text/plain": [
       "<IPython.core.display.HTML object>"
      ]
     },
     "metadata": {},
     "output_type": "display_data"
    },
    {
     "data": {
      "text/html": [
       "<style>\n",
       "    table.wandb td:nth-child(1) { padding: 0 10px; text-align: left ; width: auto;} td:nth-child(2) {text-align: left ; width: 100%}\n",
       "    .wandb-row { display: flex; flex-direction: row; flex-wrap: wrap; justify-content: flex-start; width: 100% }\n",
       "    .wandb-col { display: flex; flex-direction: column; flex-basis: 100%; flex: 1; padding: 10px; }\n",
       "    </style>\n",
       "<div class=\"wandb-row\"><div class=\"wandb-col\"><h3>Run history:</h3><br/><table class=\"wandb\"><tr><td>train accuracy</td><td>▁▂▂▂▃▄▅▆▇█</td></tr><tr><td>train loss</td><td>█▇▆▆▅▄▃▃▂▁</td></tr><tr><td>validation accuracy</td><td>▁▃▃▅▄▆▆███</td></tr><tr><td>validation loss</td><td>█▇▇▆▅▄▃▃▂▁</td></tr></table><br/></div><div class=\"wandb-col\"><h3>Run summary:</h3><br/><table class=\"wandb\"><tr><td>train accuracy</td><td>0.07987</td></tr><tr><td>train loss</td><td>0.95797</td></tr><tr><td>validation accuracy</td><td>0.07883</td></tr><tr><td>validation loss</td><td>0.95937</td></tr></table><br/></div></div>"
      ],
      "text/plain": [
       "<IPython.core.display.HTML object>"
      ]
     },
     "metadata": {},
     "output_type": "display_data"
    },
    {
     "data": {
      "text/html": [
       " View run <strong style=\"color:#cdcd00\">vital-sweep-43</strong> at: <a href='https://wandb.ai/cs22m019/DL%20Final%20Assignment%201/runs/7mlz96zd' target=\"_blank\">https://wandb.ai/cs22m019/DL%20Final%20Assignment%201/runs/7mlz96zd</a><br/>Synced 6 W&B file(s), 0 media file(s), 0 artifact file(s) and 0 other file(s)"
      ],
      "text/plain": [
       "<IPython.core.display.HTML object>"
      ]
     },
     "metadata": {},
     "output_type": "display_data"
    },
    {
     "data": {
      "text/html": [
       "Find logs at: <code>.\\wandb\\run-20230311_072302-7mlz96zd\\logs</code>"
      ],
      "text/plain": [
       "<IPython.core.display.HTML object>"
      ]
     },
     "metadata": {},
     "output_type": "display_data"
    },
    {
     "name": "stderr",
     "output_type": "stream",
     "text": [
      "\u001b[34m\u001b[1mwandb\u001b[0m: Agent Starting Run: 9x3piq6d with config:\n",
      "\u001b[34m\u001b[1mwandb\u001b[0m: \tactivation: ReLU\n",
      "\u001b[34m\u001b[1mwandb\u001b[0m: \tbatch_size: 64\n",
      "\u001b[34m\u001b[1mwandb\u001b[0m: \tepochs: 10\n",
      "\u001b[34m\u001b[1mwandb\u001b[0m: \tlearning_rate: 0.001\n",
      "\u001b[34m\u001b[1mwandb\u001b[0m: \tnumber_of_hidden_layer: 5\n",
      "\u001b[34m\u001b[1mwandb\u001b[0m: \toptimizer: sgd\n",
      "\u001b[34m\u001b[1mwandb\u001b[0m: \tsize_of_hidden_layer: 32\n",
      "\u001b[34m\u001b[1mwandb\u001b[0m: \tweight_decay: 0.5\n",
      "\u001b[34m\u001b[1mwandb\u001b[0m: \tweight_initialization: random\n"
     ]
    },
    {
     "data": {
      "text/html": [
       "Tracking run with wandb version 0.13.11"
      ],
      "text/plain": [
       "<IPython.core.display.HTML object>"
      ]
     },
     "metadata": {},
     "output_type": "display_data"
    },
    {
     "data": {
      "text/html": [
       "Run data is saved locally in <code>C:\\Users\\DELL\\Desktop\\wandb\\run-20230311_073914-9x3piq6d</code>"
      ],
      "text/plain": [
       "<IPython.core.display.HTML object>"
      ]
     },
     "metadata": {},
     "output_type": "display_data"
    },
    {
     "data": {
      "text/html": [
       "Syncing run <strong><a href='https://wandb.ai/cs22m019/DL%20Final%20Assignment%201/runs/9x3piq6d' target=\"_blank\">pious-sweep-44</a></strong> to <a href='https://wandb.ai/cs22m019/DL%20Final%20Assignment%201' target=\"_blank\">Weights & Biases</a> (<a href='https://wandb.me/run' target=\"_blank\">docs</a>)<br/>Sweep page: <a href='https://wandb.ai/cs22m019/DL%20Final%20Assignment%201/sweeps/hl8fpi30' target=\"_blank\">https://wandb.ai/cs22m019/DL%20Final%20Assignment%201/sweeps/hl8fpi30</a>"
      ],
      "text/plain": [
       "<IPython.core.display.HTML object>"
      ]
     },
     "metadata": {},
     "output_type": "display_data"
    },
    {
     "data": {
      "text/html": [
       " View project at <a href='https://wandb.ai/cs22m019/DL%20Final%20Assignment%201' target=\"_blank\">https://wandb.ai/cs22m019/DL%20Final%20Assignment%201</a>"
      ],
      "text/plain": [
       "<IPython.core.display.HTML object>"
      ]
     },
     "metadata": {},
     "output_type": "display_data"
    },
    {
     "data": {
      "text/html": [
       " View sweep at <a href='https://wandb.ai/cs22m019/DL%20Final%20Assignment%201/sweeps/hl8fpi30' target=\"_blank\">https://wandb.ai/cs22m019/DL%20Final%20Assignment%201/sweeps/hl8fpi30</a>"
      ],
      "text/plain": [
       "<IPython.core.display.HTML object>"
      ]
     },
     "metadata": {},
     "output_type": "display_data"
    },
    {
     "data": {
      "text/html": [
       " View run at <a href='https://wandb.ai/cs22m019/DL%20Final%20Assignment%201/runs/9x3piq6d' target=\"_blank\">https://wandb.ai/cs22m019/DL%20Final%20Assignment%201/runs/9x3piq6d</a>"
      ],
      "text/plain": [
       "<IPython.core.display.HTML object>"
      ]
     },
     "metadata": {},
     "output_type": "display_data"
    },
    {
     "name": "stdout",
     "output_type": "stream",
     "text": [
      "epoch:1, train loss:2.1018269630849153, train accuracy:0.10064814814814815, validation loss:2.116061751210596, validation accuracy:0.094\n",
      "epoch:2, train loss:2.1017851288412235, train accuracy:0.10064814814814815, validation loss:2.1156252893693175, validation accuracy:0.09416666666666666\n",
      "epoch:3, train loss:2.1016718003112747, train accuracy:0.1007037037037037, validation loss:2.115452306408458, validation accuracy:0.09416666666666666\n",
      "epoch:4, train loss:2.1016349857812924, train accuracy:0.1007037037037037, validation loss:2.1151227633902474, validation accuracy:0.094\n",
      "epoch:5, train loss:2.1015676724708916, train accuracy:0.10083333333333333, validation loss:2.11493160246131, validation accuracy:0.094\n",
      "epoch:6, train loss:2.101406255964885, train accuracy:0.10081481481481482, validation loss:2.114752127722278, validation accuracy:0.09366666666666666\n",
      "epoch:7, train loss:2.101473549933669, train accuracy:0.10068518518518518, validation loss:2.1142454896183125, validation accuracy:0.09416666666666666\n",
      "epoch:8, train loss:2.10143256027562, train accuracy:0.10068518518518518, validation loss:2.1140494359605997, validation accuracy:0.09416666666666666\n",
      "epoch:9, train loss:2.101416011752658, train accuracy:0.10064814814814815, validation loss:2.1143205804715333, validation accuracy:0.09416666666666666\n",
      "epoch:10, train loss:2.101490091077757, train accuracy:0.10068518518518518, validation loss:2.114484469393461, validation accuracy:0.09383333333333334\n"
     ]
    },
    {
     "data": {
      "text/html": [
       "Waiting for W&B process to finish... <strong style=\"color:green\">(success).</strong>"
      ],
      "text/plain": [
       "<IPython.core.display.HTML object>"
      ]
     },
     "metadata": {},
     "output_type": "display_data"
    },
    {
     "data": {
      "text/html": [
       "<style>\n",
       "    table.wandb td:nth-child(1) { padding: 0 10px; text-align: left ; width: auto;} td:nth-child(2) {text-align: left ; width: 100%}\n",
       "    .wandb-row { display: flex; flex-direction: row; flex-wrap: wrap; justify-content: flex-start; width: 100% }\n",
       "    .wandb-col { display: flex; flex-direction: column; flex-basis: 100%; flex: 1; padding: 10px; }\n",
       "    </style>\n",
       "<div class=\"wandb-row\"><div class=\"wandb-col\"><h3>Run history:</h3><br/><table class=\"wandb\"><tr><td>train accuracy</td><td>▁▁▃▃█▇▂▂▁▂</td></tr><tr><td>train loss</td><td>█▇▅▅▄▁▂▁▁▂</td></tr><tr><td>validation accuracy</td><td>▆██▆▆▁███▃</td></tr><tr><td>validation loss</td><td>█▆▆▅▄▃▂▁▂▃</td></tr></table><br/></div><div class=\"wandb-col\"><h3>Run summary:</h3><br/><table class=\"wandb\"><tr><td>train accuracy</td><td>0.10069</td></tr><tr><td>train loss</td><td>2.10149</td></tr><tr><td>validation accuracy</td><td>0.09383</td></tr><tr><td>validation loss</td><td>2.11448</td></tr></table><br/></div></div>"
      ],
      "text/plain": [
       "<IPython.core.display.HTML object>"
      ]
     },
     "metadata": {},
     "output_type": "display_data"
    },
    {
     "data": {
      "text/html": [
       " View run <strong style=\"color:#cdcd00\">pious-sweep-44</strong> at: <a href='https://wandb.ai/cs22m019/DL%20Final%20Assignment%201/runs/9x3piq6d' target=\"_blank\">https://wandb.ai/cs22m019/DL%20Final%20Assignment%201/runs/9x3piq6d</a><br/>Synced 6 W&B file(s), 0 media file(s), 0 artifact file(s) and 0 other file(s)"
      ],
      "text/plain": [
       "<IPython.core.display.HTML object>"
      ]
     },
     "metadata": {},
     "output_type": "display_data"
    },
    {
     "data": {
      "text/html": [
       "Find logs at: <code>.\\wandb\\run-20230311_073914-9x3piq6d\\logs</code>"
      ],
      "text/plain": [
       "<IPython.core.display.HTML object>"
      ]
     },
     "metadata": {},
     "output_type": "display_data"
    },
    {
     "name": "stderr",
     "output_type": "stream",
     "text": [
      "\u001b[34m\u001b[1mwandb\u001b[0m: Agent Starting Run: h333aog9 with config:\n",
      "\u001b[34m\u001b[1mwandb\u001b[0m: \tactivation: sigmoid\n",
      "\u001b[34m\u001b[1mwandb\u001b[0m: \tbatch_size: 64\n",
      "\u001b[34m\u001b[1mwandb\u001b[0m: \tepochs: 10\n",
      "\u001b[34m\u001b[1mwandb\u001b[0m: \tlearning_rate: 0.0001\n",
      "\u001b[34m\u001b[1mwandb\u001b[0m: \tnumber_of_hidden_layer: 5\n",
      "\u001b[34m\u001b[1mwandb\u001b[0m: \toptimizer: nestrov\n",
      "\u001b[34m\u001b[1mwandb\u001b[0m: \tsize_of_hidden_layer: 128\n",
      "\u001b[34m\u001b[1mwandb\u001b[0m: \tweight_decay: 0\n",
      "\u001b[34m\u001b[1mwandb\u001b[0m: \tweight_initialization: random\n"
     ]
    },
    {
     "data": {
      "text/html": [
       "Tracking run with wandb version 0.13.11"
      ],
      "text/plain": [
       "<IPython.core.display.HTML object>"
      ]
     },
     "metadata": {},
     "output_type": "display_data"
    },
    {
     "data": {
      "text/html": [
       "Run data is saved locally in <code>C:\\Users\\DELL\\Desktop\\wandb\\run-20230311_074850-h333aog9</code>"
      ],
      "text/plain": [
       "<IPython.core.display.HTML object>"
      ]
     },
     "metadata": {},
     "output_type": "display_data"
    },
    {
     "data": {
      "text/html": [
       "Syncing run <strong><a href='https://wandb.ai/cs22m019/DL%20Final%20Assignment%201/runs/h333aog9' target=\"_blank\">visionary-sweep-45</a></strong> to <a href='https://wandb.ai/cs22m019/DL%20Final%20Assignment%201' target=\"_blank\">Weights & Biases</a> (<a href='https://wandb.me/run' target=\"_blank\">docs</a>)<br/>Sweep page: <a href='https://wandb.ai/cs22m019/DL%20Final%20Assignment%201/sweeps/hl8fpi30' target=\"_blank\">https://wandb.ai/cs22m019/DL%20Final%20Assignment%201/sweeps/hl8fpi30</a>"
      ],
      "text/plain": [
       "<IPython.core.display.HTML object>"
      ]
     },
     "metadata": {},
     "output_type": "display_data"
    },
    {
     "data": {
      "text/html": [
       " View project at <a href='https://wandb.ai/cs22m019/DL%20Final%20Assignment%201' target=\"_blank\">https://wandb.ai/cs22m019/DL%20Final%20Assignment%201</a>"
      ],
      "text/plain": [
       "<IPython.core.display.HTML object>"
      ]
     },
     "metadata": {},
     "output_type": "display_data"
    },
    {
     "data": {
      "text/html": [
       " View sweep at <a href='https://wandb.ai/cs22m019/DL%20Final%20Assignment%201/sweeps/hl8fpi30' target=\"_blank\">https://wandb.ai/cs22m019/DL%20Final%20Assignment%201/sweeps/hl8fpi30</a>"
      ],
      "text/plain": [
       "<IPython.core.display.HTML object>"
      ]
     },
     "metadata": {},
     "output_type": "display_data"
    },
    {
     "data": {
      "text/html": [
       " View run at <a href='https://wandb.ai/cs22m019/DL%20Final%20Assignment%201/runs/h333aog9' target=\"_blank\">https://wandb.ai/cs22m019/DL%20Final%20Assignment%201/runs/h333aog9</a>"
      ],
      "text/plain": [
       "<IPython.core.display.HTML object>"
      ]
     },
     "metadata": {},
     "output_type": "display_data"
    },
    {
     "name": "stdout",
     "output_type": "stream",
     "text": [
      "epoch:1, train loss:1.0531902509089761, train accuracy:0.1050925925925926, validation loss:0.9887202478909527, validation accuracy:0.1255\n",
      "epoch:2, train loss:0.9762998137026091, train accuracy:0.1275925925925926, validation loss:0.9626010240391708, validation accuracy:0.13416666666666666\n",
      "epoch:3, train loss:0.9608224555998964, train accuracy:0.13125925925925927, validation loss:0.9535364029117571, validation accuracy:0.13666666666666666\n",
      "epoch:4, train loss:0.9534954935817129, train accuracy:0.13335185185185186, validation loss:0.9479208453422557, validation accuracy:0.13633333333333333\n",
      "epoch:5, train loss:0.9482599558233789, train accuracy:0.1356111111111111, validation loss:0.9434859769317719, validation accuracy:0.138\n",
      "epoch:6, train loss:0.9439357289543939, train accuracy:0.13733333333333334, validation loss:0.9396754492557473, validation accuracy:0.13916666666666666\n",
      "epoch:7, train loss:0.9401454895005618, train accuracy:0.1383888888888889, validation loss:0.9362862536563463, validation accuracy:0.13883333333333334\n",
      "epoch:8, train loss:0.9367549437294818, train accuracy:0.13833333333333334, validation loss:0.933207738880443, validation accuracy:0.13983333333333334\n",
      "epoch:9, train loss:0.933654781481393, train accuracy:0.1390925925925926, validation loss:0.9303597488878319, validation accuracy:0.13966666666666666\n",
      "epoch:10, train loss:0.9307806590118978, train accuracy:0.1388148148148148, validation loss:0.9276823829489087, validation accuracy:0.14033333333333334\n"
     ]
    },
    {
     "data": {
      "text/html": [
       "Waiting for W&B process to finish... <strong style=\"color:green\">(success).</strong>"
      ],
      "text/plain": [
       "<IPython.core.display.HTML object>"
      ]
     },
     "metadata": {},
     "output_type": "display_data"
    },
    {
     "data": {
      "application/vnd.jupyter.widget-view+json": {
       "model_id": "39eb9cb243d041669d01e86068d17385",
       "version_major": 2,
       "version_minor": 0
      },
      "text/plain": [
       "VBox(children=(Label(value='0.001 MB of 0.001 MB uploaded (0.000 MB deduped)\\r'), FloatProgress(value=1.0, max…"
      ]
     },
     "metadata": {},
     "output_type": "display_data"
    },
    {
     "data": {
      "text/html": [
       "<style>\n",
       "    table.wandb td:nth-child(1) { padding: 0 10px; text-align: left ; width: auto;} td:nth-child(2) {text-align: left ; width: 100%}\n",
       "    .wandb-row { display: flex; flex-direction: row; flex-wrap: wrap; justify-content: flex-start; width: 100% }\n",
       "    .wandb-col { display: flex; flex-direction: column; flex-basis: 100%; flex: 1; padding: 10px; }\n",
       "    </style>\n",
       "<div class=\"wandb-row\"><div class=\"wandb-col\"><h3>Run history:</h3><br/><table class=\"wandb\"><tr><td>train accuracy</td><td>▁▆▆▇▇█████</td></tr><tr><td>train loss</td><td>█▄▃▂▂▂▂▁▁▁</td></tr><tr><td>validation accuracy</td><td>▁▅▆▆▇▇▇███</td></tr><tr><td>validation loss</td><td>█▅▄▃▃▂▂▂▁▁</td></tr></table><br/></div><div class=\"wandb-col\"><h3>Run summary:</h3><br/><table class=\"wandb\"><tr><td>train accuracy</td><td>0.13881</td></tr><tr><td>train loss</td><td>0.93078</td></tr><tr><td>validation accuracy</td><td>0.14033</td></tr><tr><td>validation loss</td><td>0.92768</td></tr></table><br/></div></div>"
      ],
      "text/plain": [
       "<IPython.core.display.HTML object>"
      ]
     },
     "metadata": {},
     "output_type": "display_data"
    },
    {
     "data": {
      "text/html": [
       " View run <strong style=\"color:#cdcd00\">visionary-sweep-45</strong> at: <a href='https://wandb.ai/cs22m019/DL%20Final%20Assignment%201/runs/h333aog9' target=\"_blank\">https://wandb.ai/cs22m019/DL%20Final%20Assignment%201/runs/h333aog9</a><br/>Synced 6 W&B file(s), 0 media file(s), 0 artifact file(s) and 0 other file(s)"
      ],
      "text/plain": [
       "<IPython.core.display.HTML object>"
      ]
     },
     "metadata": {},
     "output_type": "display_data"
    },
    {
     "data": {
      "text/html": [
       "Find logs at: <code>.\\wandb\\run-20230311_074850-h333aog9\\logs</code>"
      ],
      "text/plain": [
       "<IPython.core.display.HTML object>"
      ]
     },
     "metadata": {},
     "output_type": "display_data"
    },
    {
     "name": "stderr",
     "output_type": "stream",
     "text": [
      "\u001b[34m\u001b[1mwandb\u001b[0m: Agent Starting Run: x94kbnyl with config:\n",
      "\u001b[34m\u001b[1mwandb\u001b[0m: \tactivation: ReLU\n",
      "\u001b[34m\u001b[1mwandb\u001b[0m: \tbatch_size: 64\n",
      "\u001b[34m\u001b[1mwandb\u001b[0m: \tepochs: 10\n",
      "\u001b[34m\u001b[1mwandb\u001b[0m: \tlearning_rate: 0.001\n",
      "\u001b[34m\u001b[1mwandb\u001b[0m: \tnumber_of_hidden_layer: 3\n",
      "\u001b[34m\u001b[1mwandb\u001b[0m: \toptimizer: rmsprop\n",
      "\u001b[34m\u001b[1mwandb\u001b[0m: \tsize_of_hidden_layer: 64\n",
      "\u001b[34m\u001b[1mwandb\u001b[0m: \tweight_decay: 0.5\n",
      "\u001b[34m\u001b[1mwandb\u001b[0m: \tweight_initialization: random\n"
     ]
    },
    {
     "data": {
      "text/html": [
       "Tracking run with wandb version 0.13.11"
      ],
      "text/plain": [
       "<IPython.core.display.HTML object>"
      ]
     },
     "metadata": {},
     "output_type": "display_data"
    },
    {
     "data": {
      "text/html": [
       "Run data is saved locally in <code>C:\\Users\\DELL\\Desktop\\wandb\\run-20230311_082329-x94kbnyl</code>"
      ],
      "text/plain": [
       "<IPython.core.display.HTML object>"
      ]
     },
     "metadata": {},
     "output_type": "display_data"
    },
    {
     "data": {
      "text/html": [
       "Syncing run <strong><a href='https://wandb.ai/cs22m019/DL%20Final%20Assignment%201/runs/x94kbnyl' target=\"_blank\">dazzling-sweep-46</a></strong> to <a href='https://wandb.ai/cs22m019/DL%20Final%20Assignment%201' target=\"_blank\">Weights & Biases</a> (<a href='https://wandb.me/run' target=\"_blank\">docs</a>)<br/>Sweep page: <a href='https://wandb.ai/cs22m019/DL%20Final%20Assignment%201/sweeps/hl8fpi30' target=\"_blank\">https://wandb.ai/cs22m019/DL%20Final%20Assignment%201/sweeps/hl8fpi30</a>"
      ],
      "text/plain": [
       "<IPython.core.display.HTML object>"
      ]
     },
     "metadata": {},
     "output_type": "display_data"
    },
    {
     "data": {
      "text/html": [
       " View project at <a href='https://wandb.ai/cs22m019/DL%20Final%20Assignment%201' target=\"_blank\">https://wandb.ai/cs22m019/DL%20Final%20Assignment%201</a>"
      ],
      "text/plain": [
       "<IPython.core.display.HTML object>"
      ]
     },
     "metadata": {},
     "output_type": "display_data"
    },
    {
     "data": {
      "text/html": [
       " View sweep at <a href='https://wandb.ai/cs22m019/DL%20Final%20Assignment%201/sweeps/hl8fpi30' target=\"_blank\">https://wandb.ai/cs22m019/DL%20Final%20Assignment%201/sweeps/hl8fpi30</a>"
      ],
      "text/plain": [
       "<IPython.core.display.HTML object>"
      ]
     },
     "metadata": {},
     "output_type": "display_data"
    },
    {
     "data": {
      "text/html": [
       " View run at <a href='https://wandb.ai/cs22m019/DL%20Final%20Assignment%201/runs/x94kbnyl' target=\"_blank\">https://wandb.ai/cs22m019/DL%20Final%20Assignment%201/runs/x94kbnyl</a>"
      ],
      "text/plain": [
       "<IPython.core.display.HTML object>"
      ]
     },
     "metadata": {},
     "output_type": "display_data"
    },
    {
     "name": "stdout",
     "output_type": "stream",
     "text": [
      "epoch:1, train loss:2.466659411051028, train accuracy:0.06074074074074074, validation loss:2.3998387711127585, validation accuracy:0.09283333333333334\n",
      "epoch:2, train loss:2.350848844147719, train accuracy:0.11716666666666667, validation loss:2.291289617360402, validation accuracy:0.1475\n",
      "epoch:3, train loss:2.2610720432983373, train accuracy:0.16124074074074074, validation loss:2.227250541758126, validation accuracy:0.178\n",
      "epoch:4, train loss:2.2050874768369946, train accuracy:0.1877962962962963, validation loss:2.1753685516236945, validation accuracy:0.20433333333333334\n",
      "epoch:5, train loss:2.1544084823020824, train accuracy:0.2132962962962963, validation loss:2.1331221012925563, validation accuracy:0.22466666666666665\n",
      "epoch:6, train loss:2.12280145717732, train accuracy:0.23064814814814816, validation loss:2.1068552093685486, validation accuracy:0.23916666666666667\n",
      "epoch:7, train loss:2.0939203716612482, train accuracy:0.24551851851851852, validation loss:2.081636850543228, validation accuracy:0.2505\n",
      "epoch:8, train loss:2.0456782089461463, train accuracy:0.2692407407407407, validation loss:2.01634366478721, validation accuracy:0.2838333333333333\n",
      "epoch:9, train loss:2.001619651227551, train accuracy:0.2913703703703704, validation loss:1.9955224624540269, validation accuracy:0.29633333333333334\n",
      "epoch:10, train loss:1.985733043708474, train accuracy:0.3001666666666667, validation loss:1.986263075584632, validation accuracy:0.2995\n"
     ]
    },
    {
     "data": {
      "text/html": [
       "Waiting for W&B process to finish... <strong style=\"color:green\">(success).</strong>"
      ],
      "text/plain": [
       "<IPython.core.display.HTML object>"
      ]
     },
     "metadata": {},
     "output_type": "display_data"
    },
    {
     "data": {
      "application/vnd.jupyter.widget-view+json": {
       "model_id": "a90556270db44859a7e0bf5caee2e871",
       "version_major": 2,
       "version_minor": 0
      },
      "text/plain": [
       "VBox(children=(Label(value='0.001 MB of 0.001 MB uploaded (0.000 MB deduped)\\r'), FloatProgress(value=1.0, max…"
      ]
     },
     "metadata": {},
     "output_type": "display_data"
    },
    {
     "data": {
      "text/html": [
       "<style>\n",
       "    table.wandb td:nth-child(1) { padding: 0 10px; text-align: left ; width: auto;} td:nth-child(2) {text-align: left ; width: 100%}\n",
       "    .wandb-row { display: flex; flex-direction: row; flex-wrap: wrap; justify-content: flex-start; width: 100% }\n",
       "    .wandb-col { display: flex; flex-direction: column; flex-basis: 100%; flex: 1; padding: 10px; }\n",
       "    </style>\n",
       "<div class=\"wandb-row\"><div class=\"wandb-col\"><h3>Run history:</h3><br/><table class=\"wandb\"><tr><td>train accuracy</td><td>▁▃▄▅▅▆▆▇██</td></tr><tr><td>train loss</td><td>█▆▅▄▃▃▃▂▁▁</td></tr><tr><td>validation accuracy</td><td>▁▃▄▅▅▆▆▇██</td></tr><tr><td>validation loss</td><td>█▆▅▄▃▃▃▂▁▁</td></tr></table><br/></div><div class=\"wandb-col\"><h3>Run summary:</h3><br/><table class=\"wandb\"><tr><td>train accuracy</td><td>0.30017</td></tr><tr><td>train loss</td><td>1.98573</td></tr><tr><td>validation accuracy</td><td>0.2995</td></tr><tr><td>validation loss</td><td>1.98626</td></tr></table><br/></div></div>"
      ],
      "text/plain": [
       "<IPython.core.display.HTML object>"
      ]
     },
     "metadata": {},
     "output_type": "display_data"
    },
    {
     "data": {
      "text/html": [
       " View run <strong style=\"color:#cdcd00\">dazzling-sweep-46</strong> at: <a href='https://wandb.ai/cs22m019/DL%20Final%20Assignment%201/runs/x94kbnyl' target=\"_blank\">https://wandb.ai/cs22m019/DL%20Final%20Assignment%201/runs/x94kbnyl</a><br/>Synced 6 W&B file(s), 0 media file(s), 0 artifact file(s) and 0 other file(s)"
      ],
      "text/plain": [
       "<IPython.core.display.HTML object>"
      ]
     },
     "metadata": {},
     "output_type": "display_data"
    },
    {
     "data": {
      "text/html": [
       "Find logs at: <code>.\\wandb\\run-20230311_082329-x94kbnyl\\logs</code>"
      ],
      "text/plain": [
       "<IPython.core.display.HTML object>"
      ]
     },
     "metadata": {},
     "output_type": "display_data"
    },
    {
     "name": "stderr",
     "output_type": "stream",
     "text": [
      "\u001b[34m\u001b[1mwandb\u001b[0m: Agent Starting Run: vd5wolgu with config:\n",
      "\u001b[34m\u001b[1mwandb\u001b[0m: \tactivation: tanh\n",
      "\u001b[34m\u001b[1mwandb\u001b[0m: \tbatch_size: 64\n",
      "\u001b[34m\u001b[1mwandb\u001b[0m: \tepochs: 10\n",
      "\u001b[34m\u001b[1mwandb\u001b[0m: \tlearning_rate: 0.0001\n",
      "\u001b[34m\u001b[1mwandb\u001b[0m: \tnumber_of_hidden_layer: 5\n",
      "\u001b[34m\u001b[1mwandb\u001b[0m: \toptimizer: sgd\n",
      "\u001b[34m\u001b[1mwandb\u001b[0m: \tsize_of_hidden_layer: 32\n",
      "\u001b[34m\u001b[1mwandb\u001b[0m: \tweight_decay: 0\n",
      "\u001b[34m\u001b[1mwandb\u001b[0m: \tweight_initialization: Xavier\n"
     ]
    },
    {
     "data": {
      "text/html": [
       "Tracking run with wandb version 0.13.11"
      ],
      "text/plain": [
       "<IPython.core.display.HTML object>"
      ]
     },
     "metadata": {},
     "output_type": "display_data"
    },
    {
     "data": {
      "text/html": [
       "Run data is saved locally in <code>C:\\Users\\DELL\\Desktop\\wandb\\run-20230311_083221-vd5wolgu</code>"
      ],
      "text/plain": [
       "<IPython.core.display.HTML object>"
      ]
     },
     "metadata": {},
     "output_type": "display_data"
    },
    {
     "data": {
      "text/html": [
       "Syncing run <strong><a href='https://wandb.ai/cs22m019/DL%20Final%20Assignment%201/runs/vd5wolgu' target=\"_blank\">bright-sweep-47</a></strong> to <a href='https://wandb.ai/cs22m019/DL%20Final%20Assignment%201' target=\"_blank\">Weights & Biases</a> (<a href='https://wandb.me/run' target=\"_blank\">docs</a>)<br/>Sweep page: <a href='https://wandb.ai/cs22m019/DL%20Final%20Assignment%201/sweeps/hl8fpi30' target=\"_blank\">https://wandb.ai/cs22m019/DL%20Final%20Assignment%201/sweeps/hl8fpi30</a>"
      ],
      "text/plain": [
       "<IPython.core.display.HTML object>"
      ]
     },
     "metadata": {},
     "output_type": "display_data"
    },
    {
     "data": {
      "text/html": [
       " View project at <a href='https://wandb.ai/cs22m019/DL%20Final%20Assignment%201' target=\"_blank\">https://wandb.ai/cs22m019/DL%20Final%20Assignment%201</a>"
      ],
      "text/plain": [
       "<IPython.core.display.HTML object>"
      ]
     },
     "metadata": {},
     "output_type": "display_data"
    },
    {
     "data": {
      "text/html": [
       " View sweep at <a href='https://wandb.ai/cs22m019/DL%20Final%20Assignment%201/sweeps/hl8fpi30' target=\"_blank\">https://wandb.ai/cs22m019/DL%20Final%20Assignment%201/sweeps/hl8fpi30</a>"
      ],
      "text/plain": [
       "<IPython.core.display.HTML object>"
      ]
     },
     "metadata": {},
     "output_type": "display_data"
    },
    {
     "data": {
      "text/html": [
       " View run at <a href='https://wandb.ai/cs22m019/DL%20Final%20Assignment%201/runs/vd5wolgu' target=\"_blank\">https://wandb.ai/cs22m019/DL%20Final%20Assignment%201/runs/vd5wolgu</a>"
      ],
      "text/plain": [
       "<IPython.core.display.HTML object>"
      ]
     },
     "metadata": {},
     "output_type": "display_data"
    },
    {
     "name": "stdout",
     "output_type": "stream",
     "text": [
      "epoch:1, train loss:0.9664414906098919, train accuracy:0.09951851851851852, validation loss:0.9676592499601642, validation accuracy:0.10033333333333333\n",
      "epoch:2, train loss:0.9661340073730609, train accuracy:0.0995, validation loss:0.9673653582575086, validation accuracy:0.10033333333333333\n",
      "epoch:3, train loss:0.9658255182262397, train accuracy:0.0995, validation loss:0.9670475591787762, validation accuracy:0.10033333333333333\n",
      "epoch:4, train loss:0.9655143057561653, train accuracy:0.0995, validation loss:0.9667571858913487, validation accuracy:0.10033333333333333\n",
      "epoch:5, train loss:0.9652186042329411, train accuracy:0.0995, validation loss:0.9664463479493146, validation accuracy:0.10033333333333333\n",
      "epoch:6, train loss:0.9649176852960483, train accuracy:0.09946296296296296, validation loss:0.9661695926482172, validation accuracy:0.10033333333333333\n",
      "epoch:7, train loss:0.9646243125501448, train accuracy:0.09946296296296296, validation loss:0.9658665832898916, validation accuracy:0.10033333333333333\n",
      "epoch:8, train loss:0.9643228122099485, train accuracy:0.09944444444444445, validation loss:0.9655695037222314, validation accuracy:0.10033333333333333\n",
      "epoch:9, train loss:0.9640117890785687, train accuracy:0.0994074074074074, validation loss:0.9652661377771895, validation accuracy:0.10033333333333333\n",
      "epoch:10, train loss:0.963727989008654, train accuracy:0.09938888888888889, validation loss:0.9649935298764344, validation accuracy:0.10033333333333333\n"
     ]
    },
    {
     "data": {
      "text/html": [
       "Waiting for W&B process to finish... <strong style=\"color:green\">(success).</strong>"
      ],
      "text/plain": [
       "<IPython.core.display.HTML object>"
      ]
     },
     "metadata": {},
     "output_type": "display_data"
    },
    {
     "data": {
      "application/vnd.jupyter.widget-view+json": {
       "model_id": "38f861dc08e547c895bb9b49dd27ee75",
       "version_major": 2,
       "version_minor": 0
      },
      "text/plain": [
       "VBox(children=(Label(value='0.001 MB of 0.001 MB uploaded (0.000 MB deduped)\\r'), FloatProgress(value=1.0, max…"
      ]
     },
     "metadata": {},
     "output_type": "display_data"
    },
    {
     "data": {
      "text/html": [
       "<style>\n",
       "    table.wandb td:nth-child(1) { padding: 0 10px; text-align: left ; width: auto;} td:nth-child(2) {text-align: left ; width: 100%}\n",
       "    .wandb-row { display: flex; flex-direction: row; flex-wrap: wrap; justify-content: flex-start; width: 100% }\n",
       "    .wandb-col { display: flex; flex-direction: column; flex-basis: 100%; flex: 1; padding: 10px; }\n",
       "    </style>\n",
       "<div class=\"wandb-row\"><div class=\"wandb-col\"><h3>Run history:</h3><br/><table class=\"wandb\"><tr><td>train accuracy</td><td>█▇▇▇▇▅▅▄▂▁</td></tr><tr><td>train loss</td><td>█▇▆▆▅▄▃▃▂▁</td></tr><tr><td>validation accuracy</td><td>▁▁▁▁▁▁▁▁▁▁</td></tr><tr><td>validation loss</td><td>█▇▆▆▅▄▃▃▂▁</td></tr></table><br/></div><div class=\"wandb-col\"><h3>Run summary:</h3><br/><table class=\"wandb\"><tr><td>train accuracy</td><td>0.09939</td></tr><tr><td>train loss</td><td>0.96373</td></tr><tr><td>validation accuracy</td><td>0.10033</td></tr><tr><td>validation loss</td><td>0.96499</td></tr></table><br/></div></div>"
      ],
      "text/plain": [
       "<IPython.core.display.HTML object>"
      ]
     },
     "metadata": {},
     "output_type": "display_data"
    },
    {
     "data": {
      "text/html": [
       " View run <strong style=\"color:#cdcd00\">bright-sweep-47</strong> at: <a href='https://wandb.ai/cs22m019/DL%20Final%20Assignment%201/runs/vd5wolgu' target=\"_blank\">https://wandb.ai/cs22m019/DL%20Final%20Assignment%201/runs/vd5wolgu</a><br/>Synced 6 W&B file(s), 0 media file(s), 0 artifact file(s) and 0 other file(s)"
      ],
      "text/plain": [
       "<IPython.core.display.HTML object>"
      ]
     },
     "metadata": {},
     "output_type": "display_data"
    },
    {
     "data": {
      "text/html": [
       "Find logs at: <code>.\\wandb\\run-20230311_083221-vd5wolgu\\logs</code>"
      ],
      "text/plain": [
       "<IPython.core.display.HTML object>"
      ]
     },
     "metadata": {},
     "output_type": "display_data"
    },
    {
     "name": "stderr",
     "output_type": "stream",
     "text": [
      "\u001b[34m\u001b[1mwandb\u001b[0m: Agent Starting Run: nlganwbn with config:\n",
      "\u001b[34m\u001b[1mwandb\u001b[0m: \tactivation: sigmoid\n",
      "\u001b[34m\u001b[1mwandb\u001b[0m: \tbatch_size: 32\n",
      "\u001b[34m\u001b[1mwandb\u001b[0m: \tepochs: 5\n",
      "\u001b[34m\u001b[1mwandb\u001b[0m: \tlearning_rate: 0.0001\n",
      "\u001b[34m\u001b[1mwandb\u001b[0m: \tnumber_of_hidden_layer: 5\n",
      "\u001b[34m\u001b[1mwandb\u001b[0m: \toptimizer: adam\n",
      "\u001b[34m\u001b[1mwandb\u001b[0m: \tsize_of_hidden_layer: 32\n",
      "\u001b[34m\u001b[1mwandb\u001b[0m: \tweight_decay: 0.5\n",
      "\u001b[34m\u001b[1mwandb\u001b[0m: \tweight_initialization: random\n"
     ]
    },
    {
     "data": {
      "text/html": [
       "Tracking run with wandb version 0.13.11"
      ],
      "text/plain": [
       "<IPython.core.display.HTML object>"
      ]
     },
     "metadata": {},
     "output_type": "display_data"
    },
    {
     "data": {
      "text/html": [
       "Run data is saved locally in <code>C:\\Users\\DELL\\Desktop\\wandb\\run-20230311_083940-nlganwbn</code>"
      ],
      "text/plain": [
       "<IPython.core.display.HTML object>"
      ]
     },
     "metadata": {},
     "output_type": "display_data"
    },
    {
     "data": {
      "text/html": [
       "Syncing run <strong><a href='https://wandb.ai/cs22m019/DL%20Final%20Assignment%201/runs/nlganwbn' target=\"_blank\">whole-sweep-48</a></strong> to <a href='https://wandb.ai/cs22m019/DL%20Final%20Assignment%201' target=\"_blank\">Weights & Biases</a> (<a href='https://wandb.me/run' target=\"_blank\">docs</a>)<br/>Sweep page: <a href='https://wandb.ai/cs22m019/DL%20Final%20Assignment%201/sweeps/hl8fpi30' target=\"_blank\">https://wandb.ai/cs22m019/DL%20Final%20Assignment%201/sweeps/hl8fpi30</a>"
      ],
      "text/plain": [
       "<IPython.core.display.HTML object>"
      ]
     },
     "metadata": {},
     "output_type": "display_data"
    },
    {
     "data": {
      "text/html": [
       " View project at <a href='https://wandb.ai/cs22m019/DL%20Final%20Assignment%201' target=\"_blank\">https://wandb.ai/cs22m019/DL%20Final%20Assignment%201</a>"
      ],
      "text/plain": [
       "<IPython.core.display.HTML object>"
      ]
     },
     "metadata": {},
     "output_type": "display_data"
    },
    {
     "data": {
      "text/html": [
       " View sweep at <a href='https://wandb.ai/cs22m019/DL%20Final%20Assignment%201/sweeps/hl8fpi30' target=\"_blank\">https://wandb.ai/cs22m019/DL%20Final%20Assignment%201/sweeps/hl8fpi30</a>"
      ],
      "text/plain": [
       "<IPython.core.display.HTML object>"
      ]
     },
     "metadata": {},
     "output_type": "display_data"
    },
    {
     "data": {
      "text/html": [
       " View run at <a href='https://wandb.ai/cs22m019/DL%20Final%20Assignment%201/runs/nlganwbn' target=\"_blank\">https://wandb.ai/cs22m019/DL%20Final%20Assignment%201/runs/nlganwbn</a>"
      ],
      "text/plain": [
       "<IPython.core.display.HTML object>"
      ]
     },
     "metadata": {},
     "output_type": "display_data"
    },
    {
     "name": "stdout",
     "output_type": "stream",
     "text": [
      "epoch:1, train loss:1.3244901456581717, train accuracy:0.09972222222222223, validation loss:1.3075803685296132, validation accuracy:0.1025\n",
      "epoch:2, train loss:1.3001039352947488, train accuracy:0.09972222222222223, validation loss:1.2881403547608878, validation accuracy:0.1025\n",
      "epoch:3, train loss:1.2839728951630203, train accuracy:0.09972222222222223, validation loss:1.2745208009883482, validation accuracy:0.1025\n",
      "epoch:4, train loss:1.271982026408203, train accuracy:0.09972222222222223, validation loss:1.263881303950304, validation accuracy:0.1025\n",
      "epoch:5, train loss:1.2620386588898518, train accuracy:0.09972222222222223, validation loss:1.2547121287816414, validation accuracy:0.1025\n"
     ]
    },
    {
     "data": {
      "text/html": [
       "Waiting for W&B process to finish... <strong style=\"color:green\">(success).</strong>"
      ],
      "text/plain": [
       "<IPython.core.display.HTML object>"
      ]
     },
     "metadata": {},
     "output_type": "display_data"
    },
    {
     "data": {
      "application/vnd.jupyter.widget-view+json": {
       "model_id": "b8a21bcb39444b239c4befce7330c3ea",
       "version_major": 2,
       "version_minor": 0
      },
      "text/plain": [
       "VBox(children=(Label(value='0.001 MB of 0.001 MB uploaded (0.000 MB deduped)\\r'), FloatProgress(value=1.0, max…"
      ]
     },
     "metadata": {},
     "output_type": "display_data"
    },
    {
     "data": {
      "text/html": [
       "<style>\n",
       "    table.wandb td:nth-child(1) { padding: 0 10px; text-align: left ; width: auto;} td:nth-child(2) {text-align: left ; width: 100%}\n",
       "    .wandb-row { display: flex; flex-direction: row; flex-wrap: wrap; justify-content: flex-start; width: 100% }\n",
       "    .wandb-col { display: flex; flex-direction: column; flex-basis: 100%; flex: 1; padding: 10px; }\n",
       "    </style>\n",
       "<div class=\"wandb-row\"><div class=\"wandb-col\"><h3>Run history:</h3><br/><table class=\"wandb\"><tr><td>train accuracy</td><td>▁▁▁▁▁</td></tr><tr><td>train loss</td><td>█▅▃▂▁</td></tr><tr><td>validation accuracy</td><td>▁▁▁▁▁</td></tr><tr><td>validation loss</td><td>█▅▄▂▁</td></tr></table><br/></div><div class=\"wandb-col\"><h3>Run summary:</h3><br/><table class=\"wandb\"><tr><td>train accuracy</td><td>0.09972</td></tr><tr><td>train loss</td><td>1.26204</td></tr><tr><td>validation accuracy</td><td>0.1025</td></tr><tr><td>validation loss</td><td>1.25471</td></tr></table><br/></div></div>"
      ],
      "text/plain": [
       "<IPython.core.display.HTML object>"
      ]
     },
     "metadata": {},
     "output_type": "display_data"
    },
    {
     "data": {
      "text/html": [
       " View run <strong style=\"color:#cdcd00\">whole-sweep-48</strong> at: <a href='https://wandb.ai/cs22m019/DL%20Final%20Assignment%201/runs/nlganwbn' target=\"_blank\">https://wandb.ai/cs22m019/DL%20Final%20Assignment%201/runs/nlganwbn</a><br/>Synced 6 W&B file(s), 0 media file(s), 0 artifact file(s) and 0 other file(s)"
      ],
      "text/plain": [
       "<IPython.core.display.HTML object>"
      ]
     },
     "metadata": {},
     "output_type": "display_data"
    },
    {
     "data": {
      "text/html": [
       "Find logs at: <code>.\\wandb\\run-20230311_083940-nlganwbn\\logs</code>"
      ],
      "text/plain": [
       "<IPython.core.display.HTML object>"
      ]
     },
     "metadata": {},
     "output_type": "display_data"
    },
    {
     "name": "stderr",
     "output_type": "stream",
     "text": [
      "\u001b[34m\u001b[1mwandb\u001b[0m: Agent Starting Run: fzfqjnkx with config:\n",
      "\u001b[34m\u001b[1mwandb\u001b[0m: \tactivation: tanh\n",
      "\u001b[34m\u001b[1mwandb\u001b[0m: \tbatch_size: 64\n",
      "\u001b[34m\u001b[1mwandb\u001b[0m: \tepochs: 10\n",
      "\u001b[34m\u001b[1mwandb\u001b[0m: \tlearning_rate: 0.0001\n",
      "\u001b[34m\u001b[1mwandb\u001b[0m: \tnumber_of_hidden_layer: 3\n",
      "\u001b[34m\u001b[1mwandb\u001b[0m: \toptimizer: nadam\n",
      "\u001b[34m\u001b[1mwandb\u001b[0m: \tsize_of_hidden_layer: 64\n",
      "\u001b[34m\u001b[1mwandb\u001b[0m: \tweight_decay: 0.5\n",
      "\u001b[34m\u001b[1mwandb\u001b[0m: \tweight_initialization: Xavier\n"
     ]
    },
    {
     "data": {
      "text/html": [
       "Tracking run with wandb version 0.13.11"
      ],
      "text/plain": [
       "<IPython.core.display.HTML object>"
      ]
     },
     "metadata": {},
     "output_type": "display_data"
    },
    {
     "data": {
      "text/html": [
       "Run data is saved locally in <code>C:\\Users\\DELL\\Desktop\\wandb\\run-20230311_084525-fzfqjnkx</code>"
      ],
      "text/plain": [
       "<IPython.core.display.HTML object>"
      ]
     },
     "metadata": {},
     "output_type": "display_data"
    },
    {
     "data": {
      "text/html": [
       "Syncing run <strong><a href='https://wandb.ai/cs22m019/DL%20Final%20Assignment%201/runs/fzfqjnkx' target=\"_blank\">rose-sweep-49</a></strong> to <a href='https://wandb.ai/cs22m019/DL%20Final%20Assignment%201' target=\"_blank\">Weights & Biases</a> (<a href='https://wandb.me/run' target=\"_blank\">docs</a>)<br/>Sweep page: <a href='https://wandb.ai/cs22m019/DL%20Final%20Assignment%201/sweeps/hl8fpi30' target=\"_blank\">https://wandb.ai/cs22m019/DL%20Final%20Assignment%201/sweeps/hl8fpi30</a>"
      ],
      "text/plain": [
       "<IPython.core.display.HTML object>"
      ]
     },
     "metadata": {},
     "output_type": "display_data"
    },
    {
     "data": {
      "text/html": [
       " View project at <a href='https://wandb.ai/cs22m019/DL%20Final%20Assignment%201' target=\"_blank\">https://wandb.ai/cs22m019/DL%20Final%20Assignment%201</a>"
      ],
      "text/plain": [
       "<IPython.core.display.HTML object>"
      ]
     },
     "metadata": {},
     "output_type": "display_data"
    },
    {
     "data": {
      "text/html": [
       " View sweep at <a href='https://wandb.ai/cs22m019/DL%20Final%20Assignment%201/sweeps/hl8fpi30' target=\"_blank\">https://wandb.ai/cs22m019/DL%20Final%20Assignment%201/sweeps/hl8fpi30</a>"
      ],
      "text/plain": [
       "<IPython.core.display.HTML object>"
      ]
     },
     "metadata": {},
     "output_type": "display_data"
    },
    {
     "data": {
      "text/html": [
       " View run at <a href='https://wandb.ai/cs22m019/DL%20Final%20Assignment%201/runs/fzfqjnkx' target=\"_blank\">https://wandb.ai/cs22m019/DL%20Final%20Assignment%201/runs/fzfqjnkx</a>"
      ],
      "text/plain": [
       "<IPython.core.display.HTML object>"
      ]
     },
     "metadata": {},
     "output_type": "display_data"
    },
    {
     "name": "stdout",
     "output_type": "stream",
     "text": [
      "epoch:1, train loss:0.8964135156170683, train accuracy:0.15787037037037038, validation loss:0.8583137380866599, validation accuracy:0.3115\n",
      "epoch:2, train loss:0.8293168572837368, train accuracy:0.3789814814814815, validation loss:0.799635802603253, validation accuracy:0.43\n",
      "epoch:3, train loss:0.7761920545181914, train accuracy:0.454, validation loss:0.7501706869131565, validation accuracy:0.4891666666666667\n",
      "epoch:4, train loss:0.7315998921450575, train accuracy:0.5080925925925925, validation loss:0.7088753689371169, validation accuracy:0.5408333333333334\n",
      "epoch:5, train loss:0.6949155803728697, train accuracy:0.5462777777777778, validation loss:0.6746881908147462, validation accuracy:0.5708333333333333\n",
      "epoch:6, train loss:0.663968552990659, train accuracy:0.5699074074074074, validation loss:0.6459110624260694, validation accuracy:0.5853333333333334\n",
      "epoch:7, train loss:0.6372715181647326, train accuracy:0.584462962962963, validation loss:0.6207930843662064, validation accuracy:0.5978333333333333\n",
      "epoch:8, train loss:0.6135631650370782, train accuracy:0.6004074074074074, validation loss:0.5984512905988157, validation accuracy:0.617\n",
      "epoch:9, train loss:0.5918464459077039, train accuracy:0.6215185185185185, validation loss:0.5781682376626338, validation accuracy:0.6393333333333333\n",
      "epoch:10, train loss:0.5720056332645272, train accuracy:0.644425925925926, validation loss:0.5598364128311792, validation accuracy:0.6541666666666667\n"
     ]
    },
    {
     "data": {
      "text/html": [
       "Waiting for W&B process to finish... <strong style=\"color:green\">(success).</strong>"
      ],
      "text/plain": [
       "<IPython.core.display.HTML object>"
      ]
     },
     "metadata": {},
     "output_type": "display_data"
    },
    {
     "data": {
      "text/html": [
       "<style>\n",
       "    table.wandb td:nth-child(1) { padding: 0 10px; text-align: left ; width: auto;} td:nth-child(2) {text-align: left ; width: 100%}\n",
       "    .wandb-row { display: flex; flex-direction: row; flex-wrap: wrap; justify-content: flex-start; width: 100% }\n",
       "    .wandb-col { display: flex; flex-direction: column; flex-basis: 100%; flex: 1; padding: 10px; }\n",
       "    </style>\n",
       "<div class=\"wandb-row\"><div class=\"wandb-col\"><h3>Run history:</h3><br/><table class=\"wandb\"><tr><td>train accuracy</td><td>▁▄▅▆▇▇▇▇██</td></tr><tr><td>train loss</td><td>█▇▅▄▄▃▂▂▁▁</td></tr><tr><td>validation accuracy</td><td>▁▃▅▆▆▇▇▇██</td></tr><tr><td>validation loss</td><td>█▇▅▄▄▃▂▂▁▁</td></tr></table><br/></div><div class=\"wandb-col\"><h3>Run summary:</h3><br/><table class=\"wandb\"><tr><td>train accuracy</td><td>0.64443</td></tr><tr><td>train loss</td><td>0.57201</td></tr><tr><td>validation accuracy</td><td>0.65417</td></tr><tr><td>validation loss</td><td>0.55984</td></tr></table><br/></div></div>"
      ],
      "text/plain": [
       "<IPython.core.display.HTML object>"
      ]
     },
     "metadata": {},
     "output_type": "display_data"
    },
    {
     "data": {
      "text/html": [
       " View run <strong style=\"color:#cdcd00\">rose-sweep-49</strong> at: <a href='https://wandb.ai/cs22m019/DL%20Final%20Assignment%201/runs/fzfqjnkx' target=\"_blank\">https://wandb.ai/cs22m019/DL%20Final%20Assignment%201/runs/fzfqjnkx</a><br/>Synced 6 W&B file(s), 0 media file(s), 0 artifact file(s) and 0 other file(s)"
      ],
      "text/plain": [
       "<IPython.core.display.HTML object>"
      ]
     },
     "metadata": {},
     "output_type": "display_data"
    },
    {
     "data": {
      "text/html": [
       "Find logs at: <code>.\\wandb\\run-20230311_084525-fzfqjnkx\\logs</code>"
      ],
      "text/plain": [
       "<IPython.core.display.HTML object>"
      ]
     },
     "metadata": {},
     "output_type": "display_data"
    },
    {
     "name": "stderr",
     "output_type": "stream",
     "text": [
      "\u001b[34m\u001b[1mwandb\u001b[0m: Agent Starting Run: mjrxxl96 with config:\n",
      "\u001b[34m\u001b[1mwandb\u001b[0m: \tactivation: sigmoid\n",
      "\u001b[34m\u001b[1mwandb\u001b[0m: \tbatch_size: 16\n",
      "\u001b[34m\u001b[1mwandb\u001b[0m: \tepochs: 5\n",
      "\u001b[34m\u001b[1mwandb\u001b[0m: \tlearning_rate: 0.0001\n",
      "\u001b[34m\u001b[1mwandb\u001b[0m: \tnumber_of_hidden_layer: 3\n",
      "\u001b[34m\u001b[1mwandb\u001b[0m: \toptimizer: nestrov\n",
      "\u001b[34m\u001b[1mwandb\u001b[0m: \tsize_of_hidden_layer: 64\n",
      "\u001b[34m\u001b[1mwandb\u001b[0m: \tweight_decay: 0\n",
      "\u001b[34m\u001b[1mwandb\u001b[0m: \tweight_initialization: random\n"
     ]
    },
    {
     "data": {
      "text/html": [
       "Tracking run with wandb version 0.13.11"
      ],
      "text/plain": [
       "<IPython.core.display.HTML object>"
      ]
     },
     "metadata": {},
     "output_type": "display_data"
    },
    {
     "data": {
      "text/html": [
       "Run data is saved locally in <code>C:\\Users\\DELL\\Desktop\\wandb\\run-20230311_085532-mjrxxl96</code>"
      ],
      "text/plain": [
       "<IPython.core.display.HTML object>"
      ]
     },
     "metadata": {},
     "output_type": "display_data"
    },
    {
     "data": {
      "text/html": [
       "Syncing run <strong><a href='https://wandb.ai/cs22m019/DL%20Final%20Assignment%201/runs/mjrxxl96' target=\"_blank\">cool-sweep-50</a></strong> to <a href='https://wandb.ai/cs22m019/DL%20Final%20Assignment%201' target=\"_blank\">Weights & Biases</a> (<a href='https://wandb.me/run' target=\"_blank\">docs</a>)<br/>Sweep page: <a href='https://wandb.ai/cs22m019/DL%20Final%20Assignment%201/sweeps/hl8fpi30' target=\"_blank\">https://wandb.ai/cs22m019/DL%20Final%20Assignment%201/sweeps/hl8fpi30</a>"
      ],
      "text/plain": [
       "<IPython.core.display.HTML object>"
      ]
     },
     "metadata": {},
     "output_type": "display_data"
    },
    {
     "data": {
      "text/html": [
       " View project at <a href='https://wandb.ai/cs22m019/DL%20Final%20Assignment%201' target=\"_blank\">https://wandb.ai/cs22m019/DL%20Final%20Assignment%201</a>"
      ],
      "text/plain": [
       "<IPython.core.display.HTML object>"
      ]
     },
     "metadata": {},
     "output_type": "display_data"
    },
    {
     "data": {
      "text/html": [
       " View sweep at <a href='https://wandb.ai/cs22m019/DL%20Final%20Assignment%201/sweeps/hl8fpi30' target=\"_blank\">https://wandb.ai/cs22m019/DL%20Final%20Assignment%201/sweeps/hl8fpi30</a>"
      ],
      "text/plain": [
       "<IPython.core.display.HTML object>"
      ]
     },
     "metadata": {},
     "output_type": "display_data"
    },
    {
     "data": {
      "text/html": [
       " View run at <a href='https://wandb.ai/cs22m019/DL%20Final%20Assignment%201/runs/mjrxxl96' target=\"_blank\">https://wandb.ai/cs22m019/DL%20Final%20Assignment%201/runs/mjrxxl96</a>"
      ],
      "text/plain": [
       "<IPython.core.display.HTML object>"
      ]
     },
     "metadata": {},
     "output_type": "display_data"
    },
    {
     "name": "stdout",
     "output_type": "stream",
     "text": [
      "epoch:1, train loss:1.201726351070633, train accuracy:0.10590740740740741, validation loss:1.1032298228855253, validation accuracy:0.1105\n",
      "epoch:2, train loss:1.0562340354455877, train accuracy:0.11137037037037037, validation loss:1.0205087640857051, validation accuracy:0.1125\n",
      "epoch:3, train loss:1.0047972743877975, train accuracy:0.10887037037037037, validation loss:0.9883754901259173, validation accuracy:0.10833333333333334\n",
      "epoch:4, train loss:0.9805828391736096, train accuracy:0.10412962962962963, validation loss:0.9700273306176403, validation accuracy:0.10533333333333333\n",
      "epoch:5, train loss:0.9656061975499625, train accuracy:0.10162962962962963, validation loss:0.9581251412649133, validation accuracy:0.1065\n"
     ]
    },
    {
     "data": {
      "text/html": [
       "Waiting for W&B process to finish... <strong style=\"color:green\">(success).</strong>"
      ],
      "text/plain": [
       "<IPython.core.display.HTML object>"
      ]
     },
     "metadata": {},
     "output_type": "display_data"
    },
    {
     "data": {
      "application/vnd.jupyter.widget-view+json": {
       "model_id": "c0af24671a034b58aa625b19e3195bf0",
       "version_major": 2,
       "version_minor": 0
      },
      "text/plain": [
       "VBox(children=(Label(value='0.001 MB of 0.001 MB uploaded (0.000 MB deduped)\\r'), FloatProgress(value=1.0, max…"
      ]
     },
     "metadata": {},
     "output_type": "display_data"
    },
    {
     "data": {
      "text/html": [
       "<style>\n",
       "    table.wandb td:nth-child(1) { padding: 0 10px; text-align: left ; width: auto;} td:nth-child(2) {text-align: left ; width: 100%}\n",
       "    .wandb-row { display: flex; flex-direction: row; flex-wrap: wrap; justify-content: flex-start; width: 100% }\n",
       "    .wandb-col { display: flex; flex-direction: column; flex-basis: 100%; flex: 1; padding: 10px; }\n",
       "    </style>\n",
       "<div class=\"wandb-row\"><div class=\"wandb-col\"><h3>Run history:</h3><br/><table class=\"wandb\"><tr><td>train accuracy</td><td>▄█▆▃▁</td></tr><tr><td>train loss</td><td>█▄▂▁▁</td></tr><tr><td>validation accuracy</td><td>▆█▄▁▂</td></tr><tr><td>validation loss</td><td>█▄▂▂▁</td></tr></table><br/></div><div class=\"wandb-col\"><h3>Run summary:</h3><br/><table class=\"wandb\"><tr><td>train accuracy</td><td>0.10163</td></tr><tr><td>train loss</td><td>0.96561</td></tr><tr><td>validation accuracy</td><td>0.1065</td></tr><tr><td>validation loss</td><td>0.95813</td></tr></table><br/></div></div>"
      ],
      "text/plain": [
       "<IPython.core.display.HTML object>"
      ]
     },
     "metadata": {},
     "output_type": "display_data"
    },
    {
     "data": {
      "text/html": [
       " View run <strong style=\"color:#cdcd00\">cool-sweep-50</strong> at: <a href='https://wandb.ai/cs22m019/DL%20Final%20Assignment%201/runs/mjrxxl96' target=\"_blank\">https://wandb.ai/cs22m019/DL%20Final%20Assignment%201/runs/mjrxxl96</a><br/>Synced 6 W&B file(s), 0 media file(s), 0 artifact file(s) and 0 other file(s)"
      ],
      "text/plain": [
       "<IPython.core.display.HTML object>"
      ]
     },
     "metadata": {},
     "output_type": "display_data"
    },
    {
     "data": {
      "text/html": [
       "Find logs at: <code>.\\wandb\\run-20230311_085532-mjrxxl96\\logs</code>"
      ],
      "text/plain": [
       "<IPython.core.display.HTML object>"
      ]
     },
     "metadata": {},
     "output_type": "display_data"
    },
    {
     "name": "stderr",
     "output_type": "stream",
     "text": [
      "\u001b[34m\u001b[1mwandb\u001b[0m: Agent Starting Run: icyfv912 with config:\n",
      "\u001b[34m\u001b[1mwandb\u001b[0m: \tactivation: tanh\n",
      "\u001b[34m\u001b[1mwandb\u001b[0m: \tbatch_size: 64\n",
      "\u001b[34m\u001b[1mwandb\u001b[0m: \tepochs: 10\n",
      "\u001b[34m\u001b[1mwandb\u001b[0m: \tlearning_rate: 0.0001\n",
      "\u001b[34m\u001b[1mwandb\u001b[0m: \tnumber_of_hidden_layer: 5\n",
      "\u001b[34m\u001b[1mwandb\u001b[0m: \toptimizer: rmsprop\n",
      "\u001b[34m\u001b[1mwandb\u001b[0m: \tsize_of_hidden_layer: 64\n",
      "\u001b[34m\u001b[1mwandb\u001b[0m: \tweight_decay: 0\n",
      "\u001b[34m\u001b[1mwandb\u001b[0m: \tweight_initialization: Xavier\n"
     ]
    },
    {
     "data": {
      "text/html": [
       "Tracking run with wandb version 0.13.11"
      ],
      "text/plain": [
       "<IPython.core.display.HTML object>"
      ]
     },
     "metadata": {},
     "output_type": "display_data"
    },
    {
     "data": {
      "text/html": [
       "Run data is saved locally in <code>C:\\Users\\DELL\\Desktop\\wandb\\run-20230311_090035-icyfv912</code>"
      ],
      "text/plain": [
       "<IPython.core.display.HTML object>"
      ]
     },
     "metadata": {},
     "output_type": "display_data"
    },
    {
     "data": {
      "text/html": [
       "Syncing run <strong><a href='https://wandb.ai/cs22m019/DL%20Final%20Assignment%201/runs/icyfv912' target=\"_blank\">radiant-sweep-51</a></strong> to <a href='https://wandb.ai/cs22m019/DL%20Final%20Assignment%201' target=\"_blank\">Weights & Biases</a> (<a href='https://wandb.me/run' target=\"_blank\">docs</a>)<br/>Sweep page: <a href='https://wandb.ai/cs22m019/DL%20Final%20Assignment%201/sweeps/hl8fpi30' target=\"_blank\">https://wandb.ai/cs22m019/DL%20Final%20Assignment%201/sweeps/hl8fpi30</a>"
      ],
      "text/plain": [
       "<IPython.core.display.HTML object>"
      ]
     },
     "metadata": {},
     "output_type": "display_data"
    },
    {
     "data": {
      "text/html": [
       " View project at <a href='https://wandb.ai/cs22m019/DL%20Final%20Assignment%201' target=\"_blank\">https://wandb.ai/cs22m019/DL%20Final%20Assignment%201</a>"
      ],
      "text/plain": [
       "<IPython.core.display.HTML object>"
      ]
     },
     "metadata": {},
     "output_type": "display_data"
    },
    {
     "data": {
      "text/html": [
       " View sweep at <a href='https://wandb.ai/cs22m019/DL%20Final%20Assignment%201/sweeps/hl8fpi30' target=\"_blank\">https://wandb.ai/cs22m019/DL%20Final%20Assignment%201/sweeps/hl8fpi30</a>"
      ],
      "text/plain": [
       "<IPython.core.display.HTML object>"
      ]
     },
     "metadata": {},
     "output_type": "display_data"
    },
    {
     "data": {
      "text/html": [
       " View run at <a href='https://wandb.ai/cs22m019/DL%20Final%20Assignment%201/runs/icyfv912' target=\"_blank\">https://wandb.ai/cs22m019/DL%20Final%20Assignment%201/runs/icyfv912</a>"
      ],
      "text/plain": [
       "<IPython.core.display.HTML object>"
      ]
     },
     "metadata": {},
     "output_type": "display_data"
    },
    {
     "name": "stdout",
     "output_type": "stream",
     "text": [
      "epoch:1, train loss:0.8875770599580602, train accuracy:0.17407407407407408, validation loss:0.8605249137004289, validation accuracy:0.26816666666666666\n",
      "epoch:2, train loss:0.8378007463602306, train accuracy:0.33924074074074073, validation loss:0.8152180695629128, validation accuracy:0.3893333333333333\n",
      "epoch:3, train loss:0.7960608580298575, train accuracy:0.4121666666666667, validation loss:0.7775830393268517, validation accuracy:0.43483333333333335\n",
      "epoch:4, train loss:0.7625562644106312, train accuracy:0.44155555555555553, validation loss:0.7471651153216304, validation accuracy:0.46\n",
      "epoch:5, train loss:0.734585090789797, train accuracy:0.46655555555555556, validation loss:0.7203392902231563, validation accuracy:0.48783333333333334\n",
      "epoch:6, train loss:0.7087609549577794, train accuracy:0.49807407407407406, validation loss:0.694598810985119, validation accuracy:0.522\n",
      "epoch:7, train loss:0.6833575130655705, train accuracy:0.5374629629629629, validation loss:0.6688796808620513, validation accuracy:0.562\n",
      "epoch:8, train loss:0.6582046545748016, train accuracy:0.5739074074074074, validation loss:0.6433837284376303, validation accuracy:0.5986666666666667\n",
      "epoch:9, train loss:0.633223329240335, train accuracy:0.6048888888888889, validation loss:0.618109097996006, validation accuracy:0.6236666666666667\n",
      "epoch:10, train loss:0.6085387408026158, train accuracy:0.6265185185185185, validation loss:0.5932516333961154, validation accuracy:0.645\n"
     ]
    },
    {
     "data": {
      "text/html": [
       "Waiting for W&B process to finish... <strong style=\"color:green\">(success).</strong>"
      ],
      "text/plain": [
       "<IPython.core.display.HTML object>"
      ]
     },
     "metadata": {},
     "output_type": "display_data"
    },
    {
     "data": {
      "text/html": [
       "<style>\n",
       "    table.wandb td:nth-child(1) { padding: 0 10px; text-align: left ; width: auto;} td:nth-child(2) {text-align: left ; width: 100%}\n",
       "    .wandb-row { display: flex; flex-direction: row; flex-wrap: wrap; justify-content: flex-start; width: 100% }\n",
       "    .wandb-col { display: flex; flex-direction: column; flex-basis: 100%; flex: 1; padding: 10px; }\n",
       "    </style>\n",
       "<div class=\"wandb-row\"><div class=\"wandb-col\"><h3>Run history:</h3><br/><table class=\"wandb\"><tr><td>train accuracy</td><td>▁▄▅▅▆▆▇▇██</td></tr><tr><td>train loss</td><td>█▇▆▅▄▄▃▂▂▁</td></tr><tr><td>validation accuracy</td><td>▁▃▄▅▅▆▆▇██</td></tr><tr><td>validation loss</td><td>█▇▆▅▄▄▃▂▂▁</td></tr></table><br/></div><div class=\"wandb-col\"><h3>Run summary:</h3><br/><table class=\"wandb\"><tr><td>train accuracy</td><td>0.62652</td></tr><tr><td>train loss</td><td>0.60854</td></tr><tr><td>validation accuracy</td><td>0.645</td></tr><tr><td>validation loss</td><td>0.59325</td></tr></table><br/></div></div>"
      ],
      "text/plain": [
       "<IPython.core.display.HTML object>"
      ]
     },
     "metadata": {},
     "output_type": "display_data"
    },
    {
     "data": {
      "text/html": [
       " View run <strong style=\"color:#cdcd00\">radiant-sweep-51</strong> at: <a href='https://wandb.ai/cs22m019/DL%20Final%20Assignment%201/runs/icyfv912' target=\"_blank\">https://wandb.ai/cs22m019/DL%20Final%20Assignment%201/runs/icyfv912</a><br/>Synced 6 W&B file(s), 0 media file(s), 0 artifact file(s) and 0 other file(s)"
      ],
      "text/plain": [
       "<IPython.core.display.HTML object>"
      ]
     },
     "metadata": {},
     "output_type": "display_data"
    },
    {
     "data": {
      "text/html": [
       "Find logs at: <code>.\\wandb\\run-20230311_090035-icyfv912\\logs</code>"
      ],
      "text/plain": [
       "<IPython.core.display.HTML object>"
      ]
     },
     "metadata": {},
     "output_type": "display_data"
    },
    {
     "name": "stderr",
     "output_type": "stream",
     "text": [
      "\u001b[34m\u001b[1mwandb\u001b[0m: Agent Starting Run: wmbe4gpm with config:\n",
      "\u001b[34m\u001b[1mwandb\u001b[0m: \tactivation: ReLU\n",
      "\u001b[34m\u001b[1mwandb\u001b[0m: \tbatch_size: 64\n",
      "\u001b[34m\u001b[1mwandb\u001b[0m: \tepochs: 5\n",
      "\u001b[34m\u001b[1mwandb\u001b[0m: \tlearning_rate: 0.001\n",
      "\u001b[34m\u001b[1mwandb\u001b[0m: \tnumber_of_hidden_layer: 3\n",
      "\u001b[34m\u001b[1mwandb\u001b[0m: \toptimizer: nadam\n",
      "\u001b[34m\u001b[1mwandb\u001b[0m: \tsize_of_hidden_layer: 128\n",
      "\u001b[34m\u001b[1mwandb\u001b[0m: \tweight_decay: 0\n",
      "\u001b[34m\u001b[1mwandb\u001b[0m: \tweight_initialization: Xavier\n"
     ]
    },
    {
     "data": {
      "text/html": [
       "Tracking run with wandb version 0.13.11"
      ],
      "text/plain": [
       "<IPython.core.display.HTML object>"
      ]
     },
     "metadata": {},
     "output_type": "display_data"
    },
    {
     "data": {
      "text/html": [
       "Run data is saved locally in <code>C:\\Users\\DELL\\Desktop\\wandb\\run-20230311_091106-wmbe4gpm</code>"
      ],
      "text/plain": [
       "<IPython.core.display.HTML object>"
      ]
     },
     "metadata": {},
     "output_type": "display_data"
    },
    {
     "data": {
      "text/html": [
       "Syncing run <strong><a href='https://wandb.ai/cs22m019/DL%20Final%20Assignment%201/runs/wmbe4gpm' target=\"_blank\">true-sweep-52</a></strong> to <a href='https://wandb.ai/cs22m019/DL%20Final%20Assignment%201' target=\"_blank\">Weights & Biases</a> (<a href='https://wandb.me/run' target=\"_blank\">docs</a>)<br/>Sweep page: <a href='https://wandb.ai/cs22m019/DL%20Final%20Assignment%201/sweeps/hl8fpi30' target=\"_blank\">https://wandb.ai/cs22m019/DL%20Final%20Assignment%201/sweeps/hl8fpi30</a>"
      ],
      "text/plain": [
       "<IPython.core.display.HTML object>"
      ]
     },
     "metadata": {},
     "output_type": "display_data"
    },
    {
     "data": {
      "text/html": [
       " View project at <a href='https://wandb.ai/cs22m019/DL%20Final%20Assignment%201' target=\"_blank\">https://wandb.ai/cs22m019/DL%20Final%20Assignment%201</a>"
      ],
      "text/plain": [
       "<IPython.core.display.HTML object>"
      ]
     },
     "metadata": {},
     "output_type": "display_data"
    },
    {
     "data": {
      "text/html": [
       " View sweep at <a href='https://wandb.ai/cs22m019/DL%20Final%20Assignment%201/sweeps/hl8fpi30' target=\"_blank\">https://wandb.ai/cs22m019/DL%20Final%20Assignment%201/sweeps/hl8fpi30</a>"
      ],
      "text/plain": [
       "<IPython.core.display.HTML object>"
      ]
     },
     "metadata": {},
     "output_type": "display_data"
    },
    {
     "data": {
      "text/html": [
       " View run at <a href='https://wandb.ai/cs22m019/DL%20Final%20Assignment%201/runs/wmbe4gpm' target=\"_blank\">https://wandb.ai/cs22m019/DL%20Final%20Assignment%201/runs/wmbe4gpm</a>"
      ],
      "text/plain": [
       "<IPython.core.display.HTML object>"
      ]
     },
     "metadata": {},
     "output_type": "display_data"
    },
    {
     "name": "stdout",
     "output_type": "stream",
     "text": [
      "epoch:1, train loss:0.7076136981770437, train accuracy:0.4592037037037037, validation loss:0.5019778693517948, validation accuracy:0.6663333333333333\n",
      "epoch:2, train loss:0.4303984739458596, train accuracy:0.6973518518518519, validation loss:0.37827368420855045, validation accuracy:0.7463333333333333\n",
      "epoch:3, train loss:0.34805569704745803, train accuracy:0.7749814814814815, validation loss:0.32916917034130705, validation accuracy:0.7846666666666666\n",
      "epoch:4, train loss:0.3116650303964427, train accuracy:0.7972962962962963, validation loss:0.30115904366920865, validation accuracy:0.7985\n",
      "epoch:5, train loss:0.29073450129536904, train accuracy:0.8092962962962963, validation loss:0.28398362222683793, validation accuracy:0.809\n"
     ]
    },
    {
     "data": {
      "text/html": [
       "Waiting for W&B process to finish... <strong style=\"color:green\">(success).</strong>"
      ],
      "text/plain": [
       "<IPython.core.display.HTML object>"
      ]
     },
     "metadata": {},
     "output_type": "display_data"
    },
    {
     "data": {
      "text/html": [
       "<style>\n",
       "    table.wandb td:nth-child(1) { padding: 0 10px; text-align: left ; width: auto;} td:nth-child(2) {text-align: left ; width: 100%}\n",
       "    .wandb-row { display: flex; flex-direction: row; flex-wrap: wrap; justify-content: flex-start; width: 100% }\n",
       "    .wandb-col { display: flex; flex-direction: column; flex-basis: 100%; flex: 1; padding: 10px; }\n",
       "    </style>\n",
       "<div class=\"wandb-row\"><div class=\"wandb-col\"><h3>Run history:</h3><br/><table class=\"wandb\"><tr><td>train accuracy</td><td>▁▆▇██</td></tr><tr><td>train loss</td><td>█▃▂▁▁</td></tr><tr><td>validation accuracy</td><td>▁▅▇▇█</td></tr><tr><td>validation loss</td><td>█▄▂▂▁</td></tr></table><br/></div><div class=\"wandb-col\"><h3>Run summary:</h3><br/><table class=\"wandb\"><tr><td>train accuracy</td><td>0.8093</td></tr><tr><td>train loss</td><td>0.29073</td></tr><tr><td>validation accuracy</td><td>0.809</td></tr><tr><td>validation loss</td><td>0.28398</td></tr></table><br/></div></div>"
      ],
      "text/plain": [
       "<IPython.core.display.HTML object>"
      ]
     },
     "metadata": {},
     "output_type": "display_data"
    },
    {
     "data": {
      "text/html": [
       " View run <strong style=\"color:#cdcd00\">true-sweep-52</strong> at: <a href='https://wandb.ai/cs22m019/DL%20Final%20Assignment%201/runs/wmbe4gpm' target=\"_blank\">https://wandb.ai/cs22m019/DL%20Final%20Assignment%201/runs/wmbe4gpm</a><br/>Synced 6 W&B file(s), 0 media file(s), 0 artifact file(s) and 0 other file(s)"
      ],
      "text/plain": [
       "<IPython.core.display.HTML object>"
      ]
     },
     "metadata": {},
     "output_type": "display_data"
    },
    {
     "data": {
      "text/html": [
       "Find logs at: <code>.\\wandb\\run-20230311_091106-wmbe4gpm\\logs</code>"
      ],
      "text/plain": [
       "<IPython.core.display.HTML object>"
      ]
     },
     "metadata": {},
     "output_type": "display_data"
    },
    {
     "name": "stderr",
     "output_type": "stream",
     "text": [
      "\u001b[34m\u001b[1mwandb\u001b[0m: Agent Starting Run: 50alr74i with config:\n",
      "\u001b[34m\u001b[1mwandb\u001b[0m: \tactivation: tanh\n",
      "\u001b[34m\u001b[1mwandb\u001b[0m: \tbatch_size: 16\n",
      "\u001b[34m\u001b[1mwandb\u001b[0m: \tepochs: 5\n",
      "\u001b[34m\u001b[1mwandb\u001b[0m: \tlearning_rate: 0.001\n",
      "\u001b[34m\u001b[1mwandb\u001b[0m: \tnumber_of_hidden_layer: 3\n",
      "\u001b[34m\u001b[1mwandb\u001b[0m: \toptimizer: rmsprop\n",
      "\u001b[34m\u001b[1mwandb\u001b[0m: \tsize_of_hidden_layer: 32\n",
      "\u001b[34m\u001b[1mwandb\u001b[0m: \tweight_decay: 0\n",
      "\u001b[34m\u001b[1mwandb\u001b[0m: \tweight_initialization: Xavier\n"
     ]
    },
    {
     "data": {
      "text/html": [
       "Tracking run with wandb version 0.13.11"
      ],
      "text/plain": [
       "<IPython.core.display.HTML object>"
      ]
     },
     "metadata": {},
     "output_type": "display_data"
    },
    {
     "data": {
      "text/html": [
       "Run data is saved locally in <code>C:\\Users\\DELL\\Desktop\\wandb\\run-20230311_092254-50alr74i</code>"
      ],
      "text/plain": [
       "<IPython.core.display.HTML object>"
      ]
     },
     "metadata": {},
     "output_type": "display_data"
    },
    {
     "data": {
      "text/html": [
       "Syncing run <strong><a href='https://wandb.ai/cs22m019/DL%20Final%20Assignment%201/runs/50alr74i' target=\"_blank\">ruby-sweep-53</a></strong> to <a href='https://wandb.ai/cs22m019/DL%20Final%20Assignment%201' target=\"_blank\">Weights & Biases</a> (<a href='https://wandb.me/run' target=\"_blank\">docs</a>)<br/>Sweep page: <a href='https://wandb.ai/cs22m019/DL%20Final%20Assignment%201/sweeps/hl8fpi30' target=\"_blank\">https://wandb.ai/cs22m019/DL%20Final%20Assignment%201/sweeps/hl8fpi30</a>"
      ],
      "text/plain": [
       "<IPython.core.display.HTML object>"
      ]
     },
     "metadata": {},
     "output_type": "display_data"
    },
    {
     "data": {
      "text/html": [
       " View project at <a href='https://wandb.ai/cs22m019/DL%20Final%20Assignment%201' target=\"_blank\">https://wandb.ai/cs22m019/DL%20Final%20Assignment%201</a>"
      ],
      "text/plain": [
       "<IPython.core.display.HTML object>"
      ]
     },
     "metadata": {},
     "output_type": "display_data"
    },
    {
     "data": {
      "text/html": [
       " View sweep at <a href='https://wandb.ai/cs22m019/DL%20Final%20Assignment%201/sweeps/hl8fpi30' target=\"_blank\">https://wandb.ai/cs22m019/DL%20Final%20Assignment%201/sweeps/hl8fpi30</a>"
      ],
      "text/plain": [
       "<IPython.core.display.HTML object>"
      ]
     },
     "metadata": {},
     "output_type": "display_data"
    },
    {
     "data": {
      "text/html": [
       " View run at <a href='https://wandb.ai/cs22m019/DL%20Final%20Assignment%201/runs/50alr74i' target=\"_blank\">https://wandb.ai/cs22m019/DL%20Final%20Assignment%201/runs/50alr74i</a>"
      ],
      "text/plain": [
       "<IPython.core.display.HTML object>"
      ]
     },
     "metadata": {},
     "output_type": "display_data"
    },
    {
     "name": "stdout",
     "output_type": "stream",
     "text": [
      "epoch:1, train loss:0.49151455122847687, train accuracy:0.6755185185185185, validation loss:0.3233167578509746, validation accuracy:0.7963333333333333\n",
      "epoch:2, train loss:0.2867890061340037, train accuracy:0.8098888888888889, validation loss:0.26600495804202323, validation accuracy:0.8173333333333334\n",
      "epoch:3, train loss:0.25059624965335375, train accuracy:0.8275740740740741, validation loss:0.2435280699187844, validation accuracy:0.8285\n",
      "epoch:4, train loss:0.23373415328553582, train accuracy:0.8366296296296296, validation loss:0.23388960575199094, validation accuracy:0.8388333333333333\n",
      "epoch:5, train loss:0.22278619093280558, train accuracy:0.8444074074074074, validation loss:0.22808010619656371, validation accuracy:0.8381666666666666\n"
     ]
    },
    {
     "data": {
      "text/html": [
       "Waiting for W&B process to finish... <strong style=\"color:green\">(success).</strong>"
      ],
      "text/plain": [
       "<IPython.core.display.HTML object>"
      ]
     },
     "metadata": {},
     "output_type": "display_data"
    },
    {
     "data": {
      "application/vnd.jupyter.widget-view+json": {
       "model_id": "9dd73b65e57149d69bb301a59a7916fe",
       "version_major": 2,
       "version_minor": 0
      },
      "text/plain": [
       "VBox(children=(Label(value='0.001 MB of 0.001 MB uploaded (0.000 MB deduped)\\r'), FloatProgress(value=1.0, max…"
      ]
     },
     "metadata": {},
     "output_type": "display_data"
    },
    {
     "data": {
      "text/html": [
       "<style>\n",
       "    table.wandb td:nth-child(1) { padding: 0 10px; text-align: left ; width: auto;} td:nth-child(2) {text-align: left ; width: 100%}\n",
       "    .wandb-row { display: flex; flex-direction: row; flex-wrap: wrap; justify-content: flex-start; width: 100% }\n",
       "    .wandb-col { display: flex; flex-direction: column; flex-basis: 100%; flex: 1; padding: 10px; }\n",
       "    </style>\n",
       "<div class=\"wandb-row\"><div class=\"wandb-col\"><h3>Run history:</h3><br/><table class=\"wandb\"><tr><td>train accuracy</td><td>▁▇▇██</td></tr><tr><td>train loss</td><td>█▃▂▁▁</td></tr><tr><td>validation accuracy</td><td>▁▄▆██</td></tr><tr><td>validation loss</td><td>█▄▂▁▁</td></tr></table><br/></div><div class=\"wandb-col\"><h3>Run summary:</h3><br/><table class=\"wandb\"><tr><td>train accuracy</td><td>0.84441</td></tr><tr><td>train loss</td><td>0.22279</td></tr><tr><td>validation accuracy</td><td>0.83817</td></tr><tr><td>validation loss</td><td>0.22808</td></tr></table><br/></div></div>"
      ],
      "text/plain": [
       "<IPython.core.display.HTML object>"
      ]
     },
     "metadata": {},
     "output_type": "display_data"
    },
    {
     "data": {
      "text/html": [
       " View run <strong style=\"color:#cdcd00\">ruby-sweep-53</strong> at: <a href='https://wandb.ai/cs22m019/DL%20Final%20Assignment%201/runs/50alr74i' target=\"_blank\">https://wandb.ai/cs22m019/DL%20Final%20Assignment%201/runs/50alr74i</a><br/>Synced 6 W&B file(s), 0 media file(s), 0 artifact file(s) and 0 other file(s)"
      ],
      "text/plain": [
       "<IPython.core.display.HTML object>"
      ]
     },
     "metadata": {},
     "output_type": "display_data"
    },
    {
     "data": {
      "text/html": [
       "Find logs at: <code>.\\wandb\\run-20230311_092254-50alr74i\\logs</code>"
      ],
      "text/plain": [
       "<IPython.core.display.HTML object>"
      ]
     },
     "metadata": {},
     "output_type": "display_data"
    },
    {
     "name": "stderr",
     "output_type": "stream",
     "text": [
      "\u001b[34m\u001b[1mwandb\u001b[0m: Agent Starting Run: q4eafvlp with config:\n",
      "\u001b[34m\u001b[1mwandb\u001b[0m: \tactivation: sigmoid\n",
      "\u001b[34m\u001b[1mwandb\u001b[0m: \tbatch_size: 16\n",
      "\u001b[34m\u001b[1mwandb\u001b[0m: \tepochs: 10\n",
      "\u001b[34m\u001b[1mwandb\u001b[0m: \tlearning_rate: 0.001\n",
      "\u001b[34m\u001b[1mwandb\u001b[0m: \tnumber_of_hidden_layer: 3\n",
      "\u001b[34m\u001b[1mwandb\u001b[0m: \toptimizer: rmsprop\n",
      "\u001b[34m\u001b[1mwandb\u001b[0m: \tsize_of_hidden_layer: 32\n",
      "\u001b[34m\u001b[1mwandb\u001b[0m: \tweight_decay: 0\n",
      "\u001b[34m\u001b[1mwandb\u001b[0m: \tweight_initialization: Xavier\n"
     ]
    },
    {
     "data": {
      "text/html": [
       "Tracking run with wandb version 0.13.11"
      ],
      "text/plain": [
       "<IPython.core.display.HTML object>"
      ]
     },
     "metadata": {},
     "output_type": "display_data"
    },
    {
     "data": {
      "text/html": [
       "Run data is saved locally in <code>C:\\Users\\DELL\\Desktop\\wandb\\run-20230311_092727-q4eafvlp</code>"
      ],
      "text/plain": [
       "<IPython.core.display.HTML object>"
      ]
     },
     "metadata": {},
     "output_type": "display_data"
    },
    {
     "data": {
      "text/html": [
       "Syncing run <strong><a href='https://wandb.ai/cs22m019/DL%20Final%20Assignment%201/runs/q4eafvlp' target=\"_blank\">ethereal-sweep-54</a></strong> to <a href='https://wandb.ai/cs22m019/DL%20Final%20Assignment%201' target=\"_blank\">Weights & Biases</a> (<a href='https://wandb.me/run' target=\"_blank\">docs</a>)<br/>Sweep page: <a href='https://wandb.ai/cs22m019/DL%20Final%20Assignment%201/sweeps/hl8fpi30' target=\"_blank\">https://wandb.ai/cs22m019/DL%20Final%20Assignment%201/sweeps/hl8fpi30</a>"
      ],
      "text/plain": [
       "<IPython.core.display.HTML object>"
      ]
     },
     "metadata": {},
     "output_type": "display_data"
    },
    {
     "data": {
      "text/html": [
       " View project at <a href='https://wandb.ai/cs22m019/DL%20Final%20Assignment%201' target=\"_blank\">https://wandb.ai/cs22m019/DL%20Final%20Assignment%201</a>"
      ],
      "text/plain": [
       "<IPython.core.display.HTML object>"
      ]
     },
     "metadata": {},
     "output_type": "display_data"
    },
    {
     "data": {
      "text/html": [
       " View sweep at <a href='https://wandb.ai/cs22m019/DL%20Final%20Assignment%201/sweeps/hl8fpi30' target=\"_blank\">https://wandb.ai/cs22m019/DL%20Final%20Assignment%201/sweeps/hl8fpi30</a>"
      ],
      "text/plain": [
       "<IPython.core.display.HTML object>"
      ]
     },
     "metadata": {},
     "output_type": "display_data"
    },
    {
     "data": {
      "text/html": [
       " View run at <a href='https://wandb.ai/cs22m019/DL%20Final%20Assignment%201/runs/q4eafvlp' target=\"_blank\">https://wandb.ai/cs22m019/DL%20Final%20Assignment%201/runs/q4eafvlp</a>"
      ],
      "text/plain": [
       "<IPython.core.display.HTML object>"
      ]
     },
     "metadata": {},
     "output_type": "display_data"
    },
    {
     "name": "stdout",
     "output_type": "stream",
     "text": [
      "epoch:1, train loss:0.8673434015055355, train accuracy:0.3079074074074074, validation loss:0.8205074557630502, validation accuracy:0.37616666666666665\n",
      "epoch:2, train loss:0.775455375918288, train accuracy:0.44022222222222224, validation loss:0.7314069230401749, validation accuracy:0.482\n",
      "epoch:3, train loss:0.6862245688256035, train accuracy:0.5213888888888889, validation loss:0.6426344415975352, validation accuracy:0.5911666666666666\n",
      "epoch:4, train loss:0.6024737317720913, train accuracy:0.6036481481481482, validation loss:0.5623200181579452, validation accuracy:0.6236666666666667\n",
      "epoch:5, train loss:0.5325731716982278, train accuracy:0.6229814814814815, validation loss:0.5026162371304099, validation accuracy:0.6333333333333333\n",
      "epoch:6, train loss:0.48575350415800844, train accuracy:0.6388703703703704, validation loss:0.4633844907789131, validation accuracy:0.6586666666666666\n",
      "epoch:7, train loss:0.45276578851667315, train accuracy:0.6761851851851852, validation loss:0.43356102259134066, validation accuracy:0.7045\n",
      "epoch:8, train loss:0.42468168300185477, train accuracy:0.7178333333333333, validation loss:0.4059820697967002, validation accuracy:0.7416666666666667\n",
      "epoch:9, train loss:0.39637377900896476, train accuracy:0.7463518518518518, validation loss:0.37697849070339673, validation accuracy:0.7593333333333333\n",
      "epoch:10, train loss:0.369203799511315, train accuracy:0.7606296296296297, validation loss:0.3535920190805986, validation accuracy:0.7668333333333334\n"
     ]
    },
    {
     "data": {
      "text/html": [
       "Waiting for W&B process to finish... <strong style=\"color:green\">(success).</strong>"
      ],
      "text/plain": [
       "<IPython.core.display.HTML object>"
      ]
     },
     "metadata": {},
     "output_type": "display_data"
    },
    {
     "data": {
      "application/vnd.jupyter.widget-view+json": {
       "model_id": "3b340db70047454f9de03db234dda49d",
       "version_major": 2,
       "version_minor": 0
      },
      "text/plain": [
       "VBox(children=(Label(value='0.001 MB of 0.001 MB uploaded (0.000 MB deduped)\\r'), FloatProgress(value=1.0, max…"
      ]
     },
     "metadata": {},
     "output_type": "display_data"
    },
    {
     "data": {
      "text/html": [
       "<style>\n",
       "    table.wandb td:nth-child(1) { padding: 0 10px; text-align: left ; width: auto;} td:nth-child(2) {text-align: left ; width: 100%}\n",
       "    .wandb-row { display: flex; flex-direction: row; flex-wrap: wrap; justify-content: flex-start; width: 100% }\n",
       "    .wandb-col { display: flex; flex-direction: column; flex-basis: 100%; flex: 1; padding: 10px; }\n",
       "    </style>\n",
       "<div class=\"wandb-row\"><div class=\"wandb-col\"><h3>Run history:</h3><br/><table class=\"wandb\"><tr><td>train accuracy</td><td>▁▃▄▆▆▆▇▇██</td></tr><tr><td>train loss</td><td>█▇▅▄▃▃▂▂▁▁</td></tr><tr><td>validation accuracy</td><td>▁▃▅▅▆▆▇███</td></tr><tr><td>validation loss</td><td>█▇▅▄▃▃▂▂▁▁</td></tr></table><br/></div><div class=\"wandb-col\"><h3>Run summary:</h3><br/><table class=\"wandb\"><tr><td>train accuracy</td><td>0.76063</td></tr><tr><td>train loss</td><td>0.3692</td></tr><tr><td>validation accuracy</td><td>0.76683</td></tr><tr><td>validation loss</td><td>0.35359</td></tr></table><br/></div></div>"
      ],
      "text/plain": [
       "<IPython.core.display.HTML object>"
      ]
     },
     "metadata": {},
     "output_type": "display_data"
    },
    {
     "data": {
      "text/html": [
       " View run <strong style=\"color:#cdcd00\">ethereal-sweep-54</strong> at: <a href='https://wandb.ai/cs22m019/DL%20Final%20Assignment%201/runs/q4eafvlp' target=\"_blank\">https://wandb.ai/cs22m019/DL%20Final%20Assignment%201/runs/q4eafvlp</a><br/>Synced 6 W&B file(s), 0 media file(s), 0 artifact file(s) and 0 other file(s)"
      ],
      "text/plain": [
       "<IPython.core.display.HTML object>"
      ]
     },
     "metadata": {},
     "output_type": "display_data"
    },
    {
     "data": {
      "text/html": [
       "Find logs at: <code>.\\wandb\\run-20230311_092727-q4eafvlp\\logs</code>"
      ],
      "text/plain": [
       "<IPython.core.display.HTML object>"
      ]
     },
     "metadata": {},
     "output_type": "display_data"
    },
    {
     "name": "stderr",
     "output_type": "stream",
     "text": [
      "\u001b[34m\u001b[1mwandb\u001b[0m: Agent Starting Run: hr6zj144 with config:\n",
      "\u001b[34m\u001b[1mwandb\u001b[0m: \tactivation: tanh\n",
      "\u001b[34m\u001b[1mwandb\u001b[0m: \tbatch_size: 16\n",
      "\u001b[34m\u001b[1mwandb\u001b[0m: \tepochs: 10\n",
      "\u001b[34m\u001b[1mwandb\u001b[0m: \tlearning_rate: 0.001\n",
      "\u001b[34m\u001b[1mwandb\u001b[0m: \tnumber_of_hidden_layer: 5\n",
      "\u001b[34m\u001b[1mwandb\u001b[0m: \toptimizer: nadam\n",
      "\u001b[34m\u001b[1mwandb\u001b[0m: \tsize_of_hidden_layer: 128\n",
      "\u001b[34m\u001b[1mwandb\u001b[0m: \tweight_decay: 0.0005\n",
      "\u001b[34m\u001b[1mwandb\u001b[0m: \tweight_initialization: random\n"
     ]
    },
    {
     "data": {
      "text/html": [
       "Tracking run with wandb version 0.13.11"
      ],
      "text/plain": [
       "<IPython.core.display.HTML object>"
      ]
     },
     "metadata": {},
     "output_type": "display_data"
    },
    {
     "data": {
      "text/html": [
       "Run data is saved locally in <code>C:\\Users\\DELL\\Desktop\\wandb\\run-20230311_093702-hr6zj144</code>"
      ],
      "text/plain": [
       "<IPython.core.display.HTML object>"
      ]
     },
     "metadata": {},
     "output_type": "display_data"
    },
    {
     "data": {
      "text/html": [
       "Syncing run <strong><a href='https://wandb.ai/cs22m019/DL%20Final%20Assignment%201/runs/hr6zj144' target=\"_blank\">polar-sweep-55</a></strong> to <a href='https://wandb.ai/cs22m019/DL%20Final%20Assignment%201' target=\"_blank\">Weights & Biases</a> (<a href='https://wandb.me/run' target=\"_blank\">docs</a>)<br/>Sweep page: <a href='https://wandb.ai/cs22m019/DL%20Final%20Assignment%201/sweeps/hl8fpi30' target=\"_blank\">https://wandb.ai/cs22m019/DL%20Final%20Assignment%201/sweeps/hl8fpi30</a>"
      ],
      "text/plain": [
       "<IPython.core.display.HTML object>"
      ]
     },
     "metadata": {},
     "output_type": "display_data"
    },
    {
     "data": {
      "text/html": [
       " View project at <a href='https://wandb.ai/cs22m019/DL%20Final%20Assignment%201' target=\"_blank\">https://wandb.ai/cs22m019/DL%20Final%20Assignment%201</a>"
      ],
      "text/plain": [
       "<IPython.core.display.HTML object>"
      ]
     },
     "metadata": {},
     "output_type": "display_data"
    },
    {
     "data": {
      "text/html": [
       " View sweep at <a href='https://wandb.ai/cs22m019/DL%20Final%20Assignment%201/sweeps/hl8fpi30' target=\"_blank\">https://wandb.ai/cs22m019/DL%20Final%20Assignment%201/sweeps/hl8fpi30</a>"
      ],
      "text/plain": [
       "<IPython.core.display.HTML object>"
      ]
     },
     "metadata": {},
     "output_type": "display_data"
    },
    {
     "data": {
      "text/html": [
       " View run at <a href='https://wandb.ai/cs22m019/DL%20Final%20Assignment%201/runs/hr6zj144' target=\"_blank\">https://wandb.ai/cs22m019/DL%20Final%20Assignment%201/runs/hr6zj144</a>"
      ],
      "text/plain": [
       "<IPython.core.display.HTML object>"
      ]
     },
     "metadata": {},
     "output_type": "display_data"
    },
    {
     "name": "stdout",
     "output_type": "stream",
     "text": [
      "epoch:1, train loss:1.2131690017410652, train accuracy:0.2047037037037037, validation loss:0.8620803160748037, validation accuracy:0.3473333333333333\n",
      "epoch:2, train loss:0.704555018294119, train accuracy:0.4594259259259259, validation loss:0.5872411286459807, validation accuracy:0.547\n",
      "epoch:3, train loss:0.526850196517663, train accuracy:0.6022222222222222, validation loss:0.48279572814209765, validation accuracy:0.641\n",
      "epoch:4, train loss:0.458911383954518, train accuracy:0.6617407407407407, validation loss:0.43538149441964225, validation accuracy:0.6835\n",
      "epoch:5, train loss:0.41605024463292933, train accuracy:0.6985740740740741, validation loss:0.40696417750561514, validation accuracy:0.7053333333333334\n",
      "epoch:6, train loss:0.3892137606114928, train accuracy:0.7215925925925926, validation loss:0.3877412504919275, validation accuracy:0.7238333333333333\n",
      "epoch:7, train loss:0.36840197120631296, train accuracy:0.7381296296296296, validation loss:0.36778076852434344, validation accuracy:0.7381666666666666\n",
      "epoch:8, train loss:0.3513644576704267, train accuracy:0.7519074074074074, validation loss:0.3619587762856236, validation accuracy:0.7403333333333333\n",
      "epoch:9, train loss:0.3381451080020983, train accuracy:0.762462962962963, validation loss:0.35631967884585497, validation accuracy:0.749\n",
      "epoch:10, train loss:0.3273401420251089, train accuracy:0.7715740740740741, validation loss:0.345131104184109, validation accuracy:0.7588333333333334\n"
     ]
    },
    {
     "data": {
      "text/html": [
       "Waiting for W&B process to finish... <strong style=\"color:green\">(success).</strong>"
      ],
      "text/plain": [
       "<IPython.core.display.HTML object>"
      ]
     },
     "metadata": {},
     "output_type": "display_data"
    },
    {
     "data": {
      "application/vnd.jupyter.widget-view+json": {
       "model_id": "c25e7b91eeb54078a36cef060e8b8368",
       "version_major": 2,
       "version_minor": 0
      },
      "text/plain": [
       "VBox(children=(Label(value='0.001 MB of 0.001 MB uploaded (0.000 MB deduped)\\r'), FloatProgress(value=1.0, max…"
      ]
     },
     "metadata": {},
     "output_type": "display_data"
    },
    {
     "data": {
      "text/html": [
       "<style>\n",
       "    table.wandb td:nth-child(1) { padding: 0 10px; text-align: left ; width: auto;} td:nth-child(2) {text-align: left ; width: 100%}\n",
       "    .wandb-row { display: flex; flex-direction: row; flex-wrap: wrap; justify-content: flex-start; width: 100% }\n",
       "    .wandb-col { display: flex; flex-direction: column; flex-basis: 100%; flex: 1; padding: 10px; }\n",
       "    </style>\n",
       "<div class=\"wandb-row\"><div class=\"wandb-col\"><h3>Run history:</h3><br/><table class=\"wandb\"><tr><td>train accuracy</td><td>▁▄▆▇▇▇████</td></tr><tr><td>train loss</td><td>█▄▃▂▂▁▁▁▁▁</td></tr><tr><td>validation accuracy</td><td>▁▄▆▇▇▇████</td></tr><tr><td>validation loss</td><td>█▄▃▂▂▂▁▁▁▁</td></tr></table><br/></div><div class=\"wandb-col\"><h3>Run summary:</h3><br/><table class=\"wandb\"><tr><td>train accuracy</td><td>0.77157</td></tr><tr><td>train loss</td><td>0.32734</td></tr><tr><td>validation accuracy</td><td>0.75883</td></tr><tr><td>validation loss</td><td>0.34513</td></tr></table><br/></div></div>"
      ],
      "text/plain": [
       "<IPython.core.display.HTML object>"
      ]
     },
     "metadata": {},
     "output_type": "display_data"
    },
    {
     "data": {
      "text/html": [
       " View run <strong style=\"color:#cdcd00\">polar-sweep-55</strong> at: <a href='https://wandb.ai/cs22m019/DL%20Final%20Assignment%201/runs/hr6zj144' target=\"_blank\">https://wandb.ai/cs22m019/DL%20Final%20Assignment%201/runs/hr6zj144</a><br/>Synced 6 W&B file(s), 0 media file(s), 0 artifact file(s) and 0 other file(s)"
      ],
      "text/plain": [
       "<IPython.core.display.HTML object>"
      ]
     },
     "metadata": {},
     "output_type": "display_data"
    },
    {
     "data": {
      "text/html": [
       "Find logs at: <code>.\\wandb\\run-20230311_093702-hr6zj144\\logs</code>"
      ],
      "text/plain": [
       "<IPython.core.display.HTML object>"
      ]
     },
     "metadata": {},
     "output_type": "display_data"
    },
    {
     "name": "stderr",
     "output_type": "stream",
     "text": [
      "\u001b[34m\u001b[1mwandb\u001b[0m: Agent Starting Run: m0qttrdc with config:\n",
      "\u001b[34m\u001b[1mwandb\u001b[0m: \tactivation: ReLU\n",
      "\u001b[34m\u001b[1mwandb\u001b[0m: \tbatch_size: 64\n",
      "\u001b[34m\u001b[1mwandb\u001b[0m: \tepochs: 5\n",
      "\u001b[34m\u001b[1mwandb\u001b[0m: \tlearning_rate: 0.0001\n",
      "\u001b[34m\u001b[1mwandb\u001b[0m: \tnumber_of_hidden_layer: 5\n",
      "\u001b[34m\u001b[1mwandb\u001b[0m: \toptimizer: momentum\n",
      "\u001b[34m\u001b[1mwandb\u001b[0m: \tsize_of_hidden_layer: 32\n",
      "\u001b[34m\u001b[1mwandb\u001b[0m: \tweight_decay: 0\n",
      "\u001b[34m\u001b[1mwandb\u001b[0m: \tweight_initialization: Xavier\n"
     ]
    },
    {
     "data": {
      "application/vnd.jupyter.widget-view+json": {
       "model_id": "9df007f2a7244c3eacdab672021e0bfe",
       "version_major": 2,
       "version_minor": 0
      },
      "text/plain": [
       "VBox(children=(Label(value='Waiting for wandb.init()...\\r'), FloatProgress(value=0.016916666666656966, max=1.0…"
      ]
     },
     "metadata": {},
     "output_type": "display_data"
    },
    {
     "data": {
      "text/html": [
       "Tracking run with wandb version 0.13.11"
      ],
      "text/plain": [
       "<IPython.core.display.HTML object>"
      ]
     },
     "metadata": {},
     "output_type": "display_data"
    },
    {
     "data": {
      "text/html": [
       "Run data is saved locally in <code>C:\\Users\\DELL\\Desktop\\wandb\\run-20230311_101604-m0qttrdc</code>"
      ],
      "text/plain": [
       "<IPython.core.display.HTML object>"
      ]
     },
     "metadata": {},
     "output_type": "display_data"
    },
    {
     "data": {
      "text/html": [
       "Syncing run <strong><a href='https://wandb.ai/cs22m019/DL%20Final%20Assignment%201/runs/m0qttrdc' target=\"_blank\">easy-sweep-56</a></strong> to <a href='https://wandb.ai/cs22m019/DL%20Final%20Assignment%201' target=\"_blank\">Weights & Biases</a> (<a href='https://wandb.me/run' target=\"_blank\">docs</a>)<br/>Sweep page: <a href='https://wandb.ai/cs22m019/DL%20Final%20Assignment%201/sweeps/hl8fpi30' target=\"_blank\">https://wandb.ai/cs22m019/DL%20Final%20Assignment%201/sweeps/hl8fpi30</a>"
      ],
      "text/plain": [
       "<IPython.core.display.HTML object>"
      ]
     },
     "metadata": {},
     "output_type": "display_data"
    },
    {
     "data": {
      "text/html": [
       " View project at <a href='https://wandb.ai/cs22m019/DL%20Final%20Assignment%201' target=\"_blank\">https://wandb.ai/cs22m019/DL%20Final%20Assignment%201</a>"
      ],
      "text/plain": [
       "<IPython.core.display.HTML object>"
      ]
     },
     "metadata": {},
     "output_type": "display_data"
    },
    {
     "data": {
      "text/html": [
       " View sweep at <a href='https://wandb.ai/cs22m019/DL%20Final%20Assignment%201/sweeps/hl8fpi30' target=\"_blank\">https://wandb.ai/cs22m019/DL%20Final%20Assignment%201/sweeps/hl8fpi30</a>"
      ],
      "text/plain": [
       "<IPython.core.display.HTML object>"
      ]
     },
     "metadata": {},
     "output_type": "display_data"
    },
    {
     "data": {
      "text/html": [
       " View run at <a href='https://wandb.ai/cs22m019/DL%20Final%20Assignment%201/runs/m0qttrdc' target=\"_blank\">https://wandb.ai/cs22m019/DL%20Final%20Assignment%201/runs/m0qttrdc</a>"
      ],
      "text/plain": [
       "<IPython.core.display.HTML object>"
      ]
     },
     "metadata": {},
     "output_type": "display_data"
    },
    {
     "name": "stdout",
     "output_type": "stream",
     "text": [
      "epoch:1, train loss:0.9344126353485402, train accuracy:0.10062962962962962, validation loss:0.9348005948612634, validation accuracy:0.09433333333333334\n",
      "epoch:2, train loss:0.930892549847637, train accuracy:0.10064814814814815, validation loss:0.9314664391982679, validation accuracy:0.09433333333333334\n",
      "epoch:3, train loss:0.9278984110736584, train accuracy:0.10066666666666667, validation loss:0.9285991707459967, validation accuracy:0.09433333333333334\n",
      "epoch:4, train loss:0.9253046078616479, train accuracy:0.10066666666666667, validation loss:0.9260842723120647, validation accuracy:0.09466666666666666\n",
      "epoch:5, train loss:0.923018286444854, train accuracy:0.10072222222222223, validation loss:0.9238517433338548, validation accuracy:0.09466666666666666\n"
     ]
    },
    {
     "data": {
      "text/html": [
       "Waiting for W&B process to finish... <strong style=\"color:green\">(success).</strong>"
      ],
      "text/plain": [
       "<IPython.core.display.HTML object>"
      ]
     },
     "metadata": {},
     "output_type": "display_data"
    },
    {
     "data": {
      "application/vnd.jupyter.widget-view+json": {
       "model_id": "db0aafe74ec74ad4be505fc153156ef4",
       "version_major": 2,
       "version_minor": 0
      },
      "text/plain": [
       "VBox(children=(Label(value='0.001 MB of 0.001 MB uploaded (0.000 MB deduped)\\r'), FloatProgress(value=1.0, max…"
      ]
     },
     "metadata": {},
     "output_type": "display_data"
    },
    {
     "data": {
      "text/html": [
       "<style>\n",
       "    table.wandb td:nth-child(1) { padding: 0 10px; text-align: left ; width: auto;} td:nth-child(2) {text-align: left ; width: 100%}\n",
       "    .wandb-row { display: flex; flex-direction: row; flex-wrap: wrap; justify-content: flex-start; width: 100% }\n",
       "    .wandb-col { display: flex; flex-direction: column; flex-basis: 100%; flex: 1; padding: 10px; }\n",
       "    </style>\n",
       "<div class=\"wandb-row\"><div class=\"wandb-col\"><h3>Run history:</h3><br/><table class=\"wandb\"><tr><td>train accuracy</td><td>▁▂▄▄█</td></tr><tr><td>train loss</td><td>█▆▄▂▁</td></tr><tr><td>validation accuracy</td><td>▁▁▁██</td></tr><tr><td>validation loss</td><td>█▆▄▂▁</td></tr></table><br/></div><div class=\"wandb-col\"><h3>Run summary:</h3><br/><table class=\"wandb\"><tr><td>train accuracy</td><td>0.10072</td></tr><tr><td>train loss</td><td>0.92302</td></tr><tr><td>validation accuracy</td><td>0.09467</td></tr><tr><td>validation loss</td><td>0.92385</td></tr></table><br/></div></div>"
      ],
      "text/plain": [
       "<IPython.core.display.HTML object>"
      ]
     },
     "metadata": {},
     "output_type": "display_data"
    },
    {
     "data": {
      "text/html": [
       " View run <strong style=\"color:#cdcd00\">easy-sweep-56</strong> at: <a href='https://wandb.ai/cs22m019/DL%20Final%20Assignment%201/runs/m0qttrdc' target=\"_blank\">https://wandb.ai/cs22m019/DL%20Final%20Assignment%201/runs/m0qttrdc</a><br/>Synced 6 W&B file(s), 0 media file(s), 0 artifact file(s) and 0 other file(s)"
      ],
      "text/plain": [
       "<IPython.core.display.HTML object>"
      ]
     },
     "metadata": {},
     "output_type": "display_data"
    },
    {
     "data": {
      "text/html": [
       "Find logs at: <code>.\\wandb\\run-20230311_101604-m0qttrdc\\logs</code>"
      ],
      "text/plain": [
       "<IPython.core.display.HTML object>"
      ]
     },
     "metadata": {},
     "output_type": "display_data"
    },
    {
     "name": "stderr",
     "output_type": "stream",
     "text": [
      "\u001b[34m\u001b[1mwandb\u001b[0m: Agent Starting Run: q8842t12 with config:\n",
      "\u001b[34m\u001b[1mwandb\u001b[0m: \tactivation: tanh\n",
      "\u001b[34m\u001b[1mwandb\u001b[0m: \tbatch_size: 16\n",
      "\u001b[34m\u001b[1mwandb\u001b[0m: \tepochs: 5\n",
      "\u001b[34m\u001b[1mwandb\u001b[0m: \tlearning_rate: 0.001\n",
      "\u001b[34m\u001b[1mwandb\u001b[0m: \tnumber_of_hidden_layer: 4\n",
      "\u001b[34m\u001b[1mwandb\u001b[0m: \toptimizer: nadam\n",
      "\u001b[34m\u001b[1mwandb\u001b[0m: \tsize_of_hidden_layer: 64\n",
      "\u001b[34m\u001b[1mwandb\u001b[0m: \tweight_decay: 0\n",
      "\u001b[34m\u001b[1mwandb\u001b[0m: \tweight_initialization: random\n"
     ]
    },
    {
     "data": {
      "text/html": [
       "Tracking run with wandb version 0.13.11"
      ],
      "text/plain": [
       "<IPython.core.display.HTML object>"
      ]
     },
     "metadata": {},
     "output_type": "display_data"
    },
    {
     "data": {
      "text/html": [
       "Run data is saved locally in <code>C:\\Users\\DELL\\Desktop\\wandb\\run-20230311_102119-q8842t12</code>"
      ],
      "text/plain": [
       "<IPython.core.display.HTML object>"
      ]
     },
     "metadata": {},
     "output_type": "display_data"
    },
    {
     "data": {
      "text/html": [
       "Syncing run <strong><a href='https://wandb.ai/cs22m019/DL%20Final%20Assignment%201/runs/q8842t12' target=\"_blank\">resilient-sweep-57</a></strong> to <a href='https://wandb.ai/cs22m019/DL%20Final%20Assignment%201' target=\"_blank\">Weights & Biases</a> (<a href='https://wandb.me/run' target=\"_blank\">docs</a>)<br/>Sweep page: <a href='https://wandb.ai/cs22m019/DL%20Final%20Assignment%201/sweeps/hl8fpi30' target=\"_blank\">https://wandb.ai/cs22m019/DL%20Final%20Assignment%201/sweeps/hl8fpi30</a>"
      ],
      "text/plain": [
       "<IPython.core.display.HTML object>"
      ]
     },
     "metadata": {},
     "output_type": "display_data"
    },
    {
     "data": {
      "text/html": [
       " View project at <a href='https://wandb.ai/cs22m019/DL%20Final%20Assignment%201' target=\"_blank\">https://wandb.ai/cs22m019/DL%20Final%20Assignment%201</a>"
      ],
      "text/plain": [
       "<IPython.core.display.HTML object>"
      ]
     },
     "metadata": {},
     "output_type": "display_data"
    },
    {
     "data": {
      "text/html": [
       " View sweep at <a href='https://wandb.ai/cs22m019/DL%20Final%20Assignment%201/sweeps/hl8fpi30' target=\"_blank\">https://wandb.ai/cs22m019/DL%20Final%20Assignment%201/sweeps/hl8fpi30</a>"
      ],
      "text/plain": [
       "<IPython.core.display.HTML object>"
      ]
     },
     "metadata": {},
     "output_type": "display_data"
    },
    {
     "data": {
      "text/html": [
       " View run at <a href='https://wandb.ai/cs22m019/DL%20Final%20Assignment%201/runs/q8842t12' target=\"_blank\">https://wandb.ai/cs22m019/DL%20Final%20Assignment%201/runs/q8842t12</a>"
      ],
      "text/plain": [
       "<IPython.core.display.HTML object>"
      ]
     },
     "metadata": {},
     "output_type": "display_data"
    },
    {
     "name": "stdout",
     "output_type": "stream",
     "text": [
      "epoch:1, train loss:0.8937469572730351, train accuracy:0.339, validation loss:0.6131553606254638, validation accuracy:0.5465\n",
      "epoch:2, train loss:0.5438910711894785, train accuracy:0.5962222222222222, validation loss:0.4915806775337961, validation accuracy:0.6371666666666667\n",
      "epoch:3, train loss:0.4558755919436141, train accuracy:0.6692962962962963, validation loss:0.4395431814968683, validation accuracy:0.6771666666666667\n",
      "epoch:4, train loss:0.4119746968375407, train accuracy:0.7037037037037037, validation loss:0.40651594819781867, validation accuracy:0.7075\n",
      "epoch:5, train loss:0.38384774713061753, train accuracy:0.7267037037037037, validation loss:0.38799062000409557, validation accuracy:0.7158333333333333\n"
     ]
    },
    {
     "data": {
      "text/html": [
       "Waiting for W&B process to finish... <strong style=\"color:green\">(success).</strong>"
      ],
      "text/plain": [
       "<IPython.core.display.HTML object>"
      ]
     },
     "metadata": {},
     "output_type": "display_data"
    },
    {
     "data": {
      "application/vnd.jupyter.widget-view+json": {
       "model_id": "6be4d4dbd7b54ad5b212b840c39b73b3",
       "version_major": 2,
       "version_minor": 0
      },
      "text/plain": [
       "VBox(children=(Label(value='0.001 MB of 0.001 MB uploaded (0.000 MB deduped)\\r'), FloatProgress(value=1.0, max…"
      ]
     },
     "metadata": {},
     "output_type": "display_data"
    },
    {
     "data": {
      "text/html": [
       "<style>\n",
       "    table.wandb td:nth-child(1) { padding: 0 10px; text-align: left ; width: auto;} td:nth-child(2) {text-align: left ; width: 100%}\n",
       "    .wandb-row { display: flex; flex-direction: row; flex-wrap: wrap; justify-content: flex-start; width: 100% }\n",
       "    .wandb-col { display: flex; flex-direction: column; flex-basis: 100%; flex: 1; padding: 10px; }\n",
       "    </style>\n",
       "<div class=\"wandb-row\"><div class=\"wandb-col\"><h3>Run history:</h3><br/><table class=\"wandb\"><tr><td>train accuracy</td><td>▁▆▇██</td></tr><tr><td>train loss</td><td>█▃▂▁▁</td></tr><tr><td>validation accuracy</td><td>▁▅▆██</td></tr><tr><td>validation loss</td><td>█▄▃▂▁</td></tr></table><br/></div><div class=\"wandb-col\"><h3>Run summary:</h3><br/><table class=\"wandb\"><tr><td>train accuracy</td><td>0.7267</td></tr><tr><td>train loss</td><td>0.38385</td></tr><tr><td>validation accuracy</td><td>0.71583</td></tr><tr><td>validation loss</td><td>0.38799</td></tr></table><br/></div></div>"
      ],
      "text/plain": [
       "<IPython.core.display.HTML object>"
      ]
     },
     "metadata": {},
     "output_type": "display_data"
    },
    {
     "data": {
      "text/html": [
       " View run <strong style=\"color:#cdcd00\">resilient-sweep-57</strong> at: <a href='https://wandb.ai/cs22m019/DL%20Final%20Assignment%201/runs/q8842t12' target=\"_blank\">https://wandb.ai/cs22m019/DL%20Final%20Assignment%201/runs/q8842t12</a><br/>Synced 6 W&B file(s), 0 media file(s), 0 artifact file(s) and 0 other file(s)"
      ],
      "text/plain": [
       "<IPython.core.display.HTML object>"
      ]
     },
     "metadata": {},
     "output_type": "display_data"
    },
    {
     "data": {
      "text/html": [
       "Find logs at: <code>.\\wandb\\run-20230311_102119-q8842t12\\logs</code>"
      ],
      "text/plain": [
       "<IPython.core.display.HTML object>"
      ]
     },
     "metadata": {},
     "output_type": "display_data"
    },
    {
     "name": "stderr",
     "output_type": "stream",
     "text": [
      "\u001b[34m\u001b[1mwandb\u001b[0m: Agent Starting Run: q2qyr9bj with config:\n",
      "\u001b[34m\u001b[1mwandb\u001b[0m: \tactivation: tanh\n",
      "\u001b[34m\u001b[1mwandb\u001b[0m: \tbatch_size: 64\n",
      "\u001b[34m\u001b[1mwandb\u001b[0m: \tepochs: 5\n",
      "\u001b[34m\u001b[1mwandb\u001b[0m: \tlearning_rate: 0.0001\n",
      "\u001b[34m\u001b[1mwandb\u001b[0m: \tnumber_of_hidden_layer: 4\n",
      "\u001b[34m\u001b[1mwandb\u001b[0m: \toptimizer: sgd\n",
      "\u001b[34m\u001b[1mwandb\u001b[0m: \tsize_of_hidden_layer: 128\n",
      "\u001b[34m\u001b[1mwandb\u001b[0m: \tweight_decay: 0.0005\n",
      "\u001b[34m\u001b[1mwandb\u001b[0m: \tweight_initialization: random\n"
     ]
    },
    {
     "data": {
      "text/html": [
       "Tracking run with wandb version 0.13.11"
      ],
      "text/plain": [
       "<IPython.core.display.HTML object>"
      ]
     },
     "metadata": {},
     "output_type": "display_data"
    },
    {
     "data": {
      "text/html": [
       "Run data is saved locally in <code>C:\\Users\\DELL\\Desktop\\wandb\\run-20230311_102712-q2qyr9bj</code>"
      ],
      "text/plain": [
       "<IPython.core.display.HTML object>"
      ]
     },
     "metadata": {},
     "output_type": "display_data"
    },
    {
     "data": {
      "text/html": [
       "Syncing run <strong><a href='https://wandb.ai/cs22m019/DL%20Final%20Assignment%201/runs/q2qyr9bj' target=\"_blank\">autumn-sweep-58</a></strong> to <a href='https://wandb.ai/cs22m019/DL%20Final%20Assignment%201' target=\"_blank\">Weights & Biases</a> (<a href='https://wandb.me/run' target=\"_blank\">docs</a>)<br/>Sweep page: <a href='https://wandb.ai/cs22m019/DL%20Final%20Assignment%201/sweeps/hl8fpi30' target=\"_blank\">https://wandb.ai/cs22m019/DL%20Final%20Assignment%201/sweeps/hl8fpi30</a>"
      ],
      "text/plain": [
       "<IPython.core.display.HTML object>"
      ]
     },
     "metadata": {},
     "output_type": "display_data"
    },
    {
     "data": {
      "text/html": [
       " View project at <a href='https://wandb.ai/cs22m019/DL%20Final%20Assignment%201' target=\"_blank\">https://wandb.ai/cs22m019/DL%20Final%20Assignment%201</a>"
      ],
      "text/plain": [
       "<IPython.core.display.HTML object>"
      ]
     },
     "metadata": {},
     "output_type": "display_data"
    },
    {
     "data": {
      "text/html": [
       " View sweep at <a href='https://wandb.ai/cs22m019/DL%20Final%20Assignment%201/sweeps/hl8fpi30' target=\"_blank\">https://wandb.ai/cs22m019/DL%20Final%20Assignment%201/sweeps/hl8fpi30</a>"
      ],
      "text/plain": [
       "<IPython.core.display.HTML object>"
      ]
     },
     "metadata": {},
     "output_type": "display_data"
    },
    {
     "data": {
      "text/html": [
       " View run at <a href='https://wandb.ai/cs22m019/DL%20Final%20Assignment%201/runs/q2qyr9bj' target=\"_blank\">https://wandb.ai/cs22m019/DL%20Final%20Assignment%201/runs/q2qyr9bj</a>"
      ],
      "text/plain": [
       "<IPython.core.display.HTML object>"
      ]
     },
     "metadata": {},
     "output_type": "display_data"
    },
    {
     "name": "stdout",
     "output_type": "stream",
     "text": [
      "epoch:1, train loss:1.5083689269853389, train accuracy:0.10372222222222222, validation loss:1.5092388954483875, validation accuracy:0.09883333333333333\n",
      "epoch:2, train loss:1.5081753349307883, train accuracy:0.10366666666666667, validation loss:1.5090191132340443, validation accuracy:0.09883333333333333\n",
      "epoch:3, train loss:1.5079828719632444, train accuracy:0.10374074074074074, validation loss:1.5087894816273149, validation accuracy:0.09933333333333333\n",
      "epoch:4, train loss:1.507795412771528, train accuracy:0.10368518518518519, validation loss:1.508563973975965, validation accuracy:0.09916666666666667\n",
      "epoch:5, train loss:1.5076103812181423, train accuracy:0.1039074074074074, validation loss:1.50841117436813, validation accuracy:0.09916666666666667\n"
     ]
    },
    {
     "data": {
      "text/html": [
       "Waiting for W&B process to finish... <strong style=\"color:green\">(success).</strong>"
      ],
      "text/plain": [
       "<IPython.core.display.HTML object>"
      ]
     },
     "metadata": {},
     "output_type": "display_data"
    },
    {
     "data": {
      "application/vnd.jupyter.widget-view+json": {
       "model_id": "eac5408321e8416b9d36a096be11f97e",
       "version_major": 2,
       "version_minor": 0
      },
      "text/plain": [
       "VBox(children=(Label(value='0.001 MB of 0.001 MB uploaded (0.000 MB deduped)\\r'), FloatProgress(value=1.0, max…"
      ]
     },
     "metadata": {},
     "output_type": "display_data"
    },
    {
     "data": {
      "text/html": [
       "<style>\n",
       "    table.wandb td:nth-child(1) { padding: 0 10px; text-align: left ; width: auto;} td:nth-child(2) {text-align: left ; width: 100%}\n",
       "    .wandb-row { display: flex; flex-direction: row; flex-wrap: wrap; justify-content: flex-start; width: 100% }\n",
       "    .wandb-col { display: flex; flex-direction: column; flex-basis: 100%; flex: 1; padding: 10px; }\n",
       "    </style>\n",
       "<div class=\"wandb-row\"><div class=\"wandb-col\"><h3>Run history:</h3><br/><table class=\"wandb\"><tr><td>train accuracy</td><td>▃▁▃▂█</td></tr><tr><td>train loss</td><td>█▆▄▃▁</td></tr><tr><td>validation accuracy</td><td>▁▁█▆▆</td></tr><tr><td>validation loss</td><td>█▆▄▂▁</td></tr></table><br/></div><div class=\"wandb-col\"><h3>Run summary:</h3><br/><table class=\"wandb\"><tr><td>train accuracy</td><td>0.10391</td></tr><tr><td>train loss</td><td>1.50761</td></tr><tr><td>validation accuracy</td><td>0.09917</td></tr><tr><td>validation loss</td><td>1.50841</td></tr></table><br/></div></div>"
      ],
      "text/plain": [
       "<IPython.core.display.HTML object>"
      ]
     },
     "metadata": {},
     "output_type": "display_data"
    },
    {
     "data": {
      "text/html": [
       " View run <strong style=\"color:#cdcd00\">autumn-sweep-58</strong> at: <a href='https://wandb.ai/cs22m019/DL%20Final%20Assignment%201/runs/q2qyr9bj' target=\"_blank\">https://wandb.ai/cs22m019/DL%20Final%20Assignment%201/runs/q2qyr9bj</a><br/>Synced 6 W&B file(s), 0 media file(s), 0 artifact file(s) and 0 other file(s)"
      ],
      "text/plain": [
       "<IPython.core.display.HTML object>"
      ]
     },
     "metadata": {},
     "output_type": "display_data"
    },
    {
     "data": {
      "text/html": [
       "Find logs at: <code>.\\wandb\\run-20230311_102712-q2qyr9bj\\logs</code>"
      ],
      "text/plain": [
       "<IPython.core.display.HTML object>"
      ]
     },
     "metadata": {},
     "output_type": "display_data"
    },
    {
     "name": "stderr",
     "output_type": "stream",
     "text": [
      "\u001b[34m\u001b[1mwandb\u001b[0m: Agent Starting Run: vbpoekc8 with config:\n",
      "\u001b[34m\u001b[1mwandb\u001b[0m: \tactivation: ReLU\n",
      "\u001b[34m\u001b[1mwandb\u001b[0m: \tbatch_size: 16\n",
      "\u001b[34m\u001b[1mwandb\u001b[0m: \tepochs: 10\n",
      "\u001b[34m\u001b[1mwandb\u001b[0m: \tlearning_rate: 0.0001\n",
      "\u001b[34m\u001b[1mwandb\u001b[0m: \tnumber_of_hidden_layer: 3\n",
      "\u001b[34m\u001b[1mwandb\u001b[0m: \toptimizer: momentum\n",
      "\u001b[34m\u001b[1mwandb\u001b[0m: \tsize_of_hidden_layer: 64\n",
      "\u001b[34m\u001b[1mwandb\u001b[0m: \tweight_decay: 0.0005\n",
      "\u001b[34m\u001b[1mwandb\u001b[0m: \tweight_initialization: Xavier\n"
     ]
    },
    {
     "data": {
      "text/html": [
       "Tracking run with wandb version 0.13.11"
      ],
      "text/plain": [
       "<IPython.core.display.HTML object>"
      ]
     },
     "metadata": {},
     "output_type": "display_data"
    },
    {
     "data": {
      "text/html": [
       "Run data is saved locally in <code>C:\\Users\\DELL\\Desktop\\wandb\\run-20230311_103429-vbpoekc8</code>"
      ],
      "text/plain": [
       "<IPython.core.display.HTML object>"
      ]
     },
     "metadata": {},
     "output_type": "display_data"
    },
    {
     "data": {
      "text/html": [
       "Syncing run <strong><a href='https://wandb.ai/cs22m019/DL%20Final%20Assignment%201/runs/vbpoekc8' target=\"_blank\">efficient-sweep-59</a></strong> to <a href='https://wandb.ai/cs22m019/DL%20Final%20Assignment%201' target=\"_blank\">Weights & Biases</a> (<a href='https://wandb.me/run' target=\"_blank\">docs</a>)<br/>Sweep page: <a href='https://wandb.ai/cs22m019/DL%20Final%20Assignment%201/sweeps/hl8fpi30' target=\"_blank\">https://wandb.ai/cs22m019/DL%20Final%20Assignment%201/sweeps/hl8fpi30</a>"
      ],
      "text/plain": [
       "<IPython.core.display.HTML object>"
      ]
     },
     "metadata": {},
     "output_type": "display_data"
    },
    {
     "data": {
      "text/html": [
       " View project at <a href='https://wandb.ai/cs22m019/DL%20Final%20Assignment%201' target=\"_blank\">https://wandb.ai/cs22m019/DL%20Final%20Assignment%201</a>"
      ],
      "text/plain": [
       "<IPython.core.display.HTML object>"
      ]
     },
     "metadata": {},
     "output_type": "display_data"
    },
    {
     "data": {
      "text/html": [
       " View sweep at <a href='https://wandb.ai/cs22m019/DL%20Final%20Assignment%201/sweeps/hl8fpi30' target=\"_blank\">https://wandb.ai/cs22m019/DL%20Final%20Assignment%201/sweeps/hl8fpi30</a>"
      ],
      "text/plain": [
       "<IPython.core.display.HTML object>"
      ]
     },
     "metadata": {},
     "output_type": "display_data"
    },
    {
     "data": {
      "text/html": [
       " View run at <a href='https://wandb.ai/cs22m019/DL%20Final%20Assignment%201/runs/vbpoekc8' target=\"_blank\">https://wandb.ai/cs22m019/DL%20Final%20Assignment%201/runs/vbpoekc8</a>"
      ],
      "text/plain": [
       "<IPython.core.display.HTML object>"
      ]
     },
     "metadata": {},
     "output_type": "display_data"
    },
    {
     "name": "stdout",
     "output_type": "stream",
     "text": [
      "epoch:1, train loss:0.910513363500539, train accuracy:0.11385185185185186, validation loss:0.9034277816910922, validation accuracy:0.11166666666666666\n",
      "epoch:2, train loss:0.8995092743859464, train accuracy:0.11731481481481482, validation loss:0.8934536203734811, validation accuracy:0.12616666666666668\n",
      "epoch:3, train loss:0.8896986619858243, train accuracy:0.13425925925925927, validation loss:0.8837122024652216, validation accuracy:0.14933333333333335\n",
      "epoch:4, train loss:0.8797788829440361, train accuracy:0.16720370370370372, validation loss:0.8734504580513309, validation accuracy:0.189\n",
      "epoch:5, train loss:0.8691210494293832, train accuracy:0.2175740740740741, validation loss:0.8621429502300018, validation accuracy:0.2495\n",
      "epoch:6, train loss:0.8572386910810132, train accuracy:0.2768148148148148, validation loss:0.8492513209327689, validation accuracy:0.30633333333333335\n",
      "epoch:7, train loss:0.8435847794048196, train accuracy:0.3256296296296296, validation loss:0.8342581517391354, validation accuracy:0.3475\n",
      "epoch:8, train loss:0.8278017067526221, train accuracy:0.3603148148148148, validation loss:0.817054744767354, validation accuracy:0.38083333333333336\n",
      "epoch:9, train loss:0.8100834389613141, train accuracy:0.38346296296296295, validation loss:0.7981387826492821, validation accuracy:0.4063333333333333\n",
      "epoch:10, train loss:0.7911669316230395, train accuracy:0.40503703703703703, validation loss:0.7783255933755351, validation accuracy:0.4275\n"
     ]
    },
    {
     "data": {
      "text/html": [
       "Waiting for W&B process to finish... <strong style=\"color:green\">(success).</strong>"
      ],
      "text/plain": [
       "<IPython.core.display.HTML object>"
      ]
     },
     "metadata": {},
     "output_type": "display_data"
    },
    {
     "data": {
      "text/html": [
       "<style>\n",
       "    table.wandb td:nth-child(1) { padding: 0 10px; text-align: left ; width: auto;} td:nth-child(2) {text-align: left ; width: 100%}\n",
       "    .wandb-row { display: flex; flex-direction: row; flex-wrap: wrap; justify-content: flex-start; width: 100% }\n",
       "    .wandb-col { display: flex; flex-direction: column; flex-basis: 100%; flex: 1; padding: 10px; }\n",
       "    </style>\n",
       "<div class=\"wandb-row\"><div class=\"wandb-col\"><h3>Run history:</h3><br/><table class=\"wandb\"><tr><td>train accuracy</td><td>▁▁▁▂▃▅▆▇▇█</td></tr><tr><td>train loss</td><td>█▇▇▆▆▅▄▃▂▁</td></tr><tr><td>validation accuracy</td><td>▁▁▂▃▄▅▆▇██</td></tr><tr><td>validation loss</td><td>█▇▇▆▆▅▄▃▂▁</td></tr></table><br/></div><div class=\"wandb-col\"><h3>Run summary:</h3><br/><table class=\"wandb\"><tr><td>train accuracy</td><td>0.40504</td></tr><tr><td>train loss</td><td>0.79117</td></tr><tr><td>validation accuracy</td><td>0.4275</td></tr><tr><td>validation loss</td><td>0.77833</td></tr></table><br/></div></div>"
      ],
      "text/plain": [
       "<IPython.core.display.HTML object>"
      ]
     },
     "metadata": {},
     "output_type": "display_data"
    },
    {
     "data": {
      "text/html": [
       " View run <strong style=\"color:#cdcd00\">efficient-sweep-59</strong> at: <a href='https://wandb.ai/cs22m019/DL%20Final%20Assignment%201/runs/vbpoekc8' target=\"_blank\">https://wandb.ai/cs22m019/DL%20Final%20Assignment%201/runs/vbpoekc8</a><br/>Synced 6 W&B file(s), 0 media file(s), 0 artifact file(s) and 0 other file(s)"
      ],
      "text/plain": [
       "<IPython.core.display.HTML object>"
      ]
     },
     "metadata": {},
     "output_type": "display_data"
    },
    {
     "data": {
      "text/html": [
       "Find logs at: <code>.\\wandb\\run-20230311_103429-vbpoekc8\\logs</code>"
      ],
      "text/plain": [
       "<IPython.core.display.HTML object>"
      ]
     },
     "metadata": {},
     "output_type": "display_data"
    },
    {
     "name": "stderr",
     "output_type": "stream",
     "text": [
      "\u001b[34m\u001b[1mwandb\u001b[0m: Agent Starting Run: eegp3gc2 with config:\n",
      "\u001b[34m\u001b[1mwandb\u001b[0m: \tactivation: ReLU\n",
      "\u001b[34m\u001b[1mwandb\u001b[0m: \tbatch_size: 64\n",
      "\u001b[34m\u001b[1mwandb\u001b[0m: \tepochs: 5\n",
      "\u001b[34m\u001b[1mwandb\u001b[0m: \tlearning_rate: 0.001\n",
      "\u001b[34m\u001b[1mwandb\u001b[0m: \tnumber_of_hidden_layer: 3\n",
      "\u001b[34m\u001b[1mwandb\u001b[0m: \toptimizer: adam\n",
      "\u001b[34m\u001b[1mwandb\u001b[0m: \tsize_of_hidden_layer: 128\n",
      "\u001b[34m\u001b[1mwandb\u001b[0m: \tweight_decay: 0.0005\n",
      "\u001b[34m\u001b[1mwandb\u001b[0m: \tweight_initialization: Xavier\n"
     ]
    },
    {
     "data": {
      "text/html": [
       "Tracking run with wandb version 0.13.11"
      ],
      "text/plain": [
       "<IPython.core.display.HTML object>"
      ]
     },
     "metadata": {},
     "output_type": "display_data"
    },
    {
     "data": {
      "text/html": [
       "Run data is saved locally in <code>C:\\Users\\DELL\\Desktop\\wandb\\run-20230311_104219-eegp3gc2</code>"
      ],
      "text/plain": [
       "<IPython.core.display.HTML object>"
      ]
     },
     "metadata": {},
     "output_type": "display_data"
    },
    {
     "data": {
      "text/html": [
       "Syncing run <strong><a href='https://wandb.ai/cs22m019/DL%20Final%20Assignment%201/runs/eegp3gc2' target=\"_blank\">whole-sweep-60</a></strong> to <a href='https://wandb.ai/cs22m019/DL%20Final%20Assignment%201' target=\"_blank\">Weights & Biases</a> (<a href='https://wandb.me/run' target=\"_blank\">docs</a>)<br/>Sweep page: <a href='https://wandb.ai/cs22m019/DL%20Final%20Assignment%201/sweeps/hl8fpi30' target=\"_blank\">https://wandb.ai/cs22m019/DL%20Final%20Assignment%201/sweeps/hl8fpi30</a>"
      ],
      "text/plain": [
       "<IPython.core.display.HTML object>"
      ]
     },
     "metadata": {},
     "output_type": "display_data"
    },
    {
     "data": {
      "text/html": [
       " View project at <a href='https://wandb.ai/cs22m019/DL%20Final%20Assignment%201' target=\"_blank\">https://wandb.ai/cs22m019/DL%20Final%20Assignment%201</a>"
      ],
      "text/plain": [
       "<IPython.core.display.HTML object>"
      ]
     },
     "metadata": {},
     "output_type": "display_data"
    },
    {
     "data": {
      "text/html": [
       " View sweep at <a href='https://wandb.ai/cs22m019/DL%20Final%20Assignment%201/sweeps/hl8fpi30' target=\"_blank\">https://wandb.ai/cs22m019/DL%20Final%20Assignment%201/sweeps/hl8fpi30</a>"
      ],
      "text/plain": [
       "<IPython.core.display.HTML object>"
      ]
     },
     "metadata": {},
     "output_type": "display_data"
    },
    {
     "data": {
      "text/html": [
       " View run at <a href='https://wandb.ai/cs22m019/DL%20Final%20Assignment%201/runs/eegp3gc2' target=\"_blank\">https://wandb.ai/cs22m019/DL%20Final%20Assignment%201/runs/eegp3gc2</a>"
      ],
      "text/plain": [
       "<IPython.core.display.HTML object>"
      ]
     },
     "metadata": {},
     "output_type": "display_data"
    },
    {
     "name": "stdout",
     "output_type": "stream",
     "text": [
      "epoch:1, train loss:0.6703646355570662, train accuracy:0.48714814814814816, validation loss:0.4677450645301122, validation accuracy:0.7006666666666667\n",
      "epoch:2, train loss:0.39618028044029574, train accuracy:0.7393703703703703, validation loss:0.34757928707054664, validation accuracy:0.7658333333333334\n",
      "epoch:3, train loss:0.32520329247630014, train accuracy:0.7786481481481482, validation loss:0.30685672016987664, validation accuracy:0.79\n",
      "epoch:4, train loss:0.2961787007960412, train accuracy:0.7999074074074074, validation loss:0.28781514472288344, validation accuracy:0.8095\n",
      "epoch:5, train loss:0.278951034278948, train accuracy:0.8126481481481481, validation loss:0.27334665814432607, validation accuracy:0.8183333333333334\n"
     ]
    },
    {
     "data": {
      "text/html": [
       "Waiting for W&B process to finish... <strong style=\"color:green\">(success).</strong>"
      ],
      "text/plain": [
       "<IPython.core.display.HTML object>"
      ]
     },
     "metadata": {},
     "output_type": "display_data"
    },
    {
     "data": {
      "application/vnd.jupyter.widget-view+json": {
       "model_id": "d8a4ee32345142aba9ee58d3463ea1b9",
       "version_major": 2,
       "version_minor": 0
      },
      "text/plain": [
       "VBox(children=(Label(value='0.001 MB of 0.001 MB uploaded (0.000 MB deduped)\\r'), FloatProgress(value=1.0, max…"
      ]
     },
     "metadata": {},
     "output_type": "display_data"
    },
    {
     "data": {
      "text/html": [
       "<style>\n",
       "    table.wandb td:nth-child(1) { padding: 0 10px; text-align: left ; width: auto;} td:nth-child(2) {text-align: left ; width: 100%}\n",
       "    .wandb-row { display: flex; flex-direction: row; flex-wrap: wrap; justify-content: flex-start; width: 100% }\n",
       "    .wandb-col { display: flex; flex-direction: column; flex-basis: 100%; flex: 1; padding: 10px; }\n",
       "    </style>\n",
       "<div class=\"wandb-row\"><div class=\"wandb-col\"><h3>Run history:</h3><br/><table class=\"wandb\"><tr><td>train accuracy</td><td>▁▆▇██</td></tr><tr><td>train loss</td><td>█▃▂▁▁</td></tr><tr><td>validation accuracy</td><td>▁▅▆▇█</td></tr><tr><td>validation loss</td><td>█▄▂▂▁</td></tr></table><br/></div><div class=\"wandb-col\"><h3>Run summary:</h3><br/><table class=\"wandb\"><tr><td>train accuracy</td><td>0.81265</td></tr><tr><td>train loss</td><td>0.27895</td></tr><tr><td>validation accuracy</td><td>0.81833</td></tr><tr><td>validation loss</td><td>0.27335</td></tr></table><br/></div></div>"
      ],
      "text/plain": [
       "<IPython.core.display.HTML object>"
      ]
     },
     "metadata": {},
     "output_type": "display_data"
    },
    {
     "data": {
      "text/html": [
       " View run <strong style=\"color:#cdcd00\">whole-sweep-60</strong> at: <a href='https://wandb.ai/cs22m019/DL%20Final%20Assignment%201/runs/eegp3gc2' target=\"_blank\">https://wandb.ai/cs22m019/DL%20Final%20Assignment%201/runs/eegp3gc2</a><br/>Synced 6 W&B file(s), 0 media file(s), 0 artifact file(s) and 0 other file(s)"
      ],
      "text/plain": [
       "<IPython.core.display.HTML object>"
      ]
     },
     "metadata": {},
     "output_type": "display_data"
    },
    {
     "data": {
      "text/html": [
       "Find logs at: <code>.\\wandb\\run-20230311_104219-eegp3gc2\\logs</code>"
      ],
      "text/plain": [
       "<IPython.core.display.HTML object>"
      ]
     },
     "metadata": {},
     "output_type": "display_data"
    },
    {
     "name": "stderr",
     "output_type": "stream",
     "text": [
      "\u001b[34m\u001b[1mwandb\u001b[0m: Agent Starting Run: wa7ak1h2 with config:\n",
      "\u001b[34m\u001b[1mwandb\u001b[0m: \tactivation: ReLU\n",
      "\u001b[34m\u001b[1mwandb\u001b[0m: \tbatch_size: 16\n",
      "\u001b[34m\u001b[1mwandb\u001b[0m: \tepochs: 5\n",
      "\u001b[34m\u001b[1mwandb\u001b[0m: \tlearning_rate: 0.0001\n",
      "\u001b[34m\u001b[1mwandb\u001b[0m: \tnumber_of_hidden_layer: 4\n",
      "\u001b[34m\u001b[1mwandb\u001b[0m: \toptimizer: rmsprop\n",
      "\u001b[34m\u001b[1mwandb\u001b[0m: \tsize_of_hidden_layer: 64\n",
      "\u001b[34m\u001b[1mwandb\u001b[0m: \tweight_decay: 0.5\n",
      "\u001b[34m\u001b[1mwandb\u001b[0m: \tweight_initialization: random\n"
     ]
    },
    {
     "data": {
      "text/html": [
       "Tracking run with wandb version 0.13.11"
      ],
      "text/plain": [
       "<IPython.core.display.HTML object>"
      ]
     },
     "metadata": {},
     "output_type": "display_data"
    },
    {
     "data": {
      "text/html": [
       "Run data is saved locally in <code>C:\\Users\\DELL\\Desktop\\wandb\\run-20230311_105451-wa7ak1h2</code>"
      ],
      "text/plain": [
       "<IPython.core.display.HTML object>"
      ]
     },
     "metadata": {},
     "output_type": "display_data"
    },
    {
     "data": {
      "text/html": [
       "Syncing run <strong><a href='https://wandb.ai/cs22m019/DL%20Final%20Assignment%201/runs/wa7ak1h2' target=\"_blank\">twilight-sweep-61</a></strong> to <a href='https://wandb.ai/cs22m019/DL%20Final%20Assignment%201' target=\"_blank\">Weights & Biases</a> (<a href='https://wandb.me/run' target=\"_blank\">docs</a>)<br/>Sweep page: <a href='https://wandb.ai/cs22m019/DL%20Final%20Assignment%201/sweeps/hl8fpi30' target=\"_blank\">https://wandb.ai/cs22m019/DL%20Final%20Assignment%201/sweeps/hl8fpi30</a>"
      ],
      "text/plain": [
       "<IPython.core.display.HTML object>"
      ]
     },
     "metadata": {},
     "output_type": "display_data"
    },
    {
     "data": {
      "text/html": [
       " View project at <a href='https://wandb.ai/cs22m019/DL%20Final%20Assignment%201' target=\"_blank\">https://wandb.ai/cs22m019/DL%20Final%20Assignment%201</a>"
      ],
      "text/plain": [
       "<IPython.core.display.HTML object>"
      ]
     },
     "metadata": {},
     "output_type": "display_data"
    },
    {
     "data": {
      "text/html": [
       " View sweep at <a href='https://wandb.ai/cs22m019/DL%20Final%20Assignment%201/sweeps/hl8fpi30' target=\"_blank\">https://wandb.ai/cs22m019/DL%20Final%20Assignment%201/sweeps/hl8fpi30</a>"
      ],
      "text/plain": [
       "<IPython.core.display.HTML object>"
      ]
     },
     "metadata": {},
     "output_type": "display_data"
    },
    {
     "data": {
      "text/html": [
       " View run at <a href='https://wandb.ai/cs22m019/DL%20Final%20Assignment%201/runs/wa7ak1h2' target=\"_blank\">https://wandb.ai/cs22m019/DL%20Final%20Assignment%201/runs/wa7ak1h2</a>"
      ],
      "text/plain": [
       "<IPython.core.display.HTML object>"
      ]
     },
     "metadata": {},
     "output_type": "display_data"
    },
    {
     "name": "stdout",
     "output_type": "stream",
     "text": [
      "epoch:1, train loss:2.4533509708737475, train accuracy:0.10024074074074074, validation loss:2.453486690726802, validation accuracy:0.10016666666666667\n",
      "epoch:2, train loss:2.4533234424572203, train accuracy:0.10024074074074074, validation loss:2.453455686642024, validation accuracy:0.10016666666666667\n",
      "epoch:3, train loss:2.4532243124751067, train accuracy:0.10025925925925926, validation loss:2.4534734944399905, validation accuracy:0.10016666666666667\n",
      "epoch:4, train loss:2.4531477940369815, train accuracy:0.10027777777777777, validation loss:2.453148054694993, validation accuracy:0.10016666666666667\n",
      "epoch:5, train loss:2.453022760722115, train accuracy:0.10035185185185186, validation loss:2.4524910352074767, validation accuracy:0.10033333333333333\n"
     ]
    },
    {
     "data": {
      "text/html": [
       "Waiting for W&B process to finish... <strong style=\"color:green\">(success).</strong>"
      ],
      "text/plain": [
       "<IPython.core.display.HTML object>"
      ]
     },
     "metadata": {},
     "output_type": "display_data"
    },
    {
     "data": {
      "text/html": [
       "<style>\n",
       "    table.wandb td:nth-child(1) { padding: 0 10px; text-align: left ; width: auto;} td:nth-child(2) {text-align: left ; width: 100%}\n",
       "    .wandb-row { display: flex; flex-direction: row; flex-wrap: wrap; justify-content: flex-start; width: 100% }\n",
       "    .wandb-col { display: flex; flex-direction: column; flex-basis: 100%; flex: 1; padding: 10px; }\n",
       "    </style>\n",
       "<div class=\"wandb-row\"><div class=\"wandb-col\"><h3>Run history:</h3><br/><table class=\"wandb\"><tr><td>train accuracy</td><td>▁▁▂▃█</td></tr><tr><td>train loss</td><td>█▇▅▄▁</td></tr><tr><td>validation accuracy</td><td>▁▁▁▁█</td></tr><tr><td>validation loss</td><td>███▆▁</td></tr></table><br/></div><div class=\"wandb-col\"><h3>Run summary:</h3><br/><table class=\"wandb\"><tr><td>train accuracy</td><td>0.10035</td></tr><tr><td>train loss</td><td>2.45302</td></tr><tr><td>validation accuracy</td><td>0.10033</td></tr><tr><td>validation loss</td><td>2.45249</td></tr></table><br/></div></div>"
      ],
      "text/plain": [
       "<IPython.core.display.HTML object>"
      ]
     },
     "metadata": {},
     "output_type": "display_data"
    },
    {
     "data": {
      "text/html": [
       " View run <strong style=\"color:#cdcd00\">twilight-sweep-61</strong> at: <a href='https://wandb.ai/cs22m019/DL%20Final%20Assignment%201/runs/wa7ak1h2' target=\"_blank\">https://wandb.ai/cs22m019/DL%20Final%20Assignment%201/runs/wa7ak1h2</a><br/>Synced 6 W&B file(s), 0 media file(s), 0 artifact file(s) and 0 other file(s)"
      ],
      "text/plain": [
       "<IPython.core.display.HTML object>"
      ]
     },
     "metadata": {},
     "output_type": "display_data"
    },
    {
     "data": {
      "text/html": [
       "Find logs at: <code>.\\wandb\\run-20230311_105451-wa7ak1h2\\logs</code>"
      ],
      "text/plain": [
       "<IPython.core.display.HTML object>"
      ]
     },
     "metadata": {},
     "output_type": "display_data"
    },
    {
     "name": "stderr",
     "output_type": "stream",
     "text": [
      "\u001b[34m\u001b[1mwandb\u001b[0m: Agent Starting Run: p95ov502 with config:\n",
      "\u001b[34m\u001b[1mwandb\u001b[0m: \tactivation: tanh\n",
      "\u001b[34m\u001b[1mwandb\u001b[0m: \tbatch_size: 32\n",
      "\u001b[34m\u001b[1mwandb\u001b[0m: \tepochs: 5\n",
      "\u001b[34m\u001b[1mwandb\u001b[0m: \tlearning_rate: 0.0001\n",
      "\u001b[34m\u001b[1mwandb\u001b[0m: \tnumber_of_hidden_layer: 3\n",
      "\u001b[34m\u001b[1mwandb\u001b[0m: \toptimizer: nadam\n",
      "\u001b[34m\u001b[1mwandb\u001b[0m: \tsize_of_hidden_layer: 64\n",
      "\u001b[34m\u001b[1mwandb\u001b[0m: \tweight_decay: 0.0005\n",
      "\u001b[34m\u001b[1mwandb\u001b[0m: \tweight_initialization: Xavier\n"
     ]
    },
    {
     "data": {
      "text/html": [
       "Tracking run with wandb version 0.13.11"
      ],
      "text/plain": [
       "<IPython.core.display.HTML object>"
      ]
     },
     "metadata": {},
     "output_type": "display_data"
    },
    {
     "data": {
      "text/html": [
       "Run data is saved locally in <code>C:\\Users\\DELL\\Desktop\\wandb\\run-20230311_110006-p95ov502</code>"
      ],
      "text/plain": [
       "<IPython.core.display.HTML object>"
      ]
     },
     "metadata": {},
     "output_type": "display_data"
    },
    {
     "data": {
      "text/html": [
       "Syncing run <strong><a href='https://wandb.ai/cs22m019/DL%20Final%20Assignment%201/runs/p95ov502' target=\"_blank\">hardy-sweep-62</a></strong> to <a href='https://wandb.ai/cs22m019/DL%20Final%20Assignment%201' target=\"_blank\">Weights & Biases</a> (<a href='https://wandb.me/run' target=\"_blank\">docs</a>)<br/>Sweep page: <a href='https://wandb.ai/cs22m019/DL%20Final%20Assignment%201/sweeps/hl8fpi30' target=\"_blank\">https://wandb.ai/cs22m019/DL%20Final%20Assignment%201/sweeps/hl8fpi30</a>"
      ],
      "text/plain": [
       "<IPython.core.display.HTML object>"
      ]
     },
     "metadata": {},
     "output_type": "display_data"
    },
    {
     "data": {
      "text/html": [
       " View project at <a href='https://wandb.ai/cs22m019/DL%20Final%20Assignment%201' target=\"_blank\">https://wandb.ai/cs22m019/DL%20Final%20Assignment%201</a>"
      ],
      "text/plain": [
       "<IPython.core.display.HTML object>"
      ]
     },
     "metadata": {},
     "output_type": "display_data"
    },
    {
     "data": {
      "text/html": [
       " View sweep at <a href='https://wandb.ai/cs22m019/DL%20Final%20Assignment%201/sweeps/hl8fpi30' target=\"_blank\">https://wandb.ai/cs22m019/DL%20Final%20Assignment%201/sweeps/hl8fpi30</a>"
      ],
      "text/plain": [
       "<IPython.core.display.HTML object>"
      ]
     },
     "metadata": {},
     "output_type": "display_data"
    },
    {
     "data": {
      "text/html": [
       " View run at <a href='https://wandb.ai/cs22m019/DL%20Final%20Assignment%201/runs/p95ov502' target=\"_blank\">https://wandb.ai/cs22m019/DL%20Final%20Assignment%201/runs/p95ov502</a>"
      ],
      "text/plain": [
       "<IPython.core.display.HTML object>"
      ]
     },
     "metadata": {},
     "output_type": "display_data"
    },
    {
     "name": "stdout",
     "output_type": "stream",
     "text": [
      "epoch:1, train loss:0.8185176051359834, train accuracy:0.35394444444444445, validation loss:0.7139536871228939, validation accuracy:0.5028333333333334\n",
      "epoch:2, train loss:0.6557342028323908, train accuracy:0.5255, validation loss:0.6049789508448257, validation accuracy:0.5651666666666667\n",
      "epoch:3, train loss:0.5742495240219413, train accuracy:0.5864074074074074, validation loss:0.5412220443003639, validation accuracy:0.632\n",
      "epoch:4, train loss:0.521164380359723, train accuracy:0.6396851851851851, validation loss:0.49569042598014346, validation accuracy:0.6675\n",
      "epoch:5, train loss:0.4801711153735378, train accuracy:0.670962962962963, validation loss:0.4589287655432563, validation accuracy:0.692\n"
     ]
    },
    {
     "data": {
      "text/html": [
       "Waiting for W&B process to finish... <strong style=\"color:green\">(success).</strong>"
      ],
      "text/plain": [
       "<IPython.core.display.HTML object>"
      ]
     },
     "metadata": {},
     "output_type": "display_data"
    },
    {
     "data": {
      "application/vnd.jupyter.widget-view+json": {
       "model_id": "e475750d5af34f0392ec5adbfd9aed23",
       "version_major": 2,
       "version_minor": 0
      },
      "text/plain": [
       "VBox(children=(Label(value='0.001 MB of 0.001 MB uploaded (0.000 MB deduped)\\r'), FloatProgress(value=1.0, max…"
      ]
     },
     "metadata": {},
     "output_type": "display_data"
    },
    {
     "data": {
      "text/html": [
       "<style>\n",
       "    table.wandb td:nth-child(1) { padding: 0 10px; text-align: left ; width: auto;} td:nth-child(2) {text-align: left ; width: 100%}\n",
       "    .wandb-row { display: flex; flex-direction: row; flex-wrap: wrap; justify-content: flex-start; width: 100% }\n",
       "    .wandb-col { display: flex; flex-direction: column; flex-basis: 100%; flex: 1; padding: 10px; }\n",
       "    </style>\n",
       "<div class=\"wandb-row\"><div class=\"wandb-col\"><h3>Run history:</h3><br/><table class=\"wandb\"><tr><td>train accuracy</td><td>▁▅▆▇█</td></tr><tr><td>train loss</td><td>█▅▃▂▁</td></tr><tr><td>validation accuracy</td><td>▁▃▆▇█</td></tr><tr><td>validation loss</td><td>█▅▃▂▁</td></tr></table><br/></div><div class=\"wandb-col\"><h3>Run summary:</h3><br/><table class=\"wandb\"><tr><td>train accuracy</td><td>0.67096</td></tr><tr><td>train loss</td><td>0.48017</td></tr><tr><td>validation accuracy</td><td>0.692</td></tr><tr><td>validation loss</td><td>0.45893</td></tr></table><br/></div></div>"
      ],
      "text/plain": [
       "<IPython.core.display.HTML object>"
      ]
     },
     "metadata": {},
     "output_type": "display_data"
    },
    {
     "data": {
      "text/html": [
       " View run <strong style=\"color:#cdcd00\">hardy-sweep-62</strong> at: <a href='https://wandb.ai/cs22m019/DL%20Final%20Assignment%201/runs/p95ov502' target=\"_blank\">https://wandb.ai/cs22m019/DL%20Final%20Assignment%201/runs/p95ov502</a><br/>Synced 6 W&B file(s), 0 media file(s), 0 artifact file(s) and 0 other file(s)"
      ],
      "text/plain": [
       "<IPython.core.display.HTML object>"
      ]
     },
     "metadata": {},
     "output_type": "display_data"
    },
    {
     "data": {
      "text/html": [
       "Find logs at: <code>.\\wandb\\run-20230311_110006-p95ov502\\logs</code>"
      ],
      "text/plain": [
       "<IPython.core.display.HTML object>"
      ]
     },
     "metadata": {},
     "output_type": "display_data"
    },
    {
     "name": "stderr",
     "output_type": "stream",
     "text": [
      "\u001b[34m\u001b[1mwandb\u001b[0m: Agent Starting Run: e5mtus7y with config:\n",
      "\u001b[34m\u001b[1mwandb\u001b[0m: \tactivation: ReLU\n",
      "\u001b[34m\u001b[1mwandb\u001b[0m: \tbatch_size: 32\n",
      "\u001b[34m\u001b[1mwandb\u001b[0m: \tepochs: 5\n",
      "\u001b[34m\u001b[1mwandb\u001b[0m: \tlearning_rate: 0.0001\n",
      "\u001b[34m\u001b[1mwandb\u001b[0m: \tnumber_of_hidden_layer: 4\n",
      "\u001b[34m\u001b[1mwandb\u001b[0m: \toptimizer: sgd\n",
      "\u001b[34m\u001b[1mwandb\u001b[0m: \tsize_of_hidden_layer: 128\n",
      "\u001b[34m\u001b[1mwandb\u001b[0m: \tweight_decay: 0.5\n",
      "\u001b[34m\u001b[1mwandb\u001b[0m: \tweight_initialization: random\n"
     ]
    },
    {
     "data": {
      "text/html": [
       "Tracking run with wandb version 0.13.11"
      ],
      "text/plain": [
       "<IPython.core.display.HTML object>"
      ]
     },
     "metadata": {},
     "output_type": "display_data"
    },
    {
     "data": {
      "text/html": [
       "Run data is saved locally in <code>C:\\Users\\DELL\\Desktop\\wandb\\run-20230311_110332-e5mtus7y</code>"
      ],
      "text/plain": [
       "<IPython.core.display.HTML object>"
      ]
     },
     "metadata": {},
     "output_type": "display_data"
    },
    {
     "data": {
      "text/html": [
       "Syncing run <strong><a href='https://wandb.ai/cs22m019/DL%20Final%20Assignment%201/runs/e5mtus7y' target=\"_blank\">rose-sweep-63</a></strong> to <a href='https://wandb.ai/cs22m019/DL%20Final%20Assignment%201' target=\"_blank\">Weights & Biases</a> (<a href='https://wandb.me/run' target=\"_blank\">docs</a>)<br/>Sweep page: <a href='https://wandb.ai/cs22m019/DL%20Final%20Assignment%201/sweeps/hl8fpi30' target=\"_blank\">https://wandb.ai/cs22m019/DL%20Final%20Assignment%201/sweeps/hl8fpi30</a>"
      ],
      "text/plain": [
       "<IPython.core.display.HTML object>"
      ]
     },
     "metadata": {},
     "output_type": "display_data"
    },
    {
     "data": {
      "text/html": [
       " View project at <a href='https://wandb.ai/cs22m019/DL%20Final%20Assignment%201' target=\"_blank\">https://wandb.ai/cs22m019/DL%20Final%20Assignment%201</a>"
      ],
      "text/plain": [
       "<IPython.core.display.HTML object>"
      ]
     },
     "metadata": {},
     "output_type": "display_data"
    },
    {
     "data": {
      "text/html": [
       " View sweep at <a href='https://wandb.ai/cs22m019/DL%20Final%20Assignment%201/sweeps/hl8fpi30' target=\"_blank\">https://wandb.ai/cs22m019/DL%20Final%20Assignment%201/sweeps/hl8fpi30</a>"
      ],
      "text/plain": [
       "<IPython.core.display.HTML object>"
      ]
     },
     "metadata": {},
     "output_type": "display_data"
    },
    {
     "data": {
      "text/html": [
       " View run at <a href='https://wandb.ai/cs22m019/DL%20Final%20Assignment%201/runs/e5mtus7y' target=\"_blank\">https://wandb.ai/cs22m019/DL%20Final%20Assignment%201/runs/e5mtus7y</a>"
      ],
      "text/plain": [
       "<IPython.core.display.HTML object>"
      ]
     },
     "metadata": {},
     "output_type": "display_data"
    },
    {
     "name": "stdout",
     "output_type": "stream",
     "text": [
      "epoch:1, train loss:3.3690222185078, train accuracy:0.10131481481481482, validation loss:3.3699331119617977, validation accuracy:0.101\n",
      "epoch:2, train loss:3.3690449387848678, train accuracy:0.10131481481481482, validation loss:3.3698580306509514, validation accuracy:0.101\n",
      "epoch:3, train loss:3.368812803011748, train accuracy:0.1014074074074074, validation loss:3.369574739505914, validation accuracy:0.101\n",
      "epoch:4, train loss:3.368742892093339, train accuracy:0.10142592592592592, validation loss:3.3696463396374776, validation accuracy:0.101\n",
      "epoch:5, train loss:3.3686439468258254, train accuracy:0.10146296296296296, validation loss:3.369634902173961, validation accuracy:0.101\n"
     ]
    },
    {
     "data": {
      "text/html": [
       "Waiting for W&B process to finish... <strong style=\"color:green\">(success).</strong>"
      ],
      "text/plain": [
       "<IPython.core.display.HTML object>"
      ]
     },
     "metadata": {},
     "output_type": "display_data"
    },
    {
     "data": {
      "text/html": [
       "<style>\n",
       "    table.wandb td:nth-child(1) { padding: 0 10px; text-align: left ; width: auto;} td:nth-child(2) {text-align: left ; width: 100%}\n",
       "    .wandb-row { display: flex; flex-direction: row; flex-wrap: wrap; justify-content: flex-start; width: 100% }\n",
       "    .wandb-col { display: flex; flex-direction: column; flex-basis: 100%; flex: 1; padding: 10px; }\n",
       "    </style>\n",
       "<div class=\"wandb-row\"><div class=\"wandb-col\"><h3>Run history:</h3><br/><table class=\"wandb\"><tr><td>train accuracy</td><td>▁▁▅▆█</td></tr><tr><td>train loss</td><td>██▄▃▁</td></tr><tr><td>validation accuracy</td><td>▁▁▁▁▁</td></tr><tr><td>validation loss</td><td>█▇▁▂▂</td></tr></table><br/></div><div class=\"wandb-col\"><h3>Run summary:</h3><br/><table class=\"wandb\"><tr><td>train accuracy</td><td>0.10146</td></tr><tr><td>train loss</td><td>3.36864</td></tr><tr><td>validation accuracy</td><td>0.101</td></tr><tr><td>validation loss</td><td>3.36963</td></tr></table><br/></div></div>"
      ],
      "text/plain": [
       "<IPython.core.display.HTML object>"
      ]
     },
     "metadata": {},
     "output_type": "display_data"
    },
    {
     "data": {
      "text/html": [
       " View run <strong style=\"color:#cdcd00\">rose-sweep-63</strong> at: <a href='https://wandb.ai/cs22m019/DL%20Final%20Assignment%201/runs/e5mtus7y' target=\"_blank\">https://wandb.ai/cs22m019/DL%20Final%20Assignment%201/runs/e5mtus7y</a><br/>Synced 6 W&B file(s), 0 media file(s), 0 artifact file(s) and 0 other file(s)"
      ],
      "text/plain": [
       "<IPython.core.display.HTML object>"
      ]
     },
     "metadata": {},
     "output_type": "display_data"
    },
    {
     "data": {
      "text/html": [
       "Find logs at: <code>.\\wandb\\run-20230311_110332-e5mtus7y\\logs</code>"
      ],
      "text/plain": [
       "<IPython.core.display.HTML object>"
      ]
     },
     "metadata": {},
     "output_type": "display_data"
    },
    {
     "name": "stderr",
     "output_type": "stream",
     "text": [
      "\u001b[34m\u001b[1mwandb\u001b[0m: Sweep Agent: Waiting for job.\n",
      "\u001b[34m\u001b[1mwandb\u001b[0m: Job received.\n",
      "\u001b[34m\u001b[1mwandb\u001b[0m: Agent Starting Run: mkacdh7u with config:\n",
      "\u001b[34m\u001b[1mwandb\u001b[0m: \tactivation: ReLU\n",
      "\u001b[34m\u001b[1mwandb\u001b[0m: \tbatch_size: 32\n",
      "\u001b[34m\u001b[1mwandb\u001b[0m: \tepochs: 5\n",
      "\u001b[34m\u001b[1mwandb\u001b[0m: \tlearning_rate: 0.001\n",
      "\u001b[34m\u001b[1mwandb\u001b[0m: \tnumber_of_hidden_layer: 3\n",
      "\u001b[34m\u001b[1mwandb\u001b[0m: \toptimizer: rmsprop\n",
      "\u001b[34m\u001b[1mwandb\u001b[0m: \tsize_of_hidden_layer: 64\n",
      "\u001b[34m\u001b[1mwandb\u001b[0m: \tweight_decay: 0\n",
      "\u001b[34m\u001b[1mwandb\u001b[0m: \tweight_initialization: random\n"
     ]
    },
    {
     "data": {
      "text/html": [
       "Tracking run with wandb version 0.13.11"
      ],
      "text/plain": [
       "<IPython.core.display.HTML object>"
      ]
     },
     "metadata": {},
     "output_type": "display_data"
    },
    {
     "data": {
      "text/html": [
       "Run data is saved locally in <code>C:\\Users\\DELL\\Desktop\\wandb\\run-20230311_111406-mkacdh7u</code>"
      ],
      "text/plain": [
       "<IPython.core.display.HTML object>"
      ]
     },
     "metadata": {},
     "output_type": "display_data"
    },
    {
     "data": {
      "text/html": [
       "Syncing run <strong><a href='https://wandb.ai/cs22m019/DL%20Final%20Assignment%201/runs/mkacdh7u' target=\"_blank\">woven-sweep-64</a></strong> to <a href='https://wandb.ai/cs22m019/DL%20Final%20Assignment%201' target=\"_blank\">Weights & Biases</a> (<a href='https://wandb.me/run' target=\"_blank\">docs</a>)<br/>Sweep page: <a href='https://wandb.ai/cs22m019/DL%20Final%20Assignment%201/sweeps/hl8fpi30' target=\"_blank\">https://wandb.ai/cs22m019/DL%20Final%20Assignment%201/sweeps/hl8fpi30</a>"
      ],
      "text/plain": [
       "<IPython.core.display.HTML object>"
      ]
     },
     "metadata": {},
     "output_type": "display_data"
    },
    {
     "data": {
      "text/html": [
       " View project at <a href='https://wandb.ai/cs22m019/DL%20Final%20Assignment%201' target=\"_blank\">https://wandb.ai/cs22m019/DL%20Final%20Assignment%201</a>"
      ],
      "text/plain": [
       "<IPython.core.display.HTML object>"
      ]
     },
     "metadata": {},
     "output_type": "display_data"
    },
    {
     "data": {
      "text/html": [
       " View sweep at <a href='https://wandb.ai/cs22m019/DL%20Final%20Assignment%201/sweeps/hl8fpi30' target=\"_blank\">https://wandb.ai/cs22m019/DL%20Final%20Assignment%201/sweeps/hl8fpi30</a>"
      ],
      "text/plain": [
       "<IPython.core.display.HTML object>"
      ]
     },
     "metadata": {},
     "output_type": "display_data"
    },
    {
     "data": {
      "text/html": [
       " View run at <a href='https://wandb.ai/cs22m019/DL%20Final%20Assignment%201/runs/mkacdh7u' target=\"_blank\">https://wandb.ai/cs22m019/DL%20Final%20Assignment%201/runs/mkacdh7u</a>"
      ],
      "text/plain": [
       "<IPython.core.display.HTML object>"
      ]
     },
     "metadata": {},
     "output_type": "display_data"
    },
    {
     "name": "stdout",
     "output_type": "stream",
     "text": [
      "epoch:1, train loss:1.797129333366898, train accuracy:0.10046296296296296, validation loss:1.778792756967969, validation accuracy:0.1085\n",
      "epoch:2, train loss:1.7672059377097191, train accuracy:0.10844444444444444, validation loss:1.6761627841424593, validation accuracy:0.14366666666666666\n",
      "epoch:3, train loss:1.6228705927001508, train accuracy:0.17062962962962963, validation loss:1.584549453450093, validation accuracy:0.18833333333333332\n",
      "epoch:4, train loss:1.5408092757284102, train accuracy:0.21107407407407408, validation loss:1.4856355182961254, validation accuracy:0.24016666666666667\n",
      "epoch:5, train loss:1.4433470128489194, train accuracy:0.26114814814814813, validation loss:1.4092019532166749, validation accuracy:0.2793333333333333\n"
     ]
    },
    {
     "data": {
      "text/html": [
       "Waiting for W&B process to finish... <strong style=\"color:green\">(success).</strong>"
      ],
      "text/plain": [
       "<IPython.core.display.HTML object>"
      ]
     },
     "metadata": {},
     "output_type": "display_data"
    },
    {
     "data": {
      "text/html": [
       "<style>\n",
       "    table.wandb td:nth-child(1) { padding: 0 10px; text-align: left ; width: auto;} td:nth-child(2) {text-align: left ; width: 100%}\n",
       "    .wandb-row { display: flex; flex-direction: row; flex-wrap: wrap; justify-content: flex-start; width: 100% }\n",
       "    .wandb-col { display: flex; flex-direction: column; flex-basis: 100%; flex: 1; padding: 10px; }\n",
       "    </style>\n",
       "<div class=\"wandb-row\"><div class=\"wandb-col\"><h3>Run history:</h3><br/><table class=\"wandb\"><tr><td>train accuracy</td><td>▁▁▄▆█</td></tr><tr><td>train loss</td><td>█▇▅▃▁</td></tr><tr><td>validation accuracy</td><td>▁▂▄▆█</td></tr><tr><td>validation loss</td><td>█▆▄▂▁</td></tr></table><br/></div><div class=\"wandb-col\"><h3>Run summary:</h3><br/><table class=\"wandb\"><tr><td>train accuracy</td><td>0.26115</td></tr><tr><td>train loss</td><td>1.44335</td></tr><tr><td>validation accuracy</td><td>0.27933</td></tr><tr><td>validation loss</td><td>1.4092</td></tr></table><br/></div></div>"
      ],
      "text/plain": [
       "<IPython.core.display.HTML object>"
      ]
     },
     "metadata": {},
     "output_type": "display_data"
    },
    {
     "data": {
      "text/html": [
       " View run <strong style=\"color:#cdcd00\">woven-sweep-64</strong> at: <a href='https://wandb.ai/cs22m019/DL%20Final%20Assignment%201/runs/mkacdh7u' target=\"_blank\">https://wandb.ai/cs22m019/DL%20Final%20Assignment%201/runs/mkacdh7u</a><br/>Synced 6 W&B file(s), 0 media file(s), 0 artifact file(s) and 0 other file(s)"
      ],
      "text/plain": [
       "<IPython.core.display.HTML object>"
      ]
     },
     "metadata": {},
     "output_type": "display_data"
    },
    {
     "data": {
      "text/html": [
       "Find logs at: <code>.\\wandb\\run-20230311_111406-mkacdh7u\\logs</code>"
      ],
      "text/plain": [
       "<IPython.core.display.HTML object>"
      ]
     },
     "metadata": {},
     "output_type": "display_data"
    },
    {
     "name": "stderr",
     "output_type": "stream",
     "text": [
      "\u001b[34m\u001b[1mwandb\u001b[0m: Agent Starting Run: ydk3vcd9 with config:\n",
      "\u001b[34m\u001b[1mwandb\u001b[0m: \tactivation: sigmoid\n",
      "\u001b[34m\u001b[1mwandb\u001b[0m: \tbatch_size: 32\n",
      "\u001b[34m\u001b[1mwandb\u001b[0m: \tepochs: 5\n",
      "\u001b[34m\u001b[1mwandb\u001b[0m: \tlearning_rate: 0.0001\n",
      "\u001b[34m\u001b[1mwandb\u001b[0m: \tnumber_of_hidden_layer: 5\n",
      "\u001b[34m\u001b[1mwandb\u001b[0m: \toptimizer: adam\n",
      "\u001b[34m\u001b[1mwandb\u001b[0m: \tsize_of_hidden_layer: 32\n",
      "\u001b[34m\u001b[1mwandb\u001b[0m: \tweight_decay: 0.5\n",
      "\u001b[34m\u001b[1mwandb\u001b[0m: \tweight_initialization: random\n"
     ]
    },
    {
     "data": {
      "text/html": [
       "Tracking run with wandb version 0.13.11"
      ],
      "text/plain": [
       "<IPython.core.display.HTML object>"
      ]
     },
     "metadata": {},
     "output_type": "display_data"
    },
    {
     "data": {
      "text/html": [
       "Run data is saved locally in <code>C:\\Users\\DELL\\Desktop\\wandb\\run-20230311_111928-ydk3vcd9</code>"
      ],
      "text/plain": [
       "<IPython.core.display.HTML object>"
      ]
     },
     "metadata": {},
     "output_type": "display_data"
    },
    {
     "data": {
      "text/html": [
       "Syncing run <strong><a href='https://wandb.ai/cs22m019/DL%20Final%20Assignment%201/runs/ydk3vcd9' target=\"_blank\">glamorous-sweep-65</a></strong> to <a href='https://wandb.ai/cs22m019/DL%20Final%20Assignment%201' target=\"_blank\">Weights & Biases</a> (<a href='https://wandb.me/run' target=\"_blank\">docs</a>)<br/>Sweep page: <a href='https://wandb.ai/cs22m019/DL%20Final%20Assignment%201/sweeps/hl8fpi30' target=\"_blank\">https://wandb.ai/cs22m019/DL%20Final%20Assignment%201/sweeps/hl8fpi30</a>"
      ],
      "text/plain": [
       "<IPython.core.display.HTML object>"
      ]
     },
     "metadata": {},
     "output_type": "display_data"
    },
    {
     "data": {
      "text/html": [
       " View project at <a href='https://wandb.ai/cs22m019/DL%20Final%20Assignment%201' target=\"_blank\">https://wandb.ai/cs22m019/DL%20Final%20Assignment%201</a>"
      ],
      "text/plain": [
       "<IPython.core.display.HTML object>"
      ]
     },
     "metadata": {},
     "output_type": "display_data"
    },
    {
     "data": {
      "text/html": [
       " View sweep at <a href='https://wandb.ai/cs22m019/DL%20Final%20Assignment%201/sweeps/hl8fpi30' target=\"_blank\">https://wandb.ai/cs22m019/DL%20Final%20Assignment%201/sweeps/hl8fpi30</a>"
      ],
      "text/plain": [
       "<IPython.core.display.HTML object>"
      ]
     },
     "metadata": {},
     "output_type": "display_data"
    },
    {
     "data": {
      "text/html": [
       " View run at <a href='https://wandb.ai/cs22m019/DL%20Final%20Assignment%201/runs/ydk3vcd9' target=\"_blank\">https://wandb.ai/cs22m019/DL%20Final%20Assignment%201/runs/ydk3vcd9</a>"
      ],
      "text/plain": [
       "<IPython.core.display.HTML object>"
      ]
     },
     "metadata": {},
     "output_type": "display_data"
    },
    {
     "name": "stdout",
     "output_type": "stream",
     "text": [
      "epoch:1, train loss:1.4534993891585348, train accuracy:0.09972222222222223, validation loss:1.394396355143806, validation accuracy:0.1025\n",
      "epoch:2, train loss:1.3609869440550164, train accuracy:0.09972222222222223, validation loss:1.3236657676695223, validation accuracy:0.1025\n",
      "epoch:3, train loss:1.3059481023324087, train accuracy:0.09972222222222223, validation loss:1.2824690535888617, validation accuracy:0.1025\n",
      "epoch:4, train loss:1.2732651820391383, train accuracy:0.09972222222222223, validation loss:1.257173685169198, validation accuracy:0.1025\n",
      "epoch:5, train loss:1.2522659177231188, train accuracy:0.09972222222222223, validation loss:1.2404126855494568, validation accuracy:0.1025\n"
     ]
    },
    {
     "data": {
      "text/html": [
       "Waiting for W&B process to finish... <strong style=\"color:green\">(success).</strong>"
      ],
      "text/plain": [
       "<IPython.core.display.HTML object>"
      ]
     },
     "metadata": {},
     "output_type": "display_data"
    },
    {
     "data": {
      "application/vnd.jupyter.widget-view+json": {
       "model_id": "47cf9960e1b4441dacf27edfbf21662c",
       "version_major": 2,
       "version_minor": 0
      },
      "text/plain": [
       "VBox(children=(Label(value='0.001 MB of 0.001 MB uploaded (0.000 MB deduped)\\r'), FloatProgress(value=1.0, max…"
      ]
     },
     "metadata": {},
     "output_type": "display_data"
    },
    {
     "data": {
      "text/html": [
       "<style>\n",
       "    table.wandb td:nth-child(1) { padding: 0 10px; text-align: left ; width: auto;} td:nth-child(2) {text-align: left ; width: 100%}\n",
       "    .wandb-row { display: flex; flex-direction: row; flex-wrap: wrap; justify-content: flex-start; width: 100% }\n",
       "    .wandb-col { display: flex; flex-direction: column; flex-basis: 100%; flex: 1; padding: 10px; }\n",
       "    </style>\n",
       "<div class=\"wandb-row\"><div class=\"wandb-col\"><h3>Run history:</h3><br/><table class=\"wandb\"><tr><td>train accuracy</td><td>▁▁▁▁▁</td></tr><tr><td>train loss</td><td>█▅▃▂▁</td></tr><tr><td>validation accuracy</td><td>▁▁▁▁▁</td></tr><tr><td>validation loss</td><td>█▅▃▂▁</td></tr></table><br/></div><div class=\"wandb-col\"><h3>Run summary:</h3><br/><table class=\"wandb\"><tr><td>train accuracy</td><td>0.09972</td></tr><tr><td>train loss</td><td>1.25227</td></tr><tr><td>validation accuracy</td><td>0.1025</td></tr><tr><td>validation loss</td><td>1.24041</td></tr></table><br/></div></div>"
      ],
      "text/plain": [
       "<IPython.core.display.HTML object>"
      ]
     },
     "metadata": {},
     "output_type": "display_data"
    },
    {
     "data": {
      "text/html": [
       " View run <strong style=\"color:#cdcd00\">glamorous-sweep-65</strong> at: <a href='https://wandb.ai/cs22m019/DL%20Final%20Assignment%201/runs/ydk3vcd9' target=\"_blank\">https://wandb.ai/cs22m019/DL%20Final%20Assignment%201/runs/ydk3vcd9</a><br/>Synced 6 W&B file(s), 0 media file(s), 0 artifact file(s) and 0 other file(s)"
      ],
      "text/plain": [
       "<IPython.core.display.HTML object>"
      ]
     },
     "metadata": {},
     "output_type": "display_data"
    },
    {
     "data": {
      "text/html": [
       "Find logs at: <code>.\\wandb\\run-20230311_111928-ydk3vcd9\\logs</code>"
      ],
      "text/plain": [
       "<IPython.core.display.HTML object>"
      ]
     },
     "metadata": {},
     "output_type": "display_data"
    },
    {
     "name": "stderr",
     "output_type": "stream",
     "text": [
      "\u001b[34m\u001b[1mwandb\u001b[0m: Agent Starting Run: geuget3n with config:\n",
      "\u001b[34m\u001b[1mwandb\u001b[0m: \tactivation: sigmoid\n",
      "\u001b[34m\u001b[1mwandb\u001b[0m: \tbatch_size: 32\n",
      "\u001b[34m\u001b[1mwandb\u001b[0m: \tepochs: 10\n",
      "\u001b[34m\u001b[1mwandb\u001b[0m: \tlearning_rate: 0.0001\n",
      "\u001b[34m\u001b[1mwandb\u001b[0m: \tnumber_of_hidden_layer: 5\n",
      "\u001b[34m\u001b[1mwandb\u001b[0m: \toptimizer: rmsprop\n",
      "\u001b[34m\u001b[1mwandb\u001b[0m: \tsize_of_hidden_layer: 32\n",
      "\u001b[34m\u001b[1mwandb\u001b[0m: \tweight_decay: 0.0005\n",
      "\u001b[34m\u001b[1mwandb\u001b[0m: \tweight_initialization: random\n"
     ]
    },
    {
     "data": {
      "text/html": [
       "Tracking run with wandb version 0.13.11"
      ],
      "text/plain": [
       "<IPython.core.display.HTML object>"
      ]
     },
     "metadata": {},
     "output_type": "display_data"
    },
    {
     "data": {
      "text/html": [
       "Run data is saved locally in <code>C:\\Users\\DELL\\Desktop\\wandb\\run-20230311_112515-geuget3n</code>"
      ],
      "text/plain": [
       "<IPython.core.display.HTML object>"
      ]
     },
     "metadata": {},
     "output_type": "display_data"
    },
    {
     "data": {
      "text/html": [
       "Syncing run <strong><a href='https://wandb.ai/cs22m019/DL%20Final%20Assignment%201/runs/geuget3n' target=\"_blank\">ethereal-sweep-66</a></strong> to <a href='https://wandb.ai/cs22m019/DL%20Final%20Assignment%201' target=\"_blank\">Weights & Biases</a> (<a href='https://wandb.me/run' target=\"_blank\">docs</a>)<br/>Sweep page: <a href='https://wandb.ai/cs22m019/DL%20Final%20Assignment%201/sweeps/hl8fpi30' target=\"_blank\">https://wandb.ai/cs22m019/DL%20Final%20Assignment%201/sweeps/hl8fpi30</a>"
      ],
      "text/plain": [
       "<IPython.core.display.HTML object>"
      ]
     },
     "metadata": {},
     "output_type": "display_data"
    },
    {
     "data": {
      "text/html": [
       " View project at <a href='https://wandb.ai/cs22m019/DL%20Final%20Assignment%201' target=\"_blank\">https://wandb.ai/cs22m019/DL%20Final%20Assignment%201</a>"
      ],
      "text/plain": [
       "<IPython.core.display.HTML object>"
      ]
     },
     "metadata": {},
     "output_type": "display_data"
    },
    {
     "data": {
      "text/html": [
       " View sweep at <a href='https://wandb.ai/cs22m019/DL%20Final%20Assignment%201/sweeps/hl8fpi30' target=\"_blank\">https://wandb.ai/cs22m019/DL%20Final%20Assignment%201/sweeps/hl8fpi30</a>"
      ],
      "text/plain": [
       "<IPython.core.display.HTML object>"
      ]
     },
     "metadata": {},
     "output_type": "display_data"
    },
    {
     "data": {
      "text/html": [
       " View run at <a href='https://wandb.ai/cs22m019/DL%20Final%20Assignment%201/runs/geuget3n' target=\"_blank\">https://wandb.ai/cs22m019/DL%20Final%20Assignment%201/runs/geuget3n</a>"
      ],
      "text/plain": [
       "<IPython.core.display.HTML object>"
      ]
     },
     "metadata": {},
     "output_type": "display_data"
    },
    {
     "name": "stdout",
     "output_type": "stream",
     "text": [
      "epoch:1, train loss:1.1437371338967912, train accuracy:0.10051851851851852, validation loss:1.0966868548222952, validation accuracy:0.09533333333333334\n",
      "epoch:2, train loss:1.0509766545383452, train accuracy:0.10051851851851852, validation loss:1.0196674694394963, validation accuracy:0.09533333333333334\n",
      "epoch:3, train loss:0.9923648651331234, train accuracy:0.10051851851851852, validation loss:0.9755702147377929, validation accuracy:0.09533333333333334\n",
      "epoch:4, train loss:0.9600146571280179, train accuracy:0.10051851851851852, validation loss:0.9509479374900361, validation accuracy:0.09533333333333334\n",
      "epoch:5, train loss:0.9412425728098214, train accuracy:0.10051851851851852, validation loss:0.9356440959095049, validation accuracy:0.09533333333333334\n",
      "epoch:6, train loss:0.9288077972128947, train accuracy:0.10055555555555555, validation loss:0.9248279696597788, validation accuracy:0.0955\n",
      "epoch:7, train loss:0.9197729249461368, train accuracy:0.12351851851851851, validation loss:0.9167969479046764, validation accuracy:0.15566666666666668\n",
      "epoch:8, train loss:0.9128970372489812, train accuracy:0.18096296296296296, validation loss:0.9105909037334651, validation accuracy:0.20516666666666666\n",
      "epoch:9, train loss:0.9075479904684972, train accuracy:0.21846296296296297, validation loss:0.9057553225592586, validation accuracy:0.22733333333333333\n",
      "epoch:10, train loss:0.903303819022115, train accuracy:0.2371851851851852, validation loss:0.901826635673394, validation accuracy:0.241\n"
     ]
    },
    {
     "data": {
      "text/html": [
       "Waiting for W&B process to finish... <strong style=\"color:green\">(success).</strong>"
      ],
      "text/plain": [
       "<IPython.core.display.HTML object>"
      ]
     },
     "metadata": {},
     "output_type": "display_data"
    },
    {
     "data": {
      "application/vnd.jupyter.widget-view+json": {
       "model_id": "e1a69e4576184666bfd2cfa0925df6f0",
       "version_major": 2,
       "version_minor": 0
      },
      "text/plain": [
       "VBox(children=(Label(value='0.001 MB of 0.001 MB uploaded (0.000 MB deduped)\\r'), FloatProgress(value=1.0, max…"
      ]
     },
     "metadata": {},
     "output_type": "display_data"
    },
    {
     "data": {
      "text/html": [
       "<style>\n",
       "    table.wandb td:nth-child(1) { padding: 0 10px; text-align: left ; width: auto;} td:nth-child(2) {text-align: left ; width: 100%}\n",
       "    .wandb-row { display: flex; flex-direction: row; flex-wrap: wrap; justify-content: flex-start; width: 100% }\n",
       "    .wandb-col { display: flex; flex-direction: column; flex-basis: 100%; flex: 1; padding: 10px; }\n",
       "    </style>\n",
       "<div class=\"wandb-row\"><div class=\"wandb-col\"><h3>Run history:</h3><br/><table class=\"wandb\"><tr><td>train accuracy</td><td>▁▁▁▁▁▁▂▅▇█</td></tr><tr><td>train loss</td><td>█▅▄▃▂▂▁▁▁▁</td></tr><tr><td>validation accuracy</td><td>▁▁▁▁▁▁▄▆▇█</td></tr><tr><td>validation loss</td><td>█▅▄▃▂▂▂▁▁▁</td></tr></table><br/></div><div class=\"wandb-col\"><h3>Run summary:</h3><br/><table class=\"wandb\"><tr><td>train accuracy</td><td>0.23719</td></tr><tr><td>train loss</td><td>0.9033</td></tr><tr><td>validation accuracy</td><td>0.241</td></tr><tr><td>validation loss</td><td>0.90183</td></tr></table><br/></div></div>"
      ],
      "text/plain": [
       "<IPython.core.display.HTML object>"
      ]
     },
     "metadata": {},
     "output_type": "display_data"
    },
    {
     "data": {
      "text/html": [
       " View run <strong style=\"color:#cdcd00\">ethereal-sweep-66</strong> at: <a href='https://wandb.ai/cs22m019/DL%20Final%20Assignment%201/runs/geuget3n' target=\"_blank\">https://wandb.ai/cs22m019/DL%20Final%20Assignment%201/runs/geuget3n</a><br/>Synced 6 W&B file(s), 0 media file(s), 0 artifact file(s) and 0 other file(s)"
      ],
      "text/plain": [
       "<IPython.core.display.HTML object>"
      ]
     },
     "metadata": {},
     "output_type": "display_data"
    },
    {
     "data": {
      "text/html": [
       "Find logs at: <code>.\\wandb\\run-20230311_112515-geuget3n\\logs</code>"
      ],
      "text/plain": [
       "<IPython.core.display.HTML object>"
      ]
     },
     "metadata": {},
     "output_type": "display_data"
    },
    {
     "name": "stderr",
     "output_type": "stream",
     "text": [
      "\u001b[34m\u001b[1mwandb\u001b[0m: Agent Starting Run: qe5vmp86 with config:\n",
      "\u001b[34m\u001b[1mwandb\u001b[0m: \tactivation: tanh\n",
      "\u001b[34m\u001b[1mwandb\u001b[0m: \tbatch_size: 64\n",
      "\u001b[34m\u001b[1mwandb\u001b[0m: \tepochs: 10\n",
      "\u001b[34m\u001b[1mwandb\u001b[0m: \tlearning_rate: 0.0001\n",
      "\u001b[34m\u001b[1mwandb\u001b[0m: \tnumber_of_hidden_layer: 5\n",
      "\u001b[34m\u001b[1mwandb\u001b[0m: \toptimizer: sgd\n",
      "\u001b[34m\u001b[1mwandb\u001b[0m: \tsize_of_hidden_layer: 64\n",
      "\u001b[34m\u001b[1mwandb\u001b[0m: \tweight_decay: 0.5\n",
      "\u001b[34m\u001b[1mwandb\u001b[0m: \tweight_initialization: Xavier\n"
     ]
    },
    {
     "data": {
      "text/html": [
       "Tracking run with wandb version 0.13.11"
      ],
      "text/plain": [
       "<IPython.core.display.HTML object>"
      ]
     },
     "metadata": {},
     "output_type": "display_data"
    },
    {
     "data": {
      "text/html": [
       "Run data is saved locally in <code>C:\\Users\\DELL\\Desktop\\wandb\\run-20230311_113608-qe5vmp86</code>"
      ],
      "text/plain": [
       "<IPython.core.display.HTML object>"
      ]
     },
     "metadata": {},
     "output_type": "display_data"
    },
    {
     "data": {
      "text/html": [
       "Syncing run <strong><a href='https://wandb.ai/cs22m019/DL%20Final%20Assignment%201/runs/qe5vmp86' target=\"_blank\">vibrant-sweep-67</a></strong> to <a href='https://wandb.ai/cs22m019/DL%20Final%20Assignment%201' target=\"_blank\">Weights & Biases</a> (<a href='https://wandb.me/run' target=\"_blank\">docs</a>)<br/>Sweep page: <a href='https://wandb.ai/cs22m019/DL%20Final%20Assignment%201/sweeps/hl8fpi30' target=\"_blank\">https://wandb.ai/cs22m019/DL%20Final%20Assignment%201/sweeps/hl8fpi30</a>"
      ],
      "text/plain": [
       "<IPython.core.display.HTML object>"
      ]
     },
     "metadata": {},
     "output_type": "display_data"
    },
    {
     "data": {
      "text/html": [
       " View project at <a href='https://wandb.ai/cs22m019/DL%20Final%20Assignment%201' target=\"_blank\">https://wandb.ai/cs22m019/DL%20Final%20Assignment%201</a>"
      ],
      "text/plain": [
       "<IPython.core.display.HTML object>"
      ]
     },
     "metadata": {},
     "output_type": "display_data"
    },
    {
     "data": {
      "text/html": [
       " View sweep at <a href='https://wandb.ai/cs22m019/DL%20Final%20Assignment%201/sweeps/hl8fpi30' target=\"_blank\">https://wandb.ai/cs22m019/DL%20Final%20Assignment%201/sweeps/hl8fpi30</a>"
      ],
      "text/plain": [
       "<IPython.core.display.HTML object>"
      ]
     },
     "metadata": {},
     "output_type": "display_data"
    },
    {
     "data": {
      "text/html": [
       " View run at <a href='https://wandb.ai/cs22m019/DL%20Final%20Assignment%201/runs/qe5vmp86' target=\"_blank\">https://wandb.ai/cs22m019/DL%20Final%20Assignment%201/runs/qe5vmp86</a>"
      ],
      "text/plain": [
       "<IPython.core.display.HTML object>"
      ]
     },
     "metadata": {},
     "output_type": "display_data"
    },
    {
     "name": "stdout",
     "output_type": "stream",
     "text": [
      "epoch:1, train loss:0.9560082030259942, train accuracy:0.09935185185185186, validation loss:0.9560073595121569, validation accuracy:0.0995\n",
      "epoch:2, train loss:0.9558215078250412, train accuracy:0.09937037037037037, validation loss:0.9558228522585509, validation accuracy:0.0995\n",
      "epoch:3, train loss:0.9556454158698887, train accuracy:0.09938888888888889, validation loss:0.9556447934880673, validation accuracy:0.09966666666666667\n",
      "epoch:4, train loss:0.9554670190678529, train accuracy:0.09938888888888889, validation loss:0.9554684704528762, validation accuracy:0.09983333333333333\n",
      "epoch:5, train loss:0.9552956330668935, train accuracy:0.09937037037037037, validation loss:0.955295344849154, validation accuracy:0.1\n",
      "epoch:6, train loss:0.9551252114653702, train accuracy:0.09937037037037037, validation loss:0.9551266981041526, validation accuracy:0.1\n",
      "epoch:7, train loss:0.9549387177847996, train accuracy:0.09938888888888889, validation loss:0.9549347915745175, validation accuracy:0.10016666666666667\n",
      "epoch:8, train loss:0.9547449264777594, train accuracy:0.09935185185185186, validation loss:0.9547497374670638, validation accuracy:0.10016666666666667\n",
      "epoch:9, train loss:0.9545694784382508, train accuracy:0.09931481481481481, validation loss:0.9545726228991636, validation accuracy:0.09983333333333333\n",
      "epoch:10, train loss:0.9543847374673892, train accuracy:0.09942592592592593, validation loss:0.9543865350551629, validation accuracy:0.0995\n"
     ]
    },
    {
     "data": {
      "text/html": [
       "Waiting for W&B process to finish... <strong style=\"color:green\">(success).</strong>"
      ],
      "text/plain": [
       "<IPython.core.display.HTML object>"
      ]
     },
     "metadata": {},
     "output_type": "display_data"
    },
    {
     "data": {
      "text/html": [
       "<style>\n",
       "    table.wandb td:nth-child(1) { padding: 0 10px; text-align: left ; width: auto;} td:nth-child(2) {text-align: left ; width: 100%}\n",
       "    .wandb-row { display: flex; flex-direction: row; flex-wrap: wrap; justify-content: flex-start; width: 100% }\n",
       "    .wandb-col { display: flex; flex-direction: column; flex-basis: 100%; flex: 1; padding: 10px; }\n",
       "    </style>\n",
       "<div class=\"wandb-row\"><div class=\"wandb-col\"><h3>Run history:</h3><br/><table class=\"wandb\"><tr><td>train accuracy</td><td>▃▄▆▆▄▄▆▃▁█</td></tr><tr><td>train loss</td><td>█▇▆▆▅▄▃▃▂▁</td></tr><tr><td>validation accuracy</td><td>▁▁▃▅▆▆██▅▁</td></tr><tr><td>validation loss</td><td>█▇▆▆▅▄▃▃▂▁</td></tr></table><br/></div><div class=\"wandb-col\"><h3>Run summary:</h3><br/><table class=\"wandb\"><tr><td>train accuracy</td><td>0.09943</td></tr><tr><td>train loss</td><td>0.95438</td></tr><tr><td>validation accuracy</td><td>0.0995</td></tr><tr><td>validation loss</td><td>0.95439</td></tr></table><br/></div></div>"
      ],
      "text/plain": [
       "<IPython.core.display.HTML object>"
      ]
     },
     "metadata": {},
     "output_type": "display_data"
    },
    {
     "data": {
      "text/html": [
       " View run <strong style=\"color:#cdcd00\">vibrant-sweep-67</strong> at: <a href='https://wandb.ai/cs22m019/DL%20Final%20Assignment%201/runs/qe5vmp86' target=\"_blank\">https://wandb.ai/cs22m019/DL%20Final%20Assignment%201/runs/qe5vmp86</a><br/>Synced 6 W&B file(s), 0 media file(s), 0 artifact file(s) and 0 other file(s)"
      ],
      "text/plain": [
       "<IPython.core.display.HTML object>"
      ]
     },
     "metadata": {},
     "output_type": "display_data"
    },
    {
     "data": {
      "text/html": [
       "Find logs at: <code>.\\wandb\\run-20230311_113608-qe5vmp86\\logs</code>"
      ],
      "text/plain": [
       "<IPython.core.display.HTML object>"
      ]
     },
     "metadata": {},
     "output_type": "display_data"
    },
    {
     "name": "stderr",
     "output_type": "stream",
     "text": [
      "\u001b[34m\u001b[1mwandb\u001b[0m: Agent Starting Run: 5afrwsmc with config:\n",
      "\u001b[34m\u001b[1mwandb\u001b[0m: \tactivation: sigmoid\n",
      "\u001b[34m\u001b[1mwandb\u001b[0m: \tbatch_size: 16\n",
      "\u001b[34m\u001b[1mwandb\u001b[0m: \tepochs: 5\n",
      "\u001b[34m\u001b[1mwandb\u001b[0m: \tlearning_rate: 0.0001\n",
      "\u001b[34m\u001b[1mwandb\u001b[0m: \tnumber_of_hidden_layer: 5\n",
      "\u001b[34m\u001b[1mwandb\u001b[0m: \toptimizer: nestrov\n",
      "\u001b[34m\u001b[1mwandb\u001b[0m: \tsize_of_hidden_layer: 64\n",
      "\u001b[34m\u001b[1mwandb\u001b[0m: \tweight_decay: 0.5\n",
      "\u001b[34m\u001b[1mwandb\u001b[0m: \tweight_initialization: Xavier\n"
     ]
    },
    {
     "data": {
      "text/html": [
       "Tracking run with wandb version 0.13.11"
      ],
      "text/plain": [
       "<IPython.core.display.HTML object>"
      ]
     },
     "metadata": {},
     "output_type": "display_data"
    },
    {
     "data": {
      "text/html": [
       "Run data is saved locally in <code>C:\\Users\\DELL\\Desktop\\wandb\\run-20230311_114608-5afrwsmc</code>"
      ],
      "text/plain": [
       "<IPython.core.display.HTML object>"
      ]
     },
     "metadata": {},
     "output_type": "display_data"
    },
    {
     "data": {
      "text/html": [
       "Syncing run <strong><a href='https://wandb.ai/cs22m019/DL%20Final%20Assignment%201/runs/5afrwsmc' target=\"_blank\">tough-sweep-68</a></strong> to <a href='https://wandb.ai/cs22m019/DL%20Final%20Assignment%201' target=\"_blank\">Weights & Biases</a> (<a href='https://wandb.me/run' target=\"_blank\">docs</a>)<br/>Sweep page: <a href='https://wandb.ai/cs22m019/DL%20Final%20Assignment%201/sweeps/hl8fpi30' target=\"_blank\">https://wandb.ai/cs22m019/DL%20Final%20Assignment%201/sweeps/hl8fpi30</a>"
      ],
      "text/plain": [
       "<IPython.core.display.HTML object>"
      ]
     },
     "metadata": {},
     "output_type": "display_data"
    },
    {
     "data": {
      "text/html": [
       " View project at <a href='https://wandb.ai/cs22m019/DL%20Final%20Assignment%201' target=\"_blank\">https://wandb.ai/cs22m019/DL%20Final%20Assignment%201</a>"
      ],
      "text/plain": [
       "<IPython.core.display.HTML object>"
      ]
     },
     "metadata": {},
     "output_type": "display_data"
    },
    {
     "data": {
      "text/html": [
       " View sweep at <a href='https://wandb.ai/cs22m019/DL%20Final%20Assignment%201/sweeps/hl8fpi30' target=\"_blank\">https://wandb.ai/cs22m019/DL%20Final%20Assignment%201/sweeps/hl8fpi30</a>"
      ],
      "text/plain": [
       "<IPython.core.display.HTML object>"
      ]
     },
     "metadata": {},
     "output_type": "display_data"
    },
    {
     "data": {
      "text/html": [
       " View run at <a href='https://wandb.ai/cs22m019/DL%20Final%20Assignment%201/runs/5afrwsmc' target=\"_blank\">https://wandb.ai/cs22m019/DL%20Final%20Assignment%201/runs/5afrwsmc</a>"
      ],
      "text/plain": [
       "<IPython.core.display.HTML object>"
      ]
     },
     "metadata": {},
     "output_type": "display_data"
    },
    {
     "name": "stdout",
     "output_type": "stream",
     "text": [
      "epoch:1, train loss:0.9772673131516826, train accuracy:0.09972222222222223, validation loss:0.9640316449038221, validation accuracy:0.1025\n",
      "epoch:2, train loss:0.9567110572424191, train accuracy:0.09972222222222223, validation loss:0.9495847035213463, validation accuracy:0.1025\n"
     ]
    },
    {
     "name": "stderr",
     "output_type": "stream",
     "text": [
      "\u001b[34m\u001b[1mwandb\u001b[0m: Network error (ConnectionError), entering retry loop.\n"
     ]
    },
    {
     "name": "stdout",
     "output_type": "stream",
     "text": [
      "epoch:3, train loss:0.9452685170455666, train accuracy:0.09972222222222223, validation loss:0.9409417846221136, validation accuracy:0.1025\n",
      "epoch:4, train loss:0.938094596809259, train accuracy:0.09972222222222223, validation loss:0.9352627809212446, validation accuracy:0.1025\n",
      "epoch:5, train loss:0.9332380828313057, train accuracy:0.09972222222222223, validation loss:0.9312876801930622, validation accuracy:0.1025\n"
     ]
    },
    {
     "data": {
      "text/html": [
       "Waiting for W&B process to finish... <strong style=\"color:green\">(success).</strong>"
      ],
      "text/plain": [
       "<IPython.core.display.HTML object>"
      ]
     },
     "metadata": {},
     "output_type": "display_data"
    },
    {
     "data": {
      "text/html": [
       "<style>\n",
       "    table.wandb td:nth-child(1) { padding: 0 10px; text-align: left ; width: auto;} td:nth-child(2) {text-align: left ; width: 100%}\n",
       "    .wandb-row { display: flex; flex-direction: row; flex-wrap: wrap; justify-content: flex-start; width: 100% }\n",
       "    .wandb-col { display: flex; flex-direction: column; flex-basis: 100%; flex: 1; padding: 10px; }\n",
       "    </style>\n",
       "<div class=\"wandb-row\"><div class=\"wandb-col\"><h3>Run history:</h3><br/><table class=\"wandb\"><tr><td>train accuracy</td><td>▁▁▁▁▁</td></tr><tr><td>train loss</td><td>█▅▃▂▁</td></tr><tr><td>validation accuracy</td><td>▁▁▁▁▁</td></tr><tr><td>validation loss</td><td>█▅▃▂▁</td></tr></table><br/></div><div class=\"wandb-col\"><h3>Run summary:</h3><br/><table class=\"wandb\"><tr><td>train accuracy</td><td>0.09972</td></tr><tr><td>train loss</td><td>0.93324</td></tr><tr><td>validation accuracy</td><td>0.1025</td></tr><tr><td>validation loss</td><td>0.93129</td></tr></table><br/></div></div>"
      ],
      "text/plain": [
       "<IPython.core.display.HTML object>"
      ]
     },
     "metadata": {},
     "output_type": "display_data"
    },
    {
     "data": {
      "text/html": [
       " View run <strong style=\"color:#cdcd00\">tough-sweep-68</strong> at: <a href='https://wandb.ai/cs22m019/DL%20Final%20Assignment%201/runs/5afrwsmc' target=\"_blank\">https://wandb.ai/cs22m019/DL%20Final%20Assignment%201/runs/5afrwsmc</a><br/>Synced 6 W&B file(s), 0 media file(s), 0 artifact file(s) and 0 other file(s)"
      ],
      "text/plain": [
       "<IPython.core.display.HTML object>"
      ]
     },
     "metadata": {},
     "output_type": "display_data"
    },
    {
     "data": {
      "text/html": [
       "Find logs at: <code>.\\wandb\\run-20230311_114608-5afrwsmc\\logs</code>"
      ],
      "text/plain": [
       "<IPython.core.display.HTML object>"
      ]
     },
     "metadata": {},
     "output_type": "display_data"
    },
    {
     "name": "stderr",
     "output_type": "stream",
     "text": [
      "\u001b[34m\u001b[1mwandb\u001b[0m: Sweep Agent: Waiting for job.\n",
      "\u001b[34m\u001b[1mwandb\u001b[0m: Job received.\n",
      "\u001b[34m\u001b[1mwandb\u001b[0m: Agent Starting Run: x9agak2l with config:\n",
      "\u001b[34m\u001b[1mwandb\u001b[0m: \tactivation: sigmoid\n",
      "\u001b[34m\u001b[1mwandb\u001b[0m: \tbatch_size: 16\n",
      "\u001b[34m\u001b[1mwandb\u001b[0m: \tepochs: 10\n",
      "\u001b[34m\u001b[1mwandb\u001b[0m: \tlearning_rate: 0.001\n",
      "\u001b[34m\u001b[1mwandb\u001b[0m: \tnumber_of_hidden_layer: 5\n",
      "\u001b[34m\u001b[1mwandb\u001b[0m: \toptimizer: momentum\n",
      "\u001b[34m\u001b[1mwandb\u001b[0m: \tsize_of_hidden_layer: 128\n",
      "\u001b[34m\u001b[1mwandb\u001b[0m: \tweight_decay: 0\n",
      "\u001b[34m\u001b[1mwandb\u001b[0m: \tweight_initialization: Xavier\n"
     ]
    },
    {
     "data": {
      "text/html": [
       "Tracking run with wandb version 0.13.11"
      ],
      "text/plain": [
       "<IPython.core.display.HTML object>"
      ]
     },
     "metadata": {},
     "output_type": "display_data"
    },
    {
     "data": {
      "text/html": [
       "Run data is saved locally in <code>C:\\Users\\DELL\\Desktop\\wandb\\run-20230311_130048-x9agak2l</code>"
      ],
      "text/plain": [
       "<IPython.core.display.HTML object>"
      ]
     },
     "metadata": {},
     "output_type": "display_data"
    },
    {
     "data": {
      "text/html": [
       "Syncing run <strong><a href='https://wandb.ai/cs22m019/DL%20Final%20Assignment%201/runs/x9agak2l' target=\"_blank\">dutiful-sweep-69</a></strong> to <a href='https://wandb.ai/cs22m019/DL%20Final%20Assignment%201' target=\"_blank\">Weights & Biases</a> (<a href='https://wandb.me/run' target=\"_blank\">docs</a>)<br/>Sweep page: <a href='https://wandb.ai/cs22m019/DL%20Final%20Assignment%201/sweeps/hl8fpi30' target=\"_blank\">https://wandb.ai/cs22m019/DL%20Final%20Assignment%201/sweeps/hl8fpi30</a>"
      ],
      "text/plain": [
       "<IPython.core.display.HTML object>"
      ]
     },
     "metadata": {},
     "output_type": "display_data"
    },
    {
     "data": {
      "text/html": [
       " View project at <a href='https://wandb.ai/cs22m019/DL%20Final%20Assignment%201' target=\"_blank\">https://wandb.ai/cs22m019/DL%20Final%20Assignment%201</a>"
      ],
      "text/plain": [
       "<IPython.core.display.HTML object>"
      ]
     },
     "metadata": {},
     "output_type": "display_data"
    },
    {
     "data": {
      "text/html": [
       " View sweep at <a href='https://wandb.ai/cs22m019/DL%20Final%20Assignment%201/sweeps/hl8fpi30' target=\"_blank\">https://wandb.ai/cs22m019/DL%20Final%20Assignment%201/sweeps/hl8fpi30</a>"
      ],
      "text/plain": [
       "<IPython.core.display.HTML object>"
      ]
     },
     "metadata": {},
     "output_type": "display_data"
    },
    {
     "data": {
      "text/html": [
       " View run at <a href='https://wandb.ai/cs22m019/DL%20Final%20Assignment%201/runs/x9agak2l' target=\"_blank\">https://wandb.ai/cs22m019/DL%20Final%20Assignment%201/runs/x9agak2l</a>"
      ],
      "text/plain": [
       "<IPython.core.display.HTML object>"
      ]
     },
     "metadata": {},
     "output_type": "display_data"
    },
    {
     "name": "stdout",
     "output_type": "stream",
     "text": [
      "epoch:1, train loss:0.906267604467005, train accuracy:0.10033333333333333, validation loss:0.9007645842325842, validation accuracy:0.09433333333333334\n",
      "epoch:2, train loss:0.9001554587896127, train accuracy:0.0976111111111111, validation loss:0.9000985791510114, validation accuracy:0.10066666666666667\n",
      "epoch:3, train loss:0.9000509055759877, train accuracy:0.09464814814814815, validation loss:0.9000936920367884, validation accuracy:0.09433333333333334\n",
      "epoch:4, train loss:0.9000563081556443, train accuracy:0.09651851851851852, validation loss:0.9000474187915609, validation accuracy:0.09433333333333334\n",
      "epoch:5, train loss:0.9000486991007915, train accuracy:0.09603703703703703, validation loss:0.9000642453225541, validation accuracy:0.0915\n",
      "epoch:6, train loss:0.900047597351778, train accuracy:0.09759259259259259, validation loss:0.9000494387176233, validation accuracy:0.10066666666666667\n",
      "epoch:7, train loss:0.9000443192882487, train accuracy:0.09651851851851852, validation loss:0.9000315820516239, validation accuracy:0.099\n",
      "epoch:8, train loss:0.9000436036444817, train accuracy:0.09518518518518519, validation loss:0.9000292757780912, validation accuracy:0.1025\n",
      "epoch:9, train loss:0.9000486769359506, train accuracy:0.09618518518518518, validation loss:0.9000581844440051, validation accuracy:0.06733333333333333\n",
      "epoch:10, train loss:0.9000456146626669, train accuracy:0.0972962962962963, validation loss:0.900029920018445, validation accuracy:0.113\n"
     ]
    },
    {
     "data": {
      "text/html": [
       "Waiting for W&B process to finish... <strong style=\"color:green\">(success).</strong>"
      ],
      "text/plain": [
       "<IPython.core.display.HTML object>"
      ]
     },
     "metadata": {},
     "output_type": "display_data"
    },
    {
     "data": {
      "text/html": [
       "<style>\n",
       "    table.wandb td:nth-child(1) { padding: 0 10px; text-align: left ; width: auto;} td:nth-child(2) {text-align: left ; width: 100%}\n",
       "    .wandb-row { display: flex; flex-direction: row; flex-wrap: wrap; justify-content: flex-start; width: 100% }\n",
       "    .wandb-col { display: flex; flex-direction: column; flex-basis: 100%; flex: 1; padding: 10px; }\n",
       "    </style>\n",
       "<div class=\"wandb-row\"><div class=\"wandb-col\"><h3>Run history:</h3><br/><table class=\"wandb\"><tr><td>train accuracy</td><td>█▅▁▃▃▅▃▂▃▄</td></tr><tr><td>train loss</td><td>█▁▁▁▁▁▁▁▁▁</td></tr><tr><td>validation accuracy</td><td>▅▆▅▅▅▆▆▆▁█</td></tr><tr><td>validation loss</td><td>█▂▂▁▁▁▁▁▁▁</td></tr></table><br/></div><div class=\"wandb-col\"><h3>Run summary:</h3><br/><table class=\"wandb\"><tr><td>train accuracy</td><td>0.0973</td></tr><tr><td>train loss</td><td>0.90005</td></tr><tr><td>validation accuracy</td><td>0.113</td></tr><tr><td>validation loss</td><td>0.90003</td></tr></table><br/></div></div>"
      ],
      "text/plain": [
       "<IPython.core.display.HTML object>"
      ]
     },
     "metadata": {},
     "output_type": "display_data"
    },
    {
     "data": {
      "text/html": [
       " View run <strong style=\"color:#cdcd00\">dutiful-sweep-69</strong> at: <a href='https://wandb.ai/cs22m019/DL%20Final%20Assignment%201/runs/x9agak2l' target=\"_blank\">https://wandb.ai/cs22m019/DL%20Final%20Assignment%201/runs/x9agak2l</a><br/>Synced 6 W&B file(s), 0 media file(s), 0 artifact file(s) and 0 other file(s)"
      ],
      "text/plain": [
       "<IPython.core.display.HTML object>"
      ]
     },
     "metadata": {},
     "output_type": "display_data"
    },
    {
     "data": {
      "text/html": [
       "Find logs at: <code>.\\wandb\\run-20230311_130048-x9agak2l\\logs</code>"
      ],
      "text/plain": [
       "<IPython.core.display.HTML object>"
      ]
     },
     "metadata": {},
     "output_type": "display_data"
    },
    {
     "name": "stderr",
     "output_type": "stream",
     "text": [
      "\u001b[34m\u001b[1mwandb\u001b[0m: Sweep Agent: Waiting for job.\n",
      "\u001b[34m\u001b[1mwandb\u001b[0m: Job received.\n",
      "\u001b[34m\u001b[1mwandb\u001b[0m: Agent Starting Run: sj16ge60 with config:\n",
      "\u001b[34m\u001b[1mwandb\u001b[0m: \tactivation: sigmoid\n",
      "\u001b[34m\u001b[1mwandb\u001b[0m: \tbatch_size: 32\n",
      "\u001b[34m\u001b[1mwandb\u001b[0m: \tepochs: 10\n",
      "\u001b[34m\u001b[1mwandb\u001b[0m: \tlearning_rate: 0.0001\n",
      "\u001b[34m\u001b[1mwandb\u001b[0m: \tnumber_of_hidden_layer: 5\n",
      "\u001b[34m\u001b[1mwandb\u001b[0m: \toptimizer: nestrov\n",
      "\u001b[34m\u001b[1mwandb\u001b[0m: \tsize_of_hidden_layer: 128\n",
      "\u001b[34m\u001b[1mwandb\u001b[0m: \tweight_decay: 0\n",
      "\u001b[34m\u001b[1mwandb\u001b[0m: \tweight_initialization: random\n"
     ]
    },
    {
     "data": {
      "text/html": [
       "Tracking run with wandb version 0.13.11"
      ],
      "text/plain": [
       "<IPython.core.display.HTML object>"
      ]
     },
     "metadata": {},
     "output_type": "display_data"
    },
    {
     "data": {
      "text/html": [
       "Run data is saved locally in <code>C:\\Users\\DELL\\Desktop\\wandb\\run-20230311_133652-sj16ge60</code>"
      ],
      "text/plain": [
       "<IPython.core.display.HTML object>"
      ]
     },
     "metadata": {},
     "output_type": "display_data"
    },
    {
     "data": {
      "text/html": [
       "Syncing run <strong><a href='https://wandb.ai/cs22m019/DL%20Final%20Assignment%201/runs/sj16ge60' target=\"_blank\">leafy-sweep-70</a></strong> to <a href='https://wandb.ai/cs22m019/DL%20Final%20Assignment%201' target=\"_blank\">Weights & Biases</a> (<a href='https://wandb.me/run' target=\"_blank\">docs</a>)<br/>Sweep page: <a href='https://wandb.ai/cs22m019/DL%20Final%20Assignment%201/sweeps/hl8fpi30' target=\"_blank\">https://wandb.ai/cs22m019/DL%20Final%20Assignment%201/sweeps/hl8fpi30</a>"
      ],
      "text/plain": [
       "<IPython.core.display.HTML object>"
      ]
     },
     "metadata": {},
     "output_type": "display_data"
    },
    {
     "data": {
      "text/html": [
       " View project at <a href='https://wandb.ai/cs22m019/DL%20Final%20Assignment%201' target=\"_blank\">https://wandb.ai/cs22m019/DL%20Final%20Assignment%201</a>"
      ],
      "text/plain": [
       "<IPython.core.display.HTML object>"
      ]
     },
     "metadata": {},
     "output_type": "display_data"
    },
    {
     "data": {
      "text/html": [
       " View sweep at <a href='https://wandb.ai/cs22m019/DL%20Final%20Assignment%201/sweeps/hl8fpi30' target=\"_blank\">https://wandb.ai/cs22m019/DL%20Final%20Assignment%201/sweeps/hl8fpi30</a>"
      ],
      "text/plain": [
       "<IPython.core.display.HTML object>"
      ]
     },
     "metadata": {},
     "output_type": "display_data"
    },
    {
     "data": {
      "text/html": [
       " View run at <a href='https://wandb.ai/cs22m019/DL%20Final%20Assignment%201/runs/sj16ge60' target=\"_blank\">https://wandb.ai/cs22m019/DL%20Final%20Assignment%201/runs/sj16ge60</a>"
      ],
      "text/plain": [
       "<IPython.core.display.HTML object>"
      ]
     },
     "metadata": {},
     "output_type": "display_data"
    }
   ],
   "source": [
    "wandb.agent(sweep_id=sweep_id,function = train,count = 100)"
   ]
  },
  {
   "cell_type": "code",
   "execution_count": null,
   "metadata": {},
   "outputs": [],
   "source": []
  }
 ],
 "metadata": {
  "colab": {
   "provenance": []
  },
  "kernelspec": {
   "display_name": "Python 3 (ipykernel)",
   "language": "python",
   "name": "python3"
  },
  "language_info": {
   "codemirror_mode": {
    "name": "ipython",
    "version": 3
   },
   "file_extension": ".py",
   "mimetype": "text/x-python",
   "name": "python",
   "nbconvert_exporter": "python",
   "pygments_lexer": "ipython3",
   "version": "3.9.13"
  }
 },
 "nbformat": 4,
 "nbformat_minor": 1
}
